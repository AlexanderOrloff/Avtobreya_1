{
 "cells": [
  {
   "cell_type": "code",
   "execution_count": 116,
   "metadata": {},
   "outputs": [],
   "source": [
    "import csv\n",
    "import nltk\n",
    "from pymorphy2 import MorphAnalyzer"
   ]
  },
  {
   "cell_type": "markdown",
   "metadata": {},
   "source": [
    "У нас есть 2 составленных нами словаря, с которыми производится сравнение: один (закомменченный) очень качественный, но дает мало результатов, второй (незакомменченный) дает много результатов, но часть из них мусор"
   ]
  },
  {
   "cell_type": "code",
   "execution_count": 117,
   "metadata": {},
   "outputs": [],
   "source": [
    "\n",
    "d = {}\n",
    "\n",
    "#with open ('results.csv', encoding = 'utf-8') as csvfile:\n",
    "with open ('full_results.csv', encoding = 'utf-8') as csvfile:\n",
    "        readCSV = csv.reader(csvfile, delimiter='\\t')\n",
    "        for row in readCSV:\n",
    "            d[row[1]] = tuple((row[0], row[2]))\n"
   ]
  },
  {
   "cell_type": "code",
   "execution_count": 118,
   "metadata": {},
   "outputs": [],
   "source": [
    "to_file = []"
   ]
  },
  {
   "cell_type": "code",
   "execution_count": 119,
   "metadata": {},
   "outputs": [],
   "source": [
    "from nltk.corpus import stopwords\n",
    "russian_stopwords = stopwords.words('russian')\n",
    "russian_stopwords = [elem for elem in russian_stopwords if elem not in ['не', 'да', 'но', 'хорошо', 'лучше', 'почти', 'никогда', 'можно', 'наконец', 'больше', 'другой', 'всего', 'много', 'впрочем', 'нельзя', 'более', 'всегда']]"
   ]
  },
  {
   "cell_type": "code",
   "execution_count": 120,
   "metadata": {},
   "outputs": [],
   "source": [
    "m = MorphAnalyzer()\n",
    "tokenizer = nltk.RegexpTokenizer(r'\\w+')\n",
    "\n",
    "def normalize(text):\n",
    "    tokens = tokenizer.tokenize(text.lower())\n",
    "    lemmas = []\n",
    "    pos = []\n",
    "    for token in tokens:\n",
    "        m.parse(token)[0]\n",
    "        tag = m.parse(token)[0]\n",
    "        lemmas.append(tag.normal_form)\n",
    "\n",
    "    return lemmas"
   ]
  },
  {
   "cell_type": "markdown",
   "metadata": {},
   "source": [
    "На вход поставляеится адресс конкретного текста  без парсинга и с парсингом"
   ]
  },
  {
   "cell_type": "code",
   "execution_count": 121,
   "metadata": {},
   "outputs": [],
   "source": [
    "def analyze(norm_text, parsed_txt):\n",
    "    to_file = []\n",
    "    trees = []\n",
    "    with open(parsed_txt, 'r', encoding = 'utf-8') as f:\n",
    "        parsed_sents = f.read().split('\\n\\n')\n",
    "\n",
    "        for sent in parsed_sents:\n",
    "            tree = [line for line in sent.split('\\n') if line and line[0] != '#']\n",
    "            trees.append('\\n'.join(tree))\n",
    "            \n",
    "        for index, tree in enumerate(trees[:-1]):\n",
    "            if tree:\n",
    "                \n",
    "                tree = tree.split('\\n')\n",
    "                words = {}\n",
    "                sent = [t.split('\\t')[1] for t in tree]\n",
    "                for t in tree:\n",
    "                    words[t.split('\\t')[2]] = t.split('\\t')[0]\n",
    "                sent = ' '.join(sent)\n",
    "                sent = normalize(sent)\n",
    "                sent = [word for word in sent if word not in russian_stopwords]\n",
    "\n",
    "                for i in range(len(sent)):\n",
    "                    for j in range(i+1, len(sent)):\n",
    "                        \n",
    "                        if ' '.join(sent[i:j]) in d.keys():\n",
    "                            #print('yes')\n",
    "                            try: # проблема возникает с токенами посреди которых есть точка, но нам такие токены все равно не нужны, ибо они все мусор, так что\n",
    "                                to_file.append('\\t'.join([str(index+1), ','.join([words[sent[i]], words[sent[j-1]]]), d[' '.join(sent[i:j])][0],  d[' '.join(sent[i:j])][1]]))\n",
    "                            except KeyError:\n",
    "                                continue\n",
    "                                \n",
    "    with open(norm_text[:-3] + 'tsv','w', encoding = 'utf-8') as f:\n",
    "        f.write('\\n'.join(to_file))"
   ]
  },
  {
   "cell_type": "code",
   "execution_count": 122,
   "metadata": {},
   "outputs": [],
   "source": [
    "analyze('1032.txt', '1032.txt.parsed')"
   ]
  },
  {
   "cell_type": "code",
   "execution_count": null,
   "metadata": {},
   "outputs": [],
   "source": []
  }
 ],
 "metadata": {
  "kernelspec": {
   "display_name": "Python 3",
   "language": "python",
   "name": "python3"
  },
  "language_info": {
   "codemirror_mode": {
    "name": "ipython",
    "version": 3
   },
   "file_extension": ".py",
   "mimetype": "text/x-python",
   "name": "python",
   "nbconvert_exporter": "python",
   "pygments_lexer": "ipython3",
   "version": "3.7.3"
  }
 },
 "nbformat": 4,
 "nbformat_minor": 2
}
