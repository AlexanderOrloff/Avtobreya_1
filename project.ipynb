{
  "nbformat": 4,
  "nbformat_minor": 0,
  "metadata": {
    "colab": {
      "name": "Copy of Fuck my live autobreya.ipynb",
      "provenance": [],
      "collapsed_sections": [
        "wBSsKXtH9285",
        "nyu4EfyC5vt1",
        "MeSp_kWKO2Y9",
        "JDW1Y8FQIkx5",
        "kP179r_-lkuZ",
        "DdSviAKSde4h",
        "HLTAhVEGM5k-"
      ],
      "toc_visible": true,
      "machine_shape": "hm"
    },
    "kernelspec": {
      "name": "python3",
      "display_name": "Python 3"
    },
    "accelerator": "GPU"
  },
  "cells": [
    {
      "cell_type": "code",
      "metadata": {
        "id": "tAsXuV15yf7p",
        "colab_type": "code",
        "outputId": "1afc0245-2210-41cd-d939-5b6f281ce10c",
        "colab": {
          "base_uri": "https://localhost:8080/",
          "height": 34
        }
      },
      "source": [
        "from google.colab import drive\n",
        "drive.mount(\"/content/drive\", force_remount=True)\n",
        "drive_prefix = '/content/drive/My Drive/'"
      ],
      "execution_count": 240,
      "outputs": [
        {
          "output_type": "stream",
          "text": [
            "Mounted at /content/drive\n"
          ],
          "name": "stdout"
        }
      ]
    },
    {
      "cell_type": "code",
      "metadata": {
        "id": "86kUnDZz3n91",
        "colab_type": "code",
        "outputId": "535e557d-79c3-4f9f-e557-b3fccb62e61c",
        "colab": {
          "base_uri": "https://localhost:8080/",
          "height": 423
        }
      },
      "source": [
        "!pip install pymorphy2\n",
        "!pip install innvestigate"
      ],
      "execution_count": 241,
      "outputs": [
        {
          "output_type": "stream",
          "text": [
            "Requirement already satisfied: pymorphy2 in /usr/local/lib/python3.6/dist-packages (0.8)\n",
            "Requirement already satisfied: docopt>=0.6 in /usr/local/lib/python3.6/dist-packages (from pymorphy2) (0.6.2)\n",
            "Requirement already satisfied: pymorphy2-dicts<3.0,>=2.4 in /usr/local/lib/python3.6/dist-packages (from pymorphy2) (2.4.393442.3710985)\n",
            "Requirement already satisfied: dawg-python>=0.7 in /usr/local/lib/python3.6/dist-packages (from pymorphy2) (0.7.2)\n",
            "Requirement already satisfied: innvestigate in /usr/local/lib/python3.6/dist-packages (1.0.8)\n",
            "Requirement already satisfied: pytest in /usr/local/lib/python3.6/dist-packages (from innvestigate) (3.6.4)\n",
            "Requirement already satisfied: keras==2.2.4 in /usr/local/lib/python3.6/dist-packages (from innvestigate) (2.2.4)\n",
            "Requirement already satisfied: future in /usr/local/lib/python3.6/dist-packages (from innvestigate) (0.16.0)\n",
            "Requirement already satisfied: pillow in /usr/local/lib/python3.6/dist-packages (from innvestigate) (4.3.0)\n",
            "Requirement already satisfied: scipy in /usr/local/lib/python3.6/dist-packages (from innvestigate) (1.3.3)\n",
            "Requirement already satisfied: h5py in /usr/local/lib/python3.6/dist-packages (from innvestigate) (2.8.0)\n",
            "Requirement already satisfied: numpy in /usr/local/lib/python3.6/dist-packages (from innvestigate) (1.17.4)\n",
            "Requirement already satisfied: more-itertools>=4.0.0 in /usr/local/lib/python3.6/dist-packages (from pytest->innvestigate) (8.0.2)\n",
            "Requirement already satisfied: py>=1.5.0 in /usr/local/lib/python3.6/dist-packages (from pytest->innvestigate) (1.8.0)\n",
            "Requirement already satisfied: pluggy<0.8,>=0.5 in /usr/local/lib/python3.6/dist-packages (from pytest->innvestigate) (0.7.1)\n",
            "Requirement already satisfied: attrs>=17.4.0 in /usr/local/lib/python3.6/dist-packages (from pytest->innvestigate) (19.3.0)\n",
            "Requirement already satisfied: setuptools in /usr/local/lib/python3.6/dist-packages (from pytest->innvestigate) (42.0.2)\n",
            "Requirement already satisfied: six>=1.10.0 in /usr/local/lib/python3.6/dist-packages (from pytest->innvestigate) (1.12.0)\n",
            "Requirement already satisfied: atomicwrites>=1.0 in /usr/local/lib/python3.6/dist-packages (from pytest->innvestigate) (1.3.0)\n",
            "Requirement already satisfied: keras-preprocessing>=1.0.5 in /usr/local/lib/python3.6/dist-packages (from keras==2.2.4->innvestigate) (1.1.0)\n",
            "Requirement already satisfied: keras-applications>=1.0.6 in /usr/local/lib/python3.6/dist-packages (from keras==2.2.4->innvestigate) (1.0.8)\n",
            "Requirement already satisfied: pyyaml in /usr/local/lib/python3.6/dist-packages (from keras==2.2.4->innvestigate) (3.13)\n",
            "Requirement already satisfied: olefile in /usr/local/lib/python3.6/dist-packages (from pillow->innvestigate) (0.46)\n"
          ],
          "name": "stdout"
        }
      ]
    },
    {
      "cell_type": "code",
      "metadata": {
        "id": "1vTnvi0C3D70",
        "colab_type": "code",
        "outputId": "83d756ee-58f2-4b09-84fa-0f0cbe44da2d",
        "colab": {
          "base_uri": "https://localhost:8080/",
          "height": 118
        }
      },
      "source": [
        "%tensorflow_version 1.x\n",
        "\n",
        "from google.colab import files\n",
        "\n",
        "import nltk\n",
        "nltk.download('stopwords')\n",
        "nltk.download('punkt')\n",
        "nltk.download('wordnet')\n",
        "from nltk.corpus import stopwords\n",
        "russian_stopwords = stopwords.words('russian')\n",
        "from nltk.tokenize import RegexpTokenizer\n",
        "\n",
        "from pymorphy2 import MorphAnalyzer\n",
        "\n",
        "import xml.etree.ElementTree as ET\n",
        "from tqdm import tqdm\n",
        "\n",
        "import numpy as np\n",
        "\n",
        "from collections import Counter, defaultdict\n",
        "\n",
        "from nltk import ngrams\n",
        "import keras.backend\n",
        "import keras.models\n",
        "\n",
        "import time\n",
        "\n",
        "import os\n",
        "from gensim.models import KeyedVectors\n",
        "\n",
        "import matplotlib.pyplot as plt\n",
        "from matplotlib import cm, transforms\n",
        "import innvestigate\n",
        "from sklearn.model_selection import train_test_split\n",
        "from collections import Counter\n",
        "from itertools import chain\n",
        "from innvestigate.utils.tests.networks import base as network_base\n",
        "\n",
        "import json\n",
        "\n",
        "import re\n",
        "\n",
        "import warnings\n",
        "warnings.filterwarnings(\"ignore\")"
      ],
      "execution_count": 242,
      "outputs": [
        {
          "output_type": "stream",
          "text": [
            "[nltk_data] Downloading package stopwords to /root/nltk_data...\n",
            "[nltk_data]   Package stopwords is already up-to-date!\n",
            "[nltk_data] Downloading package punkt to /root/nltk_data...\n",
            "[nltk_data]   Package punkt is already up-to-date!\n",
            "[nltk_data] Downloading package wordnet to /root/nltk_data...\n",
            "[nltk_data]   Package wordnet is already up-to-date!\n"
          ],
          "name": "stdout"
        }
      ]
    },
    {
      "cell_type": "code",
      "metadata": {
        "id": "nIgWnGRj2siV",
        "colab_type": "code",
        "colab": {}
      },
      "source": [
        "# POSITIVE = []\n",
        "# NEGATIVE = []"
      ],
      "execution_count": 0,
      "outputs": []
    },
    {
      "cell_type": "markdown",
      "metadata": {
        "id": "efOS-h103EpR",
        "colab_type": "text"
      },
      "source": [
        "# 0. Processing our data"
      ]
    },
    {
      "cell_type": "code",
      "metadata": {
        "id": "GWLr1Yg3231s",
        "colab_type": "code",
        "outputId": "9dee80a6-bb09-4830-b086-b3e1126464eb",
        "colab": {
          "resources": {
            "http://localhost:8080/nbextensions/google.colab/files.js": {
              "data": "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",
              "ok": true,
              "headers": [
                [
                  "content-type",
                  "application/javascript"
                ]
              ],
              "status": 200,
              "status_text": ""
            }
          },
          "base_uri": "https://localhost:8080/",
          "height": 74
        }
      },
      "source": [
        "uploaded = files.upload()  # SentiRuEval_rest_train.zip should be uploaded"
      ],
      "execution_count": 0,
      "outputs": [
        {
          "output_type": "display_data",
          "data": {
            "text/html": [
              "\n",
              "     <input type=\"file\" id=\"files-8b7c9993-57fc-4fb8-b970-0ae129a3031c\" name=\"files[]\" multiple disabled />\n",
              "     <output id=\"result-8b7c9993-57fc-4fb8-b970-0ae129a3031c\">\n",
              "      Upload widget is only available when the cell has been executed in the\n",
              "      current browser session. Please rerun this cell to enable.\n",
              "      </output>\n",
              "      <script src=\"/nbextensions/google.colab/files.js\"></script> "
            ],
            "text/plain": [
              "<IPython.core.display.HTML object>"
            ]
          },
          "metadata": {
            "tags": []
          }
        },
        {
          "output_type": "stream",
          "text": [
            "Saving SentiRuEval_rest_train.zip to SentiRuEval_rest_train.zip\n"
          ],
          "name": "stdout"
        }
      ]
    },
    {
      "cell_type": "code",
      "metadata": {
        "id": "GDWhX_Fn3ZCF",
        "colab_type": "code",
        "outputId": "5612cc37-3fd7-4201-acf6-69b31bcfa670",
        "colab": {
          "base_uri": "https://localhost:8080/",
          "height": 50
        }
      },
      "source": [
        "!unzip SentiRuEval_rest_train.zip"
      ],
      "execution_count": 0,
      "outputs": [
        {
          "output_type": "stream",
          "text": [
            "Archive:  SentiRuEval_rest_train.zip\n",
            "  inflating: SentiRuEval_rest_train.xml  \n"
          ],
          "name": "stdout"
        }
      ]
    },
    {
      "cell_type": "code",
      "metadata": {
        "id": "D_43eKeTgsmz",
        "colab_type": "code",
        "colab": {}
      },
      "source": [
        "def pymorphy_to_udpipe(pos):\n",
        "    dct = {\n",
        "        'NOUN': 'NOUN',\n",
        "        'ADJF': 'ADJ',\n",
        "        'ADJS': 'ADJ',\n",
        "        'COMP': 'ADV',\n",
        "        'VERB': 'VERB',\n",
        "        'INFN': 'VERB',\n",
        "        'PRTF': 'ADJ',\n",
        "        'PRTS': 'ADJ',\n",
        "        'GRND': 'VERB',\n",
        "        'NUMR': 'NUM',\n",
        "        'ADVB': 'ADV',\n",
        "        'NPRO': 'PRON',\n",
        "        'PRED': 'ADV',\n",
        "        'PREP': 'ADP',\n",
        "        'CONJ': 'CCONJ',\n",
        "        'PRCL': 'PART',\n",
        "        'INTJ': 'INTJ'\n",
        "    }\n",
        "    if pos is None:\n",
        "        return ''\n",
        "    assert pos in dct\n",
        "    return dct[pos]"
      ],
      "execution_count": 0,
      "outputs": []
    },
    {
      "cell_type": "code",
      "metadata": {
        "id": "SO49IBOr3ch6",
        "colab_type": "code",
        "colab": {}
      },
      "source": [
        "m = MorphAnalyzer()\n",
        "tokenizer = RegexpTokenizer(r'\\w+')\n",
        "\n",
        "def normalize(text):\n",
        "    tokens = tokenizer.tokenize(text.lower())\n",
        "    lemmas = []\n",
        "    pos = []\n",
        "    for token in tokens:\n",
        "        m.parse(token)[0]\n",
        "        tag = m.parse(token)[0]\n",
        "        lemmas.append(tag.normal_form)\n",
        "        pos.append(pymorphy_to_udpipe(tag.tag.POS))\n",
        "\n",
        "    return lemmas, pos  # возвращает два массива (массив лем и массив частей речи, массивы сопряжены)"
      ],
      "execution_count": 0,
      "outputs": []
    },
    {
      "cell_type": "code",
      "metadata": {
        "id": "Y7JppC2O3xLc",
        "colab_type": "code",
        "outputId": "90b5e680-0f34-4d86-9d17-9de12aaf5322",
        "colab": {
          "base_uri": "https://localhost:8080/",
          "height": 50
        }
      },
      "source": [
        "# %cd /content/\n",
        "# tree = ET.parse('SentiRuEval_rest_train.xml')\n",
        "# root = tree.getroot()\n",
        "\n",
        "# texts = []\n",
        "# food_scores = []\n",
        "# interior_scores = []\n",
        "# service_scores = []\n",
        "# scores = []\n",
        "# source_texts = []\n",
        "# pos = []\n",
        "\n",
        "# reviews = root.findall('review')\n",
        "# for review in tqdm(reviews, desc='Review', total=len(reviews)):\n",
        "#     text_ = review.find('text').text\n",
        "#     source_texts.append(text_)\n",
        "#     text_, pos_ = normalize(text_)\n",
        "#     pos.append(pos_)\n",
        "#     texts.append(text_)\n",
        "#     review_scores = review.find('scores')\n",
        "#     food_scores.append(int(review_scores.find('food').text))\n",
        "#     interior_scores.append(int(review_scores.find('interior').text))\n",
        "#     service_scores.append(int(review_scores.find('service').text))\n",
        "#     scores.append(np.mean([food_scores[-1], interior_scores[-1], service_scores[-1]]))"
      ],
      "execution_count": 0,
      "outputs": [
        {
          "output_type": "stream",
          "text": [
            "/content\n"
          ],
          "name": "stdout"
        },
        {
          "output_type": "stream",
          "text": [
            "Review: 100%|██████████| 19034/19034 [22:01<00:00, 14.40it/s]\n"
          ],
          "name": "stderr"
        }
      ]
    },
    {
      "cell_type": "code",
      "metadata": {
        "id": "zCJmO5Y5gG6Q",
        "colab_type": "code",
        "colab": {}
      },
      "source": [
        "# with open(os.path.join(drive_prefix, 'parsed_texts.json'), 'w', encoding='utf-8') as f:\n",
        "#     json.dump({\n",
        "#         'texts': texts,\n",
        "#         'food_scores': food_scores,\n",
        "#         'interior_scores': interior_scores,\n",
        "#         'service_scores': service_scores,\n",
        "#         'scores': scores,\n",
        "#         'pos': pos,\n",
        "#         'source_texts': source_texts\n",
        "#     }, f)"
      ],
      "execution_count": 0,
      "outputs": []
    },
    {
      "cell_type": "code",
      "metadata": {
        "id": "F5kNxGHQuLW4",
        "colab_type": "code",
        "colab": {}
      },
      "source": [
        "with open(os.path.join(drive_prefix, 'parsed_texts.json'), 'r', encoding='utf-8') as f:\n",
        "    dct = json.load(f)\n",
        "    texts = dct['texts']\n",
        "    food_scores = dct['food_scores']\n",
        "    interior_scores = dct['interior_scores']\n",
        "    service_scores = dct['service_scores']\n",
        "    scores = dct['scores']\n",
        "    pos = dct['pos']\n",
        "    source_texts = dct['source_texts']"
      ],
      "execution_count": 0,
      "outputs": []
    },
    {
      "cell_type": "code",
      "metadata": {
        "id": "sNePkZWM4ZMr",
        "colab_type": "code",
        "outputId": "69700d50-82b2-4766-f118-19a76b43d7e8",
        "colab": {
          "base_uri": "https://localhost:8080/",
          "height": 138
        }
      },
      "source": [
        "# now we have lists of normalized texts, all types of scores and the mean score\n",
        "' '.join(texts[0]), food_scores[0], service_scores[0], interior_scores[0], scores[0], ' '.join(pos[0])"
      ],
      "execution_count": 0,
      "outputs": [
        {
          "output_type": "execute_result",
          "data": {
            "text/plain": [
              "('и пускай на я не обижаться наш прославить защитник франкофон монреаль канадиенс maxime я всегда с некоторый опаска относиться к это народ народ способный с такой благоговение доводить до цирроз весь пернатый живность заставлять специальный поисковый свиной копошиться в грязь в поиск сумчатый грибов ковыряться в тина собирать брюхоногий и двустворчатый народ подсадить весь население земной шар на муть именовать божоля нувый на сырой с плесень и на квакать жаба скакать по болото тем не менее единожды заглянуть не мочь успокоиться пока не вкусить большой часть меню не быть вдаваться в деталь вкусно невкусно а привести турнирный таблица коли начать с хоккей 1 петух запечь в сливка с картофель и гриб почему петух а не курица различать ещё не научиться 2 домашний пирог яблочный горячий таять 3 говядина по бургунски кускус неожиданный 4 террина из печень цыплёнок массивный порция 5 утиный ножка конфи с картофельный пюре мягко 6 пенний с артишок много чеснок я любить но если дышать потом на кто нибыть мочь случиться казус 7 ростбиф с мариновать лук 8 лягушка на вкус смесь птица и рыба овощной сата на гарнир 9 улитка эскарго просто в масло я нравиться большой 10 гребешок с спаржа горячее блюдо весьма диетичный 11 гребешок с груша горячий закуска ряд просто лист салат 12 тёплый салат с говядина ряд просто лист салат 13 тирамис качественный уровень соблюсти 14 домашний пирог черничный холодный слишком холодный творог в основное плюс другой приятность приятный грейпфрутовый фреш приятный зелёный чаять земляника с сливка приятный тёртый клубника комплимент всегда и приятный глинтвейн не всегда один раз зажать по интерьер комментарий два а нельзя быть по край кабинка диванчик сварганить для уют один милый столик справа от вход маловато помывочный с белый дверь почему выбиваться из стиль в остальной мой типаж музыка мягкий панель нет сервис с улыбка шероховатость в предел норма и незначительный один раз прибор забыть принести ну и глинтвейн зажать это я уже говорить человек к хороший быстро привыкать',\n",
              " 8,\n",
              " 8,\n",
              " 8,\n",
              " 8.0,\n",
              " 'CCONJ CCONJ ADP PRON PART VERB ADJ ADJ NOUN NOUN NOUN NOUN  PRON ADV ADP ADJ NOUN VERB ADP PRON NOUN NOUN ADJ ADP ADJ NOUN VERB ADP NOUN ADJ ADJ NOUN VERB ADJ ADJ ADV VERB ADP NOUN ADP NOUN ADJ NOUN VERB ADP NOUN VERB ADJ CCONJ ADJ NOUN ADJ ADJ NOUN ADJ NOUN ADP NOUN ADJ NOUN ADJ ADP ADJ ADP NOUN CCONJ ADP ADJ NOUN ADJ ADP NOUN CCONJ PART ADV ADV VERB PART VERB VERB ADV PART VERB ADJ NOUN NOUN PART VERB VERB ADP NOUN ADV ADV CCONJ VERB ADJ NOUN CCONJ VERB ADP NOUN  NOUN ADJ ADP NOUN ADP NOUN CCONJ NOUN ADV NOUN CCONJ PART NOUN VERB PART PART VERB  ADJ NOUN ADJ ADJ ADJ  NOUN ADP ADV NOUN ADJ  NOUN ADP NOUN NOUN ADJ NOUN  ADJ NOUN NOUN ADP ADJ NOUN ADV  ADJ ADP NOUN ADV NOUN PRON VERB CCONJ CCONJ VERB ADV ADP PRON VERB VERB VERB NOUN  NOUN ADP ADJ NOUN  NOUN ADP NOUN NOUN NOUN CCONJ NOUN ADJ NOUN ADP NOUN  NOUN NOUN PART ADP NOUN PRON VERB ADV  NOUN ADP NOUN NOUN NOUN ADV ADJ  NOUN ADP NOUN ADJ NOUN NOUN PART NOUN NOUN  ADJ NOUN ADP NOUN NOUN PART NOUN NOUN  NOUN ADJ NOUN ADJ  ADJ NOUN ADJ ADJ ADV ADJ NOUN ADP NOUN CCONJ ADJ NOUN ADJ ADJ NOUN ADJ ADJ VERB NOUN ADP NOUN ADJ ADJ NOUN NOUN ADV CCONJ ADJ NOUN PART ADV ADJ NOUN VERB ADP NOUN NOUN NUM CCONJ ADV VERB ADP NOUN NOUN NOUN VERB ADP NOUN ADJ ADJ NOUN ADV ADP NOUN ADV ADJ ADP ADJ NOUN ADV VERB ADP NOUN ADP ADJ ADJ NOUN NOUN ADJ NOUN ADV NOUN ADP NOUN NOUN ADP NOUN NOUN CCONJ ADJ ADJ NOUN NOUN VERB VERB PART CCONJ NOUN VERB PART PRON ADV VERB NOUN ADP ADJ ADV VERB')"
            ]
          },
          "metadata": {
            "tags": []
          },
          "execution_count": 64
        }
      ]
    },
    {
      "cell_type": "code",
      "metadata": {
        "id": "YkBMRBhE4zxD",
        "colab_type": "code",
        "colab": {}
      },
      "source": [
        "russian_stopwords = [elem for elem in russian_stopwords if elem not in ['не', 'да', 'но', 'хорошо', 'лучше', 'почти', 'никогда', 'можно', 'наконец', 'больше', 'другой', 'всего', 'много', 'впрочем', 'нельзя', 'более', 'всегда']]\n",
        "texts_without_stopwords = [[word for word in text if word not in russian_stopwords] for text in texts]"
      ],
      "execution_count": 0,
      "outputs": []
    },
    {
      "cell_type": "code",
      "metadata": {
        "id": "FKAbKI7X44V2",
        "colab_type": "code",
        "outputId": "57ac24a5-d1d7-440c-e0bc-52c455c1a51d",
        "colab": {
          "base_uri": "https://localhost:8080/",
          "height": 34
        }
      },
      "source": [
        "len(texts[0]), len(texts_without_stopwords[0])"
      ],
      "execution_count": 0,
      "outputs": [
        {
          "output_type": "execute_result",
          "data": {
            "text/plain": [
              "(322, 248)"
            ]
          },
          "metadata": {
            "tags": []
          },
          "execution_count": 66
        }
      ]
    },
    {
      "cell_type": "markdown",
      "metadata": {
        "id": "-Ltmdnzl5KGE",
        "colab_type": "text"
      },
      "source": [
        "Now we work with all types of n-grams."
      ]
    },
    {
      "cell_type": "code",
      "metadata": {
        "id": "sV_TFhYp5x-d",
        "colab_type": "code",
        "outputId": "7100b743-0357-4f2a-8762-aa3a8c5650d6",
        "colab": {
          "base_uri": "https://localhost:8080/",
          "height": 50
        }
      },
      "source": [
        "bigrams = []\n",
        "for text_without_stopwords in tqdm(texts, desc='Processing bigrams', total=len(texts_without_stopwords)):\n",
        "    bigrams.extend(list(nltk.bigrams(text_without_stopwords)))\n",
        "\n",
        "trigrams = []\n",
        "for text_without_stopwords in tqdm(texts, desc='Processing trigrams', total=len(texts_without_stopwords)):\n",
        "    trigrams.extend(nltk.trigrams(text_without_stopwords))"
      ],
      "execution_count": 0,
      "outputs": [
        {
          "output_type": "stream",
          "text": [
            "Processing bigrams: 100%|██████████| 19034/19034 [00:01<00:00, 13826.19it/s]\n",
            "Processing trigrams: 100%|██████████| 19034/19034 [00:01<00:00, 14076.95it/s]\n"
          ],
          "name": "stderr"
        }
      ]
    },
    {
      "cell_type": "code",
      "metadata": {
        "id": "GcaMtf0M7k8B",
        "colab_type": "code",
        "outputId": "3670614e-29bd-4e54-e185-02f5fe8ab0cd",
        "colab": {
          "base_uri": "https://localhost:8080/",
          "height": 34
        }
      },
      "source": [
        "# bigrams[0], trigrams[0]"
      ],
      "execution_count": 0,
      "outputs": [
        {
          "output_type": "execute_result",
          "data": {
            "text/plain": [
              "(('и', 'пускай'), ('и', 'пускай', 'на'))"
            ]
          },
          "metadata": {
            "tags": []
          },
          "execution_count": 68
        }
      ]
    },
    {
      "cell_type": "code",
      "metadata": {
        "id": "0qW-BLMQ6JGG",
        "colab_type": "code",
        "colab": {}
      },
      "source": [
        "# # предполагаем, что стоп-слово не может входить в коллокацию (из тех, что мы не удалили из списка nltk)\n",
        "# # поэтому разобьём каждое предложение по стоп-словам и для каждого подучастка возьмём все возможные n-граммы\n",
        "# # дальше посчитаем частнотность и посмотрим, стоит ли нам выделять коллокации на этом основании\n",
        "\n",
        "# text_ngrams = []\n",
        "\n",
        "# texts_with_partitions = [' '.join(['|' if word in russian_stopwords else word for word in text]) for text in texts]\n",
        "# for text_with_partitions in texts_with_partitions:\n",
        "#     for sent in text_with_partitions.split('|'):\n",
        "#         sent = sent.split()\n",
        "#         if sent:\n",
        "#             for n in range(1, len(sent) + 1):\n",
        "#                 text_ngrams.extend(ngrams(sent, n))"
      ],
      "execution_count": 0,
      "outputs": []
    },
    {
      "cell_type": "code",
      "metadata": {
        "id": "4s0Fwk3D6Rje",
        "colab_type": "code",
        "colab": {}
      },
      "source": [
        "# size_to_ngrams = {}\n",
        "# max_ngrams_length = len(max(text_ngrams, key=len))\n",
        "# for n in tqdm(range(1, max_ngrams_length + 1), total=max_ngrams_length):\n",
        "#     size_to_ngrams[n] = Counter([ngram for ngram in text_ngrams if len(ngram) == n])"
      ],
      "execution_count": 0,
      "outputs": []
    },
    {
      "cell_type": "code",
      "metadata": {
        "id": "xwC5FpQM6L0K",
        "colab_type": "code",
        "outputId": "a6a85aff-3a6a-4903-ec1b-f1beea0f31ad",
        "colab": {
          "base_uri": "https://localhost:8080/",
          "height": 269
        }
      },
      "source": [
        "bigram_measures = nltk.collocations.BigramAssocMeasures()\n",
        "bigram_finder = nltk.collocations.BigramCollocationFinder.from_documents(texts_without_stopwords)\n",
        "bigram_finder.apply_freq_filter(3)\n",
        "bi_likelihood_scores = bigram_finder.score_ngrams(bigram_measures.likelihood_ratio)\n",
        "bigram_finder.nbest(bigram_measures.likelihood_ratio, 15)"
      ],
      "execution_count": 0,
      "outputs": [
        {
          "output_type": "execute_result",
          "data": {
            "text/plain": [
              "[('день', 'рождение'),\n",
              " ('очень', 'понравиться'),\n",
              " ('молодая', 'человек'),\n",
              " ('p', 's'),\n",
              " ('весь', 'таки'),\n",
              " ('шеф', 'повар'),\n",
              " ('не', 'знать'),\n",
              " ('никто', 'не'),\n",
              " ('живой', 'музыка'),\n",
              " ('очень', 'вкусно'),\n",
              " ('барна', 'стойка'),\n",
              " ('очень', 'вкусный'),\n",
              " ('не', 'мочь'),\n",
              " ('весь', 'равно'),\n",
              " ('винный', 'карта')]"
            ]
          },
          "metadata": {
            "tags": []
          },
          "execution_count": 69
        }
      ]
    },
    {
      "cell_type": "code",
      "metadata": {
        "id": "zQbLzQ4_6Oiz",
        "colab_type": "code",
        "outputId": "cb1284fc-b7f7-416e-bd9a-c62ec6657fb6",
        "colab": {
          "base_uri": "https://localhost:8080/",
          "height": 269
        }
      },
      "source": [
        "trigram_measures = nltk.collocations.TrigramAssocMeasures()\n",
        "trigram_finder = nltk.collocations.TrigramCollocationFinder.from_documents(texts_without_stopwords)\n",
        "trigram_finder.apply_freq_filter(3)\n",
        "tri_likelihood_scores = trigram_finder.score_ngrams(trigram_measures.likelihood_ratio)\n",
        "trigram_finder.nbest(trigram_measures.likelihood_ratio, 15)"
      ],
      "execution_count": 0,
      "outputs": [
        {
          "output_type": "execute_result",
          "data": {
            "text/plain": [
              "[('отмечать', 'день', 'рождение'),\n",
              " ('никто', 'не', 'знать'),\n",
              " ('следующий', 'день', 'рождение'),\n",
              " ('праздновать', 'день', 'рождение'),\n",
              " ('свой', 'день', 'рождение'),\n",
              " ('отметить', 'день', 'рождение'),\n",
              " ('празднование', 'день', 'рождение'),\n",
              " ('день', 'рождение', 'подруга'),\n",
              " ('не', 'день', 'рождение'),\n",
              " ('день', 'рождение', 'муж'),\n",
              " ('отпраздновать', 'день', 'рождение'),\n",
              " ('честь', 'день', 'рождение'),\n",
              " ('день', 'рождение', 'друг'),\n",
              " ('справлять', 'день', 'рождение'),\n",
              " ('день', 'рождение', 'дочь')]"
            ]
          },
          "metadata": {
            "tags": []
          },
          "execution_count": 70
        }
      ]
    },
    {
      "cell_type": "code",
      "metadata": {
        "id": "NymGwfGj_GrB",
        "colab_type": "code",
        "colab": {}
      },
      "source": [
        "# def remap_keys(mapping):\n",
        "#     return [{'key':k, 'value': v} for k, v in mapping.items()]\n",
        "\n",
        "# for key, value in size_to_ngrams.items():\n",
        "#     size_to_ngrams[int(key)] = remap_keys(value)\n",
        "\n",
        "# with open(os.path.join(drive_prefix, 'size_to_ngrams.json'), 'w', encoding='utf-8') as f:\n",
        "#     json.dump(size_to_ngrams, f)"
      ],
      "execution_count": 0,
      "outputs": []
    },
    {
      "cell_type": "code",
      "metadata": {
        "id": "efHzGsDC_meQ",
        "colab_type": "code",
        "colab": {}
      },
      "source": [
        "with open(os.path.join(drive_prefix, 'size_to_ngrams.json'), 'r', encoding='utf-8') as f:\n",
        "    size_to_ngrams = json.load(f)"
      ],
      "execution_count": 0,
      "outputs": []
    },
    {
      "cell_type": "code",
      "metadata": {
        "colab_type": "code",
        "id": "AgQCDDirCijZ",
        "colab": {}
      },
      "source": [
        "def demap_keys(mapping):\n",
        "    dct = {}\n",
        "    for elem in mapping:\n",
        "        try:\n",
        "            dct[tuple(elem['key'])] = elem['value']\n",
        "        except Exception:\n",
        "            print(elem)\n",
        "            break\n",
        "    return dct\n",
        "\n",
        "dct = {}\n",
        "for key, value in size_to_ngrams.items():\n",
        "    dct[int(key)] = demap_keys(value)\n",
        "size_to_ngrams = dct"
      ],
      "execution_count": 0,
      "outputs": []
    },
    {
      "cell_type": "code",
      "metadata": {
        "id": "-gxNKGTlu6BZ",
        "colab_type": "code",
        "colab": {}
      },
      "source": [
        "for key, value in size_to_ngrams.items():\n",
        "    size_to_ngrams[key] = Counter(value)"
      ],
      "execution_count": 0,
      "outputs": []
    },
    {
      "cell_type": "code",
      "metadata": {
        "id": "nOtj4FXJ6S16",
        "colab_type": "code",
        "colab": {}
      },
      "source": [
        "# size_to_ngrams[2].most_common(10)"
      ],
      "execution_count": 0,
      "outputs": []
    },
    {
      "cell_type": "code",
      "metadata": {
        "id": "YtxzJfw26Vn0",
        "colab_type": "code",
        "colab": {}
      },
      "source": [
        "# size_to_ngrams[3].most_common(10)"
      ],
      "execution_count": 0,
      "outputs": []
    },
    {
      "cell_type": "code",
      "metadata": {
        "id": "OG_aUoni6Y3H",
        "colab_type": "code",
        "colab": {}
      },
      "source": [
        "# size_to_ngrams[4].most_common(10)"
      ],
      "execution_count": 0,
      "outputs": []
    },
    {
      "cell_type": "code",
      "metadata": {
        "id": "Ll0N9GtZ6c6n",
        "colab_type": "code",
        "colab": {}
      },
      "source": [
        "# size_to_ngrams[5].most_common(10)"
      ],
      "execution_count": 0,
      "outputs": []
    },
    {
      "cell_type": "code",
      "metadata": {
        "id": "99KPIIaC6gyR",
        "colab_type": "code",
        "colab": {}
      },
      "source": [
        "# # уже слишком редко встречается, поэтому не имеет смысла добавлять 6-граммы\n",
        "# size_to_ngrams[6].most_common(10)"
      ],
      "execution_count": 0,
      "outputs": []
    },
    {
      "cell_type": "markdown",
      "metadata": {
        "id": "V-B7n9Qr88kt",
        "colab_type": "text"
      },
      "source": [
        "Заменим топовые 2-граммы, ..., 5-граммы на монограммы x_y_..._z."
      ]
    },
    {
      "cell_type": "code",
      "metadata": {
        "id": "GD7fFGde84w1",
        "colab_type": "code",
        "outputId": "d72952f8-fb8c-4721-dc5d-21da2c60b289",
        "colab": {
          "base_uri": "https://localhost:8080/",
          "height": 34
        }
      },
      "source": [
        "grams = {}\n",
        "for size, num in zip(range(5, 1, -1), [5, 15, 50, 100]):\n",
        "    grams[size] = [' '.join(elem[0]) for elem in size_to_ngrams[size].most_common(num)]\n",
        "\n",
        "bigrams = [' '.join(elem) for elem in bigram_finder.nbest(bigram_measures.likelihood_ratio, 50)]\n",
        "trigrams = [' '.join(elem) for elem in trigram_finder.nbest(trigram_measures.likelihood_ratio, 25)]\n",
        "\n",
        "grams_to_be_replaced = []\n",
        "\n",
        "texts_with_replacements = []\n",
        "for text in tqdm(texts_without_stopwords, desc='Text', total=len(texts_without_stopwords)):\n",
        "    text = ' '.join(text)\n",
        "\n",
        "    for i in range(5, 3, -1):\n",
        "        for gram in grams[i]:\n",
        "            grams_to_be_replaced.append(gram)\n",
        "            text = text.replace(gram, gram.replace(' ', '_'))\n",
        "\n",
        "    for ngrams_ in [trigrams, bigrams]:\n",
        "        for gram in ngrams_:\n",
        "            grams_to_be_replaced.append(gram)\n",
        "            text = text.replace(gram, gram.replace(' ', '_'))\n",
        "\n",
        "    for i in range(3, 1, -1):\n",
        "        for gram in grams[i]:\n",
        "            grams_to_be_replaced.append(gram)\n",
        "            text = text.replace(gram, gram.replace(' ', '_'))\n",
        "\n",
        "    texts_with_replacements.append(text)"
      ],
      "execution_count": 0,
      "outputs": [
        {
          "output_type": "stream",
          "text": [
            "Text: 100%|██████████| 19034/19034 [00:06<00:00, 3000.74it/s]\n"
          ],
          "name": "stderr"
        }
      ]
    },
    {
      "cell_type": "code",
      "metadata": {
        "id": "v448AUa-ju2r",
        "colab_type": "code",
        "colab": {}
      },
      "source": [
        "# with open(os.path.join(drive_prefix, 'parsed_texts_with_replacements.json'), 'w', encoding='utf-8') as f:\n",
        "#     json.dump(texts_with_replacements, f)"
      ],
      "execution_count": 0,
      "outputs": []
    },
    {
      "cell_type": "code",
      "metadata": {
        "id": "UdNEXO5asbdC",
        "colab_type": "code",
        "colab": {}
      },
      "source": [
        "with open(os.path.join(drive_prefix, 'parsed_texts_with_replacements.json'), 'r', encoding='utf-8') as f:\n",
        "    texts_with_replacements = json.load(f)"
      ],
      "execution_count": 0,
      "outputs": []
    },
    {
      "cell_type": "code",
      "metadata": {
        "id": "d4xDLIdO9OpH",
        "colab_type": "code",
        "colab": {}
      },
      "source": [
        "# # Чтобы в colab-е tqdm хорошо работала\n",
        "# for instance in list(tqdm._instances):\n",
        "#     tqdm._decr_instances(instance)"
      ],
      "execution_count": 0,
      "outputs": []
    },
    {
      "cell_type": "code",
      "metadata": {
        "id": "PdalTRA79VDV",
        "colab_type": "code",
        "colab": {}
      },
      "source": [
        "# texts_with_replacements[:5]"
      ],
      "execution_count": 0,
      "outputs": []
    },
    {
      "cell_type": "code",
      "metadata": {
        "id": "EpBX_lQQ9c9-",
        "colab_type": "code",
        "outputId": "b4e25e43-5a37-4b99-8973-f71471141aa8",
        "colab": {
          "base_uri": "https://localhost:8080/",
          "height": 34
        }
      },
      "source": [
        "# Now we turn scores from 1-10 to 0-1\n",
        "scores = np.array(scores)\n",
        "binary_scores = scores > 5.\n",
        "print(binary_scores[0])"
      ],
      "execution_count": 0,
      "outputs": [
        {
          "output_type": "stream",
          "text": [
            "True\n"
          ],
          "name": "stdout"
        }
      ]
    },
    {
      "cell_type": "code",
      "metadata": {
        "id": "7GPY2dst9oip",
        "colab_type": "code",
        "colab": {}
      },
      "source": [
        "binary_scores = binary_scores.astype(int)"
      ],
      "execution_count": 0,
      "outputs": []
    },
    {
      "cell_type": "code",
      "metadata": {
        "id": "zf5cP30J9tGq",
        "colab_type": "code",
        "colab": {}
      },
      "source": [
        "# print(len(texts))\n",
        "# print(len(scores))"
      ],
      "execution_count": 0,
      "outputs": []
    },
    {
      "cell_type": "markdown",
      "metadata": {
        "id": "wBSsKXtH9285",
        "colab_type": "text"
      },
      "source": [
        "#1. TF-IDF"
      ]
    },
    {
      "cell_type": "code",
      "metadata": {
        "id": "RkTAl1wb-Gvo",
        "colab_type": "code",
        "colab": {}
      },
      "source": [
        "# from sklearn.feature_extraction.text import TfidfVectorizer"
      ],
      "execution_count": 0,
      "outputs": []
    },
    {
      "cell_type": "code",
      "metadata": {
        "id": "pkaHxVZO98tz",
        "colab_type": "code",
        "colab": {}
      },
      "source": [
        "# vectorizer = TfidfVectorizer(min_df=0.1)\n",
        "# tfidf_matrix = vectorizer.fit_transform(texts_with_replacements)\n",
        "\n",
        "# pos_indices = []\n",
        "# neg_indices = []\n",
        "# for i, binary_score in zip(range(tfidf_matrix.shape[0]), binary_scores):\n",
        "#     arr = tfidf_matrix[i].toarray().squeeze()\n",
        "#     indices = list(arr.argsort()[-5:])\n",
        "#     if binary_score:\n",
        "#         pos_indices.extend(indices)\n",
        "#     else:\n",
        "#         neg_indices.extend(indices)\n",
        "\n",
        "\n",
        "\n",
        "# vocab = vectorizer.get_feature_names()\n",
        "# pos_words = [vocab[pos_index] for pos_index in pos_indices]\n",
        "# neg_words = [vocab[neg_index] for neg_index in neg_indices]\n",
        "\n",
        "\n",
        "# pos_counter = Counter(pos_words)\n",
        "# pos_counter = {elem: pos_counter[elem] for elem in pos_counter if pos_counter[elem] >= 35}\n",
        "# neg_counter = Counter(neg_words)\n",
        "# neg_counter = {elem: neg_counter[elem] for elem in neg_counter if neg_counter[elem] >= 15}\n",
        "\n",
        "\n",
        "# common_words = set(pos_counter.keys()) & set(neg_counter.keys())\n",
        "# mostly_positive_words = []\n",
        "# mostly_negative_words = []\n",
        "# for elem in list(common_words):\n",
        "#     if (pos_counter[elem] / 75970) / (neg_counter[elem] / 19200) > 1.4:\n",
        "#         mostly_positive_words.append(elem)\n",
        "#     elif (pos_counter[elem] / 75970) / (neg_counter[elem] / 19200) < 0.6:\n",
        "#         mostly_negative_words.append(elem)"
      ],
      "execution_count": 0,
      "outputs": []
    },
    {
      "cell_type": "markdown",
      "metadata": {
        "id": "BSDQI4r048Wk",
        "colab_type": "text"
      },
      "source": [
        "Логика (from Эдик): для каждого текста берется 5 слов с наибольшим значением tf-idf. Они добавляются в списки положительных (pos_words) и отрицательных (neg_words) слов. Если какое-то слово часто встречается в положительных предложения, значит, оно мега положительное (mostly_positive_word), с отрицательными (mostly_negative_words) аналогично."
      ]
    },
    {
      "cell_type": "code",
      "metadata": {
        "id": "47pEbmcq4eVp",
        "colab_type": "code",
        "outputId": "249ab1ca-191c-4f99-a743-a2f3c5a96d76",
        "colab": {
          "base_uri": "https://localhost:8080/"
        }
      },
      "source": [
        "# print(len(mostly_negative_words), len(mostly_positive_words))"
      ],
      "execution_count": 0,
      "outputs": [
        {
          "output_type": "stream",
          "text": [
            "14 27\n"
          ],
          "name": "stdout"
        }
      ]
    },
    {
      "cell_type": "code",
      "metadata": {
        "id": "pYVxTatu4ckn",
        "colab_type": "code",
        "colab": {}
      },
      "source": [
        "# POSITIVE.extend(mostly_positive_words)\n",
        "# NEGATIVE.extend(mostly_negative_words)"
      ],
      "execution_count": 0,
      "outputs": []
    },
    {
      "cell_type": "code",
      "metadata": {
        "id": "WNQaQhRR4yBg",
        "colab_type": "code",
        "outputId": "035c63f5-6cb5-4eb8-8d25-eccb776092e0",
        "colab": {
          "base_uri": "https://localhost:8080/"
        }
      },
      "source": [
        "# print(POSITIVE)"
      ],
      "execution_count": 0,
      "outputs": [
        {
          "output_type": "stream",
          "text": [
            "['кухня', 'понравиться', 'спасибо', 'но', 'хотеться', 'персонал', 'выбор', 'уютный', 'вино', 'вкусный', 'соус', 'место', 'вкус', 'отличный', 'вкусно', 'хороший', 'атмосфера', 'всегда', 'очень', 'десерт', 'много', 'приятный', 'музыка', 'интерьер', 'весь', 'хорошо', 'быстро']\n"
          ],
          "name": "stdout"
        }
      ]
    },
    {
      "cell_type": "code",
      "metadata": {
        "id": "fjFGuSym4zuo",
        "colab_type": "code",
        "outputId": "d70bd9db-0383-4118-842a-593179020cf7",
        "colab": {
          "base_uri": "https://localhost:8080/"
        }
      },
      "source": [
        "# print(NEGATIVE)"
      ],
      "execution_count": 0,
      "outputs": [
        {
          "output_type": "stream",
          "text": [
            "['человек', 'официантка', 'счёт', 'заказать', 'туда', 'вообще', 'заказ', 'принести', 'администратор', 'минута', 'сказать', 'ждать', 'решить', 'официант']\n"
          ],
          "name": "stdout"
        }
      ]
    },
    {
      "cell_type": "markdown",
      "metadata": {
        "id": "nyu4EfyC5vt1",
        "colab_type": "text"
      },
      "source": [
        "#FINDING ASPECT"
      ]
    },
    {
      "cell_type": "markdown",
      "metadata": {
        "id": "MeSp_kWKO2Y9",
        "colab_type": "text"
      },
      "source": [
        "## RuTez"
      ]
    },
    {
      "cell_type": "markdown",
      "metadata": {
        "id": "2E3196NX538s",
        "colab_type": "text"
      },
      "source": [
        "Ищем аспект для слов их POSITIVE и NEGATIVE, чтобы записать их в OUTPUT."
      ]
    },
    {
      "cell_type": "code",
      "metadata": {
        "id": "nu-BOed552xw",
        "colab_type": "code",
        "outputId": "002dad75-0cfb-4abc-9909-5bfa6d0ccb91",
        "colab": {
          "base_uri": "https://localhost:8080/"
        }
      },
      "source": [
        "# !wget https://github.com/sjut/HSE-Compling/raw/master/seminars/data/relations_with_concepts.csv"
      ],
      "execution_count": 0,
      "outputs": [
        {
          "output_type": "stream",
          "text": [
            "--2019-12-23 22:30:53--  https://github.com/sjut/HSE-Compling/raw/master/seminars/data/relations_with_concepts.csv\n",
            "Resolving github.com (github.com)... 140.82.114.3\n",
            "Connecting to github.com (github.com)|140.82.114.3|:443... connected.\n",
            "HTTP request sent, awaiting response... 302 Found\n",
            "Location: https://raw.githubusercontent.com/sjut/HSE-Compling/master/seminars/data/relations_with_concepts.csv [following]\n",
            "--2019-12-23 22:30:54--  https://raw.githubusercontent.com/sjut/HSE-Compling/master/seminars/data/relations_with_concepts.csv\n",
            "Resolving raw.githubusercontent.com (raw.githubusercontent.com)... 151.101.0.133, 151.101.64.133, 151.101.128.133, ...\n",
            "Connecting to raw.githubusercontent.com (raw.githubusercontent.com)|151.101.0.133|:443... connected.\n",
            "HTTP request sent, awaiting response... 200 OK\n",
            "Length: 10359319 (9.9M) [text/plain]\n",
            "Saving to: ‘relations_with_concepts.csv’\n",
            "\n",
            "relations_with_conc 100%[===================>]   9.88M  65.4MB/s    in 0.2s    \n",
            "\n",
            "2019-12-23 22:30:55 (65.4 MB/s) - ‘relations_with_concepts.csv’ saved [10359319/10359319]\n",
            "\n"
          ],
          "name": "stdout"
        }
      ]
    },
    {
      "cell_type": "code",
      "metadata": {
        "id": "OkTTL8uZELUr",
        "colab_type": "code",
        "colab": {}
      },
      "source": [
        "# import csv\n",
        "\n",
        "# rels_list = []\n",
        "# with open(\"relations_with_concepts.csv\", newline='', encoding='utf8') as rels:\n",
        "#     reader = csv.DictReader(rels, delimiter=\"\\t\")\n",
        "#     for row in reader:\n",
        "#         rels_list.append(row)\n",
        "\n",
        "# def get_supc(concept_list, rels_list, has_up=True, depth=0, max_depth=-1):\n",
        "#     \"\"\"\n",
        "#     Find list of all hypernyms of query by level down\n",
        "#     [[level_1], [level_2.1, level_2.2], [level_3.1, level_3.2, level_3.3], etc...]\n",
        "\n",
        "#     :param concept_list: search input\n",
        "#     :param rels_list: imported set of relations\n",
        "#     :param max_depth: maximum allowed number of hyponyms\n",
        "#     :param has_up: (internal) bool(current top concept has a subconcept)\n",
        "#     :param depth: (internal) current depth in the ontology\n",
        "#     :return: list of subconcepts for every meaning of query\n",
        "#     \"\"\"\n",
        "#     if (not has_up) or depth >= max_depth > 0:\n",
        "#         return concept_list\n",
        "#     has_up = False\n",
        "#     new_list = []\n",
        "#     for word in concept_list[-1]:\n",
        "#         for row in rels_list:\n",
        "#             if row['from'].lower() == word.lower() and row['relation'] == 'ВЫШЕ':\n",
        "#                 if all(row['to'].lower() not in hypo for hypo in concept_list):\n",
        "#                     new_list.append(row['to'].lower())\n",
        "#                     has_up = True\n",
        "#     if has_up:\n",
        "#         concept_list.append(new_list)\n",
        "#     return get_supc(concept_list, rels_list, has_up, depth + 1, max_depth)"
      ],
      "execution_count": 0,
      "outputs": []
    },
    {
      "cell_type": "code",
      "metadata": {
        "id": "J4c1CWhloFR8",
        "colab_type": "code",
        "colab": {}
      },
      "source": [
        "# from collections import namedtuple # for output\n",
        "# word2output = namedtuple('word2output', ['aspect', 'word', 'score'])\n",
        "\n",
        "# final_words = []\n",
        "# food = ['еда', 'пища', 'блюдо', 'продукты питания']\n",
        "# service = ['обслуживание', 'сервис', 'персонал', 'услуга', 'должность',\n",
        "#            'обслуживающий персонал']"
      ],
      "execution_count": 0,
      "outputs": []
    },
    {
      "cell_type": "code",
      "metadata": {
        "id": "uwBNYkRuFn2G",
        "colab_type": "code",
        "colab": {}
      },
      "source": [
        "# because of runtime i made this. should be deleted\n",
        "# NEGATIVE = ['человек', 'официант', 'ждать', 'официантка', 'туда', 'заказ', 'заказать', 'решить', 'принести', 'сказать', 'вообще', 'минута', 'администратор', 'счёт']\n",
        "# POSITIVE = ['всегда', 'интерьер', 'вкусно', 'много', 'отличный', 'спасибо', 'приятный', 'быстро', 'атмосфера', 'самый', 'место', 'десерт', 'весь', 'кухня', 'вкусный', 'музыка', 'хороший', 'очень', 'хотеться', 'понравиться', 'уютный', 'вкус', 'выбор', 'персонал', 'соус', 'хорошо']"
      ],
      "execution_count": 0,
      "outputs": []
    },
    {
      "cell_type": "code",
      "metadata": {
        "id": "xeLdqFyXFXd5",
        "colab_type": "code",
        "outputId": "aed3c407-bd73-4a15-ea80-fcdc76ea6283",
        "colab": {
          "base_uri": "https://localhost:8080/"
        }
      },
      "source": [
        "# for word in POSITIVE:\n",
        "#   hyperonims = get_supc([[word]], rels_list)\n",
        "#   for hyperonim in hyperonims:\n",
        "#     hyperonim = ' '.join(hyperonim) if isinstance(hyperonim,list) else hyperonim\n",
        "#     for item in food:\n",
        "#       if item in hyperonim:\n",
        "#         final_words.append(word2output('Food', word, 1))\n",
        "#     for item in service:\n",
        "#       if item in hyperonim:\n",
        "#         final_words.append(word2output('Service', word, 1))\n",
        "\n",
        "# for word in NEGATIVE:\n",
        "#   hyperonims = get_supc([[word]], rels_list)\n",
        "#   for hyperonim in hyperonims:\n",
        "#     hyperonim = ' '.join(hyperonim) if isinstance(hyperonim,list) else hyperonim\n",
        "#     for item in food:\n",
        "#       if item in hyperonim:\n",
        "#         final_words.append(word2output('Food', word, 0))\n",
        "#     for item in service:\n",
        "#       if item in hyperonim:\n",
        "#         final_words.append(word2output('Service', word, 0))\n",
        "    \n",
        "\n",
        "# final_words = list(set(final_words))\n",
        "# print(final_words)\n",
        "# print(len(final_words))"
      ],
      "execution_count": 0,
      "outputs": [
        {
          "output_type": "stream",
          "text": [
            "[word2output(aspect='Service', word='официант', score=0), word2output(aspect='Service', word='администратор', score=0), word2output(aspect='Service', word='персонал', score=1), word2output(aspect='Food', word='соус', score=1), word2output(aspect='Food', word='вино', score=1), word2output(aspect='Food', word='десерт', score=1)]\n",
            "6\n"
          ],
          "name": "stdout"
        }
      ]
    },
    {
      "cell_type": "markdown",
      "metadata": {
        "id": "ecCHPjyjtcnh",
        "colab_type": "text"
      },
      "source": [
        "Добавляется мало слов, потому что не находятся гиперонимы (см. ячейку ниже)"
      ]
    },
    {
      "cell_type": "code",
      "metadata": {
        "id": "Mh6MPj-CF8yC",
        "colab_type": "code",
        "outputId": "d5500772-8829-4ace-c392-9e495c9ab726",
        "colab": {
          "base_uri": "https://localhost:8080/"
        }
      },
      "source": [
        "# for word in NEGATIVE:\n",
        "#   print('WORD:', word)\n",
        "#   print(get_supc([[word]], rels_list))"
      ],
      "execution_count": 0,
      "outputs": [
        {
          "output_type": "stream",
          "text": [
            "WORD: человек\n",
            "[['человек'], ['живой организм', 'субъект деятельности'], ['биологическая сущность', 'постоянная сущность'], ['физическая сущность']]\n",
            "WORD: официантка\n",
            "[['официантка']]\n",
            "WORD: счёт\n",
            "[['счёт']]\n",
            "WORD: заказать\n",
            "[['заказать']]\n",
            "WORD: туда\n",
            "[['туда']]\n",
            "WORD: вообще\n",
            "[['вообще']]\n",
            "WORD: заказ\n",
            "[['заказ']]\n",
            "WORD: принести\n",
            "[['принести']]\n",
            "WORD: администратор\n",
            "[['администратор'], ['должностное лицо', 'административная должность'], ['служащий (работник)', 'должность'], ['работник', 'роль, положение, место'], ['человек'], ['живой организм', 'субъект деятельности'], ['биологическая сущность', 'постоянная сущность'], ['физическая сущность']]\n",
            "WORD: минута\n",
            "[['минута']]\n",
            "WORD: сказать\n",
            "[['сказать']]\n",
            "WORD: ждать\n",
            "[['ждать']]\n",
            "WORD: решить\n",
            "[['решить']]\n",
            "WORD: официант\n",
            "[['официант'], ['обслуживающий персонал', 'работник общественного питания'], ['работник', 'работник'], ['человек', 'человек'], ['живой организм', 'субъект деятельности', 'живой организм', 'субъект деятельности'], ['биологическая сущность', 'постоянная сущность', 'биологическая сущность', 'постоянная сущность'], ['физическая сущность', 'физическая сущность']]\n"
          ],
          "name": "stdout"
        }
      ]
    },
    {
      "cell_type": "markdown",
      "metadata": {
        "id": "JDW1Y8FQIkx5",
        "colab_type": "text"
      },
      "source": [
        "## Wiki_ru_wordnet"
      ]
    },
    {
      "cell_type": "code",
      "metadata": {
        "id": "PdEEex9aIrNa",
        "colab_type": "code",
        "colab": {}
      },
      "source": [
        "# import nltk\n",
        "# !pip install wiki_ru_wordnet"
      ],
      "execution_count": 0,
      "outputs": []
    },
    {
      "cell_type": "code",
      "metadata": {
        "id": "F3RxUzhHJGX7",
        "colab_type": "code",
        "colab": {}
      },
      "source": [
        "# from wiki_ru_wordnet import WikiWordnet\n",
        "# import re\n",
        "# wikiwordnet = WikiWordnet()"
      ],
      "execution_count": 0,
      "outputs": []
    },
    {
      "cell_type": "code",
      "metadata": {
        "id": "72IXEmZlM-KO",
        "colab_type": "code",
        "outputId": "a2e9bec3-2837-4b5f-c222-3233339cffa3",
        "colab": {
          "base_uri": "https://localhost:8080/",
          "height": 910
        }
      },
      "source": [
        "# for word in POSITIVE:\n",
        "#   print('word', word)\n",
        "#   synsets = wikiwordnet.get_synsets(word)\n",
        "#   if len(synsets) == 0:\n",
        "#     continue\n",
        "#   else:\n",
        "#     for synset in synsets:\n",
        "#       for hypernym in wikiwordnet.get_hypernyms(synset):\n",
        "#         hyperonims = [w.lemma() for w in hypernym.get_words()]\n",
        "#         print('hyperonims for word {}: {}'.format(word, hyperonims))\n",
        "#         for aspect in food:\n",
        "#           if aspect in hyperonims:\n",
        "#             print('WE FOUND EDA')\n",
        "#         for aspect in service:\n",
        "#           if aspect in hyperonims:\n",
        "#             print('WE FOUND SERVICE')"
      ],
      "execution_count": 0,
      "outputs": [
        {
          "output_type": "stream",
          "text": [
            "word всегда\n",
            "hyperonims for word всегда: ['местоименное наречие']\n",
            "word интерьер\n",
            "word вкусно\n",
            "hyperonims for word вкусно: ['приятно']\n",
            "word много\n",
            "hyperonims for word много: ['избыток']\n",
            "hyperonims for word много: ['множество']\n",
            "hyperonims for word много: ['единица', 'мера']\n",
            "word отличный\n",
            "hyperonims for word отличный: ['иной']\n",
            "hyperonims for word отличный: ['остальной', 'прочий', 'другой', 'иной']\n",
            "hyperonims for word отличный: ['необычный', 'необыкновенный', 'непривычный', 'странный', 'причудливый', 'чудной']\n",
            "hyperonims for word отличный: ['шикарный', 'роскошный', 'богатый']\n",
            "hyperonims for word отличный: ['хороший']\n",
            "hyperonims for word отличный: ['пригожий', 'привлекательный', 'смазливый', 'симпатичный', 'приятный', 'хорошенький', 'красивый', 'миловидный']\n",
            "word спасибо\n",
            "hyperonims for word спасибо: ['признательность']\n",
            "word приятный\n",
            "hyperonims for word приятный: ['кузявый']\n",
            "hyperonims for word приятный: ['кузявый']\n",
            "word быстро\n",
            "hyperonims for word быстро: ['быстренько']\n",
            "word атмосфера\n",
            "hyperonims for word атмосфера: ['смесь']\n",
            "word самый\n",
            "hyperonims for word самый: ['как раз']\n",
            "hyperonims for word самый: ['именно', 'точно']\n",
            "word место\n",
            "hyperonims for word место: ['чистина']\n",
            "word десерт\n",
            "hyperonims for word десерт: ['еда', 'кушанье']\n",
            "WE FOUND EDA\n",
            "word весь\n",
            "hyperonims for word весь: ['племя']\n",
            "word кухня\n",
            "hyperonims for word кухня: ['корпусная мебель']\n",
            "word вкусный\n",
            "word музыка\n",
            "hyperonims for word музыка: ['музыкальный инструмент']\n",
            "word хороший\n",
            "word очень\n",
            "word хотеться\n",
            "word понравиться\n",
            "word уютный\n",
            "word вкус\n",
            "word выбор\n",
            "hyperonims for word выбор: ['мера', 'мероприятие']\n",
            "word персонал\n",
            "word соус\n",
            "word хорошо\n",
            "hyperonims for word хорошо: ['шикарно']\n"
          ],
          "name": "stdout"
        }
      ]
    },
    {
      "cell_type": "markdown",
      "metadata": {
        "id": "kP179r_-lkuZ",
        "colab_type": "text"
      },
      "source": [
        "## Yet another try to find aspect - ADAGRAM"
      ]
    },
    {
      "cell_type": "markdown",
      "metadata": {
        "id": "pQepygfKva5P",
        "colab_type": "text"
      },
      "source": [
        "Идея такая: Подрубить Адаграм. Посмотреть для POSITIVE и NEGATIVE на соседей, с которыми они встречаются. Если есть что-то из списка FOOD or SERIVICE - добавляем в final_words"
      ]
    },
    {
      "cell_type": "code",
      "metadata": {
        "id": "No6U5crpwNKJ",
        "colab_type": "code",
        "outputId": "0be0cdfb-260f-4c9c-d0c1-926d4b671a1f",
        "colab": {
          "base_uri": "https://localhost:8080/",
          "height": 272
        }
      },
      "source": [
        "# !pip install git+https://github.com/lopuhin/python-adagram.git"
      ],
      "execution_count": 0,
      "outputs": [
        {
          "output_type": "stream",
          "text": [
            "Collecting git+https://github.com/lopuhin/python-adagram.git\n",
            "  Cloning https://github.com/lopuhin/python-adagram.git to /tmp/pip-req-build-d0sta04w\n",
            "  Running command git clone -q https://github.com/lopuhin/python-adagram.git /tmp/pip-req-build-d0sta04w\n",
            "Requirement already satisfied: cython in /usr/local/lib/python3.6/dist-packages (from adagram==0.0.1) (0.29.14)\n",
            "Requirement already satisfied: joblib in /usr/local/lib/python3.6/dist-packages (from adagram==0.0.1) (0.14.1)\n",
            "Requirement already satisfied: numpy>=1.9 in /usr/local/lib/python3.6/dist-packages (from adagram==0.0.1) (1.17.4)\n",
            "Requirement already satisfied: six in /usr/local/lib/python3.6/dist-packages (from adagram==0.0.1) (1.12.0)\n",
            "Building wheels for collected packages: adagram\n",
            "  Building wheel for adagram (setup.py) ... \u001b[?25l\u001b[?25hdone\n",
            "  Created wheel for adagram: filename=adagram-0.0.1-cp36-cp36m-linux_x86_64.whl size=464594 sha256=d03658ed64481cf2fac327fa9e2f9aa13486ecb0aac66444b4a4dc7e22e26913\n",
            "  Stored in directory: /tmp/pip-ephem-wheel-cache-b3rug6kb/wheels/11/0f/46/f5df96670df8f7973b4c2311ffc9b02e435a7bd3207f992c4d\n",
            "Successfully built adagram\n",
            "Installing collected packages: adagram\n",
            "Successfully installed adagram-0.0.1\n"
          ],
          "name": "stdout"
        }
      ]
    },
    {
      "cell_type": "code",
      "metadata": {
        "id": "8pXPZnlHwFxi",
        "colab_type": "code",
        "colab": {}
      },
      "source": [
        "# import adagram"
      ],
      "execution_count": 0,
      "outputs": []
    },
    {
      "cell_type": "code",
      "metadata": {
        "id": "Yb27s3ZCloP7",
        "colab_type": "code",
        "outputId": "2397a7cf-9d77-47aa-def8-3f5b641718ec",
        "colab": {
          "base_uri": "https://localhost:8080/",
          "height": 222
        }
      },
      "source": [
        "# !wget https://s3.amazonaws.com/kostia.lopuhin/all.a010.p10.d300.w5.m100.nonorm.slim.joblib"
      ],
      "execution_count": 0,
      "outputs": [
        {
          "output_type": "stream",
          "text": [
            "--2019-12-22 01:55:40--  https://s3.amazonaws.com/kostia.lopuhin/all.a010.p10.d300.w5.m100.nonorm.slim.joblib\n",
            "Resolving s3.amazonaws.com (s3.amazonaws.com)... 52.216.142.198\n",
            "Connecting to s3.amazonaws.com (s3.amazonaws.com)|52.216.142.198|:443... connected.\n",
            "HTTP request sent, awaiting response... 200 OK\n",
            "Length: 1462416741 (1.4G) [application/x-www-form-urlencoded]\n",
            "Saving to: ‘all.a010.p10.d300.w5.m100.nonorm.slim.joblib’\n",
            "\n",
            "all.a010.p10.d300.w 100%[===================>]   1.36G  70.0MB/s    in 20s     \n",
            "\n",
            "2019-12-22 01:56:00 (70.2 MB/s) - ‘all.a010.p10.d300.w5.m100.nonorm.slim.joblib’ saved [1462416741/1462416741]\n",
            "\n"
          ],
          "name": "stdout"
        }
      ]
    },
    {
      "cell_type": "code",
      "metadata": {
        "id": "aYNCKhpgv1Ih",
        "colab_type": "code",
        "colab": {}
      },
      "source": [
        "# vm = adagram.VectorModel.load('all.a010.p10.d300.w5.m100.nonorm.slim.joblib')"
      ],
      "execution_count": 0,
      "outputs": []
    },
    {
      "cell_type": "code",
      "metadata": {
        "id": "3a1pnaCCw2PU",
        "colab_type": "code",
        "outputId": "762ec559-845f-4eb5-ac6c-b0d8164ebc4d",
        "colab": {
          "base_uri": "https://localhost:8080/",
          "height": 104
        }
      },
      "source": [
        "# for word in POSITIVE:\n",
        "#   try:\n",
        "#     definitions = vm.word_sense_probs(word)\n",
        "#   except:\n",
        "#     continue\n",
        "#   for i, _ in enumerate(definitions):\n",
        "#     neighbors = vm.sense_neighbors(word, i)\n",
        "#     for neighbor in neighbors:\n",
        "#       if neighbor[0] in food:\n",
        "#         #print(neighbor[0], word, food)\n",
        "#         final_words.append(word2output('Food', word, 1))\n",
        "#       if neighbor[0] in service:\n",
        "#         #print(neighbor[0], word, service)\n",
        "#         final_words.append(word2output('Service', word, 1))\n",
        "\n",
        "# for word in NEGATIVE:\n",
        "#   try:\n",
        "#     definitions = vm.word_sense_probs(word)\n",
        "#   except:\n",
        "#     continue\n",
        "#   for i, _ in enumerate(definitions):\n",
        "#     neighbors = vm.sense_neighbors(word, i)\n",
        "#     for neighbor in neighbors:\n",
        "#       if neighbor[0] in food:\n",
        "#         #print(neighbor[0], word, food)\n",
        "#         final_words.append(word2output('Food', word, 0))\n",
        "#       if neighbor[0] in service:\n",
        "#         #print(neighbor[0], word, service)\n",
        "#         final_words.append(word2output('Service', word, 0))\n",
        "\n",
        "# final_words = list(set(final_words))\n",
        "# print(final_words)\n",
        "# print(len(final_words))"
      ],
      "execution_count": 0,
      "outputs": [
        {
          "output_type": "stream",
          "text": [
            "/usr/local/lib/python3.6/dist-packages/adagram/model.py:124: RuntimeWarning: invalid value encountered in true_divide\n",
            "  sim_matrix = np.dot(self.In, s_v) / self.InNorms\n"
          ],
          "name": "stderr"
        },
        {
          "output_type": "stream",
          "text": [
            "[word2output(aspect='Service', word='персонал', score=1), word2output(aspect='Food', word='вкус', score=1), word2output(aspect='Service', word='администратор', score=0), word2output(aspect='Service', word='официант', score=0), word2output(aspect='Food', word='соус', score=1), word2output(aspect='Food', word='кухня', score=1), word2output(aspect='Food', word='вкусный', score=1), word2output(aspect='Food', word='десерт', score=1)]\n",
            "8\n"
          ],
          "name": "stdout"
        }
      ]
    },
    {
      "cell_type": "markdown",
      "metadata": {
        "id": "DdSviAKSde4h",
        "colab_type": "text"
      },
      "source": [
        "## TO OUTPUT FILE"
      ]
    },
    {
      "cell_type": "markdown",
      "metadata": {
        "id": "QhM33ZTadnIF",
        "colab_type": "text"
      },
      "source": [
        "Writing final_words to output txt file in the right format. Each element in final_word is a namedtuple with structure: word2output = namedtuple('word2output', ['aspect', 'word', 'score'])"
      ]
    },
    {
      "cell_type": "code",
      "metadata": {
        "id": "TCi1GDzbdhOm",
        "colab_type": "code",
        "colab": {}
      },
      "source": [
        "# final_words = [word2output('Service', 'официант', '0'),  word2output('Service', 'официант', '0')]\n",
        "# word2output = namedtuple('word2output', ['aspect', 'word', 'score'])"
      ],
      "execution_count": 0,
      "outputs": []
    },
    {
      "cell_type": "code",
      "metadata": {
        "id": "joE1Lilzdl5Q",
        "colab_type": "code",
        "colab": {}
      },
      "source": [
        "# with open('output_task1.txt', 'w', encoding='utf-8') as f:\n",
        "#     for item in final_words:\n",
        "#         f.write('{}\\t{}\\t{}\\n'.format(item.aspect, item.word, item.score))"
      ],
      "execution_count": 0,
      "outputs": []
    },
    {
      "cell_type": "code",
      "metadata": {
        "colab_type": "code",
        "outputId": "dff2ff88-06f5-4efa-b2f0-cfa2e3403423",
        "id": "V04_ytVB1UZu",
        "colab": {
          "base_uri": "https://localhost:8080/",
          "height": 406
        }
      },
      "source": [
        "# # На случай если нужно расширить именно те файлы, ссылки на которые даны в гугл доке\n",
        "# # Тут ссылки неправильные, исправьте плиз если нужно будет все таки в эти файлы записывать, а не один новый создать\n",
        "# !wget -O food.txt https://docs.google.com/document/d/1niutB_Vz8giXd6Fiv5dQ_3JXOqg9Vs7eMXMgAdsyF-c/edit\n",
        "# !wget -O service.txt https://drive.google.com/file/d/1EdOueBXcT8KyDdcGylTkskfAc-dGcSyF/view"
      ],
      "execution_count": 0,
      "outputs": [
        {
          "output_type": "stream",
          "text": [
            "--2019-12-21 23:39:39--  https://docs.google.com/document/d/1niutB_Vz8giXd6Fiv5dQ_3JXOqg9Vs7eMXMgAdsyF-c/edit\n",
            "Resolving docs.google.com (docs.google.com)... 74.125.195.101, 74.125.195.102, 74.125.195.139, ...\n",
            "Connecting to docs.google.com (docs.google.com)|74.125.195.101|:443... connected.\n",
            "HTTP request sent, awaiting response... 200 OK\n",
            "Length: unspecified [text/html]\n",
            "Saving to: ‘food.txt’\n",
            "\n",
            "\rfood.txt                [<=>                 ]       0  --.-KB/s               \rfood.txt                [ <=>                ] 124.60K  --.-KB/s    in 0.06s   \n",
            "\n",
            "2019-12-21 23:39:40 (1.97 MB/s) - ‘food.txt’ saved [127591]\n",
            "\n",
            "--2019-12-21 23:39:40--  https://drive.google.com/file/d/1EdOueBXcT8KyDdcGylTkskfAc-dGcSyF/view\n",
            "Resolving drive.google.com (drive.google.com)... 74.125.197.138, 74.125.197.100, 74.125.197.139, ...\n",
            "Connecting to drive.google.com (drive.google.com)|74.125.197.138|:443... connected.\n",
            "HTTP request sent, awaiting response... 200 OK\n",
            "Length: unspecified [text/html]\n",
            "Saving to: ‘service.txt’\n",
            "\n",
            "service.txt             [ <=>                ]  67.77K  --.-KB/s    in 0.03s   \n",
            "\n",
            "2019-12-21 23:39:41 (1.92 MB/s) - ‘service.txt’ saved [69400]\n",
            "\n"
          ],
          "name": "stdout"
        }
      ]
    },
    {
      "cell_type": "code",
      "metadata": {
        "id": "n5KIRPn50Gj1",
        "colab_type": "code",
        "colab": {}
      },
      "source": [
        "# with open('food.txt', 'a', encoding='utf-8') as f:\n",
        "#   for item in final_words:\n",
        "#     if item.aspect == 'Food':\n",
        "#       f.write('{}\\t{}\\t{}\\n'.format(item.aspect, item.word, item.score))\n",
        "# with open('service.txt', 'a', encoding='utf-8') as f:\n",
        "#   for item in final_words:\n",
        "#     if item.aspect == 'Service':\n",
        "#       f.write('{}\\t{}\\t{}\\n'.format(item.aspect, item.word, item.score))"
      ],
      "execution_count": 0,
      "outputs": []
    },
    {
      "cell_type": "markdown",
      "metadata": {
        "id": "DMEHyyn-YGk8",
        "colab_type": "text"
      },
      "source": [
        "# 2. CNN"
      ]
    },
    {
      "cell_type": "markdown",
      "metadata": {
        "id": "HLTAhVEGM5k-",
        "colab_type": "text"
      },
      "source": [
        "### Seminar corpus - skip if you want to run cnn on development corpus"
      ]
    },
    {
      "cell_type": "code",
      "metadata": {
        "id": "048K2wEsM9_V",
        "colab_type": "code",
        "outputId": "6eb16648-d821-4fcd-c0ee-710df3affc8e",
        "colab": {
          "base_uri": "https://localhost:8080/",
          "height": 386
        }
      },
      "source": [
        "# !wget https://raw.githubusercontent.com/sjut/HSE-Compling/master/seminars/data/reviews_tok.txt\n",
        "# !wget https://raw.githubusercontent.com/sjut/HSE-Compling/master/seminars/data/reviews_scores.txt"
      ],
      "execution_count": 0,
      "outputs": [
        {
          "output_type": "stream",
          "text": [
            "--2019-12-22 22:40:25--  https://raw.githubusercontent.com/sjut/HSE-Compling/master/seminars/data/reviews_tok.txt\n",
            "Resolving raw.githubusercontent.com (raw.githubusercontent.com)... 151.101.0.133, 151.101.64.133, 151.101.128.133, ...\n",
            "Connecting to raw.githubusercontent.com (raw.githubusercontent.com)|151.101.0.133|:443... connected.\n",
            "HTTP request sent, awaiting response... 200 OK\n",
            "Length: 8489426 (8.1M) [text/plain]\n",
            "Saving to: ‘reviews_tok.txt’\n",
            "\n",
            "\rreviews_tok.txt       0%[                    ]       0  --.-KB/s               \rreviews_tok.txt     100%[===================>]   8.10M  --.-KB/s    in 0.1s    \n",
            "\n",
            "2019-12-22 22:40:25 (62.4 MB/s) - ‘reviews_tok.txt’ saved [8489426/8489426]\n",
            "\n",
            "--2019-12-22 22:40:27--  https://raw.githubusercontent.com/sjut/HSE-Compling/master/seminars/data/reviews_scores.txt\n",
            "Resolving raw.githubusercontent.com (raw.githubusercontent.com)... 151.101.0.133, 151.101.64.133, 151.101.128.133, ...\n",
            "Connecting to raw.githubusercontent.com (raw.githubusercontent.com)|151.101.0.133|:443... connected.\n",
            "HTTP request sent, awaiting response... 200 OK\n",
            "Length: 37305 (36K) [text/plain]\n",
            "Saving to: ‘reviews_scores.txt’\n",
            "\n",
            "reviews_scores.txt  100%[===================>]  36.43K  --.-KB/s    in 0.01s   \n",
            "\n",
            "2019-12-22 22:40:27 (2.89 MB/s) - ‘reviews_scores.txt’ saved [37305/37305]\n",
            "\n"
          ],
          "name": "stdout"
        }
      ]
    },
    {
      "cell_type": "code",
      "metadata": {
        "id": "jk2NZUy8NFfI",
        "colab_type": "code",
        "colab": {}
      },
      "source": [
        "# texts = []\n",
        "# with open(\"reviews_tok.txt\") as f:\n",
        "#     for line in f:\n",
        "#         texts.append(line.rstrip('\\r\\n').split())\n",
        "# scores = []\n",
        "# with open(\"reviews_scores.txt\") as f:\n",
        "#     scores = list(map(lambda x: float(x.rstrip(\"\\r\\n\")), f.readlines()))"
      ],
      "execution_count": 0,
      "outputs": []
    },
    {
      "cell_type": "code",
      "metadata": {
        "id": "t6Ije_29NRFP",
        "colab_type": "code",
        "outputId": "8879ac35-ca5c-429b-8e8e-aab8ee9b3bc9",
        "colab": {
          "base_uri": "https://localhost:8080/",
          "height": 34
        }
      },
      "source": [
        "# scores = np.array(scores)\n",
        "# binary_scores = scores > 5.\n",
        "# print(binary_scores[0])\n",
        "# binary_scores = binary_scores.astype(int)[:2994]"
      ],
      "execution_count": 0,
      "outputs": [
        {
          "output_type": "stream",
          "text": [
            "True\n"
          ],
          "name": "stdout"
        }
      ]
    },
    {
      "cell_type": "code",
      "metadata": {
        "id": "PmH9MeE4xPqv",
        "colab_type": "code",
        "outputId": "010407e7-fd41-40f7-cc2f-1d49d20ddd65",
        "colab": {
          "base_uri": "https://localhost:8080/",
          "height": 269
        }
      },
      "source": [
        "# texts[0]"
      ],
      "execution_count": 0,
      "outputs": [
        {
          "output_type": "execute_result",
          "data": {
            "text/plain": [
              "['понравиться_VERB',\n",
              " '._PUNCT',\n",
              " 'не_PART',\n",
              " 'супер_NOUN',\n",
              " '-_PUNCT',\n",
              " 'пупер_NOUN',\n",
              " ',_PUNCT',\n",
              " 'но_CCONJ',\n",
              " 'вполне_ADV',\n",
              " 'мять_VERB',\n",
              " ',_PUNCT',\n",
              " 'вкусно_ADV',\n",
              " 'и_PART',\n",
              " 'ценник_NOUN',\n",
              " 'демократичный_ADJ']"
            ]
          },
          "metadata": {
            "tags": []
          },
          "execution_count": 41
        }
      ]
    },
    {
      "cell_type": "markdown",
      "metadata": {
        "id": "m2RddXWEM_4c",
        "colab_type": "text"
      },
      "source": [
        "### Development corpus"
      ]
    },
    {
      "cell_type": "code",
      "metadata": {
        "id": "GPrpbZWly-EV",
        "colab_type": "code",
        "colab": {}
      },
      "source": [
        "# with open(os.path.join(drive_prefix, 'texts.txt'), 'w', encoding='utf-8') as f:\n",
        "#     f.write('\\n'.join(texts_with_replacements))"
      ],
      "execution_count": 0,
      "outputs": []
    },
    {
      "cell_type": "code",
      "metadata": {
        "id": "BYt1zN4xhEeC",
        "colab_type": "code",
        "outputId": "d1ba4bf1-f346-4031-ec12-657f18b7a0d9",
        "colab": {
          "base_uri": "https://localhost:8080/",
          "height": 34
        }
      },
      "source": [
        "# !chmod 777 /content/drive/My\\ Drive/udpipe/bin-linux64/udpipe\n",
        "# !/content/drive/My\\ Drive/udpipe/bin-linux64/udpipe --input horizontal --output conllu \\\n",
        "# --tokenize --tag --parse \\\n",
        "# /content/drive/My\\ Drive/russian-syntagrus.udpipe \\\n",
        "# < /content/drive/My\\ Drive/texts.txt > /content/drive/My\\ Drive/texts.conllu"
      ],
      "execution_count": 0,
      "outputs": [
        {
          "output_type": "stream",
          "text": [
            "Loading UDPipe model: done.\n"
          ],
          "name": "stdout"
        }
      ]
    },
    {
      "cell_type": "code",
      "metadata": {
        "id": "pfl_kYS0Ckfh",
        "colab_type": "code",
        "outputId": "beb01fe2-448a-49d9-f689-ed3b9540e4ad",
        "colab": {
          "base_uri": "https://localhost:8080/",
          "height": 34
        }
      },
      "source": [
        "# texts = []\n",
        "\n",
        "# with open(os.path.join(drive_prefix, 'texts.conllu'), 'r', encoding='utf-8') as f:\n",
        "#     parsed_sents = f.read().split('\\n\\n')\n",
        "#     text_num = 0\n",
        "#     texts.append([])\n",
        "#     word_num = 0\n",
        "#     for sent in tqdm(parsed_sents, desc=\"Sentences\", total=len(parsed_sents)):\n",
        "#         tree = [line for line in sent.split('\\n') if line and line[0] != '#']\n",
        "#         for word in tree:\n",
        "#             _, lemma, _, pos, *_ = word.split('\\t')\n",
        "#             if word_num == len(texts_with_replacements[text_num].split()):\n",
        "#                 texts.append([])\n",
        "#                 text_num += 1\n",
        "#                 word_num = 0\n",
        "#             if ' ' in lemma:\n",
        "#                 lemmas = lemma.split()\n",
        "#             else:\n",
        "#                 lemmas = [lemma]\n",
        "\n",
        "#             for lemma in lemmas:\n",
        "#                 if word_num == len(texts_with_replacements[text_num].split()):\n",
        "#                     texts.append([])\n",
        "#                     text_num += 1\n",
        "#                     word_num = 0\n",
        "#                 if lemma == texts_with_replacements[text_num].split()[word_num]:\n",
        "#                     word_num += 1\n",
        "#                 elif texts_with_replacements[text_num].split()[word_num].endswith(lemma):\n",
        "#                     word_num += 1\n",
        "#                 if '_' in lemma:\n",
        "#                     texts[-1].append(f'{lemma}_X')\n",
        "#                 else:\n",
        "#                     texts[-1].append(f'{lemma}_{pos}')"
      ],
      "execution_count": 0,
      "outputs": [
        {
          "output_type": "stream",
          "text": [
            "Sentences: 100%|██████████| 4114/4114 [02:01<00:00, 33.82it/s]\n"
          ],
          "name": "stderr"
        }
      ]
    },
    {
      "cell_type": "code",
      "metadata": {
        "id": "EovatzbtlPdZ",
        "colab_type": "code",
        "colab": {}
      },
      "source": [
        "# with open(os.path.join(drive_prefix, 'texts_with_pos.json'), 'w', encoding='utf-8') as f:\n",
        "#     json.dump(texts, f)"
      ],
      "execution_count": 0,
      "outputs": []
    },
    {
      "cell_type": "code",
      "metadata": {
        "id": "w-ZACEJFsyoF",
        "colab_type": "code",
        "colab": {}
      },
      "source": [
        "with open(os.path.join(drive_prefix, 'texts_with_pos.json'), 'r', encoding='utf-8') as f:\n",
        "    texts = json.load(f)"
      ],
      "execution_count": 0,
      "outputs": []
    },
    {
      "cell_type": "code",
      "metadata": {
        "id": "Lkxr4Fv5RhBL",
        "colab_type": "code",
        "colab": {}
      },
      "source": [
        "# # Чтобы в colab-е tqdm хорошо работала\n",
        "# for instance in list(tqdm._instances):\n",
        "#     tqdm._decr_instances(instance)"
      ],
      "execution_count": 0,
      "outputs": []
    },
    {
      "cell_type": "markdown",
      "metadata": {
        "id": "1jWe7CwsYTcr",
        "colab_type": "text"
      },
      "source": [
        "Все это делаем на наших текстах (texts)"
      ]
    },
    {
      "cell_type": "code",
      "metadata": {
        "id": "CywwdMsRbGe6",
        "colab_type": "code",
        "outputId": "18458f53-7e99-4b2f-a3c2-b0b279336eb9",
        "colab": {
          "base_uri": "https://localhost:8080/",
          "height": 286
        }
      },
      "source": [
        "!wget http://vectors.nlpl.eu/repository/11/180.zip\n",
        "!unzip 180.zip"
      ],
      "execution_count": 0,
      "outputs": [
        {
          "output_type": "stream",
          "text": [
            "--2019-12-24 19:41:45--  http://vectors.nlpl.eu/repository/11/180.zip\n",
            "Resolving vectors.nlpl.eu (vectors.nlpl.eu)... 129.240.189.225\n",
            "Connecting to vectors.nlpl.eu (vectors.nlpl.eu)|129.240.189.225|:80... connected.\n",
            "HTTP request sent, awaiting response... 200 OK\n",
            "Length: 484452285 (462M) [application/zip]\n",
            "Saving to: ‘180.zip’\n",
            "\n",
            "180.zip             100%[===================>] 462.01M  23.2MB/s    in 23s     \n",
            "\n",
            "2019-12-24 19:42:09 (20.4 MB/s) - ‘180.zip’ saved [484452285/484452285]\n",
            "\n",
            "Archive:  180.zip\n",
            "  inflating: README                  \n",
            "  inflating: meta.json               \n",
            "  inflating: model.bin               \n",
            "  inflating: model.txt               \n"
          ],
          "name": "stdout"
        }
      ]
    },
    {
      "cell_type": "code",
      "metadata": {
        "id": "IWRxQYk9a84X",
        "colab_type": "code",
        "colab": {}
      },
      "source": [
        "w2v_model = KeyedVectors.load_word2vec_format('model.bin', binary=True)"
      ],
      "execution_count": 0,
      "outputs": []
    },
    {
      "cell_type": "code",
      "metadata": {
        "id": "IEJp_EFFHI8Q",
        "colab_type": "code",
        "colab": {}
      },
      "source": [
        "embedding_dim = w2v_model.vector_size"
      ],
      "execution_count": 0,
      "outputs": []
    },
    {
      "cell_type": "code",
      "metadata": {
        "id": "NMFeJa1IbOzY",
        "colab_type": "code",
        "colab": {}
      },
      "source": [
        "scores_train, scores_val, texts_train, texts_val = train_test_split(\n",
        "    binary_scores[:4000], texts[:4000], test_size=0.3, random_state=42)"
      ],
      "execution_count": 0,
      "outputs": []
    },
    {
      "cell_type": "code",
      "metadata": {
        "id": "OKLQeyvRbXcr",
        "colab_type": "code",
        "colab": {}
      },
      "source": [
        "def max_length(texts):\n",
        "    return max(len(t) for t in texts)"
      ],
      "execution_count": 0,
      "outputs": []
    },
    {
      "cell_type": "code",
      "metadata": {
        "id": "a47P2Sj2bTFE",
        "colab_type": "code",
        "colab": {}
      },
      "source": [
        "MAX_LEN = max(max_length(texts_train), max_length(texts_val))\n",
        "\n",
        "def load_dataset(lines, embedding_dim, num_examples=None):\n",
        "    prep = lines[:num_examples]\n",
        "    vocab = Counter()\n",
        "    x_tensor = np.zeros((len(prep), MAX_LEN, embedding_dim))\n",
        "    for i, text in enumerate(prep):\n",
        "        w = None\n",
        "        for j, w in enumerate(text):\n",
        "            try:\n",
        "                if '_' in w:\n",
        "                    vectors = []\n",
        "                    for ww in w.split('_')[:-1]:\n",
        "                        ww += '_' + pymorphy_to_udpipe(m.parse(ww)[0].tag.POS)\n",
        "                        try:\n",
        "                            vectors.append(w2v_model[ww])\n",
        "                        except KeyError:\n",
        "                            pass\n",
        "                    if vectors:\n",
        "                        x_tensor[i, j, :] = np.mean(np.array(vectors), axis=0)\n",
        "                    else:\n",
        "                        x_tensor[i, j, :] = np.zeros((1, embedding_dim))\n",
        "\n",
        "                else:\n",
        "                    x_tensor[i, j, :] = w2v_model[w]\n",
        "            except KeyError:\n",
        "                pass\n",
        "        if w is not None:\n",
        "            vocab[w] += 1\n",
        "    return x_tensor, vocab"
      ],
      "execution_count": 0,
      "outputs": []
    },
    {
      "cell_type": "code",
      "metadata": {
        "id": "2WmCJxy1bbSt",
        "colab_type": "code",
        "colab": {}
      },
      "source": [
        "input_tensor_train, inp_vocab_train = load_dataset(texts_train, w2v_model.vector_size)\n",
        "# input_tensor_val, inp_vocab_val = load_dataset(texts_val, w2v_model.vector_size)"
      ],
      "execution_count": 0,
      "outputs": []
    },
    {
      "cell_type": "code",
      "metadata": {
        "id": "Yv9-8cW2fYKM",
        "colab_type": "code",
        "outputId": "0549c966-955c-4bac-bb78-0eabb0aa0cfc",
        "colab": {
          "base_uri": "https://localhost:8080/",
          "height": 34
        }
      },
      "source": [
        "# w2v_model.vector_size, input_tensor_train.shape"
      ],
      "execution_count": 0,
      "outputs": [
        {
          "output_type": "execute_result",
          "data": {
            "text/plain": [
              "(300, (2800, 911, 300))"
            ]
          },
          "metadata": {
            "tags": []
          },
          "execution_count": 33
        }
      ]
    },
    {
      "cell_type": "code",
      "metadata": {
        "id": "Mqdy5UrwfwDZ",
        "colab_type": "code",
        "outputId": "57e8d51f-5717-4bb0-dd1e-1f36d6f0d8d5",
        "colab": {
          "base_uri": "https://localhost:8080/",
          "height": 34
        }
      },
      "source": [
        "# scores_train"
      ],
      "execution_count": 0,
      "outputs": [
        {
          "output_type": "execute_result",
          "data": {
            "text/plain": [
              "array([0, 1, 1, ..., 1, 1, 1])"
            ]
          },
          "metadata": {
            "tags": []
          },
          "execution_count": 34
        }
      ]
    },
    {
      "cell_type": "code",
      "metadata": {
        "id": "X97wqkhLfycs",
        "colab_type": "code",
        "outputId": "18e42c10-1f40-4551-b8ee-f76d6f1a5180",
        "colab": {
          "base_uri": "https://localhost:8080/",
          "height": 34
        }
      },
      "source": [
        "# inp_vocab = inp_vocab_train + inp_vocab_val\n",
        "# vocab_inp_size = len(inp_vocab)+1\n",
        "\n",
        "# print(vocab_inp_size)"
      ],
      "execution_count": 0,
      "outputs": [
        {
          "output_type": "stream",
          "text": [
            "1867\n"
          ],
          "name": "stdout"
        }
      ]
    },
    {
      "cell_type": "code",
      "metadata": {
        "id": "AzPVLPEOg54_",
        "colab_type": "code",
        "outputId": "38a6f826-628f-4ee4-a4d7-72ff9bfa8635",
        "colab": {
          "base_uri": "https://localhost:8080/",
          "height": 171
        }
      },
      "source": [
        "# def build_network(max_len, voc_size, embedding_dim, output_n, activation=None, dense_unit=256, dropout_rate=0.25):\n",
        "#     if activation:\n",
        "#         activation = \"relu\"\n",
        "\n",
        "#     net = {}\n",
        "#     net[\"in\"] = keras.Input(shape=[1, max_len, embedding_dim])\n",
        "#     net[\"conv\"] = keras.layers.Conv2D(filters=100, kernel_size=(1,2), strides=(1, 1), padding='valid')(net[\"in\"])\n",
        "#     net[\"pool\"] = keras.layers.MaxPooling2D(pool_size=(1, max_len-1), strides=(1,1))(net[\"conv\"])\n",
        "#     net[\"out\"] = network_base.dense_layer(keras.layers.Flatten()(net[\"pool\"]), units=output_n, activation=activation)\n",
        "#     net[\"sm_out\"] = network_base.softmax(net[\"out\"])\n",
        "\n",
        "\n",
        "#     net.update({\n",
        "#         \"input_shape\": [1, max_len, embedding_dim],\n",
        "#         \"output_n\": output_n,\n",
        "#     })\n",
        "#     return net\n",
        "\n",
        "# net = build_network(MAX_LEN, vocab_inp_size, embedding_dim, 2)\n",
        "# model_without_softmax = keras.models.Model(inputs=net['in'], outputs=net['out'])\n",
        "# model_with_softmax = keras.models.Model(inputs=net['in'], outputs=net['sm_out'])"
      ],
      "execution_count": 0,
      "outputs": [
        {
          "output_type": "stream",
          "text": [
            "WARNING:tensorflow:From /usr/local/lib/python3.6/dist-packages/keras/backend/tensorflow_backend.py:74: The name tf.get_default_graph is deprecated. Please use tf.compat.v1.get_default_graph instead.\n",
            "\n",
            "WARNING:tensorflow:From /usr/local/lib/python3.6/dist-packages/keras/backend/tensorflow_backend.py:517: The name tf.placeholder is deprecated. Please use tf.compat.v1.placeholder instead.\n",
            "\n",
            "WARNING:tensorflow:From /usr/local/lib/python3.6/dist-packages/keras/backend/tensorflow_backend.py:4138: The name tf.random_uniform is deprecated. Please use tf.random.uniform instead.\n",
            "\n",
            "WARNING:tensorflow:From /usr/local/lib/python3.6/dist-packages/keras/backend/tensorflow_backend.py:3976: The name tf.nn.max_pool is deprecated. Please use tf.nn.max_pool2d instead.\n",
            "\n"
          ],
          "name": "stdout"
        }
      ]
    },
    {
      "cell_type": "code",
      "metadata": {
        "id": "lmcUHd2mhKRj",
        "colab_type": "code",
        "outputId": "066c63eb-cb14-4b2b-b76f-6427a83bd6bb",
        "colab": {
          "base_uri": "https://localhost:8080/",
          "height": 302
        }
      },
      "source": [
        "# model_without_softmax.summary()"
      ],
      "execution_count": 0,
      "outputs": [
        {
          "output_type": "stream",
          "text": [
            "_________________________________________________________________\n",
            "Layer (type)                 Output Shape              Param #   \n",
            "=================================================================\n",
            "input_1 (InputLayer)         (None, 1, 911, 300)       0         \n",
            "_________________________________________________________________\n",
            "conv2d_1 (Conv2D)            (None, 1, 910, 100)       60100     \n",
            "_________________________________________________________________\n",
            "max_pooling2d_1 (MaxPooling2 (None, 1, 1, 100)         0         \n",
            "_________________________________________________________________\n",
            "flatten_1 (Flatten)          (None, 100)               0         \n",
            "_________________________________________________________________\n",
            "dense_1 (Dense)              (None, 2)                 202       \n",
            "=================================================================\n",
            "Total params: 60,302\n",
            "Trainable params: 60,302\n",
            "Non-trainable params: 0\n",
            "_________________________________________________________________\n"
          ],
          "name": "stdout"
        }
      ]
    },
    {
      "cell_type": "code",
      "metadata": {
        "id": "qI3WoO-phqXg",
        "colab_type": "code",
        "colab": {}
      },
      "source": [
        "# def to_one_hot(y):\n",
        "#     return keras.utils.to_categorical(y, 2)\n",
        "\n",
        "# def train_model(model, epochs=20):\n",
        "    \n",
        "#     x_train = np.expand_dims(input_tensor_train, axis=1)\n",
        "#     y_train = to_one_hot(scores_train)\n",
        "    \n",
        "#     x_val = np.expand_dims(input_tensor_val, axis=1)\n",
        "#     y_val = to_one_hot(scores_val)\n",
        "\n",
        "#     model.compile(loss='categorical_crossentropy',\n",
        "#                   optimizer=keras.optimizers.Adam(),\n",
        "#                   metrics=['accuracy'])\n",
        "\n",
        "#     history = model.fit(x_train, y_train,\n",
        "#                         batch_size=256,\n",
        "#                         epochs=epochs,\n",
        "#                         verbose=1,\n",
        "#                         validation_data=(x_val, y_val),\n",
        "#                         shuffle=True\n",
        "#                        )"
      ],
      "execution_count": 0,
      "outputs": []
    },
    {
      "cell_type": "code",
      "metadata": {
        "id": "YnwixQajiLhF",
        "colab_type": "code",
        "outputId": "c63bde38-401e-4be5-d1a8-91629a5ffe46",
        "colab": {
          "base_uri": "https://localhost:8080/",
          "height": 1000
        }
      },
      "source": [
        "# train_model(model_with_softmax, epochs=50)"
      ],
      "execution_count": 0,
      "outputs": [
        {
          "output_type": "stream",
          "text": [
            "WARNING:tensorflow:From /usr/local/lib/python3.6/dist-packages/keras/optimizers.py:790: The name tf.train.Optimizer is deprecated. Please use tf.compat.v1.train.Optimizer instead.\n",
            "\n",
            "WARNING:tensorflow:From /usr/local/lib/python3.6/dist-packages/keras/backend/tensorflow_backend.py:3295: The name tf.log is deprecated. Please use tf.math.log instead.\n",
            "\n",
            "WARNING:tensorflow:From /usr/local/lib/python3.6/dist-packages/tensorflow_core/python/ops/math_grad.py:1424: where (from tensorflow.python.ops.array_ops) is deprecated and will be removed in a future version.\n",
            "Instructions for updating:\n",
            "Use tf.where in 2.0, which has the same broadcast rule as np.where\n",
            "WARNING:tensorflow:From /usr/local/lib/python3.6/dist-packages/keras/backend/tensorflow_backend.py:986: The name tf.assign_add is deprecated. Please use tf.compat.v1.assign_add instead.\n",
            "\n",
            "WARNING:tensorflow:From /usr/local/lib/python3.6/dist-packages/keras/backend/tensorflow_backend.py:973: The name tf.assign is deprecated. Please use tf.compat.v1.assign instead.\n",
            "\n",
            "WARNING:tensorflow:From /usr/local/lib/python3.6/dist-packages/keras/backend/tensorflow_backend.py:2741: The name tf.Session is deprecated. Please use tf.compat.v1.Session instead.\n",
            "\n",
            "Train on 2800 samples, validate on 1200 samples\n",
            "Epoch 1/50\n",
            "WARNING:tensorflow:From /usr/local/lib/python3.6/dist-packages/keras/backend/tensorflow_backend.py:174: The name tf.get_default_session is deprecated. Please use tf.compat.v1.get_default_session instead.\n",
            "\n",
            "WARNING:tensorflow:From /usr/local/lib/python3.6/dist-packages/keras/backend/tensorflow_backend.py:181: The name tf.ConfigProto is deprecated. Please use tf.compat.v1.ConfigProto instead.\n",
            "\n",
            "WARNING:tensorflow:From /usr/local/lib/python3.6/dist-packages/keras/backend/tensorflow_backend.py:190: The name tf.global_variables is deprecated. Please use tf.compat.v1.global_variables instead.\n",
            "\n",
            "WARNING:tensorflow:From /usr/local/lib/python3.6/dist-packages/keras/backend/tensorflow_backend.py:199: The name tf.is_variable_initialized is deprecated. Please use tf.compat.v1.is_variable_initialized instead.\n",
            "\n",
            "WARNING:tensorflow:From /usr/local/lib/python3.6/dist-packages/keras/backend/tensorflow_backend.py:206: The name tf.variables_initializer is deprecated. Please use tf.compat.v1.variables_initializer instead.\n",
            "\n",
            "2800/2800 [==============================] - 19s 7ms/step - loss: 0.9899 - acc: 0.7050 - val_loss: 0.7270 - val_acc: 0.8000\n",
            "Epoch 2/50\n",
            "2800/2800 [==============================] - 4s 1ms/step - loss: 0.4993 - acc: 0.8025 - val_loss: 0.5004 - val_acc: 0.8092\n",
            "Epoch 3/50\n",
            "2800/2800 [==============================] - 4s 2ms/step - loss: 0.3338 - acc: 0.8657 - val_loss: 0.5267 - val_acc: 0.7667\n",
            "Epoch 4/50\n",
            "2800/2800 [==============================] - 4s 2ms/step - loss: 0.2509 - acc: 0.9021 - val_loss: 0.4612 - val_acc: 0.8092\n",
            "Epoch 5/50\n",
            "2800/2800 [==============================] - 4s 2ms/step - loss: 0.1902 - acc: 0.9354 - val_loss: 0.4606 - val_acc: 0.8100\n",
            "Epoch 6/50\n",
            "2800/2800 [==============================] - 4s 2ms/step - loss: 0.1523 - acc: 0.9604 - val_loss: 0.4520 - val_acc: 0.8100\n",
            "Epoch 7/50\n",
            "2800/2800 [==============================] - 4s 2ms/step - loss: 0.1250 - acc: 0.9764 - val_loss: 0.4463 - val_acc: 0.8133\n",
            "Epoch 8/50\n",
            "2800/2800 [==============================] - 4s 2ms/step - loss: 0.1056 - acc: 0.9861 - val_loss: 0.4444 - val_acc: 0.8167\n",
            "Epoch 9/50\n",
            "2800/2800 [==============================] - 4s 2ms/step - loss: 0.0902 - acc: 0.9907 - val_loss: 0.4433 - val_acc: 0.8150\n",
            "Epoch 10/50\n",
            "2800/2800 [==============================] - 4s 1ms/step - loss: 0.0784 - acc: 0.9929 - val_loss: 0.4445 - val_acc: 0.8200\n",
            "Epoch 11/50\n",
            "2800/2800 [==============================] - 4s 1ms/step - loss: 0.0695 - acc: 0.9939 - val_loss: 0.4464 - val_acc: 0.8200\n",
            "Epoch 12/50\n",
            "2800/2800 [==============================] - 4s 1ms/step - loss: 0.0611 - acc: 0.9946 - val_loss: 0.4491 - val_acc: 0.8200\n",
            "Epoch 13/50\n",
            "2800/2800 [==============================] - 4s 1ms/step - loss: 0.0546 - acc: 0.9961 - val_loss: 0.4500 - val_acc: 0.8183\n",
            "Epoch 14/50\n",
            "2800/2800 [==============================] - 4s 1ms/step - loss: 0.0491 - acc: 0.9971 - val_loss: 0.4514 - val_acc: 0.8192\n",
            "Epoch 15/50\n",
            "2800/2800 [==============================] - 4s 2ms/step - loss: 0.0446 - acc: 0.9975 - val_loss: 0.4484 - val_acc: 0.8208\n",
            "Epoch 16/50\n",
            "2800/2800 [==============================] - 4s 2ms/step - loss: 0.0407 - acc: 0.9975 - val_loss: 0.4496 - val_acc: 0.8183\n",
            "Epoch 17/50\n",
            "2800/2800 [==============================] - 4s 2ms/step - loss: 0.0374 - acc: 0.9979 - val_loss: 0.4670 - val_acc: 0.8225\n",
            "Epoch 18/50\n",
            "2800/2800 [==============================] - 4s 2ms/step - loss: 0.0342 - acc: 0.9979 - val_loss: 0.4540 - val_acc: 0.8183\n",
            "Epoch 19/50\n",
            "2800/2800 [==============================] - 4s 2ms/step - loss: 0.0315 - acc: 0.9979 - val_loss: 0.4579 - val_acc: 0.8242\n",
            "Epoch 20/50\n",
            "2800/2800 [==============================] - 4s 2ms/step - loss: 0.0291 - acc: 0.9982 - val_loss: 0.4632 - val_acc: 0.8242\n",
            "Epoch 21/50\n",
            "2800/2800 [==============================] - 4s 1ms/step - loss: 0.0271 - acc: 0.9982 - val_loss: 0.4617 - val_acc: 0.8242\n",
            "Epoch 22/50\n",
            "2800/2800 [==============================] - 4s 2ms/step - loss: 0.0253 - acc: 0.9982 - val_loss: 0.4678 - val_acc: 0.8250\n",
            "Epoch 23/50\n",
            "2800/2800 [==============================] - 4s 2ms/step - loss: 0.0237 - acc: 0.9982 - val_loss: 0.4610 - val_acc: 0.8208\n",
            "Epoch 24/50\n",
            "2800/2800 [==============================] - 4s 1ms/step - loss: 0.0223 - acc: 0.9982 - val_loss: 0.4626 - val_acc: 0.8242\n",
            "Epoch 25/50\n",
            "2800/2800 [==============================] - 4s 1ms/step - loss: 0.0209 - acc: 0.9982 - val_loss: 0.4690 - val_acc: 0.8267\n",
            "Epoch 26/50\n",
            "2800/2800 [==============================] - 4s 1ms/step - loss: 0.0197 - acc: 0.9982 - val_loss: 0.4688 - val_acc: 0.8267\n",
            "Epoch 27/50\n",
            "2800/2800 [==============================] - 4s 2ms/step - loss: 0.0186 - acc: 0.9982 - val_loss: 0.4670 - val_acc: 0.8250\n",
            "Epoch 28/50\n",
            "2800/2800 [==============================] - 4s 1ms/step - loss: 0.0175 - acc: 0.9982 - val_loss: 0.4800 - val_acc: 0.8317\n",
            "Epoch 29/50\n",
            "2800/2800 [==============================] - 4s 2ms/step - loss: 0.0167 - acc: 0.9982 - val_loss: 0.4712 - val_acc: 0.8283\n",
            "Epoch 30/50\n",
            "2800/2800 [==============================] - 4s 2ms/step - loss: 0.0158 - acc: 0.9982 - val_loss: 0.4794 - val_acc: 0.8292\n",
            "Epoch 31/50\n",
            "2800/2800 [==============================] - 4s 2ms/step - loss: 0.0150 - acc: 0.9982 - val_loss: 0.4739 - val_acc: 0.8283\n",
            "Epoch 32/50\n",
            "2800/2800 [==============================] - 4s 2ms/step - loss: 0.0144 - acc: 0.9982 - val_loss: 0.4832 - val_acc: 0.8350\n",
            "Epoch 33/50\n",
            "2800/2800 [==============================] - 4s 2ms/step - loss: 0.0137 - acc: 0.9982 - val_loss: 0.4782 - val_acc: 0.8300\n",
            "Epoch 34/50\n",
            "2800/2800 [==============================] - 4s 2ms/step - loss: 0.0131 - acc: 0.9982 - val_loss: 0.4817 - val_acc: 0.8308\n",
            "Epoch 35/50\n",
            "2800/2800 [==============================] - 4s 2ms/step - loss: 0.0126 - acc: 0.9982 - val_loss: 0.4896 - val_acc: 0.8350\n",
            "Epoch 36/50\n",
            "2800/2800 [==============================] - 4s 2ms/step - loss: 0.0120 - acc: 0.9982 - val_loss: 0.4821 - val_acc: 0.8300\n",
            "Epoch 37/50\n",
            "2800/2800 [==============================] - 4s 2ms/step - loss: 0.0115 - acc: 0.9982 - val_loss: 0.4909 - val_acc: 0.8350\n",
            "Epoch 38/50\n",
            "2800/2800 [==============================] - 4s 2ms/step - loss: 0.0111 - acc: 0.9982 - val_loss: 0.4846 - val_acc: 0.8300\n",
            "Epoch 39/50\n",
            "2800/2800 [==============================] - 4s 2ms/step - loss: 0.0107 - acc: 0.9982 - val_loss: 0.4921 - val_acc: 0.8308\n",
            "Epoch 40/50\n",
            "2800/2800 [==============================] - 4s 1ms/step - loss: 0.0102 - acc: 0.9982 - val_loss: 0.4926 - val_acc: 0.8325\n",
            "Epoch 41/50\n",
            "2800/2800 [==============================] - 4s 2ms/step - loss: 0.0099 - acc: 0.9982 - val_loss: 0.4914 - val_acc: 0.8325\n",
            "Epoch 42/50\n",
            "2800/2800 [==============================] - 4s 1ms/step - loss: 0.0095 - acc: 0.9982 - val_loss: 0.4967 - val_acc: 0.8333\n",
            "Epoch 43/50\n",
            "2800/2800 [==============================] - 4s 1ms/step - loss: 0.0092 - acc: 0.9982 - val_loss: 0.4944 - val_acc: 0.8325\n",
            "Epoch 44/50\n",
            "2800/2800 [==============================] - 4s 1ms/step - loss: 0.0089 - acc: 0.9982 - val_loss: 0.4983 - val_acc: 0.8342\n",
            "Epoch 45/50\n",
            "2800/2800 [==============================] - 4s 1ms/step - loss: 0.0086 - acc: 0.9982 - val_loss: 0.5001 - val_acc: 0.8342\n",
            "Epoch 46/50\n",
            "2800/2800 [==============================] - 4s 1ms/step - loss: 0.0083 - acc: 0.9982 - val_loss: 0.5015 - val_acc: 0.8342\n",
            "Epoch 47/50\n",
            "2800/2800 [==============================] - 4s 1ms/step - loss: 0.0081 - acc: 0.9982 - val_loss: 0.5042 - val_acc: 0.8342\n",
            "Epoch 48/50\n",
            "2800/2800 [==============================] - 4s 2ms/step - loss: 0.0078 - acc: 0.9986 - val_loss: 0.5010 - val_acc: 0.8358\n",
            "Epoch 49/50\n",
            "2800/2800 [==============================] - 4s 2ms/step - loss: 0.0076 - acc: 0.9993 - val_loss: 0.5072 - val_acc: 0.8350\n",
            "Epoch 50/50\n",
            "2800/2800 [==============================] - 4s 1ms/step - loss: 0.0074 - acc: 0.9993 - val_loss: 0.5071 - val_acc: 0.8358\n"
          ],
          "name": "stdout"
        }
      ]
    },
    {
      "cell_type": "code",
      "metadata": {
        "id": "gtDAoa-4ibVx",
        "colab_type": "code",
        "colab": {}
      },
      "source": [
        "# model_without_softmax.set_weights(model_with_softmax.get_weights())"
      ],
      "execution_count": 0,
      "outputs": []
    },
    {
      "cell_type": "code",
      "metadata": {
        "id": "sJamdTge6sAZ",
        "colab_type": "code",
        "colab": {}
      },
      "source": [
        "# model_with_softmax.save('model_with_softmax.h5')\n",
        "# model_without_softmax.save('model_without_softmax.h5')"
      ],
      "execution_count": 0,
      "outputs": []
    },
    {
      "cell_type": "code",
      "metadata": {
        "id": "qWcbe6yT-3YS",
        "colab_type": "code",
        "colab": {}
      },
      "source": [
        "# Нужно закинуть файл models.rar в Files (рядом с папкой drive)\n",
        "get_ipython().system_raw(\"unrar x models.rar\")"
      ],
      "execution_count": 0,
      "outputs": []
    },
    {
      "cell_type": "code",
      "metadata": {
        "id": "Ud9c5bWb63jX",
        "colab_type": "code",
        "colab": {}
      },
      "source": [
        "model_with_softmax = keras.models.load_model('model_with_softmax.h5')\n",
        "model_without_softmax = keras.models.load_model('model_without_softmax.h5')"
      ],
      "execution_count": 0,
      "outputs": []
    },
    {
      "cell_type": "code",
      "metadata": {
        "id": "a5A_5-lqj_Of",
        "colab_type": "code",
        "colab": {}
      },
      "source": [
        "methods = ['gradient', 'lrp.z', 'lrp.alpha_2_beta_1', 'pattern.attribution']\n",
        "kwargs = [{}, {}, {}, {'pattern_type': 'relu'}]"
      ],
      "execution_count": 0,
      "outputs": []
    },
    {
      "cell_type": "code",
      "metadata": {
        "id": "OdH88JK8kDJd",
        "colab_type": "code",
        "outputId": "a9e7ce6f-4e29-4325-d886-3be3b2524394",
        "colab": {
          "base_uri": "https://localhost:8080/",
          "height": 50
        }
      },
      "source": [
        "analyzers = []\n",
        "\n",
        "for method, kws in zip(methods, kwargs):\n",
        "    analyzer = innvestigate.create_analyzer(method, model_without_softmax, **kws)\n",
        "    analyzer.fit(np.expand_dims(input_tensor_train, axis=1), batch_size=256, verbose=1)\n",
        "    analyzers.append(analyzer)"
      ],
      "execution_count": 0,
      "outputs": [
        {
          "output_type": "stream",
          "text": [
            "Epoch 1/1\n",
            "11/11 [==============================] - 9s 785ms/step - loss: 2.0000 - broadcast_3_loss: 1.0000 - broadcast_4_loss: 1.0000\n"
          ],
          "name": "stdout"
        }
      ]
    },
    {
      "cell_type": "code",
      "metadata": {
        "id": "C-YqsDojkIcM",
        "colab_type": "code",
        "colab": {}
      },
      "source": [
        "def analyze_scores(X, ridx):\n",
        "    max_len = max_length(input_tensor_train)\n",
        "\n",
        "    analysis = np.zeros([len(analyzers), 1, max_len])\n",
        "    x = X[ridx]\n",
        "    t_start = time.time()\n",
        "    x = x.reshape((1, 1, max_len, embedding_dim))\n",
        "    presm = model_without_softmax.predict_on_batch(x)[0]  # forward pass without softmax\n",
        "    prob = model_with_softmax.predict_on_batch(x)[0]  # forward pass with softmax\n",
        "    y_hat = prob.argmax()\n",
        "  \n",
        "    for aidx, analyzer in enumerate(analyzers):\n",
        "        a = np.squeeze(analyzer.analyze(x))\n",
        "        a = np.sum(a, axis=1)\n",
        "        analysis[aidx] = a\n",
        "    t_elapsed = time.time() - t_start\n",
        "    # print('Review %d (%.4fs)'% (ridx, t_elapsed))\n",
        "    return analysis, y_hat"
      ],
      "execution_count": 0,
      "outputs": []
    },
    {
      "cell_type": "code",
      "metadata": {
        "id": "V4ZLuZ-ZkZr8",
        "colab_type": "code",
        "outputId": "e59ceee5-0a35-45dd-a8a3-593c5e094697",
        "colab": {
          "base_uri": "https://localhost:8080/",
          "height": 202
        }
      },
      "source": [
        "# analyze_scores(input_tensor_train, 97)"
      ],
      "execution_count": 0,
      "outputs": [
        {
          "output_type": "execute_result",
          "data": {
            "text/plain": [
              "(array([[[-2.42939740e-01, -3.80236089e-01,  7.36282766e-03, ...,\n",
              "           0.00000000e+00,  0.00000000e+00,  0.00000000e+00]],\n",
              " \n",
              "        [[ 1.20856553e-01,  1.43756938e+00, -2.03811145e+00, ...,\n",
              "           0.00000000e+00,  0.00000000e+00,  0.00000000e+00]],\n",
              " \n",
              "        [[ 2.42632046e-01,  5.11384010e-01, -4.03351635e-01, ...,\n",
              "           0.00000000e+00,  0.00000000e+00,  0.00000000e+00]],\n",
              " \n",
              "        [[ 1.76126289e+01,  8.18374252e+00, -1.48226185e+01, ...,\n",
              "           0.00000000e+00,  0.00000000e+00,  0.00000000e+00]]]), 1)"
            ]
          },
          "metadata": {
            "tags": []
          },
          "execution_count": 89
        }
      ]
    },
    {
      "cell_type": "code",
      "metadata": {
        "id": "WyrHg5U4kwqL",
        "colab_type": "code",
        "colab": {}
      },
      "source": [
        "def plot_text_heatmap(words, scores, title=\"\", width=5, height=0.2, verbose=0, max_word_per_line=10):\n",
        "    fig = plt.figure(figsize=(width, height))\n",
        "    \n",
        "    ax = plt.gca()\n",
        "\n",
        "    ax.set_title(title, loc='left')\n",
        "    tokens = words\n",
        "    if verbose > 0:\n",
        "        print('len words : %d | len scores : %d' % (len(words), len(scores)))\n",
        "\n",
        "    cmap = plt.cm.ScalarMappable(cmap=cm.bwr)\n",
        "    cmap.set_clim(0, 1)\n",
        "    \n",
        "    canvas = ax.figure.canvas\n",
        "    t = ax.transData\n",
        "\n",
        "    # normalize scores to the followings:\n",
        "    # - negative scores in [0, 0.5]\n",
        "    # - positive scores in (0.5, 1]\n",
        "    normalized_scores = 0.5 * scores / np.max(np.abs(scores)) + 0.5\n",
        "\n",
        "    if verbose > 1:\n",
        "        print('Raw score')\n",
        "        print(scores)\n",
        "        print('Normalized score')\n",
        "        print(normalized_scores)\n",
        "\n",
        "    # make sure the heatmap doesn't overlap with the title\n",
        "    loc_y = -0.2\n",
        "\n",
        "    for i, token in enumerate(tokens):\n",
        "        *rgb, _ = cmap.to_rgba(normalized_scores[i], bytes=True)\n",
        "        color = '#%02x%02x%02x' % tuple(rgb)\n",
        "\n",
        "        text = ax.text(0.0, loc_y, token,\n",
        "                       bbox={\n",
        "                           'facecolor': color,\n",
        "                           'pad': 5.0,\n",
        "                           'linewidth': 1,\n",
        "                           'boxstyle': 'round,pad=0.5'\n",
        "                       }, transform=t)\n",
        "\n",
        "        text.draw(canvas.get_renderer())\n",
        "        ex = text.get_window_extent()\n",
        "        \n",
        "        # create a new line if the line exceeds the length\n",
        "        if (i+1) % max_word_per_line == 0:\n",
        "            loc_y = loc_y -  2.5\n",
        "            t = ax.transData\n",
        "        else:\n",
        "            t = transforms.offset_copy(text._transform, x=ex.width+15, units='dots')\n",
        "\n",
        "    if verbose == 0:\n",
        "        ax.axis('off')"
      ],
      "execution_count": 0,
      "outputs": []
    },
    {
      "cell_type": "code",
      "metadata": {
        "id": "T4scFb2Ek6gb",
        "colab_type": "code",
        "colab": {}
      },
      "source": [
        "a, y_pred = analyze_scores(input_tensor_train, 100)"
      ],
      "execution_count": 0,
      "outputs": []
    },
    {
      "cell_type": "code",
      "metadata": {
        "id": "LR-5mqhClBjm",
        "colab_type": "code",
        "outputId": "cca09b71-87bf-40d5-c328-a3855b77d34e",
        "colab": {
          "base_uri": "https://localhost:8080/",
          "height": 156
        }
      },
      "source": [
        "plot_text_heatmap(\n",
        "    texts_train[0],\n",
        "    a[0][0]\n",
        ")"
      ],
      "execution_count": 0,
      "outputs": [
        {
          "output_type": "display_data",
          "data": {
            "image/png": "[encoded data removed]",
            "text/plain": [
              "<Figure size 360x14.4 with 1 Axes>"
            ]
          },
          "metadata": {
            "tags": []
          }
        }
      ]
    },
    {
      "cell_type": "markdown",
      "metadata": {
        "id": "_r5V4xcNd3IR",
        "colab_type": "text"
      },
      "source": [
        "Функция, возвращающая positive_sequences, positive_indices, negative_sequences, negative_indices в данном тексте. В каждом предложении поиск тональных слов происходит отдельно."
      ]
    },
    {
      "cell_type": "code",
      "metadata": {
        "id": "Yt9F0oihctXZ",
        "colab_type": "code",
        "colab": {}
      },
      "source": [
        "def preprocess(input_sents):\n",
        "    indices = []\n",
        "    normalized_texts = []\n",
        "    texts = []\n",
        "    for input_sent in input_sents:\n",
        "        normalized_text, pos = normalize(input_sent)\n",
        "        normalized_texts.append(normalized_text)\n",
        "        words_with_indices = [(i, pair[0], pair[1]) for i, pair in enumerate(zip(normalized_text, pos)) if pair[0] not in russian_stopwords]\n",
        "        indices.append([str(elem[0]) for elem in words_with_indices])\n",
        "        # text_without_stopword = ' '.join([elem[1] for elem in words_with_indices])\n",
        "        # texts.append([elem[1] for elem in words_with_indices])\n",
        "        texts.append([f'{elem[1]}_{elem[2]}' for elem in words_with_indices])\n",
        "        # for gram in grams_to_be_replaced:\n",
        "        #     text = text_without_stopword.replace(gram, gram.replace(' ', '_'))\n",
        "        #     for start in [m.start() for m in re.finditer(gram, text_without_stopword)]:\n",
        "        #         indices[-1][start] = '_'.join([elem for elem in indices[-1][start:start + len(gram.split())]])\n",
        "        #         indices[-1][start + 1:start + len(gram.split())] = [None] * (len(gram.split()) - 1)\n",
        "        #     indices[-1] = [elem for elem in indices[-1] if elem is not None]\n",
        "        # texts.append(text)\n",
        "    return texts, indices, normalized_texts"
      ],
      "execution_count": 0,
      "outputs": []
    },
    {
      "cell_type": "code",
      "metadata": {
        "id": "qsIaTDo27_pc",
        "colab_type": "code",
        "colab": {}
      },
      "source": [
        "def find_seqs_and_inds(input_text, verbose=False):\n",
        "    input_sents = nltk.sent_tokenize(input_text)\n",
        "    texts, indices, texts_with_replacements = preprocess(input_sents)\n",
        "\n",
        "    input_tensor, inp_vocab = load_dataset(texts, w2v_model.vector_size)\n",
        "\n",
        "    texts_dct = []\n",
        "    for i_text, text in enumerate(texts):\n",
        "        texts_dct.append({})\n",
        "        cmap = plt.cm.ScalarMappable(cmap=cm.bwr)\n",
        "        cmap.set_clim(0, 1)\n",
        "\n",
        "        a, y_pred = analyze_scores(input_tensor, i_text)\n",
        "        if verbose:\n",
        "            plot_text_heatmap(\n",
        "                text,\n",
        "                a[0][0]\n",
        "            )\n",
        "\n",
        "        tokens = text\n",
        "        token_scores = [0] * len(tokens)\n",
        "        token_rgb = [[0, 0, 0] for i in range(len(tokens))]\n",
        "        N = 1  # на 4 показывает себя хуже\n",
        "        for i_score in range(len(a[:N])):\n",
        "            scores = a[i_score][0]\n",
        "            normalized_scores = 0.5 * scores / np.max(np.abs(scores)) + 0.5\n",
        "\n",
        "            for i_token, token in enumerate(tokens):\n",
        "                token_scores[i_token] += normalized_scores[i_token]\n",
        "                *rgb, _ = cmap.to_rgba(normalized_scores[i_token], bytes=True)\n",
        "                token_rgb[i_token][0] += rgb[0]\n",
        "                token_rgb[i_token][1] += rgb[1]\n",
        "                token_rgb[i_token][2] += rgb[2]\n",
        "\n",
        "        token_scores = np.array(token_scores) / N\n",
        "        token_rgb = np.array(token_rgb) / N\n",
        "        for i_rgb, rgb in enumerate(token_rgb):\n",
        "            if rgb[0] > 200:\n",
        "                if rgb[0] > rgb[2]:\n",
        "                    token_scores[i_rgb] = 1\n",
        "                else:\n",
        "                    token_scores[i_rgb] = 0\n",
        "            elif rgb[2] > 200:\n",
        "                if rgb[2] > rgb[0]:\n",
        "                    token_scores[i_rgb] = 0\n",
        "                else:\n",
        "                    token_scores[i_rgb] = 1\n",
        "            else:\n",
        "                token_scores[i_rgb] = 0.5\n",
        "\n",
        "        negative_sequences = []\n",
        "        negative_indices = []\n",
        "        positive_sequences = []\n",
        "        positive_indices = []\n",
        "        sequence = []\n",
        "        indices_ = []\n",
        "\n",
        "        prev_value = 0.5\n",
        "        for i_token, token_score in enumerate(token_scores):\n",
        "            if token_score < 0.25:\n",
        "                if prev_value >= 0.25:\n",
        "                    if sequence:\n",
        "                        negative_sequences.append(sequence)\n",
        "                        negative_indices.append(indices_)\n",
        "                        sequence = []\n",
        "                        indices_ = []\n",
        "                sequence.append(tokens[i_token])\n",
        "                indices_.append(int(indices[i_text][i_token]))\n",
        "            elif token_score > 0.75:\n",
        "                if prev_value <= 0.75:\n",
        "                    if sequence:\n",
        "                        positive_sequences.append(sequence)\n",
        "                        positive_indices.append(indices_)\n",
        "                        sequence = []\n",
        "                        indices_ = []\n",
        "                sequence.append(tokens[i_token])\n",
        "                indices_.append(int(indices[i_text][i_token]))\n",
        "            else:\n",
        "                sequence = []\n",
        "                indices_ = []\n",
        "            prev_value = token_score\n",
        "        if sequence:\n",
        "            if prev_value > 0.25:\n",
        "                negative_sequences.append(sequence)\n",
        "                negative_indices.append(indices_)\n",
        "            else:\n",
        "                positive_sequences.append(sequence)\n",
        "                positive_indices.append(indices_)\n",
        "        texts_dct[-1]['positive_sequences'] = positive_sequences\n",
        "        positive_lemmas = [[elem.rsplit('_', 1)[0] for elem in lst] for lst in positive_sequences]\n",
        "        texts_dct[-1]['positive_lemmas'] = positive_lemmas\n",
        "        texts_dct[-1]['positive_indices'] = positive_indices\n",
        "        texts_dct[-1]['negative_sequences'] = negative_sequences\n",
        "        negative_lemmas = [[elem.rsplit('_', 1)[0] for elem in lst] for lst in negative_sequences]\n",
        "        texts_dct[-1]['negative_lemmas'] = negative_lemmas\n",
        "        texts_dct[-1]['negative_indices'] = negative_indices\n",
        "        if verbose:\n",
        "            print(f'{i_text}-е предложение: {input_sents[i_text]}')\n",
        "            print('positive_sequences', positive_sequences)\n",
        "            print('positive_lemmas', positive_lemmas)\n",
        "            print('positive_indices', positive_indices)\n",
        "            print('negative_sequences', negative_sequences)\n",
        "            print('negative_lemmas', negative_lemmas)\n",
        "            print('negative_indices', negative_indices)\n",
        "            print()\n",
        "    return texts, texts_dct, texts_with_replacements"
      ],
      "execution_count": 0,
      "outputs": []
    },
    {
      "cell_type": "code",
      "metadata": {
        "colab_type": "code",
        "outputId": "5d6c595a-376c-43e9-bd11-97a4d057a908",
        "id": "Ku9gaUBNlX50",
        "colab": {
          "base_uri": "https://localhost:8080/",
          "height": 506
        }
      },
      "source": [
        "sents, texts_dct, input_sents = find_seqs_and_inds(\n",
        "    'Я тут был. Здесь очень хорошо, просто прекрасно! А там было просто отвратительно, ужас!',\n",
        "    verbose=True\n",
        ")"
      ],
      "execution_count": 306,
      "outputs": [
        {
          "output_type": "stream",
          "text": [
            "0-е предложение: Я тут был.\n",
            "positive_sequences []\n",
            "positive_lemmas []\n",
            "positive_indices []\n",
            "negative_sequences []\n",
            "negative_lemmas []\n",
            "negative_indices []\n",
            "\n",
            "1-е предложение: Здесь очень хорошо, просто прекрасно!\n",
            "positive_sequences [['очень_ADV', 'просто_PART', 'прекрасно_ADV']]\n",
            "positive_lemmas [['очень', 'просто', 'прекрасно']]\n",
            "positive_indices [[1, 3, 4]]\n",
            "negative_sequences []\n",
            "negative_lemmas []\n",
            "negative_indices []\n",
            "\n",
            "2-е предложение: А там было просто отвратительно, ужас!\n",
            "positive_sequences [['ужас_NOUN']]\n",
            "positive_lemmas [['ужас']]\n",
            "positive_indices [[5]]\n",
            "negative_sequences [['просто_PART', 'отвратительный_ADJ']]\n",
            "negative_lemmas [['просто', 'отвратительный']]\n",
            "negative_indices [[3, 4]]\n",
            "\n"
          ],
          "name": "stdout"
        },
        {
          "output_type": "display_data",
          "data": {
            "image/png": "[encoded data removed]",
            "text/plain": [
              "<Figure size 360x14.4 with 1 Axes>"
            ]
          },
          "metadata": {
            "tags": []
          }
        },
        {
          "output_type": "display_data",
          "data": {
            "image/png": "[encoded data removed]",
            "text/plain": [
              "<Figure size 360x14.4 with 1 Axes>"
            ]
          },
          "metadata": {
            "tags": []
          }
        },
        {
          "output_type": "display_data",
          "data": {
            "image/png": "[encoded data removed]",
            "text/plain": [
              "<Figure size 360x14.4 with 1 Axes>"
            ]
          },
          "metadata": {
            "tags": []
          }
        }
      ]
    },
    {
      "cell_type": "markdown",
      "metadata": {
        "id": "1VSpHvSn7yms",
        "colab_type": "text"
      },
      "source": [
        "# https://github.com/madrugado/Attention-Based-Aspect-Extraction"
      ]
    },
    {
      "cell_type": "code",
      "metadata": {
        "id": "boyeZ7lE2pmt",
        "colab_type": "code",
        "outputId": "5074517f-47fc-404b-c568-77d7ba2520bc",
        "colab": {
          "base_uri": "https://localhost:8080/",
          "height": 134
        }
      },
      "source": [
        "!git clone https://github.com/madrugado/Attention-Based-Aspect-Extraction.git attention"
      ],
      "execution_count": 0,
      "outputs": [
        {
          "output_type": "stream",
          "text": [
            "Cloning into 'attention'...\n",
            "remote: Enumerating objects: 4, done.\u001b[K\n",
            "remote: Counting objects:  25% (1/4)\u001b[K\rremote: Counting objects:  50% (2/4)\u001b[K\rremote: Counting objects:  75% (3/4)\u001b[K\rremote: Counting objects: 100% (4/4)\u001b[K\rremote: Counting objects: 100% (4/4), done.\u001b[K\n",
            "remote: Compressing objects: 100% (4/4), done.\u001b[K\n",
            "remote: Total 276 (delta 0), reused 0 (delta 0), pack-reused 272\u001b[K\n",
            "Receiving objects: 100% (276/276), 129.42 MiB | 33.86 MiB/s, done.\n",
            "Resolving deltas: 100% (156/156), done.\n"
          ],
          "name": "stdout"
        }
      ]
    },
    {
      "cell_type": "code",
      "metadata": {
        "id": "aYlffTGT7muL",
        "colab_type": "code",
        "outputId": "ed8579a0-d4a4-4439-f83f-5ec81601660c",
        "colab": {
          "base_uri": "https://localhost:8080/",
          "height": 34
        }
      },
      "source": [
        "%cd /content/attention/code/"
      ],
      "execution_count": 0,
      "outputs": [
        {
          "output_type": "stream",
          "text": [
            "/content/attention/code\n"
          ],
          "name": "stdout"
        }
      ]
    },
    {
      "cell_type": "code",
      "metadata": {
        "id": "0719Lvl3T0Ve",
        "colab_type": "code",
        "colab": {}
      },
      "source": [
        "train_set = texts_with_replacements[:19030]\n",
        "test_set = texts_with_replacements[19030:]"
      ],
      "execution_count": 0,
      "outputs": []
    },
    {
      "cell_type": "code",
      "metadata": {
        "id": "NiPPiWydVtnH",
        "colab_type": "code",
        "outputId": "13e7939f-d9cf-4b58-8f0c-373ff25e7479",
        "colab": {
          "base_uri": "https://localhost:8080/",
          "height": 104
        }
      },
      "source": [
        "texts_with_replacements[19030:]"
      ],
      "execution_count": 0,
      "outputs": [
        {
          "output_type": "execute_result",
          "data": {
            "text/plain": [
              "['обнаружить салат таракан очень поразить заказать салат ростковый маша будт осторожный',\n",
              " 'забавный заведение симпатичный светлый интерьер особый интересный акцент исключение очень красивый стена натуральный камень бар мера неудобный диван мера неприветливый персонал отдельный внимание заслуживать меню вид огромный талмуд плотный красивый страница разделить середина закладка гордо обещать гастрономический кухня начать неплохой завтрак который можно употребить любой время сутки но содержание особый изыск не поражать омлетик запеканка далёкий идти салат_цезарь апельсиновый заправка мирно соседствовать оливья закуска гастрономичный селёдочка водочка уживаться фуа гра гранд шавермыть сожаление весь шедевр запомнить не удаться великое множество но общий_впечатление сложиться мир нитка голый мерседес решить повар судить весь_наш соотечественник поэтому пройтись блюдо который русский человек сложно испортить взять рассольник почка оливья раковый шейк запеканка десерт рассольник порадовать нужно оливья свой цена вполне приличный хотя старинный рецепт далёкий запеканка оформить красиво но суть представлять бисквит вкрапление творог запеканка который весь привыкнуть детство не остаться намёк цена средне высокий средний чек район 1500 обслуживание вежливый но не более пришлый пятнадцать шесть меню указать будний день 12 18 скидка 15 20 но сеять маркетинговый ход оценить не удаться не смотреть попытка привлечь внимание сделать_заказ девушка принять_заказ ровно 3 минута внести 18 01 метр стойка идти 4 минута практически рекорд да ладный просто показатель отношение ещё неприятный минус курить везде вытяжка удивить огромный количество блюдо коктейльный карта довольно скудный общий стать бар сделать видимо угодить весь но неубедительно другой сторона безрыбье не самый плохой вариант',\n",
              " 'поздравлять администрация ресторан навруз новый_год ваш постоянный клиент который любить рад петербург место всегда радушно встречать спасибо хороший кухня любезный обслуживание замечательный интерьер уютный обстановка ваш музыкант который много год радовать певица шикарный голос гитарист дополнять её именно главный аргумент выбирать ваш_ресторан среди множество другой заметить положительный перемена новый уютный зал очень красивый место общий пользование хотеться большой место танец надеяться наш любимый ресторан каждый год ещё хороший большой новый постоянный клиент всегда',\n",
              " 'очень_нравиться интерьер отличный гриль карта вино соответствовать класс заведение несколько зал живописный вид эрмитаж петропавловка питерский ресторан стать любимый рекомендовать']"
            ]
          },
          "metadata": {
            "tags": []
          },
          "execution_count": 110
        }
      ]
    },
    {
      "cell_type": "code",
      "metadata": {
        "id": "K5Hn7WpP7wBs",
        "colab_type": "code",
        "colab": {}
      },
      "source": [
        "directory = '/content/attention/preprocessed_data/restaurant/'\n",
        "if not os.path.exists(directory):\n",
        "    os.makedirs(directory)"
      ],
      "execution_count": 0,
      "outputs": []
    },
    {
      "cell_type": "code",
      "metadata": {
        "id": "zMGZK0i2CJSj",
        "colab_type": "code",
        "colab": {}
      },
      "source": [
        "with open(os.path.join('/content', 'attention', 'preprocessed_data', 'restaurant', 'train.txt'), 'w', encoding='utf-8') as f:\n",
        "    f.write('\\n'.join(train_set))\n",
        "with open(os.path.join('/content', 'attention', 'preprocessed_data', 'restaurant', 'test.txt'), 'w', encoding='utf-8') as f:\n",
        "    f.write('\\n'.join(test_set))\n",
        "with open(os.path.join('/content', 'attention', 'preprocessed_data', 'restaurant', 'test_label.txt'), 'w', encoding='utf-8') as f:\n",
        "    f.write('еда\\nинтерьер\\nобщее\\nинтерьер')"
      ],
      "execution_count": 0,
      "outputs": []
    },
    {
      "cell_type": "code",
      "metadata": {
        "id": "9bNn99Uy7hZF",
        "colab_type": "code",
        "outputId": "25354145-466f-4fbb-e94f-57188bfdac66",
        "colab": {
          "base_uri": "https://localhost:8080/",
          "height": 87
        }
      },
      "source": [
        "# NB: раскомментить первую строчку # main('restaurant')\n",
        "!python word2vec.py"
      ],
      "execution_count": 0,
      "outputs": [
        {
          "output_type": "stream",
          "text": [
            "Pre-training word embeddings ...\n",
            "/usr/local/lib/python3.6/dist-packages/smart_open/smart_open_lib.py:402: UserWarning: This function is deprecated, use smart_open.open instead. See the migration notes for details: https://github.com/RaRe-Technologies/smart_open/blob/master/README.rst#migrating-to-the-new-open-function\n",
            "  'See the migration notes for details: %s' % _MIGRATION_NOTES_URL\n"
          ],
          "name": "stdout"
        }
      ]
    },
    {
      "cell_type": "code",
      "metadata": {
        "id": "3L_bOKL08IVd",
        "colab_type": "code",
        "colab": {}
      },
      "source": [
        "directory = '/content/attention/datasets/restaurant/'\n",
        "if not os.path.exists(directory):\n",
        "    os.makedirs(directory)"
      ],
      "execution_count": 0,
      "outputs": []
    },
    {
      "cell_type": "code",
      "metadata": {
        "id": "t8fbx55EUhd7",
        "colab_type": "code",
        "colab": {}
      },
      "source": [
        "with open(os.path.join('/content', 'attention', 'datasets', 'restaurant', 'train.txt'), 'w', encoding='utf-8') as f:\n",
        "    f.write('\\n'.join(train_set))\n",
        "with open(os.path.join('/content', 'attention', 'datasets', 'restaurant', 'test.txt'), 'w', encoding='utf-8') as f:\n",
        "    f.write('\\n'.join(test_set))\n",
        "with open(os.path.join('/content', 'attention', 'datasets', 'restaurant', 'test_label.txt'), 'w', encoding='utf-8') as f:\n",
        "    f.write('еда\\nинтерьер\\nобщее\\nинтерьер')"
      ],
      "execution_count": 0,
      "outputs": []
    },
    {
      "cell_type": "code",
      "metadata": {
        "id": "QHYz9ns6UUPs",
        "colab_type": "code",
        "outputId": "01b63c50-e3d2-42e6-bbf8-abb4b3f4ef84",
        "colab": {
          "base_uri": "https://localhost:8080/",
          "height": 50
        }
      },
      "source": [
        "# NB: поменять english на russian\n",
        "!python preprocess.py"
      ],
      "execution_count": 0,
      "outputs": [
        {
          "output_type": "stream",
          "text": [
            "\trestaurant train set ...\n",
            "\trestaurant test set ...\n"
          ],
          "name": "stdout"
        }
      ]
    },
    {
      "cell_type": "code",
      "metadata": {
        "id": "Fhe2TzA7_Meu",
        "colab_type": "code",
        "colab": {}
      },
      "source": [
        "with open(os.path.join('/content', 'attention', 'preprocessed_data', 'restaurant', 'test.txt'), 'w', encoding='utf-8') as f:\n",
        "    f.write('\\n'.join(test_set))\n",
        "with open(os.path.join('/content', 'attention', 'preprocessed_data', 'restaurant', 'test_label.txt'), 'w', encoding='utf-8') as f:\n",
        "    f.write('еда\\nинтерьер\\nобщее\\nинтерьер')"
      ],
      "execution_count": 0,
      "outputs": []
    },
    {
      "cell_type": "code",
      "metadata": {
        "id": "HtHQbycJHGM3",
        "colab_type": "code",
        "outputId": "15052929-0d42-44ee-86ff-2a8a419a45ce",
        "colab": {
          "base_uri": "https://localhost:8080/",
          "height": 1000
        }
      },
      "source": [
        "!python train.py --emb-name w2v_embedding --domain restaurant -o output_dir"
      ],
      "execution_count": 0,
      "outputs": [
        {
          "output_type": "stream",
          "text": [
            "Using TensorFlow backend.\n",
            "2019-12-24 21:09:09,547 INFO Arguments:\n",
            "2019-12-24 21:09:09,547 INFO   algorithm: adam\n",
            "2019-12-24 21:09:09,547 INFO   aspect_size: 14\n",
            "2019-12-24 21:09:09,547 INFO   batch_size: 32\n",
            "2019-12-24 21:09:09,547 INFO   command: train.py --emb-name w2v_embedding --domain restaurant -o output_dir\n",
            "2019-12-24 21:09:09,547 INFO   domain: restaurant\n",
            "2019-12-24 21:09:09,547 INFO   emb_dim: 100\n",
            "2019-12-24 21:09:09,547 INFO   emb_name: w2v_embedding\n",
            "2019-12-24 21:09:09,548 INFO   epochs: 15\n",
            "2019-12-24 21:09:09,548 INFO   maxlen: 256\n",
            "2019-12-24 21:09:09,548 INFO   neg_size: 20\n",
            "2019-12-24 21:09:09,548 INFO   ortho_reg: 0.1\n",
            "2019-12-24 21:09:09,548 INFO   out_dir_path: output_dir\n",
            "2019-12-24 21:09:09,548 INFO   seed: 1234\n",
            "2019-12-24 21:09:09,548 INFO   vocab_size: 9000\n",
            "Reading data from restaurant\n",
            " Creating vocab ...\n",
            "   1291051 total words, 49774 unique words\n",
            "  keep the top 9000 words\n",
            " Reading dataset ...\n",
            "  train set\n",
            "   <num> hit rate: 1.33%, <unk> hit rate: 7.90%\n",
            "  test set\n",
            "   <num> hit rate: 2.74%, <unk> hit rate: 11.59%\n",
            "Number of training examples:  19030\n",
            "Length of vocab:  9003\n",
            "2019-12-24 21:09:13,472 INFO   Building model\n",
            "2019-12-24 21:09:13,716 INFO 'pattern' package not found; tag filters are not available for English\n",
            "2019-12-24 21:09:13,873 INFO Loading embeddings from: ../preprocessed_data/restaurant/w2v_embedding\n",
            "2019-12-24 21:09:13,873 INFO loading Word2VecKeyedVectors object from ../preprocessed_data/restaurant/w2v_embedding\n",
            "/usr/local/lib/python3.6/dist-packages/smart_open/smart_open_lib.py:402: UserWarning: This function is deprecated, use smart_open.open instead. See the migration notes for details: https://github.com/RaRe-Technologies/smart_open/blob/master/README.rst#migrating-to-the-new-open-function\n",
            "  'See the migration notes for details: %s' % _MIGRATION_NOTES_URL\n",
            "2019-12-24 21:09:14,229 INFO loading wv recursively from ../preprocessed_data/restaurant/w2v_embedding.wv.* with mmap=None\n",
            "2019-12-24 21:09:14,229 INFO setting ignored attribute vectors_norm to None\n",
            "2019-12-24 21:09:14,230 INFO loading vocabulary recursively from ../preprocessed_data/restaurant/w2v_embedding.vocabulary.* with mmap=None\n",
            "2019-12-24 21:09:14,230 INFO loading trainables recursively from ../preprocessed_data/restaurant/w2v_embedding.trainables.* with mmap=None\n",
            "2019-12-24 21:09:14,230 INFO setting ignored attribute cum_table to None\n",
            "2019-12-24 21:09:14,230 INFO loaded ../preprocessed_data/restaurant/w2v_embedding\n",
            "2019-12-24 21:09:15,413 INFO   #vectors: 19039, #dimensions: 200\n",
            "WARNING:tensorflow:From /usr/local/lib/python3.6/dist-packages/keras/backend/tensorflow_backend.py:517: The name tf.placeholder is deprecated. Please use tf.compat.v1.placeholder instead.\n",
            "\n",
            "2019-12-24 21:09:22,624 WARNING From /usr/local/lib/python3.6/dist-packages/keras/backend/tensorflow_backend.py:517: The name tf.placeholder is deprecated. Please use tf.compat.v1.placeholder instead.\n",
            "\n",
            "WARNING:tensorflow:From /usr/local/lib/python3.6/dist-packages/keras/backend/tensorflow_backend.py:4138: The name tf.random_uniform is deprecated. Please use tf.random.uniform instead.\n",
            "\n",
            "2019-12-24 21:09:22,627 WARNING From /usr/local/lib/python3.6/dist-packages/keras/backend/tensorflow_backend.py:4138: The name tf.random_uniform is deprecated. Please use tf.random.uniform instead.\n",
            "\n",
            "WARNING:tensorflow:From /usr/local/lib/python3.6/dist-packages/keras/backend/tensorflow_backend.py:74: The name tf.get_default_graph is deprecated. Please use tf.compat.v1.get_default_graph instead.\n",
            "\n",
            "2019-12-24 21:09:22,640 WARNING From /usr/local/lib/python3.6/dist-packages/keras/backend/tensorflow_backend.py:74: The name tf.get_default_graph is deprecated. Please use tf.compat.v1.get_default_graph instead.\n",
            "\n",
            "2019-12-24 21:09:22,761 INFO Initializing word embedding matrix\n",
            "WARNING:tensorflow:From /usr/local/lib/python3.6/dist-packages/keras/backend/tensorflow_backend.py:174: The name tf.get_default_session is deprecated. Please use tf.compat.v1.get_default_session instead.\n",
            "\n",
            "2019-12-24 21:09:22,761 WARNING From /usr/local/lib/python3.6/dist-packages/keras/backend/tensorflow_backend.py:174: The name tf.get_default_session is deprecated. Please use tf.compat.v1.get_default_session instead.\n",
            "\n",
            "WARNING:tensorflow:From /usr/local/lib/python3.6/dist-packages/keras/backend/tensorflow_backend.py:181: The name tf.ConfigProto is deprecated. Please use tf.compat.v1.ConfigProto instead.\n",
            "\n",
            "2019-12-24 21:09:22,761 WARNING From /usr/local/lib/python3.6/dist-packages/keras/backend/tensorflow_backend.py:181: The name tf.ConfigProto is deprecated. Please use tf.compat.v1.ConfigProto instead.\n",
            "\n",
            "WARNING:tensorflow:From /usr/local/lib/python3.6/dist-packages/keras/backend/tensorflow_backend.py:186: The name tf.Session is deprecated. Please use tf.compat.v1.Session instead.\n",
            "\n",
            "2019-12-24 21:09:22,762 WARNING From /usr/local/lib/python3.6/dist-packages/keras/backend/tensorflow_backend.py:186: The name tf.Session is deprecated. Please use tf.compat.v1.Session instead.\n",
            "\n",
            "2019-12-24 21:09:22.767691: I tensorflow/core/platform/profile_utils/cpu_utils.cc:94] CPU Frequency: 2300000000 Hz\n",
            "2019-12-24 21:09:22.768009: I tensorflow/compiler/xla/service/service.cc:168] XLA service 0x1acf640 initialized for platform Host (this does not guarantee that XLA will be used). Devices:\n",
            "2019-12-24 21:09:22.768050: I tensorflow/compiler/xla/service/service.cc:176]   StreamExecutor device (0): Host, Default Version\n",
            "2019-12-24 21:09:22.795444: I tensorflow/stream_executor/platform/default/dso_loader.cc:44] Successfully opened dynamic library libcuda.so.1\n",
            "2019-12-24 21:09:22.898195: I tensorflow/stream_executor/cuda/cuda_gpu_executor.cc:983] successful NUMA node read from SysFS had negative value (-1), but there must be at least one NUMA node, so returning NUMA node zero\n",
            "2019-12-24 21:09:22.899254: I tensorflow/compiler/xla/service/service.cc:168] XLA service 0x1acfb80 initialized for platform CUDA (this does not guarantee that XLA will be used). Devices:\n",
            "2019-12-24 21:09:22.899295: I tensorflow/compiler/xla/service/service.cc:176]   StreamExecutor device (0): Tesla P100-PCIE-16GB, Compute Capability 6.0\n",
            "2019-12-24 21:09:22.899531: I tensorflow/stream_executor/cuda/cuda_gpu_executor.cc:983] successful NUMA node read from SysFS had negative value (-1), but there must be at least one NUMA node, so returning NUMA node zero\n",
            "2019-12-24 21:09:22.900291: I tensorflow/core/common_runtime/gpu/gpu_device.cc:1618] Found device 0 with properties: \n",
            "name: Tesla P100-PCIE-16GB major: 6 minor: 0 memoryClockRate(GHz): 1.3285\n",
            "pciBusID: 0000:00:04.0\n",
            "2019-12-24 21:09:22.900676: I tensorflow/stream_executor/platform/default/dso_loader.cc:44] Successfully opened dynamic library libcudart.so.10.1\n",
            "2019-12-24 21:09:22.902620: I tensorflow/stream_executor/platform/default/dso_loader.cc:44] Successfully opened dynamic library libcublas.so.10\n",
            "2019-12-24 21:09:22.904390: I tensorflow/stream_executor/platform/default/dso_loader.cc:44] Successfully opened dynamic library libcufft.so.10\n",
            "2019-12-24 21:09:22.904801: I tensorflow/stream_executor/platform/default/dso_loader.cc:44] Successfully opened dynamic library libcurand.so.10\n",
            "2019-12-24 21:09:22.906827: I tensorflow/stream_executor/platform/default/dso_loader.cc:44] Successfully opened dynamic library libcusolver.so.10\n",
            "2019-12-24 21:09:22.907845: I tensorflow/stream_executor/platform/default/dso_loader.cc:44] Successfully opened dynamic library libcusparse.so.10\n",
            "2019-12-24 21:09:22.911818: I tensorflow/stream_executor/platform/default/dso_loader.cc:44] Successfully opened dynamic library libcudnn.so.7\n",
            "2019-12-24 21:09:22.911941: I tensorflow/stream_executor/cuda/cuda_gpu_executor.cc:983] successful NUMA node read from SysFS had negative value (-1), but there must be at least one NUMA node, so returning NUMA node zero\n",
            "2019-12-24 21:09:22.912771: I tensorflow/stream_executor/cuda/cuda_gpu_executor.cc:983] successful NUMA node read from SysFS had negative value (-1), but there must be at least one NUMA node, so returning NUMA node zero\n",
            "2019-12-24 21:09:22.913500: I tensorflow/core/common_runtime/gpu/gpu_device.cc:1746] Adding visible gpu devices: 0\n",
            "2019-12-24 21:09:22.913551: I tensorflow/stream_executor/platform/default/dso_loader.cc:44] Successfully opened dynamic library libcudart.so.10.1\n",
            "2019-12-24 21:09:22.915055: I tensorflow/core/common_runtime/gpu/gpu_device.cc:1159] Device interconnect StreamExecutor with strength 1 edge matrix:\n",
            "2019-12-24 21:09:22.915091: I tensorflow/core/common_runtime/gpu/gpu_device.cc:1165]      0 \n",
            "2019-12-24 21:09:22.915102: I tensorflow/core/common_runtime/gpu/gpu_device.cc:1178] 0:   N \n",
            "2019-12-24 21:09:22.915285: I tensorflow/stream_executor/cuda/cuda_gpu_executor.cc:983] successful NUMA node read from SysFS had negative value (-1), but there must be at least one NUMA node, so returning NUMA node zero\n",
            "2019-12-24 21:09:22.916135: I tensorflow/stream_executor/cuda/cuda_gpu_executor.cc:983] successful NUMA node read from SysFS had negative value (-1), but there must be at least one NUMA node, so returning NUMA node zero\n",
            "2019-12-24 21:09:22.916834: W tensorflow/core/common_runtime/gpu/gpu_bfc_allocator.cc:39] Overriding allow_growth setting because the TF_FORCE_GPU_ALLOW_GROWTH environment variable is set. Original config value was 0.\n",
            "2019-12-24 21:09:22.916877: I tensorflow/core/common_runtime/gpu/gpu_device.cc:1304] Created TensorFlow device (/job:localhost/replica:0/task:0/device:GPU:0 with 12267 MB memory) -> physical GPU (device: 0, name: Tesla P100-PCIE-16GB, pci bus id: 0000:00:04.0, compute capability: 6.0)\n",
            "WARNING:tensorflow:From /usr/local/lib/python3.6/dist-packages/keras/backend/tensorflow_backend.py:190: The name tf.global_variables is deprecated. Please use tf.compat.v1.global_variables instead.\n",
            "\n",
            "2019-12-24 21:09:22,918 WARNING From /usr/local/lib/python3.6/dist-packages/keras/backend/tensorflow_backend.py:190: The name tf.global_variables is deprecated. Please use tf.compat.v1.global_variables instead.\n",
            "\n",
            "WARNING:tensorflow:From /usr/local/lib/python3.6/dist-packages/keras/backend/tensorflow_backend.py:199: The name tf.is_variable_initialized is deprecated. Please use tf.compat.v1.is_variable_initialized instead.\n",
            "\n",
            "2019-12-24 21:09:22,918 WARNING From /usr/local/lib/python3.6/dist-packages/keras/backend/tensorflow_backend.py:199: The name tf.is_variable_initialized is deprecated. Please use tf.compat.v1.is_variable_initialized instead.\n",
            "\n",
            "WARNING:tensorflow:From /usr/local/lib/python3.6/dist-packages/keras/backend/tensorflow_backend.py:206: The name tf.variables_initializer is deprecated. Please use tf.compat.v1.variables_initializer instead.\n",
            "\n",
            "2019-12-24 21:09:22,948 WARNING From /usr/local/lib/python3.6/dist-packages/keras/backend/tensorflow_backend.py:206: The name tf.variables_initializer is deprecated. Please use tf.compat.v1.variables_initializer instead.\n",
            "\n",
            "2019-12-24 21:09:23,699 INFO 9000/9003 word vectors initialized (hit rate: 99.97%)\n",
            "2019-12-24 21:09:23,730 INFO Initializing aspect embedding matrix as centroid of kmean clusters\n",
            "WARNING:tensorflow:From /usr/local/lib/python3.6/dist-packages/keras/optimizers.py:790: The name tf.train.Optimizer is deprecated. Please use tf.compat.v1.train.Optimizer instead.\n",
            "\n",
            "2019-12-24 21:09:24,006 WARNING From /usr/local/lib/python3.6/dist-packages/keras/optimizers.py:790: The name tf.train.Optimizer is deprecated. Please use tf.compat.v1.train.Optimizer instead.\n",
            "\n",
            "2019-12-24 21:09:24,025 INFO --------------------------------------------------------------------------------\n",
            "  0% 0/594 [00:00<?, ?it/s]WARNING:tensorflow:From /usr/local/lib/python3.6/dist-packages/tensorflow_core/python/ops/math_grad.py:1424: where (from tensorflow.python.ops.array_ops) is deprecated and will be removed in a future version.\n",
            "Instructions for updating:\n",
            "Use tf.where in 2.0, which has the same broadcast rule as np.where\n",
            "2019-12-24 21:09:24,154 WARNING From /usr/local/lib/python3.6/dist-packages/tensorflow_core/python/ops/math_grad.py:1424: where (from tensorflow.python.ops.array_ops) is deprecated and will be removed in a future version.\n",
            "Instructions for updating:\n",
            "Use tf.where in 2.0, which has the same broadcast rule as np.where\n",
            "WARNING:tensorflow:From /usr/local/lib/python3.6/dist-packages/keras/backend/tensorflow_backend.py:986: The name tf.assign_add is deprecated. Please use tf.compat.v1.assign_add instead.\n",
            "\n",
            "2019-12-24 21:09:24,739 WARNING From /usr/local/lib/python3.6/dist-packages/keras/backend/tensorflow_backend.py:986: The name tf.assign_add is deprecated. Please use tf.compat.v1.assign_add instead.\n",
            "\n",
            "WARNING:tensorflow:From /usr/local/lib/python3.6/dist-packages/keras/backend/tensorflow_backend.py:973: The name tf.assign is deprecated. Please use tf.compat.v1.assign instead.\n",
            "\n",
            "2019-12-24 21:09:24,819 WARNING From /usr/local/lib/python3.6/dist-packages/keras/backend/tensorflow_backend.py:973: The name tf.assign is deprecated. Please use tf.compat.v1.assign instead.\n",
            "\n",
            "2019-12-24 21:09:25.181541: E tensorflow/core/grappler/optimizers/dependency_optimizer.cc:697] Iteration = 0, topological sort failed with message: The graph couldn't be sorted in topological order.\n",
            "2019-12-24 21:09:25.184532: E tensorflow/core/grappler/optimizers/dependency_optimizer.cc:697] Iteration = 1, topological sort failed with message: The graph couldn't be sorted in topological order.\n",
            "2019-12-24 21:09:25.187617: E tensorflow/core/grappler/optimizers/meta_optimizer.cc:533] layout failed: Invalid argument: The graph couldn't be sorted in topological order.\n",
            "2019-12-24 21:09:25.193703: E tensorflow/core/grappler/optimizers/meta_optimizer.cc:533] model_pruner failed: Invalid argument: MutableGraphView::MutableGraphView error: node 'att_weights/concat_1' has self cycle fanin 'att_weights/concat_1'.\n",
            "2019-12-24 21:09:25.208125: E tensorflow/core/grappler/optimizers/meta_optimizer.cc:533] remapper failed: Invalid argument: MutableGraphView::MutableGraphView error: node 'att_weights/concat_1' has self cycle fanin 'att_weights/concat_1'.\n",
            "2019-12-24 21:09:25.209925: E tensorflow/core/grappler/optimizers/meta_optimizer.cc:533] arithmetic_optimizer failed: Invalid argument: The graph couldn't be sorted in topological order.\n",
            "2019-12-24 21:09:25.211730: E tensorflow/core/grappler/optimizers/dependency_optimizer.cc:697] Iteration = 0, topological sort failed with message: The graph couldn't be sorted in topological order.\n",
            "2019-12-24 21:09:25.214003: E tensorflow/core/grappler/optimizers/dependency_optimizer.cc:697] Iteration = 1, topological sort failed with message: The graph couldn't be sorted in topological order.\n",
            "2019-12-24 21:09:25.291831: I tensorflow/stream_executor/platform/default/dso_loader.cc:44] Successfully opened dynamic library libcublas.so.10\n",
            "100% 594/594 [00:07<00:00, 79.27it/s]\n",
            "Aspect 0:\n",
            "['бум|0.6930151', 'заявка|0.6922392', 'студентка|0.68652225', 'этак|0.6794805', 'кукарача|0.6719216', 'осуществить|0.66890335', 'банкетик|0.6671258', 'максимальный|0.6666266', 'англичанин|0.6649225', 'майя|0.662092', 'балет|0.66205645', 'хх|0.6619916', 'ву|0.66114897', 'эксцесс|0.6566158', 'луна|0.6559948', 'оффициант|0.65542626', 'фея|0.6550915', 'нажать|0.6533258', 'возвращение|0.6520977', 'басс|0.6514005', 'шато|0.65011036', 'no|0.6475502', 'выключать|0.6464841', 'party|0.6462827', 'good|0.6447582', 'потуга|0.64473945', 'food|0.6435165', 'грузин|0.64347625', 'negativa|0.6431593', 'удар|0.64244753', 'метод|0.6413344', 'rr|0.6400733', 'чад|0.63999426', 'рекорд|0.63923174', 'da|0.63866615', 'доза|0.6385089', 'халява|0.63764286', 'чтоль|0.6361341', 'разъяснить|0.6329453', 'танцор|0.63282704', 'именной|0.6323167', 'рассеянный|0.63192534', 'недоработка|0.631821', 'будить|0.63159895', 'девятка|0.63145167', 'набраться|0.63139534', 'школьник|0.63049513', 'потребление|0.63016796', 'place|0.6301557', 'пать|0.63011724', 'дядька|0.63009095', 'прайс|0.6298634', 'па|0.62966454', 'население|0.62952113', 'харизма|0.6293054', 'бабка|0.6290834', 'космический|0.62848705', 'service|0.6284217', 'гамбринус|0.6278684', 'вопль|0.6278256', 'противоположность|0.62724817', 'полуночь|0.6270217', 'зарубежный|0.62685585', 'уважительный|0.62636787', 'новизна|0.6262472', 'плач|0.6261914', 'разумно|0.62609553', 'борт|0.6260805', 'аккомпанемент|0.6252358', 'джон|0.62501794', 'сетевика|0.62464225', 'резкий|0.62453073', 'диапазон|0.62424594', 'тавтология|0.62377584', 'корчма|0.62348914', 'образец|0.62333393', 'you|0.6224632', 'клаб|0.6221367', 'my|0.6208383', 'эт|0.62021035', 'усталость|0.6202088', 'паника|0.61975116', 'отравить|0.6192317', 'вышеуказанный|0.6189277', 'президент|0.61889136', 'принтер|0.6187066', 'блюз|0.6185554', 'текущий|0.61815864', 'кассовый|0.61811745', 'временно|0.6179693', 'выписать|0.6176077', 'доход|0.61742306', 'раздумье|0.61740255', 'индустриальный|0.6163174', 'двенадцать|0.6162897', 'this|0.616066', 'wifi|0.61567235', 'траппист|0.61555666', 'ть|0.615504', 'флаера|0.6153922']\n",
            "Aspect 1:\n",
            "['масло|0.5533272', 'солёный|0.54874825', 'корочка|0.54088473', 'сверху|0.54068923', 'кусочек|0.5389533', 'соль|0.533905', 'лука|0.5329213', 'нарезать|0.52568144', 'заправка|0.5249715', 'помидор|0.5234973', 'майонез|0.5230926', 'слайс|0.5229757', 'хрустеть|0.52292', 'уксус|0.51871216', 'выращивать|0.51866317', 'рот|0.51785815', 'помидорка|0.51426494', 'разрезать|0.51353467', 'орешек|0.51293457', 'посыпать|0.51156384', 'пармезан|0.507083', 'плавать|0.5069952', 'кубик|0.50671184', 'жёсткий|0.5054519', 'жир|0.5031971', 'бальзамик|0.4999127', 'порезать|0.49893683', 'каперс|0.49891058', 'зелень|0.49884486', 'жидкий|0.49836564', 'черри|0.49768126', 'булка|0.49752802', 'мелко|0.49717185', 'специя|0.49620047', 'обжарить|0.49564278', 'яйцо|0.49468365', 'пережарить|0.4942618', 'варёный|0.49368268', 'безвкусный|0.4921031', 'огурец|0.49117047', 'заморозка|0.49087024', 'перец|0.49085078', 'петрушка|0.49074128', 'фасоль|0.48660737', 'плесень|0.48633718', 'сырой|0.48624218', 'трава|0.48507702', 'выковыривать|0.4839781', 'капуста|0.48390386', 'морковь|0.4832551', 'бальзамико|0.48283702', 'залить|0.48249763', 'тонкий|0.4821319', 'руккола|0.4806471', 'слой|0.47949892', 'ломтик|0.47829098', 'перчик|0.4774055', 'кусок|0.475606', 'спаржа|0.4749351', 'разогреть|0.47332245', 'жирный|0.4723342', 'полить|0.47225267', 'толстой|0.4712995', 'морковка|0.46932107', 'песто|0.4686368', 'поджарить|0.46818137', 'капля|0.46755892', 'прогорклый|0.46738568', 'горка|0.46693018', 'цукиня|0.46607256', 'бульон|0.4643535', 'бекон|0.46395922', 'заправить|0.46340874', 'травка|0.46338028', 'соломка|0.46225145', 'долька|0.46220934', 'мариновать|0.4618671', 'цезар|0.46073598', 'утка|0.46044746', 'орех|0.4602124', 'авокадо|0.45956856', 'пресный|0.4583941', 'крупно|0.45833576', 'кура|0.45829898', 'консервированный|0.4579472', 'веточка|0.45779347', 'фарш|0.4577219', 'курочка|0.45766142', 'резиновый|0.45751512', 'чеснок|0.4569803', 'лук|0.4563579', 'свёкла|0.45466906', 'кедровый|0.4537205', 'лежалый|0.4535858', 'зуб|0.4530222', 'репчатый|0.45250434', 'консистенция|0.451881', 'свежесть|0.45055088', 'посолить|0.4486844', 'вялый|0.44690317']\n",
            "Aspect 2:\n",
            "['орех|0.6942692', 'банановый|0.68670845', 'суфле|0.6838041', 'банан|0.68081987', 'малин|0.6806845', 'миндальный|0.6803255', 'желе|0.6796227', 'сахарный|0.67946017', 'яблоко|0.67706406', 'цитрусовый|0.67432874', 'сладость|0.67321765', 'слоёный|0.6727191', 'карамель|0.6716888', 'ягода|0.6716602', 'изюм|0.6716146', 'маракуйя|0.67014897', 'слой|0.66936606', 'цедра|0.6682356', 'трубочка|0.6675896', 'прослойка|0.6663971', 'мусса|0.66605353', 'грецкий|0.6655979', 'мусс|0.6644929', 'взбить|0.6631776', 'абрикос|0.66180444', 'свежеть|0.6616078', 'пропитать|0.66100836', 'кокосовый|0.6603517', 'манго|0.66033113', 'тёртый|0.65942186', 'ананас|0.65915453', 'груша|0.6578341', 'манговый|0.6563522', 'карамельный|0.6562581', 'шоколад|0.65620863', 'трюфель|0.65548956', 'корица|0.65524346', 'мёд|0.65510964', 'сливка|0.6545179', 'стружка|0.65414965', 'ягодный|0.65382016', 'мятный|0.65303195', 'креманка|0.6524694', 'творожный|0.65089107', 'личить|0.6503964', 'карамелизировать|0.6496649', 'брусника|0.64941645', 'орешек|0.6490778', 'бисквит|0.6481603', 'фисташка|0.64776075', 'песочный|0.64716184', 'творог|0.6449771', 'румяный|0.644911', 'лимонный|0.6447653', 'ореховый|0.6446201', 'ягодка|0.6435037', 'сливочный|0.64279896', 'джема|0.64243805', 'арбуз|0.6419755', 'рикоттой|0.64191115', 'какао|0.6409308', 'чернослив|0.6401204', 'апельсин|0.63987494', 'ваниль|0.6396902', 'пудра|0.63962257', 'шарик|0.6386879', 'тест|0.6381358', 'клубника|0.63749456', 'полить|0.6373385', 'покупной|0.6372454', 'веточка|0.63718885', 'марципановый|0.63705593', 'печение|0.63676333', 'плотный|0.6365138', 'сорбетом|0.63614607', 'медовый|0.63484913', 'морковный|0.63475513', 'добавление|0.63440937', 'вишня|0.63430405', 'развалина|0.63373816', 'основа|0.63370985', 'маскарпон|0.6329632', 'экземпляр|0.63292074', 'кедровый|0.63197243', 'миндаль|0.6318811', 'базилик|0.63180774', 'морковка|0.6317712', 'безе|0.63176703', 'рикотт|0.6317121', 'курага|0.63159835', 'прилагаться|0.62923133', 'зерно|0.62856114', 'треск|0.6284437', 'сливовый|0.6283733', 'тушёнка|0.6281979', 'ледяной|0.628035', 'киви|0.6277288', 'добавка|0.62718976', 'посыпать|0.6271683', 'сметанный|0.62683195']\n",
            "Aspect 3:\n",
            "['господин|0.73886514', 'бояться|0.71150804', 'стороной|0.71048015', 'ум|0.6981249', 'здоровье|0.687091', 'обходить|0.6859194', 'простить|0.6801725', 'срочно|0.6788624', 'мысль|0.6785684', 'слышать|0.672868', 'пусть|0.6718073', 'перестать|0.665402', 'право|0.6653367', 'ресторатор|0.66397643', 'знак|0.6625072', 'обидеть|0.6622837', 'надоесть|0.6617869', 'бороться|0.66065836', 'пора|0.65940446', 'интерес|0.6590964', 'сила|0.6464286', 'терять|0.64580363', 'продолжать|0.6443401', 'речь|0.64388365', 'быдло|0.6417354', 'научить|0.6410439', 'удалять|0.64099455', 'высказать|0.6398425', 'уверенный|0.6376968', 'значит|0.63520193', 'призывать|0.63383365', 'плевать|0.63339233', 'уважаемый|0.63327867', 'защита|0.6328541', 'постараться|0.6321603', 'звезда|0.6312611', 'наплевать|0.628381', 'признаваться|0.6271705', 'ибо|0.6267482', 'борис|0.62556803', 'человек_который|0.62496173', 'негатив|0.624076', 'сменить|0.6225725', 'развитие|0.62236285', 'история|0.61973935', 'зря|0.6190671', 'скоро|0.6180979', 'надеяться|0.6179564', 'привет|0.6145281', 'обратный|0.6144792', 'вечно|0.6141464', 'владелец|0.6140907', 'верить|0.6136533', 'задуматься|0.6136334', 'личный|0.612563', 'учить|0.6092156', 'навсегда|0.6069346', 'мат|0.60683525', 'хозяин|0.6067216', 'автор|0.606025', 'зарабатывать|0.6048758', 'полениться|0.603936', 'знаете|0.6019505', 'чтожий|0.59773624', 'уволить|0.59769446', 'репутация|0.59685266', 'прочесть|0.5967647', 'держаться|0.5964131', 'допускать|0.59525263', 'ресурс|0.59411454', 'иначе|0.59350705', 'управленец|0.592214', 'набирать|0.5921979', 'наказать|0.592054', 'завсегдатай|0.5919584', 'растерять|0.59181607', 'жизнь|0.59112084', 'совесть|0.5903582', 'сдерживать|0.5901139', 'менеджмент|0.58976305', 'лень|0.58947146', 'руководство|0.5893284', 'строго|0.5883558', 'текучка|0.58754206', 'хамство|0.5851215', 'сводить|0.5846708', 'гениальный|0.5841585', 'наводка|0.5834185', 'долг|0.58267176', 'руководитель|0.58239186', 'неужели|0.58201116', 'завтра|0.5814574', 'пожрать|0.5810754', 'таракан|0.58092695', 'столкнуться|0.58090675', 'личность|0.5809011', 'удивляться|0.5807712', 'отсюда|0.5802159', 'вновь|0.58000624', 'ругаться|0.5788876']\n",
            "Aspect 4:\n",
            "['девочка|0.78955674', 'мальчик|0.78354764', 'улыбаться|0.769403', 'весь_время|0.7222299', 'девушка|0.7060864', 'молодая_человек|0.70368826', 'парень|0.69389725', 'официантка|0.6910243', 'пепельница|0.68730986', 'официант|0.681656', 'интересоваться|0.6724356', 'улыбка|0.6712474', 'постоянно|0.6695595', 'улыбчивый|0.6545011', 'барышня|0.65368044', 'наш_столик|0.64801335', 'провожать|0.646203', 'успевать|0.6455531', 'юноша|0.6430377', 'забывать|0.6415949', 'обслуживать|0.6392032', 'медленно|0.635445', 'менять|0.6325295', 'убирать|0.63095117', 'мила|0.62478244', 'соседний_столик|0.6237273', 'звать|0.62145567', 'спрашивать|0.6213511', 'прощаться|0.61702114', 'здороваться|0.6165521', 'появляться|0.607698', 'молниеносно|0.60177517', 'офицант|0.59890914', 'лицо|0.59652436', 'уносить|0.59396493', 'внимательно|0.5923754', 'бегать|0.58988893', 'молоденький|0.58951694', 'вежливый|0.5891241', 'суетиться|0.5855845', 'высокомерный|0.58546364', 'хостёс|0.58499163', 'подходить|0.5831841', 'стараться|0.57972085', 'убираться|0.575547', 'шустрый|0.57427824', 'разговаривать|0.5742651', 'шутить|0.57328093', 'оперативно|0.5724598', 'вовремя|0.5699222', 'замечать|0.569612', 'доброжелательно|0.5677122', 'приветливо|0.56740254', 'забирать|0.5643544', 'задержка|0.56377196', 'грязный|0.5631154', 'любезный|0.56301785', 'порхать|0.56192267', 'поменять|0.5600353', 'молодая|0.55890226', 'приходиться|0.55738354', 'очень_быстро|0.5570779', 'запара|0.55688155', 'обслужить|0.55556744', 'улыбнуться|0.55007035', 'бармен|0.5476653', 'расторопный|0.5465402', 'реагировать|0.5445852', 'кальянщик|0.54392886', 'исчезать|0.5438018', 'обслуживающий|0.5432818', 'общаться|0.5411185', 'мужчина|0.53960925', 'смена|0.5370203', 'отвечать|0.53502643', 'ловить|0.53393245', 'хостесса|0.5303073', 'принять_заказ|0.52976626', 'быстро|0.5286956', 'гардеробщик|0.52279717', 'стойка|0.5202247', 'поздороваться|0.5186292', 'приноситься|0.51764405', 'недовольный|0.5146495', 'принимать|0.5142888', 'болтать|0.5134067', 'встречать|0.51284546', 'подливать|0.5127655', 'неприветливый|0.51024437', 'корректно|0.5082216', 'офицантка|0.5068469', 'предупредительно|0.506636', 'моментально|0.506618', 'следить|0.5060792', 'справляться|0.5052599', 'чётко|0.5049832', 'учтивый|0.5016819', 'никто_не|0.50030303', 'дружелюбно|0.49820787', 'внешность|0.4967069']\n",
            "Aspect 5:\n",
            "['помещение|0.76362336', 'зона|0.7384444', 'зала|0.6847516', 'диванчик|0.6834719', 'диван|0.6793289', 'вентиляция|0.67553306', 'душный|0.6730488', 'комната|0.66588265', 'дым|0.66209817', 'вытяжка|0.6535436', 'неуютный|0.6507119', 'кабинка|0.64567554', 'пространство|0.6434547', 'уголок|0.63778716', 'кресло|0.6351362', 'этаж|0.6326861', 'зальчик|0.63089037', 'тесно|0.62890726', 'зал|0.62206316', 'светло|0.61952543', 'второе_этаж|0.61721534', 'веранда|0.61701596', 'шумно|0.6136764', 'просторно|0.6077205', 'комнатка|0.60725516', 'прохладно|0.605441', 'курящий|0.6034405', 'окно|0.6017379', 'камин|0.6012405', 'удобно|0.5992825', 'просторный|0.5962471', 'балкон|0.596154', 'накурить|0.5900731', 'экран|0.58858', 'воздух|0.5868977', 'деление|0.5835185', 'курить|0.5819425', 'свет|0.58175904', 'стул|0.5813667', 'некурящий|0.5794887', 'аквариум|0.5781093', 'дальний|0.57622945', 'детский_комната|0.57609916', 'туалет|0.5709864', 'комфортно|0.5689735', 'терасс|0.5664416', 'потолок|0.56395113', 'барный_стойка|0.56269634', 'разделение|0.5604123', 'удобный|0.55958736', 'дымно|0.55857956', 'расположиться|0.5574996', 'плазма|0.55502', 'зеркало|0.5505092', 'мебель|0.5489539', 'терраса|0.5475302', 'стена|0.5470534', 'телевизор|0.5468501', 'сигаретный|0.5451111', 'кондиционер|0.5438031', 'освещение|0.5431317', 'табачный|0.54152906', 'беседка|0.5351063', 'уединённость|0.53176063', 'курильщик|0.52958816', 'светлый|0.52603066', 'дерево|0.5232072', 'вокруг|0.523064', 'уединённый|0.5215177', 'сцена|0.5207363', 'люстра|0.51906', 'потолочь|0.5179735', 'друг_друг|0.5176897', 'шум|0.5174533', 'панель|0.51712555', 'близко|0.51692367', 'неудобный|0.5160947', 'угол|0.51580995', 'прокурить|0.5144665', 'мешать|0.513381', 'танцполый|0.51173973', 'устроиться|0.5103558', 'полумрак|0.50993127', 'расположить|0.5074852', 'залом|0.50521815', 'дворик|0.50286305', 'плед|0.5005864', 'дышать|0.49962962', 'тесновато|0.4994526', 'закутка|0.4994067', 'интерьер|0.4987702', 'внутри|0.49863574', 'темно|0.498295', 'игрушка|0.49702406', 'стен|0.49589145', 'внизу|0.4950052', 'тв|0.49444997', 'напрягать|0.49292576', 'темноватый|0.4917779', 'стульчик|0.49164546']\n",
            "Aspect 6:\n",
            "['соответствовать|0.7482027', 'завысить|0.7286172', 'сравнение|0.7268518', 'категория|0.7233393', 'уровень|0.71855485', 'крайний_мера|0.7133451', 'ценник|0.7129174', 'ценовый|0.71103746', 'выше|0.7097384', 'считать|0.70446163', 'отличие|0.6942917', 'ниже|0.68814504', 'оценивать|0.6858375', 'отличаться|0.6776166', 'качество|0.6747538', 'фаста|0.6743155', 'многий|0.6729996', 'назвать|0.6691314', 'забегаловка|0.6656218', 'принцип|0.66537726', 'средний|0.6629342', 'подобный|0.6611974', 'большинство|0.66047835', 'цена|0.660282', 'цена_качество|0.6581296', 'учитывать|0.6498666', 'фуд|0.646412', 'среднее|0.64516675', 'недостаток|0.6365671', 'плохой|0.62749934', 'формат|0.6265265', 'скорее|0.6217937', 'демократичный|0.6210948', 'политика|0.6207892', 'адекватный|0.6173059', 'высокий|0.61665523', 'касаться|0.6156707', 'изыск|0.613611', 'обычный|0.6131007', 'сетевой|0.61013484', 'простой|0.6064249', 'оценка|0.6042942', 'приемлемый|0.6032803', 'иной|0.6021025', 'посредственный|0.5933893', 'японский|0.58884144', 'приличный|0.5880329', 'удивлять|0.587448', 'низкий|0.58603597', 'европейский|0.5845763', 'достойный|0.5843096', 'намного|0.58390796', 'средненький|0.5826872', 'претендовать|0.5816773', 'гуманный|0.5813763', 'ресторанный|0.5780376', 'дешёвый|0.5772041', 'китайский|0.5742239', 'последний_время|0.57113993', 'вполне|0.56997174', 'весь_остальной|0.5698966', 'худой|0.5694032', 'менее|0.5677139', 'однако|0.5672871', 'гинза|0.5672021', 'дорогой|0.5647554', 'не_мочь_сказать|0.56155884', 'пожалуй|0.56095827', 'но_это|0.5583215', 'согласный|0.5582013', 'оправдывать|0.556846', 'судить|0.55560935', 'например|0.55440724', 'соотношение_цена_качество|0.55421793', 'являться|0.55304396', 'значительно|0.55214745', 'понятный|0.55191374', 'однозначно|0.5491493', 'претензия|0.5486944', 'дёшево|0.54603267', 'придираться|0.5437949', 'десятка|0.54128903', 'стандартный|0.54095125', 'умеренный|0.5398712', 'наверное|0.53742415', 'разнообразие|0.53560984', 'хромать|0.5354866', 'дороговатый|0.53415525', 'качественный|0.53389317', 'продукт|0.53242946', 'дорого|0.5307963', 'взгляд|0.52973795', 'измениться|0.52759707', 'сравнивать|0.5256151', 'любой|0.5248429', 'общепит|0.5247065', 'план|0.524261', 'соответствующий|0.5235281', 'относиться|0.5232626', 'удаваться|0.5216204']\n",
            "Aspect 7:\n",
            "['висок|0.75464416', 'коктейль|0.7472069', 'мохитый|0.7467813', 'морс|0.72617304', 'безалкогольный|0.72162676', 'лимонад|0.71156', 'крепкий|0.7091291', 'литр|0.7065593', 'алкогольный|0.68954605', 'эспрессо|0.6882138', 'чай|0.6852615', 'мартини|0.6813247', 'коньяк|0.6681088', 'пить|0.6648683', 'водка|0.6634695', 'бутылочка|0.65993905', 'пила|0.65881264', 'глинтвейн|0.6579811', 'америкать|0.65273774', 'кофе|0.64850533', 'выпить|0.6375339', 'сок|0.63573956', 'чаемый|0.62762', 'вишнёвый|0.62687194', 'чашечка|0.6246662', 'чайник|0.6143508', 'сидр|0.6137572', 'капучиный|0.6120312', 'руль|0.61169374', 'ликёр|0.61114573', 'напиток|0.60979223', 'ром|0.6090754', 'кальян|0.60864127', 'сироп|0.6075543', 'квас|0.6071428', 'коктель|0.6009673', 'компот|0.60056347', 'латта|0.598014', 'сангрия|0.59696335', 'кружка|0.59415483', 'крушовица|0.59108865', 'мл|0.58791274', 'лонг|0.5871115', 'пирожное|0.58652043', 'чаять|0.58159614', 'грапп|0.5783291', 'ньюкасл|0.5751818', 'облепиховый|0.57447386', 'вода|0.5738921', 'стакан|0.5715302', 'настойка|0.5714037', 'угостить|0.5664273', 'чашка|0.56267846', 'бокал|0.5613201', 'пинта|0.56092346', 'графин|0.560541', 'мороженое|0.5595764', 'сорт|0.5593642', 'кувшин|0.5566318', 'лёд|0.5551494', 'клубничный|0.55359', 'свежевыжать|0.55019146', 'закусить|0.5491397', 'бесплатный|0.5477799', 'игристый|0.5464929', 'нефильтрованный|0.5448135', 'чабрец|0.54398197', 'вод|0.5396876', 'лимончелло|0.5384219', 'фреш|0.53736186', 'текила|0.53465605', 'минеральный|0.53444946', 'бокальчик|0.533736', 'клюквенный|0.5305251', '100р|0.52898633', 'айленд|0.5289773', 'стаканчик|0.5277565', 'дайкири|0.5243606', 'джина|0.5206627', 'алкоголь|0.5192469', 'бланша|0.51893425', 'имбирный|0.5180898', 'каберне|0.5176862', 'наливать|0.5169649', 'рюмка|0.5155904', 'освежать|0.51347923', 'попить|0.5134427', 'разливный|0.51341426', 'кофейный|0.5118214', 'бутылочный|0.5101787', 'пакетик|0.5091404', 'байский|0.5091334', 'пивко|0.5090208', 'бутылка|0.5073412', 'медовуха|0.50653666', 'эль|0.50541896', 'яблочный|0.50473434', 'литровый|0.50470304', 'чайничек|0.50468975', 'гриджио|0.50356084']\n",
            "Aspect 8:\n",
            "['организация|0.77749705', 'тамада|0.7627194', 'организовать|0.7405938', 'подготовка|0.73041344', 'свадебный|0.73021793', 'торжество|0.72600406', 'праздник|0.71094286', 'благодарность|0.7046536', 'весь_гость|0.69848776', 'мероприятие|0.6957771', 'молодожён|0.6929879', 'весь_наш|0.6925163', 'огромный_спасибо|0.6871398', 'ольга|0.68677866', 'пожелание|0.6811704', 'подарок|0.6806499', 'банкет|0.67037827', 'организатор|0.66895914', 'майкл|0.6672198', 'невеста|0.6633675', 'ирина|0.655966', 'большой_спасибо|0.6452168', 'свадьба|0.6445259', 'ведущий|0.6407647', 'директор|0.6390413', 'банкетный|0.6386385', 'фуршет|0.6377468', 'отдельный_спасибо|0.6308991', 'владимир|0.62659717', 'учесть|0.6204828', 'каравай|0.618806', 'команда|0.61868167', 'профессионал|0.6170254', 'евгений|0.61523557', 'наталья|0.61368275', 'елена|0.61046433', 'коллектив|0.61017805', 'проведение|0.60882914', 'профессионализм|0.60704046', 'торт|0.60294634', 'сергей|0.60174584', 'сотрудник|0.6001645', 'марин|0.5991651', 'татьяна|0.59554464', 'кондитер|0.59378684', 'наш_свадьба|0.59329045', 'номер|0.59314144', 'выражать|0.59056926', 'благодаря|0.58997524', 'уважение|0.5897031', 'шеф_повар|0.58585733', 'алексей|0.58357453', 'александр|0.5776123', 'бельканто|0.57594144', 'станислав|0.57572395', 'анастасий|0.5742506', 'честь|0.57084846', 'бравый|0.5690502', 'дмитрий|0.5690471', 'менеджер|0.56842935', 'благодарить|0.5674782', 'участие|0.563921', 'программа|0.56065536', 'помощь|0.5599513', 'банкетный_зал|0.55874604', 'управлять|0.55816185', 'совет|0.5563563', 'подарить|0.54988253', 'весь_наш_пожелание|0.5486016', 'поблагодарить|0.5482426', 'гость|0.5462458', 'жених|0.54550016', 'договор|0.54098', 'новый_год|0.5408705', 'фейерверк|0.54054135', 'юбилей|0.53945035', 'признательность|0.5370776', 'шоу|0.5353024', 'фотограф|0.53422904', 'праздничный|0.53277034', 'поздравление|0.5295204', 'чуткий|0.5269642', 'виктор|0.5257766', 'дмитрия|0.5256089', 'андрей|0.52495426', 'родитель|0.524832', 'регистрация|0.52331346', 'событие|0.5208356', 'профессиональный|0.51903194', 'поклон|0.51844347', 'юлий|0.51634943', 'незабываемый|0.5154052', 'жанна|0.5150082', 'помочь|0.51361597', 'марина|0.5129727', 'выразить|0.51276743', 'мастер|0.51220185', 'весь_гость_остаться_довольный|0.51162124', 'юлия|0.50934464', 'выездной|0.5071302']\n",
            "Aspect 9:\n",
            "['заехать|0.76310015', 'сегодня|0.75967324', 'вчера|0.74923474', 'пообедать|0.73737085', 'поехать|0.72488487', 'поужинать|0.71821666', 'обедать|0.68570304', 'воскресение|0.67828155', 'подружка|0.67115104', 'недавно|0.67067295', 'ужинать|0.6684694', 'случайно|0.6679318', 'прогулка|0.66635525', 'перекусить|0.66450757', 'однокурсник|0.66449934', 'заезжать|0.6640494', 'пр|0.65863883', 'ездить|0.6583419', 'забежать|0.6552013', 'жена|0.6474893', 'заслать|0.6418792', 'ехать|0.6381755', 'гулять|0.6336033', 'побывать|0.6253003', 'московский|0.62387574', 'приезжать|0.62361467', 'петроградка|0.62183285', 'отправиться|0.62155753', 'забегать|0.61831', 'заглянуть|0.6140158', 'днём|0.61272025', 'ул|0.6072178', 'мама|0.60675246', 'заскочить|0.60187376', 'это_кафе|0.5981815', 'неделя|0.5946058', 'посетить|0.5934439', 'суббота|0.59211916', 'выходной|0.59062964', 'приехать|0.5880388', 'недалеко|0.58117783', 'сходить|0.5797745', 'жить|0.57928085', 'офис|0.57771283', 'однажды|0.5756572', 'воскресный|0.5741676', 'захотеться|0.5739001', 'покушать|0.5728829', 'поход|0.5704953', 'невский|0.57031476', 'открыться|0.56998515', 'давно|0.56757563', 'месяц|0.56737506', 'вечером|0.5650674', 'район|0.5645394', 'встретиться|0.5638412', 'четверг|0.5636076', 'добраться|0.5634627', 'год_назад|0.5633136', 'захаживать|0.56139696', 'дочка|0.5611876', 'назад|0.560472', 'москва|0.5593147', 'частенько|0.5569353', 'проезжать|0.55528426', 'март|0.5550027', 'забрести|0.55156505', 'коллега|0.54966253', 'январь|0.54880893', 'ноябрь|0.5474125', 'приморский|0.5464636', 'сестра|0.5446471', 'отмечать_день_рождение|0.5426699', 'вдвоём|0.54266185', 'семья|0.54257', 'завтрак|0.54246515', 'попасть|0.537488', 'прогуливаться|0.5370705', 'питер|0.53543115', 'май|0.5353096', 'целенаправленно|0.5350536', 'специально|0.5338135', 'зайти|0.5320957', 'подруга|0.53172684', 'дом|0.53152025', 'остров|0.5289788', 'февраль|0.5289597', 'летом|0.5279775', 'полгода|0.5255637', 'перерыв|0.5249295', 'заходить|0.52455163', 'вспомнить|0.523489', 'разведка|0.5230643', 'утро|0.52256334', 'послать|0.52228594', 'парка|0.5190417', 'обед|0.51844335', 'завтракать|0.5183622', 'поздно|0.5183406', 'восстание|0.5180193']\n",
            "Aspect 10:\n",
            "['золотой|0.7003919', 'полка|0.69159484', 'старое|0.68798196', 'стен|0.6867978', 'предмет|0.68212485', 'старинный|0.67084885', 'рамка|0.66671795', 'крыша|0.66352063', 'лампа|0.6588229', 'стена|0.6585841', 'фотография|0.65768975', 'журнал|0.65581703', 'ля|0.6506585', 'внутренний|0.64812195', 'плазменный|0.64564896', 'кирпичный|0.6436757', 'стеклянный|0.6429733', 'современный|0.6403537', 'панель|0.6389225', 'газета|0.6381278', 'потолок|0.6261119', 'ширма|0.62509525', 'фильм|0.6215348', 'картина|0.6160334', 'синий|0.61597043', 'подоконник|0.6154015', 'дерево|0.61462516', 'висеть|0.6134554', 'открываться|0.61266476', 'множество|0.6123256', 'стекло|0.61091167', 'вдоль|0.61043334', 'элемент|0.60803396', 'кирпич|0.6073813', 'кровать|0.60698295', 'угол|0.6067258', 'люстра|0.6067214', 'небо|0.6037474', 'зеркало|0.6029694', 'плитка|0.6026868', 'черно|0.6026749', 'прочий|0.60169846', 'убранство|0.6003859', 'мебель|0.60023403', 'среди|0.59824395', 'штора|0.59672624', 'шарм|0.5963159', 'надпись|0.5962432', 'светящийся|0.5956092', 'свет|0.5955826', 'портрет|0.5939115', 'барный_стойка|0.5934962', 'подсветка|0.5933823', 'обилие|0.59336114', 'белоснежный|0.59283024', 'деталь|0.5907584', 'видный|0.5907464', 'располагаться|0.58973646', 'пол|0.58862954', 'вписываться|0.58857393', 'атрибутика|0.5883937', 'южный|0.58682054', 'крутить|0.5867777', 'клетка|0.58652556', 'советский|0.58573765', 'зеркальный|0.5848963', 'любоваться|0.58465445', 'дворик|0.58410877', 'светильник|0.58393896', 'блестящий|0.5835258', 'доска|0.58282006', 'полый|0.5823853', 'канал|0.58178234', 'декор|0.581774', 'полочка|0.58165824', 'полумрак|0.5809204', 'арка|0.5804041', 'лестница|0.5787316', 'роспись|0.5775084', 'буфет|0.576453', 'массивный|0.5762383', 'свод|0.57613707', 'обивка|0.57571554', 'кладка|0.5753202', 'солнце|0.5751895', 'огонь|0.574818', 'справа|0.5744246', 'абажур|0.5739222', 'открытый|0.5737196', 'обои|0.57245183', 'кожаный|0.5718713', 'забавный|0.57100403', 'занавеска|0.5709739', 'белые|0.5702249', 'ступенька|0.56982696', 'слева|0.56968296', 'известный|0.5688015', 'птичка|0.56814325', 'искусственный|0.56810343', 'красота|0.5661123']\n",
            "Aspect 11:\n",
            "['очень_порадовать|0.71039367', 'очень_понравиться|0.7101936', 'замечательный|0.69836813', 'очень_приятный|0.6966551', 'приятный|0.6960587', 'ненавязчивый|0.68766415', 'отлично|0.6737604', 'прекрасно|0.66810596', 'очень_хороший|0.662277', 'весь_очень_понравиться|0.66030765', 'вкусный_еда|0.6585004', 'порадовать|0.6556744', 'отличный|0.65302074', 'великолепный|0.646999', 'душевный|0.642112', 'весь_очень_вкусно|0.63256735', 'понравиться_весь|0.63097394', 'прекрасный|0.62402743', 'остаться_очень_довольный|0.62402475', 'изумительный|0.6231338', 'весь_очень|0.6225955', 'навязчивый|0.6196798', 'высота|0.61074895', 'весь_понравиться|0.60946625', 'супер|0.6070302', 'душевно|0.60700166', 'достойно|0.6065963', 'остаться_довольный|0.60400045', 'великолепно|0.60295945', 'превосходный|0.6023706', 'тёплый|0.60232186', 'высокий_уровень|0.60172915', 'запомниться|0.59894115', 'выше_весь_похвала|0.59344846', 'чудесно|0.5916744', 'внимательный|0.5888685', 'располагать|0.58627796', 'особенно|0.5849311', 'молодец|0.5844082', 'ммммм|0.5820437', 'классный|0.5814942', 'очень_вкусный|0.5810896', 'очень_понравиться_весь|0.57996964', 'особенный|0.5796242', 'предупредительный|0.57725346', 'восхитительный|0.56984985', 'потрясать|0.56650054', 'прийти_ещё|0.56624216', 'довольный|0.56552434', 'очень_вкусно|0.5629982', 'безупречный|0.5609685', 'качественно|0.55715734', 'доброжелательный|0.55648124', 'обстановочка|0.5543657', 'чудесный|0.5517916', 'приветливый|0.55175924', 'приятно|0.55101347', 'живот|0.54978824', 'домашний|0.5496757', 'оч|0.5490478', 'расслаблять|0.54665613', 'очень_вкусный_еда|0.5462031', 'дружелюбный|0.5427053', 'обалденный|0.5421721', 'вкусный|0.54093367', 'идеально|0.5403364', 'спокойный|0.5395499', 'отдельный_спасибо|0.5393723', 'безумно|0.538893', 'весь_советовать|0.53867966', 'вообщий|0.538142', 'ооочень_вкусный|0.5373433', 'обязательно_прийти_ещё|0.53675187', 'отзывчивый|0.53664905', 'волшебный|0.5365249', 'учтивый|0.5357148', 'особый|0.5348561', 'здорово|0.53455824', 'спасибо|0.5336738', 'шикарно|0.53305185', 'атмосфера|0.5311343', 'подкачать|0.5308326', 'очень_приятно|0.5271821', 'потрясающе|0.5262239', 'заботливый|0.5256679', 'зы|0.5244967', 'обстановка|0.5243353', 'нарекание|0.5236734', 'весь_очень_вкусный|0.52199006', 'очень_уютный|0.52080727', 'очень_очень_долго|0.5197754', 'зажигательный|0.5191964', 'порция_большой|0.51905024', 'вкусненький|0.5188706', 'отменный|0.5172603', 'качественный|0.5169089', 'позитивный|0.51605123', 'обходительный|0.5155819', 'незаметно|0.5142298', 'услужливый|0.5142044']\n",
            "Aspect 12:\n",
            "['выясниться|0.7210938', 'оплатить|0.7199842', 'дождаться|0.7112745', '15_минута|0.70514', 'полтора|0.69732016', 'пообещать|0.67701113', 'примерно|0.67697126', 'соответственно|0.6753181', 'предупредить|0.67062056', 'половина|0.67032516', 'естественно|0.66902876', 'минимум|0.6685448', '20_минута|0.6672711', 'обещать|0.6667806', 'попросить|0.664457', 'указать|0.6622023', 'десять|0.6614026', 'расчёт|0.6608451', 'пять|0.6608437', 'оплата|0.6600605', '10_минута|0.65771556', 'вернуть|0.6540035', 'предупреждать|0.6530647', 'отдать|0.6458284', 'заплатить|0.6433285', 'заполнить|0.64282596', 'это_время|0.64107025', 'сумма|0.6403991', 'оговорить|0.64009947', 'простоять|0.6380813', 'демонстративно|0.63737345', 'забрать|0.6361058', 'прождать|0.63463134', 'отказываться|0.63305354', 'прийтись|0.63277', 'сделать_заказ|0.63093233', 'ровно|0.63052994', 'вынести|0.63046825', 'полчаса|0.62935877', 'отказать|0.6291114', 'внести|0.62903756', 'час|0.62903214', 'мина|0.628947', 'сообщить|0.6273054', 'унести|0.62707126', 'максимум|0.62287253', 'включить|0.62271905', 'входить|0.6137272', 'депозит|0.6126253', 'уйти|0.61247826', 'результат|0.6124782', 'посчитать|0.61016023', 'закрытие|0.6093397', 'сообщать|0.6093317', 'рассчитать|0.6091821', 'напоминание|0.6084177', 'просидеть|0.60772896', 'уточнить|0.60279065', 'попытка|0.6015143', 'оплачивать|0.59964645', 'курс|0.5980682', 'просить|0.5974136', 'отказаться|0.5969894', 'предоплата|0.5969749', 'подождать|0.5949513', 'закончиться|0.59448427', 'итог|0.59352845', 'затем|0.59266424', 'поменять|0.5918492', 'спустя|0.589749', 'двадцать|0.58813834', 'дозаказать|0.5875601', 'потребовать|0.5868994', 'убрать|0.5845895', 'четверо|0.5836481', 'перепутать|0.5834139', 'далее|0.58339036', 'процент|0.5827187', 'пропасть|0.58228344', 'счёт|0.58008', 'ладный|0.5789529', 'течение|0.5773462', 'указанный|0.5765115', 'привезти|0.57367826', 'закрываться|0.5721692', 'пятнадцать|0.56821585', 'расплатиться|0.5674814', 'сдача|0.5668916', 'успеть|0.5608518', 'обнаружить|0.5592615', 'согласиться|0.5589943', 'обратно|0.55897176', 'бронь|0.55774117', 'около|0.55768394', '1_5_час|0.55427617', 'факт|0.55351424', 'упасть|0.5530975', 'полупустой|0.55191565', 'поздний|0.551309', 'остаток|0.549903']\n",
            "Aspect 13:\n",
            "['салат_цезарь|0.641357', 'рыба|0.6357718', 'мясной|0.63349813', 'гриль|0.6332765', 'рыбный|0.6150128', 'плов|0.6116515', 'морепродукт|0.6006068', 'говядина|0.60039246', 'шашлычок|0.59815675', 'карпаччо|0.596362', 'баклажан|0.59318185', 'дорад|0.59083045', 'свинина|0.58807665', 'вок|0.5876989', 'греческий|0.57473457', 'овощ|0.57294357', 'креветка|0.5717368', 'цезарь|0.57052827', 'стейка|0.5689558', 'салатик|0.5640615', 'курица|0.5634527', 'оливья|0.56081176', 'шашлык|0.5605491', 'пекински|0.5588013', 'дораду|0.5580478', 'мангал|0.55641663', 'солянка|0.55525255', 'осетрина|0.55417675', 'цыплёнок|0.5540586', 'форель|0.5528616', 'стейк|0.5510084', 'свинин|0.5501853', 'лазание|0.54853857', 'лосось|0.54778254', 'запечёный|0.5461576', 'куриный|0.5458121', 'приготовить|0.5451294', 'ассорти|0.5443377', 'жульен|0.5383049', 'свинный|0.5375351', 'рибай|0.53383124', 'казан|0.53260857', 'стэйк|0.52914524', 'судак|0.5271144', 'блюдо|0.52277374', 'ризотто|0.52166414', 'кебаб|0.52028865', 'стейковы|0.5181627', 'мидия|0.5171689', 'рёбрышко|0.5149521', 'харчо|0.5145033', 'уха|0.51423156', 'телятина|0.51405', 'вока|0.51348984', 'свиной|0.5129529', 'горячее_блюдо|0.5126509', 'острый|0.50959563', 'кисло_сладкое_соус|0.50877583', 'коптить|0.5078433', 'барашек|0.50661093', 'лапша|0.5066029', 'краб|0.5049145', 'котлета|0.5041907', 'паста|0.50306666', 'хачапури|0.5027561', 'долма|0.5008279', 'баранина|0.50076205', 'узбекский|0.5001547', 'бефстроганов|0.49834237', 'удон|0.4963526', 'гриб|0.4963205', 'борщ|0.49473017', 'долму|0.49463466', 'фахитос|0.4939764', 'сацивить|0.49379712', 'филе|0.4928071', 'запечь|0.49188846', 'тигровый|0.49176472', 'это_блюдо|0.49018922', 'закуска|0.48875046', 'паэлие|0.48860317', 'ягнёнок|0.4882996', 'крылышко|0.4879599', 'садж|0.48748237', 'каре|0.48740503', 'люля|0.4851424', 'стерлядь|0.48454458', 'медальон|0.4832838', 'осьминог|0.48248905', 'мраморный|0.4811573', 'супчик|0.48018157', 'сибас|0.4790632', 'овощной|0.47705382', 'тара_тара|0.4766932', 'камчатский|0.47640255', 'колбаска|0.4762913', 'ушко|0.47554997', 'кальмар|0.47185728', 'бургера|0.47122347', 'салат|0.4710318']\n",
            "2019-12-24 21:09:31,908 INFO Epoch 0, train: 7s\n",
            "2019-12-24 21:09:31,908 INFO Total loss: 7.7857, max_margin_loss: 7.3945, ortho_reg: 0.3913\n",
            "100% 594/594 [00:05<00:00, 102.26it/s]\n",
            "Aspect 0:\n",
            "['студентка|0.7029869', 'бум|0.6990226', 'этак|0.6882627', 'заявка|0.67389655', 'хх|0.6731868', 'максимальный|0.66528237', 'кукарача|0.66144025', 'басс|0.66108817', 'ву|0.65933347', 'луна|0.6591034', 'полуночь|0.6589383', 'балет|0.65743625', 'прайс|0.65699005', 'food|0.6564292', 'выключать|0.6563106', 'good|0.65474', 'осуществить|0.6527469', 'попёс|0.65182936', 'майя|0.6514352', 'no|0.6502085', 'прибавить|0.6497872', 'космический|0.6480632', 'шато|0.646839', 'нажать|0.64606714', 'negativa|0.6453746', 'возвращение|0.6441785', 'удар|0.6418849', 'па|0.64145243', 'двенадцать|0.6413758', 'школьник|0.6412735', 'party|0.63996744', 'грузин|0.6396758', 'зарубежный|0.63902575', 'service|0.63896656', 'rr|0.6374313', 'потребление|0.63694525', 'блюз|0.63677424', 'англичанин|0.6365236', 'эксцесс|0.6363596', 'бальный|0.6363275', 'халява|0.6363008', 'танцор|0.6341599', 'доллар|0.6329018', 'харизма|0.632619', 'фея|0.63242364', 'фраер|0.63241935', 'рекорд|0.6323117', 'именной|0.63230604', 'потуга|0.63214254', 'пать|0.6319734', 'бабка|0.6307664', 'чад|0.6303294', 'доза|0.6302046', 'my|0.6296462', 'население|0.6294315', 'тридцать|0.62919116', 'restaurant|0.62887657', 'чтоль|0.62879527', 'метод|0.6285622', 'you|0.62787586', 'индустриальный|0.62764704', 'ого|0.6273851', 'отстой|0.62683964', 'аккомпанемент|0.6268017', 'place|0.62651545', 'дядька|0.6264304', 'банкетик|0.6263569', 'пятьдесят|0.6259165', 'бранч|0.6256199', 'ролик|0.6255743', 'преимущественно|0.6253849', 'this|0.6250833', 'ка|0.6244597', 'гопот|0.62435156', 'ть|0.62421685', 'пт|0.62403685', 'da|0.62395966', 'of|0.62358433', 'девятка|0.6231875', 'диапазон|0.6226975', 'приблизительно|0.621463', 'гамбринус|0.621037', 'противоположность|0.62091666', 'ру|0.6205363', 'минутный|0.61999047', 'плач|0.61983085', 'набраться|0.6197228', 'монета|0.61951256', 'резкий|0.61947256', 'расписание|0.61945724', 'корчма|0.6189241', 'усталость|0.6187018', 'оффициант|0.61855733', 'ограничение|0.61805916', 'шкала|0.61780643', 'гинесса|0.6177442', 'доход|0.61701655', 'поколение|0.6168053', 'мировой|0.6162919', 'справедливо|0.61608016']\n",
            "Aspect 1:\n",
            "['масло|0.5771949', 'солёный|0.56779134', 'корочка|0.5513957', 'кусочек|0.54920906', 'сверху|0.5474239', 'соль|0.54545844', 'лука|0.5435977', 'выращивать|0.5418337', 'рот|0.5403163', 'нарезать|0.5399542', 'хрустеть|0.535016', 'майонез|0.534541', 'помидор|0.52996373', 'уксус|0.5295239', 'жёсткий|0.52738', 'заправка|0.52681756', 'слайс|0.52466714', 'посыпать|0.5230907', 'помидорка|0.52202535', 'разрезать|0.5197488', 'булка|0.5195028', 'пережарить|0.5189755', 'жир|0.5184628', 'орешек|0.5178355', 'плавать|0.5167383', 'заморозка|0.5159923', 'кубик|0.5143877', 'пармезан|0.5131985', 'зелень|0.5107688', 'специя|0.5106201', 'варёный|0.50884813', 'жидкий|0.5067735', 'порезать|0.5063756', 'яйцо|0.5061358', 'каперс|0.50599647', 'капуста|0.5054657', 'безвкусный|0.50379276', 'мелко|0.5017576', 'огурец|0.50168', 'петрушка|0.50089765', 'разогреть|0.49776387', 'черри|0.49601832', 'бальзамик|0.49574268', 'сырой|0.49539474', 'обжарить|0.494801', 'кусок|0.49396953', 'плесень|0.49149406', 'тонкий|0.4910789', 'трава|0.4909407', 'выковыривать|0.48961118', 'фасоль|0.48957163', 'перчик|0.48786163', 'залить|0.48784667', 'морковь|0.48732072', 'ломтик|0.48657182', 'перец|0.48357016', 'бульон|0.4807947', 'слой|0.48073733', 'бальзамико|0.479661', 'чеснок|0.4794912', 'толстой|0.47878623', 'жирный|0.47854275', 'свежесть|0.47743654', 'спаржа|0.47653958', 'полить|0.47623494', 'мариновать|0.4755968', 'фарш|0.4748', 'горка|0.4744414', 'прогорклый|0.4739804', 'руккола|0.47316828', 'травка|0.47313702', 'песто|0.47302258', 'кура|0.47233966', 'морковка|0.4720145', 'лук|0.4701829', 'капля|0.46987396', 'поджарить|0.46928436', 'пресный|0.46894085', 'микроволновка|0.46877387', 'бекон|0.46825346', 'соломка|0.46793148', 'каша|0.46693677', 'долька|0.4667774', 'консервированный|0.46598905', 'горчица|0.46569064', 'лежалый|0.46451154', 'резиновый|0.4644761', 'веточка|0.46354663', 'авокадо|0.46330726', 'курочка|0.46299997', 'орех|0.462577', 'протухший|0.46232378', 'цукиня|0.46214896', 'утка|0.46167845', 'сметана|0.461143', 'цезар|0.4607783', 'плошка|0.45994654', 'сухой|0.45933908', 'переварить|0.45845807', 'заправить|0.4582486']\n",
            "Aspect 2:\n",
            "['сладость|0.69456315', 'миндальный|0.68870074', 'банановый|0.688195', 'суфле|0.68129194', 'малин|0.67766845', 'карамель|0.6747398', 'мусса|0.67251825', 'орех|0.67215943', 'изюм|0.67172295', 'маракуйя|0.6702074', 'желе|0.66865176', 'шоколад|0.66763353', 'ягода|0.66673005', 'банан|0.6659462', 'манговый|0.6639266', 'сахарный|0.6627374', 'трюфель|0.66108847', 'слоёный|0.66108483', 'бисквит|0.6610124', 'карамельный|0.6607551', 'взбить|0.6598856', 'яблоко|0.6575694', 'трубочка|0.65682673', 'развалина|0.65567064', 'цитрусовый|0.6545273', 'креманка|0.6536888', 'цедра|0.65169376', 'печение|0.6515219', 'мусс|0.6511297', 'кокосовый|0.65101564', 'корица|0.6508329', 'слой|0.6502873', 'песочный|0.6498192', 'абрикос|0.6497084', 'безе|0.6489378', 'шарик|0.6485779', 'сорбетом|0.64793855', 'мятный|0.64787436', 'прослойка|0.64778316', 'какао|0.64670455', 'манго|0.6461957', 'марципановый|0.64559245', 'грецкий|0.64498454', 'творожный|0.6435296', 'личить|0.6433078', 'ягодный|0.64315987', 'пропитать|0.6409776', 'лимонный|0.64042956', 'сливка|0.6401143', 'груша|0.64010376', 'ананас|0.6393124', 'творог|0.6392052', 'ваниль|0.6388513', 'фисташка|0.6388167', 'сладкое|0.63839775', 'карамелизировать|0.63756514', 'грушевый|0.63683313', 'плотный|0.63610494', 'морковный|0.6358869', 'клубника|0.6356373', 'покупной|0.635533', 'панакот|0.6353859', 'десертный|0.6350203', 'стружка|0.6332876', 'джема|0.63288695', 'экземпляр|0.63253295', 'мильфея|0.6317543', 'персиковый|0.6315262', 'свежеть|0.6315094', 'ягодка|0.6312066', 'тёртый|0.63086885', 'мёд|0.63066304', 'чернослив|0.6297612', 'брусника|0.6295384', 'пудра|0.6285', 'мороженный|0.6278794', 'меренга|0.62763536', 'ореховый|0.62646437', 'курага|0.62626874', 'вишня|0.62615365', 'малина|0.6259876', 'крем|0.62457144', 'маскарпон|0.6245699', 'сливочный|0.6244669', 'ванильный|0.6239189', 'шоколадный|0.6227751', 'арбуз|0.621909', 'горгонзол|0.62166256', 'рикоттой|0.621377', 'орешек|0.62051743', 'черника|0.6201325', 'фисташковый|0.6192725', 'румяный|0.61923856', 'лесной|0.6191664', 'смородина|0.6184876', 'заварной|0.6171408', 'добавка|0.61708665', 'мятый|0.61690676', 'брюла|0.6166689', 'графский|0.61662203']\n",
            "Aspect 3:\n",
            "['бояться|0.7352228', 'господин|0.7291587', 'ум|0.7197863', 'мысль|0.7115935', 'простить|0.7099146', 'срочно|0.68674624', 'слышать|0.6819772', 'стороной|0.6817599', 'здоровье|0.68059164', 'пусть|0.67972076', 'надоесть|0.6709768', 'обидеть|0.6678455', 'значит|0.66499233', 'право|0.66350037', 'знак|0.66055954', 'обходить|0.65638936', 'речь|0.65481925', 'перестать|0.65321463', 'пора|0.6512288', 'интерес|0.6435875', 'ресторатор|0.64199936', 'продолжать|0.64197266', 'сила|0.6418793', 'скоро|0.6358346', 'уверенный|0.63516045', 'бороться|0.6347209', 'постараться|0.63273036', 'признаваться|0.6326704', 'зря|0.63265043', 'ибо|0.63144326', 'высказать|0.62708896', 'борис|0.6238941', 'защита|0.6223759', 'удалять|0.62177014', 'научить|0.6217365', 'верить|0.62038964', 'знаете|0.6192069', 'призывать|0.6179606', 'быдло|0.61732817', 'человек_который|0.6163094', 'надеяться|0.615014', 'уважаемый|0.6134323', 'звезда|0.6125189', 'признаться|0.61160284', 'сменить|0.6108887', 'терять|0.61071354', 'негатив|0.60809004', 'вечно|0.6060337', 'привет|0.6050247', 'навсегда|0.6043512', 'история|0.60403323', 'иначе|0.60236007', 'поверить|0.60235536', 'развитие|0.60210097', 'наплевать|0.6017865', 'плевать|0.6011929', 'мат|0.60099006', 'личный|0.5996032', 'автор|0.59910285', 'жизнь|0.5985274', 'полениться|0.5973233', 'вновь|0.59554446', 'обратный|0.5949189', 'владелец|0.5944394', 'не_не|0.5930821', 'ругаться|0.5928005', 'передать|0.5925482', 'задуматься|0.5914177', 'гениальный|0.59141463', 'непременно|0.5910926', 'отсюда|0.5901119', 'чтожий|0.5897336', 'хозяин|0.5889863', 'возвращаться|0.5854728', 'душить|0.5854168', 'понять|0.58504474', 'учить|0.5849793', 'строго|0.5837603', 'оттуда|0.5815196', 'неужели|0.5809587', 'таракан|0.5808029', 'совесть|0.58025324', 'твой|0.5798372', 'вон|0.57946515', 'исправить|0.5789283', 'завтра|0.5779513', 'пожрать|0.5778632', 'бог|0.57655907', 'сдерживать|0.57641625', 'зарабатывать|0.57584095', 'ругать|0.5758374', 'наводка|0.5755853', 'лень|0.5752036', 'слово|0.5732429', 'держаться|0.5727941', 'уволить|0.57236016', 'неловко|0.57211363', 'земля|0.5720581', 'дословно|0.5717665', 'прочесть|0.5714596']\n",
            "Aspect 4:\n",
            "['девочка|0.7896557', 'мальчик|0.78508973', 'улыбаться|0.7665214', 'девушка|0.72214067', 'молодая_человек|0.71717656', 'парень|0.7021483', 'официантка|0.7011436', 'весь_время|0.6988108', 'улыбка|0.67954683', 'официант|0.678918', 'пепельница|0.66783756', 'интересоваться|0.65929186', 'улыбчивый|0.6590656', 'барышня|0.65816325', 'постоянно|0.64478606', 'наш_столик|0.6411308', 'юноша|0.6408762', 'провожать|0.6388596', 'обслуживать|0.62971103', 'звать|0.6268642', 'мила|0.62290996', 'забывать|0.6210227', 'успевать|0.6171253', 'спрашивать|0.6156223', 'соседний_столик|0.60776186', 'лицо|0.6076611', 'менять|0.6065344', 'здороваться|0.6055459', 'медленно|0.6054257', 'убирать|0.60254866', 'прощаться|0.60020363', 'появляться|0.5885682', 'хостёс|0.5884067', 'молниеносно|0.5805527', 'высокомерный|0.5796664', 'вежливый|0.57962406', 'молоденький|0.57852745', 'офицант|0.57848847', 'внимательно|0.5731462', 'разговаривать|0.5722369', 'бегать|0.5714586', 'стараться|0.564212', 'приветливо|0.56381595', 'уносить|0.5624974', 'подходить|0.562051', 'любезный|0.5604961', 'шустрый|0.5558614', 'шутить|0.55518895', 'бармен|0.55506283', 'улыбнуться|0.5526242', 'доброжелательно|0.55219394', 'молодая|0.5519991', 'суетиться|0.5518109', 'замечать|0.5495455', 'поменять|0.549014', 'оперативно|0.54736346', 'задержка|0.54728746', 'вовремя|0.54565763', 'мужчина|0.5413866', 'убираться|0.54102373', 'хостесса|0.5403601', 'забирать|0.53901994', 'отвечать|0.5373682', 'грязный|0.537097', 'обслужить|0.53561795', 'кальянщик|0.53507304', 'гардеробщик|0.53479695', 'запара|0.5343312', 'расторопный|0.53240955', 'общаться|0.53116226', 'реагировать|0.530836', 'принять_заказ|0.53064', 'приходиться|0.5306387', 'очень_быстро|0.5301878', 'порхать|0.52908415', 'смена|0.52657735', 'обслуживающий|0.5261829', 'стойка|0.5223186', 'принимать|0.51910836', 'встречать|0.51517874', 'ловить|0.51472914', 'поздороваться|0.5133907', 'исчезать|0.5111426', 'быстро|0.5090935', 'женщина|0.5038606', 'администратор|0.50015354', 'недовольный|0.49679497', 'болтать|0.49633893', 'внешность|0.49580774', 'неприветливый|0.49485272', 'приноситься|0.4928729', 'чётко|0.49123847', 'объяснять|0.49042964', 'волос|0.48993787', 'подливать|0.48901117', 'офицантка|0.48896152', 'дружелюбно|0.48803726', 'корректно|0.48622626', 'подойти|0.4861348', 'учтивый|0.48585898']\n",
            "Aspect 5:\n",
            "['помещение|0.7634551', 'зона|0.7371528', 'вентиляция|0.695138', 'душный|0.69231886', 'дым|0.67742956', 'комната|0.67540234', 'вытяжка|0.6753055', 'диван|0.6713976', 'зала|0.6663629', 'диванчик|0.66291046', 'неуютный|0.6624275', 'тесно|0.6544841', 'пространство|0.6419406', 'кабинка|0.6402034', 'шумно|0.6370318', 'уголок|0.62871313', 'зальчик|0.62835056', 'кресло|0.62229586', 'зал|0.6176729', 'накурить|0.6171594', 'комнатка|0.6166321', 'удобно|0.61148906', 'светло|0.6101913', 'курить|0.60899115', 'просторно|0.6080584', 'второе_этаж|0.60601634', 'воздух|0.6055354', 'этаж|0.6035218', 'веранда|0.6031642', 'курящий|0.6004079', 'экран|0.5961437', 'прохладно|0.5940306', 'детский_комната|0.59281385', 'просторный|0.5927111', 'деление|0.59170705', 'дымно|0.5915631', 'комфортно|0.59133756', 'балкон|0.58802086', 'камин|0.58748376', 'туалет|0.5858492', 'окно|0.57972443', 'аквариум|0.5768293', 'некурящий|0.5760693', 'стул|0.5721475', 'дальний|0.56854516', 'свет|0.5650883', 'разделение|0.56249', 'сигаретный|0.5593748', 'табачный|0.55882263', 'телевизор|0.557985', 'плазма|0.5566225', 'потолок|0.5545263', 'терасс|0.5519476', 'уединённость|0.55090916', 'барный_стойка|0.54890287', 'друг_друг|0.5487131', 'мешать|0.5477997', 'кондиционер|0.54778445', 'удобный|0.54601586', 'шум|0.5431483', 'курильщик|0.54276395', 'зеркало|0.5424775', 'близко|0.5407159', 'вокруг|0.53831947', 'мебель|0.53812915', 'танцполый|0.5378598', 'расположиться|0.5338937', 'освещение|0.5334728', 'беседка|0.53306377', 'прокурить|0.5293951', 'сцена|0.52910846', 'стена|0.527976', 'терраса|0.5218412', 'дышать|0.5211451', 'потолочь|0.51697135', 'тесновато|0.51307297', 'панель|0.5119777', 'уединённый|0.51144755', 'неудобный|0.5100962', 'народ|0.5099253', 'расположить|0.50902694', 'игрушка|0.5084671', 'дерево|0.50785255', 'люстра|0.5066746', 'тв|0.5043244', 'внутри|0.5028068', 'тихо|0.5025153', 'угол|0.5024878', 'напрягать|0.5024651', 'залом|0.5020444', 'дворик|0.5016792', 'курение|0.49894863', 'футбольный|0.4975645', 'светлый|0.49676535', 'расстояние|0.49609986', 'внизу|0.4951421', 'слышный|0.49460208', 'полумрак|0.49429685', 'закутка|0.49356723', 'перегородка|0.49321112']\n",
            "Aspect 6:\n",
            "['соответствовать|0.7383485', 'уровень|0.7277127', 'завысить|0.72329926', 'сравнение|0.7226776', 'категория|0.71946263', 'ценник|0.7162418', 'ценовый|0.7121224', 'выше|0.7110027', 'крайний_мера|0.7025707', 'считать|0.693488', 'отличие|0.6906194', 'ниже|0.68315196', 'качество|0.6764366', 'фаста|0.6762769', 'оценивать|0.66863334', 'цена|0.6639134', 'цена_качество|0.66250014', 'многий|0.661909', 'забегаловка|0.6616688', 'отличаться|0.6609861', 'средний|0.65513575', 'назвать|0.6515241', 'фуд|0.64809483', 'учитывать|0.64748913', 'принцип|0.64628184', 'среднее|0.6456603', 'большинство|0.64193183', 'подобный|0.6404313', 'недостаток|0.6280201', 'изыск|0.6220765', 'формат|0.6202303', 'демократичный|0.61996365', 'высокий|0.6196795', 'адекватный|0.6148657', 'плохой|0.6127', 'политика|0.6115093', 'касаться|0.6091109', 'сетевой|0.60691917', 'приемлемый|0.60447204', 'оценка|0.60299486', 'обычный|0.6009175', 'простой|0.59951526', 'скорее|0.5991217', 'японский|0.59334546', 'низкий|0.58772147', 'посредственный|0.58562124', 'достойный|0.58473337', 'европейский|0.58422285', 'удивлять|0.58216655', 'приличный|0.5806562', 'гуманный|0.58004665', 'иной|0.5790295', 'намного|0.57688594', 'дешёвый|0.5766833', 'ресторанный|0.57596684', 'китайский|0.5719169', 'последний_время|0.5704669', 'вполне|0.56909', 'гинза|0.5664041', 'претендовать|0.56562483', 'дорогой|0.56537867', 'средненький|0.5632541', 'весь_остальной|0.5613256', 'соотношение_цена_качество|0.56077826', 'менее|0.5599609', 'худой|0.5586708', 'пожалуй|0.55414796', 'не_мочь_сказать|0.5538621', 'согласный|0.55178964', 'дёшево|0.5473566', 'значительно|0.54727244', 'претензия|0.5469674', 'однако|0.5445971', 'однозначно|0.5436046', 'например|0.5435103', 'оправдывать|0.5434065', 'являться|0.54249746', 'понятный|0.5411917', 'умеренный|0.5400754', 'десятка|0.5391873', 'качественный|0.5370188', 'дорого|0.5363583', 'стандартный|0.53357756', 'продукт|0.53289', 'судить|0.53223103', 'дороговатый|0.5302658', 'хромать|0.5283735', 'разнообразие|0.5258023', 'придираться|0.5250894', 'взгляд|0.5235458', 'но_это|0.5227948', 'общепит|0.5203275', 'сравнивать|0.5179567', 'измениться|0.5178301', 'наверное|0.5161448', 'план|0.5145762', 'относиться|0.51283133', 'соответствующий|0.5109935', 'любой|0.5105157', 'стандарт|0.509671']\n",
            "Aspect 7:\n",
            "['висок|0.78430706', 'коктейль|0.76430935', 'мохитый|0.74754727', 'безалкогольный|0.733734', 'крепкий|0.7174913', 'литр|0.7155073', 'морс|0.7124026', 'водка|0.7053392', 'алкогольный|0.69911796', 'лимонад|0.69534254', 'мартини|0.6946845', 'коньяк|0.6838161', 'пить|0.68054265', 'бутылочка|0.6782682', 'пила|0.66916853', 'эспрессо|0.6532432', 'выпить|0.6512635', 'глинтвейн|0.65077853', 'вишнёвый|0.64522433', 'крушовица|0.62963194', 'чай|0.6286113', 'руль|0.62787926', 'сок|0.62368107', 'кружка|0.6235112', 'сидр|0.6221553', 'америкать|0.6181797', 'сангрия|0.614985', 'коктель|0.6136429', 'квас|0.6134676', 'ньюкасл|0.61339664', 'кальян|0.61273277', 'лонг|0.60847604', 'ликёр|0.60530144', 'сорт|0.6051274', 'сироп|0.60005987', 'пинта|0.5970764', 'напиток|0.5968584', 'ром|0.595152', 'кофе|0.59354854', 'нефильтрованный|0.59193516', 'чашечка|0.5816165', 'чаемый|0.5813303', 'грапп|0.5801428', 'бокал|0.5792819', 'закусить|0.5783316', 'настойка|0.57761306', 'компот|0.5754642', 'капучиный|0.574895', 'разливный|0.56935686', 'латта|0.5686679', 'мл|0.5678403', 'вода|0.5677985', 'чайник|0.5663765', 'стакан|0.56535935', 'лёд|0.56445205', 'игристый|0.5610845', 'графин|0.5608497', 'бутылочный|0.5582526', 'облепиховый|0.5566243', 'пиво|0.55661017', 'угостить|0.5544454', 'бланша|0.55443025', 'кувшин|0.5542489', 'бокальчик|0.55245644', 'айленд|0.5515677', 'хугарден|0.54791725', 'текила|0.5477604', 'эль|0.54658663', 'бесплатный|0.54143345', 'клубничный|0.5396213', 'пирожное|0.53783274', 'свежевыжать|0.53779507', 'пивко|0.5367006', 'гиннес|0.53653276', 'дайкири|0.53273', 'рюмка|0.5321962', 'джина|0.52777874', 'клюквенный|0.52766204', 'лимончелло|0.5276233', 'вод|0.52697605', '100р|0.5266225', 'каберне|0.52653146', 'наливать|0.52651787', 'попить|0.52553993', 'пшеничный|0.5242269', 'алкоголь|0.5238267', 'мороженое|0.52257097', 'потягивать|0.52196693', 'бутылка|0.5198475', 'минеральный|0.51932746', 'фреш|0.5191122', 'литровый|0.51804817', 'кола|0.5162946', 'пино|0.5149626', 'чаять|0.5149405', 'вино|0.51352966', 'распитие|0.510995', 'стаканчик|0.50914216', 'гриджио|0.50804013', 'чашка|0.5079142']\n",
            "Aspect 8:\n",
            "['организация|0.7784786', 'тамада|0.76259464', 'организовать|0.7475386', 'свадебный|0.73310685', 'подготовка|0.72940135', 'торжество|0.7267566', 'праздник|0.7097782', 'мероприятие|0.7032991', 'весь_гость|0.70045465', 'благодарность|0.7002289', 'молодожён|0.6944188', 'ольга|0.6862047', 'огромный_спасибо|0.68399256', 'весь_наш|0.6833279', 'банкет|0.677874', 'организатор|0.67540824', 'подарок|0.67514515', 'пожелание|0.67097497', 'майкл|0.66743624', 'невеста|0.66580945', 'ирина|0.65234184', 'свадьба|0.65147465', 'ведущий|0.64962435', 'фуршет|0.64313245', 'большой_спасибо|0.64207065', 'директор|0.6407382', 'банкетный|0.6338031', 'отдельный_спасибо|0.62575406', 'владимир|0.6223865', 'команда|0.6210687', 'учесть|0.6155762', 'евгений|0.6149074', 'коллектив|0.614563', 'наталья|0.6130018', 'проведение|0.6103712', 'каравай|0.6087812', 'профессионал|0.60869956', 'елена|0.60827976', 'профессионализм|0.6063936', 'номер|0.6060442', 'сотрудник|0.6057295', 'сергей|0.6030252', 'наш_свадьба|0.59666723', 'уважение|0.59240425', 'татьяна|0.5922756', 'марин|0.59191585', 'торт|0.59146065', 'выражать|0.58646417', 'благодаря|0.58554244', 'александр|0.58324677', 'алексей|0.57891685', 'кондитер|0.57866365', 'станислав|0.57475096', 'честь|0.573396', 'банкетный_зал|0.57184803', 'бельканто|0.57101583', 'анастасий|0.57044435', 'программа|0.5695237', 'менеджер|0.56728363', 'благодарить|0.5658011', 'шеф_повар|0.56490564', 'управлять|0.5633453', 'дмитрий|0.5628296', 'участие|0.5619005', 'бравый|0.56083536', 'новый_год|0.5537956', 'гость|0.55070996', 'юбилей|0.5491638', 'договор|0.54687166', 'жених|0.5462363', 'поблагодарить|0.54596674', 'подарить|0.54456234', 'шоу|0.54405236', 'помощь|0.5430255', 'весь_наш_пожелание|0.5399963', 'совет|0.5399064', 'фотограф|0.53879935', 'родитель|0.5380012', 'фейерверк|0.5321716', 'регистрация|0.5310994', 'признательность|0.53055453', 'поклон|0.52822', 'праздничный|0.52817076', 'событие|0.52775246', 'поздравление|0.52534413', 'чуткий|0.52303064', 'андрей|0.5210884', 'профессиональный|0.52030075', 'виктор|0.519886', 'конкурс|0.5186639', 'мастер|0.5160266', 'выездной|0.5157125', 'дмитрия|0.5143921', 'жанна|0.5119872', 'юлий|0.5096998', 'услуга|0.5086456', 'артист|0.50710803', 'марина|0.5070841', 'кейтеринг|0.5068885', 'весь_гость_остаться_довольный|0.50605243']\n",
            "Aspect 9:\n",
            "['заехать|0.7498369', 'сегодня|0.74845064', 'вчера|0.7324736', 'пообедать|0.7278929', 'поехать|0.7090548', 'поужинать|0.6997798', 'обедать|0.67855996', 'воскресение|0.6693982', 'прогулка|0.6608857', 'однокурсник|0.6576646', 'недавно|0.65761924', 'пр|0.65623546', 'случайно|0.65352094', 'заезжать|0.65133363', 'перекусить|0.65109384', 'подружка|0.65058607', 'ужинать|0.64987063', 'ездить|0.64583087', 'забежать|0.6457326', 'ехать|0.6290203', 'заслать|0.6264076', 'жена|0.62291825', 'московский|0.6218774', 'гулять|0.62158465', 'отправиться|0.61213815', 'побывать|0.61180615', 'петроградка|0.61023223', 'днём|0.60768473', 'приезжать|0.6056262', 'ул|0.6008169', 'заглянуть|0.60016537', 'забегать|0.5982294', 'это_кафе|0.5898332', 'мама|0.5884285', 'неделя|0.5826645', 'заскочить|0.58235526', 'выходной|0.5810104', 'офис|0.58018476', 'посетить|0.5780934', 'суббота|0.5761806', 'жить|0.57440585', 'недалеко|0.5737606', 'невский|0.57321095', 'приехать|0.57123774', 'поход|0.56951404', 'открыться|0.5684105', 'район|0.56590223', 'месяц|0.56506187', 'воскресный|0.5649017', 'год_назад|0.56104976', 'однажды|0.55657697', 'давно|0.55564266', 'сходить|0.5532851', 'москва|0.5530375', 'проезжать|0.55294204', 'добраться|0.55288726', 'покушать|0.55143976', 'вечером|0.551018', 'назад|0.5507824', 'захаживать|0.55000806', 'захотеться|0.54752785', 'дочка|0.5464139', 'четверг|0.545493', 'март|0.5452933', 'встретиться|0.54527783', 'завтрак|0.5451045', 'частенько|0.54355097', 'январь|0.54230326', 'коллега|0.5418409', 'приморский|0.538828', 'дом|0.5383928', 'ноябрь|0.537958', 'семья|0.537621', 'забрести|0.53511196', 'май|0.5302169', 'питер|0.52960205', 'отмечать_день_рождение|0.52846324', 'утро|0.52594817', 'обед|0.5256487', 'прогуливаться|0.5245265', 'февраль|0.52240723', 'перерыв|0.522118', 'остров|0.5214797', 'летом|0.5213256', 'вдвоём|0.5207964', 'заходить|0.52064', 'полгода|0.5190047', 'зайти|0.51799035', 'восстание|0.5163691', 'сестра|0.5153463', 'попасть|0.514781', 'целенаправленно|0.5145631', 'парка|0.51432574', 'поздно|0.5108845', 'ходьба|0.5107659', 'специально|0.5097266', 'лето|0.50805354', 'проспект|0.5069667', 'бизнес_ланч|0.5064589', 'завтракать|0.5051624']\n",
            "Aspect 10:\n",
            "['полка|0.6908196', 'старое|0.6855552', 'золотой|0.6844233', 'предмет|0.6833235', 'старинный|0.6758214', 'стен|0.67482615', 'ля|0.6671963', 'журнал|0.66571856', 'рамка|0.6640537', 'фотография|0.6573525', 'лампа|0.6549527', 'крыша|0.65343004', 'стена|0.64744693', 'стеклянный|0.6418232', 'внутренний|0.64025927', 'газета|0.63980633', 'множество|0.63742495', 'кирпичный|0.6334462', 'плазменный|0.62617594', 'современный|0.62405956', 'открываться|0.6154288', 'ширма|0.6140002', 'синий|0.61357206', 'панель|0.61279833', 'подоконник|0.61081564', 'картина|0.60958177', 'черно|0.60941267', 'элемент|0.60713255', 'деталь|0.6058539', 'потолок|0.6057861', 'дерево|0.605194', 'вдоль|0.6024618', 'прочий|0.60223055', 'кирпич|0.6020201', 'убранство|0.6017008', 'южный|0.6008606', 'фильм|0.6000917', 'светящийся|0.59964967', 'кровать|0.5993693', 'люстра|0.59861577', 'среди|0.5980716', 'небо|0.5958736', 'стекло|0.59529984', 'атрибутика|0.59528357', 'штора|0.594398', 'белоснежный|0.5943574', 'угол|0.5939959', 'обилие|0.5932051', 'плитка|0.58987504', 'блестящий|0.5871781', 'любоваться|0.58591765', 'мебель|0.5848183', 'висеть|0.5842961', 'шарм|0.5832875', 'белые|0.5830502', 'вписываться|0.5827663', 'зеркало|0.5827123', 'полочка|0.58255965', 'декор|0.5817319', 'подсветка|0.5814965', 'надпись|0.58127856', 'доска|0.581121', 'буфет|0.58083695', 'огонь|0.5806304', 'портрет|0.5801437', 'винный|0.57927716', 'свет|0.5786578', 'барный_стойка|0.57741326', 'солнце|0.5771177', 'видный|0.5763785', 'пол|0.57632047', 'клетка|0.5753385', 'стеллаж|0.5746226', 'советский|0.5741774', 'открытый|0.57352924', 'кожаный|0.5731541', 'массивный|0.573001', 'обивка|0.57209754', 'располагаться|0.5720614', 'светильник|0.57185864', 'абажур|0.5712211', 'прованс|0.57056606', 'полумрак|0.5695191', 'кладка|0.5693194', 'роспись|0.56860775', 'полый|0.5685057', 'искусственный|0.56823516', 'арка|0.5678865', 'панорамный|0.56773657', 'обои|0.56762755', 'зеркальный|0.56732', 'красота|0.56661236', 'дворик|0.566482', 'подсвечник|0.56644356', 'занавеска|0.56592596', 'свод|0.56574315', 'забавный|0.56549287', 'серый|0.56191933', 'тон|0.5616938', 'известный|0.5607485']\n",
            "Aspect 11:\n",
            "['приятный|0.6988679', 'очень_понравиться|0.69618815', 'очень_порадовать|0.6959468', 'очень_приятный|0.690603', 'ненавязчивый|0.68126786', 'замечательный|0.66323334', 'прекрасно|0.65474856', 'очень_хороший|0.64914167', 'порадовать|0.6472628', 'вкусный_еда|0.6416843', 'отлично|0.6370541', 'тёплый|0.6365107', 'душевный|0.6348758', 'весь_очень_понравиться|0.63105416', 'великолепный|0.6291588', 'весь_очень_вкусно|0.6139829', 'отличный|0.61327016', 'навязчивый|0.61295986', 'остаться_очень_довольный|0.6106881', 'понравиться_весь|0.6102645', 'запомниться|0.6100497', 'изумительный|0.6081739', 'прекрасный|0.6061306', 'весь_очень|0.60589355', 'особенный|0.59951687', 'располагать|0.5970583', 'великолепно|0.5954557', 'душевно|0.5930675', 'ммммм|0.5901971', 'весь_понравиться|0.5841877', 'превосходный|0.5830008', 'остаться_довольный|0.58206683', 'достойно|0.58046204', 'выше_весь_похвала|0.57952243', 'чудесно|0.57792664', 'восхитительный|0.57675624', 'высота|0.57461166', 'высокий_уровень|0.5701386', 'особенно|0.5696745', 'внимательный|0.5687891', 'предупредительный|0.5653186', 'супер|0.56438684', 'очень_вкусный|0.56384027', 'прийти_ещё|0.56299436', 'очень_понравиться_весь|0.5574353', 'расслаблять|0.5543835', 'потрясать|0.5538677', 'домашний|0.55340147', 'довольный|0.55079645', 'чудесный|0.5499384', 'особый|0.54954565', 'молодец|0.5471653', 'очень_вкусно|0.5466721', 'безупречный|0.54662013', 'оч|0.5448079', 'атмосфера|0.5439558', 'классный|0.5435258', 'обстановочка|0.54145026', 'идеально|0.5407407', 'волшебный|0.5405605', 'доброжелательный|0.5404543', 'спокойный|0.5403583', 'живот|0.5392936', 'подкачать|0.5378449', 'качественно|0.53722334', 'приятно|0.5361939', 'безумно|0.53196996', 'обстановка|0.53074986', 'ооочень_вкусный|0.5300224', 'приветливый|0.5286579', 'очень_вкусный_еда|0.5269009', 'позитивный|0.525888', 'очень_очень_долго|0.5258653', 'вкусный|0.5248198', 'потрясающе|0.52468646', 'нарекание|0.5238666', 'обязательно_прийти_ещё|0.5198912', 'дружелюбный|0.5190773', 'отдельный_спасибо|0.5173557', 'учтивый|0.5172819', 'шикарно|0.5167956', 'обалденный|0.5153268', 'весь_советовать|0.5148239', 'отзывчивый|0.51439637', 'восторг|0.5143065', 'вообщий|0.5142767', 'уютный|0.5137619', 'зы|0.51365185', 'незаметно|0.5103797', 'общий_впечатление|0.51011014', 'очень_уютный|0.509714', 'зажигательный|0.5087055', 'вкусненький|0.50813144', 'здорово|0.5072603', 'весь_очень_вкусный|0.50720686', 'царить|0.50604165', 'заботливый|0.5059091', 'радушный|0.5044619', 'спасибо|0.50378966', 'быстрый|0.50267196']\n",
            "Aspect 12:\n",
            "['выясниться|0.72118145', 'оплатить|0.7186825', 'полтора|0.7184185', '15_минута|0.7181143', 'дождаться|0.71254945', 'примерно|0.6929008', 'соответственно|0.68946654', 'половина|0.6871565', 'минимум|0.6868991', '20_минута|0.6818008', 'естественно|0.6708709', 'пообещать|0.6707251', 'расчёт|0.6693322', 'заполнить|0.66749793', 'десять|0.66703653', '10_минута|0.6651025', 'оплата|0.66360915', 'указать|0.66335696', 'пять|0.66181165', 'предупредить|0.66160655', 'это_время|0.6581732', 'обещать|0.6569624', 'оговорить|0.65655315', 'отдать|0.6561338', 'ровно|0.65490705', 'предупреждать|0.65211767', 'попросить|0.65105367', 'вернуть|0.64958394', 'сумма|0.6490394', 'простоять|0.64898014', 'прийтись|0.64661217', 'вынести|0.64645696', 'час|0.6462178', 'заплатить|0.6452394', 'полчаса|0.6450425', 'демонстративно|0.644992', 'прождать|0.6447503', 'забрать|0.6416142', 'максимум|0.6401784', 'внести|0.63979125', 'мина|0.6387706', 'сделать_заказ|0.63824034', 'унести|0.6306312', 'отказываться|0.62972856', 'напоминание|0.62714887', 'результат|0.62705076', 'закрытие|0.62144417', 'рассчитать|0.6201234', 'отказать|0.6199591', 'просидеть|0.6198785', 'входить|0.61825943', 'сообщить|0.6149598', 'посчитать|0.61189127', 'депозит|0.6116866', 'курс|0.607823', 'предоплата|0.60720503', 'спустя|0.60686576', 'уйти|0.60686004', 'сообщать|0.60673153', 'попытка|0.6058024', 'включить|0.605284', 'затем|0.60379577', 'дозаказать|0.6036432', 'оплачивать|0.6010735', 'подождать|0.60105217', 'четверо|0.59661585', 'течение|0.59652716', 'закончиться|0.59588814', 'убрать|0.59535086', 'двадцать|0.59464574', 'просить|0.5938302', 'итог|0.5933288', 'отказаться|0.59329796', 'привезти|0.5914756', 'поменять|0.58997107', 'процент|0.58932155', 'уточнить|0.58691007', 'счёт|0.58445394', 'указанный|0.5823227', 'потребовать|0.5808386', 'пропасть|0.5801839', 'перепутать|0.5777371', 'бокс|0.5764935', 'пятнадцать|0.5734444', 'далее|0.5730311', 'остаток|0.5728696', 'около|0.57230294', 'обнаружить|0.5719095', 'успеть|0.57165945', '1_5_час|0.5707541', 'сдача|0.5706564', 'закрываться|0.57031226', 'расплатиться|0.56808424', 'уложиться|0.56666124', 'полупустой|0.5654745', 'факт|0.56527233', 'ладный|0.56450284', 'третье|0.5619065', 'приход|0.55998826', 'упасть|0.5594048']\n",
            "Aspect 13:\n",
            "['салат_цезарь|0.6574867', 'мясной|0.6475192', 'гриль|0.6429088', 'рыба|0.63632286', 'рыбный|0.63025117', 'морепродукт|0.6113154', 'плов|0.6079449', 'шашлычок|0.6050724', 'греческий|0.6018963', 'говядина|0.6016083', 'дорад|0.6015579', 'карпаччо|0.60069966', 'баклажан|0.5997429', 'вок|0.5928136', 'свинина|0.5908524', 'цезарь|0.58599585', 'дораду|0.58488274', 'салатик|0.57907534', 'стейка|0.57907045', 'осетрина|0.5772042', 'овощ|0.5762204', 'оливья|0.5761688', 'креветка|0.57616794', 'пекински|0.5694011', 'курица|0.5685855', 'мангал|0.5632705', 'ассорти|0.56320924', 'цыплёнок|0.55877244', 'форель|0.5571739', 'лазание|0.5548154', 'солянка|0.5547831', 'шашлык|0.551828', 'стейк|0.55147535', 'лосось|0.5496606', 'запечёный|0.5495204', 'свинин|0.54871094', 'куриный|0.5436399', 'жульен|0.54344964', 'свинный|0.5431161', 'рибай|0.5419653', 'приготовить|0.54122394', 'казан|0.53642', 'стэйк|0.5346633', 'судак|0.53283775', 'стейковы|0.53240746', 'вока|0.5292601', 'ризотто|0.5290467', 'мидия|0.52835727', 'горячее_блюдо|0.52827835', 'блюдо|0.52660847', 'телятина|0.5224691', 'кебаб|0.5224209', 'уха|0.5222809', 'коптить|0.5215877', 'рёбрышко|0.52058077', 'долму|0.52046126', 'кисло_сладкое_соус|0.5196725', 'фахитос|0.5168916', 'узбекский|0.515326', 'острый|0.51483375', 'барашек|0.51476717', 'паста|0.5139586', 'харчо|0.5131351', 'свиной|0.51247966', 'закуска|0.5121043', 'лапша|0.5059236', 'тигровый|0.504291', 'краб|0.504147', 'гриб|0.5038707', 'запечь|0.50209904', 'бефстроганов|0.5020664', 'долма|0.5015212', 'стерлядь|0.5003186', 'котлета|0.49869558', 'хачапури|0.49824384', 'паэлие|0.4981522', 'экспериментировать|0.49772137', 'сацивить|0.49748453', 'раздел|0.49672332', 'борщ|0.49640715', 'каре|0.4950307', 'осьминог|0.49440244', 'баранина|0.49433777', 'крылышко|0.49408764', 'вегетарианский|0.4934031', 'мраморный|0.4933449', 'филе|0.49324387', 'садж|0.49257672', 'салат|0.49225947', 'состав|0.49046537', 'камчатский|0.49037004', 'ушко|0.49032164', 'сибас|0.48944205', 'выбрать|0.48920307', 'ягнёнок|0.48871303', 'тапас|0.48853213', 'удон|0.4881813', 'колбаска|0.48643744', 'медальон|0.48629993', 'это_блюдо|0.48591617']\n",
            "2019-12-24 21:09:37,981 INFO Epoch 1, train: 5s\n",
            "2019-12-24 21:09:37,981 INFO Total loss: 4.6469, max_margin_loss: 4.5380, ortho_reg: 0.1088\n",
            "100% 594/594 [00:05<00:00, 100.23it/s]\n",
            "Aspect 0:\n",
            "['студентка|0.70275164', 'бум|0.68769', 'попёс|0.68238795', 'этак|0.6820163', 'хх|0.67088497', 'полуночь|0.66858315', 'прибавить|0.6650598', 'прайс|0.6597982', 'food|0.6571846', 'good|0.65683806', 'басс|0.6560446', 'луна|0.6537758', 'двенадцать|0.65310514', 'космический|0.6526319', 'фраер|0.65157956', 'выключать|0.6513275', 'ву|0.64761996', 'па|0.6474036', 'максимальный|0.64700556', 'кукарача|0.6458797', 'тридцать|0.6453296', 'заявка|0.64513767', 'no|0.6449813', 'балет|0.6446985', 'пт|0.64394885', 'бальный|0.6426835', 'блюз|0.6424602', 'школьник|0.6423836', 'service|0.6417061', 'доллар|0.64072657', 'зарубежный|0.63920903', 'negativa|0.6390033', 'шато|0.63661784', 'restaurant|0.6353095', 'удар|0.63456905', 'приблизительно|0.63387585', 'отстой|0.6332543', 'ого|0.6329926', 'пятьдесят|0.632359', 'майя|0.6320907', 'of|0.6311142', 'гопник|0.63100654', 'харизма|0.63076246', 'ливерпуль|0.6307274', 'my|0.6306696', 'грузин|0.6291865', 'ролик|0.6291232', 'бранч|0.628604', 'преимущественно|0.62825954', 'осуществить|0.627923', 'бабка|0.62777656', 'потребление|0.6276705', 'party|0.6275538', 'this|0.6274585', 'гопот|0.6265935', 'именной|0.62637854', 'you|0.626012', 'возвращение|0.62561524', 'поколение|0.6254574', 'пать|0.62537193', 'нажать|0.62530947', 'бурный|0.62490773', 'халява|0.6246877', 'мировой|0.6239095', 'ру|0.6235758', 'индустриальный|0.6231563', 'ограничение|0.6228348', 'танцор|0.6228336', 'rr|0.62259096', 'ть|0.6215832', 'ка|0.6214342', 'справедливо|0.62023246', 'население|0.61970115', 'монета|0.61871624', 'place|0.61856323', 'аккомпанемент|0.61845267', 'фанера|0.6173494', 'дядька|0.6171625', 'подросток|0.6156538', 'чтоль|0.6155615', 'were|0.61506677', 'чад|0.6145007', 'потуга|0.6137985', 'немолодой|0.61377776', 'гинесса|0.6137041', 'расписание|0.6125385', 'доза|0.61252785', 'сб|0.6117575', 'метод|0.6111394', 'лига|0.61085004', 'подорожать|0.6105201', 'икс|0.61020786', 'че|0.60992944', 'усталость|0.60992604', 'рекорд|0.6096975', 'резкий|0.6095911', 'very|0.60924864', 'девять|0.60913277', 'гамбринус|0.6089789', 'противоположность|0.6088115']\n",
            "Aspect 1:\n",
            "['масло|0.59145045', 'солёный|0.5851041', 'рот|0.5666645', 'кусочек|0.5659557', 'корочка|0.563119', 'нарезать|0.56141394', 'выращивать|0.55932903', 'лука|0.55597925', 'соль|0.55378896', 'сверху|0.55280715', 'хрустеть|0.5505011', 'жёсткий|0.54885864', 'майонез|0.54504263', 'булка|0.5424622', 'пережарить|0.5414778', 'уксус|0.53992224', 'заморозка|0.53942657', 'помидор|0.537372', 'помидорка|0.53701603', 'посыпать|0.5368478', 'жир|0.53682256', 'разрезать|0.53604066', 'слайс|0.5323508', 'зелень|0.5289069', 'капуста|0.5275017', 'кубик|0.52738', 'плавать|0.5270941', 'варёный|0.5267366', 'орешек|0.52618426', 'специя|0.5258151', 'пармезан|0.5225323', 'заправка|0.5207616', 'яйцо|0.52019197', 'разогреть|0.5199332', 'порезать|0.51951855', 'кусок|0.5185057', 'каперс|0.5181442', 'огурец|0.51793885', 'сырой|0.51514834', 'безвкусный|0.51307434', 'жидкий|0.51290274', 'мелко|0.51090217', 'петрушка|0.5102755', 'тонкий|0.5071887', 'перчик|0.5064831', 'чеснок|0.50582784', 'ломтик|0.50559807', 'трава|0.502779', 'обжарить|0.5022963', 'свежесть|0.5003095', 'черри|0.5001395', 'выковыривать|0.5001289', 'плесень|0.49993837', 'морковь|0.49945205', 'залить|0.4983723', 'фасоль|0.49573934', 'мариновать|0.49559027', 'фарш|0.4949785', 'бальзамик|0.4948026', 'толстой|0.49407265', 'микроволновка|0.4933395', 'бульон|0.492023', 'травка|0.49023148', 'горка|0.48984748', 'слой|0.48808575', 'лук|0.48773414', 'полить|0.4873606', 'горчица|0.4869442', 'протухший|0.48659825', 'песто|0.4863851', 'жирный|0.48625416', 'бальзамико|0.4850418', 'лежалый|0.4849848', 'кура|0.48479062', 'перец|0.48373774', 'каша|0.48345965', 'спаржа|0.48244977', 'булочка|0.48136443', 'прогорклый|0.48136', 'соломка|0.48113394', 'сухой|0.48105663', 'поджарить|0.48083615', 'бекон|0.48068312', 'плошка|0.47991687', 'морковка|0.4798359', 'консервированный|0.47823805', 'сметана|0.4779573', 'долька|0.47717834', 'пресный|0.47698712', 'резиновый|0.4763134', 'курочка|0.47489896', 'переварить|0.4748336', 'тест|0.47466642', 'капля|0.4744215', 'веточка|0.47317445', 'руккола|0.4730369', 'картошка|0.47301364', 'огурчик|0.47237837', 'жарить|0.47231445', 'пожарить|0.47205916']\n",
            "Aspect 2:\n",
            "['сладость|0.71739936', 'миндальный|0.70147496', 'банановый|0.6941495', 'мусса|0.68768775', 'суфле|0.6862197', 'шоколад|0.6840156', 'карамель|0.6822619', 'малин|0.6822442', 'бисквит|0.68121034', 'развалина|0.6776428', 'маракуйя|0.67750466', 'изюм|0.6764659', 'печение|0.674461', 'манговый|0.6732863', 'карамельный|0.6718746', 'ягода|0.66991484', 'трюфель|0.6691872', 'панакот|0.6656618', 'взбить|0.6654328', 'желе|0.6639599', 'безе|0.6637449', 'сорбетом|0.66248876', 'марципановый|0.6600262', 'шарик|0.6595149', 'какао|0.6582595', 'мильфея|0.65824807', 'орех|0.6581948', 'песочный|0.65793705', 'креманка|0.65749323', 'корица|0.65730727', 'банан|0.6569681', 'грушевый|0.6554408', 'трубочка|0.6549208', 'пирожное|0.65485764', 'сахарный|0.6534244', 'мятный|0.65184796', 'слоёный|0.6514118', 'кокосовый|0.6503146', 'брюла|0.6497029', 'шоколадный|0.649024', 'яблоко|0.6487837', 'крем|0.6484909', 'персиковый|0.64705324', 'ваниль|0.646463', 'сладкое|0.64634883', 'мусс|0.646325', 'морковный|0.6459642', 'творожный|0.64549655', 'цедра|0.64495194', 'десертный|0.64491814', 'творог|0.6448275', 'графский|0.6447062', 'клубника|0.6446219', 'меренга|0.64450765', 'личить|0.64408964', 'цитрусовый|0.6440531', 'лимонный|0.64371145', 'ванильный|0.6430248', 'ягодный|0.6427419', 'манго|0.6426972', 'абрикос|0.64036644', 'джема|0.63993996', 'сливка|0.63956356', 'малина|0.6394267', 'покупной|0.6376966', 'карамелизировать|0.6365602', 'слой|0.6365478', 'фисташковый|0.6347038', 'заварной|0.63432056', 'сорбета|0.6341125', 'плотный|0.63410354', 'прослойка|0.6335798', 'мороженный|0.6330804', 'грецкий|0.63265675', 'лаймовый|0.632483', 'фисташка|0.63213736', 'ягодка|0.631765', 'мятый|0.63133883', 'вишня|0.63048226', 'экземпляр|0.6304154', 'пирожёнка|0.6301788', 'груша|0.62950647', 'маскарпон|0.629004', 'захер|0.6286731', 'ананас|0.6283448', 'баба|0.62713754', 'смородина|0.6261175', 'чернослив|0.62609744', 'пропитать|0.6257199', 'курага|0.6255424', 'черника|0.6253394', 'кекс|0.62518907', 'горгонзол|0.6247722', 'сырник|0.6247538', 'стружка|0.62419164', 'корж|0.6232718', 'фондать|0.62152183', 'кофейный|0.62135327', 'лесной|0.6213434', 'профитроль|0.6212436']\n",
            "Aspect 3:\n",
            "['бояться|0.7483177', 'ум|0.7299057', 'простить|0.72900975', 'мысль|0.72650003', 'господин|0.7246864', 'срочно|0.6899786', 'значит|0.6891635', 'слышать|0.6888412', 'пусть|0.6823691', 'надоесть|0.6786604', 'здоровье|0.6758959', 'обидеть|0.67278445', 'право|0.6682511', 'стороной|0.66602695', 'речь|0.66401607', 'знак|0.6617253', 'скоро|0.6453282', 'перестать|0.6451026', 'пора|0.6435361', 'обходить|0.64122015', 'зря|0.64033186', 'признаваться|0.6391763', 'уверенный|0.6390339', 'признаться|0.6388195', 'сила|0.6374047', 'продолжать|0.6370456', 'ибо|0.6363537', 'постараться|0.6362183', 'ресторатор|0.6325892', 'интерес|0.63052523', 'поверить|0.6281628', 'знаете|0.62809974', 'борис|0.6261025', 'верить|0.62533736', 'понять|0.6242069', 'защита|0.6223529', 'высказать|0.62002957', 'бороться|0.6185947', 'удалять|0.61555743', 'не_не|0.61392695', 'иначе|0.6133818', 'призывать|0.6108798', 'человек_который|0.61051273', 'надеяться|0.61040264', 'научить|0.60947484', 'навсегда|0.60694563', 'быдло|0.6039841', 'передать|0.60372025', 'сменить|0.6032394', 'негатив|0.6028906', 'уважаемый|0.60208297', 'жизнь|0.6019749', 'ругаться|0.6016074', 'звезда|0.60160357', 'вечно|0.60052025', 'автор|0.59950423', 'история|0.5989275', 'слово|0.5985442', 'вновь|0.5983814', 'душить|0.5979925', 'отсюда|0.5969796', 'мат|0.5969672', 'непременно|0.5967365', 'гениальный|0.59651685', 'полениться|0.5962521', 'личный|0.5954389', 'привет|0.5944368', 'оттуда|0.5942279', 'вон|0.5913762', 'терять|0.5906354', 'развитие|0.59055793', 'наплевать|0.5896726', 'бог|0.5890422', 'чтожий|0.58702874', 'возвращаться|0.5856247', 'плевать|0.58489764', 'строго|0.58473617', 'обратный|0.58468926', 'таракан|0.5846631', 'неужели|0.58430904', 'исправить|0.5839316', 'владелец|0.58275473', 'ругать|0.582201', 'задуматься|0.5817063', 'наверно|0.579216', 'завтра|0.5786241', 'совесть|0.57827425', 'пожрать|0.5777683', 'хозяин|0.5776193', 'извинить|0.5769056', 'земля|0.57653517', 'услышать|0.5764323', 'твой|0.5746294', 'фраза|0.5733993', 'дословно|0.5730227', 'неловко|0.57260334', 'наводка|0.5710968', 'спорить|0.5708404', 'лезть|0.56858945', 'читать|0.56779534']\n",
            "Aspect 4:\n",
            "['девочка|0.7957478', 'мальчик|0.79225', 'улыбаться|0.7707403', 'девушка|0.7473098', 'молодая_человек|0.7399194', 'официантка|0.7186787', 'парень|0.71333194', 'улыбка|0.69451433', 'официант|0.6868502', 'весь_время|0.6759567', 'улыбчивый|0.67145157', 'барышня|0.66871095', 'пепельница|0.6503695', 'интересоваться|0.6495863', 'юноша|0.64725244', 'провожать|0.6437552', 'наш_столик|0.6418846', 'звать|0.63558936', 'мила|0.6280472', 'обслуживать|0.624215', 'лицо|0.62124205', 'постоянно|0.6210295', 'спрашивать|0.61360127', 'здороваться|0.6034193', 'хостёс|0.603302', 'забывать|0.6018686', 'успевать|0.59483105', 'соседний_столик|0.59424347', 'прощаться|0.5936052', 'медленно|0.5825876', 'вежливый|0.58247244', 'высокомерный|0.5814457', 'менять|0.5802682', 'убирать|0.5775237', 'приветливо|0.5748787', 'молоденький|0.574497', 'появляться|0.5711643', 'разговаривать|0.5698168', 'офицант|0.5694469', 'любезный|0.5688242', 'молниеносно|0.56792855', 'внимательно|0.5667796', 'бармен|0.56148285', 'хостесса|0.56137025', 'улыбнуться|0.5612868', 'бегать|0.55691534', 'гардеробщик|0.5566157', 'стараться|0.5534079', 'доброжелательно|0.5513772', 'молодая|0.5495206', 'мужчина|0.5471504', 'отвечать|0.5466794', 'шустрый|0.5448632', 'шутить|0.54190624', 'подходить|0.5413154', 'принять_заказ|0.5392767', 'уносить|0.53867686', 'задержка|0.53860104', 'поменять|0.53681433', 'оперативно|0.53568065', 'замечать|0.53430605', 'принимать|0.53363943', 'встречать|0.53004116', 'кальянщик|0.529295', 'вовремя|0.52912563', 'суетиться|0.5285331', 'стойка|0.52835375', 'расторопный|0.5279068', 'обслужить|0.5266385', 'реагировать|0.52466', 'общаться|0.5235312', 'смена|0.51946926', 'поздороваться|0.5192226', 'обслуживающий|0.519215', 'женщина|0.5189224', 'запара|0.51843303', 'забирать|0.5169774', 'администратор|0.5165111', 'очень_быстро|0.5128577', 'грязный|0.51165354', 'убираться|0.5112236', 'порхать|0.5061743', 'приходиться|0.5055555', 'внешность|0.50408983', 'быстро|0.5002156', 'ловить|0.49602836', 'подойти|0.49550304', 'неприветливый|0.49236566', 'дружелюбно|0.49147204', 'объяснять|0.49075153', 'волос|0.49035704', 'голос|0.48980543', 'милый|0.48788017', 'чётко|0.48745835', 'недовольный|0.48567015', 'имя|0.48523253', 'просьба|0.48329028', 'офицантка|0.48230195', 'учтивый|0.4818122', 'болтать|0.48172313']\n",
            "Aspect 5:\n",
            "['помещение|0.7634042', 'зона|0.7384812', 'вентиляция|0.7119901', 'душный|0.7084688', 'дым|0.69437116', 'вытяжка|0.69242525', 'комната|0.68394816', 'тесно|0.6806741', 'неуютный|0.67633617', 'диван|0.6747291', 'шумно|0.6604011', 'диванчик|0.6546167', 'зала|0.6534772', 'пространство|0.6456727', 'кабинка|0.6426004', 'накурить|0.6414193', 'курить|0.632741', 'удобно|0.6279687', 'комнатка|0.62728643', 'зальчик|0.62558186', 'уголок|0.6250516', 'воздух|0.6228201', 'кресло|0.6215434', 'дымно|0.6177212', 'комфортно|0.61415994', 'просторно|0.6141355', 'экран|0.61175', 'зал|0.6103131', 'светло|0.60913414', 'детский_комната|0.60508883', 'второе_этаж|0.6048356', 'туалет|0.6002817', 'веранда|0.59714293', 'курящий|0.5957372', 'деление|0.5942389', 'прохладно|0.59190214', 'просторный|0.59037185', 'балкон|0.58706343', 'друг_друг|0.58459425', 'камин|0.5843273', 'аквариум|0.5837698', 'мешать|0.58258027', 'этаж|0.57878137', 'сигаретный|0.5765507', 'табачный|0.5763304', 'телевизор|0.5759988', 'стул|0.57492733', 'некурящий|0.5718596', 'дальний|0.5717387', 'окно|0.569612', 'уединённость|0.5688415', 'шум|0.56803846', 'близко|0.5680177', 'плазма|0.5672796', 'вокруг|0.5642626', 'разделение|0.56401724', 'танцполый|0.5636747', 'свет|0.56047285', 'потолок|0.55695474', 'кондиционер|0.55459106', 'курильщик|0.55296075', 'барный_стойка|0.5513117', 'терасс|0.5480247', 'удобный|0.5444554', 'зеркало|0.54437876', 'сцена|0.5429548', 'прокурить|0.54182744', 'дышать|0.5418133', 'беседка|0.5416064', 'мебель|0.539128', 'освещение|0.53266424', 'народ|0.5321169', 'расположиться|0.5260191', 'слышный|0.5256419', 'тесновато|0.52482677', 'стена|0.5242203', 'потолочь|0.52336013', 'тв|0.5225836', 'сидеть|0.5209487', 'игрушка|0.51981694', 'панель|0.5194211', 'неудобный|0.519089', 'футбольный|0.51862526', 'расположить|0.51731235', 'расстояние|0.51619995', 'курение|0.5138256', 'тихо|0.51259243', 'напрягать|0.51168984', 'сосед|0.50956833', 'дерево|0.5075369', 'внутри|0.50724816', 'терраса|0.5067408', 'уединённый|0.50627285', 'угол|0.5054006', 'люстра|0.5052382', 'дворик|0.5042493', 'перегородка|0.50251734', 'внизу|0.5012299', 'футбол|0.50027865', 'залом|0.49893594']\n",
            "Aspect 6:\n",
            "['уровень|0.7337284', 'соответствовать|0.73284745', 'завысить|0.72326934', 'категория|0.7232171', 'ценник|0.7220585', 'ценовый|0.720211', 'сравнение|0.71576273', 'выше|0.7126733', 'крайний_мера|0.7017075', 'отличие|0.68650556', 'считать|0.6851801', 'качество|0.68284607', 'ниже|0.6821495', 'фаста|0.6793432', 'цена|0.6701142', 'цена_качество|0.6695571', 'оценивать|0.6564344', 'забегаловка|0.6555379', 'фуд|0.6507906', 'средний|0.6498733', 'отличаться|0.64984995', 'многий|0.64983433', 'учитывать|0.64678884', 'среднее|0.64546657', 'принцип|0.63377327', 'назвать|0.63228697', 'изыск|0.63212293', 'недостаток|0.6281327', 'большинство|0.6264466', 'подобный|0.6222639', 'демократичный|0.621554', 'высокий|0.6215168', 'формат|0.61767757', 'адекватный|0.61661553', 'политика|0.61103386', 'сетевой|0.6059544', 'приемлемый|0.6053614', 'касаться|0.6047237', 'оценка|0.60457194', 'простой|0.59669614', 'плохой|0.594107', 'японский|0.5937971', 'обычный|0.58832145', 'удивлять|0.58775496', 'низкий|0.58710843', 'скорее|0.58477986', 'достойный|0.5839711', 'гуманный|0.58387196', 'европейский|0.58265483', 'посредственный|0.57931954', 'ресторанный|0.57511973', 'намного|0.57427585', 'последний_время|0.5728069', 'вполне|0.56992', 'дешёвый|0.5697036', 'приличный|0.5694587', 'иной|0.5674962', 'соотношение_цена_качество|0.5665393', 'дорогой|0.56481963', 'гинза|0.56429696', 'китайский|0.5619695', 'менее|0.5549315', 'весь_остальной|0.55456936', 'претендовать|0.552066', 'средненький|0.55109555', 'дёшево|0.5501988', 'согласный|0.5490633', 'претензия|0.5490155', 'пожалуй|0.5487669', 'значительно|0.5482511', 'не_мочь_сказать|0.54734695', 'худой|0.5463365', 'умеренный|0.5446423', 'дорого|0.54130137', 'например|0.54121554', 'оправдывать|0.5401027', 'понятный|0.53915936', 'однозначно|0.5385279', 'качественный|0.53735', 'продукт|0.53538084', 'десятка|0.5338001', 'стандартный|0.53300893', 'однако|0.53289247', 'являться|0.5324365', 'взгляд|0.5287541', 'дороговатый|0.527444', 'разнообразие|0.52575046', 'хромать|0.52337617', 'общепит|0.52143574', 'придираться|0.5164552', 'судить|0.5149552', 'относительно|0.5141872', 'стандарт|0.5130547', 'измениться|0.5114759', 'план|0.50963414', 'относиться|0.5095877', 'сравнивать|0.5088186', 'бистро|0.5076678', 'главный|0.50703955', 'соответствующий|0.50584006']\n",
            "Aspect 7:\n",
            "['висок|0.8093756', 'коктейль|0.7784752', 'мохитый|0.74952334', 'безалкогольный|0.7466272', 'водка|0.73810524', 'крепкий|0.72918564', 'литр|0.7232655', 'алкогольный|0.71264565', 'мартини|0.7059241', 'пить|0.704687', 'морс|0.7019453', 'коньяк|0.6940636', 'бутылочка|0.68791825', 'пила|0.6828053', 'лимонад|0.6799684', 'выпить|0.6748011', 'вишнёвый|0.6601105', 'крушовица|0.6599773', 'кружка|0.65045404', 'глинтвейн|0.6474469', 'руль|0.64601475', 'сорт|0.63942206', 'ньюкасл|0.63887703', 'сидр|0.63293445', 'сангрия|0.6328755', 'нефильтрованный|0.63082016', 'коктель|0.628245', 'пинта|0.6280472', 'эспрессо|0.6253419', 'кальян|0.6224283', 'лонг|0.6219394', 'разливный|0.61782813', 'квас|0.6143376', 'сок|0.6126573', 'пиво|0.6090794', 'закусить|0.6044153', 'бутылочный|0.59964293', 'ликёр|0.59810346', 'бокал|0.5964838', 'напиток|0.59611034', 'америкать|0.5906143', 'чай|0.59041023', 'ром|0.58983827', 'сироп|0.58849466', 'бланша|0.5863387', 'хугарден|0.5852366', 'грапп|0.5804351', 'эль|0.5791575', 'настойка|0.5790979', 'игристый|0.5742097', 'бокальчик|0.5725304', 'айленд|0.570729', 'вода|0.56747985', 'гиннес|0.56671', 'лёд|0.5664685', 'графин|0.5647744', 'пивко|0.56459844', 'текила|0.56337744', 'пшеничный|0.561597', 'кофе|0.5607848', 'стакан|0.5584614', 'чашечка|0.55732477', 'компот|0.5535842', 'угостить|0.5532503', 'кувшин|0.5515393', 'мл|0.54998726', 'потягивать|0.5496579', 'попить|0.5489409', 'рюмка|0.54697347', 'латта|0.5463251', 'облепиховый|0.5461681', 'чаемый|0.54533434', 'капучиный|0.54362965', 'бесплатный|0.54315364', 'стаут|0.5426445', 'распитие|0.5424758', 'дайкири|0.5410653', 'алкоголь|0.5406171', 'наливать|0.539868', 'бутылка|0.5353551', 'джина|0.5325078', 'чайник|0.5315726', 'литровый|0.53147227', 'каберне|0.53119165', 'кола|0.5309175', 'василеостровский|0.5308715', 'вино|0.53002286', 'свежевыжать|0.52709347', 'клубничный|0.52678543', '100р|0.52464783', 'шампанский|0.52368844', 'клюквенный|0.52338105', 'пино|0.5195985', 'лимончелло|0.51953244', 'поллитра|0.51848304', 'эдельвейс|0.51598716', 'медовуха|0.5152743', 'вод|0.51481354', 'фирменный|0.51207906', 'минеральный|0.5117935']\n",
            "Aspect 8:\n",
            "['организация|0.78305954', 'тамада|0.7675678', 'организовать|0.7550148', 'свадебный|0.73570055', 'подготовка|0.7328336', 'торжество|0.7274757', 'праздник|0.7119614', 'мероприятие|0.7076107', 'благодарность|0.70701134', 'весь_гость|0.70243144', 'молодожён|0.6968017', 'ольга|0.694959', 'огромный_спасибо|0.6899726', 'организатор|0.68284476', 'весь_наш|0.68275714', 'банкет|0.68271077', 'подарок|0.67815435', 'пожелание|0.6734396', 'майкл|0.6733954', 'невеста|0.6689476', 'ирина|0.6595453', 'ведущий|0.6584927', 'директор|0.6510407', 'свадьба|0.65029895', 'большой_спасибо|0.6491093', 'фуршет|0.6471985', 'банкетный|0.6342156', 'отдельный_спасибо|0.63269526', 'команда|0.62953794', 'владимир|0.6282983', 'евгений|0.6249336', 'наталья|0.6229034', 'коллектив|0.6220244', 'учесть|0.6201091', 'номер|0.61771286', 'елена|0.61714375', 'профессионализм|0.6146445', 'сотрудник|0.6141969', 'профессионал|0.61374134', 'проведение|0.6120255', 'сергей|0.6116837', 'каравай|0.6068705', 'уважение|0.6008986', 'татьяна|0.59984934', 'марин|0.59832346', 'наш_свадьба|0.59742', 'александр|0.59728193', 'выражать|0.5925644', 'торт|0.58746535', 'алексей|0.58540165', 'станислав|0.5841298', 'благодаря|0.58383864', 'анастасий|0.5786691', 'банкетный_зал|0.57844496', 'честь|0.5780667', 'управлять|0.5760602', 'программа|0.5754143', 'менеджер|0.5747106', 'кондитер|0.5734592', 'благодарить|0.57112145', 'бельканто|0.5702592', 'участие|0.568061', 'дмитрий|0.566996', 'бравый|0.5629398', 'новый_год|0.56202364', 'шеф_повар|0.56085503', 'договор|0.5558779', 'поблагодарить|0.5535004', 'шоу|0.55327547', 'гость|0.5528248', 'юбилей|0.5517891', 'жених|0.55092454', 'подарить|0.55035377', 'родитель|0.5483428', 'помощь|0.544962', 'фотограф|0.54398596', 'весь_наш_пожелание|0.54371035', 'поклон|0.5436642', 'совет|0.5411533', 'регистрация|0.5362306', 'признательность|0.53437066', 'фейерверк|0.5324745', 'событие|0.5315722', 'андрей|0.5302435', 'поздравление|0.52882326', 'чуткий|0.5284849', 'конкурс|0.5272523', 'профессиональный|0.5268475', 'праздничный|0.5260211', 'виктор|0.5260167', 'мастер|0.52478516', 'услуга|0.52052283', 'жанна|0.5199547', 'выездной|0.5196703', 'юлий|0.5171849', 'дмитрия|0.51678383', 'артист|0.51573724', 'администрация|0.5137328', 'марина|0.51224226', 'кейтеринг|0.51183236']\n",
            "Aspect 9:\n",
            "['сегодня|0.74780226', 'заехать|0.7450175', 'вчера|0.72742033', 'пообедать|0.7272536', 'поехать|0.7020389', 'поужинать|0.6932217', 'обедать|0.6790494', 'воскресение|0.6671041', 'прогулка|0.6599306', 'пр|0.6585922', 'однокурсник|0.65726364', 'недавно|0.65230954', 'перекусить|0.64784193', 'заезжать|0.64674723', 'случайно|0.64644444', 'забежать|0.6447696', 'подружка|0.6432497', 'ездить|0.64179134', 'ужинать|0.6413412', 'ехать|0.6272177', 'московский|0.6244097', 'заслать|0.6202087', 'гулять|0.6183646', 'жена|0.61279345', 'днём|0.6090733', 'отправиться|0.6080319', 'петроградка|0.60590005', 'побывать|0.60509926', 'ул|0.60027516', 'приезжать|0.59793353', 'заглянуть|0.59056175', 'забегать|0.59012806', 'это_кафе|0.58879614', 'офис|0.58673716', 'мама|0.5805303', 'невский|0.57912815', 'выходной|0.57676446', 'неделя|0.5759756', 'жить|0.5758349', 'заскочить|0.575777', 'недалеко|0.57176054', 'суббота|0.5708101', 'район|0.5693563', 'поход|0.5691903', 'открыться|0.5687808', 'посетить|0.56799865', 'месяц|0.56384027', 'приехать|0.56262606', 'воскресный|0.5617872', 'год_назад|0.5607083', 'проезжать|0.5544512', 'давно|0.5526427', 'завтрак|0.5517354', 'москва|0.55025136', 'добраться|0.54839796', 'дом|0.5478531', 'однажды|0.5476687', 'назад|0.5464879', 'захаживать|0.5456079', 'вечером|0.545313', 'покушать|0.5447674', 'дочка|0.54246014', 'март|0.5415274', 'коллега|0.5410621', 'январь|0.54087174', 'частенько|0.53943086', 'сходить|0.53854954', 'приморский|0.53806573', 'четверг|0.5374929', 'ноябрь|0.53605133', 'встретиться|0.5357036', 'семья|0.53503287', 'захотеться|0.5331418', 'обед|0.53235215', 'утро|0.53048104', 'май|0.5301988', 'забрести|0.52722466', 'питер|0.5271712', 'перерыв|0.5250541', 'отмечать_день_рождение|0.52307117', 'февраль|0.52162814', 'заходить|0.5208421', 'восстание|0.52027977', 'прогуливаться|0.5202353', 'летом|0.5192929', 'остров|0.5185002', 'полгода|0.5175246', 'парка|0.5134553', 'ходьба|0.51336306', 'поздно|0.51270586', 'проспект|0.5119462', 'вдвоём|0.510227', 'лето|0.5099956', 'зайти|0.5094126', 'бизнес_ланч|0.50572383', 'целенаправленно|0.5050921', 'сестра|0.5033463', 'завтракать|0.5028373', 'евразия|0.5026735', 'утром|0.50076973']\n",
            "Aspect 10:\n",
            "['полка|0.70053184', 'старое|0.68977666', 'предмет|0.6855192', 'старинный|0.68520355', 'стен|0.68045163', 'золотой|0.6773089', 'журнал|0.6746879', 'ля|0.67377263', 'рамка|0.6666559', 'лампа|0.6619098', 'фотография|0.6613692', 'стена|0.65631163', 'крыша|0.6548933', 'стеклянный|0.6500962', 'газета|0.6472342', 'множество|0.6468737', 'внутренний|0.6423012', 'кирпичный|0.63911265', 'черно|0.62565494', 'деталь|0.6254279', 'картина|0.6251135', 'плазменный|0.62421143', 'синий|0.623636', 'подоконник|0.61949754', 'открываться|0.6191973', 'современный|0.6184186', 'элемент|0.6156647', 'ширма|0.61188734', 'дерево|0.6111198', 'убранство|0.6096278', 'панель|0.6088357', 'кирпич|0.60803753', 'потолок|0.60784626', 'люстра|0.60766536', 'светящийся|0.6074685', 'кровать|0.60644805', 'южный|0.60619617', 'белоснежный|0.6048282', 'атрибутика|0.60449785', 'штора|0.60304224', 'вдоль|0.6021953', 'белые|0.60211027', 'прочий|0.6011088', 'фильм|0.60041684', 'обилие|0.5992589', 'стекло|0.5984306', 'винный|0.59760284', 'небо|0.59676564', 'плитка|0.5951101', 'угол|0.59466845', 'блестящий|0.59414166', 'буфет|0.5934906', 'полочка|0.5915582', 'солнце|0.5911206', 'любоваться|0.5892643', 'мебель|0.5884196', 'стеллаж|0.58836734', 'среди|0.5883234', 'доска|0.5874065', 'прованс|0.5869658', 'свет|0.5866219', 'декор|0.5864346', 'зеркало|0.58472383', 'подсветка|0.5846001', 'шарм|0.58337593', 'огонь|0.5825156', 'пол|0.5814228', 'тон|0.5813936', 'кожаный|0.58129257', 'клетка|0.58104616', 'надпись|0.58058834', 'вписываться|0.58037853', 'абажур|0.58034456', 'искусственный|0.57893115', 'светильник|0.5784897', 'обивка|0.5784407', 'массивный|0.57818055', 'панорамный|0.5777215', 'открытый|0.5773549', 'подсвечник|0.57696384', 'кладка|0.5766977', 'висеть|0.5759212', 'портрет|0.57570875', 'барный_стойка|0.5753232', 'серый|0.5747181', 'занавеска|0.573285', 'полумрак|0.57305336', 'полый|0.57297015', 'видный|0.5728897', 'обои|0.5727643', 'роспись|0.57232094', 'свод|0.57152915', 'разглядывать|0.57101214', 'направление|0.5699075', 'солнечный|0.5686986', 'советский|0.5680404', 'широкий|0.567234', 'арка|0.5671667', 'красота|0.56685567', 'библиотека|0.56639636']\n",
            "Aspect 11:\n",
            "['приятный|0.6894149', 'очень_приятный|0.6816695', 'ненавязчивый|0.67974895', 'очень_порадовать|0.6789241', 'очень_понравиться|0.6782977', 'тёплый|0.6581675', 'прекрасно|0.64169276', 'очень_хороший|0.6353101', 'порадовать|0.63449156', 'замечательный|0.6301743', 'вкусный_еда|0.6289268', 'душевный|0.62391937', 'особенный|0.6133151', 'запомниться|0.61253405', 'навязчивый|0.6121104', 'весь_очень_понравиться|0.61100817', 'великолепный|0.60830355', 'отлично|0.6067507', 'остаться_очень_довольный|0.6059681', 'располагать|0.60203934', 'весь_очень_вкусно|0.60181606', 'весь_очень|0.59615135', 'понравиться_весь|0.59579587', 'ммммм|0.59195393', 'великолепно|0.5884804', 'изумительный|0.5870368', 'душевно|0.5827682', 'прекрасный|0.5802781', 'восхитительный|0.5757343', 'отличный|0.5723431', 'выше_весь_похвала|0.57125837', 'весь_понравиться|0.57043093', 'чудесно|0.56898904', 'остаться_довольный|0.5670928', 'превосходный|0.5634675', 'прийти_ещё|0.5622834', 'достойно|0.56148726', 'предупредительный|0.560054', 'особый|0.5580861', 'внимательный|0.5567182', 'расслаблять|0.5554946', 'домашний|0.553949', 'особенно|0.5531297', 'атмосфера|0.5524281', 'очень_понравиться_весь|0.5507066', 'высокий_уровень|0.54928553', 'довольный|0.546955', 'очень_вкусный|0.5467146', 'высота|0.5455644', 'оч|0.54506433', 'очень_очень_долго|0.5422152', 'чудесный|0.5415232', 'общий_впечатление|0.540356', 'волшебный|0.53977686', 'идеально|0.53849375', 'обстановка|0.5377214', 'подкачать|0.53760624', 'обстановочка|0.5372932', 'спокойный|0.5371943', 'безупречный|0.53662336', 'потрясать|0.5348358', 'позитивный|0.5324073', 'живот|0.53239906', 'очень_вкусно|0.53213906', 'доброжелательный|0.53045505', 'приятно|0.5300289', 'нарекание|0.52910185', 'безумно|0.5285978', 'ооочень_вкусный|0.5281336', 'супер|0.5245678', 'потрясающе|0.5235964', 'качественно|0.5210351', 'восторг|0.5194893', 'молодец|0.5189345', 'незаметно|0.5187651', 'пролететь|0.5149936', 'очень_вкусный_еда|0.5142945', 'уютный|0.51412165', 'остаться_очень_приятный|0.5139606', 'приветливый|0.51116025', 'зы|0.5106224', 'обязательно_прийти_ещё|0.50955796', 'неспешный|0.50945973', 'учтивый|0.5083587', 'классный|0.50676596', 'целое|0.50622046', 'вкусный|0.5051324', 'шикарно|0.5035993', 'быстрый|0.50205004', 'насладиться|0.5019305', 'вкусненький|0.5016951', 'отзывчивый|0.5016571', 'сытый|0.50158596', 'приём|0.5008894', 'мера|0.5007927', 'дружелюбный|0.50079', 'царить|0.5005863', 'отдельный_спасибо|0.50049615', 'зажигательный|0.5003101', 'радушный|0.50021243']\n",
            "Aspect 12:\n",
            "['полтора|0.7354243', '15_минута|0.72674143', 'оплатить|0.71695775', 'дождаться|0.7167804', 'выясниться|0.7164347', 'примерно|0.70048904', 'половина|0.69995904', 'минимум|0.6942335', '20_минута|0.6923577', 'соответственно|0.69183123', 'заполнить|0.6788247', 'ровно|0.6774925', 'расчёт|0.6748489', 'естественно|0.67131007', 'десять|0.6704937', '10_минута|0.66957426', 'это_время|0.66885334', 'пообещать|0.6632569', 'оплата|0.6618307', 'отдать|0.66135037', 'оговорить|0.6609264', 'час|0.66037357', 'пять|0.65910804', 'простоять|0.6587632', 'полчаса|0.6569761', 'прийтись|0.6561985', 'прождать|0.6559905', 'вынести|0.6550808', 'указать|0.6545381', 'сумма|0.65376455', 'предупредить|0.6526505', 'максимум|0.65059197', 'заплатить|0.6504204', 'предупреждать|0.64812183', 'вернуть|0.6479528', 'демонстративно|0.647666', 'мина|0.6470725', 'забрать|0.64612937', 'обещать|0.6442484', 'внести|0.64101875', 'попросить|0.63960445', 'напоминание|0.63908166', 'результат|0.6389817', 'сделать_заказ|0.63736165', 'унести|0.6333687', 'просидеть|0.63278675', 'закрытие|0.6311437', 'отказываться|0.6240127', 'рассчитать|0.62121195', 'спустя|0.6190326', 'дозаказать|0.6148091', 'посчитать|0.61313045', 'подождать|0.6107672', 'уйти|0.6106602', 'входить|0.60993147', 'предоплата|0.609775', 'курс|0.609056', 'отказать|0.60850513', 'течение|0.6079824', 'затем|0.6075052', 'депозит|0.6062983', 'попытка|0.60397327', 'убрать|0.6026883', 'четверо|0.6025601', 'привезти|0.6012631', 'сообщить|0.6005509', 'оплачивать|0.6001157', 'сообщать|0.59974', 'закончиться|0.5997159', 'двадцать|0.5992209', 'итог|0.59911895', 'бокс|0.5958045', 'включить|0.59275717', 'счёт|0.5926924', 'процент|0.5915072', 'просить|0.5908041', 'отказаться|0.5901823', 'остаток|0.5883083', 'поменять|0.58802336', '1_5_час|0.5879475', 'уложиться|0.58146966', 'успеть|0.58117443', 'сдача|0.5804553', 'около|0.58023506', 'пропасть|0.579913', 'перемена|0.5789618', 'пятнадцать|0.57710636', 'обнаружить|0.5767665', 'указанный|0.5743567', 'расплатиться|0.574215', 'перепутать|0.57345104', 'потребовать|0.57317275', 'факт|0.572362', 'уточнить|0.57009006', 'полупустой|0.56906307', 'приход|0.5689418', 'третье|0.56785226', 'закрываться|0.5665121', 'коробка|0.5649978', 'поздний|0.5619519']\n",
            "Aspect 13:\n",
            "['салат_цезарь|0.6651333', 'гриль|0.65445554', 'мясной|0.65275836', 'рыба|0.6491419', 'рыбный|0.63150555', 'греческий|0.61919904', 'морепродукт|0.6138934', 'дорад|0.6086928', 'говядина|0.60711455', 'баклажан|0.60456246', 'шашлычок|0.6036973', 'плов|0.6033759', 'карпаччо|0.60001916', 'свинина|0.5977231', 'дораду|0.5975412', 'цезарь|0.59674406', 'стейка|0.5940412', 'вок|0.5889366', 'овощ|0.5849649', 'осетрина|0.58433723', 'салатик|0.5839722', 'оливья|0.5808955', 'креветка|0.5799613', 'курица|0.5732881', 'пекински|0.5726758', 'ассорти|0.5666803', 'мангал|0.56551754', 'стейк|0.56474245', 'форель|0.5585816', 'шашлык|0.5574847', 'цыплёнок|0.5567913', 'рибай|0.5541087', 'свинин|0.55119264', 'лазание|0.55033624', 'лосось|0.5495804', 'стейковы|0.54808587', 'солянка|0.5459037', 'свинный|0.5457578', 'запечёный|0.54566824', 'приготовить|0.54361075', 'стэйк|0.54211056', 'куриный|0.539945', 'жульен|0.5384968', 'мидия|0.53683126', 'долму|0.5339638', 'казан|0.5333841', 'судак|0.5328596', 'вока|0.5325742', 'коптить|0.5310651', 'закуска|0.5294198', 'горячее_блюдо|0.5294067', 'телятина|0.528798', 'узбекский|0.5281998', 'выбрать|0.5260429', 'рёбрышко|0.524215', 'фахитос|0.5227949', 'кебаб|0.52256024', 'кисло_сладкое_соус|0.52125823', 'уха|0.52031016', 'ризотто|0.520284', 'барашек|0.5179237', 'острый|0.51675546', 'свиной|0.5166795', 'экспериментировать|0.5162895', 'блюдо|0.5150273', 'паста|0.5109293', 'тигровый|0.5098078', 'салат|0.50827986', 'раздел|0.50800526', 'харчо|0.5078506', 'состав|0.50569695', 'запечь|0.50450855', 'стерлядь|0.5034122', 'мраморный|0.5026622', 'гриб|0.5017047', 'тапас|0.500613', 'паэлие|0.50021344', 'каре|0.50005496', 'крылышко|0.49922022', 'бифстроганов|0.49859127', 'бефстроганов|0.49815142', 'ушко|0.49807876', 'колбаска|0.49755526', 'лапша|0.4969173', 'краб|0.49687386', 'долма|0.49649334', 'вегетарианский|0.49615765', 'сацивить|0.49594083', 'осьминог|0.49463642', 'садж|0.4944138', 'хачапури|0.4936993', 'филе|0.49297535', 'баранина|0.49276432', 'ягнёнок|0.49107486', 'котлета|0.49080846', 'барбекю|0.4906318', 'сибас|0.4896116', 'камчатский|0.48851734', 'медальон|0.4883206', 'борщ|0.4859994']\n",
            "2019-12-24 21:09:44,132 INFO Epoch 2, train: 5s\n",
            "2019-12-24 21:09:44,132 INFO Total loss: 4.3186, max_margin_loss: 4.2103, ortho_reg: 0.1083\n",
            "100% 594/594 [00:05<00:00, 103.66it/s]\n",
            "Aspect 0:\n",
            "['студентка|0.6913338', 'попёс|0.68885946', 'этак|0.6683867', 'бум|0.66811633', 'прибавить|0.66726065', 'хх|0.6641469', 'полуночь|0.66265905', 'фраер|0.6590008', 'прайс|0.65465117', 'двенадцать|0.6539507', 'good|0.6538298', 'food|0.652393', 'космический|0.649443', 'тридцать|0.6483283', 'ливерпуль|0.6479527', 'па|0.6475904', 'пт|0.64685774', 'басс|0.64486086', 'луна|0.6436598', 'service|0.6383889', 'выключать|0.63818103', 'блюз|0.6366215', 'доллар|0.636459', 'школьник|0.6356046', 'no|0.6354021', 'гопник|0.6344551', 'приблизительно|0.6340449', 'ву|0.6337219', 'restaurant|0.6336694', 'пятьдесят|0.63211703', 'зарубежный|0.6314905', 'of|0.6298143', 'бальный|0.6294701', 'ого|0.62935036', 'кукарача|0.6284493', 'negativa|0.6281533', 'my|0.626165', 'балет|0.6261574', 'немолодой|0.6257284', 'ролик|0.6254786', 'шато|0.6253612', 'максимальный|0.62498474', 'мировой|0.62472105', 'отстой|0.62458205', 'бурный|0.6244673', 'this|0.62416154', 'преимущественно|0.62376934', 'харизма|0.62329304', 'поколение|0.6228989', 'удар|0.62269866', 'фанера|0.6209357', 'ру|0.6198625', 'бабка|0.6197817', 'парный|0.61911374', 'you|0.6187694', 'именной|0.6186576', 'ограничение|0.61854064', 'бранч|0.6185037', 'девять|0.61776555', 'заявка|0.61755675', 'гопот|0.6168874', 'справедливо|0.6162549', 'сб|0.61426306', 'were|0.61352825', 'грузин|0.61337435', 'подросток|0.6132977', 'потребление|0.6126084', 'ть|0.61250925', 'пать|0.6124009', 'ка|0.6122496', 'party|0.61146027', 'монета|0.61092323', 'рок|0.610524', 'майя|0.6102432', 'индустриальный|0.60929096', 'place|0.6087225', 'халява|0.60841763', 'very|0.6069869', 'икс|0.6069325', 'заполняемость|0.6064858', 'население|0.6060128', 'rr|0.6059528', 'аккомпанемент|0.6051737', 'транслироваться|0.6038941', 'гинесса|0.6038932', 'возвращение|0.6032155', 'лига|0.60306853', 'подорожать|0.6028934', 'че|0.60225606', 'дядька|0.60217637', 'терпимый|0.6017324', 'танцор|0.60162306', 'круча|0.60147333', 'диск|0.6014241', 'нажать|0.59984565', 'потянуть|0.59945273', 'осуществить|0.5991585', 'градус|0.5984738', 'чтоль|0.59821457', 'резкий|0.5981376']\n",
            "Aspect 1:\n",
            "['масло|0.60193396', 'солёный|0.5971734', 'рот|0.5887774', 'кусочек|0.57884955', 'нарезать|0.5787499', 'корочка|0.5743352', 'выращивать|0.5671643', 'хрустеть|0.5650436', 'лука|0.56285787', 'жёсткий|0.56244147', 'булка|0.5603614', 'соль|0.5581229', 'пережарить|0.557586', 'заморозка|0.55452275', 'сверху|0.55398595', 'майонез|0.54948336', 'жир|0.5488334', 'разрезать|0.54833764', 'посыпать|0.54810387', 'помидорка|0.5477911', 'уксус|0.5475026', 'зелень|0.54434294', 'капуста|0.5421227', 'помидор|0.54042584', 'специя|0.5402703', 'варёный|0.5384624', 'слайс|0.5378817', 'кубик|0.53619', 'кусок|0.5355435', 'разогреть|0.5340835', 'орешек|0.53364134', 'плавать|0.53227335', 'сырой|0.53157055', 'пармезан|0.53072953', 'порезать|0.52946913', 'яйцо|0.52773345', 'каперс|0.5276193', 'огурец|0.52752185', 'чеснок|0.52613634', 'тонкий|0.52460957', 'перчик|0.5228213', 'ломтик|0.52248716', 'безвкусный|0.5187511', 'жидкий|0.51777184', 'свежесть|0.5174925', 'мелко|0.5167614', 'петрушка|0.5161946', 'трава|0.51480114', 'фарш|0.51250464', 'заправка|0.51198435', 'мариновать|0.510864', 'выковыривать|0.50954324', 'микроволновка|0.50939465', 'морковь|0.5089415', 'толстой|0.50765705', 'травка|0.50755906', 'обжарить|0.50717616', 'залить|0.50706065', 'плесень|0.5060841', 'лежалый|0.5031222', 'черри|0.5027267', 'булочка|0.50268066', 'лук|0.50244015', 'горчица|0.50235844', 'горка|0.5013631', 'протухший|0.5012602', 'песто|0.5005886', 'фасоль|0.49942058', 'сухой|0.49915648', 'полить|0.49909663', 'бульон|0.4975198', 'слой|0.4974025', 'плошка|0.49641863', 'жирный|0.49628925', 'тест|0.4955802', 'бальзамик|0.49479705', 'жарить|0.494629', 'каша|0.49433753', 'лаваш|0.49419498', 'бальзамико|0.49316093', 'бекон|0.49288964', 'картошка|0.49285457', 'соломка|0.49250695', 'сметана|0.49229136', 'поджарить|0.4921013', 'кура|0.4909339', 'переварить|0.4908237', 'огурчик|0.49035454', 'пожарить|0.48998785', 'рыбка|0.48925427', 'сковорода|0.48923844', 'прогорклый|0.4885384', 'спаржа|0.48847008', 'консервированный|0.48817256', 'курочка|0.48788318', 'сковородка|0.48777235', 'хрен|0.48738772', 'резиновый|0.4872651', 'блин|0.4867403', 'морковка|0.48638636']\n",
            "Aspect 2:\n",
            "['сладость|0.7327029', 'миндальный|0.70826167', 'мусса|0.69984555', 'бисквит|0.6972852', 'банановый|0.69604504', 'шоколад|0.6949879', 'печение|0.69058824', 'суфле|0.6890217', 'развалина|0.6888475', 'панакот|0.6875819', 'карамель|0.68548465', 'малин|0.6850904', 'пирожное|0.6842261', 'маракуйя|0.68106854', 'карамельный|0.68060577', 'изюм|0.67658865', 'манговый|0.67554164', 'брюла|0.67490333', 'мильфея|0.6744579', 'трюфель|0.6722412', 'ягода|0.6713733', 'безе|0.6713352', 'крем|0.671229', 'взбить|0.66958725', 'сорбетом|0.66917336', 'марципановый|0.66718686', 'грушевый|0.6661395', 'шоколадный|0.66579056', 'какао|0.6650188', 'шарик|0.66391635', 'песочный|0.66260386', 'корица|0.6621339', 'графский|0.66150624', 'желе|0.6576213', 'ванильный|0.65755653', 'меренга|0.6569576', 'персиковый|0.65594065', 'мятный|0.65490437', 'захер|0.65409034', 'креманка|0.6539772', 'морковный|0.652609', 'клубника|0.65212023', 'ваниль|0.6518305', 'творог|0.6517302', 'трубочка|0.6506883', 'пирожёнка|0.64927006', 'малина|0.64898205', 'фисташковый|0.648497', 'сорбета|0.6481756', 'кокосовый|0.6479042', 'банан|0.64746946', 'творожный|0.6472386', 'джема|0.64665425', 'заварной|0.6455966', 'мятый|0.64551115', 'сладкое|0.6451434', 'лимонный|0.6447444', 'кекс|0.64444375', 'орех|0.644415', 'лаймовый|0.6440372', 'десертный|0.64340925', 'сахарный|0.6427586', 'личить|0.6427233', 'ягодный|0.6423586', 'фондать|0.6421095', 'яблоко|0.6414936', 'мусс|0.64047', 'капуччиный|0.64043605', 'манго|0.64026946', 'слоёный|0.6400697', 'баба|0.63951105', 'цедра|0.63950014', 'сливка|0.6393539', 'печенюшка|0.63887274', 'сырник|0.63732046', 'карамелизировать|0.6356583', 'вишня|0.6356087', 'цитрусовый|0.6349126', 'чиз|0.63479376', 'мороженный|0.6338273', 'покупной|0.63310534', 'маскарпон|0.632403', 'смородина|0.6322212', 'ягодка|0.63166434', 'чизкейк|0.631579', 'тортик|0.6314146', 'абрикос|0.62983394', 'медовик|0.6295529', 'плотный|0.62912154', 'пудинг|0.62823796', 'печенек|0.6276655', 'корж|0.6275683', 'черника|0.62618065', 'сгущёнка|0.6260817', 'эклер|0.62497777', 'мороженое|0.62495065', 'шарлотка|0.6242569', 'кофейный|0.6233924', 'конфета|0.62263894', 'экземпляр|0.6225043']\n",
            "Aspect 3:\n",
            "['бояться|0.7578668', 'простить|0.74204135', 'ум|0.7383301', 'мысль|0.73547685', 'господин|0.72231686', 'значит|0.706574', 'слышать|0.69319344', 'срочно|0.6907368', 'надоесть|0.6863283', 'пусть|0.68281597', 'обидеть|0.67394567', 'здоровье|0.67231774', 'право|0.6722458', 'речь|0.6685178', 'знак|0.662791', 'признаться|0.6561337', 'стороной|0.65475965', 'понять|0.6499795', 'поверить|0.64813733', 'скоро|0.647544', 'признаваться|0.64455163', 'зря|0.64454854', 'уверенный|0.6426867', 'ибо|0.63969564', 'перестать|0.63953406', 'постараться|0.63772357', 'знаете|0.6370504', 'пора|0.635138', 'сила|0.6345477', 'обходить|0.6323261', 'продолжать|0.6297443', 'борис|0.62775576', 'ресторатор|0.6270745', 'не_не|0.62700486', 'верить|0.6263205', 'иначе|0.6256422', 'защита|0.62387836', 'интерес|0.6190072', 'слово|0.6188078', 'удалять|0.6121237', 'высказать|0.61100066', 'навсегда|0.6104459', 'жизнь|0.6097622', 'передать|0.60950273', 'бороться|0.6081476', 'призывать|0.60811824', 'душить|0.60596395', 'человек_который|0.60353756', 'оттуда|0.6029091', 'надеяться|0.60271835', 'бог|0.6012458', 'ругаться|0.60102975', 'автор|0.6001959', 'вечно|0.6000436', 'вон|0.599929', 'сменить|0.5984575', 'научить|0.5980724', 'негатив|0.5980339', 'отсюда|0.5972067', 'гениальный|0.596895', 'звезда|0.59648436', 'непременно|0.59496176', 'быдло|0.59470385', 'вновь|0.59376645', 'личный|0.59364796', 'мат|0.5935772', 'полениться|0.5926727', 'уважаемый|0.59262884', 'история|0.5923234', 'наверно|0.591142', 'неужели|0.5903504', 'таракан|0.59023654', 'извинить|0.5878176', 'ругать|0.5870131', 'привет|0.58470577', 'наплевать|0.5843365', 'исправить|0.5838669', 'строго|0.58324397', 'земля|0.58275425', 'развитие|0.58234787', 'чтожий|0.58230186', 'спорить|0.582299', 'возвращаться|0.5811777', 'лезть|0.57995474', 'терять|0.57834345', 'обратный|0.57822424', 'совесть|0.5769621', 'плевать|0.57629824', 'услышать|0.5759075', 'пожрать|0.5758987', 'категорически|0.57584226', 'завтра|0.5756185', 'следовать|0.57453644', 'владелец|0.57443607', 'не_знать|0.5741317', 'твой|0.57362056', 'говориться|0.5730334', 'задуматься|0.57265776', 'дословно|0.57228416', 'неловко|0.57078195']\n",
            "Aspect 4:\n",
            "['девочка|0.7987545', 'мальчик|0.7979059', 'улыбаться|0.771674', 'девушка|0.76773', 'молодая_человек|0.75782263', 'официантка|0.7324067', 'парень|0.7215312', 'улыбка|0.70608354', 'официант|0.69287854', 'улыбчивый|0.68343747', 'барышня|0.6779517', 'юноша|0.65504247', 'весь_время|0.6520371', 'провожать|0.648504', 'наш_столик|0.64023685', 'интересоваться|0.6389427', 'звать|0.63807464', 'мила|0.63313794', 'пепельница|0.6329493', 'лицо|0.6297613', 'обслуживать|0.61761415', 'хостёс|0.6153558', 'спрашивать|0.6065806', 'здороваться|0.6007189', 'постоянно|0.5960622', 'прощаться|0.585731', 'вежливый|0.5853807', 'приветливо|0.5845814', 'забывать|0.5815897', 'высокомерный|0.58142656', 'соседний_столик|0.57902026', 'хостесса|0.57809496', 'гардеробщик|0.5767759', 'любезный|0.5765661', 'успевать|0.57258993', 'молоденький|0.57045186', 'бармен|0.565531', 'разговаривать|0.56533486', 'улыбнуться|0.56400263', 'медленно|0.5615952', 'офицант|0.5607933', 'внимательно|0.55980307', 'молниеносно|0.55554396', 'менять|0.5546471', 'убирать|0.55338734', 'появляться|0.55309194', 'мужчина|0.55161273', 'доброжелательно|0.5514348', 'отвечать|0.54929507', 'молодая|0.547148', 'принимать|0.54543376', 'принять_заказ|0.54423666', 'встречать|0.5427834', 'стараться|0.5418296', 'бегать|0.54082215', 'шустрый|0.53646034', 'стойка|0.5347285', 'задержка|0.52988744', 'женщина|0.52968895', 'администратор|0.52802604', 'шутить|0.527823', 'расторопный|0.5256039', 'оперативно|0.52527356', 'поменять|0.52343345', 'поздороваться|0.5228019', 'кальянщик|0.52113223', 'подходить|0.51859856', 'замечать|0.51771396', 'реагировать|0.5176176', 'уносить|0.51650083', 'обслужить|0.51528174', 'вовремя|0.51401114', 'обслуживающий|0.5137315', 'внешность|0.51184404', 'общаться|0.5118043', 'смена|0.51032835', 'суетиться|0.50743055', 'запара|0.5024457', 'милый|0.5017712', 'подойти|0.49973294', 'голос|0.49719357', 'охранник|0.49702042', 'забирать|0.495753', 'очень_быстро|0.49502027', 'дружелюбно|0.49449715', 'неприветливый|0.49362445', 'волос|0.49146962', 'быстро|0.4902842', 'грязный|0.48809874', 'объяснять|0.487083', 'порхать|0.48554912', 'убираться|0.48504573', 'просьба|0.48376206', 'чётко|0.48294982', 'приходиться|0.4820863', 'имя|0.4806615', 'учтивый|0.4798634', 'ловить|0.47676367', 'объяснить|0.47621077', 'офицантка|0.4740744']\n",
            "Aspect 5:\n",
            "['помещение|0.758637', 'зона|0.73630923', 'вентиляция|0.7204606', 'душный|0.71685565', 'дым|0.70639277', 'тесно|0.7008909', 'вытяжка|0.7004088', 'комната|0.68811816', 'неуютный|0.6866162', 'диван|0.67928636', 'шумно|0.6773363', 'накурить|0.6589918', 'курить|0.6499284', 'диванчик|0.64969015', 'пространство|0.6484686', 'кабинка|0.64293325', 'зала|0.64228994', 'удобно|0.64116144', 'дымно|0.6371474', 'воздух|0.6350808', 'комфортно|0.63321644', 'комнатка|0.63179654', 'кресло|0.6240542', 'экран|0.623527', 'просторно|0.62111723', 'уголок|0.6210655', 'зальчик|0.6188312', 'друг_друг|0.61548823', 'мешать|0.6117491', 'детский_комната|0.61131066', 'светло|0.61090016', 'туалет|0.6087451', 'второе_этаж|0.60649276', 'зал|0.5995004', 'деление|0.59312725', 'прохладно|0.5927427', 'аквариум|0.5925727', 'веранда|0.5925377', 'просторный|0.5911685', 'курящий|0.59096247', 'близко|0.5908426', 'табачный|0.5887068', 'телевизор|0.5886188', 'вокруг|0.5885785', 'сигаретный|0.58826387', 'балкон|0.58668494', 'камин|0.585662', 'уединённость|0.58473366', 'шум|0.5836559', 'танцполый|0.58298385', 'стул|0.5798243', 'дальний|0.57956266', 'плазма|0.57696635', 'некурящий|0.5683094', 'разделение|0.56353426', 'окно|0.56257766', 'потолок|0.5610169', 'курильщик|0.5598927', 'свет|0.5596386', 'кондиционер|0.5587667', 'барный_стойка|0.5573644', 'этаж|0.55661327', 'дышать|0.55546594', 'сцена|0.5535756', 'слышный|0.5515318', 'прокурить|0.5508463', 'беседка|0.54914236', 'удобный|0.54878646', 'зеркало|0.5482589', 'сидеть|0.5482326', 'терасс|0.545063', 'мебель|0.5429979', 'народ|0.54287696', 'тв|0.53856885', 'освещение|0.53452075', 'тесновато|0.5334269', 'неудобный|0.53331363', 'футбольный|0.5328139', 'расстояние|0.5316909', 'потолочь|0.53090405', 'курение|0.52893585', 'сосед|0.52739066', 'расположить|0.527313', 'панель|0.52706623', 'игрушка|0.52610826', 'стена|0.5253991', 'расположиться|0.5253308', 'напрягать|0.5185298', 'шумный|0.51842463', 'тихо|0.5182756', 'неудобно|0.51728284', 'футбол|0.51447856', 'дерево|0.51324344', 'внутри|0.5120801', 'перегородка|0.5109536', 'угол|0.5098868', 'люстра|0.50751644', 'внизу|0.5071087', 'дворик|0.5064504', 'спокойно|0.5051377']\n",
            "Aspect 6:\n",
            "['уровень|0.7318373', 'ценовый|0.728936', 'категория|0.7261654', 'ценник|0.725765', 'соответствовать|0.72287345', 'завысить|0.7207999', 'выше|0.7093358', 'сравнение|0.704581', 'крайний_мера|0.69880205', 'качество|0.6825092', 'ниже|0.68080294', 'фаста|0.68041724', 'отличие|0.6775328', 'цена|0.6763777', 'цена_качество|0.67335033', 'считать|0.6710291', 'фуд|0.65241563', 'забегаловка|0.6445999', 'учитывать|0.64374584', 'среднее|0.6436043', 'средний|0.6407186', 'оценивать|0.6368485', 'изыск|0.6350554', 'отличаться|0.6335406', 'многий|0.6307652', 'недостаток|0.6230076', 'демократичный|0.61938894', 'принцип|0.6143548', 'высокий|0.614051', 'назвать|0.6127453', 'адекватный|0.61264145', 'формат|0.6125799', 'политика|0.6093963', 'сетевой|0.60467017', 'большинство|0.60279745', 'оценка|0.6018931', 'приемлемый|0.59894896', 'подобный|0.59639484', 'японский|0.5959397', 'касаться|0.5888618', 'удивлять|0.5883658', 'простой|0.5878544', 'гуманный|0.5834368', 'европейский|0.5792405', 'низкий|0.5788241', 'намного|0.5735193', 'достойный|0.57306755', 'последний_время|0.5719321', 'скорее|0.5715084', 'ресторанный|0.5703405', 'обычный|0.5699388', 'соотношение_цена_качество|0.5685871', 'плохой|0.56708115', 'вполне|0.56695116', 'посредственный|0.5644921', 'гинза|0.5601276', 'дорогой|0.5561842', 'дешёвый|0.5546777', 'значительно|0.5526446', 'иной|0.55028456', 'приличный|0.5492544', 'дёшево|0.5490529', 'китайский|0.54883003', 'менее|0.5478407', 'согласный|0.54563147', 'умеренный|0.5435413', 'пожалуй|0.5429225', 'претензия|0.5428026', 'весь_остальной|0.54209495', 'дорого|0.5379211', 'например|0.5357437', 'взгляд|0.5357075', 'не_мочь_сказать|0.53467214', 'оправдывать|0.5344377', 'претендовать|0.5333735', 'средненький|0.5325459', 'понятный|0.5323935', 'продукт|0.532261', 'стандартный|0.5304368', 'однозначно|0.52999306', 'качественный|0.5272916', 'худой|0.52726364', 'разнообразие|0.5252551', 'заведение|0.5234846', 'общепит|0.5208426', 'являться|0.5203973', 'десятка|0.5199208', 'дороговатый|0.5198933', 'однако|0.51942533', 'относительно|0.51432633', 'стандарт|0.51346064', 'хромать|0.5107997', 'бистро|0.5084419', 'измениться|0.5016875', 'придираться|0.50147194', 'гораздо|0.50076556', 'план|0.500424', 'относиться|0.49963304', 'соответствующий|0.49959603', 'крайне|0.49855444']\n",
            "Aspect 7:\n",
            "['висок|0.82717544', 'коктейль|0.78572786', 'водка|0.76100016', 'безалкогольный|0.7564926', 'мохитый|0.74815965', 'крепкий|0.7415311', 'пить|0.72817016', 'литр|0.7244228', 'алкогольный|0.724422', 'мартини|0.71559227', 'коньяк|0.6996962', 'морс|0.695995', 'пила|0.6946293', 'выпить|0.6934119', 'бутылочка|0.691404', 'крушовица|0.682142', 'кружка|0.6752674', 'вишнёвый|0.6736071', 'сорт|0.6677878', 'лимонад|0.6673894', 'руль|0.66181713', 'нефильтрованный|0.66061616', 'ньюкасл|0.6549404', 'разливный|0.654934', 'пиво|0.6529886', 'сангрия|0.64780384', 'глинтвейн|0.64740115', 'пинта|0.6448443', 'сидр|0.6441012', 'коктель|0.6364601', 'бутылочный|0.6314652', 'лонг|0.63015103', 'кальян|0.6230119', 'закусить|0.6196164', 'квас|0.6146554', 'бокал|0.6130593', 'бланша|0.61259925', 'хугарден|0.610768', 'сок|0.60489094', 'эль|0.60379726', 'эспрессо|0.60130817', 'напиток|0.5988476', 'ликёр|0.5909351', 'пшеничный|0.59065753', 'бокальчик|0.5900408', 'ром|0.586926', 'гиннес|0.58658135', 'айленд|0.58359694', 'игристый|0.58284485', 'пивко|0.5817456', 'настойка|0.5797945', 'сироп|0.57896423', 'грапп|0.576174', 'стаут|0.5750364', 'вода|0.57351935', 'текила|0.5730702', 'потягивать|0.57183504', 'графин|0.56968725', 'лёд|0.569247', 'распитие|0.568801', 'америкать|0.56734335', 'попить|0.5650538', 'чай|0.56278473', 'рюмка|0.5617326', 'василеостровский|0.55795217', 'стакан|0.55542374', 'алкоголь|0.55496633', 'наливать|0.5531277', 'кувшин|0.5522428', 'угостить|0.55215716', 'бутылка|0.551183', 'дайкири|0.54685795', 'бесплатный|0.54653096', 'вино|0.54330087', 'литровый|0.5425309', 'шампанский|0.5416667', 'компот|0.54141223', 'кофе|0.5406976', 'облепиховый|0.540468', 'чашечка|0.5393833', 'кола|0.53725326', 'джина|0.5364107', 'каберне|0.5348222', 'мл|0.529703', 'фирменный|0.52823305', 'латта|0.52756524', 'эдельвейс|0.52644604', 'поллитра|0.525501', 'пино|0.5229863', 'клюквенный|0.5214075', 'медовуха|0.52086323', '100р|0.519782', 'капучиный|0.51965004', 'бельгийский|0.5193325', 'свежевыжать|0.51929104', 'чаемый|0.5169825', 'клубничный|0.5166788', 'производство|0.51445377', 'лимончелло|0.51213586', 'гриджио|0.50906247']\n",
            "Aspect 8:\n",
            "['организация|0.79014266', 'тамада|0.7721255', 'организовать|0.76377517', 'свадебный|0.73911595', 'подготовка|0.7379526', 'торжество|0.7296471', 'благодарность|0.718191', 'праздник|0.71364164', 'мероприятие|0.7117455', 'ольга|0.7060809', 'весь_гость|0.7044773', 'огромный_спасибо|0.6985529', 'молодожён|0.6980932', 'организатор|0.69016695', 'банкет|0.68460524', 'весь_наш|0.68442994', 'майкл|0.68079984', 'пожелание|0.6806233', 'подарок|0.679624', 'ирина|0.6691747', 'невеста|0.66852796', 'ведущий|0.66639984', 'директор|0.66164064', 'большой_спасибо|0.6590687', 'фуршет|0.6507489', 'свадьба|0.64788556', 'отдельный_спасибо|0.6434914', 'команда|0.64088714', 'банкетный|0.63855404', 'владимир|0.6379199', 'евгений|0.63634264', 'наталья|0.6353297', 'коллектив|0.63238734', 'елена|0.6299706', 'профессионализм|0.6270212', 'учесть|0.626659', 'номер|0.6260426', 'сергей|0.6224278', 'сотрудник|0.62235016', 'профессионал|0.62186575', 'проведение|0.6164795', 'александр|0.61212456', 'уважение|0.6117543', 'татьяна|0.6101544', 'марин|0.60880595', 'каравай|0.606335', 'выражать|0.6031728', 'наш_свадьба|0.5994641', 'станислав|0.59658253', 'алексей|0.5944255', 'благодаря|0.5887901', 'анастасий|0.5878042', 'управлять|0.58777595', 'банкетный_зал|0.587239', 'честь|0.5837451', 'торт|0.58166385', 'менеджер|0.5811698', 'благодарить|0.5796797', 'программа|0.57964855', 'участие|0.5775469', 'дмитрий|0.57557726', 'бельканто|0.5738815', 'кондитер|0.57115483', 'новый_год|0.5692974', 'бравый|0.56866044', 'поблагодарить|0.5659257', 'шеф_повар|0.5614146', 'поклон|0.5612762', 'шоу|0.5611515', 'договор|0.5611042', 'подарить|0.55729103', 'родитель|0.55381525', 'юбилей|0.55343825', 'весь_наш_пожелание|0.55328727', 'помощь|0.5522435', 'жених|0.5506599', 'гость|0.5505692', 'фотограф|0.54966325', 'совет|0.5464488', 'признательность|0.54394114', 'андрей|0.5439115', 'регистрация|0.5419097', 'чуткий|0.5403266', 'профессиональный|0.5390353', 'виктор|0.53715485', 'событие|0.5356102', 'фейерверк|0.5348898', 'поздравление|0.5343748', 'конкурс|0.5339751', 'мастер|0.5326944', 'жанна|0.5298686', 'услуга|0.5296229', 'праздничный|0.52836657', 'юлий|0.5268333', 'артист|0.5258652', 'дмитрия|0.5258461', 'выездной|0.52467155', 'администрация|0.524086', 'марина|0.52193123', 'кейтеринг|0.51914793']\n",
            "Aspect 9:\n",
            "['сегодня|0.7474709', 'заехать|0.7426952', 'пообедать|0.72975916', 'вчера|0.723284', 'поехать|0.69633806', 'поужинать|0.6886116', 'обедать|0.6793481', 'воскресение|0.66620964', 'пр|0.66587764', 'прогулка|0.6616251', 'однокурсник|0.65719163', 'недавно|0.6505432', 'перекусить|0.6474505', 'забежать|0.64730436', 'случайно|0.6441889', 'заезжать|0.6438726', 'ездить|0.6380271', 'подружка|0.6371961', 'ужинать|0.633301', 'московский|0.6314124', 'ехать|0.6257485', 'заслать|0.6193449', 'гулять|0.6164719', 'днём|0.61140555', 'отправиться|0.60761666', 'петроградка|0.60418665', 'жена|0.6032765', 'ул|0.6032101', 'побывать|0.59795296', 'офис|0.5947587', 'приезжать|0.5913116', 'невский|0.59078485', 'это_кафе|0.58947635', 'заглянуть|0.5850929', 'забегать|0.5833515', 'район|0.57717526', 'жить|0.5768699', 'недалеко|0.57490826', 'выходной|0.57375926', 'заскочить|0.5729176', 'открыться|0.5723668', 'мама|0.57208353', 'поход|0.5682111', 'суббота|0.56627345', 'неделя|0.56431246', 'воскресный|0.5629313', 'посетить|0.560387', 'завтрак|0.56024855', 'год_назад|0.56018126', 'проезжать|0.5593405', 'месяц|0.5590584', 'дом|0.55575645', 'приехать|0.5548738', 'москва|0.5506179', 'давно|0.548206', 'добраться|0.54563165', 'приморский|0.54240096', 'захаживать|0.54224646', 'вечером|0.5413638', 'однажды|0.5410211', 'обед|0.5407959', 'дочка|0.54063773', 'январь|0.54060894', 'март|0.54048157', 'коллега|0.54010236', 'назад|0.5389687', 'покушать|0.5374149', 'частенько|0.5370213', 'ноябрь|0.53654665', 'утро|0.5340487', 'семья|0.533717', 'встретиться|0.5309098', 'четверг|0.53079337', 'май|0.53075206', 'перерыв|0.53001213', 'восстание|0.5292295', 'питер|0.5276391', 'заходить|0.525663', 'сходить|0.52522284', 'забрести|0.52396166', 'февраль|0.52303666', 'проспект|0.52288115', 'прогуливаться|0.5220715', 'отмечать_день_рождение|0.519613', 'захотеться|0.5191238', 'ходьба|0.5187056', 'летом|0.51846683', 'остров|0.51826894', 'парка|0.5168771', 'полгода|0.5158529', 'поздно|0.51560307', 'евразия|0.51345205', 'лето|0.5111098', 'бизнес_ланч|0.50737834', 'очередной|0.5054604', 'зайти|0.50458634', 'завтракать|0.5045269', 'вдвоём|0.5033144', 'утром|0.50054806', 'целенаправленно|0.4995463']\n",
            "Aspect 10:\n",
            "['полка|0.70394117', 'старое|0.69076604', 'старинный|0.686229', 'стен|0.681874', 'предмет|0.6772101', 'ля|0.6731151', 'журнал|0.672178', 'золотой|0.6709955', 'лампа|0.6639539', 'рамка|0.66179615', 'стена|0.6617727', 'фотография|0.6559014', 'стеклянный|0.65182257', 'крыша|0.64925164', 'газета|0.6447543', 'множество|0.64261043', 'кирпичный|0.6410292', 'картина|0.6356783', 'черно|0.63515365', 'внутренний|0.63479674', 'деталь|0.63072497', 'синий|0.62945914', 'подоконник|0.62277377', 'плазменный|0.6195342', 'белые|0.61812127', 'элемент|0.6179594', 'дерево|0.6148233', 'люстра|0.61310333', 'открываться|0.6115385', 'современный|0.61093074', 'потолок|0.60961014', 'кирпич|0.6092578', 'белоснежный|0.6089945', 'убранство|0.6085757', 'винный|0.6084702', 'кровать|0.6075078', 'светящийся|0.60589385', 'атрибутика|0.60519975', 'штора|0.6047134', 'панель|0.6046369', 'ширма|0.60445607', 'фильм|0.5997578', 'буфет|0.5994978', 'стекло|0.59949046', 'обилие|0.5987222', 'плитка|0.5983722', 'солнце|0.5977851', 'южный|0.5977553', 'вдоль|0.59736663', 'прочий|0.59712565', 'тон|0.59493935', 'полочка|0.594898', 'прованс|0.59313333', 'свет|0.59302676', 'стеллаж|0.5928739', 'блестящий|0.59103084', 'доска|0.59082496', 'мебель|0.59059584', 'небо|0.59028095', 'угол|0.59006035', 'декор|0.5865304', 'серый|0.5843311', 'подсветка|0.5835764', 'зеркало|0.5833891', 'искусственный|0.58331454', 'любоваться|0.5832954', 'клетка|0.5832187', 'пол|0.5831854', 'светильник|0.58256114', 'кожаный|0.5824745', 'абажур|0.5817119', 'огонь|0.5810703', 'подсвечник|0.5808074', 'шарм|0.57982874', 'кладка|0.5792594', 'обивка|0.5786666', 'массивный|0.57855403', 'открытый|0.57689893', 'солнечный|0.5738998', 'надпись|0.5735799', 'панорамный|0.5735461', 'полый|0.57340515', 'занавеска|0.573274', 'среди|0.57314974', 'свод|0.5725609', 'обои|0.5725345', 'вписываться|0.572532', 'библиотека|0.5708637', 'полумрак|0.570794', 'направление|0.57069576', 'барный_стойка|0.5700421', 'роспись|0.5700327', 'разглядывать|0.56779486', 'шкаф|0.5672183', 'висеть|0.5658909', 'портрет|0.5650232', 'видный|0.56493294', 'гамма|0.56461185', 'широкий|0.5643799', 'советский|0.5622045']\n",
            "Aspect 11:\n",
            "['ненавязчивый|0.67781556', 'приятный|0.6740675', 'очень_приятный|0.671226', 'тёплый|0.6697892', 'очень_порадовать|0.66067034', 'очень_понравиться|0.65862954', 'прекрасно|0.6261564', 'очень_хороший|0.62451994', 'вкусный_еда|0.6216885', 'особенный|0.61994016', 'порадовать|0.61816525', 'душевный|0.61559075', 'навязчивый|0.61404026', 'запомниться|0.6129926', 'остаться_очень_довольный|0.60464144', 'располагать|0.6045441', 'замечательный|0.59912294', 'весь_очень_понравиться|0.5956279', 'весь_очень_вкусно|0.590765', 'ммммм|0.58996177', 'весь_очень|0.5893357', 'великолепный|0.5878641', 'понравиться_весь|0.5855164', 'великолепно|0.5796998', 'отлично|0.5781184', 'душевно|0.5766233', 'восхитительный|0.5717484', 'общий_впечатление|0.57094425', 'изумительный|0.5677269', 'выше_весь_похвала|0.56404835', 'чудесно|0.5634011', 'атмосфера|0.5631398', 'прийти_ещё|0.56209946', 'особый|0.5620886', 'весь_понравиться|0.5610932', 'расслаблять|0.55837935', 'предупредительный|0.5569346', 'остаться_довольный|0.5556468', 'прекрасный|0.55212903', 'домашний|0.5516337', 'очень_очень_долго|0.55129045', 'оч|0.5506394', 'обстановка|0.549589', 'очень_понравиться_весь|0.5486053', 'превосходный|0.5472171', 'достойно|0.5463249', 'довольный|0.54590434', 'внимательный|0.5456861', 'особенно|0.5408946', 'обстановочка|0.53947353', 'отличный|0.53818506', 'подкачать|0.5380715', 'нарекание|0.53799903', 'позитивный|0.537414', 'целое|0.53695965', 'спокойный|0.5369196', 'идеально|0.53461206', 'волшебный|0.534354', 'пролететь|0.53108466', 'высокий_уровень|0.5308249', 'очень_вкусный|0.5307228', 'живот|0.530308', 'чудесный|0.52997506', 'остаться_очень_приятный|0.5282258', 'безумно|0.5278754', 'ооочень_вкусный|0.5266821', 'восторг|0.52612334', 'безупречный|0.5260419', 'незаметно|0.5236871', 'потрясающе|0.5229327', 'высота|0.52275264', 'доброжелательный|0.5220798', 'неспешный|0.5216782', 'приятно|0.5193064', 'очень_вкусно|0.5185689', 'потрясать|0.5160698', 'уютный|0.51318586', 'хор|0.5131434', 'зы|0.51257235', 'сытый|0.50920427', 'мера|0.5090472', 'насладиться|0.508386', 'приём|0.50809956', 'очень_вкусный_еда|0.5062769', 'качественно|0.50597703', 'непринуждённый|0.50536203', 'обязательно_прийти_ещё|0.5039017', 'учтивый|0.5017128', 'быстрый|0.5009145', 'царить|0.49740687', 'зажигательный|0.4972517', 'приветливый|0.49563748', 'радушный|0.49424475', 'праздничный|0.4937747', 'вкусненький|0.4932519', 'весь_очень_вкусный|0.4928123', 'молодец|0.49261916', 'супер|0.49188644', 'шикарно|0.4916871', 'очень_уютный|0.49122143']\n",
            "Aspect 12:\n",
            "['полтора|0.74764144', '15_минута|0.7293118', 'дождаться|0.716465', 'половина|0.71181494', 'оплатить|0.710362', 'выясниться|0.7076764', 'примерно|0.70290774', 'минимум|0.6995278', '20_минута|0.69823986', 'соответственно|0.6924231', 'ровно|0.6912769', 'заполнить|0.68451077', 'расчёт|0.6750249', 'это_время|0.6737107', 'десять|0.67132705', 'час|0.66966414', '10_минута|0.668534', 'естественно|0.6660787', 'простоять|0.6645026', 'отдать|0.66404486', 'полчаса|0.66362333', 'прийтись|0.66255826', 'оговорить|0.66189593', 'прождать|0.6593457', 'максимум|0.6590674', 'вынести|0.6586759', 'пять|0.6571523', 'оплата|0.65600574', 'пообещать|0.6527411', 'сумма|0.6518859', 'мина|0.65077114', 'заплатить|0.6501135', 'забрать|0.646855', 'результат|0.6464902', 'демонстративно|0.64642096', 'напоминание|0.6447563', 'вернуть|0.6444575', 'просидеть|0.6423303', 'предупреждать|0.6415378', 'указать|0.64048636', 'предупредить|0.6392251', 'внести|0.63724244', 'унести|0.63456774', 'закрытие|0.63396776', 'обещать|0.63057995', 'сделать_заказ|0.63027215', 'попросить|0.62482214', 'спустя|0.62470484', 'дозаказать|0.6204813', 'рассчитать|0.6202774', 'течение|0.61582494', 'подождать|0.6148511', 'отказываться|0.61362875', 'уйти|0.6105636', 'курс|0.6094986', 'убрать|0.6092948', 'посчитать|0.6088203', 'предоплата|0.60746324', 'бокс|0.60745674', 'четверо|0.6060262', 'привезти|0.6055905', 'затем|0.6047623', 'входить|0.6005838', 'остаток|0.6005707', 'итог|0.59955317', 'двадцать|0.59902674', 'депозит|0.59896106', 'закончиться|0.5984745', 'попытка|0.5980803', '1_5_час|0.5978023', 'перемена|0.59572035', 'счёт|0.5941932', 'оплачивать|0.593802', 'процент|0.5905632', 'сообщать|0.5893209', 'отказать|0.589231', 'уложиться|0.5882493', 'просить|0.5871305', 'поменять|0.58528465', 'успеть|0.5838353', 'сдача|0.5834543', 'сообщить|0.58283263', 'отказаться|0.582549', 'около|0.58226645', 'коробка|0.5814911', 'включить|0.57998717', 'пропасть|0.57754683', 'пятнадцать|0.5774087', 'обнаружить|0.57505846', 'расплатиться|0.5736238', 'приход|0.5727807', 'факт|0.5717523', 'третье|0.56848395', 'получас|0.5678338', 'полупустой|0.5670174', 'перепутать|0.56606066', 'указанный|0.5631412', 'потребовать|0.5623693', 'поздний|0.5606823', 'закрываться|0.55947304']\n",
            "Aspect 13:\n",
            "['салат_цезарь|0.66740894', 'гриль|0.66542935', 'рыба|0.663116', 'мясной|0.6528748', 'греческий|0.63064915', 'рыбный|0.6287179', 'говядина|0.6125049', 'дорад|0.6122439', 'морепродукт|0.61000323', 'баклажан|0.60669374', 'стейка|0.6062288', 'свинина|0.60473067', 'дораду|0.6008985', 'цезарь|0.6005755', 'карпаччо|0.59719527', 'плов|0.59708494', 'шашлычок|0.5960355', 'овощ|0.59409845', 'осетрина|0.5842936', 'салатик|0.58262235', 'вок|0.58068764', 'креветка|0.5806745', 'оливья|0.58063656', 'стейк|0.57889473', 'курица|0.5768845', 'пекински|0.5720345', 'мангал|0.57061815', 'рибай|0.5656971', 'шашлык|0.56541187', 'ассорти|0.56334424', 'форель|0.55891293', 'стейковы|0.5578425', 'свинин|0.55566335', 'выбрать|0.55477643', 'цыплёнок|0.55366564', 'лосось|0.5460016', 'свинный|0.5455878', 'стэйк|0.5453125', 'приготовить|0.544495', 'мидия|0.5425883', 'закуска|0.54053736', 'лазание|0.53951824', 'долму|0.53883433', 'узбекский|0.53875417', 'коптить|0.537607', 'запечёный|0.53742623', 'куриный|0.5353256', 'телятина|0.53430367', 'солянка|0.5318256', 'судак|0.5313728', 'вока|0.52973884', 'жульен|0.5274602', 'казан|0.52576685', 'рёбрышко|0.5251969', 'свиной|0.52271104', 'горячее_блюдо|0.52258646', 'экспериментировать|0.520918', 'кисло_сладкое_соус|0.5207789', 'кебаб|0.5202971', 'фахитос|0.5196049', 'барашек|0.518795', 'салат|0.51785076', 'острый|0.51474124', 'уха|0.51349026', 'состав|0.5118317', 'тигровый|0.51166403', 'мраморный|0.5100473', 'раздел|0.509807', 'колбаска|0.5068612', 'ризотто|0.5062166', 'тапас|0.50400555', 'крылышко|0.5037954', 'бифстроганов|0.5036415', 'запечь|0.5035944', 'каре|0.5030493', 'стерлядь|0.5013341', 'паста|0.5004083', 'ушко|0.5000632', 'харчо|0.4993544', 'блюдо|0.499217', 'паэлие|0.49839684', 'рулька|0.49735805', 'гриб|0.49606732', 'заказывать|0.49581635', 'ягнёнок|0.49372', 'бефстроганов|0.4934348', 'сацивить|0.4933973', 'вегетарианский|0.49309462', 'филе|0.49277902', 'барбекю|0.49259013', 'баранина|0.49195838', 'осьминог|0.4918311', 'отговорить|0.49063915', 'садж|0.4902246', 'медальон|0.48960322', 'долма|0.48930725', 'миньон|0.48827407', 'пасть|0.48782188', 'сибас|0.48755014', 'краб|0.48752818']\n",
            "2019-12-24 21:09:50,092 INFO Epoch 3, train: 5s\n",
            "2019-12-24 21:09:50,092 INFO Total loss: 4.1108, max_margin_loss: 4.0025, ortho_reg: 0.1084\n",
            "100% 594/594 [00:05<00:00, 100.63it/s]\n",
            "Aspect 0:\n",
            "['попёс|0.68523985', 'студентка|0.67651963', 'прибавить|0.66344404', 'хх|0.6559597', 'ливерпуль|0.65524745', 'этак|0.6534213', 'фраер|0.65314037', 'полуночь|0.65078866', 'двенадцать|0.6481936', 'good|0.64739335', 'бум|0.6469769', 'food|0.6457419', 'прайс|0.6450939', 'па|0.64339185', 'тридцать|0.64278495', 'космический|0.64016825', 'пт|0.63940734', 'немолодой|0.6324649', 'service|0.6323305', 'луна|0.6305161', 'блюз|0.62820435', 'restaurant|0.62818784', 'доллар|0.6278784', 'басс|0.627849', 'приблизительно|0.6274984', 'гопник|0.6262235', 'пятьдесят|0.6260985', 'no|0.62547606', 'выключать|0.62515855', 'of|0.6250748', 'школьник|0.6240317', 'ого|0.62311345', 'парный|0.62062526', 'бурный|0.6198833', 'мировой|0.6197306', 'my|0.61912096', 'ву|0.61864567', 'зарубежный|0.6178061', 'this|0.6176348', 'negativa|0.61734307', 'ролик|0.6165425', 'девять|0.6164245', 'фанера|0.6136826', 'поколение|0.6135435', 'шато|0.6119462', 'ру|0.6119462', 'преимущественно|0.6118682', 'харизма|0.6115634', 'бальный|0.61119986', 'кукарача|0.61089313', 'удар|0.6099329', 'ограничение|0.6096774', 'you|0.6095824', 'сб|0.6091081', 'were|0.60902274', 'справедливо|0.6090145', 'балет|0.60877407', 'именной|0.6082933', 'отстой|0.6080839', 'бабка|0.6080087', 'рок|0.6063602', 'бранч|0.6052948', 'максимальный|0.6038091', 'ть|0.6033139', 'ых|0.6030711', 'заполняемость|0.60204244', 'very|0.6015232', 'ка|0.6011604', 'гопот|0.60080624', 'подросток|0.6007224', 'монета|0.5995831', 'икс|0.59875035', 'пать|0.5982173', 'place|0.59804356', 'потянуть|0.5978818', 'заявка|0.59684837', 'возраст|0.5965142', 'градус|0.59642655', 'терпимый|0.5958591', 'party|0.5955337', 'грузин|0.5949647', 'диск|0.5949368', 'it|0.5944861', 'in|0.5938315', 'транслироваться|0.59280646', 'подорожать|0.5924563', 'индустриальный|0.5924297', 'че|0.59226894', 'потребление|0.5921266', 'халява|0.59164035', 'лига|0.59161687', 'круча|0.5911889', 'rr|0.59100485', 'all|0.5904069', 'резкий|0.59027785', 'майя|0.5899554', 'население|0.5897861', 'аккомпанемент|0.5896913', 'мёртвый|0.5895393', 'шансон|0.589316']\n",
            "Aspect 1:\n",
            "['масло|0.60717595', 'рот|0.6065289', 'солёный|0.6046173', 'нарезать|0.5907272', 'кусочек|0.5875848', 'корочка|0.58101666', 'хрустеть|0.5759131', 'булка|0.5730453', 'выращивать|0.5698223', 'пережарить|0.56713426', 'жёсткий|0.5669044', 'заморозка|0.5646609', 'лука|0.5636369', 'соль|0.55811566', 'разрезать|0.5561749', 'посыпать|0.55550575', 'помидорка|0.5552058', 'жир|0.5544432', 'зелень|0.5535556', 'уксус|0.5512906', 'майонез|0.55060744', 'капуста|0.5503225', 'сверху|0.5499866', 'специя|0.54879', 'кусок|0.545426', 'варёный|0.54421717', 'сырой|0.543804', 'разогреть|0.54303074', 'слайс|0.5408453', 'чеснок|0.54002845', 'кубик|0.5398538', 'помидор|0.5397757', 'орешек|0.5395129', 'пармезан|0.53675056', 'ломтик|0.53644377', 'тонкий|0.53603137', 'перчик|0.5354695', 'порезать|0.5351027', 'каперс|0.5338335', 'огурец|0.5333375', 'яйцо|0.53201354', 'плавать|0.531902', 'свежесть|0.52534735', 'фарш|0.5247511', 'трава|0.5229374', 'мариновать|0.52208376', 'травка|0.52058643', 'микроволновка|0.5203961', 'булочка|0.5197642', 'мелко|0.5185428', 'лаваш|0.51844645', 'жидкий|0.51783705', 'безвкусный|0.51766825', 'петрушка|0.5168894', 'толстой|0.5165229', 'лежалый|0.5164623', 'выковыривать|0.5164429', 'морковь|0.51501393', 'песто|0.5135461', 'лук|0.5129928', 'залить|0.51252985', 'жарить|0.5120748', 'протухший|0.5114518', 'тест|0.5114213', 'горчица|0.5113938', 'сухой|0.5102136', 'обжарить|0.5092762', 'горка|0.50882757', 'сковородка|0.5087887', 'плесень|0.508562', 'плошка|0.50822383', 'картошка|0.50774014', 'полить|0.50773776', 'сковорода|0.5071007', 'огурчик|0.50517076', 'хрен|0.50514555', 'пожарить|0.5049094', 'слой|0.50444835', 'сметана|0.5044348', 'бекон|0.50432444', 'переварить|0.5037948', 'рыбка|0.50370246', 'черри|0.5033665', 'жирный|0.5026886', 'заправка|0.50192386', 'фасоль|0.5010593', 'каша|0.50086784', 'соломка|0.50085247', 'поджарить|0.5008167', 'бульон|0.50043666', 'курочка|0.5001128', 'бальзамико|0.5000586', 'палтус|0.49831545', 'блин|0.49822882', 'грудинка|0.4965893', 'завернуть|0.49573785', 'резиновый|0.49530405', 'лепёшка|0.49494344', 'кус|0.4948008', 'спаржа|0.49468657']\n",
            "Aspect 2:\n",
            "['сладость|0.73343354', 'миндальный|0.70481724', 'мусса|0.6995083', 'бисквит|0.69757277', 'пирожное|0.69576144', 'шоколад|0.69312125', 'печение|0.691303', 'банановый|0.69117135', 'панакот|0.6910449', 'развалина|0.6843088', 'брюла|0.6839342', 'суфле|0.6827097', 'малин|0.679528', 'крем|0.6793137', 'карамель|0.6792332', 'карамельный|0.67784727', 'маракуйя|0.67646515', 'мильфея|0.67563', 'манговый|0.6682428', 'изюм|0.6671788', 'шоколадный|0.6665461', 'трюфель|0.6653067', 'безе|0.6645545', 'сорбетом|0.66444767', 'взбить|0.6638852', 'ягода|0.6637828', 'марципановый|0.66350037', 'грушевый|0.6630236', 'захер|0.66174734', 'графский|0.66133595', 'какао|0.66089755', 'шарик|0.65974957', 'корица|0.6572841', 'ванильный|0.65714395', 'песочный|0.65532565', 'меренга|0.65439624', 'персиковый|0.651814', 'творог|0.6514046', 'морковный|0.65092117', 'клубника|0.64994127', 'сорбета|0.64920264', 'мятный|0.64917696', 'пирожёнка|0.64909697', 'капуччиный|0.64898574', 'фисташковый|0.64850116', 'мятый|0.6483946', 'ваниль|0.6477009', 'кекс|0.64749146', 'малина|0.6468291', 'желе|0.64521074', 'печенюшка|0.64520735', 'джема|0.6448309', 'фондать|0.64477754', 'заварной|0.64411867', 'лаймовый|0.6436383', 'креманка|0.64183545', 'кокосовый|0.6411941', 'баба|0.6407013', 'трубочка|0.6396163', 'творожный|0.6392279', 'чизкейк|0.6389455', 'сырник|0.6384608', 'лимонный|0.63792783', 'чиз|0.6366912', 'ягодный|0.6353822', 'сладкое|0.63473177', 'личить|0.63410336', 'банан|0.63366914', 'вишня|0.63366055', 'манго|0.63358414', 'сливка|0.6331251', 'яблоко|0.63213235', 'десертный|0.63209724', 'печенек|0.6310577', 'эклер|0.6308725', 'мусс|0.63087094', 'медовик|0.6306672', 'карамелизировать|0.6304853', 'тортик|0.63012916', 'пудинг|0.6300754', 'орех|0.630046', 'цедра|0.6297115', 'мороженое|0.6292639', 'смородина|0.6282867', 'сахарный|0.62717307', 'сгущёнка|0.62637687', 'маскарпон|0.6262769', 'мороженный|0.6258819', 'шарлотка|0.62525207', 'брауни|0.6249318', 'сухофрукты|0.6243632', 'цитрусовый|0.62408674', 'слоёный|0.62398475', 'ягодка|0.6238765', 'покупной|0.6215441', 'чизкейка|0.6205328', 'корж|0.61745447', 'конфета|0.6173446', 'пенка|0.61725116', 'черника|0.61659515']\n",
            "Aspect 3:\n",
            "['бояться|0.76858544', 'простить|0.75494665', 'ум|0.74419296', 'мысль|0.7419447', 'значит|0.7232318', 'господин|0.72070426', 'слышать|0.6960447', 'надоесть|0.69365835', 'срочно|0.6901339', 'пусть|0.685719', 'обидеть|0.67807066', 'право|0.67519844', 'понять|0.6730772', 'признаться|0.6701963', 'речь|0.66974986', 'здоровье|0.66928524', 'поверить|0.66770256', 'знак|0.6632238', 'знаете|0.65413773', 'зря|0.65408534', 'признаваться|0.6519859', 'уверенный|0.6481537', 'стороной|0.6457883', 'скоро|0.64419043', 'не_не|0.6422836', 'перестать|0.6419904', 'ибо|0.6403115', 'слово|0.63841605', 'иначе|0.6382431', 'сила|0.6370503', 'постараться|0.6368249', 'обходить|0.62856734', 'борис|0.628031', 'пора|0.62798446', 'защита|0.6277547', 'верить|0.6277374', 'продолжать|0.62225115', 'ресторатор|0.6211287', 'жизнь|0.61751854', 'передать|0.6160598', 'бог|0.6144', 'навсегда|0.61378384', 'удалять|0.6133493', 'оттуда|0.6108729', 'вон|0.610024', 'душить|0.609306', 'призывать|0.60787123', 'интерес|0.60563636', 'наверно|0.60421', 'вечно|0.6041167', 'высказать|0.60379434', 'извинить|0.60185784', 'таракан|0.60090727', 'спорить|0.60066974', 'бороться|0.6006544', 'неужели|0.5998392', 'ругаться|0.5993005', 'автор|0.5981895', 'гениальный|0.59771585', 'негатив|0.597026', 'отсюда|0.5960388', 'сменить|0.59590864', 'ругать|0.59531945', 'не_знать|0.59476984', 'научить|0.5942844', 'человек_который|0.5942521', 'надеяться|0.593754', 'лезть|0.5932579', 'почувствовать|0.593119', 'личный|0.591434', 'звезда|0.5904292', 'непременно|0.5900365', 'полениться|0.589474', 'категорически|0.5888761', 'возможно|0.5886815', 'мат|0.5885768', 'земля|0.58802783', 'говориться|0.5876291', 'быдло|0.5871777', 'исправить|0.5869799', 'следовать|0.5859052', 'наплевать|0.58527493', 'уважаемый|0.58463997', 'вновь|0.583456', 'строго|0.5831206', 'история|0.5830457', 'совесть|0.57857335', 'голова|0.57789314', 'чтожий|0.5776928', 'плевать|0.5762948', 'твой|0.574975', 'возвращаться|0.5735246', 'привет|0.5735014', 'терять|0.5734293', 'развитие|0.57327163', 'обратный|0.57296556', 'завтра|0.57292086', 'дословно|0.5727478', 'услышать|0.5725851', 'пожрать|0.5722312']\n",
            "Aspect 4:\n",
            "['мальчик|0.8030536', 'девочка|0.8007252', 'девушка|0.7839465', 'улыбаться|0.7726201', 'молодая_человек|0.7706066', 'официантка|0.74256134', 'парень|0.7296691', 'улыбка|0.7129757', 'официант|0.69542766', 'улыбчивый|0.69152594', 'барышня|0.6873729', 'юноша|0.6624985', 'провожать|0.65059674', 'наш_столик|0.64278734', 'звать|0.64097166', 'мила|0.6372567', 'лицо|0.63593143', 'весь_время|0.6356312', 'интересоваться|0.6305468', 'хостёс|0.6248833', 'пепельница|0.62148595', 'обслуживать|0.6122855', 'спрашивать|0.60437', 'здороваться|0.59937614', 'приветливо|0.59246904', 'гардеробщик|0.59167886', 'хостесса|0.5912238', 'вежливый|0.5868381', 'высокомерный|0.583764', 'любезный|0.58225167', 'прощаться|0.58123696', 'постоянно|0.57821196', 'соседний_столик|0.5731235', 'бармен|0.5729264', 'молоденький|0.57059395', 'улыбнуться|0.56927466', 'забывать|0.5680449', 'разговаривать|0.56474763', 'успевать|0.5587883', 'мужчина|0.5582682', 'принимать|0.5581682', 'офицант|0.5556711', 'внимательно|0.55540156', 'отвечать|0.55277085', 'принять_заказ|0.55267215', 'доброжелательно|0.5517584', 'встречать|0.5494072', 'молниеносно|0.54909545', 'медленно|0.5484823', 'молодая|0.5461293', 'стойка|0.5441988', 'появляться|0.5405416', 'женщина|0.5395286', 'администратор|0.53647894', 'менять|0.5357971', 'убирать|0.5356318', 'шустрый|0.5325484', 'бегать|0.53213453', 'стараться|0.5319326', 'поздороваться|0.5296942', 'задержка|0.5254246', 'расторопный|0.52452546', 'шутить|0.52037024', 'кальянщик|0.5196748', 'оперативно|0.5195852', 'внешность|0.5185314', 'поменять|0.5169126', 'реагировать|0.51580006', 'милый|0.51225454', 'обслужить|0.51094615', 'охранник|0.51091516', 'обслуживающий|0.510738', 'подойти|0.50700676', 'замечать|0.5062499', 'общаться|0.5046929', 'голос|0.5036767', 'смена|0.50338095', 'вовремя|0.50226414', 'подходить|0.5021625', 'уносить|0.50212955', 'неприветливый|0.49842608', 'дружелюбно|0.4978662', 'суетиться|0.49460503', 'запара|0.49385768', 'волос|0.49376905', 'объяснять|0.48853925', 'принять|0.4874886', 'просьба|0.48722792', 'быстро|0.4856432', 'очень_быстро|0.48381963', 'забирать|0.4821348', 'объяснить|0.47993731', 'чётко|0.4798845', 'учтивый|0.4779728', 'пытаться|0.4769457', 'имя|0.4763611', 'одетый|0.4751203', 'удалиться|0.47312436', 'порхать|0.47267696', 'услышать|0.47229117']\n",
            "Aspect 5:\n",
            "['помещение|0.7522565', 'зона|0.7319679', 'вентиляция|0.7227445', 'душный|0.7185334', 'тесно|0.71237975', 'дым|0.7121401', 'вытяжка|0.70277363', 'неуютный|0.6909074', 'комната|0.6898377', 'шумно|0.68634534', 'диван|0.68201727', 'накурить|0.66911924', 'курить|0.6588007', 'удобно|0.65193486', 'пространство|0.65045124', 'дымно|0.64847624', 'комфортно|0.64739794', 'диванчик|0.6451252', 'воздух|0.64124954', 'кабинка|0.6410675', 'друг_друг|0.6369441', 'комнатка|0.6348713', 'зала|0.6329187', 'мешать|0.6307161', 'экран|0.62884915', 'кресло|0.62733495', 'просторно|0.6269552', 'уголок|0.61762446', 'детский_комната|0.617544', 'светло|0.61493623', 'зальчик|0.61349237', 'туалет|0.61260563', 'близко|0.6054051', 'вокруг|0.60519457', 'второе_этаж|0.6051502', 'аквариум|0.60135984', 'уединённость|0.5962951', 'табачный|0.596195', 'сигаретный|0.5939919', 'телевизор|0.5936595', 'танцполый|0.5925336', 'прохладно|0.59168255', 'просторный|0.59095126', 'деление|0.59089947', 'шум|0.59013236', 'зал|0.5878749', 'камин|0.58751404', 'веранда|0.5866437', 'балкон|0.58570075', 'курящий|0.58489513', 'дальний|0.5821928', 'плазма|0.5819186', 'стул|0.5811081', 'слышный|0.5681155', 'сидеть|0.56496286', 'потолок|0.56370324', 'некурящий|0.56332326', 'дышать|0.56297964', 'курильщик|0.56144714', 'разделение|0.56053793', 'барный_стойка|0.5601122', 'окно|0.55888546', 'свет|0.5579686', 'кондиционер|0.557914', 'сцена|0.55730623', 'прокурить|0.55490875', 'удобный|0.55370945', 'зеркало|0.551674', 'беседка|0.5510464', 'тв|0.5481267', 'мебель|0.5457561', 'народ|0.5444231', 'неудобный|0.5432422', 'расстояние|0.54062676', 'терасс|0.5406053', 'тесновато|0.5376978', 'курение|0.5371296', 'футбольный|0.5370666', 'потолочь|0.5370085', 'этаж|0.5369508', 'сосед|0.53687143', 'освещение|0.536695', 'игрушка|0.53331107', 'расположить|0.53300756', 'неудобно|0.53210545', 'шумный|0.5307842', 'панель|0.5307268', 'стена|0.52537477', 'расположиться|0.5241436', 'напрягать|0.521894', 'тихо|0.5213097', 'дерево|0.51842153', 'футбол|0.5178817', 'внутри|0.5173156', 'перегородка|0.51629674', 'спокойно|0.5138898', 'угол|0.5104088', 'люстра|0.51024806', 'внизу|0.5095509', 'темно|0.50947326']\n",
            "Aspect 6:\n",
            "['ценовый|0.73342156', 'уровень|0.7290543', 'ценник|0.72817194', 'категория|0.7259276', 'завысить|0.71750253', 'соответствовать|0.7125832', 'выше|0.7065548', 'крайний_мера|0.6966744', 'сравнение|0.6914532', 'цена|0.6803089', 'ниже|0.6791724', 'фаста|0.67910695', 'качество|0.67838746', 'цена_качество|0.67558384', 'отличие|0.66630924', 'считать|0.66011965', 'фуд|0.6509714', 'среднее|0.63884103', 'учитывать|0.6379845', 'изыск|0.63711804', 'забегаловка|0.6339508', 'средний|0.63062066', 'оценивать|0.6242504', 'отличаться|0.6178167', 'недостаток|0.61772776', 'многий|0.6150685', 'демократичный|0.6149789', 'адекватный|0.6087131', 'политика|0.6067858', 'высокий|0.6064675', 'формат|0.60532176', 'принцип|0.6044483', 'оценка|0.60275626', 'сетевой|0.6006811', 'назвать|0.5974728', 'японский|0.59746945', 'приемлемый|0.589745', 'удивлять|0.5848497', 'большинство|0.5800024', 'гуманный|0.57934827', 'простой|0.5788992', 'касаться|0.5780256', 'европейский|0.57706976', 'намного|0.5734123', 'подобный|0.57330126', 'последний_время|0.569476', 'низкий|0.5691616', 'соотношение_цена_качество|0.56878066', 'вполне|0.56355506', 'скорее|0.5635187', 'ресторанный|0.5628692', 'достойный|0.5599942', 'гинза|0.5566311', 'значительно|0.55296326', 'обычный|0.5528506', 'посредственный|0.55142224', 'дорогой|0.54614735', 'дёшево|0.54573905', 'плохой|0.5457364', 'менее|0.5430793', 'согласный|0.54292595', 'заведение|0.5425221', 'взгляд|0.54189545', 'умеренный|0.539558', 'претензия|0.5389266', 'дешёвый|0.53868794', 'китайский|0.53718483', 'пожалуй|0.5369111', 'иной|0.5354869', 'весь_остальной|0.53428185', 'дорого|0.53283435', 'приличный|0.52873266', 'оправдывать|0.5284061', 'например|0.52796936', 'не_мочь_сказать|0.52764916', 'продукт|0.5267423', 'понятный|0.52537465', 'стандартный|0.52527535', 'разнообразие|0.5248567', 'однозначно|0.523198', 'средненький|0.5198847', 'общепит|0.5180832', 'претендовать|0.51687723', 'качественный|0.51674795', 'худой|0.513749', 'дороговатый|0.51372147', 'стандарт|0.51258445', 'однако|0.51144874', 'относительно|0.51101655', 'десятка|0.5083146', 'являться|0.507469', 'бистро|0.5068121', 'гораздо|0.503004', 'хромать|0.50239277', 'нарекание|0.49969938', 'крайне|0.49936068', 'план|0.49405253', 'измениться|0.49285412', 'соответствующий|0.49277166', 'придираться|0.4915265']\n",
            "Aspect 7:\n",
            "['висок|0.83793426', 'коктейль|0.790712', 'водка|0.775195', 'безалкогольный|0.7653302', 'крепкий|0.7506671', 'мохитый|0.7500665', 'пить|0.74505496', 'алкогольный|0.7355942', 'литр|0.72542346', 'мартини|0.7228982', 'выпить|0.70753115', 'пила|0.7051865', 'коньяк|0.70368755', 'морс|0.69506013', 'крушовица|0.6947026', 'бутылочка|0.6928792', 'кружка|0.6898731', 'сорт|0.68317723', 'вишнёвый|0.6823764', 'разливный|0.67791665', 'нефильтрованный|0.67777205', 'пиво|0.67733324', 'руль|0.67493045', 'ньюкасл|0.662158', 'лимонад|0.6616972', 'сангрия|0.6589635', 'пинта|0.653466', 'сидр|0.6530066', 'бутылочный|0.65172786', 'глинтвейн|0.6505204', 'коктель|0.6424231', 'лонг|0.6366338', 'бланша|0.6297294', 'закусить|0.62925285', 'хугарден|0.6254822', 'бокал|0.625076', 'кальян|0.62315893', 'эль|0.61729616', 'квас|0.6161822', 'напиток|0.60744584', 'пшеничный|0.60578376', 'бокальчик|0.60197467', 'сок|0.6019068', 'гиннес|0.5981395', 'айленд|0.59451264', 'стаут|0.5944862', 'пивко|0.5920948', 'игристый|0.5904882', 'эспрессо|0.58804953', 'ликёр|0.58787775', 'распитие|0.587216', 'ром|0.5870583', 'потягивать|0.5838239', 'текила|0.5827545', 'настойка|0.5825145', 'попить|0.5783128', 'вода|0.5779575', 'графин|0.57572144', 'грапп|0.57513404', 'василеостровский|0.57434905', 'рюмка|0.57330656', 'сироп|0.572013', 'лёд|0.5698861', 'алкоголь|0.5675323', 'наливать|0.5642632', 'бутылка|0.5619102', 'америкать|0.5563171', 'угостить|0.5559599', 'шампанский|0.5557414', 'кувшин|0.5538039', 'стакан|0.55355394', 'вино|0.55324465', 'дайкири|0.5522281', 'литровый|0.5510402', 'бесплатный|0.5505157', 'чай|0.54988825', 'бельгийский|0.54294205', 'кола|0.5421562', 'облепиховый|0.54090226', 'джина|0.5402763', 'фирменный|0.5402473', 'каберне|0.5381946', 'компот|0.53681135', 'эдельвейс|0.5334176', 'кофе|0.53310275', 'чашечка|0.5319572', 'поллитра|0.5308622', 'медовуха|0.5284621', 'пино|0.5266756', 'производство|0.52349305', 'клюквенный|0.52187693', 'мл|0.5196042', '100р|0.51960254', 'латта|0.5192847', 'свежевыжать|0.5178598', 'употреблять|0.51739275', 'разбавить|0.5155199', 'немецкий|0.5153843', 'коктейльный|0.51281655', 'лимончелло|0.5123352']\n",
            "Aspect 8:\n",
            "['организация|0.7980713', 'тамада|0.777038', 'организовать|0.77272546', 'подготовка|0.746314', 'свадебный|0.7432329', 'торжество|0.7350501', 'благодарность|0.7270999', 'мероприятие|0.71883166', 'праздник|0.7179811', 'ольга|0.7175776', 'весь_гость|0.7070657', 'огромный_спасибо|0.70634127', 'молодожён|0.70093966', 'организатор|0.6996118', 'пожелание|0.69124013', 'майкл|0.6908554', 'банкет|0.68953896', 'весь_наш|0.68941796', 'подарок|0.68106866', 'ирина|0.68035614', 'директор|0.67439836', 'ведущий|0.6741171', 'невеста|0.67157155', 'большой_спасибо|0.66826785', 'фуршет|0.65482134', 'отдельный_спасибо|0.6528328', 'команда|0.65177494', 'владимир|0.64884657', 'наталья|0.64869', 'евгений|0.6485907', 'свадьба|0.6478344', 'банкетный|0.6473054', 'елена|0.6430006', 'коллектив|0.6415858', 'профессионализм|0.6389003', 'учесть|0.6369486', 'сотрудник|0.633785', 'номер|0.63324106', 'сергей|0.63321686', 'профессионал|0.6329701', 'александр|0.6261561', 'проведение|0.6236855', 'уважение|0.6220492', 'татьяна|0.62169325', 'марин|0.6200214', 'выражать|0.61434126', 'станислав|0.60922116', 'каравай|0.60613984', 'алексей|0.6056833', 'наш_свадьба|0.60270756', 'управлять|0.60093623', 'анастасий|0.5991314', 'благодаря|0.5942702', 'банкетный_зал|0.59426916', 'менеджер|0.59183204', 'честь|0.59067357', 'участие|0.5904462', 'благодарить|0.5889047', 'дмитрий|0.58640003', 'программа|0.583733', 'бельканто|0.5799043', 'поблагодарить|0.57696927', 'новый_год|0.57664454', 'торт|0.575882', 'бравый|0.57449496', 'поклон|0.5726023', 'кондитер|0.57046795', 'договор|0.57003057', 'шоу|0.5675773', 'весь_наш_пожелание|0.56418484', 'подарить|0.5640478', 'шеф_повар|0.56386805', 'помощь|0.5635423', 'родитель|0.5604787', 'юбилей|0.5577123', 'фотограф|0.55681473', 'совет|0.5565305', 'андрей|0.5563688', 'жених|0.5554384', 'признательность|0.55353713', 'гость|0.5529879', 'профессиональный|0.5504744', 'чуткий|0.55004454', 'виктор|0.5477104', 'регистрация|0.54717326', 'событие|0.54240197', 'жанна|0.5412203', 'мастер|0.54116905', 'услуга|0.54114497', 'поздравление|0.5409494', 'конкурс|0.5407185', 'юлий|0.537691', 'администрация|0.5369011', 'фейерверк|0.53639525', 'артист|0.53617287', 'дмитрия|0.53603363', 'марина|0.5322026', 'праздничный|0.5298005', 'выездной|0.5295832', 'благодарный|0.529548']\n",
            "Aspect 9:\n",
            "['сегодня|0.7497259', 'заехать|0.7451548', 'пообедать|0.73824257', 'вчера|0.722721', 'поехать|0.6988449', 'поужинать|0.6914352', 'обедать|0.68301725', 'пр|0.6747985', 'воскресение|0.6684394', 'прогулка|0.6676731', 'однокурсник|0.66350734', 'забежать|0.6542474', 'перекусить|0.6533539', 'недавно|0.65262103', 'случайно|0.6478002', 'заезжать|0.64528775', 'московский|0.6397079', 'ездить|0.63948894', 'подружка|0.637409', 'ужинать|0.63031715', 'ехать|0.6300203', 'заслать|0.6223239', 'гулять|0.61889774', 'днём|0.6166474', 'отправиться|0.61201453', 'ул|0.6092944', 'офис|0.6058711', 'петроградка|0.6057123', 'невский|0.6032904', 'жена|0.5988439', 'это_кафе|0.59596926', 'побывать|0.59452975', 'приезжать|0.5890461', 'район|0.58739424', 'заглянуть|0.5870526', 'забегать|0.58291435', 'недалеко|0.5817349', 'жить|0.5810654', 'открыться|0.57720447', 'заскочить|0.57658017', 'выходной|0.57441676', 'завтрак|0.5696066', 'мама|0.5689753', 'поход|0.5688759', 'воскресный|0.5679469', 'суббота|0.56596583', 'проезжать|0.565914', 'дом|0.5653304', 'год_назад|0.5596945', 'посетить|0.55752516', 'неделя|0.554396', 'москва|0.55411077', 'приехать|0.5534197', 'месяц|0.5531901', 'приморский|0.55196434', 'обед|0.5507566', 'добраться|0.5464668', 'давно|0.54486334', 'дочка|0.5441402', 'захаживать|0.54410964', 'март|0.5435487', 'январь|0.5434651', 'коллега|0.5428752', 'вечером|0.5413593', 'покушать|0.5409077', 'ноябрь|0.54079413', 'восстание|0.5403123', 'перерыв|0.5399088', 'однажды|0.53877705', 'утро|0.5373858', 'семья|0.5367076', 'частенько|0.5363891', 'проспект|0.5340595', 'встретиться|0.53336805', 'май|0.5330889', 'заходить|0.5320194', 'питер|0.5306748', 'назад|0.52985466', 'четверг|0.5298147', 'прогуливаться|0.52828884', 'февраль|0.5277546', 'евразия|0.5262356', 'ходьба|0.52608883', 'забрести|0.5260726', 'парка|0.5240971', 'сходить|0.52355075', 'остров|0.5224025', 'поздно|0.5220183', 'отмечать_день_рождение|0.5206086', 'летом|0.5201248', 'полгода|0.51645464', 'бизнес_ланч|0.51496714', 'захотеться|0.51423633', 'очередной|0.51377183', 'лето|0.5127335', 'завтракать|0.5101522', 'зайти|0.5060998', 'среда|0.5048531', 'утром|0.5036195', 'вдвоём|0.5035859']\n",
            "Aspect 10:\n",
            "['полка|0.70681435', 'старое|0.6928255', 'старинный|0.6888175', 'стен|0.6840929', 'ля|0.67381835', 'предмет|0.6729075', 'журнал|0.6717832', 'золотой|0.66780496', 'лампа|0.6663137', 'стена|0.6660784', 'рамка|0.6596464', 'стеклянный|0.6539853', 'фотография|0.6519824', 'крыша|0.64521277', 'картина|0.6448134', 'кирпичный|0.64394027', 'черно|0.64323545', 'газета|0.6429478', 'множество|0.6402225', 'деталь|0.635352', 'синий|0.6352265', 'белые|0.6313202', 'внутренний|0.6307886', 'подоконник|0.62646705', 'элемент|0.621706', 'люстра|0.619039', 'плазменный|0.6188717', 'дерево|0.6185758', 'винный|0.61595523', 'белоснежный|0.6139716', 'кирпич|0.6125443', 'потолок|0.6123112', 'убранство|0.6099336', 'кровать|0.60890466', 'атрибутика|0.608493', 'штора|0.6077602', 'светящийся|0.6068108', 'буфет|0.6058055', 'современный|0.60562134', 'открываться|0.60528547', 'тон|0.6048193', 'плитка|0.6040036', 'панель|0.6037582', 'солнце|0.60296273', 'стекло|0.6020488', 'фильм|0.6017897', 'обилие|0.60037136', 'прованс|0.6001664', 'ширма|0.5993378', 'прочий|0.5980455', 'свет|0.59797406', 'полочка|0.59772706', 'доска|0.5968056', 'стеллаж|0.59631395', 'вдоль|0.5949483', 'серый|0.5944326', 'мебель|0.5929389', 'южный|0.59208256', 'декор|0.5901103', 'блестящий|0.5892885', 'искусственный|0.589159', 'светильник|0.5879157', 'небо|0.5874673', 'клетка|0.58682525', 'пол|0.5866612', 'подсвечник|0.5864929', 'угол|0.5858831', 'подсветка|0.585014', 'абажур|0.5848632', 'зеркало|0.58416665', 'кожаный|0.5838189', 'огонь|0.58343947', 'кладка|0.5829365', 'массивный|0.5814068', 'любоваться|0.57990324', 'обивка|0.5791322', 'шарм|0.57885945', 'солнечный|0.5760437', 'полый|0.5759088', 'открытый|0.5755987', 'свод|0.57532454', 'библиотека|0.5748956', 'направление|0.5745393', 'занавеска|0.5745107', 'обои|0.57379013', 'гамма|0.5714032', 'краска|0.57132936', 'роспись|0.57033205', 'панорамный|0.570042', 'шкаф|0.56892055', 'надпись|0.56891227', 'полумрак|0.5682899', 'цветовой|0.56679994', 'разглядывать|0.56602967', 'вписываться|0.5658586', 'барный_стойка|0.5654265', 'взор|0.56517065', 'цветок|0.5645942', 'комод|0.5637903', 'широкий|0.56342816']\n",
            "Aspect 11:\n",
            "['тёплый|0.674242', 'ненавязчивый|0.67243683', 'очень_приятный|0.6547415', 'приятный|0.6536753', 'очень_порадовать|0.64380455', 'очень_понравиться|0.64113', 'особенный|0.62069404', 'прекрасно|0.6167943', 'навязчивый|0.613031', 'вкусный_еда|0.609776', 'запомниться|0.60959274', 'очень_хороший|0.60917664', 'душевный|0.6047829', 'порадовать|0.60080206', 'остаться_очень_довольный|0.59909046', 'располагать|0.5977918', 'общий_впечатление|0.5881585', 'ммммм|0.58621025', 'весь_очень_вкусно|0.5850229', 'весь_очень_понравиться|0.5827379', 'весь_очень|0.58272916', 'понравиться_весь|0.578341', 'замечательный|0.5749618', 'великолепно|0.5743684', 'душевно|0.5709522', 'великолепный|0.56985503', 'восхитительный|0.5672841', 'атмосфера|0.56454223', 'отлично|0.5610813', 'особый|0.5600125', 'чудесно|0.5598884', 'выше_весь_похвала|0.5586415', 'прийти_ещё|0.55847734', 'очень_очень_долго|0.5562881', 'целое|0.5549328', 'расслаблять|0.55394566', 'весь_понравиться|0.5531781', 'оч|0.5522149', 'обстановка|0.55178225', 'изумительный|0.5511234', 'предупредительный|0.55006105', 'довольный|0.5495039', 'остаться_довольный|0.5487883', 'домашний|0.54634583', 'пролететь|0.5454893', 'очень_понравиться_весь|0.54377663', 'нарекание|0.5416348', 'подкачать|0.5394532', 'достойно|0.53671384', 'превосходный|0.53568614', 'внимательный|0.535195', 'обстановочка|0.5350201', 'идеально|0.5346177', 'позитивный|0.53317606', 'живот|0.5330254', 'восторг|0.5311515', 'волшебный|0.53090644', 'особенно|0.53038204', 'незаметно|0.5300641', 'остаться_очень_приятный|0.52998364', 'безумно|0.52990156', 'спокойный|0.5295719', 'прекрасный|0.52696353', 'неспешный|0.526255', 'потрясающе|0.5234835', 'очень_вкусный|0.5205839', 'сытый|0.5200603', 'ооочень_вкусный|0.5189631', 'хор|0.5185249', 'чудесный|0.51694906', 'мера|0.5161692', 'высокий_уровень|0.51532364', 'безупречный|0.5135397', 'очень_вкусно|0.51338845', 'доброжелательный|0.51124203', 'насладиться|0.51056135', 'отличный|0.51044023', 'зы|0.50860536', 'приятно|0.50714743', 'уютный|0.50607026', 'приём|0.5054499', 'высота|0.50505525', 'непринуждённый|0.50336534', 'потрясать|0.4979192', 'качественно|0.49758607', 'очень_вкусный_еда|0.49639562', 'обязательно_прийти_ещё|0.49547783', 'быстрый|0.4952653', 'зажигательный|0.4942792', 'учтивый|0.49345213', 'фоновый|0.4916854', 'праздничный|0.49121588', 'царить|0.49093014', 'весь_очень_вкусный|0.48979288', 'расслабить|0.48881012', 'порция_большой|0.4871772', 'немного|0.48691365', 'очень_очень|0.48617873', 'вкусненький|0.48544836', 'изыскать|0.48519707']\n",
            "Aspect 12:\n",
            "['полтора|0.7608808', '15_минута|0.7315191', 'половина|0.7257869', 'дождаться|0.7178608', 'минимум|0.7053286', 'примерно|0.70486623', '20_минута|0.70475364', 'ровно|0.7040622', 'оплатить|0.7038516', 'выясниться|0.70279586', 'соответственно|0.6968825', 'заполнить|0.68850887', 'час|0.67952555', 'это_время|0.6779675', 'десять|0.67321795', 'расчёт|0.67177904', 'прийтись|0.6717222', 'полчаса|0.67033756', 'простоять|0.6694226', '10_минута|0.6684698', 'максимум|0.6672814', 'отдать|0.66581726', 'естественно|0.66441584', 'вынести|0.6642872', 'оговорить|0.6634295', 'прождать|0.66342205', 'пять|0.65628004', 'результат|0.65416604', 'мина|0.6534064', 'просидеть|0.65193975', 'напоминание|0.65038764', 'забрать|0.648722', 'заплатить|0.6476645', 'оплата|0.6473037', 'сумма|0.6468539', 'демонстративно|0.6462707', 'пообещать|0.6455288', 'вернуть|0.6444074', 'унести|0.6382372', 'закрытие|0.6364136', 'предупреждать|0.63577443', 'внести|0.6336373', 'спустя|0.63005203', 'дозаказать|0.6298466', 'предупредить|0.62942827', 'указать|0.6281371', 'сделать_заказ|0.6258277', 'течение|0.6217348', 'рассчитать|0.6213226', 'обещать|0.6207289', 'бокс|0.6197727', 'подождать|0.61878246', 'попросить|0.615541', 'остаток|0.61531216', 'убрать|0.61526394', 'уйти|0.6135465', 'привезти|0.612545', 'курс|0.6113433', 'перемена|0.6096715', '1_5_час|0.609455', 'четверо|0.60901684', 'отказываться|0.60754645', 'посчитать|0.6053211', 'затем|0.60390544', 'предоплата|0.6036878', 'итог|0.60200596', 'двадцать|0.60023904', 'закончиться|0.59879875', 'коробка|0.5974424', 'счёт|0.5934312', 'входить|0.5929183', 'уложиться|0.5928382', 'попытка|0.5923521', 'депозит|0.5920479', 'успеть|0.5899328', 'оплачивать|0.5887425', 'просить|0.5860718', 'поменять|0.58508235', 'процент|0.58401316', 'сдача|0.58317935', 'около|0.58100975', 'сообщать|0.5791122', 'отказаться|0.57905483', 'приход|0.5790285', 'пятнадцать|0.5783181', 'получас|0.5782331', 'пропасть|0.57754606', 'обнаружить|0.5746348', 'отказать|0.57445264', 'расплатиться|0.5735328', 'факт|0.57042384', 'ожидание|0.5693145', 'третье|0.56905454', 'включить|0.56834847', 'сообщить|0.5677355', 'полупустой|0.5672922', 'заставить|0.56597424', 'очень_долго|0.5652772', 'четыре|0.5643591', 'перепутать|0.56366265']\n",
            "Aspect 13:\n",
            "['гриль|0.67114735', 'рыба|0.67000234', 'салат_цезарь|0.6632825', 'мясной|0.64887446', 'греческий|0.6369393', 'рыбный|0.6240534', 'говядина|0.6122587', 'стейка|0.61225456', 'дорад|0.61119246', 'свинина|0.6073841', 'баклажан|0.606234', 'морепродукт|0.5999733', 'цезарь|0.59918404', 'овощ|0.598223', 'дораду|0.59624505', 'карпаччо|0.5900789', 'плов|0.58892167', 'стейк|0.58634186', 'шашлычок|0.58437085', 'салатик|0.5787915', 'оливья|0.578264', 'выбрать|0.5769762', 'курица|0.5769183', 'осетрина|0.57580847', 'креветка|0.5739347', 'мангал|0.5718272', 'шашлык|0.57143056', 'рибай|0.57115', 'вок|0.5675587', 'пекински|0.56749713', 'стейковы|0.55774176', 'форель|0.55680466', 'свинин|0.55576885', 'ассорти|0.5547894', 'цыплёнок|0.5479117', 'узбекский|0.54667056', 'закуска|0.5452124', 'приготовить|0.5445336', 'стэйк|0.5418001', 'мидия|0.5412267', 'коптить|0.5403743', 'свинный|0.53977406', 'телятина|0.537221', 'лосось|0.537138', 'долму|0.53713274', 'куриный|0.52874804', 'судак|0.5268762', 'свиной|0.5255773', 'запечёный|0.52521837', 'лазание|0.5242319', 'салат|0.52301276', 'рёбрышко|0.52214825', 'вока|0.5200756', 'кисло_сладкое_соус|0.5164937', 'солянка|0.5151892', 'барашек|0.5149988', 'кебаб|0.5149975', 'жульен|0.5137526', 'экспериментировать|0.5132439', 'казан|0.51188904', 'состав|0.5117356', 'мраморный|0.5115783', 'фахитос|0.5115029', 'колбаска|0.51083153', 'горячее_блюдо|0.5098353', 'острый|0.5080279', 'заказывать|0.50783694', 'тигровый|0.5074767', 'раздел|0.50460637', 'крылышко|0.5037402', 'уха|0.5035422', 'рулька|0.50333637', 'каре|0.5000119', 'бифстроганов|0.4996133', 'запечь|0.49845505', 'тапас|0.49787554', 'ушко|0.49444574', 'стерлядь|0.49329767', 'ягнёнок|0.49239808', 'отговорить|0.49106094', 'миньон|0.49057856', 'харчо|0.4895122', 'ризотто|0.48903918', 'филе|0.48896652', 'баранина|0.4889388', 'сацивить|0.48870024', 'паэлие|0.48855212', 'бефстроганов|0.4874609', 'пасть|0.4873305', 'медальон|0.48629314', 'гриб|0.48626614', 'барбекю|0.48588663', 'муж|0.48569864', 'выбор|0.48556033', 'паста|0.4849759', 'вегетарианский|0.48455745', 'осьминог|0.4839627', 'блюдо|0.48288414', 'сибас|0.4818136', 'садж|0.48032218']\n",
            "2019-12-24 21:09:56,250 INFO Epoch 4, train: 5s\n",
            "2019-12-24 21:09:56,250 INFO Total loss: 3.9973, max_margin_loss: 3.8889, ortho_reg: 0.1084\n",
            "100% 594/594 [00:05<00:00, 100.70it/s]\n",
            "Aspect 0:\n",
            "['попёс|0.6794401', 'студентка|0.65862906', 'прибавить|0.6565763', 'ливерпуль|0.6536927', 'хх|0.6443948', 'good|0.6379246', 'food|0.63706756', 'этак|0.636673', 'фраер|0.6359391', 'полуночь|0.63571346', 'двенадцать|0.6335143', 'прайс|0.63208735', 'па|0.63195634', 'немолодой|0.63140345', 'тридцать|0.6292441', 'космический|0.6271253', 'бум|0.6251795', 'пт|0.6241451', 'service|0.6232884', 'restaurant|0.6206335', 'of|0.6191124', 'доллар|0.61749744', 'ого|0.616831', 'блюз|0.6160424', 'приблизительно|0.615916', 'пятьдесят|0.61410314', 'no|0.61268854', 'луна|0.61264044', 'ых|0.6108686', 'парный|0.61043274', 'выключать|0.61025774', 'my|0.6097952', 'мировой|0.6082014', 'гопник|0.60809386', 'this|0.6076927', 'бурный|0.60727113', 'девять|0.6071122', 'басс|0.60613954', 'школьник|0.60501665', 'negativa|0.6039448', 'ролик|0.6036475', 'were|0.6032243', 'бальный|0.6002903', 'ву|0.599614', 'ру|0.5990517', 'фанера|0.59855473', 'you|0.59852785', 'зарубежный|0.59702414', 'удар|0.5964296', 'рок|0.5959532', 'сб|0.5957894', 'поколение|0.5956538', 'справедливо|0.5955892', 'ограничение|0.5947236', 'very|0.5944918', 'градус|0.59407073', 'именной|0.59369546', 'ка|0.59333813', 'шато|0.59303164', 'харизма|0.59279406', 'заполняемость|0.59249175', 'бранч|0.5918162', 'преимущественно|0.5916588', 'in|0.590779', 'кукарача|0.59054977', 'возраст|0.59037185', 'отстой|0.590112', 'it|0.5896646', 'балет|0.58949435', 'бабка|0.5894464', 'потянуть|0.58910036', 'ть|0.5885253', 'wa|0.5851188', 'place|0.58466965', 'монета|0.58448017', 'икс|0.5844735', 'диск|0.583011', 'ти|0.58285654', 'терпимый|0.5828168', 'максимальный|0.5826311', 'пать|0.58127326', 'гопот|0.58110785', 'all|0.5809181', 'шансон|0.5802095', 'резкий|0.5800691', 'подорожать|0.5793624', 'че|0.5784505', 'подпевать|0.5783566', 'подросток|0.5778806', 'заявка|0.5773592', 'мёртвый|0.5764916', 'party|0.5761046', 'транслироваться|0.5759668', 'rr|0.57579815', 'best|0.57561266', 'опера|0.5743309', 'that|0.5743178', 'народный|0.57413673', 'круча|0.5739564', 'лига|0.57361645']\n",
            "Aspect 1:\n",
            "['рот|0.6149418', 'масло|0.6101969', 'солёный|0.60317683', 'нарезать|0.59393877', 'кусочек|0.5876682', 'корочка|0.5802393', 'хрустеть|0.579814', 'булка|0.57710195', 'выращивать|0.5685483', 'заморозка|0.5682112', 'пережарить|0.5671874', 'жёсткий|0.55902207', 'лука|0.5575068', 'посыпать|0.5560928', 'зелень|0.5544983', 'помидорка|0.55427575', 'разрезать|0.554265', 'жир|0.55101687', 'капуста|0.55054194', 'соль|0.55018', 'уксус|0.5496471', 'специя|0.5492162', 'кусок|0.54641694', 'майонез|0.54500926', 'сверху|0.54350454', 'сырой|0.5434427', 'чеснок|0.54261774', 'ломтик|0.5423825', 'разогреть|0.5420246', 'варёный|0.54195666', 'тонкий|0.5408696', 'орешек|0.5407647', 'перчик|0.5402665', 'слайс|0.54006857', 'пармезан|0.5384837', 'кубик|0.5373663', 'помидор|0.53483653', 'порезать|0.53463364', 'булочка|0.53428054', 'каперс|0.53383934', 'огурец|0.5332774', 'лаваш|0.5322757', 'яйцо|0.53162', 'фарш|0.5292095', 'свежесть|0.5271503', 'плавать|0.52681607', 'трава|0.5261118', 'травка|0.52604777', 'мариновать|0.5252483', 'микроволновка|0.5212742', 'тест|0.5194585', 'толстой|0.51787007', 'сковородка|0.5173403', 'песто|0.51721746', 'жарить|0.5169876', 'лежалый|0.5163907', 'лук|0.5156121', 'мелко|0.51509', 'морковь|0.5147644', 'сковорода|0.5145686', 'хрен|0.51429796', 'плошка|0.51420224', 'выковыривать|0.5137713', 'протухший|0.5136279', 'жидкий|0.51350355', 'горчица|0.5134783', 'картошка|0.5125625', 'петрушка|0.51252204', 'огурчик|0.51246667', 'сметана|0.5112133', 'горка|0.5105947', 'сухой|0.51034254', 'лепёшка|0.51022065', 'переварить|0.5102087', 'рыбка|0.51016355', 'безвкусный|0.50992846', 'залить|0.5097033', 'бекон|0.50859195', 'пожарить|0.50843525', 'полить|0.50708693', 'слой|0.50605226', 'плесень|0.50505793', 'обжарить|0.5043614', 'палтус|0.50416744', 'каша|0.5041547', 'фокачча|0.50399774', 'завернуть|0.5037839', 'курочка|0.50347507', 'соломка|0.50297654', 'горшочек|0.50182325', 'грудинка|0.5017501', 'бульон|0.50156015', 'нарезка|0.50145483', 'блин|0.50126344', 'поджарить|0.5007447', 'фольга|0.5006598', 'жирный|0.5002752', 'бальзамико|0.49902815', 'черри|0.49899548', 'чипсы|0.49835873']\n",
            "Aspect 2:\n",
            "['сладость|0.7300733', 'пирожное|0.6992755', 'миндальный|0.69806355', 'мусса|0.6955361', 'бисквит|0.6933488', 'панакот|0.6880654', 'шоколад|0.68743956', 'печение|0.6867203', 'брюла|0.6860183', 'банановый|0.6849059', 'крем|0.6805097', 'развалина|0.67722213', 'суфле|0.67512953', 'карамельный|0.67271185', 'малин|0.67193496', 'мильфея|0.67117435', 'карамель|0.670431', 'маракуйя|0.66984606', 'шоколадный|0.66212535', 'захер|0.66185325', 'манговый|0.6592419', 'трюфель|0.65804815', 'графский|0.6574794', 'изюм|0.6570977', 'сорбетом|0.65690213', 'взбить|0.6567576', 'безе|0.6562674', 'грушевый|0.65623075', 'марципановый|0.6558955', 'ягода|0.65474', 'шарик|0.65409744', 'какао|0.65386724', 'ванильный|0.6526804', 'капуччиный|0.6505482', 'корица|0.6504111', 'творог|0.64758956', 'песочный|0.6469699', 'меренга|0.646847', 'мятый|0.64670795', 'персиковый|0.6454864', 'фисташковый|0.6452817', 'клубника|0.6450635', 'печенюшка|0.64481664', 'кекс|0.6444722', 'морковный|0.64446664', 'сорбета|0.64434326', 'пирожёнка|0.64377415', 'мятный|0.642201', 'ваниль|0.6418903', 'малина|0.6417995', 'фондать|0.6413394', 'лаймовый|0.6399019', 'джема|0.6394817', 'чизкейк|0.63884187', 'заварной|0.63811123', 'баба|0.63733524', 'сырник|0.6352224', 'желе|0.6341288', 'кокосовый|0.6339135', 'чиз|0.6332832', 'эклер|0.6311995', 'творожный|0.6303343', 'лимонный|0.6288719', 'креманка|0.62874657', 'пудинг|0.6283343', 'вишня|0.62821734', 'печенек|0.62739885', 'трубочка|0.6271161', 'мороженое|0.62688935', 'ягодный|0.6267616', 'манго|0.6266264', 'медовик|0.62624955', 'личить|0.6260515', 'сливка|0.62521577', 'карамелизировать|0.6245013', 'брауни|0.6238296', 'сгущёнка|0.6231745', 'сухофрукты|0.62311786', 'тортик|0.6228714', 'сладкое|0.6227158', 'яблоко|0.62266636', 'шарлотка|0.62186563', 'мусс|0.621643', 'смородина|0.62149656', 'цедра|0.620647', 'банан|0.62052494', 'десертный|0.62006855', 'орех|0.6174974', 'маскарпон|0.61743194', 'мороженный|0.6159391', 'ягодка|0.6152058', 'цитрусовый|0.6148945', 'пенка|0.61433613', 'чайничек|0.6141248', 'чизкейка|0.6140759', 'сахарный|0.61262983', 'котт|0.61126053', 'мармелад|0.6106051', 'варение|0.6100428', 'шоколадка|0.6094898']\n",
            "Aspect 3:\n",
            "['бояться|0.7765521', 'простить|0.7609433', 'ум|0.749465', 'мысль|0.7446564', 'значит|0.7328546', 'господин|0.718676', 'надоесть|0.6981128', 'слышать|0.69616747', 'пусть|0.6888021', 'срочно|0.6865228', 'понять|0.68545103', 'обидеть|0.67886513', 'поверить|0.678342', 'признаться|0.6780586', 'право|0.67481357', 'речь|0.6672087', 'знаете|0.6666749', 'здоровье|0.6665391', 'знак|0.6636796', 'зря|0.6606414', 'признаваться|0.65728974', 'слово|0.6517486', 'не_не|0.6508035', 'уверенный|0.6497278', 'иначе|0.6453507', 'перестать|0.6449261', 'стороной|0.63955796', 'ибо|0.6394694', 'сила|0.63754404', 'скоро|0.6368549', 'постараться|0.63384104', 'защита|0.62859344', 'обходить|0.6277368', 'борис|0.62740606', 'верить|0.6269052', 'жизнь|0.6257835', 'пора|0.6234656', 'бог|0.6196196', 'ресторатор|0.6171454', 'передать|0.6160639', 'вон|0.615908', 'наверно|0.6158824', 'навсегда|0.61539274', 'оттуда|0.6136846', 'продолжать|0.6136757', 'удалять|0.613293', 'спорить|0.61302257', 'почувствовать|0.61133647', 'душить|0.6103548', 'не_знать|0.6097466', 'извинить|0.6078335', 'призывать|0.60772693', 'вечно|0.60769135', 'таракан|0.60717356', 'неужели|0.60674024', 'возможно|0.6039857', 'ругать|0.6029982', 'говориться|0.60176045', 'лезть|0.6011994', 'категорически|0.6003562', 'бороться|0.5970044', 'автор|0.5960498', 'интерес|0.59543633', 'негатив|0.5949881', 'гениальный|0.5941653', 'высказать|0.5931107', 'земля|0.5926362', 'сменить|0.5924237', 'следовать|0.59211266', 'отсюда|0.59145033', 'ругаться|0.5912199', 'личный|0.5901792', 'научить|0.5894525', 'звезда|0.5879573', 'мыть|0.5873065', 'человек_который|0.5873022', 'наплевать|0.5868382', 'надеяться|0.5848088', 'полениться|0.58384717', 'исправить|0.58351374', 'строго|0.58261156', 'мат|0.5824334', 'непременно|0.581774', 'быдло|0.5814257', 'голова|0.58080345', 'твой|0.5787776', 'плевать|0.57867265', 'совесть|0.5784967', 'уважаемый|0.5767943', 'сей_пора|0.5736973', 'история|0.5733069', 'убить|0.5732038', 'испытать|0.57316184', 'вновь|0.57296336', 'страшно|0.57236165', 'доказывать|0.57171345', 'чтожий|0.5714692', 'кома|0.57032657', 'терять|0.5703017', 'существование|0.56959414']\n",
            "Aspect 4:\n",
            "['мальчик|0.8053835', 'девочка|0.80067694', 'девушка|0.79479736', 'молодая_человек|0.77860975', 'улыбаться|0.7724615', 'официантка|0.7499961', 'парень|0.73538125', 'улыбка|0.71855867', 'улыбчивый|0.69747174', 'официант|0.6974337', 'барышня|0.6936732', 'юноша|0.6685405', 'провожать|0.6526073', 'наш_столик|0.64632714', 'звать|0.6427293', 'лицо|0.6412121', 'мила|0.6405126', 'хостёс|0.6335728', 'интересоваться|0.6230484', 'весь_время|0.62255', 'пепельница|0.61221004', 'обслуживать|0.6079029', 'гардеробщик|0.6041982', 'хостесса|0.60265887', 'спрашивать|0.59987754', 'здороваться|0.5997181', 'приветливо|0.5980493', 'вежливый|0.58830446', 'высокомерный|0.58787733', 'любезный|0.58700204', 'бармен|0.5785896', 'прощаться|0.57806844', 'улыбнуться|0.57381076', 'молоденький|0.5706624', 'принимать|0.56938505', 'соседний_столик|0.56884134', 'разговаривать|0.5654077', 'постоянно|0.56396997', 'мужчина|0.56210315', 'принять_заказ|0.55923826', 'забывать|0.5583058', 'отвечать|0.5554198', 'встречать|0.5548115', 'доброжелательно|0.55234134', 'офицант|0.551823', 'стойка|0.5518158', 'внимательно|0.55170214', 'успевать|0.54860526', 'женщина|0.54779994', 'молодая|0.5452119', 'администратор|0.5451863', 'молниеносно|0.54500115', 'медленно|0.5378181', 'поздороваться|0.5367245', 'появляться|0.5313549', 'шустрый|0.5296068', 'бегать|0.52617306', 'внешность|0.5257479', 'расторопный|0.5244582', 'стараться|0.5243268', 'охранник|0.5230599', 'убирать|0.5225886', 'задержка|0.5225054', 'менять|0.52135515', 'милый|0.5200213', 'кальянщик|0.5179283', 'реагировать|0.5160818', 'шутить|0.5159687', 'оперативно|0.51523226', 'подойти|0.513715', 'поменять|0.5130421', 'голос|0.511328', 'обслуживающий|0.51055694', 'обслужить|0.5075185', 'неприветливый|0.5046965', 'дружелюбно|0.5019513', 'общаться|0.50070184', 'смена|0.49948937', 'замечать|0.49931225', 'принять|0.49903035', 'волос|0.49725184', 'вовремя|0.49339592', 'просьба|0.49145702', 'уносить|0.49075872', 'объяснять|0.48983616', 'подходить|0.4896363', 'запара|0.48928386', 'суетиться|0.4866997', 'объяснить|0.48328093', 'одетый|0.48053348', 'быстро|0.4798649', 'удалиться|0.47984952', 'пытаться|0.4794624', 'услышать|0.47889674', 'учтивый|0.47843283', 'представиться|0.47835594', 'чётко|0.47767192', 'поинтересоваться|0.4745665', 'очень_быстро|0.47422892', 'персонал|0.4730994']\n",
            "Aspect 5:\n",
            "['помещение|0.7461945', 'зона|0.72779703', 'тесно|0.7223657', 'вентиляция|0.72214246', 'душный|0.7181426', 'дым|0.713879', 'вытяжка|0.7023006', 'неуютный|0.69411075', 'шумно|0.69299376', 'комната|0.6895283', 'диван|0.68681085', 'накурить|0.6755045', 'удобно|0.6628933', 'курить|0.66150355', 'комфортно|0.6604646', 'дымно|0.6556959', 'друг_друг|0.65341866', 'пространство|0.6527468', 'воздух|0.6456541', 'диванчик|0.6443146', 'мешать|0.64258146', 'кабинка|0.63984954', 'комнатка|0.6373909', 'просторно|0.63267744', 'кресло|0.6318887', 'экран|0.6306733', 'зала|0.62515384', 'детский_комната|0.6198671', 'вокруг|0.6190635', 'близко|0.61892074', 'светло|0.61861247', 'уголок|0.6157205', 'туалет|0.61332476', 'зальчик|0.6107175', 'аквариум|0.60681045', 'уединённость|0.6052456', 'второе_этаж|0.6051601', 'табачный|0.6002307', 'танцполый|0.5996102', 'сигаретный|0.59671843', 'телевизор|0.59576386', 'шум|0.5946088', 'прохладно|0.5912261', 'просторный|0.5904811', 'деление|0.589435', 'камин|0.58939034', 'балкон|0.585893', 'плазма|0.5851034', 'стул|0.5844665', 'дальний|0.5842783', 'веранда|0.5834082', 'слышный|0.5791898', 'курящий|0.57752186', 'зал|0.5773679', 'сидеть|0.5767517', 'дышать|0.56740963', 'потолок|0.56571877', 'барный_стойка|0.5631347', 'удобный|0.5623632', 'курильщик|0.5620744', 'сцена|0.56073195', 'разделение|0.55877733', 'прокурить|0.5577498', 'окно|0.55742586', 'некурящий|0.5570214', 'свет|0.5561044', 'кондиционер|0.5557581', 'беседка|0.55441105', 'тв|0.5539626', 'неудобный|0.5539168', 'зеркало|0.5538555', 'расстояние|0.5498533', 'мебель|0.54834014', 'народ|0.5454255', 'сосед|0.545085', 'курение|0.5444124', 'неудобно|0.54398984', 'тесновато|0.542949', 'потолочь|0.5429435', 'шумный|0.5410645', 'расположить|0.54074883', 'футбольный|0.53937393', 'освещение|0.5387811', 'терасс|0.5385954', 'игрушка|0.5373502', 'панель|0.53338027', 'стена|0.52597547', 'расположиться|0.5253304', 'напрягать|0.5246198', 'тихо|0.524609', 'дерево|0.5228131', 'внутри|0.52170813', 'спокойно|0.5210118', 'этаж|0.520967', 'перегородка|0.52048254', 'футбол|0.5185064', 'уединиться|0.5180746', 'прикольный|0.51802474', 'чисто|0.51727396', 'кругом|0.5143131']\n",
            "Aspect 6:\n",
            "['ценовый|0.73842245', 'ценник|0.7307287', 'категория|0.72771454', 'уровень|0.7273175', 'завысить|0.7171675', 'соответствовать|0.7088853', 'выше|0.7060223', 'крайний_мера|0.69652385', 'сравнение|0.6871614', 'цена|0.6844044', 'цена_качество|0.6808565', 'фаста|0.6794965', 'качество|0.67813087', 'ниже|0.67580754', 'отличие|0.6622802', 'фуд|0.65202737', 'считать|0.65070534', 'изыск|0.6437409', 'среднее|0.6368659', 'учитывать|0.6355028', 'забегаловка|0.6259025', 'средний|0.62429124', 'недостаток|0.61743593', 'демократичный|0.61656785', 'оценивать|0.6138273', 'отличаться|0.61081004', 'адекватный|0.60814506', 'многий|0.60770667', 'политика|0.6054263', 'формат|0.6033859', 'высокий|0.602385', 'сетевой|0.6005477', 'японский|0.6001601', 'оценка|0.5995501', 'принцип|0.59749067', 'приемлемый|0.5893975', 'назвать|0.5870821', 'удивлять|0.5869656', 'гуманный|0.58200157', 'европейский|0.58122873', 'простой|0.57821125', 'намного|0.5761408', 'касаться|0.5736228', 'соотношение_цена_качество|0.5731081', 'последний_время|0.56838137', 'большинство|0.56684494', 'низкий|0.56518257', 'вполне|0.56417334', 'ресторанный|0.55962706', 'скорее|0.5594723', 'значительно|0.558887', 'подобный|0.5560292', 'заведение|0.5549787', 'гинза|0.5545839', 'достойный|0.55415154', 'дёшево|0.5474727', 'взгляд|0.54740906', 'умеренный|0.54339206', 'посредственный|0.54329544', 'обычный|0.54174', 'менее|0.54097', 'согласный|0.54021347', 'дорогой|0.53961617', 'пожалуй|0.5370291', 'претензия|0.5353316', 'дорого|0.5331166', 'разнообразие|0.532048', 'весь_остальной|0.53201854', 'китайский|0.5316247', 'плохой|0.52988636', 'оправдывать|0.52880764', 'дешёвый|0.5282776', 'например|0.528255', 'иной|0.5268332', 'стандартный|0.5267918', 'продукт|0.5265939', 'не_мочь_сказать|0.5248123', 'понятный|0.524092', 'однозначно|0.52210724', 'общепит|0.518167', 'качественный|0.5169407', 'приличный|0.5165936', 'стандарт|0.51588696', 'средненький|0.51467776', 'дороговатый|0.51374716', 'относительно|0.51157844', 'гораздо|0.50910974', 'претендовать|0.50841', 'однако|0.50606674', 'бистро|0.5057591', 'худой|0.50251484', 'нарекание|0.5015353', 'крайне|0.5008515', 'являться|0.5007273', 'десятка|0.49875122', 'хромать|0.49772322', 'соответствующий|0.49241307', 'весьма|0.49104473', 'план|0.49072433', 'исключение|0.49045938']\n",
            "Aspect 7:\n",
            "['висок|0.84158444', 'коктейль|0.7922819', 'водка|0.7795005', 'безалкогольный|0.7707606', 'крепкий|0.7550465', 'мохитый|0.75191253', 'пить|0.7509302', 'алкогольный|0.74173963', 'литр|0.7259588', 'мартини|0.7255157', 'выпить|0.7148807', 'пила|0.71203107', 'коньяк|0.7042829', 'крушовица|0.7012951', 'морс|0.6951419', 'кружка|0.69503295', 'бутылочка|0.6931474', 'сорт|0.6899485', 'разливный|0.68950135', 'пиво|0.6878697', 'вишнёвый|0.68705255', 'нефильтрованный|0.68664706', 'руль|0.68070257', 'ньюкасл|0.66602635', 'сангрия|0.66485107', 'бутылочный|0.66186374', 'лимонад|0.66056174', 'пинта|0.65806067', 'сидр|0.6576351', 'глинтвейн|0.6525439', 'коктель|0.64746475', 'бланша|0.6392374', 'лонг|0.6374291', 'хугарден|0.6337054', 'закусить|0.6327598', 'бокал|0.63053334', 'эль|0.6254349', 'кальян|0.62400234', 'квас|0.61639905', 'пшеничный|0.6139656', 'напиток|0.61343974', 'бокальчик|0.6100146', 'стаут|0.6056486', 'гиннес|0.60433227', 'распитие|0.5995638', 'пивко|0.59898263', 'сок|0.59797156', 'айленд|0.5975878', 'игристый|0.5966332', 'потягивать|0.58851063', 'ликёр|0.58778656', 'текила|0.5874775', 'попить|0.5872768', 'ром|0.5872684', 'настойка|0.58565235', 'эспрессо|0.583528', 'василеостровский|0.5830739', 'вода|0.5784501', 'графин|0.5783659', 'грапп|0.5777441', 'рюмка|0.57700473', 'алкоголь|0.57482773', 'наливать|0.5680066', 'сироп|0.5678254', 'лёд|0.5669015', 'бутылка|0.566269', 'шампанский|0.5630288', 'угостить|0.5610647', 'вино|0.5579441', 'дайкири|0.55732596', 'бельгийский|0.55564904', 'литровый|0.5548933', 'бесплатный|0.5546327', 'кувшин|0.5542282', 'америкать|0.55245876', 'стакан|0.55063564', 'чай|0.54595685', 'фирменный|0.5459566', 'облепиховый|0.5435307', 'джина|0.5429994', 'кола|0.5425526', 'каберне|0.5402683', 'эдельвейс|0.5377902', 'компот|0.5354829', 'медовуха|0.5351385', 'поллитра|0.5332048', 'чашечка|0.53202045', 'кофе|0.53187263', 'производство|0.5308096', 'пино|0.52741855', 'немецкий|0.5268423', 'клюквенный|0.5228011', 'употреблять|0.5206221', '100р|0.52005476', 'коктейльный|0.5183947', 'разбавить|0.5181758', 'латта|0.5170197', 'килкенни|0.5162157', 'свежевыжать|0.5160755', 'лагер|0.51596975']\n",
            "Aspect 8:\n",
            "['организация|0.8055925', 'тамада|0.7824503', 'организовать|0.7816963', 'подготовка|0.7547451', 'свадебный|0.74922764', 'торжество|0.7416879', 'благодарность|0.7345532', 'ольга|0.7280248', 'мероприятие|0.7270549', 'праздник|0.72138906', 'огромный_спасибо|0.71231884', 'весь_гость|0.7103799', 'организатор|0.708338', 'молодожён|0.7058265', 'майкл|0.70064604', 'пожелание|0.69808596', 'банкет|0.6953298', 'весь_наш|0.69339013', 'ирина|0.6898227', 'директор|0.684573', 'ведущий|0.682229', 'подарок|0.68205625', 'невеста|0.67624015', 'большой_спасибо|0.67486763', 'фуршет|0.6614554', 'команда|0.66122144', 'наталья|0.66034245', 'отдельный_спасибо|0.65933454', 'евгений|0.6590214', 'владимир|0.6587467', 'банкетный|0.6561149', 'елена|0.6541182', 'свадьба|0.6515514', 'коллектив|0.6499907', 'профессионализм|0.64824', 'учесть|0.64463747', 'сотрудник|0.64312804', 'номер|0.6429306', 'сергей|0.642491', 'профессионал|0.64017546', 'александр|0.63756216', 'татьяна|0.6320385', 'проведение|0.63098997', 'уважение|0.6298967', 'марин|0.62942016', 'выражать|0.6238502', 'станислав|0.61977905', 'алексей|0.6154735', 'управлять|0.6117306', 'наш_свадьба|0.60949004', 'анастасий|0.6090847', 'каравай|0.60722744', 'банкетный_зал|0.6043631', 'участие|0.6013698', 'менеджер|0.60079646', 'благодаря|0.60075223', 'честь|0.59848315', 'благодарить|0.59744287', 'дмитрий|0.59615886', 'программа|0.5903549', 'поблагодарить|0.5876714', 'бельканто|0.5874931', 'новый_год|0.58372253', 'поклон|0.5811072', 'договор|0.5785363', 'бравый|0.5784268', 'шоу|0.5756489', 'весь_наш_пожелание|0.57412255', 'помощь|0.57380295', 'торт|0.57003975', 'кондитер|0.56970114', 'подарить|0.5682412', 'фотограф|0.56653816', 'андрей|0.56637967', 'родитель|0.56614363', 'юбилей|0.56349766', 'шеф_повар|0.5634134', 'совет|0.5632801', 'признательность|0.5621909', 'жених|0.5609789', 'профессиональный|0.5594648', 'чуткий|0.55785936', 'виктор|0.556935', 'регистрация|0.556446', 'гость|0.5525291', 'жанна|0.55160755', 'услуга|0.5505233', 'событие|0.5501263', 'конкурс|0.5487907', 'мастер|0.5478015', 'юлий|0.54731584', 'поздравление|0.54730666', 'администрация|0.5468302', 'артист|0.54554206', 'дмитрия|0.54545915', 'марина|0.5408217', 'фейерверк|0.5386191', 'выездной|0.5384885', 'благодарный|0.53781897', 'кейтеринг|0.5368809']\n",
            "Aspect 9:\n",
            "['сегодня|0.74783754', 'заехать|0.7471378', 'пообедать|0.7407343', 'вчера|0.7216023', 'поехать|0.6997169', 'поужинать|0.6917809', 'обедать|0.68147445', 'пр|0.68111384', 'прогулка|0.6748663', 'воскресение|0.67200637', 'однокурсник|0.66798675', 'забежать|0.6574053', 'недавно|0.65508175', 'перекусить|0.6550785', 'случайно|0.65123314', 'московский|0.6476791', 'заезжать|0.6440926', 'ездить|0.63891023', 'подружка|0.6351739', 'ехать|0.6322982', 'ужинать|0.6266856', 'заслать|0.6237352', 'днём|0.6214545', 'гулять|0.6210092', 'отправиться|0.6163524', 'ул|0.61489475', 'офис|0.61408776', 'невский|0.61364853', 'петроградка|0.608585', 'это_кафе|0.6016446', 'район|0.59743106', 'побывать|0.5933867', 'жена|0.59277844', 'заглянуть|0.5887549', 'недалеко|0.587997', 'приезжать|0.5867861', 'жить|0.583004', 'открыться|0.5827576', 'забегать|0.5791334', 'заскочить|0.5780208', 'завтрак|0.5767226', 'выходной|0.5765189', 'воскресный|0.5737292', 'поход|0.57180166', 'дом|0.569841', 'проезжать|0.56931156', 'суббота|0.56760097', 'мама|0.5637944', 'приморский|0.5610987', 'год_назад|0.5603207', 'москва|0.5598736', 'посетить|0.55685294', 'обед|0.55411875', 'приехать|0.55187976', 'месяц|0.55163205', 'восстание|0.5499445', 'январь|0.54951304', 'добраться|0.5493076', 'неделя|0.5488539', 'перерыв|0.5480304', 'март|0.54776025', 'ноябрь|0.54627943', 'проспект|0.54549044', 'коллега|0.54389536', 'вечером|0.54363394', 'дочка|0.5436229', 'захаживать|0.54315996', 'утро|0.54225725', 'давно|0.5398266', 'покушать|0.5393814', 'семья|0.5388935', 'май|0.5378991', 'встретиться|0.53786135', 'однажды|0.53650355', 'питер|0.53533447', 'заходить|0.53467137', 'ходьба|0.53408647', 'февраль|0.53395545', 'прогуливаться|0.5335218', 'евразия|0.532769', 'частенько|0.5327526', 'парка|0.53219926', 'четверг|0.5315869', 'остров|0.5303978', 'забрести|0.5286406', 'поздно|0.5261209', 'назад|0.5248754', 'очередной|0.52373755', 'летом|0.5234047', 'отмечать_день_рождение|0.52259105', 'сходить|0.52169746', 'лето|0.51986676', 'полгода|0.5188783', 'бизнес_ланч|0.51368415', 'завтракать|0.5124708', 'среда|0.511929', 'захотеться|0.50969076', 'зайти|0.50526655', 'целенаправленно|0.5050623', 'утром|0.50505286']\n",
            "Aspect 10:\n",
            "['полка|0.70930594', 'старое|0.69525325', 'старинный|0.69226325', 'стен|0.68730605', 'ля|0.67351556', 'журнал|0.673081', 'предмет|0.6709157', 'стена|0.67040503', 'лампа|0.6693914', 'золотой|0.66573215', 'рамка|0.6599039', 'стеклянный|0.6561525', 'картина|0.6534771', 'фотография|0.6511595', 'черно|0.6494167', 'кирпичный|0.64860773', 'крыша|0.64340776', 'деталь|0.64293844', 'газета|0.6422367', 'белые|0.6408576', 'множество|0.6403911', 'синий|0.6402199', 'внутренний|0.6309752', 'подоконник|0.6304411', 'элемент|0.6273565', 'люстра|0.62542325', 'дерево|0.6230361', 'плазменный|0.6208278', 'белоснежный|0.6200961', 'винный|0.6200758', 'кирпич|0.61727935', 'потолок|0.61623836', 'убранство|0.61411434', 'буфет|0.6131408', 'атрибутика|0.6131152', 'штора|0.6123572', 'тон|0.6118649', 'кровать|0.61102474', 'плитка|0.61002606', 'светящийся|0.6085877', 'прованс|0.6071329', 'солнце|0.6070925', 'стекло|0.6050347', 'панель|0.60501564', 'обилие|0.60399973', 'фильм|0.60377026', 'современный|0.603561', 'доска|0.602872', 'свет|0.60278445', 'серый|0.6023943', 'полочка|0.6020839', 'открываться|0.6005219', 'прочий|0.6000576', 'стеллаж|0.5996562', 'мебель|0.5974573', 'ширма|0.59707934', 'декор|0.5960343', 'искусственный|0.59570473', 'светильник|0.5950111', 'вдоль|0.59496146', 'подсвечник|0.5936064', 'клетка|0.5915071', 'пол|0.59093845', 'южный|0.59057105', 'абажур|0.5901834', 'блестящий|0.589313', 'подсветка|0.58923805', 'кладка|0.588678', 'огонь|0.58683133', 'зеркало|0.58680177', 'небо|0.58670807', 'кожаный|0.58648074', 'массивный|0.58611727', 'угол|0.5846291', 'обивка|0.5820104', 'шарм|0.58124286', 'библиотека|0.5810308', 'краска|0.5804761', 'свод|0.5802444', 'направление|0.57974935', 'любоваться|0.57930696', 'гамма|0.5791892', 'полый|0.5781158', 'солнечный|0.57751507', 'занавеска|0.5770676', 'обои|0.57677394', 'цветовой|0.57629573', 'открытый|0.574321', 'взор|0.5741338', 'роспись|0.57307434', 'цветок|0.5719993', 'цветочек|0.5718641', 'ткань|0.56999743', 'шкаф|0.56982577', 'комод|0.56855893', 'полумрак|0.5681023', 'панорамный|0.5677829', 'широкий|0.56661254', 'резной|0.56637955', 'разглядывать|0.5656172']\n",
            "Aspect 11:\n",
            "['тёплый|0.67907965', 'ненавязчивый|0.6670693', 'очень_приятный|0.64110637', 'приятный|0.6379715', 'очень_порадовать|0.63019466', 'очень_понравиться|0.62973166', 'особенный|0.6211703', 'навязчивый|0.61135066', 'прекрасно|0.611018', 'запомниться|0.607973', 'общий_впечатление|0.59958977', 'вкусный_еда|0.59923863', 'очень_хороший|0.5989033', 'душевный|0.59643304', 'остаться_очень_довольный|0.5923311', 'располагать|0.5902808', 'ммммм|0.58686984', 'порадовать|0.5867212', 'весь_очень_вкусно|0.5812875', 'весь_очень|0.5769684', 'понравиться_весь|0.57425606', 'великолепно|0.5723659', 'весь_очень_понравиться|0.5722854', 'душевно|0.56757975', 'восхитительный|0.5673698', 'целое|0.5664956', 'атмосфера|0.56274253', 'замечательный|0.5603346', 'великолепный|0.55804545', 'чудесно|0.55797595', 'особый|0.5573535', 'выше_весь_похвала|0.5561675', 'оч|0.5544863', 'прийти_ещё|0.5539991', 'очень_очень_долго|0.55361795', 'довольный|0.5532397', 'пролететь|0.5524154', 'отлично|0.5521842', 'расслаблять|0.55019754', 'обстановка|0.5501163', 'весь_понравиться|0.54651654', 'нарекание|0.5444181', 'подкачать|0.5443223', 'остаться_довольный|0.54346186', 'предупредительный|0.5432123', 'домашний|0.5426073', 'изумительный|0.54155827', 'очень_понравиться_весь|0.53968835', 'идеально|0.53797036', 'живот|0.536276', 'восторг|0.536157', 'безумно|0.53513134', 'волшебный|0.53257406', 'незаметно|0.53232265', 'достойно|0.5317391', 'превосходный|0.5302611', 'обстановочка|0.52920806', 'остаться_очень_приятный|0.52836144', 'сытый|0.52825636', 'неспешный|0.5275945', 'позитивный|0.5274421', 'потрясающе|0.5271782', 'внимательный|0.52627563', 'мера|0.5240073', 'спокойный|0.52262706', 'особенно|0.5225847', 'хор|0.52211356', 'очень_вкусный|0.51499563', 'очень_вкусно|0.5132068', 'ооочень_вкусный|0.51270163', 'прекрасный|0.5120998', 'насладиться|0.5119281', 'чудесный|0.50913495', 'безупречный|0.5048094', 'зы|0.5048001', 'высокий_уровень|0.50306624', 'немного|0.50169045', 'доброжелательный|0.5013254', 'уютный|0.50014627', 'непринуждённый|0.49984953', 'приём|0.4976482', 'приятно|0.49753314', 'высота|0.49455065', 'отличный|0.49351612', 'качественно|0.491934', 'зажигательный|0.49124897', 'фоновый|0.49044085', 'весь_очень_вкусный|0.48983365', 'праздничный|0.48964185', 'очень_вкусный_еда|0.4893983', 'наслаждаться|0.48921248', 'быстрый|0.48824972', 'порция_большой|0.48821378', 'расслабить|0.48811498', 'потрясать|0.48789462', 'обязательно_прийти_ещё|0.4871558', 'очень_очень|0.4862876', 'царить|0.48602125', 'лёгкий|0.48516232', 'учтивый|0.48503268']\n",
            "Aspect 12:\n",
            "['полтора|0.76979065', 'половина|0.7370255', '15_минута|0.7308739', 'дождаться|0.7148046', 'ровно|0.7125597', 'минимум|0.7094157', '20_минута|0.7078427', 'примерно|0.7049775', 'соответственно|0.6996199', 'выясниться|0.6972239', 'оплатить|0.69554484', 'заполнить|0.69188875', 'час|0.6845137', 'это_время|0.6790831', 'прийтись|0.67555225', 'полчаса|0.6734791', 'десять|0.67327565', 'максимум|0.67315483', 'простоять|0.67162293', 'расчёт|0.667017', 'вынести|0.666926', '10_минута|0.66539264', 'отдать|0.6651815', 'оговорить|0.66446006', 'прождать|0.6641973', 'естественно|0.66145194', 'результат|0.6582666', 'просидеть|0.65764475', 'напоминание|0.65443087', 'пять|0.6540831', 'мина|0.65363455', 'забрать|0.64805675', 'демонстративно|0.64475715', 'заплатить|0.64215064', 'вернуть|0.6414242', 'сумма|0.6403339', 'унести|0.6394021', 'оплата|0.6383324', 'пообещать|0.6373369', 'дозаказать|0.63607025', 'закрытие|0.63577795', 'спустя|0.6323065', 'предупреждать|0.6301918', 'внести|0.6288763', 'бокс|0.62861085', 'остаток|0.62636644', 'течение|0.62494636', 'перемена|0.6212602', 'рассчитать|0.6208114', 'сделать_заказ|0.6203666', 'предупредить|0.62003106', 'убрать|0.61970425', 'подождать|0.619221', '1_5_час|0.6171834', 'привезти|0.6168076', 'указать|0.61662114', 'курс|0.61364084', 'четверо|0.61127174', 'коробка|0.6112105', 'уйти|0.6105553', 'обещать|0.6103234', 'попросить|0.6046469', 'затем|0.60146546', 'посчитать|0.6008301', 'отказываться|0.60058904', 'итог|0.59997255', 'предоплата|0.599892', 'двадцать|0.5991475', 'закончиться|0.5961291', 'уложиться|0.59424907', 'успеть|0.59194416', 'счёт|0.5897453', 'попытка|0.5867694', 'входить|0.58589697', 'депозит|0.58564985', 'получас|0.58513546', 'поменять|0.5838518', 'приход|0.58309853', 'просить|0.58278584', 'оплачивать|0.5826355', 'сдача|0.58003926', 'пятнадцать|0.57826245', 'около|0.57777596', 'процент|0.5776174', 'пропасть|0.57527936', 'ожидание|0.57498336', 'обнаружить|0.57363063', 'отказаться|0.5735747', 'вынос|0.5732086', 'четыре|0.5729313', 'очень_долго|0.57235575', 'сообщать|0.56997144', 'факт|0.5697614', 'заставить|0.5695092', 'третье|0.5693181', 'расплатиться|0.56926745', 'полупустой|0.56771743', 'персона|0.5652736', 'дополнительно|0.5641602', 'отказать|0.5601193']\n",
            "Aspect 13:\n",
            "['гриль|0.6723754', 'рыба|0.6698348', 'салат_цезарь|0.6567629', 'мясной|0.6389731', 'греческий|0.6371158', 'рыбный|0.6156275', 'стейка|0.6133715', 'говядина|0.6087705', 'дорад|0.60687083', 'свинина|0.6048238', 'баклажан|0.6010841', 'овощ|0.5969378', 'цезарь|0.5961073', 'выбрать|0.5901154', 'стейк|0.59003127', 'морепродукт|0.5884862', 'дораду|0.58572173', 'карпаччо|0.58159626', 'плов|0.5784457', 'курица|0.5742651', 'шашлык|0.57333714', 'оливья|0.57324797', 'рибай|0.57269263', 'салатик|0.571015', 'шашлычок|0.5708373', 'мангал|0.56609523', 'креветка|0.56561667', 'осетрина|0.56223655', 'пекински|0.559821', 'вок|0.5537832', 'стейковы|0.55223095', 'свинин|0.55200315', 'форель|0.5517042', 'узбекский|0.5478702', 'ассорти|0.5426936', 'закуска|0.5411772', 'цыплёнок|0.541114', 'приготовить|0.53989375', 'коптить|0.53760135', 'телятина|0.5363506', 'стэйк|0.53482527', 'мидия|0.53388405', 'свинный|0.5300035', 'долму|0.5290251', 'лосось|0.5280951', 'салат|0.52401376', 'свиной|0.5231788', 'куриный|0.5222058', 'судак|0.5201658', 'рёбрышко|0.51600194', 'заказывать|0.51185095', 'запечёный|0.5113806', 'лазание|0.5095749', 'мраморный|0.5093193', 'кисло_сладкое_соус|0.50885606', 'колбаска|0.50836617', 'барашек|0.5080639', 'кебаб|0.5078451', 'состав|0.50686294', 'вока|0.5067792', 'рулька|0.5010874', 'экспериментировать|0.5002248', 'тигровый|0.50005287', 'солянка|0.49928004', 'жульен|0.49925488', 'крылышко|0.49819368', 'фахитос|0.49790043', 'острый|0.49719867', 'раздел|0.49619293', 'горячее_блюдо|0.49499565', 'казан|0.4944899', 'каре|0.49357295', 'уха|0.49200723', 'муж|0.49108565', 'миньон|0.49006346', 'бифстроганов|0.4896715', 'запечь|0.4896288', 'ягнёнок|0.48889825', 'выбор|0.48752093', 'тапас|0.48690078', 'отговорить|0.4868066', 'посоветовать|0.4850612', 'филе|0.4842304', 'пасть|0.48406643', 'ушко|0.48326582', 'баранина|0.48319104', 'стерлядь|0.48180515', 'бефстроганов|0.48142087', 'сацивить|0.4810596', 'медальон|0.48045826', 'остановиться|0.4795612', 'харчо|0.47837454', 'заказать|0.47822905', 'помнить|0.47582287', 'паэлие|0.4756907', 'гриб|0.47511992', 'барбекю|0.47495538', 'сибас|0.4744349', 'жареный|0.47405845', 'осьминог|0.47400522']\n",
            "2019-12-24 21:10:02,326 INFO Epoch 5, train: 5s\n",
            "2019-12-24 21:10:02,326 INFO Total loss: 3.9097, max_margin_loss: 3.8012, ortho_reg: 0.1085\n",
            "100% 594/594 [00:05<00:00, 100.05it/s]\n",
            "Aspect 0:\n",
            "['попёс|0.6738723', 'ливерпуль|0.65291667', 'прибавить|0.6498437', 'студентка|0.6421759', 'хх|0.6337719', 'немолодой|0.6292485', 'good|0.62730014', 'food|0.6261562', 'полуночь|0.6234056', 'двенадцать|0.62114805', 'прайс|0.6203343', 'па|0.6199857', 'этак|0.61971426', 'фраер|0.6175413', 'тридцать|0.61526746', 'ых|0.6146293', 'service|0.6128071', 'of|0.61247504', 'космический|0.6116849', 'пт|0.6116266', 'restaurant|0.61128235', 'ого|0.61000216', 'доллар|0.6086243', 'блюз|0.6070895', 'бум|0.6054561', 'приблизительно|0.6031744', 'no|0.6018329', 'пятьдесят|0.6008649', 'my|0.5986622', 'бурный|0.598429', 'выключать|0.59842515', 'парный|0.59837', 'this|0.59645474', 'девять|0.59623134', 'луна|0.59579015', 'were|0.59548986', 'мировой|0.59497285', 'гопник|0.592556', 'бальный|0.59221196', 'negativa|0.5907248', 'ролик|0.5898491', 'градус|0.5893098', 'рок|0.58821917', 'ру|0.587204', 'фанера|0.5871415', 'you|0.58664244', 'школьник|0.58659524', 'возраст|0.5859177', 'заполняемость|0.585773', 'ка|0.5855869', 'in|0.5850668', 'very|0.5848786', 'басс|0.5845177', 'справедливо|0.58434784', 'сб|0.58351946', 'ти|0.582677', 'it|0.5822903', 'удар|0.5822345', 'поколение|0.5810376', 'wa|0.5802642', 'ву|0.58015496', 'ограничение|0.5793854', 'именной|0.578786', 'зарубежный|0.57795995', 'бранч|0.5772289', 'потянуть|0.57718205', 'отстой|0.5754882', 'харизма|0.5753753', 'шато|0.57483363', 'ть|0.57457745', 'шансон|0.5743883', 'best|0.574159', 'диск|0.57406354', 'икс|0.5736108', 'балет|0.5728312', 'бабка|0.57194704', 'подпевать|0.5714255', 'all|0.57132244', 'place|0.57038796', 'преимущественно|0.57012826', 'терпимый|0.5694795', 'монета|0.5690166', 'кукарача|0.56881833', 'резкий|0.5687498', 'подорожать|0.5670013', 'че|0.5669465', 'опера|0.5669239', 'пать|0.5666654', 'that|0.5660976', 'гопот|0.5650418', 'народный|0.5649993', 'we|0.5638544', 'максимальный|0.56377125', 'and|0.56325215', 'увеличивать|0.561668', 'транслироваться|0.56095445', 'основательно|0.5609236', 'rr|0.560701', 'заявка|0.5603707', 'мёртвый|0.5602287']\n",
            "Aspect 1:\n",
            "['рот|0.6204907', 'масло|0.60628915', 'солёный|0.6039996', 'нарезать|0.5953523', 'кусочек|0.58753073', 'хрустеть|0.5853865', 'корочка|0.5821386', 'булка|0.57888055', 'заморозка|0.5705615', 'пережарить|0.5698823', 'выращивать|0.56694055', 'посыпать|0.5561762', 'зелень|0.5554482', 'помидорка|0.5548806', 'жёсткий|0.5539218', 'лука|0.55364525', 'капуста|0.5533265', 'специя|0.55087894', 'разрезать|0.54976165', 'ломтик|0.54878366', 'кусок|0.54742026', 'жир|0.54732394', 'чеснок|0.54557806', 'перчик|0.54510105', 'уксус|0.54479516', 'тонкий|0.54446685', 'сырой|0.5443993', 'лаваш|0.54386103', 'орешек|0.5438014', 'майонез|0.541842', 'пармезан|0.5413291', 'варёный|0.5411076', 'булочка|0.5404515', 'слайс|0.54013425', 'соль|0.5393966', 'разогреть|0.5380997', 'каперс|0.5360217', 'фарш|0.53525156', 'сверху|0.5348619', 'кубик|0.53478634', 'порезать|0.5338073', 'огурец|0.5337543', 'яйцо|0.5323569', 'помидор|0.531873', 'травка|0.5316809', 'мариновать|0.5307742', 'трава|0.52892333', 'свежесть|0.52762276', 'тест|0.5271212', 'сковородка|0.52629584', 'хрен|0.52581114', 'лепёшка|0.52510357', 'песто|0.52482283', 'жарить|0.5243279', 'сковорода|0.52190244', 'огурчик|0.52077943', 'лук|0.5205982', 'рыбка|0.5195735', 'микроволновка|0.51899785', 'картошка|0.5189747', 'плавать|0.5189111', 'сметана|0.51760966', 'плошка|0.51748', 'горчица|0.51726866', 'палтус|0.51685965', 'переварить|0.5161827', 'пожарить|0.5161757', 'толстой|0.5161419', 'бекон|0.51606905', 'фокачча|0.51538754', 'морковь|0.5149356', 'протухший|0.51424783', 'лежалый|0.5141901', 'чипсы|0.5131286', 'горка|0.5122497', 'курочка|0.5119045', 'мелко|0.51135224', 'фольга|0.51044106', 'сухой|0.5102287', 'выковыривать|0.5101633', 'нарезка|0.5095594', 'завернуть|0.5091098', 'грудинка|0.5090669', 'горшочек|0.5090296', 'петрушка|0.5089909', 'каша|0.50881845', 'жидкий|0.50870043', 'свининка|0.5073449', 'слой|0.5063622', 'соломка|0.50608844', 'залить|0.50606453', 'полить|0.5056737', 'блин|0.5048472', 'спаржа|0.5047791', 'бульон|0.5045679', 'кус|0.50402045', 'обжарить|0.50378716', 'безвкусный|0.503697', 'картошечка|0.50277716', 'косточка|0.5022426']\n",
            "Aspect 2:\n",
            "['сладость|0.7237307', 'пирожное|0.697001', 'миндальный|0.6900283', 'мусса|0.68885607', 'брюла|0.6858947', 'бисквит|0.68503976', 'панакот|0.68148255', 'шоколад|0.68036294', 'крем|0.6784662', 'банановый|0.6779408', 'печение|0.67768025', 'суфле|0.66604984', 'карамельный|0.66597116', 'развалина|0.66592884', 'мильфея|0.6652174', 'малин|0.6634021', 'маракуйя|0.66212666', 'карамель|0.6617824', 'захер|0.6580576', 'шоколадный|0.65711725', 'манговый|0.6509584', 'трюфель|0.65009034', 'графский|0.6486707', 'грушевый|0.64853907', 'сорбетом|0.64809275', 'взбить|0.64763314', 'шарик|0.64717865', 'марципановый|0.64682525', 'ванильный|0.64666486', 'капуччиный|0.64655685', 'безе|0.6457075', 'изюм|0.64537084', 'ягода|0.64523506', 'какао|0.6446951', 'корица|0.6415056', 'творог|0.64121747', 'мятый|0.64083815', 'кекс|0.6399427', 'фисташковый|0.63977224', 'клубника|0.63919836', 'печенюшка|0.6387124', 'морковный|0.63790226', 'персиковый|0.6377125', 'сорбета|0.6372783', 'песочный|0.6368207', 'меренга|0.636309', 'чизкейк|0.63587344', 'фондать|0.6358626', 'ваниль|0.63527185', 'пирожёнка|0.6352111', 'малина|0.63409215', 'лаймовый|0.63395745', 'мятный|0.6338339', 'джема|0.6310607', 'заварной|0.6300585', 'баба|0.62969995', 'эклер|0.6282724', 'чиз|0.6278479', 'сырник|0.62712157', 'кокосовый|0.6267934', 'желе|0.6232551', 'мороженое|0.6228799', 'пудинг|0.62198865', 'творожный|0.6216123', 'вишня|0.62158245', 'лимонный|0.62051153', 'манго|0.6200417', 'медовик|0.61941063', 'ягодный|0.61838067', 'печенек|0.61810726', 'брауни|0.61759526', 'карамелизировать|0.617437', 'сухофрукты|0.61677706', 'чайничек|0.6166351', 'личить|0.61662644', 'сливка|0.6166205', 'сгущёнка|0.6165228', 'тортик|0.61492157', 'шарлотка|0.61411774', 'трубочка|0.61385405', 'креманка|0.61379653', 'яблоко|0.61347604', 'сладкое|0.6129804', 'смородина|0.6125179', 'мусс|0.611351', 'цедра|0.61131346', 'банан|0.608564', 'пенка|0.6073893', 'десертный|0.60733485', 'маскарпон|0.6071907', 'котт|0.6071577', 'орех|0.60655415', 'мороженный|0.6065167', 'цитрусовый|0.6064456', 'ягодка|0.60450864', 'панна|0.60450435', 'шоколадка|0.6043621', 'зелёный|0.6042055', 'мармелад|0.60387987', 'чизкейка|0.6037906']\n",
            "Aspect 3:\n",
            "['бояться|0.78108406', 'простить|0.76572907', 'ум|0.75187206', 'мысль|0.7436913', 'значит|0.7381729', 'господин|0.7157351', 'надоесть|0.70286494', 'пусть|0.6916642', 'слышать|0.6909234', 'понять|0.6899191', 'поверить|0.68485415', 'срочно|0.68308055', 'обидеть|0.68156993', 'признаться|0.68120784', 'знаете|0.6786022', 'право|0.67173046', 'здоровье|0.66536206', 'зря|0.6651656', 'речь|0.6630566', 'признаваться|0.66251194', 'знак|0.6609646', 'слово|0.6589892', 'не_не|0.65595603', 'перестать|0.64995307', 'уверенный|0.64896023', 'иначе|0.648101', 'сила|0.63768387', 'ибо|0.63605005', 'стороной|0.63443565', 'защита|0.62940675', 'постараться|0.62919587', 'скоро|0.6290091', 'жизнь|0.6287599', 'обходить|0.62835085', 'почувствовать|0.6274171', 'наверно|0.62535846', 'верить|0.6242719', 'бог|0.6233359', 'борис|0.62322974', 'вон|0.62202764', 'спорить|0.621668', 'не_знать|0.61983526', 'пора|0.61837405', 'оттуда|0.61622584', 'таракан|0.61562556', 'навсегда|0.6156199', 'передать|0.6150049', 'вечно|0.61446047', 'удалять|0.61395454', 'извинить|0.61263436', 'возможно|0.61247516', 'душить|0.61190766', 'неужели|0.6111851', 'ресторатор|0.61065924', 'лезть|0.61047965', 'категорически|0.61041665', 'призывать|0.60990727', 'говориться|0.609826', 'ругать|0.60862917', 'продолжать|0.6065936', 'мыть|0.60353565', 'земля|0.5966386', 'бороться|0.5962781', 'следовать|0.59566826', 'негатив|0.592408', 'гениальный|0.5919447', 'наплевать|0.59185684', 'автор|0.59128165', 'научить|0.58915144', 'отсюда|0.5886991', 'убить|0.58863735', 'сменить|0.5879084', 'сей_пора|0.58742833', 'ругаться|0.5859852', 'интерес|0.58520436', 'страшно|0.58416486', 'плевать|0.5838244', 'личный|0.5834053', 'высказать|0.5833519', 'звезда|0.5831702', 'твой|0.5819121', 'голова|0.5813552', 'полениться|0.58092105', 'исправить|0.58073914', 'совесть|0.58058834', 'строго|0.5797112', 'довести|0.578455', 'мат|0.57844865', 'человек_который|0.57836723', 'быдло|0.57808673', 'непременно|0.5778475', 'доказывать|0.57781327', 'кома|0.5776273', 'испытать|0.57661617', 'надеяться|0.57473433', 'называть|0.57390344', 'приложить|0.57339907', 'придумать|0.5708229', 'трезвый|0.57023394', 'неловко|0.5700121']\n",
            "Aspect 4:\n",
            "['мальчик|0.80682266', 'девушка|0.8007835', 'девочка|0.7997829', 'молодая_человек|0.7852328', 'улыбаться|0.77304494', 'официантка|0.75316906', 'парень|0.74162495', 'улыбка|0.72320414', 'улыбчивый|0.7009533', 'барышня|0.69815505', 'официант|0.6966214', 'юноша|0.6729286', 'провожать|0.6556823', 'наш_столик|0.6514972', 'звать|0.64812934', 'лицо|0.64589083', 'мила|0.6447016', 'хостёс|0.64250207', 'интересоваться|0.6207726', 'гардеробщик|0.61565226', 'хостесса|0.6156142', 'весь_время|0.61439276', 'пепельница|0.6063267', 'приветливо|0.60397816', 'обслуживать|0.60371053', 'здороваться|0.6031327', 'спрашивать|0.59887356', 'высокомерный|0.59319556', 'любезный|0.59168905', 'вежливый|0.58856237', 'бармен|0.58703715', 'принимать|0.58179504', 'улыбнуться|0.5817045', 'прощаться|0.5777164', 'молоденький|0.571349', 'разговаривать|0.5709795', 'соседний_столик|0.5698737', 'принять_заказ|0.5682281', 'мужчина|0.5669598', 'стойка|0.56210685', 'отвечать|0.5617936', 'встречать|0.5595306', 'женщина|0.5575409', 'администратор|0.5552342', 'постоянно|0.5550065', 'доброжелательно|0.55333', 'забывать|0.5520632', 'внимательно|0.55197096', 'офицант|0.5484685', 'поздороваться|0.5474276', 'молодая|0.54421324', 'успевать|0.5429599', 'молниеносно|0.54285717', 'охранник|0.53593683', 'внешность|0.53231263', 'медленно|0.52768415', 'шустрый|0.5268223', 'бегать|0.52667105', 'подойти|0.5265457', 'появляться|0.5264223', 'милый|0.5245159', 'расторопный|0.52414703', 'голос|0.5202369', 'задержка|0.51953936', 'реагировать|0.5189582', 'стараться|0.5181072', 'кальянщик|0.51787716', 'шутить|0.51518273', 'убирать|0.514599', 'оперативно|0.5132189', 'менять|0.51259816', 'поменять|0.5125462', 'принять|0.5122482', 'обслуживающий|0.5119229', 'неприветливый|0.51137424', 'обслужить|0.50775284', 'дружелюбно|0.5074694', 'общаться|0.5039419', 'смена|0.49744278', 'просьба|0.49685618', 'замечать|0.49674433', 'волос|0.49672562', 'объяснять|0.49649298', 'услышать|0.49173453', 'удалиться|0.49161923', 'объяснить|0.49045634', 'представиться|0.48948014', 'запара|0.4874039', 'подходить|0.48647282', 'одетый|0.4859051', 'пытаться|0.48562986', 'вовремя|0.4847784', 'одежда|0.48353508', 'поинтересоваться|0.48351702', 'уносить|0.4834903', 'суетиться|0.4825729', 'учтивый|0.4778866', 'ответить|0.4764961', 'чётко|0.47525442', 'персонал|0.4749536']\n",
            "Aspect 5:\n",
            "['помещение|0.7401546', 'тесно|0.7299789', 'зона|0.72282064', 'вентиляция|0.72152334', 'душный|0.71734047', 'дым|0.7153607', 'вытяжка|0.701907', 'шумно|0.6972984', 'неуютный|0.6971184', 'диван|0.68917316', 'комната|0.68826246', 'накурить|0.6810251', 'удобно|0.6707397', 'комфортно|0.6695503', 'друг_друг|0.6658514', 'курить|0.6641147', 'дымно|0.66171026', 'пространство|0.6537123', 'мешать|0.6505947', 'воздух|0.6476149', 'диванчик|0.6416284', 'комнатка|0.6388567', 'кабинка|0.6380577', 'просторно|0.63703966', 'кресло|0.6348315', 'экран|0.63289297', 'вокруг|0.6303726', 'близко|0.62992513', 'светло|0.62169266', 'детский_комната|0.62116444', 'зала|0.6174165', 'туалет|0.61536646', 'уголок|0.6136434', 'уединённость|0.6127139', 'аквариум|0.6126951', 'зальчик|0.6087173', 'табачный|0.6046045', 'танцполый|0.6044692', 'второе_этаж|0.60350704', 'сигаретный|0.6003748', 'телевизор|0.5977967', 'шум|0.5975527', 'прохладно|0.5905723', 'просторный|0.5895877', 'камин|0.58933467', 'плазма|0.58887744', 'слышный|0.58790076', 'деление|0.58783245', 'сидеть|0.58604926', 'стул|0.58593965', 'дальний|0.585618', 'балкон|0.58489525', 'веранда|0.5793597', 'дышать|0.57155144', 'курящий|0.5707809', 'потолок|0.56813216', 'удобный|0.5670109', 'барный_стойка|0.5659274', 'зал|0.56559974', 'курильщик|0.56200796', 'неудобный|0.5616536', 'прокурить|0.5611832', 'сцена|0.5611307', 'тв|0.55986935', 'расстояние|0.5579339', 'разделение|0.55685014', 'беседка|0.5566361', 'зеркало|0.5562761', 'окно|0.5554069', 'неудобно|0.55473256', 'свет|0.55446714', 'кондиционер|0.5525875', 'сосед|0.55131716', 'некурящий|0.5512653', 'мебель|0.5510714', 'курение|0.54929113', 'шумный|0.54871094', 'потолочь|0.5486305', 'тесновато|0.54767066', 'расположить|0.5468902', 'народ|0.5445161', 'игрушка|0.5413563', 'футбольный|0.54073834', 'освещение|0.5406524', 'терасс|0.5368012', 'панель|0.53623956', 'прикольный|0.5328232', 'чисто|0.52839905', 'дерево|0.5273061', 'стена|0.52698684', 'внутри|0.5261289', 'тихо|0.5258312', 'напрягать|0.5257834', 'перегородка|0.5254874', 'спокойно|0.5250402', 'уединиться|0.5250046', 'расположиться|0.52458817', 'кругом|0.52158165', 'подвал|0.5197878', 'футбол|0.51927984']\n",
            "Aspect 6:\n",
            "['ценовый|0.7428328', 'ценник|0.73385775', 'категория|0.73062783', 'уровень|0.72536874', 'завысить|0.718114', 'соответствовать|0.7047373', 'крайний_мера|0.7040075', 'выше|0.7014886', 'цена|0.6863982', 'сравнение|0.6854546', 'цена_качество|0.6853515', 'фаста|0.6823391', 'качество|0.678733', 'ниже|0.67046726', 'отличие|0.6617275', 'фуд|0.65610445', 'считать|0.6503899', 'изыск|0.6482705', 'учитывать|0.63736445', 'среднее|0.63479996', 'забегаловка|0.6242318', 'недостаток|0.6226968', 'средний|0.61795753', 'демократичный|0.61725616', 'политика|0.60918367', 'адекватный|0.6088643', 'оценивать|0.60697615', 'многий|0.60584927', 'сетевой|0.60579324', 'японский|0.60495687', 'отличаться|0.6039735', 'формат|0.6029173', 'оценка|0.59649587', 'высокий|0.5956837', 'принцип|0.5947759', 'удивлять|0.59141815', 'приемлемый|0.58783543', 'намного|0.5849966', 'гуманный|0.58455545', 'европейский|0.58120906', 'соотношение_цена_качество|0.58034575', 'назвать|0.57882476', 'простой|0.5752233', 'последний_время|0.57360214', 'касаться|0.57097924', 'заведение|0.5697375', 'значительно|0.5665588', 'большинство|0.5636135', 'вполне|0.56293', 'скорее|0.56114006', 'низкий|0.5595368', 'ресторанный|0.5584934', 'гинза|0.5569516', 'взгляд|0.5547013', 'достойный|0.55127245', 'дёшево|0.54941887', 'подобный|0.54854226', 'умеренный|0.545928', 'пожалуй|0.5432298', 'менее|0.5431117', 'согласный|0.5397167', 'разнообразие|0.53827477', 'дорогой|0.5374738', 'посредственный|0.5371935', 'дорого|0.5360075', 'оправдывать|0.5331057', 'весь_остальной|0.5313082', 'претензия|0.5311401', 'например|0.5310514', 'обычный|0.5303524', 'продукт|0.5299285', 'китайский|0.52942973', 'иной|0.5265722', 'однозначно|0.52652895', 'стандартный|0.5256623', 'понятный|0.52486724', 'не_мочь_сказать|0.52391565', 'общепит|0.5229313', 'дешёвый|0.521441', 'стандарт|0.51901704', 'гораздо|0.5180471', 'относительно|0.5162147', 'качественный|0.5162085', 'плохой|0.5159517', 'дороговатый|0.51469845', 'средненький|0.51406956', 'приличный|0.5097662', 'бистро|0.50812435', 'однако|0.5061454', 'крайне|0.5056637', 'претендовать|0.5050009', 'нарекание|0.5019587', 'являться|0.50177', 'худой|0.49818015', 'хромать|0.49464643', 'сервис|0.4938129', 'план|0.49321282', 'исключение|0.49263605', 'главный|0.4923855', 'сеть|0.49233907']\n",
            "Aspect 7:\n",
            "['висок|0.84645003', 'коктейль|0.79417944', 'водка|0.78350544', 'безалкогольный|0.77701116', 'крепкий|0.76034355', 'пить|0.7564936', 'мохитый|0.7544373', 'алкогольный|0.7484434', 'мартини|0.7321239', 'литр|0.7297664', 'выпить|0.7212689', 'пила|0.7174818', 'коньяк|0.7091266', 'крушовица|0.7083651', 'кружка|0.70098996', 'разливный|0.6989192', 'бутылочка|0.6987173', 'морс|0.6960684', 'сорт|0.6957824', 'нефильтрованный|0.6937356', 'пиво|0.6922164', 'вишнёвый|0.692019', 'руль|0.6887549', 'сангрия|0.6735228', 'бутылочный|0.6715177', 'ньюкасл|0.6706414', 'пинта|0.6654936', 'сидр|0.6645812', 'лимонад|0.66162634', 'глинтвейн|0.65583885', 'коктель|0.6536627', 'бланша|0.64859563', 'хугарден|0.6420788', 'лонг|0.6416517', 'закусить|0.6378268', 'бокал|0.63745415', 'эль|0.6332283', 'кальян|0.62630045', 'бокальчик|0.6210846', 'пшеничный|0.62024593', 'квас|0.61874366', 'напиток|0.6183458', 'стаут|0.61622226', 'гиннес|0.6124834', 'распитие|0.6110797', 'игристый|0.60634613', 'пивко|0.60551494', 'айленд|0.60289466', 'сок|0.5971677', 'текила|0.5954359', 'потягивать|0.595269', 'попить|0.594265', 'ликёр|0.5926129', 'василеостровский|0.59201086', 'ром|0.5916842', 'настойка|0.5903272', 'грапп|0.58441913', 'графин|0.5843786', 'эспрессо|0.58417255', 'рюмка|0.58255124', 'вода|0.58132374', 'алкоголь|0.5799963', 'наливать|0.57403034', 'бутылка|0.57329226', 'шампанский|0.570106', 'сироп|0.5684876', 'лёд|0.56806976', 'бельгийский|0.5656284', 'угостить|0.5651329', 'дайкири|0.5645657', 'литровый|0.5638543', 'вино|0.56381774', 'кувшин|0.55962896', 'бесплатный|0.5591793', 'стакан|0.5528418', 'америкать|0.5524956', 'фирменный|0.5514432', 'облепиховый|0.54888046', 'джина|0.54887617', 'каберне|0.5480627', 'кола|0.54722416', 'чай|0.5469693', 'эдельвейс|0.54508287', 'медовуха|0.5448576', 'поллитра|0.53985566', 'производство|0.53827196', 'компот|0.53771544', 'немецкий|0.5375959', 'чашечка|0.5365702', 'пино|0.5333108', 'кофе|0.5328184', 'употреблять|0.527884', 'коктейльный|0.52701294', 'лагер|0.52660435', 'клюквенный|0.5259183', '100р|0.52556825', 'килкенни|0.5250308', 'вельвет|0.5249957', 'разбавить|0.52231085', 'лимончелло|0.52204216']\n",
            "Aspect 8:\n",
            "['организация|0.81297714', 'организовать|0.78991675', 'тамада|0.78799516', 'подготовка|0.7608799', 'свадебный|0.75382304', 'торжество|0.74681723', 'благодарность|0.74310875', 'ольга|0.7373877', 'мероприятие|0.73306537', 'праздник|0.7263254', 'огромный_спасибо|0.72058916', 'организатор|0.71749383', 'весь_гость|0.71432376', 'майкл|0.71015465', 'молодожён|0.7096273', 'пожелание|0.70583117', 'весь_наш|0.69887304', 'ирина|0.6986809', 'банкет|0.6983361', 'директор|0.6956574', 'ведущий|0.6897125', 'большой_спасибо|0.68491185', 'подарок|0.6844562', 'невеста|0.6792604', 'команда|0.6714418', 'наталья|0.67135394', 'евгений|0.6694732', 'владимир|0.6688546', 'отдельный_спасибо|0.6683204', 'фуршет|0.66609955', 'елена|0.6659963', 'банкетный|0.663677', 'коллектив|0.6599834', 'профессионализм|0.6599221', 'учесть|0.65343857', 'сотрудник|0.6529292', 'сергей|0.65257376', 'свадьба|0.65167964', 'александр|0.6497479', 'профессионал|0.6488997', 'номер|0.648505', 'татьяна|0.6422764', 'уважение|0.64084625', 'марин|0.64032644', 'проведение|0.6391566', 'выражать|0.63532305', 'станислав|0.6310804', 'алексей|0.6258161', 'управлять|0.62252516', 'анастасий|0.6187099', 'наш_свадьба|0.6137141', 'банкетный_зал|0.61245537', 'участие|0.6124524', 'благодаря|0.6092664', 'каравай|0.6082193', 'менеджер|0.6081767', 'благодарить|0.6071594', 'честь|0.6069834', 'дмитрий|0.6054888', 'поблагодарить|0.59811807', 'программа|0.5957992', 'поклон|0.5953883', 'бельканто|0.5943656', 'новый_год|0.5922392', 'бравый|0.58624023', 'договор|0.58562464', 'весь_наш_пожелание|0.5842395', 'шоу|0.5840634', 'помощь|0.58245784', 'андрей|0.5789384', 'подарить|0.5771163', 'фотограф|0.57491374', 'родитель|0.5726681', 'признательность|0.57180536', 'профессиональный|0.57075787', 'кондитер|0.57053995', 'совет|0.57051057', 'виктор|0.56828344', 'юбилей|0.5682517', 'чуткий|0.5672488', 'жених|0.5664341', 'шеф_повар|0.56613606', 'торт|0.5650537', 'регистрация|0.5622153', 'жанна|0.5620413', 'услуга|0.5612078', 'администрация|0.5590748', 'событие|0.5571886', 'юлий|0.5570796', 'артист|0.55682254', 'конкурс|0.55675095', 'дмитрия|0.5562872', 'мастер|0.55619985', 'поздравление|0.5561662', 'гость|0.5560272', 'марина|0.55319333', 'благодарный|0.5509685', 'юлия|0.54623437', 'кейтеринг|0.54623055', 'галина|0.5456929']\n",
            "Aspect 9:\n",
            "['заехать|0.75460577', 'сегодня|0.7489576', 'пообедать|0.7465893', 'вчера|0.7242739', 'поехать|0.7060099', 'поужинать|0.69660306', 'пр|0.6936011', 'прогулка|0.68688697', 'обедать|0.68686426', 'воскресение|0.6808847', 'однокурсник|0.67493', 'забежать|0.6663283', 'недавно|0.6623912', 'московский|0.6610349', 'перекусить|0.6604259', 'случайно|0.65950644', 'заезжать|0.6505343', 'ездить|0.6471363', 'ехать|0.6413255', 'подружка|0.6399996', 'днём|0.6321595', 'гулять|0.63152003', 'ужинать|0.6311351', 'невский|0.63018167', 'заслать|0.6299077', 'офис|0.62958103', 'ул|0.62820613', 'отправиться|0.626235', 'петроградка|0.61892045', 'это_кафе|0.6133368', 'район|0.61096996', 'недалеко|0.60294664', 'побывать|0.5972419', 'заглянуть|0.5969471', 'открыться|0.5953125', 'жить|0.59264433', 'приезжать|0.5924762', 'жена|0.5906939', 'заскочить|0.5874324', 'выходной|0.58592105', 'воскресный|0.5851074', 'забегать|0.5837496', 'завтрак|0.5832044', 'дом|0.5812011', 'проезжать|0.5802963', 'поход|0.5772908', 'приморский|0.57719517', 'суббота|0.5749256', 'москва|0.57177335', 'восстание|0.5683357', 'мама|0.56526846', 'год_назад|0.5650127', 'перерыв|0.563657', 'проспект|0.56250125', 'добраться|0.55965877', 'посетить|0.55916053', 'январь|0.5587863', 'обед|0.55670506', 'ноябрь|0.5564522', 'приехать|0.55550134', 'март|0.554399', 'утро|0.5522641', 'месяц|0.5519288', 'вечером|0.5517465', 'дочка|0.5516656', 'захаживать|0.55086607', 'коллега|0.5494968', 'встретиться|0.54906505', 'ходьба|0.54904664', 'прогуливаться|0.5488982', 'неделя|0.54737693', 'парка|0.5472936', 'семья|0.54672813', 'май|0.5464403', 'питер|0.5463474', 'евразия|0.5462153', 'однажды|0.54465914', 'остров|0.54455066', 'заходить|0.5438733', 'покушать|0.54362965', 'февраль|0.542575', 'четверг|0.54170203', 'забрести|0.5399413', 'давно|0.5391569', 'частенько|0.538432', 'очередной|0.5378174', 'поздно|0.5367513', 'летом|0.5338451', 'лето|0.5327104', 'полгода|0.52802384', 'отмечать_день_рождение|0.5279979', 'среда|0.5264892', 'сходить|0.525484', 'завтракать|0.5244576', 'назад|0.5229617', 'рубинштейн|0.51974165', 'осень|0.51654136', 'целенаправленно|0.5157691', 'бизнес_ланч|0.51490873', 'утром|0.51289374']\n",
            "Aspect 10:\n",
            "['полка|0.7115617', 'старое|0.6972842', 'старинный|0.69563663', 'стен|0.6898215', 'журнал|0.6742909', 'ля|0.6737198', 'стена|0.67333806', 'лампа|0.6716637', 'предмет|0.67081165', 'золотой|0.6647954', 'рамка|0.6608192', 'картина|0.6603501', 'стеклянный|0.6574456', 'черно|0.65587497', 'кирпичный|0.65220606', 'фотография|0.64990866', 'белые|0.64880836', 'деталь|0.6475524', 'синий|0.645022', 'газета|0.6420573', 'крыша|0.6413486', 'множество|0.6399717', 'подоконник|0.6341543', 'элемент|0.6320322', 'внутренний|0.6308322', 'люстра|0.6307535', 'дерево|0.6260897', 'белоснежный|0.6250417', 'винный|0.6249447', 'плазменный|0.62309253', 'кирпич|0.62210894', 'потолок|0.61915934', 'буфет|0.6191521', 'атрибутика|0.6183061', 'убранство|0.6177554', 'тон|0.617738', 'штора|0.61689675', 'плитка|0.616084', 'прованс|0.6142963', 'кровать|0.6126872', 'светящийся|0.6107993', 'солнце|0.60957354', 'серый|0.6094996', 'доска|0.6081079', 'стекло|0.6078974', 'фильм|0.6070273', 'обилие|0.606926', 'панель|0.6067318', 'свет|0.6062325', 'полочка|0.60587066', 'стеллаж|0.60378635', 'прочий|0.6025609', 'искусственный|0.6021709', 'современный|0.60134554', 'декор|0.60122806', 'светильник|0.6005443', 'мебель|0.60029066', 'подсвечник|0.6001215', 'ширма|0.59617245', 'клетка|0.596157', 'открываться|0.59614503', 'абажур|0.5950974', 'вдоль|0.5946864', 'пол|0.5946597', 'кладка|0.5937575', 'подсветка|0.59282124', 'массивный|0.5906589', 'блестящий|0.5906141', 'южный|0.58978236', 'краска|0.5895269', 'зеркало|0.58933973', 'огонь|0.58924294', 'кожаный|0.5887517', 'небо|0.5864507', 'библиотека|0.5861412', 'гамма|0.58549404', 'направление|0.58499545', 'свод|0.58467305', 'обивка|0.5844728', 'цветовой|0.58372086', 'шарм|0.5830654', 'взор|0.5823017', 'угол|0.5814663', 'полый|0.5814248', 'обои|0.5802892', 'цветочек|0.5797098', 'занавеска|0.579281', 'любоваться|0.57871056', 'ткань|0.57851523', 'цветок|0.57821137', 'солнечный|0.57711023', 'роспись|0.57634723', 'комод|0.57439536', 'открытый|0.5724799', 'резной|0.5716509', 'шкаф|0.5715871', 'широкий|0.568065', 'полумрак|0.56771684', 'красота|0.56697285', 'деревянный|0.56655705']\n",
            "Aspect 11:\n",
            "['тёплый|0.6780435', 'ненавязчивый|0.66341996', 'очень_приятный|0.6301707', 'приятный|0.62501943', 'особенный|0.6217072', 'очень_порадовать|0.62094826', 'очень_понравиться|0.6189554', 'навязчивый|0.6112667', 'общий_впечатление|0.6101891', 'прекрасно|0.60819566', 'запомниться|0.6080055', 'душевный|0.59335893', 'вкусный_еда|0.59238756', 'очень_хороший|0.5900971', 'остаться_очень_довольный|0.58822364', 'ммммм|0.5857356', 'располагать|0.5844569', 'весь_очень_вкусно|0.5797151', 'целое|0.5748514', 'весь_очень|0.5742993', 'порадовать|0.5739308', 'понравиться_весь|0.5709919', 'великолепно|0.57051134', 'душевно|0.56732625', 'восхитительный|0.5663106', 'весь_очень_понравиться|0.5658549', 'атмосфера|0.56260514', 'пролететь|0.55881363', 'довольный|0.5583944', 'чудесно|0.5575001', 'особый|0.5559109', 'оч|0.5558422', 'выше_весь_похвала|0.55457056', 'прийти_ещё|0.55249405', 'обстановка|0.5497601', 'очень_очень_долго|0.5492562', 'замечательный|0.5491719', 'великолепный|0.54897577', 'расслаблять|0.5478356', 'нарекание|0.5462961', 'подкачать|0.5462332', 'отлично|0.54354405', 'идеально|0.54210126', 'безумно|0.54180235', 'весь_понравиться|0.5412682', 'остаться_довольный|0.54091257', 'живот|0.5403942', 'предупредительный|0.5391364', 'восторг|0.53905725', 'домашний|0.53878427', 'незаметно|0.5367152', 'очень_понравиться_весь|0.53642756', 'сытый|0.5361589', 'изумительный|0.5344038', 'волшебный|0.5334188', 'достойно|0.530993', 'мера|0.53080237', 'неспешный|0.53012615', 'потрясающе|0.5298487', 'остаться_очень_приятный|0.52752936', 'превосходный|0.52683353', 'обстановочка|0.5267202', 'позитивный|0.5250821', 'хор|0.5238992', 'внимательный|0.5217242', 'особенно|0.51976085', 'спокойный|0.518456', 'очень_вкусно|0.5143766', 'насладиться|0.51381564', 'очень_вкусный|0.5123714', 'немного|0.5091065', 'ооочень_вкусный|0.50734794', 'зы|0.5038953', 'чудесный|0.50346047', 'прекрасный|0.49973303', 'непринуждённый|0.49810886', 'безупречный|0.4976368', 'доброжелательный|0.49629268', 'высокий_уровень|0.49487984', 'уютный|0.494709', 'наслаждаться|0.49451044', 'приём|0.49368185', 'приятно|0.4921149', 'качественно|0.49118793', 'весь_очень_вкусный|0.489738', 'праздничный|0.4896894', 'зажигательный|0.48941284', 'расслабить|0.48913056', 'порция_большой|0.48876485', 'фоновый|0.48848507', 'высота|0.48780292', 'очень_очень|0.48703396', 'душа|0.48645046', 'царить|0.48468795', 'лёгкий|0.48452273', 'очень_вкусный_еда|0.48439902', 'общий|0.48424035', 'обязательно_прийти_ещё|0.48317674', 'изыскать|0.48299098', 'быстрый|0.48254085']\n",
            "Aspect 12:\n",
            "['полтора|0.7770566', 'половина|0.7451236', '15_минута|0.72877437', 'ровно|0.71953785', 'минимум|0.7135229', 'дождаться|0.71166617', '20_минута|0.7084693', 'примерно|0.70643586', 'соответственно|0.7029252', 'заполнить|0.6944377', 'выясниться|0.690774', 'оплатить|0.6902734', 'час|0.6867807', 'максимум|0.6796602', 'это_время|0.67924595', 'прийтись|0.67679083', 'полчаса|0.6744481', 'простоять|0.67385656', 'десять|0.67343354', 'вынести|0.66777575', 'оговорить|0.6659293', 'отдать|0.66589177', 'расчёт|0.66406906', 'прождать|0.66379756', 'просидеть|0.66154766', '10_минута|0.6612532', 'результат|0.66115594', 'естественно|0.6591976', 'напоминание|0.6570267', 'мина|0.6528009', 'пять|0.6514862', 'забрать|0.6482492', 'демонстративно|0.64530146', 'дозаказать|0.64083654', 'заплатить|0.64040005', 'вернуть|0.64020836', 'унести|0.63959163', 'сумма|0.6374482', 'бокс|0.63690186', 'закрытие|0.63688225', 'остаток|0.6364567', 'оплата|0.63221824', 'спустя|0.6319506', 'пообещать|0.6301005', 'перемена|0.62970114', 'течение|0.6258311', 'внести|0.62577736', 'предупреждать|0.62515676', 'убрать|0.623822', 'рассчитать|0.62296295', '1_5_час|0.6225643', 'коробка|0.6221189', 'привезти|0.61982673', 'подождать|0.61763555', 'курс|0.61500263', 'четверо|0.6145617', 'сделать_заказ|0.61389846', 'предупредить|0.61148155', 'уйти|0.61001', 'указать|0.6081386', 'обещать|0.6015382', 'итог|0.59948754', 'посчитать|0.59941775', 'предоплата|0.59862435', 'двадцать|0.5975178', 'уложиться|0.59722686', 'затем|0.5964918', 'отказываться|0.5962031', 'попросить|0.5945367', 'успеть|0.59224564', 'закончиться|0.59162676', 'получас|0.5899788', 'счёт|0.5881891', 'приход|0.58649164', 'депозит|0.5827972', 'вынос|0.58217907', 'попытка|0.5820954', 'поменять|0.5819559', 'входить|0.58156514', 'оплачивать|0.5803793', 'четыре|0.57951903', 'просить|0.5790026', 'сдача|0.5787847', 'пятнадцать|0.5784732', 'очень_долго|0.5769116', 'около|0.5767719', 'ожидание|0.5757493', 'пропасть|0.5740573', 'процент|0.5739973', 'контейнер|0.5715958', 'обнаружить|0.57149565', 'заставить|0.5711305', 'персона|0.5710678', 'дополнительно|0.56949735', 'полупустой|0.56930697', 'сложность|0.56921744', 'отказаться|0.5684588', 'расплатиться|0.568192', 'факт|0.56810683', 'третье|0.56714517']\n",
            "Aspect 13:\n",
            "['гриль|0.67007506', 'рыба|0.6647302', 'салат_цезарь|0.64732206', 'греческий|0.63510484', 'мясной|0.6305886', 'стейка|0.610926', 'рыбный|0.6085019', 'говядина|0.60324776', 'дорад|0.60063726', 'выбрать|0.60004056', 'свинина|0.59920686', 'баклажан|0.59437', 'овощ|0.5920016', 'цезарь|0.59077686', 'стейк|0.5891689', 'морепродукт|0.5769752', 'дораду|0.5763029', 'шашлык|0.5720814', 'карпаччо|0.57103515', 'курица|0.5697842', 'рибай|0.56930184', 'плов|0.56824994', 'оливья|0.56682307', 'салатик|0.56222105', 'шашлычок|0.55926776', 'мангал|0.55902815', 'креветка|0.55665964', 'пекински|0.5527198', 'осетрина|0.5490401', 'узбекский|0.54697424', 'свинин|0.5469508', 'стейковы|0.54635125', 'форель|0.54489875', 'вок|0.54121447', 'приготовить|0.5356959', 'закуска|0.5354922', 'цыплёнок|0.5328597', 'телятина|0.5320847', 'коптить|0.5320059', 'ассорти|0.5310166', 'стэйк|0.5283415', 'мидия|0.5250482', 'долму|0.522511', 'салат|0.52237827', 'свинный|0.519089', 'лосось|0.5190566', 'свиной|0.5186823', 'заказывать|0.5170243', 'куриный|0.5156921', 'судак|0.51175505', 'рёбрышко|0.5085008', 'мраморный|0.50539124', 'колбаска|0.50216866', 'состав|0.50204396', 'кисло_сладкое_соус|0.5002605', 'барашек|0.49927348', 'кебаб|0.49925247', 'запечёный|0.49889925', 'лазание|0.4959564', 'вока|0.49584094', 'рулька|0.49555784', 'муж|0.49484313', 'тигровый|0.49313045', 'крылышко|0.4908211', 'посоветовать|0.49082053', 'экспериментировать|0.4907038', 'раздел|0.48906016', 'выбор|0.4883655', 'фахитос|0.48739934', 'острый|0.48687145', 'миньон|0.48677242', 'каре|0.48525196', 'жульен|0.4850051', 'заказать|0.4843319', 'солянка|0.48390472', 'остановиться|0.48340356', 'бифстроганов|0.48276162', 'отговорить|0.4827519', 'ягнёнок|0.48257327', 'горячее_блюдо|0.4810092', 'пасть|0.48100594', 'запечь|0.4808621', 'выбирать|0.4806882', 'уха|0.48003715', 'казан|0.4795688', 'тапас|0.47760215', 'филе|0.47726235', 'баранина|0.47580633', 'помнить|0.47564974', 'бефстроганов|0.47472826', 'ушко|0.47272632', 'медальон|0.47260314', 'сацивить|0.4724288', 'предпочитать|0.47239876', 'стерлядь|0.46990153', 'жареный|0.46908444', 'тайский|0.46891037', 'харчо|0.46840096', 'мясо|0.46662658', 'вегетарианский|0.46533436']\n",
            "2019-12-24 21:10:08,383 INFO Epoch 6, train: 5s\n",
            "2019-12-24 21:10:08,383 INFO Total loss: 3.8636, max_margin_loss: 3.7550, ortho_reg: 0.1086\n",
            "100% 594/594 [00:05<00:00, 101.01it/s]\n",
            "Aspect 0:\n",
            "['попёс|0.66583157', 'ливерпуль|0.6456547', 'прибавить|0.63938296', 'студентка|0.62198645', 'хх|0.6202652', 'немолодой|0.61998427', 'food|0.6161593', 'ых|0.6156535', 'good|0.61544967', 'полуночь|0.60627234', 'прайс|0.60618293', 'па|0.604736', 'of|0.60452944', 'двенадцать|0.6039959', 'service|0.60223055', 'ого|0.6021822', 'restaurant|0.60202736', 'этак|0.6017058', 'тридцать|0.6008526', 'доллар|0.5977143', 'космический|0.5964374', 'фраер|0.5960815', 'блюз|0.5923134', 'пт|0.59209484', 'приблизительно|0.58993393', 'no|0.58902943', 'were|0.5879714', 'my|0.5877596', 'пятьдесят|0.5874342', 'градус|0.58634305', 'девять|0.5848522', 'this|0.58448046', 'выключать|0.5843842', 'бум|0.5834234', 'парный|0.5828095', 'бурный|0.5825176', 'мировой|0.58124006', 'in|0.5799775', 'бальный|0.5798438', 'ка|0.5772531', 'ролик|0.57705206', 'very|0.5770256', 'ти|0.576579', 'negativa|0.5764312', 'it|0.5762708', 'wa|0.57608736', 'луна|0.57592016', 'рок|0.5746536', 'you|0.5746054', 'заполняемость|0.5727697', 'возраст|0.5725075', 'ру|0.5719514', 'гопник|0.57100284', 'best|0.5705744', 'удар|0.57027435', 'справедливо|0.56862175', 'фанера|0.5669986', 'потянуть|0.56692064', 'сб|0.5668949', 'школьник|0.56530994', 'бранч|0.5645937', 'басс|0.5634839', 'ограничение|0.56255674', 'именной|0.56245995', 'шансон|0.5614845', 'ву|0.5606264', 'all|0.56020296', 'отстой|0.5601557', 'диск|0.5596763', 'and|0.55945253', 'we|0.55938065', 'that|0.5584532', 'ть|0.55825573', 'поколение|0.55817294', 'подпевать|0.5561339', 'резкий|0.55611473', 'шато|0.5556682', 'place|0.5556189', 'икс|0.5554524', 'опера|0.55542815', 'монета|0.5545604', 'зарубежный|0.5543245', 'подорожать|0.5532534', 'харизма|0.55297077', 'бабка|0.5529542', 'че|0.55278647', 'балет|0.55241895', 'терпимый|0.5518517', 'основательно|0.55144984', 'народный|0.55120206', 'увеличивать|0.5499495', 'пать|0.5481335', 'мёртвый|0.547427', 'преимущественно|0.5470415', 'кукарача|0.5464514', 'rr|0.5450883', 'стайла|0.5447658', 'максимальный|0.5445617', 'гопот|0.5444012', 'евро|0.5436108']\n",
            "Aspect 1:\n",
            "['рот|0.62385964', 'масло|0.60689116', 'солёный|0.60325885', 'нарезать|0.5956063', 'кусочек|0.5892189', 'хрустеть|0.5858865', 'булка|0.5806071', 'корочка|0.57979226', 'заморозка|0.57261634', 'пережарить|0.5694414', 'выращивать|0.56514823', 'посыпать|0.5567913', 'капуста|0.554689', 'лаваш|0.5546565', 'зелень|0.5541691', 'помидорка|0.5540018', 'ломтик|0.5531041', 'специя|0.55036426', 'лука|0.5493187', 'кусок|0.5491777', 'булочка|0.5490967', 'перчик|0.5489262', 'разрезать|0.5480115', 'чеснок|0.54632914', 'жёсткий|0.5461728', 'жир|0.54493344', 'орешек|0.5446426', 'сырой|0.54394716', 'тонкий|0.5436163', 'пармезан|0.5432942', 'уксус|0.5429512', 'варёный|0.53983635', 'слайс|0.538971', 'фарш|0.5386126', 'майонез|0.5368008', 'лепёшка|0.5364265', 'разогреть|0.53617525', 'каперс|0.5354026', 'травка|0.5347084', 'хрен|0.5343808', 'мариновать|0.53420097', 'порезать|0.5335735', 'соль|0.5327505', 'сковородка|0.5327353', 'яйцо|0.53265864', 'огурец|0.5323656', 'кубик|0.53205746', 'тест|0.53085864', 'сверху|0.5302546', 'трава|0.52953625', 'сковорода|0.52863157', 'помидор|0.5283725', 'фокачча|0.5279913', 'жарить|0.5275839', 'огурчик|0.5270016', 'песто|0.5264101', 'картошка|0.5262008', 'сметана|0.5251241', 'рыбка|0.5250555', 'чипсы|0.52502066', 'лук|0.5235772', 'свежесть|0.5232513', 'палтус|0.52299577', 'бекон|0.5208267', 'плошка|0.52055806', 'переварить|0.5194736', 'фольга|0.51928294', 'пожарить|0.5192662', 'горчица|0.51872003', 'микроволновка|0.51722014', 'протухший|0.5161594', 'толстой|0.5156802', 'горшочек|0.5154859', 'завернуть|0.5150208', 'морковь|0.5145209', 'нарезка|0.51433694', 'курочка|0.5139257', 'грудинка|0.5137142', 'плавать|0.5132121', 'горка|0.51317745', 'свининка|0.5130696', 'картошечка|0.5129458', 'каша|0.51270247', 'лежалый|0.51264226', 'спаржа|0.5107922', 'соус|0.5099932', 'сухой|0.5091979', 'начинка|0.50918996', 'мелко|0.508742', 'бульон|0.50840765', 'блин|0.5080804', 'слой|0.50765026', 'соломка|0.5075357', 'косточка|0.5071968', 'выковыривать|0.5068925', 'петрушка|0.5058157', 'кус|0.505575', 'кальмар|0.5053328', 'жидкий|0.5038744', 'залить|0.50348115']\n",
            "Aspect 2:\n",
            "['сладость|0.7148461', 'пирожное|0.69195205', 'брюла|0.682106', 'миндальный|0.68041897', 'мусса|0.6802638', 'бисквит|0.67326957', 'крем|0.6727279', 'панакот|0.67232984', 'шоколад|0.6715833', 'банановый|0.6696788', 'печение|0.6658562', 'мильфея|0.65700215', 'карамельный|0.656585', 'суфле|0.6556288', 'малин|0.6541258', 'маракуйя|0.65344405', 'развалина|0.65294623', 'карамель|0.652122', 'захер|0.6503653', 'шоколадный|0.6492876', 'трюфель|0.64223033', 'манговый|0.6415776', 'грушевый|0.64010435', 'капуччиный|0.6388188', 'шарик|0.6381016', 'сорбетом|0.6369068', 'ванильный|0.63678', 'графский|0.63658', 'взбить|0.6360229', 'марципановый|0.6360215', 'ягода|0.6354176', 'творог|0.6334102', 'изюм|0.6326685', 'какао|0.63234186', 'мятый|0.6322605', 'кекс|0.63212144', 'клубника|0.6314765', 'безе|0.6309674', 'корица|0.6306513', 'морковный|0.6303663', 'фисташковый|0.6300256', 'чизкейк|0.6297964', 'печенюшка|0.62824154', 'сорбета|0.62791795', 'персиковый|0.62698025', 'фондать|0.626794', 'ваниль|0.6265911', 'песочный|0.6239569', 'лаймовый|0.623769', 'мятный|0.6234486', 'малина|0.62338567', 'эклер|0.622756', 'меренга|0.6222842', 'пирожёнка|0.62147784', 'джема|0.62065965', 'чиз|0.61986685', 'кокосовый|0.61881566', 'баба|0.61859053', 'заварной|0.61823833', 'сырник|0.617644', 'мороженое|0.6159416', 'вишня|0.6141034', 'манго|0.6131879', 'пудинг|0.6125699', 'чайничек|0.6121077', 'желе|0.6119766', 'творожный|0.61110705', 'лимонный|0.61061025', 'медовик|0.6099181', 'карамелизировать|0.6096178', 'ягодный|0.6092925', 'сгущёнка|0.60797346', 'сливка|0.6075348', 'брауни|0.6074175', 'сухофрукты|0.60700047', 'личить|0.6064413', 'тортик|0.60579616', 'яблоко|0.6052769', 'печенек|0.604591', 'шарлотка|0.60367495', 'сладкое|0.603209', 'зелёный|0.6024069', 'смородина|0.60145146', 'мусс|0.601068', 'трубочка|0.6006378', 'цедра|0.6000203', 'креманка|0.59828925', 'котт|0.5980793', 'цитрусовый|0.5976511', 'пенка|0.59738386', 'орех|0.5971676', 'мармелад|0.59680957', 'банан|0.59633195', 'мороженный|0.5962522', 'маскарпон|0.5956911', 'панна|0.59553313', 'десертный|0.59438866', 'пирог|0.59317243', 'ягодка|0.5928689', 'шоколадка|0.5925354']\n",
            "Aspect 3:\n",
            "['бояться|0.7831644', 'простить|0.77088267', 'ум|0.75215846', 'мысль|0.7429773', 'значит|0.74033874', 'господин|0.7131734', 'надоесть|0.7030778', 'пусть|0.6953649', 'понять|0.69085', 'знаете|0.68952286', 'поверить|0.68693256', 'слышать|0.6834059', 'признаться|0.68071145', 'обидеть|0.68002266', 'срочно|0.67725337', 'право|0.6688695', 'зря|0.6660595', 'слово|0.6637038', 'признаваться|0.6628286', 'здоровье|0.66178405', 'знак|0.65837455', 'не_не|0.6574204', 'речь|0.65704525', 'перестать|0.6527913', 'иначе|0.6489572', 'уверенный|0.6470653', 'почувствовать|0.6371233', 'сила|0.6370379', 'жизнь|0.6318153', 'ибо|0.63026756', 'наверно|0.62799984', 'не_знать|0.62729824', 'стороной|0.6272937', 'защита|0.6272464', 'обходить|0.6258084', 'спорить|0.62560797', 'бог|0.6248629', 'вон|0.6241645', 'верить|0.62192947', 'борис|0.62059927', 'таракан|0.6195793', 'постараться|0.6192888', 'мыть|0.61817247', 'вечно|0.6174208', 'скоро|0.6162336', 'возможно|0.61511886', 'извинить|0.61461496', 'лезть|0.61451185', 'неужели|0.6143356', 'оттуда|0.6140853', 'категорически|0.6134245', 'ругать|0.61310893', 'пора|0.613055', 'говориться|0.6116632', 'передать|0.611562', 'удалять|0.6112064', 'навсегда|0.61086416', 'душить|0.6077201', 'призывать|0.6062', 'ресторатор|0.6050902', 'земля|0.5981513', 'убить|0.5974776', 'продолжать|0.5973617', 'следовать|0.5958996', 'сей_пора|0.5958786', 'бороться|0.593871', 'наплевать|0.5924822', 'страшно|0.5918087', 'довести|0.58852565', 'научить|0.5879166', 'гениальный|0.5875521', 'негатив|0.5862801', 'плевать|0.5858942', 'автор|0.58438396', 'твой|0.5828612', 'сменить|0.58127755', 'отсюда|0.5811919', 'называть|0.5811253', 'голова|0.5809888', 'доказывать|0.5808779', 'совесть|0.5803497', 'звезда|0.57940805', 'кома|0.57930064', 'ругаться|0.57722217', 'понимать|0.577155', 'личный|0.5770356', 'приложить|0.5758793', 'строго|0.5756955', 'исправить|0.5750347', 'испытать|0.57425714', 'интерес|0.5742116', 'полениться|0.573769', 'высказать|0.57309294', 'быдло|0.57291543', 'промолчать|0.57161564', 'мат|0.57049835', 'придумать|0.5699136', 'человек_который|0.5697719', 'грустный|0.56900656', 'трезвый|0.5676774']\n",
            "Aspect 4:\n",
            "['мальчик|0.80265105', 'девушка|0.8010497', 'девочка|0.7920422', 'молодая_человек|0.7839636', 'улыбаться|0.7645221', 'официантка|0.7512132', 'парень|0.7406398', 'улыбка|0.71912', 'барышня|0.6983651', 'улыбчивый|0.69618315', 'официант|0.69016016', 'юноша|0.67048395', 'наш_столик|0.6512908', 'провожать|0.64960194', 'звать|0.6471979', 'лицо|0.6450386', 'хостёс|0.6434674', 'мила|0.64007604', 'гардеробщик|0.6204128', 'хостесса|0.6199641', 'интересоваться|0.6099993', 'весь_время|0.60270905', 'приветливо|0.600386', 'пепельница|0.59838766', 'здороваться|0.5974563', 'спрашивать|0.5957914', 'обслуживать|0.5939131', 'высокомерный|0.59248936', 'бармен|0.58903396', 'любезный|0.5869134', 'принимать|0.5868088', 'улыбнуться|0.58454484', 'вежливый|0.58112746', 'принять_заказ|0.5745249', 'прощаться|0.5688597', 'разговаривать|0.5687086', 'молоденький|0.56702673', 'стойка|0.5666735', 'соседний_столик|0.5661062', 'мужчина|0.5623743', 'отвечать|0.56157714', 'администратор|0.558287', 'женщина|0.5582842', 'встречать|0.5554671', 'поздороваться|0.55104417', 'доброжелательно|0.54430103', 'внимательно|0.5426013', 'охранник|0.5424603', 'забывать|0.5419748', 'постоянно|0.54101324', 'офицант|0.5371237', 'молниеносно|0.5368819', 'молодая|0.53616494', 'успевать|0.5333708', 'подойти|0.53326565', 'внешность|0.53103745', 'голос|0.52244455', 'бегать|0.52237886', 'принять|0.52177006', 'милый|0.5201836', 'шустрый|0.5186845', 'появляться|0.51642215', 'расторопный|0.5163877', 'реагировать|0.5162895', 'медленно|0.5162624', 'кальянщик|0.51526177', 'задержка|0.5141839', 'поменять|0.5126347', 'неприветливый|0.50989735', 'шутить|0.50654584', 'стараться|0.50532025', 'обслуживающий|0.50511825', 'оперативно|0.5047797', 'убирать|0.5030222', 'дружелюбно|0.50187755', 'обслужить|0.5009587', 'просьба|0.49995768', 'менять|0.4994356', 'волос|0.499236', 'удалиться|0.49813324', 'услышать|0.49721998', 'объяснять|0.49714634', 'общаться|0.4968531', 'объяснить|0.49420708', 'представиться|0.49399483', 'смена|0.49101555', 'одежда|0.4905907', 'пытаться|0.48867983', 'поинтересоваться|0.48822778', 'замечать|0.4882176', 'одетый|0.48534256', 'запара|0.483056', 'принести_меню|0.48297414', 'ответить|0.48116988', 'любезно|0.47666872', 'фраза|0.47615844', 'спросить|0.47530073', 'извиниться|0.4743654', 'охрана|0.47408432', 'подходить|0.47378543']\n",
            "Aspect 5:\n",
            "['помещение|0.7311242', 'тесно|0.72966254', 'вентиляция|0.71689856', 'зона|0.71530384', 'дым|0.7129179', 'душный|0.7109932', 'вытяжка|0.6972044', 'неуютный|0.69389117', 'шумно|0.69247836', 'диван|0.68820083', 'комната|0.6822429', 'накурить|0.67927384', 'удобно|0.67221653', 'друг_друг|0.6700138', 'комфортно|0.6685841', 'курить|0.66226023', 'дымно|0.6601357', 'пространство|0.6498864', 'мешать|0.649256', 'воздух|0.6427335', 'диванчик|0.6368188', 'комнатка|0.63533837', 'вокруг|0.6346526', 'кресло|0.6339479', 'просторно|0.63393384', 'кабинка|0.63290113', 'близко|0.6318259', 'экран|0.6280811', 'светло|0.61954284', 'детский_комната|0.61740977', 'туалет|0.61431277', 'аквариум|0.6131015', 'уединённость|0.60976195', 'зала|0.6065787', 'уголок|0.6058116', 'табачный|0.60349953', 'зальчик|0.6019528', 'танцполый|0.60126895', 'сигаретный|0.598468', 'второе_этаж|0.5979315', 'телевизор|0.59326744', 'шум|0.59216654', 'сидеть|0.5904776', 'слышный|0.587323', 'стул|0.58597696', 'плазма|0.58592975', 'камин|0.58519256', 'прохладно|0.5842453', 'просторный|0.5823586', 'дальний|0.58155906', 'деление|0.58047974', 'балкон|0.57899743', 'веранда|0.5723039', 'дышать|0.56997967', 'потолок|0.56847507', 'удобный|0.56550765', 'неудобный|0.56479514', 'барный_стойка|0.5646303', 'неудобно|0.5624171', 'курящий|0.5617654', 'расстояние|0.5582117', 'тв|0.5578063', 'прокурить|0.55622125', 'сцена|0.5555665', 'зеркало|0.55528796', 'курильщик|0.554894', 'зал|0.5545107', 'беседка|0.55391216', 'окно|0.5514457', 'мебель|0.55045897', 'сосед|0.54973644', 'потолочь|0.5497097', 'разделение|0.5489412', 'свет|0.5486189', 'кондиционер|0.54667497', 'расположить|0.5458853', 'курение|0.54505646', 'шумный|0.5447689', 'тесновато|0.54340535', 'некурящий|0.5432824', 'игрушка|0.5412215', 'народ|0.5387961', 'прикольный|0.5378873', 'освещение|0.53585863', 'панель|0.5341772', 'футбольный|0.5338929', 'чисто|0.53319395', 'терасс|0.5305016', 'внутри|0.5282393', 'дерево|0.52813625', 'стена|0.5262393', 'перегородка|0.52502984', 'кругом|0.52179545', 'уединиться|0.5214037', 'спокойно|0.52040637', 'расположиться|0.5195969', 'напрягать|0.5193157', 'тихо|0.5189942', 'подвал|0.51862955', 'темно|0.51859623']\n",
            "Aspect 6:\n",
            "['ценовый|0.74362826', 'ценник|0.73375094', 'категория|0.7304249', 'уровень|0.7242639', 'завысить|0.71683776', 'крайний_мера|0.70405227', 'соответствовать|0.7024381', 'выше|0.69991815', 'цена|0.6870421', 'цена_качество|0.686211', 'сравнение|0.68333405', 'фаста|0.68290675', 'качество|0.67842466', 'ниже|0.6694398', 'отличие|0.66018355', 'фуд|0.65674794', 'изыск|0.6493955', 'считать|0.646577', 'учитывать|0.6354195', 'среднее|0.6326555', 'забегаловка|0.62166333', 'недостаток|0.6209127', 'демократичный|0.6152986', 'средний|0.61329514', 'политика|0.60911536', 'японский|0.6084999', 'адекватный|0.60665345', 'сетевой|0.60636157', 'оценивать|0.60463', 'многий|0.6043001', 'отличаться|0.6024077', 'формат|0.6004012', 'оценка|0.5957263', 'принцип|0.5925883', 'высокий|0.5922521', 'удивлять|0.5908937', 'намного|0.5870602', 'приемлемый|0.58474183', 'гуманный|0.583491', 'европейский|0.58215797', 'соотношение_цена_качество|0.58140576', 'назвать|0.5750318', 'последний_время|0.5743983', 'заведение|0.5740434', 'простой|0.5724977', 'касаться|0.56975955', 'значительно|0.5691762', 'вполне|0.56055886', 'большинство|0.55911255', 'скорее|0.55863845', 'гинза|0.5573953', 'ресторанный|0.55602145', 'низкий|0.5555435', 'взгляд|0.555339', 'дёшево|0.54748464', 'достойный|0.547006', 'умеренный|0.5445414', 'пожалуй|0.5432893', 'подобный|0.54281217', 'разнообразие|0.5413296', 'менее|0.5409182', 'согласный|0.54055727', 'дорогой|0.53411186', 'посредственный|0.5340356', 'оправдывать|0.5335966', 'дорого|0.5329652', 'весь_остальной|0.53071964', 'продукт|0.5304427', 'претензия|0.52967167', 'например|0.5294756', 'китайский|0.52862793', 'однозначно|0.5262645', 'обычный|0.5258464', 'стандартный|0.5250805', 'иной|0.52445465', 'не_мочь_сказать|0.52430165', 'общепит|0.5236758', 'понятный|0.52251244', 'гораздо|0.5203712', 'стандарт|0.5199212', 'дешёвый|0.51634693', 'относительно|0.51590633', 'качественный|0.51481104', 'дороговатый|0.51287645', 'средненький|0.5125091', 'плохой|0.51103413', 'бистро|0.50817776', 'крайне|0.5059401', 'однако|0.5054613', 'приличный|0.5034201', 'нарекание|0.50233436', 'претендовать|0.50181544', 'являться|0.5004183', 'сервис|0.4967078', 'худой|0.49605012', 'сеть|0.49406183', 'гурман|0.49400312', 'исключение|0.4938787', 'план|0.49299258', 'хромать|0.49182704']\n",
            "Aspect 7:\n",
            "['висок|0.8513578', 'коктейль|0.7995335', 'водка|0.7869258', 'безалкогольный|0.784124', 'крепкий|0.7652198', 'пить|0.7609632', 'мохитый|0.76048625', 'алкогольный|0.7561032', 'мартини|0.7363426', 'литр|0.7330888', 'выпить|0.726991', 'пила|0.72468853', 'крушовица|0.7144965', 'коньяк|0.71230537', 'разливный|0.705948', 'кружка|0.7052282', 'бутылочка|0.70099175', 'морс|0.70074725', 'нефильтрованный|0.7005271', 'сорт|0.70046455', 'руль|0.69741404', 'пиво|0.69732', 'вишнёвый|0.697253', 'сангрия|0.6806886', 'бутылочный|0.6796318', 'ньюкасл|0.6760105', 'сидр|0.67041814', 'пинта|0.6695256', 'лимонад|0.6650727', 'коктель|0.66232085', 'глинтвейн|0.6604652', 'бланша|0.6567986', 'хугарден|0.64881766', 'лонг|0.6467043', 'закусить|0.64351374', 'бокал|0.63985646', 'эль|0.63985455', 'кальян|0.6308485', 'бокальчик|0.6301604', 'напиток|0.6255548', 'пшеничный|0.62527347', 'стаут|0.624957', 'квас|0.62263846', 'гиннес|0.61993223', 'распитие|0.61765563', 'пивко|0.6139791', 'игристый|0.61320436', 'айленд|0.6104834', 'текила|0.6035836', 'попить|0.6018683', 'потягивать|0.60015285', 'василеостровский|0.59948385', 'сок|0.5992738', 'ром|0.5980618', 'ликёр|0.59759176', 'настойка|0.5958756', 'грапп|0.59201574', 'графин|0.5893835', 'рюмка|0.5859325', 'эспрессо|0.5855554', 'алкоголь|0.5849372', 'вода|0.5843055', 'наливать|0.57673126', 'бутылка|0.5765112', 'шампанский|0.57545364', 'дайкири|0.57347494', 'угостить|0.57308614', 'бельгийский|0.57300144', 'литровый|0.57103014', 'лёд|0.5695157', 'сироп|0.56864524', 'вино|0.5660859', 'бесплатный|0.56405103', 'кувшин|0.5639043', 'джина|0.55654466', 'америкать|0.5564457', 'облепиховый|0.5556213', 'фирменный|0.5538119', 'стакан|0.55344045', 'каберне|0.55312955', 'медовуха|0.5530268', 'эдельвейс|0.5524912', 'кола|0.55098104', 'чай|0.55047655', 'поллитра|0.5467181', 'производство|0.5452175', 'немецкий|0.5446046', 'компот|0.5424454', 'чашечка|0.5413098', 'пино|0.53805053', 'кофе|0.53765607', 'лагер|0.5354399', 'коктейльный|0.53460455', 'килкенни|0.53416526', 'употреблять|0.5340078', 'вельвет|0.5338034', 'лимончелло|0.5313182', '100р|0.5304108', 'клюквенный|0.5287583', 'закусывать|0.5276517']\n",
            "Aspect 8:\n",
            "['организация|0.81553245', 'организовать|0.79419714', 'тамада|0.7899526', 'подготовка|0.76488376', 'свадебный|0.7573205', 'торжество|0.7509016', 'благодарность|0.74632823', 'ольга|0.7418324', 'мероприятие|0.7373767', 'праздник|0.7276099', 'огромный_спасибо|0.7224165', 'организатор|0.7221118', 'майкл|0.7156405', 'весь_гость|0.7146735', 'молодожён|0.7119919', 'пожелание|0.7073825', 'ирина|0.7030265', 'директор|0.70141304', 'банкет|0.7010164', 'весь_наш|0.70009005', 'ведущий|0.6926873', 'большой_спасибо|0.68699336', 'подарок|0.68620586', 'невеста|0.6832914', 'наталья|0.67679036', 'команда|0.6751931', 'евгений|0.67360413', 'владимир|0.67353874', 'елена|0.67049915', 'фуршет|0.66978747', 'банкетный|0.66953355', 'отдельный_спасибо|0.66928655', 'коллектив|0.66315436', 'профессионализм|0.66188633', 'сотрудник|0.65775967', 'сергей|0.65621924', 'учесть|0.65573657', 'свадьба|0.6549749', 'александр|0.6543184', 'номер|0.6541492', 'профессионал|0.6525402', 'татьяна|0.6467505', 'марин|0.64449394', 'уважение|0.6438831', 'проведение|0.6434908', 'выражать|0.63947815', 'станислав|0.63387704', 'алексей|0.63107497', 'управлять|0.62766343', 'анастасий|0.62340754', 'наш_свадьба|0.6197772', 'банкетный_зал|0.61841875', 'участие|0.61768115', 'честь|0.6137848', 'менеджер|0.6128536', 'благодаря|0.6124586', 'благодарить|0.6109468', 'дмитрий|0.6087543', 'каравай|0.6076277', 'поблагодарить|0.60350966', 'бельканто|0.59908605', 'программа|0.59879196', 'новый_год|0.5965413', 'поклон|0.59640104', 'договор|0.59182644', 'помощь|0.58828497', 'бравый|0.5881134', 'шоу|0.58737934', 'весь_наш_пожелание|0.5870242', 'андрей|0.5826322', 'подарить|0.5804962', 'фотограф|0.5803727', 'родитель|0.5767734', 'признательность|0.57555425', 'совет|0.57438505', 'юбилей|0.5741026', 'профессиональный|0.5723517', 'виктор|0.5707996', 'жених|0.57053137', 'кондитер|0.570055', 'регистрация|0.5681786', 'чуткий|0.5677748', 'услуга|0.5669826', 'жанна|0.56561744', 'администрация|0.56484795', 'шеф_повар|0.5641348', 'событие|0.5627931', 'мастер|0.56139183', 'юлий|0.5611482', 'торт|0.56112826', 'конкурс|0.5604809', 'дмитрия|0.5601931', 'артист|0.5598229', 'поздравление|0.5584485', 'марина|0.55647737', 'благодарный|0.55389315', 'гость|0.55383706', 'галина|0.5514951', 'юлия|0.5507654', 'выездной|0.5507367']\n",
            "Aspect 9:\n",
            "['заехать|0.75655174', 'сегодня|0.7472757', 'пообедать|0.7454176', 'вчера|0.7241919', 'поехать|0.7087556', 'пр|0.6975156', 'поужинать|0.6950635', 'прогулка|0.69073725', 'обедать|0.68471444', 'воскресение|0.68404186', 'однокурсник|0.6781547', 'забежать|0.6664306', 'московский|0.66575503', 'случайно|0.66493297', 'недавно|0.66406584', 'перекусить|0.65999377', 'ездить|0.6483466', 'заезжать|0.6481221', 'ехать|0.6444074', 'подружка|0.63788605', 'невский|0.6349939', 'гулять|0.6349324', 'офис|0.63471216', 'днём|0.6337383', 'ул|0.633373', 'отправиться|0.6312307', 'заслать|0.6306331', 'ужинать|0.62914526', 'петроградка|0.6216432', 'это_кафе|0.61690426', 'район|0.61648566', 'недалеко|0.60641944', 'открыться|0.6002418', 'заглянуть|0.5983732', 'побывать|0.5979363', 'жить|0.5944822', 'приезжать|0.5911356', 'заскочить|0.5889455', 'жена|0.5880506', 'воскресный|0.5867745', 'выходной|0.5860351', 'проезжать|0.58385634', 'завтрак|0.583298', 'дом|0.5829184', 'приморский|0.58262455', 'забегать|0.58079123', 'поход|0.5804525', 'суббота|0.5767206', 'москва|0.5753945', 'восстание|0.57452', 'проспект|0.57003033', 'перерыв|0.5682733', 'год_назад|0.5681995', 'добраться|0.56420004', 'январь|0.56406695', 'мама|0.5633573', 'ноябрь|0.56088316', 'посетить|0.55986786', 'март|0.5577258', 'утро|0.556046', 'приехать|0.55589485', 'месяц|0.55526876', 'встретиться|0.5546828', 'ходьба|0.55413866', 'обед|0.5533401', 'вечером|0.5527323', 'парка|0.5524816', 'прогуливаться|0.55235374', 'дочка|0.5519028', 'остров|0.5516925', 'май|0.55160326', 'коллега|0.5504954', 'захаживать|0.550334', 'евразия|0.5491122', 'семья|0.54792714', 'неделя|0.54765344', 'питер|0.5472034', 'февраль|0.54683936', 'очередной|0.5459023', 'четверг|0.5452039', 'однажды|0.5445711', 'забрести|0.5443813', 'заходить|0.54290557', 'покушать|0.54013366', 'лето|0.5392723', 'поздно|0.53887165', 'давно|0.5361856', 'летом|0.5347498', 'частенько|0.53454185', 'полгода|0.53254324', 'среда|0.53149873', 'отмечать_день_рождение|0.52880216', 'рубинштейн|0.52689403', 'сходить|0.5256872', 'завтракать|0.52559197', 'назад|0.5231529', 'осень|0.521604', 'цель|0.519668', 'целенаправленно|0.51869905', 'путь|0.51868016']\n",
            "Aspect 10:\n",
            "['полка|0.71337926', 'старое|0.6991266', 'старинный|0.69873166', 'стен|0.6919603', 'ля|0.67583895', 'журнал|0.67579037', 'стена|0.6753825', 'лампа|0.6726731', 'предмет|0.67056787', 'золотой|0.6643783', 'картина|0.6643442', 'черно|0.66117877', 'рамка|0.6601309', 'стеклянный|0.65954846', 'белые|0.65750957', 'кирпичный|0.6547687', 'деталь|0.65012646', 'синий|0.6496047', 'фотография|0.64866674', 'газета|0.64171994', 'множество|0.6393499', 'крыша|0.6374668', 'подоконник|0.6374123', 'элемент|0.63624364', 'люстра|0.63507724', 'винный|0.6290742', 'дерево|0.62873864', 'белоснежный|0.62819487', 'внутренний|0.62802327', 'кирпич|0.6259861', 'буфет|0.62464917', 'плазменный|0.6237597', 'атрибутика|0.6212223', 'потолок|0.62116826', 'тон|0.6207347', 'плитка|0.62039745', 'штора|0.6198672', 'прованс|0.6188903', 'убранство|0.6184476', 'серый|0.6169921', 'доска|0.6151768', 'светящийся|0.6125485', 'кровать|0.6123879', 'стекло|0.6103748', 'солнце|0.61025584', 'обилие|0.6101645', 'полочка|0.60884523', 'фильм|0.60849226', 'прочий|0.60758483', 'искусственный|0.60718864', 'панель|0.6065198', 'свет|0.6064737', 'стеллаж|0.6063366', 'декор|0.6057744', 'светильник|0.6052254', 'подсвечник|0.60415816', 'мебель|0.6025621', 'клетка|0.598881', 'современный|0.5983295', 'абажур|0.59784925', 'краска|0.59739363', 'кладка|0.59703493', 'пол|0.59700286', 'массивный|0.5940218', 'вдоль|0.5938876', 'подсветка|0.5937282', 'ширма|0.59194434', 'гамма|0.59045243', 'огонь|0.590392', 'зеркало|0.5902309', 'кожаный|0.59013784', 'цветовой|0.5894309', 'блестящий|0.58927834', 'открываться|0.58829945', 'библиотека|0.58732045', 'свод|0.58731955', 'южный|0.5867129', 'взор|0.5866971', 'направление|0.5865684', 'цветочек|0.5860814', 'обивка|0.5852563', 'ткань|0.5840106', 'шарм|0.5831547', 'небо|0.5830033', 'обои|0.5827749', 'полый|0.5824615', 'цветок|0.5824295', 'занавеска|0.5789522', 'роспись|0.57802236', 'угол|0.5780052', 'комод|0.57741797', 'любоваться|0.57672673', 'резной|0.575084', 'солнечный|0.57506657', 'цвет|0.5716795', 'рисунок|0.57167387', 'шкаф|0.5709719', 'деревянный|0.57097065', 'коричневый|0.57097036', 'голубой|0.5700885']\n",
            "Aspect 11:\n",
            "['тёплый|0.6790719', 'ненавязчивый|0.65624505', 'особенный|0.6166035', 'очень_приятный|0.6157557', 'общий_впечатление|0.611216', 'очень_понравиться|0.60978013', 'приятный|0.6082382', 'очень_порадовать|0.60794204', 'навязчивый|0.60633373', 'запомниться|0.6039198', 'прекрасно|0.60120296', 'ммммм|0.58487296', 'душевный|0.5824503', 'остаться_очень_довольный|0.58092785', 'вкусный_еда|0.58019435', 'очень_хороший|0.5800704', 'весь_очень_вкусно|0.5751884', 'целое|0.5751479', 'располагать|0.57252514', 'великолепно|0.5670135', 'весь_очень|0.56687164', 'понравиться_весь|0.5664525', 'восхитительный|0.5659576', 'душевно|0.5617286', 'порадовать|0.55984265', 'пролететь|0.5595014', 'весь_очень_понравиться|0.5577327', 'довольный|0.55756485', 'оч|0.55607885', 'атмосфера|0.5549541', 'чудесно|0.55384886', 'выше_весь_похвала|0.5504283', 'особый|0.54984474', 'подкачать|0.54808', 'нарекание|0.54673314', 'безумно|0.5460155', 'очень_очень_долго|0.5453813', 'обстановка|0.5434346', 'прийти_ещё|0.54279816', 'восторг|0.5409124', 'идеально|0.54061854', 'расслаблять|0.5406078', 'великолепный|0.5390147', 'замечательный|0.5388321', 'сытый|0.5380585', 'незаметно|0.53645504', 'живот|0.53592134', 'отлично|0.5355447', 'весь_понравиться|0.5352527', 'остаться_довольный|0.5328127', 'мера|0.5327934', 'волшебный|0.5325537', 'домашний|0.5324191', 'очень_понравиться_весь|0.53212345', 'предупредительный|0.53176093', 'потрясающе|0.52998924', 'изумительный|0.5266806', 'достойно|0.5248783', 'неспешный|0.52459145', 'хор|0.5237551', 'превосходный|0.5219101', 'остаться_очень_приятный|0.52152216', 'обстановочка|0.518659', 'позитивный|0.5158019', 'особенно|0.51383895', 'внимательный|0.51343906', 'очень_вкусно|0.51342654', 'немного|0.51200336', 'насладиться|0.5095802', 'очень_вкусный|0.5094234', 'спокойный|0.5080259', 'ооочень_вкусный|0.50302684', 'наслаждаться|0.4975033', 'зы|0.49651623', 'чудесный|0.4961004', 'непринуждённый|0.4895913', 'порция_большой|0.48884597', 'безупречный|0.48850083', 'весь_очень_вкусный|0.4880075', 'доброжелательный|0.48753437', 'уютный|0.4867561', 'прекрасный|0.48657823', 'очень_очень|0.48617917', 'качественно|0.4842836', 'высокий_уровень|0.48410898', 'праздничный|0.48395494', 'приём|0.4835062', 'приятно|0.48291934', 'завершение|0.48291445', 'расслабить|0.48219317', 'лёгкий|0.4817138', 'зажигательный|0.4811696', 'общий|0.48107582', 'фоновый|0.4807786', 'изыскать|0.47966087', 'высота|0.47956687', 'душа|0.47936803', 'превосходно|0.478513', 'вкусно|0.47700894', 'царить|0.47696865']\n",
            "Aspect 12:\n",
            "['полтора|0.7820823', 'половина|0.74954784', '15_минута|0.7255927', 'ровно|0.7242714', 'минимум|0.7153313', '20_минута|0.70867866', 'примерно|0.7075573', 'дождаться|0.70553315', 'соответственно|0.70157695', 'заполнить|0.69300586', 'час|0.6879128', 'выясниться|0.6849371', 'максимум|0.6831182', 'оплатить|0.6811633', 'это_время|0.6766142', 'прийтись|0.6751474', 'полчаса|0.6728943', 'десять|0.67281544', 'простоять|0.671081', 'вынести|0.6672155', 'отдать|0.6632435', 'оговорить|0.6631549', 'прождать|0.6618734', 'результат|0.66106415', 'просидеть|0.66046005', 'расчёт|0.65717816', 'напоминание|0.6561868', '10_минута|0.6556645', 'естественно|0.6535125', 'мина|0.6530992', 'пять|0.65056384', 'забрать|0.6435266', 'дозаказать|0.64258134', 'остаток|0.64236796', 'демонстративно|0.6407499', 'бокс|0.63995785', 'унести|0.637123', 'вернуть|0.63601065', 'перемена|0.63590574', 'заплатить|0.6342298', 'закрытие|0.63234663', 'сумма|0.6312866', 'спустя|0.630374', 'коробка|0.63031185', 'течение|0.6250177', '1_5_час|0.62430626', 'привезти|0.62300044', 'оплата|0.6227828', 'убрать|0.6222283', 'пообещать|0.62149966', 'внести|0.6187757', 'рассчитать|0.6185963', 'предупреждать|0.6175914', 'подождать|0.6145865', 'курс|0.6142527', 'четверо|0.6135158', 'сделать_заказ|0.60778725', 'уйти|0.60299194', 'предупредить|0.60168177', 'указать|0.5995011', 'уложиться|0.59659123', 'двадцать|0.5946866', 'посчитать|0.5939168', 'предоплата|0.5934379', 'затем|0.5934299', 'обещать|0.59261006', 'итог|0.5925113', 'получас|0.5915402', 'успеть|0.59036946', 'отказываться|0.5887486', 'четыре|0.5883546', 'вынос|0.5873959', 'закончиться|0.58609045', 'приход|0.5856032', 'попросить|0.58350575', 'счёт|0.5824591', 'контейнер|0.5780852', 'очень_долго|0.5778708', 'поменять|0.57725775', 'ожидание|0.57670677', 'пятнадцать|0.5765378', 'входить|0.5764955', 'депозит|0.57583207', 'просить|0.5743822', 'попытка|0.57398295', 'сдача|0.5736868', 'около|0.57341063', 'персона|0.57250047', 'оплачивать|0.57235825', 'сложность|0.57213086', 'дополнительно|0.5719857', 'процент|0.5698769', 'обнаружить|0.5694292', 'наполовину|0.5687611', 'сколько|0.56801003', 'пропасть|0.567595', 'заставить|0.5670779', 'полупустой|0.56529635', 'пустой|0.5635575', 'факт|0.563479']\n",
            "Aspect 13:\n",
            "['гриль|0.66717714', 'рыба|0.65898895', 'салат_цезарь|0.64078057', 'греческий|0.63152635', 'мясной|0.6218903', 'стейка|0.6061398', 'выбрать|0.60440505', 'рыбный|0.60090435', 'говядина|0.59751725', 'дорад|0.59491664', 'свинина|0.5945263', 'баклажан|0.58932906', 'овощ|0.5881696', 'стейк|0.58742505', 'цезарь|0.58719206', 'шашлык|0.56846327', 'дораду|0.56722593', 'рибай|0.5664778', 'морепродукт|0.56643045', 'курица|0.56624407', 'карпаччо|0.56419295', 'оливья|0.56267047', 'плов|0.55758524', 'салатик|0.556888', 'мангал|0.5516602', 'шашлычок|0.549976', 'креветка|0.5498766', 'пекински|0.5444788', 'свинин|0.54232115', 'узбекский|0.53981805', 'форель|0.5395434', 'осетрина|0.5360416', 'стейковы|0.53558564', 'вок|0.5318693', 'закуска|0.5290638', 'коптить|0.5284977', 'телятина|0.5281307', 'приготовить|0.5271342', 'цыплёнок|0.5269142', 'ассорти|0.522896', 'салат|0.5207902', 'стэйк|0.51983565', 'мидия|0.5177269', 'заказывать|0.5170845', 'свиной|0.5149256', 'долму|0.51383024', 'лосось|0.5138165', 'куриный|0.5117356', 'свинный|0.5114456', 'судак|0.50650686', 'рёбрышко|0.5026923', 'мраморный|0.5005494', 'колбаска|0.49769258', 'муж|0.4976271', 'состав|0.49606252', 'кисло_сладкое_соус|0.49344963', 'барашек|0.4914943', 'кебаб|0.49135447', 'рулька|0.49059528', 'запечёный|0.4900671', 'заказать|0.48914275', 'посоветовать|0.48780558', 'тигровый|0.48684537', 'крылышко|0.4857601', 'лазание|0.4853518', 'остановиться|0.48516235', 'выбор|0.48433366', 'вока|0.48341572', 'миньон|0.48325157', 'выбирать|0.48321375', 'экспериментировать|0.48081893', 'раздел|0.48071423', 'отговорить|0.47821936', 'каре|0.47803882', 'ягнёнок|0.47780204', 'пасть|0.47690096', 'острый|0.47666746', 'запечь|0.4752143', 'жульен|0.4750617', 'помнить|0.47469905', 'солянка|0.47468132', 'фахитос|0.47450638', 'уха|0.47320125', 'филе|0.4728311', 'бифстроганов|0.47237813', 'бефстроганов|0.47025487', 'горячее_блюдо|0.46906102', 'баранина|0.46899378', 'предпочитать|0.46834278', 'тапас|0.46703506', 'жареный|0.46674806', 'казан|0.46583426', 'медальон|0.4657614', 'сацивить|0.46393046', 'мясо|0.4626636', 'ушко|0.462385', 'тайский|0.46152616', 'стерлядь|0.4609753', 'сибас|0.46018454', 'харчо|0.4588962']\n",
            "2019-12-24 21:10:14,454 INFO Epoch 7, train: 5s\n",
            "2019-12-24 21:10:14,455 INFO Total loss: 3.8360, max_margin_loss: 3.7273, ortho_reg: 0.1087\n",
            "100% 594/594 [00:05<00:00, 99.55it/s]\n",
            "Aspect 0:\n",
            "['попёс|0.6599443', 'ливерпуль|0.63993436', 'прибавить|0.6322919', 'ых|0.6155472', 'немолодой|0.6141485', 'хх|0.6084159', 'food|0.6066929', 'студентка|0.60601056', 'good|0.6056948', 'of|0.59767556', 'прайс|0.59372187', 'restaurant|0.5935951', 'ого|0.59342587', 'service|0.59294224', 'полуночь|0.5920487', 'па|0.5913528', 'двенадцать|0.5890726', 'тридцать|0.58731765', 'доллар|0.58705556', 'этак|0.5860481', 'космический|0.58331776', 'градус|0.5833106', 'блюз|0.5818939', 'were|0.58124423', 'no|0.578381', 'my|0.5779314', 'фраер|0.57708645', 'приблизительно|0.57614744', 'пт|0.575389', 'in|0.5750003', 'this|0.57378', 'пятьдесят|0.57364136', 'выключать|0.57361495', 'девять|0.57319677', 'бальный|0.5725', 'ти|0.5721029', 'ка|0.57197565', 'wa|0.5717105', 'it|0.5700927', 'бурный|0.5700332', 'very|0.5696536', 'парный|0.5695298', 'best|0.5681986', 'мировой|0.5680882', 'рок|0.56524646', 'ролик|0.56502306', 'бум|0.56488585', 'you|0.5639473', 'negativa|0.5631952', 'заполняемость|0.56312156', 'возраст|0.5598788', 'удар|0.5597348', 'луна|0.5588826', 'ру|0.5583352', 'справедливо|0.5558809', 'and|0.5554427', 'потянуть|0.55522054', 'we|0.5545757', 'шансон|0.5526445', 'гопник|0.55235916', 'бранч|0.55230236', 'that|0.5513114', 'сб|0.5513006', 'фанера|0.55088824', 'all|0.5505831', 'диск|0.5484937', 'именной|0.548488', 'отстой|0.547709', 'опера|0.5467098', 'ограничение|0.54620063', 'школьник|0.545586', 'резкий|0.5453763', 'басс|0.5449095', 'подпевать|0.54475105', 'процент|0.5440858', 'ть|0.54407525', 'place|0.54287016', 'ву|0.5425384', 'че|0.5419595', 'монета|0.54195654', 'подорожать|0.54066765', 'икс|0.54048765', 'основательно|0.54038894', 'шато|0.5403486', 'поколение|0.5397748', 'увеличивать|0.5397141', 'народный|0.5392943', 'терпимый|0.5376344', 'балет|0.53706485', 'бабка|0.53581166', 'the|0.53543437', 'мёртвый|0.5352937', 'евро|0.5351074', 'харизма|0.5351066', 'зарубежный|0.5350288', 'пать|0.5342058', 'хвостик|0.53323805', 'стайла|0.53237677', 'группа|0.5320734', 'rr|0.5319996']\n",
            "Aspect 1:\n",
            "['рот|0.6149443', 'масло|0.59664166', 'солёный|0.59273183', 'нарезать|0.5850142', 'хрустеть|0.578438', 'кусочек|0.578035', 'булка|0.5718337', 'корочка|0.5697044', 'заморозка|0.5672694', 'пережарить|0.5607805', 'лаваш|0.55441755', 'выращивать|0.5531434', 'булочка|0.5487424', 'капуста|0.5469764', 'ломтик|0.54682374', 'посыпать|0.54643005', 'зелень|0.5432105', 'помидорка|0.5428909', 'перчик|0.541571', 'кусок|0.5407289', 'специя|0.5393378', 'лепёшка|0.53873974', 'чеснок|0.5377958', 'орешек|0.5369922', 'пармезан|0.53604347', 'разрезать|0.53497434', 'сырой|0.53494835', 'лука|0.5349295', 'хрен|0.5344107', 'тонкий|0.5329681', 'жир|0.5324522', 'фарш|0.5316982', 'жёсткий|0.531232', 'уксус|0.5307292', 'фокачча|0.52966', 'сковородка|0.5290368', 'варёный|0.52900565', 'мариновать|0.5288254', 'слайс|0.5285028', 'чипсы|0.52754784', 'травка|0.5271615', 'каперс|0.525955', 'разогреть|0.52476835', 'яйцо|0.52461463', 'тест|0.52460504', 'майонез|0.5245198', 'сковорода|0.5232532', 'палтус|0.5231912', 'огурец|0.5229598', 'картошка|0.52283293', 'огурчик|0.5224783', 'порезать|0.5223109', 'сметана|0.5219041', 'жарить|0.5218625', 'трава|0.5216768', 'рыбка|0.5212413', 'песто|0.52044237', 'кубик|0.5191685', 'помидор|0.5172201', 'лук|0.51684535', 'бекон|0.5166098', 'фольга|0.51621985', 'соль|0.5140545', 'свежесть|0.51404667', 'сверху|0.5139077', 'пожарить|0.5134279', 'картошечка|0.5130604', 'плошка|0.51275754', 'переварить|0.5123455', 'протухший|0.51171446', 'горчица|0.5113081', 'горшочек|0.51037526', 'нарезка|0.51017857', 'грудинка|0.5100361', 'свининка|0.50989366', 'соус|0.5095014', 'курочка|0.50833625', 'спаржа|0.50831366', 'каша|0.50756025', 'завернуть|0.50718564', 'начинка|0.5063647', 'микроволновка|0.506112', 'морковь|0.50488245', 'горка|0.5039375', 'бульон|0.5033986', 'печь|0.502903', 'толстой|0.50282276', 'косточка|0.50245297', 'кальмар|0.50156516', 'рис|0.50077164', 'блин|0.5007701', 'икра|0.49986047', 'костя|0.49951816', 'сухой|0.49906933', 'кус|0.4988664', 'соломка|0.49879646', 'плавать|0.49848735', 'лежалый|0.49777502', 'утка|0.4977634', 'слой|0.4972949']\n",
            "Aspect 2:\n",
            "['сладость|0.7051844', 'пирожное|0.68506336', 'брюла|0.6771367', 'миндальный|0.668842', 'мусса|0.6688348', 'крем|0.66406906', 'шоколад|0.6617222', 'панакот|0.6612245', 'бисквит|0.66086125', 'банановый|0.65859413', 'печение|0.6535066', 'мильфея|0.64764345', 'карамельный|0.64557886', 'суфле|0.64330864', 'малин|0.642475', 'маракуйя|0.64190865', 'захер|0.6418483', 'шоколадный|0.640426', 'карамель|0.64024055', 'развалина|0.63997346', 'трюфель|0.6307413', 'манговый|0.62984055', 'капуччиный|0.62965006', 'грушевый|0.6294221', 'шарик|0.62822366', 'ванильный|0.6265107', 'сорбетом|0.62553287', 'графский|0.6251953', 'марципановый|0.623858', 'взбить|0.6236399', 'мятый|0.62339294', 'кекс|0.6232726', 'ягода|0.6232666', 'творог|0.6219852', 'клубника|0.6217799', 'чизкейк|0.62103987', 'морковный|0.6206467', 'какао|0.62018204', 'фисташковый|0.6199218', 'корица|0.6191993', 'изюм|0.61858356', 'печенюшка|0.61772835', 'сорбета|0.61750364', 'безе|0.61705565', 'персиковый|0.6168573', 'ваниль|0.61678433', 'фондать|0.6165346', 'эклер|0.6139018', 'лаймовый|0.61274755', 'мятный|0.6120684', 'малина|0.6118546', 'пирожёнка|0.6107211', 'песочный|0.6106191', 'кокосовый|0.6089862', 'меренга|0.6086911', 'чиз|0.6086545', 'мороженое|0.60854703', 'заварной|0.6084522', 'джема|0.60844874', 'чайничек|0.6078001', 'баба|0.6076305', 'сырник|0.60442984', 'вишня|0.60302687', 'манго|0.6024672', 'пудинг|0.60151577', 'карамелизировать|0.5994439', 'желе|0.5993338', 'лимонный|0.59916985', 'творожный|0.598983', 'медовик|0.5986696', 'сухофрукты|0.5983035', 'ягодный|0.59824187', 'зелёный|0.5977237', 'сгущёнка|0.5974361', 'брауни|0.5968466', 'сливка|0.5957753', 'тортик|0.5956944', 'личить|0.5947841', 'яблоко|0.59282285', 'шарлотка|0.5926626', 'печенек|0.5920762', 'сладкое|0.5920043', 'смородина|0.58976275', 'котт|0.58880717', 'мусс|0.58775055', 'цедра|0.5876982', 'мармелад|0.58713055', 'панна|0.58696514', 'трубочка|0.5869142', 'цитрусовый|0.58653647', 'пенка|0.5863613', 'мороженный|0.58498544', 'травяной|0.5844397', 'шоколадка|0.58420247', 'орех|0.5840876', 'пирог|0.58406246', 'креманка|0.58378613', 'десертный|0.5825772', 'маскарпон|0.58241624', 'банан|0.58215']\n",
            "Aspect 3:\n",
            "['бояться|0.78309774', 'простить|0.77431357', 'ум|0.75143677', 'значит|0.7402457', 'мысль|0.74008274', 'господин|0.70978063', 'надоесть|0.7033738', 'знаете|0.69787294', 'пусть|0.69754493', 'поверить|0.6875056', 'понять|0.6870334', 'обидеть|0.6799809', 'признаться|0.67807055', 'слышать|0.6766385', 'срочно|0.6713648', 'слово|0.667196', 'право|0.6650336', 'зря|0.6645751', 'признаваться|0.6626039', 'не_не|0.65940976', 'здоровье|0.6589012', 'перестать|0.6552341', 'знак|0.6545136', 'речь|0.6508374', 'иначе|0.6449563', 'почувствовать|0.64357185', 'уверенный|0.64311063', 'сила|0.6335923', 'жизнь|0.632951', 'не_знать|0.63062906', 'наверно|0.630017', 'мыть|0.6263249', 'спорить|0.6255128', 'защита|0.62525', 'вон|0.624743', 'бог|0.62431735', 'обходить|0.62254417', 'ибо|0.6218519', 'таракан|0.62162876', 'вечно|0.6208236', 'стороной|0.62046826', 'верить|0.6198965', 'борис|0.61674154', 'ругать|0.61637723', 'лезть|0.6154157', 'извинить|0.6149221', 'категорически|0.61478674', 'неужели|0.6137036', 'возможно|0.6119753', 'оттуда|0.610569', 'постараться|0.60984933', 'говориться|0.60931313', 'пора|0.6080748', 'передать|0.608063', 'удалять|0.60789907', 'навсегда|0.60482615', 'скоро|0.60443735', 'душить|0.6043608', 'призывать|0.60297', 'сей_пора|0.60258496', 'убить|0.60018104', 'ресторатор|0.5983552', 'земля|0.59821844', 'страшно|0.5951309', 'довести|0.5945666', 'следовать|0.59256524', 'наплевать|0.5922984', 'бороться|0.5912969', 'продолжать|0.5904257', 'научить|0.58733594', 'плевать|0.5869681', 'гениальный|0.5836437', 'называть|0.58347034', 'доказывать|0.58338', 'твой|0.583034', 'понимать|0.58171856', 'совесть|0.5809955', 'негатив|0.5796592', 'голова|0.5794023', 'кома|0.5790183', 'автор|0.5777767', 'приложить|0.577465', 'промолчать|0.5758636', 'отсюда|0.57440823', 'звезда|0.5740523', 'сменить|0.5730549', 'ругаться|0.5707563', 'строго|0.5706457', 'испытать|0.5701466', 'ужас|0.5694522', 'личный|0.5692054', 'исправить|0.56915617', 'сильный|0.56854516', 'грустный|0.56853235', 'быдло|0.5679004', 'придумать|0.5667379', 'полениться|0.56663084', 'шок|0.56583685', 'допускать|0.56571805', 'виноватый|0.5655182']\n",
            "Aspect 4:\n",
            "['мальчик|0.7989242', 'девушка|0.7975525', 'девочка|0.78645617', 'молодая_человек|0.78197825', 'улыбаться|0.75953066', 'официантка|0.74711156', 'парень|0.73997325', 'улыбка|0.7162976', 'барышня|0.6950756', 'улыбчивый|0.6934881', 'официант|0.68403137', 'юноша|0.667877', 'наш_столик|0.64945364', 'звать|0.6463314', 'провожать|0.645881', 'лицо|0.6445546', 'хостёс|0.64384663', 'мила|0.6386224', 'гардеробщик|0.62343377', 'хостесса|0.6223243', 'интересоваться|0.6042732', 'приветливо|0.5979614', 'весь_время|0.5956658', 'здороваться|0.59493715', 'пепельница|0.5931764', 'бармен|0.59287894', 'спрашивать|0.59157026', 'высокомерный|0.5912293', 'принимать|0.59047407', 'обслуживать|0.589137', 'любезный|0.58560866', 'улыбнуться|0.5836301', 'вежливый|0.5777782', 'принять_заказ|0.5765058', 'разговаривать|0.57015526', 'стойка|0.5690186', 'соседний_столик|0.5633786', 'прощаться|0.5630133', 'молоденький|0.56296796', 'отвечать|0.5613746', 'администратор|0.55962616', 'мужчина|0.5585102', 'женщина|0.5584328', 'встречать|0.5538944', 'поздороваться|0.5531548', 'охранник|0.54629886', 'доброжелательно|0.540692', 'внимательно|0.5380337', 'забывать|0.53760064', 'подойти|0.5366376', 'постоянно|0.53371626', 'молниеносно|0.5313131', 'внешность|0.5304254', 'офицант|0.53033566', 'молодая|0.52881145', 'успевать|0.5280149', 'принять|0.5277178', 'голос|0.5238681', 'бегать|0.52005696', 'милый|0.5177581', 'реагировать|0.51472217', 'шустрый|0.513724', 'расторопный|0.5136728', 'кальянщик|0.5120393', 'поменять|0.5112194', 'появляться|0.5111348', 'задержка|0.5095943', 'неприветливый|0.5095877', 'медленно|0.50779146', 'услышать|0.50187355', 'удалиться|0.5012106', 'обслуживающий|0.5009042', 'шутить|0.50062853', 'стараться|0.50039494', 'просьба|0.49956775', 'оперативно|0.4992618', 'дружелюбно|0.4991849', 'объяснять|0.49835473', 'обслужить|0.49828517', 'объяснить|0.49591', 'общаться|0.4956488', 'волос|0.49559778', 'представиться|0.49550265', 'убирать|0.49538404', 'одежда|0.49458104', 'менять|0.49380308', 'пытаться|0.4905234', 'поинтересоваться|0.488981', 'смена|0.48858425', 'принести_меню|0.48781937', 'замечать|0.48579276', 'одетый|0.4842757', 'ответить|0.48213932', 'запара|0.47877648', 'фраза|0.4785577', 'охрана|0.47779346', 'любезно|0.47760516', 'спросить|0.47543433', 'извиниться|0.4753287', 'приветствие|0.4734445']\n",
            "Aspect 5:\n",
            "['тесно|0.73009497', 'помещение|0.725201', 'вентиляция|0.71405053', 'дым|0.71240443', 'зона|0.7094864', 'душный|0.70574903', 'вытяжка|0.6949512', 'неуютный|0.6919672', 'диван|0.68943954', 'шумно|0.6890902', 'комната|0.6794263', 'накурить|0.6777102', 'друг_друг|0.6743704', 'удобно|0.67330086', 'комфортно|0.66956973', 'курить|0.65891063', 'дымно|0.6579445', 'пространство|0.65039814', 'мешать|0.64879346', 'вокруг|0.6406644', 'воздух|0.64039814', 'кресло|0.6365623', 'комнатка|0.63492596', 'просторно|0.63434637', 'диванчик|0.63431376', 'близко|0.63251114', 'кабинка|0.6306561', 'экран|0.6251905', 'светло|0.62148446', 'аквариум|0.6159774', 'туалет|0.6146558', 'детский_комната|0.6140859', 'уединённость|0.60942876', 'табачный|0.6053408', 'уголок|0.60190535', 'зальчик|0.5996704', 'танцполый|0.5991372', 'зала|0.5988838', 'сигаретный|0.59743786', 'второе_этаж|0.5930346', 'сидеть|0.5921919', 'телевизор|0.5909246', 'шум|0.58911836', 'слышный|0.58866936', 'стул|0.587173', 'плазма|0.58587205', 'камин|0.58536506', 'прохладно|0.5805971', 'просторный|0.5780599', 'дальний|0.57799214', 'деление|0.57713634', 'балкон|0.5758184', 'потолок|0.5724569', 'дышать|0.56943', 'неудобно|0.5691827', 'неудобный|0.56799686', 'веранда|0.56701654', 'удобный|0.5652888', 'барный_стойка|0.5649936', 'расстояние|0.5594605', 'тв|0.5583463', 'зеркало|0.55771786', 'прокурить|0.5547969', 'потолочь|0.5544226', 'беседка|0.55366766', 'мебель|0.5535043', 'курящий|0.5530602', 'сцена|0.55261314', 'окно|0.55002636', 'сосед|0.54985857', 'курильщик|0.5493008', 'свет|0.54808056', 'расположить|0.5452215', 'прикольный|0.5445873', 'зал|0.5444381', 'разделение|0.5438967', 'игрушка|0.54354787', 'кондиционер|0.54283905', 'курение|0.54272324', 'тесновато|0.5420293', 'шумный|0.5409211', 'чисто|0.5393405', 'освещение|0.5364405', 'панель|0.53549504', 'некурящий|0.53509027', 'внутри|0.5339893', 'дерево|0.53250694', 'народ|0.53221893', 'стена|0.5284769', 'перегородка|0.52771467', 'футбольный|0.52670974', 'терасс|0.52623194', 'кругом|0.5249183', 'скамейка|0.52332795', 'темно|0.522146', 'уединиться|0.5209602', 'подвал|0.5192939', 'люстра|0.51873887', 'очень_уютный|0.5171751', 'спокойно|0.5167145']\n",
            "Aspect 6:\n",
            "['ценовый|0.7433561', 'ценник|0.73390746', 'категория|0.72829497', 'уровень|0.72332424', 'завысить|0.7147636', 'крайний_мера|0.7036864', 'выше|0.699162', 'соответствовать|0.6990847', 'цена_качество|0.6874524', 'цена|0.68707013', 'фаста|0.6810734', 'сравнение|0.68067646', 'качество|0.6773149', 'ниже|0.6656343', 'отличие|0.6565597', 'фуд|0.65516806', 'изыск|0.65133417', 'считать|0.6422064', 'учитывать|0.63162637', 'среднее|0.6299058', 'недостаток|0.6199273', 'забегаловка|0.61688757', 'демократичный|0.6141094', 'средний|0.6087462', 'японский|0.60779756', 'политика|0.6060726', 'адекватный|0.60529697', 'сетевой|0.6047437', 'многий|0.601161', 'оценивать|0.5990992', 'формат|0.59674907', 'отличаться|0.5964703', 'оценка|0.59465396', 'принцип|0.5903323', 'высокий|0.589799', 'удивлять|0.5885129', 'намного|0.5877621', 'приемлемый|0.58352405', 'соотношение_цена_качество|0.5830703', 'гуманный|0.58198404', 'европейский|0.5818829', 'заведение|0.576482', 'последний_время|0.57485235', 'простой|0.56958055', 'значительно|0.5692465', 'назвать|0.56758773', 'касаться|0.5669008', 'вполне|0.5605682', 'гинза|0.55645263', 'скорее|0.5561434', 'взгляд|0.55574363', 'большинство|0.5531828', 'ресторанный|0.5528988', 'низкий|0.5519799', 'дёшево|0.54760796', 'умеренный|0.54433584', 'достойный|0.5434045', 'разнообразие|0.54180396', 'пожалуй|0.5417477', 'согласный|0.538769', 'менее|0.53832424', 'подобный|0.5355912', 'дорого|0.53340375', 'весь_остальной|0.5312313', 'оправдывать|0.5305948', 'продукт|0.5302123', 'дорогой|0.5284394', 'претензия|0.52813196', 'посредственный|0.5280122', 'например|0.5272089', 'китайский|0.52584374', 'однозначно|0.5257234', 'не_мочь_сказать|0.52319115', 'общепит|0.5218233', 'стандартный|0.5216225', 'гораздо|0.520987', 'стандарт|0.5203986', 'иной|0.5203495', 'обычный|0.5178109', 'понятный|0.5175124', 'относительно|0.513981', 'качественный|0.5137382', 'дороговатый|0.5115199', 'средненький|0.5098567', 'дешёвый|0.50954604', 'крайне|0.5048677', 'бистро|0.5048276', 'плохой|0.50311285', 'нарекание|0.502532', 'однако|0.50072086', 'сервис|0.4985476', 'приличный|0.49774492', 'претендовать|0.49618763', 'являться|0.4958763', 'гурман|0.49559823', 'исключение|0.4925789', 'худой|0.4922429', 'сеть|0.49186546', 'главный|0.48995242', 'хромать|0.48972785']\n",
            "Aspect 7:\n",
            "['висок|0.8531257', 'коктейль|0.80255294', 'водка|0.7881384', 'безалкогольный|0.78666747', 'крепкий|0.76593494', 'пить|0.7636575', 'мохитый|0.7623311', 'алкогольный|0.760111', 'мартини|0.7378434', 'литр|0.7345302', 'выпить|0.7318541', 'пила|0.7282132', 'крушовица|0.71639305', 'коньяк|0.7117636', 'разливный|0.7111708', 'кружка|0.70374316', 'нефильтрованный|0.70321625', 'бутылочка|0.7009038', 'руль|0.70079136', 'сорт|0.70068306', 'морс|0.6999868', 'пиво|0.6992502', 'вишнёвый|0.69586116', 'бутылочный|0.6844684', 'сангрия|0.6826912', 'ньюкасл|0.6759666', 'пинта|0.6743532', 'сидр|0.67076707', 'коктель|0.66648924', 'лимонад|0.6649368', 'бланша|0.6597601', 'глинтвейн|0.6591377', 'хугарден|0.6538289', 'лонг|0.64543855', 'закусить|0.6451373', 'эль|0.6434213', 'бокал|0.64195', 'бокальчик|0.6357939', 'кальян|0.6336939', 'напиток|0.6298766', 'стаут|0.6291564', 'пшеничный|0.62532413', 'распитие|0.62523675', 'гиннес|0.6235583', 'квас|0.6207669', 'пивко|0.62022406', 'игристый|0.6174786', 'айленд|0.6107946', 'текила|0.6096153', 'попить|0.6089132', 'василеостровский|0.6045013', 'потягивать|0.59989107', 'ром|0.59954715', 'настойка|0.5978403', 'ликёр|0.59731656', 'грапп|0.5958495', 'сок|0.5945207', 'графин|0.5898446', 'алкоголь|0.5895995', 'рюмка|0.58418834', 'эспрессо|0.58391476', 'вода|0.5804947', 'бутылка|0.5793121', 'шампанский|0.57916814', 'бельгийский|0.5783975', 'дайкири|0.57825935', 'наливать|0.57815665', 'угостить|0.57671475', 'литровый|0.5732195', 'вино|0.5703575', 'бесплатный|0.56505424', 'сироп|0.5633794', 'лёд|0.56280094', 'кувшин|0.56167305', 'медовуха|0.5596726', 'джина|0.5567258', 'облепиховый|0.55652666', 'америкать|0.5556466', 'каберне|0.55551386', 'фирменный|0.5549481', 'эдельвейс|0.5539535', 'кола|0.55136293', 'немецкий|0.5507912', 'чай|0.5497456', 'поллитра|0.54943436', 'производство|0.5487276', 'стакан|0.54868835', 'чашечка|0.5434326', 'лагер|0.54117304', 'коктейльный|0.5410142', 'компот|0.53954434', 'вельвет|0.5392748', 'кофе|0.53833294', 'пино|0.53814644', 'килкенни|0.535955', 'употреблять|0.5348545', 'лимончелло|0.53331995', '100р|0.53171945', 'закусывать|0.52869314', 'клюквенный|0.52674013']\n",
            "Aspect 8:\n",
            "['организация|0.82189095', 'организовать|0.8013351', 'тамада|0.79438096', 'подготовка|0.77206874', 'свадебный|0.76096225', 'торжество|0.75487626', 'благодарность|0.7508619', 'ольга|0.7495153', 'мероприятие|0.74410903', 'праздник|0.7298493', 'организатор|0.7293061', 'огромный_спасибо|0.72644687', 'майкл|0.7236771', 'весь_гость|0.7170171', 'молодожён|0.7160635', 'пожелание|0.71461225', 'директор|0.7112874', 'ирина|0.7098955', 'банкет|0.7054297', 'весь_наш|0.70449054', 'ведущий|0.6998748', 'большой_спасибо|0.69231164', 'невеста|0.68741024', 'подарок|0.6858976', 'наталья|0.6858262', 'владимир|0.6824142', 'команда|0.6820988', 'евгений|0.68164486', 'елена|0.6784129', 'банкетный|0.6772382', 'отдельный_спасибо|0.67410016', 'фуршет|0.6738737', 'профессионализм|0.67090875', 'коллектив|0.66877055', 'сотрудник|0.667833', 'учесть|0.66443485', 'сергей|0.66341746', 'александр|0.66291046', 'номер|0.6598329', 'профессионал|0.6582382', 'свадьба|0.65650856', 'татьяна|0.6558929', 'уважение|0.6512555', 'марин|0.6507889', 'проведение|0.6499568', 'выражать|0.6469182', 'станислав|0.6415535', 'алексей|0.63928705', 'управлять|0.6384115', 'анастасий|0.6319952', 'участие|0.6279604', 'банкетный_зал|0.6251086', 'наш_свадьба|0.62331784', 'менеджер|0.6225213', 'честь|0.6204557', 'благодаря|0.61858654', 'благодарить|0.61751735', 'дмитрий|0.6170138', 'поблагодарить|0.6108587', 'каравай|0.60655826', 'программа|0.60510933', 'бельканто|0.6039152', 'поклон|0.60282815', 'новый_год|0.6007459', 'договор|0.59979284', 'помощь|0.5964835', 'весь_наш_пожелание|0.5945075', 'шоу|0.59432137', 'андрей|0.5913396', 'бравый|0.5902424', 'фотограф|0.5892316', 'подарить|0.5833676', 'профессиональный|0.5824594', 'признательность|0.58074707', 'виктор|0.5790535', 'совет|0.57870746', 'родитель|0.57833695', 'администрация|0.57746303', 'юбилей|0.57629853', 'услуга|0.5761711', 'жених|0.5759953', 'жанна|0.5746561', 'чуткий|0.57408977', 'регистрация|0.5730859', 'юлий|0.5686269', 'кондитер|0.5680827', 'конкурс|0.56782186', 'артист|0.56781155', 'событие|0.5676774', 'дмитрия|0.56765336', 'мастер|0.56432974', 'поздравление|0.56425357', 'марина|0.56393987', 'шеф_повар|0.5631524', 'благодарный|0.5624433', 'галина|0.5606749', 'юлия|0.5596861', 'вячеслав|0.5580354', 'кейтеринг|0.55700403', 'гость|0.5568423']\n",
            "Aspect 9:\n",
            "['заехать|0.75833744', 'пообедать|0.74462247', 'сегодня|0.7433888', 'вчера|0.7223283', 'поехать|0.711837', 'пр|0.70199025', 'прогулка|0.69635093', 'поужинать|0.69312453', 'воскресение|0.6869563', 'обедать|0.6809943', 'однокурсник|0.6808827', 'московский|0.6706097', 'случайно|0.6701807', 'забежать|0.66753966', 'недавно|0.6642538', 'перекусить|0.65905875', 'ехать|0.6494963', 'ездить|0.6485779', 'заезжать|0.6452297', 'невский|0.6430118', 'офис|0.6404122', 'гулять|0.6400435', 'ул|0.63913167', 'отправиться|0.6376927', 'днём|0.63657534', 'подружка|0.63589203', 'заслать|0.63216114', 'ужинать|0.6261126', 'петроградка|0.6232196', 'район|0.6218044', 'это_кафе|0.6207336', 'недалеко|0.6112821', 'открыться|0.60586286', 'заглянуть|0.60236263', 'побывать|0.59731305', 'жить|0.59573126', 'заскочить|0.5906632', 'приморский|0.59004915', 'приезжать|0.5885554', 'проезжать|0.5880587', 'воскресный|0.5877173', 'выходной|0.58602905', 'дом|0.5844033', 'восстание|0.58253443', 'поход|0.5824925', 'завтрак|0.5821349', 'жена|0.58021116', 'проспект|0.5798567', 'москва|0.57892334', 'суббота|0.5783768', 'забегать|0.5775142', 'перерыв|0.5732062', 'год_назад|0.56969696', 'добраться|0.56956524', 'январь|0.56921077', 'ноябрь|0.5661425', 'ходьба|0.5625518', 'март|0.56144524', 'утро|0.56016946', 'встретиться|0.56007695', 'посетить|0.55955243', 'парка|0.5592685', 'остров|0.5586828', 'прогуливаться|0.55840087', 'мама|0.5578659', 'приехать|0.55733585', 'май|0.55622244', 'вечером|0.5541931', 'очередной|0.55410635', 'месяц|0.553505', 'евразия|0.55175275', 'февраль|0.5512369', 'дочка|0.55076754', 'обед|0.54997396', 'четверг|0.54917425', 'забрести|0.5491618', 'захаживать|0.5490947', 'коллега|0.54798794', 'питер|0.5478282', 'семья|0.54746425', 'лето|0.54717344', 'заходить|0.54383075', 'неделя|0.5435722', 'однажды|0.5428892', 'поздно|0.5409632', 'летом|0.53770214', 'среда|0.5375316', 'покушать|0.5364001', 'полгода|0.5350652', 'рубинштейн|0.5350351', 'давно|0.5317358', 'путь|0.52856493', 'отмечать_день_рождение|0.5284342', 'частенько|0.52796453', 'сходить|0.52772415', 'цель|0.52759707', 'осень|0.52733433', 'прогуляться|0.52691925', 'занести|0.5253638', 'завтракать|0.5248927']\n",
            "Aspect 10:\n",
            "['полка|0.71493447', 'старинный|0.7016996', 'старое|0.6986046', 'стен|0.6945416', 'стена|0.6779374', 'журнал|0.6776953', 'лампа|0.67564535', 'ля|0.6742377', 'предмет|0.6709726', 'картина|0.6688224', 'черно|0.6660925', 'белые|0.66247463', 'золотой|0.66222143', 'рамка|0.66061914', 'стеклянный|0.66007996', 'кирпичный|0.6583456', 'деталь|0.6560368', 'синий|0.65352654', 'фотография|0.64830077', 'газета|0.64260566', 'подоконник|0.64157623', 'элемент|0.641011', 'множество|0.64078647', 'люстра|0.6403582', 'крыша|0.63674104', 'белоснежный|0.632756', 'дерево|0.63239616', 'винный|0.6313971', 'буфет|0.63045377', 'кирпич|0.63023424', 'внутренний|0.62905544', 'плазменный|0.62743855', 'тон|0.62664783', 'атрибутика|0.6255958', 'плитка|0.62535995', 'штора|0.624836', 'потолок|0.6247391', 'прованс|0.62314665', 'серый|0.6220708', 'убранство|0.6219716', 'доска|0.62028176', 'обилие|0.6149045', 'светящийся|0.61489993', 'кровать|0.61365265', 'полочка|0.6136396', 'искусственный|0.6132393', 'стекло|0.61310637', 'светильник|0.6109935', 'солнце|0.61099243', 'подсвечник|0.610798', 'декор|0.6107627', 'свет|0.61065817', 'фильм|0.6104198', 'стеллаж|0.60961723', 'панель|0.6093154', 'прочий|0.60831547', 'мебель|0.60677445', 'краска|0.6041839', 'клетка|0.60366154', 'абажур|0.60236394', 'кладка|0.6021976', 'пол|0.60096276', 'массивный|0.5983199', 'подсветка|0.59804463', 'современный|0.59763277', 'цветовой|0.59680307', 'гамма|0.5967454', 'кожаный|0.59449625', 'вдоль|0.59402335', 'зеркало|0.5936455', 'цветочек|0.5932621', 'взор|0.5931106', 'свод|0.5927628', 'огонь|0.59272367', 'ширма|0.59231913', 'библиотека|0.5921582', 'блестящий|0.59112644', 'ткань|0.59106445', 'направление|0.5909893', 'обивка|0.5890375', 'цветок|0.58879185', 'южный|0.5874645', 'обои|0.58690655', 'шарм|0.5864382', 'полый|0.58506346', 'открываться|0.58453834', 'комод|0.58324695', 'занавеска|0.582642', 'небо|0.5818478', 'роспись|0.5818171', 'резной|0.5805654', 'цвет|0.57997847', 'рисунок|0.5780671', 'любоваться|0.5780189', 'угол|0.57616866', 'коричневый|0.5760729', 'широкий|0.5758825', 'голубой|0.5747736', 'деревянный|0.5744939', 'шкаф|0.5737727']\n",
            "Aspect 11:\n",
            "['тёплый|0.6774356', 'ненавязчивый|0.65393186', 'общий_впечатление|0.6146547', 'особенный|0.6097561', 'очень_приятный|0.6075668', 'навязчивый|0.6065866', 'очень_понравиться|0.6007019', 'очень_порадовать|0.59958977', 'прекрасно|0.5982505', 'запомниться|0.5982106', 'приятный|0.597293', 'ммммм|0.58209944', 'душевный|0.577739', 'остаться_очень_довольный|0.5774547', 'целое|0.57705057', 'вкусный_еда|0.5738812', 'весь_очень_вкусно|0.5725019', 'очень_хороший|0.5718069', 'великолепно|0.56498456', 'весь_очень|0.5649663', 'располагать|0.564911', 'пролететь|0.5630895', 'восхитительный|0.5627189', 'душевно|0.5624908', 'понравиться_весь|0.56191605', 'довольный|0.5607283', 'оч|0.5566708', 'весь_очень_понравиться|0.55344677', 'чудесно|0.5516747', 'атмосфера|0.5510963', 'безумно|0.549091', 'порадовать|0.5480534', 'выше_весь_похвала|0.5469098', 'подкачать|0.54690945', 'нарекание|0.54664576', 'особый|0.5437265', 'сытый|0.54327095', 'очень_очень_долго|0.5429783', 'идеально|0.54170775', 'обстановка|0.54096615', 'прийти_ещё|0.5407549', 'незаметно|0.5406512', 'восторг|0.54039156', 'живот|0.53850454', 'расслаблять|0.5369336', 'мера|0.5358964', 'замечательный|0.5323566', 'волшебный|0.5319204', 'потрясающе|0.5312723', 'отлично|0.5311875', 'весь_понравиться|0.53106123', 'предупредительный|0.5306483', 'великолепный|0.53046966', 'очень_понравиться_весь|0.52944493', 'остаться_довольный|0.52928907', 'домашний|0.5282663', 'хор|0.5247397', 'достойно|0.5240042', 'неспешный|0.5234817', 'изумительный|0.51956475', 'остаться_очень_приятный|0.51749426', 'превосходный|0.51680356', 'обстановочка|0.5161517', 'очень_вкусно|0.5148314', 'немного|0.5124757', 'позитивный|0.51191396', 'внимательный|0.51142603', 'особенно|0.5083126', 'насладиться|0.5060573', 'очень_вкусный|0.5055727', 'спокойный|0.50286293', 'ооочень_вкусный|0.49865246', 'наслаждаться|0.49820969', 'зы|0.49570554', 'чудесный|0.49056268', 'порция_большой|0.4891741', 'весь_очень_вкусный|0.48591104', 'доброжелательный|0.48578158', 'непринуждённый|0.48541963', 'завершение|0.48513773', 'качественно|0.48390067', 'очень_очень|0.48368883', 'праздничный|0.48194748', 'общий|0.48181129', 'уютный|0.48179767', 'расслабить|0.4809445', 'приятно|0.4807956', 'безупречный|0.48069078', 'приём|0.48002738', 'вкусно|0.47929764', 'душа|0.47890547', 'зажигательный|0.4786773', 'сытно|0.47784078', 'прекрасный|0.477633', 'высокий_уровень|0.47753465', 'изыскать|0.47750387', 'превосходно|0.47673738', 'лёгкий|0.4765617', 'интерьер_очень_уютный|0.47608167', 'фоновый|0.47579244']\n",
            "Aspect 12:\n",
            "['полтора|0.7871966', 'половина|0.7534799', 'ровно|0.72816646', '15_минута|0.7240571', 'минимум|0.71820056', '20_минута|0.70960826', 'примерно|0.7078347', 'соответственно|0.704839', 'дождаться|0.70166683', 'заполнить|0.69466937', 'час|0.68948454', 'максимум|0.68754107', 'выясниться|0.6792823', 'это_время|0.6768714', 'оплатить|0.6748786', 'полчаса|0.6746799', 'прийтись|0.6740893', 'десять|0.6736907', 'простоять|0.67179304', 'вынести|0.666743', 'просидеть|0.66298985', 'оговорить|0.6625564', 'прождать|0.661975', 'отдать|0.6610486', 'результат|0.65993774', 'напоминание|0.6574699', 'расчёт|0.6539854', 'мина|0.6535241', '10_минута|0.65299124', 'пять|0.6505765', 'естественно|0.64884907', 'остаток|0.6483698', 'дозаказать|0.64629364', 'перемена|0.6435534', 'бокс|0.6426118', 'забрать|0.6411851', 'демонстративно|0.64030635', 'коробка|0.6391987', 'унести|0.63606966', 'вернуть|0.63158417', 'закрытие|0.6315046', 'заплатить|0.6302321', 'спустя|0.6296204', '1_5_час|0.6276801', 'сумма|0.6269869', 'течение|0.6258391', 'привезти|0.62488335', 'убрать|0.6244632', 'рассчитать|0.6188178', 'оплата|0.61716336', 'четверо|0.6161699', 'курс|0.6155064', 'пообещать|0.6144965', 'подождать|0.6136019', 'внести|0.6133022', 'предупреждать|0.6132816', 'сделать_заказ|0.60398316', 'уйти|0.59875584', 'уложиться|0.5971671', 'получас|0.59635603', 'четыре|0.59507626', 'вынос|0.59494007', 'двадцать|0.59466803', 'предупредить|0.5932989', 'указать|0.59246844', 'посчитать|0.5912231', 'предоплата|0.59037113', 'затем|0.59026706', 'успеть|0.5896338', 'приход|0.5879137', 'итог|0.585623', 'отказываться|0.5844016', 'контейнер|0.5831032', 'обещать|0.582018', 'очень_долго|0.5818694', 'закончиться|0.58045113', 'сложность|0.5795716', 'счёт|0.57885087', 'пятнадцать|0.5784823', 'ожидание|0.57675004', 'наполовину|0.57662535', 'персона|0.5765474', 'сколько|0.57630134', 'поменять|0.5756567', 'входить|0.5742565', 'дополнительно|0.5740285', 'попросить|0.5732942', 'депозит|0.57271934', 'около|0.5723696', 'сдача|0.5711651', 'просить|0.5711483', 'пустой|0.56932676', 'оплачивать|0.5691645', 'попытка|0.5684923', 'процент|0.5671707', 'обнаружить|0.5654484', 'полупустой|0.5648321', 'заставить|0.56476164', 'пропасть|0.5644914', 'опоздать|0.56077635']\n",
            "Aspect 13:\n",
            "['гриль|0.66049767', 'рыба|0.6496519', 'салат_цезарь|0.6308434', 'греческий|0.62610525', 'мясной|0.61033374', 'выбрать|0.6075419', 'стейка|0.5988909', 'рыбный|0.58909327', 'говядина|0.58903366', 'свинина|0.58520555', 'дорад|0.5849496', 'стейк|0.5828561', 'цезарь|0.5809354', 'овощ|0.580756', 'баклажан|0.5789654', 'шашлык|0.5648157', 'рибай|0.55912596', 'курица|0.5587027', 'дораду|0.5557456', 'морепродукт|0.5549073', 'оливья|0.55406696', 'карпаччо|0.55287266', 'салатик|0.546934', 'плов|0.54668975', 'мангал|0.5425656', 'креветка|0.5406784', 'шашлычок|0.53791463', 'пекински|0.53529954', 'узбекский|0.5339388', 'свинин|0.5339253', 'форель|0.5290365', 'стейковы|0.5260973', 'осетрина|0.52272564', 'закуска|0.5211635', 'приготовить|0.5199002', 'вок|0.51985', 'телятина|0.5195812', 'коптить|0.5191991', 'салат|0.5184063', 'цыплёнок|0.5168842', 'заказывать|0.51458627', 'ассорти|0.5098407', 'стэйк|0.50942934', 'свиной|0.505604', 'мидия|0.50508386', 'куриный|0.5046539', 'лосось|0.50396514', 'долму|0.5039257', 'свинный|0.49976552', 'муж|0.49640968', 'судак|0.49474996', 'рёбрышко|0.49196336', 'мраморный|0.49119464', 'посоветовать|0.49036652', 'состав|0.4902775', 'заказать|0.48915634', 'колбаска|0.48813748', 'выбирать|0.48686555', 'остановиться|0.48434517', 'выбор|0.4815552', 'кисло_сладкое_соус|0.48133117', 'рулька|0.4812074', 'кебаб|0.48096055', 'барашек|0.47984272', 'тигровый|0.4769872', 'запечёный|0.47684187', 'миньон|0.47558442', 'крылышко|0.47507778', 'лазание|0.47363943', 'помнить|0.473104', 'раздел|0.47222003', 'пасть|0.47217456', 'отговорить|0.47065228', 'вока|0.4700739', 'экспериментировать|0.4694816', 'ягнёнок|0.46817535', 'каре|0.4671589', 'острый|0.46508396', 'филе|0.4632151', 'запечь|0.46278992', 'бифстроганов|0.4626389', 'предпочитать|0.462405', 'жульен|0.4620328', 'солянка|0.46192005', 'фахитос|0.4613054', 'бефстроганов|0.46073198', 'уха|0.4604478', 'баранина|0.45974705', 'горячее_блюдо|0.4576054', 'жареный|0.45675528', 'мясо|0.4566195', 'тапас|0.4556349', 'медальон|0.455392', 'попробовать|0.45348284', 'тайский|0.45226404', 'казан|0.45216548', 'сацивить|0.45203897', 'жена|0.45159033', 'ушко|0.4494862', 'сибас|0.4485189']\n",
            "2019-12-24 21:10:20,610 INFO Epoch 8, train: 5s\n",
            "2019-12-24 21:10:20,610 INFO Total loss: 3.8057, max_margin_loss: 3.6969, ortho_reg: 0.1088\n",
            "100% 594/594 [00:05<00:00, 101.88it/s]\n",
            "Aspect 0:\n",
            "['попёс|0.654358', 'ливерпуль|0.6354616', 'прибавить|0.62690175', 'ых|0.61603725', 'немолодой|0.6076585', 'хх|0.5993417', 'food|0.5983713', 'good|0.59736156', 'студентка|0.59221065', 'of|0.5914786', 'ого|0.5870757', 'restaurant|0.58626616', 'service|0.58519804', 'прайс|0.5844518', 'полуночь|0.58198124', 'па|0.5801593', 'градус|0.58008987', 'доллар|0.5799041', 'двенадцать|0.57778436', 'тридцать|0.575971', 'were|0.575299', 'блюз|0.5735557', 'космический|0.572145', 'этак|0.5720485', 'in|0.5701274', 'no|0.56998265', 'my|0.56962895', 'ти|0.56945634', 'wa|0.5676507', 'ка|0.5666666', 'приблизительно|0.5663329', 'бальный|0.56588614', 'best|0.56587684', 'девять|0.5655408', 'this|0.5649083', 'it|0.5647456', 'выключать|0.5644699', 'пт|0.56385696', 'пятьдесят|0.56333345', 'very|0.5631296', 'фраер|0.5614183', 'бурный|0.5606159', 'парный|0.55885744', 'рок|0.55758953', 'мировой|0.5569651', 'ролик|0.5567895', 'заполняемость|0.5566489', 'you|0.55486894', 'negativa|0.553191', 'and|0.5517174', 'бум|0.55137', 'удар|0.55039537', 'we|0.55006987', 'ру|0.54920805', 'потянуть|0.5476724', 'справедливо|0.5476662', 'возраст|0.5476516', 'процент|0.5457802', 'луна|0.54577136', 'that|0.54496443', 'шансон|0.54439676', 'all|0.54281616', 'бранч|0.5427282', 'сб|0.54100215', 'отстой|0.5401832', 'диск|0.5390871', 'опера|0.53908443', 'гопник|0.53837144', 'фанера|0.5383138', 'именной|0.536552', 'резкий|0.53645825', 'подпевать|0.5358893', 'the|0.53422314', 'че|0.53358305', 'ть|0.53322697', 'ограничение|0.5329702', 'монета|0.5329281', 'основательно|0.53238446', 'place|0.53218806', 'увеличивать|0.532115', 'подорожать|0.5320005', 'басс|0.53114516', 'евро|0.53057194', 'икс|0.5301458', 'школьник|0.52981615', 'народный|0.5297849', 'группа|0.5286616', 'ву|0.52839327', 'хвостик|0.52819484', 'шато|0.5279319', 'to|0.52766407', 'поколение|0.5253415', 'копейка|0.525147', 'терпимый|0.52514184', 'мёртвый|0.52504635', 'is|0.5243064', 'пать|0.5242624', 'балет|0.5241112', 'нигиря|0.52395546', 'бабка|0.5227206']\n",
            "Aspect 1:\n",
            "['рот|0.6168923', 'масло|0.59815276', 'солёный|0.5949159', 'нарезать|0.58582664', 'кусочек|0.5835296', 'хрустеть|0.5822977', 'булка|0.5748404', 'корочка|0.57189727', 'заморозка|0.5712993', 'пережарить|0.56390226', 'лаваш|0.56381685', 'булочка|0.55576766', 'выращивать|0.55235285', 'ломтик|0.55172616', 'капуста|0.5498712', 'посыпать|0.5492739', 'лепёшка|0.547975', 'перчик|0.54641503', 'кусок|0.5463121', 'помидорка|0.5439811', 'зелень|0.54325294', 'хрен|0.5419836', 'орешек|0.54088324', 'фокачча|0.5402731', 'специя|0.5402398', 'пармезан|0.5401057', 'чеснок|0.53955495', 'сырой|0.53796184', 'разрезать|0.5374125', 'чипсы|0.53685206', 'фарш|0.535137', 'сковородка|0.5349083', 'лука|0.53487074', 'жир|0.53419435', 'тонкий|0.53365874', 'мариновать|0.53355104', 'уксус|0.5313465', 'варёный|0.5309972', 'травка|0.5306599', 'слайс|0.53058875', 'картошка|0.530089', 'палтус|0.5300591', 'тест|0.52983385', 'сковорода|0.52958274', 'жёсткий|0.52951646', 'сметана|0.5285405', 'огурчик|0.52824724', 'рыбка|0.52792794', 'яйцо|0.5273632', 'каперс|0.52724904', 'жарить|0.52574354', 'разогреть|0.5255053', 'фольга|0.5246945', 'порезать|0.5246241', 'трава|0.5245712', 'огурец|0.52425015', 'песто|0.52354634', 'бекон|0.5233888', 'майонез|0.5228495', 'картошечка|0.52233744', 'соус|0.52160394', 'лук|0.5214639', 'кубик|0.51992923', 'помидор|0.5177957', 'пожарить|0.517495', 'спаржа|0.5167432', 'протухший|0.5165136', 'плошка|0.516151', 'грудинка|0.51587427', 'переварить|0.5158501', 'свининка|0.515299', 'горшочек|0.51507777', 'горчица|0.51464576', 'сверху|0.5145335', 'завернуть|0.5137806', 'начинка|0.51358867', 'каша|0.5130888', 'курочка|0.5119987', 'нарезка|0.51175404', 'свежесть|0.5107169', 'печь|0.5097957', 'икра|0.5097815', 'соль|0.5095759', 'косточка|0.5086976', 'костя|0.5086149', 'бульон|0.5082379', 'рис|0.5080948', 'кальмар|0.5077374', 'морковь|0.5075281', 'горка|0.5064837', 'микроволновка|0.5064732', 'блин|0.5055374', 'толстой|0.5045566', 'оливка|0.50426316', 'имбирь|0.5040406', 'утка|0.50310713', 'кус|0.502223', 'сухой|0.50184906', 'соломка|0.5013552', 'слой|0.50058794']\n",
            "Aspect 2:\n",
            "['сладость|0.6969378', 'пирожное|0.68000543', 'брюла|0.67450064', 'миндальный|0.66177255', 'мусса|0.6606205', 'крем|0.65757084', 'шоколад|0.6547955', 'панакот|0.6541333', 'бисквит|0.65180254', 'банановый|0.6514407', 'печение|0.6441901', 'мильфея|0.64241946', 'карамельный|0.6384696', 'захер|0.63842666', 'шоколадный|0.6362361', 'суфле|0.63451946', 'малин|0.6343559', 'маракуйя|0.63426816', 'карамель|0.6325049', 'развалина|0.63206434', 'трюфель|0.6239122', 'манговый|0.62333786', 'капуччиный|0.62325966', 'грушевый|0.622982', 'шарик|0.62160546', 'ванильный|0.62086004', 'графский|0.6190517', 'кекс|0.6184041', 'сорбетом|0.61823493', 'марципановый|0.61639106', 'чизкейк|0.6159462', 'мятый|0.61504656', 'клубника|0.6148542', 'ягода|0.6147002', 'взбить|0.6144638', 'морковный|0.6141436', 'фисташковый|0.61376774', 'творог|0.6135155', 'фондать|0.6118543', 'какао|0.61175823', 'персиковый|0.61127317', 'ваниль|0.6107379', 'печенюшка|0.6106781', 'корица|0.6105468', 'сорбета|0.60979366', 'безе|0.60943556', 'эклер|0.60906935', 'изюм|0.60859144', 'лаймовый|0.6077344', 'пирожёнка|0.60502887', 'малина|0.6046264', 'мороженое|0.60437727', 'мятный|0.6041813', 'чайничек|0.6036249', 'песочный|0.6026137', 'чиз|0.60234416', 'заварной|0.60211', 'кокосовый|0.6015191', 'баба|0.6006017', 'меренга|0.600057', 'джема|0.59924126', 'вишня|0.5953004', 'манго|0.595017', 'сырник|0.59470487', 'пудинг|0.5937257', 'зелёный|0.5927133', 'медовик|0.5916058', 'лимонный|0.59160566', 'сухофрукты|0.59157825', 'творожный|0.5915494', 'карамелизировать|0.5914598', 'ягодный|0.59061164', 'сгущёнка|0.5900649', 'желе|0.59001225', 'тортик|0.5899925', 'брауни|0.58991003', 'личить|0.58681214', 'шарлотка|0.58646977', 'сливка|0.58626944', 'котт|0.5837388', 'сладкое|0.5836699', 'печенек|0.5836612', 'яблоко|0.58342254', 'панна|0.5818172', 'смородина|0.58148444', 'шоколадка|0.5801532', 'пирог|0.57921463', 'цедра|0.5791763', 'мармелад|0.5790031', 'цитрусовый|0.5781143', 'травяной|0.5777769', 'мусс|0.5777516', 'мороженный|0.5771886', 'пенка|0.576939', 'значиться|0.5760375', 'трубочка|0.5758425', 'кейк|0.5749103', 'тирамис|0.57449746', 'орех|0.57419', 'лесной|0.5741646']\n",
            "Aspect 3:\n",
            "['бояться|0.7833986', 'простить|0.77753973', 'ум|0.74976426', 'значит|0.7402661', 'мысль|0.73649746', 'господин|0.70901465', 'знаете|0.70662725', 'надоесть|0.7053362', 'пусть|0.70128214', 'поверить|0.6868289', 'понять|0.6831737', 'обидеть|0.6815469', 'признаться|0.67466414', 'срочно|0.6690603', 'слышать|0.6674364', 'зря|0.6662862', 'слово|0.66610557', 'признаваться|0.664989', 'право|0.6627685', 'здоровье|0.6607146', 'перестать|0.65987146', 'не_не|0.6590893', 'знак|0.6518477', 'почувствовать|0.6511131', 'речь|0.6472744', 'иначе|0.64339453', 'уверенный|0.64173675', 'мыть|0.6363338', 'сила|0.6344588', 'не_знать|0.632346', 'жизнь|0.6320958', 'наверно|0.6317357', 'вон|0.6285498', 'таракан|0.62804776', 'спорить|0.6280346', 'вечно|0.6277802', 'защита|0.62578964', 'бог|0.6253091', 'обходить|0.62406933', 'лезть|0.6220822', 'категорически|0.6189145', 'ругать|0.6184666', 'верить|0.61801755', 'стороной|0.6178241', 'ибо|0.6169029', 'неужели|0.61690176', 'извинить|0.61689323', 'борис|0.61266166', 'оттуда|0.61090285', 'возможно|0.60998917', 'удалять|0.6092874', 'говориться|0.6082773', 'убить|0.607162', 'передать|0.60679543', 'сей_пора|0.6067536', 'призывать|0.60474384', 'душить|0.6040558', 'пора|0.604006', 'постараться|0.60341036', 'довести|0.6027808', 'навсегда|0.6022441', 'страшно|0.60155606', 'земля|0.600791', 'наплевать|0.597468', 'скоро|0.59708875', 'ресторатор|0.59462017', 'бороться|0.5941872', 'следовать|0.59353423', 'плевать|0.5932947', 'научить|0.5914499', 'называть|0.588612', 'доказывать|0.5879547', 'продолжать|0.58760834', 'твой|0.58597875', 'понимать|0.5854664', 'совесть|0.5840588', 'приложить|0.58345807', 'гениальный|0.58321023', 'промолчать|0.58276623', 'ужас|0.57867736', 'голова|0.5780344', 'кома|0.57763183', 'негатив|0.5763079', 'сильный|0.57301044', 'грустный|0.5722263', 'автор|0.57213277', 'отсюда|0.5717317', 'сменить|0.5708395', 'удивляться|0.57064545', 'звезда|0.5699769', 'допускать|0.5698924', 'шок|0.56973654', 'виноватый|0.5690847', 'испытать|0.56793207', 'ругаться|0.5677419', 'быдло|0.56754947', 'строго|0.56737554', 'исправить|0.56704736', 'терпеть|0.56695634', 'это_просто|0.566857']\n",
            "Aspect 4:\n",
            "['девушка|0.7977401', 'мальчик|0.7960019', 'молодая_человек|0.7810714', 'девочка|0.7808645', 'улыбаться|0.7539768', 'официантка|0.74660635', 'парень|0.7397899', 'улыбка|0.71373564', 'барышня|0.69683486', 'улыбчивый|0.68967843', 'официант|0.68051755', 'юноша|0.667916', 'наш_столик|0.65122944', 'хостёс|0.6468266', 'звать|0.6463842', 'лицо|0.64593625', 'провожать|0.64552355', 'мила|0.63694763', 'гардеробщик|0.6291189', 'хостесса|0.62873054', 'интересоваться|0.599142', 'бармен|0.59795433', 'приветливо|0.5964287', 'принимать|0.5957831', 'здороваться|0.5949077', 'высокомерный|0.59249353', 'спрашивать|0.59037817', 'пепельница|0.58927125', 'весь_время|0.5888947', 'улыбнуться|0.5880213', 'любезный|0.5828719', 'принять_заказ|0.58192027', 'обслуживать|0.5814321', 'стойка|0.5768534', 'разговаривать|0.5734716', 'вежливый|0.5724889', 'администратор|0.56533146', 'отвечать|0.56465745', 'соседний_столик|0.564338', 'женщина|0.56158996', 'поздороваться|0.56029326', 'молоденький|0.5598167', 'прощаться|0.55897146', 'мужчина|0.5581662', 'охранник|0.554477', 'встречать|0.55216014', 'подойти|0.5452709', 'принять|0.53698784', 'доброжелательно|0.53581476', 'внимательно|0.5338438', 'забывать|0.53282076', 'внешность|0.53118724', 'молниеносно|0.5283307', 'голос|0.52708757', 'постоянно|0.52595925', 'офицант|0.5255717', 'успевать|0.5240787', 'молодая|0.5235623', 'бегать|0.5215805', 'реагировать|0.5159526', 'милый|0.51532704', 'поменять|0.5148599', 'неприветливый|0.5125002', 'кальянщик|0.5118762', 'услышать|0.5103795', 'удалиться|0.5102609', 'расторопный|0.5084497', 'шустрый|0.5072553', 'задержка|0.5070456', 'появляться|0.506934', 'просьба|0.5048304', 'объяснять|0.50236326', 'представиться|0.5022984', 'одежда|0.50193125', 'объяснить|0.501501', 'медленно|0.50105184', 'обслуживающий|0.49888164', 'дружелюбно|0.4975792', 'шутить|0.49690974', 'пытаться|0.49682114', 'волос|0.4966646', 'поинтересоваться|0.49603018', 'принести_меню|0.49568492', 'оперативно|0.49564826', 'общаться|0.49525255', 'обслужить|0.49350858', 'стараться|0.49263248', 'убирать|0.49053797', 'ответить|0.48789382', 'менять|0.48783374', 'смена|0.48692402', 'одетый|0.48569095', 'охрана|0.485169', 'любезно|0.484851', 'фраза|0.48479486', 'замечать|0.4841603', 'извиниться|0.48139048', 'спросить|0.48067415', 'приветствие|0.48020065', 'позвать|0.47997236']\n",
            "Aspect 5:\n",
            "['тесно|0.732456', 'помещение|0.7191396', 'вентиляция|0.7108438', 'дым|0.71014065', 'зона|0.7038994', 'душный|0.7018864', 'вытяжка|0.6915592', 'неуютный|0.6910125', 'диван|0.69011295', 'шумно|0.6882372', 'друг_друг|0.6803133', 'накурить|0.67787254', 'удобно|0.67727363', 'комната|0.6770333', 'комфортно|0.672843', 'дымно|0.65767944', 'курить|0.6567052', 'мешать|0.6498244', 'пространство|0.64979494', 'вокруг|0.64669114', 'кресло|0.637978', 'воздух|0.6379572', 'близко|0.63739324', 'просторно|0.6355803', 'комнатка|0.6355189', 'диванчик|0.6310084', 'кабинка|0.62851316', 'экран|0.62425315', 'светло|0.6228295', 'аквариум|0.6190476', 'туалет|0.61508', 'детский_комната|0.61365473', 'уединённость|0.6117884', 'табачный|0.6058936', 'танцполый|0.599759', 'уголок|0.5986502', 'сигаретный|0.59747577', 'зальчик|0.5971635', 'сидеть|0.5953843', 'зала|0.59209275', 'слышный|0.5914292', 'телевизор|0.59020936', 'второе_этаж|0.5896619', 'шум|0.58827543', 'стул|0.5880838', 'плазма|0.58693516', 'камин|0.5842174', 'прохладно|0.5766841', 'дальний|0.57600415', 'неудобно|0.57573205', 'просторный|0.5748381', 'деление|0.57436204', 'потолок|0.57428926', 'балкон|0.5737792', 'неудобный|0.5710052', 'дышать|0.57044286', 'удобный|0.5665439', 'барный_стойка|0.5659253', 'расстояние|0.5637021', 'веранда|0.56239617', 'тв|0.5604317', 'зеркало|0.5589104', 'потолочь|0.5579709', 'мебель|0.5549727', 'прокурить|0.5542902', 'беседка|0.5539057', 'прикольный|0.55310166', 'сосед|0.5515063', 'сцена|0.55108047', 'окно|0.5475251', 'расположить|0.5473901', 'чисто|0.5472637', 'игрушка|0.5464249', 'курильщик|0.5463707', 'свет|0.5457306', 'курящий|0.5448632', 'тесновато|0.5425034', 'курение|0.5421895', 'шумный|0.54208434', 'разделение|0.54037756', 'кондиционер|0.5379621', 'панель|0.53658867', 'освещение|0.5362014', 'внутри|0.5352622', 'зал|0.5351206', 'дерево|0.5349579', 'перегородка|0.5300226', 'стена|0.52933013', 'кругом|0.52905726', 'народ|0.52822125', 'скамейка|0.52820194', 'некурящий|0.52761996', 'темно|0.5244154', 'футбольный|0.524253', 'терасс|0.5233654', 'уединиться|0.5229138', 'подвал|0.52177167', 'люстра|0.52051336', 'очень_уютный|0.51882106', 'подушечка|0.51754063']\n",
            "Aspect 6:\n",
            "['ценовый|0.7457926', 'ценник|0.7364991', 'категория|0.73137105', 'уровень|0.72522414', 'завысить|0.7175669', 'крайний_мера|0.7090527', 'соответствовать|0.70106256', 'выше|0.7008289', 'цена_качество|0.6911715', 'цена|0.6894387', 'фаста|0.68368113', 'сравнение|0.681769', 'качество|0.6804273', 'ниже|0.66632646', 'отличие|0.65882754', 'фуд|0.65786123', 'изыск|0.6551516', 'считать|0.6433815', 'учитывать|0.63395053', 'среднее|0.6310197', 'недостаток|0.6226896', 'забегаловка|0.61790717', 'демократичный|0.61755645', 'японский|0.61041635', 'средний|0.6096367', 'политика|0.6096334', 'адекватный|0.60838664', 'сетевой|0.6079345', 'многий|0.60341305', 'оценивать|0.6012536', 'отличаться|0.59876055', 'формат|0.59711766', 'оценка|0.5956496', 'удивлять|0.593843', 'принцип|0.59356976', 'намного|0.5924896', 'высокий|0.5901042', 'соотношение_цена_качество|0.5877359', 'гуманный|0.5867356', 'приемлемый|0.5863719', 'европейский|0.58323073', 'заведение|0.5783697', 'последний_время|0.57788223', 'значительно|0.5735414', 'простой|0.5708383', 'касаться|0.5703693', 'назвать|0.56764436', 'вполне|0.56259876', 'скорее|0.55844164', 'гинза|0.55799466', 'взгляд|0.55761206', 'большинство|0.5542803', 'ресторанный|0.55264276', 'низкий|0.5518216', 'дёшево|0.55005026', 'умеренный|0.54866654', 'разнообразие|0.54757684', 'достойный|0.5469075', 'пожалуй|0.5446662', 'согласный|0.5410662', 'менее|0.5404229', 'дорого|0.53673136', 'подобный|0.53656065', 'оправдывать|0.53515023', 'весь_остальной|0.5343553', 'продукт|0.5331922', 'посредственный|0.5313026', 'претензия|0.5308101', 'однозначно|0.53047454', 'например|0.52958024', 'дорогой|0.52934885', 'не_мочь_сказать|0.5271188', 'китайский|0.5270127', 'гораздо|0.5248504', 'общепит|0.52435005', 'стандартный|0.5243485', 'иной|0.52333254', 'стандарт|0.52296966', 'понятный|0.52048755', 'относительно|0.51909894', 'обычный|0.51777077', 'качественный|0.5173798', 'дороговатый|0.51536417', 'средненький|0.51446676', 'крайне|0.51023674', 'дешёвый|0.5088954', 'нарекание|0.50656706', 'бистро|0.5060607', 'однако|0.5049818', 'плохой|0.50235033', 'сервис|0.5021442', 'гурман|0.501421', 'претендовать|0.49910486', 'приличный|0.4988346', 'исключение|0.49736273', 'являться|0.49729615', 'главный|0.493755', 'сеть|0.49372262', 'имхо|0.4932661', 'план|0.49317196']\n",
            "Aspect 7:\n",
            "['висок|0.85363317', 'коктейль|0.8014382', 'безалкогольный|0.78815633', 'водка|0.78726065', 'крепкий|0.76720226', 'пить|0.766113', 'мохитый|0.761895', 'алкогольный|0.76157844', 'мартини|0.73841345', 'выпить|0.73645616', 'литр|0.73569816', 'пила|0.73017764', 'крушовица|0.71969163', 'разливный|0.71469426', 'коньяк|0.711869', 'нефильтрованный|0.70683295', 'кружка|0.7062412', 'руль|0.704449', 'сорт|0.7029043', 'пиво|0.7021681', 'бутылочка|0.7000733', 'морс|0.70001125', 'вишнёвый|0.6986394', 'бутылочный|0.68835485', 'сангрия|0.68438745', 'ньюкасл|0.6789017', 'пинта|0.6772099', 'сидр|0.6730318', 'коктель|0.66788757', 'лимонад|0.6640313', 'бланша|0.6634534', 'глинтвейн|0.6600542', 'хугарден|0.6569371', 'закусить|0.6476836', 'эль|0.6467973', 'лонг|0.644758', 'бокал|0.6410389', 'бокальчик|0.6402885', 'стаут|0.63459253', 'кальян|0.634317', 'напиток|0.63066065', 'распитие|0.62933284', 'пшеничный|0.6280477', 'гиннес|0.62642527', 'пивко|0.62548614', 'квас|0.6204791', 'игристый|0.61880326', 'попить|0.6150478', 'текила|0.6121832', 'айленд|0.6113403', 'василеостровский|0.6091795', 'потягивать|0.6032697', 'ром|0.6015717', 'ликёр|0.5980561', 'грапп|0.5978386', 'настойка|0.59745127', 'сок|0.5928787', 'алкоголь|0.59033686', 'графин|0.5902205', 'эспрессо|0.58427227', 'рюмка|0.5841511', 'бельгийский|0.5829364', 'дайкири|0.5801537', 'вода|0.5797302', 'бутылка|0.57926965', 'угостить|0.5787392', 'шампанский|0.5787344', 'наливать|0.5771979', 'литровый|0.5754129', 'вино|0.56890345', 'бесплатный|0.565819', 'сироп|0.5626101', 'медовуха|0.5620555', 'кувшин|0.5617415', 'лёд|0.56096375', 'облепиховый|0.55902076', 'джина|0.55814177', 'эдельвейс|0.5567151', 'каберне|0.55652034', 'америкать|0.5559936', 'немецкий|0.55477047', 'фирменный|0.554321', 'кола|0.55236703', 'чай|0.55158573', 'поллитра|0.55128616', 'производство|0.5506447', 'стакан|0.54798543', 'чашечка|0.5469642', 'лагер|0.5454018', 'вельвет|0.54422367', 'коктейльный|0.5421006', 'кофе|0.54059327', 'килкенни|0.5403901', 'компот|0.5402685', 'пино|0.537085', 'употреблять|0.5365414', 'лимончелло|0.53605187', '100р|0.5329448', 'закусывать|0.52953947', 'минеральный|0.5274122']\n",
            "Aspect 8:\n",
            "['организация|0.8245077', 'организовать|0.8051127', 'тамада|0.79726857', 'подготовка|0.77574915', 'свадебный|0.76394457', 'торжество|0.7590598', 'благодарность|0.75306606', 'ольга|0.7530248', 'мероприятие|0.7488022', 'организатор|0.7343246', 'праздник|0.73252773', 'майкл|0.7284807', 'огромный_спасибо|0.7279533', 'молодожён|0.7185939', 'пожелание|0.7180389', 'весь_гость|0.7174895', 'директор|0.71606225', 'ирина|0.71417034', 'банкет|0.70791954', 'весь_наш|0.70620596', 'ведущий|0.70353884', 'большой_спасибо|0.694484', 'невеста|0.69038844', 'наталья|0.69008315', 'подарок|0.6878992', 'владимир|0.6865524', 'команда|0.6854402', 'евгений|0.68529505', 'елена|0.68289566', 'банкетный|0.68248224', 'фуршет|0.6766479', 'отдельный_спасибо|0.67542166', 'профессионализм|0.67426693', 'сотрудник|0.6723157', 'коллектив|0.6715616', 'учесть|0.66848266', 'александр|0.66696274', 'сергей|0.66640484', 'номер|0.6644586', 'профессионал|0.66211414', 'татьяна|0.6599845', 'свадьба|0.65791726', 'марин|0.6554303', 'уважение|0.65495205', 'проведение|0.6548006', 'выражать|0.6515094', 'станислав|0.6456426', 'алексей|0.6439868', 'управлять|0.6425174', 'анастасий|0.6369555', 'участие|0.63270813', 'банкетный_зал|0.62967527', 'наш_свадьба|0.6266935', 'менеджер|0.62656295', 'честь|0.6265247', 'благодаря|0.6228067', 'благодарить|0.621044', 'дмитрий|0.62084234', 'поблагодарить|0.6139159', 'программа|0.6090868', 'бельканто|0.60831463', 'каравай|0.6076158', 'поклон|0.60531104', 'договор|0.6051324', 'новый_год|0.6038666', 'помощь|0.60145223', 'шоу|0.59854436', 'весь_наш_пожелание|0.5983995', 'андрей|0.59524417', 'фотограф|0.59462833', 'бравый|0.5934527', 'подарить|0.5870265', 'профессиональный|0.58507645', 'признательность|0.5847397', 'администрация|0.5827284', 'услуга|0.58266866', 'виктор|0.5825722', 'совет|0.5825166', 'родитель|0.5817531', 'жених|0.5801947', 'юбилей|0.5801695', 'жанна|0.57888144', 'регистрация|0.57729', 'чуткий|0.5758598', 'событие|0.57352555', 'артист|0.57265246', 'юлий|0.57254004', 'дмитрия|0.5724195', 'конкурс|0.5719497', 'кондитер|0.5696979', 'марина|0.5685179', 'мастер|0.56845504', 'поздравление|0.5678582', 'благодарный|0.5670855', 'галина|0.5658764', 'юлия|0.5650208', 'вячеслав|0.56350505', 'шеф_повар|0.56300217', 'предоставить|0.5624099', 'кейтеринг|0.56167185']\n",
            "Aspect 9:\n",
            "['заехать|0.7640102', 'пообедать|0.7462871', 'сегодня|0.7420718', 'вчера|0.7239958', 'поехать|0.71642303', 'пр|0.7068113', 'прогулка|0.7044566', 'поужинать|0.69590867', 'воскресение|0.69279146', 'однокурсник|0.6837714', 'обедать|0.6827513', 'московский|0.67752194', 'случайно|0.6760516', 'забежать|0.6714724', 'недавно|0.6680658', 'перекусить|0.6610762', 'ехать|0.65552986', 'ездить|0.6537005', 'невский|0.6502803', 'заезжать|0.6491095', 'офис|0.6477028', 'гулять|0.647304', 'ул|0.6465188', 'отправиться|0.64494383', 'днём|0.6423258', 'подружка|0.6385519', 'заслать|0.63598686', 'ужинать|0.63043725', 'петроградка|0.6294003', 'район|0.62742066', 'это_кафе|0.626879', 'недалеко|0.61888427', 'открыться|0.61358786', 'заглянуть|0.610572', 'побывать|0.6023334', 'жить|0.60070443', 'приморский|0.5985117', 'заскочить|0.59650785', 'проезжать|0.5945462', 'воскресный|0.5939429', 'выходной|0.5918296', 'приезжать|0.5918194', 'восстание|0.59128904', 'поход|0.5889609', 'проспект|0.58857167', 'дом|0.5873519', 'москва|0.58611083', 'суббота|0.58312714', 'завтрак|0.58298266', 'перерыв|0.58058953', 'забегать|0.5798178', 'жена|0.5780932', 'добраться|0.5774709', 'январь|0.5756421', 'год_назад|0.5748303', 'ноябрь|0.57224655', 'ходьба|0.5693562', 'парка|0.5684012', 'встретиться|0.56814', 'остров|0.5680598', 'прогуливаться|0.5674412', 'утро|0.56629574', 'март|0.5658839', 'посетить|0.56484437', 'очередной|0.56231403', 'май|0.5622709', 'вечером|0.5604322', 'приехать|0.55996543', 'мама|0.5579189', 'лето|0.5578041', 'забрести|0.55753255', 'четверг|0.5566232', 'месяц|0.55619794', 'февраль|0.5558773', 'захаживать|0.5542944', 'евразия|0.55388755', 'дочка|0.55371857', 'питер|0.55276537', 'семья|0.55155456', 'коллега|0.54970694', 'заходить|0.5489037', 'обед|0.5486074', 'однажды|0.5477457', 'среда|0.545635', 'неделя|0.5452049', 'поздно|0.5449884', 'летом|0.544666', 'рубинштейн|0.5444338', 'полгода|0.5411209', 'прогуляться|0.537838', 'осень|0.5368421', 'путь|0.53668946', 'цель|0.53651065', 'покушать|0.53635424', 'театр|0.5347104', 'занести|0.53398424', 'пешком|0.53317285', 'сходить|0.5331114', 'наткнуться|0.53201234', 'разведка|0.5317716']\n",
            "Aspect 10:\n",
            "['полка|0.7174244', 'старинный|0.7067462', 'старое|0.70013916', 'стен|0.6963999', 'журнал|0.68133676', 'стена|0.68016064', 'лампа|0.6790397', 'ля|0.6761799', 'предмет|0.67340624', 'черно|0.6722509', 'картина|0.67216545', 'белые|0.66849464', 'рамка|0.662952', 'кирпичный|0.662887', 'стеклянный|0.6627739', 'золотой|0.6624892', 'деталь|0.6600379', 'синий|0.6590481', 'фотография|0.64825225', 'подоконник|0.6462089', 'элемент|0.64608', 'люстра|0.6452676', 'газета|0.64517045', 'множество|0.64329344', 'белоснежный|0.6388788', 'буфет|0.6381229', 'кирпич|0.6363616', 'крыша|0.6361851', 'дерево|0.6359043', 'винный|0.6350772', 'атрибутика|0.63306975', 'плитка|0.63129133', 'штора|0.63095826', 'тон|0.6307127', 'плазменный|0.63060474', 'прованс|0.63015616', 'внутренний|0.6300777', 'серый|0.6285376', 'потолок|0.6274431', 'убранство|0.626297', 'доска|0.62625194', 'искусственный|0.6210915', 'обилие|0.62019527', 'светящийся|0.61993825', 'полочка|0.619663', 'подсвечник|0.61875796', 'декор|0.61751854', 'светильник|0.6169292', 'стеллаж|0.6164229', 'стекло|0.6163824', 'кровать|0.6162278', 'краска|0.6132416', 'прочий|0.6125882', 'свет|0.61236674', 'солнце|0.6122891', 'фильм|0.6116802', 'панель|0.61129165', 'мебель|0.6098983', 'клетка|0.60930884', 'абажур|0.6092262', 'кладка|0.6088326', 'массивный|0.6054692', 'пол|0.6045615', 'гамма|0.60345733', 'цветовой|0.6034312', 'подсветка|0.6032568', 'взор|0.60266376', 'цветочек|0.60176545', 'кожаный|0.6000289', 'ткань|0.5992913', 'свод|0.59921587', 'библиотека|0.5972877', 'современный|0.5970294', 'огонь|0.5969837', 'вдоль|0.59682107', 'направление|0.5966761', 'зеркало|0.5966704', 'блестящий|0.5961622', 'цветок|0.5947227', 'ширма|0.59467834', 'обивка|0.59450054', 'обои|0.59325904', 'комод|0.5909094', 'шарм|0.5906905', 'южный|0.59059525', 'цвет|0.58841705', 'резной|0.5882791', 'полый|0.5879599', 'роспись|0.5873182', 'занавеска|0.58704114', 'рисунок|0.58587694', 'коричневый|0.5829277', 'небо|0.5826211', 'широкий|0.5822482', 'голубой|0.5814684', 'открываться|0.5812329', 'любоваться|0.58050513', 'деревянный|0.57923037', 'логотип|0.576743', 'растение|0.57646394']\n",
            "Aspect 11:\n",
            "['тёплый|0.6765387', 'ненавязчивый|0.6509998', 'общий_впечатление|0.6139573', 'навязчивый|0.6052398', 'особенный|0.6027795', 'очень_приятный|0.5990587', 'прекрасно|0.5963387', 'очень_понравиться|0.5949909', 'запомниться|0.594159', 'очень_порадовать|0.5941074', 'приятный|0.58759487', 'ммммм|0.58132637', 'целое|0.57517326', 'остаться_очень_довольный|0.5738588', 'весь_очень_вкусно|0.5721175', 'душевный|0.5720514', 'вкусный_еда|0.567668', 'очень_хороший|0.565273', 'пролететь|0.56488', 'великолепно|0.5639932', 'довольный|0.5628519', 'весь_очень|0.56267536', 'душевно|0.5623942', 'восхитительный|0.56230545', 'понравиться_весь|0.5588357', 'оч|0.5567536', 'располагать|0.5552753', 'безумно|0.55350405', 'весь_очень_понравиться|0.55036604', 'чудесно|0.5497068', 'сытый|0.5473832', 'подкачать|0.547171', 'нарекание|0.5464487', 'выше_весь_похвала|0.5449116', 'атмосфера|0.54467607', 'незаметно|0.5437522', 'идеально|0.541309', 'восторг|0.54052407', 'очень_очень_долго|0.5399822', 'порадовать|0.5391983', 'живот|0.53875655', 'мера|0.5386383', 'прийти_ещё|0.5375974', 'особый|0.53739274', 'обстановка|0.5359023', 'потрясающе|0.53343534', 'волшебный|0.53201526', 'расслаблять|0.5319693', 'отлично|0.5298809', 'замечательный|0.52877796', 'предупредительный|0.52847797', 'весь_понравиться|0.5280216', 'остаться_довольный|0.5263785', 'очень_понравиться_весь|0.5261935', 'домашний|0.5253293', 'великолепный|0.5248311', 'хор|0.5243987', 'достойно|0.5237716', 'неспешный|0.51900613', 'очень_вкусно|0.5186187', 'изумительный|0.51569283', 'превосходный|0.514228', 'обстановочка|0.51138306', 'остаться_очень_приятный|0.51112366', 'внимательный|0.5095023', 'немного|0.5088098', 'особенно|0.5057621', 'очень_вкусный|0.505384', 'позитивный|0.5049989', 'насладиться|0.5016265', 'наслаждаться|0.49875182', 'ооочень_вкусный|0.49633557', 'спокойный|0.49556142', 'зы|0.49377424', 'порция_большой|0.49183908', 'чудесный|0.4863848', 'весь_очень_вкусный|0.48614872', 'завершение|0.48532307', 'качественно|0.48415083', 'доброжелательный|0.48359373', 'очень_очень|0.48279938', 'сытно|0.48210013', 'вкусно|0.48189813', 'приятно|0.4792778', 'общий|0.4789564', 'праздничный|0.47864357', 'непринуждённый|0.47827178', 'скрасить|0.47696906', 'расслабить|0.4766183', 'душа|0.47654486', 'превосходно|0.4759387', 'изыскать|0.47583795', 'интерьер_очень_уютный|0.47541955', 'уютный|0.47522044', 'зажигательный|0.4744516', 'приём|0.4743536', 'безупречный|0.4734527', 'придраться|0.47247323', 'высота|0.47211337', 'лёгкий|0.47209996']\n",
            "Aspect 12:\n",
            "['полтора|0.791356', 'половина|0.7567371', 'ровно|0.7316524', 'минимум|0.7215787', '15_минута|0.72132576', 'примерно|0.71012455', '20_минута|0.70916915', 'соответственно|0.70659864', 'дождаться|0.6973915', 'заполнить|0.6960847', 'максимум|0.6929959', 'час|0.6907759', 'это_время|0.67576', 'выясниться|0.67416614', 'полчаса|0.6738767', 'десять|0.67372036', 'прийтись|0.6731018', 'простоять|0.67132163', 'оплатить|0.669189', 'вынести|0.6651746', 'просидеть|0.6635882', 'оговорить|0.66159314', 'прождать|0.6608485', 'результат|0.66046864', 'отдать|0.6595428', 'напоминание|0.65728956', 'остаток|0.65264946', 'мина|0.6520528', 'пять|0.6503617', 'перемена|0.6502067', 'расчёт|0.65013033', 'дозаказать|0.64889896', '10_минута|0.6484722', 'коробка|0.64518344', 'бокс|0.6451139', 'естественно|0.6449502', 'демонстративно|0.63818145', 'забрать|0.6374876', 'унести|0.63306063', 'закрытие|0.6308016', '1_5_час|0.62907237', 'вернуть|0.6283425', 'спустя|0.6279735', 'заплатить|0.62726456', 'течение|0.6259744', 'привезти|0.6255417', 'сумма|0.6240842', 'убрать|0.6230984', 'рассчитать|0.6201097', 'четверо|0.6179985', 'курс|0.6132211', 'оплата|0.6115737', 'подождать|0.61144286', 'внести|0.6095519', 'предупреждать|0.6086971', 'пообещать|0.60722136', 'четыре|0.603188', 'вынос|0.6017672', 'уложиться|0.60016257', 'сделать_заказ|0.59938765', 'получас|0.5989548', 'уйти|0.59416556', 'двадцать|0.5931172', 'посчитать|0.58929414', 'приход|0.5887116', 'успеть|0.5882317', 'указать|0.5881938', 'предоплата|0.58730876', 'предупредить|0.58650607', 'контейнер|0.5865013', 'затем|0.58579767', 'сложность|0.5850687', 'очень_долго|0.5833862', 'наполовину|0.58273077', 'итог|0.5823158', 'сколько|0.5822594', 'отказываться|0.5815571', 'персона|0.58069897', 'пятнадцать|0.5779954', 'ожидание|0.5769077', 'счёт|0.5760489', 'дополнительно|0.5755528', 'закончиться|0.57484305', 'обещать|0.5742595', 'около|0.5728003', 'входить|0.5725158', 'пустой|0.5721147', 'поменять|0.571931', 'депозит|0.57101417', 'просить|0.5676961', 'сдача|0.56751144', 'оплачивать|0.5667814', 'полупустой|0.565852', 'процент|0.56493944', 'попросить|0.5647988', 'обнаружить|0.5641537', 'опоздать|0.56371987', 'прибыть|0.56302226', 'попытка|0.56287813', 'заставить|0.56240654']\n",
            "Aspect 13:\n",
            "['гриль|0.6569805', 'рыба|0.64336723', 'салат_цезарь|0.6249931', 'греческий|0.6228694', 'выбрать|0.61155164', 'мясной|0.6034276', 'стейка|0.5948348', 'говядина|0.58436835', 'рыбный|0.5824132', 'стейк|0.5804777', 'свинина|0.5802903', 'дорад|0.57936597', 'цезарь|0.5774951', 'овощ|0.57586956', 'баклажан|0.57305753', 'шашлык|0.5620227', 'рибай|0.5553857', 'курица|0.55491704', 'дораду|0.5497905', 'оливья|0.5489516', 'морепродукт|0.54804325', 'карпаччо|0.5458425', 'салатик|0.5417111', 'плов|0.5392394', 'мангал|0.53636134', 'креветка|0.535942', 'шашлычок|0.5313149', 'свинин|0.5300775', 'пекински|0.52988577', 'узбекский|0.5296492', 'форель|0.523538', 'стейковы|0.5213839', 'закуска|0.51656735', 'салат|0.5163509', 'заказывать|0.5153799', 'телятина|0.5152397', 'коптить|0.51465744', 'приготовить|0.51426727', 'осетрина|0.5141202', 'вок|0.5128539', 'цыплёнок|0.5112939', 'стэйк|0.50437504', 'ассорти|0.5027267', 'свиной|0.5017806', 'куриный|0.501076', 'долму|0.4994957', 'мидия|0.49915925', 'лосось|0.49900535', 'муж|0.49763286', 'свинный|0.49384403', 'заказать|0.49294192', 'посоветовать|0.49231187', 'выбирать|0.49038714', 'судак|0.48832822', 'мраморный|0.48719177', 'остановиться|0.48704445', 'рёбрышко|0.48702925', 'состав|0.48631886', 'колбаска|0.48401043', 'выбор|0.48172212', 'рулька|0.47725445', 'кебаб|0.4750338', 'кисло_сладкое_соус|0.47498274', 'барашек|0.473269', 'тигровый|0.4727062', 'помнить|0.47262448', 'миньон|0.47206703', 'крылышко|0.47017282', 'пасть|0.4700929', 'запечёный|0.46983194', 'отговорить|0.4681282', 'раздел|0.46795022', 'лазание|0.4670184', 'экспериментировать|0.46486', 'ягнёнок|0.4632812', 'вока|0.4623574', 'каре|0.46133173', 'предпочитать|0.46042866', 'бифстроганов|0.4583921', 'острый|0.45813966', 'филе|0.45770088', 'запечь|0.45707345', 'бефстроганов|0.45653793', 'баранина|0.45447403', 'солянка|0.45431885', 'жульен|0.4542784', 'фахитос|0.45422694', 'уха|0.45342785', 'попробовать|0.45296064', 'мясо|0.45260137', 'жареный|0.45234066', 'жена|0.45232433', 'горячее_блюдо|0.45028904', 'медальон|0.44974515', 'тапас|0.44959742', 'тайский|0.44688678', 'сацивить|0.44505775', 'пармиджать|0.44477305', 'готовиться|0.44333208', 'ушко|0.44307095']\n",
            "2019-12-24 21:10:26,679 INFO Epoch 9, train: 5s\n",
            "2019-12-24 21:10:26,679 INFO Total loss: 3.7798, max_margin_loss: 3.6709, ortho_reg: 0.1089\n",
            "100% 594/594 [00:05<00:00, 100.89it/s]\n",
            "Aspect 0:\n",
            "['попёс|0.6479957', 'ливерпуль|0.62966466', 'прибавить|0.61903', 'ых|0.61289966', 'немолодой|0.5994401', 'food|0.5899261', 'хх|0.58936524', 'good|0.58864295', 'of|0.5852878', 'restaurant|0.5787046', 'ого|0.578661', 'service|0.5770048', 'студентка|0.57690024', 'градус|0.57550526', 'прайс|0.57329977', 'доллар|0.57131696', 'полуночь|0.5694774', 'were|0.56913775', 'па|0.56774855', 'двенадцать|0.5653709', 'in|0.5651767', 'блюз|0.56461906', 'ти|0.5643279', 'wa|0.5633977', 'тридцать|0.5632605', 'best|0.5628731', 'ка|0.56169814', 'no|0.5613306', 'my|0.5608803', 'бальный|0.5595303', 'космический|0.55912495', 'it|0.5591199', 'этак|0.55844635', 'very|0.55673903', 'выключать|0.55570674', 'this|0.5555527', 'девять|0.555197', 'приблизительно|0.5546484', 'пятьдесят|0.5520519', 'бурный|0.5499815', 'пт|0.54912645', 'and|0.54800797', 'рок|0.54798794', 'ролик|0.5467203', 'заполняемость|0.5464514', 'you|0.5459307', 'парный|0.5456821', 'процент|0.54559106', 'we|0.5454386', 'мировой|0.54479367', 'фраер|0.54426324', 'negativa|0.5421917', 'удар|0.5415991', 'that|0.53858566', 'потянуть|0.5380105', 'ру|0.5378231', 'справедливо|0.5370538', 'шансон|0.5358708', 'бум|0.53574646', 'all|0.5344826', 'возраст|0.53395295', 'the|0.5331796', 'луна|0.5316305', 'бранч|0.5313406', 'отстой|0.53106076', 'опера|0.53086376', 'диск|0.5303248', 'сб|0.52773565', 'резкий|0.5265232', 'копейка|0.52578855', 'фанера|0.5253167', 'подпевать|0.5252119', 'че|0.5245421', 'группа|0.52441007', 'именной|0.52420807', 'евро|0.5237875', 'to|0.5234469', 'монета|0.5229708', 'хвостик|0.5228505', 'увеличивать|0.5228425', 'основательно|0.5222499', 'гопник|0.5217986', 'place|0.5211801', 'ть|0.5211249', 'подорожать|0.520738', 'народный|0.51954293', 'ограничение|0.51948434', 'is|0.5171691', 'икс|0.51664734', 'басс|0.5160885', 'клубный|0.51556194', 'мёртвый|0.51530445', 'шато|0.5149334', 'бал|0.5146996', 'нигиря|0.514084', 'ву|0.5137581', 'школьник|0.51313454', 'пать|0.5123935', 'афиша|0.51238257', 'источник|0.5122673']\n",
            "Aspect 1:\n",
            "['рот|0.6121473', 'масло|0.5899615', 'солёный|0.5882021', 'нарезать|0.58228993', 'хрустеть|0.5792144', 'кусочек|0.57832074', 'булка|0.57004094', 'заморозка|0.5676254', 'корочка|0.56657505', 'лаваш|0.5635786', 'пережарить|0.55620086', 'булочка|0.55435836', 'ломтик|0.5512769', 'лепёшка|0.54926264', 'выращивать|0.5471583', 'капуста|0.5468816', 'посыпать|0.54508734', 'перчик|0.5450149', 'хрен|0.5430952', 'кусок|0.5413604', 'помидорка|0.54050356', 'чипсы|0.54027987', 'зелень|0.5401562', 'фокачча|0.5399501', 'орешек|0.53989816', 'пармезан|0.5367578', 'чеснок|0.5349359', 'специя|0.53445965', 'мариновать|0.5330249', 'фарш|0.53218174', 'сковородка|0.53116906', 'сырой|0.53100693', 'разрезать|0.5309379', 'палтус|0.53052765', 'тонкий|0.5295657', 'рыбка|0.528962', 'травка|0.5284986', 'огурчик|0.52836823', 'лука|0.52824545', 'слайс|0.5278671', 'картошка|0.5277728', 'тест|0.5273447', 'сметана|0.5269444', 'сковорода|0.5266677', 'жир|0.5263343', 'варёный|0.5249505', 'уксус|0.5245033', 'яйцо|0.5244244', 'каперс|0.5241533', 'картошечка|0.52398163', 'фольга|0.5238768', 'трава|0.5232857', 'соус|0.52274686', 'жарить|0.52225745', 'бекон|0.52176267', 'огурец|0.5217408', 'порезать|0.521195', 'песто|0.5206505', 'лук|0.51964164', 'спаржа|0.517758', 'жёсткий|0.51732576', 'майонез|0.516098', 'грудинка|0.5159459', 'свининка|0.51520336', 'разогреть|0.51508236', 'кубик|0.514642', 'икра|0.5140296', 'плошка|0.5139891', 'пожарить|0.5128648', 'помидор|0.51262164', 'горчица|0.5122825', 'горшочек|0.51215136', 'начинка|0.51186526', 'завернуть|0.5114269', 'каша|0.51118433', 'курочка|0.5108119', 'протухший|0.5101803', 'переварить|0.5098958', 'нарезка|0.509195', 'сверху|0.50825465', 'печь|0.5078799', 'костя|0.50747263', 'кальмар|0.5073868', 'косточка|0.507259', 'имбирь|0.50703984', 'оливка|0.5057863', 'рис|0.50560594', 'горка|0.5054641', 'морковь|0.5050303', 'свежесть|0.50484836', 'бульон|0.5042777', 'утка|0.50200397', 'гребешок|0.50170815', 'блин|0.500902', 'кус|0.49986202', 'соломка|0.49985403', 'толстой|0.49883926', 'слой|0.49863225', 'соль|0.4977833', 'дорада|0.4968866']\n",
            "Aspect 2:\n",
            "['сладость|0.6897665', 'пирожное|0.6741545', 'брюла|0.6708159', 'миндальный|0.65392697', 'мусса|0.6527624', 'крем|0.6511357', 'шоколад|0.64819634', 'панакот|0.6463292', 'банановый|0.6437774', 'бисквит|0.64191574', 'мильфея|0.6359792', 'печение|0.63405794', 'захер|0.6335915', 'шоколадный|0.63095623', 'карамельный|0.63030446', 'малин|0.62651265', 'маракуйя|0.6261465', 'суфле|0.62584394', 'карамель|0.6249981', 'развалина|0.62184185', 'трюфель|0.61772156', 'грушевый|0.61673325', 'манговый|0.6161616', 'капуччиный|0.61612105', 'шарик|0.6139364', 'ванильный|0.61349344', 'кекс|0.6123274', 'чизкейк|0.6107644', 'сорбетом|0.60915077', 'графский|0.60902286', 'клубника|0.6084923', 'морковный|0.6075375', 'марципановый|0.6070708', 'ягода|0.6068523', 'мятый|0.60680354', 'фисташковый|0.6061212', 'фондать|0.6056339', 'творог|0.60494435', 'взбить|0.60412514', 'ваниль|0.6039611', 'персиковый|0.60343516', 'эклер|0.60308206', 'сорбета|0.60175025', 'какао|0.601665', 'корица|0.60132146', 'печенюшка|0.60126597', 'мороженое|0.5995369', 'безе|0.59948933', 'лаймовый|0.5993211', 'изюм|0.5982796', 'чайничек|0.59623176', 'малина|0.59595966', 'мятный|0.5958842', 'пирожёнка|0.59551334', 'чиз|0.5950185', 'кокосовый|0.5936865', 'заварной|0.59302783', 'песочный|0.59258217', 'баба|0.59013784', 'джема|0.5892358', 'меренга|0.58899856', 'зелёный|0.58869445', 'манго|0.5879601', 'вишня|0.5877168', 'сырник|0.584895', 'лимонный|0.58390105', 'тортик|0.5838791', 'медовик|0.5837286', 'сухофрукты|0.5835006', 'творожный|0.5834303', 'пудинг|0.5833702', 'ягодный|0.5833071', 'карамелизировать|0.5832316', 'желе|0.5811485', 'брауни|0.58064157', 'сгущёнка|0.5802808', 'личить|0.5782223', 'сливка|0.5774071', 'котт|0.5774046', 'шарлотка|0.5771162', 'сладкое|0.57688916', 'значиться|0.57666314', 'яблоко|0.57474315', 'панна|0.57437754', 'пирог|0.57389915', 'печенек|0.5728884', 'смородина|0.57285094', 'мармелад|0.5715388', 'шоколадка|0.5704758', 'цитрусовый|0.570024', 'тирамис|0.5696629', 'травяной|0.5691612', 'цедра|0.5690888', 'мороженный|0.5690723', 'кейк|0.5682112', 'мусс|0.56816274', 'пенка|0.5672244', 'лесной|0.56678236', 'яблочный|0.5665091', 'капучиный|0.56610954']\n",
            "Aspect 3:\n",
            "['бояться|0.780827', 'простить|0.7793642', 'ум|0.749137', 'значит|0.73851115', 'мысль|0.7341682', 'знаете|0.713814', 'надоесть|0.70633215', 'господин|0.7056738', 'пусть|0.70150226', 'поверить|0.68517244', 'обидеть|0.67953897', 'понять|0.6783378', 'признаться|0.67063636', 'слово|0.666081', 'признаваться|0.6641939', 'срочно|0.66332114', 'зря|0.66312456', 'перестать|0.6604389', 'слышать|0.659829', 'здоровье|0.65932286', 'право|0.65756017', 'почувствовать|0.65700674', 'не_не|0.6563341', 'знак|0.648821', 'мыть|0.64263535', 'речь|0.64179456', 'иначе|0.6392436', 'уверенный|0.6377231', 'жизнь|0.633165', 'не_знать|0.6330868', 'вечно|0.6321057', 'наверно|0.631912', 'сила|0.6308936', 'таракан|0.6283208', 'вон|0.6278932', 'спорить|0.6244314', 'бог|0.62358284', 'защита|0.6234948', 'лезть|0.6229505', 'обходить|0.62146336', 'ругать|0.6194358', 'категорически|0.61727536', 'неужели|0.6154831', 'верить|0.6148946', 'извинить|0.613985', 'стороной|0.6120645', 'сей_пора|0.60922337', 'ибо|0.6089871', 'борис|0.6083809', 'убить|0.6077914', 'довести|0.60669905', 'оттуда|0.6064571', 'удалять|0.6042644', 'страшно|0.6042347', 'возможно|0.6037619', 'говориться|0.6036071', 'душить|0.6032861', 'передать|0.6021911', 'призывать|0.60185593', 'земля|0.60184586', 'пора|0.5994719', 'наплевать|0.5963937', 'навсегда|0.5959109', 'плевать|0.5951463', 'постараться|0.59330106', 'называть|0.5929059', 'бороться|0.5928491', 'научить|0.5901241', 'ресторатор|0.5899908', 'следовать|0.5895421', 'понимать|0.58866', 'доказывать|0.58724797', 'твой|0.5863582', 'скоро|0.5863457', 'приложить|0.58488625', 'промолчать|0.5840212', 'ужас|0.5833148', 'совесть|0.58289236', 'продолжать|0.5823654', 'гениальный|0.5807314', 'голова|0.57726896', 'это_просто|0.57509184', 'сильный|0.57416135', 'удивляться|0.5734345', 'кома|0.57325757', 'грустный|0.5722408', 'шок|0.5680648', 'допускать|0.5677294', 'негатив|0.5675237', 'звезда|0.567227', 'виноватый|0.5664713', 'автор|0.5658637', 'терпеть|0.5657422', 'чужой|0.5657414', 'отсюда|0.5651485', 'сменить|0.5646882', 'придумать|0.56449074', 'неловко|0.5639081', 'быдло|0.5633622', 'строго|0.5633385']\n",
            "Aspect 4:\n",
            "['девушка|0.7967429', 'мальчик|0.7944169', 'молодая_человек|0.7811667', 'девочка|0.77696747', 'улыбаться|0.7499095', 'официантка|0.74475926', 'парень|0.7401099', 'улыбка|0.71270865', 'барышня|0.6971506', 'улыбчивый|0.6887198', 'официант|0.6766547', 'юноша|0.66895664', 'наш_столик|0.6537739', 'хостёс|0.64996195', 'звать|0.64748526', 'лицо|0.64650846', 'провожать|0.6444388', 'мила|0.6381403', 'гардеробщик|0.6346782', 'хостесса|0.63354874', 'принимать|0.60119903', 'бармен|0.60023445', 'интересоваться|0.59841686', 'высокомерный|0.5964616', 'здороваться|0.5951371', 'приветливо|0.59498906', 'улыбнуться|0.5918134', 'спрашивать|0.5893338', 'пепельница|0.587975', 'принять_заказ|0.5877702', 'весь_время|0.5843544', 'любезный|0.5831144', 'стойка|0.58101165', 'обслуживать|0.5786567', 'разговаривать|0.57515174', 'администратор|0.5704659', 'вежливый|0.5698663', 'отвечать|0.56666136', 'поздороваться|0.56605566', 'соседний_столик|0.564637', 'женщина|0.56329', 'охранник|0.5605142', 'молоденький|0.5594351', 'прощаться|0.5567415', 'мужчина|0.55598164', 'подойти|0.5532372', 'встречать|0.5507145', 'принять|0.5445635', 'внешность|0.5346136', 'доброжелательно|0.5331958', 'внимательно|0.53124094', 'голос|0.53084815', 'забывать|0.53013223', 'молниеносно|0.5281012', 'бегать|0.5227089', 'успевать|0.52150923', 'офицант|0.5207392', 'постоянно|0.52021325', 'поменять|0.519142', 'молодая|0.51912344', 'удалиться|0.51887625', 'реагировать|0.5178939', 'услышать|0.51710725', 'неприветливый|0.5170926', 'милый|0.5129119', 'кальянщик|0.5108904', 'одежда|0.50948304', 'просьба|0.5093721', 'представиться|0.5082607', 'расторопный|0.5071703', 'задержка|0.5063269', 'объяснить|0.5062151', 'шустрый|0.50591314', 'объяснять|0.505038', 'появляться|0.5041882', 'принести_меню|0.5036234', 'поинтересоваться|0.502113', 'пытаться|0.5007777', 'волос|0.500416', 'обслуживающий|0.49929512', 'дружелюбно|0.49777967', 'медленно|0.4959582', 'шутить|0.49472618', 'общаться|0.49452367', 'оперативно|0.49329758', 'обслужить|0.4920131', 'ответить|0.49184585', 'любезно|0.4902196', 'охрана|0.48997885', 'фраза|0.48979253', 'стараться|0.48878628', 'убирать|0.48856544', 'позвать|0.487472', 'одетый|0.4871729', 'извиниться|0.48705268', 'смена|0.48638943', 'приветствие|0.48603523', 'менять|0.48454255', 'спросить|0.48407072', 'замечать|0.48306978']\n",
            "Aspect 5:\n",
            "['тесно|0.7297967', 'помещение|0.71497846', 'дым|0.70776707', 'вентиляция|0.7070628', 'зона|0.7003137', 'душный|0.6961337', 'диван|0.68926257', 'вытяжка|0.68779415', 'неуютный|0.686824', 'шумно|0.68371177', 'друг_друг|0.68008006', 'удобно|0.6760867', 'комната|0.67466325', 'накурить|0.6746147', 'комфортно|0.66980517', 'дымно|0.65317476', 'курить|0.65286136', 'пространство|0.64890456', 'мешать|0.6470988', 'вокруг|0.64707375', 'кресло|0.63805586', 'комнатка|0.6343634', 'близко|0.63407564', 'воздух|0.63381594', 'просторно|0.63379574', 'диванчик|0.62879896', 'кабинка|0.6262031', 'светло|0.62251663', 'экран|0.6216394', 'аквариум|0.6199472', 'туалет|0.6131742', 'детский_комната|0.6121917', 'уединённость|0.60863084', 'табачный|0.60430455', 'танцполый|0.5963182', 'зальчик|0.59535277', 'уголок|0.59534526', 'сигаретный|0.5942361', 'сидеть|0.5939655', 'слышный|0.58916044', 'зала|0.5879054', 'стул|0.58730745', 'телевизор|0.5866827', 'второе_этаж|0.5859638', 'плазма|0.5854312', 'камин|0.5836342', 'шум|0.58248246', 'неудобно|0.57740414', 'потолок|0.57637143', 'прохладно|0.57293844', 'дальний|0.57277966', 'просторный|0.5722084', 'неудобный|0.5705761', 'деление|0.5705231', 'балкон|0.5704758', 'дышать|0.5662818', 'барный_стойка|0.5654066', 'удобный|0.56429243', 'расстояние|0.5610935', 'потолочь|0.5597271', 'зеркало|0.55945003', 'тв|0.5587666', 'веранда|0.55789715', 'мебель|0.5556373', 'прикольный|0.554276', 'беседка|0.551799', 'прокурить|0.5506464', 'сосед|0.548113', 'чисто|0.54810715', 'сцена|0.5477347', 'игрушка|0.54689264', 'расположить|0.54570395', 'окно|0.5449108', 'свет|0.54461646', 'курильщик|0.5403316', 'курящий|0.53935504', 'тесновато|0.538115', 'курение|0.5380756', 'шумный|0.53698933', 'внутри|0.5367888', 'дерево|0.5363066', 'панель|0.5361449', 'разделение|0.5358342', 'освещение|0.534968', 'кондиционер|0.5338415', 'стена|0.5303013', 'зал|0.52998215', 'перегородка|0.52908087', 'скамейка|0.52892655', 'кругом|0.5282631', 'темно|0.5247083', 'некурящий|0.5228069', 'люстра|0.52238315', 'народ|0.52116096', 'деревянный|0.52023244', 'подвал|0.51906574', 'уединиться|0.51903826', 'терасс|0.51889753', 'очень_уютный|0.51804346', 'подушечка|0.51799977']\n",
            "Aspect 6:\n",
            "['ценовый|0.745529', 'ценник|0.7373393', 'категория|0.7305179', 'уровень|0.72468394', 'завысить|0.7170033', 'крайний_мера|0.7101447', 'выше|0.7018163', 'соответствовать|0.70068157', 'цена_качество|0.69243175', 'цена|0.6908438', 'фаста|0.68060875', 'качество|0.68001497', 'сравнение|0.6797116', 'ниже|0.6638215', 'изыск|0.6568834', 'отличие|0.6566833', 'фуд|0.65488315', 'считать|0.642053', 'учитывать|0.63225585', 'среднее|0.62932813', 'недостаток|0.6235099', 'демократичный|0.6178173', 'забегаловка|0.6142804', 'японский|0.61036396', 'адекватный|0.608845', 'политика|0.60841274', 'средний|0.60760045', 'сетевой|0.60524887', 'многий|0.6025459', 'оценивать|0.59976023', 'отличаться|0.5964978', 'оценка|0.5956757', 'формат|0.5950316', 'намного|0.59401083', 'принцип|0.593872', 'удивлять|0.5933041', 'высокий|0.5895844', 'соотношение_цена_качество|0.5894251', 'гуманный|0.5862265', 'приемлемый|0.58609676', 'европейский|0.5836995', 'заведение|0.5782565', 'последний_время|0.5764377', 'значительно|0.57340634', 'касаться|0.5710597', 'простой|0.5690851', 'назвать|0.56543034', 'вполне|0.5631622', 'взгляд|0.5600436', 'скорее|0.55895513', 'гинза|0.5566161', 'большинство|0.5504881', 'низкий|0.5502717', 'ресторанный|0.5500381', 'разнообразие|0.54985243', 'умеренный|0.54911005', 'дёшево|0.5486845', 'достойный|0.54705393', 'пожалуй|0.54510665', 'менее|0.54029536', 'согласный|0.5400282', 'дорого|0.5366049', 'весь_остальной|0.53575975', 'оправдывать|0.5339385', 'продукт|0.53341174', 'подобный|0.53323656', 'претензия|0.5312013', 'однозначно|0.53096044', 'посредственный|0.52943563', 'например|0.52806026', 'не_мочь_сказать|0.5273944', 'дорогой|0.5262331', 'гораздо|0.5259056', 'китайский|0.5246818', 'стандартный|0.5223022', 'общепит|0.52182853', 'иной|0.52179116', 'стандарт|0.5212951', 'относительно|0.5194017', 'понятный|0.5188907', 'качественный|0.5176449', 'дороговатый|0.51536894', 'средненький|0.5142653', 'обычный|0.5132694', 'крайне|0.51072085', 'нарекание|0.5080895', 'однако|0.5055865', 'сервис|0.50545454', 'дешёвый|0.50460273', 'гурман|0.5028514', 'бистро|0.5026068', 'плохой|0.49837762', 'исключение|0.49821505', 'претендовать|0.49664265', 'приличный|0.49584633', 'являться|0.495402', 'главный|0.49487567', 'план|0.49358156', 'весьма|0.49305034', 'имхо|0.49169433']\n",
            "Aspect 7:\n",
            "['висок|0.85514045', 'коктейль|0.8059578', 'безалкогольный|0.79056835', 'водка|0.78746724', 'крепкий|0.7676499', 'пить|0.7670276', 'алкогольный|0.7651868', 'мохитый|0.76325285', 'мартини|0.74030143', 'выпить|0.73793864', 'литр|0.7353717', 'пила|0.7311119', 'крушовица|0.71994257', 'разливный|0.7164098', 'коньяк|0.7112541', 'нефильтрованный|0.7079723', 'руль|0.7064707', 'кружка|0.70626915', 'сорт|0.7032926', 'пиво|0.70267165', 'бутылочка|0.7012418', 'морс|0.6996833', 'вишнёвый|0.6972896', 'бутылочный|0.6904604', 'сангрия|0.6860052', 'ньюкасл|0.6791469', 'пинта|0.67795086', 'сидр|0.67297316', 'коктель|0.67168814', 'лимонад|0.66457206', 'бланша|0.66422415', 'глинтвейн|0.659588', 'хугарден|0.65871835', 'эль|0.64877665', 'закусить|0.6470432', 'бокальчик|0.6449971', 'лонг|0.64460814', 'бокал|0.64394933', 'кальян|0.6372129', 'стаут|0.63583004', 'напиток|0.6354041', 'распитие|0.6338341', 'гиннес|0.6281947', 'пивко|0.6278544', 'пшеничный|0.627419', 'игристый|0.6219307', 'квас|0.619183', 'попить|0.6167073', 'текила|0.6151088', 'айленд|0.6113003', 'василеостровский|0.61025876', 'потягивать|0.60333353', 'ром|0.60194016', 'грапп|0.5998086', 'настойка|0.5992125', 'ликёр|0.59826064', 'алкоголь|0.59363306', 'графин|0.59215015', 'сок|0.5912185', 'бельгийский|0.58451414', 'рюмка|0.58428', 'дайкири|0.58409405', 'шампанский|0.58271146', 'эспрессо|0.58250856', 'бутылка|0.58206123', 'угостить|0.5813379', 'наливать|0.5798025', 'вода|0.5792115', 'литровый|0.57782114', 'вино|0.57152396', 'бесплатный|0.5676163', 'медовуха|0.5649518', 'кувшин|0.561638', 'сироп|0.559904', 'облепиховый|0.55950016', 'лёд|0.55902946', 'джина|0.5586891', 'каберне|0.5584854', 'эдельвейс|0.5570532', 'немецкий|0.55702686', 'америкать|0.55502915', 'фирменный|0.55445826', 'чай|0.5528676', 'производство|0.5525722', 'кола|0.5522129', 'поллитра|0.5520803', 'чашечка|0.54858947', 'коктейльный|0.5481037', 'лагер|0.54803693', 'стакан|0.54723513', 'вельвет|0.54620403', 'килкенни|0.5412769', 'кофе|0.54104304', 'компот|0.54018134', 'лимончелло|0.5383285', 'пино|0.5378766', 'употреблять|0.5360006', '100р|0.53244185', 'закусывать|0.53093654', 'минеральный|0.5282353']\n",
            "Aspect 8:\n",
            "['организация|0.828323', 'организовать|0.810303', 'тамада|0.80110955', 'подготовка|0.7805922', 'свадебный|0.7667863', 'торжество|0.763079', 'ольга|0.7567802', 'благодарность|0.7547568', 'мероприятие|0.7545856', 'организатор|0.739152', 'праздник|0.73604524', 'майкл|0.7341405', 'огромный_спасибо|0.72998905', 'молодожён|0.7226591', 'директор|0.7218424', 'пожелание|0.7218273', 'весь_гость|0.72033536', 'ирина|0.7182133', 'банкет|0.7118093', 'весь_наш|0.7104258', 'ведущий|0.70868605', 'большой_спасибо|0.6973978', 'наталья|0.695472', 'невеста|0.69483757', 'владимир|0.69180214', 'подарок|0.6896016', 'евгений|0.6894511', 'банкетный|0.6887789', 'команда|0.68850195', 'елена|0.68764234', 'фуршет|0.68118227', 'профессионализм|0.67829156', 'сотрудник|0.67817205', 'отдельный_спасибо|0.6777147', 'коллектив|0.6748552', 'учесть|0.673586', 'александр|0.6715098', 'сергей|0.67069685', 'номер|0.6689621', 'татьяна|0.6655727', 'профессионал|0.6644989', 'проведение|0.65964174', 'свадьба|0.65954614', 'марин|0.65949184', 'уважение|0.6583922', 'выражать|0.6559484', 'станислав|0.65023077', 'управлять|0.6490562', 'алексей|0.6486113', 'анастасий|0.64185894', 'участие|0.638374', 'банкетный_зал|0.6338135', 'менеджер|0.6325117', 'честь|0.63145816', 'наш_свадьба|0.6297426', 'благодаря|0.62725246', 'дмитрий|0.6252577', 'благодарить|0.6248873', 'поблагодарить|0.61777246', 'программа|0.61447316', 'бельканто|0.6114818', 'договор|0.61049247', 'каравай|0.6081651', 'помощь|0.60805994', 'новый_год|0.60750484', 'поклон|0.60714936', 'шоу|0.60357714', 'весь_наш_пожелание|0.6025213', 'фотограф|0.6016299', 'андрей|0.5993856', 'бравый|0.5948315', 'подарить|0.590696', 'администрация|0.5896386', 'профессиональный|0.58950067', 'услуга|0.58866227', 'признательность|0.5875566', 'виктор|0.5865427', 'совет|0.5860737', 'жених|0.5859896', 'родитель|0.5852623', 'жанна|0.58436024', 'юбилей|0.5824303', 'регистрация|0.5821119', 'конкурс|0.5783673', 'артист|0.5779768', 'событие|0.57787603', 'чуткий|0.5778211', 'юлий|0.5771463', 'дмитрия|0.5765449', 'марина|0.57296306', 'поздравление|0.57240593', 'благодарный|0.57167214', 'галина|0.5711819', 'юлия|0.570452', 'предоставить|0.5699899', 'мастер|0.56986034', 'вячеслав|0.56887275', 'кондитер|0.56842023', 'кейтеринг|0.56620115', 'выездной|0.5654609']\n",
            "Aspect 9:\n",
            "['заехать|0.76564145', 'пообедать|0.7455808', 'сегодня|0.7409431', 'вчера|0.7250765', 'поехать|0.7171532', 'пр|0.71019965', 'прогулка|0.70859873', 'воскресение|0.6975208', 'поужинать|0.6951209', 'однокурсник|0.68727255', 'обедать|0.68297863', 'московский|0.68223083', 'случайно|0.6814337', 'недавно|0.6734824', 'забежать|0.67270184', 'перекусить|0.6599005', 'ехать|0.65732384', 'невский|0.6561115', 'ездить|0.65580547', 'офис|0.65355307', 'ул|0.6527236', 'гулять|0.6521044', 'заезжать|0.6506165', 'отправиться|0.64815617', 'днём|0.64756423', 'заслать|0.6394017', 'подружка|0.6385122', 'это_кафе|0.63445663', 'петроградка|0.633203', 'район|0.6320561', 'ужинать|0.63106894', 'недалеко|0.62477624', 'открыться|0.62227786', 'заглянуть|0.612797', 'побывать|0.6056214', 'приморский|0.60430765', 'жить|0.6034242', 'проезжать|0.59947336', 'восстание|0.59941596', 'заскочить|0.59877306', 'воскресный|0.5968645', 'проспект|0.59658086', 'выходной|0.5964349', 'поход|0.594176', 'москва|0.5923107', 'приезжать|0.5917659', 'дом|0.5889609', 'суббота|0.5874655', 'перерыв|0.5859566', 'январь|0.5831479', 'добраться|0.582764', 'завтрак|0.5811624', 'год_назад|0.5801903', 'забегать|0.57878333', 'ноябрь|0.57799387', 'жена|0.576306', 'ходьба|0.5751637', 'остров|0.57489187', 'парка|0.57431245', 'встретиться|0.5733348', 'прогуливаться|0.5728216', 'март|0.57108843', 'очередной|0.5696467', 'утро|0.5694653', 'май|0.56908953', 'посетить|0.5666723', 'лето|0.56637764', 'вечером|0.56436384', 'забрести|0.5631012', 'четверг|0.5621513', 'февраль|0.5614319', 'месяц|0.5606204', 'приехать|0.5594203', 'евразия|0.5574712', 'питер|0.5569532', 'мама|0.5569303', 'дочка|0.55634177', 'захаживать|0.55596405', 'семья|0.55527556', 'среда|0.5533265', 'рубинштейн|0.5527319', 'заходить|0.5525831', 'коллега|0.55116314', 'однажды|0.5503896', 'летом|0.55037594', 'поздно|0.54938936', 'полгода|0.54851377', 'неделя|0.5477581', 'прогуляться|0.5458602', 'осень|0.54440725', 'театр|0.54407936', 'путь|0.54372096', 'обед|0.5434263', 'цель|0.54325235', 'наткнуться|0.54038316', 'разведка|0.5398427', 'занести|0.53984165', 'пешком|0.539465', 'набережная|0.5386419', 'фонтанка|0.5360687']\n",
            "Aspect 10:\n",
            "['полка|0.7198266', 'старинный|0.70917505', 'старое|0.7027148', 'стен|0.6997165', 'журнал|0.68405527', 'стена|0.68299526', 'лампа|0.68104434', 'ля|0.67647725', 'картина|0.6762636', 'предмет|0.6761143', 'черно|0.6759972', 'белые|0.67229104', 'рамка|0.66577214', 'деталь|0.6657706', 'кирпичный|0.6655148', 'стеклянный|0.6630939', 'синий|0.66263795', 'золотой|0.66193', 'фотография|0.65198433', 'элемент|0.6511196', 'подоконник|0.64937806', 'люстра|0.6493349', 'газета|0.6465992', 'множество|0.6460886', 'белоснежный|0.64166284', 'буфет|0.641391', 'кирпич|0.63964486', 'дерево|0.63826334', 'винный|0.63771605', 'атрибутика|0.6361003', 'штора|0.63496363', 'тон|0.63496196', 'плитка|0.63483745', 'прованс|0.63356894', 'плазменный|0.6333073', 'крыша|0.6331455', 'серый|0.63144433', 'доска|0.6310882', 'внутренний|0.63088155', 'потолок|0.6301869', 'убранство|0.62892604', 'искусственный|0.62589186', 'обилие|0.6243459', 'полочка|0.6225145', 'декор|0.6224136', 'подсвечник|0.62239885', 'светильник|0.6217303', 'светящийся|0.6214449', 'стеллаж|0.6198076', 'краска|0.6188942', 'стекло|0.61788267', 'кровать|0.61742324', 'свет|0.6150425', 'прочий|0.61411726', 'фильм|0.6139684', 'мебель|0.61338353', 'панель|0.6130687', 'абажур|0.61231995', 'клетка|0.61224747', 'кладка|0.6122404', 'солнце|0.6107799', 'массивный|0.6088211', 'цветовой|0.60872364', 'гамма|0.60815895', 'пол|0.60701835', 'взор|0.60627174', 'цветочек|0.6057264', 'подсветка|0.6051465', 'ткань|0.60385025', 'кожаный|0.6035713', 'свод|0.60280883', 'библиотека|0.6002526', 'зеркало|0.5996189', 'направление|0.59894097', 'цветок|0.5985312', 'обивка|0.59746844', 'обои|0.5965884', 'вдоль|0.5965601', 'огонь|0.5963452', 'блестящий|0.596254', 'современный|0.59604526', 'ширма|0.5943707', 'цвет|0.5943675', 'комод|0.5940484', 'шарм|0.5928403', 'резной|0.59209645', 'рисунок|0.5907566', 'роспись|0.5905961', 'южный|0.5895481', 'полый|0.58936334', 'занавеска|0.5890426', 'коричневый|0.5861702', 'широкий|0.58546555', 'голубой|0.58350337', 'деревянный|0.58276093', 'логотип|0.5808863', 'интерьерный|0.5804367', 'небо|0.58002216', 'растение|0.5794515', 'мотив|0.57928944']\n",
            "Aspect 11:\n",
            "['тёплый|0.6750118', 'ненавязчивый|0.65039384', 'общий_впечатление|0.6157982', 'навязчивый|0.60692495', 'особенный|0.5996822', 'прекрасно|0.5960174', 'очень_приятный|0.5933632', 'запомниться|0.59270465', 'очень_порадовать|0.5903882', 'очень_понравиться|0.5893357', 'ммммм|0.58150613', 'приятный|0.58031213', 'целое|0.5745254', 'остаться_очень_довольный|0.5726125', 'весь_очень_вкусно|0.57157195', 'душевный|0.570419', 'пролететь|0.5687509', 'довольный|0.56537104', 'великолепно|0.5639522', 'вкусный_еда|0.56384367', 'душевно|0.5637228', 'весь_очень|0.56251097', 'восхитительный|0.56165624', 'очень_хороший|0.5592678', 'оч|0.5589834', 'безумно|0.55808234', 'понравиться_весь|0.5568836', 'сытый|0.5514253', 'чудесно|0.5506536', 'располагать|0.5502031', 'незаметно|0.5492021', 'весь_очень_понравиться|0.5487368', 'нарекание|0.5471665', 'подкачать|0.5471109', 'выше_весь_похвала|0.54488075', 'идеально|0.54285747', 'атмосфера|0.54281867', 'мера|0.54189336', 'живот|0.5412418', 'восторг|0.5411098', 'очень_очень_долго|0.5397126', 'потрясающе|0.5375267', 'прийти_ещё|0.535938', 'обстановка|0.5349792', 'волшебный|0.5335922', 'особый|0.53340095', 'порадовать|0.532277', 'расслаблять|0.53107786', 'предупредительный|0.5300395', 'очень_понравиться_весь|0.5274846', 'отлично|0.5268818', 'хор|0.52685165', 'весь_понравиться|0.52578354', 'замечательный|0.52518106', 'остаться_довольный|0.5248822', 'достойно|0.52458954', 'домашний|0.52280605', 'очень_вкусно|0.5205151', 'великолепный|0.5200679', 'неспешный|0.51881444', 'превосходный|0.5126073', 'изумительный|0.51232904', 'обстановочка|0.5119841', 'внимательный|0.5104116', 'остаться_очень_приятный|0.51034147', 'немного|0.5072458', 'очень_вкусный|0.5039789', 'особенно|0.50368345', 'позитивный|0.5034033', 'насладиться|0.50095844', 'наслаждаться|0.5008371', 'зы|0.49576753', 'ооочень_вкусный|0.49570104', 'порция_большой|0.49331224', 'спокойный|0.4925223', 'весь_очень_вкусный|0.4881834', 'качественно|0.48652852', 'завершение|0.4858422', 'доброжелательный|0.48503256', 'сытно|0.48502076', 'чудесный|0.48399863', 'вкусно|0.4828225', 'очень_очень|0.48260036', 'скрасить|0.4816196', 'интерьер_очень_уютный|0.4813562', 'изыскать|0.47970927', 'расслабить|0.47956333', 'приятно|0.47920105', 'душа|0.47855964', 'непринуждённый|0.4781723', 'превосходно|0.47799677', 'праздничный|0.4778983', 'общий|0.4761637', 'приём|0.47508645', 'зажигательный|0.47471723', 'придраться|0.4741332', 'уютный|0.47236392', 'учтивый|0.4720885', 'незаметный|0.4714921', 'безупречный|0.47030848']\n",
            "Aspect 12:\n",
            "['полтора|0.79468143', 'половина|0.7602962', 'ровно|0.7343248', 'минимум|0.720907', '15_минута|0.71914923', 'примерно|0.7098744', '20_минута|0.7092525', 'соответственно|0.7075741', 'заполнить|0.69681096', 'максимум|0.6952548', 'дождаться|0.6930499', 'час|0.69131017', 'десять|0.6747325', 'это_время|0.6745428', 'полчаса|0.67353755', 'простоять|0.67257714', 'прийтись|0.6691485', 'выясниться|0.6688672', 'вынести|0.66511536', 'просидеть|0.66432184', 'оплатить|0.66296256', 'оговорить|0.6608956', 'прождать|0.6604767', 'результат|0.6585714', 'остаток|0.6584052', 'отдать|0.6581515', 'напоминание|0.6575434', 'перемена|0.6558924', 'коробка|0.6518205', 'мина|0.6517527', 'пять|0.65097696', 'дозаказать|0.6507721', 'бокс|0.64961755', '10_минута|0.6461274', 'расчёт|0.64576447', 'естественно|0.6405963', 'демонстративно|0.6380596', 'забрать|0.6361761', 'унести|0.63238084', '1_5_час|0.63071793', 'закрытие|0.629576', 'течение|0.6276984', 'спустя|0.6274825', 'привезти|0.6267633', 'вернуть|0.62432814', 'убрать|0.62345815', 'заплатить|0.62332547', 'сумма|0.62023413', 'четверо|0.6200682', 'рассчитать|0.61879295', 'курс|0.6118052', 'четыре|0.6102086', 'подождать|0.60844123', 'вынос|0.60734296', 'оплата|0.6055403', 'внести|0.60362905', 'предупреждать|0.60315466', 'получас|0.6020066', 'пообещать|0.6017023', 'уложиться|0.6000291', 'сделать_заказ|0.59570384', 'двадцать|0.59339106', 'контейнер|0.59282655', 'уйти|0.5905932', 'приход|0.5901241', 'сложность|0.5900432', 'наполовину|0.5881052', 'успеть|0.5867224', 'посчитать|0.5859019', 'персона|0.584692', 'предоплата|0.5838609', 'очень_долго|0.5837277', 'сколько|0.58367676', 'затем|0.5835562', 'указать|0.5810987', 'предупредить|0.57939804', 'пятнадцать|0.57931054', 'дополнительно|0.5775721', 'ожидание|0.57683194', 'отказываться|0.57679796', 'итог|0.5760016', 'пустой|0.5757765', 'около|0.5728241', 'счёт|0.57205975', 'входить|0.57051194', 'поменять|0.5689901', 'закончиться|0.5685061', 'депозит|0.5675405', 'обещать|0.5671241', 'собрать|0.56707335', 'прибыть|0.5667663', 'опоздать|0.5666593', 'положить|0.5655295', 'полупустой|0.5652889', 'сдача|0.56398076', 'оплачивать|0.5633433', 'просить|0.56262743', 'процент|0.56220573', 'обнаружить|0.56143177', 'неприятно|0.56005657']\n",
            "Aspect 13:\n",
            "['гриль|0.6531163', 'рыба|0.6386039', 'салат_цезарь|0.62084454', 'греческий|0.61970884', 'выбрать|0.612848', 'мясной|0.5970743', 'стейка|0.59104663', 'говядина|0.5798714', 'стейк|0.5775018', 'рыбный|0.5772015', 'свинина|0.57539904', 'цезарь|0.57461125', 'дорад|0.57440305', 'овощ|0.5709224', 'баклажан|0.56825477', 'шашлык|0.5593423', 'курица|0.5515538', 'рибай|0.5513697', 'дораду|0.5443663', 'оливья|0.5442984', 'морепродукт|0.5431469', 'карпаччо|0.53999114', 'салатик|0.5363195', 'плов|0.5340574', 'креветка|0.5326564', 'мангал|0.5314786', 'узбекский|0.52777165', 'пекински|0.52614474', 'шашлычок|0.5259588', 'свинин|0.5254797', 'форель|0.51855475', 'стейковы|0.51695424', 'заказывать|0.5144731', 'салат|0.5139045', 'закуска|0.51186585', 'приготовить|0.5109498', 'телятина|0.5108064', 'коптить|0.5104687', 'осетрина|0.50762016', 'вок|0.50709337', 'цыплёнок|0.5062958', 'стэйк|0.50032765', 'муж|0.4981424', 'куриный|0.49744207', 'свиной|0.49680787', 'ассорти|0.4957667', 'лосось|0.49544466', 'долму|0.4948591', 'мидия|0.4940998', 'посоветовать|0.49326295', 'выбирать|0.4925788', 'заказать|0.49244472', 'остановиться|0.4882412', 'свинный|0.4877926', 'состав|0.48317742', 'судак|0.48282975', 'мраморный|0.48264733', 'рёбрышко|0.48181522', 'выбор|0.4813963', 'колбаска|0.47868672', 'помнить|0.47229356', 'рулька|0.47203255', 'кебаб|0.4701236', 'кисло_сладкое_соус|0.469386', 'пасть|0.4691349', 'тигровый|0.46862882', 'миньон|0.46788055', 'барашек|0.46739048', 'крылышко|0.4645872', 'раздел|0.46453547', 'запечёный|0.4644444', 'отговорить|0.46385932', 'лазание|0.46208817', 'экспериментировать|0.46102834', 'предпочитать|0.4590127', 'ягнёнок|0.45807397', 'вока|0.4573281', 'каре|0.455518', 'бифстроганов|0.45497614', 'острый|0.45348996', 'жена|0.45334503', 'филе|0.45273823', 'запечь|0.45197088', 'бефстроганов|0.45150936', 'попробовать|0.45116553', 'баранина|0.44958434', 'фахитос|0.4484718', 'мясо|0.4483482', 'жульен|0.44802988', 'солянка|0.44770122', 'жареный|0.44715798', 'уха|0.44696772', 'тапас|0.4454006', 'горячее_блюдо|0.44457483', 'медальон|0.444278', 'тайский|0.44366825', 'именно|0.44316784', 'готовиться|0.44160134', 'пармиджать|0.44152778', 'сацивить|0.43937606']\n",
            "2019-12-24 21:10:32,731 INFO Epoch 10, train: 5s\n",
            "2019-12-24 21:10:32,731 INFO Total loss: 3.7655, max_margin_loss: 3.6565, ortho_reg: 0.1090\n",
            "100% 594/594 [00:05<00:00, 103.41it/s]\n",
            "Aspect 0:\n",
            "['попёс|0.6458665', 'ливерпуль|0.6244299', 'прибавить|0.61351603', 'ых|0.61070454', 'немолодой|0.5935389', 'food|0.5820623', 'хх|0.581373', 'good|0.5811168', 'of|0.5798254', 'градус|0.57236576', 'ого|0.572289', 'restaurant|0.5720414', 'service|0.57013744', 'студентка|0.5667994', 'прайс|0.5644221', 'доллар|0.56394756', 'were|0.56352246', 'полуночь|0.56225085', 'ти|0.56086665', 'in|0.560295', 'best|0.5601154', 'блюз|0.5598406', 'wa|0.5592278', 'ка|0.5577004', 'па|0.557238', 'двенадцать|0.5558661', 'no|0.55522907', 'бальный|0.5550424', 'it|0.55389214', 'my|0.5534195', 'тридцать|0.5530685', 'very|0.5505524', 'выключать|0.5504526', 'космический|0.54983133', 'этак|0.5481055', 'this|0.54777455', 'девять|0.5474937', 'процент|0.54592144', 'приблизительно|0.5449356', 'and|0.5443242', 'рок|0.54366654', 'бурный|0.5430234', 'пятьдесят|0.54265094', 'заполняемость|0.5411447', 'we|0.5408973', 'ролик|0.5400169', 'пт|0.5397874', 'you|0.53841203', 'мировой|0.5360594', 'парный|0.53528905', 'negativa|0.53417027', 'удар|0.5340363', 'that|0.5329143', 'the|0.5315399', 'фраер|0.5311696', 'шансон|0.53104186', 'справедливо|0.52975243', 'потянуть|0.5293472', 'ру|0.52866304', 'all|0.52779734', 'копейка|0.52613795', 'бум|0.52546984', 'отстой|0.5253488', 'опера|0.5250021', 'диск|0.5249198', 'возраст|0.5227206', 'группа|0.5224723', 'бранч|0.52221185', 'луна|0.5210258', 'резкий|0.51965785', 'сб|0.5194098', 'to|0.5194062', 'евро|0.51835895', 'хвостик|0.51789516', 'че|0.5178581', 'подпевать|0.51761824', 'увеличивать|0.5165212', 'фанера|0.51638645', 'именной|0.51515466', 'основательно|0.5146439', 'монета|0.51452667', 'клубный|0.513487', 'place|0.5123441', 'подорожать|0.5122893', 'бал|0.51224566', 'народный|0.51218617', 'ть|0.5111535', 'is|0.5108346', 'гопник|0.51001966', 'икс|0.50875664', 'ограничение|0.5084648', 'источник|0.50833225', 'афиша|0.50824', 'нигиря|0.50670797', 'мёртвый|0.5062342', 'радио|0.5048505', 'пать|0.5047118', 'басс|0.5046781', 'шато|0.5037863', 'отечественный|0.5035675']\n",
            "Aspect 1:\n",
            "['рот|0.60570574', 'масло|0.5836156', 'солёный|0.5833087', 'нарезать|0.57637346', 'хрустеть|0.57362545', 'кусочек|0.5733111', 'заморозка|0.5667987', 'булка|0.56588924', 'лаваш|0.5620821', 'корочка|0.5598992', 'булочка|0.5523844', 'пережарить|0.550936', 'лепёшка|0.55032545', 'ломтик|0.5488899', 'капуста|0.5438744', 'хрен|0.5432258', 'фокачча|0.5432066', 'перчик|0.5419079', 'чипсы|0.5418806', 'выращивать|0.5415548', 'посыпать|0.54067636', 'орешек|0.53702986', 'кусок|0.53618395', 'пармезан|0.5351167', 'помидорка|0.5345864', 'зелень|0.5320822', 'мариновать|0.53143597', 'палтус|0.5310575', 'чеснок|0.53089786', 'фарш|0.529641', 'сковородка|0.5294673', 'специя|0.52871174', 'картошка|0.5283729', 'сметана|0.52769446', 'сырой|0.52714646', 'огурчик|0.5258174', 'соус|0.52563053', 'рыбка|0.52551687', 'сковорода|0.5244078', 'тест|0.52405155', 'травка|0.52398', 'картошечка|0.5239798', 'разрезать|0.5238158', 'фольга|0.52351075', 'слайс|0.5229074', 'тонкий|0.52286536', 'бекон|0.5223249', 'яйцо|0.52181345', 'лука|0.5215906', 'жир|0.52033776', 'варёный|0.5202486', 'жарить|0.5202431', 'спаржа|0.5192522', 'каперс|0.51923996', 'трава|0.5189282', 'уксус|0.51843846', 'песто|0.51798844', 'икра|0.5175554', 'огурец|0.5172311', 'лук|0.51660436', 'грудинка|0.5158584', 'порезать|0.5156654', 'свининка|0.51383007', 'каша|0.51086915', 'пожарить|0.51045287', 'начинка|0.5104484', 'горшочек|0.51039463', 'плошка|0.5102975', 'майонез|0.5102538', 'разогреть|0.5097692', 'протухший|0.5096971', 'имбирь|0.5093517', 'кубик|0.5085114', 'завернуть|0.5083804', 'горчица|0.50800043', 'переварить|0.5077583', 'печь|0.5076348', 'жёсткий|0.5076045', 'оливка|0.5075341', 'курочка|0.50752306', 'помидор|0.5072767', 'кальмар|0.50683606', 'костя|0.5066731', 'рис|0.50640005', 'бульон|0.5054503', 'нарезка|0.50497556', 'гребешок|0.5046955', 'косточка|0.504552', 'утка|0.5018189', 'морковь|0.5016688', 'сверху|0.5000923', 'горка|0.4999738', 'свежесть|0.49871475', 'тунец|0.4978109', 'блин|0.49759942', 'дорада|0.49745548', 'хамон|0.49648258', 'кус|0.49619', 'соломка|0.4956947', 'палочка|0.49562365']\n",
            "Aspect 2:\n",
            "['сладость|0.68200123', 'пирожное|0.6684686', 'брюла|0.6656582', 'миндальный|0.6449622', 'крем|0.6437594', 'мусса|0.643739', 'шоколад|0.64045906', 'панакот|0.6378925', 'банановый|0.6350721', 'бисквит|0.6330515', 'мильфея|0.6282455', 'захер|0.6271637', 'печение|0.62504137', 'шоколадный|0.62395215', 'карамельный|0.62258506', 'малин|0.6174164', 'маракуйя|0.61714655', 'суфле|0.616554', 'карамель|0.61572206', 'развалина|0.6138596', 'трюфель|0.60967207', 'грушевый|0.60835826', 'капуччиный|0.6081972', 'манговый|0.6074879', 'шарик|0.6062877', 'ванильный|0.60589516', 'кекс|0.60484695', 'чизкейк|0.6028028', 'графский|0.60209316', 'сорбетом|0.60059553', 'клубника|0.60012436', 'морковный|0.59938127', 'мятый|0.59930307', 'фисташковый|0.59836876', 'марципановый|0.59824824', 'фондать|0.5981928', 'ягода|0.5979185', 'персиковый|0.5966621', 'ваниль|0.5962223', 'творог|0.59594536', 'взбить|0.59579515', 'эклер|0.5957562', 'мороженое|0.5930957', 'какао|0.59296143', 'сорбета|0.5929549', 'печенюшка|0.5928958', 'корица|0.59259886', 'лаймовый|0.5920088', 'чайничек|0.59174055', 'безе|0.59069777', 'пирожёнка|0.58923787', 'изюм|0.5887208', 'мятный|0.587016', 'малина|0.58694386', 'чиз|0.58668303', 'кокосовый|0.5863548', 'заварной|0.5856628', 'зелёный|0.58419436', 'песочный|0.5840413', 'баба|0.582598', 'джема|0.58005536', 'меренга|0.579975', 'манго|0.5793239', 'вишня|0.5788394', 'значиться|0.5778042', 'сухофрукты|0.57658046', 'тортик|0.57543945', 'пудинг|0.5753944', 'карамелизировать|0.5752853', 'творожный|0.5749755', 'сырник|0.57495546', 'лимонный|0.5747565', 'медовик|0.5744772', 'ягодный|0.5742753', 'сгущёнка|0.5719912', 'желе|0.5719886', 'брауни|0.5719258', 'котт|0.570125', 'личить|0.5700263', 'шарлотка|0.5691274', 'сливка|0.56855166', 'сладкое|0.56815577', 'панна|0.5674552', 'пирог|0.5665572', 'яблоко|0.5654471', 'шоколадка|0.5647316', 'смородина|0.5643055', 'печенек|0.5638316', 'заманчивый|0.5637993', 'мармелад|0.5632534', 'травяной|0.5623232', 'цитрусовый|0.56187505', 'тирамис|0.56178325', 'стопа|0.561614', 'чёрный|0.560823', 'цедра|0.56038445', 'кейк|0.5600571', 'мороженный|0.56001365', 'яблочный|0.55885684', 'лесной|0.55882025']\n",
            "Aspect 3:\n",
            "['простить|0.7807764', 'бояться|0.78054905', 'ум|0.7493713', 'значит|0.7365744', 'мысль|0.7320386', 'знаете|0.7205468', 'надоесть|0.7077249', 'господин|0.70283276', 'пусть|0.7024742', 'поверить|0.68476886', 'обидеть|0.6789429', 'понять|0.6734631', 'признаться|0.66696537', 'слово|0.6646246', 'признаваться|0.6644298', 'перестать|0.6627634', 'почувствовать|0.66260874', 'зря|0.66211677', 'здоровье|0.65989554', 'срочно|0.6598735', 'не_не|0.65492415', 'право|0.65402293', 'слышать|0.654005', 'мыть|0.6483792', 'знак|0.6452471', 'вечно|0.63705194', 'иначе|0.63666034', 'речь|0.6358', 'жизнь|0.6356226', 'уверенный|0.635301', 'наверно|0.6331885', 'не_знать|0.6322472', 'сила|0.63109773', 'таракан|0.6302492', 'вон|0.62739575', 'бог|0.6235788', 'лезть|0.623577', 'спорить|0.6233342', 'защита|0.62191033', 'обходить|0.6205164', 'ругать|0.6204876', 'категорически|0.61596227', 'верить|0.61438394', 'неужели|0.61415887', 'сей_пора|0.6130956', 'довести|0.611284', 'извинить|0.61122036', 'убить|0.61005855', 'стороной|0.6086532', 'страшно|0.60720634', 'оттуда|0.6046918', 'ибо|0.6041876', 'борис|0.60395414', 'душить|0.6032598', 'земля|0.60246235', 'говориться|0.6023849', 'удалять|0.60145986', 'возможно|0.6012993', 'призывать|0.6010415', 'передать|0.59987074', 'плевать|0.59789264', 'наплевать|0.5978867', 'пора|0.5957382', 'называть|0.5942085', 'бороться|0.59320366', 'навсегда|0.5918711', 'научить|0.591098', 'понимать|0.59058374', 'доказывать|0.5885411', 'твой|0.58836806', 'ужас|0.5882763', 'постараться|0.5876258', 'приложить|0.5871172', 'следовать|0.5861627', 'промолчать|0.58581406', 'ресторатор|0.58540833', 'совесть|0.5832364', 'это_просто|0.5824369', 'гениальный|0.5793978', 'продолжать|0.5787101', 'скоро|0.57843554', 'сильный|0.5772462', 'голова|0.57653844', 'удивляться|0.57650626', 'грустный|0.57373893', 'кома|0.5708555', 'допускать|0.5684031', 'чужой|0.568048', 'шок|0.56739354', 'терпеть|0.56580067', 'виноватый|0.5655528', 'придумать|0.5651814', 'звезда|0.5640685', 'секрет|0.5636296', 'неловко|0.56280816', 'негатив|0.56262434', 'говорят|0.5623573', 'автор|0.561264', 'отсюда|0.5606316', 'быдло|0.5605057']\n",
            "Aspect 4:\n",
            "['девушка|0.7956444', 'мальчик|0.79128194', 'молодая_человек|0.7804684', 'девочка|0.77203315', 'улыбаться|0.7458946', 'официантка|0.74089134', 'парень|0.7396389', 'улыбка|0.7107525', 'барышня|0.6977165', 'улыбчивый|0.68550014', 'официант|0.6703639', 'юноша|0.6675733', 'наш_столик|0.654529', 'хостёс|0.6519898', 'звать|0.64915806', 'лицо|0.6473405', 'провожать|0.6416117', 'гардеробщик|0.63890254', 'хостесса|0.6382262', 'мила|0.6369999', 'принимать|0.60458535', 'бармен|0.60239196', 'высокомерный|0.5975348', 'улыбнуться|0.5964638', 'интересоваться|0.59412634', 'приветливо|0.5938995', 'здороваться|0.5937414', 'принять_заказ|0.59220207', 'спрашивать|0.58889437', 'стойка|0.58410335', 'пепельница|0.5835275', 'любезный|0.5812585', 'разговаривать|0.5785919', 'весь_время|0.57793117', 'администратор|0.57394195', 'обслуживать|0.573465', 'поздороваться|0.5709529', 'отвечать|0.56887674', 'охранник|0.56622696', 'вежливый|0.56565046', 'женщина|0.5655', 'соседний_столик|0.56429267', 'подойти|0.5608865', 'молоденький|0.557085', 'мужчина|0.55402607', 'прощаться|0.55378294', 'принять|0.5515392', 'встречать|0.5481701', 'внешность|0.5352689', 'голос|0.53392065', 'доброжелательно|0.52944756', 'внимательно|0.5285606', 'удалиться|0.52635664', 'забывать|0.525385', 'услышать|0.5244075', 'молниеносно|0.5235616', 'бегать|0.5222691', 'поменять|0.52094996', 'реагировать|0.51838183', 'неприветливый|0.5174201', 'успевать|0.5172647', 'офицант|0.5152515', 'одежда|0.5150895', 'представиться|0.5137012', 'молодая|0.51334757', 'объяснить|0.5120317', 'постоянно|0.5117841', 'просьба|0.5116379', 'милый|0.51043165', 'кальянщик|0.5099208', 'принести_меню|0.5097527', 'объяснять|0.5088809', 'поинтересоваться|0.50771415', 'пытаться|0.50679797', 'расторопный|0.5035188', 'задержка|0.502795', 'шустрый|0.5012487', 'волос|0.49962106', 'появляться|0.4992384', 'ответить|0.49757314', 'дружелюбно|0.49679676', 'обслуживающий|0.49662334', 'общаться|0.49566698', 'фраза|0.49519432', 'охрана|0.4951582', 'любезно|0.49489063', 'позвать|0.49383745', 'извиниться|0.49218434', 'шутить|0.4909197', 'обслужить|0.4894485', 'медленно|0.48932752', 'спросить|0.48929358', 'приветствие|0.489196', 'оперативно|0.48917398', 'одетый|0.4876176', 'стараться|0.483723', 'смена|0.4833923', 'убирать|0.48330536', 'гардероб|0.48086596', 'замечать|0.48031467']\n",
            "Aspect 5:\n",
            "['тесно|0.7297944', 'помещение|0.7098023', 'дым|0.7079399', 'вентиляция|0.7062472', 'зона|0.69537497', 'душный|0.6929959', 'диван|0.68951106', 'вытяжка|0.68785894', 'неуютный|0.6863075', 'друг_друг|0.6827225', 'шумно|0.68085545', 'удобно|0.6764071', 'накурить|0.6747761', 'комната|0.67034316', 'комфортно|0.670048', 'дымно|0.65342724', 'курить|0.651777', 'вокруг|0.64931804', 'пространство|0.6471909', 'мешать|0.6463562', 'кресло|0.6390827', 'близко|0.63467515', 'просторно|0.63375705', 'комнатка|0.63256145', 'воздух|0.6311768', 'диванчик|0.626413', 'светло|0.6238322', 'кабинка|0.623501', 'аквариум|0.62200063', 'экран|0.6177744', 'туалет|0.6137068', 'детский_комната|0.6079707', 'уединённость|0.6079659', 'табачный|0.6068762', 'сидеть|0.5952593', 'сигаретный|0.5946367', 'танцполый|0.5939064', 'зальчик|0.59228176', 'уголок|0.5900363', 'слышный|0.58982044', 'стул|0.5872965', 'плазма|0.58478856', 'телевизор|0.5835168', 'камин|0.58252525', 'неудобно|0.5821237', 'зала|0.5815302', 'второе_этаж|0.58145976', 'шум|0.5789085', 'потолок|0.57816994', 'неудобный|0.5732409', 'прохладно|0.5703922', 'дальний|0.5698293', 'дышать|0.56839573', 'деление|0.5682215', 'просторный|0.5676413', 'балкон|0.5674508', 'барный_стойка|0.5646006', 'удобный|0.5642706', 'потолочь|0.5630907', 'расстояние|0.5608034', 'зеркало|0.56046027', 'прикольный|0.5600952', 'тв|0.55836046', 'мебель|0.5578968', 'чисто|0.5547943', 'веранда|0.5527686', 'прокурить|0.5500406', 'беседка|0.54999185', 'игрушка|0.5480242', 'сосед|0.5461972', 'окно|0.54384327', 'расположить|0.54329085', 'сцена|0.54314774', 'свет|0.54286635', 'внутри|0.5401175', 'дерево|0.5398458', 'тесновато|0.5380267', 'курильщик|0.5365239', 'панель|0.53582245', 'курение|0.53523624', 'освещение|0.53521097', 'курящий|0.5348773', 'разделение|0.5326786', 'скамейка|0.5323361', 'шумный|0.5318192', 'перегородка|0.53146243', 'стена|0.53089654', 'кондиционер|0.53059196', 'кругом|0.5290581', 'темно|0.5271886', 'деревянный|0.52512056', 'люстра|0.5246452', 'подушечка|0.5215766', 'зал|0.5215218', 'подвал|0.5191257', 'некурящий|0.5186385', 'очень_уютный|0.5183349', 'уединиться|0.51731586', 'народ|0.51697177', 'терасс|0.5158513']\n",
            "Aspect 6:\n",
            "['ценовый|0.74612415', 'ценник|0.7391418', 'категория|0.7301914', 'уровень|0.7252842', 'завысить|0.7178068', 'крайний_мера|0.712904', 'выше|0.7014748', 'соответствовать|0.7003195', 'цена_качество|0.69443715', 'цена|0.6916628', 'фаста|0.68168294', 'качество|0.6801611', 'сравнение|0.68009496', 'ниже|0.66338646', 'изыск|0.6587516', 'отличие|0.658052', 'фуд|0.65608007', 'считать|0.64125615', 'учитывать|0.6323828', 'среднее|0.62893134', 'недостаток|0.62526596', 'демократичный|0.6188793', 'забегаловка|0.6142913', 'японский|0.6115609', 'адекватный|0.61113536', 'политика|0.60912037', 'сетевой|0.6074848', 'средний|0.60490596', 'многий|0.6038267', 'оценивать|0.59849757', 'намного|0.5971157', 'принцип|0.59510744', 'оценка|0.59496856', 'отличаться|0.594777', 'удивлять|0.59428465', 'формат|0.5940734', 'соотношение_цена_качество|0.5929065', 'высокий|0.5892317', 'гуманный|0.58714175', 'приемлемый|0.5869527', 'европейский|0.5835775', 'заведение|0.5831109', 'последний_время|0.5797484', 'значительно|0.5745094', 'касаться|0.5714896', 'простой|0.56805444', 'вполне|0.5648186', 'назвать|0.56168795', 'взгляд|0.56126654', 'гинза|0.5586574', 'скорее|0.557383', 'разнообразие|0.5516653', 'низкий|0.5514215', 'умеренный|0.55091804', 'большинство|0.55031055', 'ресторанный|0.5498203', 'дёшево|0.54975504', 'достойный|0.5467041', 'пожалуй|0.54629475', 'согласный|0.5422272', 'менее|0.5412929', 'дорого|0.5381948', 'весь_остальной|0.5372626', 'оправдывать|0.5346463', 'продукт|0.5332037', 'подобный|0.53189266', 'претензия|0.5317489', 'однозначно|0.5315677', 'не_мочь_сказать|0.5314301', 'посредственный|0.5291577', 'гораздо|0.5268003', 'например|0.5262637', 'дорогой|0.52463055', 'китайский|0.52424824', 'общепит|0.52341074', 'стандарт|0.5232413', 'относительно|0.52241033', 'иной|0.5206343', 'стандартный|0.52035517', 'качественный|0.51795113', 'понятный|0.51745474', 'дороговатый|0.5158026', 'средненький|0.51563424', 'крайне|0.5151344', 'обычный|0.5109945', 'нарекание|0.5100356', 'сервис|0.50976706', 'однако|0.5069394', 'гурман|0.50488114', 'бистро|0.50352037', 'дешёвый|0.5014581', 'исключение|0.5010022', 'главный|0.4975951', 'претендовать|0.4971995', 'плохой|0.4966542', 'план|0.4958262', 'являться|0.4952935', 'приличный|0.4947656', 'весьма|0.49399772', 'имхо|0.49277645']\n",
            "Aspect 7:\n",
            "['висок|0.859519', 'коктейль|0.8092276', 'безалкогольный|0.7953559', 'водка|0.7903482', 'крепкий|0.77124584', 'алкогольный|0.77096415', 'пить|0.77067494', 'мохитый|0.76557803', 'мартини|0.74437314', 'выпить|0.7429011', 'литр|0.73818207', 'пила|0.7352778', 'крушовица|0.72461665', 'разливный|0.7219567', 'коньяк|0.7149602', 'руль|0.713655', 'нефильтрованный|0.71307635', 'кружка|0.70863706', 'сорт|0.7065146', 'пиво|0.7049832', 'бутылочка|0.70400083', 'морс|0.7009188', 'вишнёвый|0.70034766', 'бутылочный|0.69774246', 'сангрия|0.6921759', 'пинта|0.6827972', 'ньюкасл|0.6824367', 'коктель|0.6776223', 'сидр|0.67732596', 'бланша|0.67011034', 'лимонад|0.66547894', 'хугарден|0.66436416', 'глинтвейн|0.6620546', 'эль|0.65362716', 'бокальчик|0.65262127', 'закусить|0.65114605', 'лонг|0.6479508', 'бокал|0.6456425', 'стаут|0.64251214', 'распитие|0.64050925', 'кальян|0.640275', 'напиток|0.6400568', 'гиннес|0.6344973', 'пивко|0.6339772', 'пшеничный|0.6301248', 'игристый|0.6282387', 'попить|0.62304795', 'текила|0.62209356', 'квас|0.62003434', 'василеостровский|0.61677134', 'айленд|0.615777', 'потягивать|0.6077045', 'грапп|0.6061506', 'ром|0.6051154', 'настойка|0.6030256', 'ликёр|0.6020248', 'алкоголь|0.5986386', 'графин|0.59671867', 'дайкири|0.5913117', 'сок|0.59127665', 'бельгийский|0.5908305', 'шампанский|0.5867208', 'рюмка|0.5861844', 'бутылка|0.5861', 'угостить|0.5853585', 'литровый|0.58453536', 'эспрессо|0.5835053', 'наливать|0.5824343', 'вода|0.5803238', 'вино|0.5746035', 'медовуха|0.57246876', 'бесплатный|0.5712976', 'кувшин|0.5645133', 'облепиховый|0.56397307', 'каберне|0.5639511', 'джина|0.5638113', 'немецкий|0.56335074', 'эдельвейс|0.5625483', 'сироп|0.55973256', 'лёд|0.5584848', 'поллитра|0.55737454', 'производство|0.5570603', 'америкать|0.55696046', 'кола|0.5565599', 'лагер|0.55588627', 'фирменный|0.555118', 'чай|0.5550759', 'коктейльный|0.5548978', 'вельвет|0.5542242', 'чашечка|0.5525011', 'стакан|0.54783344', 'килкенни|0.54764605', 'лимончелло|0.5454452', 'кофе|0.54341197', 'компот|0.54198253', 'употреблять|0.54161125', 'пино|0.54140925', '100р|0.5370951', 'закусывать|0.53592026', 'фильтровать|0.53504944']\n",
            "Aspect 8:\n",
            "['организация|0.8307737', 'организовать|0.81286', 'тамада|0.80355626', 'подготовка|0.7822617', 'свадебный|0.7693621', 'торжество|0.7646369', 'ольга|0.76023865', 'благодарность|0.7591574', 'мероприятие|0.75515854', 'организатор|0.7424406', 'праздник|0.7384205', 'майкл|0.7375479', 'огромный_спасибо|0.7340934', 'молодожён|0.7253756', 'директор|0.7247848', 'весь_гость|0.7236016', 'пожелание|0.722057', 'ирина|0.7206658', 'весь_наш|0.7121978', 'банкет|0.71189106', 'ведущий|0.7114246', 'большой_спасибо|0.70153785', 'наталья|0.69877064', 'невеста|0.6971723', 'владимир|0.69497347', 'евгений|0.6934018', 'команда|0.69307405', 'елена|0.6912248', 'подарок|0.6897374', 'банкетный|0.6895044', 'фуршет|0.6834125', 'профессионализм|0.6817549', 'отдельный_спасибо|0.6812177', 'сотрудник|0.6809079', 'коллектив|0.6795933', 'александр|0.67491734', 'учесть|0.6746638', 'сергей|0.6739096', 'номер|0.67008144', 'татьяна|0.6684693', 'профессионал|0.6672059', 'марин|0.6632276', 'свадьба|0.662315', 'уважение|0.66199136', 'проведение|0.6617781', 'выражать|0.66109127', 'станислав|0.6531923', 'алексей|0.6523976', 'управлять|0.65095973', 'анастасий|0.6448268', 'участие|0.6411053', 'банкетный_зал|0.637861', 'наш_свадьба|0.6337733', 'честь|0.6337732', 'менеджер|0.63347954', 'благодаря|0.630625', 'благодарить|0.6290667', 'дмитрий|0.62774503', 'поблагодарить|0.62263215', 'программа|0.6161915', 'бельканто|0.6157479', 'поклон|0.61369', 'новый_год|0.6117197', 'договор|0.6114764', 'каравай|0.60972905', 'помощь|0.6086935', 'шоу|0.6070757', 'весь_наш_пожелание|0.6059986', 'фотограф|0.6052917', 'андрей|0.60342735', 'бравый|0.59880507', 'подарить|0.5931177', 'администрация|0.59273577', 'признательность|0.5922768', 'профессиональный|0.5921312', 'виктор|0.5915412', 'услуга|0.59012014', 'жанна|0.5886586', 'жених|0.58863777', 'родитель|0.58776873', 'совет|0.5860875', 'юбилей|0.5858878', 'регистрация|0.5852761', 'чуткий|0.5820701', 'артист|0.5817864', 'конкурс|0.5813738', 'дмитрия|0.581294', 'юлий|0.581042', 'событие|0.58014524', 'марина|0.5781858', 'поздравление|0.57714033', 'галина|0.57584804', 'благодарный|0.5756191', 'юлия|0.57501143', 'мастер|0.5743848', 'вячеслав|0.5738889', 'предоставить|0.57152903', 'кондитер|0.57085294', 'кейтеринг|0.57003856', 'выездной|0.5689564']\n",
            "Aspect 9:\n",
            "['заехать|0.7682315', 'пообедать|0.74378943', 'сегодня|0.7393459', 'вчера|0.7251035', 'поехать|0.7196996', 'прогулка|0.7126514', 'пр|0.7108202', 'воскресение|0.6991285', 'поужинать|0.69261616', 'случайно|0.6863974', 'однокурсник|0.68540084', 'московский|0.68489933', 'обедать|0.6767982', 'недавно|0.6728625', 'забежать|0.67183703', 'ехать|0.6613606', 'невский|0.66040576', 'перекусить|0.6585853', 'ул|0.6569979', 'гулять|0.6560533', 'ездить|0.65592164', 'офис|0.6542845', 'отправиться|0.6525205', 'днём|0.6490088', 'заезжать|0.6477792', 'заслать|0.6402774', 'подружка|0.63789785', 'это_кафе|0.63563937', 'петроградка|0.63543075', 'район|0.6333859', 'ужинать|0.62645334', 'открыться|0.6256161', 'недалеко|0.62543845', 'заглянуть|0.6160567', 'приморский|0.6075704', 'побывать|0.60648096', 'жить|0.6034585', 'проезжать|0.6032677', 'восстание|0.60301507', 'проспект|0.602965', 'заскочить|0.60088617', 'поход|0.59632313', 'воскресный|0.5960625', 'выходной|0.5949573', 'москва|0.5928509', 'суббота|0.587877', 'дом|0.587613', 'приезжать|0.5875367', 'добраться|0.5872147', 'январь|0.5849968', 'перерыв|0.58492863', 'год_назад|0.58227444', 'завтрак|0.5818881', 'остров|0.5808507', 'ноябрь|0.5793823', 'ходьба|0.57928056', 'парка|0.5791553', 'прогуливаться|0.5763329', 'встретиться|0.5754646', 'забегать|0.5752712', 'лето|0.57501054', 'очередной|0.57370895', 'жена|0.57218075', 'май|0.57188654', 'утро|0.5717381', 'март|0.5713938', 'забрести|0.5680336', 'посетить|0.567382', 'вечером|0.56606483', 'четверг|0.5650095', 'февраль|0.56172764', 'месяц|0.56127596', 'приехать|0.5587188', 'рубинштейн|0.55852354', 'евразия|0.5564203', 'питер|0.55603325', 'среда|0.55481446', 'летом|0.554356', 'прогуляться|0.55419326', 'захаживать|0.55332315', 'дочка|0.5526759', 'мама|0.55181193', 'заходить|0.5515518', 'театр|0.55013055', 'полгода|0.54992676', 'осень|0.5497475', 'путь|0.54968756', 'семья|0.54944', 'поздно|0.54854083', 'однажды|0.5473146', 'неделя|0.546548', 'набережная|0.5464046', 'наткнуться|0.5462226', 'пешком|0.5457784', 'цель|0.54548126', 'занести|0.54494107', 'коллега|0.5444812', 'разведка|0.54302126', 'фонтанка|0.54162526', 'обед|0.53711724']\n",
            "Aspect 10:\n",
            "['полка|0.7203791', 'старинный|0.71041596', 'старое|0.7033634', 'стен|0.7019508', 'журнал|0.684963', 'стена|0.6848258', 'лампа|0.6827755', 'картина|0.67934704', 'черно|0.6788397', 'предмет|0.67735505', 'ля|0.67587787', 'белые|0.6758394', 'деталь|0.6703683', 'кирпичный|0.6679926', 'рамка|0.6658995', 'синий|0.6653427', 'стеклянный|0.6630125', 'золотой|0.66016144', 'элемент|0.6556965', 'фотография|0.6534745', 'люстра|0.6529741', 'подоконник|0.6518197', 'газета|0.6473671', 'множество|0.6472371', 'буфет|0.6445508', 'белоснежный|0.6438788', 'кирпич|0.64248395', 'дерево|0.6416742', 'тон|0.63985634', 'штора|0.6378864', 'винный|0.63778144', 'атрибутика|0.637766', 'плитка|0.6377604', 'прованс|0.63577724', 'серый|0.63577354', 'доска|0.63519907', 'плазменный|0.63464755', 'потолок|0.63245225', 'убранство|0.6309476', 'внутренний|0.63065296', 'искусственный|0.6300572', 'крыша|0.630046', 'обилие|0.62919927', 'декор|0.6273229', 'светильник|0.62601835', 'подсвечник|0.62530464', 'полочка|0.6251708', 'краска|0.62433326', 'светящийся|0.6225884', 'стеллаж|0.6204754', 'стекло|0.6190859', 'свет|0.6172817', 'мебель|0.61706626', 'кровать|0.6168643', 'прочий|0.616151', 'кладка|0.61544436', 'абажур|0.6147056', 'клетка|0.61428165', 'цветовой|0.614129', 'панель|0.61366373', 'гамма|0.61332273', 'фильм|0.6132214', 'массивный|0.6114013', 'цветочек|0.60967505', 'пол|0.60904133', 'солнце|0.60851264', 'ткань|0.6074642', 'взор|0.60728145', 'подсветка|0.60657644', 'свод|0.60649437', 'кожаный|0.6064237', 'зеркало|0.6021115', 'цветок|0.601982', 'библиотека|0.601425', 'цвет|0.60115516', 'обивка|0.5998628', 'обои|0.59976035', 'направление|0.5985849', 'комод|0.59620106', 'блестящий|0.59605867', 'огонь|0.59600633', 'рисунок|0.59573686', 'современный|0.5956661', 'вдоль|0.59544146', 'резной|0.59525526', 'шарм|0.59510005', 'роспись|0.59357107', 'ширма|0.5923067', 'коричневый|0.590924', 'занавеска|0.5900799', 'полый|0.589738', 'широкий|0.58883154', 'южный|0.5876586', 'деревянный|0.5864272', 'голубой|0.5860317', 'аксессуар|0.5844563', 'цвета|0.58403516', 'мотив|0.58397174', 'логотип|0.5831307', 'интерьерный|0.58307207']\n",
            "Aspect 11:\n",
            "['тёплый|0.6762257', 'ненавязчивый|0.64926654', 'общий_впечатление|0.6168709', 'навязчивый|0.6075889', 'прекрасно|0.5968852', 'особенный|0.5955588', 'запомниться|0.59134805', 'очень_приятный|0.5882938', 'очень_порадовать|0.5882324', 'очень_понравиться|0.58605295', 'ммммм|0.5843198', 'приятный|0.57430124', 'остаться_очень_довольный|0.57307684', 'весь_очень_вкусно|0.5729702', 'целое|0.5726704', 'пролететь|0.5720411', 'душевный|0.56970954', 'душевно|0.5683994', 'довольный|0.5683031', 'великолепно|0.565297', 'безумно|0.56465816', 'весь_очень|0.5637894', 'восхитительный|0.56372076', 'оч|0.563046', 'вкусный_еда|0.5625992', 'сытый|0.55608606', 'понравиться_весь|0.5558902', 'очень_хороший|0.5557033', 'чудесно|0.55326015', 'незаметно|0.5526713', 'весь_очень_понравиться|0.54928565', 'подкачать|0.5489541', 'нарекание|0.54773337', 'выше_весь_похвала|0.5458424', 'располагать|0.5454351', 'идеально|0.5450851', 'мера|0.54506874', 'живот|0.5432049', 'потрясающе|0.543011', 'восторг|0.5427079', 'атмосфера|0.5414789', 'очень_очень_долго|0.5401769', 'прийти_ещё|0.5369539', 'волшебный|0.53619987', 'обстановка|0.53477126', 'расслаблять|0.5315419', 'предупредительный|0.53081673', 'хор|0.5298693', 'очень_понравиться_весь|0.5294802', 'особый|0.52905566', 'отлично|0.5278646', 'достойно|0.52742404', 'порадовать|0.52649397', 'очень_вкусно|0.5259936', 'замечательный|0.52535975', 'весь_понравиться|0.5249072', 'остаться_довольный|0.5245292', 'домашний|0.52340055', 'великолепный|0.5176555', 'неспешный|0.5176071', 'обстановочка|0.51311225', 'превосходный|0.51292396', 'изумительный|0.51216173', 'внимательный|0.5106346', 'остаться_очень_приятный|0.50833184', 'очень_вкусный|0.5050463', 'наслаждаться|0.5038482', 'особенно|0.5032461', 'немного|0.5025889', 'насладиться|0.5012293', 'позитивный|0.5005377', 'зы|0.5000146', 'порция_большой|0.49773785', 'ооочень_вкусный|0.49710056', 'сытно|0.49213636', 'весь_очень_вкусный|0.4910616', 'качественно|0.49061078', 'спокойный|0.48978218', 'вкусно|0.48766273', 'завершение|0.48713958', 'интерьер_очень_уютный|0.4864685', 'доброжелательный|0.48578268', 'очень_очень|0.48504895', 'чудесный|0.484043', 'скрасить|0.48323375', 'изыскать|0.483113', 'приятно|0.48099265', 'расслабить|0.48098448', 'превосходно|0.4808504', 'душа|0.48028702', 'непринуждённый|0.47728926', 'праздничный|0.47661725', 'придраться|0.47605875', 'зажигательный|0.47460997', 'приём|0.47456026', 'общий|0.47425395', 'вкусненький|0.473432', 'незаметный|0.47333008', 'учтивый|0.47332627', 'очень_вкусный_еда|0.47140193']\n",
            "Aspect 12:\n",
            "['полтора|0.79733837', 'половина|0.7613622', 'ровно|0.7371856', 'минимум|0.7220998', '15_минута|0.7165041', 'примерно|0.71028596', '20_минута|0.7086817', 'соответственно|0.70790726', 'максимум|0.69852275', 'заполнить|0.6962129', 'час|0.6919058', 'дождаться|0.6892491', 'десять|0.67505586', 'это_время|0.67331374', 'полчаса|0.67310345', 'простоять|0.6717497', 'прийтись|0.66782033', 'выясниться|0.6652986', 'просидеть|0.66464615', 'вынести|0.6631051', 'остаток|0.6605762', 'прождать|0.66030407', 'перемена|0.6600034', 'оговорить|0.65918577', 'результат|0.6578872', 'оплатить|0.65753865', 'коробка|0.6567934', 'напоминание|0.6554707', 'отдать|0.6551312', 'дозаказать|0.65193844', 'пять|0.65182924', 'мина|0.65156037', 'бокс|0.64896554', '10_минута|0.6425061', 'расчёт|0.64158636', 'естественно|0.6361555', 'демонстративно|0.6358135', '1_5_час|0.6318511', 'забрать|0.6318362', 'унести|0.6294458', 'привезти|0.6277259', 'закрытие|0.62753594', 'течение|0.6273137', 'спустя|0.6260534', 'убрать|0.621825', 'четверо|0.6213965', 'вернуть|0.62085134', 'заплатить|0.61928284', 'рассчитать|0.61830664', 'четыре|0.61662185', 'сумма|0.6164595', 'курс|0.6106576', 'вынос|0.6103651', 'подождать|0.60755837', 'получас|0.60433835', 'уложиться|0.60108304', 'оплата|0.5995767', 'предупреждать|0.5993976', 'внести|0.5993962', 'пообещать|0.5961419', 'контейнер|0.5940516', 'сложность|0.59387803', 'двадцать|0.5931704', 'наполовину|0.5928014', 'сделать_заказ|0.5918176', 'приход|0.5907581', 'сколько|0.58912355', 'персона|0.58646196', 'уйти|0.5859295', 'успеть|0.5857868', 'очень_долго|0.5851974', 'посчитать|0.5831966', 'затем|0.58102703', 'предоплата|0.5809696', 'пятнадцать|0.5799165', 'дополнительно|0.5791482', 'указать|0.5770394', 'ожидание|0.57625294', 'пустой|0.57573104', 'отказываться|0.573562', 'предупредить|0.5735614', 'около|0.57146555', 'итог|0.57097816', 'положить|0.5694016', 'опоздать|0.5693257', 'входить|0.56869006', 'прибыть|0.5684405', 'собрать|0.5674032', 'счёт|0.56702113', 'поменять|0.56508714', 'депозит|0.5646227', 'полупустой|0.5640423', 'закончиться|0.563356', 'причём|0.5624473', 'неприятно|0.56216097', 'обещать|0.5606818', 'пакет|0.56047386', 'сдача|0.5604214', 'оплачивать|0.56021845', 'процент|0.5601064']\n",
            "Aspect 13:\n",
            "['гриль|0.6496583', 'рыба|0.63489604', 'греческий|0.6182004', 'салат_цезарь|0.6178298', 'выбрать|0.61434966', 'мясной|0.5913936', 'стейка|0.58757204', 'говядина|0.5763688', 'стейк|0.5752131', 'цезарь|0.5740477', 'свинина|0.5722753', 'рыбный|0.5717885', 'дорад|0.57062757', 'овощ|0.5671754', 'баклажан|0.5638718', 'шашлык|0.5573542', 'курица|0.55049753', 'рибай|0.5485778', 'оливья|0.5404607', 'морепродукт|0.53997433', 'дораду|0.5397445', 'карпаччо|0.5357735', 'салатик|0.53188765', 'креветка|0.5310341', 'плов|0.5299958', 'мангал|0.52732897', 'узбекский|0.52597624', 'пекински|0.523589', 'свинин|0.52157634', 'шашлычок|0.52078885', 'стейковы|0.51457816', 'заказывать|0.51406074', 'салат|0.513762', 'форель|0.5137275', 'коптить|0.50807124', 'приготовить|0.5077981', 'закуска|0.50738597', 'телятина|0.50681186', 'осетрина|0.50288856', 'вок|0.5027947', 'цыплёнок|0.50241435', 'муж|0.49778378', 'стэйк|0.49752295', 'куриный|0.4954917', 'выбирать|0.49535218', 'посоветовать|0.49389884', 'заказать|0.4934043', 'свиной|0.49301493', 'лосось|0.4925059', 'долму|0.49085385', 'мидия|0.4902221', 'остановиться|0.48924434', 'ассорти|0.48902023', 'свинный|0.4842875', 'состав|0.48084894', 'мраморный|0.4785129', 'выбор|0.47849894', 'судак|0.47768563', 'рёбрышко|0.47693956', 'колбаска|0.47452837', 'помнить|0.47286338', 'рулька|0.46847445', 'пасть|0.4671889', 'тигровый|0.46672612', 'кебаб|0.46493262', 'миньон|0.4648413', 'кисло_сладкое_соус|0.46477136', 'барашек|0.46259046', 'раздел|0.4615833', 'отговорить|0.46123803', 'запечёный|0.4602843', 'крылышко|0.46027064', 'лазание|0.45945454', 'экспериментировать|0.45853257', 'предпочитать|0.45815414', 'вока|0.454151', 'бифстроганов|0.4536826', 'ягнёнок|0.45309627', 'жена|0.4526843', 'каре|0.45080358', 'попробовать|0.45055437', 'острый|0.45030674', 'бефстроганов|0.44843033', 'филе|0.44835693', 'запечь|0.4476468', 'именно|0.44638586', 'мясо|0.44604522', 'баранина|0.44575176', 'фахитос|0.44352216', 'жареный|0.44349042', 'солянка|0.4433965', 'жульен|0.44300193', 'готовиться|0.44269073', 'уха|0.4426783', 'тапас|0.44150835', 'тайский|0.44140252', 'пармиджать|0.44056147', 'медальон|0.44003552', 'горячее_блюдо|0.4395268', 'меню|0.43679136']\n",
            "2019-12-24 21:10:38,697 INFO Epoch 11, train: 5s\n",
            "2019-12-24 21:10:38,698 INFO Total loss: 3.7645, max_margin_loss: 3.6554, ortho_reg: 0.1091\n",
            "100% 594/594 [00:05<00:00, 103.09it/s]\n",
            "Aspect 0:\n",
            "['попёс|0.6424708', 'ливерпуль|0.6199983', 'ых|0.6113954', 'прибавить|0.6092364', 'немолодой|0.58830154', 'food|0.57817966', 'good|0.57694465', 'of|0.5762076', 'хх|0.57458174', 'градус|0.57136166', 'restaurant|0.56823504', 'ого|0.5675628', 'service|0.56646055', 'were|0.56084377', 'доллар|0.5588231', 'best|0.55855876', 'in|0.5584128', 'прайс|0.5583898', 'wa|0.5576091', 'студентка|0.557161', 'ти|0.5553796', 'ка|0.5550146', 'полуночь|0.5539202', 'блюз|0.5525608', 'it|0.55183977', 'no|0.55032754', 'па|0.54954946', 'my|0.5493321', 'бальный|0.54869825', 'very|0.5482687', 'двенадцать|0.5464462', 'процент|0.5446415', 'тридцать|0.54440266', 'выключать|0.5442363', 'космический|0.5442148', 'this|0.5429538', 'and|0.5428958', 'девять|0.5419154', 'we|0.5389295', 'этак|0.53873897', 'приблизительно|0.53789115', 'рок|0.53661835', 'ролик|0.53587544', 'пятьдесят|0.5354953', 'бурный|0.5345624', 'заполняемость|0.53439426', 'you|0.5336195', 'the|0.5312166', 'мировой|0.53001165', 'удар|0.5299923', 'пт|0.5299394', 'that|0.5298682', 'парный|0.52834225', 'копейка|0.5277796', 'negativa|0.5275221', 'потянуть|0.52635086', 'шансон|0.5244641', 'справедливо|0.5238079', 'all|0.523332', 'ру|0.5228441', 'фраер|0.5205217', 'отстой|0.5204841', 'опера|0.52038306', 'диск|0.5178812', 'to|0.517492', 'бум|0.5169068', 'бранч|0.5164978', 'хвостик|0.5161711', 'евро|0.51582885', 'группа|0.51481175', 'резкий|0.51414317', 'че|0.512426', 'луна|0.5120837', 'сб|0.5114358', 'увеличивать|0.5110995', 'монета|0.5098783', 'возраст|0.5098659', 'подпевать|0.5093795', 'основательно|0.5093327', 'бал|0.5090173', 'клубный|0.5087125', 'именной|0.5082595', 'подорожать|0.5074568', 'is|0.50736266', 'place|0.5066259', 'народный|0.5057447', 'источник|0.50570977', 'сантиметр|0.5056347', 'фанера|0.5052058', 'афиша|0.5036167', 'нигиря|0.5033726', 'ть|0.5029654', 'заказываться|0.501623', 'мёртвый|0.5016104', 'ограничение|0.5000676', 'радио|0.49979848', 'икс|0.49969184', 'пать|0.4991273', 'отечественный|0.4991078', 'гопник|0.4989739']\n",
            "Aspect 1:\n",
            "['рот|0.601014', 'солёный|0.5822604', 'масло|0.5791341', 'нарезать|0.57485497', 'хрустеть|0.57342637', 'кусочек|0.56964874', 'заморозка|0.5688283', 'булка|0.5658326', 'лаваш|0.565641', 'корочка|0.55897075', 'лепёшка|0.5560225', 'булочка|0.55356383', 'ломтик|0.55051625', 'хрен|0.5498153', 'пережарить|0.54923207', 'фокачча|0.5482374', 'чипсы|0.548213', 'капуста|0.54673374', 'перчик|0.5433159', 'посыпать|0.54073274', 'орешек|0.5403083', 'выращивать|0.53899896', 'палтус|0.5366907', 'пармезан|0.5366727', 'мариновать|0.535377', 'помидорка|0.53369194', 'кусок|0.53359175', 'картошка|0.5333992', 'сметана|0.5322366', 'чеснок|0.53176165', 'зелень|0.5314291', 'сковородка|0.531316', 'фарш|0.53118604', 'огурчик|0.5300406', 'картошечка|0.5294613', 'рыбка|0.5283024', 'соус|0.52821815', 'специя|0.5276402', 'сырой|0.52617717', 'бекон|0.5261363', 'фольга|0.5258051', 'травка|0.5252869', 'спаржа|0.52515924', 'тест|0.5251163', 'сковорода|0.5245309', 'икра|0.5241163', 'яйцо|0.52356786', 'жарить|0.52281404', 'слайс|0.5219089', 'трава|0.52072936', 'грудинка|0.5204094', 'варёный|0.5202632', 'разрезать|0.5202426', 'каперс|0.5199319', 'тонкий|0.5199233', 'лук|0.5197737', 'песто|0.519456', 'лука|0.5193012', 'свининка|0.5180086', 'жир|0.51754713', 'огурец|0.5166402', 'уксус|0.5156397', 'каша|0.5155326', 'порезать|0.51546717', 'имбирь|0.51450527', 'оливка|0.51358837', 'горшочек|0.512385', 'пожарить|0.51147157', 'гребешок|0.5111845', 'начинка|0.5110261', 'горчица|0.5103756', 'курочка|0.51026964', 'костя|0.5099925', 'плошка|0.5098001', 'протухший|0.5094012', 'кальмар|0.5092732', 'бульон|0.5088713', 'майонез|0.50822496', 'косточка|0.507789', 'помидор|0.5069251', 'кубик|0.50670034', 'переварить|0.5066587', 'печь|0.5064636', 'утка|0.5061308', 'разогреть|0.50581574', 'завернуть|0.50560474', 'рис|0.5054739', 'нарезка|0.5051705', 'морковь|0.50312495', 'дорада|0.5029355', 'жёсткий|0.50263095', 'тунец|0.502586', 'хамон|0.5016757', 'картофель|0.50130653', 'овощной|0.49987754', 'горка|0.49918213', 'блин|0.49884835', 'кус|0.4982577', 'душистый|0.49805695', 'соломка|0.4970526']\n",
            "Aspect 2:\n",
            "['сладость|0.6764127', 'брюла|0.66498494', 'пирожное|0.6641966', 'миндальный|0.6402968', 'крем|0.6391369', 'мусса|0.63820153', 'шоколад|0.636109', 'панакот|0.63404846', 'банановый|0.6300984', 'захер|0.62730765', 'бисквит|0.627175', 'мильфея|0.62672806', 'шоколадный|0.62211', 'печение|0.617656', 'карамельный|0.61736107', 'малин|0.6123795', 'маракуйя|0.612087', 'карамель|0.6113498', 'суфле|0.61107224', 'развалина|0.608793', 'трюфель|0.60574156', 'грушевый|0.60552704', 'капуччиный|0.6044418', 'манговый|0.6039946', 'ванильный|0.60298836', 'кекс|0.6026718', 'шарик|0.6009612', 'чизкейк|0.6007296', 'графский|0.5980997', 'фондать|0.59696615', 'сорбетом|0.5959759', 'клубника|0.5954687', 'морковный|0.5953886', 'фисташковый|0.59448457', 'персиковый|0.59344745', 'эклер|0.59285986', 'ваниль|0.592633', 'ягода|0.59232765', 'марципановый|0.5922928', 'мороженое|0.5922694', 'мятый|0.59167683', 'творог|0.59007823', 'лаймовый|0.5891541', 'взбить|0.58828545', 'сорбета|0.5877704', 'печенюшка|0.5876088', 'какао|0.58677155', 'чайничек|0.5865063', 'безе|0.5860222', 'пирожёнка|0.58594847', 'корица|0.5857322', 'чиз|0.5838639', 'малина|0.5826535', 'изюм|0.582024', 'мятный|0.58125645', 'заварной|0.58083284', 'кокосовый|0.5804782', 'песочный|0.5784035', 'зелёный|0.5783784', 'значиться|0.5783298', 'баба|0.576675', 'манго|0.57393867', 'вишня|0.57371473', 'меренга|0.5736206', 'тортик|0.57304275', 'джема|0.57209325', 'сухофрукты|0.57107884', 'медовик|0.57041657', 'творожный|0.57036996', 'лимонный|0.57015157', 'ягодный|0.5698987', 'карамелизировать|0.56924915', 'сырник|0.5691098', 'пудинг|0.5685756', 'котт|0.56831753', 'брауни|0.5669819', 'шарлотка|0.5659164', 'сгущёнка|0.565611', 'желе|0.5654003', 'заманчивый|0.56484723', 'панна|0.56462806', 'пирог|0.5643276', 'сладкое|0.5639731', 'личить|0.5639071', 'шоколадка|0.56157005', 'сливка|0.56128216', 'тирамис|0.56089807', 'стопа|0.55887413', 'яблоко|0.5580709', 'печенек|0.55799484', 'смородина|0.5579477', 'кейк|0.5574909', 'мармелад|0.55713844', 'травяной|0.5568159', 'лесной|0.55574286', 'мороженный|0.5557096', 'цитрусовый|0.5556246', 'яблочный|0.55511034', 'конфета|0.5539731', 'цедра|0.55369765']\n",
            "Aspect 3:\n",
            "['простить|0.78314114', 'бояться|0.77851176', 'ум|0.7473773', 'значит|0.7350311', 'знаете|0.7296365', 'мысль|0.7278737', 'надоесть|0.7102827', 'пусть|0.70379686', 'господин|0.700263', 'поверить|0.68477905', 'обидеть|0.6790468', 'понять|0.6680364', 'почувствовать|0.6672869', 'перестать|0.6656841', 'признаваться|0.6654757', 'зря|0.66332275', 'признаться|0.66247284', 'слово|0.66215986', 'здоровье|0.6614753', 'срочно|0.65549743', 'не_не|0.6538076', 'мыть|0.652526', 'право|0.6493076', 'слышать|0.6444244', 'вечно|0.64312506', 'знак|0.639907', 'жизнь|0.63440126', 'уверенный|0.63354516', 'наверно|0.6330523', 'таракан|0.63298523', 'иначе|0.6321254', 'не_знать|0.63182366', 'речь|0.6303654', 'сила|0.6298127', 'вон|0.62802297', 'лезть|0.62629956', 'бог|0.6248355', 'спорить|0.6218664', 'ругать|0.62127364', 'защита|0.6208345', 'обходить|0.6194627', 'довести|0.6158252', 'сей_пора|0.6155901', 'категорически|0.614462', 'верить|0.61308235', 'убить|0.61253124', 'неужели|0.6118814', 'извинить|0.61021423', 'страшно|0.6092757', 'стороной|0.60425615', 'душить|0.6041894', 'земля|0.6030529', 'оттуда|0.60279477', 'плевать|0.6016285', 'призывать|0.60048395', 'удалять|0.59963244', 'наплевать|0.5991974', 'борис|0.59891564', 'передать|0.59813595', 'говориться|0.5967558', 'ибо|0.59628725', 'называть|0.5961507', 'возможно|0.59546626', 'научить|0.5947076', 'бороться|0.593199', 'ужас|0.592481', 'понимать|0.5923635', 'промолчать|0.5911194', 'доказывать|0.591015', 'приложить|0.59099305', 'пора|0.5907754', 'это_просто|0.5905512', 'твой|0.5891341', 'навсегда|0.5862733', 'совесть|0.58519626', 'следовать|0.5827197', 'удивляться|0.5801009', 'гениальный|0.58005106', 'ресторатор|0.57995594', 'постараться|0.5790273', 'продолжать|0.5764987', 'сильный|0.57622993', 'грустный|0.57506967', 'голова|0.57453066', 'чужой|0.5715152', 'секрет|0.5713241', 'скоро|0.5710881', 'говорят|0.567961', 'допускать|0.56774306', 'шок|0.56749606', 'терпеть|0.56690276', 'кома|0.5665631', 'виноватый|0.5655408', 'жесть|0.56448656', 'придумать|0.5636991', 'стыдно|0.5631454', 'неловко|0.5620704', 'похоже|0.56129086', 'черта|0.5604341', 'серьёзно|0.56027997']\n",
            "Aspect 4:\n",
            "['девушка|0.7934403', 'мальчик|0.7863276', 'молодая_человек|0.7800653', 'девочка|0.76673913', 'официантка|0.73899454', 'улыбаться|0.7387339', 'парень|0.7362838', 'улыбка|0.70668757', 'барышня|0.69652224', 'улыбчивый|0.6797811', 'официант|0.6673148', 'юноша|0.66334355', 'наш_столик|0.6516486', 'хостёс|0.6513325', 'звать|0.6463405', 'лицо|0.64482844', 'гардеробщик|0.64058065', 'хостесса|0.63980186', 'провожать|0.6377776', 'мила|0.6324035', 'принимать|0.60400903', 'бармен|0.6027045', 'улыбнуться|0.59646046', 'высокомерный|0.59552526', 'принять_заказ|0.5927968', 'приветливо|0.5908854', 'здороваться|0.5894754', 'интересоваться|0.58861965', 'спрашивать|0.5856329', 'стойка|0.58452135', 'пепельница|0.58023894', 'разговаривать|0.57755756', 'любезный|0.5761699', 'администратор|0.5759584', 'поздороваться|0.5719558', 'весь_время|0.5711876', 'охранник|0.5686241', 'отвечать|0.5676248', 'обслуживать|0.5661875', 'женщина|0.56461066', 'подойти|0.56097317', 'соседний_столик|0.56057066', 'вежливый|0.5605521', 'принять|0.5545548', 'молоденький|0.551599', 'мужчина|0.54901254', 'прощаться|0.5482141', 'встречать|0.54427755', 'внешность|0.5327741', 'голос|0.5325508', 'удалиться|0.5286436', 'услышать|0.526512', 'внимательно|0.52383053', 'доброжелательно|0.5234382', 'поменять|0.5211326', 'забывать|0.519155', 'бегать|0.51877797', 'молниеносно|0.5186951', 'одежда|0.51754797', 'представиться|0.51452696', 'реагировать|0.5145033', 'неприветливый|0.51446825', 'принести_меню|0.51274157', 'объяснить|0.51258224', 'успевать|0.51172066', 'просьба|0.5106802', 'офицант|0.5099207', 'поинтересоваться|0.508803', 'кальянщик|0.50762427', 'пытаться|0.5068917', 'объяснять|0.5067228', 'постоянно|0.5044177', 'милый|0.50400734', 'молодая|0.50371444', 'ответить|0.49941063', 'задержка|0.49795336', 'расторопный|0.4968255', 'фраза|0.49681658', 'охрана|0.49676195', 'любезно|0.49647468', 'волос|0.4955959', 'позвать|0.49497908', 'шустрый|0.49349713', 'извиниться|0.4929921', 'общаться|0.49230564', 'появляться|0.4922906', 'дружелюбно|0.4921953', 'приветствие|0.49016148', 'обслуживающий|0.4896555', 'спросить|0.48925206', 'шутить|0.48491603', 'обслужить|0.48404962', 'гардероб|0.48382998', 'оперативно|0.48346952', 'одетый|0.4833104', 'медленно|0.4816321', 'смена|0.48012123', 'убирать|0.4783758', 'молодая_человек_который|0.476817', 'замечать|0.47659734']\n",
            "Aspect 5:\n",
            "['тесно|0.72664845', 'помещение|0.703857', 'дым|0.70339334', 'вентиляция|0.7007334', 'зона|0.6890601', 'диван|0.6882104', 'душный|0.68666875', 'вытяжка|0.68264747', 'друг_друг|0.68206865', 'неуютный|0.6810788', 'шумно|0.6765743', 'удобно|0.67535716', 'накурить|0.6702584', 'комфортно|0.6679032', 'комната|0.6653274', 'вокруг|0.6504163', 'дымно|0.64925885', 'курить|0.645818', 'пространство|0.6452125', 'мешать|0.6414838', 'кресло|0.63922054', 'просторно|0.6322914', 'близко|0.632098', 'комнатка|0.63047636', 'воздух|0.6299952', 'диванчик|0.62348264', 'светло|0.62338996', 'аквариум|0.6219049', 'кабинка|0.6194355', 'экран|0.6149451', 'туалет|0.60962933', 'табачный|0.6045278', 'детский_комната|0.60422325', 'уединённость|0.6040534', 'сидеть|0.59301007', 'сигаретный|0.5909058', 'танцполый|0.5900204', 'зальчик|0.5894809', 'слышный|0.5867028', 'уголок|0.58659935', 'стул|0.5854356', 'плазма|0.5829851', 'неудобно|0.5828854', 'камин|0.58099055', 'телевизор|0.57962084', 'потолок|0.57911', 'второе_этаж|0.5761037', 'зала|0.57500017', 'шум|0.57374686', 'неудобный|0.5711715', 'прохладно|0.56582594', 'дышать|0.5655466', 'дальний|0.5647819', 'балкон|0.5641639', 'потолочь|0.5640462', 'просторный|0.5634756', 'деление|0.56339675', 'барный_стойка|0.5631368', 'удобный|0.56207347', 'прикольный|0.56181693', 'расстояние|0.559667', 'зеркало|0.55949867', 'мебель|0.55772245', 'тв|0.5564878', 'чисто|0.5550606', 'беседка|0.5495668', 'игрушка|0.549047', 'веранда|0.5487368', 'прокурить|0.5460055', 'сосед|0.5431706', 'внутри|0.5421812', 'окно|0.54212886', 'дерево|0.5411633', 'расположить|0.54090273', 'свет|0.5405247', 'сцена|0.53893894', 'панель|0.5350027', 'тесновато|0.5337069', 'освещение|0.53353983', 'скамейка|0.53315157', 'перегородка|0.5313114', 'стена|0.530476', 'кругом|0.5298066', 'курение|0.52918756', 'курильщик|0.52889967', 'шумный|0.52825326', 'деревянный|0.5278491', 'разделение|0.527257', 'темно|0.5272356', 'люстра|0.5261687', 'курящий|0.5252109', 'кондиционер|0.5250527', 'подушечка|0.52264607', 'подвал|0.5171182', 'очень_уютный|0.5164813', 'уединиться|0.5144164', 'ряд|0.5140289', 'зал|0.51326156', 'подушка|0.5127614', 'терасс|0.51267475']\n",
            "Aspect 6:\n",
            "['ценовый|0.74679685', 'ценник|0.74004227', 'категория|0.7311278', 'уровень|0.72533494', 'завысить|0.71759844', 'крайний_мера|0.71292496', 'выше|0.70262814', 'соответствовать|0.70052344', 'цена_качество|0.69564843', 'цена|0.69300693', 'качество|0.6812438', 'фаста|0.68038124', 'сравнение|0.6800949', 'ниже|0.6620747', 'изыск|0.65863943', 'отличие|0.6578173', 'фуд|0.6550698', 'считать|0.64175874', 'учитывать|0.6321573', 'среднее|0.62965584', 'недостаток|0.6245749', 'демократичный|0.619624', 'забегаловка|0.6135325', 'японский|0.6123466', 'адекватный|0.6113838', 'политика|0.60884476', 'сетевой|0.60675776', 'средний|0.6053135', 'многий|0.60347664', 'намного|0.5978499', 'оценивать|0.59781647', 'оценка|0.5951017', 'соотношение_цена_качество|0.5949521', 'принцип|0.59450334', 'отличаться|0.5940571', 'удивлять|0.59391785', 'формат|0.5923983', 'высокий|0.5885773', 'приемлемый|0.588184', 'гуманный|0.58772755', 'европейский|0.5834722', 'заведение|0.5824607', 'последний_время|0.5800184', 'значительно|0.5744395', 'касаться|0.57117254', 'простой|0.56677', 'вполне|0.56460583', 'назвать|0.5618501', 'взгляд|0.56005454', 'гинза|0.5582131', 'скорее|0.5568517', 'разнообразие|0.55196345', 'умеренный|0.55143964', 'низкий|0.55039686', 'дёшево|0.54965127', 'большинство|0.5491667', 'ресторанный|0.54864544', 'достойный|0.54857445', 'пожалуй|0.54712635', 'согласный|0.5417469', 'менее|0.5407976', 'дорого|0.53904104', 'весь_остальной|0.53744155', 'оправдывать|0.53461045', 'продукт|0.5340628', 'однозначно|0.53263944', 'претензия|0.53151876', 'подобный|0.53126264', 'не_мочь_сказать|0.53089905', 'посредственный|0.52911735', 'гораздо|0.52681893', 'например|0.5264569', 'дорогой|0.52509046', 'китайский|0.5246964', 'стандарт|0.52254516', 'относительно|0.52251333', 'общепит|0.5220679', 'иной|0.5198551', 'стандартный|0.51951426', 'качественный|0.5187596', 'дороговатый|0.51728195', 'средненький|0.51633424', 'понятный|0.5157403', 'крайне|0.51482356', 'сервис|0.5115336', 'нарекание|0.51077825', 'обычный|0.51017016', 'однако|0.50650316', 'гурман|0.50631356', 'исключение|0.5023513', 'дешёвый|0.5017004', 'бистро|0.50104123', 'главный|0.4971243', 'претендовать|0.4971202', 'являться|0.49642867', 'план|0.4956141', 'плохой|0.49543285', 'приличный|0.4953388', 'весьма|0.494293', 'имхо|0.49287948']\n",
            "Aspect 7:\n",
            "['висок|0.8610909', 'коктейль|0.8121121', 'безалкогольный|0.7981268', 'водка|0.79070586', 'алкогольный|0.77490556', 'пить|0.77353597', 'крепкий|0.7733433', 'мохитый|0.7672214', 'выпить|0.74641496', 'мартини|0.7463819', 'литр|0.73927736', 'пила|0.73760176', 'крушовица|0.7265982', 'разливный|0.72536635', 'руль|0.71654487', 'нефильтрованный|0.7160904', 'коньяк|0.7156201', 'кружка|0.70966434', 'сорт|0.70752656', 'пиво|0.7061666', 'бутылочка|0.7028682', 'морс|0.702035', 'вишнёвый|0.70193917', 'бутылочный|0.7014675', 'сангрия|0.6941181', 'пинта|0.6852051', 'ньюкасл|0.6835863', 'коктель|0.68124855', 'сидр|0.6789257', 'бланша|0.67340076', 'хугарден|0.6671055', 'лимонад|0.666397', 'глинтвейн|0.66293716', 'бокальчик|0.65690506', 'эль|0.65681297', 'закусить|0.6519725', 'лонг|0.6487112', 'стаут|0.64648837', 'распитие|0.6449961', 'бокал|0.6449834', 'напиток|0.6432779', 'кальян|0.6421366', 'пивко|0.63829714', 'гиннес|0.6370448', 'пшеничный|0.6309805', 'игристый|0.6300968', 'попить|0.6280234', 'текила|0.626136', 'василеостровский|0.6208451', 'квас|0.6201763', 'айленд|0.6170877', 'потягивать|0.6101643', 'ром|0.6084553', 'грапп|0.6083611', 'настойка|0.6045245', 'ликёр|0.60351753', 'алкоголь|0.6003264', 'графин|0.59802395', 'дайкири|0.5956895', 'бельгийский|0.5947889', 'сок|0.5904522', 'шампанский|0.58814955', 'угостить|0.58784527', 'литровый|0.5872907', 'бутылка|0.5864864', 'рюмка|0.5858786', 'эспрессо|0.58386654', 'наливать|0.5835405', 'вода|0.5797522', 'медовуха|0.5764147', 'вино|0.57391393', 'бесплатный|0.57356226', 'немецкий|0.56747854', 'облепиховый|0.56652117', 'каберне|0.5660763', 'эдельвейс|0.5650784', 'джина|0.56505334', 'кувшин|0.56482446', 'производство|0.56118155', 'лагер|0.55998623', 'коктейльный|0.55961764', 'поллитра|0.55946076', 'сироп|0.5586693', 'америкать|0.55847037', 'вельвет|0.55760646', 'чай|0.55757856', 'кола|0.55688035', 'чашечка|0.5566614', 'лёд|0.5566511', 'фирменный|0.5556762', 'килкенни|0.5503863', 'лимончелло|0.5479249', 'стакан|0.54664946', 'кофе|0.54622555', 'употреблять|0.54335356', 'компот|0.5432513', 'пино|0.54247177', '100р|0.53869754', 'фильтровать|0.5384411', 'закусывать|0.53766316']\n",
            "Aspect 8:\n",
            "['организация|0.8320675', 'организовать|0.8150531', 'тамада|0.8046005', 'подготовка|0.78386736', 'свадебный|0.7723708', 'торжество|0.7676828', 'ольга|0.7603897', 'мероприятие|0.7591287', 'благодарность|0.7576058', 'организатор|0.7449979', 'майкл|0.73997223', 'праздник|0.73910993', 'огромный_спасибо|0.73279047', 'молодожён|0.72771025', 'директор|0.7261488', 'весь_гость|0.7241', 'пожелание|0.720744', 'ирина|0.72048515', 'банкет|0.7148622', 'ведущий|0.71355605', 'весь_наш|0.7118654', 'невеста|0.7007245', 'большой_спасибо|0.7004682', 'наталья|0.69896483', 'владимир|0.69577837', 'евгений|0.6934557', 'команда|0.69327676', 'банкетный|0.6927314', 'елена|0.6910333', 'подарок|0.68939203', 'фуршет|0.6863096', 'сотрудник|0.6835756', 'профессионализм|0.6813801', 'коллектив|0.68025315', 'отдельный_спасибо|0.6787629', 'учесть|0.6752024', 'александр|0.6745317', 'номер|0.67394614', 'сергей|0.67378825', 'татьяна|0.66898835', 'свадьба|0.66668344', 'профессионал|0.66598', 'проведение|0.66544336', 'марин|0.66292757', 'уважение|0.6622844', 'выражать|0.660529', 'алексей|0.65272045', 'управлять|0.6523769', 'станислав|0.6523452', 'анастасий|0.6458907', 'участие|0.6426393', 'банкетный_зал|0.64247465', 'честь|0.6382388', 'наш_свадьба|0.637756', 'менеджер|0.6347846', 'благодаря|0.63302225', 'благодарить|0.6295661', 'дмитрий|0.6276613', 'поблагодарить|0.62376845', 'программа|0.62037873', 'бельканто|0.6175152', 'договор|0.6150418', 'новый_год|0.61391485', 'поклон|0.61250556', 'шоу|0.6099', 'фотограф|0.6090367', 'помощь|0.60886776', 'каравай|0.6084973', 'весь_наш_пожелание|0.6055443', 'андрей|0.6026034', 'бравый|0.5969114', 'администрация|0.5959047', 'подарить|0.5936136', 'услуга|0.59232223', 'жених|0.5923002', 'профессиональный|0.5920149', 'признательность|0.59141576', 'виктор|0.59100336', 'юбилей|0.58964145', 'регистрация|0.5895548', 'жанна|0.58872306', 'родитель|0.58763766', 'конкурс|0.58502716', 'совет|0.58418494', 'событие|0.5841474', 'артист|0.58259344', 'дмитрия|0.58103997', 'юлий|0.5801114', 'чуткий|0.57974523', 'марина|0.5780098', 'поздравление|0.577839', 'галина|0.5768604', 'юлия|0.5758837', 'вячеслав|0.57534206', 'благодарный|0.575213', 'предоставить|0.5751506', 'мастер|0.5738685', 'выездной|0.57364327', 'кейтеринг|0.57182825', 'антон|0.5693989']\n",
            "Aspect 9:\n",
            "['заехать|0.7708635', 'пообедать|0.74347955', 'сегодня|0.73766726', 'вчера|0.72437', 'поехать|0.7222431', 'прогулка|0.7162095', 'пр|0.7111111', 'воскресение|0.7025905', 'поужинать|0.6925245', 'случайно|0.6906789', 'московский|0.68748355', 'однокурсник|0.6869707', 'обедать|0.6739526', 'забежать|0.67341506', 'недавно|0.6718866', 'ехать|0.6650531', 'невский|0.66369975', 'ул|0.65999484', 'гулять|0.6595459', 'перекусить|0.65896624', 'отправиться|0.65783334', 'офис|0.6571889', 'ездить|0.65503395', 'днём|0.6519161', 'заезжать|0.645532', 'заслать|0.6428494', 'подружка|0.6372906', 'петроградка|0.63616157', 'это_кафе|0.6358446', 'район|0.6355228', 'открыться|0.6292533', 'недалеко|0.62666786', 'ужинать|0.62571084', 'заглянуть|0.6189196', 'приморский|0.61142254', 'проспект|0.60771143', 'восстание|0.60635793', 'побывать|0.6060916', 'проезжать|0.60587615', 'заскочить|0.60318816', 'жить|0.6031298', 'поход|0.59875774', 'воскресный|0.5974106', 'выходной|0.5953666', 'москва|0.5945424', 'добраться|0.5922638', 'суббота|0.5909012', 'январь|0.5883707', 'перерыв|0.5872357', 'приезжать|0.5858971', 'дом|0.58578503', 'остров|0.5851505', 'год_назад|0.58315635', 'ноябрь|0.5830266', 'парка|0.58294284', 'завтрак|0.5818113', 'ходьба|0.58156604', 'лето|0.5813895', 'встретиться|0.58046305', 'прогуливаться|0.57963836', 'очередной|0.5793041', 'утро|0.57640743', 'май|0.57505244', 'забегать|0.5740942', 'март|0.57391906', 'забрести|0.5714815', 'вечером|0.5694653', 'четверг|0.5690738', 'посетить|0.5680883', 'жена|0.56628805', 'февраль|0.5641526', 'рубинштейн|0.5637728', 'месяц|0.5617591', 'приехать|0.56051725', 'прогуляться|0.56050503', 'среда|0.55971754', 'театр|0.5580566', 'путь|0.5572561', 'летом|0.5543995', 'питер|0.55328476', 'евразия|0.55327576', 'цель|0.5529525', 'заходить|0.5528799', 'набережная|0.55287087', 'осень|0.5525962', 'наткнуться|0.55222034', 'полгода|0.5515238', 'захаживать|0.5514252', 'пешком|0.550452', 'поздно|0.5499821', 'дочка|0.5498525', 'занести|0.54938465', 'семья|0.5476976', 'мама|0.54696214', 'разведка|0.5464339', 'однажды|0.5461269', 'неделя|0.54601794', 'фонтанка|0.5445969', 'коллега|0.543628', 'мост|0.54008174']\n",
            "Aspect 10:\n",
            "['полка|0.7204904', 'старинный|0.7123137', 'старое|0.7039757', 'стен|0.70175505', 'журнал|0.68563926', 'стена|0.684372', 'лампа|0.68251586', 'черно|0.68149364', 'белые|0.6798856', 'картина|0.67936707', 'предмет|0.67764074', 'ля|0.6766655', 'деталь|0.67096573', 'кирпичный|0.6691356', 'синий|0.6677004', 'рамка|0.6657845', 'стеклянный|0.66250193', 'золотой|0.659565', 'элемент|0.6575873', 'люстра|0.6543064', 'подоконник|0.65299', 'фотография|0.6527134', 'множество|0.6477248', 'буфет|0.64767', 'газета|0.64737236', 'белоснежный|0.64513385', 'кирпич|0.64475477', 'дерево|0.64214236', 'атрибутика|0.6405844', 'тон|0.64058304', 'винный|0.63985014', 'плитка|0.639664', 'серый|0.63966125', 'штора|0.639652', 'прованс|0.638826', 'доска|0.6385839', 'плазменный|0.6342959', 'искусственный|0.63346565', 'потолок|0.63216245', 'обилие|0.63184214', 'убранство|0.63165325', 'декор|0.63055205', 'краска|0.62903196', 'внутренний|0.6290242', 'светильник|0.6280358', 'подсвечник|0.6276922', 'полочка|0.6271697', 'крыша|0.62695765', 'светящийся|0.6236421', 'стеллаж|0.62317455', 'прочий|0.61937606', 'стекло|0.6192989', 'кладка|0.61788714', 'мебель|0.61754966', 'цветовой|0.61710596', 'абажур|0.616591', 'свет|0.61596084', 'гамма|0.6159487', 'кровать|0.61584496', 'клетка|0.6157367', 'массивный|0.61356384', 'фильм|0.6128936', 'цветочек|0.6127025', 'панель|0.6125259', 'ткань|0.61025536', 'взор|0.6102413', 'пол|0.60885835', 'свод|0.60814804', 'солнце|0.60788333', 'кожаный|0.6075666', 'цвет|0.6070435', 'подсветка|0.60681486', 'цветок|0.6037102', 'обои|0.6019308', 'зеркало|0.601411', 'обивка|0.6011063', 'библиотека|0.6011039', 'рисунок|0.5997982', 'направление|0.59976673', 'комод|0.59813', 'резной|0.59791', 'блестящий|0.5969299', 'огонь|0.59649956', 'шарм|0.59633374', 'роспись|0.5950985', 'вдоль|0.59478235', 'коричневый|0.59462357', 'современный|0.59382087', 'широкий|0.5910295', 'ширма|0.5903332', 'аксессуар|0.5901425', 'голубой|0.58944905', 'занавеска|0.5894473', 'полый|0.58879304', 'мотив|0.5887833', 'деревянный|0.5877491', 'южный|0.5874311', 'подложка|0.5874232', 'цвета|0.5872561', 'логотип|0.58694565']\n",
            "Aspect 11:\n",
            "['тёплый|0.6759865', 'ненавязчивый|0.64557326', 'общий_впечатление|0.6126911', 'навязчивый|0.60494673', 'прекрасно|0.59436905', 'особенный|0.5866584', 'запомниться|0.5842385', 'очень_порадовать|0.58285356', 'ммммм|0.582369', 'очень_приятный|0.5820489', 'очень_понравиться|0.5811527', 'пролететь|0.57444453', 'весь_очень_вкусно|0.5708711', 'остаться_очень_довольный|0.5708584', 'довольный|0.5680365', 'приятный|0.5672281', 'целое|0.56721854', 'душевно|0.5670967', 'безумно|0.56559646', 'душевный|0.56429815', 'великолепно|0.5626763', 'восхитительный|0.56216806', 'оч|0.5607237', 'весь_очень|0.55935794', 'сытый|0.55779314', 'вкусный_еда|0.55654943', 'незаметно|0.55487055', 'понравиться_весь|0.5513898', 'чудесно|0.5508419', 'очень_хороший|0.5491229', 'весь_очень_понравиться|0.5479249', 'подкачать|0.546526', 'нарекание|0.5447885', 'мера|0.54310733', 'потрясающе|0.54259837', 'выше_весь_похвала|0.5425447', 'живот|0.5419054', 'идеально|0.5415609', 'восторг|0.54004514', 'очень_очень_долго|0.5395467', 'волшебный|0.5371347', 'располагать|0.53679407', 'прийти_ещё|0.53418756', 'атмосфера|0.5340196', 'хор|0.52953494', 'предупредительный|0.52882946', 'обстановка|0.5283407', 'очень_вкусно|0.5278219', 'расслаблять|0.5265147', 'очень_понравиться_весь|0.5264111', 'отлично|0.52554995', 'достойно|0.5249424', 'замечательный|0.5241622', 'весь_понравиться|0.52155125', 'домашний|0.5210397', 'остаться_довольный|0.52078074', 'особый|0.52078044', 'порадовать|0.51846737', 'неспешный|0.51335377', 'великолепный|0.5131772', 'внимательный|0.5090787', 'превосходный|0.509004', 'изумительный|0.50887537', 'обстановочка|0.5078474', 'наслаждаться|0.5043281', 'очень_вкусный|0.5039997', 'остаться_очень_приятный|0.5020504', 'особенно|0.49880287', 'зы|0.49760056', 'порция_большой|0.49720353', 'немного|0.49687394', 'насладиться|0.49651095', 'ооочень_вкусный|0.49536118', 'позитивный|0.49432725', 'сытно|0.4934702', 'качественно|0.48864996', 'весь_очень_вкусный|0.48854885', 'вкусно|0.4882142', 'завершение|0.48767674', 'скрасить|0.4860921', 'доброжелательный|0.48422822', 'интерьер_очень_уютный|0.48358127', 'спокойный|0.48302782', 'очень_очень|0.4822038', 'чудесный|0.4820292', 'приятно|0.47984368', 'изыскать|0.47908652', 'превосходно|0.47765833', 'расслабить|0.47680956', 'душа|0.4760462', 'праздничный|0.473572', 'учтивый|0.47276688', 'вкусненький|0.4727546', 'придраться|0.47255033', 'незаметный|0.47164932', 'приём|0.47121373', 'зажигательный|0.4707214', 'непринуждённый|0.47021815', 'общий|0.46804908', 'быстрый|0.46745244']\n",
            "Aspect 12:\n",
            "['полтора|0.7995134', 'половина|0.7623563', 'ровно|0.7397602', 'минимум|0.7231443', '15_минута|0.71422464', 'примерно|0.7124375', '20_минута|0.70804846', 'соответственно|0.7076932', 'максимум|0.7005316', 'заполнить|0.6949817', 'час|0.6914393', 'дождаться|0.68474394', 'десять|0.674737', 'полчаса|0.6715871', 'это_время|0.67137897', 'простоять|0.6702504', 'прийтись|0.66427064', 'остаток|0.6642024', 'перемена|0.6638232', 'просидеть|0.6631962', 'вынести|0.6621909', 'коробка|0.66143525', 'выясниться|0.66138446', 'прождать|0.6589728', 'оговорить|0.65824234', 'напоминание|0.6558521', 'результат|0.65584666', 'отдать|0.6536356', 'дозаказать|0.65326023', 'оплатить|0.6526713', 'бокс|0.65234023', 'мина|0.651835', 'пять|0.6513927', '10_минута|0.6395862', 'расчёт|0.6376848', 'демонстративно|0.63414145', 'естественно|0.63298535', '1_5_час|0.63251907', 'привезти|0.6291797', 'забрать|0.62888014', 'унести|0.6271355', 'течение|0.6264625', 'закрытие|0.6255908', 'спустя|0.62445605', 'четверо|0.62219274', 'четыре|0.6218295', 'убрать|0.62008137', 'вернуть|0.6179149', 'заплатить|0.61665475', 'рассчитать|0.61622065', 'сумма|0.61406493', 'вынос|0.61309695', 'курс|0.60926807', 'получас|0.6060121', 'подождать|0.60357857', 'уложиться|0.602651', 'контейнер|0.5975611', 'сложность|0.59650457', 'наполовину|0.59578705', 'внести|0.5956116', 'предупреждать|0.5948509', 'оплата|0.59461164', 'двадцать|0.5920034', 'пообещать|0.5919155', 'сколько|0.5915236', 'приход|0.58995914', 'сделать_заказ|0.5895524', 'персона|0.589337', 'успеть|0.58427113', 'очень_долго|0.5841259', 'посчитать|0.5814932', 'уйти|0.5814792', 'дополнительно|0.58050805', 'затем|0.57951194', 'предоплата|0.5791597', 'пятнадцать|0.5791359', 'пустой|0.57635534', 'ожидание|0.5754171', 'указать|0.57340556', 'положить|0.57211626', 'прибыть|0.5720465', 'около|0.57197297', 'опоздать|0.57100374', 'отказываться|0.57076395', 'собрать|0.56957567', 'предупредить|0.5687365', 'входить|0.56755245', 'итог|0.56622785', 'счёт|0.56367457', 'полупустой|0.5633299', 'причём|0.56315625', 'депозит|0.56290793', 'поменять|0.5618315', 'неприятно|0.56147814', 'пакет|0.5613605', 'обнаружить|0.55924493', 'процент|0.5590328', 'закончиться|0.5588765', 'оплачивать|0.55750847', 'сдача|0.5574087']\n",
            "Aspect 13:\n",
            "['гриль|0.64685804', 'рыба|0.629779', 'выбрать|0.6176285', 'греческий|0.6160734', 'салат_цезарь|0.6133127', 'мясной|0.5858349', 'стейка|0.58439016', 'стейк|0.57394236', 'говядина|0.57323354', 'цезарь|0.572006', 'свинина|0.56831515', 'рыбный|0.56672037', 'дорад|0.5664418', 'овощ|0.56285495', 'баклажан|0.5603652', 'шашлык|0.5576905', 'курица|0.5471614', 'рибай|0.54582083', 'оливья|0.53806823', 'дораду|0.53615534', 'морепродукт|0.53425264', 'карпаччо|0.5313759', 'салатик|0.5287066', 'креветка|0.5265147', 'плов|0.524997', 'узбекский|0.5235603', 'мангал|0.52288306', 'свинин|0.5193486', 'пекински|0.51908004', 'шашлычок|0.5160159', 'заказывать|0.513697', 'салат|0.51231533', 'форель|0.5107728', 'стейковы|0.5094973', 'телятина|0.5045775', 'приготовить|0.5041267', 'коптить|0.5038301', 'закуска|0.5033992', 'муж|0.50105876', 'цыплёнок|0.498653', 'выбирать|0.49856403', 'вок|0.4978939', 'заказать|0.49642962', 'осетрина|0.49538976', 'посоветовать|0.49454397', 'куриный|0.49428007', 'стэйк|0.49415088', 'остановиться|0.49260846', 'свиной|0.4906472', 'долму|0.48837692', 'лосось|0.4882025', 'мидия|0.48376042', 'ассорти|0.48332238', 'свинный|0.47905776', 'выбор|0.4768729', 'мраморный|0.47557777', 'состав|0.4743831', 'рёбрышко|0.47365016', 'судак|0.4728609', 'помнить|0.47263628', 'колбаска|0.47024822', 'пасть|0.4667809', 'рулька|0.4642285', 'миньон|0.46303934', 'тигровый|0.46245646', 'кебаб|0.46173126', 'кисло_сладкое_соус|0.45958704', 'отговорить|0.45933762', 'барашек|0.4581312', 'предпочитать|0.4561497', 'раздел|0.45596895', 'крылышко|0.4558224', 'жена|0.45575565', 'лазание|0.45490858', 'запечёный|0.45469555', 'экспериментировать|0.45417187', 'ягнёнок|0.4501738', 'попробовать|0.45015034', 'бифстроганов|0.44969144', 'именно|0.44809958', 'вока|0.44708714', 'каре|0.4465911', 'бефстроганов|0.44576192', 'филе|0.44473255', 'баранина|0.44303247', 'мясо|0.4429469', 'острый|0.44281906', 'запечь|0.44246963', 'готовиться|0.44072998', 'жареный|0.4402697', 'пармиджать|0.4394037', 'фахитос|0.4387123', 'солянка|0.43845862', 'уха|0.43803447', 'тайский|0.43762738', 'жульен|0.43750927', 'медальон|0.43598422', 'тапас|0.4349377', 'меню|0.43442684', 'очень_любить|0.4341085']\n",
            "2019-12-24 21:10:44,658 INFO Epoch 12, train: 5s\n",
            "2019-12-24 21:10:44,658 INFO Total loss: 3.7432, max_margin_loss: 3.6340, ortho_reg: 0.1091\n",
            "100% 594/594 [00:05<00:00, 100.84it/s]\n",
            "Aspect 0:\n",
            "['попёс|0.63752395', 'ливерпуль|0.61539924', 'ых|0.6099901', 'прибавить|0.60899097', 'немолодой|0.5852499', 'food|0.5708612', 'good|0.5703584', 'of|0.5691743', 'градус|0.5682341', 'хх|0.5677806', 'restaurant|0.5610938', 'ого|0.56076646', 'service|0.5602185', 'прайс|0.5550422', 'best|0.5547444', 'were|0.554641', 'ка|0.55355364', 'доллар|0.5534984', 'in|0.55229497', 'ти|0.5520219', 'wa|0.5516905', 'студентка|0.5474688', 'полуночь|0.5470725', 'блюз|0.546885', 'процент|0.5468714', 'бальный|0.5468158', 'it|0.54601735', 'no|0.5446381', 'very|0.5422727', 'my|0.5420656', 'па|0.5411547', 'выключать|0.54002935', 'тридцать|0.5382623', 'космический|0.53820866', 'двенадцать|0.53798366', 'and|0.5371504', 'девять|0.5371424', 'this|0.53523624', 'заполняемость|0.53299844', 'we|0.5322061', 'приблизительно|0.53054', 'копейка|0.53031266', 'рок|0.53028595', 'ролик|0.5296554', 'пятьдесят|0.5287283', 'этак|0.52850115', 'бурный|0.527569', 'the|0.52622205', 'you|0.52552676', 'удар|0.5242388', 'that|0.52314293', 'парный|0.52219355', 'потянуть|0.5218618', 'пт|0.52079237', 'мировой|0.5207289', 'negativa|0.52008444', 'справедливо|0.51989245', 'отстой|0.51880556', 'шансон|0.51848793', 'ру|0.51708126', 'all|0.5164553', 'опера|0.5142787', 'хвостик|0.51353955', 'евро|0.513049', 'to|0.51124704', 'диск|0.51104623', 'фраер|0.5098708', 'бранч|0.5096098', 'резкий|0.50956273', 'бал|0.50910443', 'бум|0.50789225', 'че|0.5074934', 'монета|0.5070708', 'сантиметр|0.50706154', 'группа|0.5067915', 'увеличивать|0.50598466', 'заказываться|0.5050422', 'луна|0.50392026', 'источник|0.5038886', 'клубный|0.5037158', 'подпевать|0.50364256', 'сб|0.50322634', 'подорожать|0.502396', 'именной|0.5015328', 'основательно|0.5013486', 'нигиря|0.5011764', 'is|0.5009098', 'place|0.49844423', 'ть|0.49748182', 'народный|0.49726647', 'афиша|0.49679762', 'включать|0.49666855', 'возраст|0.49618146', 'звено|0.49547607', 'мёртвый|0.49534866', 'фанера|0.49441952', 'радио|0.49369597', 'пать|0.4934219', 'прочить|0.4931681', 'отечественный|0.49307644']\n",
            "Aspect 1:\n",
            "['рот|0.59181064', 'солёный|0.576002', 'масло|0.5709542', 'хрустеть|0.56745166', 'нарезать|0.56484926', 'заморозка|0.5647467', 'кусочек|0.5632888', 'лаваш|0.5624355', 'булка|0.55870354', 'лепёшка|0.5550922', 'корочка|0.55212075', 'булочка|0.5511321', 'фокачча|0.54814386', 'чипсы|0.5478474', 'хрен|0.54680514', 'ломтик|0.543921', 'пережарить|0.5428976', 'капуста|0.54052484', 'перчик|0.5369031', 'палтус|0.5354227', 'орешек|0.5350647', 'посыпать|0.53321284', 'соус|0.5317173', 'картошка|0.531183', 'пармезан|0.5308901', 'мариновать|0.52972645', 'выращивать|0.52901953', 'сметана|0.52847207', 'кусок|0.5277741', 'картошечка|0.52704835', 'сковородка|0.52559555', 'фарш|0.5245373', 'чеснок|0.52432597', 'огурчик|0.5238522', 'рыбка|0.52378595', 'икра|0.52369595', 'помидорка|0.5236548', 'спаржа|0.52345055', 'бекон|0.5229379', 'фольга|0.522426', 'сырой|0.52103555', 'зелень|0.52096933', 'тест|0.5197857', 'специя|0.5191736', 'сковорода|0.5186307', 'травка|0.51785207', 'яйцо|0.51703596', 'жарить|0.5169438', 'имбирь|0.5156724', 'грудинка|0.5156662', 'свининка|0.5145857', 'слайс|0.5133644', 'трава|0.51334', 'лук|0.5131614', 'песто|0.51314366', 'варёный|0.5129251', 'каша|0.5116286', 'оливка|0.5114386', 'разрезать|0.51137584', 'каперс|0.51105595', 'тонкий|0.5110069', 'жир|0.51003736', 'гребешок|0.50971735', 'огурец|0.50948036', 'лука|0.50940305', 'протухший|0.5086274', 'начинка|0.5084247', 'костя|0.50758195', 'порезать|0.50689405', 'рис|0.5068059', 'уксус|0.5063008', 'кальмар|0.50591576', 'горшочек|0.50568986', 'пожарить|0.505548', 'курочка|0.50483334', 'бульон|0.50479615', 'тунец|0.5039346', 'утка|0.50357115', 'горчица|0.5031718', 'косточка|0.50269544', 'плошка|0.5016128', 'переварить|0.50102407', 'дорада|0.5009171', 'печь|0.5007975', 'картофель|0.50061697', 'майонез|0.49910253', 'завернуть|0.49900052', 'помидор|0.4988528', 'разогреть|0.4982881', 'хамон|0.49809128', 'овощной|0.49754754', 'запечь|0.4974278', 'нарезка|0.49686113', 'кубик|0.49657196', 'морковь|0.49542272', 'блин|0.4947727', 'душистый|0.49447235', 'жёсткий|0.4936678', 'тартар|0.49316803', 'сыр|0.4921724']\n",
            "Aspect 2:\n",
            "['сладость|0.6684854', 'брюла|0.6620383', 'пирожное|0.65827286', 'крем|0.6336479', 'миндальный|0.6327007', 'мусса|0.63033533', 'шоколад|0.62943923', 'панакот|0.62730557', 'захер|0.62268794', 'банановый|0.6224308', 'мильфея|0.62093604', 'бисквит|0.6183218', 'шоколадный|0.6177089', 'карамельный|0.60982096', 'печение|0.6086551', 'малин|0.604411', 'маракуйя|0.60416615', 'карамель|0.604118', 'суфле|0.6024308', 'развалина|0.59963226', 'грушевый|0.599303', 'трюфель|0.59877074', 'кекс|0.5977987', 'капуччиный|0.5970017', 'манговый|0.59678257', 'ванильный|0.59648633', 'чизкейк|0.5959373', 'шарик|0.59336793', 'фондать|0.5916466', 'графский|0.58946323', 'морковный|0.5892371', 'клубника|0.5887047', 'мороженое|0.5880129', 'сорбетом|0.5875626', 'эклер|0.5871564', 'фисташковый|0.58694434', 'персиковый|0.5862094', 'ваниль|0.5854857', 'ягода|0.58509415', 'марципановый|0.5845193', 'мятый|0.5839926', 'творог|0.58210933', 'лаймовый|0.58157015', 'чайничек|0.5809361', 'сорбета|0.5807116', 'печенюшка|0.5792969', 'взбить|0.5791538', 'значиться|0.57872546', 'пирожёнка|0.5783975', 'какао|0.5773056', 'чиз|0.5770428', 'корица|0.5769775', 'безе|0.57659054', 'малина|0.57387614', 'заварной|0.57324845', 'кокосовый|0.5729664', 'мятный|0.5727072', 'изюм|0.5723399', 'зелёный|0.57192075', 'песочный|0.5694879', 'баба|0.56787896', 'тортик|0.56736', 'манго|0.56662947', 'вишня|0.56651855', 'меренга|0.56504464', 'медовик|0.5638965', 'котт|0.5637496', 'сухофрукты|0.5634797', 'заманчивый|0.5633951', 'творожный|0.5633169', 'джема|0.56310475', 'лимонный|0.56276286', 'ягодный|0.56263554', 'карамелизировать|0.56120634', 'пирог|0.56000704', 'пудинг|0.5595954', 'брауни|0.55916244', 'панна|0.5590639', 'сырник|0.55905735', 'шарлотка|0.5585448', 'сладкое|0.5575226', 'сгущёнка|0.5572478', 'желе|0.55654633', 'тирамис|0.5562632', 'личить|0.55517364', 'шоколадка|0.5546856', 'стопа|0.55455744', 'сливка|0.5531251', 'кейк|0.550941', 'яблоко|0.54970026', 'смородина|0.5494088', 'яблочный|0.54930156', 'мармелад|0.54914784', 'травяной|0.54884565', 'печенек|0.54877734', 'мороженный|0.54838014', 'лесной|0.5481137', 'витрина|0.5476414', 'чёрный|0.5474634', 'конфета|0.5473286']\n",
            "Aspect 3:\n",
            "['простить|0.7843487', 'бояться|0.7743737', 'ум|0.745757', 'знаете|0.7344833', 'значит|0.73246074', 'мысль|0.7243965', 'надоесть|0.71117866', 'пусть|0.7030698', 'господин|0.6981519', 'поверить|0.6828129', 'обидеть|0.6778869', 'почувствовать|0.6709243', 'перестать|0.66736233', 'признаваться|0.665221', 'понять|0.6629856', 'слово|0.6615925', 'зря|0.66079473', 'здоровье|0.660617', 'признаться|0.65785587', 'мыть|0.6553744', 'срочно|0.65183616', 'не_не|0.6508541', 'вечно|0.6468215', 'право|0.64506996', 'слышать|0.63727725', 'знак|0.63620186', 'таракан|0.63368547', 'жизнь|0.63298595', 'наверно|0.6327146', 'не_знать|0.6308099', 'уверенный|0.63042367', 'вон|0.62711245', 'сила|0.6268212', 'лезть|0.62674105', 'иначе|0.6265219', 'речь|0.6258705', 'бог|0.62394154', 'спорить|0.62022865', 'ругать|0.6200933', 'защита|0.61924744', 'довести|0.61894935', 'обходить|0.61768174', 'сей_пора|0.61604524', 'убить|0.61373246', 'категорически|0.6113156', 'верить|0.6108024', 'неужели|0.61046624', 'страшно|0.6095998', 'извинить|0.6094011', 'душить|0.6043684', 'плевать|0.60324955', 'земля|0.6024956', 'стороной|0.59989303', 'оттуда|0.599334', 'наплевать|0.5991356', 'призывать|0.5989333', 'называть|0.5989045', 'удалять|0.59739023', 'передать|0.59721076', 'ужас|0.5962332', 'научить|0.59609914', 'это_просто|0.59606963', 'борис|0.5936953', 'приложить|0.5936906', 'промолчать|0.59351546', 'понимать|0.59336007', 'бороться|0.5927665', 'доказывать|0.5918758', 'говориться|0.5916008', 'возможно|0.5895316', 'твой|0.5895089', 'ибо|0.58902323', 'пора|0.5868417', 'совесть|0.58547044', 'удивляться|0.5815798', 'навсегда|0.58137846', 'гениальный|0.5791446', 'следовать|0.5790142', 'сильный|0.576295', 'грустный|0.5759165', 'ресторатор|0.5751435', 'секрет|0.57493305', 'продолжать|0.57400465', 'голова|0.5727122', 'постараться|0.5715992', 'чужой|0.5702927', 'говорят|0.5700389', 'шок|0.5670488', 'допускать|0.5668316', 'жесть|0.56672937', 'терпеть|0.56670487', 'похоже|0.5659293', 'скоро|0.5645265', 'виноватый|0.5645143', 'стыдно|0.56438726', 'отбить|0.56180483', 'серьёзно|0.5614915', 'придумать|0.5613533', 'кома|0.56042445', 'неловко|0.560261']\n",
            "Aspect 4:\n",
            "['девушка|0.7882555', 'мальчик|0.7815094', 'молодая_человек|0.7764505', 'девочка|0.76027465', 'парень|0.7334859', 'улыбаться|0.73345804', 'официантка|0.7309142', 'улыбка|0.70257384', 'барышня|0.6908803', 'улыбчивый|0.6761179', 'юноша|0.6590899', 'официант|0.65869653', 'хостёс|0.6510011', 'наш_столик|0.6482062', 'звать|0.6438863', 'гардеробщик|0.6422142', 'хостесса|0.64201444', 'лицо|0.641503', 'провожать|0.63558066', 'мила|0.6301576', 'принимать|0.6036208', 'бармен|0.60194063', 'улыбнуться|0.5946228', 'принять_заказ|0.5924991', 'высокомерный|0.59184057', 'приветливо|0.58937305', 'здороваться|0.5871583', 'стойка|0.58554095', 'интересоваться|0.58255684', 'спрашивать|0.5812303', 'разговаривать|0.57675874', 'администратор|0.5759007', 'любезный|0.5742974', 'пепельница|0.5737186', 'поздороваться|0.57324684', 'охранник|0.57125115', 'отвечать|0.566179', 'подойти|0.5643985', 'весь_время|0.5636242', 'женщина|0.56270045', 'обслуживать|0.5613597', 'вежливый|0.55735713', 'соседний_столик|0.55635417', 'принять|0.55625397', 'молоденький|0.5465643', 'мужчина|0.5450608', 'встречать|0.54341215', 'прощаться|0.5422802', 'голос|0.5317961', 'внешность|0.53039324', 'удалиться|0.52951485', 'услышать|0.52770257', 'одежда|0.5214238', 'доброжелательно|0.52018076', 'внимательно|0.5194047', 'поменять|0.5177177', 'бегать|0.51718736', 'принести_меню|0.51524097', 'представиться|0.5137684', 'объяснить|0.5128097', 'забывать|0.51259154', 'неприветливый|0.5123723', 'молниеносно|0.5116228', 'реагировать|0.51096344', 'поинтересоваться|0.50914025', 'просьба|0.50759125', 'пытаться|0.50659263', 'успевать|0.5062038', 'объяснять|0.5057382', 'кальянщик|0.5016713', 'милый|0.50162333', 'офицант|0.5014087', 'ответить|0.4993021', 'охрана|0.49880078', 'молодая|0.49753207', 'постоянно|0.4972219', 'любезно|0.4963823', 'фраза|0.4954302', 'позвать|0.49523368', 'расторопный|0.49392307', 'задержка|0.4915764', 'извиниться|0.4914837', 'волос|0.49089783', 'общаться|0.49023205', 'спросить|0.4897138', 'дружелюбно|0.48894054', 'приветствие|0.4886584', 'шустрый|0.48845834', 'гардероб|0.488286', 'обслуживающий|0.48610258', 'появляться|0.4858858', 'одетый|0.48296124', 'обслужить|0.48037115', 'оперативно|0.47835252', 'шутить|0.47709063', 'смена|0.47603732', 'барна_стойка|0.4753031', 'молодая_человек_который|0.4733911', 'медленно|0.4727658', 'замечать|0.47275242']\n",
            "Aspect 5:\n",
            "['тесно|0.72507584', 'дым|0.70119715', 'помещение|0.70062625', 'вентиляция|0.69791055', 'диван|0.68715686', 'зона|0.6856514', 'душный|0.68234193', 'друг_друг|0.6817049', 'вытяжка|0.6803099', 'неуютный|0.67874926', 'удобно|0.6745379', 'шумно|0.6722529', 'накурить|0.6678647', 'комфортно|0.66608036', 'комната|0.66144943', 'вокруг|0.6505376', 'дымно|0.6468031', 'пространство|0.644765', 'курить|0.64207494', 'кресло|0.63894355', 'мешать|0.63832974', 'просторно|0.63108915', 'близко|0.63056487', 'комнатка|0.62869954', 'воздух|0.6268224', 'аквариум|0.62273675', 'светло|0.62258625', 'диванчик|0.62064874', 'кабинка|0.6158247', 'экран|0.6106774', 'туалет|0.6069714', 'табачный|0.60431045', 'уединённость|0.6018214', 'детский_комната|0.6002438', 'сидеть|0.59041864', 'зальчик|0.5888533', 'сигаретный|0.58877075', 'танцполый|0.5873183', 'неудобно|0.58479464', 'стул|0.58410895', 'слышный|0.58370644', 'уголок|0.58223724', 'плазма|0.5806116', 'потолок|0.58002245', 'камин|0.5793072', 'телевизор|0.57505774', 'неудобный|0.57218075', 'второе_этаж|0.5715251', 'зала|0.57047194', 'шум|0.5676966', 'потолочь|0.5662725', 'дышать|0.56262845', 'прохладно|0.5625323', 'прикольный|0.5623017', 'деление|0.5620067', 'дальний|0.561887', 'просторный|0.56165874', 'барный_стойка|0.56142104', 'удобный|0.5609546', 'балкон|0.56047857', 'расстояние|0.55959415', 'зеркало|0.5591887', 'мебель|0.55758715', 'чисто|0.55628437', 'тв|0.55369246', 'игрушка|0.5480877', 'беседка|0.54761773', 'внутри|0.54503584', 'прокурить|0.5438998', 'веранда|0.5431017', 'дерево|0.5417796', 'расположить|0.54029334', 'сосед|0.5402602', 'окно|0.53924596', 'свет|0.53761065', 'сцена|0.53509235', 'скамейка|0.5348041', 'панель|0.5331521', 'освещение|0.53262997', 'тесновато|0.53184545', 'перегородка|0.5317501', 'деревянный|0.5311117', 'стена|0.5299771', 'кругом|0.5285249', 'люстра|0.52722955', 'курение|0.526999', 'темно|0.5268844', 'шумный|0.5243951', 'разделение|0.5242474', 'подушечка|0.523953', 'курильщик|0.52364886', 'кондиционер|0.5211325', 'курящий|0.520512', 'подушка|0.5174923', 'ряд|0.5161909', 'очень_уютный|0.51545775', 'подвал|0.5148123', 'уединиться|0.51197135', 'зал|0.5082183', 'терасс|0.5072831']\n",
            "Aspect 6:\n",
            "['ценовый|0.7464428', 'ценник|0.73998153', 'категория|0.73086894', 'уровень|0.7250931', 'завысить|0.7178998', 'крайний_мера|0.71530056', 'выше|0.7018836', 'соответствовать|0.69999343', 'цена_качество|0.69601506', 'цена|0.69254994', 'качество|0.6819906', 'фаста|0.6805161', 'сравнение|0.6794268', 'ниже|0.66292775', 'изыск|0.65829676', 'отличие|0.6577855', 'фуд|0.6551993', 'считать|0.63966954', 'учитывать|0.6318588', 'среднее|0.62831885', 'недостаток|0.62486017', 'демократичный|0.61894596', 'забегаловка|0.6127887', 'японский|0.6116868', 'адекватный|0.6106955', 'политика|0.6083952', 'сетевой|0.60725534', 'средний|0.60446095', 'многий|0.6034276', 'намного|0.5994321', 'оценивать|0.59771377', 'оценка|0.5959062', 'принцип|0.59587526', 'соотношение_цена_качество|0.59540516', 'удивлять|0.59403276', 'отличаться|0.5938444', 'формат|0.59043646', 'гуманный|0.58733416', 'высокий|0.58726585', 'приемлемый|0.58697957', 'заведение|0.58392143', 'последний_время|0.5827445', 'европейский|0.58180046', 'значительно|0.5752916', 'касаться|0.57111335', 'простой|0.5650668', 'вполне|0.5646237', 'взгляд|0.5604705', 'назвать|0.55953705', 'гинза|0.55820215', 'скорее|0.5581121', 'разнообразие|0.5525667', 'умеренный|0.5510706', 'дёшево|0.54866767', 'низкий|0.54845214', 'большинство|0.548086', 'достойный|0.54800296', 'ресторанный|0.5473407', 'пожалуй|0.54714024', 'согласный|0.54279953', 'менее|0.5416545', 'дорого|0.53802705', 'весь_остальной|0.5378368', 'оправдывать|0.5348048', 'однозначно|0.5340861', 'продукт|0.5332645', 'претензия|0.53235376', 'не_мочь_сказать|0.5320401', 'подобный|0.5302209', 'посредственный|0.5293353', 'гораздо|0.52734005', 'например|0.5251999', 'китайский|0.5241749', 'относительно|0.5236244', 'стандарт|0.5228418', 'дорогой|0.5227071', 'общепит|0.5221228', 'иной|0.52072144', 'крайне|0.51851666', 'стандартный|0.5182228', 'качественный|0.5173641', 'средненький|0.5172975', 'дороговатый|0.51671416', 'понятный|0.51486015', 'сервис|0.5131506', 'нарекание|0.51286405', 'обычный|0.5089191', 'однако|0.508721', 'гурман|0.50728095', 'исключение|0.50338125', 'бистро|0.50078535', 'дешёвый|0.49889126', 'претендовать|0.49642837', 'весьма|0.49607515', 'являться|0.4960716', 'главный|0.49532345', 'план|0.49519998', 'плохой|0.49446496', 'приличный|0.49383482', 'сеть|0.4927479']\n",
            "Aspect 7:\n",
            "['висок|0.86180633', 'коктейль|0.81460047', 'безалкогольный|0.80072594', 'водка|0.7903984', 'алкогольный|0.77832055', 'крепкий|0.77502245', 'пить|0.77475667', 'мохитый|0.76850396', 'выпить|0.74882746', 'мартини|0.74742675', 'литр|0.7400048', 'пила|0.73920906', 'разливный|0.7279654', 'крушовица|0.72762924', 'руль|0.71813107', 'нефильтрованный|0.71757054', 'коньяк|0.71626467', 'кружка|0.7096289', 'сорт|0.70834655', 'пиво|0.7058913', 'бутылочный|0.7038449', 'вишнёвый|0.70291615', 'бутылочка|0.7025693', 'морс|0.70214707', 'сангрия|0.69618607', 'пинта|0.68690634', 'коктель|0.68458796', 'ньюкасл|0.6829238', 'сидр|0.6799778', 'бланша|0.6754582', 'хугарден|0.6691489', 'лимонад|0.6666621', 'глинтвейн|0.6633103', 'бокальчик|0.65961635', 'эль|0.65902895', 'закусить|0.65238243', 'распитие|0.6502442', 'стаут|0.6494736', 'лонг|0.6491908', 'напиток|0.64683735', 'бокал|0.6460721', 'кальян|0.644857', 'пивко|0.640249', 'гиннес|0.63887405', 'игристый|0.632899', 'пшеничный|0.6317456', 'попить|0.6314858', 'текила|0.62877357', 'василеостровский|0.622634', 'квас|0.61975706', 'айленд|0.6178087', 'грапп|0.610819', 'потягивать|0.61070704', 'ром|0.6098516', 'настойка|0.6057594', 'ликёр|0.60457635', 'алкоголь|0.603378', 'графин|0.5991063', 'дайкири|0.5987458', 'бельгийский|0.5976662', 'угостить|0.5905905', 'шампанский|0.58974004', 'сок|0.5896116', 'литровый|0.58883226', 'бутылка|0.58637345', 'рюмка|0.58592325', 'наливать|0.58483195', 'эспрессо|0.5841056', 'медовуха|0.5797565', 'вода|0.57794976', 'вино|0.5754726', 'бесплатный|0.57524824', 'немецкий|0.57096976', 'облепиховый|0.5683209', 'каберне|0.5667474', 'эдельвейс|0.5659911', 'джина|0.56587017', 'коктейльный|0.56505275', 'кувшин|0.56483924', 'производство|0.5638879', 'лагер|0.5633091', 'вельвет|0.5600972', 'поллитра|0.55965734', 'чашечка|0.5594625', 'чай|0.5591018', 'америкать|0.5583914', 'фирменный|0.5578444', 'сироп|0.55776083', 'кола|0.5575236', 'лёд|0.5547612', 'килкенни|0.5516245', 'лимончелло|0.55007666', 'кофе|0.5472429', 'стакан|0.54490197', 'употреблять|0.5446354', 'пино|0.5431293', 'компот|0.5430385', 'фильтровать|0.5401238', '100р|0.539878', 'закусывать|0.53920746']\n",
            "Aspect 8:\n",
            "['организация|0.8347466', 'организовать|0.8169563', 'тамада|0.80584127', 'подготовка|0.7875978', 'свадебный|0.7733821', 'торжество|0.7689388', 'ольга|0.76433355', 'мероприятие|0.76155764', 'благодарность|0.760265', 'организатор|0.74878377', 'майкл|0.7436085', 'праздник|0.73955995', 'огромный_спасибо|0.7348745', 'директор|0.7312467', 'молодожён|0.72890955', 'весь_гость|0.725376', 'ирина|0.72417575', 'пожелание|0.7232837', 'ведущий|0.715871', 'банкет|0.7151462', 'весь_наш|0.714013', 'наталья|0.7034446', 'невеста|0.70288956', 'большой_спасибо|0.70283765', 'владимир|0.70032847', 'евгений|0.6974946', 'команда|0.69701314', 'банкетный|0.6955849', 'елена|0.6945852', 'подарок|0.6888081', 'сотрудник|0.6882613', 'фуршет|0.6866542', 'профессионализм|0.68557274', 'коллектив|0.6826768', 'отдельный_спасибо|0.68084514', 'александр|0.6791802', 'сергей|0.6781318', 'учесть|0.6776955', 'номер|0.6756958', 'татьяна|0.67334473', 'профессионал|0.6698968', 'свадьба|0.66754943', 'проведение|0.66689086', 'уважение|0.66633403', 'марин|0.66564596', 'выражать|0.66461945', 'алексей|0.657936', 'управлять|0.6574109', 'станислав|0.65547585', 'анастасий|0.6500673', 'участие|0.6471542', 'банкетный_зал|0.6448484', 'честь|0.64161026', 'наш_свадьба|0.6406071', 'менеджер|0.64024776', 'благодаря|0.63534975', 'благодарить|0.6332996', 'дмитрий|0.63117826', 'поблагодарить|0.62690145', 'программа|0.6221527', 'бельканто|0.6203052', 'договор|0.6184958', 'новый_год|0.6167952', 'поклон|0.61397195', 'фотограф|0.61299145', 'шоу|0.61267924', 'помощь|0.61215365', 'весь_наш_пожелание|0.60857046', 'каравай|0.60748816', 'андрей|0.60734975', 'администрация|0.60195124', 'бравый|0.59953505', 'профессиональный|0.5963304', 'услуга|0.59622836', 'виктор|0.5952118', 'жених|0.59501076', 'признательность|0.59499204', 'подарить|0.5942912', 'жанна|0.59297967', 'юбилей|0.5919963', 'регистрация|0.59085023', 'родитель|0.5903714', 'событие|0.5867789', 'конкурс|0.5866904', 'совет|0.58639085', 'артист|0.5862448', 'дмитрия|0.58528244', 'юлий|0.5845225', 'чуткий|0.58251303', 'марина|0.58219725', 'галина|0.5816001', 'поздравление|0.5804296', 'юлия|0.58029395', 'вячеслав|0.57996416', 'благодарный|0.5791992', 'предоставить|0.5788811', 'мастер|0.5778726', 'выездной|0.5756034', 'кейтеринг|0.5752084', 'антон|0.5743489']\n",
            "Aspect 9:\n",
            "['заехать|0.77070946', 'пообедать|0.74113643', 'сегодня|0.7351605', 'вчера|0.7233484', 'поехать|0.72195333', 'прогулка|0.71779394', 'пр|0.71297395', 'воскресение|0.70263594', 'случайно|0.69267404', 'московский|0.6907518', 'поужинать|0.6894795', 'однокурсник|0.6862804', 'недавно|0.6721226', 'забежать|0.67198396', 'обедать|0.6714622', 'невский|0.6668658', 'ехать|0.6661043', 'ул|0.66273147', 'гулять|0.6613882', 'офис|0.65863293', 'отправиться|0.6584396', 'перекусить|0.65772724', 'ездить|0.65579176', 'днём|0.65268135', 'заезжать|0.6441243', 'заслать|0.6418668', 'район|0.63878673', 'это_кафе|0.6380836', 'петроградка|0.63805354', 'подружка|0.63566536', 'открыться|0.63215196', 'недалеко|0.6278667', 'ужинать|0.6235', 'заглянуть|0.6192628', 'приморский|0.6135975', 'проспект|0.6127999', 'восстание|0.6093951', 'проезжать|0.60807264', 'побывать|0.6062318', 'жить|0.60401154', 'заскочить|0.60340023', 'поход|0.6003319', 'воскресный|0.59587914', 'москва|0.59511393', 'выходной|0.5939411', 'добраться|0.5932265', 'суббота|0.59019125', 'январь|0.58949864', 'остров|0.5888302', 'перерыв|0.5881591', 'дом|0.58740187', 'год_назад|0.586267', 'парка|0.5858791', 'лето|0.5858036', 'ходьба|0.58469605', 'ноябрь|0.58347183', 'приезжать|0.5817267', 'прогуливаться|0.58135223', 'очередной|0.58104026', 'завтрак|0.5803095', 'встретиться|0.58015585', 'май|0.5767334', 'утро|0.5762933', 'забрести|0.5741481', 'март|0.57337666', 'забегать|0.5716826', 'четверг|0.56933707', 'вечером|0.5692571', 'посетить|0.56742513', 'рубинштейн|0.56713796', 'жена|0.5644618', 'прогуляться|0.5644416', 'февраль|0.56375873', 'месяц|0.5628973', 'театр|0.561906', 'среда|0.56083095', 'путь|0.5592345', 'летом|0.5575565', 'набережная|0.5570593', 'приехать|0.5565047', 'осень|0.5557566', 'наткнуться|0.5545453', 'евразия|0.55434775', 'полгода|0.5542865', 'пешком|0.5540921', 'питер|0.55391616', 'цель|0.55371654', 'занести|0.55143714', 'захаживать|0.5513488', 'заходить|0.55127287', 'дочка|0.54877776', 'поздно|0.5481149', 'разведка|0.5478769', 'фонтанка|0.5476061', 'семья|0.5468972', 'мама|0.54588187', 'неделя|0.5451437', 'однажды|0.54405546', 'мост|0.5430907', 'коллега|0.5389384']\n",
            "Aspect 10:\n",
            "['полка|0.71999097', 'старинный|0.71128607', 'старое|0.7034296', 'стен|0.700976', 'журнал|0.6851377', 'стена|0.68394446', 'лампа|0.68271744', 'черно|0.6822697', 'белые|0.6811955', 'картина|0.67973167', 'предмет|0.67746997', 'ля|0.6761999', 'деталь|0.6743124', 'кирпичный|0.6691633', 'синий|0.6690017', 'рамка|0.66578496', 'стеклянный|0.6604333', 'элемент|0.6601657', 'золотой|0.6559638', 'люстра|0.65534425', 'подоконник|0.6533456', 'фотография|0.6531054', 'множество|0.6496674', 'буфет|0.6486536', 'газета|0.6467471', 'белоснежный|0.6459896', 'кирпич|0.6455077', 'тон|0.6431546', 'дерево|0.64239717', 'винный|0.64194083', 'серый|0.6416944', 'атрибутика|0.64163023', 'доска|0.64121795', 'плитка|0.64100057', 'штора|0.6409148', 'прованс|0.64043504', 'искусственный|0.63655996', 'обилие|0.63491166', 'декор|0.63442695', 'плазменный|0.63401306', 'краска|0.63282806', 'убранство|0.6327075', 'потолок|0.63175035', 'светильник|0.62959266', 'подсвечник|0.62923306', 'полочка|0.6277588', 'внутренний|0.62737834', 'стеллаж|0.62465084', 'светящийся|0.62304854', 'крыша|0.6220137', 'цветовой|0.6204855', 'прочий|0.62037474', 'гамма|0.61910444', 'кладка|0.6190203', 'мебель|0.6183759', 'стекло|0.61768395', 'абажур|0.61721563', 'свет|0.6164445', 'клетка|0.61544585', 'массивный|0.61515546', 'цветочек|0.61470896', 'кровать|0.61373997', 'ткань|0.6121798', 'цвет|0.61156034', 'взор|0.6113834', 'панель|0.6110467', 'фильм|0.6105572', 'свод|0.60987717', 'кожаный|0.6094986', 'пол|0.6090399', 'подсветка|0.6067306', 'цветок|0.6058965', 'солнце|0.603563', 'обои|0.6031929', 'рисунок|0.60250926', 'обивка|0.6023865', 'зеркало|0.60173726', 'направление|0.60056245', 'библиотека|0.5999894', 'резной|0.599545', 'комод|0.5989475', 'шарм|0.59806216', 'коричневый|0.59801906', 'блестящий|0.59692323', 'огонь|0.5968497', 'роспись|0.59588945', 'широкий|0.594831', 'аксессуар|0.5942707', 'вдоль|0.5926044', 'подложка|0.5923821', 'мотив|0.59232354', 'современный|0.59207606', 'цвета|0.5909823', 'голубой|0.59082055', 'деревянный|0.5894463', 'занавеска|0.5893335', 'яркий|0.589211', 'интерьерный|0.5889343', 'логотип|0.58830714', 'ширма|0.588105']\n",
            "Aspect 11:\n",
            "['тёплый|0.6754259', 'ненавязчивый|0.6463732', 'общий_впечатление|0.6119649', 'навязчивый|0.606676', 'прекрасно|0.5945271', 'запомниться|0.58373743', 'очень_порадовать|0.5833886', 'ммммм|0.5830921', 'особенный|0.58216906', 'очень_понравиться|0.5807565', 'очень_приятный|0.5790523', 'пролететь|0.5748234', 'весь_очень_вкусно|0.5733397', 'довольный|0.57044715', 'остаться_очень_довольный|0.5703984', 'безумно|0.56865686', 'душевно|0.5675563', 'целое|0.5659849', 'приятный|0.5636349', 'восхитительный|0.56356287', 'великолепно|0.56340516', 'оч|0.5617511', 'душевный|0.56092656', 'сытый|0.560497', 'весь_очень|0.5602485', 'незаметно|0.5583631', 'вкусный_еда|0.5540277', 'понравиться_весь|0.5504266', 'чудесно|0.549572', 'подкачать|0.54856455', 'очень_хороший|0.5481461', 'весь_очень_понравиться|0.54767597', 'нарекание|0.54726505', 'мера|0.546221', 'потрясающе|0.54451513', 'выше_весь_похвала|0.54238844', 'идеально|0.5419637', 'восторг|0.5412035', 'живот|0.54072034', 'очень_очень_долго|0.5398812', 'волшебный|0.53662276', 'очень_вкусно|0.5336772', 'прийти_ещё|0.5336499', 'предупредительный|0.5311166', 'располагать|0.5299684', 'атмосфера|0.52916014', 'отлично|0.52805793', 'хор|0.52797186', 'достойно|0.52728045', 'обстановка|0.52510804', 'очень_понравиться_весь|0.5249864', 'замечательный|0.52479696', 'расслаблять|0.5226506', 'весь_понравиться|0.5217787', 'остаться_довольный|0.5213387', 'домашний|0.52002674', 'особый|0.5177177', 'порадовать|0.51697075', 'внимательный|0.5120655', 'великолепный|0.5116725', 'превосходный|0.5096782', 'неспешный|0.508587', 'изумительный|0.50855446', 'очень_вкусный|0.50733626', 'обстановочка|0.50617737', 'наслаждаться|0.50207335', 'порция_большой|0.5015432', 'особенно|0.49883235', 'остаться_очень_приятный|0.49854636', 'сытно|0.49853808', 'зы|0.49759662', 'ооочень_вкусный|0.49687946', 'немного|0.49300382', 'насладиться|0.49209282', 'вкусно|0.4920259', 'качественно|0.49185947', 'весь_очень_вкусный|0.49064314', 'позитивный|0.4903827', 'скрасить|0.4878667', 'доброжелательный|0.48697916', 'завершение|0.48552993', 'очень_очень|0.48279464', 'интерьер_очень_уютный|0.48262626', 'приятно|0.48118252', 'изыскать|0.4803324', 'чудесный|0.47987795', 'превосходно|0.4781992', 'спокойный|0.47772866', 'вкусненький|0.4754821', 'учтивый|0.47534543', 'душа|0.47460702', 'придраться|0.47438338', 'расслабить|0.47377145', 'незаметный|0.47334936', 'быстрый|0.46993554', 'праздничный|0.46945155', 'приём|0.4690459', 'высота|0.46753192', 'очень_вкусный_еда|0.46713707', 'зажигательный|0.46682656']\n",
            "Aspect 12:\n",
            "['полтора|0.80116755', 'половина|0.76154053', 'ровно|0.74138665', 'минимум|0.72351056', 'примерно|0.71332407', '15_минута|0.7119183', '20_минута|0.7074475', 'соответственно|0.70603156', 'максимум|0.7019646', 'заполнить|0.6925629', 'час|0.6911445', 'дождаться|0.6808891', 'десять|0.6756134', 'полчаса|0.6695293', 'это_время|0.66907394', 'простоять|0.6685294', 'перемена|0.6658189', 'остаток|0.66529214', 'коробка|0.66272134', 'просидеть|0.66119564', 'вынести|0.6607778', 'прийтись|0.65962136', 'прождать|0.65758204', 'выясниться|0.6572879', 'оговорить|0.65576166', 'напоминание|0.6535425', 'дозаказать|0.653443', 'результат|0.6530621', 'пять|0.6528056', 'мина|0.6521622', 'бокс|0.65173656', 'отдать|0.6515554', 'оплатить|0.6476451', '10_минута|0.6363435', 'расчёт|0.6336855', 'демонстративно|0.63116777', '1_5_час|0.631034', 'привезти|0.6292076', 'естественно|0.6280764', 'течение|0.62643063', 'четыре|0.6263534', 'забрать|0.62514323', 'унести|0.6247369', 'закрытие|0.6229919', 'спустя|0.6223942', 'четверо|0.620842', 'убрать|0.61753213', 'вынос|0.6158805', 'вернуть|0.6150243', 'заплатить|0.6140294', 'рассчитать|0.6131848', 'сумма|0.6114651', 'курс|0.6073296', 'получас|0.6056063', 'уложиться|0.6030214', 'подождать|0.60127616', 'контейнер|0.5978513', 'сложность|0.59732306', 'наполовину|0.596094', 'сколько|0.59442', 'предупреждать|0.59106004', 'двадцать|0.5909065', 'внести|0.5901753', 'оплата|0.5901523', 'персона|0.5891438', 'приход|0.58801377', 'пообещать|0.58706284', 'сделать_заказ|0.58622843', 'очень_долго|0.5834408', 'успеть|0.5821258', 'дополнительно|0.57947606', 'посчитать|0.5787518', 'пятнадцать|0.57849395', 'уйти|0.5773994', 'затем|0.5762749', 'ожидание|0.5756874', 'пустой|0.5753534', 'предоплата|0.5752487', 'положить|0.5744053', 'прибыть|0.5741612', 'около|0.57186854', 'опоздать|0.57019556', 'указать|0.5698944', 'собрать|0.568474', 'отказываться|0.5668559', 'входить|0.5666283', 'предупредить|0.56349313', 'причём|0.56244683', 'итог|0.56080425', 'счёт|0.5607226', 'пакет|0.56053674', 'неприятно|0.56009066', 'полупустой|0.55996394', 'депозит|0.5596629', 'процент|0.55862945', 'поменять|0.5579699', 'ланч|0.5563485', 'одновременно|0.55614305', 'обнаружить|0.5560768', 'килограмм|0.5552447']\n",
            "Aspect 13:\n",
            "['гриль|0.6435934', 'рыба|0.6263059', 'выбрать|0.6174053', 'греческий|0.6130402', 'салат_цезарь|0.6111112', 'стейка|0.58324486', 'мясной|0.5830039', 'стейк|0.5727286', 'цезарь|0.5703719', 'говядина|0.5701831', 'свинина|0.5657318', 'рыбный|0.56356704', 'дорад|0.5624952', 'овощ|0.5584257', 'баклажан|0.5568356', 'шашлык|0.55572176', 'курица|0.54487276', 'рибай|0.54409164', 'оливья|0.53455853', 'дораду|0.5331882', 'морепродукт|0.53153217', 'карпаччо|0.52715355', 'салатик|0.52536154', 'креветка|0.5234028', 'плов|0.5214679', 'узбекский|0.5206727', 'мангал|0.5175139', 'пекински|0.5172842', 'свинин|0.51649773', 'заказывать|0.5147584', 'шашлычок|0.51285326', 'салат|0.51010895', 'стейковы|0.5085928', 'форель|0.5067241', 'муж|0.5032548', 'приготовить|0.5016445', 'коптить|0.5013896', 'телятина|0.5012907', 'закуска|0.5008252', 'выбирать|0.49965277', 'заказать|0.49746728', 'посоветовать|0.49723136', 'цыплёнок|0.49488637', 'вок|0.49424493', 'остановиться|0.49370903', 'стэйк|0.49223813', 'куриный|0.49173245', 'осетрина|0.4911855', 'свиной|0.4877042', 'лосось|0.4857687', 'долму|0.4852017', 'мидия|0.48060426', 'ассорти|0.47963637', 'выбор|0.4768607', 'свинный|0.47591275', 'состав|0.47467232', 'помнить|0.47439748', 'мраморный|0.4721856', 'рёбрышко|0.47057706', 'судак|0.46947238', 'колбаска|0.46751568', 'пасть|0.4656818', 'рулька|0.46136826', 'миньон|0.46026284', 'тигровый|0.4591004', 'отговорить|0.45907137', 'кебаб|0.45890316', 'жена|0.45835742', 'кисло_сладкое_соус|0.45560688', 'раздел|0.45440882', 'барашек|0.45414987', 'экспериментировать|0.45406583', 'предпочитать|0.45303702', 'крылышко|0.45239085', 'лазание|0.45235008', 'запечёный|0.45173162', 'попробовать|0.45106602', 'именно|0.4498037', 'бифстроганов|0.44856936', 'ягнёнок|0.44709128', 'каре|0.44320318', 'бефстроганов|0.44316432', 'вока|0.44266686', 'готовиться|0.4424295', 'филе|0.44062698', 'баранина|0.44023508', 'мясо|0.44022456', 'острый|0.44001096', 'запечь|0.4394844', 'пармиджать|0.437842', 'жареный|0.43660277', 'меню|0.43618247', 'солянка|0.43609345', 'уха|0.4355908', 'жульен|0.43489832', 'фахитос|0.43440855', 'тайский|0.43413237', 'пожалеть|0.4337806', 'медальон|0.4324718', 'очень_любить|0.4315495']\n",
            "2019-12-24 21:10:50,716 INFO Epoch 13, train: 5s\n",
            "2019-12-24 21:10:50,716 INFO Total loss: 3.7296, max_margin_loss: 3.6203, ortho_reg: 0.1092\n",
            "100% 594/594 [00:05<00:00, 101.97it/s]\n",
            "Aspect 0:\n",
            "['попёс|0.6352998', 'ливерпуль|0.61129445', 'ых|0.6093304', 'прибавить|0.605039', 'немолодой|0.58019257', 'градус|0.56674707', 'food|0.5652636', 'good|0.5648364', 'of|0.5647703', 'хх|0.56218565', 'ого|0.5567466', 'restaurant|0.55609477', 'service|0.5550951', 'best|0.5518943', 'ка|0.55111843', 'were|0.5503586', 'ти|0.550017', 'прайс|0.5485428', 'wa|0.5483969', 'in|0.54838413', 'доллар|0.5479593', 'процент|0.547202', 'бальный|0.5443928', 'it|0.54213744', 'блюз|0.5420893', 'полуночь|0.54098743', 'no|0.539497', 'студентка|0.5390347', 'very|0.537882', 'my|0.5366709', 'выключать|0.53531885', 'and|0.5341884', 'па|0.5334455', 'девять|0.5321678', 'космический|0.53191686', 'тридцать|0.53085804', 'копейка|0.5307034', 'двенадцать|0.5301528', 'заполняемость|0.52955925', 'this|0.52950567', 'we|0.5285265', 'рок|0.5256958', 'ролик|0.5249218', 'приблизительно|0.5246199', 'the|0.52453905', 'пятьдесят|0.5220612', 'бурный|0.52141726', 'этак|0.5207213', 'you|0.51983607', 'that|0.5188121', 'удар|0.5186753', 'потянуть|0.5163945', 'отстой|0.5158046', 'справедливо|0.5147265', 'парный|0.5146583', 'negativa|0.51417553', 'шансон|0.51405585', 'мировой|0.5140168', 'пт|0.51334643', 'all|0.51168', 'ру|0.5112478', 'опера|0.51077336', 'хвостик|0.5093244', 'сантиметр|0.50922394', 'евро|0.50906396', 'бал|0.5085716', 'to|0.50811327', 'диск|0.50629616', 'резкий|0.5044331', 'заказываться|0.50373125', 'группа|0.5032586', 'че|0.5026739', 'бранч|0.5026527', 'увеличивать|0.50195634', 'клубный|0.5018892', 'монета|0.5018265', 'источник|0.5010029', 'фраер|0.50039876', 'бум|0.49998504', 'подпевать|0.49760228', 'сб|0.49647832', 'подорожать|0.49642867', 'is|0.49626833', 'включать|0.49605414', 'нигиря|0.49603197', 'луна|0.49601495', 'основательно|0.4954658', 'именной|0.49492037', 'афиша|0.49350625', 'place|0.4920685', 'народный|0.49139714', 'звено|0.49081048', 'радио|0.49015713', 'ть|0.48979747', 'прочить|0.48955405', 'мёртвый|0.48905516', 'отечественный|0.48880318', 'пать|0.4883695', 'концертный|0.48799017', 'фанера|0.48677185']\n",
            "Aspect 1:\n",
            "['рот|0.5862248', 'солёный|0.5708579', 'масло|0.5663918', 'заморозка|0.5654177', 'хрустеть|0.56404036', 'лаваш|0.56350183', 'нарезать|0.5627215', 'кусочек|0.5616829', 'булка|0.5568062', 'лепёшка|0.5560497', 'булочка|0.5497993', 'чипсы|0.54976654', 'корочка|0.5486549', 'хрен|0.5486455', 'фокачча|0.54842865', 'ломтик|0.5446228', 'капуста|0.54037106', 'пережарить|0.5386398', 'перчик|0.53587097', 'палтус|0.53568655', 'орешек|0.53492737', 'картошка|0.53301394', 'соус|0.5329106', 'посыпать|0.53162956', 'мариновать|0.5314445', 'пармезан|0.52975947', 'сметана|0.52924764', 'картошечка|0.5278044', 'кусок|0.52779675', 'икра|0.5277661', 'выращивать|0.5255276', 'спаржа|0.5251762', 'сковородка|0.5242659', 'огурчик|0.5240297', 'рыбка|0.52376527', 'фарш|0.5231327', 'бекон|0.522628', 'фольга|0.52223134', 'чеснок|0.52220595', 'помидорка|0.5221307', 'сырой|0.51862645', 'зелень|0.51835656', 'тест|0.5179715', 'грудинка|0.5173293', 'сковорода|0.5172788', 'имбирь|0.5170457', 'травка|0.51609814', 'свининка|0.51595426', 'яйцо|0.51590645', 'жарить|0.5153609', 'специя|0.51529205', 'оливка|0.51427203', 'лук|0.5140554', 'трава|0.51262283', 'гребешок|0.51225054', 'каша|0.5121871', 'слайс|0.5117767', 'варёный|0.51112306', 'песто|0.51070505', 'разрезать|0.5098627', 'каперс|0.5091673', 'костя|0.50903225', 'жир|0.50772715', 'огурец|0.5075561', 'тонкий|0.50683695', 'протухший|0.5066668', 'лука|0.5066576', 'картофель|0.5059927', 'начинка|0.505849', 'порезать|0.5058234', 'кальмар|0.50487226', 'тунец|0.5048293', 'горшочек|0.5046394', 'утка|0.50382817', 'дорада|0.5035665', 'косточка|0.503526', 'горчица|0.50331527', 'пожарить|0.5031823', 'уксус|0.5031186', 'рис|0.5028771', 'бульон|0.50272566', 'курочка|0.502257', 'хамон|0.5010031', 'плошка|0.50067973', 'овощной|0.49916923', 'запечь|0.498922', 'завернуть|0.49782813', 'печь|0.49768558', 'помидор|0.49670908', 'морковь|0.49614966', 'нарезка|0.49536812', 'переварить|0.49534005', 'майонез|0.4948568', 'кубик|0.49463302', 'филе|0.4943904', 'тартар|0.4940565', 'разогреть|0.49388131', 'сёмга|0.49352407', 'душистый|0.4934511', 'орех|0.49309927']\n",
            "Aspect 2:\n",
            "['сладость|0.6646475', 'брюла|0.6607655', 'пирожное|0.65602446', 'крем|0.6298166', 'миндальный|0.6291558', 'шоколад|0.62650454', 'мусса|0.6260595', 'панакот|0.62431973', 'захер|0.62201273', 'мильфея|0.6186031', 'банановый|0.6183839', 'шоколадный|0.6160989', 'бисквит|0.6145661', 'карамельный|0.60718393', 'печение|0.60423553', 'малин|0.6003134', 'маракуйя|0.6002991', 'карамель|0.6000694', 'суфле|0.5981097', 'развалина|0.5978338', 'грушевый|0.59656805', 'трюфель|0.5960449', 'кекс|0.5954122', 'ванильный|0.59443843', 'капуччиный|0.5941127', 'манговый|0.59368604', 'чизкейк|0.59322804', 'фондать|0.59016293', 'шарик|0.5901127', 'графский|0.5886594', 'мороженое|0.58607006', 'морковный|0.5854279', 'персиковый|0.5848911', 'клубника|0.584832', 'эклер|0.5848236', 'фисташковый|0.584622', 'сорбетом|0.58424175', 'ваниль|0.5829135', 'ягода|0.58091474', 'марципановый|0.5808696', 'значиться|0.5806273', 'лаймовый|0.5796708', 'мятый|0.5796237', 'чайничек|0.578565', 'пирожёнка|0.5775746', 'творог|0.57699037', 'сорбета|0.5763868', 'печенюшка|0.57600856', 'взбить|0.5751635', 'чиз|0.574006', 'безе|0.5739706', 'какао|0.5733269', 'корица|0.5729832', 'заварной|0.57060367', 'малина|0.57059306', 'зелёный|0.5700003', 'мятный|0.5689337', 'кокосовый|0.568753', 'изюм|0.5677986', 'песочный|0.5667584', 'заманчивый|0.56675184', 'баба|0.56521994', 'тортик|0.56447655', 'манго|0.56231856', 'вишня|0.56190896', 'меренга|0.5613933', 'котт|0.5613482', 'сухофрукты|0.5606532', 'медовик|0.5602869', 'творожный|0.559972', 'лимонный|0.5586792', 'ягодный|0.55858654', 'джема|0.55793667', 'пирог|0.5573014', 'карамелизировать|0.5569687', 'шарлотка|0.55694586', 'панна|0.55656487', 'брауни|0.55605584', 'пудинг|0.55588305', 'стопа|0.5540552', 'сырник|0.55402976', 'тирамис|0.5535457', 'сладкое|0.5534302', 'сгущёнка|0.55339646', 'шоколадка|0.5533947', 'желе|0.55209076', 'личить|0.5518272', 'витрина|0.54951715', 'кейк|0.5478945', 'сливка|0.5475301', 'травяной|0.5459386', 'смородина|0.54587436', 'яблочный|0.54586077', 'лесной|0.54547894', 'чёрный|0.54514134', 'печенек|0.5451294', 'конфета|0.54489124', 'яблоко|0.54450285', 'мороженный|0.5443608', 'мармелад|0.5443584']\n",
            "Aspect 3:\n",
            "['простить|0.7852881', 'бояться|0.7704365', 'ум|0.7437123', 'знаете|0.73859584', 'значит|0.72831106', 'мысль|0.7212791', 'надоесть|0.7114295', 'пусть|0.70103484', 'господин|0.6947354', 'поверить|0.6816936', 'обидеть|0.6759298', 'почувствовать|0.6742282', 'перестать|0.6668999', 'признаваться|0.66376865', 'здоровье|0.6597936', 'слово|0.65940315', 'мыть|0.65823054', 'понять|0.657128', 'зря|0.6568669', 'признаться|0.65289116', 'вечно|0.65056103', 'срочно|0.6473776', 'не_не|0.64715004', 'право|0.640873', 'таракан|0.6337811', 'знак|0.63260967', 'жизнь|0.6325892', 'наверно|0.63023067', 'слышать|0.63001966', 'не_знать|0.6274414', 'лезть|0.6265073', 'уверенный|0.6263615', 'вон|0.62559116', 'бог|0.6236875', 'сила|0.6231316', 'довести|0.62131107', 'иначе|0.62106764', 'речь|0.62083924', 'ругать|0.61778384', 'защита|0.6173332', 'сей_пора|0.61682224', 'спорить|0.6158128', 'обходить|0.6145477', 'убить|0.6126618', 'страшно|0.6085206', 'категорически|0.6079787', 'неужели|0.60773814', 'верить|0.6073171', 'извинить|0.60726446', 'плевать|0.6035082', 'душить|0.6028366', 'земля|0.6028339', 'это_просто|0.6001888', 'называть|0.59999895', 'ужас|0.5992842', 'наплевать|0.59784675', 'призывать|0.59690917', 'оттуда|0.59650505', 'приложить|0.5955678', 'передать|0.5953782', 'научить|0.5952476', 'стороной|0.59499645', 'промолчать|0.5944425', 'удалять|0.5929351', 'понимать|0.5926904', 'бороться|0.5914674', 'доказывать|0.5911026', 'твой|0.5894278', 'борис|0.5886327', 'говориться|0.58522534', 'совесть|0.5850465', 'пора|0.58200836', 'ибо|0.58124757', 'удивляться|0.5811213', 'возможно|0.5810502', 'гениальный|0.57752514', 'секрет|0.57692075', 'грустный|0.57649064', 'навсегда|0.57610965', 'сильный|0.5756404', 'следовать|0.5735129', 'голова|0.57208264', 'говорят|0.5719507', 'продолжать|0.57139397', 'чужой|0.570747', 'ресторатор|0.5698881', 'жесть|0.5689518', 'похоже|0.5685483', 'шок|0.5655375', 'терпеть|0.56502974', 'допускать|0.5642421', 'постараться|0.5637585', 'стыдно|0.5628649', 'отбить|0.5626837', 'виноватый|0.56183004', 'серьёзно|0.5612208', 'поправить|0.56116676', 'молчать|0.5605248', 'придумать|0.5595573', 'черта|0.55879104']\n",
            "Aspect 4:\n",
            "['девушка|0.784899', 'мальчик|0.77808475', 'молодая_человек|0.7745615', 'девочка|0.75499606', 'парень|0.7311219', 'улыбаться|0.72693616', 'официантка|0.72663', 'улыбка|0.69879514', 'барышня|0.69057107', 'улыбчивый|0.6700505', 'юноша|0.656842', 'официант|0.65339935', 'хостёс|0.6516746', 'наш_столик|0.6491436', 'гардеробщик|0.6459198', 'хостесса|0.6444223', 'звать|0.64227307', 'лицо|0.64186215', 'провожать|0.63314533', 'мила|0.62684864', 'принимать|0.60395336', 'бармен|0.6012574', 'улыбнуться|0.5957605', 'принять_заказ|0.59408677', 'высокомерный|0.5926311', 'стойка|0.5882364', 'приветливо|0.5860423', 'здороваться|0.5857898', 'спрашивать|0.5785237', 'интересоваться|0.57839715', 'разговаривать|0.57765806', 'администратор|0.5774833', 'поздороваться|0.576244', 'охранник|0.57574', 'пепельница|0.5725741', 'любезный|0.5695041', 'подойти|0.5674323', 'отвечать|0.56576353', 'женщина|0.56462157', 'принять|0.5611191', 'весь_время|0.5601264', 'соседний_столик|0.5567232', 'обслуживать|0.5553758', 'вежливый|0.5504151', 'мужчина|0.5427892', 'молоденький|0.54276913', 'встречать|0.54051214', 'прощаться|0.53825796', 'удалиться|0.53363526', 'голос|0.5332845', 'услышать|0.5319929', 'внешность|0.52936536', 'одежда|0.5277542', 'поменять|0.5204153', 'принести_меню|0.51987064', 'бегать|0.51795274', 'представиться|0.51692903', 'объяснить|0.51539016', 'внимательно|0.5151693', 'доброжелательно|0.5133349', 'поинтересоваться|0.5121981', 'неприветливый|0.51195747', 'реагировать|0.5108515', 'просьба|0.510828', 'пытаться|0.51063347', 'молниеносно|0.5093164', 'забывать|0.5092566', 'объяснять|0.50578225', 'успевать|0.502674', 'охрана|0.501782', 'ответить|0.5012138', 'любезно|0.50014323', 'позвать|0.4986899', 'фраза|0.49850547', 'кальянщик|0.49818516', 'милый|0.4964878', 'гардероб|0.49484736', 'офицант|0.4944197', 'извиниться|0.49372837', 'волос|0.49281514', 'постоянно|0.49254447', 'приветствие|0.49242422', 'молодая|0.49218956', 'спросить|0.49046874', 'общаться|0.48897144', 'задержка|0.48732945', 'расторопный|0.48709783', 'дружелюбно|0.484897', 'появляться|0.48306787', 'одетый|0.48290935', 'обслуживающий|0.48161614', 'шустрый|0.48161185', 'барна_стойка|0.47875357', 'дама|0.47542626', 'обслужить|0.4752656', 'молодая_человек_который|0.47444695', 'смена|0.47382373', 'шутить|0.47364238', 'оперативно|0.47319', 'верхний|0.47272646']\n",
            "Aspect 5:\n",
            "['тесно|0.7219659', 'дым|0.6990261', 'помещение|0.69712734', 'вентиляция|0.6943939', 'диван|0.68652886', 'друг_друг|0.6815673', 'зона|0.68139553', 'душный|0.67771864', 'вытяжка|0.67673683', 'неуютный|0.67605734', 'удобно|0.67411506', 'шумно|0.6667005', 'накурить|0.66397583', 'комфортно|0.66277736', 'комната|0.65943265', 'вокруг|0.65236336', 'пространство|0.6450078', 'дымно|0.6417789', 'кресло|0.6402892', 'курить|0.63686913', 'мешать|0.6339845', 'просторно|0.63079226', 'близко|0.6287763', 'комнатка|0.62799877', 'аквариум|0.62681115', 'воздух|0.6245967', 'светло|0.62415314', 'диванчик|0.61767757', 'кабинка|0.61413276', 'экран|0.61002654', 'туалет|0.6068084', 'табачный|0.6046045', 'уединённость|0.59944594', 'детский_комната|0.5983318', 'сидеть|0.5884628', 'сигаретный|0.58809686', 'неудобно|0.5876723', 'зальчик|0.5868549', 'потолок|0.5841414', 'стул|0.58408153', 'танцполый|0.5838127', 'плазма|0.5815009', 'слышный|0.5814384', 'уголок|0.58029544', 'камин|0.5795699', 'телевизор|0.57429326', 'неудобный|0.5723057', 'потолочь|0.5697114', 'второе_этаж|0.56803983', 'зала|0.5660147', 'прикольный|0.56546295', 'шум|0.564019', 'дышать|0.5628489', 'зеркало|0.56209415', 'барный_стойка|0.5617895', 'мебель|0.5606913', 'дальний|0.5599477', 'деление|0.55976146', 'расстояние|0.5594554', 'балкон|0.5593569', 'прохладно|0.5590743', 'чисто|0.55884546', 'просторный|0.5588393', 'удобный|0.55848175', 'тв|0.55483675', 'игрушка|0.5514791', 'внутри|0.54910594', 'беседка|0.5473083', 'дерево|0.54623854', 'прокурить|0.54188335', 'веранда|0.5398308', 'окно|0.53949016', 'расположить|0.5394127', 'скамейка|0.53806436', 'свет|0.5377956', 'сосед|0.5377163', 'деревянный|0.5372182', 'панель|0.5355554', 'перегородка|0.5346632', 'стена|0.53327674', 'освещение|0.53317314', 'люстра|0.53180635', 'сцена|0.5314051', 'кругом|0.53110015', 'темно|0.52999365', 'тесновато|0.5283319', 'подушечка|0.5263498', 'подушка|0.5240229', 'курение|0.52267164', 'разделение|0.5207567', 'ряд|0.5191218', 'шумный|0.51852953', 'курильщик|0.51852715', 'кондиционер|0.5175412', 'подвал|0.51607907', 'курящий|0.5140575', 'очень_уютный|0.51325715', 'уединиться|0.509927', 'мужской|0.5081565', 'темноватый|0.5077389']\n",
            "Aspect 6:\n",
            "['ценовый|0.7459091', 'ценник|0.7410953', 'категория|0.73025894', 'уровень|0.7253519', 'завысить|0.7179835', 'крайний_мера|0.71699244', 'выше|0.7038804', 'соответствовать|0.70047843', 'цена_качество|0.6977021', 'цена|0.6933491', 'качество|0.68309355', 'сравнение|0.67980766', 'фаста|0.6788099', 'изыск|0.6615604', 'ниже|0.66019154', 'отличие|0.6582389', 'фуд|0.6535487', 'считать|0.63891613', 'учитывать|0.63123584', 'среднее|0.6272516', 'недостаток|0.6264074', 'демократичный|0.6210878', 'японский|0.61203575', 'адекватный|0.61189663', 'забегаловка|0.6097598', 'политика|0.60742486', 'сетевой|0.60638314', 'многий|0.6058826', 'средний|0.6031601', 'намного|0.6006477', 'соотношение_цена_качество|0.59830016', 'оценивать|0.5971444', 'принцип|0.5966612', 'оценка|0.5955144', 'удивлять|0.5953717', 'отличаться|0.5931801', 'формат|0.5897465', 'приемлемый|0.58914477', 'гуманный|0.58880615', 'высокий|0.587078', 'последний_время|0.5832249', 'заведение|0.5829692', 'европейский|0.5827843', 'значительно|0.5751951', 'касаться|0.5736595', 'вполне|0.56627953', 'простой|0.5657922', 'взгляд|0.56152046', 'скорее|0.5581461', 'гинза|0.55749565', 'назвать|0.5571714', 'разнообразие|0.5566359', 'умеренный|0.55340236', 'достойный|0.55104786', 'дёшево|0.54928607', 'пожалуй|0.54895484', 'низкий|0.5481647', 'большинство|0.54751617', 'ресторанный|0.5461294', 'согласный|0.54287696', 'менее|0.54257214', 'дорого|0.5404954', 'весь_остальной|0.53992665', 'однозначно|0.5361342', 'не_мочь_сказать|0.5342337', 'продукт|0.5340344', 'оправдывать|0.53402865', 'претензия|0.53299004', 'подобный|0.5300442', 'посредственный|0.5291116', 'гораздо|0.52802134', 'относительно|0.5256408', 'например|0.52552736', 'китайский|0.52353454', 'стандарт|0.52238876', 'качественный|0.5209629', 'дорогой|0.520941', 'общепит|0.52073133', 'крайне|0.5205809', 'иной|0.5203229', 'средненький|0.5188971', 'дороговатый|0.518232', 'стандартный|0.5176095', 'понятный|0.51486003', 'нарекание|0.51466584', 'сервис|0.5142163', 'гурман|0.51053333', 'однако|0.5089866', 'обычный|0.50712126', 'исключение|0.50622076', 'главный|0.5002823', 'бистро|0.49761006', 'весьма|0.4973657', 'план|0.49717322', 'претендовать|0.496112', 'дешёвый|0.4960255', 'являться|0.49542987', 'приличный|0.4935604', 'плохой|0.49291348', 'доступный|0.49289998']\n",
            "Aspect 7:\n",
            "['висок|0.8626723', 'коктейль|0.8135785', 'безалкогольный|0.80111486', 'водка|0.7905879', 'алкогольный|0.7791114', 'пить|0.7769995', 'крепкий|0.7750112', 'мохитый|0.76627976', 'выпить|0.7517501', 'мартини|0.7486472', 'литр|0.7403038', 'пила|0.7392505', 'разливный|0.7295364', 'крушовица|0.72871673', 'руль|0.7207031', 'нефильтрованный|0.7195899', 'коньяк|0.7162299', 'кружка|0.7109639', 'сорт|0.70906425', 'пиво|0.70788836', 'бутылочный|0.70598686', 'вишнёвый|0.70360947', 'бутылочка|0.70244676', 'морс|0.70148623', 'сангрия|0.69677234', 'пинта|0.6876045', 'ньюкасл|0.68405354', 'коктель|0.6838512', 'сидр|0.6807684', 'бланша|0.67658484', 'хугарден|0.66988236', 'лимонад|0.66553134', 'глинтвейн|0.6631604', 'бокальчик|0.66305506', 'эль|0.66043586', 'закусить|0.65334547', 'распитие|0.65295225', 'стаут|0.65128696', 'напиток|0.64829063', 'лонг|0.64809275', 'бокал|0.64634496', 'кальян|0.6442615', 'пивко|0.64258844', 'гиннес|0.63967025', 'попить|0.63447666', 'игристый|0.63395107', 'пшеничный|0.63177264', 'текила|0.6300358', 'василеостровский|0.6248526', 'квас|0.6184564', 'айленд|0.6171727', 'потягивать|0.61197966', 'грапп|0.6109388', 'ром|0.60909027', 'алкоголь|0.6052581', 'настойка|0.6048298', 'ликёр|0.60411686', 'графин|0.60042584', 'бельгийский|0.5997238', 'дайкири|0.5989583', 'шампанский|0.5910027', 'литровый|0.5906987', 'угостить|0.5906348', 'бутылка|0.58874416', 'сок|0.5882085', 'рюмка|0.5859946', 'наливать|0.5847297', 'эспрессо|0.58296245', 'медовуха|0.58045006', 'вода|0.5781592', 'вино|0.5758531', 'бесплатный|0.57535666', 'немецкий|0.5726895', 'облепиховый|0.568946', 'каберне|0.56800145', 'эдельвейс|0.56697464', 'джина|0.56617653', 'лагер|0.56575817', 'коктейльный|0.5649564', 'кувшин|0.5646725', 'производство|0.5639335', 'вельвет|0.5624313', 'чашечка|0.5604348', 'поллитра|0.56041', 'чай|0.5595144', 'кола|0.55858195', 'америкать|0.55740595', 'сироп|0.5563793', 'фирменный|0.55590016', 'лёд|0.5536276', 'килкенни|0.5533156', 'лимончелло|0.55121064', 'кофе|0.5472394', 'употреблять|0.5452137', 'стакан|0.5450541', 'компот|0.5435454', 'пино|0.5422245', 'фильтровать|0.54162884', '100р|0.5400936', 'закусывать|0.53960955']\n",
            "Aspect 8:\n",
            "['организация|0.8355289', 'организовать|0.8191024', 'тамада|0.8070759', 'подготовка|0.78884685', 'свадебный|0.7756907', 'торжество|0.77201', 'ольга|0.7640347', 'мероприятие|0.7639489', 'благодарность|0.76009595', 'организатор|0.7508837', 'майкл|0.7455606', 'праздник|0.7419283', 'огромный_спасибо|0.7359605', 'директор|0.7315608', 'молодожён|0.73035735', 'весь_гость|0.7280618', 'ирина|0.7229879', 'пожелание|0.7218127', 'ведущий|0.71874917', 'банкет|0.7152774', 'весь_наш|0.7150639', 'невеста|0.7047566', 'большой_спасибо|0.7032901', 'наталья|0.7028364', 'владимир|0.7007563', 'команда|0.6990725', 'евгений|0.697124', 'банкетный|0.6966003', 'елена|0.6942991', 'сотрудник|0.6889738', 'фуршет|0.68891984', 'подарок|0.68837506', 'профессионализм|0.68566054', 'коллектив|0.6851655', 'отдельный_спасибо|0.6807294', 'александр|0.67875683', 'сергей|0.6781565', 'учесть|0.6765193', 'номер|0.6752831', 'татьяна|0.6722859', 'свадьба|0.6711055', 'профессионал|0.6702657', 'проведение|0.6700268', 'уважение|0.66787314', 'выражать|0.66594625', 'марин|0.6651304', 'алексей|0.6579634', 'управлять|0.6564089', 'станислав|0.65524334', 'банкетный_зал|0.6499686', 'анастасий|0.6487739', 'участие|0.64801824', 'наш_свадьба|0.64474845', 'честь|0.6437252', 'благодаря|0.6389035', 'менеджер|0.63838243', 'благодарить|0.63467157', 'дмитрий|0.6313964', 'поблагодарить|0.6258354', 'программа|0.62518096', 'бельканто|0.6230289', 'новый_год|0.6209826', 'договор|0.6175616', 'фотограф|0.61634135', 'шоу|0.61615574', 'поклон|0.61417377', 'помощь|0.6096773', 'весь_наш_пожелание|0.60807276', 'каравай|0.60735375', 'андрей|0.607352', 'администрация|0.60242736', 'бравый|0.6019126', 'профессиональный|0.5969109', 'юбилей|0.59684354', 'жених|0.59631884', 'признательность|0.59568477', 'виктор|0.5952871', 'услуга|0.5951741', 'родитель|0.59441686', 'регистрация|0.594239', 'подарить|0.59345686', 'жанна|0.59257853', 'событие|0.59073144', 'конкурс|0.5903605', 'артист|0.5895228', 'дмитрия|0.5857453', 'юлий|0.5833286', 'совет|0.5831362', 'марина|0.5829792', 'поздравление|0.5827919', 'мастер|0.5821334', 'чуткий|0.5820768', 'юлия|0.5811506', 'галина|0.5811146', 'вячеслав|0.5803445', 'выездной|0.57974637', 'благодарный|0.57918155', 'предоставить|0.5786746', 'кейтеринг|0.5772191', 'работник|0.57485']\n",
            "Aspect 9:\n",
            "['заехать|0.7716845', 'пообедать|0.7389053', 'сегодня|0.73244846', 'вчера|0.72224325', 'поехать|0.72212195', 'прогулка|0.7202909', 'пр|0.71298164', 'воскресение|0.70458627', 'случайно|0.6943834', 'московский|0.6925', 'поужинать|0.6870487', 'однокурсник|0.6845862', 'недавно|0.6716749', 'забежать|0.6700345', 'невский|0.6695071', 'обедать|0.6686807', 'ехать|0.6677596', 'ул|0.6656118', 'гулять|0.66513014', 'отправиться|0.66085106', 'офис|0.66027355', 'ездить|0.6554984', 'перекусить|0.65482295', 'днём|0.6543026', 'заезжать|0.64209586', 'заслать|0.6419114', 'это_кафе|0.63895327', 'район|0.6386874', 'петроградка|0.638515', 'открыться|0.6353559', 'подружка|0.63446224', 'недалеко|0.62880147', 'ужинать|0.62170196', 'заглянуть|0.6213085', 'проспект|0.6167035', 'приморский|0.61609113', 'восстание|0.6122521', 'проезжать|0.61021864', 'побывать|0.6065377', 'жить|0.6039103', 'заскочить|0.6031623', 'поход|0.60151935', 'добраться|0.59684145', 'москва|0.59647435', 'воскресный|0.5956197', 'выходной|0.5948553', 'остров|0.59212583', 'январь|0.59179056', 'суббота|0.591702', 'лето|0.5912063', 'парка|0.5883255', 'перерыв|0.58821744', 'ходьба|0.5873174', 'год_назад|0.587106', 'дом|0.58602625', 'очередной|0.58531815', 'ноябрь|0.5851671', 'прогуливаться|0.5840342', 'встретиться|0.5815109', 'приезжать|0.5806455', 'май|0.57966363', 'завтрак|0.5791545', 'утро|0.57896805', 'забрести|0.5768328', 'март|0.5741811', 'четверг|0.5723169', 'рубинштейн|0.5708622', 'вечером|0.57084656', 'прогуляться|0.56915355', 'забегать|0.5685553', 'посетить|0.567287', 'театр|0.56622446', 'февраль|0.56497794', 'путь|0.56354904', 'месяц|0.5634502', 'среда|0.5633062', 'набережная|0.56242037', 'жена|0.5600222', 'летом|0.55947757', 'осень|0.55896306', 'наткнуться|0.55872667', 'пешком|0.5577526', 'приехать|0.55619645', 'цель|0.5560695', 'полгода|0.5557377', 'занести|0.554126', 'евразия|0.5527648', 'питер|0.5526948', 'заходить|0.5518429', 'фонтанка|0.5501196', 'разведка|0.5500445', 'захаживать|0.54986924', 'поздно|0.54793763', 'дочка|0.5477389', 'мост|0.5473238', 'неделя|0.5448705', 'семья|0.54471517', 'однажды|0.543159', 'мама|0.54284286', 'субботний|0.53945106']\n",
            "Aspect 10:\n",
            "['полка|0.71899176', 'старинный|0.71300864', 'старое|0.7034986', 'стен|0.7021738', 'журнал|0.68527144', 'стена|0.6842962', 'черно|0.6839943', 'белые|0.6837598', 'лампа|0.68280137', 'картина|0.6809521', 'ля|0.6777457', 'предмет|0.6771157', 'деталь|0.6756003', 'кирпичный|0.670845', 'синий|0.66994935', 'рамка|0.6656215', 'элемент|0.66324615', 'стеклянный|0.6598698', 'люстра|0.6576619', 'золотой|0.65626866', 'фотография|0.6541617', 'подоконник|0.65349746', 'множество|0.6509082', 'буфет|0.6508633', 'кирпич|0.64721507', 'белоснежный|0.64646244', 'газета|0.6459255', 'серый|0.64464796', 'тон|0.64412177', 'дерево|0.6440324', 'доска|0.64325696', 'атрибутика|0.64244634', 'плитка|0.64238083', 'штора|0.6421746', 'прованс|0.6418617', 'винный|0.64155686', 'искусственный|0.6387038', 'обилие|0.6381633', 'декор|0.63797903', 'краска|0.63653207', 'убранство|0.634651', 'плазменный|0.63437456', 'потолок|0.6329303', 'светильник|0.631883', 'подсвечник|0.63034797', 'полочка|0.6285282', 'внутренний|0.6269937', 'цветовой|0.62417406', 'светящийся|0.62405723', 'стеллаж|0.62365305', 'прочий|0.6227028', 'гамма|0.62245095', 'кладка|0.62112725', 'мебель|0.6204747', 'крыша|0.62045187', 'абажур|0.6182664', 'стекло|0.6180129', 'цветочек|0.6169751', 'свет|0.61655354', 'клетка|0.6162852', 'массивный|0.6161252', 'цвет|0.6152651', 'ткань|0.6139916', 'взор|0.6117972', 'кровать|0.6117612', 'свод|0.61158663', 'панель|0.61081004', 'фильм|0.6102487', 'кожаный|0.6098189', 'пол|0.60866725', 'подсветка|0.6075427', 'цветок|0.60663027', 'рисунок|0.60543394', 'обои|0.60496104', 'обивка|0.60326326', 'зеркало|0.6023006', 'солнце|0.60222274', 'резной|0.60140234', 'коричневый|0.60024846', 'комод|0.5997814', 'направление|0.59928447', 'библиотека|0.59923434', 'шарм|0.5989718', 'роспись|0.5983187', 'аксессуар|0.59786093', 'огонь|0.59658724', 'блестящий|0.59643507', 'мотив|0.59623724', 'широкий|0.59592617', 'подложка|0.5958253', 'цвета|0.59400606', 'яркий|0.59282416', 'современный|0.5927911', 'голубой|0.5920731', 'вдоль|0.5916395', 'деревянный|0.59131205', 'интерьерный|0.591095', 'узор|0.5907351', 'логотип|0.5896287', 'занавеска|0.5883281']\n",
            "Aspect 11:\n",
            "['тёплый|0.67555755', 'ненавязчивый|0.6428091', 'общий_впечатление|0.60791075', 'навязчивый|0.6033157', 'прекрасно|0.59447706', 'ммммм|0.5817927', 'очень_порадовать|0.580276', 'запомниться|0.5791805', 'очень_понравиться|0.57746327', 'пролететь|0.5761421', 'особенный|0.57455444', 'очень_приятный|0.5732295', 'весь_очень_вкусно|0.57190907', 'безумно|0.57034653', 'довольный|0.5694811', 'душевно|0.5677159', 'остаться_очень_довольный|0.56720304', 'восхитительный|0.5627045', 'великолепно|0.5623643', 'сытый|0.5607425', 'целое|0.5607078', 'оч|0.55941373', 'приятный|0.55891955', 'незаметно|0.55847824', 'весь_очень|0.5584584', 'душевный|0.55696833', 'вкусный_еда|0.54959077', 'чудесно|0.548239', 'понравиться_весь|0.5465729', 'подкачать|0.546452', 'весь_очень_понравиться|0.5460395', 'потрясающе|0.54553235', 'мера|0.5448637', 'нарекание|0.5432077', 'очень_хороший|0.5424783', 'идеально|0.54124284', 'живот|0.5397192', 'восторг|0.53951746', 'выше_весь_похвала|0.5388603', 'очень_очень_долго|0.5387381', 'волшебный|0.5366034', 'очень_вкусно|0.5360284', 'прийти_ещё|0.53092295', 'отлично|0.5282898', 'предупредительный|0.52803254', 'достойно|0.5258016', 'хор|0.5257224', 'замечательный|0.52421176', 'атмосфера|0.5241821', 'располагать|0.5230354', 'очень_понравиться_весь|0.5211259', 'обстановка|0.5207436', 'расслаблять|0.5198345', 'остаться_довольный|0.51835394', 'домашний|0.51775646', 'весь_понравиться|0.51760435', 'особый|0.511618', 'порадовать|0.5115211', 'внимательный|0.5093026', 'великолепный|0.50841355', 'изумительный|0.5066296', 'очень_вкусный|0.5066261', 'превосходный|0.50636053', 'неспешный|0.50348157', 'наслаждаться|0.5027092', 'обстановочка|0.5022273', 'порция_большой|0.5013856', 'сытно|0.5007529', 'особенно|0.49667534', 'зы|0.49582845', 'вкусно|0.49397004', 'ооочень_вкусный|0.4938025', 'остаться_очень_приятный|0.4928918', 'качественно|0.49278036', 'весь_очень_вкусный|0.4888187', 'скрасить|0.48818603', 'насладиться|0.48817706', 'немного|0.48798835', 'доброжелательный|0.4846166', 'позитивный|0.48457357', 'завершение|0.48375157', 'приятно|0.48138905', 'интерьер_очень_уютный|0.48065126', 'очень_очень|0.48054996', 'чудесный|0.47876346', 'изыскать|0.47759607', 'превосходно|0.4761605', 'вкусненький|0.47474563', 'душа|0.47391218', 'учтивый|0.47315523', 'спокойный|0.47277394', 'незаметный|0.47077498', 'придраться|0.47028714', 'расслабить|0.46975857', 'праздничный|0.46722955', 'быстрый|0.46718973', 'приём|0.46652046', 'высота|0.46451557', 'очень_вкусный_еда|0.46439236', 'объедение|0.46436137']\n",
            "Aspect 12:\n",
            "['полтора|0.802873', 'половина|0.7629512', 'ровно|0.74232894', 'минимум|0.7226641', 'примерно|0.7136129', '15_минута|0.7105175', '20_минута|0.7078847', 'соответственно|0.70509255', 'максимум|0.7031809', 'заполнить|0.69143736', 'час|0.69129777', 'дождаться|0.6776829', 'десять|0.6750348', 'перемена|0.66935503', 'полчаса|0.6686078', 'остаток|0.6681513', 'простоять|0.66735065', 'это_время|0.6670815', 'коробка|0.6665493', 'просидеть|0.66029274', 'вынести|0.66012895', 'прождать|0.65737593', 'прийтись|0.65736437', 'дозаказать|0.65470314', 'напоминание|0.65415823', 'выясниться|0.6536634', 'оговорить|0.6534481', 'бокс|0.6532817', 'мина|0.6528194', 'пять|0.65209615', 'результат|0.6518113', 'отдать|0.6498834', 'оплатить|0.6428865', '10_минута|0.63459814', '1_5_час|0.6318744', 'четыре|0.6307796', 'расчёт|0.63064456', 'привезти|0.6297021', 'демонстративно|0.6290077', 'течение|0.62641805', 'естественно|0.62491137', 'унести|0.62335116', 'забрать|0.6221097', 'спустя|0.6213942', 'четверо|0.62075615', 'закрытие|0.6206999', 'вынос|0.618654', 'убрать|0.61544704', 'вернуть|0.6116998', 'заплатить|0.61116153', 'рассчитать|0.61049926', 'сумма|0.6089076', 'получас|0.60763556', 'курс|0.6050556', 'уложиться|0.6031254', 'контейнер|0.60042787', 'наполовину|0.59945166', 'сложность|0.5993888', 'подождать|0.5986222', 'сколько|0.5937268', 'двадцать|0.59034824', 'персона|0.5901712', 'предупреждать|0.58686537', 'приход|0.5867655', 'оплата|0.5857972', 'внести|0.5850035', 'сделать_заказ|0.5838827', 'очень_долго|0.58332574', 'пообещать|0.5829179', 'дополнительно|0.58066034', 'успеть|0.5798284', 'пятнадцать|0.57826877', 'прибыть|0.5778003', 'посчитать|0.57673323', 'положить|0.57659364', 'ожидание|0.5762602', 'пустой|0.5758182', 'затем|0.57530385', 'уйти|0.5734284', 'около|0.5717387', 'предоплата|0.5714981', 'опоздать|0.57056886', 'собрать|0.56928974', 'указать|0.564855', 'входить|0.56479263', 'причём|0.56338894', 'отказываться|0.56322694', 'пакет|0.56149364', 'неприятно|0.55958444', 'килограмм|0.5592389', 'ланч|0.55893624', 'счёт|0.55874026', 'предупредить|0.5585394', 'одновременно|0.558438', 'полупустой|0.5578319', 'процент|0.55767614', 'итог|0.55703163', 'депозит|0.5565327', 'бл|0.5565243', 'поменять|0.55585307']\n",
            "Aspect 13:\n",
            "['гриль|0.63769186', 'выбрать|0.62031543', 'рыба|0.6201753', 'греческий|0.6075407', 'салат_цезарь|0.604506', 'стейка|0.57779586', 'мясной|0.5753411', 'стейк|0.5678775', 'цезарь|0.56490207', 'говядина|0.5635688', 'свинина|0.5591561', 'рыбный|0.5562713', 'дорад|0.5553788', 'шашлык|0.5525449', 'овощ|0.5522789', 'баклажан|0.55025345', 'курица|0.5390291', 'рибай|0.53814316', 'оливья|0.5273619', 'дораду|0.526598', 'морепродукт|0.5240988', 'карпаччо|0.5194756', 'салатик|0.5187584', 'креветка|0.5179663', 'узбекский|0.51710427', 'плов|0.5151336', 'мангал|0.51298404', 'заказывать|0.51248837', 'пекински|0.51135784', 'свинин|0.5105722', 'салат|0.506173', 'шашлычок|0.5058346', 'выбирать|0.50341344', 'стейковы|0.5033954', 'муж|0.50280297', 'форель|0.50000286', 'приготовить|0.4984104', 'посоветовать|0.4979819', 'заказать|0.49779987', 'закуска|0.4967516', 'остановиться|0.49661046', 'телятина|0.4950863', 'коптить|0.49507594', 'цыплёнок|0.48743233', 'вок|0.4868999', 'куриный|0.48628405', 'стэйк|0.48609683', 'осетрина|0.48329663', 'свиной|0.48172742', 'долму|0.47964305', 'лосось|0.47905818', 'выбор|0.4772819', 'мидия|0.47427633', 'ассорти|0.47095823', 'помнить|0.47052306', 'состав|0.4699244', 'свинный|0.46852487', 'пасть|0.46636942', 'мраморный|0.465576', 'рёбрышко|0.46377292', 'судак|0.4612584', 'колбаска|0.4609152', 'жена|0.4582022', 'рулька|0.45594773', 'миньон|0.45455086', 'отговорить|0.45334947', 'тигровый|0.453012', 'кебаб|0.45249793', 'именно|0.45227998', 'попробовать|0.45070904', 'предпочитать|0.45021433', 'раздел|0.4501617', 'экспериментировать|0.4496554', 'кисло_сладкое_соус|0.4479591', 'барашек|0.4471684', 'лазание|0.44558275', 'крылышко|0.44538072', 'запечёный|0.4442247', 'бифстроганов|0.44410208', 'готовиться|0.44136956', 'ягнёнок|0.44028956', 'бефстроганов|0.43656307', 'меню|0.43644202', 'мясо|0.4362748', 'каре|0.43583238', 'вока|0.43572068', 'пожалеть|0.43459263', 'баранина|0.43423247', 'пармиджать|0.4336479', 'острый|0.43346095', 'филе|0.43338752', 'запечь|0.432365', 'порекомендовать|0.4301875', 'жареный|0.42966866', 'тайский|0.42849097', 'фахитос|0.42803285', 'взять|0.4279697', 'очень_любить|0.42760435', 'солянка|0.4274848', 'уха|0.4272021']\n",
            "2019-12-24 21:10:56,776 INFO Epoch 14, train: 5s\n",
            "2019-12-24 21:10:56,776 INFO Total loss: 3.7236, max_margin_loss: 3.6143, ortho_reg: 0.1093\n"
          ],
          "name": "stdout"
        }
      ]
    },
    {
      "cell_type": "code",
      "metadata": {
        "id": "zt4UrcA0bvmu",
        "colab_type": "code",
        "colab": {}
      },
      "source": [
        "with open(os.path.join('output_dir', 'restaurant', 'aspect.log'), 'rb') as f:\n",
        "    aspects = f.readlines()"
      ],
      "execution_count": 0,
      "outputs": []
    },
    {
      "cell_type": "code",
      "metadata": {
        "id": "_IkjVeo7cXjc",
        "colab_type": "code",
        "colab": {}
      },
      "source": [
        "aspects = [line.decode('utf-8') for line in aspects[1::3]]"
      ],
      "execution_count": 0,
      "outputs": []
    },
    {
      "cell_type": "code",
      "metadata": {
        "id": "oaWUsUqygT61",
        "colab_type": "code",
        "outputId": "95a47a5b-2ecb-4a51-b053-e5493d6f62ba",
        "colab": {
          "base_uri": "https://localhost:8080/",
          "height": 272
        }
      },
      "source": [
        "aspects"
      ],
      "execution_count": 0,
      "outputs": [
        {
          "output_type": "execute_result",
          "data": {
            "text/plain": [
              "['попёс|0.6352998 ливерпуль|0.61129445 ых|0.6093304 прибавить|0.605039 немолодой|0.58019257 градус|0.56674707 food|0.5652636 good|0.5648364 of|0.5647703 хх|0.56218565 ого|0.5567466 restaurant|0.55609477 service|0.5550951 best|0.5518943 ка|0.55111843 were|0.5503586 ти|0.550017 прайс|0.5485428 wa|0.5483969 in|0.54838413 доллар|0.5479593 процент|0.547202 бальный|0.5443928 it|0.54213744 блюз|0.5420893 полуночь|0.54098743 no|0.539497 студентка|0.5390347 very|0.537882 my|0.5366709 выключать|0.53531885 and|0.5341884 па|0.5334455 девять|0.5321678 космический|0.53191686 тридцать|0.53085804 копейка|0.5307034 двенадцать|0.5301528 заполняемость|0.52955925 this|0.52950567 we|0.5285265 рок|0.5256958 ролик|0.5249218 приблизительно|0.5246199 the|0.52453905 пятьдесят|0.5220612 бурный|0.52141726 этак|0.5207213 you|0.51983607 that|0.5188121 удар|0.5186753 потянуть|0.5163945 отстой|0.5158046 справедливо|0.5147265 парный|0.5146583 negativa|0.51417553 шансон|0.51405585 мировой|0.5140168 пт|0.51334643 all|0.51168 ру|0.5112478 опера|0.51077336 хвостик|0.5093244 сантиметр|0.50922394 евро|0.50906396 бал|0.5085716 to|0.50811327 диск|0.50629616 резкий|0.5044331 заказываться|0.50373125 группа|0.5032586 че|0.5026739 бранч|0.5026527 увеличивать|0.50195634 клубный|0.5018892 монета|0.5018265 источник|0.5010029 фраер|0.50039876 бум|0.49998504 подпевать|0.49760228 сб|0.49647832 подорожать|0.49642867 is|0.49626833 включать|0.49605414 нигиря|0.49603197 луна|0.49601495 основательно|0.4954658 именной|0.49492037 афиша|0.49350625 place|0.4920685 народный|0.49139714 звено|0.49081048 радио|0.49015713 ть|0.48979747 прочить|0.48955405 мёртвый|0.48905516 отечественный|0.48880318 пать|0.4883695 концертный|0.48799017 фанера|0.48677185\\n',\n",
              " 'рот|0.5862248 солёный|0.5708579 масло|0.5663918 заморозка|0.5654177 хрустеть|0.56404036 лаваш|0.56350183 нарезать|0.5627215 кусочек|0.5616829 булка|0.5568062 лепёшка|0.5560497 булочка|0.5497993 чипсы|0.54976654 корочка|0.5486549 хрен|0.5486455 фокачча|0.54842865 ломтик|0.5446228 капуста|0.54037106 пережарить|0.5386398 перчик|0.53587097 палтус|0.53568655 орешек|0.53492737 картошка|0.53301394 соус|0.5329106 посыпать|0.53162956 мариновать|0.5314445 пармезан|0.52975947 сметана|0.52924764 картошечка|0.5278044 кусок|0.52779675 икра|0.5277661 выращивать|0.5255276 спаржа|0.5251762 сковородка|0.5242659 огурчик|0.5240297 рыбка|0.52376527 фарш|0.5231327 бекон|0.522628 фольга|0.52223134 чеснок|0.52220595 помидорка|0.5221307 сырой|0.51862645 зелень|0.51835656 тест|0.5179715 грудинка|0.5173293 сковорода|0.5172788 имбирь|0.5170457 травка|0.51609814 свининка|0.51595426 яйцо|0.51590645 жарить|0.5153609 специя|0.51529205 оливка|0.51427203 лук|0.5140554 трава|0.51262283 гребешок|0.51225054 каша|0.5121871 слайс|0.5117767 варёный|0.51112306 песто|0.51070505 разрезать|0.5098627 каперс|0.5091673 костя|0.50903225 жир|0.50772715 огурец|0.5075561 тонкий|0.50683695 протухший|0.5066668 лука|0.5066576 картофель|0.5059927 начинка|0.505849 порезать|0.5058234 кальмар|0.50487226 тунец|0.5048293 горшочек|0.5046394 утка|0.50382817 дорада|0.5035665 косточка|0.503526 горчица|0.50331527 пожарить|0.5031823 уксус|0.5031186 рис|0.5028771 бульон|0.50272566 курочка|0.502257 хамон|0.5010031 плошка|0.50067973 овощной|0.49916923 запечь|0.498922 завернуть|0.49782813 печь|0.49768558 помидор|0.49670908 морковь|0.49614966 нарезка|0.49536812 переварить|0.49534005 майонез|0.4948568 кубик|0.49463302 филе|0.4943904 тартар|0.4940565 разогреть|0.49388131 сёмга|0.49352407 душистый|0.4934511 орех|0.49309927\\n',\n",
              " 'сладость|0.6646475 брюла|0.6607655 пирожное|0.65602446 крем|0.6298166 миндальный|0.6291558 шоколад|0.62650454 мусса|0.6260595 панакот|0.62431973 захер|0.62201273 мильфея|0.6186031 банановый|0.6183839 шоколадный|0.6160989 бисквит|0.6145661 карамельный|0.60718393 печение|0.60423553 малин|0.6003134 маракуйя|0.6002991 карамель|0.6000694 суфле|0.5981097 развалина|0.5978338 грушевый|0.59656805 трюфель|0.5960449 кекс|0.5954122 ванильный|0.59443843 капуччиный|0.5941127 манговый|0.59368604 чизкейк|0.59322804 фондать|0.59016293 шарик|0.5901127 графский|0.5886594 мороженое|0.58607006 морковный|0.5854279 персиковый|0.5848911 клубника|0.584832 эклер|0.5848236 фисташковый|0.584622 сорбетом|0.58424175 ваниль|0.5829135 ягода|0.58091474 марципановый|0.5808696 значиться|0.5806273 лаймовый|0.5796708 мятый|0.5796237 чайничек|0.578565 пирожёнка|0.5775746 творог|0.57699037 сорбета|0.5763868 печенюшка|0.57600856 взбить|0.5751635 чиз|0.574006 безе|0.5739706 какао|0.5733269 корица|0.5729832 заварной|0.57060367 малина|0.57059306 зелёный|0.5700003 мятный|0.5689337 кокосовый|0.568753 изюм|0.5677986 песочный|0.5667584 заманчивый|0.56675184 баба|0.56521994 тортик|0.56447655 манго|0.56231856 вишня|0.56190896 меренга|0.5613933 котт|0.5613482 сухофрукты|0.5606532 медовик|0.5602869 творожный|0.559972 лимонный|0.5586792 ягодный|0.55858654 джема|0.55793667 пирог|0.5573014 карамелизировать|0.5569687 шарлотка|0.55694586 панна|0.55656487 брауни|0.55605584 пудинг|0.55588305 стопа|0.5540552 сырник|0.55402976 тирамис|0.5535457 сладкое|0.5534302 сгущёнка|0.55339646 шоколадка|0.5533947 желе|0.55209076 личить|0.5518272 витрина|0.54951715 кейк|0.5478945 сливка|0.5475301 травяной|0.5459386 смородина|0.54587436 яблочный|0.54586077 лесной|0.54547894 чёрный|0.54514134 печенек|0.5451294 конфета|0.54489124 яблоко|0.54450285 мороженный|0.5443608 мармелад|0.5443584\\n',\n",
              " 'простить|0.7852881 бояться|0.7704365 ум|0.7437123 знаете|0.73859584 значит|0.72831106 мысль|0.7212791 надоесть|0.7114295 пусть|0.70103484 господин|0.6947354 поверить|0.6816936 обидеть|0.6759298 почувствовать|0.6742282 перестать|0.6668999 признаваться|0.66376865 здоровье|0.6597936 слово|0.65940315 мыть|0.65823054 понять|0.657128 зря|0.6568669 признаться|0.65289116 вечно|0.65056103 срочно|0.6473776 не_не|0.64715004 право|0.640873 таракан|0.6337811 знак|0.63260967 жизнь|0.6325892 наверно|0.63023067 слышать|0.63001966 не_знать|0.6274414 лезть|0.6265073 уверенный|0.6263615 вон|0.62559116 бог|0.6236875 сила|0.6231316 довести|0.62131107 иначе|0.62106764 речь|0.62083924 ругать|0.61778384 защита|0.6173332 сей_пора|0.61682224 спорить|0.6158128 обходить|0.6145477 убить|0.6126618 страшно|0.6085206 категорически|0.6079787 неужели|0.60773814 верить|0.6073171 извинить|0.60726446 плевать|0.6035082 душить|0.6028366 земля|0.6028339 это_просто|0.6001888 называть|0.59999895 ужас|0.5992842 наплевать|0.59784675 призывать|0.59690917 оттуда|0.59650505 приложить|0.5955678 передать|0.5953782 научить|0.5952476 стороной|0.59499645 промолчать|0.5944425 удалять|0.5929351 понимать|0.5926904 бороться|0.5914674 доказывать|0.5911026 твой|0.5894278 борис|0.5886327 говориться|0.58522534 совесть|0.5850465 пора|0.58200836 ибо|0.58124757 удивляться|0.5811213 возможно|0.5810502 гениальный|0.57752514 секрет|0.57692075 грустный|0.57649064 навсегда|0.57610965 сильный|0.5756404 следовать|0.5735129 голова|0.57208264 говорят|0.5719507 продолжать|0.57139397 чужой|0.570747 ресторатор|0.5698881 жесть|0.5689518 похоже|0.5685483 шок|0.5655375 терпеть|0.56502974 допускать|0.5642421 постараться|0.5637585 стыдно|0.5628649 отбить|0.5626837 виноватый|0.56183004 серьёзно|0.5612208 поправить|0.56116676 молчать|0.5605248 придумать|0.5595573 черта|0.55879104\\n',\n",
              " 'девушка|0.784899 мальчик|0.77808475 молодая_человек|0.7745615 девочка|0.75499606 парень|0.7311219 улыбаться|0.72693616 официантка|0.72663 улыбка|0.69879514 барышня|0.69057107 улыбчивый|0.6700505 юноша|0.656842 официант|0.65339935 хостёс|0.6516746 наш_столик|0.6491436 гардеробщик|0.6459198 хостесса|0.6444223 звать|0.64227307 лицо|0.64186215 провожать|0.63314533 мила|0.62684864 принимать|0.60395336 бармен|0.6012574 улыбнуться|0.5957605 принять_заказ|0.59408677 высокомерный|0.5926311 стойка|0.5882364 приветливо|0.5860423 здороваться|0.5857898 спрашивать|0.5785237 интересоваться|0.57839715 разговаривать|0.57765806 администратор|0.5774833 поздороваться|0.576244 охранник|0.57574 пепельница|0.5725741 любезный|0.5695041 подойти|0.5674323 отвечать|0.56576353 женщина|0.56462157 принять|0.5611191 весь_время|0.5601264 соседний_столик|0.5567232 обслуживать|0.5553758 вежливый|0.5504151 мужчина|0.5427892 молоденький|0.54276913 встречать|0.54051214 прощаться|0.53825796 удалиться|0.53363526 голос|0.5332845 услышать|0.5319929 внешность|0.52936536 одежда|0.5277542 поменять|0.5204153 принести_меню|0.51987064 бегать|0.51795274 представиться|0.51692903 объяснить|0.51539016 внимательно|0.5151693 доброжелательно|0.5133349 поинтересоваться|0.5121981 неприветливый|0.51195747 реагировать|0.5108515 просьба|0.510828 пытаться|0.51063347 молниеносно|0.5093164 забывать|0.5092566 объяснять|0.50578225 успевать|0.502674 охрана|0.501782 ответить|0.5012138 любезно|0.50014323 позвать|0.4986899 фраза|0.49850547 кальянщик|0.49818516 милый|0.4964878 гардероб|0.49484736 офицант|0.4944197 извиниться|0.49372837 волос|0.49281514 постоянно|0.49254447 приветствие|0.49242422 молодая|0.49218956 спросить|0.49046874 общаться|0.48897144 задержка|0.48732945 расторопный|0.48709783 дружелюбно|0.484897 появляться|0.48306787 одетый|0.48290935 обслуживающий|0.48161614 шустрый|0.48161185 барна_стойка|0.47875357 дама|0.47542626 обслужить|0.4752656 молодая_человек_который|0.47444695 смена|0.47382373 шутить|0.47364238 оперативно|0.47319 верхний|0.47272646\\n',\n",
              " 'тесно|0.7219659 дым|0.6990261 помещение|0.69712734 вентиляция|0.6943939 диван|0.68652886 друг_друг|0.6815673 зона|0.68139553 душный|0.67771864 вытяжка|0.67673683 неуютный|0.67605734 удобно|0.67411506 шумно|0.6667005 накурить|0.66397583 комфортно|0.66277736 комната|0.65943265 вокруг|0.65236336 пространство|0.6450078 дымно|0.6417789 кресло|0.6402892 курить|0.63686913 мешать|0.6339845 просторно|0.63079226 близко|0.6287763 комнатка|0.62799877 аквариум|0.62681115 воздух|0.6245967 светло|0.62415314 диванчик|0.61767757 кабинка|0.61413276 экран|0.61002654 туалет|0.6068084 табачный|0.6046045 уединённость|0.59944594 детский_комната|0.5983318 сидеть|0.5884628 сигаретный|0.58809686 неудобно|0.5876723 зальчик|0.5868549 потолок|0.5841414 стул|0.58408153 танцполый|0.5838127 плазма|0.5815009 слышный|0.5814384 уголок|0.58029544 камин|0.5795699 телевизор|0.57429326 неудобный|0.5723057 потолочь|0.5697114 второе_этаж|0.56803983 зала|0.5660147 прикольный|0.56546295 шум|0.564019 дышать|0.5628489 зеркало|0.56209415 барный_стойка|0.5617895 мебель|0.5606913 дальний|0.5599477 деление|0.55976146 расстояние|0.5594554 балкон|0.5593569 прохладно|0.5590743 чисто|0.55884546 просторный|0.5588393 удобный|0.55848175 тв|0.55483675 игрушка|0.5514791 внутри|0.54910594 беседка|0.5473083 дерево|0.54623854 прокурить|0.54188335 веранда|0.5398308 окно|0.53949016 расположить|0.5394127 скамейка|0.53806436 свет|0.5377956 сосед|0.5377163 деревянный|0.5372182 панель|0.5355554 перегородка|0.5346632 стена|0.53327674 освещение|0.53317314 люстра|0.53180635 сцена|0.5314051 кругом|0.53110015 темно|0.52999365 тесновато|0.5283319 подушечка|0.5263498 подушка|0.5240229 курение|0.52267164 разделение|0.5207567 ряд|0.5191218 шумный|0.51852953 курильщик|0.51852715 кондиционер|0.5175412 подвал|0.51607907 курящий|0.5140575 очень_уютный|0.51325715 уединиться|0.509927 мужской|0.5081565 темноватый|0.5077389\\n',\n",
              " 'ценовый|0.7459091 ценник|0.7410953 категория|0.73025894 уровень|0.7253519 завысить|0.7179835 крайний_мера|0.71699244 выше|0.7038804 соответствовать|0.70047843 цена_качество|0.6977021 цена|0.6933491 качество|0.68309355 сравнение|0.67980766 фаста|0.6788099 изыск|0.6615604 ниже|0.66019154 отличие|0.6582389 фуд|0.6535487 считать|0.63891613 учитывать|0.63123584 среднее|0.6272516 недостаток|0.6264074 демократичный|0.6210878 японский|0.61203575 адекватный|0.61189663 забегаловка|0.6097598 политика|0.60742486 сетевой|0.60638314 многий|0.6058826 средний|0.6031601 намного|0.6006477 соотношение_цена_качество|0.59830016 оценивать|0.5971444 принцип|0.5966612 оценка|0.5955144 удивлять|0.5953717 отличаться|0.5931801 формат|0.5897465 приемлемый|0.58914477 гуманный|0.58880615 высокий|0.587078 последний_время|0.5832249 заведение|0.5829692 европейский|0.5827843 значительно|0.5751951 касаться|0.5736595 вполне|0.56627953 простой|0.5657922 взгляд|0.56152046 скорее|0.5581461 гинза|0.55749565 назвать|0.5571714 разнообразие|0.5566359 умеренный|0.55340236 достойный|0.55104786 дёшево|0.54928607 пожалуй|0.54895484 низкий|0.5481647 большинство|0.54751617 ресторанный|0.5461294 согласный|0.54287696 менее|0.54257214 дорого|0.5404954 весь_остальной|0.53992665 однозначно|0.5361342 не_мочь_сказать|0.5342337 продукт|0.5340344 оправдывать|0.53402865 претензия|0.53299004 подобный|0.5300442 посредственный|0.5291116 гораздо|0.52802134 относительно|0.5256408 например|0.52552736 китайский|0.52353454 стандарт|0.52238876 качественный|0.5209629 дорогой|0.520941 общепит|0.52073133 крайне|0.5205809 иной|0.5203229 средненький|0.5188971 дороговатый|0.518232 стандартный|0.5176095 понятный|0.51486003 нарекание|0.51466584 сервис|0.5142163 гурман|0.51053333 однако|0.5089866 обычный|0.50712126 исключение|0.50622076 главный|0.5002823 бистро|0.49761006 весьма|0.4973657 план|0.49717322 претендовать|0.496112 дешёвый|0.4960255 являться|0.49542987 приличный|0.4935604 плохой|0.49291348 доступный|0.49289998\\n',\n",
              " 'висок|0.8626723 коктейль|0.8135785 безалкогольный|0.80111486 водка|0.7905879 алкогольный|0.7791114 пить|0.7769995 крепкий|0.7750112 мохитый|0.76627976 выпить|0.7517501 мартини|0.7486472 литр|0.7403038 пила|0.7392505 разливный|0.7295364 крушовица|0.72871673 руль|0.7207031 нефильтрованный|0.7195899 коньяк|0.7162299 кружка|0.7109639 сорт|0.70906425 пиво|0.70788836 бутылочный|0.70598686 вишнёвый|0.70360947 бутылочка|0.70244676 морс|0.70148623 сангрия|0.69677234 пинта|0.6876045 ньюкасл|0.68405354 коктель|0.6838512 сидр|0.6807684 бланша|0.67658484 хугарден|0.66988236 лимонад|0.66553134 глинтвейн|0.6631604 бокальчик|0.66305506 эль|0.66043586 закусить|0.65334547 распитие|0.65295225 стаут|0.65128696 напиток|0.64829063 лонг|0.64809275 бокал|0.64634496 кальян|0.6442615 пивко|0.64258844 гиннес|0.63967025 попить|0.63447666 игристый|0.63395107 пшеничный|0.63177264 текила|0.6300358 василеостровский|0.6248526 квас|0.6184564 айленд|0.6171727 потягивать|0.61197966 грапп|0.6109388 ром|0.60909027 алкоголь|0.6052581 настойка|0.6048298 ликёр|0.60411686 графин|0.60042584 бельгийский|0.5997238 дайкири|0.5989583 шампанский|0.5910027 литровый|0.5906987 угостить|0.5906348 бутылка|0.58874416 сок|0.5882085 рюмка|0.5859946 наливать|0.5847297 эспрессо|0.58296245 медовуха|0.58045006 вода|0.5781592 вино|0.5758531 бесплатный|0.57535666 немецкий|0.5726895 облепиховый|0.568946 каберне|0.56800145 эдельвейс|0.56697464 джина|0.56617653 лагер|0.56575817 коктейльный|0.5649564 кувшин|0.5646725 производство|0.5639335 вельвет|0.5624313 чашечка|0.5604348 поллитра|0.56041 чай|0.5595144 кола|0.55858195 америкать|0.55740595 сироп|0.5563793 фирменный|0.55590016 лёд|0.5536276 килкенни|0.5533156 лимончелло|0.55121064 кофе|0.5472394 употреблять|0.5452137 стакан|0.5450541 компот|0.5435454 пино|0.5422245 фильтровать|0.54162884 100р|0.5400936 закусывать|0.53960955\\n',\n",
              " 'организация|0.8355289 организовать|0.8191024 тамада|0.8070759 подготовка|0.78884685 свадебный|0.7756907 торжество|0.77201 ольга|0.7640347 мероприятие|0.7639489 благодарность|0.76009595 организатор|0.7508837 майкл|0.7455606 праздник|0.7419283 огромный_спасибо|0.7359605 директор|0.7315608 молодожён|0.73035735 весь_гость|0.7280618 ирина|0.7229879 пожелание|0.7218127 ведущий|0.71874917 банкет|0.7152774 весь_наш|0.7150639 невеста|0.7047566 большой_спасибо|0.7032901 наталья|0.7028364 владимир|0.7007563 команда|0.6990725 евгений|0.697124 банкетный|0.6966003 елена|0.6942991 сотрудник|0.6889738 фуршет|0.68891984 подарок|0.68837506 профессионализм|0.68566054 коллектив|0.6851655 отдельный_спасибо|0.6807294 александр|0.67875683 сергей|0.6781565 учесть|0.6765193 номер|0.6752831 татьяна|0.6722859 свадьба|0.6711055 профессионал|0.6702657 проведение|0.6700268 уважение|0.66787314 выражать|0.66594625 марин|0.6651304 алексей|0.6579634 управлять|0.6564089 станислав|0.65524334 банкетный_зал|0.6499686 анастасий|0.6487739 участие|0.64801824 наш_свадьба|0.64474845 честь|0.6437252 благодаря|0.6389035 менеджер|0.63838243 благодарить|0.63467157 дмитрий|0.6313964 поблагодарить|0.6258354 программа|0.62518096 бельканто|0.6230289 новый_год|0.6209826 договор|0.6175616 фотограф|0.61634135 шоу|0.61615574 поклон|0.61417377 помощь|0.6096773 весь_наш_пожелание|0.60807276 каравай|0.60735375 андрей|0.607352 администрация|0.60242736 бравый|0.6019126 профессиональный|0.5969109 юбилей|0.59684354 жених|0.59631884 признательность|0.59568477 виктор|0.5952871 услуга|0.5951741 родитель|0.59441686 регистрация|0.594239 подарить|0.59345686 жанна|0.59257853 событие|0.59073144 конкурс|0.5903605 артист|0.5895228 дмитрия|0.5857453 юлий|0.5833286 совет|0.5831362 марина|0.5829792 поздравление|0.5827919 мастер|0.5821334 чуткий|0.5820768 юлия|0.5811506 галина|0.5811146 вячеслав|0.5803445 выездной|0.57974637 благодарный|0.57918155 предоставить|0.5786746 кейтеринг|0.5772191 работник|0.57485\\n',\n",
              " 'заехать|0.7716845 пообедать|0.7389053 сегодня|0.73244846 вчера|0.72224325 поехать|0.72212195 прогулка|0.7202909 пр|0.71298164 воскресение|0.70458627 случайно|0.6943834 московский|0.6925 поужинать|0.6870487 однокурсник|0.6845862 недавно|0.6716749 забежать|0.6700345 невский|0.6695071 обедать|0.6686807 ехать|0.6677596 ул|0.6656118 гулять|0.66513014 отправиться|0.66085106 офис|0.66027355 ездить|0.6554984 перекусить|0.65482295 днём|0.6543026 заезжать|0.64209586 заслать|0.6419114 это_кафе|0.63895327 район|0.6386874 петроградка|0.638515 открыться|0.6353559 подружка|0.63446224 недалеко|0.62880147 ужинать|0.62170196 заглянуть|0.6213085 проспект|0.6167035 приморский|0.61609113 восстание|0.6122521 проезжать|0.61021864 побывать|0.6065377 жить|0.6039103 заскочить|0.6031623 поход|0.60151935 добраться|0.59684145 москва|0.59647435 воскресный|0.5956197 выходной|0.5948553 остров|0.59212583 январь|0.59179056 суббота|0.591702 лето|0.5912063 парка|0.5883255 перерыв|0.58821744 ходьба|0.5873174 год_назад|0.587106 дом|0.58602625 очередной|0.58531815 ноябрь|0.5851671 прогуливаться|0.5840342 встретиться|0.5815109 приезжать|0.5806455 май|0.57966363 завтрак|0.5791545 утро|0.57896805 забрести|0.5768328 март|0.5741811 четверг|0.5723169 рубинштейн|0.5708622 вечером|0.57084656 прогуляться|0.56915355 забегать|0.5685553 посетить|0.567287 театр|0.56622446 февраль|0.56497794 путь|0.56354904 месяц|0.5634502 среда|0.5633062 набережная|0.56242037 жена|0.5600222 летом|0.55947757 осень|0.55896306 наткнуться|0.55872667 пешком|0.5577526 приехать|0.55619645 цель|0.5560695 полгода|0.5557377 занести|0.554126 евразия|0.5527648 питер|0.5526948 заходить|0.5518429 фонтанка|0.5501196 разведка|0.5500445 захаживать|0.54986924 поздно|0.54793763 дочка|0.5477389 мост|0.5473238 неделя|0.5448705 семья|0.54471517 однажды|0.543159 мама|0.54284286 субботний|0.53945106\\n',\n",
              " 'полка|0.71899176 старинный|0.71300864 старое|0.7034986 стен|0.7021738 журнал|0.68527144 стена|0.6842962 черно|0.6839943 белые|0.6837598 лампа|0.68280137 картина|0.6809521 ля|0.6777457 предмет|0.6771157 деталь|0.6756003 кирпичный|0.670845 синий|0.66994935 рамка|0.6656215 элемент|0.66324615 стеклянный|0.6598698 люстра|0.6576619 золотой|0.65626866 фотография|0.6541617 подоконник|0.65349746 множество|0.6509082 буфет|0.6508633 кирпич|0.64721507 белоснежный|0.64646244 газета|0.6459255 серый|0.64464796 тон|0.64412177 дерево|0.6440324 доска|0.64325696 атрибутика|0.64244634 плитка|0.64238083 штора|0.6421746 прованс|0.6418617 винный|0.64155686 искусственный|0.6387038 обилие|0.6381633 декор|0.63797903 краска|0.63653207 убранство|0.634651 плазменный|0.63437456 потолок|0.6329303 светильник|0.631883 подсвечник|0.63034797 полочка|0.6285282 внутренний|0.6269937 цветовой|0.62417406 светящийся|0.62405723 стеллаж|0.62365305 прочий|0.6227028 гамма|0.62245095 кладка|0.62112725 мебель|0.6204747 крыша|0.62045187 абажур|0.6182664 стекло|0.6180129 цветочек|0.6169751 свет|0.61655354 клетка|0.6162852 массивный|0.6161252 цвет|0.6152651 ткань|0.6139916 взор|0.6117972 кровать|0.6117612 свод|0.61158663 панель|0.61081004 фильм|0.6102487 кожаный|0.6098189 пол|0.60866725 подсветка|0.6075427 цветок|0.60663027 рисунок|0.60543394 обои|0.60496104 обивка|0.60326326 зеркало|0.6023006 солнце|0.60222274 резной|0.60140234 коричневый|0.60024846 комод|0.5997814 направление|0.59928447 библиотека|0.59923434 шарм|0.5989718 роспись|0.5983187 аксессуар|0.59786093 огонь|0.59658724 блестящий|0.59643507 мотив|0.59623724 широкий|0.59592617 подложка|0.5958253 цвета|0.59400606 яркий|0.59282416 современный|0.5927911 голубой|0.5920731 вдоль|0.5916395 деревянный|0.59131205 интерьерный|0.591095 узор|0.5907351 логотип|0.5896287 занавеска|0.5883281\\n',\n",
              " 'тёплый|0.67555755 ненавязчивый|0.6428091 общий_впечатление|0.60791075 навязчивый|0.6033157 прекрасно|0.59447706 ммммм|0.5817927 очень_порадовать|0.580276 запомниться|0.5791805 очень_понравиться|0.57746327 пролететь|0.5761421 особенный|0.57455444 очень_приятный|0.5732295 весь_очень_вкусно|0.57190907 безумно|0.57034653 довольный|0.5694811 душевно|0.5677159 остаться_очень_довольный|0.56720304 восхитительный|0.5627045 великолепно|0.5623643 сытый|0.5607425 целое|0.5607078 оч|0.55941373 приятный|0.55891955 незаметно|0.55847824 весь_очень|0.5584584 душевный|0.55696833 вкусный_еда|0.54959077 чудесно|0.548239 понравиться_весь|0.5465729 подкачать|0.546452 весь_очень_понравиться|0.5460395 потрясающе|0.54553235 мера|0.5448637 нарекание|0.5432077 очень_хороший|0.5424783 идеально|0.54124284 живот|0.5397192 восторг|0.53951746 выше_весь_похвала|0.5388603 очень_очень_долго|0.5387381 волшебный|0.5366034 очень_вкусно|0.5360284 прийти_ещё|0.53092295 отлично|0.5282898 предупредительный|0.52803254 достойно|0.5258016 хор|0.5257224 замечательный|0.52421176 атмосфера|0.5241821 располагать|0.5230354 очень_понравиться_весь|0.5211259 обстановка|0.5207436 расслаблять|0.5198345 остаться_довольный|0.51835394 домашний|0.51775646 весь_понравиться|0.51760435 особый|0.511618 порадовать|0.5115211 внимательный|0.5093026 великолепный|0.50841355 изумительный|0.5066296 очень_вкусный|0.5066261 превосходный|0.50636053 неспешный|0.50348157 наслаждаться|0.5027092 обстановочка|0.5022273 порция_большой|0.5013856 сытно|0.5007529 особенно|0.49667534 зы|0.49582845 вкусно|0.49397004 ооочень_вкусный|0.4938025 остаться_очень_приятный|0.4928918 качественно|0.49278036 весь_очень_вкусный|0.4888187 скрасить|0.48818603 насладиться|0.48817706 немного|0.48798835 доброжелательный|0.4846166 позитивный|0.48457357 завершение|0.48375157 приятно|0.48138905 интерьер_очень_уютный|0.48065126 очень_очень|0.48054996 чудесный|0.47876346 изыскать|0.47759607 превосходно|0.4761605 вкусненький|0.47474563 душа|0.47391218 учтивый|0.47315523 спокойный|0.47277394 незаметный|0.47077498 придраться|0.47028714 расслабить|0.46975857 праздничный|0.46722955 быстрый|0.46718973 приём|0.46652046 высота|0.46451557 очень_вкусный_еда|0.46439236 объедение|0.46436137\\n',\n",
              " 'полтора|0.802873 половина|0.7629512 ровно|0.74232894 минимум|0.7226641 примерно|0.7136129 15_минута|0.7105175 20_минута|0.7078847 соответственно|0.70509255 максимум|0.7031809 заполнить|0.69143736 час|0.69129777 дождаться|0.6776829 десять|0.6750348 перемена|0.66935503 полчаса|0.6686078 остаток|0.6681513 простоять|0.66735065 это_время|0.6670815 коробка|0.6665493 просидеть|0.66029274 вынести|0.66012895 прождать|0.65737593 прийтись|0.65736437 дозаказать|0.65470314 напоминание|0.65415823 выясниться|0.6536634 оговорить|0.6534481 бокс|0.6532817 мина|0.6528194 пять|0.65209615 результат|0.6518113 отдать|0.6498834 оплатить|0.6428865 10_минута|0.63459814 1_5_час|0.6318744 четыре|0.6307796 расчёт|0.63064456 привезти|0.6297021 демонстративно|0.6290077 течение|0.62641805 естественно|0.62491137 унести|0.62335116 забрать|0.6221097 спустя|0.6213942 четверо|0.62075615 закрытие|0.6206999 вынос|0.618654 убрать|0.61544704 вернуть|0.6116998 заплатить|0.61116153 рассчитать|0.61049926 сумма|0.6089076 получас|0.60763556 курс|0.6050556 уложиться|0.6031254 контейнер|0.60042787 наполовину|0.59945166 сложность|0.5993888 подождать|0.5986222 сколько|0.5937268 двадцать|0.59034824 персона|0.5901712 предупреждать|0.58686537 приход|0.5867655 оплата|0.5857972 внести|0.5850035 сделать_заказ|0.5838827 очень_долго|0.58332574 пообещать|0.5829179 дополнительно|0.58066034 успеть|0.5798284 пятнадцать|0.57826877 прибыть|0.5778003 посчитать|0.57673323 положить|0.57659364 ожидание|0.5762602 пустой|0.5758182 затем|0.57530385 уйти|0.5734284 около|0.5717387 предоплата|0.5714981 опоздать|0.57056886 собрать|0.56928974 указать|0.564855 входить|0.56479263 причём|0.56338894 отказываться|0.56322694 пакет|0.56149364 неприятно|0.55958444 килограмм|0.5592389 ланч|0.55893624 счёт|0.55874026 предупредить|0.5585394 одновременно|0.558438 полупустой|0.5578319 процент|0.55767614 итог|0.55703163 депозит|0.5565327 бл|0.5565243 поменять|0.55585307\\n',\n",
              " 'гриль|0.63769186 выбрать|0.62031543 рыба|0.6201753 греческий|0.6075407 салат_цезарь|0.604506 стейка|0.57779586 мясной|0.5753411 стейк|0.5678775 цезарь|0.56490207 говядина|0.5635688 свинина|0.5591561 рыбный|0.5562713 дорад|0.5553788 шашлык|0.5525449 овощ|0.5522789 баклажан|0.55025345 курица|0.5390291 рибай|0.53814316 оливья|0.5273619 дораду|0.526598 морепродукт|0.5240988 карпаччо|0.5194756 салатик|0.5187584 креветка|0.5179663 узбекский|0.51710427 плов|0.5151336 мангал|0.51298404 заказывать|0.51248837 пекински|0.51135784 свинин|0.5105722 салат|0.506173 шашлычок|0.5058346 выбирать|0.50341344 стейковы|0.5033954 муж|0.50280297 форель|0.50000286 приготовить|0.4984104 посоветовать|0.4979819 заказать|0.49779987 закуска|0.4967516 остановиться|0.49661046 телятина|0.4950863 коптить|0.49507594 цыплёнок|0.48743233 вок|0.4868999 куриный|0.48628405 стэйк|0.48609683 осетрина|0.48329663 свиной|0.48172742 долму|0.47964305 лосось|0.47905818 выбор|0.4772819 мидия|0.47427633 ассорти|0.47095823 помнить|0.47052306 состав|0.4699244 свинный|0.46852487 пасть|0.46636942 мраморный|0.465576 рёбрышко|0.46377292 судак|0.4612584 колбаска|0.4609152 жена|0.4582022 рулька|0.45594773 миньон|0.45455086 отговорить|0.45334947 тигровый|0.453012 кебаб|0.45249793 именно|0.45227998 попробовать|0.45070904 предпочитать|0.45021433 раздел|0.4501617 экспериментировать|0.4496554 кисло_сладкое_соус|0.4479591 барашек|0.4471684 лазание|0.44558275 крылышко|0.44538072 запечёный|0.4442247 бифстроганов|0.44410208 готовиться|0.44136956 ягнёнок|0.44028956 бефстроганов|0.43656307 меню|0.43644202 мясо|0.4362748 каре|0.43583238 вока|0.43572068 пожалеть|0.43459263 баранина|0.43423247 пармиджать|0.4336479 острый|0.43346095 филе|0.43338752 запечь|0.432365 порекомендовать|0.4301875 жареный|0.42966866 тайский|0.42849097 фахитос|0.42803285 взять|0.4279697 очень_любить|0.42760435 солянка|0.4274848 уха|0.4272021\\n']"
            ]
          },
          "metadata": {
            "tags": []
          },
          "execution_count": 128
        }
      ]
    },
    {
      "cell_type": "code",
      "metadata": {
        "id": "_E2P_G4KbeaF",
        "colab_type": "code",
        "colab": {}
      },
      "source": [
        "# раскомментировать в evaluation.py >= 146 строчки\n",
        "# и на 61 строчке поменять топики\n",
        "# добавить на 59 строчку следующее: true_label = ['Food'] * len(predict_label)\n",
        "cluster_map = {\n",
        "    0: 'Other',\n",
        "    1: 'Food',\n",
        "    2: 'Food',\n",
        "    3: 'Other',\n",
        "    4: 'Service',\n",
        "    5: 'Other',\n",
        "    6: 'Other',\n",
        "    7: 'Food',\n",
        "    8: 'Other',\n",
        "    9: 'Other',\n",
        "    10: 'Other',\n",
        "    11: 'Other',\n",
        "    12: 'Other',\n",
        "    13: 'Food'\n",
        "}"
      ],
      "execution_count": 0,
      "outputs": []
    },
    {
      "cell_type": "code",
      "metadata": {
        "id": "sHM3Z_XHHKsF",
        "colab_type": "code",
        "outputId": "552c27c7-2ad1-47d8-d39d-db3994daad11",
        "colab": {
          "base_uri": "https://localhost:8080/",
          "height": 1000
        }
      },
      "source": [
        "!python evaluation.py --domain restaurant -o output_dir"
      ],
      "execution_count": 0,
      "outputs": [
        {
          "output_type": "stream",
          "text": [
            "Using TensorFlow backend.\n",
            "Reading data from restaurant\n",
            " Creating vocab ...\n",
            "   1291051 total words, 49774 unique words\n",
            "  keep the top 9000 words\n",
            " Reading dataset ...\n",
            "  train set\n",
            "   <num> hit rate: 1.33%, <unk> hit rate: 7.90%\n",
            "  test set\n",
            "   <num> hit rate: 2.74%, <unk> hit rate: 11.59%\n",
            "WARNING:tensorflow:From /usr/local/lib/python3.6/dist-packages/keras/backend/tensorflow_backend.py:517: The name tf.placeholder is deprecated. Please use tf.compat.v1.placeholder instead.\n",
            "\n",
            "WARNING:tensorflow:From /usr/local/lib/python3.6/dist-packages/keras/backend/tensorflow_backend.py:4138: The name tf.random_uniform is deprecated. Please use tf.random.uniform instead.\n",
            "\n",
            "WARNING:tensorflow:From /usr/local/lib/python3.6/dist-packages/keras/backend/tensorflow_backend.py:174: The name tf.get_default_session is deprecated. Please use tf.compat.v1.get_default_session instead.\n",
            "\n",
            "WARNING:tensorflow:From /usr/local/lib/python3.6/dist-packages/keras/backend/tensorflow_backend.py:181: The name tf.ConfigProto is deprecated. Please use tf.compat.v1.ConfigProto instead.\n",
            "\n",
            "WARNING:tensorflow:From /usr/local/lib/python3.6/dist-packages/keras/backend/tensorflow_backend.py:186: The name tf.Session is deprecated. Please use tf.compat.v1.Session instead.\n",
            "\n",
            "2019-12-24 21:17:51.791634: I tensorflow/core/platform/profile_utils/cpu_utils.cc:94] CPU Frequency: 2300000000 Hz\n",
            "2019-12-24 21:17:51.791976: I tensorflow/compiler/xla/service/service.cc:168] XLA service 0x8934680 initialized for platform Host (this does not guarantee that XLA will be used). Devices:\n",
            "2019-12-24 21:17:51.792046: I tensorflow/compiler/xla/service/service.cc:176]   StreamExecutor device (0): Host, Default Version\n",
            "2019-12-24 21:17:51.794290: I tensorflow/stream_executor/platform/default/dso_loader.cc:44] Successfully opened dynamic library libcuda.so.1\n",
            "2019-12-24 21:17:51.892026: I tensorflow/stream_executor/cuda/cuda_gpu_executor.cc:983] successful NUMA node read from SysFS had negative value (-1), but there must be at least one NUMA node, so returning NUMA node zero\n",
            "2019-12-24 21:17:51.892963: I tensorflow/compiler/xla/service/service.cc:168] XLA service 0x8935640 initialized for platform CUDA (this does not guarantee that XLA will be used). Devices:\n",
            "2019-12-24 21:17:51.893010: I tensorflow/compiler/xla/service/service.cc:176]   StreamExecutor device (0): Tesla P100-PCIE-16GB, Compute Capability 6.0\n",
            "2019-12-24 21:17:51.893254: I tensorflow/stream_executor/cuda/cuda_gpu_executor.cc:983] successful NUMA node read from SysFS had negative value (-1), but there must be at least one NUMA node, so returning NUMA node zero\n",
            "2019-12-24 21:17:51.894131: I tensorflow/core/common_runtime/gpu/gpu_device.cc:1618] Found device 0 with properties: \n",
            "name: Tesla P100-PCIE-16GB major: 6 minor: 0 memoryClockRate(GHz): 1.3285\n",
            "pciBusID: 0000:00:04.0\n",
            "2019-12-24 21:17:51.894619: I tensorflow/stream_executor/platform/default/dso_loader.cc:44] Successfully opened dynamic library libcudart.so.10.1\n",
            "2019-12-24 21:17:51.896571: I tensorflow/stream_executor/platform/default/dso_loader.cc:44] Successfully opened dynamic library libcublas.so.10\n",
            "2019-12-24 21:17:51.898359: I tensorflow/stream_executor/platform/default/dso_loader.cc:44] Successfully opened dynamic library libcufft.so.10\n",
            "2019-12-24 21:17:51.898744: I tensorflow/stream_executor/platform/default/dso_loader.cc:44] Successfully opened dynamic library libcurand.so.10\n",
            "2019-12-24 21:17:51.900624: I tensorflow/stream_executor/platform/default/dso_loader.cc:44] Successfully opened dynamic library libcusolver.so.10\n",
            "2019-12-24 21:17:51.901510: I tensorflow/stream_executor/platform/default/dso_loader.cc:44] Successfully opened dynamic library libcusparse.so.10\n",
            "2019-12-24 21:17:51.905318: I tensorflow/stream_executor/platform/default/dso_loader.cc:44] Successfully opened dynamic library libcudnn.so.7\n",
            "2019-12-24 21:17:51.905472: I tensorflow/stream_executor/cuda/cuda_gpu_executor.cc:983] successful NUMA node read from SysFS had negative value (-1), but there must be at least one NUMA node, so returning NUMA node zero\n",
            "2019-12-24 21:17:51.906314: I tensorflow/stream_executor/cuda/cuda_gpu_executor.cc:983] successful NUMA node read from SysFS had negative value (-1), but there must be at least one NUMA node, so returning NUMA node zero\n",
            "2019-12-24 21:17:51.907048: I tensorflow/core/common_runtime/gpu/gpu_device.cc:1746] Adding visible gpu devices: 0\n",
            "2019-12-24 21:17:51.907126: I tensorflow/stream_executor/platform/default/dso_loader.cc:44] Successfully opened dynamic library libcudart.so.10.1\n",
            "2019-12-24 21:17:51.908502: I tensorflow/core/common_runtime/gpu/gpu_device.cc:1159] Device interconnect StreamExecutor with strength 1 edge matrix:\n",
            "2019-12-24 21:17:51.908553: I tensorflow/core/common_runtime/gpu/gpu_device.cc:1165]      0 \n",
            "2019-12-24 21:17:51.908583: I tensorflow/core/common_runtime/gpu/gpu_device.cc:1178] 0:   N \n",
            "2019-12-24 21:17:51.908730: I tensorflow/stream_executor/cuda/cuda_gpu_executor.cc:983] successful NUMA node read from SysFS had negative value (-1), but there must be at least one NUMA node, so returning NUMA node zero\n",
            "2019-12-24 21:17:51.909701: I tensorflow/stream_executor/cuda/cuda_gpu_executor.cc:983] successful NUMA node read from SysFS had negative value (-1), but there must be at least one NUMA node, so returning NUMA node zero\n",
            "2019-12-24 21:17:51.910470: W tensorflow/core/common_runtime/gpu/gpu_bfc_allocator.cc:39] Overriding allow_growth setting because the TF_FORCE_GPU_ALLOW_GROWTH environment variable is set. Original config value was 0.\n",
            "2019-12-24 21:17:51.910543: I tensorflow/core/common_runtime/gpu/gpu_device.cc:1304] Created TensorFlow device (/job:localhost/replica:0/task:0/device:GPU:0 with 12267 MB memory) -> physical GPU (device: 0, name: Tesla P100-PCIE-16GB, pci bus id: 0000:00:04.0, compute capability: 6.0)\n",
            "WARNING:tensorflow:From /usr/local/lib/python3.6/dist-packages/keras/backend/tensorflow_backend.py:190: The name tf.global_variables is deprecated. Please use tf.compat.v1.global_variables instead.\n",
            "\n",
            "WARNING:tensorflow:From /usr/local/lib/python3.6/dist-packages/keras/backend/tensorflow_backend.py:199: The name tf.is_variable_initialized is deprecated. Please use tf.compat.v1.is_variable_initialized instead.\n",
            "\n",
            "WARNING:tensorflow:From /usr/local/lib/python3.6/dist-packages/keras/backend/tensorflow_backend.py:206: The name tf.variables_initializer is deprecated. Please use tf.compat.v1.variables_initializer instead.\n",
            "\n",
            "WARNING:tensorflow:From /usr/local/lib/python3.6/dist-packages/keras/optimizers.py:790: The name tf.train.Optimizer is deprecated. Please use tf.compat.v1.train.Optimizer instead.\n",
            "\n",
            "WARNING:tensorflow:From /usr/local/lib/python3.6/dist-packages/tensorflow_core/python/ops/math_grad.py:1424: where (from tensorflow.python.ops.array_ops) is deprecated and will be removed in a future version.\n",
            "Instructions for updating:\n",
            "Use tf.where in 2.0, which has the same broadcast rule as np.where\n",
            "WARNING:tensorflow:From /usr/local/lib/python3.6/dist-packages/keras/backend/tensorflow_backend.py:986: The name tf.assign_add is deprecated. Please use tf.compat.v1.assign_add instead.\n",
            "\n",
            "WARNING:tensorflow:From /usr/local/lib/python3.6/dist-packages/keras/backend/tensorflow_backend.py:973: The name tf.assign is deprecated. Please use tf.compat.v1.assign instead.\n",
            "\n",
            "WARNING:tensorflow:From /usr/local/lib/python3.6/dist-packages/keras/backend/tensorflow_backend.py:131: The name tf.get_default_graph is deprecated. Please use tf.compat.v1.get_default_graph instead.\n",
            "\n",
            "WARNING:tensorflow:From /usr/local/lib/python3.6/dist-packages/keras/backend/tensorflow_backend.py:133: The name tf.placeholder_with_default is deprecated. Please use tf.compat.v1.placeholder_with_default instead.\n",
            "\n",
            "  0% 0/595 [00:00<?, ?it/s]2019-12-24 21:17:53.673646: E tensorflow/core/grappler/optimizers/dependency_optimizer.cc:697] Iteration = 0, topological sort failed with message: The graph couldn't be sorted in topological order.\n",
            "2019-12-24 21:17:53.674039: E tensorflow/core/grappler/optimizers/dependency_optimizer.cc:697] Iteration = 1, topological sort failed with message: The graph couldn't be sorted in topological order.\n",
            "2019-12-24 21:17:53.674534: E tensorflow/core/grappler/optimizers/meta_optimizer.cc:533] layout failed: Invalid argument: The graph couldn't be sorted in topological order.\n",
            "2019-12-24 21:17:53.675096: E tensorflow/core/grappler/optimizers/meta_optimizer.cc:533] model_pruner failed: Invalid argument: MutableGraphView::MutableGraphView error: node 'att_weights/concat_1' has self cycle fanin 'att_weights/concat_1'.\n",
            "2019-12-24 21:17:53.676023: E tensorflow/core/grappler/optimizers/meta_optimizer.cc:533] remapper failed: Invalid argument: MutableGraphView::MutableGraphView error: node 'att_weights/concat_1' has self cycle fanin 'att_weights/concat_1'.\n",
            "2019-12-24 21:17:53.676242: E tensorflow/core/grappler/optimizers/meta_optimizer.cc:533] arithmetic_optimizer failed: Invalid argument: The graph couldn't be sorted in topological order.\n",
            "2019-12-24 21:17:53.676464: E tensorflow/core/grappler/optimizers/dependency_optimizer.cc:697] Iteration = 0, topological sort failed with message: The graph couldn't be sorted in topological order.\n",
            "2019-12-24 21:17:53.676827: E tensorflow/core/grappler/optimizers/dependency_optimizer.cc:697] Iteration = 1, topological sort failed with message: The graph couldn't be sorted in topological order.\n",
            "2019-12-24 21:17:53.689335: I tensorflow/stream_executor/platform/default/dso_loader.cc:44] Successfully opened dynamic library libcublas.so.10\n",
            "100% 595/595 [00:01<00:00, 570.65it/s]\n",
            "Saving topic weights on test sentences...\n",
            "[[0.07879216 0.12256552 0.09612129 ... 0.08050709 0.07213138 0.076116  ]\n",
            " [0.0694112  0.03914613 0.0722702  ... 0.07654083 0.08321215 0.06470884]\n",
            " [0.07012446 0.0291514  0.05448576 ... 0.062188   0.08170218 0.06640863]\n",
            " ...\n",
            " [0.05981354 0.0414776  0.05472162 ... 0.08381444 0.08528641 0.06639943]\n",
            " [0.06589551 0.05098992 0.08927488 ... 0.07426036 0.08356553 0.06605927]\n",
            " [0.07030217 0.1250172  0.08792143 ... 0.07574175 0.07689282 0.08882691]]\n",
            "Saving attention weights on test sentences...\n"
          ],
          "name": "stdout"
        }
      ]
    },
    {
      "cell_type": "markdown",
      "metadata": {
        "id": "HhwbJExJoWe5",
        "colab_type": "text"
      },
      "source": [
        "Дистрибутивная семантика"
      ]
    },
    {
      "cell_type": "code",
      "metadata": {
        "id": "c_b-53seL7yD",
        "colab_type": "code",
        "colab": {}
      },
      "source": [
        "food_v = (w2v_model.wv['еда_NOUN'] + w2v_model.wv['напиток_NOUN']) / 2\n",
        "service_v = (w2v_model.wv['обслуживание_NOUN'] + w2v_model.wv['официант_NOUN'] + w2v_model.wv['услуга_NOUN'] + w2v_model.wv['время_NOUN'] + w2v_model.wv['комфорт_NOUN']) / 5"
      ],
      "execution_count": 0,
      "outputs": []
    },
    {
      "cell_type": "code",
      "metadata": {
        "id": "Avo7prdOpsmo",
        "colab_type": "code",
        "colab": {}
      },
      "source": [
        "from scipy import spatial\n",
        "\n",
        "def asp(sent, ind, food_v, service_v):\n",
        "\n",
        "    lenghth = 0\n",
        "    res = np.zeros((w2v_model.vector_size,), dtype = 'float32')\n",
        "    tokens = sent.split()\n",
        "    for word in tokens[max(0, ind[0]-3):min(len(tokens), ind[-1]+1)]:\n",
        "        if word in w2v_model.wv.vocab:\n",
        "                lenghth += 1\n",
        "                res += w2v_model.wv[word]\n",
        "    for word in tokens[max(0, ind[-1]+1):min(len(tokens), ind[-1]+4)]:\n",
        "        if word in w2v_model.wv.vocab:\n",
        "                lenghth += 1\n",
        "                res += w2v_model.wv[word]\n",
        "    res = res/lenghth\n",
        "    score_food = 1 - spatial.distance.cosine(res, food_v)\n",
        "    score_service = 1 - spatial.distance.cosine(res, service_v)\n",
        "    if score_service < 0.22 and score_food < 0.22:\n",
        "        return 'Other'\n",
        "    elif score_service > score_food:\n",
        "        return 'Service'\n",
        "    else:\n",
        "        return 'Food'"
      ],
      "execution_count": 0,
      "outputs": []
    },
    {
      "cell_type": "code",
      "metadata": {
        "id": "XuP_3eJto3kQ",
        "colab_type": "code",
        "outputId": "75316526-e876-44be-c497-5d48b66c8286",
        "colab": {
          "base_uri": "https://localhost:8080/",
          "height": 34
        }
      },
      "source": [
        "asp('очень понравиться карбанара', [2], food_v, service_v)"
      ],
      "execution_count": 0,
      "outputs": [
        {
          "output_type": "execute_result",
          "data": {
            "text/plain": [
              "'Food'"
            ]
          },
          "metadata": {
            "tags": []
          },
          "execution_count": 182
        }
      ]
    },
    {
      "cell_type": "markdown",
      "metadata": {
        "id": "E0B8M7o7D52p",
        "colab_type": "text"
      },
      "source": [
        "Предсказания"
      ]
    },
    {
      "cell_type": "code",
      "metadata": {
        "id": "HGktCl5y7WKA",
        "colab_type": "code",
        "colab": {}
      },
      "source": [
        "negative_asp = []\n",
        "negative_sents = []\n",
        "positive_asp = []\n",
        "positive_sents = []\n",
        "for i in range(len(sents)):\n",
        "    for negative_index in texts_dct[i]['negative_indices']:\n",
        "        negative_asp.append(asp(' '.join(sents[i]), negative_index, food_v, service_v))\n",
        "        tokens = sents_with_replacements[i].split()\n",
        "        negative_sents.append(' '.join(tokens[max(0, negative_index[0]-3):min(len(tokens), negative_index[-1]+4)]))\n",
        "\n",
        "    for positive_index in texts_dct[i]['positive_indices']:\n",
        "        positive_asp.append(asp(' '.join(sents[i]), positive_index, food_v, service_v))\n",
        "        tokens = sents_with_replacements[i].split()\n",
        "        positive_sents.append(' '.join(tokens[max(0, positive_index[0]-3):min(len(tokens), positive_index[-1]+4)]))"
      ],
      "execution_count": 0,
      "outputs": []
    },
    {
      "cell_type": "code",
      "metadata": {
        "id": "TWpeI1LI0KXZ",
        "colab_type": "code",
        "outputId": "3381950a-a92e-4e77-85d5-709f76b14636",
        "colab": {
          "base_uri": "https://localhost:8080/",
          "height": 34
        }
      },
      "source": [
        "negative_asp"
      ],
      "execution_count": 0,
      "outputs": [
        {
          "output_type": "execute_result",
          "data": {
            "text/plain": [
              "['Other', 'Other', 'Other']"
            ]
          },
          "metadata": {
            "tags": []
          },
          "execution_count": 184
        }
      ]
    },
    {
      "cell_type": "code",
      "metadata": {
        "id": "YliE2MYbz3YN",
        "colab_type": "code",
        "outputId": "80073b3b-8f77-45ee-95e3-54ab388a63dc",
        "colab": {
          "base_uri": "https://localhost:8080/",
          "height": 67
        }
      },
      "source": [
        "negative_sents"
      ],
      "execution_count": 0,
      "outputs": [
        {
          "output_type": "execute_result",
          "data": {
            "text/plain": [
              "['здравствовать виа далее арженто добрый',\n",
              " 'здравствовать виа далее арженто добрый вечер хотеть заказать',\n",
              " 'ваш метродотеля елена девушка вообще не уметь']"
            ]
          },
          "metadata": {
            "tags": []
          },
          "execution_count": 185
        }
      ]
    },
    {
      "cell_type": "code",
      "metadata": {
        "id": "3KqVS8mI7iBi",
        "colab_type": "code",
        "colab": {}
      },
      "source": [
        "with open(os.path.join('/content', 'attention', 'preprocessed_data', 'restaurant', 'test.txt'), 'w', encoding='utf-8') as f:\n",
        "    f.write('\\n'.join(negative_sents))"
      ],
      "execution_count": 0,
      "outputs": []
    },
    {
      "cell_type": "code",
      "metadata": {
        "id": "_DV8fRls7iST",
        "colab_type": "code",
        "outputId": "216e677d-2302-4d09-b6a8-cccffc492494",
        "colab": {
          "base_uri": "https://localhost:8080/",
          "height": 1000
        }
      },
      "source": [
        "# на 25-26 строках заменить на следующее:\n",
        "# vocab, train_x, test_x, overall_maxlen = dataset.get_data(args.domain, vocab_size=args.vocab_size, maxlen=args.maxlen)\n",
        "# # test_x = train_x  # <-- здесь коммент\n",
        "\n",
        "# Также нужно добавить запись в файл после 60-й строчки:\n",
        "# with open('output_dir/restaurant/labels.txt', 'w', encoding='utf-8') as f:\n",
        "#     f.write('\\n'.join(predict_label))\n",
        "\n",
        "!python evaluation.py --domain restaurant -o output_dir"
      ],
      "execution_count": 0,
      "outputs": [
        {
          "output_type": "stream",
          "text": [
            "Using TensorFlow backend.\n",
            "Reading data from restaurant\n",
            " Creating vocab ...\n",
            "   1291051 total words, 49774 unique words\n",
            "  keep the top 9000 words\n",
            " Reading dataset ...\n",
            "  train set\n",
            "   <num> hit rate: 1.33%, <unk> hit rate: 7.90%\n",
            "  test set\n",
            "   <num> hit rate: 0.00%, <unk> hit rate: 30.00%\n",
            "WARNING:tensorflow:From /usr/local/lib/python3.6/dist-packages/keras/backend/tensorflow_backend.py:517: The name tf.placeholder is deprecated. Please use tf.compat.v1.placeholder instead.\n",
            "\n",
            "WARNING:tensorflow:From /usr/local/lib/python3.6/dist-packages/keras/backend/tensorflow_backend.py:4138: The name tf.random_uniform is deprecated. Please use tf.random.uniform instead.\n",
            "\n",
            "WARNING:tensorflow:From /usr/local/lib/python3.6/dist-packages/keras/backend/tensorflow_backend.py:174: The name tf.get_default_session is deprecated. Please use tf.compat.v1.get_default_session instead.\n",
            "\n",
            "WARNING:tensorflow:From /usr/local/lib/python3.6/dist-packages/keras/backend/tensorflow_backend.py:181: The name tf.ConfigProto is deprecated. Please use tf.compat.v1.ConfigProto instead.\n",
            "\n",
            "WARNING:tensorflow:From /usr/local/lib/python3.6/dist-packages/keras/backend/tensorflow_backend.py:186: The name tf.Session is deprecated. Please use tf.compat.v1.Session instead.\n",
            "\n",
            "2019-12-24 21:38:12.491044: I tensorflow/core/platform/profile_utils/cpu_utils.cc:94] CPU Frequency: 2300000000 Hz\n",
            "2019-12-24 21:38:12.491431: I tensorflow/compiler/xla/service/service.cc:168] XLA service 0x73b1880 initialized for platform Host (this does not guarantee that XLA will be used). Devices:\n",
            "2019-12-24 21:38:12.491485: I tensorflow/compiler/xla/service/service.cc:176]   StreamExecutor device (0): Host, Default Version\n",
            "2019-12-24 21:38:12.493737: I tensorflow/stream_executor/platform/default/dso_loader.cc:44] Successfully opened dynamic library libcuda.so.1\n",
            "2019-12-24 21:38:12.589538: I tensorflow/stream_executor/cuda/cuda_gpu_executor.cc:983] successful NUMA node read from SysFS had negative value (-1), but there must be at least one NUMA node, so returning NUMA node zero\n",
            "2019-12-24 21:38:12.590539: I tensorflow/compiler/xla/service/service.cc:168] XLA service 0x73b1a40 initialized for platform CUDA (this does not guarantee that XLA will be used). Devices:\n",
            "2019-12-24 21:38:12.590576: I tensorflow/compiler/xla/service/service.cc:176]   StreamExecutor device (0): Tesla P100-PCIE-16GB, Compute Capability 6.0\n",
            "2019-12-24 21:38:12.590822: I tensorflow/stream_executor/cuda/cuda_gpu_executor.cc:983] successful NUMA node read from SysFS had negative value (-1), but there must be at least one NUMA node, so returning NUMA node zero\n",
            "2019-12-24 21:38:12.591753: I tensorflow/core/common_runtime/gpu/gpu_device.cc:1618] Found device 0 with properties: \n",
            "name: Tesla P100-PCIE-16GB major: 6 minor: 0 memoryClockRate(GHz): 1.3285\n",
            "pciBusID: 0000:00:04.0\n",
            "2019-12-24 21:38:12.592235: I tensorflow/stream_executor/platform/default/dso_loader.cc:44] Successfully opened dynamic library libcudart.so.10.1\n",
            "2019-12-24 21:38:12.593930: I tensorflow/stream_executor/platform/default/dso_loader.cc:44] Successfully opened dynamic library libcublas.so.10\n",
            "2019-12-24 21:38:12.595517: I tensorflow/stream_executor/platform/default/dso_loader.cc:44] Successfully opened dynamic library libcufft.so.10\n",
            "2019-12-24 21:38:12.595902: I tensorflow/stream_executor/platform/default/dso_loader.cc:44] Successfully opened dynamic library libcurand.so.10\n",
            "2019-12-24 21:38:12.597532: I tensorflow/stream_executor/platform/default/dso_loader.cc:44] Successfully opened dynamic library libcusolver.so.10\n",
            "2019-12-24 21:38:12.598436: I tensorflow/stream_executor/platform/default/dso_loader.cc:44] Successfully opened dynamic library libcusparse.so.10\n",
            "2019-12-24 21:38:12.601743: I tensorflow/stream_executor/platform/default/dso_loader.cc:44] Successfully opened dynamic library libcudnn.so.7\n",
            "2019-12-24 21:38:12.601859: I tensorflow/stream_executor/cuda/cuda_gpu_executor.cc:983] successful NUMA node read from SysFS had negative value (-1), but there must be at least one NUMA node, so returning NUMA node zero\n",
            "2019-12-24 21:38:12.602829: I tensorflow/stream_executor/cuda/cuda_gpu_executor.cc:983] successful NUMA node read from SysFS had negative value (-1), but there must be at least one NUMA node, so returning NUMA node zero\n",
            "2019-12-24 21:38:12.603572: I tensorflow/core/common_runtime/gpu/gpu_device.cc:1746] Adding visible gpu devices: 0\n",
            "2019-12-24 21:38:12.603631: I tensorflow/stream_executor/platform/default/dso_loader.cc:44] Successfully opened dynamic library libcudart.so.10.1\n",
            "2019-12-24 21:38:12.604954: I tensorflow/core/common_runtime/gpu/gpu_device.cc:1159] Device interconnect StreamExecutor with strength 1 edge matrix:\n",
            "2019-12-24 21:38:12.604986: I tensorflow/core/common_runtime/gpu/gpu_device.cc:1165]      0 \n",
            "2019-12-24 21:38:12.604997: I tensorflow/core/common_runtime/gpu/gpu_device.cc:1178] 0:   N \n",
            "2019-12-24 21:38:12.605153: I tensorflow/stream_executor/cuda/cuda_gpu_executor.cc:983] successful NUMA node read from SysFS had negative value (-1), but there must be at least one NUMA node, so returning NUMA node zero\n",
            "2019-12-24 21:38:12.605873: I tensorflow/stream_executor/cuda/cuda_gpu_executor.cc:983] successful NUMA node read from SysFS had negative value (-1), but there must be at least one NUMA node, so returning NUMA node zero\n",
            "2019-12-24 21:38:12.606555: W tensorflow/core/common_runtime/gpu/gpu_bfc_allocator.cc:39] Overriding allow_growth setting because the TF_FORCE_GPU_ALLOW_GROWTH environment variable is set. Original config value was 0.\n",
            "2019-12-24 21:38:12.606622: I tensorflow/core/common_runtime/gpu/gpu_device.cc:1304] Created TensorFlow device (/job:localhost/replica:0/task:0/device:GPU:0 with 12267 MB memory) -> physical GPU (device: 0, name: Tesla P100-PCIE-16GB, pci bus id: 0000:00:04.0, compute capability: 6.0)\n",
            "WARNING:tensorflow:From /usr/local/lib/python3.6/dist-packages/keras/backend/tensorflow_backend.py:190: The name tf.global_variables is deprecated. Please use tf.compat.v1.global_variables instead.\n",
            "\n",
            "WARNING:tensorflow:From /usr/local/lib/python3.6/dist-packages/keras/backend/tensorflow_backend.py:199: The name tf.is_variable_initialized is deprecated. Please use tf.compat.v1.is_variable_initialized instead.\n",
            "\n",
            "WARNING:tensorflow:From /usr/local/lib/python3.6/dist-packages/keras/backend/tensorflow_backend.py:206: The name tf.variables_initializer is deprecated. Please use tf.compat.v1.variables_initializer instead.\n",
            "\n",
            "WARNING:tensorflow:From /usr/local/lib/python3.6/dist-packages/keras/optimizers.py:790: The name tf.train.Optimizer is deprecated. Please use tf.compat.v1.train.Optimizer instead.\n",
            "\n",
            "WARNING:tensorflow:From /usr/local/lib/python3.6/dist-packages/tensorflow_core/python/ops/math_grad.py:1424: where (from tensorflow.python.ops.array_ops) is deprecated and will be removed in a future version.\n",
            "Instructions for updating:\n",
            "Use tf.where in 2.0, which has the same broadcast rule as np.where\n",
            "WARNING:tensorflow:From /usr/local/lib/python3.6/dist-packages/keras/backend/tensorflow_backend.py:986: The name tf.assign_add is deprecated. Please use tf.compat.v1.assign_add instead.\n",
            "\n",
            "WARNING:tensorflow:From /usr/local/lib/python3.6/dist-packages/keras/backend/tensorflow_backend.py:973: The name tf.assign is deprecated. Please use tf.compat.v1.assign instead.\n",
            "\n",
            "WARNING:tensorflow:From /usr/local/lib/python3.6/dist-packages/keras/backend/tensorflow_backend.py:131: The name tf.get_default_graph is deprecated. Please use tf.compat.v1.get_default_graph instead.\n",
            "\n",
            "WARNING:tensorflow:From /usr/local/lib/python3.6/dist-packages/keras/backend/tensorflow_backend.py:133: The name tf.placeholder_with_default is deprecated. Please use tf.compat.v1.placeholder_with_default instead.\n",
            "\n",
            "  0% 0/2 [00:00<?, ?it/s]2019-12-24 21:38:14.443386: E tensorflow/core/grappler/optimizers/dependency_optimizer.cc:697] Iteration = 0, topological sort failed with message: The graph couldn't be sorted in topological order.\n",
            "2019-12-24 21:38:14.443686: E tensorflow/core/grappler/optimizers/dependency_optimizer.cc:697] Iteration = 1, topological sort failed with message: The graph couldn't be sorted in topological order.\n",
            "2019-12-24 21:38:14.443992: E tensorflow/core/grappler/optimizers/meta_optimizer.cc:533] layout failed: Invalid argument: The graph couldn't be sorted in topological order.\n",
            "2019-12-24 21:38:14.444595: E tensorflow/core/grappler/optimizers/meta_optimizer.cc:533] model_pruner failed: Invalid argument: MutableGraphView::MutableGraphView error: node 'att_weights/concat_1' has self cycle fanin 'att_weights/concat_1'.\n",
            "2019-12-24 21:38:14.445427: E tensorflow/core/grappler/optimizers/meta_optimizer.cc:533] remapper failed: Invalid argument: MutableGraphView::MutableGraphView error: node 'att_weights/concat_1' has self cycle fanin 'att_weights/concat_1'.\n",
            "2019-12-24 21:38:14.445597: E tensorflow/core/grappler/optimizers/meta_optimizer.cc:533] arithmetic_optimizer failed: Invalid argument: The graph couldn't be sorted in topological order.\n",
            "2019-12-24 21:38:14.445792: E tensorflow/core/grappler/optimizers/dependency_optimizer.cc:697] Iteration = 0, topological sort failed with message: The graph couldn't be sorted in topological order.\n",
            "2019-12-24 21:38:14.446016: E tensorflow/core/grappler/optimizers/dependency_optimizer.cc:697] Iteration = 1, topological sort failed with message: The graph couldn't be sorted in topological order.\n",
            "2019-12-24 21:38:14.455849: I tensorflow/stream_executor/platform/default/dso_loader.cc:44] Successfully opened dynamic library libcublas.so.10\n",
            "100% 2/2 [00:00<00:00,  6.37it/s]\n",
            "Saving topic weights on test sentences...\n",
            "[[0.0873187  0.03340144 0.06636672 0.08914288 0.07343376 0.04400237\n",
            "  0.04790479 0.05666079 0.0958731  0.1045656  0.07855429 0.06799064\n",
            "  0.07498224 0.07980268]\n",
            " [0.07068852 0.03731782 0.06577021 0.07806296 0.07498831 0.04781315\n",
            "  0.04945957 0.07520889 0.09075499 0.09630717 0.06553712 0.08178422\n",
            "  0.08067722 0.08562987]\n",
            " [0.05885369 0.0393148  0.06163804 0.10565566 0.1084244  0.05047671\n",
            "  0.06668051 0.06084079 0.1271683  0.0595643  0.05723846 0.07494368\n",
            "  0.0653666  0.06383403]]\n",
            "Saving attention weights on test sentences...\n",
            "--- Results on restaurant domain ---\n",
            "/usr/local/lib/python3.6/dist-packages/sklearn/metrics/classification.py:1437: UndefinedMetricWarning: Precision and F-score are ill-defined and being set to 0.0 in labels with no predicted samples.\n",
            "  'precision', 'predicted', average, warn_for)\n",
            "/usr/local/lib/python3.6/dist-packages/sklearn/metrics/classification.py:1439: UndefinedMetricWarning: Recall and F-score are ill-defined and being set to 0.0 in labels with no true samples.\n",
            "  'recall', 'true', average, warn_for)\n",
            "              precision    recall  f1-score   support\n",
            "\n",
            "        Food      0.000     0.000     0.000       3.0\n",
            "     Service      0.000     0.000     0.000       0.0\n",
            "       Other      0.000     0.000     0.000       0.0\n",
            "\n",
            "   micro avg      0.000     0.000     0.000       3.0\n",
            "   macro avg      0.000     0.000     0.000       3.0\n",
            "weighted avg      0.000     0.000     0.000       3.0\n",
            "\n"
          ],
          "name": "stdout"
        }
      ]
    },
    {
      "cell_type": "code",
      "metadata": {
        "id": "HQgEjntfEsyU",
        "colab_type": "code",
        "colab": {}
      },
      "source": [
        "with open('output_dir/restaurant/labels.txt', 'r', encoding='utf-8') as f:\n",
        "    negative_aspect = f.read().split('\\n')"
      ],
      "execution_count": 0,
      "outputs": []
    },
    {
      "cell_type": "code",
      "metadata": {
        "id": "asif3_QB1u9L",
        "colab_type": "code",
        "outputId": "37f63ad4-388d-4505-96df-6d62f70ee8e3",
        "colab": {
          "base_uri": "https://localhost:8080/",
          "height": 34
        }
      },
      "source": [
        "negative_aspect"
      ],
      "execution_count": 0,
      "outputs": [
        {
          "output_type": "execute_result",
          "data": {
            "text/plain": [
              "['Other', 'Other', 'Other']"
            ]
          },
          "metadata": {
            "tags": []
          },
          "execution_count": 193
        }
      ]
    },
    {
      "cell_type": "code",
      "metadata": {
        "id": "bMKr_8rlEs55",
        "colab_type": "code",
        "colab": {}
      },
      "source": [
        "with open(os.path.join('/content', 'attention', 'preprocessed_data', 'restaurant', 'test.txt'), 'w', encoding='utf-8') as f:\n",
        "    f.write('\\n'.join(positive_sents))"
      ],
      "execution_count": 0,
      "outputs": []
    },
    {
      "cell_type": "code",
      "metadata": {
        "id": "M_Bc0SQBKEt-",
        "colab_type": "code",
        "outputId": "232ad09e-850e-4beb-9062-dfb93b8f4e72",
        "colab": {
          "base_uri": "https://localhost:8080/",
          "height": 1000
        }
      },
      "source": [
        "!python evaluation.py --domain restaurant -o output_dir"
      ],
      "execution_count": 0,
      "outputs": [
        {
          "output_type": "stream",
          "text": [
            "Using TensorFlow backend.\n",
            "Reading data from restaurant\n",
            " Creating vocab ...\n",
            "   1291051 total words, 49774 unique words\n",
            "  keep the top 9000 words\n",
            " Reading dataset ...\n",
            "  train set\n",
            "   <num> hit rate: 1.33%, <unk> hit rate: 7.90%\n",
            "  test set\n",
            "   <num> hit rate: 0.00%, <unk> hit rate: 28.57%\n",
            "WARNING:tensorflow:From /usr/local/lib/python3.6/dist-packages/keras/backend/tensorflow_backend.py:517: The name tf.placeholder is deprecated. Please use tf.compat.v1.placeholder instead.\n",
            "\n",
            "WARNING:tensorflow:From /usr/local/lib/python3.6/dist-packages/keras/backend/tensorflow_backend.py:4138: The name tf.random_uniform is deprecated. Please use tf.random.uniform instead.\n",
            "\n",
            "WARNING:tensorflow:From /usr/local/lib/python3.6/dist-packages/keras/backend/tensorflow_backend.py:174: The name tf.get_default_session is deprecated. Please use tf.compat.v1.get_default_session instead.\n",
            "\n",
            "WARNING:tensorflow:From /usr/local/lib/python3.6/dist-packages/keras/backend/tensorflow_backend.py:181: The name tf.ConfigProto is deprecated. Please use tf.compat.v1.ConfigProto instead.\n",
            "\n",
            "WARNING:tensorflow:From /usr/local/lib/python3.6/dist-packages/keras/backend/tensorflow_backend.py:186: The name tf.Session is deprecated. Please use tf.compat.v1.Session instead.\n",
            "\n",
            "2019-12-24 21:38:33.081626: I tensorflow/core/platform/profile_utils/cpu_utils.cc:94] CPU Frequency: 2300000000 Hz\n",
            "2019-12-24 21:38:33.082114: I tensorflow/compiler/xla/service/service.cc:168] XLA service 0x75d9880 initialized for platform Host (this does not guarantee that XLA will be used). Devices:\n",
            "2019-12-24 21:38:33.082170: I tensorflow/compiler/xla/service/service.cc:176]   StreamExecutor device (0): Host, Default Version\n",
            "2019-12-24 21:38:33.084115: I tensorflow/stream_executor/platform/default/dso_loader.cc:44] Successfully opened dynamic library libcuda.so.1\n",
            "2019-12-24 21:38:33.174560: I tensorflow/stream_executor/cuda/cuda_gpu_executor.cc:983] successful NUMA node read from SysFS had negative value (-1), but there must be at least one NUMA node, so returning NUMA node zero\n",
            "2019-12-24 21:38:33.175932: I tensorflow/compiler/xla/service/service.cc:168] XLA service 0x75d9a40 initialized for platform CUDA (this does not guarantee that XLA will be used). Devices:\n",
            "2019-12-24 21:38:33.175965: I tensorflow/compiler/xla/service/service.cc:176]   StreamExecutor device (0): Tesla P100-PCIE-16GB, Compute Capability 6.0\n",
            "2019-12-24 21:38:33.176239: I tensorflow/stream_executor/cuda/cuda_gpu_executor.cc:983] successful NUMA node read from SysFS had negative value (-1), but there must be at least one NUMA node, so returning NUMA node zero\n",
            "2019-12-24 21:38:33.177014: I tensorflow/core/common_runtime/gpu/gpu_device.cc:1618] Found device 0 with properties: \n",
            "name: Tesla P100-PCIE-16GB major: 6 minor: 0 memoryClockRate(GHz): 1.3285\n",
            "pciBusID: 0000:00:04.0\n",
            "2019-12-24 21:38:33.178354: I tensorflow/stream_executor/platform/default/dso_loader.cc:44] Successfully opened dynamic library libcudart.so.10.1\n",
            "2019-12-24 21:38:33.180722: I tensorflow/stream_executor/platform/default/dso_loader.cc:44] Successfully opened dynamic library libcublas.so.10\n",
            "2019-12-24 21:38:33.182646: I tensorflow/stream_executor/platform/default/dso_loader.cc:44] Successfully opened dynamic library libcufft.so.10\n",
            "2019-12-24 21:38:33.183176: I tensorflow/stream_executor/platform/default/dso_loader.cc:44] Successfully opened dynamic library libcurand.so.10\n",
            "2019-12-24 21:38:33.184702: I tensorflow/stream_executor/platform/default/dso_loader.cc:44] Successfully opened dynamic library libcusolver.so.10\n",
            "2019-12-24 21:38:33.185440: I tensorflow/stream_executor/platform/default/dso_loader.cc:44] Successfully opened dynamic library libcusparse.so.10\n",
            "2019-12-24 21:38:33.189019: I tensorflow/stream_executor/platform/default/dso_loader.cc:44] Successfully opened dynamic library libcudnn.so.7\n",
            "2019-12-24 21:38:33.189150: I tensorflow/stream_executor/cuda/cuda_gpu_executor.cc:983] successful NUMA node read from SysFS had negative value (-1), but there must be at least one NUMA node, so returning NUMA node zero\n",
            "2019-12-24 21:38:33.190001: I tensorflow/stream_executor/cuda/cuda_gpu_executor.cc:983] successful NUMA node read from SysFS had negative value (-1), but there must be at least one NUMA node, so returning NUMA node zero\n",
            "2019-12-24 21:38:33.190720: I tensorflow/core/common_runtime/gpu/gpu_device.cc:1746] Adding visible gpu devices: 0\n",
            "2019-12-24 21:38:33.190771: I tensorflow/stream_executor/platform/default/dso_loader.cc:44] Successfully opened dynamic library libcudart.so.10.1\n",
            "2019-12-24 21:38:33.192043: I tensorflow/core/common_runtime/gpu/gpu_device.cc:1159] Device interconnect StreamExecutor with strength 1 edge matrix:\n",
            "2019-12-24 21:38:33.192092: I tensorflow/core/common_runtime/gpu/gpu_device.cc:1165]      0 \n",
            "2019-12-24 21:38:33.192116: I tensorflow/core/common_runtime/gpu/gpu_device.cc:1178] 0:   N \n",
            "2019-12-24 21:38:33.192259: I tensorflow/stream_executor/cuda/cuda_gpu_executor.cc:983] successful NUMA node read from SysFS had negative value (-1), but there must be at least one NUMA node, so returning NUMA node zero\n",
            "2019-12-24 21:38:33.193126: I tensorflow/stream_executor/cuda/cuda_gpu_executor.cc:983] successful NUMA node read from SysFS had negative value (-1), but there must be at least one NUMA node, so returning NUMA node zero\n",
            "2019-12-24 21:38:33.193882: W tensorflow/core/common_runtime/gpu/gpu_bfc_allocator.cc:39] Overriding allow_growth setting because the TF_FORCE_GPU_ALLOW_GROWTH environment variable is set. Original config value was 0.\n",
            "2019-12-24 21:38:33.193949: I tensorflow/core/common_runtime/gpu/gpu_device.cc:1304] Created TensorFlow device (/job:localhost/replica:0/task:0/device:GPU:0 with 12267 MB memory) -> physical GPU (device: 0, name: Tesla P100-PCIE-16GB, pci bus id: 0000:00:04.0, compute capability: 6.0)\n",
            "WARNING:tensorflow:From /usr/local/lib/python3.6/dist-packages/keras/backend/tensorflow_backend.py:190: The name tf.global_variables is deprecated. Please use tf.compat.v1.global_variables instead.\n",
            "\n",
            "WARNING:tensorflow:From /usr/local/lib/python3.6/dist-packages/keras/backend/tensorflow_backend.py:199: The name tf.is_variable_initialized is deprecated. Please use tf.compat.v1.is_variable_initialized instead.\n",
            "\n",
            "WARNING:tensorflow:From /usr/local/lib/python3.6/dist-packages/keras/backend/tensorflow_backend.py:206: The name tf.variables_initializer is deprecated. Please use tf.compat.v1.variables_initializer instead.\n",
            "\n",
            "WARNING:tensorflow:From /usr/local/lib/python3.6/dist-packages/keras/optimizers.py:790: The name tf.train.Optimizer is deprecated. Please use tf.compat.v1.train.Optimizer instead.\n",
            "\n",
            "WARNING:tensorflow:From /usr/local/lib/python3.6/dist-packages/tensorflow_core/python/ops/math_grad.py:1424: where (from tensorflow.python.ops.array_ops) is deprecated and will be removed in a future version.\n",
            "Instructions for updating:\n",
            "Use tf.where in 2.0, which has the same broadcast rule as np.where\n",
            "WARNING:tensorflow:From /usr/local/lib/python3.6/dist-packages/keras/backend/tensorflow_backend.py:986: The name tf.assign_add is deprecated. Please use tf.compat.v1.assign_add instead.\n",
            "\n",
            "WARNING:tensorflow:From /usr/local/lib/python3.6/dist-packages/keras/backend/tensorflow_backend.py:973: The name tf.assign is deprecated. Please use tf.compat.v1.assign instead.\n",
            "\n",
            "WARNING:tensorflow:From /usr/local/lib/python3.6/dist-packages/keras/backend/tensorflow_backend.py:131: The name tf.get_default_graph is deprecated. Please use tf.compat.v1.get_default_graph instead.\n",
            "\n",
            "WARNING:tensorflow:From /usr/local/lib/python3.6/dist-packages/keras/backend/tensorflow_backend.py:133: The name tf.placeholder_with_default is deprecated. Please use tf.compat.v1.placeholder_with_default instead.\n",
            "\n",
            "  0% 0/2 [00:00<?, ?it/s]2019-12-24 21:38:34.959122: E tensorflow/core/grappler/optimizers/dependency_optimizer.cc:697] Iteration = 0, topological sort failed with message: The graph couldn't be sorted in topological order.\n",
            "2019-12-24 21:38:34.959529: E tensorflow/core/grappler/optimizers/dependency_optimizer.cc:697] Iteration = 1, topological sort failed with message: The graph couldn't be sorted in topological order.\n",
            "2019-12-24 21:38:34.959972: E tensorflow/core/grappler/optimizers/meta_optimizer.cc:533] layout failed: Invalid argument: The graph couldn't be sorted in topological order.\n",
            "2019-12-24 21:38:34.960594: E tensorflow/core/grappler/optimizers/meta_optimizer.cc:533] model_pruner failed: Invalid argument: MutableGraphView::MutableGraphView error: node 'att_weights/concat_1' has self cycle fanin 'att_weights/concat_1'.\n",
            "2019-12-24 21:38:34.961526: E tensorflow/core/grappler/optimizers/meta_optimizer.cc:533] remapper failed: Invalid argument: MutableGraphView::MutableGraphView error: node 'att_weights/concat_1' has self cycle fanin 'att_weights/concat_1'.\n",
            "2019-12-24 21:38:34.961702: E tensorflow/core/grappler/optimizers/meta_optimizer.cc:533] arithmetic_optimizer failed: Invalid argument: The graph couldn't be sorted in topological order.\n",
            "2019-12-24 21:38:34.961890: E tensorflow/core/grappler/optimizers/dependency_optimizer.cc:697] Iteration = 0, topological sort failed with message: The graph couldn't be sorted in topological order.\n",
            "2019-12-24 21:38:34.962132: E tensorflow/core/grappler/optimizers/dependency_optimizer.cc:697] Iteration = 1, topological sort failed with message: The graph couldn't be sorted in topological order.\n",
            "2019-12-24 21:38:34.972352: I tensorflow/stream_executor/platform/default/dso_loader.cc:44] Successfully opened dynamic library libcublas.so.10\n",
            "100% 2/2 [00:00<00:00,  6.44it/s]\n",
            "Saving topic weights on test sentences...\n",
            "[[0.08526938 0.03178824 0.05606944 0.08327783 0.07273769 0.04731476\n",
            "  0.04687205 0.06511728 0.09618086 0.10680803 0.07884835 0.08197534\n",
            "  0.07508963 0.07265111]\n",
            " [0.07033484 0.03372642 0.07092761 0.09543887 0.10561225 0.05042366\n",
            "  0.05975098 0.0618782  0.12113296 0.06770997 0.06030244 0.07243786\n",
            "  0.06634112 0.06398283]]\n",
            "Saving attention weights on test sentences...\n",
            "--- Results on restaurant domain ---\n",
            "/usr/local/lib/python3.6/dist-packages/sklearn/metrics/classification.py:1437: UndefinedMetricWarning: Precision and F-score are ill-defined and being set to 0.0 in labels with no predicted samples.\n",
            "  'precision', 'predicted', average, warn_for)\n",
            "/usr/local/lib/python3.6/dist-packages/sklearn/metrics/classification.py:1439: UndefinedMetricWarning: Recall and F-score are ill-defined and being set to 0.0 in labels with no true samples.\n",
            "  'recall', 'true', average, warn_for)\n",
            "              precision    recall  f1-score   support\n",
            "\n",
            "        Food      0.000     0.000     0.000       2.0\n",
            "     Service      0.000     0.000     0.000       0.0\n",
            "       Other      0.000     0.000     0.000       0.0\n",
            "\n",
            "   micro avg      0.000     0.000     0.000       2.0\n",
            "   macro avg      0.000     0.000     0.000       2.0\n",
            "weighted avg      0.000     0.000     0.000       2.0\n",
            "\n"
          ],
          "name": "stdout"
        }
      ]
    },
    {
      "cell_type": "code",
      "metadata": {
        "id": "cHlPzqlIKHsT",
        "colab_type": "code",
        "colab": {}
      },
      "source": [
        "with open('output_dir/restaurant/labels.txt', 'r', encoding='utf-8') as f:\n",
        "    positive_aspect = f.read().split('\\n')"
      ],
      "execution_count": 0,
      "outputs": []
    },
    {
      "cell_type": "code",
      "metadata": {
        "id": "wwPEC6ofyKE8",
        "colab_type": "code",
        "outputId": "e6de721d-f828-4be6-e5c3-ee4c344d06e9",
        "colab": {
          "base_uri": "https://localhost:8080/",
          "height": 34
        }
      },
      "source": [
        "positive_aspect"
      ],
      "execution_count": 0,
      "outputs": [
        {
          "output_type": "execute_result",
          "data": {
            "text/plain": [
              "['Other', 'Other']"
            ]
          },
          "metadata": {
            "tags": []
          },
          "execution_count": 197
        }
      ]
    },
    {
      "cell_type": "markdown",
      "metadata": {
        "id": "ffXl4TdXK5BJ",
        "colab_type": "text"
      },
      "source": [
        "В цикле"
      ]
    },
    {
      "cell_type": "code",
      "metadata": {
        "id": "0KkASFMeMYEa",
        "colab_type": "code",
        "colab": {}
      },
      "source": [
        "with open(os.path.join(drive_prefix, 'parsed_texts.json'), 'r', encoding='utf-8') as f:\n",
        "    dct = json.load(f)\n",
        "    texts = dct['source_texts']"
      ],
      "execution_count": 0,
      "outputs": []
    },
    {
      "cell_type": "code",
      "metadata": {
        "id": "COSdTZoOK4UB",
        "colab_type": "code",
        "outputId": "7d47013d-4f47-4423-81d7-fb667997362c",
        "colab": {
          "base_uri": "https://localhost:8080/",
          "height": 34
        }
      },
      "source": [
        "# negative_asp = []\n",
        "# negative_lemmas = []\n",
        "# negative_sents = []\n",
        "\n",
        "# positive_asp = []\n",
        "# positive_lemmas = []\n",
        "# positive_sents = []\n",
        "\n",
        "# for text in tqdm(texts, total=len(texts)):\n",
        "#     sents, texts_dct, input_sents = find_seqs_and_inds(text)\n",
        "#     for i in range(len(sents)):\n",
        "#         tokens = input_sents[i]\n",
        "\n",
        "#         for negative_index in texts_dct[i]['negative_indices']:\n",
        "#             negative_asp.append(asp(' '.join(sents[i]), negative_index, food_v, service_v))\n",
        "#             negative_sents.append(' '.join(tokens[:min(len(tokens), negative_index[-1]+4)]))\n",
        "#             negative_lemmas.append(' '.join(tokens[index] for index in negative_index))\n",
        "\n",
        "#         for positive_index in texts_dct[i]['positive_indices']:\n",
        "#             positive_asp.append(asp(' '.join(sents[i]), positive_index, food_v, service_v))\n",
        "#             positive_sents.append(' '.join(tokens[max(0, positive_index[0]-3):min(len(tokens), positive_index[-1]+4)]))\n",
        "#             positive_lemmas.append(' '.join(tokens[index] for index in positive_index))"
      ],
      "execution_count": 325,
      "outputs": [
        {
          "output_type": "stream",
          "text": [
            "100%|██████████| 19034/19034 [2:02:28<00:00,  2.71it/s]\n"
          ],
          "name": "stderr"
        }
      ]
    },
    {
      "cell_type": "code",
      "metadata": {
        "id": "ukl8JC3UQBLB",
        "colab_type": "code",
        "colab": {}
      },
      "source": [
        "# with open(os.path.join(drive_prefix, 'saved_tonal_expressions.json'), 'w', encoding='utf-8') as f:\n",
        "#     json.dump({\n",
        "#         'negative_asp': negative_asp,\n",
        "#         'negative_lemmas': negative_lemmas,\n",
        "#         'negative_sents': negative_sents,\n",
        "#         'positive_asp': positive_asp,\n",
        "#         'positive_lemmas': positive_lemmas,\n",
        "#         'positive_sents': positive_sents\n",
        "#     }, f)"
      ],
      "execution_count": 0,
      "outputs": []
    },
    {
      "cell_type": "code",
      "metadata": {
        "id": "FX7HsF31sC8s",
        "colab_type": "code",
        "colab": {}
      },
      "source": [
        "with open(os.path.join(drive_prefix, 'saved_tonal_expressions.json'), 'r', encoding='utf-8') as f:\n",
        "    dct = json.load(f)\n",
        "    negative_asp = dct['negative_asp']\n",
        "    negative_lemmas = dct['negative_lemmas']\n",
        "    negative_sents = dct['negative_sents']\n",
        "    positive_asp = dct['positive_asp']\n",
        "    positive_lemmas = dct['positive_lemmas']\n",
        "    positive_sents = dct['positive_sents']"
      ],
      "execution_count": 0,
      "outputs": []
    },
    {
      "cell_type": "code",
      "metadata": {
        "id": "wKqaU6B9tXsT",
        "colab_type": "code",
        "colab": {}
      },
      "source": [
        "# Чтобы в colab-е tqdm хорошо работала\n",
        "for instance in list(tqdm._instances):\n",
        "    tqdm._decr_instances(instance)"
      ],
      "execution_count": 0,
      "outputs": []
    },
    {
      "cell_type": "code",
      "metadata": {
        "id": "tAMGfXfv2ZzN",
        "colab_type": "code",
        "colab": {
          "base_uri": "https://localhost:8080/",
          "height": 1000
        },
        "outputId": "b43ddc2f-2937-4b9a-c1e5-808cb546318a"
      },
      "source": [
        "# with open(os.path.join('/content', 'attention', 'preprocessed_data', 'restaurant', 'test.txt'), 'w', encoding='utf-8') as f:\n",
        "#     f.write('\\n'.join(negative_sents))\n",
        "# !python evaluation.py --domain restaurant -o output_dir\n",
        "# with open('output_dir/restaurant/labels.txt', 'r', encoding='utf-8') as f:\n",
        "#     negative_aspect = f.read().split('\\n')"
      ],
      "execution_count": 335,
      "outputs": [
        {
          "output_type": "stream",
          "text": [
            "Using TensorFlow backend.\n",
            "Reading data from restaurant\n",
            " Creating vocab ...\n",
            "   1291051 total words, 49774 unique words\n",
            "  keep the top 9000 words\n",
            " Reading dataset ...\n",
            "  train set\n",
            "   <num> hit rate: 1.33%, <unk> hit rate: 7.90%\n",
            "  test set\n",
            "   <num> hit rate: 1.48%, <unk> hit rate: 39.91%\n",
            "WARNING:tensorflow:From /usr/local/lib/python3.6/dist-packages/keras/backend/tensorflow_backend.py:517: The name tf.placeholder is deprecated. Please use tf.compat.v1.placeholder instead.\n",
            "\n",
            "WARNING:tensorflow:From /usr/local/lib/python3.6/dist-packages/keras/backend/tensorflow_backend.py:4138: The name tf.random_uniform is deprecated. Please use tf.random.uniform instead.\n",
            "\n",
            "WARNING:tensorflow:From /usr/local/lib/python3.6/dist-packages/keras/backend/tensorflow_backend.py:174: The name tf.get_default_session is deprecated. Please use tf.compat.v1.get_default_session instead.\n",
            "\n",
            "WARNING:tensorflow:From /usr/local/lib/python3.6/dist-packages/keras/backend/tensorflow_backend.py:181: The name tf.ConfigProto is deprecated. Please use tf.compat.v1.ConfigProto instead.\n",
            "\n",
            "WARNING:tensorflow:From /usr/local/lib/python3.6/dist-packages/keras/backend/tensorflow_backend.py:186: The name tf.Session is deprecated. Please use tf.compat.v1.Session instead.\n",
            "\n",
            "2019-12-25 01:37:59.839967: I tensorflow/core/platform/profile_utils/cpu_utils.cc:94] CPU Frequency: 2300000000 Hz\n",
            "2019-12-25 01:37:59.840353: I tensorflow/compiler/xla/service/service.cc:168] XLA service 0x46e8680 initialized for platform Host (this does not guarantee that XLA will be used). Devices:\n",
            "2019-12-25 01:37:59.840401: I tensorflow/compiler/xla/service/service.cc:176]   StreamExecutor device (0): Host, Default Version\n",
            "2019-12-25 01:37:59.842404: I tensorflow/stream_executor/platform/default/dso_loader.cc:44] Successfully opened dynamic library libcuda.so.1\n",
            "2019-12-25 01:37:59.937486: I tensorflow/stream_executor/cuda/cuda_gpu_executor.cc:983] successful NUMA node read from SysFS had negative value (-1), but there must be at least one NUMA node, so returning NUMA node zero\n",
            "2019-12-25 01:37:59.938428: I tensorflow/compiler/xla/service/service.cc:168] XLA service 0x46e9640 initialized for platform CUDA (this does not guarantee that XLA will be used). Devices:\n",
            "2019-12-25 01:37:59.938468: I tensorflow/compiler/xla/service/service.cc:176]   StreamExecutor device (0): Tesla P100-PCIE-16GB, Compute Capability 6.0\n",
            "2019-12-25 01:37:59.938655: I tensorflow/stream_executor/cuda/cuda_gpu_executor.cc:983] successful NUMA node read from SysFS had negative value (-1), but there must be at least one NUMA node, so returning NUMA node zero\n",
            "2019-12-25 01:37:59.939368: I tensorflow/core/common_runtime/gpu/gpu_device.cc:1618] Found device 0 with properties: \n",
            "name: Tesla P100-PCIE-16GB major: 6 minor: 0 memoryClockRate(GHz): 1.3285\n",
            "pciBusID: 0000:00:04.0\n",
            "2019-12-25 01:37:59.939702: I tensorflow/stream_executor/platform/default/dso_loader.cc:44] Successfully opened dynamic library libcudart.so.10.1\n",
            "2019-12-25 01:37:59.941580: I tensorflow/stream_executor/platform/default/dso_loader.cc:44] Successfully opened dynamic library libcublas.so.10\n",
            "2019-12-25 01:37:59.943188: I tensorflow/stream_executor/platform/default/dso_loader.cc:44] Successfully opened dynamic library libcufft.so.10\n",
            "2019-12-25 01:37:59.943589: I tensorflow/stream_executor/platform/default/dso_loader.cc:44] Successfully opened dynamic library libcurand.so.10\n",
            "2019-12-25 01:37:59.945576: I tensorflow/stream_executor/platform/default/dso_loader.cc:44] Successfully opened dynamic library libcusolver.so.10\n",
            "2019-12-25 01:37:59.946482: I tensorflow/stream_executor/platform/default/dso_loader.cc:44] Successfully opened dynamic library libcusparse.so.10\n",
            "2019-12-25 01:37:59.949830: I tensorflow/stream_executor/platform/default/dso_loader.cc:44] Successfully opened dynamic library libcudnn.so.7\n",
            "2019-12-25 01:37:59.949945: I tensorflow/stream_executor/cuda/cuda_gpu_executor.cc:983] successful NUMA node read from SysFS had negative value (-1), but there must be at least one NUMA node, so returning NUMA node zero\n",
            "2019-12-25 01:37:59.950645: I tensorflow/stream_executor/cuda/cuda_gpu_executor.cc:983] successful NUMA node read from SysFS had negative value (-1), but there must be at least one NUMA node, so returning NUMA node zero\n",
            "2019-12-25 01:37:59.951282: I tensorflow/core/common_runtime/gpu/gpu_device.cc:1746] Adding visible gpu devices: 0\n",
            "2019-12-25 01:37:59.951350: I tensorflow/stream_executor/platform/default/dso_loader.cc:44] Successfully opened dynamic library libcudart.so.10.1\n",
            "2019-12-25 01:37:59.952670: I tensorflow/core/common_runtime/gpu/gpu_device.cc:1159] Device interconnect StreamExecutor with strength 1 edge matrix:\n",
            "2019-12-25 01:37:59.952699: I tensorflow/core/common_runtime/gpu/gpu_device.cc:1165]      0 \n",
            "2019-12-25 01:37:59.952709: I tensorflow/core/common_runtime/gpu/gpu_device.cc:1178] 0:   N \n",
            "2019-12-25 01:37:59.952829: I tensorflow/stream_executor/cuda/cuda_gpu_executor.cc:983] successful NUMA node read from SysFS had negative value (-1), but there must be at least one NUMA node, so returning NUMA node zero\n",
            "2019-12-25 01:37:59.953551: I tensorflow/stream_executor/cuda/cuda_gpu_executor.cc:983] successful NUMA node read from SysFS had negative value (-1), but there must be at least one NUMA node, so returning NUMA node zero\n",
            "2019-12-25 01:37:59.954323: W tensorflow/core/common_runtime/gpu/gpu_bfc_allocator.cc:39] Overriding allow_growth setting because the TF_FORCE_GPU_ALLOW_GROWTH environment variable is set. Original config value was 0.\n",
            "2019-12-25 01:37:59.954366: I tensorflow/core/common_runtime/gpu/gpu_device.cc:1304] Created TensorFlow device (/job:localhost/replica:0/task:0/device:GPU:0 with 12267 MB memory) -> physical GPU (device: 0, name: Tesla P100-PCIE-16GB, pci bus id: 0000:00:04.0, compute capability: 6.0)\n",
            "WARNING:tensorflow:From /usr/local/lib/python3.6/dist-packages/keras/backend/tensorflow_backend.py:190: The name tf.global_variables is deprecated. Please use tf.compat.v1.global_variables instead.\n",
            "\n",
            "WARNING:tensorflow:From /usr/local/lib/python3.6/dist-packages/keras/backend/tensorflow_backend.py:199: The name tf.is_variable_initialized is deprecated. Please use tf.compat.v1.is_variable_initialized instead.\n",
            "\n",
            "WARNING:tensorflow:From /usr/local/lib/python3.6/dist-packages/keras/backend/tensorflow_backend.py:206: The name tf.variables_initializer is deprecated. Please use tf.compat.v1.variables_initializer instead.\n",
            "\n",
            "WARNING:tensorflow:From /usr/local/lib/python3.6/dist-packages/keras/optimizers.py:790: The name tf.train.Optimizer is deprecated. Please use tf.compat.v1.train.Optimizer instead.\n",
            "\n",
            "WARNING:tensorflow:From /usr/local/lib/python3.6/dist-packages/tensorflow_core/python/ops/math_grad.py:1424: where (from tensorflow.python.ops.array_ops) is deprecated and will be removed in a future version.\n",
            "Instructions for updating:\n",
            "Use tf.where in 2.0, which has the same broadcast rule as np.where\n",
            "WARNING:tensorflow:From /usr/local/lib/python3.6/dist-packages/keras/backend/tensorflow_backend.py:986: The name tf.assign_add is deprecated. Please use tf.compat.v1.assign_add instead.\n",
            "\n",
            "WARNING:tensorflow:From /usr/local/lib/python3.6/dist-packages/keras/backend/tensorflow_backend.py:973: The name tf.assign is deprecated. Please use tf.compat.v1.assign instead.\n",
            "\n",
            "WARNING:tensorflow:From /usr/local/lib/python3.6/dist-packages/keras/backend/tensorflow_backend.py:131: The name tf.get_default_graph is deprecated. Please use tf.compat.v1.get_default_graph instead.\n",
            "\n",
            "WARNING:tensorflow:From /usr/local/lib/python3.6/dist-packages/keras/backend/tensorflow_backend.py:133: The name tf.placeholder_with_default is deprecated. Please use tf.compat.v1.placeholder_with_default instead.\n",
            "\n",
            "  0% 0/12727 [00:00<?, ?it/s]2019-12-25 01:38:01.592171: E tensorflow/core/grappler/optimizers/dependency_optimizer.cc:697] Iteration = 0, topological sort failed with message: The graph couldn't be sorted in topological order.\n",
            "2019-12-25 01:38:01.592581: E tensorflow/core/grappler/optimizers/dependency_optimizer.cc:697] Iteration = 1, topological sort failed with message: The graph couldn't be sorted in topological order.\n",
            "2019-12-25 01:38:01.593063: E tensorflow/core/grappler/optimizers/meta_optimizer.cc:533] layout failed: Invalid argument: The graph couldn't be sorted in topological order.\n",
            "2019-12-25 01:38:01.593705: E tensorflow/core/grappler/optimizers/meta_optimizer.cc:533] model_pruner failed: Invalid argument: MutableGraphView::MutableGraphView error: node 'att_weights/concat_1' has self cycle fanin 'att_weights/concat_1'.\n",
            "2019-12-25 01:38:01.594666: E tensorflow/core/grappler/optimizers/meta_optimizer.cc:533] remapper failed: Invalid argument: MutableGraphView::MutableGraphView error: node 'att_weights/concat_1' has self cycle fanin 'att_weights/concat_1'.\n",
            "2019-12-25 01:38:01.594916: E tensorflow/core/grappler/optimizers/meta_optimizer.cc:533] arithmetic_optimizer failed: Invalid argument: The graph couldn't be sorted in topological order.\n",
            "2019-12-25 01:38:01.595188: E tensorflow/core/grappler/optimizers/dependency_optimizer.cc:697] Iteration = 0, topological sort failed with message: The graph couldn't be sorted in topological order.\n",
            "2019-12-25 01:38:01.595453: E tensorflow/core/grappler/optimizers/dependency_optimizer.cc:697] Iteration = 1, topological sort failed with message: The graph couldn't be sorted in topological order.\n",
            "2019-12-25 01:38:01.607000: I tensorflow/stream_executor/platform/default/dso_loader.cc:44] Successfully opened dynamic library libcublas.so.10\n",
            "100% 12727/12727 [00:17<00:00, 745.98it/s]\n",
            "Saving topic weights on test sentences...\n",
            "[[0.05798787 0.08123048 0.05184604 ... 0.09063236 0.0823773  0.06524188]\n",
            " [0.05987933 0.08221224 0.05258015 ... 0.09053352 0.08147756 0.06444705]\n",
            " [0.06101049 0.08204394 0.0532933  ... 0.09028035 0.08128171 0.06406082]\n",
            " ...\n",
            " [0.0656153  0.03084786 0.04533147 ... 0.05562856 0.08249709 0.05752393]\n",
            " [0.07116944 0.04890522 0.07540128 ... 0.05976104 0.07769089 0.08991043]\n",
            " [0.07348318 0.04131909 0.08288854 ... 0.07229532 0.0668378  0.06566095]]\n",
            "Saving attention weights on test sentences...\n",
            "--- Results on restaurant domain ---\n",
            "/usr/local/lib/python3.6/dist-packages/sklearn/metrics/classification.py:1439: UndefinedMetricWarning: Recall and F-score are ill-defined and being set to 0.0 in labels with no true samples.\n",
            "  'recall', 'true', average, warn_for)\n",
            "              precision    recall  f1-score   support\n",
            "\n",
            "        Food      1.000     0.264     0.418    407262\n",
            "     Service      0.000     0.000     0.000         0\n",
            "       Other      0.000     0.000     0.000         0\n",
            "\n",
            "    accuracy                          0.264    407262\n",
            "   macro avg      0.333     0.088     0.139    407262\n",
            "weighted avg      1.000     0.264     0.418    407262\n",
            "\n"
          ],
          "name": "stdout"
        }
      ]
    },
    {
      "cell_type": "code",
      "metadata": {
        "id": "lS_Qi-qvYJAk",
        "colab_type": "code",
        "colab": {
          "base_uri": "https://localhost:8080/",
          "height": 1000
        },
        "outputId": "f2a55166-d854-47a7-db6d-c06e3efa4c44"
      },
      "source": [
        "# with open(os.path.join('/content', 'attention', 'preprocessed_data', 'restaurant', 'test.txt'), 'w', encoding='utf-8') as f:\n",
        "#     f.write('\\n'.join(positive_sents))\n",
        "# !python evaluation.py --domain restaurant -o output_dir\n",
        "# with open('output_dir/restaurant/labels.txt', 'r', encoding='utf-8') as f:\n",
        "#     positive_aspect = f.read().split('\\n')"
      ],
      "execution_count": 341,
      "outputs": [
        {
          "output_type": "stream",
          "text": [
            "Using TensorFlow backend.\n",
            "Reading data from restaurant\n",
            " Creating vocab ...\n",
            "   1291051 total words, 49774 unique words\n",
            "  keep the top 9000 words\n",
            " Reading dataset ...\n",
            "  train set\n",
            "   <num> hit rate: 1.33%, <unk> hit rate: 7.90%\n",
            "  test set\n",
            "   <num> hit rate: 1.46%, <unk> hit rate: 37.41%\n",
            "WARNING:tensorflow:From /usr/local/lib/python3.6/dist-packages/keras/backend/tensorflow_backend.py:517: The name tf.placeholder is deprecated. Please use tf.compat.v1.placeholder instead.\n",
            "\n",
            "WARNING:tensorflow:From /usr/local/lib/python3.6/dist-packages/keras/backend/tensorflow_backend.py:4138: The name tf.random_uniform is deprecated. Please use tf.random.uniform instead.\n",
            "\n",
            "WARNING:tensorflow:From /usr/local/lib/python3.6/dist-packages/keras/backend/tensorflow_backend.py:174: The name tf.get_default_session is deprecated. Please use tf.compat.v1.get_default_session instead.\n",
            "\n",
            "WARNING:tensorflow:From /usr/local/lib/python3.6/dist-packages/keras/backend/tensorflow_backend.py:181: The name tf.ConfigProto is deprecated. Please use tf.compat.v1.ConfigProto instead.\n",
            "\n",
            "WARNING:tensorflow:From /usr/local/lib/python3.6/dist-packages/keras/backend/tensorflow_backend.py:186: The name tf.Session is deprecated. Please use tf.compat.v1.Session instead.\n",
            "\n",
            "2019-12-25 01:44:17.804423: I tensorflow/core/platform/profile_utils/cpu_utils.cc:94] CPU Frequency: 2300000000 Hz\n",
            "2019-12-25 01:44:17.804745: I tensorflow/compiler/xla/service/service.cc:168] XLA service 0x2561b880 initialized for platform Host (this does not guarantee that XLA will be used). Devices:\n",
            "2019-12-25 01:44:17.804778: I tensorflow/compiler/xla/service/service.cc:176]   StreamExecutor device (0): Host, Default Version\n",
            "2019-12-25 01:44:17.806874: I tensorflow/stream_executor/platform/default/dso_loader.cc:44] Successfully opened dynamic library libcuda.so.1\n",
            "2019-12-25 01:44:17.902765: I tensorflow/stream_executor/cuda/cuda_gpu_executor.cc:983] successful NUMA node read from SysFS had negative value (-1), but there must be at least one NUMA node, so returning NUMA node zero\n",
            "2019-12-25 01:44:17.903956: I tensorflow/compiler/xla/service/service.cc:168] XLA service 0x2561ba40 initialized for platform CUDA (this does not guarantee that XLA will be used). Devices:\n",
            "2019-12-25 01:44:17.903995: I tensorflow/compiler/xla/service/service.cc:176]   StreamExecutor device (0): Tesla P100-PCIE-16GB, Compute Capability 6.0\n",
            "2019-12-25 01:44:17.904217: I tensorflow/stream_executor/cuda/cuda_gpu_executor.cc:983] successful NUMA node read from SysFS had negative value (-1), but there must be at least one NUMA node, so returning NUMA node zero\n",
            "2019-12-25 01:44:17.904948: I tensorflow/core/common_runtime/gpu/gpu_device.cc:1618] Found device 0 with properties: \n",
            "name: Tesla P100-PCIE-16GB major: 6 minor: 0 memoryClockRate(GHz): 1.3285\n",
            "pciBusID: 0000:00:04.0\n",
            "2019-12-25 01:44:17.905423: I tensorflow/stream_executor/platform/default/dso_loader.cc:44] Successfully opened dynamic library libcudart.so.10.1\n",
            "2019-12-25 01:44:17.907497: I tensorflow/stream_executor/platform/default/dso_loader.cc:44] Successfully opened dynamic library libcublas.so.10\n",
            "2019-12-25 01:44:17.910702: I tensorflow/stream_executor/platform/default/dso_loader.cc:44] Successfully opened dynamic library libcufft.so.10\n",
            "2019-12-25 01:44:17.912004: I tensorflow/stream_executor/platform/default/dso_loader.cc:44] Successfully opened dynamic library libcurand.so.10\n",
            "2019-12-25 01:44:17.914786: I tensorflow/stream_executor/platform/default/dso_loader.cc:44] Successfully opened dynamic library libcusolver.so.10\n",
            "2019-12-25 01:44:17.916191: I tensorflow/stream_executor/platform/default/dso_loader.cc:44] Successfully opened dynamic library libcusparse.so.10\n",
            "2019-12-25 01:44:17.922011: I tensorflow/stream_executor/platform/default/dso_loader.cc:44] Successfully opened dynamic library libcudnn.so.7\n",
            "2019-12-25 01:44:17.922173: I tensorflow/stream_executor/cuda/cuda_gpu_executor.cc:983] successful NUMA node read from SysFS had negative value (-1), but there must be at least one NUMA node, so returning NUMA node zero\n",
            "2019-12-25 01:44:17.922962: I tensorflow/stream_executor/cuda/cuda_gpu_executor.cc:983] successful NUMA node read from SysFS had negative value (-1), but there must be at least one NUMA node, so returning NUMA node zero\n",
            "2019-12-25 01:44:17.923754: I tensorflow/core/common_runtime/gpu/gpu_device.cc:1746] Adding visible gpu devices: 0\n",
            "2019-12-25 01:44:17.923816: I tensorflow/stream_executor/platform/default/dso_loader.cc:44] Successfully opened dynamic library libcudart.so.10.1\n",
            "2019-12-25 01:44:17.925352: I tensorflow/core/common_runtime/gpu/gpu_device.cc:1159] Device interconnect StreamExecutor with strength 1 edge matrix:\n",
            "2019-12-25 01:44:17.925381: I tensorflow/core/common_runtime/gpu/gpu_device.cc:1165]      0 \n",
            "2019-12-25 01:44:17.925394: I tensorflow/core/common_runtime/gpu/gpu_device.cc:1178] 0:   N \n",
            "2019-12-25 01:44:17.925548: I tensorflow/stream_executor/cuda/cuda_gpu_executor.cc:983] successful NUMA node read from SysFS had negative value (-1), but there must be at least one NUMA node, so returning NUMA node zero\n",
            "2019-12-25 01:44:17.926370: I tensorflow/stream_executor/cuda/cuda_gpu_executor.cc:983] successful NUMA node read from SysFS had negative value (-1), but there must be at least one NUMA node, so returning NUMA node zero\n",
            "2019-12-25 01:44:17.927158: W tensorflow/core/common_runtime/gpu/gpu_bfc_allocator.cc:39] Overriding allow_growth setting because the TF_FORCE_GPU_ALLOW_GROWTH environment variable is set. Original config value was 0.\n",
            "2019-12-25 01:44:17.927209: I tensorflow/core/common_runtime/gpu/gpu_device.cc:1304] Created TensorFlow device (/job:localhost/replica:0/task:0/device:GPU:0 with 12267 MB memory) -> physical GPU (device: 0, name: Tesla P100-PCIE-16GB, pci bus id: 0000:00:04.0, compute capability: 6.0)\n",
            "WARNING:tensorflow:From /usr/local/lib/python3.6/dist-packages/keras/backend/tensorflow_backend.py:190: The name tf.global_variables is deprecated. Please use tf.compat.v1.global_variables instead.\n",
            "\n",
            "WARNING:tensorflow:From /usr/local/lib/python3.6/dist-packages/keras/backend/tensorflow_backend.py:199: The name tf.is_variable_initialized is deprecated. Please use tf.compat.v1.is_variable_initialized instead.\n",
            "\n",
            "WARNING:tensorflow:From /usr/local/lib/python3.6/dist-packages/keras/backend/tensorflow_backend.py:206: The name tf.variables_initializer is deprecated. Please use tf.compat.v1.variables_initializer instead.\n",
            "\n",
            "WARNING:tensorflow:From /usr/local/lib/python3.6/dist-packages/keras/optimizers.py:790: The name tf.train.Optimizer is deprecated. Please use tf.compat.v1.train.Optimizer instead.\n",
            "\n",
            "WARNING:tensorflow:From /usr/local/lib/python3.6/dist-packages/tensorflow_core/python/ops/math_grad.py:1424: where (from tensorflow.python.ops.array_ops) is deprecated and will be removed in a future version.\n",
            "Instructions for updating:\n",
            "Use tf.where in 2.0, which has the same broadcast rule as np.where\n",
            "WARNING:tensorflow:From /usr/local/lib/python3.6/dist-packages/keras/backend/tensorflow_backend.py:986: The name tf.assign_add is deprecated. Please use tf.compat.v1.assign_add instead.\n",
            "\n",
            "WARNING:tensorflow:From /usr/local/lib/python3.6/dist-packages/keras/backend/tensorflow_backend.py:973: The name tf.assign is deprecated. Please use tf.compat.v1.assign instead.\n",
            "\n",
            "WARNING:tensorflow:From /usr/local/lib/python3.6/dist-packages/keras/backend/tensorflow_backend.py:131: The name tf.get_default_graph is deprecated. Please use tf.compat.v1.get_default_graph instead.\n",
            "\n",
            "WARNING:tensorflow:From /usr/local/lib/python3.6/dist-packages/keras/backend/tensorflow_backend.py:133: The name tf.placeholder_with_default is deprecated. Please use tf.compat.v1.placeholder_with_default instead.\n",
            "\n",
            "  0% 0/15101 [00:00<?, ?it/s]2019-12-25 01:44:19.605912: E tensorflow/core/grappler/optimizers/dependency_optimizer.cc:697] Iteration = 0, topological sort failed with message: The graph couldn't be sorted in topological order.\n",
            "2019-12-25 01:44:19.606345: E tensorflow/core/grappler/optimizers/dependency_optimizer.cc:697] Iteration = 1, topological sort failed with message: The graph couldn't be sorted in topological order.\n",
            "2019-12-25 01:44:19.606734: E tensorflow/core/grappler/optimizers/meta_optimizer.cc:533] layout failed: Invalid argument: The graph couldn't be sorted in topological order.\n",
            "2019-12-25 01:44:19.607387: E tensorflow/core/grappler/optimizers/meta_optimizer.cc:533] model_pruner failed: Invalid argument: MutableGraphView::MutableGraphView error: node 'att_weights/concat_1' has self cycle fanin 'att_weights/concat_1'.\n",
            "2019-12-25 01:44:19.608404: E tensorflow/core/grappler/optimizers/meta_optimizer.cc:533] remapper failed: Invalid argument: MutableGraphView::MutableGraphView error: node 'att_weights/concat_1' has self cycle fanin 'att_weights/concat_1'.\n",
            "2019-12-25 01:44:19.608653: E tensorflow/core/grappler/optimizers/meta_optimizer.cc:533] arithmetic_optimizer failed: Invalid argument: The graph couldn't be sorted in topological order.\n",
            "2019-12-25 01:44:19.608902: E tensorflow/core/grappler/optimizers/dependency_optimizer.cc:697] Iteration = 0, topological sort failed with message: The graph couldn't be sorted in topological order.\n",
            "2019-12-25 01:44:19.609202: E tensorflow/core/grappler/optimizers/dependency_optimizer.cc:697] Iteration = 1, topological sort failed with message: The graph couldn't be sorted in topological order.\n",
            "2019-12-25 01:44:19.620464: I tensorflow/stream_executor/platform/default/dso_loader.cc:44] Successfully opened dynamic library libcublas.so.10\n",
            "100% 15101/15101 [00:19<00:00, 780.68it/s]\n",
            "Saving topic weights on test sentences...\n",
            "[[0.05322152 0.09002393 0.04602489 ... 0.09361184 0.07951719 0.06597608]\n",
            " [0.05798788 0.08123048 0.05184604 ... 0.09063237 0.0823773  0.06524188]\n",
            " [0.05322152 0.09002393 0.04602489 ... 0.09361184 0.07951719 0.06597608]\n",
            " ...\n",
            " [0.10091812 0.04285006 0.08371591 ... 0.068418   0.05821173 0.04897234]\n",
            " [0.05258506 0.04581298 0.05444804 ... 0.06901192 0.06449362 0.07319506]\n",
            " [0.04324129 0.0721699  0.06680003 ... 0.08435372 0.04322206 0.07244039]]\n",
            "Saving attention weights on test sentences...\n",
            "--- Results on restaurant domain ---\n",
            "/usr/local/lib/python3.6/dist-packages/sklearn/metrics/classification.py:1439: UndefinedMetricWarning: Recall and F-score are ill-defined and being set to 0.0 in labels with no true samples.\n",
            "  'recall', 'true', average, warn_for)\n",
            "              precision    recall  f1-score   support\n",
            "\n",
            "        Food      1.000     0.256     0.407    483218\n",
            "     Service      0.000     0.000     0.000         0\n",
            "       Other      0.000     0.000     0.000         0\n",
            "\n",
            "    accuracy                          0.256    483218\n",
            "   macro avg      0.333     0.085     0.136    483218\n",
            "weighted avg      1.000     0.256     0.407    483218\n",
            "\n"
          ],
          "name": "stdout"
        }
      ]
    },
    {
      "cell_type": "code",
      "metadata": {
        "id": "25PT7a1es8QK",
        "colab_type": "code",
        "colab": {}
      },
      "source": [
        "# with open(os.path.join(drive_prefix, 'saved_tonal_expressions_2.json'), 'w', encoding='utf-8') as f:\n",
        "#     json.dump({\n",
        "#         'negative_aspect': negative_aspect,\n",
        "#         'positive_aspect': positive_aspect\n",
        "#     }, f)"
      ],
      "execution_count": 0,
      "outputs": []
    },
    {
      "cell_type": "code",
      "metadata": {
        "id": "1Zdh7UtruyeU",
        "colab_type": "code",
        "colab": {}
      },
      "source": [
        "with open(os.path.join(drive_prefix, 'saved_tonal_expressions_2.json'), 'r', encoding='utf-8') as f:\n",
        "    dct = json.load(f)\n",
        "    negative_aspect = dct['negative_aspect']\n",
        "    positive_aspect = dct['positive_aspect']"
      ],
      "execution_count": 0,
      "outputs": []
    },
    {
      "cell_type": "code",
      "metadata": {
        "id": "z7C4TAhMv4xy",
        "colab_type": "code",
        "colab": {}
      },
      "source": [
        "num_food_2 = 0\n",
        "num_food_1 = 0\n",
        "positive_food = []\n",
        "negative_food = []\n",
        "positive_service = []\n",
        "negative_service = []\n",
        "for i, (asp, aspect) in enumerate(zip(positive_asp, positive_aspect)):\n",
        "    if asp == 'Food' and aspect == 'Food':\n",
        "        positive_food.append(positive_lemmas[i])\n",
        "    elif asp == 'Service' and aspect == 'Service':\n",
        "        positive_service.append(positive_lemmas[i])\n",
        "for i, (asp, aspect) in enumerate(zip(negative_asp, negative_aspect)):\n",
        "    if asp == 'Food' and aspect == 'Food':\n",
        "        negative_food.append(negative_lemmas[i])\n",
        "    elif asp == 'Service' and aspect == 'Service':\n",
        "        negative_service.append(negative_lemmas[i])"
      ],
      "execution_count": 0,
      "outputs": []
    },
    {
      "cell_type": "code",
      "metadata": {
        "id": "bm5JwPZDwL-G",
        "colab_type": "code",
        "colab": {
          "base_uri": "https://localhost:8080/",
          "height": 50
        },
        "outputId": "05e47b52-7a4f-4302-9399-f023e4504234"
      },
      "source": [
        "print('food:', len(positive_food), len(negative_food))\n",
        "print('service:', len(positive_service), len(negative_service))"
      ],
      "execution_count": 367,
      "outputs": [
        {
          "output_type": "stream",
          "text": [
            "food: 86906 74590\n",
            "service: 12145 9422\n"
          ],
          "name": "stdout"
        }
      ]
    },
    {
      "cell_type": "code",
      "metadata": {
        "id": "EDg1LLQ01ggf",
        "colab_type": "code",
        "colab": {}
      },
      "source": [
        "N = 3\n",
        "positive_food = [elem for elem in positive_food if len(elem.split()) > N]\n",
        "negative_food = [elem for elem in negative_food if len(elem.split()) > N]\n",
        "positive_service = [elem for elem in positive_service if len(elem.split()) > N]\n",
        "negative_service = [elem for elem in negative_service if len(elem.split()) > N]"
      ],
      "execution_count": 0,
      "outputs": []
    },
    {
      "cell_type": "code",
      "metadata": {
        "id": "v6j0PgMx2dHD",
        "colab_type": "code",
        "colab": {
          "base_uri": "https://localhost:8080/",
          "height": 50
        },
        "outputId": "2f5a6e30-c58e-4518-ef23-67f94a6f857a"
      },
      "source": [
        "print('food:', len(positive_food), len(negative_food))\n",
        "print('service:', len(positive_service), len(negative_service))"
      ],
      "execution_count": 382,
      "outputs": [
        {
          "output_type": "stream",
          "text": [
            "food: 23238 8721\n",
            "service: 3445 1241\n"
          ],
          "name": "stdout"
        }
      ]
    },
    {
      "cell_type": "code",
      "metadata": {
        "id": "q-ntN3rpwirF",
        "colab_type": "code",
        "colab": {}
      },
      "source": [
        "with open(os.path.join(drive_prefix, 'results.csv'), 'w', newline='') as f:\n",
        "    for food in positive_food:\n",
        "        f.write('\\t'.join(['Food', food, '1']) + '\\n')\n",
        "    for food in negative_food:\n",
        "        f.write('\\t'.join(['Food', food, '0']) + '\\n')\n",
        "    for service in positive_service:\n",
        "        f.write('\\t'.join(['Service', service, '1']) + '\\n')\n",
        "    for service in negative_service:\n",
        "        f.write('\\t'.join(['Service', service, '0']) + '\\n')"
      ],
      "execution_count": 0,
      "outputs": []
    },
    {
      "cell_type": "code",
      "metadata": {
        "id": "ZlpTsFOJz-bS",
        "colab_type": "code",
        "colab": {
          "base_uri": "https://localhost:8080/",
          "height": 185
        },
        "outputId": "081405e5-abd4-406d-aef8-8610fee1eb77"
      },
      "source": [
        "import random\n",
        "random.sample(positive_food, 10)"
      ],
      "execution_count": 386,
      "outputs": [
        {
          "output_type": "execute_result",
          "data": {
            "text/plain": [
              "['тыква соус белых грибов пальчик облизать',\n",
              " 'горький шоколад каштан целиком',\n",
              " 'еда качественный домашний слово объедение',\n",
              " 'идти сливовый столовый 3 литр',\n",
              " 'мясо очень вкусный мягкий',\n",
              " 'основный меню понравиться рыба',\n",
              " 'эногастрономический бутик хороший выбор стартер',\n",
              " 'красивый судить скорость уничтожение',\n",
              " 'профитролина внутри мороженое полить горячее шоколад',\n",
              " 'паста трюфельный соус очень вкусно десерт']"
            ]
          },
          "metadata": {
            "tags": []
          },
          "execution_count": 386
        }
      ]
    },
    {
      "cell_type": "code",
      "metadata": {
        "id": "LF8JQcBq26Bj",
        "colab_type": "code",
        "colab": {
          "base_uri": "https://localhost:8080/",
          "height": 185
        },
        "outputId": "1e751f30-78c3-4fe0-e09d-3ec939b5af31"
      },
      "source": [
        "random.sample(negative_food, 10)"
      ],
      "execution_count": 387,
      "outputs": [
        {
          "output_type": "execute_result",
          "data": {
            "text/plain": [
              "['филе цыплёнок тайский маринад зелёный фасоль',\n",
              " 'это бармен найти печальный опыт',\n",
              " 'москва бездарный кухня мочь',\n",
              " 'оля хамон свиной полоска',\n",
              " 'приносить вино бокал брачок',\n",
              " 'лимонный действительно очень кислый тирамис',\n",
              " 'вкус средний творожный запеканка морковный',\n",
              " 'фрукт икра весь алкоголь весь алкогольный напиток',\n",
              " 'бутылка выпить вдвоём физически',\n",
              " 'ребёнок уронить бокал морс мама']"
            ]
          },
          "metadata": {
            "tags": []
          },
          "execution_count": 387
        }
      ]
    },
    {
      "cell_type": "code",
      "metadata": {
        "id": "bCNSjQan3G6a",
        "colab_type": "code",
        "colab": {
          "base_uri": "https://localhost:8080/",
          "height": 185
        },
        "outputId": "18c0ee25-a486-45a1-f6c3-c1d79e3cd9a6"
      },
      "source": [
        "random.sample(positive_service, 10)"
      ],
      "execution_count": 388,
      "outputs": [
        {
          "output_type": "execute_result",
          "data": {
            "text/plain": [
              "['персонал приветливый ряд готовый выполнить',\n",
              " 'опасность самый дальний зал',\n",
              " 'официант практически незаметный оказываться',\n",
              " 'персонал исключение официантка остальной настолько',\n",
              " 'администратор извиниться далёкий весь достаточно оперативно',\n",
              " 'особенно порадовать девушка вход',\n",
              " 'официант весь растащить особо никуда',\n",
              " 'встречать вход проводить стол',\n",
              " 'обслужить достаточно быстро официантка особо',\n",
              " 'сотрудник очень вежливый милый']"
            ]
          },
          "metadata": {
            "tags": []
          },
          "execution_count": 388
        }
      ]
    },
    {
      "cell_type": "code",
      "metadata": {
        "id": "t-z1QNQ33M79",
        "colab_type": "code",
        "colab": {
          "base_uri": "https://localhost:8080/",
          "height": 185
        },
        "outputId": "aa552177-21f1-4e9f-e64e-b017a06aa498"
      },
      "source": [
        "random.sample(negative_service, 10)"
      ],
      "execution_count": 389,
      "outputs": [
        {
          "output_type": "execute_result",
          "data": {
            "text/plain": [
              "['обслуживание хы хы хы бармен',\n",
              " 'увернуться бокал официантка поведать ситуация происходить',\n",
              " 'обслуживание нормальный поменяться мелочь частота смена пепельница',\n",
              " 'официантка нормальный бармен коля сережа',\n",
              " 'крайне неприятный впечатление персонал',\n",
              " 'сервис работать кухня подтянуть',\n",
              " 'попить кофе свободный место промежуточный счёт это',\n",
              " 'молодая человек сожаление имя узнать',\n",
              " 'вежливый сказать 15 минута',\n",
              " 'запах предложить пересесть комфортный']"
            ]
          },
          "metadata": {
            "tags": []
          },
          "execution_count": 389
        }
      ]
    }
  ]
}