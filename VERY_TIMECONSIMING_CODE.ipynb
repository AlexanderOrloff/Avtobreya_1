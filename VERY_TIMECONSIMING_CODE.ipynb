{
  "nbformat": 4,
  "nbformat_minor": 0,
  "metadata": {
    "colab": {
      "name": "VERY TIMECONSIMING CODE.ipynb",
      "provenance": [],
      "collapsed_sections": [
        "wBSsKXtH9285",
        "nyu4EfyC5vt1",
        "MeSp_kWKO2Y9",
        "JDW1Y8FQIkx5",
        "kP179r_-lkuZ",
        "DdSviAKSde4h",
        "HLTAhVEGM5k-"
      ],
      "toc_visible": true,
      "machine_shape": "hm"
    },
    "kernelspec": {
      "name": "python3",
      "display_name": "Python 3"
    },
    "accelerator": "GPU"
  },
  "cells": [
    {
      "cell_type": "code",
      "metadata": {
        "id": "tAsXuV15yf7p",
        "colab_type": "code",
        "outputId": "610d37d0-a554-44eb-ac84-b766b7b1e5f8",
        "colab": {
          "base_uri": "https://localhost:8080/",
          "height": 121
        }
      },
      "source": [
        "from google.colab import drive\n",
        "drive.mount(\"/content/drive\", force_remount=True)\n",
        "drive_prefix = '/content/drive/My Drive/'"
      ],
      "execution_count": 0,
      "outputs": [
        {
          "output_type": "stream",
          "text": [
            "Go to this URL in a browser: https://accounts.google.com/o/oauth2/auth?client_id=947318989803-6bn6qk8qdgf4n4g3pfee6491hc0brc4i.apps.googleusercontent.com&redirect_uri=urn%3aietf%3awg%3aoauth%3a2.0%3aoob&response_type=code&scope=email%20https%3a%2f%2fwww.googleapis.com%2fauth%2fdocs.test%20https%3a%2f%2fwww.googleapis.com%2fauth%2fdrive%20https%3a%2f%2fwww.googleapis.com%2fauth%2fdrive.photos.readonly%20https%3a%2f%2fwww.googleapis.com%2fauth%2fpeopleapi.readonly\n",
            "\n",
            "Enter your authorization code:\n",
            "··········\n",
            "Mounted at /content/drive\n"
          ],
          "name": "stdout"
        }
      ]
    },
    {
      "cell_type": "code",
      "metadata": {
        "id": "86kUnDZz3n91",
        "colab_type": "code",
        "outputId": "9be21f8e-d249-45a5-c3ba-585967b54264",
        "colab": {
          "base_uri": "https://localhost:8080/",
          "height": 692
        }
      },
      "source": [
        "!pip install pymorphy2\n",
        "!pip install innvestigate"
      ],
      "execution_count": 0,
      "outputs": [
        {
          "output_type": "stream",
          "text": [
            "Collecting pymorphy2\n",
            "\u001b[?25l  Downloading https://files.pythonhosted.org/packages/a3/33/fff9675c68b5f6c63ec8c6e6ff57827dda28a1fa5b2c2d727dffff92dd47/pymorphy2-0.8-py2.py3-none-any.whl (46kB)\n",
            "\u001b[K     |████████████████████████████████| 51kB 1.6MB/s \n",
            "\u001b[?25hCollecting pymorphy2-dicts<3.0,>=2.4\n",
            "\u001b[?25l  Downloading https://files.pythonhosted.org/packages/02/51/2465fd4f72328ab50877b54777764d928da8cb15b74e2680fc1bd8cb3173/pymorphy2_dicts-2.4.393442.3710985-py2.py3-none-any.whl (7.1MB)\n",
            "\u001b[K     |████████████████████████████████| 7.1MB 8.1MB/s \n",
            "\u001b[?25hRequirement already satisfied: docopt>=0.6 in /usr/local/lib/python3.6/dist-packages (from pymorphy2) (0.6.2)\n",
            "Collecting dawg-python>=0.7\n",
            "  Downloading https://files.pythonhosted.org/packages/6a/84/ff1ce2071d4c650ec85745766c0047ccc3b5036f1d03559fd46bb38b5eeb/DAWG_Python-0.7.2-py2.py3-none-any.whl\n",
            "Installing collected packages: pymorphy2-dicts, dawg-python, pymorphy2\n",
            "Successfully installed dawg-python-0.7.2 pymorphy2-0.8 pymorphy2-dicts-2.4.393442.3710985\n",
            "Collecting innvestigate\n",
            "\u001b[?25l  Downloading https://files.pythonhosted.org/packages/d7/ce/2138b045dce599515eeecc16cfebc48ee89616c073cdec87503a482f9cd6/innvestigate-1.0.8-py3-none-any.whl (97kB)\n",
            "\u001b[K     |████████████████████████████████| 102kB 2.3MB/s \n",
            "\u001b[?25hRequirement already satisfied: pytest in /usr/local/lib/python3.6/dist-packages (from innvestigate) (3.6.4)\n",
            "Requirement already satisfied: scipy in /usr/local/lib/python3.6/dist-packages (from innvestigate) (1.3.3)\n",
            "Requirement already satisfied: future in /usr/local/lib/python3.6/dist-packages (from innvestigate) (0.16.0)\n",
            "Requirement already satisfied: h5py in /usr/local/lib/python3.6/dist-packages (from innvestigate) (2.8.0)\n",
            "Collecting keras==2.2.4\n",
            "\u001b[?25l  Downloading https://files.pythonhosted.org/packages/5e/10/aa32dad071ce52b5502266b5c659451cfd6ffcbf14e6c8c4f16c0ff5aaab/Keras-2.2.4-py2.py3-none-any.whl (312kB)\n",
            "\u001b[K     |████████████████████████████████| 317kB 8.9MB/s \n",
            "\u001b[?25hRequirement already satisfied: pillow in /usr/local/lib/python3.6/dist-packages (from innvestigate) (4.3.0)\n",
            "Requirement already satisfied: numpy in /usr/local/lib/python3.6/dist-packages (from innvestigate) (1.17.4)\n",
            "Requirement already satisfied: py>=1.5.0 in /usr/local/lib/python3.6/dist-packages (from pytest->innvestigate) (1.8.0)\n",
            "Requirement already satisfied: pluggy<0.8,>=0.5 in /usr/local/lib/python3.6/dist-packages (from pytest->innvestigate) (0.7.1)\n",
            "Requirement already satisfied: setuptools in /usr/local/lib/python3.6/dist-packages (from pytest->innvestigate) (42.0.2)\n",
            "Requirement already satisfied: six>=1.10.0 in /usr/local/lib/python3.6/dist-packages (from pytest->innvestigate) (1.12.0)\n",
            "Requirement already satisfied: atomicwrites>=1.0 in /usr/local/lib/python3.6/dist-packages (from pytest->innvestigate) (1.3.0)\n",
            "Requirement already satisfied: attrs>=17.4.0 in /usr/local/lib/python3.6/dist-packages (from pytest->innvestigate) (19.3.0)\n",
            "Requirement already satisfied: more-itertools>=4.0.0 in /usr/local/lib/python3.6/dist-packages (from pytest->innvestigate) (8.0.2)\n",
            "Requirement already satisfied: keras-preprocessing>=1.0.5 in /usr/local/lib/python3.6/dist-packages (from keras==2.2.4->innvestigate) (1.1.0)\n",
            "Requirement already satisfied: keras-applications>=1.0.6 in /usr/local/lib/python3.6/dist-packages (from keras==2.2.4->innvestigate) (1.0.8)\n",
            "Requirement already satisfied: pyyaml in /usr/local/lib/python3.6/dist-packages (from keras==2.2.4->innvestigate) (3.13)\n",
            "Requirement already satisfied: olefile in /usr/local/lib/python3.6/dist-packages (from pillow->innvestigate) (0.46)\n",
            "Installing collected packages: keras, innvestigate\n",
            "  Found existing installation: Keras 2.2.5\n",
            "    Uninstalling Keras-2.2.5:\n",
            "      Successfully uninstalled Keras-2.2.5\n",
            "Successfully installed innvestigate-1.0.8 keras-2.2.4\n"
          ],
          "name": "stdout"
        }
      ]
    },
    {
      "cell_type": "code",
      "metadata": {
        "id": "1vTnvi0C3D70",
        "colab_type": "code",
        "outputId": "18089356-8b80-448e-de75-a63ac9773a85",
        "colab": {
          "base_uri": "https://localhost:8080/",
          "height": 84
        }
      },
      "source": [
        "%tensorflow_version 1.x\n",
        "\n",
        "from google.colab import files\n",
        "\n",
        "import nltk\n",
        "nltk.download('stopwords')\n",
        "nltk.download('punkt')\n",
        "nltk.download('wordnet')\n",
        "from nltk.corpus import stopwords\n",
        "russian_stopwords = stopwords.words('russian')\n",
        "from nltk.tokenize import RegexpTokenizer\n",
        "\n",
        "from pymorphy2 import MorphAnalyzer\n",
        "\n",
        "import xml.etree.ElementTree as ET\n",
        "from tqdm import tqdm\n",
        "\n",
        "import numpy as np\n",
        "\n",
        "from collections import Counter, defaultdict\n",
        "\n",
        "from nltk import ngrams\n",
        "import keras.backend\n",
        "import keras.models\n",
        "\n",
        "import time\n",
        "\n",
        "import os\n",
        "from gensim.models import KeyedVectors\n",
        "\n",
        "import matplotlib.pyplot as plt\n",
        "from matplotlib import cm, transforms\n",
        "import innvestigate\n",
        "from sklearn.model_selection import train_test_split\n",
        "from collections import Counter\n",
        "from itertools import chain\n",
        "from innvestigate.utils.tests.networks import base as network_base\n",
        "\n",
        "import json\n",
        "\n",
        "import re\n",
        "\n",
        "import warnings\n",
        "warnings.filterwarnings(\"ignore\")"
      ],
      "execution_count": 0,
      "outputs": [
        {
          "output_type": "stream",
          "text": [
            "[nltk_data] Downloading package stopwords to /root/nltk_data...\n",
            "[nltk_data]   Package stopwords is already up-to-date!\n",
            "[nltk_data] Downloading package punkt to /root/nltk_data...\n",
            "[nltk_data]   Package punkt is already up-to-date!\n"
          ],
          "name": "stdout"
        }
      ]
    },
    {
      "cell_type": "code",
      "metadata": {
        "id": "nIgWnGRj2siV",
        "colab_type": "code",
        "colab": {}
      },
      "source": [
        "POSITIVE = []\n",
        "NEGATIVE = []"
      ],
      "execution_count": 0,
      "outputs": []
    },
    {
      "cell_type": "markdown",
      "metadata": {
        "id": "efOS-h103EpR",
        "colab_type": "text"
      },
      "source": [
        "# 0. Processing our data"
      ]
    },
    {
      "cell_type": "code",
      "metadata": {
        "id": "GWLr1Yg3231s",
        "colab_type": "code",
        "outputId": "68aa6068-173b-4920-d7c1-9339da7eec48",
        "colab": {
          "resources": {
            "http://localhost:8080/nbextensions/google.colab/files.js": {
              "data": "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",
              "ok": true,
              "headers": [
                [
                  "content-type",
                  "application/javascript"
                ]
              ],
              "status": 200,
              "status_text": ""
            }
          },
          "base_uri": "https://localhost:8080/",
          "height": 74
        }
      },
      "source": [
        "uploaded = files.upload()  # SentiRuEval_rest_train.zip should be uploaded"
      ],
      "execution_count": 0,
      "outputs": [
        {
          "output_type": "display_data",
          "data": {
            "text/html": [
              "\n",
              "     <input type=\"file\" id=\"files-54eb821d-4c38-4589-abbe-1910204ad41d\" name=\"files[]\" multiple disabled />\n",
              "     <output id=\"result-54eb821d-4c38-4589-abbe-1910204ad41d\">\n",
              "      Upload widget is only available when the cell has been executed in the\n",
              "      current browser session. Please rerun this cell to enable.\n",
              "      </output>\n",
              "      <script src=\"/nbextensions/google.colab/files.js\"></script> "
            ],
            "text/plain": [
              "<IPython.core.display.HTML object>"
            ]
          },
          "metadata": {
            "tags": []
          }
        },
        {
          "output_type": "stream",
          "text": [
            "Saving SentiRuEval_rest_train.zip to SentiRuEval_rest_train.zip\n"
          ],
          "name": "stdout"
        }
      ]
    },
    {
      "cell_type": "code",
      "metadata": {
        "id": "GDWhX_Fn3ZCF",
        "colab_type": "code",
        "outputId": "4b3e5f57-ad33-4611-b878-590534cc521f",
        "colab": {
          "base_uri": "https://localhost:8080/",
          "height": 50
        }
      },
      "source": [
        "!unzip SentiRuEval_rest_train.zip"
      ],
      "execution_count": 0,
      "outputs": [
        {
          "output_type": "stream",
          "text": [
            "Archive:  SentiRuEval_rest_train.zip\n",
            "  inflating: SentiRuEval_rest_train.xml  \n"
          ],
          "name": "stdout"
        }
      ]
    },
    {
      "cell_type": "code",
      "metadata": {
        "id": "SO49IBOr3ch6",
        "colab_type": "code",
        "colab": {}
      },
      "source": [
        "m = MorphAnalyzer()\n",
        "tokenizer = RegexpTokenizer(r'\\w+')\n",
        "\n",
        "def normalize(text):\n",
        "    tokens = tokenizer.tokenize(text.lower())\n",
        "    lemmas = [m.parse(token)[0].normal_form for token in tokens]\n",
        "    return lemmas  # возвращает массив"
      ],
      "execution_count": 0,
      "outputs": []
    },
    {
      "cell_type": "code",
      "metadata": {
        "id": "Y7JppC2O3xLc",
        "colab_type": "code",
        "outputId": "488486bf-5656-4d59-f139-21f81a729f06",
        "colab": {
          "base_uri": "https://localhost:8080/",
          "height": 50
        }
      },
      "source": [
        "# %cd ..\n",
        "# tree = ET.parse('SentiRuEval_rest_train.xml')\n",
        "# root = tree.getroot()\n",
        "\n",
        "# texts = []\n",
        "# food_scores = []\n",
        "# interior_scores = []\n",
        "# service_scores = []\n",
        "# scores = []\n",
        "# source_texts = []\n",
        "\n",
        "# reviews = root.findall('review')\n",
        "# for review in tqdm(reviews, desc='Review', total=len(reviews)):\n",
        "#     text_ = review.find('text').text\n",
        "#     source_texts.append(text_)\n",
        "#     texts.append(normalize(text_))\n",
        "#     review_scores = review.find('scores')\n",
        "#     food_scores.append(int(review_scores.find('food').text))\n",
        "#     interior_scores.append(int(review_scores.find('interior').text))\n",
        "#     service_scores.append(int(review_scores.find('service').text))\n",
        "#     scores.append(np.mean([food_scores[-1], interior_scores[-1], service_scores[-1]]))"
      ],
      "execution_count": 0,
      "outputs": [
        {
          "output_type": "stream",
          "text": [
            "/content\n"
          ],
          "name": "stdout"
        },
        {
          "output_type": "stream",
          "text": [
            "Review: 100%|██████████| 19034/19034 [11:48<00:00, 26.85it/s]\n"
          ],
          "name": "stderr"
        }
      ]
    },
    {
      "cell_type": "code",
      "metadata": {
        "id": "zCJmO5Y5gG6Q",
        "colab_type": "code",
        "colab": {}
      },
      "source": [
        "# with open(os.path.join(drive_prefix, 'parsed_texts.json'), 'w', encoding='utf-8') as f:\n",
        "#     json.dump({\n",
        "#         'texts': texts,\n",
        "#         'food_scores': food_scores,\n",
        "#         'interior_scores': interior_scores,\n",
        "#         'service_scores': service_scores,\n",
        "#         'scores': scores,\n",
        "#         'source_texts': source_texts\n",
        "#     }, f)"
      ],
      "execution_count": 0,
      "outputs": []
    },
    {
      "cell_type": "code",
      "metadata": {
        "id": "F5kNxGHQuLW4",
        "colab_type": "code",
        "colab": {}
      },
      "source": [
        "with open(os.path.join(drive_prefix, 'parsed_texts.json'), 'r', encoding='utf-8') as f:\n",
        "    dct = json.load(f)\n",
        "    texts = dct['texts']\n",
        "    food_scores = dct['food_scores']\n",
        "    interior_scores = dct['interior_scores']\n",
        "    service_scores = dct['service_scores']\n",
        "    scores = dct['scores']\n",
        "    source_texts = dct['source_texts']"
      ],
      "execution_count": 0,
      "outputs": []
    },
    {
      "cell_type": "code",
      "metadata": {
        "id": "sNePkZWM4ZMr",
        "colab_type": "code",
        "outputId": "fcfa15e5-ac7e-42bb-fbda-07dd97f0fbc9",
        "colab": {
          "base_uri": "https://localhost:8080/",
          "height": 121
        }
      },
      "source": [
        "# now we have lists of normalized texts, all types of scores and the mean score\n",
        "' '.join(texts[0]), food_scores[0], service_scores[0], interior_scores[0], scores[0]"
      ],
      "execution_count": 0,
      "outputs": [
        {
          "output_type": "execute_result",
          "data": {
            "text/plain": [
              "('и пускай на я не обижаться наш прославить защитник франкофон монреаль канадиенс maxime я всегда с некоторый опаска относиться к это народ народ способный с такой благоговение доводить до цирроз весь пернатый живность заставлять специальный поисковый свиной копошиться в грязь в поиск сумчатый грибов ковыряться в тина собирать брюхоногий и двустворчатый народ подсадить весь население земной шар на муть именовать божоля нувый на сырой с плесень и на квакать жаба скакать по болото тем не менее единожды заглянуть не мочь успокоиться пока не вкусить большой часть меню не быть вдаваться в деталь вкусно невкусно а привести турнирный таблица коли начать с хоккей 1 петух запечь в сливка с картофель и гриб почему петух а не курица различать ещё не научиться 2 домашний пирог яблочный горячий таять 3 говядина по бургунски кускус неожиданный 4 террина из печень цыплёнок массивный порция 5 утиный ножка конфи с картофельный пюре мягко 6 пенний с артишок много чеснок я любить но если дышать потом на кто нибыть мочь случиться казус 7 ростбиф с мариновать лук 8 лягушка на вкус смесь птица и рыба овощной сата на гарнир 9 улитка эскарго просто в масло я нравиться большой 10 гребешок с спаржа горячее блюдо весьма диетичный 11 гребешок с груша горячий закуска ряд просто лист салат 12 тёплый салат с говядина ряд просто лист салат 13 тирамис качественный уровень соблюсти 14 домашний пирог черничный холодный слишком холодный творог в основное плюс другой приятность приятный грейпфрутовый фреш приятный зелёный чаять земляника с сливка приятный тёртый клубника комплимент всегда и приятный глинтвейн не всегда один раз зажать по интерьер комментарий два а нельзя быть по край кабинка диванчик сварганить для уют один милый столик справа от вход маловато помывочный с белый дверь почему выбиваться из стиль в остальной мой типаж музыка мягкий панель нет сервис с улыбка шероховатость в предел норма и незначительный один раз прибор забыть принести ну и глинтвейн зажать это я уже говорить человек к хороший быстро привыкать',\n",
              " 8,\n",
              " 8,\n",
              " 8,\n",
              " 8.0)"
            ]
          },
          "metadata": {
            "tags": []
          },
          "execution_count": 50
        }
      ]
    },
    {
      "cell_type": "code",
      "metadata": {
        "id": "YkBMRBhE4zxD",
        "colab_type": "code",
        "colab": {}
      },
      "source": [
        "russian_stopwords = [elem for elem in russian_stopwords if elem not in ['не', 'да', 'но', 'хорошо', 'лучше', 'почти', 'никогда', 'можно', 'наконец', 'больше', 'другой', 'всего', 'много', 'впрочем', 'нельзя', 'более', 'всегда']]\n",
        "texts_without_stopwords = [[word for word in text if word not in russian_stopwords] for text in texts]"
      ],
      "execution_count": 0,
      "outputs": []
    },
    {
      "cell_type": "code",
      "metadata": {
        "id": "FKAbKI7X44V2",
        "colab_type": "code",
        "outputId": "1b7aa38b-a857-496f-d486-069b3c96b24d",
        "colab": {
          "base_uri": "https://localhost:8080/",
          "height": 34
        }
      },
      "source": [
        "len(texts[0]), len(texts_without_stopwords[0])"
      ],
      "execution_count": 0,
      "outputs": [
        {
          "output_type": "execute_result",
          "data": {
            "text/plain": [
              "(322, 248)"
            ]
          },
          "metadata": {
            "tags": []
          },
          "execution_count": 52
        }
      ]
    },
    {
      "cell_type": "markdown",
      "metadata": {
        "id": "-Ltmdnzl5KGE",
        "colab_type": "text"
      },
      "source": [
        "Now we work with all types of n-grams."
      ]
    },
    {
      "cell_type": "code",
      "metadata": {
        "id": "sV_TFhYp5x-d",
        "colab_type": "code",
        "outputId": "bb89f8f6-57b9-4d51-fc10-4573770d6bb5",
        "colab": {
          "base_uri": "https://localhost:8080/",
          "height": 50
        }
      },
      "source": [
        "bigrams = []\n",
        "for text_without_stopwords in tqdm(texts, desc='Processing bigrams', total=len(texts_without_stopwords)):\n",
        "    bigrams.extend(list(nltk.bigrams(text_without_stopwords)))\n",
        "\n",
        "trigrams = []\n",
        "for text_without_stopwords in tqdm(texts, desc='Processing trigrams', total=len(texts_without_stopwords)):\n",
        "    trigrams.extend(nltk.trigrams(text_without_stopwords))"
      ],
      "execution_count": 0,
      "outputs": [
        {
          "output_type": "stream",
          "text": [
            "Processing bigrams: 100%|██████████| 19034/19034 [00:01<00:00, 14237.86it/s]\n",
            "Processing trigrams: 100%|██████████| 19034/19034 [00:01<00:00, 14716.46it/s]\n"
          ],
          "name": "stderr"
        }
      ]
    },
    {
      "cell_type": "code",
      "metadata": {
        "id": "GcaMtf0M7k8B",
        "colab_type": "code",
        "outputId": "2880c875-54eb-44d1-9b6d-0f0da10f0d83",
        "colab": {
          "base_uri": "https://localhost:8080/",
          "height": 34
        }
      },
      "source": [
        "bigrams[0], trigrams[0]"
      ],
      "execution_count": 0,
      "outputs": [
        {
          "output_type": "execute_result",
          "data": {
            "text/plain": [
              "(('и', 'пускай'), ('и', 'пускай', 'на'))"
            ]
          },
          "metadata": {
            "tags": []
          },
          "execution_count": 54
        }
      ]
    },
    {
      "cell_type": "code",
      "metadata": {
        "id": "0qW-BLMQ6JGG",
        "colab_type": "code",
        "colab": {}
      },
      "source": [
        "# # предполагаем, что стоп-слово не может входить в коллокацию (из тех, что мы не удалили из списка nltk)\n",
        "# # поэтому разобьём каждое предложение по стоп-словам и для каждого подучастка возьмём все возможные n-граммы\n",
        "# # дальше посчитаем частнотность и посмотрим, стоит ли нам выделять коллокации на этом основании\n",
        "\n",
        "# text_ngrams = []\n",
        "\n",
        "# texts_with_partitions = [' '.join(['|' if word in russian_stopwords else word for word in text]) for text in texts]\n",
        "# for text_with_partitions in texts_with_partitions:\n",
        "#     for sent in text_with_partitions.split('|'):\n",
        "#         sent = sent.split()\n",
        "#         if sent:\n",
        "#             for n in range(1, len(sent) + 1):\n",
        "#                 text_ngrams.extend(ngrams(sent, n))"
      ],
      "execution_count": 0,
      "outputs": []
    },
    {
      "cell_type": "code",
      "metadata": {
        "id": "4s0Fwk3D6Rje",
        "colab_type": "code",
        "colab": {}
      },
      "source": [
        "# size_to_ngrams = {}\n",
        "# max_ngrams_length = len(max(text_ngrams, key=len))\n",
        "# for n in tqdm(range(1, max_ngrams_length + 1), total=max_ngrams_length):\n",
        "#     size_to_ngrams[n] = Counter([ngram for ngram in text_ngrams if len(ngram) == n])"
      ],
      "execution_count": 0,
      "outputs": []
    },
    {
      "cell_type": "code",
      "metadata": {
        "id": "xwC5FpQM6L0K",
        "colab_type": "code",
        "outputId": "0cfdf461-d8a6-47d0-b98d-e96bca21ec3c",
        "colab": {
          "base_uri": "https://localhost:8080/",
          "height": 269
        }
      },
      "source": [
        "bigram_measures = nltk.collocations.BigramAssocMeasures()\n",
        "bigram_finder = nltk.collocations.BigramCollocationFinder.from_documents(texts_without_stopwords)\n",
        "bigram_finder.apply_freq_filter(3)\n",
        "bi_likelihood_scores = bigram_finder.score_ngrams(bigram_measures.likelihood_ratio)\n",
        "bigram_finder.nbest(bigram_measures.likelihood_ratio, 15)"
      ],
      "execution_count": 0,
      "outputs": [
        {
          "output_type": "execute_result",
          "data": {
            "text/plain": [
              "[('день', 'рождение'),\n",
              " ('очень', 'понравиться'),\n",
              " ('молодая', 'человек'),\n",
              " ('p', 's'),\n",
              " ('весь', 'таки'),\n",
              " ('шеф', 'повар'),\n",
              " ('не', 'знать'),\n",
              " ('никто', 'не'),\n",
              " ('живой', 'музыка'),\n",
              " ('очень', 'вкусно'),\n",
              " ('барна', 'стойка'),\n",
              " ('очень', 'вкусный'),\n",
              " ('не', 'мочь'),\n",
              " ('весь', 'равно'),\n",
              " ('винный', 'карта')]"
            ]
          },
          "metadata": {
            "tags": []
          },
          "execution_count": 57
        }
      ]
    },
    {
      "cell_type": "code",
      "metadata": {
        "id": "zQbLzQ4_6Oiz",
        "colab_type": "code",
        "outputId": "0574703a-27cb-42d9-8e93-063ecf7317df",
        "colab": {
          "base_uri": "https://localhost:8080/",
          "height": 269
        }
      },
      "source": [
        "trigram_measures = nltk.collocations.TrigramAssocMeasures()\n",
        "trigram_finder = nltk.collocations.TrigramCollocationFinder.from_documents(texts_without_stopwords)\n",
        "trigram_finder.apply_freq_filter(3)\n",
        "tri_likelihood_scores = trigram_finder.score_ngrams(trigram_measures.likelihood_ratio)\n",
        "trigram_finder.nbest(trigram_measures.likelihood_ratio, 15)"
      ],
      "execution_count": 0,
      "outputs": [
        {
          "output_type": "execute_result",
          "data": {
            "text/plain": [
              "[('отмечать', 'день', 'рождение'),\n",
              " ('никто', 'не', 'знать'),\n",
              " ('следующий', 'день', 'рождение'),\n",
              " ('праздновать', 'день', 'рождение'),\n",
              " ('свой', 'день', 'рождение'),\n",
              " ('отметить', 'день', 'рождение'),\n",
              " ('празднование', 'день', 'рождение'),\n",
              " ('день', 'рождение', 'подруга'),\n",
              " ('не', 'день', 'рождение'),\n",
              " ('день', 'рождение', 'муж'),\n",
              " ('отпраздновать', 'день', 'рождение'),\n",
              " ('честь', 'день', 'рождение'),\n",
              " ('день', 'рождение', 'друг'),\n",
              " ('справлять', 'день', 'рождение'),\n",
              " ('день', 'рождение', 'дочь')]"
            ]
          },
          "metadata": {
            "tags": []
          },
          "execution_count": 58
        }
      ]
    },
    {
      "cell_type": "code",
      "metadata": {
        "id": "NymGwfGj_GrB",
        "colab_type": "code",
        "colab": {}
      },
      "source": [
        "# def remap_keys(mapping):\n",
        "#     return [{'key':k, 'value': v} for k, v in mapping.items()]\n",
        "\n",
        "# for key, value in size_to_ngrams.items():\n",
        "#     size_to_ngrams[int(key)] = remap_keys(value)\n",
        "\n",
        "# with open(os.path.join(drive_prefix, 'size_to_ngrams.json'), 'w', encoding='utf-8') as f:\n",
        "#     json.dump(size_to_ngrams, f)"
      ],
      "execution_count": 0,
      "outputs": []
    },
    {
      "cell_type": "code",
      "metadata": {
        "id": "efHzGsDC_meQ",
        "colab_type": "code",
        "colab": {}
      },
      "source": [
        "with open(os.path.join(drive_prefix, 'size_to_ngrams.json'), 'r', encoding='utf-8') as f:\n",
        "    size_to_ngrams = json.load(f)"
      ],
      "execution_count": 0,
      "outputs": []
    },
    {
      "cell_type": "code",
      "metadata": {
        "colab_type": "code",
        "id": "AgQCDDirCijZ",
        "colab": {}
      },
      "source": [
        "def demap_keys(mapping):\n",
        "    dct = {}\n",
        "    for elem in mapping:\n",
        "        try:\n",
        "            dct[tuple(elem['key'])] = elem['value']\n",
        "        except Exception:\n",
        "            print(elem)\n",
        "            break\n",
        "    return dct\n",
        "\n",
        "dct = {}\n",
        "for key, value in size_to_ngrams.items():\n",
        "    dct[int(key)] = demap_keys(value)\n",
        "size_to_ngrams = dct"
      ],
      "execution_count": 0,
      "outputs": []
    },
    {
      "cell_type": "code",
      "metadata": {
        "id": "-gxNKGTlu6BZ",
        "colab_type": "code",
        "colab": {}
      },
      "source": [
        "for key, value in size_to_ngrams.items():\n",
        "    size_to_ngrams[key] = Counter(value)"
      ],
      "execution_count": 0,
      "outputs": []
    },
    {
      "cell_type": "code",
      "metadata": {
        "id": "nOtj4FXJ6S16",
        "colab_type": "code",
        "colab": {}
      },
      "source": [
        "# size_to_ngrams[2].most_common(10)"
      ],
      "execution_count": 0,
      "outputs": []
    },
    {
      "cell_type": "code",
      "metadata": {
        "id": "YtxzJfw26Vn0",
        "colab_type": "code",
        "colab": {}
      },
      "source": [
        "# size_to_ngrams[3].most_common(10)"
      ],
      "execution_count": 0,
      "outputs": []
    },
    {
      "cell_type": "code",
      "metadata": {
        "id": "OG_aUoni6Y3H",
        "colab_type": "code",
        "colab": {}
      },
      "source": [
        "# size_to_ngrams[4].most_common(10)"
      ],
      "execution_count": 0,
      "outputs": []
    },
    {
      "cell_type": "code",
      "metadata": {
        "id": "Ll0N9GtZ6c6n",
        "colab_type": "code",
        "colab": {}
      },
      "source": [
        "# size_to_ngrams[5].most_common(10)"
      ],
      "execution_count": 0,
      "outputs": []
    },
    {
      "cell_type": "code",
      "metadata": {
        "id": "99KPIIaC6gyR",
        "colab_type": "code",
        "colab": {}
      },
      "source": [
        "# # уже слишком редко встречается, поэтому не имеет смысла добавлять 6-граммы\n",
        "# size_to_ngrams[6].most_common(10)"
      ],
      "execution_count": 0,
      "outputs": []
    },
    {
      "cell_type": "markdown",
      "metadata": {
        "id": "V-B7n9Qr88kt",
        "colab_type": "text"
      },
      "source": [
        "Заменим топовые 2-граммы, ..., 5-граммы на монограммы x_y_..._z."
      ]
    },
    {
      "cell_type": "code",
      "metadata": {
        "id": "GD7fFGde84w1",
        "colab_type": "code",
        "outputId": "9844bf61-36b8-41b0-bc91-51f427d2839b",
        "colab": {
          "base_uri": "https://localhost:8080/",
          "height": 34
        }
      },
      "source": [
        "grams = {}\n",
        "for size, num in zip(range(5, 1, -1), [5, 15, 50, 100]):\n",
        "    grams[size] = [' '.join(elem[0]) for elem in size_to_ngrams[size].most_common(num)]\n",
        "\n",
        "bigrams = [' '.join(elem) for elem in bigram_finder.nbest(bigram_measures.likelihood_ratio, 50)]\n",
        "trigrams = [' '.join(elem) for elem in trigram_finder.nbest(trigram_measures.likelihood_ratio, 25)]\n",
        "\n",
        "grams_to_be_replaced = []\n",
        "\n",
        "texts_with_replacements = []\n",
        "for text in tqdm(texts_without_stopwords, desc='Text', total=len(texts_without_stopwords)):\n",
        "    text = ' '.join(text)\n",
        "\n",
        "    for i in range(5, 3, -1):\n",
        "        for gram in grams[i]:\n",
        "            grams_to_be_replaced.append(gram)\n",
        "            text = text.replace(gram, gram.replace(' ', '_'))\n",
        "\n",
        "    for ngrams_ in [trigrams, bigrams]:\n",
        "        for gram in ngrams_:\n",
        "            grams_to_be_replaced.append(gram)\n",
        "            text = text.replace(gram, gram.replace(' ', '_'))\n",
        "\n",
        "    for i in range(3, 1, -1):\n",
        "        for gram in grams[i]:\n",
        "            grams_to_be_replaced.append(gram)\n",
        "            text = text.replace(gram, gram.replace(' ', '_'))\n",
        "\n",
        "    texts_with_replacements.append(text)"
      ],
      "execution_count": 0,
      "outputs": [
        {
          "output_type": "stream",
          "text": [
            "Text: 100%|██████████| 19034/19034 [00:06<00:00, 3007.03it/s]\n"
          ],
          "name": "stderr"
        }
      ]
    },
    {
      "cell_type": "code",
      "metadata": {
        "id": "v448AUa-ju2r",
        "colab_type": "code",
        "colab": {}
      },
      "source": [
        "# with open(os.path.join(drive_prefix, 'parsed_texts_with_replacements.json'), 'w', encoding='utf-8') as f:\n",
        "#     json.dump(texts_with_replacements, f)"
      ],
      "execution_count": 0,
      "outputs": []
    },
    {
      "cell_type": "code",
      "metadata": {
        "id": "UdNEXO5asbdC",
        "colab_type": "code",
        "colab": {}
      },
      "source": [
        "with open(os.path.join(drive_prefix, 'parsed_texts_with_replacements.json'), 'r', encoding='utf-8') as f:\n",
        "    texts_with_replacements = json.load(f)"
      ],
      "execution_count": 0,
      "outputs": []
    },
    {
      "cell_type": "code",
      "metadata": {
        "id": "d4xDLIdO9OpH",
        "colab_type": "code",
        "colab": {}
      },
      "source": [
        "# # Чтобы в colab-е tqdm хорошо работала\n",
        "# for instance in list(tqdm._instances):\n",
        "#     tqdm._decr_instances(instance)"
      ],
      "execution_count": 0,
      "outputs": []
    },
    {
      "cell_type": "code",
      "metadata": {
        "id": "PdalTRA79VDV",
        "colab_type": "code",
        "colab": {}
      },
      "source": [
        "# texts_with_replacements[:5]"
      ],
      "execution_count": 0,
      "outputs": []
    },
    {
      "cell_type": "code",
      "metadata": {
        "id": "EpBX_lQQ9c9-",
        "colab_type": "code",
        "outputId": "d07addad-99fd-4e17-ee81-974d908caf19",
        "colab": {
          "base_uri": "https://localhost:8080/",
          "height": 34
        }
      },
      "source": [
        "# Now we turn scores from 1-10 to 0-1\n",
        "scores = np.array(scores)\n",
        "binary_scores = scores > 5.\n",
        "print(binary_scores[0])"
      ],
      "execution_count": 0,
      "outputs": [
        {
          "output_type": "stream",
          "text": [
            "True\n"
          ],
          "name": "stdout"
        }
      ]
    },
    {
      "cell_type": "code",
      "metadata": {
        "id": "7GPY2dst9oip",
        "colab_type": "code",
        "colab": {}
      },
      "source": [
        "binary_scores = binary_scores.astype(int)"
      ],
      "execution_count": 0,
      "outputs": []
    },
    {
      "cell_type": "code",
      "metadata": {
        "id": "zf5cP30J9tGq",
        "colab_type": "code",
        "colab": {}
      },
      "source": [
        "# print(len(texts))\n",
        "# print(len(scores))"
      ],
      "execution_count": 0,
      "outputs": []
    },
    {
      "cell_type": "markdown",
      "metadata": {
        "id": "wBSsKXtH9285",
        "colab_type": "text"
      },
      "source": [
        "#1. TF-IDF"
      ]
    },
    {
      "cell_type": "code",
      "metadata": {
        "id": "RkTAl1wb-Gvo",
        "colab_type": "code",
        "colab": {}
      },
      "source": [
        "from sklearn.feature_extraction.text import TfidfVectorizer"
      ],
      "execution_count": 0,
      "outputs": []
    },
    {
      "cell_type": "code",
      "metadata": {
        "id": "pkaHxVZO98tz",
        "colab_type": "code",
        "colab": {}
      },
      "source": [
        "vectorizer = TfidfVectorizer(min_df=0.1)\n",
        "tfidf_matrix = vectorizer.fit_transform(texts_with_replacements)\n",
        "\n",
        "pos_indices = []\n",
        "neg_indices = []\n",
        "for i, binary_score in zip(range(tfidf_matrix.shape[0]), binary_scores):\n",
        "    arr = tfidf_matrix[i].toarray().squeeze()\n",
        "    indices = list(arr.argsort()[-5:])\n",
        "    if binary_score:\n",
        "        pos_indices.extend(indices)\n",
        "    else:\n",
        "        neg_indices.extend(indices)\n",
        "\n",
        "\n",
        "\n",
        "vocab = vectorizer.get_feature_names()\n",
        "pos_words = [vocab[pos_index] for pos_index in pos_indices]\n",
        "neg_words = [vocab[neg_index] for neg_index in neg_indices]\n",
        "\n",
        "\n",
        "pos_counter = Counter(pos_words)\n",
        "pos_counter = {elem: pos_counter[elem] for elem in pos_counter if pos_counter[elem] >= 35}\n",
        "neg_counter = Counter(neg_words)\n",
        "neg_counter = {elem: neg_counter[elem] for elem in neg_counter if neg_counter[elem] >= 15}\n",
        "\n",
        "\n",
        "common_words = set(pos_counter.keys()) & set(neg_counter.keys())\n",
        "mostly_positive_words = []\n",
        "mostly_negative_words = []\n",
        "for elem in list(common_words):\n",
        "    if (pos_counter[elem] / 75970) / (neg_counter[elem] / 19200) > 1.4:\n",
        "        mostly_positive_words.append(elem)\n",
        "    elif (pos_counter[elem] / 75970) / (neg_counter[elem] / 19200) < 0.6:\n",
        "        mostly_negative_words.append(elem)"
      ],
      "execution_count": 0,
      "outputs": []
    },
    {
      "cell_type": "markdown",
      "metadata": {
        "id": "BSDQI4r048Wk",
        "colab_type": "text"
      },
      "source": [
        "Логика (from Эдик): Берутся для каждого текста берется 5 слов с наибольшим значением tf-idf. Они добавляются в списки положительных (pos_words) и отрицательных (neg_words) слов. Если какое-то слово часто встречается в положительных предложения (mostly_positive_words), значит, оно мега положительное, с отрицательными аналогично."
      ]
    },
    {
      "cell_type": "code",
      "metadata": {
        "id": "47pEbmcq4eVp",
        "colab_type": "code",
        "outputId": "249ab1ca-191c-4f99-a743-a2f3c5a96d76",
        "colab": {
          "base_uri": "https://localhost:8080/"
        }
      },
      "source": [
        "print(len(mostly_negative_words), len(mostly_positive_words))"
      ],
      "execution_count": 0,
      "outputs": [
        {
          "output_type": "stream",
          "text": [
            "14 27\n"
          ],
          "name": "stdout"
        }
      ]
    },
    {
      "cell_type": "code",
      "metadata": {
        "id": "pYVxTatu4ckn",
        "colab_type": "code",
        "colab": {}
      },
      "source": [
        "POSITIVE.extend(mostly_positive_words)\n",
        "NEGATIVE.extend(mostly_negative_words)"
      ],
      "execution_count": 0,
      "outputs": []
    },
    {
      "cell_type": "code",
      "metadata": {
        "id": "WNQaQhRR4yBg",
        "colab_type": "code",
        "outputId": "035c63f5-6cb5-4eb8-8d25-eccb776092e0",
        "colab": {
          "base_uri": "https://localhost:8080/"
        }
      },
      "source": [
        "print(POSITIVE)"
      ],
      "execution_count": 0,
      "outputs": [
        {
          "output_type": "stream",
          "text": [
            "['кухня', 'понравиться', 'спасибо', 'но', 'хотеться', 'персонал', 'выбор', 'уютный', 'вино', 'вкусный', 'соус', 'место', 'вкус', 'отличный', 'вкусно', 'хороший', 'атмосфера', 'всегда', 'очень', 'десерт', 'много', 'приятный', 'музыка', 'интерьер', 'весь', 'хорошо', 'быстро']\n"
          ],
          "name": "stdout"
        }
      ]
    },
    {
      "cell_type": "code",
      "metadata": {
        "id": "fjFGuSym4zuo",
        "colab_type": "code",
        "outputId": "d70bd9db-0383-4118-842a-593179020cf7",
        "colab": {
          "base_uri": "https://localhost:8080/"
        }
      },
      "source": [
        "print(NEGATIVE)"
      ],
      "execution_count": 0,
      "outputs": [
        {
          "output_type": "stream",
          "text": [
            "['человек', 'официантка', 'счёт', 'заказать', 'туда', 'вообще', 'заказ', 'принести', 'администратор', 'минута', 'сказать', 'ждать', 'решить', 'официант']\n"
          ],
          "name": "stdout"
        }
      ]
    },
    {
      "cell_type": "markdown",
      "metadata": {
        "id": "nyu4EfyC5vt1",
        "colab_type": "text"
      },
      "source": [
        "#FINDING ASPECT"
      ]
    },
    {
      "cell_type": "markdown",
      "metadata": {
        "id": "H2UooAqys6WB",
        "colab_type": "text"
      },
      "source": [
        "Прежде всего, мне чутка стыдно что оно такое кривое и костыльное... Приятного просмотра."
      ]
    },
    {
      "cell_type": "markdown",
      "metadata": {
        "id": "MeSp_kWKO2Y9",
        "colab_type": "text"
      },
      "source": [
        "## RuTez"
      ]
    },
    {
      "cell_type": "markdown",
      "metadata": {
        "id": "2E3196NX538s",
        "colab_type": "text"
      },
      "source": [
        "Ищем аспект для слов их POSITIVE и NEGATIVE, чтобы записать их в OUTPUT."
      ]
    },
    {
      "cell_type": "code",
      "metadata": {
        "id": "nu-BOed552xw",
        "colab_type": "code",
        "outputId": "002dad75-0cfb-4abc-9909-5bfa6d0ccb91",
        "colab": {
          "base_uri": "https://localhost:8080/"
        }
      },
      "source": [
        "!wget https://github.com/sjut/HSE-Compling/raw/master/seminars/data/relations_with_concepts.csv"
      ],
      "execution_count": 0,
      "outputs": [
        {
          "output_type": "stream",
          "text": [
            "--2019-12-23 22:30:53--  https://github.com/sjut/HSE-Compling/raw/master/seminars/data/relations_with_concepts.csv\n",
            "Resolving github.com (github.com)... 140.82.114.3\n",
            "Connecting to github.com (github.com)|140.82.114.3|:443... connected.\n",
            "HTTP request sent, awaiting response... 302 Found\n",
            "Location: https://raw.githubusercontent.com/sjut/HSE-Compling/master/seminars/data/relations_with_concepts.csv [following]\n",
            "--2019-12-23 22:30:54--  https://raw.githubusercontent.com/sjut/HSE-Compling/master/seminars/data/relations_with_concepts.csv\n",
            "Resolving raw.githubusercontent.com (raw.githubusercontent.com)... 151.101.0.133, 151.101.64.133, 151.101.128.133, ...\n",
            "Connecting to raw.githubusercontent.com (raw.githubusercontent.com)|151.101.0.133|:443... connected.\n",
            "HTTP request sent, awaiting response... 200 OK\n",
            "Length: 10359319 (9.9M) [text/plain]\n",
            "Saving to: ‘relations_with_concepts.csv’\n",
            "\n",
            "relations_with_conc 100%[===================>]   9.88M  65.4MB/s    in 0.2s    \n",
            "\n",
            "2019-12-23 22:30:55 (65.4 MB/s) - ‘relations_with_concepts.csv’ saved [10359319/10359319]\n",
            "\n"
          ],
          "name": "stdout"
        }
      ]
    },
    {
      "cell_type": "code",
      "metadata": {
        "id": "OkTTL8uZELUr",
        "colab_type": "code",
        "colab": {}
      },
      "source": [
        "import csv\n",
        "\n",
        "rels_list = []\n",
        "with open(\"relations_with_concepts.csv\", newline='', encoding='utf8') as rels:\n",
        "    reader = csv.DictReader(rels, delimiter=\"\\t\")\n",
        "    for row in reader:\n",
        "        rels_list.append(row)\n",
        "\n",
        "def get_supc(concept_list, rels_list, has_up=True, depth=0, max_depth=-1):\n",
        "    \"\"\"\n",
        "    Find list of all hypernyms of query by level down\n",
        "    [[level_1], [level_2.1, level_2.2], [level_3.1, level_3.2, level_3.3], etc...]\n",
        "\n",
        "    :param concept_list: search input\n",
        "    :param rels_list: imported set of relations\n",
        "    :param max_depth: maximum allowed number of hyponyms\n",
        "    :param has_up: (internal) bool(current top concept has a subconcept)\n",
        "    :param depth: (internal) current depth in the ontology\n",
        "    :return: list of subconcepts for every meaning of query\n",
        "    \"\"\"\n",
        "    if (not has_up) or depth >= max_depth > 0:\n",
        "        return concept_list\n",
        "    has_up = False\n",
        "    new_list = []\n",
        "    for word in concept_list[-1]:\n",
        "        for row in rels_list:\n",
        "            if row['from'].lower() == word.lower() and row['relation'] == 'ВЫШЕ':\n",
        "                if all(row['to'].lower() not in hypo for hypo in concept_list):\n",
        "                    new_list.append(row['to'].lower())\n",
        "                    has_up = True\n",
        "    if has_up:\n",
        "        concept_list.append(new_list)\n",
        "    return get_supc(concept_list, rels_list, has_up, depth + 1, max_depth)"
      ],
      "execution_count": 0,
      "outputs": []
    },
    {
      "cell_type": "code",
      "metadata": {
        "id": "J4c1CWhloFR8",
        "colab_type": "code",
        "colab": {}
      },
      "source": [
        "from collections import namedtuple # for output\n",
        "word2output = namedtuple('word2output', ['aspect', 'word', 'score'])\n",
        "\n",
        "final_words = []\n",
        "food = ['еда', 'пища', 'блюдо', 'продукты питания']\n",
        "service = ['обслуживание', 'сервис', 'персонал', 'услуга', 'должность',\n",
        "           'обслуживающий персонал']"
      ],
      "execution_count": 0,
      "outputs": []
    },
    {
      "cell_type": "code",
      "metadata": {
        "id": "uwBNYkRuFn2G",
        "colab_type": "code",
        "colab": {}
      },
      "source": [
        "#because of runtime i made this. should be deleted\n",
        "#NEGATIVE = ['человек', 'официант', 'ждать', 'официантка', 'туда', 'заказ', 'заказать', 'решить', 'принести', 'сказать', 'вообще', 'минута', 'администратор', 'счёт']\n",
        "#POSITIVE = ['всегда', 'интерьер', 'вкусно', 'много', 'отличный', 'спасибо', 'приятный', 'быстро', 'атмосфера', 'самый', 'место', 'десерт', 'весь', 'кухня', 'вкусный', 'музыка', 'хороший', 'очень', 'хотеться', 'понравиться', 'уютный', 'вкус', 'выбор', 'персонал', 'соус', 'хорошо']"
      ],
      "execution_count": 0,
      "outputs": []
    },
    {
      "cell_type": "code",
      "metadata": {
        "id": "xeLdqFyXFXd5",
        "colab_type": "code",
        "outputId": "aed3c407-bd73-4a15-ea80-fcdc76ea6283",
        "colab": {
          "base_uri": "https://localhost:8080/"
        }
      },
      "source": [
        "for word in POSITIVE:\n",
        "  hyperonims = get_supc([[word]], rels_list)\n",
        "  for hyperonim in hyperonims:\n",
        "    hyperonim = ' '.join(hyperonim) if isinstance(hyperonim,list) else hyperonim\n",
        "    for item in food:\n",
        "      if item in hyperonim:\n",
        "        final_words.append(word2output('Food', word, 1))\n",
        "    for item in service:\n",
        "      if item in hyperonim:\n",
        "        final_words.append(word2output('Service', word, 1))\n",
        "\n",
        "for word in NEGATIVE:\n",
        "  hyperonims = get_supc([[word]], rels_list)\n",
        "  for hyperonim in hyperonims:\n",
        "    hyperonim = ' '.join(hyperonim) if isinstance(hyperonim,list) else hyperonim\n",
        "    for item in food:\n",
        "      if item in hyperonim:\n",
        "        final_words.append(word2output('Food', word, 0))\n",
        "    for item in service:\n",
        "      if item in hyperonim:\n",
        "        final_words.append(word2output('Service', word, 0))\n",
        "    \n",
        "\n",
        "final_words = list(set(final_words))\n",
        "print(final_words)\n",
        "print(len(final_words))"
      ],
      "execution_count": 0,
      "outputs": [
        {
          "output_type": "stream",
          "text": [
            "[word2output(aspect='Service', word='официант', score=0), word2output(aspect='Service', word='администратор', score=0), word2output(aspect='Service', word='персонал', score=1), word2output(aspect='Food', word='соус', score=1), word2output(aspect='Food', word='вино', score=1), word2output(aspect='Food', word='десерт', score=1)]\n",
            "6\n"
          ],
          "name": "stdout"
        }
      ]
    },
    {
      "cell_type": "markdown",
      "metadata": {
        "id": "ecCHPjyjtcnh",
        "colab_type": "text"
      },
      "source": [
        "Добавляется мало слов, потому что не находятся гиперонимы (см. ячейку ниже)"
      ]
    },
    {
      "cell_type": "code",
      "metadata": {
        "id": "Mh6MPj-CF8yC",
        "colab_type": "code",
        "outputId": "d5500772-8829-4ace-c392-9e495c9ab726",
        "colab": {
          "base_uri": "https://localhost:8080/"
        }
      },
      "source": [
        "for word in NEGATIVE:\n",
        "  print('WORD:', word)\n",
        "  print(get_supc([[word]], rels_list))"
      ],
      "execution_count": 0,
      "outputs": [
        {
          "output_type": "stream",
          "text": [
            "WORD: человек\n",
            "[['человек'], ['живой организм', 'субъект деятельности'], ['биологическая сущность', 'постоянная сущность'], ['физическая сущность']]\n",
            "WORD: официантка\n",
            "[['официантка']]\n",
            "WORD: счёт\n",
            "[['счёт']]\n",
            "WORD: заказать\n",
            "[['заказать']]\n",
            "WORD: туда\n",
            "[['туда']]\n",
            "WORD: вообще\n",
            "[['вообще']]\n",
            "WORD: заказ\n",
            "[['заказ']]\n",
            "WORD: принести\n",
            "[['принести']]\n",
            "WORD: администратор\n",
            "[['администратор'], ['должностное лицо', 'административная должность'], ['служащий (работник)', 'должность'], ['работник', 'роль, положение, место'], ['человек'], ['живой организм', 'субъект деятельности'], ['биологическая сущность', 'постоянная сущность'], ['физическая сущность']]\n",
            "WORD: минута\n",
            "[['минута']]\n",
            "WORD: сказать\n",
            "[['сказать']]\n",
            "WORD: ждать\n",
            "[['ждать']]\n",
            "WORD: решить\n",
            "[['решить']]\n",
            "WORD: официант\n",
            "[['официант'], ['обслуживающий персонал', 'работник общественного питания'], ['работник', 'работник'], ['человек', 'человек'], ['живой организм', 'субъект деятельности', 'живой организм', 'субъект деятельности'], ['биологическая сущность', 'постоянная сущность', 'биологическая сущность', 'постоянная сущность'], ['физическая сущность', 'физическая сущность']]\n"
          ],
          "name": "stdout"
        }
      ]
    },
    {
      "cell_type": "markdown",
      "metadata": {
        "id": "JDW1Y8FQIkx5",
        "colab_type": "text"
      },
      "source": [
        "## Wiki_ru_wordnet - Можно даже не запускать. Тут ничего нового не добавляется"
      ]
    },
    {
      "cell_type": "code",
      "metadata": {
        "id": "PdEEex9aIrNa",
        "colab_type": "code",
        "colab": {}
      },
      "source": [
        "import nltk\n",
        "!pip install wiki_ru_wordnet"
      ],
      "execution_count": 0,
      "outputs": []
    },
    {
      "cell_type": "code",
      "metadata": {
        "id": "F3RxUzhHJGX7",
        "colab_type": "code",
        "colab": {}
      },
      "source": [
        "from wiki_ru_wordnet import WikiWordnet\n",
        "import re\n",
        "wikiwordnet = WikiWordnet()"
      ],
      "execution_count": 0,
      "outputs": []
    },
    {
      "cell_type": "code",
      "metadata": {
        "id": "72IXEmZlM-KO",
        "colab_type": "code",
        "outputId": "a2e9bec3-2837-4b5f-c222-3233339cffa3",
        "colab": {
          "base_uri": "https://localhost:8080/",
          "height": 910
        }
      },
      "source": [
        "for word in POSITIVE:\n",
        "  print('word', word)\n",
        "  synsets = wikiwordnet.get_synsets(word)\n",
        "  if len(synsets) == 0:\n",
        "    continue\n",
        "  else:\n",
        "    for synset in synsets:\n",
        "      for hypernym in wikiwordnet.get_hypernyms(synset):\n",
        "        hyperonims = [w.lemma() for w in hypernym.get_words()]\n",
        "        print('hyperonims for word {}: {}'.format(word, hyperonims))\n",
        "        for aspect in food:\n",
        "          if aspect in hyperonims:\n",
        "            print('WE FOUND EDA')\n",
        "        for aspect in service:\n",
        "          if aspect in hyperonims:\n",
        "            print('WE FOUND SERVCE')"
      ],
      "execution_count": 0,
      "outputs": [
        {
          "output_type": "stream",
          "text": [
            "word всегда\n",
            "hyperonims for word всегда: ['местоименное наречие']\n",
            "word интерьер\n",
            "word вкусно\n",
            "hyperonims for word вкусно: ['приятно']\n",
            "word много\n",
            "hyperonims for word много: ['избыток']\n",
            "hyperonims for word много: ['множество']\n",
            "hyperonims for word много: ['единица', 'мера']\n",
            "word отличный\n",
            "hyperonims for word отличный: ['иной']\n",
            "hyperonims for word отличный: ['остальной', 'прочий', 'другой', 'иной']\n",
            "hyperonims for word отличный: ['необычный', 'необыкновенный', 'непривычный', 'странный', 'причудливый', 'чудной']\n",
            "hyperonims for word отличный: ['шикарный', 'роскошный', 'богатый']\n",
            "hyperonims for word отличный: ['хороший']\n",
            "hyperonims for word отличный: ['пригожий', 'привлекательный', 'смазливый', 'симпатичный', 'приятный', 'хорошенький', 'красивый', 'миловидный']\n",
            "word спасибо\n",
            "hyperonims for word спасибо: ['признательность']\n",
            "word приятный\n",
            "hyperonims for word приятный: ['кузявый']\n",
            "hyperonims for word приятный: ['кузявый']\n",
            "word быстро\n",
            "hyperonims for word быстро: ['быстренько']\n",
            "word атмосфера\n",
            "hyperonims for word атмосфера: ['смесь']\n",
            "word самый\n",
            "hyperonims for word самый: ['как раз']\n",
            "hyperonims for word самый: ['именно', 'точно']\n",
            "word место\n",
            "hyperonims for word место: ['чистина']\n",
            "word десерт\n",
            "hyperonims for word десерт: ['еда', 'кушанье']\n",
            "WE FOUND EDA\n",
            "word весь\n",
            "hyperonims for word весь: ['племя']\n",
            "word кухня\n",
            "hyperonims for word кухня: ['корпусная мебель']\n",
            "word вкусный\n",
            "word музыка\n",
            "hyperonims for word музыка: ['музыкальный инструмент']\n",
            "word хороший\n",
            "word очень\n",
            "word хотеться\n",
            "word понравиться\n",
            "word уютный\n",
            "word вкус\n",
            "word выбор\n",
            "hyperonims for word выбор: ['мера', 'мероприятие']\n",
            "word персонал\n",
            "word соус\n",
            "word хорошо\n",
            "hyperonims for word хорошо: ['шикарно']\n"
          ],
          "name": "stdout"
        }
      ]
    },
    {
      "cell_type": "markdown",
      "metadata": {
        "id": "kP179r_-lkuZ",
        "colab_type": "text"
      },
      "source": [
        "## Yet another try to find aspect - ADAGRAM"
      ]
    },
    {
      "cell_type": "markdown",
      "metadata": {
        "id": "pQepygfKva5P",
        "colab_type": "text"
      },
      "source": [
        "Идея такая: Подрубить Адаграм. Посмотреть для POSITIVE и NEGATIVE на соседей, с которыми они встречаются. Если есть что-то из списка FOOD or SERIVICE - добавляем в final_words"
      ]
    },
    {
      "cell_type": "code",
      "metadata": {
        "id": "No6U5crpwNKJ",
        "colab_type": "code",
        "outputId": "0be0cdfb-260f-4c9c-d0c1-926d4b671a1f",
        "colab": {
          "base_uri": "https://localhost:8080/",
          "height": 272
        }
      },
      "source": [
        "!pip install git+https://github.com/lopuhin/python-adagram.git"
      ],
      "execution_count": 0,
      "outputs": [
        {
          "output_type": "stream",
          "text": [
            "Collecting git+https://github.com/lopuhin/python-adagram.git\n",
            "  Cloning https://github.com/lopuhin/python-adagram.git to /tmp/pip-req-build-d0sta04w\n",
            "  Running command git clone -q https://github.com/lopuhin/python-adagram.git /tmp/pip-req-build-d0sta04w\n",
            "Requirement already satisfied: cython in /usr/local/lib/python3.6/dist-packages (from adagram==0.0.1) (0.29.14)\n",
            "Requirement already satisfied: joblib in /usr/local/lib/python3.6/dist-packages (from adagram==0.0.1) (0.14.1)\n",
            "Requirement already satisfied: numpy>=1.9 in /usr/local/lib/python3.6/dist-packages (from adagram==0.0.1) (1.17.4)\n",
            "Requirement already satisfied: six in /usr/local/lib/python3.6/dist-packages (from adagram==0.0.1) (1.12.0)\n",
            "Building wheels for collected packages: adagram\n",
            "  Building wheel for adagram (setup.py) ... \u001b[?25l\u001b[?25hdone\n",
            "  Created wheel for adagram: filename=adagram-0.0.1-cp36-cp36m-linux_x86_64.whl size=464594 sha256=d03658ed64481cf2fac327fa9e2f9aa13486ecb0aac66444b4a4dc7e22e26913\n",
            "  Stored in directory: /tmp/pip-ephem-wheel-cache-b3rug6kb/wheels/11/0f/46/f5df96670df8f7973b4c2311ffc9b02e435a7bd3207f992c4d\n",
            "Successfully built adagram\n",
            "Installing collected packages: adagram\n",
            "Successfully installed adagram-0.0.1\n"
          ],
          "name": "stdout"
        }
      ]
    },
    {
      "cell_type": "code",
      "metadata": {
        "id": "8pXPZnlHwFxi",
        "colab_type": "code",
        "colab": {}
      },
      "source": [
        "import adagram"
      ],
      "execution_count": 0,
      "outputs": []
    },
    {
      "cell_type": "code",
      "metadata": {
        "id": "Yb27s3ZCloP7",
        "colab_type": "code",
        "outputId": "2397a7cf-9d77-47aa-def8-3f5b641718ec",
        "colab": {
          "base_uri": "https://localhost:8080/",
          "height": 222
        }
      },
      "source": [
        "!wget https://s3.amazonaws.com/kostia.lopuhin/all.a010.p10.d300.w5.m100.nonorm.slim.joblib"
      ],
      "execution_count": 0,
      "outputs": [
        {
          "output_type": "stream",
          "text": [
            "--2019-12-22 01:55:40--  https://s3.amazonaws.com/kostia.lopuhin/all.a010.p10.d300.w5.m100.nonorm.slim.joblib\n",
            "Resolving s3.amazonaws.com (s3.amazonaws.com)... 52.216.142.198\n",
            "Connecting to s3.amazonaws.com (s3.amazonaws.com)|52.216.142.198|:443... connected.\n",
            "HTTP request sent, awaiting response... 200 OK\n",
            "Length: 1462416741 (1.4G) [application/x-www-form-urlencoded]\n",
            "Saving to: ‘all.a010.p10.d300.w5.m100.nonorm.slim.joblib’\n",
            "\n",
            "all.a010.p10.d300.w 100%[===================>]   1.36G  70.0MB/s    in 20s     \n",
            "\n",
            "2019-12-22 01:56:00 (70.2 MB/s) - ‘all.a010.p10.d300.w5.m100.nonorm.slim.joblib’ saved [1462416741/1462416741]\n",
            "\n"
          ],
          "name": "stdout"
        }
      ]
    },
    {
      "cell_type": "code",
      "metadata": {
        "id": "aYNCKhpgv1Ih",
        "colab_type": "code",
        "colab": {}
      },
      "source": [
        "vm = adagram.VectorModel.load('all.a010.p10.d300.w5.m100.nonorm.slim.joblib')"
      ],
      "execution_count": 0,
      "outputs": []
    },
    {
      "cell_type": "code",
      "metadata": {
        "id": "3a1pnaCCw2PU",
        "colab_type": "code",
        "outputId": "762ec559-845f-4eb5-ac6c-b0d8164ebc4d",
        "colab": {
          "base_uri": "https://localhost:8080/",
          "height": 104
        }
      },
      "source": [
        "for word in POSITIVE:\n",
        "  try:\n",
        "    definitions = vm.word_sense_probs(word)\n",
        "  except:\n",
        "    continue\n",
        "  for i, _ in enumerate(definitions):\n",
        "    neighbors = vm.sense_neighbors(word, i)\n",
        "    for neighbor in neighbors:\n",
        "      if neighbor[0] in food:\n",
        "        #print(neighbor[0], word, food)\n",
        "        final_words.append(word2output('Food', word, 1))\n",
        "      if neighbor[0] in service:\n",
        "        #print(neighbor[0], word, service)\n",
        "        final_words.append(word2output('Service', word, 1))\n",
        "\n",
        "for word in NEGATIVE:\n",
        "  try:\n",
        "    definitions = vm.word_sense_probs(word)\n",
        "  except:\n",
        "    continue\n",
        "  for i, _ in enumerate(definitions):\n",
        "    neighbors = vm.sense_neighbors(word, i)\n",
        "    for neighbor in neighbors:\n",
        "      if neighbor[0] in food:\n",
        "        #print(neighbor[0], word, food)\n",
        "        final_words.append(word2output('Food', word, 0))\n",
        "      if neighbor[0] in service:\n",
        "        #print(neighbor[0], word, service)\n",
        "        final_words.append(word2output('Service', word, 0))\n",
        "\n",
        "final_words = list(set(final_words))\n",
        "print(final_words)\n",
        "print(len(final_words))"
      ],
      "execution_count": 0,
      "outputs": [
        {
          "output_type": "stream",
          "text": [
            "/usr/local/lib/python3.6/dist-packages/adagram/model.py:124: RuntimeWarning: invalid value encountered in true_divide\n",
            "  sim_matrix = np.dot(self.In, s_v) / self.InNorms\n"
          ],
          "name": "stderr"
        },
        {
          "output_type": "stream",
          "text": [
            "[word2output(aspect='Service', word='персонал', score=1), word2output(aspect='Food', word='вкус', score=1), word2output(aspect='Service', word='администратор', score=0), word2output(aspect='Service', word='официант', score=0), word2output(aspect='Food', word='соус', score=1), word2output(aspect='Food', word='кухня', score=1), word2output(aspect='Food', word='вкусный', score=1), word2output(aspect='Food', word='десерт', score=1)]\n",
            "8\n"
          ],
          "name": "stdout"
        }
      ]
    },
    {
      "cell_type": "markdown",
      "metadata": {
        "id": "DdSviAKSde4h",
        "colab_type": "text"
      },
      "source": [
        "## TO OUTPUT FILE"
      ]
    },
    {
      "cell_type": "markdown",
      "metadata": {
        "id": "QhM33ZTadnIF",
        "colab_type": "text"
      },
      "source": [
        "Writing final_words to output txt file in the right format. Each element in final_word is a namedtuple with structure: word2output = namedtuple('word2output', ['aspect', 'word', 'score'])"
      ]
    },
    {
      "cell_type": "code",
      "metadata": {
        "id": "TCi1GDzbdhOm",
        "colab_type": "code",
        "colab": {}
      },
      "source": [
        "#final_words = [word2output('Service', 'официант', '0'),  word2output('Service', 'официант', '0')]\n",
        "#word2output = namedtuple('word2output', ['aspect', 'word', 'score'])"
      ],
      "execution_count": 0,
      "outputs": []
    },
    {
      "cell_type": "code",
      "metadata": {
        "id": "joE1Lilzdl5Q",
        "colab_type": "code",
        "colab": {}
      },
      "source": [
        "with open('output_task1.txt', 'w', encoding='utf-8') as f:\n",
        "  for item in final_words:\n",
        "    f.write('{}\\t{}\\t{}\\n'.format(item.aspect, item.word, item.score))"
      ],
      "execution_count": 0,
      "outputs": []
    },
    {
      "cell_type": "code",
      "metadata": {
        "colab_type": "code",
        "outputId": "dff2ff88-06f5-4efa-b2f0-cfa2e3403423",
        "id": "V04_ytVB1UZu",
        "colab": {
          "base_uri": "https://localhost:8080/",
          "height": 406
        }
      },
      "source": [
        "#На случай если нужно расширить именно те файлы, ссылки на которые даны в гугл доке\n",
        "#Тут ссылки неправильные, исправьте плиз если нужно будет все таки в эти файлы записывать, а не один новый создать\n",
        "!wget -O food.txt https://docs.google.com/document/d/1niutB_Vz8giXd6Fiv5dQ_3JXOqg9Vs7eMXMgAdsyF-c/edit\n",
        "!wget -O service.txt https://drive.google.com/file/d/1EdOueBXcT8KyDdcGylTkskfAc-dGcSyF/view"
      ],
      "execution_count": 0,
      "outputs": [
        {
          "output_type": "stream",
          "text": [
            "--2019-12-21 23:39:39--  https://docs.google.com/document/d/1niutB_Vz8giXd6Fiv5dQ_3JXOqg9Vs7eMXMgAdsyF-c/edit\n",
            "Resolving docs.google.com (docs.google.com)... 74.125.195.101, 74.125.195.102, 74.125.195.139, ...\n",
            "Connecting to docs.google.com (docs.google.com)|74.125.195.101|:443... connected.\n",
            "HTTP request sent, awaiting response... 200 OK\n",
            "Length: unspecified [text/html]\n",
            "Saving to: ‘food.txt’\n",
            "\n",
            "\rfood.txt                [<=>                 ]       0  --.-KB/s               \rfood.txt                [ <=>                ] 124.60K  --.-KB/s    in 0.06s   \n",
            "\n",
            "2019-12-21 23:39:40 (1.97 MB/s) - ‘food.txt’ saved [127591]\n",
            "\n",
            "--2019-12-21 23:39:40--  https://drive.google.com/file/d/1EdOueBXcT8KyDdcGylTkskfAc-dGcSyF/view\n",
            "Resolving drive.google.com (drive.google.com)... 74.125.197.138, 74.125.197.100, 74.125.197.139, ...\n",
            "Connecting to drive.google.com (drive.google.com)|74.125.197.138|:443... connected.\n",
            "HTTP request sent, awaiting response... 200 OK\n",
            "Length: unspecified [text/html]\n",
            "Saving to: ‘service.txt’\n",
            "\n",
            "service.txt             [ <=>                ]  67.77K  --.-KB/s    in 0.03s   \n",
            "\n",
            "2019-12-21 23:39:41 (1.92 MB/s) - ‘service.txt’ saved [69400]\n",
            "\n"
          ],
          "name": "stdout"
        }
      ]
    },
    {
      "cell_type": "code",
      "metadata": {
        "id": "n5KIRPn50Gj1",
        "colab_type": "code",
        "colab": {}
      },
      "source": [
        "with open('food.txt', 'a', encoding='utf-8') as f:\n",
        "  for item in final_words:\n",
        "    if item.aspect == 'Food':\n",
        "      f.write('{}\\t{}\\t{}\\n'.format(item.aspect, item.word, item.score))\n",
        "with open('service.txt', 'a', encoding='utf-8') as f:\n",
        "  for item in final_words:\n",
        "    if item.aspect == 'Service':\n",
        "      f.write('{}\\t{}\\t{}\\n'.format(item.aspect, item.word, item.score))"
      ],
      "execution_count": 0,
      "outputs": []
    },
    {
      "cell_type": "markdown",
      "metadata": {
        "id": "OeSTJWmx1zxO",
        "colab_type": "text"
      },
      "source": [
        "Скорее всего, получилась полная хрень, т.к. добавились только существительные, а как можно судить о тональности по существительным. Но, если порассуждать, то похуй."
      ]
    },
    {
      "cell_type": "markdown",
      "metadata": {
        "id": "DMEHyyn-YGk8",
        "colab_type": "text"
      },
      "source": [
        "# 2. CNN SHIT - Does not work"
      ]
    },
    {
      "cell_type": "markdown",
      "metadata": {
        "id": "HLTAhVEGM5k-",
        "colab_type": "text"
      },
      "source": [
        "### Seminar corpus - skip if you want to run cnn on development corpus"
      ]
    },
    {
      "cell_type": "code",
      "metadata": {
        "id": "048K2wEsM9_V",
        "colab_type": "code",
        "outputId": "6eb16648-d821-4fcd-c0ee-710df3affc8e",
        "colab": {
          "base_uri": "https://localhost:8080/",
          "height": 386
        }
      },
      "source": [
        "!wget https://raw.githubusercontent.com/sjut/HSE-Compling/master/seminars/data/reviews_tok.txt\n",
        "!wget https://raw.githubusercontent.com/sjut/HSE-Compling/master/seminars/data/reviews_scores.txt"
      ],
      "execution_count": 0,
      "outputs": [
        {
          "output_type": "stream",
          "text": [
            "--2019-12-22 22:40:25--  https://raw.githubusercontent.com/sjut/HSE-Compling/master/seminars/data/reviews_tok.txt\n",
            "Resolving raw.githubusercontent.com (raw.githubusercontent.com)... 151.101.0.133, 151.101.64.133, 151.101.128.133, ...\n",
            "Connecting to raw.githubusercontent.com (raw.githubusercontent.com)|151.101.0.133|:443... connected.\n",
            "HTTP request sent, awaiting response... 200 OK\n",
            "Length: 8489426 (8.1M) [text/plain]\n",
            "Saving to: ‘reviews_tok.txt’\n",
            "\n",
            "\rreviews_tok.txt       0%[                    ]       0  --.-KB/s               \rreviews_tok.txt     100%[===================>]   8.10M  --.-KB/s    in 0.1s    \n",
            "\n",
            "2019-12-22 22:40:25 (62.4 MB/s) - ‘reviews_tok.txt’ saved [8489426/8489426]\n",
            "\n",
            "--2019-12-22 22:40:27--  https://raw.githubusercontent.com/sjut/HSE-Compling/master/seminars/data/reviews_scores.txt\n",
            "Resolving raw.githubusercontent.com (raw.githubusercontent.com)... 151.101.0.133, 151.101.64.133, 151.101.128.133, ...\n",
            "Connecting to raw.githubusercontent.com (raw.githubusercontent.com)|151.101.0.133|:443... connected.\n",
            "HTTP request sent, awaiting response... 200 OK\n",
            "Length: 37305 (36K) [text/plain]\n",
            "Saving to: ‘reviews_scores.txt’\n",
            "\n",
            "reviews_scores.txt  100%[===================>]  36.43K  --.-KB/s    in 0.01s   \n",
            "\n",
            "2019-12-22 22:40:27 (2.89 MB/s) - ‘reviews_scores.txt’ saved [37305/37305]\n",
            "\n"
          ],
          "name": "stdout"
        }
      ]
    },
    {
      "cell_type": "code",
      "metadata": {
        "id": "jk2NZUy8NFfI",
        "colab_type": "code",
        "colab": {}
      },
      "source": [
        "texts = []\n",
        "with open(\"reviews_tok.txt\") as f:\n",
        "    for line in f:\n",
        "        texts.append(line.rstrip('\\r\\n').split())\n",
        "scores = []\n",
        "with open(\"reviews_scores.txt\") as f:\n",
        "    scores = list(map(lambda x: float(x.rstrip(\"\\r\\n\")), f.readlines()))"
      ],
      "execution_count": 0,
      "outputs": []
    },
    {
      "cell_type": "code",
      "metadata": {
        "id": "t6Ije_29NRFP",
        "colab_type": "code",
        "outputId": "8879ac35-ca5c-429b-8e8e-aab8ee9b3bc9",
        "colab": {
          "base_uri": "https://localhost:8080/",
          "height": 34
        }
      },
      "source": [
        "scores = np.array(scores)\n",
        "binary_scores = scores > 5.\n",
        "print(binary_scores[0])\n",
        "binary_scores = binary_scores.astype(int)[:2994]"
      ],
      "execution_count": 0,
      "outputs": [
        {
          "output_type": "stream",
          "text": [
            "True\n"
          ],
          "name": "stdout"
        }
      ]
    },
    {
      "cell_type": "code",
      "metadata": {
        "id": "PmH9MeE4xPqv",
        "colab_type": "code",
        "outputId": "010407e7-fd41-40f7-cc2f-1d49d20ddd65",
        "colab": {
          "base_uri": "https://localhost:8080/",
          "height": 269
        }
      },
      "source": [
        "texts[0]"
      ],
      "execution_count": 0,
      "outputs": [
        {
          "output_type": "execute_result",
          "data": {
            "text/plain": [
              "['понравиться_VERB',\n",
              " '._PUNCT',\n",
              " 'не_PART',\n",
              " 'супер_NOUN',\n",
              " '-_PUNCT',\n",
              " 'пупер_NOUN',\n",
              " ',_PUNCT',\n",
              " 'но_CCONJ',\n",
              " 'вполне_ADV',\n",
              " 'мять_VERB',\n",
              " ',_PUNCT',\n",
              " 'вкусно_ADV',\n",
              " 'и_PART',\n",
              " 'ценник_NOUN',\n",
              " 'демократичный_ADJ']"
            ]
          },
          "metadata": {
            "tags": []
          },
          "execution_count": 41
        }
      ]
    },
    {
      "cell_type": "markdown",
      "metadata": {
        "id": "m2RddXWEM_4c",
        "colab_type": "text"
      },
      "source": [
        "### Development corpus"
      ]
    },
    {
      "cell_type": "code",
      "metadata": {
        "id": "GPrpbZWly-EV",
        "colab_type": "code",
        "colab": {}
      },
      "source": [
        "# with open(os.path.join(drive_prefix, 'texts.txt'), 'w', encoding='utf-8') as f:\n",
        "#     f.write('\\n'.join(texts_with_replacements))"
      ],
      "execution_count": 0,
      "outputs": []
    },
    {
      "cell_type": "code",
      "metadata": {
        "id": "BYt1zN4xhEeC",
        "colab_type": "code",
        "outputId": "d1ba4bf1-f346-4031-ec12-657f18b7a0d9",
        "colab": {
          "base_uri": "https://localhost:8080/",
          "height": 34
        }
      },
      "source": [
        "# !chmod 777 /content/drive/My\\ Drive/udpipe/bin-linux64/udpipe\n",
        "# !/content/drive/My\\ Drive/udpipe/bin-linux64/udpipe --input horizontal --output conllu \\\n",
        "# --tokenize --tag --parse \\\n",
        "# /content/drive/My\\ Drive/russian-syntagrus.udpipe \\\n",
        "# < /content/drive/My\\ Drive/texts.txt > /content/drive/My\\ Drive/texts.conllu"
      ],
      "execution_count": 0,
      "outputs": [
        {
          "output_type": "stream",
          "text": [
            "Loading UDPipe model: done.\n"
          ],
          "name": "stdout"
        }
      ]
    },
    {
      "cell_type": "code",
      "metadata": {
        "id": "pfl_kYS0Ckfh",
        "colab_type": "code",
        "outputId": "beb01fe2-448a-49d9-f689-ed3b9540e4ad",
        "colab": {
          "base_uri": "https://localhost:8080/",
          "height": 34
        }
      },
      "source": [
        "# texts = []\n",
        "\n",
        "# with open(os.path.join(drive_prefix, 'texts.conllu'), 'r', encoding='utf-8') as f:\n",
        "#     parsed_sents = f.read().split('\\n\\n')\n",
        "#     text_num = 0\n",
        "#     texts.append([])\n",
        "#     word_num = 0\n",
        "#     for sent in tqdm(parsed_sents, desc=\"Sentences\", total=len(parsed_sents)):\n",
        "#         tree = [line for line in sent.split('\\n') if line and line[0] != '#']\n",
        "#         for word in tree:\n",
        "#             _, lemma, _, pos, *_ = word.split('\\t')\n",
        "#             if word_num == len(texts_with_replacements[text_num].split()):\n",
        "#                 texts.append([])\n",
        "#                 text_num += 1\n",
        "#                 word_num = 0\n",
        "#             if ' ' in lemma:\n",
        "#                 lemmas = lemma.split()\n",
        "#             else:\n",
        "#                 lemmas = [lemma]\n",
        "\n",
        "#             for lemma in lemmas:\n",
        "#                 if word_num == len(texts_with_replacements[text_num].split()):\n",
        "#                     texts.append([])\n",
        "#                     text_num += 1\n",
        "#                     word_num = 0\n",
        "#                 if lemma == texts_with_replacements[text_num].split()[word_num]:\n",
        "#                     word_num += 1\n",
        "#                 elif texts_with_replacements[text_num].split()[word_num].endswith(lemma):\n",
        "#                     word_num += 1\n",
        "#                 if '_' in lemma:\n",
        "#                     texts[-1].append(f'{lemma}_X')\n",
        "#                 else:\n",
        "#                     texts[-1].append(f'{lemma}_{pos}')"
      ],
      "execution_count": 0,
      "outputs": [
        {
          "output_type": "stream",
          "text": [
            "Sentences: 100%|██████████| 4114/4114 [02:01<00:00, 33.82it/s]\n"
          ],
          "name": "stderr"
        }
      ]
    },
    {
      "cell_type": "code",
      "metadata": {
        "id": "EovatzbtlPdZ",
        "colab_type": "code",
        "colab": {}
      },
      "source": [
        "# with open(os.path.join(drive_prefix, 'texts_with_pos.json'), 'w', encoding='utf-8') as f:\n",
        "#     json.dump(texts, f)"
      ],
      "execution_count": 0,
      "outputs": []
    },
    {
      "cell_type": "code",
      "metadata": {
        "id": "w-ZACEJFsyoF",
        "colab_type": "code",
        "colab": {}
      },
      "source": [
        "with open(os.path.join(drive_prefix, 'texts_with_pos.json'), 'r', encoding='utf-8') as f:\n",
        "    texts = json.load(f)"
      ],
      "execution_count": 0,
      "outputs": []
    },
    {
      "cell_type": "code",
      "metadata": {
        "id": "Lkxr4Fv5RhBL",
        "colab_type": "code",
        "colab": {}
      },
      "source": [
        "# # Чтобы в colab-е tqdm хорошо работала\n",
        "# for instance in list(tqdm._instances):\n",
        "#     tqdm._decr_instances(instance)"
      ],
      "execution_count": 0,
      "outputs": []
    },
    {
      "cell_type": "markdown",
      "metadata": {
        "id": "1jWe7CwsYTcr",
        "colab_type": "text"
      },
      "source": [
        "Все это делаем на наших текстах (texts)"
      ]
    },
    {
      "cell_type": "code",
      "metadata": {
        "id": "CywwdMsRbGe6",
        "colab_type": "code",
        "outputId": "e2c84de1-7df0-4349-db61-3d39d24ad540",
        "colab": {
          "base_uri": "https://localhost:8080/",
          "height": 286
        }
      },
      "source": [
        "!wget http://vectors.nlpl.eu/repository/11/180.zip\n",
        "!unzip 180.zip"
      ],
      "execution_count": 0,
      "outputs": [
        {
          "output_type": "stream",
          "text": [
            "--2019-12-24 03:05:07--  http://vectors.nlpl.eu/repository/11/180.zip\n",
            "Resolving vectors.nlpl.eu (vectors.nlpl.eu)... 129.240.189.225\n",
            "Connecting to vectors.nlpl.eu (vectors.nlpl.eu)|129.240.189.225|:80... connected.\n",
            "HTTP request sent, awaiting response... 200 OK\n",
            "Length: 484452285 (462M) [application/zip]\n",
            "Saving to: ‘180.zip’\n",
            "\n",
            "180.zip             100%[===================>] 462.01M  22.8MB/s    in 31s     \n",
            "\n",
            "2019-12-24 03:05:39 (14.7 MB/s) - ‘180.zip’ saved [484452285/484452285]\n",
            "\n",
            "Archive:  180.zip\n",
            "  inflating: README                  \n",
            "  inflating: meta.json               \n",
            "  inflating: model.bin               \n",
            "  inflating: model.txt               \n"
          ],
          "name": "stdout"
        }
      ]
    },
    {
      "cell_type": "code",
      "metadata": {
        "id": "IWRxQYk9a84X",
        "colab_type": "code",
        "colab": {}
      },
      "source": [
        "w2v_model = KeyedVectors.load_word2vec_format('model.bin', binary=True)"
      ],
      "execution_count": 0,
      "outputs": []
    },
    {
      "cell_type": "code",
      "metadata": {
        "id": "IEJp_EFFHI8Q",
        "colab_type": "code",
        "colab": {}
      },
      "source": [
        "embedding_dim = w2v_model.vector_size"
      ],
      "execution_count": 0,
      "outputs": []
    },
    {
      "cell_type": "code",
      "metadata": {
        "id": "NMFeJa1IbOzY",
        "colab_type": "code",
        "colab": {}
      },
      "source": [
        "scores_train, scores_val, texts_train, texts_val = train_test_split(\n",
        "    binary_scores[:4000], texts[:4000], test_size=0.3, random_state=42)"
      ],
      "execution_count": 0,
      "outputs": []
    },
    {
      "cell_type": "code",
      "metadata": {
        "id": "OKLQeyvRbXcr",
        "colab_type": "code",
        "colab": {}
      },
      "source": [
        "def max_length(texts):\n",
        "    return max(len(t) for t in texts)"
      ],
      "execution_count": 0,
      "outputs": []
    },
    {
      "cell_type": "code",
      "metadata": {
        "id": "FwpBY3RScAZM",
        "colab_type": "code",
        "colab": {}
      },
      "source": [
        "def pymorphy_to_udpipe(pos):\n",
        "    dct = {\n",
        "        'NOUN': 'NOUN',\n",
        "        'ADJF': 'ADJ',\n",
        "        'ADJS': 'ADJ',\n",
        "        'COMP': 'ADV',\n",
        "        'VERB': 'VERB',\n",
        "        'INFN': 'VERB',\n",
        "        'PRTF': 'ADJ',\n",
        "        'PRTS': 'ADJ',\n",
        "        'GRND': 'VERB',\n",
        "        'NUMR': 'NUM',\n",
        "        'ADVB': 'ADV',\n",
        "        'NPRO': 'PRON',\n",
        "        'PRED': 'ADV',\n",
        "        'PREP': 'ADP',\n",
        "        'CONJ': 'CCONJ',\n",
        "        'PRCL': 'PART',\n",
        "        'INTJ': 'INTJ'\n",
        "    }\n",
        "    if pos is None:\n",
        "        return ''\n",
        "    assert pos in dct\n",
        "    return dct[pos]"
      ],
      "execution_count": 0,
      "outputs": []
    },
    {
      "cell_type": "code",
      "metadata": {
        "id": "a47P2Sj2bTFE",
        "colab_type": "code",
        "colab": {}
      },
      "source": [
        "MAX_LEN = max(max_length(texts_train), max_length(texts_val))\n",
        "\n",
        "def load_dataset(lines, embedding_dim, num_examples=None):\n",
        "    prep = lines[:num_examples]\n",
        "    vocab = Counter()\n",
        "    x_tensor = np.zeros((len(prep), MAX_LEN, embedding_dim))\n",
        "    for i, text in enumerate(prep):\n",
        "        w = None\n",
        "        for j, w in enumerate(text):\n",
        "            try:\n",
        "                if '_' in w:\n",
        "                    vectors = []\n",
        "                    for ww in w.split('_')[:-1]:\n",
        "                        ww += '_' + pymorphy_to_udpipe(m.parse(ww)[0].tag.POS)\n",
        "                        try:\n",
        "                            vectors.append(w2v_model[ww])\n",
        "                        except KeyError:\n",
        "                            pass\n",
        "                    if vectors:\n",
        "                        x_tensor[i, j, :] = np.mean(np.array(vectors), axis=0)\n",
        "                    else:\n",
        "                        x_tensor[i, j, :] = np.zeros((1, embedding_dim))\n",
        "\n",
        "                else:\n",
        "                    x_tensor[i, j, :] = w2v_model[w]\n",
        "            except KeyError:\n",
        "                pass\n",
        "        if w is not None:\n",
        "            vocab[w] += 1\n",
        "    return x_tensor, vocab"
      ],
      "execution_count": 0,
      "outputs": []
    },
    {
      "cell_type": "code",
      "metadata": {
        "id": "2WmCJxy1bbSt",
        "colab_type": "code",
        "colab": {}
      },
      "source": [
        "input_tensor_train, inp_vocab_train = load_dataset(texts_train, w2v_model.vector_size)\n",
        "# input_tensor_val, inp_vocab_val = load_dataset(texts_val, w2v_model.vector_size)"
      ],
      "execution_count": 0,
      "outputs": []
    },
    {
      "cell_type": "code",
      "metadata": {
        "id": "Yv9-8cW2fYKM",
        "colab_type": "code",
        "outputId": "0549c966-955c-4bac-bb78-0eabb0aa0cfc",
        "colab": {
          "base_uri": "https://localhost:8080/",
          "height": 34
        }
      },
      "source": [
        "# w2v_model.vector_size, input_tensor_train.shape"
      ],
      "execution_count": 0,
      "outputs": [
        {
          "output_type": "execute_result",
          "data": {
            "text/plain": [
              "(300, (2800, 911, 300))"
            ]
          },
          "metadata": {
            "tags": []
          },
          "execution_count": 33
        }
      ]
    },
    {
      "cell_type": "code",
      "metadata": {
        "id": "Mqdy5UrwfwDZ",
        "colab_type": "code",
        "outputId": "57e8d51f-5717-4bb0-dd1e-1f36d6f0d8d5",
        "colab": {
          "base_uri": "https://localhost:8080/",
          "height": 34
        }
      },
      "source": [
        "# scores_train"
      ],
      "execution_count": 0,
      "outputs": [
        {
          "output_type": "execute_result",
          "data": {
            "text/plain": [
              "array([0, 1, 1, ..., 1, 1, 1])"
            ]
          },
          "metadata": {
            "tags": []
          },
          "execution_count": 34
        }
      ]
    },
    {
      "cell_type": "code",
      "metadata": {
        "id": "X97wqkhLfycs",
        "colab_type": "code",
        "outputId": "18e42c10-1f40-4551-b8ee-f76d6f1a5180",
        "colab": {
          "base_uri": "https://localhost:8080/",
          "height": 34
        }
      },
      "source": [
        "# inp_vocab = inp_vocab_train + inp_vocab_val\n",
        "# vocab_inp_size = len(inp_vocab)+1\n",
        "\n",
        "# print(vocab_inp_size)"
      ],
      "execution_count": 0,
      "outputs": [
        {
          "output_type": "stream",
          "text": [
            "1867\n"
          ],
          "name": "stdout"
        }
      ]
    },
    {
      "cell_type": "code",
      "metadata": {
        "id": "AzPVLPEOg54_",
        "colab_type": "code",
        "outputId": "38a6f826-628f-4ee4-a4d7-72ff9bfa8635",
        "colab": {
          "base_uri": "https://localhost:8080/",
          "height": 171
        }
      },
      "source": [
        "# def build_network(max_len, voc_size, embedding_dim, output_n, activation=None, dense_unit=256, dropout_rate=0.25):\n",
        "#     if activation:\n",
        "#         activation = \"relu\"\n",
        "\n",
        "#     net = {}\n",
        "#     net[\"in\"] = keras.Input(shape=[1, max_len, embedding_dim])\n",
        "#     net[\"conv\"] = keras.layers.Conv2D(filters=100, kernel_size=(1,2), strides=(1, 1), padding='valid')(net[\"in\"])\n",
        "#     net[\"pool\"] = keras.layers.MaxPooling2D(pool_size=(1, max_len-1), strides=(1,1))(net[\"conv\"])\n",
        "#     net[\"out\"] = network_base.dense_layer(keras.layers.Flatten()(net[\"pool\"]), units=output_n, activation=activation)\n",
        "#     net[\"sm_out\"] = network_base.softmax(net[\"out\"])\n",
        "\n",
        "\n",
        "#     net.update({\n",
        "#         \"input_shape\": [1, max_len, embedding_dim],\n",
        "#         \"output_n\": output_n,\n",
        "#     })\n",
        "#     return net\n",
        "\n",
        "# net = build_network(MAX_LEN, vocab_inp_size, embedding_dim, 2)\n",
        "# model_without_softmax = keras.models.Model(inputs=net['in'], outputs=net['out'])\n",
        "# model_with_softmax = keras.models.Model(inputs=net['in'], outputs=net['sm_out'])"
      ],
      "execution_count": 0,
      "outputs": [
        {
          "output_type": "stream",
          "text": [
            "WARNING:tensorflow:From /usr/local/lib/python3.6/dist-packages/keras/backend/tensorflow_backend.py:74: The name tf.get_default_graph is deprecated. Please use tf.compat.v1.get_default_graph instead.\n",
            "\n",
            "WARNING:tensorflow:From /usr/local/lib/python3.6/dist-packages/keras/backend/tensorflow_backend.py:517: The name tf.placeholder is deprecated. Please use tf.compat.v1.placeholder instead.\n",
            "\n",
            "WARNING:tensorflow:From /usr/local/lib/python3.6/dist-packages/keras/backend/tensorflow_backend.py:4138: The name tf.random_uniform is deprecated. Please use tf.random.uniform instead.\n",
            "\n",
            "WARNING:tensorflow:From /usr/local/lib/python3.6/dist-packages/keras/backend/tensorflow_backend.py:3976: The name tf.nn.max_pool is deprecated. Please use tf.nn.max_pool2d instead.\n",
            "\n"
          ],
          "name": "stdout"
        }
      ]
    },
    {
      "cell_type": "code",
      "metadata": {
        "id": "lmcUHd2mhKRj",
        "colab_type": "code",
        "outputId": "066c63eb-cb14-4b2b-b76f-6427a83bd6bb",
        "colab": {
          "base_uri": "https://localhost:8080/",
          "height": 302
        }
      },
      "source": [
        "# model_without_softmax.summary()"
      ],
      "execution_count": 0,
      "outputs": [
        {
          "output_type": "stream",
          "text": [
            "_________________________________________________________________\n",
            "Layer (type)                 Output Shape              Param #   \n",
            "=================================================================\n",
            "input_1 (InputLayer)         (None, 1, 911, 300)       0         \n",
            "_________________________________________________________________\n",
            "conv2d_1 (Conv2D)            (None, 1, 910, 100)       60100     \n",
            "_________________________________________________________________\n",
            "max_pooling2d_1 (MaxPooling2 (None, 1, 1, 100)         0         \n",
            "_________________________________________________________________\n",
            "flatten_1 (Flatten)          (None, 100)               0         \n",
            "_________________________________________________________________\n",
            "dense_1 (Dense)              (None, 2)                 202       \n",
            "=================================================================\n",
            "Total params: 60,302\n",
            "Trainable params: 60,302\n",
            "Non-trainable params: 0\n",
            "_________________________________________________________________\n"
          ],
          "name": "stdout"
        }
      ]
    },
    {
      "cell_type": "code",
      "metadata": {
        "id": "qI3WoO-phqXg",
        "colab_type": "code",
        "colab": {}
      },
      "source": [
        "# def to_one_hot(y):\n",
        "#     return keras.utils.to_categorical(y, 2)\n",
        "\n",
        "# def train_model(model, epochs=20):\n",
        "    \n",
        "#     x_train = np.expand_dims(input_tensor_train, axis=1)\n",
        "#     y_train = to_one_hot(scores_train)\n",
        "    \n",
        "#     x_val = np.expand_dims(input_tensor_val, axis=1)\n",
        "#     y_val = to_one_hot(scores_val)\n",
        "\n",
        "#     model.compile(loss='categorical_crossentropy',\n",
        "#                   optimizer=keras.optimizers.Adam(),\n",
        "#                   metrics=['accuracy'])\n",
        "\n",
        "#     history = model.fit(x_train, y_train,\n",
        "#                         batch_size=256,\n",
        "#                         epochs=epochs,\n",
        "#                         verbose=1,\n",
        "#                         validation_data=(x_val, y_val),\n",
        "#                         shuffle=True\n",
        "#                        )"
      ],
      "execution_count": 0,
      "outputs": []
    },
    {
      "cell_type": "code",
      "metadata": {
        "id": "YnwixQajiLhF",
        "colab_type": "code",
        "outputId": "c63bde38-401e-4be5-d1a8-91629a5ffe46",
        "colab": {
          "base_uri": "https://localhost:8080/",
          "height": 1000
        }
      },
      "source": [
        "# train_model(model_with_softmax, epochs=50)"
      ],
      "execution_count": 0,
      "outputs": [
        {
          "output_type": "stream",
          "text": [
            "WARNING:tensorflow:From /usr/local/lib/python3.6/dist-packages/keras/optimizers.py:790: The name tf.train.Optimizer is deprecated. Please use tf.compat.v1.train.Optimizer instead.\n",
            "\n",
            "WARNING:tensorflow:From /usr/local/lib/python3.6/dist-packages/keras/backend/tensorflow_backend.py:3295: The name tf.log is deprecated. Please use tf.math.log instead.\n",
            "\n",
            "WARNING:tensorflow:From /usr/local/lib/python3.6/dist-packages/tensorflow_core/python/ops/math_grad.py:1424: where (from tensorflow.python.ops.array_ops) is deprecated and will be removed in a future version.\n",
            "Instructions for updating:\n",
            "Use tf.where in 2.0, which has the same broadcast rule as np.where\n",
            "WARNING:tensorflow:From /usr/local/lib/python3.6/dist-packages/keras/backend/tensorflow_backend.py:986: The name tf.assign_add is deprecated. Please use tf.compat.v1.assign_add instead.\n",
            "\n",
            "WARNING:tensorflow:From /usr/local/lib/python3.6/dist-packages/keras/backend/tensorflow_backend.py:973: The name tf.assign is deprecated. Please use tf.compat.v1.assign instead.\n",
            "\n",
            "WARNING:tensorflow:From /usr/local/lib/python3.6/dist-packages/keras/backend/tensorflow_backend.py:2741: The name tf.Session is deprecated. Please use tf.compat.v1.Session instead.\n",
            "\n",
            "Train on 2800 samples, validate on 1200 samples\n",
            "Epoch 1/50\n",
            "WARNING:tensorflow:From /usr/local/lib/python3.6/dist-packages/keras/backend/tensorflow_backend.py:174: The name tf.get_default_session is deprecated. Please use tf.compat.v1.get_default_session instead.\n",
            "\n",
            "WARNING:tensorflow:From /usr/local/lib/python3.6/dist-packages/keras/backend/tensorflow_backend.py:181: The name tf.ConfigProto is deprecated. Please use tf.compat.v1.ConfigProto instead.\n",
            "\n",
            "WARNING:tensorflow:From /usr/local/lib/python3.6/dist-packages/keras/backend/tensorflow_backend.py:190: The name tf.global_variables is deprecated. Please use tf.compat.v1.global_variables instead.\n",
            "\n",
            "WARNING:tensorflow:From /usr/local/lib/python3.6/dist-packages/keras/backend/tensorflow_backend.py:199: The name tf.is_variable_initialized is deprecated. Please use tf.compat.v1.is_variable_initialized instead.\n",
            "\n",
            "WARNING:tensorflow:From /usr/local/lib/python3.6/dist-packages/keras/backend/tensorflow_backend.py:206: The name tf.variables_initializer is deprecated. Please use tf.compat.v1.variables_initializer instead.\n",
            "\n",
            "2800/2800 [==============================] - 19s 7ms/step - loss: 0.9899 - acc: 0.7050 - val_loss: 0.7270 - val_acc: 0.8000\n",
            "Epoch 2/50\n",
            "2800/2800 [==============================] - 4s 1ms/step - loss: 0.4993 - acc: 0.8025 - val_loss: 0.5004 - val_acc: 0.8092\n",
            "Epoch 3/50\n",
            "2800/2800 [==============================] - 4s 2ms/step - loss: 0.3338 - acc: 0.8657 - val_loss: 0.5267 - val_acc: 0.7667\n",
            "Epoch 4/50\n",
            "2800/2800 [==============================] - 4s 2ms/step - loss: 0.2509 - acc: 0.9021 - val_loss: 0.4612 - val_acc: 0.8092\n",
            "Epoch 5/50\n",
            "2800/2800 [==============================] - 4s 2ms/step - loss: 0.1902 - acc: 0.9354 - val_loss: 0.4606 - val_acc: 0.8100\n",
            "Epoch 6/50\n",
            "2800/2800 [==============================] - 4s 2ms/step - loss: 0.1523 - acc: 0.9604 - val_loss: 0.4520 - val_acc: 0.8100\n",
            "Epoch 7/50\n",
            "2800/2800 [==============================] - 4s 2ms/step - loss: 0.1250 - acc: 0.9764 - val_loss: 0.4463 - val_acc: 0.8133\n",
            "Epoch 8/50\n",
            "2800/2800 [==============================] - 4s 2ms/step - loss: 0.1056 - acc: 0.9861 - val_loss: 0.4444 - val_acc: 0.8167\n",
            "Epoch 9/50\n",
            "2800/2800 [==============================] - 4s 2ms/step - loss: 0.0902 - acc: 0.9907 - val_loss: 0.4433 - val_acc: 0.8150\n",
            "Epoch 10/50\n",
            "2800/2800 [==============================] - 4s 1ms/step - loss: 0.0784 - acc: 0.9929 - val_loss: 0.4445 - val_acc: 0.8200\n",
            "Epoch 11/50\n",
            "2800/2800 [==============================] - 4s 1ms/step - loss: 0.0695 - acc: 0.9939 - val_loss: 0.4464 - val_acc: 0.8200\n",
            "Epoch 12/50\n",
            "2800/2800 [==============================] - 4s 1ms/step - loss: 0.0611 - acc: 0.9946 - val_loss: 0.4491 - val_acc: 0.8200\n",
            "Epoch 13/50\n",
            "2800/2800 [==============================] - 4s 1ms/step - loss: 0.0546 - acc: 0.9961 - val_loss: 0.4500 - val_acc: 0.8183\n",
            "Epoch 14/50\n",
            "2800/2800 [==============================] - 4s 1ms/step - loss: 0.0491 - acc: 0.9971 - val_loss: 0.4514 - val_acc: 0.8192\n",
            "Epoch 15/50\n",
            "2800/2800 [==============================] - 4s 2ms/step - loss: 0.0446 - acc: 0.9975 - val_loss: 0.4484 - val_acc: 0.8208\n",
            "Epoch 16/50\n",
            "2800/2800 [==============================] - 4s 2ms/step - loss: 0.0407 - acc: 0.9975 - val_loss: 0.4496 - val_acc: 0.8183\n",
            "Epoch 17/50\n",
            "2800/2800 [==============================] - 4s 2ms/step - loss: 0.0374 - acc: 0.9979 - val_loss: 0.4670 - val_acc: 0.8225\n",
            "Epoch 18/50\n",
            "2800/2800 [==============================] - 4s 2ms/step - loss: 0.0342 - acc: 0.9979 - val_loss: 0.4540 - val_acc: 0.8183\n",
            "Epoch 19/50\n",
            "2800/2800 [==============================] - 4s 2ms/step - loss: 0.0315 - acc: 0.9979 - val_loss: 0.4579 - val_acc: 0.8242\n",
            "Epoch 20/50\n",
            "2800/2800 [==============================] - 4s 2ms/step - loss: 0.0291 - acc: 0.9982 - val_loss: 0.4632 - val_acc: 0.8242\n",
            "Epoch 21/50\n",
            "2800/2800 [==============================] - 4s 1ms/step - loss: 0.0271 - acc: 0.9982 - val_loss: 0.4617 - val_acc: 0.8242\n",
            "Epoch 22/50\n",
            "2800/2800 [==============================] - 4s 2ms/step - loss: 0.0253 - acc: 0.9982 - val_loss: 0.4678 - val_acc: 0.8250\n",
            "Epoch 23/50\n",
            "2800/2800 [==============================] - 4s 2ms/step - loss: 0.0237 - acc: 0.9982 - val_loss: 0.4610 - val_acc: 0.8208\n",
            "Epoch 24/50\n",
            "2800/2800 [==============================] - 4s 1ms/step - loss: 0.0223 - acc: 0.9982 - val_loss: 0.4626 - val_acc: 0.8242\n",
            "Epoch 25/50\n",
            "2800/2800 [==============================] - 4s 1ms/step - loss: 0.0209 - acc: 0.9982 - val_loss: 0.4690 - val_acc: 0.8267\n",
            "Epoch 26/50\n",
            "2800/2800 [==============================] - 4s 1ms/step - loss: 0.0197 - acc: 0.9982 - val_loss: 0.4688 - val_acc: 0.8267\n",
            "Epoch 27/50\n",
            "2800/2800 [==============================] - 4s 2ms/step - loss: 0.0186 - acc: 0.9982 - val_loss: 0.4670 - val_acc: 0.8250\n",
            "Epoch 28/50\n",
            "2800/2800 [==============================] - 4s 1ms/step - loss: 0.0175 - acc: 0.9982 - val_loss: 0.4800 - val_acc: 0.8317\n",
            "Epoch 29/50\n",
            "2800/2800 [==============================] - 4s 2ms/step - loss: 0.0167 - acc: 0.9982 - val_loss: 0.4712 - val_acc: 0.8283\n",
            "Epoch 30/50\n",
            "2800/2800 [==============================] - 4s 2ms/step - loss: 0.0158 - acc: 0.9982 - val_loss: 0.4794 - val_acc: 0.8292\n",
            "Epoch 31/50\n",
            "2800/2800 [==============================] - 4s 2ms/step - loss: 0.0150 - acc: 0.9982 - val_loss: 0.4739 - val_acc: 0.8283\n",
            "Epoch 32/50\n",
            "2800/2800 [==============================] - 4s 2ms/step - loss: 0.0144 - acc: 0.9982 - val_loss: 0.4832 - val_acc: 0.8350\n",
            "Epoch 33/50\n",
            "2800/2800 [==============================] - 4s 2ms/step - loss: 0.0137 - acc: 0.9982 - val_loss: 0.4782 - val_acc: 0.8300\n",
            "Epoch 34/50\n",
            "2800/2800 [==============================] - 4s 2ms/step - loss: 0.0131 - acc: 0.9982 - val_loss: 0.4817 - val_acc: 0.8308\n",
            "Epoch 35/50\n",
            "2800/2800 [==============================] - 4s 2ms/step - loss: 0.0126 - acc: 0.9982 - val_loss: 0.4896 - val_acc: 0.8350\n",
            "Epoch 36/50\n",
            "2800/2800 [==============================] - 4s 2ms/step - loss: 0.0120 - acc: 0.9982 - val_loss: 0.4821 - val_acc: 0.8300\n",
            "Epoch 37/50\n",
            "2800/2800 [==============================] - 4s 2ms/step - loss: 0.0115 - acc: 0.9982 - val_loss: 0.4909 - val_acc: 0.8350\n",
            "Epoch 38/50\n",
            "2800/2800 [==============================] - 4s 2ms/step - loss: 0.0111 - acc: 0.9982 - val_loss: 0.4846 - val_acc: 0.8300\n",
            "Epoch 39/50\n",
            "2800/2800 [==============================] - 4s 2ms/step - loss: 0.0107 - acc: 0.9982 - val_loss: 0.4921 - val_acc: 0.8308\n",
            "Epoch 40/50\n",
            "2800/2800 [==============================] - 4s 1ms/step - loss: 0.0102 - acc: 0.9982 - val_loss: 0.4926 - val_acc: 0.8325\n",
            "Epoch 41/50\n",
            "2800/2800 [==============================] - 4s 2ms/step - loss: 0.0099 - acc: 0.9982 - val_loss: 0.4914 - val_acc: 0.8325\n",
            "Epoch 42/50\n",
            "2800/2800 [==============================] - 4s 1ms/step - loss: 0.0095 - acc: 0.9982 - val_loss: 0.4967 - val_acc: 0.8333\n",
            "Epoch 43/50\n",
            "2800/2800 [==============================] - 4s 1ms/step - loss: 0.0092 - acc: 0.9982 - val_loss: 0.4944 - val_acc: 0.8325\n",
            "Epoch 44/50\n",
            "2800/2800 [==============================] - 4s 1ms/step - loss: 0.0089 - acc: 0.9982 - val_loss: 0.4983 - val_acc: 0.8342\n",
            "Epoch 45/50\n",
            "2800/2800 [==============================] - 4s 1ms/step - loss: 0.0086 - acc: 0.9982 - val_loss: 0.5001 - val_acc: 0.8342\n",
            "Epoch 46/50\n",
            "2800/2800 [==============================] - 4s 1ms/step - loss: 0.0083 - acc: 0.9982 - val_loss: 0.5015 - val_acc: 0.8342\n",
            "Epoch 47/50\n",
            "2800/2800 [==============================] - 4s 1ms/step - loss: 0.0081 - acc: 0.9982 - val_loss: 0.5042 - val_acc: 0.8342\n",
            "Epoch 48/50\n",
            "2800/2800 [==============================] - 4s 2ms/step - loss: 0.0078 - acc: 0.9986 - val_loss: 0.5010 - val_acc: 0.8358\n",
            "Epoch 49/50\n",
            "2800/2800 [==============================] - 4s 2ms/step - loss: 0.0076 - acc: 0.9993 - val_loss: 0.5072 - val_acc: 0.8350\n",
            "Epoch 50/50\n",
            "2800/2800 [==============================] - 4s 1ms/step - loss: 0.0074 - acc: 0.9993 - val_loss: 0.5071 - val_acc: 0.8358\n"
          ],
          "name": "stdout"
        }
      ]
    },
    {
      "cell_type": "code",
      "metadata": {
        "id": "gtDAoa-4ibVx",
        "colab_type": "code",
        "colab": {}
      },
      "source": [
        "# model_without_softmax.set_weights(model_with_softmax.get_weights())"
      ],
      "execution_count": 0,
      "outputs": []
    },
    {
      "cell_type": "code",
      "metadata": {
        "id": "sJamdTge6sAZ",
        "colab_type": "code",
        "colab": {}
      },
      "source": [
        "# model_with_softmax.save('model_with_softmax.h5')\n",
        "# model_without_softmax.save('model_without_softmax.h5')"
      ],
      "execution_count": 0,
      "outputs": []
    },
    {
      "cell_type": "code",
      "metadata": {
        "id": "qWcbe6yT-3YS",
        "colab_type": "code",
        "colab": {}
      },
      "source": [
        "get_ipython().system_raw(\"unrar x models.rar\")"
      ],
      "execution_count": 0,
      "outputs": []
    },
    {
      "cell_type": "code",
      "metadata": {
        "id": "Ud9c5bWb63jX",
        "colab_type": "code",
        "colab": {}
      },
      "source": [
        "model_with_softmax = keras.models.load_model('model_with_softmax.h5')\n",
        "model_without_softmax = keras.models.load_model('model_without_softmax.h5')"
      ],
      "execution_count": 0,
      "outputs": []
    },
    {
      "cell_type": "code",
      "metadata": {
        "id": "a5A_5-lqj_Of",
        "colab_type": "code",
        "colab": {}
      },
      "source": [
        "methods = ['gradient', 'lrp.z', 'lrp.alpha_2_beta_1', 'pattern.attribution']\n",
        "kwargs = [{}, {}, {}, {'pattern_type': 'relu'}]"
      ],
      "execution_count": 0,
      "outputs": []
    },
    {
      "cell_type": "code",
      "metadata": {
        "id": "OdH88JK8kDJd",
        "colab_type": "code",
        "outputId": "2120ef9a-aa83-43cb-8d59-44e2f0f6ed78",
        "colab": {
          "base_uri": "https://localhost:8080/",
          "height": 50
        }
      },
      "source": [
        "analyzers = []\n",
        "\n",
        "for method, kws in zip(methods, kwargs):\n",
        "    analyzer = innvestigate.create_analyzer(method, model_without_softmax, **kws)\n",
        "    analyzer.fit(np.expand_dims(input_tensor_train, axis=1), batch_size=256, verbose=1)\n",
        "    analyzers.append(analyzer)"
      ],
      "execution_count": 0,
      "outputs": [
        {
          "output_type": "stream",
          "text": [
            "Epoch 1/1\n",
            "11/11 [==============================] - 3s 230ms/step - loss: 2.0000 - broadcast_5_loss: 1.0000 - broadcast_6_loss: 1.0000\n"
          ],
          "name": "stdout"
        }
      ]
    },
    {
      "cell_type": "code",
      "metadata": {
        "id": "C-YqsDojkIcM",
        "colab_type": "code",
        "colab": {}
      },
      "source": [
        "def analyze_scores(X, ridx):\n",
        "    max_len = max_length(input_tensor_train)\n",
        "\n",
        "    analysis = np.zeros([len(analyzers), 1, max_len])\n",
        "    x = X[ridx]\n",
        "    t_start = time.time()\n",
        "    x = x.reshape((1, 1, max_len, embedding_dim))\n",
        "    presm = model_without_softmax.predict_on_batch(x)[0]  # forward pass without softmax\n",
        "    prob = model_with_softmax.predict_on_batch(x)[0]  # forward pass with softmax\n",
        "    y_hat = prob.argmax()\n",
        "  \n",
        "    for aidx, analyzer in enumerate(analyzers):\n",
        "        a = np.squeeze(analyzer.analyze(x))\n",
        "        a = np.sum(a, axis=1)\n",
        "        analysis[aidx] = a\n",
        "    t_elapsed = time.time() - t_start\n",
        "    # print('Review %d (%.4fs)'% (ridx, t_elapsed))\n",
        "    return analysis, y_hat"
      ],
      "execution_count": 0,
      "outputs": []
    },
    {
      "cell_type": "code",
      "metadata": {
        "id": "V4ZLuZ-ZkZr8",
        "colab_type": "code",
        "outputId": "e59ceee5-0a35-45dd-a8a3-593c5e094697",
        "colab": {
          "base_uri": "https://localhost:8080/",
          "height": 202
        }
      },
      "source": [
        "# analyze_scores(input_tensor_train, 97)"
      ],
      "execution_count": 0,
      "outputs": [
        {
          "output_type": "execute_result",
          "data": {
            "text/plain": [
              "(array([[[-2.42939740e-01, -3.80236089e-01,  7.36282766e-03, ...,\n",
              "           0.00000000e+00,  0.00000000e+00,  0.00000000e+00]],\n",
              " \n",
              "        [[ 1.20856553e-01,  1.43756938e+00, -2.03811145e+00, ...,\n",
              "           0.00000000e+00,  0.00000000e+00,  0.00000000e+00]],\n",
              " \n",
              "        [[ 2.42632046e-01,  5.11384010e-01, -4.03351635e-01, ...,\n",
              "           0.00000000e+00,  0.00000000e+00,  0.00000000e+00]],\n",
              " \n",
              "        [[ 1.76126289e+01,  8.18374252e+00, -1.48226185e+01, ...,\n",
              "           0.00000000e+00,  0.00000000e+00,  0.00000000e+00]]]), 1)"
            ]
          },
          "metadata": {
            "tags": []
          },
          "execution_count": 89
        }
      ]
    },
    {
      "cell_type": "code",
      "metadata": {
        "id": "WyrHg5U4kwqL",
        "colab_type": "code",
        "colab": {}
      },
      "source": [
        "def plot_text_heatmap(words, scores, title=\"\", width=5, height=0.2, verbose=0, max_word_per_line=10):\n",
        "    fig = plt.figure(figsize=(width, height))\n",
        "    \n",
        "    ax = plt.gca()\n",
        "\n",
        "    ax.set_title(title, loc='left')\n",
        "    tokens = words\n",
        "    if verbose > 0:\n",
        "        print('len words : %d | len scores : %d' % (len(words), len(scores)))\n",
        "\n",
        "    cmap = plt.cm.ScalarMappable(cmap=cm.bwr)\n",
        "    cmap.set_clim(0, 1)\n",
        "    \n",
        "    canvas = ax.figure.canvas\n",
        "    t = ax.transData\n",
        "\n",
        "    # normalize scores to the followings:\n",
        "    # - negative scores in [0, 0.5]\n",
        "    # - positive scores in (0.5, 1]\n",
        "    normalized_scores = 0.5 * scores / np.max(np.abs(scores)) + 0.5\n",
        "\n",
        "    if verbose > 1:\n",
        "        print('Raw score')\n",
        "        print(scores)\n",
        "        print('Normalized score')\n",
        "        print(normalized_scores)\n",
        "\n",
        "    # make sure the heatmap doesn't overlap with the title\n",
        "    loc_y = -0.2\n",
        "\n",
        "    for i, token in enumerate(tokens):\n",
        "        *rgb, _ = cmap.to_rgba(normalized_scores[i], bytes=True)\n",
        "        color = '#%02x%02x%02x' % tuple(rgb)\n",
        "\n",
        "        text = ax.text(0.0, loc_y, token,\n",
        "                       bbox={\n",
        "                           'facecolor': color,\n",
        "                           'pad': 5.0,\n",
        "                           'linewidth': 1,\n",
        "                           'boxstyle': 'round,pad=0.5'\n",
        "                       }, transform=t)\n",
        "\n",
        "        text.draw(canvas.get_renderer())\n",
        "        ex = text.get_window_extent()\n",
        "        \n",
        "        # create a new line if the line exceeds the length\n",
        "        if (i+1) % max_word_per_line == 0:\n",
        "            loc_y = loc_y -  2.5\n",
        "            t = ax.transData\n",
        "        else:\n",
        "            t = transforms.offset_copy(text._transform, x=ex.width+15, units='dots')\n",
        "\n",
        "    if verbose == 0:\n",
        "        ax.axis('off')"
      ],
      "execution_count": 0,
      "outputs": []
    },
    {
      "cell_type": "code",
      "metadata": {
        "id": "T4scFb2Ek6gb",
        "colab_type": "code",
        "colab": {}
      },
      "source": [
        "a, y_pred = analyze_scores(input_tensor_train, 100)"
      ],
      "execution_count": 0,
      "outputs": []
    },
    {
      "cell_type": "code",
      "metadata": {
        "id": "LR-5mqhClBjm",
        "colab_type": "code",
        "outputId": "a8d9bcd3-af97-46ee-ca63-19312abfb372",
        "colab": {
          "base_uri": "https://localhost:8080/",
          "height": 156
        }
      },
      "source": [
        "plot_text_heatmap(\n",
        "    texts_train[0],\n",
        "    a[0][0]\n",
        ")"
      ],
      "execution_count": 0,
      "outputs": [
        {
          "output_type": "display_data",
          "data": {
            "image/png": "[encoded data removed]",
            "text/plain": [
              "<Figure size 360x14.4 with 1 Axes>"
            ]
          },
          "metadata": {
            "tags": []
          }
        }
      ]
    },
    {
      "cell_type": "code",
      "metadata": {
        "id": "qsIaTDo27_pc",
        "colab_type": "code",
        "colab": {}
      },
      "source": [
        "def func(input_text):\n",
        "    input_sents = nltk.sent_tokenize(input_text)\n",
        "    texts_with_replacements = []\n",
        "    indices = []\n",
        "    for input_sent in input_sents:\n",
        "        normalized_text = normalize(input_sent)\n",
        "        words_with_indices = [(i, word) for i, word in enumerate(normalized_text) if word not in russian_stopwords]\n",
        "        indices.append([str(elem[0]) for elem in words_with_indices])\n",
        "        text_without_stopword = ' '.join([elem[1] for elem in words_with_indices])\n",
        "        for gram in grams_to_be_replaced:\n",
        "            text = text_without_stopword.replace(gram, gram.replace(' ', '_'))\n",
        "            # for start in [m.start() for m in re.finditer(gram, text_without_stopword)]:\n",
        "            #     indices[-1][start] = '_'.join([elem for elem in indices[-1][start:start + len(gram.split())]])\n",
        "            #     indices[-1][start + 1:start + len(gram.split())] = [None] * (len(gram.split()) - 1)\n",
        "            indices[-1] = [elem for elem in indices[-1] if elem is not None]\n",
        "        texts_with_replacements.append(text)\n",
        "    with open(os.path.join(drive_prefix, 'new_text.txt'), 'w', encoding='utf-8') as f:\n",
        "        f.write('\\n'.join(texts_with_replacements))\n",
        "\n",
        "    !chmod 777 /content/drive/My\\ Drive/udpipe/bin-linux64/udpipe\n",
        "    !/content/drive/My\\ Drive/udpipe/bin-linux64/udpipe --input horizontal --output conllu \\\n",
        "    --tokenize --tag --parse \\\n",
        "    /content/drive/My\\ Drive/russian-syntagrus.udpipe \\\n",
        "    < /content/drive/My\\ Drive/new_text.txt > /content/drive/My\\ Drive/new_text.conllu\n",
        "\n",
        "    texts = []\n",
        "    with open(os.path.join(drive_prefix, 'new_text.conllu'), 'r', encoding='utf-8') as f:\n",
        "        parsed_sents = f.read().split('\\n\\n')\n",
        "        text_num = 0\n",
        "        texts.append([])\n",
        "        word_num = 0\n",
        "        for i_sent, sent in enumerate(tqdm(parsed_sents, desc=\"Sentences\", total=len(parsed_sents))):\n",
        "            tree = [line for line in sent.split('\\n') if line and line[0] != '#']\n",
        "            for word in tree:\n",
        "                _, lemma, _, pos, *_ = word.split('\\t')\n",
        "                if word_num == len(texts_with_replacements[text_num].split()):\n",
        "                    texts.append([])\n",
        "                    text_num += 1\n",
        "                    word_num = 0\n",
        "                if ' ' in lemma:\n",
        "                    lemmas = lemma.split()\n",
        "                else:\n",
        "                    lemmas = [lemma]\n",
        "\n",
        "                for lemma in lemmas:\n",
        "                    if word_num == len(texts_with_replacements[text_num].split()):\n",
        "                        texts.append([])\n",
        "                        text_num += 1\n",
        "                        word_num = 0\n",
        "                    if lemma == texts_with_replacements[text_num].split()[word_num]:\n",
        "                        word_num += 1\n",
        "                    elif texts_with_replacements[text_num].split()[word_num].endswith(lemma):\n",
        "                        word_num += 1\n",
        "                    else:\n",
        "                        indices[i_sent].insert(word_num + 1, indices[word_num])\n",
        "                    if '_' in lemma:\n",
        "                        texts[-1].append(f'{lemma}_X')\n",
        "                    else:\n",
        "                        texts[-1].append(f'{lemma}_{pos}')\n",
        "\n",
        "    input_tensor, inp_vocab = load_dataset(texts, w2v_model.vector_size)\n",
        "\n",
        "    # normalize scores to the followings:\n",
        "    # - negative scores in [0, 0.5]\n",
        "    # - positive scores in (0.5, 1]\n",
        "\n",
        "    texts_dct = []\n",
        "    for i_text, text in enumerate(texts):\n",
        "        texts_dct.append({})\n",
        "        cmap = plt.cm.ScalarMappable(cmap=cm.bwr)\n",
        "        cmap.set_clim(0, 1)\n",
        "\n",
        "        a, y_pred = analyze_scores(input_tensor, i_text)\n",
        "\n",
        "        plot_text_heatmap(\n",
        "            text,\n",
        "            a[0][0]\n",
        "        )\n",
        "\n",
        "        tokens = text\n",
        "        token_scores = [0] * len(tokens)\n",
        "        token_rgb = [[0, 0, 0] for i in range(len(tokens))]\n",
        "        N = 1\n",
        "        for i_score in range(len(a[:N])):\n",
        "            scores = a[i_score][0]\n",
        "            normalized_scores = 0.5 * scores / np.max(np.abs(scores)) + 0.5\n",
        "\n",
        "            for i_token, token in enumerate(tokens):\n",
        "                token_scores[i_token] += normalized_scores[i_token]\n",
        "                *rgb, _ = cmap.to_rgba(normalized_scores[i_token], bytes=True)\n",
        "                # print(token, rgb)\n",
        "                token_rgb[i_token][0] += rgb[0]\n",
        "                token_rgb[i_token][1] += rgb[1]\n",
        "                token_rgb[i_token][2] += rgb[2]\n",
        "\n",
        "        token_scores = np.array(token_scores) / N\n",
        "        token_rgb = np.array(token_rgb) / N\n",
        "        for i_rgb, rgb in enumerate(token_rgb):\n",
        "            # print(rgb, tokens[i_rgb])\n",
        "            if rgb[0] > 200:\n",
        "                if rgb[0] > rgb[2]:\n",
        "                    token_scores[i_rgb] = 1\n",
        "                else:\n",
        "                    token_scores[i_rgb] = 0\n",
        "            elif rgb[2] > 200:\n",
        "                if rgb[2] > rgb[0]:\n",
        "                    token_scores[i_rgb] = 0\n",
        "                else:\n",
        "                    token_scores[i_rgb] = 1\n",
        "            else:\n",
        "                token_scores[i_rgb] = 0.5\n",
        "\n",
        "        negative_sequences = []\n",
        "        negative_indices = []\n",
        "        positive_sequences = []\n",
        "        positive_indices = []\n",
        "        sequence = []\n",
        "        indices_ = []\n",
        "\n",
        "        prev_value = 0.5\n",
        "        for i_token, token_score in enumerate(token_scores):\n",
        "            if token_score > 0.75:\n",
        "                if prev_value <= 0.75:\n",
        "                    if sequence:\n",
        "                        negative_sequences.append(sequence)\n",
        "                        negative_indices.append(indices_)\n",
        "                        sequence = []\n",
        "                        indices_ = []\n",
        "                sequence.append(tokens[i_token])\n",
        "                indices_.append(int(indices[i_text][i_token]))\n",
        "            elif token_score < 0.25:\n",
        "                if prev_value >= 0.25:\n",
        "                    if sequence:\n",
        "                        positive_sequences.append(sequence)\n",
        "                        positive_indices.append(indices_)\n",
        "                        sequence = []\n",
        "                        indices_ = []\n",
        "                sequence.append(tokens[i_token])\n",
        "                indices_.append(int(indices[i_text][i_token]))\n",
        "            else:\n",
        "                sequence = []\n",
        "                indices_ = []\n",
        "            prev_value = token_score\n",
        "        if sequence:\n",
        "            if prev_value < 0.25:\n",
        "                negative_sequences.append(sequence)\n",
        "                negative_indices.append(indices_)\n",
        "            else:\n",
        "                positive_sequences.append(sequence)\n",
        "                positive_indices.append(indices_)\n",
        "        texts_dct[-1]['positive_sequences'] = positive_sequences\n",
        "        texts_dct[-1]['positive_indices'] = positive_indices\n",
        "        texts_dct[-1]['negative_sequences'] = negative_sequences\n",
        "        texts_dct[-1]['negative_indices'] = negative_indices\n",
        "        print()\n",
        "        print('positive_sequences', positive_sequences)\n",
        "        print('positive_indices', positive_indices)\n",
        "        print('negative_sequences', negative_sequences)\n",
        "        print('negative_indices', negative_indices)\n",
        "        print()\n",
        "    return texts_dct, texts, texts_with_replacements"
      ],
      "execution_count": 0,
      "outputs": []
    },
    {
      "cell_type": "code",
      "metadata": {
        "colab_type": "code",
        "outputId": "b02e8a0b-747c-4cbf-c393-9e2d411553de",
        "id": "Ku9gaUBNlX50",
        "colab": {
          "base_uri": "https://localhost:8080/",
          "height": 438
        }
      },
      "source": [
        "texts_dct, sents, sents_with_replacements = func('Я тут был. Здесь очень хорошо, просто прекрасно! А там было просто отвратительно, ужас!')"
      ],
      "execution_count": 0,
      "outputs": [
        {
          "output_type": "stream",
          "text": [
            "Loading UDPipe model: done.\n"
          ],
          "name": "stdout"
        },
        {
          "output_type": "stream",
          "text": [
            "Sentences: 100%|██████████| 2/2 [00:00<00:00, 5540.69it/s]"
          ],
          "name": "stderr"
        },
        {
          "output_type": "stream",
          "text": [
            "\n",
            "positive_sequences []\n",
            "positive_indices []\n",
            "negative_sequences []\n",
            "negative_indices []\n",
            "\n",
            "\n",
            "positive_sequences [['хорошо_ADJ']]\n",
            "positive_indices [[2]]\n",
            "negative_sequences [['очень_ADV'], ['просто_PART', 'прекрасно_ADV']]\n",
            "negative_indices [[1], [3, 4]]\n",
            "\n",
            "\n",
            "positive_sequences [['просто_PART', 'отвратительный_ADJ']]\n",
            "positive_indices [[3, 4]]\n",
            "negative_sequences [['ужас_NOUN']]\n",
            "negative_indices [[5]]\n",
            "\n"
          ],
          "name": "stdout"
        },
        {
          "output_type": "stream",
          "text": [
            "\n"
          ],
          "name": "stderr"
        },
        {
          "output_type": "display_data",
          "data": {
            "image/png": "[encoded data removed]",
            "text/plain": [
              "<Figure size 360x14.4 with 1 Axes>"
            ]
          },
          "metadata": {
            "tags": []
          }
        },
        {
          "output_type": "display_data",
          "data": {
            "image/png": "[encoded data removed]",
            "text/plain": [
              "<Figure size 360x14.4 with 1 Axes>"
            ]
          },
          "metadata": {
            "tags": []
          }
        },
        {
          "output_type": "display_data",
          "data": {
            "image/png": "[encoded data removed]",
            "text/plain": [
              "<Figure size 360x14.4 with 1 Axes>"
            ]
          },
          "metadata": {
            "tags": []
          }
        }
      ]
    },
    {
      "cell_type": "markdown",
      "metadata": {
        "id": "1VSpHvSn7yms",
        "colab_type": "text"
      },
      "source": [
        "# https://github.com/madrugado/Attention-Based-Aspect-Extraction"
      ]
    },
    {
      "cell_type": "code",
      "metadata": {
        "id": "boyeZ7lE2pmt",
        "colab_type": "code",
        "outputId": "bf903845-7783-45cc-c80e-22735ae16b24",
        "colab": {
          "base_uri": "https://localhost:8080/",
          "height": 134
        }
      },
      "source": [
        "!git clone https://github.com/madrugado/Attention-Based-Aspect-Extraction.git attention"
      ],
      "execution_count": 0,
      "outputs": [
        {
          "output_type": "stream",
          "text": [
            "Cloning into 'attention'...\n",
            "remote: Enumerating objects: 4, done.\u001b[K\n",
            "remote: Counting objects: 100% (4/4), done.\u001b[K\n",
            "remote: Compressing objects: 100% (4/4), done.\u001b[K\n",
            "remote: Total 276 (delta 0), reused 0 (delta 0), pack-reused 272\u001b[K\n",
            "Receiving objects: 100% (276/276), 129.42 MiB | 35.42 MiB/s, done.\n",
            "Resolving deltas: 100% (156/156), done.\n"
          ],
          "name": "stdout"
        }
      ]
    },
    {
      "cell_type": "code",
      "metadata": {
        "id": "aYlffTGT7muL",
        "colab_type": "code",
        "outputId": "efa84cb0-bfdd-4327-cdf2-935209d94852",
        "colab": {
          "base_uri": "https://localhost:8080/",
          "height": 34
        }
      },
      "source": [
        "%cd /content/attention/code/"
      ],
      "execution_count": 0,
      "outputs": [
        {
          "output_type": "stream",
          "text": [
            "/content/attention/code\n"
          ],
          "name": "stdout"
        }
      ]
    },
    {
      "cell_type": "code",
      "metadata": {
        "id": "0719Lvl3T0Ve",
        "colab_type": "code",
        "colab": {}
      },
      "source": [
        "train_set = texts_with_replacements[:19030]\n",
        "test_set = texts_with_replacements[19030:]te"
      ],
      "execution_count": 0,
      "outputs": []
    },
    {
      "cell_type": "code",
      "metadata": {
        "id": "NiPPiWydVtnH",
        "colab_type": "code",
        "outputId": "052071e4-5f39-4552-c56e-50d9018c6717",
        "colab": {
          "base_uri": "https://localhost:8080/",
          "height": 104
        }
      },
      "source": [
        "texts_with_replacements[19030:]"
      ],
      "execution_count": 0,
      "outputs": [
        {
          "output_type": "execute_result",
          "data": {
            "text/plain": [
              "['обнаружить салат таракан очень поразить заказать салат ростковый маша будт осторожный',\n",
              " 'забавный заведение симпатичный светлый интерьер особый интересный акцент исключение очень красивый стена натуральный камень бар мера неудобный диван мера неприветливый персонал отдельный внимание заслуживать меню вид огромный талмуд плотный красивый страница разделить середина закладка гордо обещать гастрономический кухня начать неплохой завтрак который можно употребить любой время сутки но содержание особый изыск не поражать омлетик запеканка далёкий идти салат_цезарь апельсиновый заправка мирно соседствовать оливья закуска гастрономичный селёдочка водочка уживаться фуа гра гранд шавермыть сожаление весь шедевр запомнить не удаться великое множество но общий_впечатление сложиться мир нитка голый мерседес решить повар судить весь_наш соотечественник поэтому пройтись блюдо который русский человек сложно испортить взять рассольник почка оливья раковый шейк запеканка десерт рассольник порадовать нужно оливья свой цена вполне приличный хотя старинный рецепт далёкий запеканка оформить красиво но суть представлять бисквит вкрапление творог запеканка который весь привыкнуть детство не остаться намёк цена средне высокий средний чек район 1500 обслуживание вежливый но не более пришлый пятнадцать шесть меню указать будний день 12 18 скидка 15 20 но сеять маркетинговый ход оценить не удаться не смотреть попытка привлечь внимание сделать_заказ девушка принять_заказ ровно 3 минута внести 18 01 метр стойка идти 4 минута практически рекорд да ладный просто показатель отношение ещё неприятный минус курить везде вытяжка удивить огромный количество блюдо коктейльный карта довольно скудный общий стать бар сделать видимо угодить весь но неубедительно другой сторона безрыбье не самый плохой вариант',\n",
              " 'поздравлять администрация ресторан навруз новый_год ваш постоянный клиент который любить рад петербург место всегда радушно встречать спасибо хороший кухня любезный обслуживание замечательный интерьер уютный обстановка ваш музыкант который много год радовать певица шикарный голос гитарист дополнять её именно главный аргумент выбирать ваш_ресторан среди множество другой заметить положительный перемена новый уютный зал очень красивый место общий пользование хотеться большой место танец надеяться наш любимый ресторан каждый год ещё хороший большой новый постоянный клиент всегда',\n",
              " 'очень_нравиться интерьер отличный гриль карта вино соответствовать класс заведение несколько зал живописный вид эрмитаж петропавловка питерский ресторан стать любимый рекомендовать']"
            ]
          },
          "metadata": {
            "tags": []
          },
          "execution_count": 99
        }
      ]
    },
    {
      "cell_type": "code",
      "metadata": {
        "id": "K5Hn7WpP7wBs",
        "colab_type": "code",
        "colab": {}
      },
      "source": [
        "directory = '/content/attention/preprocessed_data/restaurant/'\n",
        "if not os.path.exists(directory):\n",
        "    os.makedirs(directory)"
      ],
      "execution_count": 0,
      "outputs": []
    },
    {
      "cell_type": "code",
      "metadata": {
        "id": "zMGZK0i2CJSj",
        "colab_type": "code",
        "colab": {}
      },
      "source": [
        "with open(os.path.join('/content', 'attention', 'preprocessed_data', 'restaurant', 'train.txt'), 'w', encoding='utf-8') as f:\n",
        "    f.write('\\n'.join(train_set))\n",
        "with open(os.path.join('/content', 'attention', 'preprocessed_data', 'restaurant', 'test.txt'), 'w', encoding='utf-8') as f:\n",
        "    f.write('\\n'.join(test_set))\n",
        "with open(os.path.join('/content', 'attention', 'preprocessed_data', 'restaurant', 'test_label.txt'), 'w', encoding='utf-8') as f:\n",
        "    f.write('еда\\nинтерьер\\nобщее\\nинтерьер')"
      ],
      "execution_count": 0,
      "outputs": []
    },
    {
      "cell_type": "code",
      "metadata": {
        "id": "9bNn99Uy7hZF",
        "colab_type": "code",
        "outputId": "d7635d07-2c7c-4c2a-e7ab-49140eca5ea1",
        "colab": {
          "base_uri": "https://localhost:8080/",
          "height": 87
        }
      },
      "source": [
        "# раскомментить первую строчку # main('restaurant')\n",
        "!python word2vec.py"
      ],
      "execution_count": 0,
      "outputs": [
        {
          "output_type": "stream",
          "text": [
            "Pre-training word embeddings ...\n",
            "/usr/local/lib/python3.6/dist-packages/smart_open/smart_open_lib.py:402: UserWarning: This function is deprecated, use smart_open.open instead. See the migration notes for details: https://github.com/RaRe-Technologies/smart_open/blob/master/README.rst#migrating-to-the-new-open-function\n",
            "  'See the migration notes for details: %s' % _MIGRATION_NOTES_URL\n"
          ],
          "name": "stdout"
        }
      ]
    },
    {
      "cell_type": "code",
      "metadata": {
        "id": "3L_bOKL08IVd",
        "colab_type": "code",
        "colab": {}
      },
      "source": [
        "directory = '/content/attention/datasets/restaurant/'\n",
        "if not os.path.exists(directory):\n",
        "    os.makedirs(directory)"
      ],
      "execution_count": 0,
      "outputs": []
    },
    {
      "cell_type": "code",
      "metadata": {
        "id": "t8fbx55EUhd7",
        "colab_type": "code",
        "colab": {}
      },
      "source": [
        "with open(os.path.join('/content', 'attention', 'datasets', 'restaurant', 'train.txt'), 'w', encoding='utf-8') as f:\n",
        "    f.write('\\n'.join(train_set))\n",
        "with open(os.path.join('/content', 'attention', 'datasets', 'restaurant', 'test.txt'), 'w', encoding='utf-8') as f:\n",
        "    f.write('\\n'.join(test_set))\n",
        "with open(os.path.join('/content', 'attention', 'datasets', 'restaurant', 'test_label.txt'), 'w', encoding='utf-8') as f:\n",
        "    f.write('еда\\nинтерьер\\nобщее\\nинтерьер')"
      ],
      "execution_count": 0,
      "outputs": []
    },
    {
      "cell_type": "code",
      "metadata": {
        "id": "QHYz9ns6UUPs",
        "colab_type": "code",
        "outputId": "c45adc64-3403-462b-dd86-8ba33ad70fcc",
        "colab": {
          "base_uri": "https://localhost:8080/",
          "height": 50
        }
      },
      "source": [
        "# поменять english на russian\n",
        "!python preprocess.py"
      ],
      "execution_count": 0,
      "outputs": [
        {
          "output_type": "stream",
          "text": [
            "\trestaurant train set ...\n",
            "\trestaurant test set ...\n"
          ],
          "name": "stdout"
        }
      ]
    },
    {
      "cell_type": "code",
      "metadata": {
        "id": "Fhe2TzA7_Meu",
        "colab_type": "code",
        "colab": {}
      },
      "source": [
        "with open(os.path.join('/content', 'attention', 'preprocessed_data', 'restaurant', 'test.txt'), 'w', encoding='utf-8') as f:\n",
        "    f.write('\\n'.join(test_set))\n",
        "with open(os.path.join('/content', 'attention', 'preprocessed_data', 'restaurant', 'test_label.txt'), 'w', encoding='utf-8') as f:\n",
        "    f.write('еда\\nинтерьер\\nобщее\\nинтерьер')"
      ],
      "execution_count": 0,
      "outputs": []
    },
    {
      "cell_type": "code",
      "metadata": {
        "id": "HtHQbycJHGM3",
        "colab_type": "code",
        "outputId": "7e1b23ad-457b-4933-9d42-d3a89760f0f1",
        "colab": {
          "base_uri": "https://localhost:8080/",
          "height": 1000
        }
      },
      "source": [
        "!python train.py --emb-name w2v_embedding --domain restaurant -o output_dir"
      ],
      "execution_count": 0,
      "outputs": [
        {
          "output_type": "stream",
          "text": [
            "Using TensorFlow backend.\n",
            "2019-12-24 03:42:47,983 INFO Arguments:\n",
            "2019-12-24 03:42:47,984 INFO   algorithm: adam\n",
            "2019-12-24 03:42:47,984 INFO   aspect_size: 14\n",
            "2019-12-24 03:42:47,984 INFO   batch_size: 32\n",
            "2019-12-24 03:42:47,984 INFO   command: train.py --emb-name w2v_embedding --domain restaurant -o output_dir\n",
            "2019-12-24 03:42:47,984 INFO   domain: restaurant\n",
            "2019-12-24 03:42:47,984 INFO   emb_dim: 100\n",
            "2019-12-24 03:42:47,984 INFO   emb_name: w2v_embedding\n",
            "2019-12-24 03:42:47,984 INFO   epochs: 15\n",
            "2019-12-24 03:42:47,984 INFO   maxlen: 256\n",
            "2019-12-24 03:42:47,984 INFO   neg_size: 20\n",
            "2019-12-24 03:42:47,984 INFO   ortho_reg: 0.1\n",
            "2019-12-24 03:42:47,984 INFO   out_dir_path: output_dir\n",
            "2019-12-24 03:42:47,984 INFO   seed: 1234\n",
            "2019-12-24 03:42:47,984 INFO   vocab_size: 9000\n",
            "Reading data from restaurant\n",
            " Creating vocab ...\n",
            "   1291051 total words, 49774 unique words\n",
            "  keep the top 9000 words\n",
            " Reading dataset ...\n",
            "  train set\n",
            "../preprocessed_data/restaurant/train.txt\n",
            "   <num> hit rate: 1.33%, <unk> hit rate: 7.90%\n",
            "  test set\n",
            "../preprocessed_data/restaurant/test.txt\n",
            "   <num> hit rate: 2.74%, <unk> hit rate: 11.59%\n",
            "Number of training examples:  19030\n",
            "Length of vocab:  9003\n",
            "2019-12-24 03:42:51,821 INFO   Building model\n",
            "2019-12-24 03:42:52,059 INFO 'pattern' package not found; tag filters are not available for English\n",
            "2019-12-24 03:42:52,211 INFO Loading embeddings from: ../preprocessed_data/restaurant/w2v_embedding\n",
            "2019-12-24 03:42:52,211 INFO loading Word2VecKeyedVectors object from ../preprocessed_data/restaurant/w2v_embedding\n",
            "/usr/local/lib/python3.6/dist-packages/smart_open/smart_open_lib.py:402: UserWarning: This function is deprecated, use smart_open.open instead. See the migration notes for details: https://github.com/RaRe-Technologies/smart_open/blob/master/README.rst#migrating-to-the-new-open-function\n",
            "  'See the migration notes for details: %s' % _MIGRATION_NOTES_URL\n",
            "2019-12-24 03:42:52,565 INFO loading wv recursively from ../preprocessed_data/restaurant/w2v_embedding.wv.* with mmap=None\n",
            "2019-12-24 03:42:52,565 INFO setting ignored attribute vectors_norm to None\n",
            "2019-12-24 03:42:52,565 INFO loading vocabulary recursively from ../preprocessed_data/restaurant/w2v_embedding.vocabulary.* with mmap=None\n",
            "2019-12-24 03:42:52,565 INFO loading trainables recursively from ../preprocessed_data/restaurant/w2v_embedding.trainables.* with mmap=None\n",
            "2019-12-24 03:42:52,566 INFO setting ignored attribute cum_table to None\n",
            "2019-12-24 03:42:52,566 INFO loaded ../preprocessed_data/restaurant/w2v_embedding\n",
            "2019-12-24 03:42:53,702 INFO   #vectors: 19039, #dimensions: 200\n",
            "WARNING:tensorflow:From /usr/local/lib/python3.6/dist-packages/keras/backend/tensorflow_backend.py:517: The name tf.placeholder is deprecated. Please use tf.compat.v1.placeholder instead.\n",
            "\n",
            "2019-12-24 03:43:01,368 WARNING From /usr/local/lib/python3.6/dist-packages/keras/backend/tensorflow_backend.py:517: The name tf.placeholder is deprecated. Please use tf.compat.v1.placeholder instead.\n",
            "\n",
            "WARNING:tensorflow:From /usr/local/lib/python3.6/dist-packages/keras/backend/tensorflow_backend.py:4138: The name tf.random_uniform is deprecated. Please use tf.random.uniform instead.\n",
            "\n",
            "2019-12-24 03:43:01,370 WARNING From /usr/local/lib/python3.6/dist-packages/keras/backend/tensorflow_backend.py:4138: The name tf.random_uniform is deprecated. Please use tf.random.uniform instead.\n",
            "\n",
            "WARNING:tensorflow:From /usr/local/lib/python3.6/dist-packages/keras/backend/tensorflow_backend.py:74: The name tf.get_default_graph is deprecated. Please use tf.compat.v1.get_default_graph instead.\n",
            "\n",
            "2019-12-24 03:43:01,381 WARNING From /usr/local/lib/python3.6/dist-packages/keras/backend/tensorflow_backend.py:74: The name tf.get_default_graph is deprecated. Please use tf.compat.v1.get_default_graph instead.\n",
            "\n",
            "2019-12-24 03:43:01,492 INFO Initializing word embedding matrix\n",
            "WARNING:tensorflow:From /usr/local/lib/python3.6/dist-packages/keras/backend/tensorflow_backend.py:174: The name tf.get_default_session is deprecated. Please use tf.compat.v1.get_default_session instead.\n",
            "\n",
            "2019-12-24 03:43:01,492 WARNING From /usr/local/lib/python3.6/dist-packages/keras/backend/tensorflow_backend.py:174: The name tf.get_default_session is deprecated. Please use tf.compat.v1.get_default_session instead.\n",
            "\n",
            "WARNING:tensorflow:From /usr/local/lib/python3.6/dist-packages/keras/backend/tensorflow_backend.py:181: The name tf.ConfigProto is deprecated. Please use tf.compat.v1.ConfigProto instead.\n",
            "\n",
            "2019-12-24 03:43:01,492 WARNING From /usr/local/lib/python3.6/dist-packages/keras/backend/tensorflow_backend.py:181: The name tf.ConfigProto is deprecated. Please use tf.compat.v1.ConfigProto instead.\n",
            "\n",
            "WARNING:tensorflow:From /usr/local/lib/python3.6/dist-packages/keras/backend/tensorflow_backend.py:186: The name tf.Session is deprecated. Please use tf.compat.v1.Session instead.\n",
            "\n",
            "2019-12-24 03:43:01,492 WARNING From /usr/local/lib/python3.6/dist-packages/keras/backend/tensorflow_backend.py:186: The name tf.Session is deprecated. Please use tf.compat.v1.Session instead.\n",
            "\n",
            "2019-12-24 03:43:01.497891: I tensorflow/core/platform/profile_utils/cpu_utils.cc:94] CPU Frequency: 2300000000 Hz\n",
            "2019-12-24 03:43:01.498255: I tensorflow/compiler/xla/service/service.cc:168] XLA service 0x271f640 initialized for platform Host (this does not guarantee that XLA will be used). Devices:\n",
            "2019-12-24 03:43:01.498291: I tensorflow/compiler/xla/service/service.cc:176]   StreamExecutor device (0): Host, Default Version\n",
            "2019-12-24 03:43:01.523041: I tensorflow/stream_executor/platform/default/dso_loader.cc:44] Successfully opened dynamic library libcuda.so.1\n",
            "2019-12-24 03:43:01.627458: I tensorflow/stream_executor/cuda/cuda_gpu_executor.cc:983] successful NUMA node read from SysFS had negative value (-1), but there must be at least one NUMA node, so returning NUMA node zero\n",
            "2019-12-24 03:43:01.628353: I tensorflow/compiler/xla/service/service.cc:168] XLA service 0x271fb80 initialized for platform CUDA (this does not guarantee that XLA will be used). Devices:\n",
            "2019-12-24 03:43:01.628381: I tensorflow/compiler/xla/service/service.cc:176]   StreamExecutor device (0): Tesla P100-PCIE-16GB, Compute Capability 6.0\n",
            "2019-12-24 03:43:01.628653: I tensorflow/stream_executor/cuda/cuda_gpu_executor.cc:983] successful NUMA node read from SysFS had negative value (-1), but there must be at least one NUMA node, so returning NUMA node zero\n",
            "2019-12-24 03:43:01.629340: I tensorflow/core/common_runtime/gpu/gpu_device.cc:1618] Found device 0 with properties: \n",
            "name: Tesla P100-PCIE-16GB major: 6 minor: 0 memoryClockRate(GHz): 1.3285\n",
            "pciBusID: 0000:00:04.0\n",
            "2019-12-24 03:43:01.629780: I tensorflow/stream_executor/platform/default/dso_loader.cc:44] Successfully opened dynamic library libcudart.so.10.1\n",
            "2019-12-24 03:43:01.632181: I tensorflow/stream_executor/platform/default/dso_loader.cc:44] Successfully opened dynamic library libcublas.so.10\n",
            "2019-12-24 03:43:01.634136: I tensorflow/stream_executor/platform/default/dso_loader.cc:44] Successfully opened dynamic library libcufft.so.10\n",
            "2019-12-24 03:43:01.634765: I tensorflow/stream_executor/platform/default/dso_loader.cc:44] Successfully opened dynamic library libcurand.so.10\n",
            "2019-12-24 03:43:01.637222: I tensorflow/stream_executor/platform/default/dso_loader.cc:44] Successfully opened dynamic library libcusolver.so.10\n",
            "2019-12-24 03:43:01.638091: I tensorflow/stream_executor/platform/default/dso_loader.cc:44] Successfully opened dynamic library libcusparse.so.10\n",
            "2019-12-24 03:43:01.642427: I tensorflow/stream_executor/platform/default/dso_loader.cc:44] Successfully opened dynamic library libcudnn.so.7\n",
            "2019-12-24 03:43:01.642557: I tensorflow/stream_executor/cuda/cuda_gpu_executor.cc:983] successful NUMA node read from SysFS had negative value (-1), but there must be at least one NUMA node, so returning NUMA node zero\n",
            "2019-12-24 03:43:01.643410: I tensorflow/stream_executor/cuda/cuda_gpu_executor.cc:983] successful NUMA node read from SysFS had negative value (-1), but there must be at least one NUMA node, so returning NUMA node zero\n",
            "2019-12-24 03:43:01.644114: I tensorflow/core/common_runtime/gpu/gpu_device.cc:1746] Adding visible gpu devices: 0\n",
            "2019-12-24 03:43:01.645030: I tensorflow/stream_executor/platform/default/dso_loader.cc:44] Successfully opened dynamic library libcudart.so.10.1\n",
            "2019-12-24 03:43:01.647054: I tensorflow/core/common_runtime/gpu/gpu_device.cc:1159] Device interconnect StreamExecutor with strength 1 edge matrix:\n",
            "2019-12-24 03:43:01.647095: I tensorflow/core/common_runtime/gpu/gpu_device.cc:1165]      0 \n",
            "2019-12-24 03:43:01.647118: I tensorflow/core/common_runtime/gpu/gpu_device.cc:1178] 0:   N \n",
            "2019-12-24 03:43:01.647358: I tensorflow/stream_executor/cuda/cuda_gpu_executor.cc:983] successful NUMA node read from SysFS had negative value (-1), but there must be at least one NUMA node, so returning NUMA node zero\n",
            "2019-12-24 03:43:01.648214: I tensorflow/stream_executor/cuda/cuda_gpu_executor.cc:983] successful NUMA node read from SysFS had negative value (-1), but there must be at least one NUMA node, so returning NUMA node zero\n",
            "2019-12-24 03:43:01.648942: W tensorflow/core/common_runtime/gpu/gpu_bfc_allocator.cc:39] Overriding allow_growth setting because the TF_FORCE_GPU_ALLOW_GROWTH environment variable is set. Original config value was 0.\n",
            "2019-12-24 03:43:01.648993: I tensorflow/core/common_runtime/gpu/gpu_device.cc:1304] Created TensorFlow device (/job:localhost/replica:0/task:0/device:GPU:0 with 10808 MB memory) -> physical GPU (device: 0, name: Tesla P100-PCIE-16GB, pci bus id: 0000:00:04.0, compute capability: 6.0)\n",
            "WARNING:tensorflow:From /usr/local/lib/python3.6/dist-packages/keras/backend/tensorflow_backend.py:190: The name tf.global_variables is deprecated. Please use tf.compat.v1.global_variables instead.\n",
            "\n",
            "2019-12-24 03:43:01,649 WARNING From /usr/local/lib/python3.6/dist-packages/keras/backend/tensorflow_backend.py:190: The name tf.global_variables is deprecated. Please use tf.compat.v1.global_variables instead.\n",
            "\n",
            "WARNING:tensorflow:From /usr/local/lib/python3.6/dist-packages/keras/backend/tensorflow_backend.py:199: The name tf.is_variable_initialized is deprecated. Please use tf.compat.v1.is_variable_initialized instead.\n",
            "\n",
            "2019-12-24 03:43:01,650 WARNING From /usr/local/lib/python3.6/dist-packages/keras/backend/tensorflow_backend.py:199: The name tf.is_variable_initialized is deprecated. Please use tf.compat.v1.is_variable_initialized instead.\n",
            "\n",
            "WARNING:tensorflow:From /usr/local/lib/python3.6/dist-packages/keras/backend/tensorflow_backend.py:206: The name tf.variables_initializer is deprecated. Please use tf.compat.v1.variables_initializer instead.\n",
            "\n",
            "2019-12-24 03:43:01,679 WARNING From /usr/local/lib/python3.6/dist-packages/keras/backend/tensorflow_backend.py:206: The name tf.variables_initializer is deprecated. Please use tf.compat.v1.variables_initializer instead.\n",
            "\n",
            "2019-12-24 03:43:02,453 INFO 9000/9003 word vectors initialized (hit rate: 99.97%)\n",
            "2019-12-24 03:43:02,478 INFO Initializing aspect embedding matrix as centroid of kmean clusters\n",
            "WARNING:tensorflow:From /usr/local/lib/python3.6/dist-packages/keras/optimizers.py:790: The name tf.train.Optimizer is deprecated. Please use tf.compat.v1.train.Optimizer instead.\n",
            "\n",
            "2019-12-24 03:43:02,739 WARNING From /usr/local/lib/python3.6/dist-packages/keras/optimizers.py:790: The name tf.train.Optimizer is deprecated. Please use tf.compat.v1.train.Optimizer instead.\n",
            "\n",
            "2019-12-24 03:43:02,759 INFO --------------------------------------------------------------------------------\n",
            "  0% 0/594 [00:00<?, ?it/s]WARNING:tensorflow:From /usr/local/lib/python3.6/dist-packages/tensorflow_core/python/ops/math_grad.py:1424: where (from tensorflow.python.ops.array_ops) is deprecated and will be removed in a future version.\n",
            "Instructions for updating:\n",
            "Use tf.where in 2.0, which has the same broadcast rule as np.where\n",
            "2019-12-24 03:43:02,888 WARNING From /usr/local/lib/python3.6/dist-packages/tensorflow_core/python/ops/math_grad.py:1424: where (from tensorflow.python.ops.array_ops) is deprecated and will be removed in a future version.\n",
            "Instructions for updating:\n",
            "Use tf.where in 2.0, which has the same broadcast rule as np.where\n",
            "WARNING:tensorflow:From /usr/local/lib/python3.6/dist-packages/keras/backend/tensorflow_backend.py:986: The name tf.assign_add is deprecated. Please use tf.compat.v1.assign_add instead.\n",
            "\n",
            "2019-12-24 03:43:03,466 WARNING From /usr/local/lib/python3.6/dist-packages/keras/backend/tensorflow_backend.py:986: The name tf.assign_add is deprecated. Please use tf.compat.v1.assign_add instead.\n",
            "\n",
            "WARNING:tensorflow:From /usr/local/lib/python3.6/dist-packages/keras/backend/tensorflow_backend.py:973: The name tf.assign is deprecated. Please use tf.compat.v1.assign instead.\n",
            "\n",
            "2019-12-24 03:43:03,543 WARNING From /usr/local/lib/python3.6/dist-packages/keras/backend/tensorflow_backend.py:973: The name tf.assign is deprecated. Please use tf.compat.v1.assign instead.\n",
            "\n",
            "2019-12-24 03:43:03.913575: E tensorflow/core/grappler/optimizers/dependency_optimizer.cc:697] Iteration = 0, topological sort failed with message: The graph couldn't be sorted in topological order.\n",
            "2019-12-24 03:43:03.916732: E tensorflow/core/grappler/optimizers/dependency_optimizer.cc:697] Iteration = 1, topological sort failed with message: The graph couldn't be sorted in topological order.\n",
            "2019-12-24 03:43:03.919788: E tensorflow/core/grappler/optimizers/meta_optimizer.cc:533] layout failed: Invalid argument: The graph couldn't be sorted in topological order.\n",
            "2019-12-24 03:43:03.925906: E tensorflow/core/grappler/optimizers/meta_optimizer.cc:533] model_pruner failed: Invalid argument: MutableGraphView::MutableGraphView error: node 'att_weights/concat_1' has self cycle fanin 'att_weights/concat_1'.\n",
            "2019-12-24 03:43:03.941964: E tensorflow/core/grappler/optimizers/meta_optimizer.cc:533] remapper failed: Invalid argument: MutableGraphView::MutableGraphView error: node 'att_weights/concat_1' has self cycle fanin 'att_weights/concat_1'.\n",
            "2019-12-24 03:43:03.944040: E tensorflow/core/grappler/optimizers/meta_optimizer.cc:533] arithmetic_optimizer failed: Invalid argument: The graph couldn't be sorted in topological order.\n",
            "2019-12-24 03:43:03.946082: E tensorflow/core/grappler/optimizers/dependency_optimizer.cc:697] Iteration = 0, topological sort failed with message: The graph couldn't be sorted in topological order.\n",
            "2019-12-24 03:43:03.948436: E tensorflow/core/grappler/optimizers/dependency_optimizer.cc:697] Iteration = 1, topological sort failed with message: The graph couldn't be sorted in topological order.\n",
            "2019-12-24 03:43:04.032693: I tensorflow/stream_executor/platform/default/dso_loader.cc:44] Successfully opened dynamic library libcublas.so.10\n",
            "100% 594/594 [00:07<00:00, 81.18it/s] \n",
            "Aspect 0:\n",
            "['заглянуть|0.7792399', 'перекусить|0.75888133', 'зайти|0.7451906', 'поехать|0.7429904', 'захотеться|0.74035436', 'сходить|0.7290478', 'заехать|0.72351325', 'пообедать|0.7166631', 'жить|0.70625114', 'случайно|0.70388114', 'поужинать|0.7009241', 'ехать|0.69825274', 'заезжать|0.69568217', 'ездить|0.6915978', 'забежать|0.68876314', 'однажды|0.6864795', 'питер|0.68348074', 'недалеко|0.68337965', 'покушать|0.68216944', 'сюда|0.6771376', 'заходить|0.66977906', 'московский|0.66774917', 'недавно|0.6615825', 'подружка|0.6601604', 'петроградка|0.6554409', 'поболтать|0.6550214', 'частенько|0.6520875', 'давно|0.64875984', 'целенаправленно|0.6482856', 'заскочить|0.6480243', 'это_место|0.64610374', 'любим|0.6379313', 'захаживать|0.63504815', 'специально|0.634429', 'ближний|0.6292829', 'район|0.62615263', 'проезжать|0.62458396', 'добраться|0.62432885', 'это_кафе|0.6236332', 'попить|0.62157035', 'вспомнить|0.6122684', 'сегодня|0.6096763', 'дом|0.6094459', 'забрести|0.60943127', 'ужинать|0.60809547', 'прогулка|0.60561144', 'обедать|0.6038629', 'позавтракать|0.6032406', 'заслать|0.5990709', 'посетить|0.5988271', 'вновь|0.59806716', 'занести|0.5938226', 'открыться|0.5916945', 'поход|0.5904047', 'москва|0.5880971', 'ходить_туда|0.587679', 'попасть|0.58649105', 'забегать|0.58485556', 'возвращаться|0.58329964', 'вчера|0.58313894', 'заглядывать|0.5783479', 'невский|0.57756436', 'приезжать|0.57730925', 'посидеть|0.5768049', 'любимый|0.5733794', 'приморский|0.5732889', 'отправиться|0.57265735', 'нибыть|0.5707768', 'вечером|0.5696358', 'васильевский|0.5676575', 'поесть|0.56539285', 'васька|0.56319284', 'хороший_место|0.56020486', 'наведаться|0.55802804', 'захотеть|0.557089', 'привести|0.5567186', 'выходной|0.5566256', 'побывать|0.55366546', 'знакомый|0.5532733', 'отдохнуть|0.5512094', 'остров|0.5505791', 'местечко|0.54660994', 'лиговка|0.54541767', 'проголодаться|0.5447129', 'перекус|0.54331696', 'решить|0.5432484', 'друг|0.54133826', 'неподалёку|0.5408843', 'проверить|0.5390669', 'туда|0.53892416', 'летом|0.53850114', 'приятель|0.53721404', 'снова|0.53564227', 'жан|0.5353838', 'прогуливаться|0.5319454', 'разочароваться|0.53180814', 'днём|0.53052783', 'завтракать|0.52945435', 'назначать|0.52822757', 'встретиться|0.5262339']\n",
            "Aspect 1:\n",
            "['раздумье|0.7199507', 'несказанно|0.7078403', 'магазинчик|0.706627', 'аккомпанемент|0.6931225', 'тщательный|0.6893771', 'сперва|0.68799204', 'оффициант|0.6870072', 'спешка|0.68581605', 'плюсик|0.6828406', 'животик|0.6806464', 'пьер|0.67953753', 'затянуться|0.6793234', 'negativa|0.6782211', 'недолгий|0.6778965', 'комбинация|0.6762196', 'соблазниться|0.6752676', 'лимончелла|0.67419386', 'отъезд|0.6740122', 'галочка|0.6738272', 'лефф|0.67265034', 'успокоиться|0.67264944', 'напрашиваться|0.67232275', 'барабан|0.671332', 'вживую|0.67128897', 'диктовать|0.6709458', 'это_весьма|0.67040277', 'коктейльчик|0.66960555', 'уважительный|0.66849387', 'нард|0.6677577', 'сендвич|0.6674657', 'эпитет|0.66636884', 'омар|0.6634498', 'оговорка|0.6629007', 'клаб|0.66284317', 'ла|0.662758', 'красочно|0.66260326', 'гагарин|0.6602777', 'танцор|0.6601813', 'il|0.66014117', 'калория|0.6593444', 'англичанин|0.65928125', 'усадьба|0.658936', 'вю|0.6587225', 'су|0.6586', 'усталый|0.6584635', 'капкейк|0.6582669', 'троица|0.658201', 'марсельеза|0.65758824', 'коктельный|0.6573839', 'слабость|0.6569577', 'кукарача|0.6564837', 'посетительница|0.65626', 'подсказка|0.65613353', 'банк|0.65603983', 'биза|0.65547633', 'невозможность|0.6552026', 'экстравагантный|0.6544436', 'безумие|0.65329534', 'соврать|0.6531483', 'руно|0.6530044', 'напряжение|0.652762', 'подостыть|0.6520394', 'гролл|0.65058655', 'буррить|0.6499734', 'ничто_необычный|0.64992726', 'добавиться|0.6496997', 'замешательство|0.64927685', 'тамошний|0.6492058', 'бель|0.6489207', 'capona|0.64837027', 'гарсон|0.6483565', 'вьетнамский|0.64833534', 'red|0.6482242', 'кухня_очень_порадовать|0.6478824', 'метод|0.6478131', 'фея|0.6476121', 'банкетик|0.64721775', 'чрезвычайно|0.6471516', 'чертовски|0.6470763', 'отклик|0.6462612', 'пать|0.64557064', 'майя|0.6450164', 'палкинъ|0.6449549', 'останавливать|0.64487946', 'крепость|0.64484835', 'бишь|0.64460945', 'водный|0.64391994', 'фантастически|0.6436988', 'настойчивый|0.643325', 'раствориться|0.6430483', 'очень_очень_понравиться|0.6429161', 'вдвойне|0.6417633', 'предусмотрительно|0.64144427', 'охота|0.64137053', 'обогреватель|0.6410198', 'надоедать|0.63980275', 'химчистка|0.639628', 'наивный|0.6389602', 'вдаваться|0.6382422', 'нажать|0.63812804']\n",
            "Aspect 2:\n",
            "['говядина|0.6615637', 'рыба|0.6567551', 'курица|0.62855697', 'креветка|0.6273121', 'стейк|0.6266764', 'карпаччо|0.62583476', 'овощ|0.6247275', 'гриль|0.62101936', 'цыплёнок|0.60905397', 'рибай|0.6069089', 'баклажан|0.60621667', 'лосось|0.603605', 'морепродукт|0.59382826', 'плов|0.5792804', 'салат_цезарь|0.57927656', 'шашлык|0.5790112', 'свинина|0.57858646', 'цезарь|0.5769384', 'котлета|0.5761429', 'филе|0.5669152', 'баранина|0.5650994', 'мясо|0.5623663', 'прожарка|0.5593004', 'стейка|0.5559406', 'это_блюдо|0.5545722', 'куриный|0.55455667', 'сацивить|0.5493163', 'дорад|0.54613495', 'краб|0.5459459', 'картофель|0.5410329', 'гарнир|0.5397729', 'судак|0.53919435', 'медальон|0.536723', 'рыбка|0.53661275', 'форель|0.53661084', 'оливья|0.53642976', 'рис|0.53420293', 'барашек|0.532776', 'ягнёнок|0.53182995', 'утка|0.52723193', 'кебаб|0.5257885', 'кальмар|0.52406204', 'свинин|0.5231048', 'телятина|0.5219567', 'свиной|0.520504', 'миньон|0.51630265', 'пекински|0.51618814', 'мидия|0.5158539', 'удон|0.51480186', 'мясной|0.51421756', 'вок|0.5112423', 'греческий|0.50926346', 'солянка|0.5089786', 'ризотто|0.50756073', 'дорада|0.50629044', 'острый|0.5059855', 'запечёный|0.50570774', 'тунец|0.5056388', 'кисло_сладкое_соус|0.50362945', 'котлетка|0.5032649', 'овощной|0.5005083', 'сибас|0.49780998', 'гребешок|0.49608207', 'мраморный|0.4956045', 'долма|0.49543524', 'грудка|0.495283', 'жареный|0.49390525', 'мангал|0.49169603', 'сочный|0.49032092', 'помидор|0.48995572', 'сёмга|0.48957646', 'костя|0.4884234', 'лапша|0.4882273', 'шашлычок|0.486974', 'осетрина|0.4863959', 'харчо|0.484868', 'драник|0.4842851', 'салатик|0.48419082', 'хачапури|0.4839539', 'гриб|0.48316735', 'каре|0.48280364', 'осьминог|0.48243502', 'рыбный|0.48229', 'прожарить|0.47907877', 'тара_тара|0.4782575', 'ям|0.4773432', 'степень|0.4769063', 'заправка|0.4763804', 'соус|0.47539544', 'приготовить|0.4751276', 'ростбиф|0.4751204', 'люля|0.47491986', 'утиный|0.47458756', 'копчёный|0.4745037', 'жульен|0.4720081', 'медиум|0.4719663', 'салат|0.4711163', 'колбаска|0.4706615', 'йорк|0.47039858', 'картошка|0.47024143']\n",
            "Aspect 3:\n",
            "['господин|0.79727936', 'ресторатор|0.78881407', 'владелец|0.7478967', 'право|0.7456903', 'личный|0.74035716', 'уважаемый|0.73682296', 'критика|0.7359142', 'существовать|0.73106533', 'история|0.71224463', 'позор|0.7066089', 'понятие|0.7043153', 'хозяин|0.697894', 'представитель|0.69713235', 'практика|0.69698143', 'знак|0.6966622', 'опыт|0.6946533', 'автор|0.6872958', 'пусть|0.68363196', 'зарплата|0.6809058', 'борис|0.67955357', 'иметь|0.6759063', 'общепит|0.67349035', 'речь|0.67179465', 'репутация|0.668404', 'быдло|0.66651344', 'сфера|0.66167796', 'письмо|0.6601256', 'высказывание|0.65981567', 'задуматься|0.65926087', 'менеджмент|0.6585009', 'уверенный|0.65786713', 'постараться|0.6573415', 'простить|0.6569271', 'гнать|0.6558747', 'неужели|0.65516096', 'человек_который|0.6533972', 'управленец|0.65320295', 'хамство|0.6526498', 'потребитель|0.65084743', 'ум|0.6506199', 'предприятие|0.64725983', 'питание|0.641626', 'нарушение|0.6405609', 'уволить|0.6400783', 'руководство|0.6379124', 'иначе|0.63635784', 'жизнь|0.6361892', 'уважать|0.6352606', 'официальный|0.6340915', 'бороться|0.63357353', 'называть|0.6334931', 'культура|0.633201', 'допускать|0.6328591', 'сообщение|0.63274515', 'стороной|0.6308145', 'полагать|0.62867486', 'ресурс|0.6281804', 'верить|0.6238515', 'статус|0.62327087', 'руководитель|0.6224032', 'звезда|0.62171245', 'неуважение|0.62170136', 'детище|0.62169707', 'проект|0.6198742', 'частное|0.6195299', 'обходить|0.6192343', 'адрес|0.61907685', 'потерять|0.61856055', 'всерьёз|0.61826485', 'известно|0.618212', 'пост|0.6178976', 'licorice|0.6178392', 'мнение|0.6178262', 'оратор|0.6176845', 'объективный|0.6170857', 'собственник|0.61654294', 'ключ|0.6163692', 'ru|0.61604196', 'наплевать|0.6152078', 'понимание|0.6144403', 'плевать|0.61423767', 'значение|0.6139715', 'планка|0.6139483', 'непрофессиональный|0.613359', 'гинза|0.61323714', 'терять|0.6132135', 'коммент|0.612344', 'негатив|0.61149824', 'высказать|0.61095595', 'совесть|0.60984427', 'связать|0.60949934', 'скрыть|0.6089201', 'тенденция|0.6088933', 'развитие|0.60876787', 'человеческий|0.6085131', 'вложить|0.60743004', 'бизнес|0.6072567', 'mail|0.60592943', 'ругать|0.6054101', 'гп|0.60494006']\n",
            "Aspect 4:\n",
            "['улыбчивый|0.8299376', 'девочка|0.8277098', 'улыбаться|0.809117', 'улыбка|0.7872988', 'мальчик|0.7745624', 'расторопный|0.77380896', 'обслуживать|0.76572585', 'любезный|0.7584387', 'учтивый|0.7556928', 'доброжелательно|0.7434397', 'молодая_человек|0.74292606', 'мила|0.7341708', 'вежливый|0.7315947', 'интересоваться|0.7274402', 'доброжелательный|0.72027147', 'юноша|0.7150402', 'услужливый|0.7011598', 'парень|0.6977546', 'появляться|0.6964632', 'стараться|0.6906811', 'забывать|0.68780625', 'офицант|0.68743527', 'обходительный|0.68676704', 'предупредительный|0.6856095', 'шустрый|0.6841493', 'чётко|0.6834429', 'девушка|0.679402', 'обслуживающий|0.67542833', 'вовремя|0.6605477', 'звать|0.6584684', 'старательный|0.65708375', 'официант|0.6561017', 'провожать|0.6518551', 'оперативно|0.6506908', 'официантка|0.650408', 'приветливый|0.6473801', 'внимательно|0.6471419', 'весь_время|0.6434802', 'молоденький|0.6423404', 'навязчивый|0.64205265', 'незаметно|0.64034444', 'приветливо|0.6394291', 'общительный|0.6350881', 'менять|0.62954736', 'обслужить|0.6276089', 'внимательный|0.62708044', 'успевать|0.62123334', 'заботливый|0.6202478', 'милый|0.61838657', 'барышня|0.61432666', 'профессионально|0.61418474', 'молодая|0.61283827', 'незаметный|0.61236364', 'очень_милый|0.6115457', 'молниеносно|0.6092744', 'тактично|0.6074312', 'очень_быстро|0.60676354', 'назойливый|0.605113', 'персонал|0.60316163', 'прощаться|0.60177535', 'дружелюбно|0.6010606', 'лицо|0.60000014', 'ненавязчивый|0.59793276', 'медленно|0.5937919', 'пепельница|0.5924626', 'молодец|0.5918223', 'задержка|0.59174365', 'постоянно|0.5916849', 'смена|0.5908299', 'выполнять|0.59033024', 'уносить|0.5886148', 'корректно|0.5859332', 'здороваться|0.58119255', 'обслуживающий_персонал|0.57959664', 'следить|0.57845145', 'обаятельный|0.5745765', 'неопытный|0.5720869', 'быстрый|0.5689483', 'медлительный|0.5685295', 'дружелюбный|0.5648384', 'компетентный|0.56448984', 'своевременно|0.5644868', 'парнишка|0.56345356', 'добродушный|0.5615524', 'общаться|0.5611673', 'подходить|0.55896866', 'убираться|0.55873674', 'наташа|0.5582776', 'внешность|0.55336267', 'реагировать|0.5528283', 'радушно|0.5527729', 'быстро|0.5521039', 'хостёс|0.55088997', 'наш_столик|0.55042875', 'шутить|0.5490867', 'исчезать|0.5488231', 'весь_очень_быстро|0.5460249', 'бармен|0.5445547', 'мило|0.5439341', 'убирать|0.5424535']\n",
            "Aspect 5:\n",
            "['касаться|0.7863017', 'весь_остальной|0.7640672', 'изыск|0.75767195', 'соответствовать|0.7515578', 'посредственный|0.7410946', 'выше|0.7357255', 'средненький|0.7201087', 'отличаться|0.7085928', 'не_мочь_сказать|0.7079471', 'завысить|0.70544386', 'достойный|0.7044359', 'оценивать|0.6986428', 'уровень|0.6966279', 'японский|0.69007766', 'сравнение|0.6895159', 'оставлять_желать_хороший|0.6888492', 'многий|0.6886405', 'приемлемый|0.6846968', 'ценник|0.6840191', 'отличие|0.6816132', 'плохой|0.6796286', 'качественный|0.67426336', 'действительно|0.67336047', 'европейский|0.67167354', 'качество|0.67043984', 'ничто_особенный|0.66520894', 'принцип|0.66478145', 'простой|0.66445166', 'цена_качество|0.66405517', 'недостаток|0.6632024', 'разнообразие|0.6599063', 'неплохой|0.6563039', 'китайский|0.6554526', 'исключение|0.65543437', 'главный|0.65173614', 'крайний_мера|0.6512798', 'добротный|0.6469164', 'особый|0.6438139', 'хороший|0.64310366', 'остальной|0.6390906', 'очень_хороший|0.637228', 'оценить|0.63033915', 'учитывать|0.62873363', 'вполне|0.628008', 'претензия|0.6236613', 'назвать|0.62291205', 'нарекание|0.6214849', 'радовать|0.6202905', 'выдающийся|0.61806834', 'изысканный|0.61757636', 'сносный|0.61528516', 'обычный|0.6129714', 'скромный|0.6125892', 'особенный|0.61190295', 'высокий|0.6116153', 'ниже|0.60978174', 'прежний|0.6076021', 'удивлять|0.6058963', 'соотношение_цена_качество|0.6047089', 'изюминка|0.6042203', 'среднее|0.60292995', 'впечатлить|0.6024663', 'очень_большой|0.6022161', 'умеренный|0.6018952', 'придраться|0.60168445', 'средний|0.6014427', 'менее|0.6005764', 'демократичный|0.6003895', 'адекватный|0.5997381', 'относительно|0.5983422', 'особо|0.59756243', 'пожалуй|0.596032', 'мочь_сказать|0.5958768', 'сетевой|0.5943755', 'насчёт|0.59351987', 'скорее|0.59148103', 'стандартный|0.58725476', 'неплохо|0.58535594', 'разочаровать|0.58482456', 'приличный|0.5832614', 'фаста|0.58319664', 'отменный|0.58174336', 'авторский|0.58135724', 'план|0.5806519', 'недорогой|0.58023167', 'большинство|0.5797466', 'однако|0.5789398', 'идеальный|0.5785349', 'хромать|0.578202', 'намного|0.57784665', 'крайне|0.57650894', 'цена|0.57433605', 'простоватый|0.57245815', 'мексиканский|0.5722697', 'средне|0.57121027', 'дороговатый|0.56820774', 'достаточно|0.5672327', 'однозначно|0.56718934', 'оценка|0.56567514', 'хорошеть|0.564394']\n",
            "Aspect 6:\n",
            "['ржаной|0.6622261', 'лежалый|0.65305036', 'дора|0.6491262', 'варена|0.6436938', 'розмарин|0.6423001', 'пластина|0.64129806', 'капустка|0.6408272', 'четвертинка|0.6402718', 'кожура|0.6401142', 'веточка|0.6393563', 'подсушить|0.637425', 'комок|0.63678634', 'жалкий|0.63549817', 'пополам|0.6353931', 'чесночный|0.6349453', 'долька|0.634574', 'малюсенький|0.6336026', 'кукуруза|0.6329478', 'булка|0.63293064', 'румяный|0.63274586', 'заветренный|0.632503', 'грудинка|0.6323217', 'залить|0.6304417', 'маслина|0.629848', 'сухарь|0.62954676', 'грибочек|0.6295346', 'рубить|0.6295339', 'хамон|0.6292967', 'укроп|0.62821066', 'жидкость|0.6275842', 'посыпать|0.62719953', 'чеснок|0.62715054', 'крутон|0.62651145', 'субстанция|0.62625', 'толщина|0.6252779', 'сдобрить|0.6250789', 'плесень|0.62456495', 'макать|0.62451553', 'порезать|0.62427866', 'стружка|0.6241831', 'тушёный|0.6241614', 'почка|0.6240797', 'морковь|0.62404156', 'полить|0.6238712', 'размазать|0.62322736', 'мука|0.62297446', 'кетчуп|0.62297416', 'морковка|0.62256926', 'медовый|0.6220597', 'ломтик|0.6217744', 'блю|0.62175274', 'фри|0.6215025', 'корка|0.62148416', 'соломка|0.6205186', 'кубик|0.62042195', 'капля|0.6201823', 'половинка|0.6201235', 'кунжут|0.61993843', 'хлопья|0.6194116', 'горчица|0.6191288', 'томлёный|0.61898285', 'чёрствый|0.6189348', 'ледяной|0.61821437', 'багет|0.61788136', 'петрушка|0.617675', 'сало|0.6167246', 'каперс|0.6167201', 'кольцо|0.61653686', 'ядрёный|0.616413', 'зерно|0.6157115', 'мм|0.6156852', 'присыпать|0.6153766', 'сушёный|0.6147535', 'слипнуться|0.61433506', 'отварный|0.61402005', 'панировка|0.61400986', 'крупно|0.61372536', 'цельный|0.61354923', 'чили|0.6132474', 'мелко|0.61256194', 'нарубить|0.6125345', 'гранат|0.61250204', 'слой|0.61249906', 'полоска|0.6124613', 'лук|0.612391', 'черрик|0.61228925', 'пирамидка|0.6116792', 'баклажанный|0.61051714', 'тост|0.6102458', 'рисовый|0.61023235', 'кружочек|0.6100379', 'обильно|0.6098602', 'щедро|0.6093266', 'дно|0.60922146', 'брусочек|0.60914236', 'мариновать|0.60898346', 'огурчик|0.6089362', 'зерновой|0.6085065', 'шайба|0.6084579', 'семечко|0.607616']\n",
            "Aspect 7:\n",
            "['дождаться|0.7284026', 'прийтись|0.7252277', 'просить|0.722106', 'попросить|0.7184634', 'предупредить|0.7146897', 'пропасть|0.7134907', 'выясниться|0.71195185', 'попытка|0.7102353', 'унести|0.70609474', 'уточнить|0.69840765', 'успеть|0.6947528', 'сообщить|0.69360024', 'полчаса|0.69321454', 'предупреждать|0.6853562', 'ладный|0.6850083', 'обратно|0.68401927', 'мол|0.6825748', 'поменять|0.6819427', 'поинтересоваться|0.68176734', 'забыть|0.6798794', 'подождать|0.6773659', 'вынести|0.67298245', 'убрать|0.67245114', 'исчезнуть|0.67222095', 'забрать|0.6708802', '15_минута|0.6700909', 'отказаться|0.6686248', 'естественно|0.66583776', 'ответить|0.6652052', 'извиниться|0.663196', 'отказать|0.6631405', 'заставить|0.66309303', 'пришлый|0.66161203', 'сначала|0.66058326', 'сделать_заказ|0.65942186', 'уйти|0.6587127', 'уточнять|0.6538758', 'курс|0.653592', 'пообещать|0.6491938', 'спросить|0.64878464', 'ответ|0.64693475', 'отказываться|0.64556587', 'приход|0.6444321', '10_минута|0.6440609', 'попытаться|0.63820374', 'позвать|0.63542414', 'последовать|0.6351644', 'выяснить|0.6341095', 'объяснить|0.63185763', 'подумать|0.62866855', 'вернуть|0.6286429', 'готовый|0.62631786', 'перепутать|0.62582606', 'извиняться|0.624148', 'записать|0.62349886', '20_минута|0.6207559', 'обещать|0.6190064', 'затем|0.6173964', 'убежать|0.61515546', 'закончиться|0.6136005', 'пытаться|0.61129856', 'согласиться|0.61090326', 'встать|0.607939', 'просьба|0.59696984', 'извинить|0.5963403', 'прождать|0.5954392', 'подойти|0.5944934', 'просидеть|0.5937706', 'принять|0.59347486', 'упасть|0.5919091', 'поймать|0.59172046', 'результат|0.59143925', 'выяснять|0.5899606', 'молча|0.58863187', 'извинение|0.58816373', 'её|0.58770514', 'видимо|0.586609', 'расчёт|0.58563757', 'никто|0.58518624', 'лишь|0.5847058', 'потребовать|0.5845793', 'начать|0.58380246', 'указать|0.58356977', 'освободиться|0.5833913', 'оплатить|0.58178926', 'никто_не|0.5807185', 'донести|0.5797446', 'шок|0.5790708', 'соответственно|0.57881254', 'стать|0.57717276', 'принять_заказ|0.5765165', 'пожалуйста|0.57649994', 'заменить|0.5762977', 'сообщать|0.57567346', 'спрашивать|0.57318115', 'виноватый|0.5705131', 'фраза|0.5695475', 'телефон|0.56918013', 'поздний|0.5689828', 'забирать|0.56877625']\n",
            "Aspect 8:\n",
            "['шоколад|0.7085496', 'клубника|0.67203367', 'крем|0.6657118', 'шоколадный|0.6631393', 'варение|0.6615124', 'малиновый|0.65175116', 'кекс|0.6453295', 'сладость|0.6397902', 'мусса|0.6333004', 'сладкий|0.6317757', 'карамель|0.63023305', 'сорбета|0.6288023', 'сливка|0.6269387', 'пирожное|0.6249871', 'пирог|0.6238395', 'сладкое|0.62126094', 'яблоко|0.620254', 'ягода|0.618963', 'яблочный|0.61779135', 'печение|0.61576617', 'миндальный|0.6124387', 'чизкейк|0.61220914', 'мороженный|0.6106782', 'малин|0.6100874', 'лимонный|0.60976315', 'клубничный|0.6089501', 'карамельный|0.6074636', 'морковный|0.6066343', 'эклер|0.60608524', 'наполеон|0.6038434', 'молоко|0.60170734', 'манговый|0.6012762', 'вишня|0.6005639', 'корица|0.5994203', 'мятый|0.5979928', 'груша|0.59351397', 'желе|0.59266514', 'орех|0.59052384', 'манго|0.58833617', 'мороженое|0.5862073', 'мёд|0.58416235', 'грецкий|0.5808524', 'ванильный|0.58048606', 'мятный|0.57944137', 'брюла|0.5785911', 'вафля|0.5779877', 'апельсиновый|0.5767118', 'трюфель|0.5741015', 'суфле|0.5739171', 'панакот|0.5683373', 'грушевый|0.5678887', 'шарик|0.5670264', 'имбирный|0.56661373', 'банан|0.56605804', 'кейк|0.56426716', 'сироп|0.56325257', 'сладко|0.5628624', 'медовик|0.5627947', 'зелёный|0.56256', 'ваниль|0.56073755', 'орешек|0.5605057', 'творожный|0.5600175', 'тирамис|0.55987287', 'штрудель|0.55910575', 'трубочка|0.558754', 'взбить|0.55825764', 'чиз|0.5576184', 'черничный|0.5568163', 'корочка|0.5566631', 'бисквит|0.55665517', 'сахарный|0.5566134', 'ароматный|0.55589634', 'маскарпон|0.54951584', 'апельсин|0.54900277', 'горячий|0.5436164', 'сорбетом|0.53991205', 'тортик|0.53976846', 'пенка|0.53866565', 'воздушный|0.5366848', 'маракуйя|0.5357266', 'ягодный|0.5344482', 'молочный|0.5344409', 'лайм|0.5340672', 'капучиный|0.5336493', 'запивать|0.5328608', 'джема|0.53271365', 'тыква|0.5321744', 'густой|0.53207195', 'брусничный|0.53174525', 'кокосовый|0.5299729', 'пропитать|0.5294063', 'капуччиный|0.52803385', 'марципановый|0.5277996', 'ананас|0.5275069', 'чабрец|0.5273714', 'тархун|0.5263804', 'меренга|0.5258426', 'фисташковый|0.52536494', 'вафельный|0.5250503', 'мусс|0.52406377']\n",
            "Aspect 9:\n",
            "['праздник|0.7573445', 'отдельный_спасибо|0.7504996', 'огромный_спасибо|0.720512', 'большой_спасибо|0.7156144', 'благодарность|0.6996043', 'весь_гость|0.6840243', 'праздничный|0.67720735', 'тамада|0.6770561', 'спасибо|0.66361284', 'организация|0.66246676', 'весь_наш|0.6528658', 'незабываемый|0.6437371', 'команда|0.64070433', 'коллектив|0.6383078', 'организовать|0.6312408', 'ведущий|0.6303215', 'поблагодарить|0.6198884', 'благодаря|0.61659104', 'подарок|0.6054958', 'шоу|0.6045165', 'майкл|0.6037173', 'торжество|0.6030588', 'подарить|0.60051465', 'исполнить|0.59918475', 'профессионализм|0.5989142', 'кондитер|0.59881973', 'свадебный|0.5987017', 'невеста|0.5972121', 'забота|0.59715164', 'ольга|0.59544414', 'подготовка|0.59403324', 'чуткий|0.59226185', 'пожелание|0.5913188', 'создать|0.5883223', 'профессионал|0.58599997', 'прекрасно|0.5847707', 'торт|0.5840304', 'уважение|0.5827304', 'марин|0.5760339', 'выражать|0.57392216', 'молодожён|0.5738342', 'елена|0.570436', 'благодарный|0.5698079', 'весь_гость_остаться_довольный|0.5696342', 'евгений|0.5684109', 'выразить|0.56825924', 'процветание|0.56815445', 'фуршет|0.56747466', 'респект|0.566568', 'фейерверк|0.56508505', 'наш_гость_остаться_очень_довольный|0.56024075', 'сергей|0.5592218', 'совет|0.55797285', 'программа|0.55777526', 'конкурс|0.55649483', 'андрей|0.5531523', 'благодарить|0.5515387', 'каравай|0.5513692', 'шеф_повар|0.5468058', 'очень_довольный|0.5450702', 'весь_наш_пожелание|0.544977', 'поклон|0.54456186', 'мероприятие|0.54365575', 'проведение|0.54246616', 'алексей|0.542222', 'душа|0.5419669', 'владимир|0.5409664', 'успех|0.5357253', 'помочь|0.52976567', 'ирина|0.5297363', 'великолепно|0.5294404', 'поздравление|0.52745223', 'гость|0.52585995', 'также|0.52510345', 'удача|0.5228934', 'очень_приятно|0.5205566', 'татьяна|0.5201528', 'помощь|0.5172205', 'самый_главный|0.51607895', 'организатор|0.51596177', 'вячеслав|0.51327', 'наталья|0.51232105', 'высокий_уровень|0.51051044', 'внимательность|0.5099894', 'чудесный|0.50982904', 'виктор|0.50896865', 'александр|0.5076584', 'танец|0.5067375', 'великолепный|0.5064519', 'желать|0.5061832', 'сюрприз|0.50583744', 'дмитрия|0.50549895', 'марина|0.503466', 'грамотный|0.50192946', 'гостеприимство|0.49530804', 'потрясающе|0.49369842', 'учесть|0.49298912', 'остаться_довольный|0.49247295', 'станислав|0.49213874', 'анастасия|0.49204206']\n",
            "Aspect 10:\n",
            "['литр|0.76600814', 'висок|0.7416483', 'кола|0.7073486', 'водка|0.69848657', 'пинта|0.6849364', 'мл|0.67572296', 'коньяк|0.643355', 'алкоголь|0.62853086', 'бутылочка|0.62037915', 'крепкий|0.6160251', 'безалкогольный|0.61469257', 'карта|0.6114229', 'алкогольный|0.61018735', 'рубль|0.60248864', 'бесплатный|0.5987073', 'кружка|0.59856737', 'бутылка|0.59511507', 'стоимость|0.5866626', 'бесплатно|0.5841411', 'тысяча|0.58392864', 'напиток|0.583622', 'обойтись|0.5794178', 'чек|0.5770656', 'гр|0.5769303', 'бл|0.5768622', 'разливный|0.5750578', 'мохитый|0.5747234', 'ньюкасл|0.5745708', 'бутылочный|0.5722134', 'сок|0.5722002', 'спиртное|0.5687223', 'сорт|0.5634319', 'бокал|0.5629549', 'наливать|0.56283724', 'эспрессо|0.5593666', 'грамм|0.5590911', 'вод|0.55850315', 'пиво|0.5524385', 'рэ|0.54941505', 'стакан|0.5484228', 'графин|0.5479901', 'пить|0.5464766', 'крушовица|0.54252714', 'мартини|0.5365274', 'чайник|0.53591347', 'гиннес|0.531192', 'шампанский|0.53028476', 'заплатить|0.52970195', 'коктейльный|0.5295367', 'коктейль|0.5276131', 'дешёвый|0.5236864', 'морс|0.5163553', 'сидр|0.51098263', 'вода|0.50831425', 'акция|0.506357', 'дорогой|0.50599253', 'цена|0.5053374', 'покупать|0.5036838', 'кок|0.49853516', 'сумма|0.4972236', 'евро|0.49256888', 'сбор|0.49091956', 'скидка|0.49027252', 'счёт|0.48989946', 'продавать|0.4886704', '100р|0.48838595', 'чай|0.48472026', 'текила|0.48464325', 'америкать|0.48010993', '200р|0.4799021', 'наценка|0.4791541', 'среднее|0.4763865', 'лонг|0.4751261', 'лицензия|0.47401124', '600р|0.4722935', 'выпить|0.46880776', 'игристый|0.46765015', 'фрешить|0.46710432', 'набор|0.46680138', 'налить|0.46378905', 'ценник|0.4614542', 'трое|0.4611739', 'коктель|0.46106067', 'купить|0.46058723', 'свежевыжать|0.45958704', '150р|0.45795172', 'деньга|0.4577197', 'бланша|0.4574075', 'лимонад|0.45348275', 'кальян|0.44955492', 'уложиться|0.44826052', 'наесть|0.44772893', 'харп|0.44764936', 'рюмка|0.4457149', 'процент|0.4453423', 'вино|0.4432004', 'сангрия|0.43996206', 'квас|0.43813413', 'руль|0.43723136', 'дороговатый|0.4367193']\n",
            "Aspect 11:\n",
            "['июнь|0.76602334', 'летие|0.75970775', 'февраль|0.7518195', 'июль|0.74486256', 'август|0.7263645', 'май|0.72522557', 'январь|0.72304595', 'сентябрь|0.7193555', 'март|0.7182433', 'октябрь|0.7111046', 'декабрь|0.70948124', '2011г|0.70544106', 'отмечать|0.7026226', 'праздновать|0.69023776', 'отмечать_день_рождение|0.69017684', 'го|0.6819664', 'др|0.6780629', 'юбилей|0.6673456', 'ноябрь|0.66083294', 'апрель|0.66067183', 'справлять|0.64191484', 'корпоратить|0.64034575', 'день_рождение|0.63005424', 'ти|0.6296514', 'дата|0.6223905', 'наш_свадьба|0.6203358', 'празднование|0.59605706', 'прошлый|0.5890776', 'сын|0.58542395', 'отпраздновать|0.58176255', 'дочь|0.58138', 'свадьба|0.579942', 'годовщина|0.57990146', 'год|0.57894605', 'неделя|0.576085', 'бракосочетание|0.570545', 'воскресение|0.5696547', 'выпускной|0.5633285', 'праздновать_день_рождение|0.5570967', 'свой_день_рождение|0.5569657', 'часы|0.5529144', '2013г|0.5495557', 'состояться|0.54698515', 'корпоративный|0.5461607', 'суббота|0.53962195', 'чело|0.5391435', 'новый_год|0.53457355', 'число|0.53064233', 'новогодний|0.5294118', 'корпоратив|0.5282013', 'вчера|0.5276624', 'накануне|0.52058506', 'втроём|0.5175261', 'однокурсник|0.5167016', 'свадебный|0.5150145', 'арендовать|0.5142664', 'устроить|0.51343715', 'дочка|0.5124321', 'жена|0.507965', 'приехать|0.50715774', 'минувший|0.50692785', 'месяц|0.5064585', 'выездной|0.50630045', 'канун|0.50567734', 'отмечаться|0.5014989', 'семья|0.50027394', '2010г|0.4990424', '2014г|0.4978129', 'супруга|0.4961346', 'четверг|0.49241537', 'назад|0.48968387', 'девичник|0.48899508', 'гулять|0.48864472', 'честь|0.4866245', 'банкет|0.4860906', 'банкетный_зал|0.4847116', 'вторник|0.4843606', 'бельканто|0.47695875', 'планироваться|0.47468224', 'нг|0.4743979', 'год_назад|0.47257662', 'торжество|0.47058874', 'весь_очень_понравиться|0.4702924', 'ночь|0.4681817', 'рождение|0.4671829', 'пр|0.46615756', 'галерный|0.4660566', 'день_рождение_друг|0.46593142', 'итак|0.46442688', 'это_ресторан|0.45705634', '2012г|0.45532635', 'мама|0.45464084', 'договориться|0.4541908', 'середина|0.4521618', 'летний|0.45207405', 'регистрация|0.4518994', 'начаться|0.4513384', 'проведение|0.4512124', 'вечеринка|0.45113745', 'прошлое|0.45050752']\n",
            "Aspect 12:\n",
            "['стен|0.71365607', 'полка|0.69860077', 'стена|0.6883732', 'потолок|0.67547274', 'прочий|0.66907585', 'предмет|0.6663717', 'надпись|0.6628984', 'рамка|0.66113913', 'картина|0.6590451', 'стеклянный|0.65405303', 'зеркало|0.65361494', 'стекло|0.6518336', 'элемент|0.64965796', 'фотография|0.6492778', 'золотой|0.64784044', 'лампа|0.64516324', 'висеть|0.6445979', 'мебель|0.6373129', 'светильник|0.6357013', 'плитка|0.63423586', 'смотреться|0.6310704', 'деталь|0.63076806', 'дерево|0.62814367', 'старое|0.6267778', 'кирпичный|0.6254337', 'видный|0.62521356', 'серый|0.6243943', 'старинный|0.6222367', 'люстра|0.61934143', 'синий|0.6182138', 'декор|0.615618', 'деревянный|0.6130161', 'панель|0.6122103', 'плазменный|0.6108303', 'внутренний|0.6106634', 'кирпич|0.6043006', 'картинка|0.60425794', 'черно|0.6019472', 'подоконник|0.59895873', 'потолочь|0.59861827', 'доска|0.59851044', 'гамма|0.59728056', 'уборный|0.5953257', 'бумага|0.59421945', 'полый|0.59366775', 'ля|0.59224164', 'искусственный|0.5918817', 'туалетный|0.59180427', 'модерн|0.59106064', 'коричневый|0.59085524', 'современный|0.58967006', 'советский|0.5894877', 'журнал|0.58862185', 'газета|0.5885665', 'пол|0.5861592', 'буфет|0.58533484', 'убранство|0.5847003', 'крыша|0.5826358', 'кладка|0.58162224', 'обилие|0.5813595', 'обои|0.5794365', 'дизайнерский|0.5790043', 'здание|0.5777465', 'цветовой|0.57568806', 'стиль|0.5752621', 'штора|0.5748421', 'ступенька|0.5739027', 'пространство|0.573558', 'шкаф|0.5715331', 'свет|0.57008076', 'вписываться|0.5682515', 'коврик|0.568214', 'подсветка|0.56607205', 'подложка|0.56537664', 'тяжёлый|0.56493783', 'белые|0.56393313', 'клетка|0.563838', 'яркий|0.5635709', 'дизайнер|0.56316316', 'вдоль|0.5624056', 'плазма|0.5623832', 'птичка|0.56190234', 'массивный|0.5615855', 'обшарпать|0.56063163', 'цвета|0.56058574', 'белоснежный|0.560046', 'забавный|0.55894834', 'ткань|0.557738', 'абажур|0.55695486', 'угол|0.55686486', 'длинный|0.5545002', 'высоченный|0.5543157', 'тон|0.5536359', 'занавеска|0.55222726', 'темно|0.5520992', 'логотип|0.55176115', 'подвал|0.55175567', 'растение|0.5506255', 'скатерть|0.5502712', 'полочка|0.5482949']\n",
            "Aspect 13:\n",
            "['диванчик|0.75464094', 'диван|0.75048274', 'дым|0.73965555', 'тесно|0.73195314', 'душный|0.7305896', 'шумно|0.72936314', 'вентиляция|0.723791', 'прохладно|0.72327167', 'зона|0.7215826', 'дымно|0.7107124', 'кабинка|0.71023154', 'накурить|0.7078402', 'помещение|0.7029537', 'курить|0.69253486', 'зала|0.69164586', 'неуютный|0.6833218', 'вытяжка|0.6767367', 'кресло|0.6762208', 'удобно|0.6741464', 'комфортно|0.6602535', 'стул|0.6556318', 'беседка|0.65175325', 'второе_этаж|0.6507347', 'друг_друг|0.64771897', 'барный_стойка|0.64325106', 'кондиционер|0.6416459', 'плед|0.64149904', 'дуть|0.6401085', 'дальний|0.63903165', 'комната|0.6380013', 'курящий|0.6369351', 'просторно|0.63513136', 'вокруг|0.63424337', 'сидеть|0.6341859', 'танцполый|0.6334574', 'зальчик|0.63326347', 'мешать|0.63249683', 'веранда|0.6322607', 'жарко|0.63061965', 'зал|0.628008', 'народ|0.6254327', 'дышать|0.6241932', 'некурящий|0.62369883', 'комнатка|0.6207536', 'неудобный|0.6180965', 'устроиться|0.6170335', 'расположиться|0.6165682', 'аквариум|0.6129489', 'пространство|0.6129422', 'светло|0.6121868', 'терасс|0.61189526', 'подушечка|0.6069748', 'разделение|0.6039314', 'прокурить|0.603888', 'слышный|0.6024648', 'экран|0.6019335', 'стульчик|0.60154915', 'сосед|0.5989573', 'жарковатый|0.59840816', 'высоченный|0.5978235', 'сигаретный|0.59720564', 'балкон|0.5959996', 'тесноватый|0.59356785', 'близко|0.59316444', 'коромысло|0.58913815', 'закутка|0.5888559', 'наверху|0.58854234', 'телевизор|0.58697927', 'туалет|0.58418584', 'удобный|0.58209544', 'проход|0.58191', 'курение|0.5805898', 'неудобно|0.57986623', 'деление|0.5792891', 'детский_комната|0.5779278', 'камин|0.5778868', 'тв|0.57576007', 'воздух|0.5732571', 'курильщик|0.57317436', 'сцена|0.5721884', 'свет|0.5719547', 'окошко|0.57114947', 'табачный|0.5709878', 'парочка|0.57090855', 'дымить|0.57068914', 'угол|0.569751', 'внизу|0.56958824', 'тихо|0.5689597', 'тесновато|0.56836414', 'пропахнуть|0.56784284', 'уединённость|0.565651', 'подушка|0.5645086', 'спинка|0.5620067', 'окно|0.56055385', 'уголок|0.56032133', 'барна_стойка|0.5592893', 'отгородить|0.55901057', 'занавеска|0.5581627', 'колонна|0.5578295', 'шум|0.55782074']\n",
            "2019-12-24 03:43:10,438 INFO Epoch 0, train: 7s\n",
            "2019-12-24 03:43:10,438 INFO Total loss: 7.6394, max_margin_loss: 7.2785, ortho_reg: 0.3608\n",
            "100% 594/594 [00:05<00:00, 101.69it/s]\n",
            "Aspect 0:\n",
            "['заглянуть|0.7734505', 'перекусить|0.751938', 'зайти|0.7406455', 'поехать|0.73924196', 'захотеться|0.7361314', 'сходить|0.7253849', 'заехать|0.71732116', 'пообедать|0.7106534', 'случайно|0.70556414', 'поужинать|0.6980684', 'жить|0.6952062', 'ехать|0.6899923', 'питер|0.6841173', 'заезжать|0.6821741', 'ездить|0.67795277', 'недалеко|0.6778697', 'забежать|0.67712855', 'однажды|0.67667365', 'покушать|0.6725438', 'сюда|0.6638325', 'московский|0.6633705', 'заходить|0.6605265', 'недавно|0.65970033', 'подружка|0.65525043', 'поболтать|0.65354705', 'петроградка|0.64562356', 'заскочить|0.64075255', 'давно|0.6393335', 'частенько|0.63911885', 'это_место|0.6388519', 'целенаправленно|0.6367521', 'любим|0.6337981', 'район|0.6256894', 'попить|0.62240016', 'специально|0.6215225', 'ближний|0.6207831', 'захаживать|0.61628366', 'это_кафе|0.615424', 'добраться|0.6149068', 'проезжать|0.6083552', 'забрести|0.6022004', 'заслать|0.602172', 'вспомнить|0.6019645', 'прогулка|0.6011322', 'ужинать|0.60113126', 'сегодня|0.600402', 'посетить|0.6003803', 'дом|0.5952712', 'позавтракать|0.59207827', 'попасть|0.5877142', 'открыться|0.58608294', 'обедать|0.5859839', 'поход|0.58488345', 'москва|0.5843518', 'занести|0.58314556', 'любимый|0.5830956', 'вчера|0.582986', 'вновь|0.5803683', 'посидеть|0.57723546', 'невский|0.57388604', 'ходить_туда|0.57347906', 'приезжать|0.5728328', 'возвращаться|0.57157946', 'отправиться|0.5715337', 'вечером|0.57136625', 'забегать|0.5688038', 'приморский|0.56689674', 'васильевский|0.5643692', 'нибыть|0.5638561', 'хороший_место|0.56164324', 'заглядывать|0.5601541', 'васька|0.5543317', 'привести|0.5523891', 'знакомый|0.5523474', 'поесть|0.55221534', 'побывать|0.5509796', 'друг|0.54991543', 'выходной|0.5493033', 'местечко|0.5479985', 'остров|0.5459302', 'наведаться|0.54544365', 'захотеть|0.54527', 'отдохнуть|0.5452291', 'решить|0.54246545', 'проверить|0.5372413', 'летом|0.53523254', 'перекус|0.5341872', 'приятель|0.53350794', 'лиговка|0.5311947', 'проголодаться|0.5302652', 'туда|0.52801836', 'разочароваться|0.526785', 'неподалёку|0.526531', 'днём|0.52614474', 'жан|0.52366376', 'встретиться|0.5233506', 'снова|0.52268845', 'рада|0.52129364', 'прогуливаться|0.5208398', 'пивко|0.51991135']\n",
            "Aspect 1:\n",
            "['раздумье|0.7713368', 'несказанно|0.7407473', 'недолгий|0.7250132', 'магазинчик|0.7222849', 'соблазниться|0.7212162', 'тщательный|0.71364087', 'сперва|0.71302485', 'спешка|0.71140337', 'затянуться|0.70777977', 'успокоиться|0.70620406', 'омар|0.70585686', 'оффициант|0.7020196', 'комбинация|0.6998858', 'аккомпанемент|0.6988278', 'банкетик|0.6974592', 'калория|0.6966989', 'сендвич|0.6948616', 'старт|0.6944239', 'замешательство|0.6932179', 'лимончелла|0.69294226', 'плюсик|0.69187766', 'отъезд|0.6904491', 'вживую|0.69028723', 'интригующий|0.6897061', 'диктовать|0.6893565', 'лефф|0.68835926', 'пьер|0.6881', 'красочно|0.6880098', 'подсказка|0.68752944', 'ла|0.6873779', 'это_весьма|0.6869938', 'нард|0.6869265', 'марсельеза|0.6868002', 'капкейк|0.6865101', 'negativa|0.68423355', 'животик|0.6823486', 'уважительный|0.6822996', 'гролл|0.6797097', 'барабан|0.6793579', 'су|0.6792457', 'коктельный|0.6788457', 'оговорка|0.67875814', 'предусмотрительно|0.6785641', 'коктейльчик|0.67838323', 'первоначально|0.6766187', 'эпитет|0.67546654', 'строчка|0.6751721', 'вьетнамский|0.6751357', 'добавиться|0.6746689', 'биза|0.6745633', 'дегустационный|0.6738237', 'палкинъ|0.6731665', 'бель|0.6724113', 'крепость|0.67237973', 'гарсон|0.67205644', 'энтузиазм|0.67145884', 'банк|0.67005455', 'руно|0.6698814', 'клаб|0.669853', 'слабость|0.6695142', 'экстравагантный|0.66866136', 'буррить|0.6680832', 'кукарача|0.66772544', 'напрашиваться|0.66762024', 'бишь|0.66724336', 'шато|0.66698474', 'разбежаться|0.66676676', 'метод|0.6658802', 'вю|0.6657951', 'напряжение|0.66577', 'аперитив|0.66453904', 'гагарин|0.66346514', 'ничто_необычный|0.663216', 'останавливать|0.6627722', 'вдаваться|0.6627704', 'галочка|0.6622032', 'чрезвычайно|0.6616684', 'засомневаться|0.66164887', 'il|0.66160095', 'capona|0.66145927', 'жажда|0.6613232', 'веко|0.6612143', 'разнообразить|0.6609887', 'химчистка|0.65981746', 'именно_это_заведение|0.65953857', 'усталый|0.65946484', 'bona|0.6591612', 'троица|0.65888596', 'весь_очень_очень|0.65867585', 'усадьба|0.6586511', 'очень_очень_понравиться|0.65844226', 'подостыть|0.6578078', 'увлекаться|0.65774477', 'наивный|0.65774024', 'соврать|0.6574229', 'вдвойне|0.65716124', 'св|0.6569679', 'кавказка|0.65692496', 'устранить|0.65689266', 'нажать|0.6563889']\n",
            "Aspect 2:\n",
            "['говядина|0.66247576', 'рыба|0.65463626', 'овощ|0.6334293', 'креветка|0.6291485', 'гриль|0.62802136', 'курица|0.6268814', 'стейк|0.6260774', 'карпаччо|0.6252189', 'цыплёнок|0.61215144', 'лосось|0.6105083', 'рибай|0.6094079', 'баклажан|0.60797286', 'морепродукт|0.59132266', 'котлета|0.58072174', 'свинина|0.5788506', 'филе|0.5758873', 'плов|0.5755272', 'цезарь|0.5712256', 'салат_цезарь|0.5692141', 'прожарка|0.56530654', 'шашлык|0.565068', 'баранина|0.55912685', 'стейка|0.55574065', 'мясо|0.5545514', 'это_блюдо|0.5537044', 'краб|0.55001986', 'сацивить|0.54917514', 'рис|0.54818493', 'рыбка|0.54780394', 'картофель|0.54726946', 'куриный|0.5469942', 'дорад|0.5469635', 'гарнир|0.5462406', 'судак|0.54102635', 'медальон|0.5363596', 'оливья|0.5358112', 'форель|0.5352583', 'кальмар|0.5349415', 'ягнёнок|0.5329865', 'барашек|0.5305874', 'утка|0.5278511', 'свиной|0.52410144', 'кебаб|0.52252144', 'мидия|0.5208119', 'свинин|0.5184119', 'дорада|0.5181706', 'миньон|0.5179106', 'тунец|0.51658946', 'телятина|0.51632047', 'удон|0.51614416', 'вок|0.5160656', 'пекински|0.5158609', 'мясной|0.51412964', 'запечёный|0.51287377', 'солянка|0.5108774', 'гребешок|0.5101331', 'острый|0.50955516', 'котлетка|0.50854087', 'ризотто|0.5065591', 'кисло_сладкое_соус|0.5058416', 'сибас|0.5051737', 'овощной|0.50418884', 'греческий|0.5036132', 'грудка|0.5017984', 'мраморный|0.4973393', 'помидор|0.49699193', 'жареный|0.49552774', 'долма|0.4949532', 'лапша|0.49458337', 'сочный|0.4915689', 'сёмга|0.4914661', 'мангал|0.4913472', 'костя|0.49132118', 'драник|0.48876452', 'соус|0.48841187', 'осьминог|0.48818806', 'шашлычок|0.4861307', 'тара_тара|0.4855538', 'гриб|0.48519617', 'степень|0.48471594', 'хачапури|0.4828479', 'осетрина|0.48231548', 'каре|0.48176777', 'колбаска|0.48141253', 'салатик|0.4805611', 'заправка|0.48041213', 'ростбиф|0.47939217', 'прожарить|0.47806525', 'утиный|0.4779886', 'копчёный|0.4777544', 'ям|0.4766674', 'картошка|0.47602475', 'рыбный|0.47591573', 'медиум|0.47583854', 'харчо|0.4753116', 'запечь|0.47504994', 'кура|0.47384247', 'бургера|0.47310314', 'авокадо|0.47221223', 'люля|0.47158614']\n",
            "Aspect 3:\n",
            "['господин|0.7907994', 'ресторатор|0.7656802', 'владелец|0.73421896', 'право|0.7325889', 'уважаемый|0.73228544', 'существовать|0.7237588', 'личный|0.7182653', 'критика|0.7169819', 'позор|0.6983216', 'хозяин|0.6941763', 'история|0.6879982', 'понятие|0.6862773', 'пусть|0.6852654', 'зарплата|0.6802411', 'речь|0.67760843', 'простить|0.67629635', 'знак|0.6723345', 'практика|0.67225814', 'ум|0.67021716', 'опыт|0.6692229', 'представитель|0.66757786', 'борис|0.66464245', 'быдло|0.66202766', 'человек_который|0.6613626', 'постараться|0.6610042', 'автор|0.66096497', 'сфера|0.6598032', 'иметь|0.6574486', 'хамство|0.6531006', 'неужели|0.651027', 'гнать|0.64582026', 'общепит|0.64527476', 'репутация|0.64379716', 'жизнь|0.6431654', 'иначе|0.6406944', 'высказывание|0.63814557', 'управленец|0.6365051', 'задуматься|0.6363342', 'менеджмент|0.6362641', 'уволить|0.6327523', 'уверенный|0.6281313', 'руководство|0.625924', 'письмо|0.62281215', 'совесть|0.6222068', 'потребитель|0.62185216', 'верить|0.6216124', 'воровать|0.6204471', 'предприятие|0.6189229', 'допускать|0.6185024', 'стороной|0.6176958', 'уважать|0.6164052', 'негатив|0.6164006', 'питание|0.6160506', 'называть|0.6145155', 'понимать|0.61321205', 'плевать|0.61217034', 'потерять|0.6119071', 'обходить|0.6115213', 'наплевать|0.6095729', 'звезда|0.6094568', 'бороться|0.6085804', 'непрофессиональный|0.60805905', 'культура|0.60696036', 'клуб|0.60654736', 'нарушение|0.605609', 'licorice|0.60495555', 'руководитель|0.60418046', 'сообщение|0.60291636', 'бред|0.60199046', 'скрыть|0.6017043', 'гинза|0.6012615', 'учиться|0.6005528', 'привет|0.600469', 'ключ|0.5992632', 'понимание|0.59859204', 'значение|0.59845984', 'оратор|0.59845614', 'администрация|0.59831285', 'поведение|0.5978423', 'официальный|0.59730697', 'ругать|0.59698915', 'развитие|0.59594154', 'тенденция|0.5958241', 'вложить|0.5951104', 'статус|0.59479797', 'неуважение|0.59465814', 'твориться|0.59365475', 'детище|0.59304196', 'частное|0.5927621', 'человеческий|0.59249616', 'адрес|0.5923197', 'высказать|0.5920152', 'писать|0.5918691', 'объективный|0.590687', 'всерьёз|0.59066844', 'ru|0.59057194', 'терять|0.5902294', 'бог|0.5895165', 'планка|0.58857596', 'мнение|0.58856934']\n",
            "Aspect 4:\n",
            "['девочка|0.81584', 'улыбчивый|0.81109786', 'улыбаться|0.7880834', 'улыбка|0.7690822', 'мальчик|0.76741713', 'обслуживать|0.75238025', 'расторопный|0.7513834', 'молодая_человек|0.73531914', 'любезный|0.73454684', 'учтивый|0.73412085', 'доброжелательно|0.72095144', 'мила|0.71145964', 'вежливый|0.7111258', 'интересоваться|0.70828754', 'доброжелательный|0.70153236', 'юноша|0.694007', 'парень|0.693431', 'девушка|0.67880976', 'стараться|0.6740863', 'появляться|0.6731206', 'офицант|0.6701436', 'услужливый|0.6697905', 'официантка|0.6677611', 'предупредительный|0.6638003', 'официант|0.66368526', 'забывать|0.6633259', 'обходительный|0.66293466', 'чётко|0.65997237', 'шустрый|0.65910304', 'обслуживающий|0.65446866', 'звать|0.6433425', 'вовремя|0.6422653', 'старательный|0.6327412', 'оперативно|0.63179696', 'навязчивый|0.6306191', 'внимательно|0.62621075', 'провожать|0.6248635', 'приветливый|0.6222871', 'незаметно|0.6200478', 'менять|0.6193861', 'весь_время|0.615237', 'успевать|0.6151175', 'обслужить|0.6093627', 'молоденький|0.6085948', 'приветливо|0.60821044', 'общительный|0.6057071', 'внимательный|0.60336995', 'молодая|0.60094863', 'барышня|0.5979575', 'милый|0.596329', 'заботливый|0.59579146', 'персонал|0.5957329', 'ненавязчивый|0.59146106', 'очень_милый|0.59114826', 'лицо|0.5899322', 'молниеносно|0.5888259', 'пепельница|0.58862007', 'незаметный|0.58782876', 'профессионально|0.5873462', 'прощаться|0.5846659', 'тактично|0.58149815', 'назойливый|0.58028555', 'задержка|0.5783504', 'очень_быстро|0.57834035', 'смена|0.57819676', 'дружелюбно|0.57746845', 'постоянно|0.57707894', 'молодец|0.57652116', 'обслуживающий_персонал|0.57404935', 'медленно|0.5736054', 'выполнять|0.5694009', 'уносить|0.5689111', 'корректно|0.56364906', 'быстрый|0.5627613', 'следить|0.56266636', 'здороваться|0.5618348', 'общаться|0.55540717', 'неопытный|0.5490266', 'наш_столик|0.5487024', 'медлительный|0.546937', 'голос|0.54570425', 'обаятельный|0.54533', 'бармен|0.54508156', 'дружелюбный|0.542916', 'своевременно|0.54116035', 'убираться|0.5396536', 'компетентный|0.53915024', 'подходить|0.5390321', 'разговаривать|0.53714037', 'реагировать|0.53703326', 'добродушный|0.53359205', 'ребята|0.53308094', 'наташа|0.5310389', 'парнишка|0.53079045', 'внешность|0.5289962', 'убирать|0.5280704', 'хостёс|0.5270452', 'быстро|0.5267155', 'шутить|0.5262976', 'исчезать|0.5249258']\n",
            "Aspect 5:\n",
            "['касаться|0.7737535', 'изыск|0.75965357', 'весь_остальной|0.7545726', 'соответствовать|0.73775315', 'посредственный|0.7317035', 'выше|0.72118455', 'не_мочь_сказать|0.70652384', 'отличаться|0.70410895', 'средненький|0.70350194', 'завысить|0.69357896', 'японский|0.69021094', 'достойный|0.6899679', 'многий|0.6894795', 'уровень|0.6867925', 'сравнение|0.6836953', 'отличие|0.68154323', 'оценивать|0.6806907', 'ценник|0.67532533', 'оставлять_желать_хороший|0.6745683', 'плохой|0.6704601', 'действительно|0.67003447', 'приемлемый|0.6680541', 'европейский|0.6671989', 'простой|0.6645631', 'качество|0.66194594', 'недостаток|0.66180134', 'ничто_особенный|0.66108286', 'качественный|0.65672755', 'разнообразие|0.65591204', 'принцип|0.65375805', 'цена_качество|0.65267074', 'исключение|0.6504771', 'китайский|0.64987344', 'крайний_мера|0.64659464', 'добротный|0.6450063', 'главный|0.64208615', 'неплохой|0.638572', 'особый|0.6362516', 'остальной|0.6285768', 'хороший|0.6278517', 'учитывать|0.6275668', 'очень_хороший|0.62507325', 'прежний|0.6230562', 'вполне|0.62296283', 'нарекание|0.62282443', 'радовать|0.6203364', 'оценить|0.6149311', 'сносный|0.6112551', 'особенный|0.610685', 'претензия|0.61000204', 'изысканный|0.60956025', 'скромный|0.60948074', 'назвать|0.6092268', 'обычный|0.6090162', 'менее|0.6077867', 'выдающийся|0.60234857', 'высокий|0.60190344', 'пожалуй|0.6015967', 'относительно|0.5999692', 'ниже|0.5987561', 'придраться|0.59815985', 'соотношение_цена_качество|0.5978017', 'изюминка|0.5973009', 'удивлять|0.5949983', 'очень_большой|0.593295', 'особо|0.59090436', 'впечатлить|0.5904273', 'сетевой|0.58971804', 'однако|0.5874586', 'мочь_сказать|0.58716345', 'среднее|0.5868046', 'умеренный|0.585501', 'намного|0.58526367', 'демократичный|0.5844831', 'крайне|0.58438206', 'фаста|0.5830585', 'разочаровать|0.58176595', 'неплохо|0.5790838', 'средний|0.5785716', 'стандартный|0.5780081', 'план|0.577821', 'скорее|0.5774298', 'адекватный|0.5768304', 'достаточно|0.5720752', 'авторский|0.5719533', 'недорогой|0.5718255', 'большинство|0.56897444', 'идеальный|0.5685581', 'средне|0.5658676', 'мексиканский|0.5655713', 'простоватый|0.56509984', 'насчёт|0.5648117', 'хромать|0.5645977', 'цена|0.5621633', 'приличный|0.5618123', 'однозначно|0.56005985', 'оценка|0.558879', 'гораздо|0.557201', 'отменный|0.5563588', 'дороговатый|0.5531473']\n",
            "Aspect 6:\n",
            "['лежалый|0.6776765', 'ржаной|0.6540042', 'подсушить|0.6443471', 'заветренный|0.6417686', 'малюсенький|0.6389308', 'варена|0.63842964', 'пластина|0.63769245', 'дора|0.63675034', 'четвертинка|0.6361794', 'жалкий|0.6350149', 'размазать|0.63427305', 'кожура|0.6338059', 'чесночный|0.63209087', 'сухарь|0.63090163', 'пополам|0.6299987', 'комок|0.6290042', 'мм|0.62875116', 'макать|0.62715507', 'веточка|0.62691057', 'долька|0.62633014', 'залить|0.6260824', 'чёрствый|0.6254833', 'булка|0.6243056', 'толщина|0.6238806', 'хамон|0.6229352', 'рубить|0.6210222', 'розмарин|0.61953366', 'капустка|0.61945033', 'маслина|0.61914676', 'чеснок|0.61902714', 'кукуруза|0.6181272', 'порезать|0.6173309', 'румяный|0.6171615', 'целиком|0.6158232', 'грудинка|0.6157182', 'прилипнуть|0.6140902', 'сало|0.6139127', 'сдобрить|0.6129279', 'уложить|0.6128553', 'капля|0.6127945', 'половинка|0.61221164', 'крутон|0.6120645', 'поедание|0.6100439', 'полить|0.60989696', 'корка|0.60960007', 'тушёный|0.60887873', 'ломтик|0.60881454', 'дно|0.60873544', 'багет|0.60861635', 'грибочек|0.6083226', 'укроп|0.6081982', 'кольцо|0.6078485', 'посыпать|0.60769415', 'мука|0.6076028', 'нарубить|0.6075251', 'кубик|0.6074552', 'крохотный|0.6072575', 'плесень|0.6072414', 'черрик|0.60658205', 'лента|0.60640883', 'горка|0.60640866', 'соломка|0.60565925', 'поедать|0.6051543', 'кетчуп|0.60493934', 'обветрить|0.6049235', 'хлопья|0.6048893', 'жидкость|0.60475993', 'субстанция|0.6045989', 'тост|0.60434574', 'баклажанный|0.60415053', 'морковь|0.60328287', 'бутерброд|0.6031817', 'кунжут|0.60293967', 'медовый|0.6022001', 'икра|0.602183', 'пирамидка|0.6020347', 'петрушка|0.6019038', 'крупно|0.60165226', 'фри|0.6015078', 'состоять|0.60124445', 'блю|0.6007652', 'горшочек|0.6004669', 'отварный|0.6003212', 'толстой|0.5998851', 'сушёный|0.5997299', 'брусочек|0.5994497', 'зерновой|0.5986997', 'миллиметр|0.59863603', 'слой|0.5983332', 'ледяной|0.59830004', 'крыло|0.598287', 'цельный|0.59828603', 'нарезать|0.5981554', 'горчица|0.59798163', 'помидорка|0.5977216', 'картофелина|0.59756756', 'бальзамико|0.59754765', 'каперс|0.59742874', 'порубить|0.5969881', 'насыпать|0.59689796']\n",
            "Aspect 7:\n",
            "['прийтись|0.7289851', 'попытка|0.71675956', 'выясниться|0.714643', 'предупредить|0.71203816', 'просить|0.70609885', 'уточнить|0.6995244', 'попросить|0.69869286', 'дождаться|0.69806385', 'сообщить|0.69634056', 'пропасть|0.696271', 'успеть|0.6939192', 'унести|0.6931534', 'поинтересоваться|0.68983495', 'полчаса|0.6800003', 'предупреждать|0.6749635', 'вынести|0.6712071', 'исчезнуть|0.66996187', 'мол|0.66823405', 'отказаться|0.6674279', 'ладный|0.66641444', 'сделать_заказ|0.6647487', 'подождать|0.66441417', 'курс|0.66413605', 'естественно|0.6640328', 'обратно|0.6625948', 'забыть|0.66070956', 'отказать|0.6602391', 'убрать|0.65949535', 'поменять|0.6587373', 'заставить|0.65812653', 'забрать|0.6578436', 'сначала|0.6573107', 'уточнять|0.6554202', 'ответить|0.6550461', '15_минута|0.65253055', 'извиниться|0.6516992', 'приход|0.6484736', 'ответ|0.64224195', 'пообещать|0.64198047', 'пришлый|0.6409333', 'спросить|0.6392535', 'последовать|0.63530296', 'выяснить|0.63507533', 'попытаться|0.63157403', 'отказываться|0.62893456', '10_минута|0.62799823', 'подумать|0.6267675', 'объяснить|0.6265279', 'записать|0.6256053', 'затем|0.62395155', 'уйти|0.6165402', 'готовый|0.61340237', 'позвать|0.6127961', 'перепутать|0.61104333', 'вернуть|0.6092027', 'принять|0.60567784', 'пытаться|0.60434175', 'извиняться|0.60399014', 'закончиться|0.60397065', 'обещать|0.60054743', '20_минута|0.5991012', 'согласиться|0.59727645', 'убежать|0.5962543', 'встать|0.59477353', 'подойти|0.5922517', 'просьба|0.5918695', 'начать|0.58996874', 'указать|0.58697474', 'освободиться|0.58506215', 'поймать|0.5838207', 'вопрос|0.5833603', 'лишь|0.58302903', 'извинение|0.5808947', 'её|0.5794537', 'принять_заказ|0.5794067', 'расчёт|0.5789125', 'результат|0.5785934', 'предложить|0.5762618', 'молча|0.5749611', 'выяснять|0.5749508', 'упасть|0.5741356', 'прождать|0.57344013', 'телефон|0.57323325', 'сообщать|0.57125366', 'поздний|0.5704475', 'потребовать|0.56916225', 'спрашивать|0.56871915', 'заменить|0.5683547', 'разобраться|0.5681789', 'момент|0.56702685', 'просидеть|0.5666469', 'никто_не|0.56367534', 'оплатить|0.5634945', 'пожалуйста|0.5608897', 'соответственно|0.56034875', 'извинить|0.5603369', 'фраза|0.5589565', 'донести|0.5586082', 'забирать|0.5583477', 'видимо|0.5574404']\n",
            "Aspect 8:\n",
            "['шоколад|0.7252468', 'клубника|0.6839651', 'крем|0.682299', 'варение|0.67784286', 'шоколадный|0.67070603', 'малиновый|0.66737556', 'кекс|0.6585833', 'сладость|0.65570176', 'сливка|0.6491955', 'сладкий|0.6484704', 'мусса|0.6480463', 'карамель|0.63822055', 'сорбета|0.63720304', 'пирог|0.63405573', 'яблочный|0.63235474', 'ягода|0.6299805', 'малин|0.628427', 'яблоко|0.6281837', 'чизкейк|0.6257781', 'пирожное|0.6245486', 'клубничный|0.62419677', 'сладкое|0.6235475', 'печение|0.62336916', 'молоко|0.6225958', 'миндальный|0.6202776', 'морковный|0.6198523', 'лимонный|0.6185965', 'карамельный|0.6179761', 'вишня|0.61789054', 'эклер|0.6178157', 'мороженный|0.6176292', 'мятый|0.6150706', 'наполеон|0.6133622', 'корица|0.61049', 'манговый|0.6069082', 'желе|0.6062343', 'груша|0.6053854', 'орех|0.59733605', 'ванильный|0.596496', 'манго|0.5940432', 'мороженое|0.5940094', 'мятный|0.5931013', 'брюла|0.592962', 'мёд|0.5918089', 'апельсиновый|0.59107494', 'грецкий|0.5910327', 'вафля|0.590732', 'трюфель|0.58889544', 'суфле|0.5888814', 'имбирный|0.5844755', 'грушевый|0.58375835', 'зелёный|0.5819012', 'медовик|0.58046293', 'панакот|0.5798881', 'ваниль|0.5787724', 'сироп|0.5777575', 'шарик|0.57418364', 'сладко|0.5734536', 'творожный|0.57299477', 'банан|0.5716691', 'взбить|0.5707613', 'корочка|0.57013035', 'штрудель|0.5691759', 'орешек|0.56889933', 'бисквит|0.567837', 'трубочка|0.5677504', 'черничный|0.56662583', 'кейк|0.5666246', 'тирамис|0.56446785', 'апельсин|0.5623789', 'ароматный|0.56212556', 'сахарный|0.56143844', 'чиз|0.5593763', 'пенка|0.5587691', 'маскарпон|0.55650777', 'сорбетом|0.5540938', 'капучиный|0.5510037', 'густой|0.55098724', 'тархун|0.5502871', 'ягодный|0.5488503', 'джема|0.54870147', 'тыква|0.54693586', 'кокосовый|0.54666334', 'молочный|0.5451859', 'горячий|0.54492843', 'маракуйя|0.5443417', 'воздушный|0.5434253', 'вафельный|0.5433692', 'фреш|0.54296756', 'запивать|0.5427213', 'чабрец|0.54240614', 'брусничный|0.5414679', 'фисташковый|0.54109335', 'лайм|0.5409887', 'брауни|0.53998524', 'капуччиный|0.5397136', 'чёрный|0.53653145', 'тортик|0.5357604', 'пропитать|0.5348134', 'мусс|0.5341131']\n",
            "Aspect 9:\n",
            "['праздник|0.759244', 'отдельный_спасибо|0.75144047', 'огромный_спасибо|0.7179611', 'большой_спасибо|0.71424717', 'благодарность|0.6931686', 'весь_гость|0.68466425', 'праздничный|0.6814038', 'тамада|0.67827713', 'организация|0.6604198', 'спасибо|0.65722317', 'весь_наш|0.648206', 'команда|0.6422419', 'незабываемый|0.641739', 'коллектив|0.6394372', 'ведущий|0.6380484', 'организовать|0.6329738', 'поблагодарить|0.61818457', 'благодаря|0.6177299', 'шоу|0.6157377', 'майкл|0.6042834', 'торжество|0.60409063', 'исполнить|0.6009438', 'подарок|0.5996024', 'невеста|0.59866726', 'создать|0.5972382', 'профессионализм|0.5966231', 'подарить|0.5964111', 'свадебный|0.5953566', 'забота|0.5945307', 'кондитер|0.5918318', 'ольга|0.59132195', 'подготовка|0.59013224', 'чуткий|0.5893962', 'прекрасно|0.58793604', 'профессионал|0.58679867', 'пожелание|0.58362', 'уважение|0.58305514', 'марин|0.5778344', 'торт|0.5723041', 'молодожён|0.5716723', 'благодарный|0.5694865', 'процветание|0.56818855', 'весь_гость_остаться_довольный|0.5677104', 'выражать|0.56752384', 'елена|0.567431', 'программа|0.56642365', 'респект|0.56578517', 'конкурс|0.5657489', 'евгений|0.56541413', 'фуршет|0.56448257', 'выразить|0.56301117', 'сергей|0.5611527', 'фейерверк|0.55961424', 'наш_гость_остаться_очень_довольный|0.55435634', 'совет|0.55268604', 'благодарить|0.55009115', 'андрей|0.5497515', 'душа|0.54941374', 'поклон|0.5458712', 'проведение|0.54516', 'мероприятие|0.54471326', 'шеф_повар|0.5436728', 'алексей|0.54340863', 'очень_довольный|0.54323924', 'каравай|0.54007095', 'владимир|0.5390252', 'весь_наш_пожелание|0.5388383', 'успех|0.53847885', 'гость|0.53024477', 'помочь|0.52869946', 'великолепно|0.5281533', 'ирина|0.527337', 'поздравление|0.527284', 'удача|0.52468497', 'очень_приятно|0.5227246', 'самый_главный|0.5200734', 'танец|0.517592', 'организатор|0.51678395', 'также|0.51676667', 'татьяна|0.5161304', 'помощь|0.51478314', 'чудесный|0.5133082', 'наталья|0.5102138', 'вячеслав|0.50953376', 'высокий_уровень|0.50930434', 'великолепный|0.50807446', 'александр|0.50780725', 'виктор|0.5072511', 'внимательность|0.50556743', 'желать|0.50338876', 'грамотный|0.50228834', 'марина|0.50199366', 'дмитрия|0.5017534', 'гостеприимство|0.4999845', 'артист|0.4945632', 'сюрприз|0.4932283', 'потрясающе|0.49246702', 'отдых|0.49148846', 'любовь|0.49122208', 'отдельный|0.48991248']\n",
            "Aspect 10:\n",
            "['литр|0.7497321', 'висок|0.7354287', 'водка|0.69606966', 'пинта|0.684309', 'кола|0.6799183', 'мл|0.64697224', 'коньяк|0.62869644', 'бутылочка|0.6100553', 'кружка|0.602757', 'крепкий|0.601807', 'безалкогольный|0.60139775', 'карта|0.5973434', 'алкоголь|0.5902823', 'ньюкасл|0.5897651', 'алкогольный|0.5871786', 'бесплатный|0.5853885', 'разливный|0.5822578', 'бутылка|0.57671183', 'бутылочный|0.5765966', 'пиво|0.5674885', 'рубль|0.5673019', 'мохитый|0.5654113', 'сорт|0.5621301', 'сок|0.5572051', 'наливать|0.5554147', 'бесплатно|0.5553351', 'тысяча|0.5537508', 'гр|0.55367464', 'напиток|0.55344', 'бокал|0.54913646', 'чек|0.5484277', 'вод|0.5482236', 'крушовица|0.54770064', 'стоимость|0.54547775', 'бл|0.5435352', 'стакан|0.5420966', 'графин|0.5395533', 'обойтись|0.5379612', 'пить|0.53688407', 'грамм|0.5347447', 'эспрессо|0.53435177', 'мартини|0.532598', 'спиртное|0.53246737', 'гиннес|0.53091556', 'коктейль|0.5297837', 'рэ|0.5246514', 'коктейльный|0.5158279', 'шампанский|0.50955415', 'заплатить|0.50346124', 'сидр|0.5000398', 'морс|0.4991312', 'чайник|0.49673316', 'акция|0.49405092', 'вода|0.49322757', 'дешёвый|0.48961687', 'покупать|0.485424', 'текила|0.48391503', 'кок|0.48310235', 'продавать|0.48069814', 'скидка|0.48020905', 'лонг|0.4782151', 'евро|0.47622982', '100р|0.47524', 'бланша|0.46729255', 'счёт|0.4664174', 'цена|0.4663795', 'выпить|0.46381402', 'сумма|0.46377912', 'налить|0.46353465', 'лицензия|0.4626152', '200р|0.46252212', 'коктель|0.4616052', 'наценка|0.46047455', 'америкать|0.46023136', 'харп|0.4565487', 'игристый|0.4564672', 'купить|0.4559278', 'дорогой|0.45566928', '600р|0.45543104', 'кальян|0.4542628', 'сбор|0.45212632', 'среднее|0.4499593', 'набор|0.44947797', 'чай|0.44804114', 'рюмка|0.4478177', 'свежевыжать|0.44616055', 'фрешить|0.44536138', 'нефильтрованный|0.44354388', 'трое|0.43837065', 'процент|0.43668848', '150р|0.43346128', 'ценник|0.4316544', 'лимонад|0.43159464', 'руль|0.43043217', 'деньга|0.42976922', 'лёд|0.42948538', 'квас|0.4289428', 'наесть|0.42517814', 'сангрия|0.42379838', 'распитие|0.4237824']\n",
            "Aspect 11:\n",
            "['июнь|0.7629057', 'летие|0.7555737', 'февраль|0.7511188', 'июль|0.7421448', 'май|0.7268826', 'август|0.7255169', 'январь|0.72034764', 'сентябрь|0.71947265', 'март|0.7184291', 'декабрь|0.7108029', 'октябрь|0.7098793', '2011г|0.70578', 'отмечать|0.69326675', 'праздновать|0.68572485', 'отмечать_день_рождение|0.68502575', 'го|0.68090045', 'др|0.66865015', 'юбилей|0.66332734', 'ноябрь|0.6610749', 'апрель|0.6560128', 'корпоратить|0.6420778', 'справлять|0.6386521', 'день_рождение|0.6268746', 'дата|0.62585205', 'наш_свадьба|0.62331784', 'ти|0.61696404', 'празднование|0.59409237', 'прошлый|0.58388996', 'год|0.58372605', 'отпраздновать|0.577804', 'неделя|0.57777464', 'бракосочетание|0.57769287', 'свадьба|0.5770482', 'воскресение|0.5767163', 'сын|0.5758556', 'дочь|0.5746754', 'годовщина|0.5697217', 'выпускной|0.5652217', 'часы|0.55778456', 'корпоративный|0.55365455', 'праздновать_день_рождение|0.5520799', 'состояться|0.55168223', 'свой_день_рождение|0.55074537', '2013г|0.5433833', 'новый_год|0.5413764', 'суббота|0.54075557', 'новогодний|0.53644156', 'корпоратив|0.5322216', 'число|0.52496946', 'вчера|0.52407837', 'чело|0.5222574', 'однокурсник|0.5151613', 'свадебный|0.5151285', 'месяц|0.5126932', 'накануне|0.51168406', 'дочка|0.51138246', 'выездной|0.5109694', 'семья|0.50979364', 'втроём|0.5097363', 'устроить|0.5087825', 'арендовать|0.505924', 'приехать|0.50363714', 'минувший|0.5020033', 'канун|0.5002204', '2010г|0.499119', '2014г|0.49310142', 'жена|0.49132794', 'честь|0.49109575', 'четверг|0.49092102', 'супруга|0.49043167', 'банкетный_зал|0.49024582', 'гулять|0.48992682', 'девичник|0.48985714', 'отмечаться|0.48945922', 'банкет|0.48722333', 'вторник|0.4845137', 'назад|0.48424238', 'торжество|0.47818804', 'ночь|0.47800216', 'год_назад|0.4774164', 'нг|0.4755584', 'бельканто|0.47350702', 'пр|0.4732275', 'галерный|0.47223842', 'планироваться|0.46963185', 'рождение|0.46753377', 'весь_очень_понравиться|0.46137846', 'век|0.45913556', 'это_ресторан|0.45866004', 'вечеринка|0.45838973', 'мероприятие|0.45759675', 'регистрация|0.457337', 'проведение|0.4539075', 'день_рождение_друг|0.453503', 'родитель|0.45334068', 'итак|0.45332614', 'начаться|0.45144486', '2012г|0.44967008', 'летний|0.44954395', 'прошлое|0.448715']\n",
            "Aspect 12:\n",
            "['стен|0.7067065', 'полка|0.69609535', 'стена|0.680138', 'потолок|0.66561484', 'прочий|0.6646962', 'надпись|0.66460156', 'фотография|0.6580252', 'предмет|0.65683913', 'стеклянный|0.656837', 'рамка|0.6549667', 'картина|0.64910626', 'золотой|0.6443063', 'стекло|0.64338183', 'элемент|0.6432339', 'зеркало|0.64203596', 'лампа|0.63630915', 'деталь|0.63358396', 'висеть|0.6328416', 'мебель|0.6310402', 'светильник|0.6290829', 'старое|0.6249015', 'старинный|0.6226604', 'дерево|0.6225783', 'смотреться|0.62235606', 'кирпичный|0.62117743', 'серый|0.62076825', 'плитка|0.62016726', 'картинка|0.61990714', 'люстра|0.6142907', 'видный|0.6142595', 'синий|0.61251295', 'внутренний|0.60975736', 'декор|0.6096965', 'доска|0.6025767', 'деревянный|0.6013262', 'черно|0.6009102', 'панель|0.59849703', 'плазменный|0.59837747', 'журнал|0.59769046', 'кирпич|0.5965917', 'ля|0.59561837', 'гамма|0.5917114', 'подоконник|0.59095883', 'газета|0.5891589', 'потолочь|0.58892405', 'современный|0.5859416', 'коричневый|0.58489466', 'бумага|0.5845991', 'модерн|0.58443344', 'уборный|0.584381', 'крыша|0.58395815', 'убранство|0.583771', 'здание|0.5824266', 'искусственный|0.5819604', 'буфет|0.58066833', 'туалетный|0.5806535', 'полый|0.5796104', 'стиль|0.5757925', 'ступенька|0.57563615', 'шкаф|0.5747253', 'кладка|0.5740675', 'цветовой|0.573461', 'советский|0.57313263', 'пол|0.5723738', 'обои|0.5713304', 'дизайнерский|0.5712349', 'обилие|0.56856894', 'пространство|0.56654006', 'подложка|0.5650872', 'штора|0.56428105', 'белые|0.56148195', 'винный|0.56136537', 'тяжёлый|0.55851257', 'витрина|0.55847394', 'подсветка|0.5577706', 'угол|0.5565431', 'вдоль|0.55591893', 'коврик|0.5551803', 'абажур|0.55475175', 'яркий|0.5538173', 'клетка|0.5537537', 'свет|0.55353284', 'цвета|0.55289686', 'дизайнер|0.5526439', 'белоснежный|0.55140716', 'массивный|0.55060196', 'логотип|0.54956627', 'вписываться|0.54868436', 'птичка|0.54835093', 'плазма|0.5481746', 'известный|0.54798794', 'тон|0.54737663', 'занавеска|0.54700583', 'ткань|0.5470054', 'забавный|0.5462467', 'кровать|0.54605335', 'длинный|0.54571176', 'высоченный|0.54560184', 'стеллаж|0.5448979', 'полочка|0.5437138']\n",
            "Aspect 13:\n",
            "['дым|0.7514727', 'шумно|0.7512387', 'тесно|0.7433368', 'душный|0.73950887', 'диван|0.73557043', 'диванчик|0.7326424', 'вентиляция|0.7322216', 'дымно|0.72903', 'накурить|0.7246475', 'прохладно|0.7161627', 'курить|0.7052338', 'зона|0.7047075', 'кабинка|0.70342433', 'неуютный|0.69226176', 'помещение|0.69028914', 'вытяжка|0.6902493', 'зала|0.6714754', 'комфортно|0.669732', 'удобно|0.66972405', 'мешать|0.6651537', 'друг_друг|0.6623316', 'сидеть|0.6621628', 'беседка|0.6565305', 'кресло|0.65607625', 'народ|0.6493281', 'танцполый|0.6482427', 'дышать|0.6472143', 'вокруг|0.6450568', 'кондиционер|0.63976556', 'стул|0.63658506', 'комната|0.63472986', 'второе_этаж|0.6340505', 'дуть|0.6326138', 'слышный|0.6302161', 'просторно|0.6300337', 'жарко|0.6280948', 'курящий|0.6277367', 'барный_стойка|0.6235286', 'плед|0.6231931', 'дальний|0.6230234', 'прокурить|0.6206172', 'сосед|0.6182525', 'веранда|0.617851', 'комнатка|0.61596555', 'зальчик|0.61396015', 'некурящий|0.61379325', 'зал|0.6127914', 'аквариум|0.6116979', 'коромысло|0.6102994', 'сигаретный|0.60552055', 'терасс|0.60544676', 'экран|0.6044961', 'подушечка|0.6030365', 'близко|0.6022769', 'неудобный|0.6011684', 'светло|0.60094553', 'пространство|0.59837353', 'телевизор|0.5939815', 'разделение|0.59288466', 'туалет|0.5921567', 'высоченный|0.5910747', 'стульчик|0.588884', 'расположиться|0.58882916', 'жарковатый|0.58876383', 'детский_комната|0.5881225', 'устроиться|0.5878917', 'неудобно|0.58782077', 'уединённость|0.58642685', 'табачный|0.58634627', 'наверху|0.5857347', 'тихо|0.5853173', 'тесноватый|0.5850705', 'закутка|0.5813126', 'тв|0.5812155', 'воздух|0.58060414', 'парочка|0.5801065', 'балкон|0.57925254', 'курение|0.5787623', 'деление|0.57861656', 'пропахнуть|0.5785713', 'курильщик|0.57819337', 'тесновато|0.5776284', 'сцена|0.57546985', 'шум|0.5743779', 'дымить|0.5727407', 'спокойно|0.5724017', 'камин|0.56936336', 'проход|0.5667254', 'свет|0.56630266', 'внизу|0.56303763', 'уединение|0.55993056', 'подушка|0.5584622', 'интимный|0.55593216', 'удобный|0.55286705', 'спинка|0.5524439', 'кондей|0.5496705', 'барна_стойка|0.54899776', 'прикольный|0.54894376', 'полумрак|0.54853547', 'окошко|0.5475931']\n",
            "2019-12-24 03:43:16,516 INFO Epoch 1, train: 5s\n",
            "2019-12-24 03:43:16,516 INFO Total loss: 4.4623, max_margin_loss: 4.3538, ortho_reg: 0.1085\n",
            "100% 594/594 [00:05<00:00, 102.52it/s]\n",
            "Aspect 0:\n",
            "['заглянуть|0.7648736', 'перекусить|0.7448392', 'поехать|0.7343652', 'захотеться|0.73423856', 'зайти|0.73397744', 'сходить|0.72006476', 'заехать|0.70969963', 'случайно|0.7050859', 'пообедать|0.7027451', 'поужинать|0.6927551', 'жить|0.6881034', 'питер|0.6825723', 'ехать|0.6825226', 'недалеко|0.67076373', 'заезжать|0.66867816', 'ездить|0.6674949', 'забежать|0.6660639', 'однажды|0.6659802', 'покушать|0.6657276', 'московский|0.6584215', 'недавно|0.6575001', 'заходить|0.6540274', 'сюда|0.65268135', 'подружка|0.6497225', 'поболтать|0.64954275', 'петроградка|0.6373422', 'давно|0.6350533', 'это_место|0.633736', 'заскочить|0.6326821', 'любим|0.63022614', 'частенько|0.62791574', 'целенаправленно|0.6254668', 'район|0.62335163', 'попить|0.6227285', 'специально|0.61214507', 'ближний|0.6100207', 'это_кафе|0.6080732', 'добраться|0.6059703', 'заслать|0.60139155', 'захаживать|0.59866273', 'вспомнить|0.5964012', 'проезжать|0.59593815', 'посетить|0.59563637', 'прогулка|0.5931598', 'забрести|0.5929006', 'сегодня|0.59255767', 'ужинать|0.5909153', 'дом|0.5870898', 'любимый|0.5853087', 'попасть|0.5841677', 'вчера|0.58099496', 'открыться|0.5800531', 'позавтракать|0.579969', 'москва|0.5783017', 'поход|0.57567596', 'посидеть|0.57522523', 'занести|0.5716723', 'обедать|0.57053465', 'вечером|0.5699245', 'невский|0.5694055', 'приезжать|0.56851804', 'отправиться|0.56562626', 'вновь|0.5646128', 'нибыть|0.56152076', 'ходить_туда|0.5606292', 'васильевский|0.5598978', 'приморский|0.55935234', 'хороший_место|0.55884504', 'возвращаться|0.558293', 'забегать|0.5553611', 'друг|0.5522996', 'знакомый|0.55157804', 'местечко|0.54850864', 'побывать|0.5464325', 'привести|0.54510045', 'васька|0.54455084', 'поесть|0.5434429', 'заглядывать|0.54308677', 'решить|0.5422138', 'остров|0.54064536', 'выходной|0.5395646', 'отдохнуть|0.5374575', 'захотеть|0.53533816', 'проверить|0.53381395', 'наведаться|0.5319954', 'летом|0.5314649', 'приятель|0.5296824', 'разочароваться|0.52195674', 'перекус|0.5217092', 'днём|0.5192338', 'лиговка|0.5189939', 'пивко|0.51896816', 'встретиться|0.5174729', 'туда|0.5170654', 'рада|0.5157988', 'проголодаться|0.5153856', 'жан|0.5152889', 'неподалёку|0.513922', 'наткнуться|0.5116558', 'ресторанчик|0.5087233']\n",
            "Aspect 1:\n",
            "['раздумье|0.7852298', 'несказанно|0.7462275', 'соблазниться|0.7411096', 'недолгий|0.7354778', 'банкетик|0.72617567', 'старт|0.7248385', 'омар|0.72166234', 'строчка|0.72052276', 'интригующий|0.7168223', 'тщательный|0.71483004', 'магазинчик|0.71439457', 'замешательство|0.71350574', 'успокоиться|0.71318626', 'калория|0.7121879', 'сперва|0.7104228', 'дегустационный|0.70796216', 'аперитив|0.70262855', 'комбинация|0.7003118', 'спешка|0.6993185', 'затянуться|0.69556653', 'оффициант|0.69418013', 'первоначально|0.6933733', 'сендвич|0.6931335', 'подсказка|0.69267476', 'разбежаться|0.6919153', 'касательно|0.68963253', 'предусмотрительно|0.6890241', 'лефф|0.6890085', 'капкейк|0.68894947', 'ла|0.68823826', 'марсельеза|0.68796384', 'красочно|0.6878067', 'именно_это_место|0.68777573', 'кавказка|0.68665314', 'вживую|0.6865868', 'отъезд|0.6846546', 'аккомпанемент|0.6836195', 'оговорка|0.68190956', 'гролл|0.68144405', 'вк|0.68074757', 'лимончелла|0.6806401', 'вьетнамский|0.6804339', 'диктовать|0.67988', 'су|0.6791152', 'биза|0.67838633', 'именно_это_заведение|0.6782224', 'энтузиазм|0.67816514', 'нард|0.67789006', 'палкинъ|0.6768311', 'это_весьма|0.675989', 'бель|0.67590463', 'плюсик|0.6753589', 'крепость|0.6753557', 'разгуляться|0.67492235', 'св|0.6749097', 'весь_очень_очень|0.67463017', 'принтер|0.6741414', 'добавиться|0.67399275', 'шато|0.6728754', 'коктельный|0.6726953', 'гарсон|0.67209077', 'разнообразить|0.672002', 'барабан|0.67164606', 'засомневаться|0.6713508', 'коктейльчик|0.6712738', 'австралийский|0.6704649', 'negativa|0.6699053', 'уважительный|0.6695528', 'пьер|0.6694313', 'вдаваться|0.6686024', 'отозваться|0.6685378', 'веко|0.6664834', 'экстравагантный|0.66608715', 'непривычный|0.6656554', 'банк|0.6652628', 'чтение|0.6650557', 'розлив|0.6647785', 'бишь|0.6641065', 'животик|0.6634833', 'руно|0.6630851', 'жажда|0.6620922', 'эпитет|0.6620872', 'увлекаться|0.6615561', 'лига|0.6613176', 'слабость|0.6612821', 'устранить|0.6607634', 'буррить|0.66072035', 'химчистка|0.660681', 'кьянти|0.6598346', 'клаб|0.6590626', 'предзаказ|0.6586697', 'кукарача|0.65847653', 'метод|0.65751016', 'продегустировать|0.6574742', 'предположение|0.65727377', 'останавливать|0.6561116', 'презентация|0.6557926', 'ступор|0.65559363', 'сан|0.6553994', 'отметиться|0.65482676']\n",
            "Aspect 2:\n",
            "['говядина|0.67241216', 'рыба|0.6571267', 'овощ|0.6478065', 'гриль|0.6435386', 'стейк|0.63661325', 'креветка|0.6357572', 'карпаччо|0.6311445', 'курица|0.6311388', 'лосось|0.6230543', 'рибай|0.6194663', 'цыплёнок|0.6185124', 'баклажан|0.6140357', 'морепродукт|0.5938888', 'филе|0.587155', 'котлета|0.5860323', 'свинина|0.58472306', 'плов|0.5796185', 'цезарь|0.57427144', 'прожарка|0.5731046', 'салат_цезарь|0.57086825', 'шашлык|0.56686294', 'стейка|0.56570894', 'баранина|0.56285447', 'рис|0.5594462', 'рыбка|0.5581379', 'краб|0.5571712', 'картофель|0.5553856', 'сацивить|0.5549289', 'мясо|0.5548268', 'дорад|0.55373573', 'гарнир|0.55298483', 'куриный|0.55265796', 'это_блюдо|0.5500729', 'судак|0.5469993', 'кальмар|0.5450184', 'медальон|0.5438233', 'форель|0.5432602', 'ягнёнок|0.5417005', 'оливья|0.5409498', 'барашек|0.53898513', 'свиной|0.5371237', 'утка|0.53254545', 'дорада|0.52990055', 'миньон|0.5294769', 'кебаб|0.5288498', 'мидия|0.52868265', 'вок|0.5278609', 'тунец|0.52786046', 'пекински|0.52607906', 'свинин|0.52587146', 'запечёный|0.5230696', 'телятина|0.5214708', 'гребешок|0.5212662', 'удон|0.5194026', 'мясной|0.5185035', 'острый|0.51847124', 'котлетка|0.51599336', 'сибас|0.5142409', 'солянка|0.5142128', 'кисло_сладкое_соус|0.5127068', 'грудка|0.5124913', 'овощной|0.51104873', 'греческий|0.50879145', 'мраморный|0.50720733', 'ризотто|0.5064143', 'жареный|0.5028506', 'лапша|0.5004754', 'мангал|0.5002543', 'помидор|0.50011563', 'долма|0.5000139', 'сочный|0.499963', 'соус|0.49910656', 'сёмга|0.4984372', 'костя|0.49804127', 'шашлычок|0.49634936', 'осьминог|0.4953255', 'колбаска|0.49512827', 'тара_тара|0.49490038', 'драник|0.49440607', 'степень|0.4914958', 'запечь|0.4902355', 'каре|0.48971975', 'ростбиф|0.48902294', 'копчёный|0.4877319', 'салатик|0.48748195', 'гриб|0.4874716', 'хачапури|0.48634398', 'осетрина|0.48614383', 'бургера|0.48545173', 'утиный|0.48530784', 'медиум|0.4845396', 'заправка|0.48329964', 'кура|0.48309526', 'прожарить|0.48290336', 'картошка|0.48055324', 'авокадо|0.4804679', 'ям|0.4789602', 'люля|0.47753483', 'йорк|0.47738218', 'крылышко|0.47566983']\n",
            "Aspect 3:\n",
            "['господин|0.78576684', 'ресторатор|0.75499356', 'уважаемый|0.72442245', 'владелец|0.72378993', 'существовать|0.7216491', 'право|0.72129405', 'критика|0.7106081', 'личный|0.7095065', 'позор|0.70009875', 'простить|0.6929211', 'ум|0.69195867', 'хозяин|0.6877935', 'речь|0.68643516', 'пусть|0.6851679', 'зарплата|0.6820116', 'понятие|0.6815799', 'история|0.67034906', 'постараться|0.6681909', 'знак|0.66377014', 'быдло|0.6629095', 'борис|0.6621127', 'практика|0.66069484', 'сфера|0.6583677', 'человек_который|0.65822875', 'автор|0.6551938', 'хамство|0.6537931', 'опыт|0.6533012', 'представитель|0.65206707', 'гнать|0.64865035', 'неужели|0.64766896', 'иначе|0.64491016', 'жизнь|0.64475846', 'иметь|0.6387963', 'совесть|0.63720584', 'высказывание|0.6358846', 'репутация|0.63566285', 'управленец|0.63562846', 'негатив|0.63427585', 'уволить|0.63229215', 'задуматься|0.63137585', 'общепит|0.6310185', 'менеджмент|0.62870914', 'воровать|0.6253673', 'стороной|0.62096596', 'уверенный|0.61913526', 'верить|0.6184426', 'обходить|0.6178793', 'клуб|0.6177753', 'плевать|0.6164811', 'допускать|0.6163948', 'наплевать|0.61512166', 'руководство|0.61466676', 'понимать|0.6139457', 'потребитель|0.61337864', 'бог|0.6129359', 'злой|0.61272514', 'предприятие|0.61170834', 'учиться|0.61093074', 'непрофессиональный|0.6109009', 'уважать|0.61083055', 'потерять|0.61023283', 'бред|0.6097764', 'скрыть|0.6087706', 'привет|0.6085366', 'licorice|0.6056653', 'звезда|0.6056167', 'письмо|0.60480857', 'питание|0.60461056', 'называть|0.6023326', 'твориться|0.60094714', 'ругать|0.6008887', 'тенденция|0.59998775', 'бороться|0.59894884', 'значение|0.59885645', 'поведение|0.5982558', 'развитие|0.5976467', 'культура|0.5971733', 'руководитель|0.594758', 'нарушение|0.5945879', 'вложить|0.5938088', 'гинза|0.59362787', 'ключ|0.59355354', 'оратор|0.59351575', 'понимание|0.5925801', 'удалять|0.59131444', 'слышать|0.59129727', 'администрация|0.59082735', 'писать|0.58902514', 'сообщение|0.5888945', 'никак|0.58877736', 'человеческий|0.5885331', 'высказать|0.586779', 'объективный|0.585394', 'детище|0.58458567', 'обман|0.5842454', 'тренд|0.58305705', 'смысл|0.58278865', 'стремиться|0.58203584', 'терять|0.58177364', 'система|0.58166933']\n",
            "Aspect 4:\n",
            "['девочка|0.80041164', 'улыбчивый|0.7884475', 'улыбаться|0.7637564', 'улыбка|0.75154686', 'мальчик|0.750319', 'молодая_человек|0.7309024', 'обслуживать|0.7304938', 'расторопный|0.722626', 'любезный|0.7148212', 'учтивый|0.7092298', 'доброжелательно|0.6999676', 'вежливый|0.6957316', 'мила|0.68871427', 'интересоваться|0.68711686', 'девушка|0.68094873', 'официантка|0.68086123', 'доброжелательный|0.67978656', 'парень|0.67636406', 'официант|0.6732428', 'юноша|0.6697121', 'офицант|0.652837', 'стараться|0.6519498', 'появляться|0.64901114', 'чётко|0.64269304', 'обходительный|0.6399062', 'услужливый|0.6379627', 'забывать|0.6372751', 'предупредительный|0.6372146', 'обслуживающий|0.63105357', 'звать|0.6266954', 'вовремя|0.62585175', 'шустрый|0.6253499', 'оперативно|0.61599064', 'внимательно|0.61059546', 'старательный|0.6091698', 'навязчивый|0.6071627', 'провожать|0.60427177', 'менять|0.59944236', 'успевать|0.5993378', 'приветливый|0.598817', 'незаметно|0.59209174', 'персонал|0.5916288', 'обслужить|0.58781075', 'приветливо|0.5847407', 'внимательный|0.58391404', 'весь_время|0.58147097', 'молодая|0.58102727', 'общительный|0.58057386', 'барышня|0.5781876', 'пепельница|0.5762012', 'лицо|0.5741239', 'милый|0.5740541', 'ненавязчивый|0.57364154', 'молоденький|0.57095325', 'очень_милый|0.56806505', 'заботливый|0.56797767', 'обслуживающий_персонал|0.5644033', 'задержка|0.56364083', 'молниеносно|0.56358844', 'смена|0.56231236', 'незаметный|0.56081593', 'прощаться|0.5603924', 'профессионально|0.5601878', 'молодец|0.55639076', 'дружелюбно|0.5543132', 'очень_быстро|0.5530839', 'постоянно|0.55179787', 'быстрый|0.5509551', 'тактично|0.550897', 'назойливый|0.54992825', 'выполнять|0.5478215', 'уносить|0.54704225', 'следить|0.54608375', 'медленно|0.5458957', 'корректно|0.54554236', 'здороваться|0.5433005', 'бармен|0.5427128', 'общаться|0.5400481', 'наш_столик|0.5398879', 'голос|0.5308484', 'разговаривать|0.5235255', 'компетентный|0.521426', 'дружелюбный|0.5202781', 'реагировать|0.5202131', 'ребята|0.51907915', 'своевременно|0.51840764', 'подходить|0.51693994', 'убираться|0.5158285', 'неопытный|0.51526946', 'обаятельный|0.5122223', 'хостёс|0.51210856', 'медлительный|0.5093379', 'убирать|0.50772846', 'быстро|0.5057737', 'отвечать|0.50492144', 'администратор|0.50458586', 'внешность|0.50357425', 'добродушный|0.502564', 'шутить|0.50040364', 'исчезать|0.4995883']\n",
            "Aspect 5:\n",
            "['касаться|0.77265966', 'изыск|0.7602163', 'весь_остальной|0.7489445', 'соответствовать|0.7353536', 'посредственный|0.7323891', 'выше|0.719012', 'не_мочь_сказать|0.70633686', 'отличаться|0.7052567', 'средненький|0.69819224', 'завысить|0.69565064', 'многий|0.692575', 'уровень|0.69026065', 'японский|0.6850968', 'достойный|0.68425405', 'ценник|0.68056846', 'сравнение|0.68018305', 'отличие|0.67907685', 'оценивать|0.6740783', 'оставлять_желать_хороший|0.6679541', 'простой|0.6676513', 'плохой|0.6667207', 'приемлемый|0.6654909', 'действительно|0.66426957', 'недостаток|0.664132', 'качество|0.66343236', 'европейский|0.6598946', 'разнообразие|0.6572676', 'принцип|0.6565993', 'ничто_особенный|0.656568', 'исключение|0.6510974', 'цена_качество|0.65046245', 'качественный|0.64673674', 'крайний_мера|0.6448193', 'китайский|0.6419316', 'добротный|0.6403857', 'учитывать|0.63996506', 'главный|0.63753253', 'прежний|0.63532484', 'остальной|0.6308935', 'особый|0.63073874', 'неплохой|0.6294631', 'нарекание|0.62681216', 'радовать|0.62645555', 'вполне|0.6210646', 'хороший|0.6197407', 'очень_хороший|0.61641383', 'скромный|0.613204', 'сносный|0.6121985', 'обычный|0.61107713', 'претензия|0.609077', 'относительно|0.60870016', 'менее|0.6080783', 'особенный|0.60751754', 'оценить|0.6047824', 'высокий|0.6015539', 'изысканный|0.6010009', 'назвать|0.6003074', 'придраться|0.59976625', 'ниже|0.59967226', 'однако|0.59814465', 'удивлять|0.5979073', 'пожалуй|0.59773374', 'соотношение_цена_качество|0.5970255', 'выдающийся|0.5950656', 'очень_большой|0.5930902', 'особо|0.5925486', 'крайне|0.5922251', 'намного|0.58991194', 'изюминка|0.58912474', 'среднее|0.5877902', 'сетевой|0.5875921', 'демократичный|0.5840805', 'мочь_сказать|0.58287966', 'умеренный|0.58212185', 'план|0.58170724', 'фаста|0.5807476', 'стандартный|0.57814527', 'впечатлить|0.57775915', 'неплохо|0.577589', 'разочаровать|0.5773193', 'достаточно|0.5772857', 'средний|0.5765153', 'адекватный|0.5738491', 'недорогой|0.57274234', 'большинство|0.57132363', 'цена|0.5677698', 'средне|0.5638187', 'авторский|0.56340164', 'скорее|0.56253797', 'простоватый|0.56056064', 'гораздо|0.5595339', 'хромать|0.55940175', 'оценка|0.5583314', 'идеальный|0.5578156', 'кухня|0.55779946', 'приличный|0.5572027', 'насчёт|0.55658734', 'ожидать|0.554506', 'дороговатый|0.55340636', 'однозначно|0.55237544']\n",
            "Aspect 6:\n",
            "['лежалый|0.6941898', 'подсушить|0.6440606', 'заветренный|0.64339596', 'ржаной|0.6424715', 'размазать|0.63810825', 'малюсенький|0.63732064', 'мм|0.63329786', 'чёрствый|0.6316739', 'жалкий|0.63115406', 'пластина|0.6287508', 'сухарь|0.6259071', 'четвертинка|0.6253586', 'варена|0.62411606', 'чесночный|0.6219965', 'кожура|0.6203368', 'пополам|0.6196647', 'залить|0.6186131', 'дора|0.6179063', 'уложить|0.6175145', 'долька|0.61738634', 'булка|0.6171127', 'целиком|0.61656076', 'макать|0.6165142', 'прилипнуть|0.61636484', 'комок|0.6155158', 'толщина|0.6152882', 'веточка|0.61423707', 'лента|0.6136383', 'хамон|0.61306447', 'крохотный|0.60828495', 'порезать|0.608178', 'сало|0.6074445', 'чеснок|0.60615313', 'целый|0.6051356', 'поедать|0.6048593', 'горка|0.6048248', 'половинка|0.6040064', 'маслина|0.6039094', 'рубить|0.60340196', 'капля|0.60285294', 'состоять|0.60154104', 'поедание|0.60119617', 'стопочка|0.6009818', 'обветрить|0.60036063', 'икра|0.599795', 'багет|0.5989652', 'дно|0.5984448', 'румяный|0.598323', 'кукуруза|0.5982202', 'бутерброд|0.59776956', 'тост|0.5969558', 'кольцо|0.59540045', 'ломтик|0.595163', 'полить|0.59492695', 'нарезать|0.5944849', 'грудинка|0.59433043', 'выложить|0.59430075', 'помидорка|0.5941592', 'сдобрить|0.5939902', 'корка|0.5936695', 'розмарин|0.5935552', 'оливковый|0.5934628', 'нарубить|0.593036', 'черрик|0.592995', 'кубик|0.5929232', 'баклажанный|0.5928459', 'засохнуть|0.5925337', 'картофелина|0.5925131', 'толстой|0.5922278', 'крутон|0.5919305', 'бальзамико|0.5917925', 'упаковка|0.59161556', 'миллиметр|0.59138274', 'опёнок|0.5911542', 'диаметр|0.59084165', 'ломоть|0.5906911', 'насыпать|0.5906104', 'плесень|0.59040004', 'треугольник|0.590112', 'капустка|0.5900332', 'горшочек|0.5891751', 'мука|0.58893925', 'утащить|0.5881684', 'посыпать|0.5879472', 'тушёный|0.58766735', 'слой|0.5873844', 'сплошной|0.58733666', 'соломка|0.5872103', 'соусник|0.5870694', 'укроп|0.5867838', 'пирамидка|0.58671516', 'плошка|0.586282', 'хлопья|0.58587', 'чиабатта|0.58500683', 'крупно|0.5846019', 'петрушка|0.5841259', 'гора|0.58408064', 'морковь|0.583414', 'брусочек|0.5823429', 'отварный|0.5823185']\n",
            "Aspect 7:\n",
            "['прийтись|0.7297052', 'предупредить|0.71897316', 'попытка|0.71650004', 'выясниться|0.7158513', 'уточнить|0.70521986', 'просить|0.7013836', 'сообщить|0.70002484', 'поинтересоваться|0.69896334', 'попросить|0.6886319', 'успеть|0.68815506', 'унести|0.68633425', 'пропасть|0.68500066', 'дождаться|0.6831062', 'предупреждать|0.6759256', 'отказаться|0.6730195', 'полчаса|0.6721771', 'естественно|0.67116386', 'вынести|0.6701742', 'мол|0.669214', 'курс|0.6674577', 'сделать_заказ|0.66596496', 'отказать|0.66470003', 'исчезнуть|0.6632225', 'ладный|0.66274583', 'уточнять|0.6612183', 'подождать|0.6603234', 'ответить|0.6590376', 'забрать|0.6563841', 'обратно|0.6562144', 'сначала|0.656042', 'убрать|0.6555084', 'забыть|0.6526834', 'извиниться|0.6503883', 'приход|0.64966327', 'заставить|0.6484541', 'поменять|0.6482758', 'спросить|0.6432513', 'ответ|0.6423215', '15_минута|0.6408919', 'выяснить|0.6405475', 'пообещать|0.63787425', 'последовать|0.6375436', 'подумать|0.6354672', 'пришлый|0.63529384', 'объяснить|0.63329446', 'попытаться|0.6323954', 'записать|0.6314385', 'отказываться|0.62703776', 'затем|0.6222209', '10_минута|0.6169933', 'принять|0.60899794', 'перепутать|0.6088951', 'позвать|0.60789835', 'пытаться|0.6057385', 'готовый|0.6049918', 'вернуть|0.6029937', 'закончиться|0.59698224', 'извиняться|0.59655213', 'уйти|0.5951699', 'предложить|0.5944255', 'вопрос|0.59366214', 'подойти|0.59259605', 'указать|0.5917609', 'согласиться|0.59174955', 'убежать|0.5917314', 'встать|0.5906073', 'освободиться|0.58854103', 'обещать|0.58832955', 'просьба|0.586607', 'начать|0.58596516', '20_минута|0.583307', 'поймать|0.58150053', 'её|0.5812256', 'телефон|0.58121085', 'принять_заказ|0.57913613', 'расчёт|0.57756186', 'извинение|0.5774977', 'спрашивать|0.5773648', 'разобраться|0.5749676', 'сообщать|0.5727633', 'выяснять|0.57191634', 'молча|0.57182646', 'лишь|0.571803', 'результат|0.5711338', 'поздний|0.56776285', 'никто_не|0.56593645', 'заменить|0.56483614', 'момент|0.56469536', 'упасть|0.56415033', 'самостоятельно|0.56396365', 'потребовать|0.56299853', 'удивиться|0.56290215', 'прождать|0.5626769', 'пересадить|0.55893457', 'нея|0.55875933', 'оплатить|0.55863297', 'приняться|0.5581912', 'фраза|0.5576498', 'пожалуйста|0.5571388', 'обратиться|0.5569997']\n",
            "Aspect 8:\n",
            "['шоколад|0.74058867', 'крем|0.69684803', 'клубника|0.69512296', 'варение|0.69195044', 'малиновый|0.68158853', 'шоколадный|0.68062526', 'кекс|0.67456645', 'сладость|0.67045', 'сливка|0.6702445', 'сладкий|0.6655557', 'мусса|0.6638084', 'яблочный|0.65070164', 'сорбета|0.6491264', 'пирог|0.648508', 'карамель|0.645875', 'малин|0.6429449', 'молоко|0.64057696', 'клубничный|0.64001256', 'ягода|0.63883597', 'чизкейк|0.63848627', 'печение|0.63597274', 'вишня|0.6349872', 'карамельный|0.6340176', 'яблоко|0.6337965', 'эклер|0.6328831', 'морковный|0.6325919', 'миндальный|0.63195914', 'мятый|0.6283089', 'лимонный|0.62748224', 'сладкое|0.6265696', 'мороженный|0.6260546', 'корица|0.62496686', 'пирожное|0.6248714', 'наполеон|0.6237755', 'желе|0.6186578', 'манговый|0.61823577', 'ванильный|0.61558855', 'груша|0.6138185', 'мятный|0.6118153', 'вафля|0.60742533', 'суфле|0.6050204', 'брюла|0.60465074', 'мороженое|0.6042639', 'орех|0.6033828', 'имбирный|0.60281634', 'апельсиновый|0.6024054', 'грецкий|0.601596', 'манго|0.60152775', 'трюфель|0.6001893', 'грушевый|0.59981203', 'мёд|0.5988494', 'ваниль|0.5960441', 'медовик|0.5954295', 'зелёный|0.5934559', 'панакот|0.59340245', 'сладко|0.590447', 'сироп|0.59012645', 'корочка|0.5873635', 'взбить|0.5861521', 'творожный|0.5859813', 'шарик|0.5838781', 'бисквит|0.5837709', 'штрудель|0.5830788', 'черничный|0.5828778', 'пенка|0.5791952', 'ароматный|0.5790221', 'трубочка|0.57856774', 'банан|0.57773846', 'орешек|0.57647735', 'кейк|0.5746397', 'сорбетом|0.5722724', 'тархун|0.57217836', 'апельсин|0.57144135', 'густой|0.5708054', 'сахарный|0.5707346', 'вафельный|0.57048965', 'чиз|0.5693595', 'тирамис|0.5689577', 'кокосовый|0.566551', 'маскарпон|0.56569254', 'капучиный|0.56531656', 'джема|0.56421643', 'брауни|0.56145537', 'ягодный|0.56048924', 'тыква|0.5601851', 'фреш|0.5590941', 'фисташковый|0.5589363', 'чабрец|0.5580877', 'воздушный|0.5577977', 'капуччиный|0.5572965', 'молочный|0.5562836', 'маракуйя|0.55600417', 'горячий|0.5552275', 'запивать|0.55371004', 'брусничный|0.55368173', 'лайм|0.55033034', 'меренга|0.5492388', 'пропитать|0.5488638', 'чёрный|0.5478189', 'смородина|0.54596436']\n",
            "Aspect 9:\n",
            "['праздник|0.75969744', 'отдельный_спасибо|0.75737035', 'огромный_спасибо|0.7211017', 'большой_спасибо|0.7177752', 'благодарность|0.6921154', 'весь_гость|0.6878606', 'праздничный|0.685066', 'тамада|0.6807312', 'организация|0.6605978', 'спасибо|0.65912706', 'весь_наш|0.64931786', 'команда|0.6455959', 'незабываемый|0.6427939', 'ведущий|0.6427067', 'коллектив|0.6411605', 'организовать|0.6349417', 'шоу|0.6245301', 'поблагодарить|0.6192519', 'благодаря|0.6161748', 'майкл|0.6060452', 'исполнить|0.6053902', 'торжество|0.6033571', 'невеста|0.6010894', 'создать|0.6003311', 'подарок|0.60000706', 'профессионализм|0.60000616', 'подарить|0.5984477', 'забота|0.59607303', 'чуткий|0.5942149', 'свадебный|0.5937578', 'прекрасно|0.59320915', 'кондитер|0.5930104', 'ольга|0.59232056', 'профессионал|0.59195244', 'подготовка|0.58988', 'уважение|0.58546805', 'марин|0.58314264', 'пожелание|0.5827553', 'благодарный|0.5745152', 'респект|0.5737385', 'весь_гость_остаться_довольный|0.57234454', 'молодожён|0.57225573', 'торт|0.571874', 'конкурс|0.5718279', 'процветание|0.57072103', 'программа|0.57059515', 'елена|0.56953734', 'евгений|0.568535', 'выражать|0.5681831', 'фуршет|0.5663508', 'сергей|0.5654218', 'фейерверк|0.5626791', 'выразить|0.5603748', 'совет|0.55523443', 'наш_гость_остаться_очень_довольный|0.55518126', 'душа|0.5539626', 'андрей|0.5536472', 'благодарить|0.55257905', 'поклон|0.552406', 'очень_довольный|0.5487069', 'шеф_повар|0.54798347', 'алексей|0.5477475', 'проведение|0.54594433', 'мероприятие|0.5439726', 'успех|0.5411649', 'владимир|0.5408428', 'каравай|0.5408379', 'весь_наш_пожелание|0.53980684', 'гость|0.5383323', 'великолепно|0.53316504', 'помочь|0.53304416', 'поздравление|0.53136885', 'очень_приятно|0.53136456', 'самый_главный|0.5300065', 'ирина|0.5293037', 'удача|0.5283487', 'танец|0.52485013', 'татьяна|0.5184671', 'чудесный|0.51793915', 'также|0.51758087', 'организатор|0.51727736', 'помощь|0.51657844', 'великолепный|0.51509875', 'высокий_уровень|0.5147994', 'наталья|0.5129398', 'александр|0.5125648', 'вячеслав|0.5116509', 'виктор|0.51105297', 'внимательность|0.51021785', 'грамотный|0.51019716', 'марина|0.50656694', 'дмитрия|0.50569665', 'гостеприимство|0.5055625', 'желать|0.50500405', 'артист|0.50138366', 'потрясающе|0.4976781', 'отдых|0.49735448', 'прекрасный|0.49577516', 'остаться_довольный|0.49506053', 'отдельный|0.49489403']\n",
            "Aspect 10:\n",
            "['литр|0.74043036', 'висок|0.7326578', 'водка|0.6933527', 'пинта|0.68618226', 'кола|0.65963995', 'мл|0.62624055', 'коньяк|0.6198224', 'кружка|0.6087388', 'ньюкасл|0.605742', 'бутылочка|0.6031163', 'безалкогольный|0.5999893', 'крепкий|0.59510565', 'разливный|0.59347963', 'карта|0.5906781', 'бутылочный|0.58631575', 'пиво|0.5833683', 'бесплатный|0.5788751', 'алкогольный|0.5783613', 'мохитый|0.5672797', 'алкоголь|0.5634481', 'сорт|0.5630702', 'бутылка|0.55912215', 'крушовица|0.5581521', 'наливать|0.5511182', 'сок|0.54881024', 'вод|0.54177797', 'напиток|0.541488', 'коктейль|0.54076374', 'бокал|0.53863347', 'стакан|0.5370538', 'гиннес|0.5370308', 'графин|0.5367564', 'рубль|0.5362714', 'бесплатно|0.53394353', 'гр|0.53277314', 'пить|0.5315658', 'мартини|0.5312811', 'тысяча|0.5285262', 'чек|0.5260404', 'бл|0.52124953', 'эспрессо|0.5192245', 'коктейльный|0.5150577', 'стоимость|0.51174337', 'спиртное|0.5112373', 'грамм|0.5086695', 'обойтись|0.5079754', 'рэ|0.50496703', 'сидр|0.49731052', 'шампанский|0.49424478', 'морс|0.49408376', 'текила|0.49214', 'акция|0.4903504', 'лонг|0.48720452', 'вода|0.4847462', 'бланша|0.4831007', 'заплатить|0.48262', 'скидка|0.47606254', 'кок|0.47590095', 'продавать|0.4738599', 'коктель|0.47261733', 'харп|0.47104672', 'чайник|0.47095063', '100р|0.47018808', 'покупать|0.46935385', 'выпить|0.4682585', 'кальян|0.4659685', 'евро|0.46529683', 'налить|0.4643447', 'нефильтрованный|0.46212628', 'дешёвый|0.4614374', 'лицензия|0.4613064', 'игристый|0.45508614', '200р|0.4531651', 'счёт|0.4527858', 'америкать|0.451923', 'рюмка|0.45019776', 'наценка|0.4490604', 'купить|0.44695204', '600р|0.44521573', 'свежевыжать|0.44286442', 'набор|0.44117355', 'фрешить|0.43894356', 'цена|0.43808717', 'сумма|0.43766534', 'вельвет|0.43448463', 'лёд|0.43354535', 'распитие|0.43271834', 'руль|0.43158033', 'среднее|0.43132773', 'эдельвейс|0.43089518', 'процент|0.42918468', 'чай|0.4281983', 'квас|0.42776763', 'сбор|0.42643064', 'лимонад|0.42337382', 'трое|0.4227965', 'айленд|0.42227447', 'гинесса|0.4214056', '150р|0.42128277', 'сангрия|0.42071056']\n",
            "Aspect 11:\n",
            "['июнь|0.7653446', 'летие|0.7608595', 'февраль|0.754182', 'июль|0.74515945', 'май|0.73090315', 'август|0.7293308', 'сентябрь|0.7240463', 'январь|0.7218857', 'март|0.72103965', 'декабрь|0.71735173', 'октябрь|0.7141292', '2011г|0.71195406', 'отмечать|0.69083893', 'праздновать|0.6880764', 'отмечать_день_рождение|0.68426275', 'го|0.68376374', 'др|0.6678104', 'ноябрь|0.6663398', 'юбилей|0.66325676', 'апрель|0.65868026', 'корпоратить|0.64891636', 'справлять|0.6408808', 'наш_свадьба|0.62808776', 'день_рождение|0.62708104', 'дата|0.6264175', 'ти|0.6193396', 'год|0.59521633', 'празднование|0.59044576', 'прошлый|0.58773375', 'бракосочетание|0.58251166', 'воскресение|0.5814281', 'неделя|0.58104014', 'отпраздновать|0.5773757', 'дочь|0.5763662', 'свадьба|0.5762968', 'сын|0.5736793', 'выпускной|0.5714513', 'годовщина|0.56881803', 'часы|0.56796896', 'корпоративный|0.55791235', 'состояться|0.5565769', 'свой_день_рождение|0.5520938', 'праздновать_день_рождение|0.551601', 'новый_год|0.54881513', '2013г|0.54367137', 'суббота|0.5431362', 'новогодний|0.5429387', 'корпоратив|0.53545916', 'вчера|0.52628684', 'дочка|0.51978827', 'месяц|0.5192758', 'семья|0.5182682', 'число|0.5166387', 'однокурсник|0.51495355', 'свадебный|0.51434207', 'чело|0.5128528', 'выездной|0.51175845', 'втроём|0.507687', 'накануне|0.5066756', 'приехать|0.50453067', '2010г|0.5029639', 'минувший|0.50248003', 'арендовать|0.5023491', 'устроить|0.5012683', '2014г|0.4986716', 'гулять|0.49604878', 'канун|0.49474293', 'девичник|0.49395758', 'ночь|0.4937702', 'банкетный_зал|0.49320942', 'четверг|0.49299547', 'честь|0.49068725', 'супруга|0.48970938', 'вторник|0.48768917', 'год_назад|0.4857588', 'жена|0.48496702', 'банкет|0.48459995', 'пр|0.48389575', 'отмечаться|0.48355517', 'назад|0.4834678', 'нг|0.48268', 'торжество|0.4801276', 'галерный|0.4800412', 'бельканто|0.47385466', 'рождение|0.46990272', 'век|0.46612683', 'вечеринка|0.46531647', 'планироваться|0.46495348', 'родитель|0.46257582', 'это_ресторан|0.462373', 'мероприятие|0.46205074', 'регистрация|0.45896098', 'весь_очень_понравиться|0.45829427', 'начаться|0.45364603', 'утро|0.4531557', 'мама|0.4521841', '2012г|0.4502512', 'проведение|0.4497134', 'день_рождение_друг|0.44801298', 'прошлое|0.44767997']\n",
            "Aspect 12:\n",
            "['стен|0.71273357', 'полка|0.7038797', 'стена|0.6847459', 'надпись|0.6724326', 'потолок|0.6696082', 'стеклянный|0.6642672', 'прочий|0.6631371', 'фотография|0.66127634', 'предмет|0.6571102', 'рамка|0.6570019', 'картина|0.65538067', 'стекло|0.64928377', 'золотой|0.6483288', 'зеркало|0.64642936', 'элемент|0.6441293', 'лампа|0.6395281', 'мебель|0.6382998', 'висеть|0.63798165', 'светильник|0.63638324', 'деталь|0.6359023', 'старое|0.6351494', 'дерево|0.6299087', 'кирпичный|0.6289538', 'старинный|0.62805367', 'серый|0.6269093', 'плитка|0.6236044', 'картинка|0.6225148', 'смотреться|0.6212914', 'люстра|0.6199243', 'внутренний|0.61803323', 'синий|0.6174911', 'видный|0.6166768', 'декор|0.61005807', 'доска|0.6096121', 'журнал|0.60893923', 'черно|0.6082848', 'панель|0.606202', 'плазменный|0.6057183', 'деревянный|0.6014987', 'кирпич|0.60125935', 'газета|0.59927356', 'гамма|0.59701633', 'здание|0.594343', 'подоконник|0.59405434', 'современный|0.59393626', 'крыша|0.5935736', 'потолочь|0.5921818', 'ля|0.5921186', 'ступенька|0.59082407', 'модерн|0.5901267', 'убранство|0.58992946', 'уборный|0.5893579', 'коричневый|0.5892542', 'шкаф|0.5884645', 'туалетный|0.58616006', 'буфет|0.586018', 'искусственный|0.58586305', 'полый|0.5842335', 'бумага|0.58402693', 'цветовой|0.5802513', 'кладка|0.5800917', 'стиль|0.5799799', 'пол|0.5789863', 'обои|0.57702935', 'дизайнерский|0.57333744', 'пространство|0.57246184', 'штора|0.569425', 'советский|0.5680457', 'угол|0.5674715', 'винный|0.5673814', 'подсветка|0.566145', 'витрина|0.5647398', 'обилие|0.5646831', 'клетка|0.5639741', 'абажур|0.56393236', 'белые|0.5636109', 'тяжёлый|0.5634613', 'подложка|0.56122464', 'вдоль|0.560385', 'известный|0.56033933', 'свет|0.55978686', 'кровать|0.5590895', 'тон|0.55800825', 'коврик|0.55758584', 'занавеска|0.5574255', 'дизайнер|0.5572952', 'белоснежный|0.55682397', 'птичка|0.5561562', 'плазма|0.5541853', 'логотип|0.5537183', 'стеллаж|0.55284786', 'яркий|0.55210197', 'цвета|0.5518767', 'массивный|0.5516504', 'ткань|0.55140567', 'высоченный|0.5505662', 'длинный|0.55027944', 'забавный|0.55010605', 'полочка|0.54947585', 'открываться|0.54737276']\n",
            "Aspect 13:\n",
            "['дым|0.7614858', 'шумно|0.76144916', 'тесно|0.7483097', 'душный|0.74503255', 'дымно|0.74050313', 'вентиляция|0.7377037', 'накурить|0.7332729', 'диван|0.73047113', 'диванчик|0.7219093', 'прохладно|0.7143434', 'курить|0.7120592', 'кабинка|0.70241904', 'неуютный|0.7005328', 'вытяжка|0.698833', 'зона|0.69386256', 'помещение|0.6836989', 'мешать|0.68323445', 'сидеть|0.6819332', 'комфортно|0.6736454', 'друг_друг|0.67031235', 'удобно|0.66729766', 'дышать|0.66328675', 'беседка|0.66130865', 'народ|0.66111875', 'зала|0.6590364', 'вокруг|0.65687174', 'танцполый|0.6521088', 'кресло|0.6492194', 'слышный|0.64608514', 'кондиционер|0.63950646', 'сосед|0.6349764', 'дуть|0.63339424', 'комната|0.6333502', 'прокурить|0.63113934', 'стул|0.6283028', 'жарко|0.62810016', 'просторно|0.6272082', 'второе_этаж|0.6264943', 'коромысло|0.61959773', 'курящий|0.61928684', 'плед|0.6180307', 'аквариум|0.6160624', 'дальний|0.6146153', 'сигаретный|0.61419296', 'комнатка|0.61407995', 'веранда|0.61357224', 'барный_стойка|0.61311525', 'близко|0.6099504', 'экран|0.6066258', 'некурящий|0.60556185', 'терасс|0.60539746', 'подушечка|0.6044954', 'туалет|0.6029999', 'зальчик|0.6027884', 'зал|0.60185254', 'телевизор|0.60026574', 'неудобно|0.59927535', 'уединённость|0.59832036', 'светло|0.59725046', 'детский_комната|0.59721756', 'табачный|0.5963273', 'тихо|0.5949565', 'неудобный|0.59388477', 'высоченный|0.59090215', 'пространство|0.59085554', 'парочка|0.5876829', 'воздух|0.5867083', 'пропахнуть|0.5864103', 'тв|0.58593535', 'жарковатый|0.58534044', 'шум|0.5852926', 'стульчик|0.5846431', 'наверху|0.5846007', 'разделение|0.5845405', 'спокойно|0.5829201', 'тесновато|0.5801091', 'деление|0.5800446', 'курильщик|0.5797608', 'закутка|0.57852244', 'тесноватый|0.5775797', 'устроиться|0.5748081', 'курение|0.57450974', 'сцена|0.5742686', 'дымить|0.57399046', 'расположиться|0.57354724', 'балкон|0.5689299', 'камин|0.5672163', 'свет|0.566862', 'кондей|0.5651237', 'внизу|0.5625919', 'подушка|0.5604439', 'уединение|0.5603991', 'проход|0.5598283', 'интимный|0.5547225', 'прикольный|0.553182', 'толпа|0.5524872', 'спинка|0.54989064', 'игрушка|0.5494657', 'танцевать|0.5489468', 'развалиться|0.54870653']\n",
            "2019-12-24 03:43:22,482 INFO Epoch 2, train: 5s\n",
            "2019-12-24 03:43:22,483 INFO Total loss: 4.1574, max_margin_loss: 4.0493, ortho_reg: 0.1081\n",
            "100% 594/594 [00:05<00:00, 102.52it/s]\n",
            "Aspect 0:\n",
            "['заглянуть|0.756955', 'перекусить|0.73897773', 'захотеться|0.73243785', 'поехать|0.7305706', 'зайти|0.7284149', 'сходить|0.7153734', 'случайно|0.7064042', 'заехать|0.7040185', 'пообедать|0.6960869', 'поужинать|0.6879698', 'жить|0.6846535', 'питер|0.68448484', 'ехать|0.6773287', 'недалеко|0.6671944', 'ездить|0.6612823', 'покушать|0.6608323', 'заезжать|0.65995467', 'однажды|0.65983653', 'забежать|0.6585668', 'недавно|0.657967', 'московский|0.656623', 'заходить|0.6508231', 'подружка|0.6461027', 'поболтать|0.6456671', 'сюда|0.6440512', 'давно|0.6345857', 'петроградка|0.63197875', 'любим|0.6301742', 'это_место|0.62844837', 'заскочить|0.62751985', 'район|0.623181', 'частенько|0.6226453', 'попить|0.6219148', 'целенаправленно|0.6178956', 'специально|0.60444444', 'это_кафе|0.6029229', 'заслать|0.60177237', 'ближний|0.6002853', 'добраться|0.59918785', 'вспомнить|0.5931162', 'посетить|0.59242845', 'сегодня|0.58982974', 'проезжать|0.5897485', 'любимый|0.58845854', 'захаживать|0.5870558', 'забрести|0.58698714', 'прогулка|0.58671933', 'ужинать|0.5832304', 'попасть|0.5824509', 'дом|0.58176196', 'вчера|0.5812293', 'открыться|0.57828695', 'москва|0.57531124', 'посидеть|0.57108736', 'позавтракать|0.5703188', 'поход|0.5687375', 'вечером|0.5683572', 'невский|0.56828964', 'приезжать|0.5656322', 'занести|0.56488883', 'отправиться|0.5609602', 'обедать|0.5602443', 'васильевский|0.55725133', 'хороший_место|0.55637217', 'нибыть|0.5562117', 'приморский|0.5550617', 'друг|0.553721', 'вновь|0.5536429', 'ходить_туда|0.5527263', 'знакомый|0.5502039', 'местечко|0.54893064', 'возвращаться|0.5477565', 'забегать|0.54567933', 'побывать|0.5436088', 'решить|0.53990185', 'васька|0.53966904', 'привести|0.53868246', 'остров|0.5378016', 'поесть|0.5346426', 'выходной|0.5328973', 'заглядывать|0.5322296', 'отдохнуть|0.53094274', 'проверить|0.5297591', 'приятель|0.5286214', 'летом|0.5285822', 'захотеть|0.52668166', 'наведаться|0.5216106', 'разочароваться|0.5200597', 'пивко|0.5197456', 'рада|0.5136085', 'встретиться|0.5134408', 'днём|0.51322246', 'перекус|0.5123738', 'лиговка|0.5114973', 'туда|0.5101984', 'жан|0.50995016', 'наткнуться|0.5082817', 'ресторанчик|0.5079598', 'неподалёку|0.5066658', 'проголодаться|0.5053754']\n",
            "Aspect 1:\n",
            "['раздумье|0.7686217', 'соблазниться|0.7412394', 'строчка|0.7411214', 'банкетик|0.7335545', 'несказанно|0.72913706', 'старт|0.726594', 'интригующий|0.7221925', 'омар|0.72016674', 'дегустационный|0.71880907', 'недолгий|0.71598035', 'аперитив|0.71420306', 'касательно|0.71100783', 'калория|0.7086941', 'замешательство|0.70704865', 'успокоиться|0.69438064', 'именно_это_место|0.6939264', 'тщательный|0.69391465', 'кавказка|0.6906911', 'разбежаться|0.6904268', 'магазинчик|0.6898385', 'первоначально|0.6895586', 'вк|0.6862216', 'сперва|0.68481636', 'комбинация|0.68327177', 'заманчивый|0.68288696', 'разгуляться|0.6801559', 'чтение|0.67810273', 'именно_это_заведение|0.67738086', 'предусмотрительно|0.6764301', 'австралийский|0.6735422', 'сендвич|0.67352235', 'св|0.6731976', 'лефф|0.6730095', 'подсказка|0.6729164', 'весь_очень_очень|0.67287624', 'капкейк|0.6726383', 'ла|0.67239827', 'непривычный|0.6719391', 'принтер|0.67151344', 'оговорка|0.6713133', 'вьетнамский|0.67059016', 'марсельеза|0.6686151', 'изучение|0.66847956', 'перечень|0.6682243', 'продегустировать|0.6680398', 'розлив|0.6677851', 'красочно|0.66705656', 'биза|0.6666128', 'вживую|0.66659176', 'обрадовать|0.666122', 'велик|0.6651419', 'отозваться|0.6642702', 'оффициант|0.6635151', 'страничка|0.66213053', 'шато|0.66187423', 'палкинъ|0.66170675', 'бель|0.661111', 'засомневаться|0.66098964', 'гролл|0.6607126', 'крепость|0.66065025', 'отъезд|0.65955794', 'предзаказ|0.65923345', 'су|0.6588963', 'отметиться|0.6586033', 'спешка|0.6581433', 'разнообразить|0.65716594', 'добавиться|0.6569416', 'вдаваться|0.65603244', 'презентация|0.6558244', 'лига|0.6557458', 'осторожный|0.6555063', 'энтузиазм|0.65527606', 'затянуться|0.65496254', 'кьянти|0.65427476', 'аккомпанемент|0.65382785', 'веко|0.6527984', 'гарсон|0.6519392', 'барабан|0.6509314', 'версия|0.6499063', 'ступор|0.6499002', 'перевод|0.6496153', 'красочный|0.6495688', 'экстравагантный|0.6493478', 'нард|0.6493107', 'коктейльчик|0.64925194', 'африканский|0.64851695', 'прогадать|0.64846003', 'вышеуказанный|0.64803827', 'строка|0.64753234', 'сократить|0.6459334', 'аналогично|0.6458228', 'новинка|0.645751', 'актуальный|0.6457305', 'увлекаться|0.6449684', 'сан|0.6448047', 'коктельный|0.64443123', 'химчистка|0.6442926', 'бишь|0.6442033', 'жажда|0.64369893', 'банк|0.6436108']\n",
            "Aspect 2:\n",
            "['говядина|0.6898306', 'овощ|0.66549635', 'гриль|0.66450095', 'рыба|0.66248333', 'стейк|0.6522126', 'креветка|0.64752626', 'карпаччо|0.64494383', 'курица|0.6442727', 'лосось|0.6410187', 'рибай|0.6350626', 'цыплёнок|0.63372475', 'баклажан|0.62498486', 'филе|0.60717', 'морепродукт|0.60373837', 'котлета|0.5985342', 'свинина|0.59800506', 'плов|0.5902997', 'прожарка|0.58664644', 'цезарь|0.58359516', 'салат_цезарь|0.5826521', 'стейка|0.5798137', 'рис|0.57594377', 'баранина|0.5758122', 'шашлык|0.57406294', 'картофель|0.5730267', 'краб|0.57173705', 'рыбка|0.5701546', 'сацивить|0.5691335', 'куриный|0.56878185', 'дорад|0.56797445', 'гарнир|0.5662651', 'судак|0.56238395', 'мясо|0.562261', 'кальмар|0.5611633', 'медальон|0.5601033', 'форель|0.5588301', 'ягнёнок|0.55863345', 'свиной|0.5575525', 'барашек|0.5569761', 'оливья|0.5536339', 'это_блюдо|0.55273795', 'дорада|0.54981196', 'миньон|0.5485523', 'вок|0.5483168', 'тунец|0.54607755', 'пекински|0.5459137', 'утка|0.54551053', 'кебаб|0.5433965', 'свинин|0.54282963', 'мидия|0.54277885', 'гребешок|0.5382119', 'запечёный|0.538033', 'телятина|0.53663373', 'острый|0.5342697', 'сибас|0.5317391', 'грудка|0.5316808', 'удон|0.5310817', 'котлетка|0.53095603', 'кисло_сладкое_соус|0.52810454', 'овощной|0.5271407', 'мраморный|0.52662396', 'мясной|0.52636373', 'солянка|0.52432036', 'греческий|0.5221603', 'жареный|0.519701', 'мангал|0.51947045', 'соус|0.51588947', 'ризотто|0.5157677', 'долма|0.5153737', 'костя|0.51420796', 'сёмга|0.5140196', 'сочный|0.51378864', 'лапша|0.5130592', 'шашлычок|0.5121932', 'колбаска|0.5121496', 'тара_тара|0.5119491', 'осьминог|0.51133573', 'запечь|0.5110427', 'помидор|0.51033115', 'драник|0.50859976', 'ростбиф|0.50737965', 'степень|0.50677824', 'каре|0.5062077', 'копчёный|0.5060514', 'бургера|0.5045752', 'кура|0.5012812', 'медиум|0.5010741', 'утиный|0.5008911', 'осетрина|0.49998742', 'салатик|0.4985482', 'гриб|0.4965174', 'прожарить|0.49638885', 'авокадо|0.49574617', 'королевский|0.4952357', 'крылышко|0.4946559', 'заправка|0.4942081', 'картошка|0.4931732', 'люля|0.49149942', 'йорк|0.49113292', 'ям|0.49082664']\n",
            "Aspect 3:\n",
            "['господин|0.7840179', 'ресторатор|0.7524694', 'существовать|0.722619', 'уважаемый|0.7194878', 'владелец|0.71902007', 'право|0.7135751', 'критика|0.7115036', 'ум|0.70979524', 'личный|0.7087461', 'позор|0.7071622', 'простить|0.7062051', 'речь|0.6935658', 'зарплата|0.68734884', 'понятие|0.6856726', 'хозяин|0.68450475', 'пусть|0.6839632', 'постараться|0.6735927', 'быдло|0.668535', 'борис|0.6660322', 'знак|0.6659384', 'автор|0.66059685', 'сфера|0.66016304', 'история|0.65975773', 'практика|0.65974456', 'гнать|0.6588607', 'хамство|0.65710545', 'негатив|0.6531619', 'человек_который|0.6523165', 'совесть|0.6515199', 'представитель|0.6493362', 'иначе|0.6485599', 'жизнь|0.6466011', 'опыт|0.6462893', 'неужели|0.64600194', 'управленец|0.64371824', 'высказывание|0.6430323', 'уволить|0.6380067', 'репутация|0.637305', 'злой|0.63562495', 'задуматься|0.6350132', 'менеджмент|0.63173985', 'стороной|0.63102984', 'обходить|0.6289108', 'бог|0.6287415', 'воровать|0.6266949', 'общепит|0.6262826', 'наплевать|0.6262123', 'иметь|0.62412876', 'учиться|0.6240865', 'плевать|0.6238912', 'скрыть|0.6225404', 'уверенный|0.62252384', 'допускать|0.62161684', 'клуб|0.6206021', 'бред|0.6196491', 'непрофессиональный|0.61817455', 'привет|0.61735046', 'предприятие|0.61708945', 'потребитель|0.6167057', 'верить|0.61535454', 'уважать|0.61336184', 'потерять|0.613076', 'твориться|0.6122469', 'licorice|0.61198163', 'ругать|0.60964847', 'тенденция|0.60962975', 'руководство|0.60884166', 'понимать|0.60854685', 'звезда|0.607665', 'значение|0.6058595', 'развитие|0.6054454', 'письмо|0.60211253', 'питание|0.601313', 'поведение|0.60065496', 'бороться|0.6006546', 'удалять|0.5998421', 'нарушение|0.5982642', 'вложить|0.59776306', 'ключ|0.5966897', 'называть|0.5966258', 'слышать|0.59612674', 'культура|0.5959505', 'никак|0.5954511', 'оратор|0.5952139', 'понимание|0.59509885', 'человеческий|0.5938375', 'стремиться|0.5935839', 'руководитель|0.5928606', 'тренд|0.59191954', 'учить|0.5916194', 'блог|0.59126866', 'вечно|0.5910495', 'высказать|0.59098506', 'мысль|0.5907246', 'школа|0.5895808', 'обман|0.5894469', 'детище|0.58910704', 'объективный|0.58908886', 'извинить|0.5882149', 'гинза|0.5878501']\n",
            "Aspect 4:\n",
            "['девочка|0.7920265', 'улыбчивый|0.7739979', 'улыбаться|0.74814403', 'улыбка|0.7433922', 'мальчик|0.7393876', 'молодая_человек|0.73091316', 'обслуживать|0.7117248', 'расторопный|0.7007784', 'любезный|0.69999045', 'официантка|0.692123', 'учтивый|0.69163513', 'девушка|0.68641186', 'доброжелательно|0.6853466', 'вежливый|0.6837734', 'официант|0.682082', 'мила|0.6731546', 'интересоваться|0.6703199', 'парень|0.66549397', 'доброжелательный|0.6638936', 'юноша|0.6534614', 'офицант|0.640092', 'стараться|0.634484', 'чётко|0.63136435', 'появляться|0.6296873', 'обходительный|0.62363493', 'предупредительный|0.6176357', 'забывать|0.6164186', 'услужливый|0.6155283', 'звать|0.6140661', 'вовремя|0.61274964', 'обслуживающий|0.6118498', 'оперативно|0.6026548', 'внимательно|0.59930766', 'шустрый|0.5992527', 'старательный|0.5927274', 'провожать|0.5912865', 'персонал|0.5908263', 'навязчивый|0.5898275', 'успевать|0.58357674', 'приветливый|0.5805104', 'менять|0.5803963', 'незаметно|0.57138777', 'приветливо|0.57100046', 'обслужить|0.57031804', 'молодая|0.56873214', 'барышня|0.5687143', 'внимательный|0.5678168', 'лицо|0.5661121', 'пепельница|0.5648912', 'общительный|0.5641206', 'ненавязчивый|0.55904436', 'обслуживающий_персонал|0.5587292', 'милый|0.5583376', 'весь_время|0.55756414', 'задержка|0.5511058', 'очень_милый|0.5495759', 'смена|0.5494714', 'заботливый|0.5480027', 'молоденький|0.5449094', 'прощаться|0.54476213', 'молниеносно|0.5434174', 'профессионально|0.541993', 'молодец|0.54133666', 'дружелюбно|0.5404327', 'бармен|0.5404196', 'незаметный|0.5401383', 'быстрый|0.5393467', 'очень_быстро|0.5341718', 'наш_столик|0.53349555', 'выполнять|0.5328074', 'постоянно|0.5323382', 'корректно|0.5320195', 'следить|0.53057504', 'тактично|0.52986956', 'здороваться|0.5296711', 'общаться|0.5284028', 'назойливый|0.5281263', 'уносить|0.5278628', 'медленно|0.52420956', 'голос|0.5227687', 'разговаривать|0.5131018', 'администратор|0.51178706', 'ребята|0.51115894', 'компетентный|0.5096989', 'реагировать|0.5066682', 'дружелюбный|0.5044925', 'хостёс|0.5044768', 'отвечать|0.5015714', 'своевременно|0.49993122', 'подходить|0.49584478', 'убираться|0.49529648', 'обаятельный|0.49183434', 'быстро|0.49155563', 'неопытный|0.49100405', 'убирать|0.4894845', 'внешность|0.4890093', 'хостесса|0.48493546', 'шутить|0.48396993', 'добродушный|0.48110673', 'медлительный|0.47989386']\n",
            "Aspect 5:\n",
            "['касаться|0.7655562', 'изыск|0.755054', 'весь_остальной|0.74017733', 'соответствовать|0.72693264', 'посредственный|0.72636473', 'выше|0.71673244', 'не_мочь_сказать|0.6995319', 'отличаться|0.69584894', 'завысить|0.6953722', 'уровень|0.6930828', 'многий|0.6910792', 'средненький|0.68914974', 'ценник|0.6868452', 'японский|0.6784556', 'сравнение|0.6775617', 'достойный|0.67452073', 'отличие|0.6692519', 'оценивать|0.6640811', 'недостаток|0.66279656', 'качество|0.66231227', 'плохой|0.66119707', 'простой|0.65962696', 'приемлемый|0.6581644', 'оставлять_желать_хороший|0.6558994', 'действительно|0.65423477', 'принцип|0.65331495', 'разнообразие|0.64988726', 'учитывать|0.64885867', 'ничто_особенный|0.64799356', 'цена_качество|0.6476555', 'исключение|0.6469883', 'европейский|0.6463936', 'прежний|0.6405257', 'крайний_мера|0.63951075', 'качественный|0.6338148', 'китайский|0.63218397', 'добротный|0.6284041', 'остальной|0.62838644', 'нарекание|0.62735534', 'главный|0.62675357', 'радовать|0.62425566', 'особый|0.62293464', 'неплохой|0.61699045', 'вполне|0.6151742', 'скромный|0.61023617', 'хороший|0.6092444', 'относительно|0.6082284', 'обычный|0.6061946', 'сносный|0.6050781', 'очень_хороший|0.60490686', 'претензия|0.6045424', 'менее|0.60203314', 'ниже|0.6014123', 'высокий|0.59868026', 'придраться|0.5960684', 'соотношение_цена_качество|0.59605145', 'намного|0.59503686', 'особенный|0.5944575', 'пожалуй|0.5938834', 'однако|0.59352815', 'удивлять|0.5927236', 'среднее|0.5920592', 'крайне|0.5906592', 'назвать|0.58889437', 'оценить|0.5883508', 'особо|0.58815026', 'очень_большой|0.58564276', 'изысканный|0.58407915', 'сетевой|0.58205175', 'выдающийся|0.581774', 'демократичный|0.5803481', 'мочь_сказать|0.57712084', 'фаста|0.5760478', 'план|0.57597494', 'средний|0.5757706', 'цена|0.57418597', 'умеренный|0.5741748', 'достаточно|0.57405555', 'изюминка|0.5731354', 'разочаровать|0.5703749', 'адекватный|0.56951225', 'стандартный|0.5694779', 'недорогой|0.56907856', 'неплохо|0.56873274', 'большинство|0.567504', 'впечатлить|0.56125486', 'гораздо|0.5609271', 'оценка|0.56047046', 'кухня|0.5586258', 'средне|0.55357903', 'хромать|0.5529158', 'дороговатый|0.5523447', 'ожидать|0.552274', 'приличный|0.5519866', 'категория|0.5506624', 'целое|0.54804915', 'простоватый|0.54794264', 'скорее|0.54778993', 'однозначно|0.5469166', 'авторский|0.54570484']\n",
            "Aspect 6:\n",
            "['лежалый|0.69381493', 'подсушить|0.6319276', 'заветренный|0.630085', 'чёрствый|0.6286981', 'размазать|0.6275258', 'ржаной|0.62438524', 'малюсенький|0.6218705', 'мм|0.62171817', 'жалкий|0.617193', 'целый|0.6121763', 'пластина|0.6110997', 'уложить|0.60968554', 'сухарь|0.60909534', 'лента|0.6074984', 'булка|0.6049526', 'четвертинка|0.60462254', 'залить|0.60358727', 'прилипнуть|0.6032368', 'долька|0.60195065', 'чесночный|0.60044277', 'целиком|0.6002331', 'пополам|0.60006493', 'кожура|0.59793144', 'веточка|0.5979286', 'варена|0.59737396', 'хамон|0.5965724', 'стопочка|0.59529436', 'крохотный|0.59493744', 'четыре|0.5938368', 'толщина|0.5932721', 'сало|0.59323454', 'горка|0.5930007', 'упаковка|0.5927031', 'диаметр|0.59258896', 'икра|0.5924694', 'оливковый|0.5919661', 'комок|0.5918977', 'макать|0.5913244', 'порезать|0.5909132', 'дора|0.5908819', 'половинка|0.58879745', 'гора|0.58758', 'капля|0.58666885', 'состоять|0.58636254', 'засохнуть|0.58623105', 'багет|0.58600616', 'штука|0.5853189', 'чеснок|0.5846857', 'выложить|0.5840498', 'тост|0.58358866', 'поедать|0.58313334', 'нарезка|0.5829865', 'бутерброд|0.5828785', 'маслина|0.5811546', 'нарезать|0.5808275', 'помидорка|0.58040154', 'дно|0.5793124', 'бальзамико|0.578327', 'разложить|0.5781924', 'обветрить|0.5775261', 'картофелина|0.5770209', 'кольцо|0.57693595', 'треугольник|0.57674825', 'ломоть|0.57674766', 'толстой|0.57646304', 'рубить|0.5761188', 'полить|0.5755922', 'ломтик|0.57558703', 'насыпать|0.5755305', 'слой|0.57481974', 'миллиметр|0.5748068', 'утащить|0.5741612', 'чиабатта|0.5740422', 'сплошной|0.5738089', 'сырный|0.57318103', 'баклажанный|0.5726501', 'румяный|0.5726148', 'край|0.57247055', 'кубик|0.57211363', 'опёнок|0.57129824', 'корка|0.571117', 'плесень|0.5709991', 'поедание|0.5705453', 'кукуруза|0.57020247', 'плошка|0.5701642', 'горшочек|0.5701215', 'печь|0.5698127', 'черрик|0.56908274', 'соусник|0.56877345', 'разрезать|0.56803286', 'нарубить|0.5667306', 'грудинка|0.5658989', 'сдобрить|0.56579995', 'глиняный|0.5657723', 'холодильник|0.56520426', 'пирамидка|0.56488544', 'посыпать|0.5647094', 'хлопья|0.5641862', 'плавать|0.5641748', 'розмарин|0.56408644']\n",
            "Aspect 7:\n",
            "['прийтись|0.72624505', 'предупредить|0.7185639', 'попытка|0.7120615', 'выясниться|0.7100315', 'уточнить|0.7040279', 'поинтересоваться|0.6992725', 'просить|0.6966326', 'сообщить|0.69616497', 'унести|0.681362', 'успеть|0.67957664', 'попросить|0.6770952', 'пропасть|0.675138', 'предупреждать|0.67396265', 'дождаться|0.67240775', 'отказаться|0.6715936', 'естественно|0.6706656', 'вынести|0.667061', 'мол|0.66556346', 'полчаса|0.66511166', 'курс|0.6650673', 'уточнять|0.6620426', 'отказать|0.6601378', 'сделать_заказ|0.65935385', 'ответить|0.6567174', 'забрать|0.6565605', 'ладный|0.65584624', 'подождать|0.6548466', 'исчезнуть|0.6530886', 'обратно|0.6529298', 'убрать|0.65272003', 'сначала|0.6478112', 'извиниться|0.6467854', 'приход|0.6460468', 'забыть|0.64395', 'спросить|0.6405704', 'поменять|0.63867354', 'заставить|0.6382297', 'выяснить|0.63810766', 'ответ|0.6378516', 'подумать|0.63767684', 'объяснить|0.63380766', 'последовать|0.6335834', 'пообещать|0.6314306', '15_минута|0.6294727', 'пришлый|0.62898624', 'записать|0.6289775', 'попытаться|0.62897635', 'отказываться|0.6215513', 'затем|0.61609495', '10_минута|0.60630965', 'пытаться|0.60495275', 'принять|0.60428214', 'перепутать|0.6040314', 'позвать|0.601742', 'вернуть|0.5987808', 'предложить|0.5970289', 'готовый|0.596339', 'вопрос|0.5942172', 'извиняться|0.5894359', 'указать|0.5891068', 'закончиться|0.58771265', 'подойти|0.58737755', 'освободиться|0.5861985', 'встать|0.5854274', 'убежать|0.58471227', 'телефон|0.5826198', 'уйти|0.5822362', 'спрашивать|0.5812206', 'согласиться|0.58115375', 'просьба|0.5805471', 'её|0.58028674', 'обещать|0.5780537', 'поймать|0.5770428', 'начать|0.57487714', 'расчёт|0.57444245', 'извинение|0.57355237', 'принять_заказ|0.57332474', 'разобраться|0.5729107', '20_минута|0.5712335', 'сообщать|0.5712184', 'молча|0.5680615', 'никто_не|0.5669315', 'выяснять|0.5659963', 'результат|0.5658207', 'самостоятельно|0.5619625', 'нея|0.5613628', 'удивиться|0.5609162', 'поздний|0.5603341', 'лишь|0.55905783', 'заменить|0.5590076', 'момент|0.55803907', 'приняться|0.557781', 'пересадить|0.5566454', 'забирать|0.5561517', 'потребовать|0.55612564', 'не_смочь|0.555079', 'обратиться|0.5543132', 'пожалуйста|0.55420834', 'оплатить|0.5541489', 'положить|0.55355054']\n",
            "Aspect 8:\n",
            "['шоколад|0.7515904', 'клубника|0.70691013', 'крем|0.706493', 'варение|0.7041215', 'малиновый|0.6953244', 'кекс|0.69066566', 'шоколадный|0.6890878', 'сливка|0.68820643', 'сладость|0.68134284', 'сладкий|0.6811135', 'мусса|0.6795466', 'яблочный|0.6676996', 'сорбета|0.6625216', 'пирог|0.6606544', 'малин|0.656953', 'клубничный|0.65591013', 'карамель|0.655419', 'молоко|0.65417534', 'вишня|0.65212524', 'карамельный|0.652107', 'печение|0.6504566', 'чизкейк|0.64913225', 'миндальный|0.64701235', 'ягода|0.64626837', 'эклер|0.6457869', 'морковный|0.6451512', 'корица|0.64087945', 'лимонный|0.63895077', 'яблоко|0.6386033', 'мятый|0.63847095', 'ванильный|0.63726246', 'мороженный|0.63575375', 'манговый|0.6349863', 'мятный|0.6341523', 'наполеон|0.6332282', 'желе|0.63252836', 'сладкое|0.6311676', 'вафля|0.62315935', 'груша|0.6229377', 'суфле|0.62290466', 'пирожное|0.6226705', 'имбирный|0.621431', 'грушевый|0.61687243', 'апельсиновый|0.6158197', 'ваниль|0.61515665', 'брюла|0.61442673', 'грецкий|0.6142119', 'сладко|0.61376333', 'мороженое|0.6137301', 'манго|0.6126987', 'медовик|0.61124706', 'панакот|0.610496', 'орех|0.6103664', 'трюфель|0.6101877', 'корочка|0.6077659', 'мёд|0.6072843', 'ароматный|0.6047815', 'творожный|0.6043328', 'бисквит|0.6042656', 'взбить|0.6042221', 'черничный|0.60324574', 'вафельный|0.603156', 'сироп|0.6006228', 'пенка|0.59897435', 'зелёный|0.5989187', 'штрудель|0.5980762', 'шарик|0.5949477', 'густой|0.59422445', 'сорбетом|0.59390116', 'трубочка|0.5927806', 'кокосовый|0.59083056', 'тархун|0.59028196', 'банан|0.587154', 'сахарный|0.586447', 'брауни|0.58573866', 'кейк|0.58513963', 'орешек|0.58455646', 'чиз|0.5839091', 'апельсин|0.581092', 'фисташковый|0.5803501', 'маскарпон|0.5795769', 'джема|0.57930905', 'капуччиный|0.57784736', 'воздушный|0.57755494', 'ягодный|0.57504493', 'горячий|0.5745665', 'капучиный|0.5739504', 'чабрец|0.57362854', 'меренга|0.5733532', 'тыква|0.573287', 'тирамис|0.5732144', 'фреш|0.57159203', 'брусничный|0.5714826', 'маракуйя|0.5711917', 'пропитать|0.570682', 'запивать|0.5704443', 'приторный|0.5703801', 'молочный|0.5698081', 'песочный|0.5665468', 'лайм|0.56467617']\n",
            "Aspect 9:\n",
            "['отдельный_спасибо|0.76481867', 'праздник|0.7597599', 'огромный_спасибо|0.7260438', 'большой_спасибо|0.72272545', 'благодарность|0.69494885', 'весь_гость|0.6929482', 'праздничный|0.688145', 'тамада|0.6834756', 'организация|0.66371953', 'спасибо|0.6605121', 'весь_наш|0.6511339', 'команда|0.6493672', 'незабываемый|0.64626', 'ведущий|0.64571375', 'коллектив|0.64359426', 'организовать|0.63846636', 'шоу|0.6302062', 'поблагодарить|0.6223139', 'благодаря|0.6172321', 'исполнить|0.6096728', 'майкл|0.6093638', 'профессионализм|0.6056646', 'торжество|0.6044404', 'невеста|0.60400486', 'создать|0.6029953', 'подарок|0.60200953', 'чуткий|0.60155106', 'подарить|0.6004957', 'кондитер|0.60010415', 'профессионал|0.59968066', 'прекрасно|0.5984453', 'забота|0.59672177', 'свадебный|0.596256', 'ольга|0.5955255', 'подготовка|0.59169', 'марин|0.5905404', 'уважение|0.5884507', 'пожелание|0.5840438', 'респект|0.58237517', 'благодарный|0.581189', 'весь_гость_остаться_довольный|0.5801655', 'торт|0.57704735', 'молодожён|0.57462275', 'елена|0.57430536', 'конкурс|0.5735311', 'евгений|0.57253045', 'процветание|0.572238', 'выражать|0.5721173', 'программа|0.5710776', 'фуршет|0.57052934', 'сергей|0.5703621', 'фейерверк|0.5685331', 'выразить|0.56364655', 'поклон|0.56207645', 'совет|0.5618873', 'наш_гость_остаться_очень_довольный|0.5595374', 'андрей|0.55940086', 'благодарить|0.55713606', 'шеф_повар|0.5561497', 'очень_довольный|0.5548646', 'душа|0.55426866', 'алексей|0.55352145', 'проведение|0.54924136', 'каравай|0.54798144', 'владимир|0.5458519', 'гость|0.5453882', 'весь_наш_пожелание|0.5444103', 'мероприятие|0.5441821', 'успех|0.542821', 'великолепно|0.5422716', 'самый_главный|0.5414754', 'помочь|0.5401151', 'очень_приятно|0.5367594', 'поздравление|0.5361014', 'ирина|0.5346276', 'удача|0.53028315', 'танец|0.5263442', 'великолепный|0.526182', 'чудесный|0.5243151', 'также|0.52427083', 'высокий_уровень|0.5236682', 'татьяна|0.52272785', 'грамотный|0.5208628', 'помощь|0.51957655', 'организатор|0.5193641', 'александр|0.5188968', 'виктор|0.51843596', 'наталья|0.5183536', 'внимательность|0.51687825', 'вячеслав|0.51625603', 'марина|0.5156466', 'дмитрия|0.5135944', 'гостеприимство|0.51271594', 'артист|0.5068495', 'потрясающе|0.5058094', 'прекрасный|0.5039034', 'желать|0.5038647', 'остаться_довольный|0.50369334', 'отдельный|0.5018679', 'анастасия|0.5014845']\n",
            "Aspect 10:\n",
            "['литр|0.73433965', 'висок|0.7326733', 'водка|0.6957747', 'пинта|0.68505883', 'кола|0.6464418', 'ньюкасл|0.6181145', 'коньяк|0.6157025', 'кружка|0.6151906', 'мл|0.61058736', 'разливный|0.6030923', 'безалкогольный|0.60102665', 'бутылочка|0.60012984', 'пиво|0.59775144', 'бутылочный|0.5961386', 'крепкий|0.5917393', 'карта|0.5864186', 'алкогольный|0.57399046', 'бесплатный|0.5739256', 'сорт|0.56811416', 'мохитый|0.5680462', 'крушовица|0.56781906', 'наливать|0.551714', 'бутылка|0.5511924', 'коктейль|0.54792345', 'сок|0.54744697', 'алкоголь|0.54650754', 'гиннес|0.543409', 'графин|0.5404528', 'вод|0.5399735', 'напиток|0.5383899', 'стакан|0.5369953', 'бокал|0.5367041', 'мартини|0.53460145', 'пить|0.52731097', 'гр|0.51768583', 'бесплатно|0.51764286', 'коктейльный|0.514114', 'чек|0.5084692', 'рубль|0.5081974', 'эспрессо|0.5063185', 'бл|0.5055624', 'тысяча|0.5048425', 'текила|0.4995516', 'спиртное|0.49898192', 'бланша|0.49887604', 'лонг|0.49667418', 'сидр|0.4964868', 'морс|0.49341118', 'грамм|0.48937356', 'шампанский|0.4882662', 'рэ|0.48688722', 'харп|0.48602784', 'стоимость|0.48506582', 'акция|0.4848278', 'обойтись|0.4830895', 'вода|0.48297355', 'нефильтрованный|0.47680175', 'коктель|0.47530556', 'кок|0.47252524', 'выпить|0.46970776', 'налить|0.4694025', 'скидка|0.46920246', 'продавать|0.46836433', '100р|0.46775484', 'кальян|0.46668962', 'заплатить|0.46401483', 'лицензия|0.46327195', 'рюмка|0.45803028', 'покупать|0.45703542', 'игристый|0.45611262', 'евро|0.454378', 'чайник|0.4503864', '200р|0.4456877', 'америкать|0.44506127', 'вельвет|0.44372886', 'свежевыжать|0.44347626', 'счёт|0.44211954', 'распитие|0.441732', 'лёд|0.4409916', 'эдельвейс|0.44075638', 'наценка|0.43984294', 'купить|0.43929482', '600р|0.43738312', 'набор|0.4370721', 'дешёвый|0.43699795', 'руль|0.43483865', 'фрешить|0.43313202', 'айленд|0.432607', 'гинесса|0.43174782', 'квас|0.4297225', 'литровый|0.4261957', 'сангрия|0.4225016', 'процент|0.42168602', 'махитый|0.420435', 'пивко|0.41979986', 'василеостровский|0.41979748', 'лимонад|0.41869673', 'сумма|0.41682026', 'разбавить|0.4167353', 'ликёр|0.41410515']\n",
            "Aspect 11:\n",
            "['июнь|0.7675634', 'летие|0.7667371', 'февраль|0.7564548', 'июль|0.747831', 'май|0.7340481', 'август|0.7329789', 'сентябрь|0.7283503', 'декабрь|0.72345567', 'март|0.7232578', 'январь|0.72285783', 'октябрь|0.7180462', '2011г|0.71785414', 'праздновать|0.69005877', 'отмечать|0.68822104', 'го|0.68646574', 'отмечать_день_рождение|0.6831845', 'ноябрь|0.67138976', 'др|0.666442', 'юбилей|0.6633686', 'апрель|0.661618', 'корпоратить|0.6558665', 'справлять|0.6433165', 'наш_свадьба|0.63241565', 'дата|0.6273546', 'день_рождение|0.625915', 'ти|0.6229813', 'год|0.6051148', 'прошлый|0.5892097', 'бракосочетание|0.58911157', 'празднование|0.58743227', 'воскресение|0.58379245', 'неделя|0.5818788', 'выпускной|0.5779429', 'отпраздновать|0.57725984', 'дочь|0.57703954', 'часы|0.57639027', 'свадьба|0.575367', 'годовщина|0.5688641', 'сын|0.5688482', 'корпоративный|0.5635157', 'состояться|0.5620042', 'новый_год|0.5549072', 'свой_день_рождение|0.55357575', 'праздновать_день_рождение|0.5515093', 'новогодний|0.54898846', '2013г|0.54633224', 'суббота|0.5432142', 'корпоратив|0.53898937', 'вчера|0.52675265', 'дочка|0.5255978', 'семья|0.5246734', 'месяц|0.5240705', 'свадебный|0.5146166', 'однокурсник|0.51312494', 'выездной|0.5128292', 'число|0.50950867', '2010г|0.50854', 'чело|0.506226', '2014г|0.5061828', 'ночь|0.5059714', 'втроём|0.5049856', 'минувший|0.50361043', 'приехать|0.5030188', 'накануне|0.5010998', 'арендовать|0.49900854', 'гулять|0.49888015', 'девичник|0.49793524', 'банкетный_зал|0.49711868', 'устроить|0.49556476', 'четверг|0.49464184', 'пр|0.4941185', 'год_назад|0.4940886', 'честь|0.49177456', 'канун|0.49130672', 'супруга|0.49013087', 'вторник|0.49002752', 'нг|0.48916373', 'галерный|0.48783392', 'торжество|0.48343605', 'банкет|0.48218262', 'назад|0.48141158', 'отмечаться|0.4810372', 'жена|0.4773485', 'бельканто|0.47527856', 'век|0.47426844', 'рождение|0.47268814', 'вечеринка|0.47076', 'родитель|0.46815076', 'мероприятие|0.46732163', 'это_ресторан|0.4667771', 'утро|0.46267444', 'планироваться|0.46248215', 'регистрация|0.46035585', 'весь_очень_понравиться|0.45583472', 'начаться|0.4549563', 'мама|0.4531953', '2012г|0.45306486', 'сегодня|0.45050794', 'событие|0.4498781', 'прошлое|0.4478234']\n",
            "Aspect 12:\n",
            "['стен|0.7156339', 'полка|0.70789135', 'стена|0.6866528', 'надпись|0.6723701', 'потолок|0.672125', 'стеклянный|0.66542494', 'прочий|0.66336596', 'фотография|0.6595876', 'рамка|0.6584918', 'картина|0.6578543', 'предмет|0.65610033', 'стекло|0.652494', 'золотой|0.6515697', 'зеркало|0.6473734', 'элемент|0.6458547', 'мебель|0.64339423', 'лампа|0.6430359', 'старое|0.6420775', 'светильник|0.6405405', 'висеть|0.6394906', 'деталь|0.63655126', 'дерево|0.63521504', 'кирпичный|0.6338421', 'старинный|0.6324531', 'серый|0.6316471', 'плитка|0.6268627', 'люстра|0.6230153', 'смотреться|0.622838', 'внутренний|0.6220498', 'картинка|0.6211781', 'синий|0.6199998', 'видный|0.6199583', 'доска|0.61419183', 'журнал|0.6139377', 'черно|0.6133427', 'панель|0.6124519', 'декор|0.6119643', 'плазменный|0.61148316', 'кирпич|0.60486484', 'газета|0.6025338', 'деревянный|0.60241586', 'современный|0.60164094', 'гамма|0.6010587', 'крыша|0.59765303', 'здание|0.59736645', 'подоконник|0.5963056', 'потолочь|0.59559405', 'модерн|0.59517395', 'ступенька|0.594987', 'убранство|0.5937809', 'шкаф|0.5933137', 'коричневый|0.59222895', 'ля|0.59117174', 'буфет|0.5902705', 'искусственный|0.5888835', 'уборный|0.58880574', 'туалетный|0.5879717', 'полый|0.5856421', 'кладка|0.5851946', 'цветовой|0.58483696', 'пол|0.5837189', 'стиль|0.5836271', 'бумага|0.5835258', 'обои|0.58056605', 'пространство|0.57637155', 'дизайнерский|0.5751971', 'подсветка|0.57307047', 'штора|0.5728658', 'угол|0.57176876', 'винный|0.5716521', 'клетка|0.5709783', 'известный|0.57068956', 'абажур|0.5682428', 'тяжёлый|0.5677161', 'белые|0.56723285', 'кровать|0.56637555', 'советский|0.56608784', 'свет|0.565689', 'тон|0.5650282', 'обилие|0.56502134', 'птичка|0.5630997', 'вдоль|0.5630433', 'занавеска|0.5629952', 'витрина|0.5627067', 'белоснежный|0.56166', 'подложка|0.56022525', 'плазма|0.55970275', 'дизайнер|0.55941784', 'коврик|0.55836034', 'стеллаж|0.5580636', 'логотип|0.5570028', 'ткань|0.5557586', 'полочка|0.55542195', 'открываться|0.55386746', 'цвета|0.553656', 'массивный|0.5533653', 'длинный|0.55293924', 'высоченный|0.55220056', 'забавный|0.5517602', 'яркий|0.55162054']\n",
            "Aspect 13:\n",
            "['шумно|0.76787996', 'дым|0.76696265', 'дымно|0.7517679', 'тесно|0.7510185', 'душный|0.74865115', 'накурить|0.7387715', 'вентиляция|0.73821735', 'диван|0.7286824', 'диванчик|0.71744907', 'прохладно|0.71641916', 'курить|0.71284485', 'неуютный|0.706884', 'кабинка|0.7024456', 'вытяжка|0.70218396', 'сидеть|0.69699895', 'мешать|0.69644064', 'зона|0.68401754', 'помещение|0.6761018', 'друг_друг|0.6755767', 'комфортно|0.6751597', 'дышать|0.67454416', 'народ|0.66684794', 'вокруг|0.6656183', 'беседка|0.6650353', 'удобно|0.66248405', 'слышный|0.6581398', 'танцполый|0.6538123', 'зала|0.6510236', 'кресло|0.6477159', 'сосед|0.645621', 'прокурить|0.6408442', 'кондиционер|0.638284', 'дуть|0.6340921', 'жарко|0.6313932', 'комната|0.62941647', 'просторно|0.62795055', 'коромысло|0.6257719', 'стул|0.6240879', 'аквариум|0.6227511', 'второе_этаж|0.6225815', 'сигаретный|0.6210259', 'плед|0.61838484', 'близко|0.61402905', 'курящий|0.61363536', 'веранда|0.61269647', 'комнатка|0.61233056', 'дальний|0.61179256', 'подушечка|0.60998595', 'уединённость|0.6087632', 'барный_стойка|0.6079292', 'терасс|0.60775214', 'экран|0.60725474', 'туалет|0.60706574', 'неудобно|0.60537267', 'табачный|0.6051656', 'тихо|0.6035987', 'телевизор|0.6032084', 'детский_комната|0.60168517', 'некурящий|0.6008388', 'светло|0.59786296', 'парочка|0.5974224', 'зальчик|0.5958377', 'зал|0.5938144', 'пропахнуть|0.59286046', 'шум|0.5927198', 'высоченный|0.5918038', 'неудобный|0.5917079', 'тв|0.5915557', 'воздух|0.59048134', 'спокойно|0.5903658', 'жарковатый|0.5880534', 'наверху|0.5857836', 'пространство|0.585438', 'тесновато|0.58490235', 'деление|0.5837783', 'стульчик|0.5831896', 'курильщик|0.58182704', 'разделение|0.58076376', 'кондей|0.5797342', 'тесноватый|0.57869756', 'закутка|0.5784929', 'дымить|0.57770383', 'сцена|0.5720855', 'устроиться|0.57184774', 'курение|0.5717904', 'свет|0.5707801', 'камин|0.57072794', 'подушка|0.5669767', 'расположиться|0.56685543', 'танцевать|0.56505674', 'уединение|0.5639794', 'внизу|0.5636277', 'балкон|0.5634434', 'прикольный|0.56025183', 'интимный|0.5598483', 'развалиться|0.5592623', 'толпа|0.5577085', 'проход|0.55564517', 'игрушка|0.5548168', 'орать|0.5532922']\n",
            "2019-12-24 03:43:28,447 INFO Epoch 3, train: 5s\n",
            "2019-12-24 03:43:28,447 INFO Total loss: 3.9705, max_margin_loss: 3.8621, ortho_reg: 0.1084\n",
            "100% 594/594 [00:05<00:00, 102.35it/s]\n",
            "Aspect 0:\n",
            "['заглянуть|0.75234175', 'перекусить|0.73443645', 'захотеться|0.73205066', 'поехать|0.7278099', 'зайти|0.72455347', 'сходить|0.7129221', 'случайно|0.7062243', 'заехать|0.69986886', 'пообедать|0.69260556', 'питер|0.6878212', 'жить|0.6864141', 'поужинать|0.68567556', 'ехать|0.6748944', 'недалеко|0.6667853', 'ездить|0.6607784', 'покушать|0.6607217', 'недавно|0.6595129', 'заезжать|0.6575563', 'однажды|0.65711695', 'московский|0.65547776', 'забежать|0.65401936', 'заходить|0.6511715', 'подружка|0.6446957', 'поболтать|0.6440562', 'сюда|0.6412246', 'давно|0.6378378', 'любим|0.6337441', 'петроградка|0.6301738', 'это_место|0.62765193', 'заскочить|0.624697', 'частенько|0.6227865', 'район|0.622368', 'попить|0.6211283', 'целенаправленно|0.6144028', 'это_кафе|0.6019299', 'специально|0.60142255', 'заслать|0.6010053', 'добраться|0.59608215', 'ближний|0.59335864', 'вспомнить|0.590743', 'любимый|0.59056586', 'посетить|0.5896754', 'проезжать|0.58848095', 'сегодня|0.5869026', 'забрести|0.5834752', 'дом|0.58305824', 'захаживать|0.5828375', 'прогулка|0.58216727', 'вчера|0.5807097', 'попасть|0.5805346', 'ужинать|0.5798713', 'открыться|0.5779566', 'москва|0.57478434', 'посидеть|0.5694333', 'невский|0.5679235', 'приезжать|0.5671712', 'вечером|0.5655197', 'позавтракать|0.56497514', 'поход|0.56144166', 'занести|0.56079245', 'отправиться|0.55705607', 'васильевский|0.55700254', 'хороший_место|0.55595905', 'обедать|0.55588067', 'нибыть|0.55478483', 'друг|0.5546268', 'приморский|0.5533291', 'знакомый|0.55280244', 'ходить_туда|0.55122745', 'местечко|0.55033934', 'вновь|0.5489148', 'возвращаться|0.5431988', 'побывать|0.54277825', 'забегать|0.5415839', 'васька|0.5380346', 'остров|0.53727216', 'решить|0.53596747', 'привести|0.5357944', 'поесть|0.5321832', 'летом|0.5296639', 'заглядывать|0.5293504', 'отдохнуть|0.52904165', 'приятель|0.5287802', 'выходной|0.5284476', 'проверить|0.52623814', 'захотеть|0.52284133', 'разочароваться|0.5214423', 'пивко|0.5202745', 'наведаться|0.51650697', 'рада|0.51458025', 'встретиться|0.5115424', 'ресторанчик|0.5101042', 'лиговка|0.5084214', 'жан|0.5079172', 'днём|0.50791246', 'наткнуться|0.5064789', 'туда|0.50615436', 'перекус|0.5054437', 'неподалёку|0.5044914', 'посмотреть|0.50222087']\n",
            "Aspect 1:\n",
            "['строчка|0.7419448', 'раздумье|0.7318686', 'соблазниться|0.72549105', 'банкетик|0.7192998', 'касательно|0.7134974', 'интригующий|0.71231407', 'заманчивый|0.7094367', 'дегустационный|0.7090746', 'старт|0.7070871', 'омар|0.70333123', 'аперитив|0.7026625', 'несказанно|0.6962843', 'калория|0.6876825', 'замешательство|0.6848389', 'именно_это_место|0.68187165', 'недолгий|0.68041265', 'изучение|0.6786678', 'чтение|0.67680275', 'кавказка|0.676271', 'вк|0.6745187', 'страничка|0.6741847', 'разбежаться|0.67380667', 'первоначально|0.6732638', 'перечень|0.6730577', 'обрадовать|0.67242044', 'разгуляться|0.6672678', 'именно_это_заведение|0.6634963', 'продегустировать|0.6628556', 'непривычный|0.6614299', 'успокоиться|0.6611732', 'австралийский|0.6587655', 'велик|0.65804356', 'тщательный|0.65732634', 'св|0.6563543', 'принтер|0.65446806', 'весь_очень_очень|0.65430355', 'розлив|0.65268743', 'ознакомиться|0.65261286', 'комбинация|0.6518432', 'магазинчик|0.6517501', 'отметиться|0.650924', 'вьетнамский|0.65037477', 'остановить|0.6495422', 'предусмотрительно|0.6488161', 'оговорка|0.64812845', 'сезонный|0.64715135', 'купиться|0.6470446', 'сперва|0.6470218', 'красочный|0.64696467', 'отозваться|0.64620364', 'вышеуказанный|0.6453603', 'осторожный|0.64435554', 'предзаказ|0.6431012', 'ла|0.64302427', 'версия|0.6419089', 'лефф|0.6416944', 'презентация|0.6416893', 'перевод|0.64084727', 'капкейк|0.6402047', 'сендвич|0.63923764', 'биза|0.6391958', 'марсельеза|0.6379251', 'шато|0.6372014', 'лига|0.63702315', 'прогадать|0.6364006', 'подсказка|0.63597775', 'аналогично|0.6353991', 'красочно|0.635018', 'засомневаться|0.6349149', 'вживую|0.63444316', 'африканский|0.6344', 'палкинъ|0.63405895', 'инуть|0.63393223', 'полистать|0.6326759', 'строка|0.6314701', 'бель|0.6310883', 'вдаваться|0.631008', 'ступор|0.6308414', 'крепость|0.6307789', 'сократить|0.62903357', 'кьянти|0.6287354', 'гролл|0.6278469', 'добавиться|0.62774616', 'веко|0.62713075', 'разнообразить|0.6254692', 'актуальный|0.62506354', 'отъезд|0.62459445', 'новинка|0.6236843', 'су|0.6233276', 'португальский|0.62294805', 'объект|0.6220415', 'экстравагантный|0.62104654', 'барабан|0.62062895', 'сан|0.6197809', 'стопа|0.618888', 'гарсон|0.61831397', 'химчистка|0.6176764', 'наиболее|0.6173732', 'предположение|0.6173413', 'оффициант|0.6171937']\n",
            "Aspect 2:\n",
            "['говядина|0.7042378', 'гриль|0.68012094', 'овощ|0.6782629', 'рыба|0.6659723', 'стейк|0.6634171', 'карпаччо|0.6564833', 'креветка|0.6547129', 'курица|0.6537653', 'лосось|0.65142524', 'рибай|0.6473389', 'цыплёнок|0.6445991', 'баклажан|0.6345169', 'филе|0.623107', 'морепродукт|0.60893446', 'свинина|0.60823023', 'котлета|0.6052585', 'плов|0.5965952', 'салат_цезарь|0.5932676', 'прожарка|0.5927582', 'цезарь|0.5920677', 'стейка|0.5919045', 'картофель|0.58681464', 'баранина|0.58542144', 'куриный|0.582338', 'краб|0.5820641', 'рис|0.5815997', 'сацивить|0.58145785', 'шашлык|0.5792134', 'дорад|0.5788297', 'рыбка|0.57599175', 'свиной|0.57534266', 'судак|0.57446843', 'кальмар|0.5733563', 'гарнир|0.5732132', 'барашек|0.5726367', 'медальон|0.5725404', 'форель|0.5721935', 'ягнёнок|0.57199734', 'оливья|0.5670715', 'мясо|0.56703854', 'миньон|0.56483567', 'дорада|0.5643449', 'вок|0.5642965', 'пекински|0.56018156', 'тунец|0.55985886', 'свинин|0.556204', 'утка|0.5557499', 'кебаб|0.5546424', 'мидия|0.5534196', 'это_блюдо|0.55110973', 'гребешок|0.55062807', 'телятина|0.5501248', 'грудка|0.54807985', 'запечёный|0.54591227', 'сибас|0.54563713', 'острый|0.5438007', 'мраморный|0.54368097', 'овощной|0.5416566', 'котлетка|0.539821', 'кисло_сладкое_соус|0.5397006', 'греческий|0.53756946', 'мангал|0.5354104', 'удон|0.5350015', 'жареный|0.5348116', 'мясной|0.5348099', 'солянка|0.5302155', 'долма|0.52734506', 'колбаска|0.52716887', 'запечь|0.5264991', 'сёмга|0.526478', 'тара_тара|0.52548224', 'осьминог|0.52447796', 'костя|0.52435833', 'ростбиф|0.5241569', 'соус|0.5230642', 'копчёный|0.52283853', 'сочный|0.5226542', 'шашлычок|0.5220516', 'ризотто|0.52151906', 'бургера|0.52071404', 'лапша|0.52037585', 'помидор|0.5187947', 'каре|0.51783127', 'драник|0.5178239', 'степень|0.51605403', 'утиный|0.51478636', 'кура|0.51437575', 'королевский|0.51168686', 'медиум|0.51159966', 'крылышко|0.51123977', 'осетрина|0.5094371', 'салатик|0.5089395', 'авокадо|0.50745136', 'прожарить|0.5037184', 'жарить|0.5035818', 'гриб|0.5032813', 'заправка|0.5031195', 'печень|0.5030341', 'картошка|0.5021962', 'люля|0.5020554']\n",
            "Aspect 3:\n",
            "['господин|0.7842469', 'ресторатор|0.7538723', 'существовать|0.7256213', 'ум|0.72291565', 'простить|0.7192364', 'критика|0.7186533', 'позор|0.71740377', 'владелец|0.71677494', 'уважаемый|0.7160629', 'личный|0.71269464', 'право|0.7091179', 'речь|0.69718206', 'понятие|0.6943917', 'зарплата|0.69215655', 'пусть|0.6836349', 'хозяин|0.6808124', 'постараться|0.67667973', 'быдло|0.6737293', 'негатив|0.6714746', 'гнать|0.6713662', 'борис|0.67030346', 'знак|0.670303', 'автор|0.6699619', 'практика|0.6663796', 'совесть|0.6634628', 'сфера|0.6625003', 'хамство|0.66099', 'управленец|0.655848', 'высказывание|0.6556028', 'злой|0.6550046', 'иначе|0.6536', 'история|0.652748', 'представитель|0.6527399', 'жизнь|0.6497948', 'репутация|0.6465395', 'неужели|0.6456341', 'уволить|0.64527893', 'опыт|0.64490795', 'человек_который|0.6444272', 'задуматься|0.64352936', 'стороной|0.64314723', 'обходить|0.6409501', 'скрыть|0.64086854', 'бог|0.63977176', 'менеджмент|0.6393359', 'наплевать|0.63847584', 'учиться|0.6363528', 'уверенный|0.6335173', 'плевать|0.6316812', 'допускать|0.6312037', 'бред|0.62949806', 'общепит|0.6274512', 'воровать|0.6267613', 'непрофессиональный|0.6267176', 'предприятие|0.6264206', 'потребитель|0.626137', 'ругать|0.622393', 'уважать|0.6220968', 'твориться|0.62194955', 'тенденция|0.621711', 'потерять|0.62039304', 'привет|0.6201223', 'licorice|0.6201124', 'верить|0.6171151', 'иметь|0.6168896', 'значение|0.6165642', 'клуб|0.6159791', 'развитие|0.6153548', 'удалять|0.6132252', 'звезда|0.60980433', 'вечно|0.60881865', 'бороться|0.60817254', 'нарушение|0.6072111', 'вложить|0.6065664', 'стремиться|0.6064464', 'руководство|0.6049384', 'письмо|0.6042248', 'учить|0.6035994', 'блог|0.6035378', 'понимать|0.60342205', 'никак|0.60339415', 'понимание|0.6033641', 'питание|0.60307163', 'откровенный|0.60297704', 'тренд|0.6024318', 'человеческий|0.60227644', 'оратор|0.60157335', 'поведение|0.60151595', 'мысль|0.60135615', 'чувак|0.6007465', 'ключ|0.6003689', 'культура|0.59935766', 'непрофессионализм|0.59934485', 'называть|0.59921616', 'объективный|0.5987681', 'извинить|0.5986297', 'обман|0.5985051', 'детище|0.59845364', 'высказать|0.5984417', 'слышать|0.59697896']\n",
            "Aspect 4:\n",
            "['девочка|0.78964055', 'улыбчивый|0.7665604', 'улыбаться|0.74220276', 'улыбка|0.7398819', 'мальчик|0.7345264', 'молодая_человек|0.73165435', 'обслуживать|0.7028618', 'официантка|0.7026712', 'любезный|0.692418', 'девушка|0.6917176', 'расторопный|0.6906591', 'официант|0.68962514', 'учтивый|0.68334436', 'доброжелательно|0.67908686', 'вежливый|0.6771178', 'мила|0.66607475', 'интересоваться|0.66395843', 'парень|0.66222525', 'доброжелательный|0.6556889', 'юноша|0.64810646', 'офицант|0.638376', 'чётко|0.6287017', 'стараться|0.6274595', 'появляться|0.62365437', 'обходительный|0.6163453', 'забывать|0.61067116', 'вовремя|0.60828114', 'звать|0.6081481', 'предупредительный|0.6078596', 'услужливый|0.60566217', 'обслуживающий|0.6026782', 'оперативно|0.5993742', 'внимательно|0.5961387', 'персонал|0.59265965', 'шустрый|0.587826', 'старательный|0.58615124', 'провожать|0.5848497', 'навязчивый|0.58294004', 'успевать|0.57891256', 'менять|0.57326317', 'приветливый|0.57023776', 'барышня|0.5673498', 'приветливо|0.5648896', 'обслужить|0.5647377', 'незаметно|0.5639112', 'лицо|0.5635474', 'пепельница|0.56265056', 'молодая|0.56154835', 'общительный|0.55926526', 'внимательный|0.5585432', 'обслуживающий_персонал|0.55700773', 'ненавязчивый|0.5514043', 'милый|0.55000377', 'задержка|0.5495851', 'весь_время|0.54953325', 'смена|0.54682744', 'бармен|0.5435698', 'очень_милый|0.5395748', 'прощаться|0.53879577', 'заботливый|0.5381121', 'молниеносно|0.53770125', 'быстрый|0.53619933', 'профессионально|0.53604054', 'дружелюбно|0.5355948', 'молодец|0.5350692', 'молоденький|0.53434515', 'наш_столик|0.5320657', 'незаметный|0.5302961', 'очень_быстро|0.5296347', 'выполнять|0.5291745', 'корректно|0.528216', 'постоянно|0.5259485', 'общаться|0.5250039', 'следить|0.5249584', 'здороваться|0.5233777', 'тактично|0.52205366', 'уносить|0.5208496', 'голос|0.52072024', 'назойливый|0.5198691', 'медленно|0.5187913', 'администратор|0.5150268', 'разговаривать|0.51126146', 'ребята|0.5104386', 'компетентный|0.50447', 'реагировать|0.50316334', 'отвечать|0.5024138', 'хостёс|0.5008141', 'дружелюбный|0.49660656', 'своевременно|0.493855', 'быстро|0.4911577', 'убираться|0.4871757', 'подходить|0.4870903', 'внешность|0.48403254', 'обаятельный|0.48373538', 'неопытный|0.48296294', 'хостесса|0.48257744', 'убирать|0.48175225', 'шутить|0.48033276', 'молодая_человек_который|0.474769', 'мужчина|0.47354394']\n",
            "Aspect 5:\n",
            "['касаться|0.7582196', 'изыск|0.74970776', 'весь_остальной|0.73296523', 'посредственный|0.71801627', 'соответствовать|0.7141027', 'выше|0.71209', 'уровень|0.69307154', 'не_мочь_сказать|0.6920003', 'завысить|0.69040036', 'ценник|0.68872833', 'многий|0.6857441', 'отличаться|0.68181944', 'средненький|0.680431', 'японский|0.6714345', 'сравнение|0.67092294', 'достойный|0.6616304', 'недостаток|0.6575062', 'качество|0.6574772', 'отличие|0.6549428', 'плохой|0.6540838', 'оценивать|0.6534369', 'учитывать|0.6507354', 'простой|0.6499074', 'принцип|0.6490793', 'приемлемый|0.6465458', 'действительно|0.6446477', 'оставлять_желать_хороший|0.64415103', 'цена_качество|0.64149666', 'прежний|0.64139855', 'ничто_особенный|0.6407591', 'исключение|0.6402092', 'разнообразие|0.63900846', 'европейский|0.6325544', 'крайний_мера|0.6321974', 'нарекание|0.6277039', 'остальной|0.6262853', 'китайский|0.62214935', 'качественный|0.6206511', 'радовать|0.61766684', 'добротный|0.61657935', 'главный|0.6156518', 'особый|0.61558735', 'вполне|0.6072655', 'неплохой|0.6033455', 'относительно|0.6011294', 'скромный|0.60111123', 'претензия|0.6002189', 'ниже|0.59865355', 'обычный|0.59832346', 'хороший|0.5970456', 'намного|0.5962463', 'сносный|0.5956603', 'менее|0.59481883', 'высокий|0.5943254', 'придраться|0.5939224', 'очень_хороший|0.59343165', 'соотношение_цена_качество|0.59138787', 'среднее|0.59133744', 'пожалуй|0.5873858', 'особо|0.58532894', 'крайне|0.5851476', 'однако|0.5851082', 'удивлять|0.58312625', 'особенный|0.5808586', 'очень_большой|0.5768858', 'цена|0.5762913', 'назвать|0.5754814', 'сетевой|0.573626', 'оценить|0.57266283', 'демократичный|0.57181346', 'средний|0.5702176', 'выдающийся|0.56894356', 'мочь_сказать|0.5688993', 'фаста|0.5685891', 'достаточно|0.5676476', 'изысканный|0.5667126', 'план|0.56482136', 'разочаровать|0.5630751', 'умеренный|0.56254745', 'оценка|0.5620863', 'недорогой|0.5617219', 'адекватный|0.56071055', 'неплохо|0.56065106', 'кухня|0.5602798', 'гораздо|0.559101', 'большинство|0.5576785', 'стандартный|0.5575777', 'изюминка|0.55676085', 'ожидать|0.5489996', 'целое|0.5488899', 'категория|0.5476418', 'дороговатый|0.54745024', 'впечатлить|0.5466608', 'хромать|0.54614264', 'средне|0.54387784', 'приличный|0.54271156', 'бизнес_ланча|0.5396289', 'однозначно|0.53949094', 'ценовый|0.5363372', 'простоватый|0.5348753']\n",
            "Aspect 6:\n",
            "['лежалый|0.6822063', 'чёрствый|0.61568165', 'подсушить|0.61476415', 'заветренный|0.6108316', 'размазать|0.6105813', 'ржаной|0.6050644', 'мм|0.60350645', 'целый|0.5999496', 'малюсенький|0.5987756', 'жалкий|0.59874934', 'четыре|0.59708154', 'уложить|0.59666526', 'пластина|0.59325147', 'булка|0.59311706', 'штука|0.5918352', 'лента|0.59170634', 'сухарь|0.5887811', 'диаметр|0.5876092', 'залить|0.58712006', 'упаковка|0.58607656', 'долька|0.5858083', 'гора|0.58576465', 'прилипнуть|0.585486', 'оливковый|0.58333015', 'икра|0.58322716', 'веточка|0.582141', 'четвертинка|0.5820762', 'стопочка|0.5811706', 'хамон|0.58070874', 'пополам|0.5794804', 'горка|0.5791742', 'целиком|0.5777632', 'нарезка|0.5771981', 'чесночный|0.57669735', 'засохнуть|0.5764729', 'сало|0.5761585', 'половинка|0.5747985', 'разложить|0.5745554', 'кожура|0.57447433', 'порезать|0.5733644', 'крохотный|0.57305056', 'багет|0.5725618', 'выложить|0.57022464', 'тост|0.5693799', 'варена|0.56927335', 'капля|0.56889546', 'толщина|0.56830245', 'комок|0.56737584', 'бутерброд|0.5672685', 'холодильник|0.5668897', 'помидорка|0.565757', 'нарезать|0.56572294', 'сырный|0.56568843', 'край|0.5648833', 'дора|0.56470335', 'состоять|0.5646311', 'чеснок|0.56347764', 'макать|0.56346345', 'печь|0.56343746', 'чиабатта|0.56326956', 'слой|0.5627096', 'бальзамико|0.56161493', 'ломоть|0.5608783', 'килограмм|0.56073093', 'треугольник|0.5598493', 'маслина|0.55968523', 'картофелина|0.5595514', 'толстой|0.5595139', 'остаток|0.5589279', 'кольцо|0.5584427', 'насыпать|0.55795556', 'куча|0.5579386', 'дно|0.5577264', 'ломтик|0.5577037', 'полить|0.5576067', 'поедать|0.55661166', 'миллиметр|0.5552614', 'плошка|0.55518985', 'разрезать|0.5547652', 'блюдечко|0.55421245', 'утащить|0.5539927', 'коробка|0.55339223', 'плесень|0.5527512', 'собирать|0.5525751', 'кубик|0.5517883', 'закусывать|0.551268', 'горшочек|0.55088276', 'сплошной|0.55057967', 'баклажанный|0.54999876', 'включая|0.54981613', 'ручной|0.5498152', 'салями|0.54964757', 'вуаля|0.54928803', 'обветрить|0.5492139', 'рубить|0.5491357', 'ледяной|0.54890037', 'корка|0.54889446', 'соусник|0.54858255', 'плавать|0.54855347', 'румяный|0.5474435']\n",
            "Aspect 7:\n",
            "['прийтись|0.7255156', 'предупредить|0.7183854', 'попытка|0.7068354', 'выясниться|0.7062434', 'уточнить|0.7043542', 'поинтересоваться|0.6989784', 'просить|0.6939335', 'сообщить|0.69328463', 'унести|0.68029916', 'успеть|0.67631817', 'предупреждать|0.6726198', 'попросить|0.67101145', 'отказаться|0.6706284', 'естественно|0.6696822', 'пропасть|0.66941124', 'дождаться|0.6675833', 'вынести|0.6666026', 'уточнять|0.66437906', 'курс|0.6637786', 'мол|0.6632432', 'полчаса|0.66210246', 'забрать|0.6575469', 'сделать_заказ|0.6560021', 'отказать|0.65554464', 'ответить|0.6544614', 'обратно|0.65281326', 'ладный|0.6527636', 'убрать|0.6518906', 'подождать|0.65173614', 'исчезнуть|0.6476672', 'извиниться|0.6448976', 'сначала|0.643399', 'приход|0.6425612', 'спросить|0.64040244', 'подумать|0.6395606', 'забыть|0.63937175', 'выяснить|0.6351868', 'поменять|0.63416326', 'ответ|0.63379824', 'объяснить|0.63367724', 'заставить|0.63289964', 'последовать|0.63180196', 'записать|0.6279309', 'пришлый|0.62743556', 'пообещать|0.62709093', 'попытаться|0.6267538', '15_минута|0.6233016', 'отказываться|0.6207839', 'затем|0.613255', 'пытаться|0.6047962', 'перепутать|0.6047313', '10_минута|0.6020366', 'принять|0.60015005', 'позвать|0.5998092', 'предложить|0.5970742', 'вернуть|0.5963119', 'готовый|0.592342', 'вопрос|0.5916568', 'указать|0.5866532', 'извиняться|0.58588576', 'спрашивать|0.5855591', 'подойти|0.58542573', 'освободиться|0.585235', 'убежать|0.5832523', 'встать|0.58187366', 'закончиться|0.5814442', 'её|0.58087045', 'телефон|0.58059615', 'поймать|0.5784346', 'уйти|0.5759701', 'просьба|0.57543856', 'согласиться|0.5723213', 'обещать|0.57127804', 'принять_заказ|0.5710055', 'сообщать|0.5706817', 'разобраться|0.5706063', 'расчёт|0.5699694', 'извинение|0.56924117', 'никто_не|0.5670171', '20_минута|0.5666609', 'молча|0.56663996', 'нея|0.56559753', 'выяснять|0.56365883', 'начать|0.5632882', 'результат|0.56169075', 'самостоятельно|0.5602936', 'приняться|0.55891275', 'удивиться|0.5588672', 'забирать|0.55854577', 'положить|0.5582391', 'не_смочь|0.55748266', 'заменить|0.5563445', 'неприятно|0.5551883', 'поздний|0.5550642', 'пересадить|0.55497074', 'обратиться|0.55322695', 'пожалуйста|0.5517163', 'потребовать|0.55101657', 'лишь|0.54936373', 'оплатить|0.5492591']\n",
            "Aspect 8:\n",
            "['шоколад|0.7561895', 'клубника|0.7151897', 'варение|0.7121804', 'крем|0.7108259', 'малиновый|0.7049008', 'кекс|0.70067865', 'сливка|0.6998217', 'шоколадный|0.6920124', 'мусса|0.6893234', 'сладкий|0.6880928', 'сладость|0.685725', 'яблочный|0.6800253', 'сорбета|0.6743037', 'пирог|0.6678008', 'клубничный|0.66626865', 'малин|0.6652297', 'молоко|0.6634554', 'карамельный|0.6633166', 'вишня|0.6625618', 'печение|0.6613867', 'карамель|0.6607679', 'миндальный|0.65822256', 'морковный|0.6545065', 'эклер|0.65394306', 'чизкейк|0.65302163', 'корица|0.6516032', 'мятный|0.65157723', 'ванильный|0.6504909', 'ягода|0.6497821', 'манговый|0.647344', 'лимонный|0.6463156', 'мятый|0.6449479', 'мороженный|0.64206', 'желе|0.64083534', 'яблоко|0.64046323', 'наполеон|0.6382443', 'имбирный|0.63584983', 'суфле|0.6343484', 'вафля|0.63304317', 'сладкое|0.6319752', 'сладко|0.6301253', 'груша|0.6284084', 'апельсиновый|0.62810045', 'грушевый|0.62781835', 'вафельный|0.62724364', 'ваниль|0.627071', 'ароматный|0.624387', 'грецкий|0.6239388', 'панакот|0.62291265', 'манго|0.62176955', 'брюла|0.6205947', 'пирожное|0.62042123', 'корочка|0.62028366', 'медовик|0.6189249', 'мороженое|0.61877614', 'черничный|0.6180402', 'творожный|0.6180333', 'бисквит|0.6180212', 'взбить|0.6172625', 'мёд|0.6150279', 'орех|0.6146495', 'трюфель|0.6134279', 'пенка|0.6125148', 'густой|0.6094146', 'сорбетом|0.60852426', 'кокосовый|0.6081839', 'штрудель|0.6071134', 'сироп|0.60606456', 'трубочка|0.604225', 'шарик|0.60239685', 'брауни|0.60223156', 'тархун|0.60049784', 'сахарный|0.5999166', 'зелёный|0.5981459', 'чиз|0.5950105', 'горячий|0.59445965', 'капуччиный|0.59371424', 'фисташковый|0.59344953', 'меренга|0.593038', 'банан|0.59278655', 'кейк|0.59249675', 'маскарпон|0.59081423', 'орешек|0.5906564', 'джема|0.59061706', 'апельсин|0.5895993', 'воздушный|0.5895659', 'чабрец|0.58711505', 'пропитать|0.58655936', 'приторный|0.58615327', 'запивать|0.5857225', 'брусничный|0.5852877', 'песочный|0.5850953', 'ягодный|0.58421755', 'маракуйя|0.58294255', 'тыква|0.5821123', 'фреш|0.581336', 'марципановый|0.5807768', 'капучиный|0.57932806', 'молочный|0.5777025', 'лайм|0.5776612']\n",
            "Aspect 9:\n",
            "['отдельный_спасибо|0.77021635', 'праздник|0.7583791', 'огромный_спасибо|0.72877353', 'большой_спасибо|0.72523665', 'весь_гость|0.69694954', 'благодарность|0.6963109', 'праздничный|0.6883917', 'тамада|0.6838335', 'организация|0.6652341', 'спасибо|0.6594476', 'весь_наш|0.6525533', 'команда|0.6502593', 'незабываемый|0.64709485', 'ведущий|0.64648217', 'коллектив|0.6431304', 'организовать|0.64038754', 'шоу|0.63344646', 'поблагодарить|0.6233646', 'благодаря|0.6158919', 'майкл|0.61100435', 'исполнить|0.6099717', 'профессионализм|0.6086036', 'профессионал|0.6061975', 'чуткий|0.6060606', 'невеста|0.6054909', 'кондитер|0.6052555', 'торжество|0.60450006', 'прекрасно|0.6029077', 'подарок|0.60286826', 'создать|0.6020862', 'подарить|0.60010296', 'ольга|0.59709203', 'свадебный|0.5968131', 'марин|0.5954919', 'забота|0.5945455', 'подготовка|0.5927623', 'респект|0.58805215', 'уважение|0.58781993', 'пожелание|0.58547366', 'благодарный|0.58521646', 'весь_гость_остаться_довольный|0.58455265', 'торт|0.5807934', 'елена|0.577486', 'молодожён|0.5752777', 'выражать|0.5741432', 'евгений|0.5740917', 'сергей|0.5728948', 'конкурс|0.57283926', 'фуршет|0.57275355', 'фейерверк|0.571254', 'процветание|0.5703073', 'совет|0.57003105', 'программа|0.569496', 'выразить|0.5666564', 'поклон|0.56614035', 'шеф_повар|0.5640081', 'андрей|0.5623133', 'наш_гость_остаться_очень_довольный|0.5608268', 'благодарить|0.5587472', 'очень_довольный|0.5586667', 'алексей|0.55791175', 'каравай|0.5536051', 'душа|0.5525656', 'гость|0.5512356', 'проведение|0.55105007', 'самый_главный|0.5503746', 'великолепно|0.55021363', 'владимир|0.54884005', 'помочь|0.54853195', 'весь_наш_пожелание|0.5465923', 'мероприятие|0.54307806', 'успех|0.5415994', 'очень_приятно|0.5389954', 'ирина|0.5384449', 'поздравление|0.5378736', 'великолепный|0.5358176', 'также|0.5314144', 'высокий_уровень|0.53138936', 'грамотный|0.5290775', 'удача|0.52885675', 'чудесный|0.5279217', 'танец|0.5252548', 'татьяна|0.52502954', 'помощь|0.5230938', 'александр|0.5226213', 'наталья|0.52252495', 'виктор|0.52247524', 'марина|0.5221856', 'внимательность|0.5205694', 'организатор|0.51936847', 'дмитрия|0.5190768', 'вячеслав|0.51809704', 'гостеприимство|0.51619905', 'остаться_довольный|0.5135455', 'потрясающе|0.51013714', 'прекрасный|0.5098623', 'артист|0.50921977', 'отдельный|0.5085796', 'анастасия|0.50647366', 'станислав|0.5027833']\n",
            "Aspect 10:\n",
            "['висок|0.7433538', 'литр|0.7339878', 'водка|0.7051753', 'пинта|0.6918033', 'кола|0.6431195', 'ньюкасл|0.63187104', 'пиво|0.6280668', 'кружка|0.6276249', 'разливный|0.6260483', 'бутылочный|0.61815304', 'коньяк|0.61647224', 'безалкогольный|0.6104708', 'крепкий|0.5984061', 'мл|0.597342', 'бутылочка|0.59718317', 'сорт|0.58805585', 'карта|0.58679736', 'крушовица|0.585901', 'алкогольный|0.5811303', 'бесплатный|0.57250917', 'мохитый|0.571695', 'коктейль|0.5630228', 'гиннес|0.558672', 'наливать|0.5554675', 'бутылка|0.55024093', 'сок|0.54793775', 'напиток|0.54773027', 'графин|0.5452709', 'алкоголь|0.54439974', 'мартини|0.5400224', 'вод|0.53890383', 'бокал|0.53812915', 'стакан|0.536921', 'пить|0.5338843', 'коктейльный|0.52217877', 'бланша|0.5218624', 'текила|0.5115217', 'лонг|0.5090626', 'харп|0.507538', 'бесплатно|0.50511426', 'гр|0.5044867', 'нефильтрованный|0.5015958', 'сидр|0.49941617', 'бл|0.49680907', 'спиртное|0.49607334', 'морс|0.49387768', 'чек|0.49285555', 'эспрессо|0.492275', 'шампанский|0.4879156', 'акция|0.48569393', 'вода|0.4849221', 'рубль|0.48187733', 'тысяча|0.48157114', 'коктель|0.4800116', 'выпить|0.47708935', 'налить|0.4759003', 'лицензия|0.47577325', 'кок|0.4736438', 'грамм|0.47175732', 'продавать|0.46918103', 'кальян|0.4674181', 'рэ|0.4669564', '100р|0.46608573', 'стоимость|0.4654557', 'рюмка|0.46384007', 'вельвет|0.46160716', 'скидка|0.46113455', 'обойтись|0.45961684', 'распитие|0.4595245', 'игристый|0.45945418', 'эдельвейс|0.45693898', 'покупать|0.4534801', 'заплатить|0.44678402', 'гинесса|0.4466429', 'айленд|0.4465052', 'руль|0.44623393', 'василеостровский|0.44592816', 'лёд|0.44538254', 'свежевыжать|0.44432503', 'евро|0.4440998', '200р|0.43911585', 'америкать|0.4380952', 'набор|0.43789786', 'пивко|0.43645486', 'литровый|0.43540043', 'разбавить|0.43459305', 'купить|0.43392956', 'наценка|0.43358746', 'сангрия|0.43234503', '600р|0.43211785', 'квас|0.4320683', 'чайник|0.43170416', 'счёт|0.43072444', 'фрешить|0.43014073', 'килкенни|0.42806926', 'махитый|0.42797634', 'хугарден|0.427566', 'дешёвый|0.42389446', 'пивная|0.4228695', 'бар|0.42022747']\n",
            "Aspect 11:\n",
            "['летие|0.7775855', 'июнь|0.77276266', 'февраль|0.7631705', 'июль|0.7531089', 'август|0.7409218', 'май|0.740583', 'сентябрь|0.7367283', 'декабрь|0.73358345', 'март|0.72853446', '2011г|0.7276555', 'январь|0.7276215', 'октябрь|0.72443694', 'праздновать|0.6965488', 'го|0.69176453', 'отмечать|0.69003206', 'отмечать_день_рождение|0.68698114', 'ноябрь|0.68011916', 'др|0.6713506', 'юбилей|0.6687683', 'корпоратить|0.6684134', 'апрель|0.6669957', 'справлять|0.6505618', 'наш_свадьба|0.6408198', 'дата|0.6342003', 'день_рождение|0.6311599', 'ти|0.6289125', 'год|0.61280966', 'бракосочетание|0.6020049', 'прошлый|0.59445155', 'празднование|0.5925437', 'воскресение|0.5901265', 'часы|0.5893122', 'выпускной|0.5888567', 'неделя|0.58672434', 'отпраздновать|0.58494854', 'дочь|0.58348215', 'свадьба|0.57746494', 'корпоративный|0.5762706', 'годовщина|0.5747258', 'состояться|0.57286257', 'сын|0.56673634', 'новый_год|0.56605375', 'свой_день_рождение|0.5616653', 'новогодний|0.5607476', 'праздновать_день_рождение|0.5573237', '2013г|0.5538966', 'корпоратив|0.55103564', 'суббота|0.546427', 'семья|0.5378722', 'дочка|0.5375945', 'месяц|0.5297405', 'вчера|0.5272411', 'ночь|0.5215294', 'свадебный|0.52038336', 'выездной|0.5190407', '2014г|0.5188632', 'однокурсник|0.5178443', '2010г|0.51749617', 'минувший|0.50923425', 'втроём|0.5090738', 'число|0.5086875', 'девичник|0.508484', 'приехать|0.5070404', 'банкетный_зал|0.5067769', 'пр|0.50644433', 'чело|0.506156', 'гулять|0.5057858', 'год_назад|0.50416976', 'четверг|0.5026161', 'нг|0.50230753', 'арендовать|0.50206715', 'накануне|0.50160944', 'устроить|0.4981651', 'галерный|0.4977544', 'вторник|0.49712026', 'супруга|0.49585408', 'честь|0.49579287', 'торжество|0.49533918', 'канун|0.4935943', 'банкет|0.48414707', 'век|0.48300081', 'отмечаться|0.48282576', 'вечеринка|0.4821099', 'бельканто|0.48140717', 'родитель|0.48139423', 'рождение|0.48061258', 'мероприятие|0.48011494', 'назад|0.47951913', 'утро|0.47557563', 'это_ресторан|0.47447202', 'жена|0.47231066', 'планироваться|0.46895826', 'регистрация|0.46716118', 'событие|0.4620717', 'начаться|0.46084583', '2012г|0.46031964', 'весь_очень_понравиться|0.45956975', 'мама|0.45742172', 'проведение|0.45474008', 'утром|0.45460504']\n",
            "Aspect 12:\n",
            "['стен|0.7187998', 'полка|0.71083057', 'стена|0.6885491', 'потолок|0.6752802', 'надпись|0.67325056', 'стеклянный|0.66641366', 'прочий|0.66473645', 'картина|0.66088253', 'рамка|0.6604476', 'фотография|0.6591457', 'предмет|0.65634936', 'стекло|0.65548855', 'золотой|0.6541158', 'зеркало|0.6496055', 'элемент|0.6485616', 'мебель|0.6481668', 'старое|0.64713085', 'лампа|0.6460961', 'светильник|0.64460313', 'висеть|0.6419421', 'дерево|0.6390955', 'кирпичный|0.63797545', 'деталь|0.63737845', 'старинный|0.6366869', 'серый|0.63538444', 'плитка|0.6303686', 'внутренний|0.62821853', 'люстра|0.6266396', 'видный|0.6245111', 'смотреться|0.6239582', 'синий|0.6210413', 'картинка|0.6209434', 'журнал|0.6195749', 'панель|0.61870515', 'плазменный|0.61765504', 'доска|0.61697894', 'черно|0.615695', 'декор|0.6144629', 'современный|0.6088836', 'кирпич|0.6075981', 'газета|0.60443157', 'гамма|0.6039479', 'крыша|0.6038033', 'деревянный|0.6030939', 'здание|0.60267866', 'потолочь|0.5993688', 'модерн|0.5992259', 'подоконник|0.5986162', 'убранство|0.5985753', 'ступенька|0.59830034', 'шкаф|0.5967034', 'буфет|0.59393644', 'коричневый|0.593458', 'искусственный|0.5921116', 'туалетный|0.59096277', 'уборный|0.59080744', 'ля|0.59006643', 'кладка|0.58960223', 'цветовой|0.5882963', 'пол|0.58817255', 'полый|0.58799326', 'стиль|0.5855056', 'бумага|0.583127', 'обои|0.5827457', 'пространство|0.58194', 'подсветка|0.57944214', 'известный|0.57935584', 'дизайнерский|0.5781673', 'угол|0.57675433', 'штора|0.57661664', 'клетка|0.5763014', 'абажур|0.57245064', 'тяжёлый|0.57226884', 'винный|0.5721304', 'кровать|0.57201135', 'свет|0.5714997', 'белые|0.56813776', 'тон|0.5680431', 'птичка|0.56769687', 'занавеска|0.56688476', 'советский|0.56682694', 'вдоль|0.56680304', 'обилие|0.5664383', 'белоснежный|0.5656606', 'плазма|0.56473005', 'витрина|0.5637808', 'открываться|0.56212425', 'дизайнер|0.56212294', 'стеллаж|0.5612179', 'полочка|0.55997837', 'логотип|0.5598742', 'подложка|0.55974233', 'ткань|0.55973077', 'коврик|0.55937445', 'массивный|0.5556418', 'высоченный|0.5552987', 'длинный|0.5549934', 'колонна|0.55494666', 'лестница|0.554291', 'цвета|0.5541539']\n",
            "Aspect 13:\n",
            "['шумно|0.77165496', 'дым|0.76967686', 'дымно|0.761199', 'тесно|0.7521664', 'душный|0.7503693', 'накурить|0.7427518', 'вентиляция|0.7363323', 'диван|0.72777385', 'прохладно|0.7198658', 'диванчик|0.71626985', 'курить|0.7116502', 'неуютный|0.70964', 'сидеть|0.70527434', 'мешать|0.703793', 'кабинка|0.7027598', 'вытяжка|0.702453', 'дышать|0.68189365', 'друг_друг|0.67939013', 'зона|0.6766546', 'комфортно|0.6748199', 'вокруг|0.6698135', 'помещение|0.6695454', 'народ|0.66815656', 'беседка|0.66737604', 'слышный|0.66574883', 'удобно|0.6587622', 'танцполый|0.6544064', 'сосед|0.6508348', 'прокурить|0.6493658', 'кресло|0.64885956', 'зала|0.64675474', 'кондиционер|0.635713', 'дуть|0.6354638', 'жарко|0.63473594', 'просторно|0.6310419', 'аквариум|0.63083434', 'коромысло|0.6302688', 'сигаретный|0.62662446', 'комната|0.62518376', 'плед|0.620456', 'второе_этаж|0.62036264', 'стул|0.6203624', 'подушечка|0.61741495', 'близко|0.61609554', 'уединённость|0.61567116', 'табачный|0.61384153', 'комнатка|0.61334443', 'дальний|0.61243016', 'веранда|0.61214954', 'курящий|0.61178756', 'терасс|0.6099262', 'тихо|0.60942245', 'неудобно|0.6084064', 'парочка|0.60823417', 'экран|0.6074442', 'детский_комната|0.6068523', 'барный_стойка|0.60566914', 'туалет|0.60515183', 'телевизор|0.6041238', 'светло|0.60102', 'некурящий|0.6002684', 'пропахнуть|0.5983205', 'тв|0.5966432', 'шум|0.5954094', 'зальчик|0.5943718', 'спокойно|0.59413487', 'жарковатый|0.59396863', 'высоченный|0.5929117', 'неудобный|0.5916169', 'кондей|0.5911875', 'воздух|0.59117705', 'наверху|0.5901675', 'тесновато|0.59010863', 'деление|0.58826745', 'зал|0.587108', 'стульчик|0.5863763', 'тесноватый|0.5851652', 'курильщик|0.58469915', 'дымить|0.5830241', 'пространство|0.5821377', 'разделение|0.58108044', 'закутка|0.58074284', 'подушка|0.5752466', 'камин|0.5749923', 'устроиться|0.5749852', 'танцевать|0.57365316', 'свет|0.57273793', 'развалиться|0.5722132', 'курение|0.57022834', 'сцена|0.56985086', 'уединение|0.569381', 'прикольный|0.567439', 'внизу|0.5664683', 'интимный|0.5664018', 'расположиться|0.5660876', 'орать|0.5649557', 'игрушка|0.56332326', 'балкон|0.56224144', 'толпа|0.5591705', 'полумрак|0.55628026']\n",
            "2019-12-24 03:43:34,516 INFO Epoch 4, train: 5s\n",
            "2019-12-24 03:43:34,516 INFO Total loss: 3.8677, max_margin_loss: 3.7592, ortho_reg: 0.1085\n",
            "100% 594/594 [00:05<00:00, 101.32it/s]\n",
            "Aspect 0:\n",
            "['заглянуть|0.74324524', 'перекусить|0.7277056', 'захотеться|0.72651356', 'поехать|0.72114366', 'зайти|0.71680266', 'сходить|0.70635533', 'случайно|0.7027427', 'заехать|0.6927117', 'питер|0.69124305', 'пообедать|0.68588716', 'жить|0.6852697', 'поужинать|0.68051434', 'ехать|0.66883874', 'недалеко|0.6625522', 'недавно|0.65852857', 'покушать|0.6572162', 'ездить|0.6548724', 'московский|0.6537023', 'заезжать|0.64979875', 'однажды|0.6493977', 'заходить|0.64746153', 'забежать|0.64597535', 'подружка|0.6393045', 'поболтать|0.6391566', 'давно|0.63733006', 'любим|0.63466805', 'сюда|0.63372815', 'петроградка|0.62664187', 'это_место|0.6259397', 'район|0.62393886', 'частенько|0.61965734', 'попить|0.6190696', 'заскочить|0.61786145', 'целенаправленно|0.6052946', 'это_кафе|0.59937185', 'заслать|0.59724605', 'специально|0.5924148', 'любимый|0.59166884', 'добраться|0.58960575', 'посетить|0.5847469', 'ближний|0.5825777', 'вспомнить|0.5823424', 'сегодня|0.5821196', 'дом|0.58156776', 'проезжать|0.5815463', 'вчера|0.5789437', 'прогулка|0.57756126', 'забрести|0.5761379', 'открыться|0.57593787', 'попасть|0.5738762', 'захаживать|0.5737996', 'ужинать|0.57354325', 'москва|0.5726306', 'невский|0.5678042', 'посидеть|0.5657655', 'приезжать|0.56348073', 'вечером|0.5628985', 'хороший_место|0.5577978', 'поход|0.5562044', 'васильевский|0.5558636', 'позавтракать|0.5551995', 'местечко|0.5533345', 'друг|0.553191', 'занести|0.5524365', 'знакомый|0.5500539', 'приморский|0.54935837', 'отправиться|0.5490296', 'обедать|0.54808253', 'нибыть|0.5475615', 'ходить_туда|0.54704666', 'побывать|0.54074234', 'вновь|0.53934574', 'остров|0.53607625', 'васька|0.5349299', 'возвращаться|0.5330727', 'забегать|0.5324446', 'летом|0.5307833', 'решить|0.52925235', 'привести|0.52805024', 'отдохнуть|0.5259925', 'поесть|0.5256075', 'приятель|0.5246717', 'выходной|0.5240592', 'заглядывать|0.52164555', 'пивко|0.52001035', 'разочароваться|0.5198082', 'проверить|0.5195311', 'захотеть|0.5137093', 'рада|0.51255685', 'ресторанчик|0.51210237', 'наведаться|0.5052031', 'встретиться|0.5047631', 'днём|0.50433195', 'жан|0.5012922', 'лиговка|0.5011109', 'наткнуться|0.50044334', 'город|0.49939945', 'посмотреть|0.49753478', 'туда|0.49727258', 'перекус|0.49697292']\n",
            "Aspect 1:\n",
            "['строчка|0.7272507', 'заманчивый|0.7202378', 'касательно|0.7013449', 'соблазниться|0.6998301', 'банкетик|0.69346327', 'интригующий|0.69106793', 'дегустационный|0.68751514', 'раздумье|0.6858059', 'аперитив|0.67954814', 'омар|0.67730856', 'старт|0.6762017', 'изучение|0.6729374', 'страничка|0.672263', 'обрадовать|0.6674352', 'ознакомиться|0.66572756', 'чтение|0.6645358', 'перечень|0.66376054', 'купиться|0.6589892', 'именно_это_место|0.6581631', 'калория|0.65678453', 'несказанно|0.65613145', 'сезонный|0.65603304', 'вк|0.65243965', 'замешательство|0.65152055', 'кавказка|0.650488', 'продегустировать|0.6484039', 'первоначально|0.6479638', 'разбежаться|0.6462856', 'остановить|0.64606273', 'разгуляться|0.6452439', 'непривычный|0.64046824', 'велик|0.6393069', 'именно_это_заведение|0.6389941', 'недолгий|0.6370813', 'австралийский|0.6354368', 'красочный|0.6339847', 'св|0.6334668', 'отметиться|0.63338065', 'вышеуказанный|0.63298637', 'розлив|0.6270462', 'весь_очень_очень|0.62703514', 'принтер|0.62663496', 'значиться|0.6248388', 'предложение|0.6246022', 'версия|0.62323374', 'вьетнамский|0.62250084', 'действительность|0.62198097', 'стопа|0.62193507', 'инуть|0.6215931', 'перевод|0.62088215', 'осторожный|0.62015474', 'презентация|0.619701', 'успокоиться|0.618981', 'отозваться|0.618757', 'подробный|0.61811244', 'оговорка|0.616706', 'ссылка|0.61663145', 'аналогично|0.6165863', 'предзаказ|0.61554104', 'полистать|0.61524296', 'прогадать|0.61512816', 'комбинация|0.61502004', 'тщательный|0.6135974', 'разбегаться|0.61357', 'предусмотрительно|0.61313444', 'наиболее|0.6131056', 'африканский|0.61015236', 'лига|0.6094493', 'вариант|0.60827655', 'магазинчик|0.6082647', 'ла|0.6071708', 'ограниченный|0.6056626', 'биза|0.6055449', 'шато|0.6054368', 'недурственный|0.6039374', 'строка|0.6039245', 'перечислить|0.60318506', 'лефф|0.60300636', 'сперва|0.6025166', 'кесадилья|0.60239613', 'расширить|0.6021563', 'капкейк|0.6020746', 'тортовый|0.60192037', 'марсельеза|0.60185933', 'португальский|0.6018233', 'ступор|0.6017754', 'палкинъ|0.6007087', 'смутно|0.6006884', 'сендвич|0.60065347', 'правильность|0.59909904', 'засомневаться|0.59897125', 'сократить|0.59894', 'красочно|0.59840107', 'велкома|0.59816754', 'вживую|0.59807', 'рекламировать|0.59778476', 'вдаваться|0.5977502', 'фигурировать|0.59709847', 'каберне|0.59679693', 'актуальный|0.596632']\n",
            "Aspect 2:\n",
            "['говядина|0.71387815', 'гриль|0.6922294', 'овощ|0.6868863', 'рыба|0.67137486', 'стейк|0.66989875', 'карпаччо|0.66507447', 'курица|0.659675', 'креветка|0.6584645', 'лосось|0.6582402', 'рибай|0.6571899', 'цыплёнок|0.6527438', 'баклажан|0.64132345', 'филе|0.63537264', 'свинина|0.6167323', 'морепродукт|0.61258835', 'котлета|0.6104797', 'салат_цезарь|0.60303', 'стейка|0.60283715', 'картофель|0.5992323', 'цезарь|0.59824896', 'плов|0.59820366', 'прожарка|0.596117', 'баранина|0.5921842', 'куриный|0.5917499', 'сацивить|0.59093714', 'свиной|0.5898386', 'краб|0.588758', 'дорад|0.58774304', 'барашек|0.58722293', 'судак|0.58563375', 'форель|0.5837792', 'кальмар|0.58329934', 'ягнёнок|0.5830128', 'рис|0.5825896', 'шашлык|0.5818444', 'медальон|0.581725', 'рыбка|0.5799643', 'гарнир|0.5788119', 'оливья|0.57877886', 'миньон|0.57832026', 'дорада|0.57532704', 'вок|0.5752778', 'тунец|0.5729416', 'мясо|0.57138073', 'пекински|0.56893086', 'свинин|0.56634164', 'кебаб|0.5650561', 'утка|0.56451255', 'мидия|0.56250215', 'телятина|0.5616584', 'гребешок|0.5612972', 'грудка|0.56101096', 'сибас|0.5572776', 'мраморный|0.55678594', 'овощной|0.5542219', 'запечёный|0.5513253', 'это_блюдо|0.5509494', 'греческий|0.54985183', 'острый|0.54927087', 'мангал|0.54848206', 'кисло_сладкое_соус|0.5482143', 'жареный|0.5480503', 'котлетка|0.5458111', 'мясной|0.54128146', 'колбаска|0.5405166', 'запечь|0.5388027', 'ростбиф|0.53825337', 'копчёный|0.537448', 'солянка|0.53730094', 'тара_тара|0.53705335', 'сёмга|0.53682756', 'бургера|0.53621024', 'долма|0.53581524', 'осьминог|0.53527486', 'удон|0.5352271', 'костя|0.5296774', 'шашлычок|0.5281232', 'сочный|0.52776456', 'ризотто|0.5268413', 'каре|0.52678686', 'помидор|0.5265703', 'утиный|0.52634096', 'соус|0.5262891', 'крылышко|0.5259801', 'драник|0.52583444', 'кура|0.52459687', 'степень|0.52385986', 'королевский|0.5238523', 'лапша|0.5232567', 'медиум|0.5196208', 'салатик|0.5174308', 'жарить|0.5169754', 'авокадо|0.5167799', 'печень|0.5167092', 'осетрина|0.5143223', 'картошка|0.51160675', 'люля|0.5115007', 'говяжий|0.5110981', 'йорк|0.51087815', 'палтус|0.51047206']\n",
            "Aspect 3:\n",
            "['господин|0.7817576', 'ресторатор|0.75452006', 'ум|0.72989404', 'существовать|0.72650325', 'простить|0.72465897', 'критика|0.72183', 'позор|0.7216543', 'личный|0.7162038', 'владелец|0.7145144', 'уважаемый|0.71141714', 'право|0.70355076', 'понятие|0.6980728', 'речь|0.6953194', 'зарплата|0.6925286', 'негатив|0.6807519', 'пусть|0.6802772', 'хозяин|0.67732143', 'автор|0.6769345', 'постараться|0.67672944', 'гнать|0.67671245', 'быдло|0.67339903', 'борис|0.67205346', 'знак|0.67100984', 'практика|0.66970605', 'совесть|0.6677294', 'злой|0.66346884', 'сфера|0.66239816', 'высказывание|0.66199505', 'управленец|0.66195875', 'хамство|0.6593366', 'представитель|0.65430856', 'иначе|0.65422547', 'жизнь|0.6522641', 'репутация|0.65157706', 'скрыть|0.65111613', 'стороной|0.64827263', 'задуматься|0.64714324', 'уволить|0.6465469', 'обходить|0.64576983', 'история|0.6454483', 'опыт|0.6442363', 'менеджмент|0.64341366', 'наплевать|0.6427988', 'бог|0.64217925', 'учиться|0.64205325', 'неужели|0.6415756', 'уверенный|0.64114', 'человек_который|0.6367913', 'допускать|0.6348265', 'плевать|0.63190055', 'потребитель|0.6316856', 'предприятие|0.6315706', 'бред|0.6313911', 'непрофессиональный|0.6293849', 'тенденция|0.62923914', 'общепит|0.6290388', 'ругать|0.6277162', 'уважать|0.62622905', 'licorice|0.6256844', 'твориться|0.6241625', 'значение|0.623314', 'потерять|0.6219078', 'развитие|0.62142694', 'воровать|0.6213786', 'удалять|0.6197103', 'привет|0.61856604', 'верить|0.61663806', 'вечно|0.61581683', 'стремиться|0.6139786', 'откровенный|0.6138561', 'иметь|0.6129191', 'вложить|0.6127175', 'нарушение|0.61188745', 'клуб|0.6117605', 'бороться|0.61131245', 'чувак|0.6111902', 'звезда|0.6107068', 'блог|0.61039484', 'понимание|0.60977536', 'тренд|0.60919005', 'человеческий|0.60787106', 'учить|0.60753214', 'здравый|0.60707164', 'никак|0.6064187', 'непрофессионализм|0.60620534', 'мысль|0.6059732', 'разойтись|0.605873', 'оратор|0.6056599', 'питание|0.60562515', 'детище|0.6049999', 'письмо|0.60438055', 'объективный|0.60359204', 'обман|0.6027862', 'культура|0.6022854', 'ключ|0.6008963', 'извинить|0.6002429', 'школа|0.60024154', 'обратный|0.6000279', 'руководство|0.59974086', 'называть|0.59972584']\n",
            "Aspect 4:\n",
            "['девочка|0.78780466', 'улыбчивый|0.7612653', 'улыбка|0.7386595', 'улыбаться|0.7376379', 'молодая_человек|0.7320335', 'мальчик|0.7307526', 'официантка|0.7088939', 'обслуживать|0.6955463', 'девушка|0.6944128', 'официант|0.69375396', 'любезный|0.6867931', 'расторопный|0.6835115', 'учтивый|0.6782614', 'доброжелательно|0.6749153', 'вежливый|0.6726426', 'мила|0.660487', 'парень|0.6597363', 'интересоваться|0.6561138', 'доброжелательный|0.6500287', 'юноша|0.642905', 'офицант|0.635774', 'чётко|0.6269101', 'стараться|0.6220867', 'появляться|0.61864144', 'обходительный|0.61186963', 'вовремя|0.6058308', 'забывать|0.60502064', 'звать|0.60265386', 'предупредительный|0.60150087', 'услужливый|0.598785', 'оперативно|0.5969387', 'обслуживающий|0.5956994', 'персонал|0.5948721', 'внимательно|0.5936395', 'старательный|0.58234227', 'провожать|0.57996327', 'шустрый|0.5796181', 'навязчивый|0.5783436', 'успевать|0.5748037', 'барышня|0.56627953', 'менять|0.5660824', 'приветливый|0.56276226', 'лицо|0.56202614', 'приветливо|0.56126165', 'обслужить|0.56070864', 'пепельница|0.5606077', 'незаметно|0.55961126', 'обслуживающий_персонал|0.55708385', 'молодая|0.5570574', 'общительный|0.5558722', 'внимательный|0.5524471', 'задержка|0.5475303', 'ненавязчивый|0.54659426', 'бармен|0.5437952', 'милый|0.54373', 'весь_время|0.5431942', 'смена|0.54273903', 'прощаться|0.5354539', 'быстрый|0.5337546', 'молниеносно|0.53287935', 'профессионально|0.5328582', 'дружелюбно|0.532833', 'наш_столик|0.53213143', 'заботливый|0.532053', 'очень_милый|0.5316262', 'молодец|0.5314102', 'молоденький|0.52623045', 'выполнять|0.5258813', 'очень_быстро|0.525467', 'корректно|0.5253235', 'незаметный|0.524527', 'общаться|0.5222827', 'голос|0.52137023', 'постоянно|0.5205312', 'следить|0.5200641', 'здороваться|0.5182857', 'администратор|0.5180174', 'тактично|0.5172172', 'уносить|0.5152733', 'назойливый|0.5148037', 'медленно|0.5141655', 'ребята|0.5105895', 'разговаривать|0.50927365', 'реагировать|0.50064564', 'отвечать|0.50041777', 'компетентный|0.5003979', 'хостёс|0.49880752', 'дружелюбный|0.49186367', 'своевременно|0.49008304', 'быстро|0.4896651', 'хостесса|0.48137617', 'убираться|0.48107162', 'внешность|0.48097497', 'обаятельный|0.47945508', 'подходить|0.47894925', 'шутить|0.47760373', 'неопытный|0.47679013', 'убирать|0.47653037', 'молодая_человек_который|0.47416657', 'мужчина|0.4715372']\n",
            "Aspect 5:\n",
            "['изыск|0.7458041', 'касаться|0.74523884', 'весь_остальной|0.7244048', 'выше|0.710189', 'посредственный|0.7048005', 'соответствовать|0.69977736', 'уровень|0.6940087', 'ценник|0.69382477', 'завысить|0.6876447', 'не_мочь_сказать|0.68021405', 'многий|0.6739371', 'средненький|0.6673714', 'сравнение|0.6657307', 'японский|0.66375965', 'отличаться|0.66325337', 'учитывать|0.653196', 'качество|0.6517303', 'недостаток|0.6514462', 'достойный|0.64907885', 'принцип|0.6415762', 'прежний|0.64015484', 'отличие|0.64012516', 'цена_качество|0.63945335', 'плохой|0.63917005', 'простой|0.6383082', 'приемлемый|0.638178', 'оценивать|0.63767505', 'действительно|0.6334398', 'ничто_особенный|0.6326356', 'исключение|0.63032556', 'разнообразие|0.62862754', 'нарекание|0.62706506', 'оставлять_желать_хороший|0.6267525', 'крайний_мера|0.62221014', 'европейский|0.6209008', 'остальной|0.61934066', 'радовать|0.608899', 'качественный|0.60867876', 'китайский|0.6086098', 'добротный|0.6048018', 'вполне|0.6043771', 'особый|0.60363144', 'главный|0.601634', 'намного|0.5994366', 'ниже|0.59519494', 'среднее|0.5942702', 'скромный|0.59408844', 'относительно|0.5931844', 'претензия|0.59272075', 'соотношение_цена_качество|0.59077847', 'высокий|0.59067214', 'придраться|0.5902205', 'неплохой|0.5869316', 'менее|0.586799', 'обычный|0.5861698', 'сносный|0.58515227', 'пожалуй|0.5833306', 'цена|0.5825911', 'хороший|0.5824155', 'очень_хороший|0.58146304', 'крайне|0.578112', 'особо|0.57803404', 'удивлять|0.5732181', 'однако|0.56800926', 'средний|0.5672723', 'демократичный|0.5672329', 'очень_большой|0.56460273', 'сетевой|0.5640117', 'особенный|0.56339735', 'фаста|0.5632275', 'оценка|0.5628152', 'гораздо|0.56159925', 'достаточно|0.561346', 'кухня|0.5606318', 'назвать|0.5579865', 'недорогой|0.55604744', 'умеренный|0.55594647', 'выдающийся|0.5547111', 'адекватный|0.55443245', 'мочь_сказать|0.55379844', 'неплохо|0.55263615', 'оценить|0.55077195', 'план|0.55009496', 'разочаровать|0.5497644', 'категория|0.5479726', 'изысканный|0.5479313', 'стандартный|0.5471709', 'дороговатый|0.5465329', 'целое|0.5464395', 'бизнес_ланча|0.5453241', 'ценовый|0.54204535', 'большинство|0.5416444', 'ожидать|0.5407233', 'изюминка|0.53848374', 'хромать|0.53772485', 'средне|0.53496754', 'однозначно|0.53329945', 'приличный|0.53266656', 'впечатлить|0.5303525', 'еда|0.5271653']\n",
            "Aspect 6:\n",
            "['лежалый|0.66724175', 'чёрствый|0.59992707', 'подсушить|0.5999203', 'размазать|0.59450865', 'штука|0.5934459', 'заветренный|0.5909621', 'четыре|0.5903372', 'ржаной|0.5886457', 'мм|0.58620214', 'уложить|0.5838116', 'целый|0.5822619', 'упаковка|0.58209634', 'гора|0.5819934', 'жалкий|0.581272', 'диаметр|0.58086014', 'булка|0.5807566', 'пластина|0.57898486', 'лента|0.5770334', 'малюсенький|0.5753586', 'оливковый|0.57274246', 'икра|0.5725821', 'прилипнуть|0.57176113', 'залить|0.57152754', 'долька|0.5705094', 'стопочка|0.5700035', 'сухарь|0.5688598', 'разложить|0.5687338', 'нарезка|0.5683299', 'веточка|0.5682128', 'холодильник|0.5663612', 'засохнуть|0.5663438', 'горка|0.5656804', 'хамон|0.56504625', 'четвертинка|0.5636092', 'пополам|0.56223184', 'багет|0.5618075', 'половинка|0.5613972', 'коробка|0.56012875', 'печь|0.5598542', 'сало|0.55944645', 'целиком|0.55940974', 'тост|0.5572753', 'порезать|0.5570954', 'выложить|0.55689764', 'край|0.556317', 'бутерброд|0.5559523', 'кожура|0.5559466', 'килограмм|0.5559223', 'чиабатта|0.55575895', 'капля|0.55453104', 'крохотный|0.55449975', 'сырный|0.5544491', 'чесночный|0.5542662', 'остаток|0.5537278', 'слой|0.5530598', 'блюдечко|0.5530143', 'куча|0.55129707', 'нарезать|0.5510576', 'помидорка|0.5510522', 'ломоть|0.5483987', 'комок|0.5477884', 'треугольник|0.54773897', 'булочка|0.5471645', 'ручной|0.54586804', 'картофелина|0.5458336', 'тарелочка|0.5456798', 'толщина|0.5456363', 'толстой|0.54559815', 'вуаля|0.5447726', 'бальзамико|0.5446784', 'насыпать|0.5445106', 'варена|0.54427826', 'закусывать|0.5438002', 'чеснок|0.5437428', 'хлеб|0.54326284', 'плошка|0.54309875', 'дно|0.5429269', 'дора|0.54287446', 'полить|0.54261225', 'ломтик|0.5423896', 'маслина|0.5423068', 'включая|0.5422944', 'кольцо|0.54187167', 'салями|0.5418429', 'собирать|0.54116964', 'миллиметр|0.54091835', 'разрезать|0.54082733', 'макать|0.54074496', 'хк|0.5405146', 'состоять|0.54024255', 'утащить|0.5368981', 'плесень|0.53661877', 'ледяной|0.5363746', 'лежать|0.5357832', 'виноград|0.5356503', 'хлебушек|0.5352244', 'плавать|0.5351538', 'оливка|0.5350221', 'горшочек|0.53479075', 'гигантский|0.5345163']\n",
            "Aspect 7:\n",
            "['прийтись|0.7204998', 'предупредить|0.71862644', 'уточнить|0.704693', 'выясниться|0.7024431', 'попытка|0.702417', 'поинтересоваться|0.69922674', 'сообщить|0.6905798', 'просить|0.690205', 'унести|0.67702997', 'предупреждать|0.67161393', 'успеть|0.6706648', 'отказаться|0.6705421', 'естественно|0.6684501', 'уточнять|0.66586435', 'попросить|0.66501844', 'вынести|0.66426176', 'пропасть|0.6631062', 'дождаться|0.6623782', 'мол|0.66131914', 'курс|0.65983725', 'полчаса|0.65937346', 'забрать|0.6587501', 'ответить|0.65304446', 'сделать_заказ|0.652869', 'обратно|0.6524865', 'отказать|0.65188026', 'убрать|0.65028703', 'подождать|0.64850605', 'ладный|0.6480954', 'извиниться|0.64398706', 'приход|0.64046836', 'подумать|0.64043486', 'исчезнуть|0.64016557', 'спросить|0.6398357', 'сначала|0.6367506', 'забыть|0.634204', 'объяснить|0.6337737', 'выяснить|0.6336293', 'ответ|0.63078165', 'последовать|0.62925893', 'поменять|0.6279186', 'записать|0.6275242', 'заставить|0.6261778', 'пообещать|0.6251205', 'пришлый|0.6250156', 'попытаться|0.6245487', 'отказываться|0.6204412', '15_минута|0.6184243', 'затем|0.607865', 'перепутать|0.60348874', 'пытаться|0.60336614', 'позвать|0.59805757', 'предложить|0.5975864', '10_минута|0.5972221', 'принять|0.59540755', 'вернуть|0.59440094', 'вопрос|0.58941317', 'готовый|0.5889497', 'спрашивать|0.5889387', 'указать|0.58597136', 'освободиться|0.58575284', 'подойти|0.5837451', 'извиняться|0.58190906', 'убежать|0.58140385', 'телефон|0.581343', 'встать|0.5796818', 'её|0.5795475', 'поймать|0.57818174', 'закончиться|0.57390296', 'сообщать|0.5718652', 'просьба|0.5714233', 'уйти|0.56993914', 'никто_не|0.5690954', 'разобраться|0.56896025', 'расчёт|0.5685668', 'принять_заказ|0.568462', 'нея|0.5678734', 'обещать|0.56615424', 'извинение|0.56518567', 'согласиться|0.56454813', 'молча|0.5643995', 'выяснять|0.56279826', '20_минута|0.5622369', 'забирать|0.55955076', 'самостоятельно|0.55951554', 'положить|0.55941886', 'результат|0.5590694', 'приняться|0.55847585', 'не_смочь|0.55810654', 'удивиться|0.55654025', 'неприятно|0.55558366', 'пересадить|0.5551838', 'обратиться|0.5536089', 'заменить|0.5518639', 'начать|0.55178463', 'пожалуйста|0.5516541', 'поздний|0.5508393', 'виноватый|0.5490337', 'потребовать|0.5482075', 'оплатить|0.5473664']\n",
            "Aspect 8:\n",
            "['шоколад|0.75691175', 'клубника|0.72008765', 'варение|0.7173311', 'крем|0.71183795', 'малиновый|0.70988417', 'кекс|0.7075714', 'сливка|0.70450133', 'мусса|0.6954174', 'шоколадный|0.69474643', 'сладкий|0.68867594', 'сладость|0.6873858', 'яблочный|0.687277', 'сорбета|0.68310416', 'клубничный|0.6742525', 'пирог|0.67160803', 'карамельный|0.6706176', 'печение|0.6703533', 'малин|0.6693326', 'молоко|0.6666707', 'вишня|0.6664175', 'миндальный|0.6659103', 'мятный|0.6648173', 'карамель|0.66255814', 'ванильный|0.66075206', 'эклер|0.6604035', 'морковный|0.6589771', 'корица|0.65831137', 'манговый|0.6557958', 'чизкейк|0.6550721', 'ягода|0.65083414', 'лимонный|0.64957356', 'мятый|0.6482767', 'мороженный|0.64582825', 'желе|0.64532524', 'имбирный|0.6449146', 'вафельный|0.64479786', 'сладко|0.64117336', 'суфле|0.6406913', 'ароматный|0.6403549', 'наполеон|0.6400644', 'яблоко|0.6370969', 'вафля|0.6359622', 'апельсиновый|0.6359265', 'грушевый|0.6346319', 'ваниль|0.6341337', 'панакот|0.6331903', 'черничный|0.6290536', 'бисквит|0.6287175', 'сладкое|0.6285231', 'груша|0.6284082', 'грецкий|0.6273378', 'творожный|0.6273221', 'манго|0.6252789', 'взбить|0.6248618', 'брюла|0.6239084', 'корочка|0.62377685', 'мороженое|0.6232245', 'пенка|0.621652', 'медовик|0.6214253', 'пирожное|0.61917824', 'сорбетом|0.6177521', 'густой|0.6176874', 'кокосовый|0.61689246', 'мёд|0.616717', 'трюфель|0.6148444', 'брауни|0.61470026', 'орех|0.6141136', 'штрудель|0.610906', 'меренга|0.6096504', 'трубочка|0.60963786', 'шарик|0.60865283', 'сироп|0.6085676', 'капуччиный|0.60824037', 'сахарный|0.60771644', 'горячий|0.60693574', 'тархун|0.6055098', 'чиз|0.60393107', 'фисташковый|0.60305864', 'воздушный|0.60009134', 'песочный|0.5999665', 'кейк|0.5991689', 'чабрец|0.59876525', 'джема|0.5984856', 'запивать|0.59796727', 'маскарпон|0.5977805', 'пропитать|0.5970791', 'приторный|0.59577966', 'зелёный|0.5954787', 'марципановый|0.5954633', 'брусничный|0.59470665', 'банан|0.5943742', 'апельсин|0.5921935', 'орешек|0.5909041', 'маракуйя|0.58983886', 'ягодный|0.58882093', 'послевкусие|0.58809453', 'клюква|0.5867348', 'фреш|0.58600736', 'лайм|0.58536434', 'тыква|0.5839921']\n",
            "Aspect 9:\n",
            "['отдельный_спасибо|0.7743693', 'праздник|0.755905', 'огромный_спасибо|0.73111534', 'большой_спасибо|0.726545', 'весь_гость|0.70084065', 'благодарность|0.69783163', 'праздничный|0.689142', 'тамада|0.6842592', 'организация|0.6672301', 'спасибо|0.6567223', 'весь_наш|0.651383', 'команда|0.6513378', 'незабываемый|0.64855546', 'ведущий|0.64819723', 'коллектив|0.64364576', 'организовать|0.6424273', 'шоу|0.63807106', 'поблагодарить|0.62376106', 'благодаря|0.615676', 'майкл|0.6122794', 'профессионал|0.6116602', 'кондитер|0.6111883', 'чуткий|0.61094534', 'профессионализм|0.61089075', 'исполнить|0.6107987', 'прекрасно|0.607517', 'невеста|0.6067147', 'торжество|0.6044365', 'подарок|0.6036686', 'создать|0.601893', 'марин|0.5994909', 'свадебный|0.5991154', 'ольга|0.59871763', 'подарить|0.5981016', 'подготовка|0.5938127', 'респект|0.5919316', 'забота|0.5914006', 'весь_гость_остаться_довольный|0.5891918', 'уважение|0.58736944', 'благодарный|0.5873075', 'торт|0.5849678', 'пожелание|0.5838355', 'елена|0.5797195', 'молодожён|0.57613224', 'выражать|0.5759049', 'фуршет|0.5752162', 'сергей|0.5752131', 'евгений|0.57518125', 'фейерверк|0.57493746', 'совет|0.57443863', 'конкурс|0.5724058', 'поклон|0.57177573', 'выразить|0.5704908', 'шеф_повар|0.5694708', 'программа|0.56935084', 'процветание|0.5671195', 'андрей|0.56501687', 'наш_гость_остаться_очень_довольный|0.56227946', 'очень_довольный|0.561304', 'алексей|0.5611166', 'благодарить|0.56097823', 'каравай|0.5597562', 'великолепно|0.5594789', 'самый_главный|0.5587208', 'помочь|0.553501', 'гость|0.5534716', 'проведение|0.5530089', 'владимир|0.55270976', 'душа|0.5491382', 'весь_наш_пожелание|0.54816717', 'великолепный|0.54567844', 'мероприятие|0.5422809', 'ирина|0.5420475', 'очень_приятно|0.5395107', 'успех|0.53947043', 'поздравление|0.5388293', 'высокий_уровень|0.5387906', 'грамотный|0.53614813', 'также|0.5359421', 'чудесный|0.5325031', 'марина|0.5283891', 'виктор|0.5272517', 'татьяна|0.52664113', 'наталья|0.52624154', 'александр|0.52589136', 'удача|0.52566934', 'танец|0.52480495', 'дмитрия|0.5247053', 'внимательность|0.5232985', 'помощь|0.5228303', 'вячеслав|0.5203761', 'гостеприимство|0.5201933', 'остаться_довольный|0.5199087', 'организатор|0.5196707', 'прекрасный|0.51732445', 'отдельный|0.5151262', 'потрясающе|0.51473534', 'артист|0.5117059', 'анастасия|0.5109102', 'станислав|0.50703084']\n",
            "Aspect 10:\n",
            "['висок|0.7528472', 'литр|0.7340524', 'водка|0.7144426', 'пинта|0.69315785', 'пиво|0.6556585', 'разливный|0.6436814', 'кола|0.64172614', 'ньюкасл|0.63568145', 'кружка|0.63404286', 'бутылочный|0.63246787', 'безалкогольный|0.6176742', 'коньяк|0.61589617', 'крепкий|0.6063405', 'сорт|0.6055521', 'крушовица|0.59788483', 'бутылочка|0.59073603', 'мл|0.58605283', 'алкогольный|0.58596206', 'карта|0.582151', 'коктейль|0.5726024', 'бесплатный|0.57237345', 'мохитый|0.57118297', 'гиннес|0.56542486', 'напиток|0.55741453', 'наливать|0.55464906', 'бутылка|0.5537464', 'алкоголь|0.550594', 'сок|0.54858357', 'графин|0.5454674', 'мартини|0.5422742', 'пить|0.54022455', 'вод|0.5385606', 'бокал|0.5380225', 'бланша|0.5370095', 'стакан|0.5357797', 'коктейльный|0.5220269', 'нефильтрованный|0.52020645', 'харп|0.5163034', 'лонг|0.51374733', 'текила|0.5131112', 'сидр|0.4982071', 'бесплатно|0.4963901', 'морс|0.4942637', 'спиртное|0.49423686', 'гр|0.49374154', 'шампанский|0.49175453', 'вода|0.4883324', 'бл|0.48309228', 'эспрессо|0.48154765', 'акция|0.48090488', 'чек|0.4800744', 'лицензия|0.47892505', 'выпить|0.47835886', 'налить|0.4782675', 'коктель|0.47623003', 'кок|0.46977192', 'вельвет|0.46929133', 'продавать|0.46855024', 'распитие|0.4681108', 'рюмка|0.46417677', 'эдельвейс|0.4640268', 'кальян|0.4637476', 'рубль|0.46096873', 'тысяча|0.4609035', 'василеостровский|0.4596164', 'грамм|0.45911914', '100р|0.45889568', 'игристый|0.4564591', 'айленд|0.452455', 'стоимость|0.45237052', 'руль|0.4521909', 'покупать|0.45178258', 'скидка|0.45060727', 'гинесса|0.45008177', 'рэ|0.4483704', 'лёд|0.44667405', 'разбавить|0.444965', 'пивко|0.44255692', 'свежевыжать|0.43974334', 'пивная|0.439544', 'обойтись|0.4380345', 'килкенни|0.43680876', 'сангрия|0.43547106', 'литровый|0.43448648', 'хугарден|0.43419763', 'набор|0.43338448', 'америкать|0.43238086', 'квас|0.43224466', 'заплатить|0.43198293', 'купить|0.4300776', 'бар|0.42991677', '200р|0.42926174', 'евро|0.42890155', 'эль|0.4241435', 'махитый|0.42351586', 'бармен|0.42312998', '600р|0.4226246', 'наценка|0.4195472', 'фрешить|0.41817492', 'счёт|0.41760787']\n",
            "Aspect 11:\n",
            "['летие|0.7840395', 'июнь|0.77163386', 'февраль|0.76398593', 'июль|0.7515106', 'август|0.74294245', 'май|0.74106556', 'сентябрь|0.73924613', 'декабрь|0.7386062', '2011г|0.7322749', 'март|0.7277817', 'январь|0.7261652', 'октябрь|0.7237094', 'праздновать|0.69487643', 'го|0.6926916', 'отмечать_день_рождение|0.6838231', 'ноябрь|0.683812', 'отмечать|0.6834352', 'корпоратить|0.6745603', 'др|0.66766554', 'юбилей|0.66685915', 'апрель|0.66531736', 'справлять|0.64980185', 'наш_свадьба|0.64182353', 'дата|0.63987154', 'ти|0.6322394', 'день_рождение|0.62989724', 'год|0.61348104', 'бракосочетание|0.6099239', 'часы|0.60377526', 'празднование|0.5937551', 'прошлый|0.5936706', 'воскресение|0.593416', 'выпускной|0.59209746', 'неделя|0.5882962', 'отпраздновать|0.5868697', 'корпоративный|0.58437735', 'дочь|0.5815395', 'состояться|0.5801678', 'свадьба|0.57494783', 'годовщина|0.572628', 'новый_год|0.56896394', 'новогодний|0.5673187', 'свой_день_рождение|0.56187016', 'корпоратив|0.5602468', 'сын|0.5562223', 'праздновать_день_рождение|0.5545926', '2013г|0.55436534', 'суббота|0.5471184', 'семья|0.5415849', 'дочка|0.53695893', 'ночь|0.5351264', 'месяц|0.5322304', '2014г|0.5252844', 'свадебный|0.5221443', 'вчера|0.5215803', 'выездной|0.52124786', '2010г|0.52083373', 'однокурсник|0.5177883', 'девичник|0.51358366', 'пр|0.51176196', 'банкетный_зал|0.510846', 'минувший|0.5105143', 'втроём|0.5102112', 'приехать|0.509586', 'нг|0.50901496', 'год_назад|0.5076164', 'четверг|0.5071995', 'чело|0.5062444', 'гулять|0.50574005', 'число|0.50444365', 'торжество|0.50434434', 'вторник|0.50177544', 'галерный|0.50167894', 'накануне|0.50104606', 'арендовать|0.49904126', 'устроить|0.4985637', 'честь|0.4977624', 'супруга|0.49530318', 'мероприятие|0.4924088', 'канун|0.49237108', 'утро|0.48890764', 'вечеринка|0.4886364', 'век|0.4879', 'банкет|0.48718044', 'родитель|0.48457187', 'рождение|0.48446965', 'бельканто|0.48405224', 'отмечаться|0.48245278', 'это_ресторан|0.47508228', 'назад|0.47460923', 'планироваться|0.47399256', 'регистрация|0.47035778', 'событие|0.470198', 'начаться|0.4683251', 'утром|0.46239746', '2012г|0.46056885', 'проведение|0.45952415', 'жена|0.45948452', 'передохнуть|0.45699352', 'среда|0.45485038']\n",
            "Aspect 12:\n",
            "['стен|0.72251844', 'полка|0.71303403', 'стена|0.6903317', 'потолок|0.679096', 'надпись|0.67109966', 'картина|0.6656455', 'рамка|0.6656127', 'прочий|0.6655612', 'стеклянный|0.66503924', 'предмет|0.6590442', 'фотография|0.658981', 'стекло|0.6575428', 'золотой|0.6565028', 'мебель|0.65556', 'элемент|0.65477586', 'зеркало|0.65243477', 'старое|0.6515311', 'светильник|0.65065145', 'лампа|0.64893603', 'кирпичный|0.6437127', 'дерево|0.6432328', 'висеть|0.6431638', 'деталь|0.64282274', 'старинный|0.6425745', 'серый|0.63740516', 'внутренний|0.6371552', 'плитка|0.63454735', 'люстра|0.6306443', 'видный|0.63038343', 'смотреться|0.627545', 'панель|0.62575203', 'журнал|0.62553954', 'плазменный|0.62484694', 'картинка|0.6209109', 'синий|0.62062716', 'декор|0.6194484', 'современный|0.6188632', 'доска|0.6178087', 'черно|0.61713636', 'кирпич|0.6118208', 'крыша|0.6109383', 'здание|0.6091994', 'гамма|0.60854685', 'убранство|0.6067697', 'потолочь|0.60612214', 'газета|0.6058599', 'деревянный|0.6046538', 'модерн|0.60448533', 'подоконник|0.6013306', 'ступенька|0.5999234', 'буфет|0.59979224', 'шкаф|0.59884834', 'кладка|0.59636605', 'искусственный|0.59611416', 'туалетный|0.59584486', 'уборный|0.59519064', 'цветовой|0.5935854', 'коричневый|0.5934912', 'пол|0.59341115', 'пространство|0.5916376', 'полый|0.59069604', 'подсветка|0.58857036', 'известный|0.5882553', 'стиль|0.588198', 'ля|0.58614945', 'обои|0.58582324', 'дизайнерский|0.58579993', 'бумага|0.58339405', 'клетка|0.58253694', 'угол|0.58198166', 'штора|0.58131945', 'свет|0.57976806', 'абажур|0.57729626', 'кровать|0.5767653', 'тяжёлый|0.57639474', 'птичка|0.57313937', 'белоснежный|0.5729245', 'советский|0.57148147', 'вдоль|0.5709728', 'плазма|0.5704513', 'занавеска|0.57035017', 'обилие|0.57028604', 'открываться|0.56989443', 'тон|0.5688774', 'винный|0.56807804', 'дизайнер|0.5677141', 'белые|0.5674859', 'ткань|0.56639785', 'полочка|0.56606895', 'стеллаж|0.56427103', 'логотип|0.5634644', 'дух|0.5634017', 'витрина|0.56249285', 'коврик|0.561479', 'колонна|0.56146425', 'подложка|0.56060076', 'высоченный|0.560038', 'массивный|0.5593471', 'среди|0.5587249', 'торчать|0.5578046']\n",
            "Aspect 13:\n",
            "['шумно|0.77344835', 'дым|0.76819795', 'дымно|0.76560795', 'тесно|0.75228333', 'душный|0.7513026', 'накурить|0.74356186', 'вентиляция|0.7329614', 'диван|0.7269833', 'прохладно|0.7215452', 'диванчик|0.71542346', 'неуютный|0.7107404', 'сидеть|0.70826316', 'мешать|0.7065998', 'курить|0.7063209', 'кабинка|0.7010422', 'вытяжка|0.7002804', 'дышать|0.6829698', 'друг_друг|0.6809647', 'комфортно|0.67328036', 'вокруг|0.6705565', 'зона|0.66976947', 'народ|0.6696594', 'слышный|0.6684802', 'беседка|0.66699183', 'помещение|0.66326517', 'удобно|0.655095', 'танцполый|0.65397817', 'прокурить|0.65295076', 'сосед|0.65238726', 'кресло|0.6484114', 'зала|0.64212394', 'жарко|0.63541657', 'дуть|0.63465875', 'кондиционер|0.6334594', 'аквариум|0.6328009', 'просторно|0.632054', 'коромысло|0.6309236', 'сигаретный|0.6260786', 'подушечка|0.62106013', 'плед|0.6208812', 'уединённость|0.6191404', 'комната|0.61881447', 'стул|0.6182794', 'второе_этаж|0.6175692', 'табачный|0.61698824', 'близко|0.6167228', 'парочка|0.6136433', 'дальний|0.6123067', 'тихо|0.61134225', 'веранда|0.61076635', 'комнатка|0.6106911', 'курящий|0.6091261', 'терасс|0.6090611', 'неудобно|0.6082274', 'детский_комната|0.6037197', 'экран|0.60347706', 'барный_стойка|0.60237455', 'светло|0.6012507', 'телевизор|0.6006384', 'туалет|0.5997981', 'некурящий|0.5987936', 'пропахнуть|0.59870595', 'тв|0.59707475', 'жарковатый|0.59688014', 'кондей|0.5963708', 'спокойно|0.5948125', 'шум|0.5946715', 'неудобный|0.59336746', 'тесновато|0.5929047', 'высоченный|0.59185517', 'зальчик|0.5914924', 'наверху|0.5913671', 'воздух|0.5898974', 'тесноватый|0.58977544', 'деление|0.5888478', 'стульчик|0.5852137', 'дымить|0.5842397', 'курильщик|0.5835824', 'зал|0.58148956', 'подушка|0.5809307', 'разделение|0.5795528', 'закутка|0.579529', 'пространство|0.5788178', 'развалиться|0.5785398', 'камин|0.57641345', 'устроиться|0.57635033', 'танцевать|0.5758048', 'свет|0.5727763', 'уединение|0.572314', 'прикольный|0.5707781', 'орать|0.5705855', 'интимный|0.5700531', 'курение|0.56793964', 'сцена|0.5676863', 'внизу|0.56627315', 'расположиться|0.5654359', 'игрушка|0.5634177', 'балкон|0.5596281', 'толпа|0.55875736', 'полумрак|0.5582365']\n",
            "2019-12-24 03:43:40,593 INFO Epoch 5, train: 5s\n",
            "2019-12-24 03:43:40,593 INFO Total loss: 3.7834, max_margin_loss: 3.6747, ortho_reg: 0.1086\n",
            "100% 594/594 [00:05<00:00, 101.55it/s]\n",
            "Aspect 0:\n",
            "['заглянуть|0.7437172', 'перекусить|0.7287209', 'захотеться|0.72809684', 'поехать|0.7210262', 'зайти|0.71629953', 'сходить|0.7068763', 'случайно|0.7041305', 'питер|0.70054543', 'заехать|0.692568', 'жить|0.6924901', 'пообедать|0.6869178', 'поужинать|0.68247044', 'ехать|0.66998506', 'недалеко|0.669866', 'недавно|0.6634643', 'покушать|0.66295063', 'ездить|0.6610091', 'московский|0.657784', 'заезжать|0.65494084', 'однажды|0.65454435', 'заходить|0.6535419', 'забежать|0.64968956', 'любим|0.6439798', 'поболтать|0.6436871', 'подружка|0.64225125', 'давно|0.64177185', 'сюда|0.63688445', 'петроградка|0.6329882', 'это_место|0.6303161', 'район|0.6290873', 'частенько|0.6286175', 'попить|0.6228826', 'заскочить|0.62147176', 'целенаправленно|0.60944104', 'это_кафе|0.6044415', 'заслать|0.59804744', 'любимый|0.596636', 'специально|0.59376264', 'добраться|0.59205604', 'дом|0.5889255', 'проезжать|0.5865115', 'посетить|0.5837332', 'ближний|0.5821687', 'сегодня|0.5819992', 'вспомнить|0.58131754', 'открыться|0.5812337', 'вчера|0.5794318', 'забрести|0.57853764', 'захаживать|0.5784888', 'прогулка|0.57845384', 'москва|0.577329', 'ужинать|0.576304', 'невский|0.5732839', 'попасть|0.57183194', 'приезжать|0.5694972', 'посидеть|0.56915164', 'вечером|0.56546545', 'хороший_место|0.5648086', 'васильевский|0.5611524', 'местечко|0.56051046', 'позавтракать|0.55882895', 'занести|0.5560036', 'друг|0.5559298', 'приморский|0.5554198', 'знакомый|0.5546464', 'поход|0.5537528', 'ходить_туда|0.5537467', 'обедать|0.55176413', 'нибыть|0.55046356', 'отправиться|0.5483208', 'васька|0.54427576', 'вновь|0.5428093', 'остров|0.5418917', 'побывать|0.5417212', 'забегать|0.5370627', 'летом|0.53697735', 'возвращаться|0.53462404', 'привести|0.5309596', 'отдохнуть|0.53095245', 'приятель|0.5302921', 'заглядывать|0.52902615', 'разочароваться|0.52781093', 'выходной|0.5277092', 'поесть|0.5274931', 'пивко|0.52713907', 'решить|0.52558655', 'рада|0.5213524', 'проверить|0.5196933', 'ресторанчик|0.5188422', 'захотеть|0.51675814', 'наведаться|0.50960845', 'встретиться|0.50863177', 'город|0.5083914', 'днём|0.506894', 'лиговка|0.50546', 'неподалёку|0.50516677', 'жан|0.5046363', 'наткнуться|0.50322455', 'перекус|0.5009735', 'посещать|0.5004139']\n",
            "Aspect 1:\n",
            "['заманчивый|0.7210313', 'строчка|0.70697725', 'касательно|0.6842663', 'соблазниться|0.67253315', 'ознакомиться|0.67246604', 'интригующий|0.668288', 'страничка|0.6651959', 'купиться|0.66476095', 'банкетик|0.66206825', 'изучение|0.66110927', 'дегустационный|0.65982735', 'обрадовать|0.6580571', 'сезонный|0.6546384', 'аперитив|0.65170807', 'чтение|0.6510264', 'перечень|0.6485726', 'омар|0.64794374', 'старт|0.6422426', 'раздумье|0.63978934', 'остановить|0.6359376', 'значиться|0.6328765', 'именно_это_место|0.63101643', 'продегустировать|0.63020563', 'предложение|0.6297826', 'вк|0.62843156', 'действительность|0.6258345', 'кавказка|0.6232978', 'первоначально|0.6227269', 'калория|0.6222118', 'замешательство|0.61975855', 'стопа|0.6194994', 'разбежаться|0.6192002', 'красочный|0.61848927', 'разгуляться|0.6181753', 'вышеуказанный|0.6171416', 'несказанно|0.6167667', 'подробный|0.61622584', 'непривычный|0.61475706', 'отметиться|0.6137636', 'именно_это_заведение|0.6131947', 'ссылка|0.6126833', 'велик|0.61100894', 'австралийский|0.60798335', 'св|0.60793126', 'инуть|0.60753155', 'вариант|0.6070162', 'разбегаться|0.6060493', 'наиболее|0.6016661', 'версия|0.6006145', 'розлив|0.5991867', 'принтер|0.59897137', 'перевод|0.59880066', 'весь_очень_очень|0.5978949', 'перечислить|0.59737444', 'полистать|0.5968019', 'презентация|0.59669816', 'вьетнамский|0.5959901', 'недолгий|0.59570897', 'аналогично|0.595147', 'осторожный|0.59260476', 'недурственный|0.5925681', 'отозваться|0.59036803', 'прогадать|0.5891491', 'расширить|0.5882264', 'ограниченный|0.5874455', 'каберне|0.58590573', 'предзаказ|0.58546174', 'африканский|0.5850441', 'оговорка|0.5842589', 'обозначить|0.58404565', 'смутно|0.5837146', 'изучить|0.583084', 'велкома|0.5830058', 'кесадилья|0.5829326', 'правильность|0.5822537', 'фигурировать|0.58224815', 'тортовый|0.581225', 'португальский|0.5809245', 'озвучить|0.5799222', 'лига|0.579713', 'просмотреть|0.57937324', 'успокоиться|0.57934433', 'предусмотрительно|0.5791366', 'рекламировать|0.5787493', 'точный|0.57767546', 'комбинация|0.57701594', 'угадать|0.57686794', 'строка|0.57631534', 'литературный|0.57545745', 'сообразить|0.57457185', 'ступор|0.57370204', 'шато|0.5733839', 'заказной|0.57321227', 'ла|0.5717571', 'тщательный|0.5713892', 'америка|0.5713364', 'биза|0.5705545', 'наименование|0.57001543', 'актуальный|0.56985646', 'палкинъ|0.56934464']\n",
            "Aspect 2:\n",
            "['говядина|0.7224455', 'гриль|0.7006351', 'овощ|0.6927975', 'рыба|0.67582387', 'стейк|0.67575866', 'карпаччо|0.6720136', 'курица|0.66495025', 'рибай|0.66459185', 'лосось|0.6633147', 'креветка|0.6607966', 'цыплёнок|0.65860564', 'баклажан|0.64761174', 'филе|0.6452634', 'свинина|0.62420726', 'котлета|0.6154688', 'морепродукт|0.61421', 'стейка|0.6113079', 'салат_цезарь|0.6109941', 'картофель|0.6090789', 'свиной|0.60316426', 'цезарь|0.60263014', 'куриный|0.6017133', 'плов|0.60087323', 'барашек|0.59903586', 'сацивить|0.5988935', 'баранина|0.5988468', 'прожарка|0.5968774', 'судак|0.59489894', 'краб|0.59489006', 'дорад|0.59452534', 'форель|0.5931966', 'ягнёнок|0.5924511', 'кальмар|0.5909438', 'медальон|0.5897481', 'миньон|0.5895138', 'оливья|0.5894414', 'шашлык|0.58650523', 'вок|0.5844298', 'рис|0.5832857', 'дорада|0.58322346', 'тунец|0.5826308', 'гарнир|0.582094', 'рыбка|0.58034855', 'свинин|0.57681954', 'мясо|0.57641727', 'пекински|0.57607317', 'кебаб|0.57296133', 'утка|0.57223344', 'телятина|0.57205045', 'грудка|0.57187593', 'гребешок|0.5686407', 'мидия|0.56852984', 'мраморный|0.5684334', 'сибас|0.5660002', 'овощной|0.56519324', 'греческий|0.56027937', 'жареный|0.5598117', 'мангал|0.5590572', 'кисло_сладкое_соус|0.555967', 'запечёный|0.5553036', 'острый|0.55188143', 'котлетка|0.55044556', 'копчёный|0.550019', 'запечь|0.5494688', 'ростбиф|0.5489539', 'колбаска|0.5488515', 'это_блюдо|0.54857135', 'мясной|0.5484456', 'бургера|0.54662085', 'сёмга|0.54541844', 'тара_тара|0.54541373', 'осьминог|0.54359484', 'солянка|0.54291975', 'долма|0.5426785', 'крылышко|0.5386797', 'утиный|0.536194', 'костя|0.53600943', 'удон|0.5356436', 'шашлычок|0.53326464', 'королевский|0.533008', 'кура|0.532881', 'каре|0.5326767', 'драник|0.53207487', 'сочный|0.5318356', 'помидор|0.53172725', 'ризотто|0.5298709', 'печень|0.5293906', 'степень|0.5288801', 'жарить|0.5277303', 'лапша|0.52629966', 'медиум|0.52534616', 'соус|0.5251348', 'авокадо|0.5250424', 'говяжий|0.52481794', 'салатик|0.5244682', 'люля|0.519872', 'бараний|0.5189858', 'палтус|0.51864314', 'картошка|0.5183162', 'йорк|0.51826334']\n",
            "Aspect 3:\n",
            "['господин|0.7825161', 'ресторатор|0.75577456', 'ум|0.7357669', 'простить|0.7313901', 'существовать|0.73103213', 'позор|0.7295537', 'критика|0.72698003', 'личный|0.7183913', 'владелец|0.7135603', 'уважаемый|0.70826054', 'понятие|0.7050583', 'право|0.7025377', 'речь|0.69711185', 'зарплата|0.6955936', 'негатив|0.69215465', 'гнать|0.68558156', 'автор|0.6823019', 'пусть|0.67957056', 'постараться|0.6789376', 'быдло|0.6782171', 'практика|0.67687404', 'хозяин|0.674991', 'совесть|0.6738689', 'знак|0.6731314', 'злой|0.6720147', 'борис|0.6719774', 'высказывание|0.67111826', 'управленец|0.6705924', 'скрыть|0.6636708', 'сфера|0.6634001', 'хамство|0.6617769', 'репутация|0.66050756', 'представитель|0.6586599', 'иначе|0.6574232', 'стороной|0.6566732', 'задуматься|0.65421385', 'обходить|0.6540536', 'наплевать|0.6527812', 'жизнь|0.6514919', 'уволить|0.6514149', 'менеджмент|0.6498796', 'учиться|0.6496851', 'уверенный|0.6483489', 'бог|0.6456659', 'допускать|0.6440809', 'неужели|0.6431818', 'опыт|0.6427512', 'история|0.6410554', 'тенденция|0.63952994', 'потребитель|0.6388129', 'плевать|0.63856936', 'бред|0.63792527', 'предприятие|0.637612', 'ругать|0.63667023', 'непрофессиональный|0.63615006', 'уважать|0.63571084', 'значение|0.6328412', 'общепит|0.63180196', 'человек_который|0.6313293', 'твориться|0.6303903', 'licorice|0.6294367', 'откровенный|0.62918395', 'удалять|0.62914705', 'развитие|0.6283531', 'вечно|0.62672174', 'потерять|0.6263019', 'стремиться|0.62410045', 'чувак|0.6235775', 'воровать|0.62320966', 'вложить|0.62136924', 'здравый|0.6205312', 'верить|0.61900055', 'нарушение|0.6189826', 'бороться|0.6185744', 'разойтись|0.6178051', 'блог|0.6174662', 'тренд|0.6173744', 'привет|0.6164988', 'непрофессионализм|0.6149454', 'понимание|0.6140349', 'человеческий|0.6138123', 'иметь|0.6135926', 'довести|0.61245626', 'никак|0.612455', 'объективный|0.61244726', 'учить|0.61225426', 'звезда|0.61101484', 'обман|0.6106609', 'детище|0.6104897', 'оратор|0.61026746', 'предъявлять|0.609255', 'питание|0.6089333', 'мысль|0.6086697', 'обратный|0.6080768', 'клуб|0.6079288', 'культура|0.6073505', 'кабак|0.6072426', 'прощать|0.6071485', 'ада|0.60686004', 'называть|0.6059813']\n",
            "Aspect 4:\n",
            "['девочка|0.78797096', 'улыбчивый|0.7589752', 'улыбка|0.73924506', 'улыбаться|0.7379136', 'молодая_человек|0.73371917', 'мальчик|0.72933936', 'официантка|0.7126262', 'официант|0.69755274', 'девушка|0.6953278', 'обслуживать|0.692229', 'любезный|0.68517494', 'расторопный|0.68083024', 'учтивый|0.6773588', 'доброжелательно|0.67461747', 'вежливый|0.67080903', 'парень|0.66214347', 'мила|0.6597407', 'интересоваться|0.6558516', 'доброжелательный|0.6475911', 'юноша|0.64130116', 'офицант|0.6355868', 'чётко|0.6271322', 'стараться|0.6221382', 'появляться|0.6207681', 'обходительный|0.61117256', 'забывать|0.6070755', 'вовремя|0.60556936', 'звать|0.6027826', 'персонал|0.60101104', 'оперативно|0.59971833', 'предупредительный|0.5987098', 'внимательно|0.5982802', 'услужливый|0.59747946', 'обслуживающий|0.592767', 'старательный|0.5820472', 'провожать|0.57991344', 'шустрый|0.5769638', 'навязчивый|0.5767305', 'успевать|0.57667935', 'барышня|0.56715196', 'менять|0.56628', 'пепельница|0.5629306', 'лицо|0.5626876', 'обслужить|0.5625641', 'приветливо|0.56194127', 'обслуживающий_персонал|0.5617835', 'незаметно|0.5617771', 'приветливый|0.5592913', 'общительный|0.55752176', 'молодая|0.5541348', 'задержка|0.5509814', 'внимательный|0.5493082', 'бармен|0.54661864', 'смена|0.5452761', 'ненавязчивый|0.5448404', 'весь_время|0.54454136', 'прощаться|0.53897464', 'милый|0.5387136', 'дружелюбно|0.53702796', 'наш_столик|0.53624916', 'быстрый|0.5346613', 'молниеносно|0.5342715', 'профессионально|0.53348434', 'заботливый|0.5312537', 'молодец|0.5308505', 'выполнять|0.52955973', 'корректно|0.52820295', 'общаться|0.5278419', 'очень_милый|0.52763176', 'голос|0.5265138', 'очень_быстро|0.5247501', 'незаметный|0.5239045', 'постоянно|0.5235281', 'молоденький|0.52337706', 'следить|0.52314013', 'администратор|0.5222217', 'здороваться|0.5203326', 'тактично|0.5188178', 'уносить|0.5157341', 'назойливый|0.5150676', 'ребята|0.51410776', 'разговаривать|0.51400375', 'медленно|0.5138217', 'реагировать|0.50440174', 'отвечать|0.50280833', 'компетентный|0.50198466', 'хостёс|0.501154', 'дружелюбный|0.49197483', 'своевременно|0.49095815', 'быстро|0.4902735', 'хостесса|0.4846763', 'шутить|0.4824618', 'внешность|0.48231035', 'подходить|0.48082918', 'убираться|0.4799497', 'молодая_человек_который|0.47989365', 'обаятельный|0.47947413', 'неопытный|0.4777523', 'убирать|0.47771156', 'мужчина|0.47184747']\n",
            "Aspect 5:\n",
            "['изыск|0.7466687', 'касаться|0.73404264', 'весь_остальной|0.7195686', 'выше|0.7071413', 'ценник|0.70176613', 'уровень|0.6946869', 'посредственный|0.6940212', 'завысить|0.6914394', 'соответствовать|0.68870306', 'не_мочь_сказать|0.67468643', 'многий|0.66793513', 'сравнение|0.66380626', 'японский|0.66301465', 'учитывать|0.6609341', 'средненький|0.6604084', 'недостаток|0.65517664', 'качество|0.6486051', 'отличаться|0.64608836', 'прежний|0.645569', 'цена_качество|0.6416912', 'достойный|0.6406204', 'принцип|0.6374211', 'приемлемый|0.63433385', 'отличие|0.63309264', 'простой|0.63138175', 'нарекание|0.6268876', 'действительно|0.6266917', 'ничто_особенный|0.6264635', 'исключение|0.6264367', 'разнообразие|0.62550807', 'крайний_мера|0.62458855', 'оценивать|0.6229019', 'плохой|0.6209328', 'остальной|0.6163601', 'оставлять_желать_хороший|0.614145', 'европейский|0.61292994', 'намного|0.6094248', 'вполне|0.6074165', 'радовать|0.6053481', 'качественный|0.6009878', 'китайский|0.600747', 'среднее|0.5987109', 'добротный|0.5984195', 'соотношение_цена_качество|0.5978725', 'главный|0.59686196', 'особый|0.5965856', 'относительно|0.594829', 'скромный|0.5908367', 'ниже|0.5901784', 'придраться|0.58977246', 'менее|0.5893941', 'цена|0.5887983', 'пожалуй|0.5872471', 'высокий|0.5854229', 'претензия|0.5850358', 'сносный|0.58392894', 'крайне|0.5815569', 'неплохой|0.5744189', 'обычный|0.5725889', 'гораздо|0.57164115', 'удивлять|0.57133335', 'очень_хороший|0.57133156', 'особо|0.5710274', 'демократичный|0.5691606', 'хороший|0.5670274', 'сетевой|0.56529623', 'фаста|0.565091', 'средний|0.56407315', 'достаточно|0.5623317', 'оценка|0.561453', 'бизнес_ланча|0.560059', 'однако|0.5599192', 'очень_большой|0.5590228', 'кухня|0.55822873', 'умеренный|0.55714816', 'недорогой|0.55671823', 'категория|0.55441165', 'адекватный|0.55378854', 'особенный|0.5514827', 'ценовый|0.5514765', 'неплохо|0.5512131', 'целое|0.54997146', 'дороговатый|0.5497741', 'выдающийся|0.54541624', 'мочь_сказать|0.5443473', 'план|0.54303384', 'разочаровать|0.5413724', 'назвать|0.5401807', 'стандартный|0.5400615', 'дорого|0.5368838', 'однозначно|0.53576577', 'средне|0.5357572', 'изысканный|0.5353926', 'ожидать|0.53439546', 'хромать|0.53392696', 'большинство|0.5336566', 'оценить|0.53218365', 'неоправданно|0.5304532', 'еда|0.5302243', 'изюминка|0.5288136']\n",
            "Aspect 6:\n",
            "['лежалый|0.6505578', 'штука|0.5912634', 'подсушить|0.58644164', 'чёрствый|0.5852776', 'размазать|0.5790457', 'четыре|0.57848597', 'упаковка|0.57750404', 'гора|0.57717204', 'ржаной|0.57436866', 'диаметр|0.57417625', 'заветренный|0.57377625', 'уложить|0.5711855', 'мм|0.570202', 'булка|0.5686952', 'пластина|0.5682478', 'лента|0.56678724', 'жалкий|0.56613934', 'коробка|0.5638288', 'целый|0.5629903', 'икра|0.5629003', 'холодильник|0.5623496', 'оливковый|0.5617576', 'разложить|0.5604019', 'стопочка|0.5600659', 'прилипнуть|0.5589845', 'нарезка|0.5587386', 'залить|0.5580875', 'долька|0.55705214', 'веточка|0.5561585', 'печь|0.5546755', 'малюсенький|0.55438805', 'засохнуть|0.5539222', 'горка|0.55350584', 'килограмм|0.55167496', 'багет|0.55164975', 'сухарь|0.5510328', 'хамон|0.55088234', 'блюдечко|0.5497841', 'четвертинка|0.54900193', 'чиабатта|0.5488568', 'половинка|0.54855376', 'пополам|0.5479501', 'бутерброд|0.5470084', 'булочка|0.5465973', 'остаток|0.5462857', 'край|0.5459975', 'тост|0.54593754', 'сало|0.5444858', 'целиком|0.54442513', 'хлеб|0.544397', 'выложить|0.54438096', 'слой|0.5438567', 'куча|0.54302615', 'ручной|0.54286146', 'порезать|0.5427777', 'капля|0.54230285', 'сырный|0.54194075', 'тарелочка|0.54122794', 'кожура|0.5411832', 'крохотный|0.53993785', 'вуаля|0.5397878', 'ломоть|0.53907496', 'закусывать|0.5382479', 'хк|0.5379993', 'треугольник|0.5379046', 'помидорка|0.53737915', 'нарезать|0.5365249', 'чесночный|0.5348737', 'картофелина|0.53470486', 'включая|0.53455627', 'насыпать|0.5338323', 'толстой|0.5328733', 'дно|0.5322663', 'плошка|0.53214484', 'салями|0.53181165', 'комок|0.5312767', 'собирать|0.53023165', 'миллиметр|0.53022647', 'полить|0.5295786', 'ломтик|0.52922463', 'бальзамико|0.5289821', 'маслина|0.5285153', 'хлебушек|0.52790123', 'кольцо|0.5271052', 'толщина|0.526801', 'разрезать|0.5267664', 'чеснок|0.5262521', 'виноград|0.52609503', 'оливка|0.5260256', 'гигантский|0.5257112', 'дора|0.52540636', 'ледяной|0.52534837', 'сахарный|0.5251377', 'варена|0.5240905', 'хлопья|0.5230399', 'глиняный|0.52301824', 'лежать|0.5227183', 'плавать|0.52237', 'утащить|0.5221857', 'плесень|0.52204454']\n",
            "Aspect 7:\n",
            "['предупредить|0.7176815', 'прийтись|0.7155417', 'уточнить|0.7047863', 'поинтересоваться|0.6989155', 'выясниться|0.6985581', 'попытка|0.6985543', 'сообщить|0.6885024', 'просить|0.6869056', 'унести|0.6752699', 'предупреждать|0.67190474', 'отказаться|0.6700139', 'уточнять|0.66790605', 'естественно|0.66736436', 'успеть|0.66545427', 'вынести|0.662217', 'мол|0.66038895', 'забрать|0.6595429', 'попросить|0.65947133', 'пропасть|0.65878904', 'курс|0.65866673', 'дождаться|0.6583276', 'полчаса|0.6571331', 'обратно|0.6533173', 'ответить|0.6528019', 'убрать|0.6503675', 'сделать_заказ|0.6501769', 'отказать|0.6482423', 'ладный|0.6464934', 'подождать|0.6455714', 'извиниться|0.6427901', 'подумать|0.6415045', 'спросить|0.640496', 'приход|0.63740814', 'объяснить|0.6350713', 'исчезнуть|0.6349187', 'выяснить|0.6321843', 'сначала|0.63108647', 'забыть|0.62972957', 'ответ|0.6288787', 'последовать|0.62747705', 'записать|0.62729853', 'поменять|0.62406576', 'пришлый|0.62337464', 'попытаться|0.62305653', 'пообещать|0.6229618', 'заставить|0.62150615', 'отказываться|0.6209935', '15_минута|0.61430156', 'перепутать|0.6037376', 'затем|0.6029223', 'пытаться|0.60234815', 'позвать|0.5977105', 'предложить|0.5967734', 'вернуть|0.593624', 'спрашивать|0.5932751', '10_минута|0.5930927', 'принять|0.59034216', 'вопрос|0.5881283', 'готовый|0.58750355', 'указать|0.58594525', 'освободиться|0.5857011', 'подойти|0.58254826', 'убежать|0.58103716', 'телефон|0.5808927', 'её|0.57943994', 'извиняться|0.57921684', 'поймать|0.57835174', 'встать|0.57785976', 'сообщать|0.57332176', 'нея|0.57069075', 'никто_не|0.57023686', 'разобраться|0.56841236', 'расчёт|0.5672973', 'просьба|0.56725013', 'закончиться|0.56686217', 'принять_заказ|0.5657201', 'уйти|0.5656599', 'выяснять|0.5628152', 'молча|0.56279206', 'забирать|0.5615809', 'извинение|0.56147194', 'положить|0.56146026', 'обещать|0.5611694', 'согласиться|0.55998355', '20_минута|0.5591172', 'самостоятельно|0.55898774', 'не_смочь|0.5585566', 'приняться|0.55728066', 'результат|0.55640084', 'неприятно|0.555996', 'пересадить|0.5542493', 'обратиться|0.55384374', 'удивиться|0.5536274', 'пожалуйста|0.55230796', 'виноватый|0.55063605', 'заменить|0.54932696', 'потребовать|0.5466285', 'почему|0.54622126', 'оказываться|0.5460284', 'бронь|0.545915']\n",
            "Aspect 8:\n",
            "['шоколад|0.755895', 'клубника|0.7228235', 'варение|0.7206617', 'крем|0.71346664', 'малиновый|0.7129644', 'кекс|0.7120862', 'сливка|0.7070927', 'мусса|0.6996492', 'шоколадный|0.6963912', 'яблочный|0.6928997', 'сорбета|0.69019216', 'сладкий|0.68839675', 'сладость|0.6880445', 'клубничный|0.67866814', 'печение|0.6759178', 'карамельный|0.67514646', 'пирог|0.6745968', 'мятный|0.6733594', 'малин|0.671076', 'миндальный|0.6709696', 'вишня|0.6681045', 'молоко|0.66803557', 'ванильный|0.66778475', 'эклер|0.6645918', 'карамель|0.6628445', 'корица|0.66235805', 'морковный|0.6613413', 'манговый|0.6612424', 'вафельный|0.6572426', 'чизкейк|0.6563682', 'ароматный|0.6515372', 'лимонный|0.6512259', 'имбирный|0.6512238', 'ягода|0.65113246', 'мятый|0.65046203', 'сладко|0.64907265', 'мороженный|0.64801824', 'желе|0.6477059', 'суфле|0.6447327', 'апельсиновый|0.6420993', 'наполеон|0.6405009', 'панакот|0.64031434', 'грушевый|0.63891447', 'вафля|0.6376412', 'ваниль|0.6368183', 'черничный|0.636178', 'бисквит|0.6358694', 'творожный|0.6342656', 'яблоко|0.63401985', 'грецкий|0.62991893', 'взбить|0.62964153', 'груша|0.6286365', 'манго|0.6281477', 'пенка|0.62783456', 'брюла|0.6270092', 'сладкое|0.6257812', 'мороженое|0.62556547', 'корочка|0.6246386', 'сорбетом|0.62237966', 'медовик|0.622309', 'густой|0.6222426', 'брауни|0.622114', 'кокосовый|0.62178826', 'меренга|0.6217366', 'капуччиный|0.61839426', 'мёд|0.6172081', 'пирожное|0.61689484', 'горячий|0.61498046', 'трюфель|0.61426604', 'орех|0.61338836', 'шарик|0.6130155', 'трубочка|0.6125264', 'сахарный|0.6123706', 'штрудель|0.61230123', 'чиз|0.6103877', 'песочный|0.6096215', 'сироп|0.6095536', 'фисташковый|0.6090046', 'чабрец|0.6076571', 'запивать|0.60618955', 'тархун|0.60615444', 'воздушный|0.6060731', 'марципановый|0.6050568', 'джема|0.6040635', 'кейк|0.6039616', 'пропитать|0.60318327', 'приторный|0.6029756', 'маскарпон|0.6025101', 'послевкусие|0.60151446', 'брусничный|0.601212', 'печенюшка|0.59851664', 'банан|0.5945146', 'апельсин|0.5940836', 'маракуйя|0.59368736', 'клюква|0.593212', 'зелёный|0.5922035', 'ягодный|0.59172237', 'сгущёнка|0.591024', 'малина|0.59094167', 'орешек|0.5907397']\n",
            "Aspect 9:\n",
            "['отдельный_спасибо|0.77849245', 'праздник|0.75243926', 'огромный_спасибо|0.7330816', 'большой_спасибо|0.72886', 'весь_гость|0.70422244', 'благодарность|0.69907665', 'праздничный|0.6895058', 'тамада|0.684633', 'организация|0.6681329', 'спасибо|0.6551666', 'команда|0.65189075', 'весь_наш|0.6508939', 'незабываемый|0.6503092', 'ведущий|0.6488281', 'коллектив|0.6442263', 'организовать|0.6433877', 'шоу|0.64165616', 'поблагодарить|0.6237659', 'кондитер|0.6163773', 'профессионал|0.6163759', 'благодаря|0.61552584', 'чуткий|0.61522317', 'профессионализм|0.61399484', 'майкл|0.6128676', 'прекрасно|0.6110647', 'исполнить|0.61071444', 'невеста|0.60619724', 'подарок|0.60451365', 'создать|0.60340714', 'марин|0.60334116', 'торжество|0.6026224', 'свадебный|0.59964484', 'ольга|0.5992788', 'подарить|0.5978202', 'респект|0.59761', 'весь_гость_остаться_довольный|0.59403473', 'подготовка|0.59310263', 'благодарный|0.5903252', 'забота|0.58914846', 'уважение|0.58742774', 'торт|0.58738935', 'пожелание|0.5820306', 'елена|0.58178985', 'фейерверк|0.5786639', 'выражать|0.57860476', 'поклон|0.57787967', 'совет|0.5775155', 'сергей|0.57745826', 'фуршет|0.57595897', 'молодожён|0.5756376', 'евгений|0.57562757', 'шеф_повар|0.5752265', 'выразить|0.57436955', 'конкурс|0.57159984', 'программа|0.5687114', 'андрей|0.5681261', 'самый_главный|0.5673495', 'великолепно|0.56695753', 'процветание|0.5659342', 'очень_довольный|0.5650524', 'наш_гость_остаться_очень_довольный|0.56432223', 'каравай|0.5642204', 'алексей|0.56415105', 'благодарить|0.5629194', 'помочь|0.5565483', 'великолепный|0.5559871', 'гость|0.55577564', 'владимир|0.55553806', 'проведение|0.55422235', 'весь_наш_пожелание|0.54988265', 'душа|0.54652876', 'высокий_уровень|0.5460228', 'ирина|0.5447129', 'грамотный|0.5435405', 'также|0.54248685', 'очень_приятно|0.5413841', 'поздравление|0.5409858', 'мероприятие|0.53942597', 'успех|0.5386411', 'чудесный|0.53625', 'марина|0.5351013', 'виктор|0.53261894', 'дмитрия|0.5300284', 'наталья|0.52940464', 'александр|0.52936345', 'татьяна|0.5282862', 'остаться_довольный|0.52781284', 'внимательность|0.52645344', 'гостеприимство|0.5256834', 'удача|0.5243281', 'отдельный|0.5242175', 'танец|0.5240493', 'вячеслав|0.5225267', 'прекрасный|0.5224003', 'помощь|0.5219469', 'потрясающе|0.5193508', 'организатор|0.5192706', 'порекомендовать|0.5172256', 'анастасия|0.5155355', 'артист|0.51452935']\n",
            "Aspect 10:\n",
            "['висок|0.76009065', 'литр|0.7344234', 'водка|0.7215282', 'пинта|0.6948576', 'пиво|0.6727812', 'разливный|0.655705', 'бутылочный|0.64546627', 'кола|0.64318085', 'кружка|0.6412252', 'ньюкасл|0.6405636', 'безалкогольный|0.62238', 'коньяк|0.617423', 'сорт|0.6166364', 'крепкий|0.61173975', 'крушовица|0.6075537', 'бутылочка|0.59072274', 'алкогольный|0.5895704', 'карта|0.5836918', 'мл|0.57898486', 'коктейль|0.57657814', 'бесплатный|0.5727893', 'гиннес|0.5716226', 'мохитый|0.5683373', 'напиток|0.56453145', 'бутылка|0.5616406', 'наливать|0.5596129', 'алкоголь|0.555434', 'графин|0.5509365', 'сок|0.5502939', 'бланша|0.5492046', 'пить|0.54746544', 'мартини|0.5455722', 'бокал|0.5431218', 'вод|0.54126155', 'стакан|0.53919005', 'нефильтрованный|0.531685', 'харп|0.5266917', 'коктейльный|0.5239799', 'текила|0.5191744', 'лонг|0.5172124', 'сидр|0.49902228', 'шампанский|0.49750763', 'спиртное|0.4964512', 'вода|0.49556696', 'морс|0.4934621', 'бесплатно|0.49300373', 'лицензия|0.49050516', 'налить|0.48626328', 'гр|0.4861133', 'выпить|0.48383647', 'акция|0.4800828', 'бл|0.47882777', 'распитие|0.4781767', 'вельвет|0.4775316', 'эспрессо|0.47417125', 'коктель|0.47394055', 'чек|0.47294122', 'василеостровский|0.47264934', 'продавать|0.4726246', 'кок|0.47196284', 'эдельвейс|0.4714009', 'рюмка|0.46976268', 'руль|0.46169084', 'кальян|0.46018696', 'игристый|0.458151', 'айленд|0.4572187', 'гинесса|0.45716715', '100р|0.4568913', 'покупать|0.4561533', 'разбавить|0.45411003', 'пивная|0.45233563', 'тысяча|0.4499426', 'грамм|0.44986054', 'лёд|0.4495391', 'пивко|0.44827002', 'скидка|0.44625652', 'рубль|0.44539887', 'килкенни|0.44456637', 'стоимость|0.44360006', 'хугарден|0.44195336', 'сангрия|0.44156688', 'литровый|0.44115478', 'свежевыжать|0.43898773', 'бар|0.4368793', 'рэ|0.43464422', 'эль|0.43328047', 'купить|0.43254596', 'бармен|0.4319532', 'квас|0.4303301', 'набор|0.43024275', 'пивоварня|0.42937928', 'америкать|0.42787844', 'махитый|0.4266621', 'обойтись|0.42569077', 'заплатить|0.42521173', 'евро|0.4240509', '200р|0.424023', '600р|0.41624966', 'наценка|0.41621438', 'фрешить|0.4153386']\n",
            "Aspect 11:\n",
            "['летие|0.79329526', 'июнь|0.7753947', 'февраль|0.7697768', 'июль|0.75519896', 'август|0.74954', 'декабрь|0.74791026', 'май|0.7466903', 'сентябрь|0.7464461', '2011г|0.74114186', 'март|0.73163766', 'январь|0.72981286', 'октябрь|0.7285601', 'праздновать|0.6990619', 'го|0.6983293', 'ноябрь|0.69194186', 'отмечать_день_рождение|0.6869453', 'корпоратить|0.68620944', 'отмечать|0.6829238', 'юбилей|0.67120415', 'др|0.6703094', 'апрель|0.6691885', 'справлять|0.65640295', 'дата|0.64951897', 'наш_свадьба|0.64821875', 'ти|0.6376536', 'день_рождение|0.63483113', 'бракосочетание|0.6233069', 'часы|0.6166589', 'год|0.61646056', 'выпускной|0.60273015', 'празднование|0.60150045', 'корпоративный|0.6001387', 'воскресение|0.5997045', 'отпраздновать|0.5944451', 'прошлый|0.5935868', 'неделя|0.5917621', 'состояться|0.59175974', 'дочь|0.5868264', 'новогодний|0.57975817', 'новый_год|0.57946146', 'годовщина|0.57643104', 'свадьба|0.5760571', 'корпоратив|0.57571244', 'свой_день_рождение|0.5687252', '2013г|0.5632755', 'праздновать_день_рождение|0.5610359', 'семья|0.55230826', 'суббота|0.55212045', 'сын|0.550287', 'ночь|0.54968256', 'дочка|0.544471', '2014г|0.53877187', 'месяц|0.5358866', '2010г|0.53210026', 'выездной|0.5302447', 'свадебный|0.52895766', 'девичник|0.52626425', 'нг|0.52370036', 'однокурсник|0.52247566', 'банкетный_зал|0.52113044', 'пр|0.5208195', 'вчера|0.51900285', 'торжество|0.5181773', 'минувший|0.5179125', 'четверг|0.5172122', 'втроём|0.516563', 'год_назад|0.51501614', 'приехать|0.5136937', 'галерный|0.51136374', 'вторник|0.5110686', 'чело|0.5107329', 'гулять|0.51034915', 'число|0.5093832', 'мероприятие|0.50920737', 'честь|0.506167', 'устроить|0.5052556', 'накануне|0.5044648', 'арендовать|0.5038357', 'вечеринка|0.5030932', 'супруга|0.5026549', 'утро|0.5019907', 'канун|0.4987322', 'век|0.49714613', 'рождение|0.4953852', 'родитель|0.49521464', 'бельканто|0.49319553', 'банкет|0.49240386', 'отмечаться|0.4877807', 'событие|0.4849027', 'планироваться|0.4848491', 'это_ресторан|0.4812185', 'регистрация|0.47986487', 'начаться|0.47711802', 'передохнуть|0.47402096', 'счастливый|0.4726968', 'проведение|0.47090715', 'переговоры|0.47086865', 'утром|0.47066185', 'назад|0.47032213', '2012г|0.47025257']\n",
            "Aspect 12:\n",
            "['стен|0.72634697', 'полка|0.7164651', 'стена|0.69338596', 'потолок|0.6834178', 'надпись|0.6738967', 'картина|0.66922534', 'рамка|0.6688099', 'прочий|0.6663579', 'стеклянный|0.6657698', 'предмет|0.6613615', 'мебель|0.6612668', 'стекло|0.66024816', 'элемент|0.65955144', 'золотой|0.65928435', 'фотография|0.6591182', 'зеркало|0.65620613', 'светильник|0.65488744', 'старое|0.6547122', 'лампа|0.6514149', 'кирпичный|0.64842194', 'дерево|0.6471416', 'висеть|0.6463326', 'старинный|0.6462705', 'деталь|0.64503044', 'внутренний|0.64301705', 'серый|0.63949394', 'плитка|0.6387207', 'люстра|0.63568354', 'видный|0.63539374', 'журнал|0.6318443', 'панель|0.6317051', 'плазменный|0.6309844', 'смотреться|0.62882787', 'современный|0.6248009', 'синий|0.62244064', 'картинка|0.62151563', 'декор|0.62080836', 'черно|0.620602', 'доска|0.61953557', 'крыша|0.61845845', 'кирпич|0.6164509', 'здание|0.61630774', 'убранство|0.61219907', 'потолочь|0.6117039', 'гамма|0.6110996', 'газета|0.60867226', 'модерн|0.6085087', 'деревянный|0.60589087', 'подоконник|0.6047641', 'буфет|0.60410607', 'ступенька|0.6033097', 'шкаф|0.60251117', 'кладка|0.60138', 'уборный|0.6006411', 'туалетный|0.60012114', 'искусственный|0.59989476', 'пространство|0.5982319', 'пол|0.5968444', 'цветовой|0.596799', 'подсветка|0.59425884', 'полый|0.5942021', 'коричневый|0.593523', 'известный|0.5921368', 'стиль|0.5908278', 'дизайнерский|0.59061795', 'обои|0.58878386', 'угол|0.5871695', 'клетка|0.5868926', 'штора|0.5861418', 'ля|0.5858365', 'свет|0.584067', 'бумага|0.5835317', 'абажур|0.5821766', 'кровать|0.5801805', 'открываться|0.57803416', 'тяжёлый|0.577647', 'плазма|0.57661843', 'вдоль|0.5760243', 'белоснежный|0.57570606', 'птичка|0.57569796', 'занавеска|0.57420456', 'советский|0.573231', 'обилие|0.57303673', 'дизайнер|0.5726522', 'полочка|0.5716846', 'винный|0.571393', 'ткань|0.57125425', 'дух|0.5704164', 'тон|0.57024354', 'стеллаж|0.56932986', 'белые|0.56757915', 'витрина|0.56743884', 'логотип|0.56703806', 'колонна|0.5666576', 'высоченный|0.56536156', 'среди|0.5643224', 'коврик|0.5637659', 'массивный|0.5633771', 'свод|0.5625961', 'подвал|0.56233495']\n",
            "Aspect 13:\n",
            "['шумно|0.77536666', 'дымно|0.7718595', 'дым|0.7685805', 'тесно|0.7539997', 'душный|0.7538465', 'накурить|0.7474788', 'вентиляция|0.7303561', 'диван|0.7258178', 'прохладно|0.724471', 'диванчик|0.71508783', 'сидеть|0.7140558', 'неуютный|0.71335137', 'мешать|0.7097699', 'курить|0.70587534', 'кабинка|0.6991545', 'вытяжка|0.698472', 'дышать|0.6869241', 'друг_друг|0.68361235', 'слышный|0.67237073', 'комфортно|0.67083716', 'вокруг|0.67082596', 'народ|0.67004293', 'беседка|0.6669307', 'зона|0.6642771', 'прокурить|0.65916264', 'помещение|0.65616465', 'танцполый|0.6553029', 'сосед|0.65237594', 'удобно|0.65187275', 'кресло|0.64782554', 'жарко|0.6389545', 'зала|0.63818616', 'аквариум|0.6376578', 'коромысло|0.6354446', 'дуть|0.63473344', 'просторно|0.633326', 'кондиционер|0.6311144', 'сигаретный|0.6286639', 'подушечка|0.62546414', 'табачный|0.62371784', 'уединённость|0.62255615', 'парочка|0.6217478', 'плед|0.6190182', 'близко|0.61856836', 'второе_этаж|0.616942', 'дальний|0.6163807', 'стул|0.6158612', 'комната|0.61317277', 'тихо|0.61155343', 'курящий|0.6115072', 'веранда|0.60936373', 'терасс|0.60901046', 'неудобно|0.60876226', 'комнатка|0.60818267', 'кондей|0.6031412', 'пропахнуть|0.6025375', 'барный_стойка|0.60253495', 'детский_комната|0.6024269', 'некурящий|0.60226655', 'жарковатый|0.60217977', 'светло|0.6018141', 'экран|0.6015224', 'тв|0.59955895', 'телевизор|0.5986935', 'тесновато|0.59759766', 'неудобный|0.5970422', 'тесноватый|0.5969352', 'наверху|0.5963924', 'туалет|0.59450465', 'спокойно|0.59446514', 'шум|0.5935217', 'высоченный|0.5926757', 'зальчик|0.58961976', 'деление|0.58922076', 'дымить|0.58845675', 'воздух|0.588025', 'курильщик|0.5867218', 'подушка|0.5866376', 'стульчик|0.58608127', 'развалиться|0.58472', 'разделение|0.581478', 'закутка|0.5801572', 'устроиться|0.5797808', 'орать|0.57922935', 'камин|0.57862705', 'прикольный|0.5778687', 'танцевать|0.57786065', 'уединение|0.57637906', 'зал|0.5761814', 'интимный|0.5761308', 'пространство|0.5743183', 'свет|0.5709187', 'внизу|0.56952274', 'курение|0.5689012', 'расположиться|0.56743395', 'сцена|0.56595755', 'темноватый|0.56540334', 'игрушка|0.56405795', 'полумрак|0.56161743', 'толпа|0.5592699']\n",
            "2019-12-24 03:43:46,656 INFO Epoch 6, train: 5s\n",
            "2019-12-24 03:43:46,656 INFO Total loss: 3.7368, max_margin_loss: 3.6281, ortho_reg: 0.1087\n",
            "100% 594/594 [00:05<00:00, 102.01it/s]\n",
            "Aspect 0:\n",
            "['заглянуть|0.73727846', 'захотеться|0.7268375', 'перекусить|0.7249763', 'поехать|0.7174684', 'зайти|0.70999116', 'питер|0.7042042', 'случайно|0.7033241', 'сходить|0.7026324', 'жить|0.69437957', 'заехать|0.68892664', 'пообедать|0.6829641', 'поужинать|0.6798589', 'недалеко|0.66911554', 'ехать|0.667133', 'недавно|0.66524786', 'покушать|0.6622498', 'ездить|0.66101104', 'московский|0.6578047', 'однажды|0.65339935', 'заезжать|0.65281093', 'заходить|0.6519363', 'любим|0.6481754', 'забежать|0.64626706', 'давно|0.6438595', 'поболтать|0.6413797', 'подружка|0.64105654', 'петроградка|0.6335449', 'сюда|0.6327851', 'частенько|0.63074803', 'район|0.6303666', 'это_место|0.629493', 'попить|0.6223607', 'заскочить|0.61965406', 'целенаправленно|0.60632074', 'это_кафе|0.60417235', 'любимый|0.6003411', 'заслать|0.59598076', 'дом|0.5910103', 'добраться|0.5895431', 'специально|0.5890373', 'проезжать|0.5854937', 'открыться|0.581435', 'посетить|0.5809653', 'сегодня|0.5808996', 'вчера|0.5804578', 'вспомнить|0.5795499', 'москва|0.57697237', 'забрести|0.5765177', 'прогулка|0.57569396', 'захаживать|0.5756792', 'ближний|0.57520044', 'ужинать|0.5748652', 'невский|0.57346', 'приезжать|0.56964904', 'попасть|0.56881106', 'посидеть|0.5666584', 'хороший_место|0.56503975', 'вечером|0.56442875', 'васильевский|0.562731', 'местечко|0.5620889', 'друг|0.5576559', 'позавтракать|0.5549453', 'знакомый|0.55481577', 'приморский|0.55433035', 'ходить_туда|0.554049', 'занести|0.5537394', 'поход|0.5500773', 'обедать|0.5496476', 'нибыть|0.54619074', 'васька|0.5454133', 'отправиться|0.5441746', 'остров|0.5433289', 'побывать|0.5420904', 'летом|0.5388327', 'вновь|0.5378585', 'забегать|0.5342797', 'приятель|0.5334448', 'разочароваться|0.5305167', 'пивко|0.5300922', 'отдохнуть|0.52838635', 'возвращаться|0.52797973', 'привести|0.5279768', 'выходной|0.5260517', 'заглядывать|0.52588826', 'поесть|0.524166', 'решить|0.52246916', 'рада|0.52195823', 'ресторанчик|0.5206084', 'проверить|0.51559675', 'город|0.5137341', 'захотеть|0.5117557', 'встретиться|0.50656927', 'наведаться|0.504874', 'днём|0.50443757', 'жан|0.5038016', 'лиговка|0.5036473', 'неподалёку|0.5034791', 'посещать|0.5007424', 'впервые|0.5006524', 'наткнуться|0.5004359']\n",
            "Aspect 1:\n",
            "['заманчивый|0.71771824', 'строчка|0.6836996', 'ознакомиться|0.6680106', 'купиться|0.6621194', 'касательно|0.65918887', 'страничка|0.65385985', 'сезонный|0.6523777', 'изучение|0.64654434', 'соблазниться|0.6437795', 'интригующий|0.6406048', 'значиться|0.6393184', 'обрадовать|0.6392819', 'чтение|0.63336504', 'дегустационный|0.6309523', 'перечень|0.6304763', 'предложение|0.6289998', 'банкетик|0.6249635', 'аперитив|0.62309194', 'действительность|0.62151814', 'остановить|0.6187324', 'омар|0.61626434', 'стопа|0.61525', 'продегустировать|0.6106678', 'старт|0.6076431', 'подробный|0.6055073', 'вариант|0.603336', 'вк|0.60124016', 'вышеуказанный|0.6010248', 'ссылка|0.6002442', 'именно_это_место|0.5984192', 'красочный|0.59682333', 'разбегаться|0.5953025', 'первоначально|0.5938858', 'кавказка|0.59331656', 'раздумье|0.59237075', 'отметиться|0.58962524', 'инуть|0.5886986', 'разбежаться|0.58860123', 'разгуляться|0.58686453', 'калория|0.5867797', 'перечислить|0.58668756', 'обозначить|0.58609027', 'непривычный|0.58553433', 'замешательство|0.58501744', 'точный|0.58493143', 'наиболее|0.5830913', 'велик|0.58302975', 'именно_это_заведение|0.58111405', 'версия|0.5808375', 'св|0.5796268', 'австралийский|0.57886493', 'недурственный|0.5781019', 'полистать|0.57429516', 'изучить|0.57426363', 'каберне|0.5740865', 'несказанно|0.57328296', 'перевод|0.57308495', 'аналогично|0.57052433', 'презентация|0.57024765', 'розлив|0.56941503', 'угадать|0.5693303', 'просмотреть|0.568711', 'расширить|0.5686285', 'ошибаться|0.5681548', 'принтер|0.56803375', 'вьетнамский|0.56749356', 'фигурировать|0.56739616', 'весь_очень_очень|0.56683165', 'смутно|0.56354856', 'кесадилья|0.5629649', 'велкома|0.56290585', 'выбрать|0.5624541', 'осторожный|0.561328', 'правильность|0.5611974', 'озвучить|0.561039', 'ограниченный|0.5606923', 'статья|0.5605544', 'страница|0.55932134', 'тортовый|0.55910313', 'спутница|0.5590017', 'отозваться|0.5589564', 'прогадать|0.558341', 'заказной|0.55687666', 'прочтение|0.5566927', 'португальский|0.55662084', 'сообразить|0.5560733', 'африканский|0.55403244', 'недолгий|0.55380857', 'захер|0.55303943', '190р|0.55301607', 'рекламировать|0.552809', 'шрифт|0.5525047', 'америка|0.5519332', 'спецпредложение|0.5513249', 'прокомментировать|0.5504685', 'а4|0.5503241', 'заинтриговать|0.5500224', 'лига|0.54959416', 'предзаказ|0.549056', 'литературный|0.5485038']\n",
            "Aspect 2:\n",
            "['говядина|0.7275428', 'гриль|0.70754075', 'овощ|0.69782126', 'рыба|0.68170464', 'стейк|0.67890656', 'карпаччо|0.678705', 'рибай|0.67082417', 'курица|0.66743886', 'лосось|0.66736865', 'цыплёнок|0.6629892', 'креветка|0.6607907', 'баклажан|0.6533911', 'филе|0.6529412', 'свинина|0.6313039', 'картофель|0.6199442', 'котлета|0.61801517', 'салат_цезарь|0.61785173', 'стейка|0.6171113', 'свиной|0.61530554', 'морепродукт|0.6149423', 'барашек|0.60938954', 'куриный|0.6075065', 'сацивить|0.60468626', 'цезарь|0.60449815', 'баранина|0.6033203', 'судак|0.60303116', 'форель|0.601856', 'дорад|0.6012023', 'ягнёнок|0.60047895', 'плов|0.59988266', 'кальмар|0.5998199', 'миньон|0.5988877', 'краб|0.59831035', 'прожарка|0.5965259', 'оливья|0.5962751', 'медальон|0.59574074', 'тунец|0.5930239', 'дорада|0.5926341', 'вок|0.5920043', 'шашлык|0.58743286', 'гарнир|0.5857899', 'свинин|0.5848806', 'рис|0.5836095', 'рыбка|0.58310413', 'телятина|0.58116937', 'грудка|0.58067805', 'пекински|0.579484', 'кебаб|0.57919705', 'мясо|0.57863146', 'утка|0.5774602', 'гребешок|0.5770547', 'мраморный|0.57669044', 'мидия|0.5762014', 'сибас|0.5759225', 'овощной|0.5759109', 'жареный|0.572049', 'мангал|0.568867', 'греческий|0.5678496', 'кисло_сладкое_соус|0.56337667', 'копчёный|0.5610752', 'ростбиф|0.56073856', 'запечь|0.5606009', 'запечёный|0.5605596', 'колбаска|0.5598011', 'бургера|0.5588287', 'тара_тара|0.5562118', 'котлетка|0.5542484', 'сёмга|0.5541604', 'острый|0.5541252', 'мясной|0.5534543', 'крылышко|0.553215', 'осьминог|0.5522445', 'солянка|0.5505178', 'долма|0.5487264', 'это_блюдо|0.54627407', 'утиный|0.54575074', 'кура|0.54254586', 'костя|0.54138726', 'жарить|0.5411876', 'королевский|0.539865', 'печень|0.53953767', 'помидор|0.5385366', 'каре|0.538398', 'драник|0.53761756', 'говяжий|0.5367871', 'шашлычок|0.5366804', 'ризотто|0.535656', 'удон|0.53387725', 'сочный|0.5330955', 'авокадо|0.53282654', 'медиум|0.53204393', 'степень|0.53115475', 'салатик|0.5311199', 'картошка|0.5285064', 'лапша|0.5284547', 'ребро|0.52819484', 'бараний|0.5277432', 'палтус|0.5270933', 'люля|0.52708936', 'айдахо|0.525882']\n",
            "Aspect 3:\n",
            "['господин|0.78177077', 'ресторатор|0.75412476', 'ум|0.7366393', 'простить|0.7357576', 'позор|0.73038757', 'существовать|0.7302916', 'критика|0.7287351', 'личный|0.7200529', 'владелец|0.710464', 'понятие|0.7069316', 'уважаемый|0.7052876', 'право|0.700811', 'негатив|0.69523644', 'речь|0.6922983', 'зарплата|0.69222975', 'гнать|0.6861842', 'автор|0.6828314', 'практика|0.67708397', 'пусть|0.6766483', 'быдло|0.67531013', 'постараться|0.6741891', 'злой|0.6733928', 'высказывание|0.6726449', 'совесть|0.6724652', 'борис|0.6722244', 'знак|0.6711106', 'скрыть|0.670179', 'управленец|0.66985345', 'хозяин|0.6698239', 'репутация|0.661861', 'хамство|0.6605221', 'иначе|0.65918255', 'сфера|0.6587767', 'представитель|0.65847754', 'стороной|0.65657157', 'задуматься|0.65493834', 'обходить|0.6534643', 'наплевать|0.653311', 'жизнь|0.65275013', 'уверенный|0.6525423', 'уволить|0.6500344', 'менеджмент|0.6490704', 'учиться|0.6485597', 'бог|0.6464313', 'допускать|0.644811', 'неужели|0.64068866', 'опыт|0.64034194', 'тенденция|0.6397097', 'потребитель|0.6379881', 'откровенный|0.6377653', 'ругать|0.6376486', 'бред|0.63731545', 'уважать|0.63673574', 'история|0.63634163', 'предприятие|0.63553876', 'плевать|0.6350404', 'значение|0.63314974', 'непрофессиональный|0.63290507', 'удалять|0.63145137', 'общепит|0.6305481', 'licorice|0.62912935', 'потерять|0.62910795', 'твориться|0.62771165', 'развитие|0.6272596', 'вечно|0.6270253', 'чувак|0.62591237', 'стремиться|0.6238428', 'здравый|0.6236448', 'вложить|0.6234161', 'довести|0.6224494', 'человек_который|0.62210405', 'разойтись|0.62128925', 'верить|0.6201104', 'воровать|0.6195023', 'бороться|0.61824954', 'нарушение|0.61824197', 'блог|0.61801505', 'тренд|0.61801046', 'никак|0.616625', 'иметь|0.6157618', 'понимание|0.61491156', 'непрофессионализм|0.61486924', 'объективный|0.613814', 'обман|0.61371136', 'человеческий|0.61255515', 'мысль|0.6118882', 'оратор|0.61035085', 'привет|0.61021054', 'звезда|0.6096846', 'называть|0.60951173', 'детище|0.6095102', 'обратный|0.6090754', 'учить|0.6088089', 'сугубо|0.60867417', 'терять|0.60774374', 'предъявлять|0.6076548', 'прощать|0.6076163', 'питание|0.6075742', 'извинить|0.6071546', 'ада|0.6068765']\n",
            "Aspect 4:\n",
            "['девочка|0.7863116', 'улыбчивый|0.754135', 'улыбка|0.73862195', 'улыбаться|0.7356211', 'молодая_человек|0.7330693', 'мальчик|0.72693497', 'официантка|0.7153937', 'официант|0.6986751', 'девушка|0.69485307', 'обслуживать|0.68554246', 'любезный|0.6800608', 'расторопный|0.6752343', 'учтивый|0.67259645', 'доброжелательно|0.6701336', 'вежливый|0.66534936', 'парень|0.6614386', 'мила|0.6552453', 'интересоваться|0.6523064', 'доброжелательный|0.6406749', 'юноша|0.638077', 'офицант|0.63402003', 'чётко|0.62593436', 'появляться|0.61931014', 'стараться|0.61810833', 'забывать|0.6065205', 'обходительный|0.6062513', 'вовремя|0.60509825', 'звать|0.601761', 'персонал|0.60100436', 'оперативно|0.59881663', 'внимательно|0.5965605', 'предупредительный|0.592455', 'услужливый|0.5919015', 'обслуживающий|0.58697975', 'старательный|0.5779233', 'успевать|0.5757935', 'провожать|0.5757913', 'шустрый|0.571153', 'навязчивый|0.57047606', 'барышня|0.5680582', 'пепельница|0.5642465', 'менять|0.5636207', 'лицо|0.563189', 'обслужить|0.56089926', 'обслуживающий_персонал|0.56033003', 'незаметно|0.5600223', 'приветливо|0.55869627', 'общительный|0.55448353', 'задержка|0.55264235', 'приветливый|0.5511933', 'молодая|0.5488011', 'бармен|0.54793274', 'смена|0.5442798', 'весь_время|0.5438936', 'внимательный|0.5420388', 'прощаться|0.53887486', 'наш_столик|0.5384339', 'ненавязчивый|0.53712034', 'дружелюбно|0.5348432', 'молниеносно|0.53468096', 'быстрый|0.5328541', 'милый|0.5310933', 'профессионально|0.5305952', 'выполнять|0.529583', 'голос|0.5285557', 'корректно|0.5274645', 'молодец|0.52721214', 'общаться|0.5266422', 'заботливый|0.5251101', 'очень_быстро|0.5249692', 'администратор|0.5233834', 'постоянно|0.522082', 'следить|0.51962227', 'молоденький|0.5190011', 'незаметный|0.5189086', 'очень_милый|0.5179829', 'здороваться|0.517738', 'тактично|0.51740193', 'уносить|0.5145334', 'медленно|0.5140118', 'разговаривать|0.51334584', 'ребята|0.51307595', 'назойливый|0.5126345', 'реагировать|0.50582135', 'отвечать|0.5034638', 'хостёс|0.5006984', 'компетентный|0.49974048', 'быстро|0.49147567', 'своевременно|0.48888096', 'дружелюбный|0.48529285', 'хостесса|0.48476106', 'шутить|0.48266873', 'молодая_человек_который|0.4820613', 'внешность|0.47982448', 'убираться|0.47707337', 'обаятельный|0.4770011', 'подходить|0.47631276', 'убирать|0.47610247', 'неопытный|0.47580707', 'принимать|0.4745606']\n",
            "Aspect 5:\n",
            "['изыск|0.74678266', 'касаться|0.7233098', 'весь_остальной|0.7143748', 'ценник|0.7058994', 'выше|0.7045214', 'уровень|0.6941188', 'завысить|0.69105405', 'посредственный|0.6831666', 'соответствовать|0.6776426', 'не_мочь_сказать|0.6685989', 'японский|0.6639311', 'учитывать|0.6625867', 'сравнение|0.6608466', 'многий|0.6602665', 'средненький|0.65323913', 'недостаток|0.651689', 'прежний|0.64526904', 'качество|0.6450965', 'цена_качество|0.64254534', 'принцип|0.63385445', 'отличаться|0.63384295', 'достойный|0.63048124', 'приемлемый|0.6285617', 'отличие|0.62661135', 'нарекание|0.6260381', 'простой|0.62469125', 'разнообразие|0.62283397', 'ничто_особенный|0.6224795', 'крайний_мера|0.62139684', 'исключение|0.62082076', 'действительно|0.61885065', 'намного|0.6152686', 'остальной|0.6127958', 'оценивать|0.61099416', 'европейский|0.60913527', 'вполне|0.6078927', 'плохой|0.606297', 'оставлять_желать_хороший|0.60147995', 'среднее|0.60048455', 'соотношение_цена_качество|0.5999696', 'радовать|0.598189', 'китайский|0.59513116', 'качественный|0.5944775', 'цена|0.5931165', 'добротный|0.5926229', 'относительно|0.5901402', 'придраться|0.5881512', 'менее|0.5881383', 'главный|0.5879705', 'пожалуй|0.58721894', 'особый|0.58712524', 'ниже|0.5855094', 'скромный|0.58397627', 'высокий|0.58000934', 'сносный|0.57962346', 'крайне|0.57917833', 'претензия|0.5783812', 'гораздо|0.57756054', 'особо|0.5676298', 'бизнес_ланча|0.5672105', 'демократичный|0.5661776', 'удивлять|0.56556326', 'фаста|0.5651827', 'сетевой|0.5629043', 'неплохой|0.56268895', 'обычный|0.5624349', 'очень_хороший|0.5612124', 'кухня|0.5605781', 'оценка|0.55965614', 'средний|0.5594519', 'достаточно|0.5591066', 'ценовый|0.5569385', 'категория|0.55668896', 'недорогой|0.55475676', 'хороший|0.5544759', 'умеренный|0.55387104', 'очень_большой|0.5520095', 'дороговатый|0.55081344', 'однако|0.54914963', 'адекватный|0.54832673', 'неплохо|0.5478538', 'целое|0.5467444', 'дорого|0.5403487', 'особенный|0.54010177', 'выдающийся|0.5384939', 'стандартный|0.5362378', 'средне|0.53482795', 'мочь_сказать|0.53393614', 'однозначно|0.5339175', 'еда|0.5337214', 'план|0.53314006', 'разочаровать|0.53297186', 'значительно|0.53286797', 'неоправданно|0.53073543', 'ожидать|0.5279145', 'хромать|0.5274645', 'назвать|0.52654386', 'гуманный|0.52486074', 'изысканный|0.5243488', 'большинство|0.52273476']\n",
            "Aspect 6:\n",
            "['лежалый|0.6387783', 'штука|0.59233963', 'подсушить|0.5781072', 'упаковка|0.57594323', 'гора|0.57525766', 'чёрствый|0.57244116', 'диаметр|0.5702261', 'размазать|0.5687638', 'четыре|0.5683279', 'коробка|0.5672797', 'ржаной|0.56603205', 'уложить|0.5640397', 'булка|0.5626396', 'пластина|0.56222326', 'заветренный|0.5618338', 'мм|0.5607709', 'холодильник|0.56014854', 'лента|0.55950594', 'икра|0.5578139', 'жалкий|0.5564255', 'разложить|0.5539727', 'оливковый|0.5538399', 'нарезка|0.5535603', 'стопочка|0.5530019', 'печь|0.55260706', 'прилипнуть|0.5513722', 'веточка|0.5506927', 'долька|0.54944324', 'блюдечко|0.5493611', 'залить|0.54936063', 'булочка|0.54907686', 'килограмм|0.5480685', 'горка|0.54790604', 'хлеб|0.547387', 'багет|0.5472702', 'целый|0.5472014', 'чиабатта|0.5468589', 'засохнуть|0.5466984', 'хамон|0.54435396', 'бутерброд|0.54422945', 'половинка|0.5437496', 'тост|0.5412605', 'тарелочка|0.5410374', 'четвертинка|0.5406165', 'ручной|0.54053015', 'слой|0.54035175', 'малюсенький|0.5401436', 'край|0.5398675', 'сухарь|0.5398179', 'пополам|0.53897864', 'хк|0.538354', 'остаток|0.53821677', 'вуаля|0.53792465', 'выложить|0.5358006', 'порезать|0.5356356', 'целиком|0.5351948', 'сало|0.5350951', 'куча|0.5349159', 'капля|0.53475505', 'ломоть|0.5347499', 'сырный|0.5336797', 'кожура|0.5332278', 'закусывать|0.53299296', 'треугольник|0.53237313', 'помидорка|0.5308502', 'крохотный|0.5301924', 'картофелина|0.5298011', 'нарезать|0.5294072', 'плошка|0.5278754', 'насыпать|0.52728003', 'салями|0.52716136', 'толстой|0.5270728', 'включая|0.5260887', 'дно|0.5256858', 'хлебушек|0.5241819', 'ломтик|0.52355605', 'миллиметр|0.5234772', 'полить|0.5224341', 'оливка|0.5222729', 'комок|0.52224207', 'гигантский|0.521801', 'виноград|0.52173847', 'маслина|0.5215931', 'чесночный|0.5211419', 'сахарный|0.5204942', 'кольцо|0.51997167', 'собирать|0.51989585', 'ледяной|0.51976365', 'хлопья|0.51923823', 'бальзамико|0.5189507', 'разрезать|0.5180563', 'глиняный|0.5171274', 'чеснок|0.51621395', 'плавать|0.5158423', 'дора|0.5157381', 'рота|0.51493627', 'мисочка|0.51489246', 'толщина|0.51459765', 'лайм|0.514497', 'лежать|0.5142892']\n",
            "Aspect 7:\n",
            "['предупредить|0.71448493', 'прийтись|0.71095496', 'уточнить|0.7045344', 'поинтересоваться|0.697137', 'выясниться|0.69643044', 'попытка|0.6925063', 'сообщить|0.6863868', 'просить|0.6812866', 'унести|0.6717658', 'уточнять|0.66898215', 'отказаться|0.6683847', 'предупреждать|0.66833633', 'успеть|0.6634466', 'естественно|0.6632154', 'вынести|0.6593418', 'курс|0.6582892', 'мол|0.6569821', 'забрать|0.65615225', 'полчаса|0.6539974', 'попросить|0.6533345', 'пропасть|0.6525411', 'дождаться|0.65134734', 'обратно|0.650617', 'ответить|0.6501782', 'сделать_заказ|0.6484492', 'убрать|0.6453332', 'ладный|0.64404243', 'отказать|0.6428732', 'подождать|0.6425582', 'подумать|0.6411495', 'спросить|0.63979924', 'извиниться|0.6388124', 'объяснить|0.6332719', 'приход|0.63305336', 'выяснить|0.6297742', 'исчезнуть|0.6289673', 'сначала|0.6281839', 'записать|0.6265505', 'ответ|0.62564325', 'последовать|0.62555677', 'забыть|0.62383366', 'пообещать|0.6193671', 'пришлый|0.61930394', 'попытаться|0.61923397', 'отказываться|0.61815935', 'поменять|0.6175579', 'заставить|0.61553895', '15_минута|0.6102135', 'перепутать|0.60236335', 'затем|0.60165125', 'пытаться|0.5995488', 'предложить|0.5960065', 'спрашивать|0.59539425', 'позвать|0.59445715', '10_минута|0.5895896', 'вернуть|0.58901715', 'вопрос|0.5861798', 'принять|0.5854658', 'готовый|0.5848027', 'указать|0.5832956', 'освободиться|0.5831884', 'подойти|0.5794853', 'убежать|0.57857025', 'её|0.5778119', 'телефон|0.577804', 'поймать|0.5774226', 'извиняться|0.57380533', 'встать|0.57294095', 'сообщать|0.57131463', 'нея|0.5709667', 'никто_не|0.56491977', 'разобраться|0.5641196', 'принять_заказ|0.5634467', 'положить|0.5619371', 'закончиться|0.5618645', 'просьба|0.5618482', 'расчёт|0.5616197', 'выяснять|0.55923563', 'забирать|0.5589715', 'молча|0.55832136', 'не_смочь|0.5579824', 'приняться|0.5572535', 'уйти|0.5567255', '20_минута|0.5564953', 'самостоятельно|0.5563743', 'обещать|0.556076', 'извинение|0.55560935', 'согласиться|0.55166733', 'результат|0.55161524', 'обратиться|0.5509472', 'неприятно|0.55077106', 'пересадить|0.5498775', 'оказываться|0.54864377', 'удивиться|0.54812264', 'пожалуйста|0.5480932', 'виноватый|0.5470714', 'заменить|0.5462798', 'почему|0.54627657', 'поздний|0.54250765', 'бронь|0.54231197']\n",
            "Aspect 8:\n",
            "['шоколад|0.7523438', 'клубника|0.7228451', 'варение|0.721299', 'малиновый|0.7135938', 'кекс|0.7123585', 'крем|0.71191037', 'сливка|0.7078458', 'мусса|0.70022595', 'яблочный|0.696246', 'шоколадный|0.693961', 'сорбета|0.693489', 'сладость|0.68484163', 'сладкий|0.68478584', 'клубничный|0.68001235', 'печение|0.678563', 'мятный|0.6783644', 'карамельный|0.67617303', 'пирог|0.6749127', 'миндальный|0.67231065', 'малин|0.67044663', 'ванильный|0.6693141', 'молоко|0.6674106', 'эклер|0.6671233', 'вишня|0.66711676', 'вафельный|0.6642689', 'корица|0.6632046', 'манговый|0.6625759', 'морковный|0.66186637', 'карамель|0.6599689', 'ароматный|0.65637726', 'имбирный|0.65520465', 'чизкейк|0.6543518', 'сладко|0.65100497', 'мятый|0.65032697', 'лимонный|0.64983594', 'ягода|0.6497146', 'желе|0.64737105', 'мороженный|0.6472754', 'апельсиновый|0.64564073', 'суфле|0.6454782', 'панакот|0.6432788', 'грушевый|0.639905', 'черничный|0.6389576', 'наполеон|0.63802457', 'бисквит|0.63786006', 'вафля|0.637736', 'творожный|0.6366474', 'ваниль|0.6363731', 'взбить|0.63163066', 'пенка|0.63119453', 'яблоко|0.6301778', 'грецкий|0.62946326', 'меренга|0.62826246', 'манго|0.6281724', 'груша|0.62704384', 'брауни|0.6259863', 'брюла|0.6258088', 'капуччиный|0.6249166', 'сорбетом|0.6241219', 'мороженое|0.6239498', 'густой|0.62300044', 'корочка|0.62282026', 'кокосовый|0.62271893', 'сладкое|0.6202201', 'медовик|0.62020975', 'горячий|0.61979973', 'мёд|0.6163598', 'песочный|0.61433256', 'трубочка|0.6140974', 'сахарный|0.6140239', 'шарик|0.61367893', 'пирожное|0.6133672', 'чабрец|0.6132035', 'чиз|0.6131374', 'трюфель|0.61222434', 'марципановый|0.611537', 'орех|0.611103', 'штрудель|0.611039', 'запивать|0.6108543', 'фисташковый|0.61040455', 'сироп|0.60914296', 'печенюшка|0.608734', 'послевкусие|0.6080671', 'джема|0.60746574', 'воздушный|0.6068659', 'тархун|0.60612404', 'кейк|0.60571826', 'маскарпон|0.6050892', 'брусничный|0.6045867', 'приторный|0.6038616', 'пропитать|0.6037762', 'сгущёнка|0.5975642', 'клюква|0.59709376', 'малина|0.595894', 'маракуйя|0.5958683', 'апельсин|0.5951786', 'базиликовый|0.5939504', 'лайм|0.59283125', 'банан|0.5923066', 'фреш|0.592154']\n",
            "Aspect 9:\n",
            "['отдельный_спасибо|0.7806094', 'праздник|0.74685574', 'огромный_спасибо|0.733685', 'большой_спасибо|0.7277099', 'весь_гость|0.70571', 'благодарность|0.7000365', 'праздничный|0.6863347', 'тамада|0.68234956', 'организация|0.6667398', 'спасибо|0.6519793', 'незабываемый|0.6504683', 'команда|0.65028894', 'весь_наш|0.6484325', 'ведущий|0.646827', 'шоу|0.6434428', 'коллектив|0.6414639', 'организовать|0.6408427', 'кондитер|0.6230021', 'поблагодарить|0.62277347', 'профессионал|0.62048626', 'чуткий|0.6166998', 'профессионализм|0.6135943', 'прекрасно|0.6133281', 'майкл|0.61165893', 'благодаря|0.6114585', 'исполнить|0.6077418', 'невеста|0.60563874', 'подарок|0.6050393', 'марин|0.60492235', 'респект|0.60144126', 'создать|0.59942746', 'свадебный|0.59912264', 'торжество|0.5990039', 'ольга|0.5987772', 'весь_гость_остаться_довольный|0.5958011', 'подарить|0.5933004', 'торт|0.59225225', 'подготовка|0.5914109', 'благодарный|0.58776575', 'уважение|0.5836241', 'забота|0.5834302', 'шеф_повар|0.581856', 'елена|0.5812764', 'фейерверк|0.58125544', 'совет|0.58058345', 'выразить|0.57992303', 'поклон|0.57911116', 'выражать|0.57870245', 'сергей|0.57752156', 'пожелание|0.5773138', 'великолепно|0.5757008', 'фуршет|0.57467294', 'евгений|0.5741044', 'молодожён|0.5735675', 'самый_главный|0.57152927', 'каравай|0.56922126', 'андрей|0.5688729', 'конкурс|0.5661504', 'алексей|0.5659994', 'программа|0.5652996', 'великолепный|0.56517744', 'очень_довольный|0.56320477', 'наш_гость_остаться_очень_довольный|0.56217015', 'благодарить|0.56184864', 'процветание|0.56006336', 'помочь|0.5584277', 'владимир|0.5567612', 'гость|0.55374837', 'высокий_уровень|0.55095035', 'проведение|0.55091774', 'весь_наш_пожелание|0.54850185', 'также|0.54785055', 'грамотный|0.54585266', 'ирина|0.5458348', 'душа|0.54111964', 'поздравление|0.5408245', 'чудесный|0.53950936', 'марина|0.538959', 'очень_приятно|0.53794897', 'виктор|0.53463703', 'дмитрия|0.5341699', 'успех|0.5338978', 'мероприятие|0.5331972', 'остаться_довольный|0.53203905', 'наталья|0.53032345', 'александр|0.5296434', 'отдельный|0.52951497', 'татьяна|0.52741647', 'гостеприимство|0.5272447', 'прекрасный|0.527096', 'внимательность|0.5264464', 'порекомендовать|0.52523094', 'потрясающе|0.523249', 'вячеслав|0.5229219', 'помощь|0.5208318', 'танец|0.5180568', 'удача|0.5180336', 'анастасия|0.51716226', 'организатор|0.51583385', 'шикарный|0.51520073']\n",
            "Aspect 10:\n",
            "['висок|0.76532644', 'литр|0.73393124', 'водка|0.725471', 'пинта|0.6933954', 'пиво|0.68202174', 'разливный|0.662035', 'бутылочный|0.65219367', 'кружка|0.64525604', 'кола|0.64357316', 'ньюкасл|0.6414606', 'безалкогольный|0.6273422', 'сорт|0.6238371', 'коньяк|0.6181374', 'крепкий|0.6153871', 'крушовица|0.61245906', 'алкогольный|0.5934455', 'бутылочка|0.5897004', 'карта|0.5842627', 'коктейль|0.5827164', 'гиннес|0.57512635', 'бесплатный|0.572997', 'мл|0.57298255', 'напиток|0.5713289', 'мохитый|0.5693234', 'бутылка|0.56433856', 'наливать|0.5619649', 'алкоголь|0.55806684', 'бланша|0.5560834', 'графин|0.554517', 'сок|0.5534634', 'пить|0.55081004', 'мартини|0.5473605', 'бокал|0.5440507', 'вод|0.54248285', 'стакан|0.5414604', 'нефильтрованный|0.53792757', 'харп|0.5317419', 'коктейльный|0.5259361', 'текила|0.521863', 'лонг|0.52134776', 'шампанский|0.50120306', 'вода|0.50096846', 'сидр|0.49945295', 'спиртное|0.4978373', 'морс|0.49584776', 'лицензия|0.49582392', 'налить|0.49121046', 'бесплатно|0.49113744', 'выпить|0.48605984', 'распитие|0.48271403', 'вельвет|0.4807897', 'гр|0.4792124', 'акция|0.47901177', 'василеостровский|0.4781386', 'эдельвейс|0.4757643', 'коктель|0.47418013', 'продавать|0.47400707', 'бл|0.47351933', 'кок|0.4733876', 'рюмка|0.47297314', 'эспрессо|0.4697968', 'руль|0.4672794', 'чек|0.46546713', 'айленд|0.46267828', 'кальян|0.4603789', 'гинесса|0.45925063', 'разбавить|0.45857325', 'игристый|0.45788932', 'покупать|0.45780146', 'пивная|0.4569029', '100р|0.4536844', 'лёд|0.45344853', 'пивко|0.45148483', 'килкенни|0.4501999', 'хугарден|0.44527885', 'сангрия|0.4447129', 'литровый|0.44451833', 'скидка|0.44375286', 'грамм|0.44239643', 'бар|0.44103438', 'свежевыжать|0.4408539', 'эль|0.43915886', 'бармен|0.43898255', 'тысяча|0.43869442', 'пивоварня|0.43595752', 'стоимость|0.43461066', 'купить|0.43355525', 'квас|0.43139714', 'рубль|0.43117994', 'набор|0.43025282', 'махитый|0.4297114', 'америкать|0.42659223', 'рэ|0.42321646', 'заплатить|0.41891587', '200р|0.41853082', 'евро|0.41835868', 'лагер|0.41525835', 'обойтись|0.4144769', 'глинтвейн|0.4133109', 'стопка|0.41310146']\n",
            "Aspect 11:\n",
            "['летие|0.7931565', 'июнь|0.7706506', 'февраль|0.7656174', 'июль|0.7490366', 'декабрь|0.7471333', 'август|0.7467898', 'сентябрь|0.7445029', 'май|0.7431337', '2011г|0.73853517', 'март|0.7283592', 'январь|0.7251076', 'октябрь|0.72305983', 'го|0.6970731', 'праздновать|0.6942723', 'ноябрь|0.68955', 'корпоратить|0.68643266', 'отмечать_день_рождение|0.67897826', 'отмечать|0.67467856', 'юбилей|0.6679452', 'др|0.665427', 'апрель|0.66338634', 'дата|0.6545518', 'справлять|0.6497258', 'наш_свадьба|0.6441086', 'ти|0.63408554', 'день_рождение|0.63064796', 'бракосочетание|0.6249839', 'часы|0.6215987', 'год|0.61186653', 'корпоративный|0.60115594', 'празднование|0.6002295', 'выпускной|0.5998831', 'воскресение|0.5986123', 'состояться|0.59356576', 'отпраздновать|0.5933858', 'неделя|0.5896216', 'прошлый|0.5860113', 'дочь|0.5815985', 'новогодний|0.5793164', 'корпоратив|0.5786185', 'новый_год|0.57777333', 'свадьба|0.5731449', 'годовщина|0.5711969', 'свой_день_рождение|0.5650781', '2013г|0.55682147', 'ночь|0.5546037', 'праздновать_день_рождение|0.55261964', 'семья|0.55073345', 'суббота|0.5493786', 'сын|0.54149044', '2014г|0.53824425', 'дочка|0.5370909', 'месяц|0.536589', '2010г|0.5291659', 'выездной|0.5277914', 'свадебный|0.5258558', 'девичник|0.52483827', 'нг|0.5244032', 'торжество|0.5223164', 'однокурсник|0.5221201', 'банкетный_зал|0.5218209', 'пр|0.5204511', 'мероприятие|0.51771075', 'четверг|0.5167835', 'приехать|0.5151241', 'минувший|0.51510173', 'год_назад|0.5142839', 'вчера|0.5131658', 'втроём|0.5131309', 'вторник|0.5102183', 'галерный|0.5098212', 'чело|0.50899994', 'гулять|0.508981', 'утро|0.50896174', 'число|0.50801724', 'честь|0.5050608', 'вечеринка|0.5048886', 'устроить|0.5045388', 'накануне|0.50336313', 'арендовать|0.49906018', 'супруга|0.49747974', 'век|0.49684367', 'канун|0.4946804', 'банкет|0.4943884', 'рождение|0.49379587', 'родитель|0.4933746', 'бельканто|0.4924949', 'событие|0.4894069', 'планироваться|0.48489296', 'отмечаться|0.48356', 'переговоры|0.48035002', 'регистрация|0.4794522', 'начаться|0.479353', 'передохнуть|0.47922814', 'счастливый|0.47850353', 'это_ресторан|0.47839254', 'утром|0.4729538', 'проведение|0.47187558', 'среда|0.46887073', 'поздравить|0.46698818']\n",
            "Aspect 12:\n",
            "['стен|0.72832656', 'полка|0.71761024', 'стена|0.69414365', 'потолок|0.6843937', 'надпись|0.67236257', 'картина|0.67196673', 'рамка|0.6696978', 'прочий|0.66644704', 'мебель|0.6646025', 'стеклянный|0.6637976', 'элемент|0.6617197', 'стекло|0.6614543', 'предмет|0.6605007', 'золотой|0.65886086', 'зеркало|0.6570344', 'светильник|0.6565468', 'старое|0.6563747', 'фотография|0.65614945', 'лампа|0.649673', 'кирпичный|0.64935756', 'дерево|0.64858913', 'старинный|0.6468371', 'деталь|0.64582366', 'висеть|0.64489496', 'внутренний|0.64220166', 'серый|0.6405016', 'плитка|0.6393266', 'люстра|0.637772', 'журнал|0.6349668', 'панель|0.6339464', 'плазменный|0.6326718', 'видный|0.6322708', 'смотреться|0.62774545', 'современный|0.62597585', 'синий|0.6218775', 'картинка|0.6215208', 'декор|0.6208465', 'доска|0.6206327', 'черно|0.62059194', 'крыша|0.6197777', 'здание|0.61773753', 'кирпич|0.61630785', 'убранство|0.61223865', 'гамма|0.6119636', 'потолочь|0.6111604', 'газета|0.60909575', 'модерн|0.6072501', 'деревянный|0.6061486', 'подоконник|0.6056883', 'буфет|0.6048138', 'шкаф|0.60324347', 'кладка|0.6021304', 'уборный|0.60178113', 'пространство|0.6013337', 'ступенька|0.60095096', 'искусственный|0.6002649', 'туалетный|0.59889936', 'цветовой|0.59831667', 'пол|0.5982684', 'подсветка|0.59608316', 'коричневый|0.5930374', 'полый|0.5929661', 'известный|0.5924567', 'дизайнерский|0.591723', 'стиль|0.59102494', 'обои|0.5887746', 'угол|0.5880003', 'клетка|0.58770907', 'свет|0.58738226', 'штора|0.5866718', 'бумага|0.583864', 'ля|0.58229107', 'абажур|0.5821867', 'тяжёлый|0.5792738', 'плазма|0.5784681', 'кровать|0.5780017', 'белоснежный|0.5775722', 'открываться|0.576002', 'вдоль|0.5759587', 'птичка|0.5754549', 'полочка|0.5747106', 'советский|0.57443595', 'обилие|0.574245', 'занавеска|0.5732698', 'дух|0.573241', 'ткань|0.5731003', 'дизайнер|0.5722458', 'стеллаж|0.57129735', 'винный|0.5712558', 'тон|0.5692004', 'белые|0.56886214', 'витрина|0.56845224', 'логотип|0.5667064', 'колонна|0.56653225', 'среди|0.564463', 'свод|0.563289', 'высоченный|0.56318593', 'коврик|0.5624047', 'массивный|0.5622771', 'подвал|0.5619266']\n",
            "Aspect 13:\n",
            "['дымно|0.77232665', 'шумно|0.7714997', 'дым|0.766191', 'душный|0.75184333', 'тесно|0.7499544', 'накурить|0.7455015', 'вентиляция|0.724678', 'прохладно|0.7234895', 'диван|0.7228786', 'сидеть|0.7157182', 'диванчик|0.71276987', 'неуютный|0.71098256', 'мешать|0.70626557', 'курить|0.7022576', 'кабинка|0.6937456', 'вытяжка|0.6931651', 'дышать|0.68586415', 'друг_друг|0.6822734', 'слышный|0.67035973', 'вокруг|0.6687032', 'народ|0.66705716', 'комфортно|0.6632117', 'беседка|0.66198945', 'прокурить|0.65869236', 'зона|0.6555052', 'танцполый|0.64981973', 'сосед|0.6480754', 'помещение|0.64597076', 'кресло|0.6449137', 'удобно|0.64452773', 'жарко|0.6386354', 'аквариум|0.6368625', 'коромысло|0.63413167', 'дуть|0.63289416', 'зала|0.63068736', 'просторно|0.6291231', 'кондиционер|0.6267313', 'подушечка|0.62661874', 'сигаретный|0.62564677', 'табачный|0.62498915', 'парочка|0.6238036', 'уединённость|0.6189482', 'дальний|0.61670333', 'плед|0.6161681', 'близко|0.61442316', 'второе_этаж|0.6127863', 'стул|0.612667', 'курящий|0.6097859', 'неудобно|0.60746163', 'веранда|0.6055587', 'тихо|0.6051456', 'терасс|0.6051326', 'жарковатый|0.60414946', 'комната|0.60375726', 'кондей|0.60245675', 'некурящий|0.6012882', 'пропахнуть|0.59965813', 'комнатка|0.5996474', 'барный_стойка|0.59963524', 'светло|0.59892213', 'неудобный|0.5980798', 'тесноватый|0.597822', 'тв|0.5959551', 'наверху|0.5956856', 'экран|0.5943394', 'детский_комната|0.5942868', 'тесновато|0.5941706', 'подушка|0.59191936', 'телевизор|0.59187454', 'высоченный|0.5894183', 'спокойно|0.5879514', 'развалиться|0.5871445', 'туалет|0.5866222', 'шум|0.58654815', 'дымить|0.58571804', 'воздух|0.5843452', 'стульчик|0.58364785', 'курильщик|0.5833776', 'деление|0.583002', 'зальчик|0.58223176', 'орать|0.58079696', 'устроиться|0.5803087', 'прикольный|0.5789349', 'камин|0.57782', 'разделение|0.57731193', 'интимный|0.57548165', 'закутка|0.5751601', 'танцевать|0.57457936', 'уединение|0.5728693', 'внизу|0.5686127', 'зал|0.5682017', 'темноватый|0.56747806', 'свет|0.5670996', 'пространство|0.5667926', 'расположиться|0.5667459', 'курение|0.56317383', 'полумрак|0.560181', 'сцена|0.5599801', 'игрушка|0.55987775', 'сидение|0.559875']\n",
            "2019-12-24 03:43:52,731 INFO Epoch 7, train: 5s\n",
            "2019-12-24 03:43:52,731 INFO Total loss: 3.7066, max_margin_loss: 3.5978, ortho_reg: 0.1087\n",
            "100% 594/594 [00:05<00:00, 101.34it/s]\n",
            "Aspect 0:\n",
            "['заглянуть|0.73344564', 'захотеться|0.72543734', 'перекусить|0.72223425', 'поехать|0.71504414', 'зайти|0.70616376', 'питер|0.70605624', 'случайно|0.7015788', 'сходить|0.70134676', 'жить|0.6953976', 'заехать|0.6857778', 'пообедать|0.68058777', 'поужинать|0.678223', 'недалеко|0.6677344', 'недавно|0.66670907', 'ехать|0.6650355', 'покушать|0.6627241', 'ездить|0.66077507', 'московский|0.65745974', 'заезжать|0.6514442', 'однажды|0.6512492', 'любим|0.65061367', 'заходить|0.65053946', 'давно|0.64594483', 'забежать|0.64435303', 'подружка|0.6405449', 'поболтать|0.6392839', 'петроградка|0.63346577', 'сюда|0.63221836', 'частенько|0.63125426', 'это_место|0.6311283', 'район|0.6308551', 'попить|0.6212179', 'заскочить|0.61808074', 'это_кафе|0.60616994', 'целенаправленно|0.60394686', 'любимый|0.59963834', 'заслать|0.5932859', 'дом|0.5931454', 'специально|0.5868455', 'добраться|0.58670515', 'проезжать|0.5840056', 'вчера|0.58113873', 'открыться|0.58038676', 'сегодня|0.5800481', 'посетить|0.5785909', 'москва|0.57661563', 'вспомнить|0.5762328', 'прогулка|0.57421845', 'захаживать|0.57403237', 'забрести|0.5739359', 'невский|0.57362616', 'ужинать|0.5727822', 'ближний|0.57004297', 'приезжать|0.5699614', 'хороший_место|0.56704044', 'посидеть|0.56541055', 'местечко|0.56441367', 'попасть|0.5633409', 'васильевский|0.5631605', 'вечером|0.56195116', 'друг|0.5577882', 'знакомый|0.55519676', 'ходить_туда|0.5543015', 'приморский|0.55336934', 'позавтракать|0.5525529', 'занести|0.55194336', 'обедать|0.54823786', 'поход|0.5472067', 'васька|0.5457608', 'остров|0.5442623', 'нибыть|0.54343235', 'побывать|0.54252225', 'летом|0.5405532', 'отправиться|0.5403533', 'вновь|0.53757477', 'приятель|0.5338549', 'забегать|0.5330664', 'разочароваться|0.5324278', 'пивко|0.531755', 'отдохнуть|0.52788794', 'привести|0.5259381', 'возвращаться|0.5251607', 'заглядывать|0.5245581', 'ресторанчик|0.5238248', 'рада|0.52333874', 'выходной|0.5232336', 'поесть|0.52236843', 'решить|0.51830226', 'город|0.51723564', 'проверить|0.5126141', 'захотеть|0.5097081', 'встретиться|0.5050888', 'жан|0.50264', 'днём|0.5024791', 'неподалёку|0.5022843', 'наведаться|0.50221455', 'лиговка|0.50196815', 'впервые|0.50161386', 'довестись|0.5005783', 'посещать|0.49957335']\n",
            "Aspect 1:\n",
            "['заманчивый|0.70981693', 'ознакомиться|0.6649884', 'строчка|0.6626395', 'купиться|0.65826005', 'страничка|0.6440723', 'сезонный|0.64400315', 'касательно|0.6389226', 'значиться|0.6385595', 'изучение|0.6337595', 'обрадовать|0.62509865', 'предложение|0.6237781', 'чтение|0.6198263', 'соблазниться|0.619182', 'интригующий|0.6184499', 'действительность|0.61350083', 'перечень|0.6131256', 'стопа|0.60749024', 'дегустационный|0.60449094', 'остановить|0.604226', 'аперитив|0.5983399', 'подробный|0.59692514', 'банкетик|0.5944964', 'продегустировать|0.59307206', 'вариант|0.591695', 'ссылка|0.58948284', 'омар|0.5876205', 'разбегаться|0.5874101', 'точный|0.58638334', 'обозначить|0.5842216', 'вышеуказанный|0.58331525', 'вк|0.58046484', 'красочный|0.5801354', 'старт|0.57862294', 'выбрать|0.57647604', 'перечислить|0.5743034', 'именно_это_место|0.57290983', 'инуть|0.5722594', 'первоначально|0.5704282', 'кавказка|0.5701636', 'изучить|0.56866384', 'отметиться|0.56810904', 'наиболее|0.5675808', 'разбежаться|0.56628126', 'недурственный|0.56369334', 'ошибаться|0.56191874', 'разгуляться|0.5614526', 'просмотреть|0.56126684', 'каберне|0.56053257', 'непривычный|0.55900264', 'версия|0.5584015', 'полистать|0.55822927', 'замешательство|0.55788195', 'угадать|0.5575756', 'именно_это_заведение|0.55667686', 'св|0.55642736', 'велик|0.5556394', 'раздумье|0.55488217', 'калория|0.55478317', 'страница|0.5546166', 'австралийский|0.5528029', 'расширить|0.55187285', 'статья|0.5510461', 'перевод|0.54972446', 'описание|0.5494978', 'презентация|0.5487748', 'аналогично|0.54835063', 'фигурировать|0.54786867', 'велкома|0.5478076', 'смутно|0.5473023', 'прочтение|0.5469155', 'розлив|0.54678464', 'озвучить|0.5458985', 'спутница|0.54524386', 'заказной|0.5439575', 'принтер|0.54367924', 'вьетнамский|0.54354924', 'захер|0.5432694', 'заинтриговать|0.5418409', 'а4|0.5415806', 'правильность|0.5407691', 'шрифт|0.5406292', 'кесадилья|0.5404601', 'весь_очень_очень|0.53981173', 'несказанно|0.5394906', 'ограниченный|0.53937924', 'прокомментировать|0.5391381', 'разумеется|0.53894866', 'сообразить|0.5385345', 'тортовый|0.537966', 'остановиться|0.53713095', 'сайт|0.5368092', 'португальский|0.5367608', 'спецпредложение|0.53626746', '190р|0.53580487', 'америка|0.5352192', 'расписать|0.53472555', 'прогадать|0.53430593', 'осторожный|0.5326106', 'содержание|0.5325277', 'рекламировать|0.53206116']\n",
            "Aspect 2:\n",
            "['говядина|0.7270662', 'гриль|0.7072015', 'овощ|0.69500256', 'рыба|0.6809418', 'карпаччо|0.6804017', 'стейк|0.6763421', 'рибай|0.6692759', 'лосось|0.66601896', 'курица|0.66426724', 'цыплёнок|0.66116047', 'креветка|0.6568854', 'баклажан|0.6531607', 'филе|0.6521089', 'свинина|0.6305527', 'салат_цезарь|0.62069064', 'картофель|0.62041795', 'свиной|0.6183042', 'стейка|0.61701804', 'котлета|0.6162994', 'морепродукт|0.611797', 'барашек|0.611546', 'куриный|0.6104363', 'цезарь|0.60522175', 'форель|0.6040609', 'сацивить|0.6040558', 'судак|0.60303897', 'баранина|0.60128367', 'ягнёнок|0.6009062', 'оливья|0.600866', 'миньон|0.6003946', 'кальмар|0.5999985', 'дорад|0.59950525', 'тунец|0.5972922', 'краб|0.5963078', 'медальон|0.5950122', 'плов|0.5939648', 'вок|0.5916419', 'дорада|0.5908895', 'прожарка|0.58911633', 'шашлык|0.5867864', 'свинин|0.58584404', 'телятина|0.5832135', 'грудка|0.5821594', 'гарнир|0.5810249', 'кебаб|0.5796083', 'овощной|0.5794376', 'рыбка|0.5785401', 'гребешок|0.57777524', 'пекински|0.5777645', 'утка|0.57756525', 'мраморный|0.5768807', 'рис|0.57637465', 'сибас|0.5757253', 'мидия|0.5743013', 'мясо|0.5742911', 'жареный|0.57372123', 'греческий|0.57179904', 'мангал|0.570095', 'копчёный|0.5654979', 'ростбиф|0.5636438', 'запечь|0.5629352', 'кисло_сладкое_соус|0.56208766', 'бургера|0.56166136', 'колбаска|0.5601872', 'крылышко|0.5596931', 'запечёный|0.5591798', 'тара_тара|0.5581502', 'сёмга|0.5551557', 'мясной|0.5544829', 'солянка|0.5532521', 'осьминог|0.55261075', 'котлетка|0.5514474', 'острый|0.5491924', 'утиный|0.5483521', 'долма|0.54691964', 'печень|0.5454625', 'кура|0.5429911', 'жарить|0.5429426', 'говяжий|0.5395602', 'это_блюдо|0.539152', 'королевский|0.538783', 'помидор|0.5379124', 'костя|0.5368798', 'драник|0.53672785', 'каре|0.5364104', 'ризотто|0.53560126', 'шашлычок|0.5342581', 'авокадо|0.53334045', 'салатик|0.5328404', 'люля|0.52879775', 'бараний|0.52859646', 'медиум|0.5285696', 'картошка|0.5277895', 'палтус|0.52773094', 'сочный|0.52766263', 'ребро|0.5272074', 'айдахо|0.5270225', 'степень|0.526615', 'удон|0.52567387', 'лапша|0.5253321']\n",
            "Aspect 3:\n",
            "['господин|0.78068244', 'ресторатор|0.75122464', 'простить|0.73986065', 'ум|0.73609495', 'позор|0.731366', 'критика|0.7312397', 'существовать|0.7270225', 'личный|0.7201646', 'понятие|0.7092142', 'владелец|0.7069775', 'уважаемый|0.7019406', 'право|0.70005', 'негатив|0.6967071', 'зарплата|0.6892704', 'речь|0.68841624', 'гнать|0.6852756', 'автор|0.6829452', 'практика|0.6759278', 'злой|0.6743553', 'пусть|0.67433345', 'скрыть|0.6742258', 'высказывание|0.6727345', 'борис|0.67147887', 'быдло|0.67105246', 'совесть|0.67074645', 'знак|0.6697613', 'постараться|0.66962343', 'управленец|0.669047', 'хозяин|0.66468066', 'репутация|0.6618021', 'хамство|0.65929353', 'иначе|0.6590397', 'представитель|0.65645957', 'сфера|0.6545642', 'задуматься|0.6536032', 'стороной|0.65325975', 'жизнь|0.652977', 'уверенный|0.652711', 'наплевать|0.65176594', 'обходить|0.6499244', 'менеджмент|0.64797163', 'уволить|0.64792925', 'бог|0.6461469', 'допускать|0.64513224', 'учиться|0.64463574', 'откровенный|0.64407134', 'неужели|0.6392404', 'тенденция|0.6385976', 'ругать|0.6383726', 'бред|0.63688064', 'опыт|0.6365775', 'уважать|0.6359926', 'потребитель|0.6354379', 'значение|0.6330401', 'предприятие|0.6327407', 'удалять|0.6324805', 'непрофессиональный|0.63075984', 'плевать|0.63036656', 'история|0.62980783', 'довести|0.62961787', 'потерять|0.6286403', 'общепит|0.628196', 'чувак|0.6267886', 'вечно|0.6264831', 'licorice|0.6262705', 'здравый|0.6259601', 'твориться|0.62415826', 'развитие|0.6239478', 'вложить|0.6236098', 'разойтись|0.62263644', 'стремиться|0.62205017', 'никак|0.6212684', 'верить|0.6212225', 'иметь|0.6182656', 'тренд|0.6174357', 'воровать|0.6170107', 'бороться|0.61620325', 'блог|0.6161224', 'понимание|0.61594594', 'объективный|0.6152851', 'нарушение|0.6151839', 'обман|0.6150707', 'человек_который|0.6144778', 'мысль|0.61347485', 'непрофессионализм|0.6131475', 'называть|0.6118103', 'оратор|0.61170655', 'сугубо|0.6115175', 'человеческий|0.6109753', 'извинить|0.60991037', 'обратный|0.60810065', 'прощать|0.606779', 'детище|0.60620034', 'дословно|0.60615945', 'предъявлять|0.6061518', 'терять|0.6059307', 'субъективный|0.60557187', 'звезда|0.60516155', 'ада|0.6048391', 'питание|0.6047177']\n",
            "Aspect 4:\n",
            "['девочка|0.7849849', 'улыбчивый|0.75052714', 'улыбка|0.73732877', 'улыбаться|0.73394364', 'молодая_человек|0.7312127', 'мальчик|0.7234709', 'официантка|0.7133296', 'официант|0.6972656', 'девушка|0.6908699', 'обслуживать|0.68251264', 'любезный|0.6769458', 'расторопный|0.6720324', 'учтивый|0.67050374', 'доброжелательно|0.6675937', 'вежливый|0.6630346', 'парень|0.6601536', 'мила|0.65216273', 'интересоваться|0.64888775', 'доброжелательный|0.6376219', 'юноша|0.63139856', 'офицант|0.63074845', 'чётко|0.6255027', 'появляться|0.6175915', 'стараться|0.6174458', 'забывать|0.6055917', 'вовремя|0.605078', 'обходительный|0.60448647', 'персонал|0.6043823', 'звать|0.6000051', 'оперативно|0.5978451', 'внимательно|0.5973981', 'предупредительный|0.58918494', 'услужливый|0.5891696', 'обслуживающий|0.5807921', 'успевать|0.574481', 'старательный|0.5743463', 'провожать|0.5712184', 'навязчивый|0.56803274', 'шустрый|0.5667993', 'барышня|0.56386083', 'пепельница|0.5637554', 'менять|0.5622349', 'обслуживающий_персонал|0.56191003', 'лицо|0.5614913', 'обслужить|0.5610957', 'незаметно|0.5594293', 'приветливо|0.55629665', 'общительный|0.5531554', 'задержка|0.55153924', 'бармен|0.54789567', 'приветливый|0.54756916', 'молодая|0.54410815', 'весь_время|0.5427396', 'смена|0.5427164', 'внимательный|0.5390737', 'прощаться|0.53862643', 'наш_столик|0.5373853', 'ненавязчивый|0.53408', 'дружелюбно|0.5336814', 'быстрый|0.5316501', 'молниеносно|0.53082275', 'голос|0.529495', 'профессионально|0.5292347', 'выполнять|0.5291592', 'общаться|0.5282557', 'корректно|0.52655506', 'молодец|0.52621275', 'милый|0.5244162', 'администратор|0.5232265', 'очень_быстро|0.5230786', 'постоянно|0.5220343', 'заботливый|0.5218334', 'следить|0.51837957', 'незаметный|0.51690227', 'тактично|0.5154097', 'здороваться|0.5152066', 'ребята|0.51462823', 'разговаривать|0.513207', 'молоденький|0.5129681', 'уносить|0.512895', 'очень_милый|0.5123119', 'медленно|0.5102114', 'назойливый|0.50958675', 'реагировать|0.5052294', 'отвечать|0.5010841', 'хостёс|0.49888128', 'компетентный|0.49729946', 'быстро|0.48990756', 'своевременно|0.48780364', 'дружелюбный|0.48398122', 'хостесса|0.48292202', 'шутить|0.48266643', 'молодая_человек_который|0.48072195', 'внешность|0.47637963', 'принимать|0.4755121', 'убирать|0.47435507', 'подходить|0.47415265', 'обаятельный|0.47346106', 'убираться|0.47330645', 'неопытный|0.47187373']\n",
            "Aspect 5:\n",
            "['изыск|0.7444232', 'ценник|0.71058226', 'касаться|0.7081971', 'весь_остальной|0.70382446', 'выше|0.7016944', 'уровень|0.6922537', 'завысить|0.6910548', 'соответствовать|0.66704106', 'посредственный|0.66646063', 'учитывать|0.66572464', 'японский|0.65684456', 'не_мочь_сказать|0.6565913', 'сравнение|0.6541056', 'недостаток|0.6487956', 'многий|0.64736915', 'прежний|0.64355266', 'цена_качество|0.6423304', 'средненький|0.63962513', 'качество|0.63940054', 'принцип|0.62804204', 'приемлемый|0.623053', 'нарекание|0.62281024', 'достойный|0.6190419', 'намного|0.617363', 'простой|0.6158179', 'крайний_мера|0.61555827', 'разнообразие|0.6149984', 'отличаться|0.6132969', 'отличие|0.6128061', 'ничто_особенный|0.61269075', 'вполне|0.61050445', 'исключение|0.6090902', 'действительно|0.60690516', 'остальной|0.60598695', 'среднее|0.6020225', 'соотношение_цена_качество|0.6018999', 'европейский|0.59999317', 'цена|0.598081', 'оценивать|0.5944586', 'менее|0.5866719', 'радовать|0.5865495', 'относительно|0.5857832', 'пожалуй|0.5856675', 'плохой|0.5842457', 'придраться|0.58386135', 'качественный|0.5836704', 'оставлять_желать_хороший|0.5821973', 'добротный|0.5820596', 'китайский|0.58162796', 'гораздо|0.58041143', 'ниже|0.5794742', 'главный|0.57848513', 'особый|0.57830894', 'скромный|0.57816374', 'крайне|0.5754665', 'высокий|0.57445323', 'бизнес_ланча|0.573027', 'сносный|0.57069767', 'претензия|0.5690502', 'демократичный|0.56488705', 'ценовый|0.5643888', 'фаста|0.5615543', 'кухня|0.5603676', 'особо|0.5603621', 'категория|0.55960023', 'оценка|0.55947316', 'достаточно|0.5567821', 'средний|0.5558608', 'удивлять|0.5557046', 'сетевой|0.5544301', 'дороговатый|0.55114025', 'умеренный|0.5508966', 'недорогой|0.54934675', 'целое|0.54789776', 'очень_хороший|0.54718846', 'дорого|0.5469771', 'неплохой|0.54695123', 'адекватный|0.5453717', 'обычный|0.5444953', 'неплохо|0.5435252', 'очень_большой|0.54115427', 'однако|0.53809226', 'хороший|0.5356844', 'значительно|0.53556454', 'еда|0.53384316', 'однозначно|0.53127235', 'неоправданно|0.52837265', 'средне|0.5277901', 'стандартный|0.52736616', 'выдающийся|0.52451926', 'особенный|0.52400523', 'гуманный|0.5234971', 'план|0.5219152', 'ожидать|0.52040035', 'разочаровать|0.5194485', 'мочь_сказать|0.51887316', 'хромать|0.51784694', 'заоблачный|0.5143558', 'последний_время|0.51434565', 'имхо|0.50889575']\n",
            "Aspect 6:\n",
            "['лежалый|0.6232573', 'штука|0.588775', 'упаковка|0.5708546', 'гора|0.5695356', 'коробка|0.5682926', 'подсушить|0.5651841', 'диаметр|0.5622747', 'чёрствый|0.5565062', 'четыре|0.55648565', 'размазать|0.55507535', 'холодильник|0.55421114', 'ржаной|0.5534005', 'уложить|0.5532466', 'пластина|0.5529036', 'булка|0.5513629', 'лента|0.54933655', 'икра|0.5490543', 'мм|0.5473987', 'булочка|0.5467081', 'печь|0.5466988', 'разложить|0.5464693', 'хлеб|0.5459149', 'заветренный|0.54582584', 'нарезка|0.5448445', 'блюдечко|0.5442891', 'стопочка|0.54423505', 'килограмм|0.54314995', 'оливковый|0.5427109', 'жалкий|0.5425375', 'прилипнуть|0.5417292', 'веточка|0.54005164', 'чиабатта|0.5399233', 'горка|0.5381328', 'багет|0.5378856', 'долька|0.53712535', 'бутерброд|0.53674877', 'залить|0.5365915', 'тарелочка|0.5364656', 'ручной|0.53631204', 'засохнуть|0.53578', 'половинка|0.53400326', 'хк|0.53382695', 'хамон|0.5334067', 'вуаля|0.5319748', 'тост|0.5318069', 'слой|0.53076845', 'целый|0.53023016', 'остаток|0.52983284', 'край|0.5295328', 'четвертинка|0.5279484', 'пополам|0.5271892', 'закусывать|0.5267512', 'ломоть|0.525711', 'выложить|0.5241031', 'сухарь|0.5238681', 'куча|0.5237348', 'порезать|0.52362216', 'капля|0.52312726', 'целиком|0.5229038', 'треугольник|0.5227045', 'сырный|0.5223508', 'малюсенький|0.52174354', 'сало|0.52106285', 'кожура|0.52078277', 'картофелина|0.52068734', 'помидорка|0.5196536', 'плошка|0.5182015', 'нарезать|0.5175423', 'хлебушек|0.51738894', 'салями|0.5172218', 'включая|0.5168086', 'крохотный|0.5165752', 'насыпать|0.51646215', 'толстой|0.5156745', 'дно|0.5155165', 'миллиметр|0.5136588', 'оливка|0.51358914', 'гигантский|0.51293635', 'ломтик|0.51276994', 'виноград|0.51186836', 'сахарный|0.51101035', 'хлопья|0.51101005', 'полить|0.5103551', 'маслина|0.5100831', 'собирать|0.50988305', 'ледяной|0.5091357', 'глиняный|0.50862247', 'комок|0.5083612', 'мисочка|0.5071954', 'рота|0.5068327', 'кольцо|0.50661165', 'разрезать|0.5060994', 'лайм|0.5057677', 'бальзамико|0.5055356', 'банка|0.50434947', 'чесночный|0.5043446', 'фруктовый|0.503952', 'соусник|0.5038978', 'плавать|0.5034116', 'вместе|0.5027062']\n",
            "Aspect 7:\n",
            "['предупредить|0.7129494', 'прийтись|0.7076337', 'уточнить|0.70387095', 'поинтересоваться|0.6964299', 'выясниться|0.69429815', 'попытка|0.68837154', 'сообщить|0.6851126', 'просить|0.67780113', 'уточнять|0.67034566', 'унести|0.6694697', 'предупреждать|0.668218', 'отказаться|0.66680723', 'успеть|0.66178995', 'естественно|0.6617398', 'курс|0.6591393', 'вынести|0.65759087', 'мол|0.6575074', 'забрать|0.65454364', 'полчаса|0.65368134', 'ответить|0.6501272', 'обратно|0.6499712', 'пропасть|0.64913213', 'попросить|0.6486731', 'сделать_заказ|0.6479483', 'дождаться|0.6477071', 'ладный|0.6441531', 'убрать|0.6437276', 'подумать|0.6417381', 'подождать|0.64126754', 'спросить|0.6403944', 'отказать|0.63977695', 'извиниться|0.63654685', 'объяснить|0.6340431', 'приход|0.6313679', 'выяснить|0.62958354', 'записать|0.6273794', 'сначала|0.62706727', 'исчезнуть|0.6264627', 'последовать|0.6237197', 'ответ|0.6236701', 'забыть|0.62001514', 'пришлый|0.6185639', 'отказываться|0.61768186', 'попытаться|0.61760163', 'пообещать|0.6175293', 'поменять|0.614617', 'заставить|0.61277294', '15_минута|0.60865575', 'перепутать|0.6023511', 'пытаться|0.5995643', 'спрашивать|0.59943974', 'затем|0.59930766', 'предложить|0.5955368', 'позвать|0.5944039', '10_минута|0.5881349', 'вопрос|0.5857171', 'вернуть|0.5854548', 'готовый|0.5853864', 'освободиться|0.58371264', 'принять|0.58322227', 'указать|0.58143455', 'убежать|0.5794535', 'подойти|0.57893825', 'поймать|0.57838213', 'её|0.5781378', 'телефон|0.5778276', 'встать|0.57204586', 'сообщать|0.5718857', 'извиняться|0.571581', 'нея|0.57143563', 'никто_не|0.5649774', 'разобраться|0.5644753', 'принять_заказ|0.5630636', 'положить|0.5608717', 'выяснять|0.55979687', 'забирать|0.55946493', 'просьба|0.55904686', 'расчёт|0.55885303', 'приняться|0.5588093', 'закончиться|0.5571148', 'молча|0.55683196', 'самостоятельно|0.5564363', 'не_смочь|0.5556095', '20_минута|0.5554941', 'уйти|0.5521015', 'обещать|0.55168915', 'обратиться|0.5514796', 'извинение|0.5513929', 'оказываться|0.55061', 'неприятно|0.5499589', 'пересадить|0.5494544', 'согласиться|0.54818213', 'пожалуйста|0.54779613', 'почему|0.5476239', 'результат|0.5473358', 'виноватый|0.54691195', 'удивиться|0.54672694', 'заменить|0.542609', 'предлагать|0.5421512', 'бронь|0.54182255']\n",
            "Aspect 8:\n",
            "['шоколад|0.74710184', 'клубника|0.72032595', 'варение|0.71769875', 'малиновый|0.7107659', 'кекс|0.7103591', 'крем|0.7063557', 'сливка|0.70365584', 'мусса|0.6965775', 'яблочный|0.6953526', 'сорбета|0.69353616', 'шоколадный|0.6902287', 'мятный|0.6790256', 'клубничный|0.6789993', 'сладость|0.6779515', 'сладкий|0.6772557', 'печение|0.6767682', 'карамельный|0.67223734', 'миндальный|0.67025566', 'пирог|0.6701932', 'ванильный|0.6688021', 'вафельный|0.6671398', 'малин|0.66640675', 'эклер|0.6648382', 'молоко|0.66389513', 'вишня|0.6604296', 'морковный|0.66016245', 'манговый|0.65984267', 'корица|0.6592769', 'ароматный|0.6559696', 'имбирный|0.65553844', 'карамель|0.6538292', 'чизкейк|0.64822984', 'сладко|0.64778405', 'мятый|0.64720696', 'апельсиновый|0.646442', 'лимонный|0.6450255', 'ягода|0.644211', 'желе|0.6425663', 'панакот|0.6419317', 'мороженный|0.6417024', 'суфле|0.6413069', 'грушевый|0.63738817', 'черничный|0.6371991', 'бисквит|0.6363121', 'творожный|0.635173', 'ваниль|0.63402164', 'наполеон|0.63237727', 'вафля|0.6311', 'меренга|0.6303643', 'пенка|0.6298194', 'взбить|0.62905896', 'брауни|0.6274389', 'капуччиный|0.626754', 'грецкий|0.62402296', 'манго|0.62300986', 'сорбетом|0.62278795', 'брюла|0.6220468', 'яблоко|0.62203026', 'груша|0.62168765', 'горячий|0.620499', 'мороженое|0.6196685', 'густой|0.61859703', 'кокосовый|0.6185784', 'чабрец|0.6165215', 'корочка|0.61645305', 'медовик|0.6159544', 'песочный|0.61360544', 'печенюшка|0.6135886', 'запивать|0.61303115', 'марципановый|0.61258817', 'мёд|0.61161435', 'трубочка|0.61146', 'шарик|0.61128914', 'сахарный|0.6112093', 'сладкое|0.6110165', 'чиз|0.61066115', 'послевкусие|0.610506', 'фисташковый|0.60867494', 'пирожное|0.6068647', 'трюфель|0.6067391', 'джема|0.6062209', 'штрудель|0.6058136', 'сироп|0.60572654', 'воздушный|0.60485584', 'брусничный|0.60446584', 'орех|0.6032788', 'кейк|0.6026021', 'тархун|0.60244703', 'маскарпон|0.6016612', 'приторный|0.60163766', 'пропитать|0.600316', 'сгущёнка|0.6002029', 'клюква|0.5978148', 'малина|0.5972942', 'базиликовый|0.59543157', 'профитроль|0.5950034', 'маракуйя|0.59376216', 'апельсин|0.59248656', 'фреш|0.59192526', 'каппучиный|0.5919198']\n",
            "Aspect 9:\n",
            "['отдельный_спасибо|0.78511673', 'праздник|0.7450769', 'огромный_спасибо|0.7372887', 'большой_спасибо|0.7310552', 'весь_гость|0.71224767', 'благодарность|0.7021501', 'праздничный|0.6879498', 'тамада|0.6848123', 'организация|0.6707773', 'незабываемый|0.65128183', 'команда|0.65120196', 'весь_наш|0.65075326', 'спасибо|0.6505643', 'ведущий|0.6499859', 'шоу|0.64933103', 'организовать|0.6433729', 'коллектив|0.64292973', 'кондитер|0.6281676', 'профессионал|0.62531114', 'поблагодарить|0.6248395', 'чуткий|0.62095606', 'профессионализм|0.61771905', 'прекрасно|0.6161053', 'майкл|0.61399955', 'благодаря|0.6112335', 'марин|0.6091911', 'подарок|0.6085679', 'невеста|0.608278', 'респект|0.6047869', 'исполнить|0.604345', 'свадебный|0.60297465', 'ольга|0.60289073', 'весь_гость_остаться_довольный|0.60123', 'торжество|0.60000306', 'создать|0.5980133', 'торт|0.59658355', 'подготовка|0.5943851', 'подарить|0.5930812', 'благодарный|0.5891659', 'шеф_повар|0.5871849', 'фейерверк|0.5856848', 'елена|0.58538675', 'поклон|0.5835155', 'уважение|0.58351177', 'выразить|0.5827475', 'великолепно|0.58274627', 'совет|0.5826512', 'забота|0.5824159', 'сергей|0.5819944', 'выражать|0.5808252', 'самый_главный|0.5786716', 'фуршет|0.5782857', 'пожелание|0.57710266', 'евгений|0.5768703', 'молодожён|0.57605016', 'каравай|0.5754601', 'великолепный|0.57408524', 'андрей|0.5729588', 'алексей|0.5706888', 'программа|0.5679133', 'очень_довольный|0.5667394', 'конкурс|0.56660014', 'благодарить|0.5654472', 'наш_гость_остаться_очень_довольный|0.5630017', 'помочь|0.5623629', 'владимир|0.56191784', 'высокий_уровень|0.55985874', 'гость|0.557438', 'процветание|0.5570965', 'также|0.5540764', 'проведение|0.5537056', 'грамотный|0.552052', 'весь_наш_пожелание|0.5504723', 'ирина|0.55046713', 'марина|0.54498523', 'поздравление|0.543452', 'чудесный|0.5415634', 'очень_приятно|0.5413414', 'виктор|0.5399432', 'дмитрия|0.5399218', 'отдельный|0.53835106', 'остаться_довольный|0.5375905', 'душа|0.53720134', 'наталья|0.53603375', 'александр|0.53465056', 'мероприятие|0.53343594', 'гостеприимство|0.53190136', 'порекомендовать|0.5318123', 'татьяна|0.5312614', 'успех|0.53123236', 'прекрасный|0.5311096', 'внимательность|0.5300947', 'вячеслав|0.5259494', 'потрясающе|0.524449', 'шикарный|0.5238296', 'анастасия|0.522311', 'помощь|0.5213015', 'станислав|0.520298', 'танец|0.5195188', 'организатор|0.5177784']\n",
            "Aspect 10:\n",
            "['висок|0.76926553', 'литр|0.7358949', 'водка|0.7289214', 'пинта|0.694684', 'пиво|0.6848904', 'разливный|0.6641986', 'бутылочный|0.655125', 'кола|0.64716756', 'кружка|0.64616036', 'ньюкасл|0.6428029', 'безалкогольный|0.63071764', 'сорт|0.62398326', 'коньяк|0.6203085', 'крепкий|0.6186343', 'крушовица|0.6137942', 'алкогольный|0.5973151', 'бутылочка|0.59046793', 'карта|0.58820665', 'коктейль|0.5859397', 'напиток|0.57674706', 'гиннес|0.5764018', 'бесплатный|0.57477987', 'мл|0.574175', 'мохитый|0.5706682', 'бутылка|0.5682027', 'алкоголь|0.56514525', 'наливать|0.5645461', 'бланша|0.5581871', 'графин|0.55688524', 'пить|0.5564692', 'сок|0.55538344', 'мартини|0.547979', 'бокал|0.5453286', 'вод|0.54374135', 'стакан|0.542706', 'нефильтрованный|0.53927374', 'харп|0.53374016', 'коктейльный|0.52798086', 'текила|0.5261303', 'лонг|0.522681', 'шампанский|0.5056724', 'спиртное|0.5052117', 'вода|0.5039165', 'лицензия|0.5024601', 'сидр|0.50001687', 'морс|0.49734536', 'бесплатно|0.49566203', 'налить|0.49454343', 'выпить|0.4916376', 'распитие|0.4865028', 'акция|0.48314843', 'вельвет|0.4830597', 'василеостровский|0.4806304', 'гр|0.477859', 'эдельвейс|0.47776797', 'продавать|0.4771058', 'кок|0.47571605', 'бл|0.47568893', 'коктель|0.47556543', 'рюмка|0.4744237', 'руль|0.47212732', 'эспрессо|0.47047168', 'чек|0.4685108', 'айленд|0.46441275', 'покупать|0.4635508', 'кальян|0.4630402', 'гинесса|0.4617868', 'игристый|0.45922974', 'разбавить|0.45822334', 'пивная|0.45763922', 'пивко|0.455321', '100р|0.45431742', 'лёд|0.45335376', 'килкенни|0.45077795', 'скидка|0.44696593', 'сангрия|0.44689298', 'литровый|0.44680855', 'хугарден|0.44640228', 'бар|0.44452584', 'бармен|0.44380322', 'тысяча|0.44176593', 'свежевыжать|0.4410149', 'грамм|0.44041026', 'эль|0.439624', 'пивоварня|0.43903637', 'стоимость|0.43698362', 'купить|0.43694264', 'махитый|0.43286267', 'рубль|0.43035543', 'квас|0.4299454', 'америкать|0.42818072', 'набор|0.427644', 'заплатить|0.4235121', 'евро|0.4223999', 'рэ|0.4219009', '200р|0.418113', 'лагер|0.4174822', 'обойтись|0.4162937', 'дисконтный|0.4154437', 'глинтвейн|0.41482466']\n",
            "Aspect 11:\n",
            "['летие|0.7951542', 'июнь|0.76857007', 'февраль|0.76472723', 'декабрь|0.7497009', 'август|0.7467019', 'июль|0.74624884', 'сентябрь|0.7448789', 'май|0.74173295', '2011г|0.73844755', 'март|0.72691053', 'январь|0.7222462', 'октябрь|0.7204492', 'го|0.69885135', 'праздновать|0.6934682', 'корпоратить|0.69018567', 'ноябрь|0.68999565', 'отмечать_день_рождение|0.67388666', 'отмечать|0.66979575', 'юбилей|0.66728693', 'др|0.6630832', 'дата|0.6618963', 'апрель|0.6589222', 'справлять|0.6482671', 'наш_свадьба|0.64439726', 'ти|0.6333941', 'бракосочетание|0.63175875', 'день_рождение|0.6295823', 'часы|0.6276846', 'корпоративный|0.6081401', 'год|0.60658574', 'празднование|0.60360694', 'выпускной|0.6025819', 'воскресение|0.59786344', 'состояться|0.59696627', 'отпраздновать|0.59436226', 'корпоратив|0.5884706', 'новогодний|0.58608925', 'неделя|0.58514154', 'новый_год|0.58051765', 'дочь|0.57822025', 'прошлый|0.5779584', 'свадьба|0.57404846', 'годовщина|0.5678413', 'свой_день_рождение|0.5632088', 'ночь|0.56161135', '2013г|0.55406916', 'семья|0.55080044', 'праздновать_день_рождение|0.5489472', 'суббота|0.5483347', '2014г|0.5402527', 'месяц|0.5340427', 'выездной|0.53226036', 'мероприятие|0.5313798', 'торжество|0.5309881', 'нг|0.5307071', 'сын|0.53065515', '2010г|0.53039855', 'дочка|0.53037286', 'банкетный_зал|0.52943677', 'свадебный|0.52816147', 'девичник|0.5270666', 'однокурсник|0.52015984', 'пр|0.5196353', 'четверг|0.5171474', 'приехать|0.5170641', 'утро|0.5155697', 'минувший|0.51318717', 'чело|0.51285326', 'год_назад|0.51221967', 'вечеринка|0.5118741', 'втроём|0.510802', 'устроить|0.5103904', 'вторник|0.5102171', 'честь|0.5100698', 'число|0.5092455', 'галерный|0.5090462', 'гулять|0.50862885', 'вчера|0.5053123', 'накануне|0.5032619', 'арендовать|0.50142866', 'век|0.50119555', 'банкет|0.5007646', 'событие|0.49798977', 'родитель|0.49588105', 'бельканто|0.4951536', 'рождение|0.4948414', 'канун|0.49394792', 'супруга|0.4932158', 'переговоры|0.4926885', 'планироваться|0.4898783', 'счастливый|0.48809746', 'отмечаться|0.48583493', 'регистрация|0.48499826', 'начаться|0.48495018', 'передохнуть|0.48400396', 'проведение|0.47954187', 'это_ресторан|0.47798258', 'поздравить|0.47409672', 'утром|0.47388884', 'среда|0.47275412']\n",
            "Aspect 12:\n",
            "['стен|0.7332978', 'полка|0.72128403', 'стена|0.69778275', 'потолок|0.6896689', 'картина|0.67685246', 'рамка|0.6745266', 'надпись|0.6733506', 'мебель|0.67220676', 'элемент|0.6681624', 'стекло|0.6654706', 'прочий|0.6653144', 'предмет|0.66380024', 'зеркало|0.66278017', 'светильник|0.6627079', 'стеклянный|0.66260654', 'золотой|0.6603419', 'старое|0.65733856', 'фотография|0.65543544', 'кирпичный|0.6540506', 'дерево|0.653118', 'лампа|0.6521218', 'деталь|0.6513023', 'старинный|0.64987886', 'висеть|0.6482713', 'внутренний|0.6475329', 'плитка|0.64431226', 'люстра|0.6439306', 'серый|0.6429657', 'панель|0.64150596', 'журнал|0.6413171', 'плазменный|0.64016855', 'видный|0.6361624', 'современный|0.6309428', 'смотреться|0.6308483', 'крыша|0.6247603', 'черно|0.62410986', 'синий|0.6240789', 'доска|0.62380975', 'картинка|0.62374717', 'декор|0.6232626', 'здание|0.62230265', 'кирпич|0.6206814', 'убранство|0.6175159', 'потолочь|0.6172321', 'гамма|0.6168051', 'газета|0.6132244', 'модерн|0.61104935', 'пространство|0.6106479', 'подоконник|0.6102998', 'буфет|0.60945654', 'шкаф|0.6090132', 'уборный|0.6088207', 'деревянный|0.6087146', 'кладка|0.60753095', 'искусственный|0.6054714', 'туалетный|0.60534084', 'цветовой|0.6040329', 'пол|0.6038968', 'подсветка|0.6033652', 'ступенька|0.60289097', 'дизайнерский|0.5982392', 'полый|0.5971533', 'свет|0.59454346', 'коричневый|0.59426904', 'известный|0.59403914', 'стиль|0.593788', 'обои|0.5934049', 'клетка|0.5930655', 'штора|0.5925795', 'угол|0.5919602', 'бумага|0.5872828', 'абажур|0.58659315', 'плазма|0.5858824', 'белоснежный|0.5830455', 'полочка|0.5817322', 'кровать|0.581', 'тяжёлый|0.5805', 'ткань|0.580287', 'вдоль|0.5796638', 'птичка|0.57965744', 'открываться|0.57904154', 'дух|0.57891715', 'обилие|0.57838076', 'занавеска|0.5783806', 'ля|0.57819796', 'дизайнер|0.578173', 'стеллаж|0.5766647', 'советский|0.57513547', 'колонна|0.5737375', 'тон|0.57297665', 'винный|0.5715983', 'витрина|0.5712731', 'логотип|0.5711154', 'свод|0.5697843', 'белые|0.56915', 'подвал|0.56751883', 'высоченный|0.5674056', 'цветочек|0.56717205', 'массивный|0.5657887', 'среди|0.56574756']\n",
            "Aspect 13:\n",
            "['дымно|0.77290505', 'шумно|0.76804626', 'дым|0.7641392', 'душный|0.7510046', 'тесно|0.7477918', 'накурить|0.74421346', 'прохладно|0.7230417', 'диван|0.72091305', 'вентиляция|0.7194096', 'сидеть|0.7188896', 'диванчик|0.7115557', 'неуютный|0.709965', 'мешать|0.70412636', 'курить|0.69925886', 'кабинка|0.68867356', 'вытяжка|0.68856907', 'дышать|0.6847465', 'друг_друг|0.6813104', 'слышный|0.6686069', 'вокруг|0.66750705', 'народ|0.66312784', 'прокурить|0.65910745', 'беседка|0.65806776', 'комфортно|0.6580203', 'зона|0.64861697', 'танцполый|0.645883', 'кресло|0.6430067', 'сосед|0.6427481', 'жарко|0.63849586', 'удобно|0.638157', 'помещение|0.63731277', 'аквариум|0.6372491', 'коромысло|0.63295907', 'дуть|0.6304945', 'подушечка|0.6285801', 'просторно|0.6271625', 'табачный|0.6264734', 'парочка|0.6251827', 'зала|0.6242615', 'кондиционер|0.62313485', 'сигаретный|0.62188095', 'дальний|0.6181876', 'уединённость|0.616235', 'плед|0.6127331', 'второе_этаж|0.61066985', 'близко|0.61023694', 'стул|0.6100279', 'курящий|0.60917777', 'жарковатый|0.607177', 'неудобно|0.60554767', 'веранда|0.6027972', 'терасс|0.60260165', 'кондей|0.60202175', 'некурящий|0.6013589', 'неудобный|0.6002239', 'тесноватый|0.5998224', 'тихо|0.59884775', 'подушка|0.598109', 'барный_стойка|0.5978379', 'светло|0.5974843', 'пропахнуть|0.5968646', 'комната|0.5961088', 'наверху|0.5946312', 'тесновато|0.5929917', 'тв|0.59195274', 'комнатка|0.5914825', 'развалиться|0.5882337', 'высоченный|0.58786345', 'детский_комната|0.58771396', 'экран|0.587306', 'телевизор|0.58449364', 'дымить|0.5834622', 'орать|0.58337104', 'спокойно|0.58222044', 'курильщик|0.58174646', 'стульчик|0.58164126', 'прикольный|0.58139706', 'воздух|0.5812044', 'устроиться|0.58049726', 'шум|0.5801173', 'камин|0.57949114', 'деление|0.57837576', 'туалет|0.57791317', 'интимный|0.5759838', 'зальчик|0.5755582', 'разделение|0.5743983', 'танцевать|0.57083464', 'уединение|0.5704496', 'темноватый|0.57039696', 'закутка|0.5697454', 'внизу|0.56744444', 'расположиться|0.56631184', 'свет|0.5643989', 'зал|0.5620407', 'пространство|0.56108296', 'скамейка|0.5610813', 'сидение|0.56083333', 'полумрак|0.5599357', 'курение|0.5595841', 'плетёный|0.55749524']\n",
            "2019-12-24 03:43:58,809 INFO Epoch 8, train: 5s\n",
            "2019-12-24 03:43:58,809 INFO Total loss: 3.6745, max_margin_loss: 3.5657, ortho_reg: 0.1088\n",
            "100% 594/594 [00:05<00:00, 102.64it/s]\n",
            "Aspect 0:\n",
            "['заглянуть|0.7335099', 'захотеться|0.72502947', 'перекусить|0.7223496', 'поехать|0.7148035', 'питер|0.7119573', 'зайти|0.7063284', 'сходить|0.7030322', 'случайно|0.70236987', 'жить|0.6997278', 'заехать|0.6859425', 'пообедать|0.68215847', 'поужинать|0.680858', 'недалеко|0.6722122', 'недавно|0.67029214', 'покушать|0.6673542', 'ехать|0.66554797', 'ездить|0.6649631', 'московский|0.6603706', 'любим|0.6569927', 'заезжать|0.6554821', 'заходить|0.6542866', 'однажды|0.6539829', 'давно|0.6493341', 'забежать|0.6455488', 'подружка|0.6430028', 'поболтать|0.6422558', 'частенько|0.6377764', 'петроградка|0.6367541', 'сюда|0.63443995', 'район|0.6340454', 'это_место|0.63240755', 'попить|0.6246252', 'заскочить|0.62127846', 'это_кафе|0.60926867', 'целенаправленно|0.60733974', 'любимый|0.6013075', 'дом|0.59545857', 'заслать|0.59485817', 'специально|0.588388', 'добраться|0.587572', 'проезжать|0.5869333', 'открыться|0.58310986', 'вчера|0.5830976', 'москва|0.58007574', 'сегодня|0.5800402', 'посетить|0.5799937', 'захаживать|0.57797515', 'невский|0.5776094', 'забрести|0.57678294', 'ужинать|0.57578164', 'вспомнить|0.5745077', 'приезжать|0.57434046', 'прогулка|0.5742855', 'хороший_место|0.57154983', 'ближний|0.56893474', 'посидеть|0.5679635', 'васильевский|0.56776905', 'местечко|0.5669664', 'вечером|0.56386733', 'попасть|0.56376195', 'друг|0.56048894', 'ходить_туда|0.5598485', 'знакомый|0.55782807', 'приморский|0.55770946', 'позавтракать|0.55476725', 'занести|0.5541164', 'васька|0.55174094', 'обедать|0.5507976', 'остров|0.5481438', 'поход|0.54544586', 'летом|0.5454248', 'побывать|0.54453725', 'нибыть|0.5424677', 'отправиться|0.5395621', 'приятель|0.5393356', 'разочароваться|0.5387323', 'пивко|0.53741974', 'вновь|0.53700805', 'забегать|0.53545296', 'отдохнуть|0.5310502', 'заглядывать|0.5297918', 'ресторанчик|0.528538', 'привести|0.5278384', 'рада|0.5277667', 'возвращаться|0.5257025', 'выходной|0.52497315', 'поесть|0.5246861', 'город|0.52159184', 'решить|0.5155058', 'проверить|0.5126091', 'захотеть|0.5102739', 'встретиться|0.50681305', 'неподалёку|0.506443', 'лиговка|0.5049597', 'жан|0.50491613', 'наведаться|0.50475115', 'впервые|0.50469804', 'днём|0.5042459', 'довестись|0.5040813', 'посещать|0.50401556']\n",
            "Aspect 1:\n",
            "['заманчивый|0.7057005', 'ознакомиться|0.6636615', 'купиться|0.65713716', 'строчка|0.6474739', 'значиться|0.6395612', 'сезонный|0.6395383', 'страничка|0.6384027', 'изучение|0.6244415', 'касательно|0.623332', 'предложение|0.61822784', 'обрадовать|0.6163444', 'чтение|0.61169994', 'действительность|0.6075341', 'стопа|0.60394424', 'интригующий|0.60376805', 'соблазниться|0.6029', 'перечень|0.6012953', 'остановить|0.5928564', 'подробный|0.5913087', 'точный|0.58830327', 'выбрать|0.5869632', 'дегустационный|0.58663064', 'обозначить|0.58415097', 'продегустировать|0.58197737', 'ссылка|0.5817479', 'разбегаться|0.5816206', 'вариант|0.5811944', 'аперитив|0.5793747', 'банкетик|0.5721422', 'вышеуказанный|0.5710271', 'красочный|0.56859136', 'омар|0.5685019', 'перечислить|0.5658925', 'вк|0.56472456', 'изучить|0.5638674', 'инуть|0.56180096', 'описание|0.5586045', 'наиболее|0.55716324', 'просмотреть|0.5571593', 'ошибаться|0.55708194', 'старт|0.5564852', 'недурственный|0.5560196', 'первоначально|0.55507535', 'именно_это_место|0.5548958', 'отметиться|0.5544411', 'кавказка|0.55388093', 'страница|0.5508617', 'разбежаться|0.5497212', 'каберне|0.5494279', 'угадать|0.5492578', 'полистать|0.5471071', 'статья|0.5462631', 'остановиться|0.544014', 'разгуляться|0.5432823', 'версия|0.54302347', 'св|0.5410858', 'прочтение|0.540986', 'расширить|0.5407852', 'сайт|0.54065925', 'непривычный|0.54013467', 'захер|0.5392997', 'заинтриговать|0.5389708', 'именно_это_заведение|0.5383954', 'велкома|0.5383821', 'замешательство|0.537511', 'разумеется|0.5373016', 'смутно|0.5364026', 'заказной|0.53618354', 'австралийский|0.5354529', 'озвучить|0.5353582', 'велик|0.5352083', 'а4|0.5350172', 'презентация|0.5347311', 'аналогично|0.53379536', 'перевод|0.53374326', 'фигурировать|0.53316534', 'спутница|0.5331277', 'шрифт|0.5315268', 'калория|0.53149194', 'решиться|0.5301882', 'розлив|0.53017247', 'прокомментировать|0.5297633', 'раздумье|0.5288229', 'расписать|0.5286092', 'вьетнамский|0.52785194', 'спецпредложение|0.5276493', 'сообразить|0.5272132', 'принтер|0.52601683', 'правильность|0.5259976', 'содержание|0.5259713', 'америка|0.52538335', 'пасть|0.5253721', '190р|0.5252004', 'португальский|0.5249552', 'перейти|0.52491426', 'кесадилья|0.5247824', 'ограниченный|0.523991', 'тортовый|0.52357227', 'весь_очень_очень|0.52182907', '390р|0.5216702']\n",
            "Aspect 2:\n",
            "['говядина|0.73146373', 'гриль|0.71203697', 'овощ|0.69803536', 'карпаччо|0.68695575', 'рыба|0.68392205', 'стейк|0.6781678', 'рибай|0.6730451', 'лосось|0.6704575', 'курица|0.66727364', 'цыплёнок|0.6655755', 'креветка|0.6590558', 'филе|0.6585427', 'баклажан|0.6581023', 'свинина|0.6357659', 'картофель|0.62781906', 'салат_цезарь|0.6274641', 'свиной|0.6274407', 'стейка|0.62111914', 'барашек|0.6192063', 'котлета|0.6188679', 'куриный|0.6162686', 'морепродукт|0.61385024', 'форель|0.61118484', 'сацивить|0.6099736', 'судак|0.6095334', 'цезарь|0.6078993', 'ягнёнок|0.60768926', 'кальмар|0.6074214', 'миньон|0.6073637', 'тунец|0.6069858', 'оливья|0.60685813', 'баранина|0.6053874', 'дорад|0.604687', 'краб|0.60170186', 'медальон|0.6006254', 'дорада|0.5990316', 'вок|0.5981554', 'плов|0.59495556', 'свинин|0.5923139', 'телятина|0.5899962', 'грудка|0.5898601', 'овощной|0.58888924', 'прожарка|0.5883455', 'шашлык|0.58757854', 'кебаб|0.58528364', 'гребешок|0.58504343', 'утка|0.5847009', 'гарнир|0.58423585', 'мраморный|0.5837798', 'сибас|0.58328545', 'жареный|0.58300966', 'пекински|0.5825535', 'рыбка|0.5804471', 'мидия|0.58039814', 'рис|0.57802033', 'греческий|0.5778311', 'мангал|0.5765556', 'мясо|0.575615', 'копчёный|0.57487524', 'ростбиф|0.5729262', 'бургера|0.5716402', 'запечь|0.5714448', 'крылышко|0.57051384', 'кисло_сладкое_соус|0.56848645', 'колбаска|0.56670004', 'тара_тара|0.5663364', 'запечёный|0.5643404', 'сёмга|0.56332', 'осьминог|0.560452', 'мясной|0.55955887', 'солянка|0.5592433', 'утиный|0.5561478', 'котлетка|0.5555469', 'печень|0.5546465', 'долма|0.55344427', 'жарить|0.5515281', 'кура|0.55123335', 'острый|0.55067617', 'говяжий|0.5491217', 'королевский|0.5453144', 'помидор|0.5443531', 'драник|0.5432288', 'каре|0.5416843', 'костя|0.54165286', 'ризотто|0.54155684', 'авокадо|0.5409715', 'салатик|0.5389179', 'это_блюдо|0.53816307', 'шашлычок|0.53789043', 'айдахо|0.53633094', 'бараний|0.5360838', 'ребро|0.5352263', 'люля|0.5349712', 'палтус|0.5348159', 'картошка|0.53413856', 'крабовый|0.53327686', 'кляр|0.53315187', 'томат|0.53294396', 'сырой|0.5329166', 'медиум|0.53242326']\n",
            "Aspect 3:\n",
            "['господин|0.7815842', 'ресторатор|0.7499018', 'простить|0.7433711', 'позор|0.73566085', 'критика|0.734494', 'ум|0.73394924', 'существовать|0.7288012', 'личный|0.7208344', 'понятие|0.7136341', 'владелец|0.7053014', 'право|0.7010715', 'негатив|0.70061135', 'уважаемый|0.69998395', 'зарплата|0.68798053', 'гнать|0.6872695', 'речь|0.6855987', 'автор|0.6830629', 'скрыть|0.68090683', 'практика|0.6784833', 'высказывание|0.6751241', 'злой|0.6748603', 'пусть|0.6715375', 'управленец|0.6710269', 'быдло|0.6705247', 'борис|0.6703448', 'совесть|0.66998065', 'знак|0.6695666', 'постараться|0.66648245', 'репутация|0.6660814', 'хозяин|0.66147184', 'иначе|0.66084945', 'хамство|0.660387', 'представитель|0.658512', 'задуматься|0.6556509', 'уверенный|0.6551312', 'откровенный|0.6547413', 'стороной|0.6546636', 'наплевать|0.65448594', 'сфера|0.65201056', 'жизнь|0.6511693', 'обходить|0.6510413', 'менеджмент|0.650252', 'допускать|0.64921784', 'уволить|0.6475631', 'бог|0.645826', 'учиться|0.6439165', 'тенденция|0.64110994', 'неужели|0.640671', 'ругать|0.6403309', 'уважать|0.63950163', 'бред|0.6390115', 'довести|0.63807666', 'удалять|0.6358854', 'значение|0.6358672', 'потребитель|0.63561404', 'опыт|0.6340265', 'предприятие|0.6317761', 'непрофессиональный|0.6313516', 'плевать|0.6301435', 'потерять|0.6301229', 'здравый|0.629987', 'чувак|0.6295484', 'общепит|0.6282084', 'вечно|0.627366', 'никак|0.62723947', 'вложить|0.6269115', 'история|0.62603736', 'licorice|0.6253827', 'разойтись|0.62503093', 'твориться|0.62417114', 'стремиться|0.6237199', 'развитие|0.6236061', 'иметь|0.62353575', 'верить|0.6218927', 'обман|0.61981964', 'тренд|0.6195836', 'объективный|0.6192602', 'называть|0.6181544', 'бороться|0.6179658', 'воровать|0.61743295', 'понимание|0.6170638', 'сугубо|0.6164843', 'блог|0.61625266', 'нарушение|0.61578417', 'непрофессионализм|0.6144304', 'извинить|0.6136053', 'оратор|0.6134871', 'мысль|0.6131767', 'субъективный|0.61161965', 'человеческий|0.6115638', 'обратный|0.6105071', 'дословно|0.6093373', 'прощать|0.60813713', 'терять|0.6077027', 'предъявлять|0.60747296', 'человек_который|0.6071141', 'ада|0.6063922', 'питание|0.6045987', 'кабак|0.6042886', 'совковый|0.6041653']\n",
            "Aspect 4:\n",
            "['девочка|0.7842338', 'улыбчивый|0.7479348', 'улыбка|0.7374805', 'улыбаться|0.73428273', 'молодая_человек|0.73176706', 'мальчик|0.72286713', 'официантка|0.71593297', 'официант|0.6978478', 'девушка|0.6915858', 'обслуживать|0.6780977', 'любезный|0.67500675', 'расторопный|0.6694635', 'учтивый|0.66778064', 'доброжелательно|0.6660892', 'парень|0.6619061', 'вежливый|0.6597623', 'мила|0.65225387', 'интересоваться|0.64986515', 'доброжелательный|0.6324929', 'юноша|0.63228846', 'офицант|0.6318441', 'чётко|0.62560093', 'появляться|0.61871684', 'стараться|0.61686265', 'забывать|0.60736537', 'персонал|0.6052904', 'вовремя|0.60513175', 'обходительный|0.60128486', 'звать|0.6000682', 'оперативно|0.5993691', 'внимательно|0.5992728', 'услужливый|0.5864731', 'предупредительный|0.58521694', 'обслуживающий|0.578611', 'успевать|0.5762474', 'старательный|0.5745221', 'провожать|0.5711452', 'пепельница|0.56779546', 'барышня|0.5676724', 'шустрый|0.5645666', 'лицо|0.5643017', 'навязчивый|0.5641967', 'менять|0.5638195', 'обслуживающий_персонал|0.56134206', 'обслужить|0.561046', 'незаметно|0.5594728', 'приветливо|0.5558987', 'задержка|0.5551579', 'общительный|0.5534138', 'бармен|0.55213654', 'смена|0.5454784', 'весь_время|0.54393077', 'приветливый|0.5424494', 'прощаться|0.5419887', 'наш_столик|0.5418418', 'молодая|0.5404099', 'дружелюбно|0.5351918', 'молниеносно|0.534191', 'внимательный|0.5337727', 'голос|0.53350985', 'выполнять|0.5331063', 'быстрый|0.5319996', 'общаться|0.53113425', 'ненавязчивый|0.5292664', 'корректно|0.52925044', 'профессионально|0.5274961', 'администратор|0.52527034', 'очень_быстро|0.52331024', 'постоянно|0.5230235', 'молодец|0.522925', 'милый|0.520009', 'следить|0.5188147', 'заботливый|0.5182167', 'здороваться|0.51705515', 'разговаривать|0.516873', 'тактично|0.51685834', 'уносить|0.5154532', 'незаметный|0.5146218', 'ребята|0.514424', 'медленно|0.5128125', 'молоденький|0.51194054', 'реагировать|0.5102749', 'назойливый|0.5097171', 'очень_милый|0.5065675', 'отвечать|0.50390434', 'хостёс|0.5010865', 'компетентный|0.49833858', 'быстро|0.49196517', 'своевременно|0.4881491', 'шутить|0.486808', 'молодая_человек_который|0.48646766', 'хостесса|0.48618558', 'дружелюбный|0.48075116', 'принимать|0.48039007', 'внешность|0.47662577', 'убирать|0.47625947', 'подходить|0.47534975', 'неопытный|0.47374892', 'убираться|0.47371608', 'обаятельный|0.4732388']\n",
            "Aspect 5:\n",
            "['изыск|0.7434063', 'ценник|0.71689993', 'выше|0.7002039', 'весь_остальной|0.6985822', 'касаться|0.6976694', 'завысить|0.6956215', 'уровень|0.6918328', 'учитывать|0.6726515', 'соответствовать|0.6623347', 'посредственный|0.6585497', 'японский|0.6532434', 'сравнение|0.65183496', 'не_мочь_сказать|0.6507371', 'недостаток|0.64874804', 'цена_качество|0.6437817', 'прежний|0.6426735', 'многий|0.63922834', 'качество|0.6361214', 'средненький|0.63424957', 'принцип|0.62794137', 'приемлемый|0.6234851', 'намного|0.6209426', 'нарекание|0.62084675', 'вполне|0.61683285', 'крайний_мера|0.6164322', 'достойный|0.6132284', 'разнообразие|0.61224425', 'простой|0.6115537', 'ничто_особенный|0.6078026', 'среднее|0.60702276', 'отличие|0.60582924', 'соотношение_цена_качество|0.6058186', 'цена|0.6053567', 'остальной|0.6046716', 'исключение|0.6034732', 'отличаться|0.6024589', 'действительно|0.59999007', 'европейский|0.5939701', 'менее|0.5904573', 'гораздо|0.58622813', 'относительно|0.58599997', 'пожалуй|0.5851972', 'оценивать|0.5832566', 'бизнес_ланча|0.58224297', 'придраться|0.5818813', 'радовать|0.579612', 'скромный|0.5775768', 'ниже|0.5773574', 'качественный|0.5770553', 'добротный|0.5768308', 'крайне|0.576028', 'китайский|0.5745221', 'главный|0.57376885', 'ценовый|0.57250464', 'особый|0.5716659', 'оставлять_желать_хороший|0.5708542', 'высокий|0.57018656', 'сносный|0.5698066', 'плохой|0.5693763', 'демократичный|0.5682591', 'категория|0.56475353', 'претензия|0.56364423', 'фаста|0.56129086', 'достаточно|0.55923975', 'средний|0.5577719', 'оценка|0.55707216', 'дороговатый|0.55685604', 'кухня|0.5568123', 'особо|0.5567186', 'дорого|0.55670255', 'умеренный|0.5537957', 'удивлять|0.5533729', 'сетевой|0.55264777', 'целое|0.5516345', 'недорогой|0.5488006', 'адекватный|0.54764926', 'неплохо|0.54434335', 'значительно|0.5416477', 'неплохой|0.53932196', 'очень_хороший|0.53864264', 'очень_большой|0.5383231', 'обычный|0.53513867', 'однако|0.535116', 'неоправданно|0.53368914', 'еда|0.53308916', 'однозначно|0.53136754', 'гуманный|0.5284327', 'средне|0.5277946', 'стандартный|0.5248027', 'хороший|0.5241408', 'дёшево|0.5202161', 'заоблачный|0.52002025', 'выдающийся|0.5193797', 'ожидать|0.51719165', 'план|0.51592743', 'особенный|0.5132872', 'разочаровать|0.5128963', 'имхо|0.51236784', 'хромать|0.5119842', 'последний_время|0.51142466']\n",
            "Aspect 6:\n",
            "['лежалый|0.61501753', 'штука|0.58840936', 'коробка|0.5739689', 'упаковка|0.5716522', 'гора|0.5676799', 'диаметр|0.56022334', 'подсушить|0.55881', 'холодильник|0.5528203', 'четыре|0.54897666', 'размазать|0.5488649', 'пластина|0.54839444', 'уложить|0.54821587', 'чёрствый|0.5465158', 'лента|0.54590154', 'ржаной|0.54584205', 'булочка|0.54576725', 'блюдечко|0.5447159', 'булка|0.54435354', 'хлеб|0.54370654', 'килограмм|0.5429558', 'печь|0.54262227', 'разложить|0.542493', 'стопочка|0.5423702', 'икра|0.5414868', 'мм|0.54116106', 'прилипнуть|0.53940976', 'нарезка|0.53826976', 'чиабатта|0.53650653', 'заветренный|0.5362556', 'жалкий|0.5357063', 'бутерброд|0.5355952', 'ручной|0.53531593', 'тарелочка|0.53413427', 'оливковый|0.5338443', 'веточка|0.53378177', 'багет|0.5326774', 'горка|0.53266156', 'хк|0.5323263', 'вуаля|0.5312569', 'долька|0.5302856', 'засохнуть|0.5297234', 'залить|0.52939045', 'половинка|0.52933455', 'слой|0.527399', 'остаток|0.526307', 'тост|0.52594906', 'край|0.52569145', 'хамон|0.52519333', 'закусывать|0.5232165', 'ломоть|0.52288526', 'пополам|0.52274144', 'четвертинка|0.52217287', 'целый|0.5205801', 'треугольник|0.5202112', 'капля|0.5192124', 'картофелина|0.51890653', 'целиком|0.5187204', 'куча|0.5181228', 'выложить|0.5179382', 'порезать|0.51705813', 'хлебушек|0.51630163', 'кожура|0.5152916', 'сухарь|0.51434535', 'насыпать|0.5135232', 'плошка|0.51344085', 'помидорка|0.5128567', 'дно|0.51285326', 'сырный|0.5125222', 'миллиметр|0.5123936', 'крохотный|0.5122108', 'малюсенький|0.51195204', 'включая|0.5117321', 'сало|0.51123714', 'салями|0.51057744', 'толстой|0.51048416', 'гигантский|0.5100817', 'нарезать|0.5096508', 'хлопья|0.50932276', 'собирать|0.5071421', 'мисочка|0.50685114', 'сахарный|0.5068492', 'ломтик|0.50658965', 'оливка|0.5065791', 'глиняный|0.5065139', 'виноград|0.5059582', 'рота|0.5052988', 'полить|0.50466734', 'маслина|0.5041574', 'ледяной|0.50336665', 'комок|0.5022745', 'пиала|0.5013807', 'лайм|0.5009327', 'соусник|0.5007959', 'разрезать|0.49998742', 'комплект|0.49938995', 'лимон|0.49862167', 'хлебный|0.49849176', 'мёд|0.49847406', 'съедать|0.4983713', 'банка|0.49799135']\n",
            "Aspect 7:\n",
            "['предупредить|0.71320313', 'прийтись|0.7061583', 'уточнить|0.70590425', 'поинтересоваться|0.6973735', 'выясниться|0.69548815', 'сообщить|0.6865169', 'попытка|0.68584514', 'просить|0.6755513', 'уточнять|0.6733576', 'предупреждать|0.6691225', 'унести|0.6687068', 'отказаться|0.6677402', 'успеть|0.6623907', 'естественно|0.66129154', 'курс|0.6610948', 'мол|0.65829515', 'вынести|0.65727985', 'полчаса|0.6539226', 'забрать|0.65307057', 'ответить|0.651242', 'сделать_заказ|0.6498387', 'обратно|0.6492215', 'пропасть|0.6484555', 'попросить|0.6474401', 'дождаться|0.6458825', 'ладный|0.64544994', 'спросить|0.64312434', 'подумать|0.6426594', 'убрать|0.6420046', 'подождать|0.6413529', 'отказать|0.63991904', 'объяснить|0.6360791', 'извиниться|0.6360463', 'выяснить|0.630944', 'приход|0.63057804', 'записать|0.62994885', 'сначала|0.6278154', 'исчезнуть|0.6271762', 'последовать|0.62451726', 'ответ|0.62354505', 'отказываться|0.6197337', 'забыть|0.6189834', 'пришлый|0.6188555', 'пообещать|0.6178148', 'попытаться|0.6172987', 'поменять|0.6137169', 'заставить|0.6122516', '15_минута|0.60931635', 'перепутать|0.6046033', 'спрашивать|0.60289514', 'затем|0.5991955', 'пытаться|0.5986452', 'предложить|0.59850776', 'позвать|0.5959306', '10_минута|0.58870673', 'готовый|0.5883775', 'вопрос|0.5863941', 'освободиться|0.5854119', 'вернуть|0.58355516', 'указать|0.5822582', 'принять|0.58188736', 'убежать|0.58163065', 'поймать|0.5812054', 'подойти|0.5806873', 'её|0.5784905', 'телефон|0.5768191', 'сообщать|0.57385284', 'нея|0.5721988', 'встать|0.5708527', 'извиняться|0.5708272', 'разобраться|0.5662255', 'принять_заказ|0.5646084', 'никто_не|0.56371665', 'выяснять|0.561713', 'приняться|0.56123877', 'положить|0.5600739', 'забирать|0.55940306', 'самостоятельно|0.55845976', 'просьба|0.55694246', '20_минута|0.5568663', 'не_смочь|0.55683815', 'расчёт|0.55681396', 'закончиться|0.55618715', 'молча|0.5557944', 'обратиться|0.5540514', 'оказываться|0.55357045', 'обещать|0.550675', 'почему|0.549818', 'пересадить|0.54910916', 'неприятно|0.54903424', 'извинение|0.5486069', 'уйти|0.54838705', 'согласиться|0.5483316', 'пожалуйста|0.5474767', 'виноватый|0.5473414', 'удивиться|0.5469888', 'предлагать|0.5466721', 'результат|0.54466236', 'заменить|0.5424294', 'прождать|0.5416862']\n",
            "Aspect 8:\n",
            "['шоколад|0.74385595', 'клубника|0.7177336', 'варение|0.7149277', 'кекс|0.71045846', 'малиновый|0.7085924', 'крем|0.7034513', 'сливка|0.7006784', 'яблочный|0.69679344', 'мусса|0.6946286', 'сорбета|0.6942296', 'шоколадный|0.68968534', 'мятный|0.67927635', 'клубничный|0.6780688', 'печение|0.6767608', 'сладость|0.6731821', 'сладкий|0.67226833', 'карамельный|0.67095095', 'миндальный|0.67009664', 'пирог|0.669743', 'ванильный|0.66933745', 'вафельный|0.669288', 'эклер|0.66526306', 'малин|0.6631798', 'молоко|0.6610124', 'морковный|0.65889025', 'манговый|0.6587877', 'корица|0.6577045', 'вишня|0.6567905', 'ароматный|0.6567872', 'имбирный|0.6556141', 'карамель|0.6496813', 'апельсиновый|0.64611804', 'сладко|0.6459546', 'чизкейк|0.6458059', 'мятый|0.64421666', 'лимонный|0.6414095', 'панакот|0.6413845', 'ягода|0.6411166', 'мороженный|0.6397617', 'желе|0.63920224', 'суфле|0.6390244', 'черничный|0.63676846', 'грушевый|0.6362196', 'бисквит|0.6361239', 'творожный|0.63448405', 'меренга|0.6328835', 'ваниль|0.63063', 'наполеон|0.63015926', 'пенка|0.62938863', 'капуччиный|0.6292864', 'вафля|0.6288648', 'брауни|0.6280177', 'взбить|0.6275239', 'сорбетом|0.6209474', 'горячий|0.62065846', 'грецкий|0.6197703', 'брюла|0.619681', 'манго|0.61962557', 'чабрец|0.6187048', 'печенюшка|0.61832047', 'мороженое|0.6181841', 'груша|0.6175624', 'яблоко|0.61675835', 'кокосовый|0.6149351', 'густой|0.61470103', 'песочный|0.61425245', 'марципановый|0.61360735', 'послевкусие|0.6134031', 'медовик|0.6133641', 'запивать|0.6130487', 'корочка|0.6118727', 'чиз|0.61148286', 'шарик|0.61146104', 'трубочка|0.6095339', 'сахарный|0.60884756', 'фисташковый|0.6074606', 'мёд|0.60708785', 'джема|0.60553586', 'брусничный|0.6050311', 'сладкое|0.60488355', 'воздушный|0.6045455', 'пирожное|0.60428447', 'штрудель|0.6037744', 'сироп|0.60328096', 'кейк|0.60287416', 'сгущёнка|0.60274637', 'трюфель|0.6027216', 'приторный|0.6008724', 'маскарпон|0.6000308', 'орех|0.59808624', 'малина|0.5980458', 'тархун|0.59804386', 'пропитать|0.5975865', 'профитроль|0.59748256', 'клюква|0.59748113', 'базиликовый|0.5967609', 'каппучиный|0.59601235', 'маракуйя|0.59217834', 'фреш|0.59072614', 'мусс|0.5901038']\n",
            "Aspect 9:\n",
            "['отдельный_спасибо|0.78918445', 'праздник|0.7416433', 'огромный_спасибо|0.73984814', 'большой_спасибо|0.7324962', 'весь_гость|0.7146765', 'благодарность|0.703704', 'праздничный|0.6881845', 'тамада|0.6847662', 'организация|0.67108405', 'незабываемый|0.65432835', 'шоу|0.6527681', 'команда|0.65231097', 'спасибо|0.65110636', 'весь_наш|0.6506107', 'ведущий|0.6497483', 'коллектив|0.6435617', 'организовать|0.64340043', 'кондитер|0.6340728', 'профессионал|0.62982297', 'чуткий|0.62568885', 'поблагодарить|0.6243745', 'прекрасно|0.6217964', 'профессионализм|0.6204347', 'майкл|0.61461747', 'марин|0.6128019', 'респект|0.6115488', 'благодаря|0.610858', 'подарок|0.6085341', 'весь_гость_остаться_довольный|0.60706276', 'исполнить|0.6068604', 'невеста|0.6067568', 'ольга|0.6038475', 'свадебный|0.6033001', 'торжество|0.5985388', 'создать|0.59812504', 'торт|0.59794176', 'подготовка|0.59452605', 'шеф_повар|0.59411234', 'великолепно|0.5921128', 'подарить|0.59107435', 'фейерверк|0.5907511', 'благодарный|0.5905843', 'поклон|0.5879414', 'елена|0.58691645', 'выразить|0.5861602', 'самый_главный|0.5858418', 'выражать|0.5847088', 'совет|0.5844869', 'великолепный|0.5839573', 'сергей|0.5838326', 'уважение|0.5830519', 'забота|0.5810713', 'каравай|0.57947004', 'евгений|0.57814944', 'фуршет|0.5781344', 'андрей|0.57650596', 'молодожён|0.5751308', 'пожелание|0.57481456', 'алексей|0.5733578', 'очень_довольный|0.5697273', 'благодарить|0.5676966', 'программа|0.56693345', 'высокий_уровень|0.566452', 'наш_гость_остаться_очень_довольный|0.5657895', 'конкурс|0.56531054', 'владимир|0.5644159', 'помочь|0.56358397', 'также|0.5591804', 'грамотный|0.5574617', 'гость|0.5567014', 'процветание|0.55653864', 'весь_наш_пожелание|0.5533734', 'проведение|0.5532787', 'ирина|0.5528708', 'марина|0.55160606', 'поздравление|0.54704654', 'дмитрия|0.5465092', 'чудесный|0.5464361', 'виктор|0.54543436', 'отдельный|0.54515785', 'остаться_довольный|0.54321754', 'очень_приятно|0.5431584', 'порекомендовать|0.5390215', 'наталья|0.5388447', 'прекрасный|0.5375819', 'александр|0.537382', 'душа|0.5372144', 'гостеприимство|0.5370085', 'внимательность|0.5343488', 'шикарный|0.53291863', 'татьяна|0.5323839', 'потрясающе|0.5315168', 'успех|0.5304052', 'мероприятие|0.5295631', 'вячеслав|0.5291959', 'анастасия|0.5275426', 'станислав|0.5260552', 'подбор|0.5257375', 'помощь|0.5208261', 'потрясать|0.5197289']\n",
            "Aspect 10:\n",
            "['висок|0.7714185', 'литр|0.73665255', 'водка|0.7293652', 'пинта|0.6951636', 'пиво|0.6895247', 'разливный|0.6671889', 'бутылочный|0.6579398', 'кола|0.6494844', 'кружка|0.647977', 'ньюкасл|0.6419451', 'безалкогольный|0.6309389', 'сорт|0.62835336', 'крепкий|0.6205627', 'коньяк|0.6204699', 'крушовица|0.61616504', 'алкогольный|0.59795266', 'карта|0.5894009', 'бутылочка|0.5883732', 'коктейль|0.5855235', 'напиток|0.5789986', 'гиннес|0.5767677', 'бесплатный|0.5747297', 'мл|0.57178843', 'алкоголь|0.56963354', 'бутылка|0.56933105', 'мохитый|0.5675048', 'наливать|0.56363946', 'бланша|0.55982304', 'пить|0.5590264', 'графин|0.55695224', 'сок|0.55590767', 'мартини|0.5457723', 'бокал|0.54439485', 'стакан|0.54307926', 'вод|0.5426551', 'нефильтрованный|0.5417325', 'харп|0.53484845', 'коктейльный|0.52662593', 'текила|0.5255287', 'лонг|0.5205643', 'спиртное|0.5064075', 'вода|0.5053907', 'лицензия|0.5050515', 'шампанский|0.5050253', 'сидр|0.49912825', 'бесплатно|0.49588454', 'морс|0.4956754', 'налить|0.4948727', 'выпить|0.4945003', 'распитие|0.48863608', 'вельвет|0.48412615', 'василеостровский|0.48338062', 'акция|0.4817013', 'продавать|0.4787494', 'эдельвейс|0.4777714', 'гр|0.47619367', 'бл|0.47567534', 'кок|0.47564942', 'руль|0.47449142', 'рюмка|0.4737571', 'коктель|0.47364393', 'эспрессо|0.46942896', 'чек|0.4672695', 'покупать|0.46598884', 'айленд|0.46244538', 'кальян|0.4618025', 'гинесса|0.46146286', 'пивная|0.4611056', 'разбавить|0.46016967', 'игристый|0.4566854', 'пивко|0.45627892', 'лёд|0.45269942', '100р|0.45254558', 'килкенни|0.45084718', 'скидка|0.44763497', 'сангрия|0.4462412', 'хугарден|0.44617116', 'литровый|0.4460411', 'бар|0.44474703', 'бармен|0.44294792', 'пивоварня|0.44274592', 'тысяча|0.44189465', 'эль|0.44026086', 'свежевыжать|0.43990237', 'грамм|0.4392591', 'купить|0.4390113', 'стоимость|0.43709624', 'махитый|0.4314446', 'рубль|0.42716584', 'квас|0.42710632', 'набор|0.42640936', 'америкать|0.42640868', 'заплатить|0.4245678', 'евро|0.420928', 'лагер|0.41865572', 'рэ|0.41832465', '200р|0.41547686', 'обойтись|0.41487446', 'дисконтный|0.41469204', 'глинтвейн|0.41453516']\n",
            "Aspect 11:\n",
            "['летие|0.79591167', 'июнь|0.7659686', 'февраль|0.7650321', 'декабрь|0.7524535', 'август|0.74679726', 'сентябрь|0.74552894', 'июль|0.74324393', 'май|0.74154806', '2011г|0.7380235', 'март|0.7277937', 'январь|0.7214825', 'октябрь|0.71896327', 'го|0.6999953', 'корпоратить|0.6951655', 'праздновать|0.6930381', 'ноябрь|0.6917982', 'отмечать_день_рождение|0.67190945', 'дата|0.670009', 'юбилей|0.6677383', 'отмечать|0.66544956', 'др|0.6632629', 'апрель|0.6559125', 'справлять|0.64698267', 'наш_свадьба|0.6441385', 'бракосочетание|0.63789976', 'часы|0.6326575', 'день_рождение|0.63211435', 'ти|0.63028246', 'корпоративный|0.615913', 'празднование|0.60855275', 'выпускной|0.60503155', 'воскресение|0.6020537', 'состояться|0.60108125', 'год|0.60099405', 'корпоратив|0.5988077', 'отпраздновать|0.59859496', 'новогодний|0.59263134', 'новый_год|0.5858097', 'неделя|0.5842312', 'дочь|0.576607', 'свадьба|0.57401466', 'ночь|0.56990397', 'прошлый|0.569377', 'годовщина|0.5673338', 'свой_день_рождение|0.56529355', 'семья|0.55620337', 'суббота|0.5522962', '2013г|0.5514232', 'праздновать_день_рождение|0.54840726', 'мероприятие|0.5450324', '2014г|0.54229575', 'торжество|0.5392946', 'нг|0.53831494', 'банкетный_зал|0.53662366', 'выездной|0.53447866', 'месяц|0.5339478', '2010г|0.53247917', 'девичник|0.5312303', 'свадебный|0.5286802', 'дочка|0.5271745', 'утро|0.5241618', 'сын|0.5236572', 'однокурсник|0.52362585', 'вечеринка|0.52198905', 'четверг|0.52177215', 'пр|0.5208589', 'приехать|0.5206644', 'устроить|0.5175179', 'чело|0.5148628', 'минувший|0.514378', 'вторник|0.51416314', 'год_назад|0.5138718', 'втроём|0.51188356', 'гулять|0.51166534', 'честь|0.5116447', 'число|0.5109534', 'галерный|0.51051986', 'событие|0.50875586', 'переговоры|0.5083039', 'банкет|0.50502044', 'накануне|0.50400436', 'век|0.5035059', 'вчера|0.5031563', 'арендовать|0.50291514', 'родитель|0.50074196', 'счастливый|0.49893504', 'бельканто|0.49826002', 'рождение|0.4965031', 'планироваться|0.49523574', 'канун|0.49455547', 'передохнуть|0.49310973', 'супруга|0.4922009', 'начаться|0.48905924', 'регистрация|0.48822653', 'проведение|0.48726296', 'отмечаться|0.48591086', 'поздравить|0.48112082', 'среда|0.48060668', 'это_ресторан|0.48041403', 'утром|0.47871253']\n",
            "Aspect 12:\n",
            "['стен|0.73831147', 'полка|0.72641325', 'стена|0.7021229', 'потолок|0.6942197', 'рамка|0.6824941', 'картина|0.6812073', 'мебель|0.6794071', 'надпись|0.6762954', 'элемент|0.6762218', 'предмет|0.6708893', 'стекло|0.67018235', 'светильник|0.6700876', 'зеркало|0.66852695', 'прочий|0.66671264', 'стеклянный|0.6648736', 'золотой|0.6632204', 'старое|0.66258794', 'кирпичный|0.6613451', 'фотография|0.65873325', 'дерево|0.65842557', 'деталь|0.65810585', 'лампа|0.65731454', 'старинный|0.6572257', 'внутренний|0.655782', 'висеть|0.65330315', 'журнал|0.65180695', 'плитка|0.6506288', 'панель|0.6499983', 'люстра|0.6499123', 'плазменный|0.6489338', 'серый|0.64590657', 'видный|0.64364624', 'современный|0.6378908', 'смотреться|0.63595104', 'крыша|0.63229704', 'черно|0.6299083', 'здание|0.6291113', 'картинка|0.62910193', 'декор|0.62904763', 'кирпич|0.628636', 'синий|0.62862957', 'доска|0.62753165', 'убранство|0.62609273', 'потолочь|0.6241706', 'гамма|0.62237674', 'газета|0.6213548', 'пространство|0.6193069', 'модерн|0.6191015', 'буфет|0.6180336', 'уборный|0.6174656', 'подоконник|0.6169927', 'шкаф|0.6164576', 'кладка|0.61565036', 'подсветка|0.6129762', 'туалетный|0.6129569', 'искусственный|0.6128762', 'деревянный|0.6124725', 'цветовой|0.6098182', 'пол|0.6095428', 'ступенька|0.60839975', 'дизайнерский|0.6081804', 'полый|0.6026611', 'обои|0.6016605', 'штора|0.6015036', 'клетка|0.6012497', 'известный|0.6003118', 'свет|0.6002357', 'угол|0.5990488', 'стиль|0.59690094', 'коричневый|0.59639776', 'абажур|0.5959356', 'плазма|0.5953957', 'бумага|0.59162235', 'полочка|0.59072256', 'белоснежный|0.5903991', 'ткань|0.5880883', 'кровать|0.5877042', 'вдоль|0.58713067', 'занавеска|0.5868449', 'дух|0.58622015', 'открываться|0.586188', 'птичка|0.585673', 'тяжёлый|0.5856124', 'дизайнер|0.585607', 'стеллаж|0.5853805', 'обилие|0.58454037', 'колонна|0.58355355', 'логотип|0.5798249', 'свод|0.57942265', 'ля|0.57915455', 'советский|0.57736063', 'витрина|0.5768656', 'тон|0.57640016', 'цветочек|0.57543147', 'винный|0.5753812', 'подвал|0.57499933', 'массивный|0.5743182', 'высоченный|0.57401067', 'среди|0.57249916', 'коврик|0.5716388']\n",
            "Aspect 13:\n",
            "['дымно|0.77233183', 'шумно|0.76512814', 'дым|0.7617476', 'душный|0.75146866', 'тесно|0.7465519', 'накурить|0.74424946', 'сидеть|0.7224266', 'прохладно|0.7215854', 'диван|0.7175319', 'вентиляция|0.7138593', 'неуютный|0.7101495', 'диванчик|0.70887065', 'мешать|0.7029276', 'курить|0.6971569', 'дышать|0.68438786', 'кабинка|0.68327457', 'вытяжка|0.6831314', 'друг_друг|0.68092513', 'слышный|0.66861117', 'вокруг|0.6668901', 'прокурить|0.66070414', 'народ|0.6594578', 'беседка|0.65447927', 'комфортно|0.6529727', 'танцполый|0.64377356', 'зона|0.6416142', 'жарко|0.6404346', 'кресло|0.64004934', 'аквариум|0.63838595', 'сосед|0.6378039', 'коромысло|0.63365114', 'удобно|0.6327783', 'подушечка|0.6291795', 'табачный|0.6281986', 'помещение|0.6281057', 'дуть|0.628088', 'парочка|0.62765515', 'просторно|0.6249726', 'дальний|0.6210576', 'кондиционер|0.620409', 'сигаретный|0.6192406', 'зала|0.618049', 'уединённость|0.6126354', 'второе_этаж|0.6095773', 'курящий|0.6092322', 'жарковатый|0.60899806', 'близко|0.60849655', 'плед|0.6067971', 'стул|0.6063578', 'неудобно|0.6043399', 'неудобный|0.6034361', 'кондей|0.60294294', 'подушка|0.6021351', 'некурящий|0.60211766', 'тесноватый|0.6012002', 'терасс|0.60015774', 'веранда|0.5997432', 'барный_стойка|0.5974107', 'пропахнуть|0.59660614', 'светло|0.5956258', 'наверху|0.59523726', 'тихо|0.59307057', 'тесновато|0.59223855', 'тв|0.58983344', 'развалиться|0.58882105', 'комната|0.58855534', 'орать|0.5883575', 'высоченный|0.5870686', 'прикольный|0.586156', 'комнатка|0.58403194', 'детский_комната|0.5826492', 'дымить|0.5824441', 'курильщик|0.5817835', 'экран|0.5816766', 'камин|0.58095396', 'устроиться|0.58063054', 'стульчик|0.58011854', 'телевизор|0.5786538', 'воздух|0.5774336', 'спокойно|0.5770571', 'интимный|0.5769202', 'шум|0.5741587', 'темноватый|0.5731839', 'деление|0.5731704', 'разделение|0.57252085', 'туалет|0.56986046', 'зальчик|0.5691665', 'танцевать|0.56872606', 'уединение|0.56838053', 'внизу|0.56751883', 'расположиться|0.5666933', 'закутка|0.5660089', 'скамейка|0.56425714', 'сидение|0.5618374', 'свет|0.5601069', 'полумрак|0.55997777', 'плетёный|0.5593503', 'курение|0.5578123', 'приглушить|0.5577802', 'зал|0.5557866']\n",
            "2019-12-24 03:44:04,772 INFO Epoch 9, train: 5s\n",
            "2019-12-24 03:44:04,772 INFO Total loss: 3.6475, max_margin_loss: 3.5386, ortho_reg: 0.1088\n",
            "100% 594/594 [00:05<00:00, 104.03it/s]\n",
            "Aspect 0:\n",
            "['заглянуть|0.730103', 'захотеться|0.7253953', 'перекусить|0.7192527', 'питер|0.7168103', 'поехать|0.709689', 'зайти|0.7023076', 'случайно|0.7011725', 'жить|0.700832', 'сходить|0.70013934', 'заехать|0.68278897', 'пообедать|0.6796147', 'поужинать|0.67916477', 'недавно|0.6752968', 'недалеко|0.67277694', 'покушать|0.66720545', 'ездить|0.6655401', 'любим|0.6637435', 'ехать|0.66079646', 'московский|0.6598865', 'заходить|0.65616775', 'заезжать|0.6561232', 'однажды|0.65482056', 'давно|0.6538198', 'забежать|0.6438066', 'подружка|0.6430093', 'частенько|0.6429038', 'поболтать|0.64109075', 'петроградка|0.6373954', 'это_место|0.635288', 'район|0.63387203', 'сюда|0.63281476', 'попить|0.62479997', 'заскочить|0.62028503', 'это_кафе|0.6128015', 'целенаправленно|0.60575026', 'любимый|0.60566723', 'дом|0.5967796', 'заслать|0.59450006', 'проезжать|0.5870107', 'открыться|0.58567095', 'добраться|0.58529216', 'специально|0.5845118', 'вчера|0.58444476', 'москва|0.5811539', 'посетить|0.5796724', 'сегодня|0.5792811', 'невский|0.57775027', 'захаживать|0.57766396', 'ужинать|0.57655835', 'забрести|0.57563835', 'приезжать|0.57491887', 'вспомнить|0.57390016', 'хороший_место|0.5735149', 'прогулка|0.5711632', 'местечко|0.57051194', 'васильевский|0.5693011', 'посидеть|0.5663253', 'вечером|0.56346023', 'ходить_туда|0.56266886', 'друг|0.5623947', 'ближний|0.56217206', 'знакомый|0.5610401', 'попасть|0.55961233', 'приморский|0.55678546', 'васька|0.5538374', 'позавтракать|0.5524725', 'занести|0.5516318', 'обедать|0.55084634', 'летом|0.5496255', 'остров|0.5492619', 'побывать|0.5470177', 'разочароваться|0.54423046', 'поход|0.5438033', 'приятель|0.54179394', 'нибыть|0.54053146', 'пивко|0.53988004', 'вновь|0.53647', 'отправиться|0.5343814', 'забегать|0.5343496', 'ресторанчик|0.53284717', 'заглядывать|0.5322146', 'рада|0.53085196', 'отдохнуть|0.52932525', 'привести|0.52630746', 'выходной|0.5256334', 'город|0.5254494', 'возвращаться|0.5216048', 'поесть|0.5199659', 'решить|0.5130242', 'впервые|0.50918597', 'довестись|0.5084145', 'проверить|0.5083951', 'захотеть|0.5080383', 'неподалёку|0.5067073', 'посещать|0.50655174', 'встретиться|0.50548863', 'жан|0.50456184', 'лиговка|0.5040292', 'днём|0.50394595', 'наведаться|0.5029631']\n",
            "Aspect 1:\n",
            "['заманчивый|0.69841456', 'ознакомиться|0.65580785', 'купиться|0.6496979', 'значиться|0.6382575', 'сезонный|0.63391286', 'строчка|0.63076985', 'страничка|0.6293583', 'изучение|0.6138592', 'предложение|0.61279523', 'касательно|0.60560274', 'обрадовать|0.6012833', 'чтение|0.5991168', 'действительность|0.5989187', 'стопа|0.59681433', 'выбрать|0.59298885', 'перечень|0.58847904', 'точный|0.5857809', 'интригующий|0.58572257', 'соблазниться|0.58404803', 'подробный|0.5819262', 'обозначить|0.5786768', 'остановить|0.57840097', 'разбегаться|0.57474023', 'вариант|0.57308793', 'продегустировать|0.5687098', 'ссылка|0.56865096', 'дегустационный|0.56727296', 'описание|0.5653398', 'аперитив|0.5612526', 'вышеуказанный|0.55763566', 'перечислить|0.5558768', 'изучить|0.55573404', 'красочный|0.55492955', 'банкетик|0.5485854', 'омар|0.5482084', 'вк|0.5480444', 'ошибаться|0.5480257', 'просмотреть|0.5473753', 'страница|0.5473285', 'остановиться|0.54625285', 'инуть|0.5461799', 'наиболее|0.543885', 'недурственный|0.5438011', 'сайт|0.54000807', 'каберне|0.53945446', 'угадать|0.5378088', 'отметиться|0.5368747', 'статья|0.53664696', 'кавказка|0.5361675', 'старт|0.5360303', 'первоначально|0.53546065', 'именно_это_место|0.53392', 'прочтение|0.53298175', 'полистать|0.5327461', 'разбежаться|0.531423', 'разумеется|0.53109026', 'захер|0.5304651', 'заинтриговать|0.52941793', 'а4|0.52876747', 'решиться|0.5280119', 'версия|0.5278146', 'расширить|0.5272813', 'велкома|0.5241574', 'заказной|0.52336276', 'смутно|0.5231752', 'спутница|0.52310705', 'разгуляться|0.5230694', 'шрифт|0.5226152', 'св|0.52248144', 'озвучить|0.52107084', 'пасть|0.52078825', 'фигурировать|0.51979715', 'непривычный|0.51959205', 'содержание|0.5192355', 'название|0.51912975', 'расписать|0.5188967', 'презентация|0.5181929', 'перейти|0.51809835', 'прокомментировать|0.51768404', 'именно_это_заведение|0.51707584', 'велик|0.5168308', 'замешательство|0.5167326', 'аналогично|0.51645935', 'австралийский|0.516431', 'спецпредложение|0.51554024', 'перевод|0.5145674', 'розлив|0.5131664', '190р|0.5131234', 'обширный|0.5126097', 'сообразить|0.51244277', 'америка|0.51184547', 'разделиться|0.5115832', 'вьетнамский|0.510249', '390р|0.51009244', 'кесадилья|0.5094733', 'португальский|0.50944483', 'правильность|0.50868213', 'калория|0.5081298', 'тортовый|0.50704783', 'раздел|0.5069578']\n",
            "Aspect 2:\n",
            "['говядина|0.7311739', 'гриль|0.71241117', 'овощ|0.69690984', 'карпаччо|0.68969584', 'рыба|0.6817174', 'стейк|0.6749724', 'лосось|0.67221636', 'рибай|0.6712094', 'цыплёнок|0.66609275', 'курица|0.66559625', 'филе|0.6613162', 'баклажан|0.6598735', 'креветка|0.6591128', 'свинина|0.6358602', 'свиной|0.63142806', 'картофель|0.6298822', 'салат_цезарь|0.6297167', 'барашек|0.6218709', 'стейка|0.6204635', 'куриный|0.6201474', 'котлета|0.6191614', 'форель|0.61499506', 'морепродукт|0.61295056', 'тунец|0.61293393', 'судак|0.61238813', 'сацивить|0.6117481', 'кальмар|0.61148596', 'оливья|0.6111183', 'ягнёнок|0.6096629', 'миньон|0.6087939', 'цезарь|0.60722554', 'дорад|0.60520005', 'баранина|0.60504746', 'краб|0.60410625', 'медальон|0.6021689', 'дорада|0.60115457', 'вок|0.60047114', 'грудка|0.5943636', 'овощной|0.5940273', 'свинин|0.5939034', 'плов|0.59290445', 'телятина|0.59183675', 'гребешок|0.5898256', 'утка|0.58901393', 'кебаб|0.5873884', 'жареный|0.58686495', 'сибас|0.5868131', 'шашлык|0.58529454', 'мраморный|0.5852414', 'пекински|0.58392066', 'мидия|0.5833148', 'гарнир|0.58243173', 'прожарка|0.58235115', 'копчёный|0.5809578', 'рыбка|0.58029944', 'греческий|0.5802932', 'мангал|0.57877606', 'крылышко|0.5778363', 'ростбиф|0.57729805', 'бургера|0.5768293', 'запечь|0.5765568', 'рис|0.57613933', 'тара_тара|0.57060397', 'мясо|0.57049394', 'кисло_сладкое_соус|0.5704891', 'колбаска|0.568107', 'сёмга|0.5672134', 'запечёный|0.5667485', 'осьминог|0.56398576', 'мясной|0.56234586', 'солянка|0.56215227', 'печень|0.5614871', 'утиный|0.56141645', 'котлетка|0.5572753', 'долма|0.5553416', 'кура|0.5542618', 'говяжий|0.5542289', 'жарить|0.5534775', 'острый|0.54917496', 'королевский|0.5484643', 'драник|0.5464043', 'помидор|0.54635096', 'авокадо|0.5454119', 'ризотто|0.5436557', 'каре|0.5423291', 'салатик|0.5420097', 'костя|0.54082596', 'бараний|0.539953', 'айдахо|0.539842', 'шашлычок|0.53905207', 'палтус|0.538466', 'крабовый|0.53804255', 'ребро|0.53799057', 'люля|0.53755426', 'рыбный|0.5375205', 'томат|0.53728175', 'кляр|0.5371566', 'селёдка|0.5353782', 'картошка|0.53487456', 'сырой|0.5346799']\n",
            "Aspect 3:\n",
            "['господин|0.7796256', 'ресторатор|0.74636894', 'простить|0.7443403', 'позор|0.7351185', 'критика|0.73351884', 'ум|0.73234403', 'существовать|0.72692925', 'личный|0.719007', 'понятие|0.7143545', 'владелец|0.70123035', 'право|0.69817317', 'негатив|0.6977232', 'уважаемый|0.69530684', 'гнать|0.6838473', 'автор|0.68155414', 'зарплата|0.68121797', 'скрыть|0.6806165', 'речь|0.6798176', 'практика|0.6739057', 'злой|0.6718937', 'высказывание|0.6717631', 'борис|0.66941625', 'знак|0.6670873', 'пусть|0.666928', 'управленец|0.6666764', 'быдло|0.66428506', 'совесть|0.6642568', 'репутация|0.66325724', 'постараться|0.660722', 'иначе|0.6603881', 'хозяин|0.6569233', 'откровенный|0.65689844', 'представитель|0.6564269', 'хамство|0.6555033', 'уверенный|0.65330637', 'задуматься|0.6521154', 'жизнь|0.650629', 'стороной|0.65047705', 'наплевать|0.6504316', 'менеджмент|0.6470983', 'сфера|0.64636445', 'обходить|0.6463414', 'допускать|0.64586985', 'бог|0.6426314', 'довести|0.6423546', 'уволить|0.6419962', 'учиться|0.6386688', 'тенденция|0.63866526', 'ругать|0.637817', 'неужели|0.6374706', 'уважать|0.6364417', 'бред|0.63499653', 'значение|0.6344507', 'удалять|0.6322726', 'никак|0.6303202', 'потребитель|0.63008535', 'здравый|0.62904584', 'опыт|0.6284934', 'чувак|0.6270361', 'потерять|0.6262485', 'предприятие|0.62624454', 'общепит|0.62594855', 'непрофессиональный|0.6259165', 'иметь|0.6256935', 'вложить|0.62502146', 'плевать|0.6244148', 'вечно|0.62338173', 'называть|0.6215918', 'стремиться|0.62141436', 'разойтись|0.621132', 'licorice|0.62097317', 'история|0.62022626', 'верить|0.6200074', 'твориться|0.61925995', 'тренд|0.61918044', 'развитие|0.61898994', 'сугубо|0.6182025', 'обман|0.61806166', 'объективный|0.61770976', 'понимание|0.61596096', 'субъективный|0.61411697', 'мысль|0.61392885', 'бороться|0.6134008', 'извинить|0.61337465', 'блог|0.6128095', 'воровать|0.61194396', 'оратор|0.6109132', 'нарушение|0.6107105', 'непрофессионализм|0.60935915', 'обратный|0.6086499', 'человеческий|0.60799587', 'дословно|0.60708255', 'прощать|0.60492074', 'ада|0.6028866', 'совковый|0.602719', 'терять|0.6026476', 'питание|0.6024922', 'культура|0.6023116', 'предъявлять|0.60175693', 'звезда|0.6017144']\n",
            "Aspect 4:\n",
            "['девочка|0.78490084', 'улыбчивый|0.74768347', 'улыбка|0.7384114', 'улыбаться|0.735493', 'молодая_человек|0.73156023', 'мальчик|0.7223458', 'официантка|0.7146193', 'официант|0.69647396', 'девушка|0.69043666', 'обслуживать|0.67686665', 'любезный|0.67584693', 'расторопный|0.6690763', 'учтивый|0.6684922', 'доброжелательно|0.6663546', 'парень|0.6637902', 'вежливый|0.65926564', 'мила|0.6544437', 'интересоваться|0.6496133', 'юноша|0.63177574', 'доброжелательный|0.6316891', 'офицант|0.63102674', 'чётко|0.626238', 'стараться|0.6190473', 'появляться|0.61784935', 'персонал|0.60895437', 'забывать|0.60624623', 'вовремя|0.6044416', 'обходительный|0.6027806', 'внимательно|0.6023941', 'звать|0.6013367', 'оперативно|0.59857094', 'услужливый|0.5874772', 'предупредительный|0.58553714', 'обслуживающий|0.5781569', 'старательный|0.5758306', 'успевать|0.5748487', 'провожать|0.57118165', 'барышня|0.5681767', 'пепельница|0.5674058', 'лицо|0.5664364', 'шустрый|0.5658767', 'обслуживающий_персонал|0.56552017', 'навязчивый|0.5633012', 'менять|0.56271005', 'обслужить|0.5615576', 'незаметно|0.5583096', 'приветливо|0.5560249', 'общительный|0.5554525', 'задержка|0.55495274', 'бармен|0.552935', 'смена|0.54570794', 'прощаться|0.5453826', 'весь_время|0.543996', 'наш_столик|0.5433574', 'приветливый|0.5417867', 'молодая|0.5387569', 'дружелюбно|0.5385676', 'голос|0.5382614', 'выполнять|0.5353805', 'общаться|0.5343466', 'внимательный|0.53318775', 'корректно|0.5324133', 'молниеносно|0.53208387', 'быстрый|0.52990764', 'администратор|0.52858067', 'профессионально|0.5284251', 'ненавязчивый|0.52721786', 'молодец|0.52379817', 'постоянно|0.52275705', 'очень_быстро|0.51985514', 'тактично|0.5196636', 'следить|0.5196625', 'разговаривать|0.5194057', 'здороваться|0.5190486', 'заботливый|0.51861197', 'милый|0.51759124', 'ребята|0.5162544', 'незаметный|0.5158228', 'уносить|0.5150236', 'реагировать|0.5136498', 'назойливый|0.5118741', 'молоденький|0.5117472', 'медленно|0.5110021', 'отвечать|0.5048396', 'очень_милый|0.50435185', 'хостёс|0.5039797', 'компетентный|0.5021241', 'шутить|0.49005786', 'хостесса|0.4896311', 'молодая_человек_который|0.48877054', 'быстро|0.48837468', 'своевременно|0.4878776', 'принимать|0.48360616', 'дружелюбный|0.48213947', 'внешность|0.4796003', 'убирать|0.4763527', 'подходить|0.4758461', 'неопытный|0.47473323', 'обаятельный|0.47417358', 'убираться|0.4724853']\n",
            "Aspect 5:\n",
            "['изыск|0.74235386', 'ценник|0.72120965', 'выше|0.69779015', 'завысить|0.6968921', 'весь_остальной|0.691121', 'уровень|0.6897418', 'касаться|0.6868484', 'учитывать|0.67634815', 'соответствовать|0.6568639', 'недостаток|0.64823806', 'посредственный|0.64736694', 'сравнение|0.64675903', 'японский|0.64625084', 'цена_качество|0.6427275', 'не_мочь_сказать|0.6422616', 'прежний|0.6379248', 'качество|0.6306985', 'многий|0.62912035', 'принцип|0.62546897', 'средненький|0.62539256', 'намного|0.62276417', 'приемлемый|0.62250364', 'вполне|0.6215904', 'нарекание|0.61812204', 'крайний_мера|0.61371267', 'цена|0.6108326', 'разнообразие|0.60857284', 'соотношение_цена_качество|0.6081833', 'достойный|0.6079054', 'среднее|0.6078989', 'простой|0.6057884', 'ничто_особенный|0.60128963', 'остальной|0.6006181', 'отличие|0.5961833', 'исключение|0.59479964', 'действительно|0.5936787', 'менее|0.59133315', 'гораздо|0.5893598', 'отличаться|0.5887862', 'европейский|0.58733183', 'бизнес_ланча|0.5868707', 'пожалуй|0.5848811', 'относительно|0.5848753', 'придраться|0.57920325', 'ценовый|0.5776745', 'скромный|0.57711804', 'крайне|0.5753861', 'радовать|0.57220984', 'ниже|0.571376', 'добротный|0.5708853', 'демократичный|0.5707444', 'качественный|0.57033926', 'оценивать|0.57001156', 'главный|0.568859', 'категория|0.5667875', 'высокий|0.56660277', 'особый|0.565254', 'сносный|0.56450474', 'дорого|0.56439674', 'китайский|0.56435025', 'достаточно|0.5611056', 'дороговатый|0.5587758', 'претензия|0.55720216', 'фаста|0.55683976', 'оставлять_желать_хороший|0.556693', 'средний|0.55659914', 'целое|0.5557736', 'умеренный|0.55525136', 'оценка|0.55350894', 'особо|0.55251193', 'кухня|0.55243045', 'плохой|0.5519104', 'адекватный|0.5485717', 'удивлять|0.5481831', 'недорогой|0.54670346', 'сетевой|0.5457995', 'неплохо|0.54362774', 'значительно|0.5432968', 'неоправданно|0.53390414', 'очень_большой|0.5335123', 'гуманный|0.5305767', 'однако|0.5304918', 'еда|0.53027064', 'неплохой|0.5302537', 'очень_хороший|0.53007054', 'однозначно|0.52896994', 'дёшево|0.52713454', 'средне|0.5239332', 'обычный|0.521839', 'заоблачный|0.5213475', 'стандартный|0.5194491', 'ожидать|0.51275617', 'имхо|0.510585', 'хороший|0.51027286', 'выдающийся|0.510146', 'план|0.509094', 'разочаровать|0.50434375', 'хромать|0.5042319', 'последний_время|0.50402635', 'особенный|0.5024445']\n",
            "Aspect 6:\n",
            "['лежалый|0.6028854', 'штука|0.58532846', 'коробка|0.5753695', 'упаковка|0.5681181', 'гора|0.56424785', 'диаметр|0.5542896', 'подсушить|0.5476333', 'холодильник|0.54628074', 'уложить|0.5413456', 'булочка|0.541226', 'блюдечко|0.54084176', 'пластина|0.54044694', 'килограмм|0.54018855', 'лента|0.5386248', 'размазать|0.5383287', 'четыре|0.53811806', 'хлеб|0.53801584', 'разложить|0.53712887', 'стопочка|0.5359497', 'ржаной|0.5344239', 'булка|0.5339235', 'икра|0.5331089', 'печь|0.53309953', 'прилипнуть|0.5315985', 'чёрствый|0.5309325', 'ручной|0.5307983', 'нарезка|0.52990997', 'тарелочка|0.52972484', 'бутерброд|0.5291531', 'чиабатта|0.5288802', 'мм|0.5286845', 'горка|0.5266627', 'хк|0.52639514', 'веточка|0.526122', 'багет|0.5253099', 'вуаля|0.52507126', 'жалкий|0.5238323', 'оливковый|0.523103', 'половинка|0.5222896', 'заветренный|0.52202386', 'долька|0.5207377', 'слой|0.5202068', 'остаток|0.52005863', 'залить|0.51896536', 'край|0.5185289', 'засохнуть|0.51849806', 'тост|0.51745594', 'закусывать|0.516433', 'хамон|0.51594937', 'ломоть|0.5156064', 'пополам|0.51325864', 'четвертинка|0.51274043', 'треугольник|0.5125387', 'картофелина|0.5121772', 'куча|0.5120234', 'капля|0.51140463', 'выложить|0.51008314', 'целиком|0.50997096', 'хлебушек|0.5092221', 'порезать|0.50799775', 'целый|0.50736773', 'насыпать|0.5058982', 'плошка|0.50577855', 'кожура|0.50558317', 'дно|0.5054411', 'миллиметр|0.5048935', 'помидорка|0.5044075', 'включая|0.5039228', 'гигантский|0.5034935', 'крохотный|0.5031619', 'хлопья|0.50270754', 'мисочка|0.50192773', 'толстой|0.50184107', 'сырный|0.5017279', 'сухарь|0.5008298', 'собирать|0.5002533', 'нарезать|0.50006044', 'рота|0.49955758', 'глиняный|0.49937493', 'сахарный|0.49932212', 'виноград|0.49851352', 'малюсенький|0.49846637', 'салями|0.49844694', 'пиала|0.4984367', 'ломтик|0.49766275', 'сало|0.49738473', 'оливка|0.49726778', 'полить|0.49524412', 'маслина|0.49510214', 'лимон|0.49426594', 'ледяной|0.4938579', 'лайм|0.4933983', 'блюдце|0.4924069', 'мёд|0.4923587', 'соусник|0.4922539', 'комплект|0.49170208', 'банка|0.4916178', 'хлебный|0.49160874', 'съедать|0.49143204', 'кружочек|0.4912002']\n",
            "Aspect 7:\n",
            "['предупредить|0.711648', 'уточнить|0.7056976', 'прийтись|0.7005937', 'поинтересоваться|0.6964084', 'выясниться|0.6932802', 'сообщить|0.6853013', 'попытка|0.680445', 'уточнять|0.6730345', 'просить|0.67015207', 'предупреждать|0.6667141', 'унести|0.665759', 'отказаться|0.66564137', 'успеть|0.6611009', 'курс|0.66051555', 'естественно|0.65876234', 'мол|0.6568948', 'вынести|0.6548996', 'полчаса|0.6516461', 'забрать|0.6508808', 'ответить|0.65063506', 'сделать_заказ|0.64925325', 'обратно|0.64700025', 'пропасть|0.64479077', 'спросить|0.64384115', 'ладный|0.6431659', 'попросить|0.6431279', 'подумать|0.641683', 'дождаться|0.6412886', 'подождать|0.6387005', 'убрать|0.6383091', 'отказать|0.6375973', 'объяснить|0.63559353', 'извиниться|0.63366085', 'записать|0.6295613', 'выяснить|0.6292074', 'приход|0.6277942', 'сначала|0.62674654', 'исчезнуть|0.6245655', 'последовать|0.62258303', 'ответ|0.62141085', 'отказываться|0.61804813', 'пришлый|0.6178063', 'пообещать|0.61569816', 'забыть|0.6154915', 'попытаться|0.61422825', 'поменять|0.61014634', 'заставить|0.6082022', '15_минута|0.6073139', 'спрашивать|0.6046837', 'перепутать|0.6038995', 'предложить|0.5996779', 'затем|0.5965675', 'позвать|0.5958376', 'пытаться|0.59556925', 'готовый|0.5885817', '10_минута|0.5871295', 'вопрос|0.5859375', 'освободиться|0.5850171', 'убежать|0.5812732', 'поймать|0.5812628', 'подойти|0.5807172', 'указать|0.5790758', 'вернуть|0.5789268', 'принять|0.5785886', 'её|0.5769931', 'телефон|0.5748273', 'сообщать|0.573442', 'нея|0.57112104', 'встать|0.5682906', 'извиняться|0.56701493', 'принять_заказ|0.56450737', 'разобраться|0.56444585', 'никто_не|0.5628833', 'приняться|0.5611874', 'выяснять|0.560171', 'забирать|0.5585', 'положить|0.55769664', 'не_смочь|0.5561188', 'самостоятельно|0.5560546', '20_минута|0.5556445', 'обратиться|0.5549201', 'оказываться|0.55338526', 'просьба|0.55296165', 'молча|0.5522018', 'закончиться|0.55142295', 'расчёт|0.55133986', 'почему|0.54981554', 'предлагать|0.54893297', 'пересадить|0.54768515', 'обещать|0.5470725', 'пожалуйста|0.5458442', 'удивиться|0.5457992', 'неприятно|0.54549927', 'виноватый|0.54450583', 'согласиться|0.5444652', 'извинение|0.54346585', 'уйти|0.5432378', 'прождать|0.5402918', 'бронь|0.5396681', 'заменить|0.5388198']\n",
            "Aspect 8:\n",
            "['шоколад|0.74016494', 'клубника|0.7148249', 'варение|0.7119533', 'кекс|0.70813', 'малиновый|0.7053719', 'крем|0.69971836', 'яблочный|0.69515574', 'сливка|0.69494444', 'сорбета|0.6936203', 'мусса|0.69118875', 'шоколадный|0.68819416', 'мятный|0.6775936', 'клубничный|0.6764159', 'печение|0.67452645', 'вафельный|0.66906285', 'сладость|0.6686726', 'ванильный|0.6684612', 'карамельный|0.6674215', 'миндальный|0.66740143', 'пирог|0.66709834', 'сладкий|0.66591924', 'эклер|0.6633841', 'малин|0.65902114', 'молоко|0.6565503', 'морковный|0.6561594', 'манговый|0.6553002', 'имбирный|0.6547446', 'ароматный|0.65421873', 'корица|0.65375316', 'вишня|0.6507268', 'карамель|0.6450204', 'апельсиновый|0.64394844', 'сладко|0.642379', 'чизкейк|0.6418208', 'мятый|0.6414131', 'панакот|0.6393235', 'ягода|0.6371013', 'лимонный|0.636384', 'мороженный|0.63506544', 'черничный|0.63474745', 'суфле|0.6344009', 'желе|0.6342335', 'грушевый|0.633859', 'бисквит|0.6336422', 'меренга|0.6318673', 'творожный|0.6309545', 'капуччиный|0.629999', 'ваниль|0.6273386', 'брауни|0.6272029', 'пенка|0.6271167', 'наполеон|0.62588036', 'вафля|0.6235689', 'взбить|0.62317675', 'чабрец|0.620322', 'печенюшка|0.6200175', 'сорбетом|0.6181568', 'горячий|0.61795866', 'брюла|0.6173732', 'мороженое|0.61596876', 'манго|0.61437786', 'послевкусие|0.6138029', 'грецкий|0.61377645', 'запивать|0.6123855', 'груша|0.6122185', 'марципановый|0.61204934', 'песочный|0.6119722', 'яблоко|0.60984904', 'шарик|0.60984904', 'чиз|0.6097921', 'кокосовый|0.60912454', 'медовик|0.6089536', 'густой|0.6088183', 'фисташковый|0.60492945', 'трубочка|0.60468364', 'сахарный|0.6046511', 'корочка|0.6031172', 'брусничный|0.6031029', 'джема|0.6029699', 'воздушный|0.60276425', 'сгущёнка|0.602115', 'кейк|0.60169345', 'пирожное|0.6015859', 'мёд|0.601285', 'сироп|0.5998517', 'штрудель|0.59886134', 'трюфель|0.5979787', 'сладкое|0.59756917', 'малина|0.5973866', 'приторный|0.59737986', 'профитроль|0.5971974', 'каппучиный|0.5963372', 'базиликовый|0.5961835', 'клюква|0.595826', 'маскарпон|0.5952943', 'тархун|0.5949199', 'пропитать|0.5922489', 'орех|0.5907404', 'какао|0.58962214', 'маракуйя|0.5885899', 'фреш|0.58842134']\n",
            "Aspect 9:\n",
            "['отдельный_спасибо|0.7949636', 'огромный_спасибо|0.7446154', 'праздник|0.7407204', 'большой_спасибо|0.73607826', 'весь_гость|0.7211204', 'благодарность|0.7063905', 'праздничный|0.69171757', 'тамада|0.6882444', 'организация|0.67544174', 'незабываемый|0.6587855', 'шоу|0.6584619', 'команда|0.6550158', 'весь_наш|0.654566', 'ведущий|0.6529549', 'спасибо|0.65039086', 'организовать|0.64707553', 'коллектив|0.64663655', 'кондитер|0.6405827', 'профессионал|0.63581634', 'чуткий|0.6312692', 'прекрасно|0.6289573', 'поблагодарить|0.6257799', 'профессионализм|0.6253504', 'марин|0.61876047', 'майкл|0.61827016', 'респект|0.61682606', 'весь_гость_остаться_довольный|0.6149844', 'благодаря|0.6134237', 'подарок|0.61193794', 'исполнить|0.6089353', 'невеста|0.6086813', 'ольга|0.6079633', 'свадебный|0.607324', 'шеф_повар|0.6024945', 'великолепно|0.6012714', 'торжество|0.60054547', 'торт|0.5998293', 'создать|0.5996283', 'подготовка|0.5989233', 'фейерверк|0.59686494', 'великолепный|0.59444475', 'самый_главный|0.593681', 'благодарный|0.5931157', 'поклон|0.5926875', 'елена|0.5917382', 'подарить|0.59129', 'выразить|0.5898156', 'выражать|0.589797', 'сергей|0.5893762', 'совет|0.5873306', 'каравай|0.5858865', 'уважение|0.5837441', 'андрей|0.58212495', 'забота|0.5820319', 'евгений|0.5820132', 'фуршет|0.58173466', 'алексей|0.57842183', 'молодожён|0.5780644', 'высокий_уровень|0.5759685', 'пожелание|0.57486236', 'очень_довольный|0.5742469', 'благодарить|0.57309', 'владимир|0.5710399', 'наш_гость_остаться_очень_довольный|0.57021725', 'программа|0.5696219', 'также|0.56760174', 'помочь|0.5673391', 'конкурс|0.5667412', 'грамотный|0.56467175', 'марина|0.5604083', 'гость|0.55893594', 'ирина|0.55862343', 'весь_наш_пожелание|0.55846566', 'проведение|0.55610347', 'процветание|0.5560669', 'дмитрия|0.5547261', 'отдельный|0.55429053', 'поздравление|0.5534652', 'виктор|0.5528265', 'чудесный|0.5514086', 'остаться_довольный|0.5493865', 'очень_приятно|0.54728687', 'порекомендовать|0.5462857', 'наталья|0.5451046', 'гостеприимство|0.54394233', 'александр|0.5432729', 'прекрасный|0.543153', 'шикарный|0.5423562', 'внимательность|0.54073477', 'потрясающе|0.5371019', 'татьяна|0.5370968', 'душа|0.536872', 'подбор|0.5363932', 'станислав|0.5345931', 'вячеслав|0.53440833', 'анастасия|0.53424644', 'потрясать|0.5310724', 'мероприятие|0.5296249', 'успех|0.529441', 'артист|0.52373457']\n",
            "Aspect 10:\n",
            "['висок|0.7714317', 'литр|0.7345544', 'водка|0.72842085', 'пинта|0.692347', 'пиво|0.6885851', 'разливный|0.6645129', 'бутылочный|0.6557964', 'кола|0.6482634', 'кружка|0.6461797', 'ньюкасл|0.64046824', 'безалкогольный|0.6300169', 'сорт|0.62693775', 'коньяк|0.61883557', 'крепкий|0.61796284', 'крушовица|0.613184', 'алкогольный|0.59686875', 'карта|0.5934893', 'бутылочка|0.5898384', 'коктейль|0.5855446', 'напиток|0.5796457', 'бесплатный|0.57501554', 'гиннес|0.57417434', 'бутылка|0.57174206', 'алкоголь|0.5707079', 'мл|0.57001686', 'мохитый|0.56502694', 'наливать|0.56413513', 'пить|0.5574341', 'графин|0.5566703', 'бланша|0.5562919', 'сок|0.5547592', 'бокал|0.5455724', 'мартини|0.5449344', 'стакан|0.5440701', 'вод|0.540897', 'нефильтрованный|0.53831625', 'харп|0.5309953', 'коктейльный|0.52659523', 'текила|0.52293074', 'лонг|0.5174366', 'шампанский|0.50739896', 'спиртное|0.50704455', 'лицензия|0.5067552', 'вода|0.5064371', 'бесплатно|0.4972514', 'налить|0.496312', 'сидр|0.49589995', 'выпить|0.49437642', 'морс|0.49334157', 'распитие|0.48690355', 'акция|0.48214102', 'вельвет|0.48124066', 'василеостровский|0.47917384', 'продавать|0.47723877', 'эдельвейс|0.47449684', 'рюмка|0.47422102', 'бл|0.4739361', 'руль|0.47385538', 'кок|0.47378218', 'гр|0.47218713', 'коктель|0.47072098', 'чек|0.46821386', 'эспрессо|0.46757126', 'покупать|0.46590438', 'кальян|0.460989', 'пивная|0.4592486', 'айленд|0.4587121', 'гинесса|0.45797202', 'разбавить|0.45586938', 'игристый|0.4557941', 'пивко|0.45486748', 'лёд|0.45301908', '100р|0.44938958', 'скидка|0.44829148', 'килкенни|0.44806534', 'бар|0.4460745', 'бармен|0.44561207', 'литровый|0.44404006', 'сангрия|0.44392568', 'хугарден|0.44316417', 'пивоварня|0.44117954', 'тысяча|0.4411577', 'купить|0.4405114', 'свежевыжать|0.43679437', 'эль|0.4367568', 'грамм|0.4363612', 'стоимость|0.4355983', 'махитый|0.4291919', 'заплатить|0.42489517', 'америкать|0.4242428', 'рубль|0.4241184', 'набор|0.4234577', 'квас|0.42322016', 'евро|0.4191351', 'дисконтный|0.4168664', 'лагер|0.41523847', 'рэ|0.41460887', 'обойтись|0.4137473', 'стопка|0.4136386', 'глинтвейн|0.41222823']\n",
            "Aspect 11:\n",
            "['летие|0.7952354', 'февраль|0.76405954', 'июнь|0.76303303', 'декабрь|0.7539084', 'август|0.7458417', 'сентябрь|0.745342', 'май|0.73955894', 'июль|0.7395004', '2011г|0.736948', 'март|0.72653174', 'январь|0.7193385', 'октябрь|0.71637595', 'го|0.6991483', 'корпоратить|0.6982924', 'праздновать|0.6915443', 'ноябрь|0.6912446', 'дата|0.6765853', 'отмечать_день_рождение|0.66820085', 'юбилей|0.66717184', 'др|0.6619318', 'отмечать|0.6613119', 'апрель|0.6522433', 'наш_свадьба|0.64548117', 'справлять|0.6452607', 'бракосочетание|0.6427396', 'часы|0.6366583', 'день_рождение|0.6326237', 'ти|0.6258615', 'корпоративный|0.6227207', 'празднование|0.61354005', 'корпоратив|0.6076672', 'выпускной|0.6076578', 'состояться|0.60486066', 'воскресение|0.60228044', 'отпраздновать|0.60010684', 'новогодний|0.59840965', 'год|0.59280807', 'новый_год|0.5893507', 'неделя|0.58302575', 'ночь|0.5755938', 'свадьба|0.57538223', 'дочь|0.57355857', 'прошлый|0.566185', 'годовщина|0.56535137', 'свой_день_рождение|0.5643351', 'мероприятие|0.55856234', 'семья|0.5576092', 'суббота|0.55276334', '2013г|0.5494044', 'торжество|0.5487797', 'праздновать_день_рождение|0.5465826', 'нг|0.5442467', 'банкетный_зал|0.5423221', '2014г|0.5422933', 'выездной|0.538558', 'девичник|0.534563', '2010г|0.5332441', 'свадебный|0.53182447', 'месяц|0.5315419', 'утро|0.5291152', 'вечеринка|0.5290682', 'четверг|0.5239476', 'однокурсник|0.5233749', 'устроить|0.52305394', 'дочка|0.5229932', 'приехать|0.5223086', 'переговоры|0.5205159', 'событие|0.517163', 'пр|0.51656413', 'чело|0.51643085', 'честь|0.51593375', 'сын|0.51593333', 'вторник|0.51458657', 'число|0.51267725', 'минувший|0.5126594', 'банкет|0.5120519', 'втроём|0.51158047', 'год_назад|0.5113323', 'гулять|0.51003426', 'галерный|0.5086335', 'счастливый|0.50791466', 'накануне|0.5063709', 'арендовать|0.5053303', 'родитель|0.5050833', 'век|0.5033941', 'бельканто|0.5021974', 'планироваться|0.50017226', 'рождение|0.49846512', 'начаться|0.4967459', 'вчера|0.49667385', 'передохнуть|0.4957579', 'канун|0.4957538', 'проведение|0.49501923', 'регистрация|0.4931489', 'поздравить|0.49025196', 'супруга|0.48934758', 'отмечаться|0.48663232', 'перерыв|0.4860224', 'среда|0.4851054', 'это_ресторан|0.4806339']\n",
            "Aspect 12:\n",
            "['стен|0.7418984', 'полка|0.7285688', 'стена|0.7050111', 'потолок|0.69687366', 'рамка|0.6854695', 'картина|0.6851581', 'мебель|0.6836668', 'элемент|0.6800916', 'надпись|0.6769243', 'светильник|0.67323166', 'предмет|0.6721897', 'зеркало|0.6721877', 'стекло|0.67148495', 'прочий|0.66538894', 'стеклянный|0.6637013', 'старое|0.6634436', 'кирпичный|0.66310245', 'золотой|0.662344', 'деталь|0.6614926', 'фотография|0.66016734', 'дерево|0.66008973', 'старинный|0.65737456', 'внутренний|0.65691817', 'лампа|0.65629774', 'журнал|0.65541863', 'висеть|0.65495634', 'панель|0.6532175', 'люстра|0.65320504', 'плитка|0.65219665', 'плазменный|0.652031', 'серый|0.64551675', 'видный|0.6413981', 'современный|0.6388699', 'смотреться|0.6359495', 'крыша|0.63327587', 'здание|0.632036', 'картинка|0.6315205', 'черно|0.630275', 'декор|0.62995446', 'синий|0.6292822', 'кирпич|0.6291506', 'доска|0.6291071', 'убранство|0.6273681', 'потолочь|0.6255987', 'пространство|0.6248548', 'гамма|0.62431264', 'газета|0.62387395', 'уборный|0.6222824', 'шкаф|0.6197436', 'буфет|0.6189829', 'модерн|0.6189095', 'подоконник|0.6188445', 'кладка|0.6169139', 'туалетный|0.6153781', 'подсветка|0.6152489', 'искусственный|0.6145978', 'деревянный|0.6138695', 'цветовой|0.61296093', 'дизайнерский|0.611055', 'пол|0.6110047', 'ступенька|0.608449', 'свет|0.6045548', 'штора|0.6032944', 'полый|0.60303426', 'обои|0.6030126', 'клетка|0.6025206', 'угол|0.60051477', 'известный|0.599049', 'плазма|0.59878206', 'абажур|0.5976839', 'стиль|0.59759086', 'коричневый|0.59540474', 'бумага|0.5935439', 'полочка|0.593266', 'белоснежный|0.59151757', 'ткань|0.5905111', 'дух|0.58801705', 'вдоль|0.5879506', 'стеллаж|0.58794665', 'занавеска|0.5875231', 'дизайнер|0.5873701', 'кровать|0.5869118', 'тяжёлый|0.5868112', 'обилие|0.5864789', 'колонна|0.58581626', 'птичка|0.58538496', 'открываться|0.58368266', 'свод|0.5818703', 'логотип|0.57973355', 'советский|0.5790245', 'витрина|0.5789517', 'тон|0.57723784', 'цветочек|0.57666594', 'подвал|0.5758703', 'ля|0.5752969', 'винный|0.5752663', 'массивный|0.5745113', 'аксессуар|0.57430017', 'высоченный|0.5741265', 'ширма|0.5719972']\n",
            "Aspect 13:\n",
            "['дымно|0.769438', 'дым|0.75938815', 'шумно|0.7587991', 'душный|0.7490931', 'тесно|0.74129224', 'накурить|0.74109334', 'сидеть|0.7226728', 'прохладно|0.7184342', 'диван|0.7132244', 'вентиляция|0.7085527', 'неуютный|0.70639735', 'диванчик|0.70577353', 'мешать|0.69771814', 'курить|0.69509', 'дышать|0.67976743', 'вытяжка|0.6779196', 'кабинка|0.67682487', 'друг_друг|0.6752438', 'слышный|0.6629144', 'вокруг|0.66273934', 'прокурить|0.65698206', 'народ|0.6530353', 'беседка|0.6476816', 'комфортно|0.64593136', 'жарко|0.6381254', 'танцполый|0.6368218', 'аквариум|0.6363301', 'зона|0.63607854', 'кресло|0.6357019', 'коромысло|0.62937987', 'сосед|0.6289123', 'подушечка|0.6264541', 'табачный|0.6262221', 'удобно|0.6261493', 'дуть|0.62399673', 'парочка|0.62381977', 'помещение|0.6209701', 'дальний|0.6207876', 'просторно|0.6202177', 'кондиционер|0.6163574', 'сигаретный|0.6135725', 'зала|0.61194885', 'курящий|0.60923755', 'второе_этаж|0.6076907', 'жарковатый|0.6073795', 'уединённость|0.6062599', 'подушка|0.6039586', 'некурящий|0.6029735', 'неудобный|0.6019491', 'плед|0.60181427', 'близко|0.6014256', 'стул|0.60090137', 'неудобно|0.6000389', 'кондей|0.5971961', 'тесноватый|0.597129', 'веранда|0.5963452', 'терасс|0.59602296', 'барный_стойка|0.5943203', 'светло|0.59229213', 'пропахнуть|0.5917406', 'наверху|0.5905911', 'развалиться|0.58550155', 'орать|0.5854882', 'тесновато|0.5853585', 'прикольный|0.58439034', 'тихо|0.583928', 'высоченный|0.5838631', 'тв|0.5827849', 'комната|0.5818881', 'камин|0.58034706', 'устроиться|0.5781959', 'детский_комната|0.57799494', 'курильщик|0.5777955', 'дымить|0.5765571', 'стульчик|0.5760013', 'комнатка|0.57459086', 'экран|0.57405704', 'воздух|0.5735181', 'интимный|0.5723278', 'темноватый|0.5706903', 'телевизор|0.5698248', 'спокойно|0.5688329', 'разделение|0.5680362', 'деление|0.5661233', 'шум|0.5651928', 'расположиться|0.5645006', 'внизу|0.56414187', 'туалет|0.5625903', 'скамейка|0.56173337', 'танцевать|0.5615866', 'зальчик|0.5612048', 'уединение|0.5606031', 'закутка|0.5578442', 'плетёный|0.55715585', 'сидение|0.55652845', 'приглушить|0.5561435', 'полумрак|0.5558112', 'мужской|0.55523145', 'свет|0.55514604', 'курение|0.55233634']\n",
            "2019-12-24 03:44:10,743 INFO Epoch 10, train: 5s\n",
            "2019-12-24 03:44:10,743 INFO Total loss: 3.6276, max_margin_loss: 3.5187, ortho_reg: 0.1089\n",
            "100% 594/594 [00:05<00:00, 102.89it/s]\n",
            "Aspect 0:\n",
            "['заглянуть|0.7290735', 'захотеться|0.7270253', 'питер|0.72015864', 'перекусить|0.7190945', 'поехать|0.70910966', 'жить|0.70323205', 'случайно|0.7017051', 'зайти|0.7010254', 'сходить|0.6992749', 'заехать|0.68319637', 'пообедать|0.6789684', 'поужинать|0.6784872', 'недавно|0.67682374', 'недалеко|0.6733451', 'покушать|0.66788554', 'ездить|0.6677487', 'любим|0.6655918', 'московский|0.6618951', 'ехать|0.66148764', 'заезжать|0.65758765', 'заходить|0.6565953', 'однажды|0.656413', 'давно|0.65540636', 'частенько|0.6451473', 'забежать|0.6448593', 'подружка|0.64430594', 'поболтать|0.64138', 'петроградка|0.64127773', 'это_место|0.6355306', 'район|0.6350469', 'сюда|0.6322444', 'попить|0.6255374', 'заскочить|0.6224605', 'это_кафе|0.6137617', 'целенаправленно|0.6081674', 'любимый|0.6065355', 'дом|0.59979177', 'заслать|0.593984', 'проезжать|0.5895474', 'открыться|0.5870391', 'добраться|0.58657014', 'вчера|0.58591306', 'специально|0.5833348', 'москва|0.5819213', 'сегодня|0.5802264', 'невский|0.5796165', 'посетить|0.57858276', 'захаживать|0.57837546', 'забрести|0.57747966', 'ужинать|0.5767825', 'приезжать|0.5757896', 'вспомнить|0.57567203', 'хороший_место|0.57463497', 'местечко|0.5737001', 'васильевский|0.5729339', 'прогулка|0.57256806', 'посидеть|0.56597626', 'вечером|0.564972', 'ходить_туда|0.56333125', 'ближний|0.5612041', 'друг|0.56088424', 'попасть|0.5596763', 'знакомый|0.55967', 'приморский|0.5588205', 'васька|0.5580126', 'позавтракать|0.5553426', 'занести|0.55434585', 'остров|0.5532937', 'летом|0.55316246', 'обедать|0.55062705', 'побывать|0.5481956', 'разочароваться|0.54718465', 'приятель|0.5461133', 'пивко|0.5454909', 'поход|0.54279816', 'нибыть|0.5420916', 'вновь|0.53713006', 'забегать|0.53637886', 'ресторанчик|0.53503126', 'отправиться|0.53392375', 'рада|0.5324637', 'заглядывать|0.5321336', 'отдохнуть|0.529143', 'город|0.52855104', 'выходной|0.5271727', 'привести|0.5259714', 'возвращаться|0.51988554', 'поесть|0.5187674', 'довестись|0.5123862', 'решить|0.51186407', 'впервые|0.51130354', 'неподалёку|0.5091395', 'жан|0.5075497', 'захотеть|0.5072436', 'проверить|0.5069548', 'встретиться|0.5060106', 'лиговка|0.5055318', 'посещать|0.5053091', 'наведаться|0.5051831', 'днём|0.5050813']\n",
            "Aspect 1:\n",
            "['заманчивый|0.69605136', 'ознакомиться|0.6546809', 'купиться|0.6478159', 'значиться|0.6394578', 'сезонный|0.63105834', 'страничка|0.62714803', 'строчка|0.6225183', 'изучение|0.61037934', 'предложение|0.6080421', 'выбрать|0.59758776', 'чтение|0.59692', 'стопа|0.59568584', 'обрадовать|0.59463', 'касательно|0.5945432', 'действительность|0.5935439', 'точный|0.5847825', 'перечень|0.58220834', 'обозначить|0.5787296', 'подробный|0.5775144', 'интригующий|0.576714', 'соблазниться|0.574378', 'разбегаться|0.5721762', 'остановить|0.5712372', 'описание|0.5702585', 'вариант|0.56552505', 'ссылка|0.563774', 'продегустировать|0.5621488', 'дегустационный|0.5570837', 'изучить|0.55422777', 'вышеуказанный|0.55048996', 'остановиться|0.5502449', 'перечислить|0.5502228', 'аперитив|0.55007493', 'красочный|0.5491634', 'страница|0.5455239', 'просмотреть|0.5450387', 'ошибаться|0.54106426', 'сайт|0.53988165', 'недурственный|0.5396625', 'инуть|0.5394418', 'вк|0.53881013', 'наиболее|0.5378294', 'омар|0.536348', 'банкетик|0.53393674', 'статья|0.5328746', 'угадать|0.53153586', 'каберне|0.53117526', 'разумеется|0.5305422', 'прочтение|0.5298875', 'решиться|0.5289328', 'полистать|0.5283505', 'отметиться|0.5278976', 'а4|0.52738905', 'заинтриговать|0.527321', 'первоначально|0.5269774', 'захер|0.5268989', 'кавказка|0.52680993', 'название|0.5244062', 'старт|0.5243854', 'именно_это_место|0.5230572', 'разбежаться|0.5223246', 'расширить|0.5197861', 'перейти|0.5196719', 'версия|0.5196391', 'шрифт|0.5190193', 'пасть|0.51901716', 'велкома|0.51805055', 'расписать|0.5168077', 'заказной|0.51669216', 'содержание|0.51617944', 'смутно|0.5153424', 'озвучить|0.51490885', 'спутница|0.5140222', 'св|0.512938', 'разгуляться|0.51156545', 'спецпредложение|0.51113415', 'обширный|0.510928', 'фигурировать|0.51075387', 'презентация|0.5105009', 'разделиться|0.50940955', 'прокомментировать|0.50903517', 'непривычный|0.50819445', 'аналогично|0.5072963', '190р|0.5066546', 'сообразить|0.50650144', 'приглянуться|0.5064287', 'америка|0.5058292', 'замешательство|0.50565857', 'именно_это_заведение|0.5055506', 'раздел|0.5050143', 'велик|0.50463784', 'перевод|0.5043622', 'австралийский|0.50434196', 'розлив|0.50338143', '390р|0.50327843', 'португальский|0.50277424', 'вьетнамский|0.50177664', 'правильность|0.4996588', 'кесадилья|0.4993075', 'тортовый|0.49722517']\n",
            "Aspect 2:\n",
            "['говядина|0.7315593', 'гриль|0.71312404', 'овощ|0.6963417', 'карпаччо|0.694003', 'рыба|0.6829002', 'лосось|0.67490697', 'стейк|0.67296845', 'рибай|0.67038876', 'цыплёнок|0.66728544', 'курица|0.6657989', 'баклажан|0.66213936', 'филе|0.66153425', 'креветка|0.6596209', 'свинина|0.6371901', 'салат_цезарь|0.63528484', 'свиной|0.63399315', 'картофель|0.6315732', 'барашек|0.62461466', 'куриный|0.6233437', 'стейка|0.6207916', 'котлета|0.6200405', 'форель|0.6185268', 'тунец|0.617988', 'морепродукт|0.61619455', 'оливья|0.6152035', 'судак|0.6141969', 'кальмар|0.61409533', 'сацивить|0.6131354', 'ягнёнок|0.610855', 'цезарь|0.6104406', 'миньон|0.6096078', 'дорад|0.6071942', 'краб|0.60617054', 'баранина|0.6050473', 'вок|0.6037545', 'медальон|0.60357404', 'дорада|0.60354495', 'овощной|0.5986954', 'грудка|0.59589', 'свинин|0.59512424', 'телятина|0.5947726', 'гребешок|0.59361005', 'плов|0.5910111', 'утка|0.59036404', 'жареный|0.58959377', 'сибас|0.58951056', 'кебаб|0.58890074', 'мидия|0.58625203', 'мраморный|0.5858115', 'шашлык|0.58523846', 'пекински|0.5850475', 'копчёный|0.5848595', 'греческий|0.58464265', 'крылышко|0.58336306', 'бургера|0.581406', 'мангал|0.58136964', 'запечь|0.5812441', 'ростбиф|0.5809753', 'гарнир|0.580899', 'прожарка|0.5791742', 'рыбка|0.57881474', 'рис|0.5755625', 'тара_тара|0.5751332', 'кисло_сладкое_соус|0.572411', 'сёмга|0.5706588', 'запечёный|0.5702955', 'колбаска|0.5693614', 'солянка|0.56858516', 'осьминог|0.5677402', 'мясо|0.5669397', 'печень|0.5662624', 'мясной|0.5650612', 'утиный|0.5644214', 'говяжий|0.5578742', 'кура|0.5574312', 'котлетка|0.55735254', 'долма|0.55726254', 'жарить|0.5564471', 'ризотто|0.5499866', 'королевский|0.5499478', 'острый|0.54971534', 'драник|0.5485472', 'авокадо|0.5479067', 'помидор|0.54775023', 'салатик|0.54557943', 'каре|0.5440183', 'рыбный|0.5424843', 'бараний|0.5423132', 'айдахо|0.5415037', 'томат|0.5409923', 'крабовый|0.54092526', 'люля|0.54036903', 'палтус|0.5402812', 'шашлычок|0.5401955', 'костя|0.53972507', 'селёдка|0.53928053', 'кляр|0.53906345', 'ребро|0.5388119', 'сырой|0.53769', 'картошка|0.5364766']\n",
            "Aspect 3:\n",
            "['господин|0.77678615', 'простить|0.7466309', 'ресторатор|0.7419788', 'позор|0.7345338', 'критика|0.7326491', 'ум|0.73129195', 'существовать|0.7238383', 'личный|0.7164545', 'понятие|0.71556836', 'негатив|0.69627863', 'владелец|0.6962191', 'право|0.69616246', 'уважаемый|0.6904355', 'скрыть|0.68241906', 'гнать|0.68129027', 'автор|0.67972344', 'зарплата|0.67521846', 'речь|0.6742648', 'злой|0.67157286', 'практика|0.67061067', 'высказывание|0.6694523', 'борис|0.6674778', 'знак|0.6649288', 'пусть|0.6640485', 'управленец|0.6636908', 'репутация|0.66131365', 'совесть|0.66089535', 'иначе|0.6605376', 'откровенный|0.65991366', 'быдло|0.6594812', 'постараться|0.6567993', 'представитель|0.65353024', 'хамство|0.65210485', 'жизнь|0.65111697', 'уверенный|0.651061', 'хозяин|0.65081227', 'задуматься|0.64919156', 'наплевать|0.64822936', 'довести|0.6474895', 'стороной|0.6469762', 'допускать|0.64444834', 'менеджмент|0.6436636', 'обходить|0.6423459', 'бог|0.64091694', 'сфера|0.6402161', 'уволить|0.6383503', 'ругать|0.63766915', 'тенденция|0.63653886', 'неужели|0.6357113', 'никак|0.63419026', 'значение|0.63410497', 'уважать|0.6337306', 'бред|0.6329205', 'учиться|0.6326704', 'удалять|0.6297479', 'иметь|0.6284979', 'здравый|0.62829006', 'чувак|0.62614274', 'потребитель|0.6255667', 'называть|0.62530863', 'потерять|0.6250964', 'опыт|0.6233759', 'общепит|0.62327', 'вложить|0.6223871', 'непрофессиональный|0.6220614', 'предприятие|0.62180984', 'вечно|0.6215029', 'плевать|0.6204805', 'верить|0.6199877', 'сугубо|0.61977816', 'разойтись|0.618917', 'стремиться|0.6185892', 'тренд|0.6182916', 'обман|0.6176717', 'объективный|0.6163221', 'licorice|0.6161853', 'субъективный|0.61599624', 'история|0.6156031', 'мысль|0.6153413', 'твориться|0.6152837', 'понимание|0.6147851', 'извинить|0.6145355', 'развитие|0.6140475', 'бороться|0.6108711', 'оратор|0.61004186', 'воровать|0.6096003', 'блог|0.6095466', 'обратный|0.6067401', 'нарушение|0.6064738', 'человеческий|0.60616827', 'непрофессионализм|0.6057159', 'дословно|0.60508716', 'прощать|0.60252964', 'совковый|0.60137576', 'ада|0.60063934', 'питание|0.59992105', 'культура|0.5994744', 'звезда|0.59938556', 'терять|0.59890556', 'предъявлять|0.5974611']\n",
            "Aspect 4:\n",
            "['девочка|0.7846329', 'улыбчивый|0.746281', 'улыбка|0.7393328', 'улыбаться|0.73690724', 'молодая_человек|0.73129845', 'мальчик|0.722731', 'официантка|0.71349645', 'официант|0.6946097', 'девушка|0.688756', 'любезный|0.67527217', 'обслуживать|0.67511106', 'учтивый|0.6679641', 'расторопный|0.6678083', 'парень|0.6659044', 'доброжелательно|0.66552174', 'вежливый|0.65725136', 'мила|0.6551666', 'интересоваться|0.6508799', 'юноша|0.6317601', 'офицант|0.63122237', 'доброжелательный|0.62829685', 'чётко|0.6265383', 'появляться|0.62050307', 'стараться|0.6199613', 'забывать|0.60918987', 'персонал|0.60889745', 'вовремя|0.60542256', 'внимательно|0.60482395', 'звать|0.60436195', 'обходительный|0.6006785', 'оперативно|0.59988666', 'услужливый|0.5865428', 'предупредительный|0.5830886', 'успевать|0.5778415', 'обслуживающий|0.57757354', 'старательный|0.57566994', 'провожать|0.57151294', 'пепельница|0.5714964', 'барышня|0.5707761', 'лицо|0.57006454', 'обслуживающий_персонал|0.5664895', 'шустрый|0.5654784', 'менять|0.56538826', 'обслужить|0.56293464', 'навязчивый|0.56065285', 'незаметно|0.56002104', 'задержка|0.5576531', 'бармен|0.5562058', 'приветливо|0.55599797', 'общительный|0.5554001', 'прощаться|0.5497333', 'наш_столик|0.5483202', 'смена|0.5476023', 'весь_время|0.5471672', 'голос|0.54399043', 'дружелюбно|0.540411', 'общаться|0.5393623', 'выполнять|0.53897357', 'приветливый|0.5384661', 'молодая|0.5362353', 'корректно|0.53574526', 'молниеносно|0.53513664', 'администратор|0.5313504', 'быстрый|0.5300146', 'внимательный|0.5297563', 'профессионально|0.52741385', 'разговаривать|0.5251144', 'постоянно|0.52466834', 'ненавязчивый|0.52443063', 'тактично|0.5226476', 'здороваться|0.5223763', 'следить|0.52218', 'молодец|0.52186966', 'реагировать|0.5196782', 'очень_быстро|0.5193445', 'уносить|0.5185373', 'заботливый|0.51756096', 'незаметный|0.51695275', 'ребята|0.51655895', 'милый|0.5143707', 'медленно|0.5130809', 'назойливый|0.51305205', 'молоденький|0.5112026', 'хостёс|0.50711393', 'отвечать|0.50709593', 'компетентный|0.50339735', 'очень_милый|0.5012903', 'шутить|0.4945571', 'молодая_человек_который|0.4939466', 'хостесса|0.49325812', 'своевременно|0.48919266', 'принимать|0.48848096', 'быстро|0.4872824', 'убирать|0.48071906', 'дружелюбный|0.48053315', 'внешность|0.48002136', 'подходить|0.47924206', 'неопытный|0.47793123', 'соседний_столик|0.47695756', 'обаятельный|0.47454053']\n",
            "Aspect 5:\n",
            "['изыск|0.7411852', 'ценник|0.72473073', 'завысить|0.6998347', 'выше|0.695016', 'весь_остальной|0.6883315', 'уровень|0.68824357', 'учитывать|0.68011224', 'касаться|0.67884254', 'соответствовать|0.6527889', 'недостаток|0.6495872', 'сравнение|0.6450796', 'японский|0.6441967', 'цена_качество|0.6422664', 'посредственный|0.642061', 'не_мочь_сказать|0.6398146', 'прежний|0.6375619', 'качество|0.62762904', 'намного|0.62617576', 'принцип|0.62616843', 'вполне|0.6258943', 'многий|0.62284964', 'средненький|0.62176776', 'приемлемый|0.62078786', 'нарекание|0.6166576', 'крайний_мера|0.61450124', 'цена|0.61399174', 'соотношение_цена_качество|0.61077285', 'среднее|0.6107694', 'разнообразие|0.6047108', 'простой|0.6029597', 'достойный|0.6015774', 'остальной|0.60098934', 'ничто_особенный|0.5982377', 'менее|0.5967021', 'гораздо|0.59342706', 'отличие|0.59257704', 'бизнес_ланча|0.5917628', 'исключение|0.5908569', 'действительно|0.58890104', 'пожалуй|0.58636993', 'относительно|0.5846941', 'европейский|0.5833271', 'ценовый|0.5828581', 'отличаться|0.58128595', 'придраться|0.57722664', 'крайне|0.57706255', 'скромный|0.5761483', 'демократичный|0.5710821', 'ниже|0.57022226', 'категория|0.56987894', 'дорого|0.56907624', 'добротный|0.5676149', 'главный|0.565651', 'радовать|0.5653579', 'сносный|0.56497717', 'качественный|0.5636411', 'высокий|0.56306696', 'дороговатый|0.5621681', 'оценивать|0.56208396', 'достаточно|0.56168324', 'китайский|0.56001544', 'особый|0.5596703', 'фаста|0.55832505', 'целое|0.55721915', 'средний|0.556313', 'умеренный|0.55606204', 'претензия|0.5532355', 'кухня|0.5519938', 'особо|0.55125314', 'оценка|0.5510397', 'оставлять_желать_хороший|0.55046314', 'адекватный|0.5492785', 'значительно|0.54760396', 'недорогой|0.54546833', 'удивлять|0.5452491', 'сетевой|0.54519606', 'неплохо|0.5433358', 'плохой|0.54328364', 'неоправданно|0.53807783', 'дёшево|0.534003', 'гуманный|0.53215075', 'очень_большой|0.53199154', 'еда|0.5308806', 'однако|0.5300429', 'однозначно|0.527388', 'средне|0.52611256', 'заоблачный|0.52556497', 'неплохой|0.523899', 'очень_хороший|0.5221778', 'стандартный|0.5177463', 'обычный|0.51719284', 'имхо|0.5148089', 'ожидать|0.51036906', 'выдающийся|0.50752705', 'план|0.5054277', 'обычно|0.50415874', 'весьма|0.5037508', 'фуд|0.5036471', 'последний_время|0.5035932', 'низкий|0.5010705']\n",
            "Aspect 6:\n",
            "['лежалый|0.59666294', 'штука|0.5827836', 'коробка|0.5786878', 'упаковка|0.56773925', 'гора|0.5623245', 'диаметр|0.5520201', 'холодильник|0.5443436', 'подсушить|0.54179823', 'килограмм|0.53990793', 'блюдечко|0.5397736', 'булочка|0.5391406', 'уложить|0.53823143', 'пластина|0.5368453', 'лента|0.53628397', 'хлеб|0.5347862', 'размазать|0.5338341', 'стопочка|0.5331439', 'разложить|0.5329281', 'четыре|0.5318346', 'прилипнуть|0.52927434', 'булка|0.52901894', 'ручной|0.5288326', 'бутерброд|0.5284707', 'печь|0.5283911', 'ржаной|0.52804995', 'тарелочка|0.5271043', 'икра|0.52678764', 'чиабатта|0.5256403', 'нарезка|0.524387', 'мм|0.52425903', 'хк|0.52375984', 'горка|0.5228306', 'чёрствый|0.5224341', 'вуаля|0.5222247', 'веточка|0.52154213', 'багет|0.5208469', 'половинка|0.5193476', 'жалкий|0.51857716', 'слой|0.5178538', 'остаток|0.5165983', 'оливковый|0.5163499', 'долька|0.51603943', 'край|0.5159894', 'заветренный|0.5147611', 'залить|0.51396644', 'засохнуть|0.5133382', 'ломоть|0.51266843', 'закусывать|0.51250005', 'тост|0.5124899', 'картофелина|0.5110378', 'пополам|0.5101673', 'хамон|0.5095889', 'треугольник|0.50932854', 'капля|0.50907236', 'четвертинка|0.508353', 'куча|0.50741994', 'хлебушек|0.50725275', 'целиком|0.5070982', 'выложить|0.50529003', 'миллиметр|0.50409955', 'порезать|0.5039773', 'насыпать|0.5033426', 'дно|0.5031114', 'плошка|0.50199264', 'кожура|0.5016193', 'мисочка|0.50121653', 'целый|0.5011194', 'хлопья|0.50068384', 'гигантский|0.50024784', 'помидорка|0.49983364', 'крохотный|0.49954236', 'включая|0.49905944', 'рота|0.49900877', 'собирать|0.49821642', 'толстой|0.49813324', 'пиала|0.49800506', 'сахарный|0.49611992', 'глиняный|0.49587736', 'нарезать|0.4947387', 'виноград|0.4940347', 'сухарь|0.49394992', 'ломтик|0.49326122', 'сырный|0.49321604', 'лимон|0.493143', 'блюдце|0.4924103', 'салями|0.49175668', 'четверть|0.49152327', 'полить|0.4915129', 'малюсенький|0.49139705', 'оливка|0.4913448', 'съедать|0.49090272', 'маслина|0.49072987', 'мёд|0.49012187', 'соусник|0.48978162', 'лайм|0.48967135', 'кружочек|0.48934373', 'ледяной|0.48934257', 'блин|0.48913637', 'сало|0.48913008', 'миска|0.48911']\n",
            "Aspect 7:\n",
            "['предупредить|0.7091587', 'уточнить|0.7065783', 'прийтись|0.6992724', 'поинтересоваться|0.69533026', 'выясниться|0.6943052', 'сообщить|0.68544364', 'попытка|0.67814374', 'уточнять|0.67545086', 'просить|0.66654', 'предупреждать|0.66583425', 'унести|0.6646588', 'курс|0.66417354', 'отказаться|0.66383106', 'успеть|0.663031', 'мол|0.6572257', 'естественно|0.656108', 'вынести|0.654164', 'полчаса|0.65167916', 'ответить|0.6500187', 'сделать_заказ|0.64995855', 'забрать|0.646847', 'обратно|0.6456368', 'ладный|0.64550364', 'спросить|0.6449833', 'пропасть|0.64294803', 'подумать|0.64257205', 'попросить|0.6397819', 'подождать|0.6384156', 'дождаться|0.6378666', 'убрать|0.6358708', 'объяснить|0.63557947', 'отказать|0.63476604', 'записать|0.63116527', 'извиниться|0.63055277', 'выяснить|0.62972975', 'сначала|0.62899816', 'приход|0.6265485', 'исчезнуть|0.62543637', 'последовать|0.62344754', 'ответ|0.61934507', 'отказываться|0.6189443', 'пришлый|0.61793214', 'пообещать|0.61403763', 'попытаться|0.61353135', 'забыть|0.6125132', 'поменять|0.60827696', 'заставить|0.60792935', 'спрашивать|0.6072546', '15_минута|0.6070051', 'перепутать|0.6058747', 'предложить|0.5991049', 'затем|0.59870577', 'позвать|0.5956304', 'пытаться|0.595514', 'готовый|0.5893679', '10_минута|0.58750874', 'освободиться|0.58631814', 'поймать|0.5848706', 'вопрос|0.5843241', 'убежать|0.5833179', 'подойти|0.5803821', 'её|0.57851416', 'указать|0.5771567', 'принять|0.57622015', 'вернуть|0.5747112', 'сообщать|0.57407', 'нея|0.5730797', 'телефон|0.57270324', 'встать|0.56629336', 'извиняться|0.5656108', 'принять_заказ|0.56500745', 'приняться|0.5642514', 'разобраться|0.5641905', 'выяснять|0.5614306', 'никто_не|0.5588349', 'положить|0.558742', 'забирать|0.5574809', 'самостоятельно|0.557202', '20_минута|0.55678225', 'оказываться|0.55673134', 'не_смочь|0.5563521', 'обратиться|0.55464584', 'почему|0.55346435', 'молча|0.5510352', 'закончиться|0.5502588', 'предлагать|0.5501045', 'просьба|0.5492114', 'пересадить|0.5465608', 'расчёт|0.54575473', 'обещать|0.5445279', 'виноватый|0.54423165', 'пожалуйста|0.5427846', 'неприятно|0.54271686', 'удивиться|0.54266644', 'прождать|0.5414517', 'согласиться|0.5406138', 'извинение|0.53887403', 'заменить|0.53821516', 'поздний|0.53812814', 'уйти|0.53764963']\n",
            "Aspect 8:\n",
            "['шоколад|0.7371175', 'клубника|0.7128636', 'варение|0.7095476', 'кекс|0.70581484', 'малиновый|0.703059', 'крем|0.6962235', 'яблочный|0.6944635', 'сорбета|0.6927476', 'сливка|0.69159555', 'мусса|0.6880937', 'шоколадный|0.68645394', 'мятный|0.6769212', 'клубничный|0.6756067', 'печение|0.6736268', 'вафельный|0.6688682', 'ванильный|0.66719145', 'миндальный|0.6655933', 'карамельный|0.6646403', 'пирог|0.6643845', 'сладость|0.664109', 'эклер|0.6620722', 'сладкий|0.6604426', 'малин|0.65585166', 'морковный|0.6547403', 'имбирный|0.654369', 'молоко|0.65369254', 'манговый|0.6526538', 'ароматный|0.65239084', 'корица|0.65092164', 'вишня|0.64607596', 'апельсиновый|0.64335185', 'карамель|0.641013', 'мятый|0.6393361', 'сладко|0.6387338', 'чизкейк|0.6374588', 'панакот|0.6370925', 'ягода|0.6341121', 'лимонный|0.6324737', 'черничный|0.6319351', 'меренга|0.6314975', 'бисквит|0.6313137', 'мороженный|0.6311979', 'грушевый|0.63116217', 'суфле|0.63085496', 'желе|0.63074803', 'капуччиный|0.6305512', 'творожный|0.6284771', 'брауни|0.62600124', 'пенка|0.6259252', 'ваниль|0.62468714', 'печенюшка|0.62134796', 'наполеон|0.6213217', 'чабрец|0.6211989', 'взбить|0.6208075', 'вафля|0.6189582', 'горячий|0.61623734', 'сорбетом|0.6157757', 'брюла|0.6138816', 'послевкусие|0.6133329', 'мороженое|0.61309916', 'запивать|0.61261463', 'марципановый|0.6116252', 'песочный|0.6102595', 'манго|0.6102253', 'шарик|0.60907567', 'грецкий|0.6087406', 'чиз|0.60809565', 'груша|0.6078778', 'густой|0.60494673', 'кокосовый|0.6049024', 'яблоко|0.6048507', 'медовик|0.6045058', 'сгущёнка|0.60256183', 'фисташковый|0.6024902', 'трубочка|0.60223514', 'сахарный|0.6019317', 'брусничный|0.6018734', 'джема|0.6016942', 'воздушный|0.6010817', 'кейк|0.600253', 'пирожное|0.59965503', 'профитроль|0.5979446', 'сироп|0.5979121', 'каппучиный|0.59736556', 'мёд|0.5973209', 'малина|0.59671503', 'корочка|0.5966995', 'базиликовый|0.59535325', 'клюква|0.5948198', 'трюфель|0.5946344', 'штрудель|0.5942712', 'приторный|0.5935235', 'маскарпон|0.5922435', 'тархун|0.5912698', 'сладкое|0.5912052', 'какао|0.59068036', 'чаемый|0.59009975', 'запилить|0.58874345', 'пропитать|0.5881816', 'фреш|0.5876863']\n",
            "Aspect 9:\n",
            "['отдельный_спасибо|0.7997382', 'огромный_спасибо|0.74916875', 'большой_спасибо|0.7392628', 'праздник|0.73842895', 'весь_гость|0.7250473', 'благодарность|0.7088874', 'праздничный|0.6942365', 'тамада|0.6884627', 'организация|0.6760237', 'незабываемый|0.66523063', 'шоу|0.66258866', 'команда|0.657097', 'весь_наш|0.6555145', 'спасибо|0.65324026', 'ведущий|0.65237254', 'коллектив|0.6495525', 'кондитер|0.6468214', 'организовать|0.6464421', 'профессионал|0.63975656', 'прекрасно|0.63751554', 'чуткий|0.63677764', 'профессионализм|0.6287775', 'поблагодарить|0.62752676', 'респект|0.62450635', 'весь_гость_остаться_довольный|0.62320805', 'марин|0.62297297', 'майкл|0.6187007', 'благодаря|0.6143688', 'великолепно|0.6129602', 'исполнить|0.6119495', 'подарок|0.61167926', 'шеф_повар|0.60978365', 'ольга|0.60949266', 'свадебный|0.608521', 'великолепный|0.6080797', 'невеста|0.6071842', 'фейерверк|0.6035786', 'самый_главный|0.603121', 'создать|0.60213757', 'торт|0.6005411', 'подготовка|0.59904337', 'торжество|0.59898835', 'поклон|0.5974531', 'благодарный|0.59494305', 'выразить|0.59481037', 'выражать|0.59444976', 'елена|0.59443796', 'сергей|0.5917007', 'каравай|0.5900674', 'подарить|0.5898684', 'совет|0.5873926', 'андрей|0.58713245', 'высокий_уровень|0.5861821', 'евгений|0.5838848', 'уважение|0.58334136', 'забота|0.5821756', 'фуршет|0.58160865', 'алексей|0.5810484', 'очень_довольный|0.5797711', 'молодожён|0.57759935', 'благодарить|0.57733643', 'владимир|0.57432175', 'наш_гость_остаться_очень_довольный|0.57411385', 'также|0.5726827', 'пожелание|0.5714963', 'грамотный|0.57110286', 'программа|0.5689502', 'марина|0.56867987', 'помочь|0.5658344', 'конкурс|0.5656459', 'дмитрия|0.5626361', 'весь_наш_пожелание|0.5617147', 'чудесный|0.56094915', 'ирина|0.5604745', 'виктор|0.56014395', 'отдельный|0.5600313', 'поздравление|0.5596006', 'гость|0.5587677', 'остаться_довольный|0.5571096', 'процветание|0.55649406', 'проведение|0.5551628', 'прекрасный|0.55445015', 'шикарный|0.5539825', 'порекомендовать|0.5531065', 'гостеприимство|0.5521101', 'очень_приятно|0.55118203', 'наталья|0.54773563', 'потрясающе|0.54735684', 'внимательность|0.5468223', 'александр|0.5464953', 'потрясать|0.5459149', 'подбор|0.5457169', 'анастасия|0.5414177', 'станислав|0.541324', 'душа|0.5386703', 'вячеслав|0.5382067', 'татьяна|0.53799015', 'выше_весь_похвала|0.531037', 'бравый|0.5297469', 'отзывчивость|0.5296648']\n",
            "Aspect 10:\n",
            "['висок|0.7776231', 'литр|0.7379111', 'водка|0.7341746', 'пинта|0.6955391', 'пиво|0.6908989', 'разливный|0.66736484', 'бутылочный|0.6614264', 'кола|0.6555054', 'кружка|0.64914304', 'ньюкасл|0.64425915', 'безалкогольный|0.63500595', 'сорт|0.6296542', 'коньяк|0.6250526', 'крепкий|0.6225201', 'крушовица|0.617492', 'алкогольный|0.60229707', 'карта|0.59836996', 'бутылочка|0.5960243', 'коктейль|0.5879495', 'напиток|0.58444464', 'бесплатный|0.58029604', 'гиннес|0.5794097', 'бутылка|0.5789936', 'алкоголь|0.57849294', 'мл|0.57410014', 'наливать|0.56925905', 'мохитый|0.5673503', 'графин|0.56424284', 'пить|0.5618552', 'бланша|0.56082547', 'сок|0.5590687', 'бокал|0.5498432', 'мартини|0.54885685', 'стакан|0.54882145', 'вод|0.54467577', 'нефильтрованный|0.5406419', 'харп|0.53751266', 'коктейльный|0.5304228', 'текила|0.5284773', 'лонг|0.5223538', 'лицензия|0.51592857', 'спиртное|0.51440483', 'шампанский|0.5140306', 'вода|0.5124706', 'бесплатно|0.5040913', 'налить|0.50280535', 'сидр|0.50065655', 'выпить|0.4987263', 'морс|0.49570918', 'распитие|0.4918562', 'вельвет|0.48710215', 'акция|0.48397613', 'василеостровский|0.4834923', 'продавать|0.48301128', 'кок|0.48286653', 'руль|0.48214248', 'рюмка|0.48001447', 'эдельвейс|0.47973204', 'бл|0.4785166', 'гр|0.47522438', 'коктель|0.4741841', 'покупать|0.47333908', 'чек|0.47124708', 'эспрессо|0.47109923', 'гинесса|0.464639', 'айленд|0.46350256', 'кальян|0.46315712', 'игристый|0.4621629', 'пивная|0.46068263', 'разбавить|0.4593279', 'пивко|0.4580788', 'лёд|0.45745054', '100р|0.4537055', 'килкенни|0.4521985', 'литровый|0.45156017', 'скидка|0.45122087', 'сангрия|0.45051923', 'бармен|0.44880313', 'хугарден|0.44776866', 'бар|0.4476748', 'тысяча|0.44699687', 'купить|0.4461882', 'пивоварня|0.44536528', 'свежевыжать|0.44125697', 'стоимость|0.44024163', 'эль|0.43901178', 'грамм|0.43869588', 'махитый|0.43719143', 'заплатить|0.43171495', 'америкать|0.42690212', 'евро|0.4252613', 'рубль|0.42509246', 'квас|0.42479914', 'набор|0.4245002', 'дисконтный|0.4239393', 'лагер|0.42149484', 'стопка|0.42074707', 'обойтись|0.41847026', 'глинтвейн|0.41708538', 'разливать|0.41616637']\n",
            "Aspect 11:\n",
            "['летие|0.79264665', 'февраль|0.7617862', 'июнь|0.76003873', 'декабрь|0.7540582', 'август|0.74423605', 'сентябрь|0.74380517', 'май|0.73762643', 'июль|0.7362726', '2011г|0.7334613', 'март|0.72584796', 'январь|0.71707755', 'октябрь|0.71331817', 'го|0.6995847', 'корпоратить|0.6984028', 'ноябрь|0.6908275', 'праздновать|0.68939877', 'дата|0.6815512', 'юбилей|0.6646776', 'отмечать_день_рождение|0.66297364', 'др|0.6587649', 'отмечать|0.65585434', 'апрель|0.6471212', 'бракосочетание|0.64396584', 'наш_свадьба|0.64368343', 'справлять|0.64092314', 'часы|0.6385224', 'день_рождение|0.63063574', 'корпоративный|0.62401164', 'ти|0.6210106', 'празднование|0.61446625', 'корпоратив|0.61165977', 'состояться|0.6063292', 'выпускной|0.6054933', 'воскресение|0.6027776', 'новогодний|0.6020069', 'отпраздновать|0.6004235', 'новый_год|0.59015375', 'год|0.58598554', 'ночь|0.58111453', 'неделя|0.5807545', 'свадьба|0.5749005', 'дочь|0.5680548', 'мероприятие|0.5650668', 'годовщина|0.5628642', 'свой_день_рождение|0.56251407', 'прошлый|0.5587745', 'семья|0.5545184', 'суббота|0.55385184', 'торжество|0.55115336', 'нг|0.5466022', 'банкетный_зал|0.54481024', '2013г|0.54369813', 'праздновать_день_рождение|0.5421232', '2014г|0.5413846', 'выездной|0.5385359', 'утро|0.53509265', 'девичник|0.533844', 'вечеринка|0.5330878', '2010г|0.5322715', 'свадебный|0.5302934', 'месяц|0.53017724', 'переговоры|0.5269198', 'устроить|0.52639985', 'приехать|0.52612174', 'четверг|0.5249953', 'однокурсник|0.5229386', 'событие|0.52271825', 'честь|0.51713455', 'чело|0.51476246', 'пр|0.51453197', 'вторник|0.51445824', 'банкет|0.51311874', 'дочка|0.5126431', 'счастливый|0.51256317', 'минувший|0.5121054', 'гулять|0.511001', 'год_назад|0.5109024', 'число|0.50856334', 'галерный|0.50802845', 'втроём|0.50794744', 'сын|0.50746626', 'накануне|0.5070987', 'век|0.50596297', 'арендовать|0.50396395', 'родитель|0.50228536', 'бельканто|0.50212836', 'планироваться|0.50151825', 'начаться|0.50081986', 'проведение|0.4969828', 'рождение|0.49681392', 'передохнуть|0.49641958', 'вчера|0.49500012', 'канун|0.49464142', 'регистрация|0.49420434', 'поздравить|0.49185768', 'перерыв|0.48883712', 'среда|0.48706523', 'отмечаться|0.48486117', 'супруга|0.4839124', 'утром|0.48230505']\n",
            "Aspect 12:\n",
            "['стен|0.74375993', 'полка|0.72922766', 'стена|0.70581865', 'потолок|0.69783527', 'картина|0.6862456', 'мебель|0.68605053', 'рамка|0.6860467', 'элемент|0.6818769', 'надпись|0.6770667', 'светильник|0.67519504', 'зеркало|0.6745488', 'предмет|0.6730217', 'стекло|0.6728277', 'деталь|0.6639385', 'кирпичный|0.6633771', 'прочий|0.663151', 'стеклянный|0.662807', 'старое|0.6623855', 'дерево|0.6611415', 'фотография|0.6600448', 'золотой|0.6597756', 'журнал|0.65882325', 'внутренний|0.6570313', 'старинный|0.6567917', 'лампа|0.6559364', 'висеть|0.6558698', 'панель|0.655658', 'люстра|0.65497875', 'плазменный|0.6542309', 'плитка|0.65279704', 'серый|0.6456366', 'видный|0.639866', 'современный|0.6376677', 'смотреться|0.63656694', 'картинка|0.6348304', 'крыша|0.63356376', 'здание|0.6331402', 'доска|0.6310836', 'черно|0.63008857', 'декор|0.6296049', 'пространство|0.628915', 'синий|0.6288972', 'кирпич|0.6288192', 'убранство|0.62663096', 'газета|0.6264501', 'потолочь|0.62530434', 'гамма|0.6250906', 'уборный|0.62501645', 'шкаф|0.6229247', 'подоконник|0.62020576', 'буфет|0.6188862', 'модерн|0.6180772', 'туалетный|0.617365', 'кладка|0.616928', 'подсветка|0.6168499', 'искусственный|0.61562157', 'деревянный|0.615022', 'цветовой|0.61414254', 'пол|0.6122843', 'дизайнерский|0.6117814', 'ступенька|0.6085987', 'свет|0.60631096', 'штора|0.6049334', 'обои|0.60404587', 'клетка|0.6033044', 'полый|0.6029334', 'угол|0.6021367', 'плазма|0.6013442', 'абажур|0.5987347', 'известный|0.5967096', 'стиль|0.5965368', 'бумага|0.5952528', 'полочка|0.5951923', 'коричневый|0.59467477', 'белоснежный|0.59239435', 'ткань|0.5920205', 'стеллаж|0.589327', 'занавеска|0.58889055', 'вдоль|0.5883855', 'дизайнер|0.5883186', 'дух|0.58802533', 'колонна|0.58792186', 'тяжёлый|0.587846', 'кровать|0.58721423', 'обилие|0.5871819', 'птичка|0.5855025', 'свод|0.5830843', 'открываться|0.58205044', 'витрина|0.58187866', 'логотип|0.57970953', 'цветочек|0.57838666', 'тон|0.57771885', 'аксессуар|0.5776127', 'советский|0.5760968', 'подвал|0.5756237', 'массивный|0.5741923', 'высоченный|0.5736603', 'винный|0.57246983', 'торчать|0.57228243', 'ширма|0.57211256']\n",
            "Aspect 13:\n",
            "['дымно|0.76797813', 'дым|0.7568956', 'шумно|0.7531606', 'душный|0.7472929', 'накурить|0.7390162', 'тесно|0.7379308', 'сидеть|0.7240253', 'прохладно|0.7164023', 'диван|0.70994824', 'неуютный|0.70527077', 'диванчик|0.70297676', 'вентиляция|0.7029722', 'мешать|0.69310534', 'курить|0.69265854', 'дышать|0.67946124', 'вытяжка|0.67303634', 'друг_друг|0.6729189', 'кабинка|0.6701472', 'вокруг|0.6604885', 'слышный|0.65941083', 'прокурить|0.6566486', 'народ|0.6488551', 'беседка|0.64260197', 'комфортно|0.6400512', 'жарко|0.6381415', 'аквариум|0.6355276', 'кресло|0.6327523', 'танцполый|0.6315178', 'зона|0.6285875', 'коромысло|0.6278004', 'подушечка|0.6267761', 'табачный|0.6267209', 'парочка|0.62269914', 'сосед|0.62214607', 'дальний|0.6213638', 'дуть|0.6211475', 'удобно|0.6199602', 'просторно|0.61704063', 'кондиционер|0.6125543', 'помещение|0.61167765', 'сигаретный|0.6108078', 'жарковатый|0.609669', 'подушка|0.608029', 'курящий|0.60793215', 'зала|0.60497564', 'второе_этаж|0.60475814', 'неудобный|0.60370255', 'некурящий|0.6021161', 'уединённость|0.59972316', 'неудобно|0.5992254', 'стул|0.59772027', 'близко|0.5973705', 'тесноватый|0.5970962', 'плед|0.5960563', 'кондей|0.596035', 'терасс|0.59307873', 'веранда|0.59239364', 'барный_стойка|0.59219515', 'светло|0.5898642', 'пропахнуть|0.5893107', 'наверху|0.5886735', 'прикольный|0.58666015', 'развалиться|0.5865677', 'орать|0.5854715', 'тесновато|0.5829681', 'высоченный|0.5812403', 'камин|0.5799053', 'тв|0.57779074', 'устроиться|0.5771378', 'курильщик|0.5761201', 'тихо|0.5757864', 'дымить|0.573645', 'темноватый|0.5729321', 'комната|0.5728982', 'стульчик|0.5728221', 'интимный|0.570709', 'детский_комната|0.5700857', 'воздух|0.56994987', 'экран|0.5664021', 'комнатка|0.56521535', 'разделение|0.5645189', 'скамейка|0.5632087', 'расположиться|0.5630698', 'внизу|0.56223494', 'телевизор|0.5622319', 'спокойно|0.56173265', 'мужской|0.5607541', 'деление|0.56034374', 'плетёный|0.55852807', 'шум|0.5574496', 'приглушить|0.5571969', 'сидение|0.55615926', 'танцевать|0.55588484', 'уединение|0.5558171', 'туалет|0.5550767', 'полумрак|0.55445254', 'зальчик|0.554145', 'закутка|0.5525698', 'свет|0.55041313', 'темно|0.54981625']\n",
            "2019-12-24 03:44:16,727 INFO Epoch 11, train: 5s\n",
            "2019-12-24 03:44:16,727 INFO Total loss: 3.6260, max_margin_loss: 3.5171, ortho_reg: 0.1089\n",
            "100% 594/594 [00:05<00:00, 101.53it/s]\n",
            "Aspect 0:\n",
            "['заглянуть|0.7286614', 'захотеться|0.72770965', 'питер|0.723873', 'перекусить|0.71938795', 'поехать|0.7077191', 'жить|0.7051733', 'случайно|0.70143616', 'сходить|0.69940877', 'зайти|0.6993674', 'заехать|0.68349206', 'поужинать|0.6805465', 'недавно|0.680274', 'пообедать|0.6799967', 'недалеко|0.6763284', 'любим|0.67236614', 'покушать|0.67140245', 'ездить|0.670189', 'московский|0.6631808', 'заезжать|0.6610701', 'однажды|0.6601151', 'ехать|0.6598889', 'заходить|0.65894866', 'давно|0.6588516', 'частенько|0.6509408', 'подружка|0.6467936', 'забежать|0.64642715', 'поболтать|0.6440946', 'петроградка|0.64321256', 'это_место|0.63665134', 'район|0.63634306', 'сюда|0.63251156', 'попить|0.62847316', 'заскочить|0.6250223', 'это_кафе|0.61572033', 'целенаправленно|0.61010754', 'любимый|0.61006415', 'дом|0.60033244', 'заслать|0.59499264', 'проезжать|0.59100664', 'открыться|0.58893144', 'вчера|0.5878372', 'добраться|0.5872451', 'москва|0.5847164', 'специально|0.5828904', 'захаживать|0.5818066', 'сегодня|0.58130795', 'невский|0.58052075', 'ужинать|0.5803894', 'посетить|0.580134', 'приезжать|0.57909083', 'забрести|0.57900035', 'хороший_место|0.576998', 'васильевский|0.57568276', 'вспомнить|0.57566607', 'местечко|0.5745287', 'прогулка|0.57238394', 'ходить_туда|0.5685185', 'посидеть|0.56809944', 'вечером|0.5665951', 'друг|0.5654259', 'знакомый|0.562796', 'васька|0.56207216', 'приморский|0.5612155', 'ближний|0.5600771', 'попасть|0.5594728', 'позавтракать|0.55716366', 'занести|0.55608726', 'остров|0.55575806', 'летом|0.5554099', 'обедать|0.554258', 'разочароваться|0.55303127', 'приятель|0.55175185', 'пивко|0.5505521', 'побывать|0.5498832', 'поход|0.54288167', 'нибыть|0.5410627', 'вновь|0.5384572', 'забегать|0.5384191', 'заглядывать|0.53712404', 'рада|0.53696334', 'ресторанчик|0.536813', 'отправиться|0.5328399', 'отдохнуть|0.5317667', 'город|0.52956855', 'выходной|0.52945894', 'привести|0.5272784', 'поесть|0.5199019', 'возвращаться|0.5195472', 'довестись|0.51665443', 'впервые|0.5146665', 'неподалёку|0.5125646', 'решить|0.5115516', 'посещать|0.5099414', 'жан|0.5089298', 'хаус|0.50850064', 'встретиться|0.5077115', 'захотеть|0.5075909', 'лиговка|0.50740016', 'наведаться|0.50700533', 'проверить|0.506842']\n",
            "Aspect 1:\n",
            "['заманчивый|0.6915599', 'ознакомиться|0.6496022', 'купиться|0.6433281', 'значиться|0.6387704', 'сезонный|0.62799215', 'страничка|0.62088716', 'строчка|0.6111719', 'предложение|0.60406053', 'изучение|0.603292', 'выбрать|0.6017184', 'стопа|0.59218836', 'чтение|0.5891923', 'действительность|0.588225', 'обрадовать|0.585124', 'касательно|0.5824397', 'точный|0.58227265', 'обозначить|0.57519317', 'перечень|0.57361126', 'описание|0.57343084', 'подробный|0.57098407', 'разбегаться|0.5671006', 'интригующий|0.5654882', 'соблазниться|0.5631896', 'остановить|0.56122977', 'вариант|0.5602195', 'ссылка|0.554643', 'продегустировать|0.55333066', 'остановиться|0.5526309', 'изучить|0.5484104', 'дегустационный|0.5449307', 'перечислить|0.5427715', 'страница|0.5418446', 'вышеуказанный|0.54167527', 'красочный|0.53968966', 'аперитив|0.5387928', 'просмотреть|0.5386094', 'сайт|0.53849924', 'ошибаться|0.5356217', 'недурственный|0.53356016', 'инуть|0.5299279', 'наиболее|0.52906966', 'название|0.5279962', 'решиться|0.5272703', 'вк|0.5272434', 'статья|0.52715766', 'разумеется|0.5258993', 'каберне|0.52462435', 'омар|0.524374', 'прочтение|0.5242469', 'угадать|0.52423847', 'захер|0.5233953', 'а4|0.5231785', 'заинтриговать|0.52120733', 'банкетик|0.5193768', 'полистать|0.51911855', 'отметиться|0.5172356', 'перейти|0.5154972', 'кавказка|0.5154309', 'пасть|0.5154227', 'первоначально|0.5151727', 'шрифт|0.5125165', 'старт|0.5110224', 'версия|0.5109055', 'содержание|0.51051533', 'расширить|0.5104957', 'разбежаться|0.51044947', 'велкома|0.5104054', 'именно_это_место|0.5098993', 'расписать|0.50978744', 'заказной|0.50964284', 'смутно|0.5076485', 'обширный|0.5072405', 'спутница|0.50722134', 'озвучить|0.50570154', 'спецпредложение|0.50375026', 'приглянуться|0.5032795', 'разделиться|0.5030626', 'раздел|0.50242114', 'фигурировать|0.50236523', 'св|0.5012645', '190р|0.5006334', 'прокомментировать|0.50039506', 'презентация|0.4999081', 'разгуляться|0.4994619', 'пройтись|0.49800944', 'сообразить|0.49800915', 'америка|0.49751', '390р|0.49734133', 'аналогично|0.49695203', 'непривычный|0.49486378', 'португальский|0.49358928', 'австралийский|0.4934653', 'велик|0.49297842', 'перевод|0.49238124', 'подробно|0.49172282', 'розлив|0.49171877', 'именно_это_заведение|0.4916386', 'замешательство|0.491623', 'кесадилья|0.4903687', 'вьетнамский|0.49034312']\n",
            "Aspect 2:\n",
            "['говядина|0.7320401', 'гриль|0.7131707', 'карпаччо|0.6972542', 'овощ|0.69482183', 'рыба|0.6791112', 'лосось|0.67441964', 'стейк|0.6713447', 'рибай|0.6695196', 'цыплёнок|0.66795594', 'филе|0.66353405', 'курица|0.66343343', 'баклажан|0.66308755', 'креветка|0.65702474', 'свиной|0.63684595', 'свинина|0.6367405', 'салат_цезарь|0.6364111', 'картофель|0.6338098', 'куриный|0.6270846', 'барашек|0.6263726', 'тунец|0.62204325', 'форель|0.6214887', 'котлета|0.62145096', 'стейка|0.6199494', 'оливья|0.61968154', 'судак|0.6155567', 'кальмар|0.6149589', 'сацивить|0.61442757', 'ягнёнок|0.6136874', 'морепродукт|0.613233', 'миньон|0.6114995', 'цезарь|0.6100859', 'дорад|0.6075288', 'краб|0.60633683', 'баранина|0.60575116', 'медальон|0.60539156', 'дорада|0.6048834', 'вок|0.6045349', 'овощной|0.602805', 'грудка|0.60070693', 'телятина|0.5974118', 'свинин|0.5970539', 'гребешок|0.5965533', 'утка|0.5933209', 'жареный|0.5919756', 'сибас|0.59180856', 'кебаб|0.5913016', 'плов|0.58877707', 'копчёный|0.58875626', 'мраморный|0.587582', 'крылышко|0.5871191', 'греческий|0.58547366', 'шашлык|0.58507997', 'бургера|0.5850409', 'ростбиф|0.5847257', 'пекински|0.58442825', 'мидия|0.5837049', 'запечь|0.5827004', 'мангал|0.58134836', 'гарнир|0.5800549', 'тара_тара|0.5776288', 'рыбка|0.57708716', 'прожарка|0.5760522', 'сёмга|0.57400894', 'кисло_сладкое_соус|0.57322013', 'печень|0.5723813', 'солянка|0.5721605', 'рис|0.5711174', 'запечёный|0.5706842', 'утиный|0.5696373', 'осьминог|0.5693737', 'колбаска|0.5692811', 'мясной|0.5661381', 'мясо|0.56319606', 'говяжий|0.56115985', 'кура|0.5597665', 'котлетка|0.5597094', 'долма|0.5592841', 'жарить|0.5571551', 'ризотто|0.55197847', 'драник|0.5512416', 'авокадо|0.55015', 'помидор|0.548891', 'салатик|0.5484132', 'королевский|0.5482838', 'каре|0.54577404', 'бараний|0.545545', 'томат|0.5447002', 'рыбный|0.5446379', 'айдахо|0.5442363', 'острый|0.5442314', 'люля|0.5440221', 'палтус|0.543272', 'крабовый|0.5427502', 'селёдка|0.5421096', 'шашлычок|0.5403298', 'ребро|0.5402529', 'жульен|0.53955084', 'кляр|0.5395051', 'сырой|0.5383245', 'костя|0.538226']\n",
            "Aspect 3:\n",
            "['господин|0.774722', 'простить|0.7477159', 'ресторатор|0.73832166', 'позор|0.7363039', 'критика|0.7334045', 'ум|0.7291143', 'существовать|0.72124726', 'понятие|0.71758604', 'личный|0.7124426', 'право|0.69423485', 'негатив|0.6930258', 'владелец|0.69179916', 'уважаемый|0.6854813', 'скрыть|0.6832752', 'гнать|0.6805421', 'автор|0.6783935', 'зарплата|0.6719586', 'злой|0.6698389', 'практика|0.6691475', 'высказывание|0.6689717', 'речь|0.66799116', 'борис|0.6649219', 'откровенный|0.6632171', 'управленец|0.6618357', 'пусть|0.66164863', 'знак|0.6611812', 'репутация|0.66031396', 'совесть|0.65925884', 'иначе|0.6586043', 'быдло|0.6542736', 'довести|0.6521287', 'постараться|0.6513559', 'представитель|0.65112555', 'уверенный|0.64912176', 'жизнь|0.64775956', 'хамство|0.64767385', 'наплевать|0.6454159', 'хозяин|0.6450416', 'задуматься|0.6450139', 'допускать|0.6432968', 'стороной|0.642691', 'менеджмент|0.64077055', 'бог|0.6381608', 'ругать|0.6381426', 'обходить|0.6379449', 'никак|0.636828', 'сфера|0.63648957', 'уволить|0.63635266', 'тенденция|0.6359917', 'значение|0.63510346', 'уважать|0.63325113', 'неужели|0.633', 'иметь|0.6319666', 'бред|0.6301982', 'удалять|0.6299074', 'здравый|0.6298247', 'называть|0.6287285', 'учиться|0.6282641', 'чувак|0.6248988', 'потребитель|0.62280166', 'общепит|0.6223498', 'вложить|0.62208223', 'сугубо|0.6214222', 'потерять|0.6208531', 'непрофессиональный|0.6199217', 'верить|0.61953366', 'обман|0.6190131', 'субъективный|0.6185778', 'предприятие|0.61839396', 'вечно|0.6183819', 'тренд|0.6183673', 'опыт|0.6180196', 'стремиться|0.61799264', 'разойтись|0.6174272', 'плевать|0.6161699', 'объективный|0.6152139', 'понимание|0.6146874', 'извинить|0.6143519', 'licorice|0.6117712', 'мысль|0.6115495', 'твориться|0.61123896', 'развитие|0.61068606', 'оратор|0.6101704', 'история|0.6096537', 'бороться|0.6078869', 'воровать|0.60617054', 'блог|0.60609597', 'человеческий|0.6048022', 'обратный|0.60446775', 'непрофессионализм|0.6044663', 'дословно|0.6037348', 'нарушение|0.60337263', 'прощать|0.60174376', 'совковый|0.60137916', 'питание|0.59967583', 'культура|0.59825563', 'полагать|0.5982525', 'грубый|0.5973939', 'ада|0.5963794', 'потеря|0.5961962']\n",
            "Aspect 4:\n",
            "['девочка|0.7854803', 'улыбчивый|0.74346226', 'улыбка|0.7392808', 'улыбаться|0.73663354', 'молодая_человек|0.7322099', 'мальчик|0.7223512', 'официантка|0.7149101', 'официант|0.6954808', 'девушка|0.6893885', 'любезный|0.6724528', 'обслуживать|0.6716754', 'парень|0.66610146', 'учтивый|0.66444874', 'расторопный|0.66326', 'доброжелательно|0.66310334', 'вежливый|0.65459204', 'мила|0.6530293', 'интересоваться|0.6500195', 'офицант|0.6304394', 'юноша|0.6284548', 'чётко|0.62550163', 'доброжелательный|0.62333894', 'стараться|0.6186283', 'появляться|0.61590385', 'персонал|0.61047685', 'забывать|0.6063639', 'внимательно|0.6052404', 'звать|0.60520315', 'вовремя|0.60416645', 'оперативно|0.5980265', 'обходительный|0.5968827', 'услужливый|0.582476', 'предупредительный|0.5781665', 'успевать|0.5759752', 'обслуживающий|0.57312953', 'старательный|0.5721977', 'пепельница|0.57111746', 'лицо|0.57106864', 'барышня|0.57105505', 'провожать|0.5698418', 'обслуживающий_персонал|0.5669264', 'менять|0.5635148', 'обслужить|0.5620669', 'шустрый|0.560972', 'бармен|0.55834174', 'незаметно|0.5565218', 'задержка|0.5562818', 'навязчивый|0.55601585', 'приветливо|0.5550888', 'общительный|0.55399644', 'прощаться|0.5509188', 'наш_столик|0.5487387', 'смена|0.5458108', 'голос|0.5456823', 'весь_время|0.54549813', 'общаться|0.5412692', 'дружелюбно|0.540012', 'выполнять|0.5380816', 'корректно|0.5365658', 'администратор|0.53486305', 'молодая|0.53329134', 'приветливый|0.5330442', 'молниеносно|0.5318012', 'разговаривать|0.5265875', 'быстрый|0.5262989', 'внимательный|0.52480286', 'профессионально|0.5245929', 'постоянно|0.5228395', 'тактично|0.52231133', 'здороваться|0.5218276', 'реагировать|0.51981807', 'следить|0.51954997', 'молодец|0.51947963', 'ненавязчивый|0.5186621', 'ребята|0.5180441', 'очень_быстро|0.51716465', 'уносить|0.5169934', 'заботливый|0.512828', 'незаметный|0.5126201', 'медленно|0.50961864', 'назойливый|0.50961137', 'отвечать|0.5088465', 'милый|0.5085591', 'хостёс|0.50796163', 'молоденький|0.5077972', 'компетентный|0.5027909', 'очень_милый|0.49663016', 'шутить|0.4958908', 'хостесса|0.4946686', 'молодая_человек_который|0.49450153', 'принимать|0.48966554', 'своевременно|0.48666948', 'быстро|0.4854456', 'убирать|0.47919357', 'внешность|0.47787225', 'подходить|0.47698736', 'соседний_столик|0.4769138', 'дружелюбный|0.47652245', 'неопытный|0.47505623', 'терпеливо|0.47248945']\n",
            "Aspect 5:\n",
            "['изыск|0.7387661', 'ценник|0.72729456', 'завысить|0.7002605', 'выше|0.6937434', 'уровень|0.68632877', 'весь_остальной|0.68286693', 'учитывать|0.68205464', 'касаться|0.6709023', 'соответствовать|0.64989287', 'недостаток|0.64603484', 'сравнение|0.64263254', 'цена_качество|0.64116395', 'японский|0.63960874', 'посредственный|0.63607764', 'не_мочь_сказать|0.63332057', 'прежний|0.63249594', 'вполне|0.6291995', 'намного|0.62515676', 'качество|0.6244064', 'принцип|0.6243362', 'приемлемый|0.62054163', 'цена|0.61782956', 'средненький|0.6164093', 'многий|0.6153905', 'нарекание|0.61402583', 'среднее|0.6129063', 'соотношение_цена_качество|0.6114731', 'крайний_мера|0.61139953', 'разнообразие|0.5996831', 'простой|0.59913987', 'достойный|0.59843504', 'остальной|0.5977745', 'менее|0.59737074', 'ничто_особенный|0.59438074', 'бизнес_ланча|0.59354234', 'гораздо|0.59335184', 'отличие|0.5858863', 'ценовый|0.58549917', 'действительно|0.58479714', 'исключение|0.58473927', 'пожалуй|0.58456933', 'относительно|0.5814845', 'европейский|0.5785377', 'скромный|0.5752317', 'дорого|0.5742978', 'крайне|0.57425237', 'придраться|0.5740012', 'отличаться|0.5731168', 'демократичный|0.571819', 'категория|0.57100815', 'ниже|0.56746894', 'дороговатый|0.56463325', 'добротный|0.5629957', 'достаточно|0.5615262', 'сносный|0.5612108', 'главный|0.560447', 'высокий|0.56014556', 'целое|0.55860937', 'качественный|0.5586065', 'радовать|0.5582429', 'средний|0.5575942', 'умеренный|0.5564736', 'особый|0.5550221', 'китайский|0.5548458', 'фаста|0.5545114', 'оценивать|0.553457', 'адекватный|0.5492989', 'претензия|0.54902995', 'оценка|0.5489744', 'кухня|0.54813516', 'значительно|0.54665756', 'особо|0.546125', 'недорогой|0.54358244', 'неплохо|0.54253364', 'оставлять_желать_хороший|0.5417839', 'сетевой|0.5399401', 'удивлять|0.53966755', 'дёшево|0.5388019', 'неоправданно|0.53713727', 'плохой|0.5342532', 'гуманный|0.53276145', 'еда|0.5288564', 'очень_большой|0.5278024', 'однако|0.52562284', 'однозначно|0.52542865', 'заоблачный|0.52505195', 'средне|0.5225078', 'неплохой|0.5195451', 'очень_хороший|0.51656234', 'стандартный|0.5137869', 'имхо|0.5127489', 'обычный|0.5115408', 'ожидать|0.5068971', 'весьма|0.50576234', 'выдающийся|0.5012958', 'обычно|0.5009533', 'низкий|0.50084084', 'фуд|0.5004324', 'план|0.49892467', 'последний_время|0.49791166']\n",
            "Aspect 6:\n",
            "['лежалый|0.5887644', 'штука|0.5804435', 'коробка|0.5795177', 'упаковка|0.56594455', 'гора|0.558786', 'диаметр|0.54837763', 'килограмм|0.54119736', 'холодильник|0.5394946', 'блюдечко|0.5377494', 'булочка|0.5374124', 'подсушить|0.5349513', 'лента|0.53296876', 'уложить|0.5328403', 'пластина|0.53223705', 'хлеб|0.5316045', 'стопочка|0.5294272', 'разложить|0.52917826', 'ручной|0.527831', 'размазать|0.52726203', 'четыре|0.5247481', 'бутерброд|0.5246333', 'тарелочка|0.52414006', 'прилипнуть|0.5236486', 'булка|0.52311116', 'печь|0.5225856', 'чиабатта|0.5220008', 'ржаной|0.52167207', 'хк|0.5213455', 'икра|0.521295', 'нарезка|0.5193989', 'горка|0.5187633', 'мм|0.5178839', 'веточка|0.51679564', 'вуаля|0.51669836', 'багет|0.5157912', 'половинка|0.5152321', 'слой|0.5141727', 'чёрствый|0.5139191', 'остаток|0.5127772', 'жалкий|0.5118289', 'долька|0.51023203', 'край|0.5101105', 'оливковый|0.5088783', 'закусывать|0.5088768', 'ломоть|0.50848424', 'залить|0.50818336', 'картофелина|0.50807667', 'тост|0.50672895', 'заветренный|0.5056064', 'засохнуть|0.50536096', 'пополам|0.5051817', 'треугольник|0.5046599', 'капля|0.5043453', 'хлебушек|0.50373566', 'хамон|0.50359714', 'четвертинка|0.5028184', 'целиком|0.50153875', 'миллиметр|0.5014923', 'куча|0.5013617', 'выложить|0.4994136', 'порезать|0.4989644', 'насыпать|0.4989255', 'мисочка|0.4988119', 'дно|0.49865746', 'плошка|0.4973541', 'пиала|0.4971217', 'хлопья|0.49680334', 'кожура|0.49630263', 'гигантский|0.49629137', 'рота|0.4950215', 'крохотный|0.4948345', 'включая|0.49480757', 'собирать|0.49427414', 'помидорка|0.49425796', 'целый|0.49356365', 'сахарный|0.49289265', 'толстой|0.49220362', 'лимон|0.49185234', 'глиняный|0.49153244', 'блюдце|0.49116963', 'виноград|0.49001178', 'вишенка|0.48973322', 'сахара|0.48902866', 'четверть|0.48878038', 'мёд|0.48830035', 'нарезать|0.48782298', 'ломтик|0.487805', 'съедать|0.48724976', 'миска|0.4870461', 'лайм|0.4866603', 'полить|0.4866066', 'блин|0.48654264', 'кружочек|0.48567098', 'сырный|0.48566222', 'соусник|0.4856457', 'сухарь|0.48563394', 'оливка|0.48543572', 'маслина|0.48522604', 'холодец|0.485039', 'аж|0.48460653']\n",
            "Aspect 7:\n",
            "['предупредить|0.70901364', 'уточнить|0.7069824', 'прийтись|0.69591165', 'поинтересоваться|0.6946351', 'выясниться|0.69353837', 'сообщить|0.6843283', 'уточнять|0.6766882', 'попытка|0.67400724', 'предупреждать|0.66497684', 'курс|0.6646048', 'просить|0.66401064', 'унести|0.6631031', 'отказаться|0.6631016', 'успеть|0.6618726', 'мол|0.6568059', 'естественно|0.65605587', 'вынести|0.6536048', 'ответить|0.65061486', 'полчаса|0.6503989', 'сделать_заказ|0.65037155', 'спросить|0.6460173', 'забрать|0.6456413', 'ладный|0.6453595', 'обратно|0.64327884', 'подумать|0.64157164', 'пропасть|0.6395652', 'попросить|0.63708794', 'подождать|0.63597727', 'объяснить|0.63525385', 'дождаться|0.6351521', 'убрать|0.63370883', 'отказать|0.6331472', 'записать|0.6316384', 'извиниться|0.62926245', 'сначала|0.62904036', 'выяснить|0.6280161', 'приход|0.62489504', 'последовать|0.6232322', 'исчезнуть|0.6227471', 'отказываться|0.618623', 'ответ|0.6181834', 'пришлый|0.61632437', 'пообещать|0.6127044', 'попытаться|0.6113484', 'забыть|0.61090326', 'спрашивать|0.60929185', 'перепутать|0.6068677', 'поменять|0.6066575', '15_минута|0.60586643', 'заставить|0.6046488', 'предложить|0.59927016', 'затем|0.5974581', 'позвать|0.5952215', 'пытаться|0.59322417', 'готовый|0.58959013', '10_минута|0.58642495', 'освободиться|0.58554983', 'вопрос|0.584793', 'поймать|0.58446264', 'убежать|0.583094', 'подойти|0.57914996', 'её|0.57709634', 'указать|0.57619226', 'сообщать|0.5743521', 'принять|0.5740672', 'вернуть|0.57291496', 'нея|0.5723867', 'телефон|0.5716864', 'принять_заказ|0.5651031', 'приняться|0.56503713', 'извиняться|0.56351864', 'встать|0.5634109', 'разобраться|0.5633359', 'выяснять|0.5604894', 'положить|0.5578494', 'забирать|0.5572602', 'никто_не|0.5568968', 'не_смочь|0.5566648', '20_минута|0.5564511', 'самостоятельно|0.5562992', 'оказываться|0.5558301', 'почему|0.55480766', 'обратиться|0.55442214', 'предлагать|0.5515712', 'молча|0.54926836', 'закончиться|0.54740435', 'просьба|0.547003', 'пересадить|0.5446276', 'обещать|0.5432533', 'расчёт|0.54259974', 'виноватый|0.54251385', 'удивиться|0.54199326', 'пожалуйста|0.54112524', 'прождать|0.5407249', 'неприятно|0.54030764', 'согласиться|0.53899384', 'заменить|0.53703344', 'извинение|0.5368979', 'бронь|0.53643167', 'поздний|0.53606904']\n",
            "Aspect 8:\n",
            "['шоколад|0.7345628', 'клубника|0.70964193', 'варение|0.706308', 'кекс|0.70515245', 'малиновый|0.6999361', 'яблочный|0.694102', 'крем|0.6934347', 'сорбета|0.6921644', 'сливка|0.686818', 'шоколадный|0.6862159', 'мусса|0.684623', 'мятный|0.6744257', 'клубничный|0.67427087', 'печение|0.6715354', 'вафельный|0.6664898', 'ванильный|0.6661211', 'миндальный|0.6637944', 'пирог|0.66343606', 'эклер|0.6616112', 'карамельный|0.6613107', 'сладость|0.6595211', 'сладкий|0.6544599', 'морковный|0.6533667', 'имбирный|0.6529769', 'малин|0.6518203', 'молоко|0.65083957', 'манговый|0.649407', 'ароматный|0.6483339', 'корица|0.6470877', 'вишня|0.64107907', 'апельсиновый|0.6405415', 'карамель|0.6370408', 'мятый|0.6355721', 'чизкейк|0.63538426', 'сладко|0.6352979', 'панакот|0.6349459', 'капуччиный|0.6310048', 'черничный|0.630456', 'ягода|0.63003355', 'меренга|0.6294763', 'бисквит|0.6291348', 'грушевый|0.62910086', 'мороженный|0.6285602', 'лимонный|0.628054', 'суфле|0.6264765', 'желе|0.6255058', 'брауни|0.62497187', 'творожный|0.62461543', 'пенка|0.623461', 'чабрец|0.6227727', 'печенюшка|0.6226176', 'ваниль|0.6211517', 'наполеон|0.62002623', 'взбить|0.6165565', 'вафля|0.6147977', 'горячий|0.6133809', 'мороженое|0.61285305', 'сорбетом|0.61283267', 'брюла|0.61276454', 'послевкусие|0.6110486', 'запивать|0.6107937', 'марципановый|0.609682', 'чиз|0.60796154', 'песочный|0.6078218', 'шарик|0.6077561', 'манго|0.6048523', 'грецкий|0.60258996', 'груша|0.60247684', 'сгущёнка|0.6014992', 'медовик|0.60127115', 'кейк|0.6004225', 'брусничный|0.5995709', 'фисташковый|0.5994284', 'яблоко|0.59899986', 'кокосовый|0.5989957', 'пирожное|0.59867543', 'густой|0.59864724', 'каппучиный|0.5984427', 'воздушный|0.5981723', 'трубочка|0.5978769', 'джема|0.5976937', 'профитроль|0.5970601', 'сахарный|0.5969908', 'малина|0.5954809', 'сироп|0.5950413', 'базиликовый|0.5935036', 'чаемый|0.59262913', 'клюква|0.5922637', 'мёд|0.591902', 'штрудель|0.5918784', 'приторный|0.59028345', 'трюфель|0.5899107', 'какао|0.5894799', 'запилить|0.5894644', 'корочка|0.5889082', 'тархун|0.58809847', 'маскарпон|0.5880685', 'заварной|0.5862156', 'фреш|0.58550495', 'сладкое|0.5851718']\n",
            "Aspect 9:\n",
            "['отдельный_спасибо|0.8016544', 'огромный_спасибо|0.7512225', 'большой_спасибо|0.7400713', 'праздник|0.73638767', 'весь_гость|0.7281459', 'благодарность|0.7099391', 'праздничный|0.69478893', 'тамада|0.68960315', 'организация|0.67803514', 'незабываемый|0.6666709', 'шоу|0.6653122', 'команда|0.65780944', 'весь_наш|0.65567046', 'ведущий|0.6533083', 'спасибо|0.6521245', 'коллектив|0.65091544', 'кондитер|0.6505197', 'организовать|0.6475855', 'профессионал|0.6430429', 'прекрасно|0.6404276', 'чуткий|0.63852054', 'профессионализм|0.6302918', 'поблагодарить|0.6277189', 'респект|0.6267804', 'весь_гость_остаться_довольный|0.6264374', 'марин|0.6252041', 'майкл|0.6201781', 'великолепно|0.61886007', 'благодаря|0.61422116', 'шеф_повар|0.61375487', 'великолепный|0.6135284', 'подарок|0.6132215', 'ольга|0.61117643', 'свадебный|0.610839', 'исполнить|0.6107037', 'невеста|0.6074815', 'фейерверк|0.60654616', 'самый_главный|0.6058627', 'торт|0.60163105', 'подготовка|0.60054517', 'создать|0.6005252', 'поклон|0.59988046', 'торжество|0.59963554', 'выразить|0.5965716', 'выражать|0.5960121', 'елена|0.5957354', 'благодарный|0.5944715', 'сергей|0.59399045', 'каравай|0.5927243', 'высокий_уровень|0.59071916', 'андрей|0.5888771', 'подарить|0.58845925', 'совет|0.5874195', 'евгений|0.58508384', 'алексей|0.5832145', 'уважение|0.5832047', 'фуршет|0.58292156', 'очень_довольный|0.5811159', 'забота|0.580655', 'благодарить|0.5795139', 'молодожён|0.5781224', 'владимир|0.5767262', 'также|0.5755975', 'наш_гость_остаться_очень_довольный|0.5745351', 'грамотный|0.57238114', 'марина|0.57201463', 'программа|0.56975865', 'пожелание|0.56942475', 'дмитрия|0.56615484', 'помочь|0.5654504', 'конкурс|0.5648401', 'отдельный|0.56442773', 'чудесный|0.5631545', 'виктор|0.56308615', 'весь_наш_пожелание|0.56289744', 'ирина|0.5626738', 'поздравление|0.5614364', 'шикарный|0.5594769', 'остаться_довольный|0.5589244', 'гость|0.5583167', 'прекрасный|0.55706203', 'проведение|0.55640143', 'процветание|0.5552118', 'гостеприимство|0.55511236', 'порекомендовать|0.55482936', 'потрясать|0.5529687', 'очень_приятно|0.5512773', 'наталья|0.55014324', 'потрясающе|0.5496205', 'подбор|0.5494954', 'александр|0.5489745', 'внимательность|0.5482137', 'станислав|0.54505527', 'анастасия|0.5437293', 'вячеслав|0.5401752', 'татьяна|0.53908455', 'душа|0.53683877', 'выше_весь_похвала|0.5357655', 'бравый|0.5342737', 'отзывчивость|0.53231144']\n",
            "Aspect 10:\n",
            "['висок|0.7800434', 'литр|0.7395619', 'водка|0.73489547', 'пинта|0.6976025', 'пиво|0.69225633', 'разливный|0.66907406', 'бутылочный|0.66391456', 'кола|0.6581905', 'кружка|0.6521287', 'ньюкасл|0.64699805', 'безалкогольный|0.63731503', 'сорт|0.63224566', 'коньяк|0.62690264', 'крепкий|0.625398', 'крушовица|0.6201025', 'алкогольный|0.60478294', 'карта|0.60027635', 'бутылочка|0.59699404', 'коктейль|0.58957464', 'напиток|0.58640814', 'бесплатный|0.5829346', 'гиннес|0.5823772', 'алкоголь|0.5803993', 'бутылка|0.58020306', 'мл|0.5766282', 'наливать|0.5714683', 'мохитый|0.5680024', 'графин|0.56619334', 'бланша|0.5631715', 'пить|0.5630837', 'сок|0.56074905', 'стакан|0.55268264', 'мартини|0.5512672', 'бокал|0.549055', 'вод|0.5472685', 'нефильтрованный|0.5426659', 'харп|0.5401117', 'коктейльный|0.53263307', 'текила|0.5299426', 'лонг|0.52351326', 'лицензия|0.51909965', 'спиртное|0.5162342', 'вода|0.51527494', 'шампанский|0.5146419', 'бесплатно|0.5067688', 'налить|0.5050937', 'сидр|0.5026656', 'выпить|0.49879158', 'морс|0.49611843', 'распитие|0.4930544', 'вельвет|0.4898365', 'продавать|0.48786774', 'кок|0.48592535', 'василеостровский|0.4856743', 'руль|0.48411822', 'акция|0.48385897', 'эдельвейс|0.4829355', 'рюмка|0.4821757', 'бл|0.47919428', 'гр|0.4763994', 'коктель|0.47594982', 'покупать|0.4753508', 'чек|0.4733458', 'эспрессо|0.4731907', 'гинесса|0.46790782', 'кальян|0.46412763', 'айленд|0.46404585', 'игристый|0.46290064', 'пивная|0.46249223', 'разбавить|0.4612667', 'лёд|0.46024215', 'пивко|0.45926952', '100р|0.45638102', 'литровый|0.4547994', 'килкенни|0.45391583', 'сангрия|0.4529647', 'бармен|0.45122558', 'хугарден|0.4507188', 'скидка|0.450596', 'бар|0.4504956', 'купить|0.44880664', 'пивоварня|0.44876903', 'тысяча|0.44721937', 'свежевыжать|0.44265956', 'стоимость|0.44098115', 'эль|0.44086584', 'грамм|0.44002533', 'махитый|0.43957913', 'заплатить|0.43262556', 'америкать|0.42911977', 'евро|0.42704162', 'набор|0.4258802', 'квас|0.42558843', 'дисконтный|0.42557406', 'рубль|0.42529225', 'лагер|0.42434615', 'стопка|0.42378372', 'обойтись|0.41953036', 'разливать|0.41848004', 'глинтвейн|0.4180033']\n",
            "Aspect 11:\n",
            "['летие|0.78856105', 'февраль|0.7571076', 'июнь|0.7544802', 'декабрь|0.7524749', 'сентябрь|0.7400742', 'август|0.7398892', 'май|0.73268795', 'июль|0.7302079', '2011г|0.72782', 'март|0.7231258', 'январь|0.71176463', 'октябрь|0.7077663', 'го|0.69770324', 'корпоратить|0.6974596', 'ноябрь|0.68825555', 'дата|0.6857751', 'праздновать|0.68544245', 'юбилей|0.6612977', 'отмечать_день_рождение|0.6560079', 'др|0.65433365', 'отмечать|0.64922607', 'бракосочетание|0.6442635', 'наш_свадьба|0.64001507', 'апрель|0.63965863', 'часы|0.63775635', 'справлять|0.6354873', 'день_рождение|0.62747896', 'корпоративный|0.62551534', 'корпоратив|0.6166628', 'празднование|0.61487395', 'ти|0.61453605', 'состояться|0.60498315', 'новогодний|0.6044199', 'выпускной|0.6032767', 'воскресение|0.6000194', 'отпраздновать|0.599155', 'новый_год|0.5899583', 'ночь|0.5840651', 'год|0.57610655', 'свадьба|0.5740236', 'неделя|0.5733675', 'мероприятие|0.573367', 'дочь|0.5614629', 'свой_день_рождение|0.55807924', 'годовщина|0.55747104', 'торжество|0.5541608', 'суббота|0.55208576', 'семья|0.55091196', 'нг|0.548193', 'банкетный_зал|0.5475204', 'прошлый|0.54747814', 'выездной|0.53832173', 'утро|0.5374912', '2014г|0.53729916', 'вечеринка|0.53649837', 'праздновать_день_рождение|0.5364374', '2013г|0.53590167', 'переговоры|0.5342917', 'девичник|0.53161323', 'устроить|0.531258', '2010г|0.5293373', 'свадебный|0.52851343', 'приехать|0.52755344', 'событие|0.5268706', 'месяц|0.5243757', 'четверг|0.5220525', 'однокурсник|0.52142644', 'честь|0.5190362', 'банкет|0.51736903', 'счастливый|0.5162834', 'чело|0.5159283', 'вторник|0.5109842', 'гулять|0.509735', 'пр|0.5094388', 'минувший|0.5074653', 'число|0.50695384', 'век|0.5055076', 'накануне|0.5054277', 'год_назад|0.5051111', 'арендовать|0.50418746', 'втроём|0.50413084', 'начаться|0.5035182', 'галерный|0.50272167', 'планироваться|0.5024359', 'дочка|0.5012826', 'проведение|0.5009333', 'бельканто|0.5008507', 'родитель|0.50020146', 'сын|0.49698168', 'регистрация|0.49500236', 'передохнуть|0.4946804', 'поздравить|0.49329638', 'рождение|0.49319705', 'канун|0.49213952', 'перерыв|0.49067476', 'вчера|0.48945898', 'среда|0.48784736', 'отмечаться|0.48363328', 'утром|0.48151818', 'концерт|0.4781634']\n",
            "Aspect 12:\n",
            "['стен|0.7460835', 'полка|0.7301316', 'стена|0.7073653', 'потолок|0.69960356', 'мебель|0.69012284', 'картина|0.689066', 'рамка|0.6883427', 'элемент|0.6856626', 'светильник|0.6783999', 'зеркало|0.6765139', 'надпись|0.6747457', 'стекло|0.6744031', 'предмет|0.67345303', 'кирпичный|0.66614467', 'деталь|0.6661418', 'прочий|0.66414595', 'дерево|0.66384387', 'старое|0.66369545', 'журнал|0.66129893', 'стеклянный|0.6609856', 'золотой|0.66035414', 'фотография|0.65954316', 'люстра|0.6586403', 'панель|0.6584328', 'старинный|0.6583289', 'внутренний|0.6572934', 'плазменный|0.65619224', 'лампа|0.6556352', 'плитка|0.6545486', 'висеть|0.6544946', 'серый|0.64767206', 'современный|0.6397711', 'видный|0.63870376', 'смотреться|0.6377448', 'картинка|0.63579386', 'крыша|0.6345199', 'здание|0.6337849', 'пространство|0.63263535', 'доска|0.6326213', 'декор|0.6326072', 'черно|0.6321702', 'кирпич|0.63085246', 'синий|0.6304197', 'убранство|0.62963104', 'гамма|0.62852335', 'газета|0.62789893', 'уборный|0.627465', 'потолочь|0.6269808', 'шкаф|0.6234417', 'подоконник|0.62145036', 'буфет|0.62135965', 'подсветка|0.6206485', 'кладка|0.6201521', 'модерн|0.6196917', 'искусственный|0.61836874', 'цветовой|0.6183133', 'туалетный|0.6177337', 'дизайнерский|0.61626315', 'деревянный|0.61624205', 'пол|0.6127627', 'свет|0.60974693', 'обои|0.6069981', 'штора|0.60693866', 'ступенька|0.6058382', 'клетка|0.6056222', 'плазма|0.6044212', 'полый|0.6021761', 'абажур|0.60151625', 'угол|0.6007848', 'полочка|0.599823', 'стиль|0.5987903', 'известный|0.5978161', 'бумага|0.59631217', 'коричневый|0.595918', 'ткань|0.59530854', 'белоснежный|0.5951809', 'стеллаж|0.5922277', 'дух|0.5916825', 'обилие|0.59153754', 'дизайнер|0.5905305', 'тяжёлый|0.59018004', 'колонна|0.58997333', 'занавеска|0.5894656', 'вдоль|0.58876634', 'птичка|0.5867951', 'свод|0.58646375', 'кровать|0.5846528', 'аксессуар|0.5845509', 'витрина|0.5828177', 'цветочек|0.5815552', 'логотип|0.58145', 'тон|0.57904166', 'открываться|0.578864', 'советский|0.5781745', 'подвал|0.5754968', 'массивный|0.57534647', 'винный|0.5730057', 'торчать|0.5728306', 'высоченный|0.5726932', 'ширма|0.5726338']\n",
            "Aspect 13:\n",
            "['дымно|0.76477516', 'дым|0.75309825', 'шумно|0.7484359', 'душный|0.74518716', 'накурить|0.73574173', 'тесно|0.7340104', 'сидеть|0.72463256', 'прохладно|0.7133293', 'диван|0.70640415', 'неуютный|0.7023841', 'диванчик|0.70013785', 'вентиляция|0.69704515', 'курить|0.6893072', 'мешать|0.6874161', 'дышать|0.6764646', 'друг_друг|0.66964465', 'вытяжка|0.66767514', 'кабинка|0.66440207', 'вокруг|0.6591988', 'слышный|0.65569144', 'прокурить|0.654127', 'народ|0.6460676', 'беседка|0.63958657', 'жарко|0.6375904', 'комфортно|0.6344937', 'аквариум|0.632915', 'кресло|0.6292832', 'танцполый|0.6268629', 'коромысло|0.6255836', 'подушечка|0.62536', 'табачный|0.6248307', 'парочка|0.6225555', 'зона|0.62173307', 'дальний|0.62025267', 'дуть|0.6173771', 'сосед|0.61631775', 'удобно|0.61444265', 'просторно|0.61377347', 'жарковатый|0.60989916', 'подушка|0.6094167', 'кондиционер|0.6092578', 'сигаретный|0.606273', 'курящий|0.60459006', 'помещение|0.60358244', 'второе_этаж|0.60274416', 'неудобный|0.60266525', 'некурящий|0.5988905', 'зала|0.598564', 'неудобно|0.5966314', 'тесноватый|0.59523094', 'уединённость|0.59419227', 'кондей|0.59343624', 'стул|0.5931943', 'близко|0.5927386', 'терасс|0.5924771', 'плед|0.5922144', 'веранда|0.59057', 'барный_стойка|0.5902431', 'светло|0.5868124', 'развалиться|0.5863523', 'прикольный|0.58608687', 'наверху|0.58581126', 'пропахнуть|0.58527565', 'орать|0.58455825', 'камин|0.57935655', 'высоченный|0.57928866', 'тесновато|0.5790945', 'устроиться|0.57599235', 'тв|0.5735748', 'курильщик|0.5729259', 'темноватый|0.5714382', 'дымить|0.5696963', 'стульчик|0.56955653', 'тихо|0.5694067', 'воздух|0.5684087', 'интимный|0.5674529', 'детский_комната|0.5651949', 'комната|0.5650451', 'мужской|0.5636653', 'скамейка|0.5627477', 'расположиться|0.5618475', 'экран|0.56046844', 'разделение|0.5598658', 'внизу|0.55959976', 'плетёный|0.5586507', 'комнатка|0.55803585', 'приглушить|0.5563528', 'спокойно|0.5561836', 'телевизор|0.5556249', 'сидение|0.55412626', 'деление|0.5537619', 'танцевать|0.5524377', 'полумрак|0.5514092', 'шум|0.55073214', 'уединение|0.5503503', 'темно|0.54804456', 'закутка|0.5476668', 'зальчик|0.5475875', 'туалет|0.54705554', 'свет|0.54576683']\n",
            "2019-12-24 03:44:22,785 INFO Epoch 12, train: 5s\n",
            "2019-12-24 03:44:22,785 INFO Total loss: 3.6041, max_margin_loss: 3.4952, ortho_reg: 0.1090\n",
            "100% 594/594 [00:05<00:00, 101.02it/s]\n",
            "Aspect 0:\n",
            "['захотеться|0.72773993', 'питер|0.7266089', 'заглянуть|0.7248192', 'перекусить|0.7177543', 'жить|0.7058648', 'поехать|0.70384306', 'случайно|0.6997123', 'сходить|0.6965545', 'зайти|0.6951675', 'недавно|0.68211746', 'заехать|0.68062174', 'поужинать|0.67802763', 'пообедать|0.67778754', 'любим|0.6758683', 'недалеко|0.67572176', 'покушать|0.67077404', 'ездить|0.67046005', 'московский|0.664127', 'заезжать|0.660735', 'однажды|0.659999', 'давно|0.65932524', 'ехать|0.6568705', 'заходить|0.65681875', 'частенько|0.65374017', 'подружка|0.64537084', 'забежать|0.6448045', 'петроградка|0.6446829', 'поболтать|0.64158565', 'район|0.63793695', 'это_место|0.6367516', 'сюда|0.6311799', 'попить|0.62787455', 'заскочить|0.62391794', 'это_кафе|0.61649954', 'любимый|0.613424', 'целенаправленно|0.60889983', 'дом|0.60280454', 'заслать|0.5921314', 'проезжать|0.59062624', 'открыться|0.5890373', 'вчера|0.58761007', 'добраться|0.5848001', 'москва|0.5844051', 'захаживать|0.5816653', 'невский|0.58031213', 'сегодня|0.58026856', 'специально|0.5800258', 'ужинать|0.57926726', 'посетить|0.5783227', 'забрести|0.57784355', 'васильевский|0.5776422', 'приезжать|0.57754207', 'хороший_место|0.57748854', 'местечко|0.5760522', 'вспомнить|0.5745503', 'прогулка|0.5707066', 'ходить_туда|0.5697316', 'посидеть|0.5659741', 'друг|0.565104', 'вечером|0.5648315', 'васька|0.56400526', 'знакомый|0.5611142', 'приморский|0.5607953', 'остров|0.55720234', 'летом|0.55715', 'разочароваться|0.5563485', 'ближний|0.55592984', 'позавтракать|0.5558772', 'попасть|0.5556344', 'занести|0.5548369', 'приятель|0.55443203', 'обедать|0.5533562', 'пивко|0.5531093', 'побывать|0.5499263', 'поход|0.5411898', 'ресторанчик|0.540201', 'нибыть|0.53927207', 'забегать|0.53782547', 'вновь|0.5363003', 'рада|0.5362847', 'заглядывать|0.53604925', 'город|0.53304833', 'отдохнуть|0.5287154', 'отправиться|0.5285989', 'выходной|0.52794063', 'привести|0.5241668', 'довестись|0.5198019', 'поесть|0.5177485', 'впервые|0.5160041', 'возвращаться|0.51544756', 'хаус|0.5125301', 'неподалёку|0.51187146', 'посещать|0.5105837', 'жан|0.51028776', 'решить|0.5096236', 'проголодаться|0.50668013', 'лиговка|0.5059259', 'пр|0.50569344', 'наведаться|0.50522614', 'днём|0.50504184']\n",
            "Aspect 1:\n",
            "['заманчивый|0.6883088', 'ознакомиться|0.6472921', 'значиться|0.64043915', 'купиться|0.63921595', 'сезонный|0.6262406', 'страничка|0.61815476', 'строчка|0.60580647', 'выбрать|0.60430545', 'предложение|0.60206556', 'изучение|0.6002402', 'стопа|0.5915511', 'чтение|0.5846515', 'действительность|0.5832513', 'точный|0.58230627', 'обрадовать|0.5794487', 'описание|0.5762285', 'касательно|0.5744571', 'обозначить|0.5735129', 'перечень|0.5685363', 'подробный|0.5684793', 'разбегаться|0.5638246', 'интригующий|0.55709314', 'остановиться|0.55522114', 'остановить|0.55506396', 'вариант|0.55477107', 'соблазниться|0.5547381', 'продегустировать|0.54951245', 'ссылка|0.5484437', 'изучить|0.5459715', 'страница|0.54001516', 'перечислить|0.5387734', 'сайт|0.5382346', 'дегустационный|0.5370486', 'вышеуказанный|0.536767', 'просмотреть|0.53621495', 'красочный|0.53292644', 'аперитив|0.531183', 'ошибаться|0.5301761', 'название|0.5300417', 'недурственный|0.5295557', 'решиться|0.5280781', 'инуть|0.5242535', 'разумеется|0.5240875', 'статья|0.52314055', 'наиболее|0.5224593', 'прочтение|0.52123845', 'захер|0.5206573', 'а4|0.5204256', 'угадать|0.5192469', 'вк|0.5190026', 'каберне|0.51894367', 'заинтриговать|0.51750386', 'омар|0.5156969', 'перейти|0.51405364', 'полистать|0.5134991', 'пасть|0.51321626', 'отметиться|0.50952715', 'банкетик|0.5086116', 'первоначально|0.50832593', 'кавказка|0.5076946', 'содержание|0.50685483', 'шрифт|0.50643176', 'расширить|0.5054878', 'обширный|0.50525427', 'велкома|0.50475574', 'заказной|0.5047294', 'версия|0.50434744', 'расписать|0.5035851', 'спутница|0.5033043', 'старт|0.50318074', 'озвучить|0.5023248', 'разбежаться|0.50212824', 'смутно|0.50190103', 'раздел|0.5015297', 'именно_это_место|0.50105095', 'приглянуться|0.50075436', 'спецпредложение|0.5003707', 'пройтись|0.4992726', 'разделиться|0.49901783', '190р|0.49668327', 'фигурировать|0.49632782', 'прокомментировать|0.49542195', '390р|0.4931973', 'презентация|0.4930705', 'св|0.49294126', 'сообразить|0.49243584', 'америка|0.4917335', 'аналогично|0.48989654', 'разгуляться|0.48972923', 'подробно|0.4892246', 'португальский|0.48799518', 'австралийский|0.4859441', 'непривычный|0.48550576', 'осмотреть|0.48439637', 'велик|0.48434734', 'кесадилья|0.48379707', 'перевод|0.48376825', 'розлив|0.48337746', 'замешательство|0.4830391', 'вьетнамский|0.48259014']\n",
            "Aspect 2:\n",
            "['говядина|0.7296797', 'гриль|0.71119237', 'карпаччо|0.69695115', 'овощ|0.6916621', 'рыба|0.6753199', 'лосось|0.6753033', 'стейк|0.6694783', 'рибай|0.6676614', 'цыплёнок|0.6668377', 'филе|0.66246337', 'баклажан|0.66190505', 'курица|0.6607322', 'креветка|0.65471184', 'свиной|0.63807565', 'салат_цезарь|0.6378243', 'свинина|0.63611084', 'картофель|0.635149', 'куриный|0.627185', 'барашек|0.6249138', 'тунец|0.6244145', 'котлета|0.6222333', 'форель|0.6211625', 'оливья|0.6196085', 'стейка|0.61890423', 'судак|0.6155418', 'кальмар|0.61518615', 'ягнёнок|0.61388', 'сацивить|0.61166036', 'морепродукт|0.61095303', 'миньон|0.6096325', 'цезарь|0.60877836', 'дорад|0.60560715', 'краб|0.60528326', 'овощной|0.60467374', 'медальон|0.6046544', 'дорада|0.6040547', 'баранина|0.60366935', 'вок|0.60288024', 'грудка|0.6013169', 'гребешок|0.59715784', 'свинин|0.5969487', 'телятина|0.5964271', 'утка|0.5930511', 'жареный|0.5928323', 'крылышко|0.5910659', 'кебаб|0.59105736', 'сибас|0.5910268', 'копчёный|0.5889714', 'бургера|0.5887405', 'мраморный|0.5861051', 'запечь|0.5845736', 'ростбиф|0.5844643', 'плов|0.5843495', 'мидия|0.5837207', 'шашлык|0.5830743', 'греческий|0.58286434', 'пекински|0.5808232', 'гарнир|0.5805162', 'тара_тара|0.57863986', 'мангал|0.5780164', 'солянка|0.5759241', 'сёмга|0.5751304', 'рыбка|0.5742623', 'прожарка|0.57409024', 'кисло_сладкое_соус|0.5728603', 'печень|0.5724596', 'запечёный|0.572065', 'утиный|0.5705211', 'рис|0.5700814', 'колбаска|0.569674', 'осьминог|0.56869745', 'мясной|0.56639355', 'кура|0.5613078', 'говяжий|0.56069195', 'котлетка|0.55990386', 'мясо|0.5588075', 'долма|0.557678', 'жарить|0.55594337', 'драник|0.55350214', 'ризотто|0.5523255', 'авокадо|0.5504428', 'салатик|0.54881454', 'помидор|0.5480558', 'бараний|0.5461415', 'айдахо|0.54548407', 'каре|0.5453003', 'королевский|0.5452697', 'люля|0.5447386', 'томат|0.54458845', 'рыбный|0.5445725', 'селёдка|0.5438094', 'палтус|0.54357314', 'жульен|0.5430461', 'крабовый|0.54184973', 'острый|0.5408293', 'шашлычок|0.5403978', 'ребро|0.54013205', 'кляр|0.53841555', 'картошка|0.5381473', 'сырой|0.53784627']\n",
            "Aspect 3:\n",
            "['господин|0.77280664', 'простить|0.7493925', 'позор|0.7353676', 'ресторатор|0.7329544', 'критика|0.732811', 'ум|0.72458184', 'существовать|0.71869206', 'понятие|0.71798223', 'личный|0.70814884', 'право|0.69332504', 'негатив|0.6896633', 'владелец|0.6870936', 'скрыть|0.6821801', 'уважаемый|0.68211734', 'гнать|0.67689776', 'автор|0.67410016', 'зарплата|0.66801727', 'злой|0.6669736', 'практика|0.6655085', 'высказывание|0.6654738', 'откровенный|0.6646486', 'речь|0.66266465', 'борис|0.66166574', 'знак|0.65815216', 'управленец|0.6577339', 'пусть|0.6576886', 'репутация|0.6565925', 'иначе|0.6561046', 'совесть|0.6550307', 'довести|0.65387696', 'быдло|0.64941907', 'представитель|0.6474569', 'хамство|0.64575464', 'уверенный|0.6457459', 'постараться|0.6448255', 'жизнь|0.64343655', 'наплевать|0.6413517', 'никак|0.64093935', 'задуматься|0.6405195', 'допускать|0.6403706', 'хозяин|0.63934773', 'менеджмент|0.6373197', 'стороной|0.6366378', 'ругать|0.63607377', 'бог|0.6360558', 'иметь|0.6332774', 'уволить|0.6321508', 'обходить|0.63204855', 'значение|0.63190156', 'тенденция|0.6318147', 'сфера|0.63158727', 'неужели|0.6315742', 'называть|0.6304558', 'уважать|0.62977624', 'бред|0.6278106', 'здравый|0.6273787', 'удалять|0.6272663', 'учиться|0.62237847', 'чувак|0.6216711', 'сугубо|0.619469', 'общепит|0.6188349', 'обман|0.6182556', 'вложить|0.61791307', 'субъективный|0.6178075', 'верить|0.617784', 'извинить|0.6171556', 'потерять|0.61713433', 'потребитель|0.61706495', 'непрофессиональный|0.6160071', 'тренд|0.6147791', 'стремиться|0.6136687', 'вечно|0.6131165', 'разойтись|0.6128655', 'предприятие|0.61285895', 'объективный|0.61259', 'опыт|0.61229074', 'понимание|0.6122649', 'плевать|0.6106646', 'мысль|0.6098944', 'оратор|0.60836285', 'твориться|0.606668', 'история|0.6056723', 'licorice|0.60526824', 'развитие|0.6041472', 'бороться|0.6033801', 'воровать|0.6029054', 'дословно|0.60092777', 'обратный|0.60082936', 'блог|0.6005397', 'человеческий|0.6000224', 'непрофессионализм|0.59987724', 'совковый|0.59968865', 'грубый|0.5995461', 'нарушение|0.5982193', 'полагать|0.5979388', 'прощать|0.5978863', 'ужас|0.5959711', 'питание|0.5951357', 'потеря|0.5947545', 'мыть|0.59373283']\n",
            "Aspect 4:\n",
            "['девочка|0.7829905', 'улыбчивый|0.74181163', 'улыбка|0.7381013', 'улыбаться|0.73613906', 'молодая_человек|0.72973377', 'мальчик|0.7196517', 'официантка|0.7107965', 'официант|0.69156384', 'девушка|0.6862237', 'любезный|0.67095435', 'обслуживать|0.66863126', 'парень|0.6645848', 'учтивый|0.6630675', 'расторопный|0.662127', 'доброжелательно|0.6617768', 'вежливый|0.65319026', 'мила|0.65275264', 'интересоваться|0.6482433', 'офицант|0.6263051', 'юноша|0.62585187', 'чётко|0.6240439', 'доброжелательный|0.62136626', 'стараться|0.61769223', 'появляться|0.61501694', 'персонал|0.60922104', 'внимательно|0.6050694', 'забывать|0.6049756', 'звать|0.60298324', 'вовремя|0.60248476', 'оперативно|0.5966202', 'обходительный|0.59541166', 'услужливый|0.5813583', 'предупредительный|0.57678235', 'успевать|0.57389003', 'старательный|0.5703372', 'пепельница|0.57009435', 'обслуживающий|0.56990606', 'лицо|0.56942105', 'барышня|0.56882286', 'провожать|0.5684001', 'обслуживающий_персонал|0.56497896', 'менять|0.56229377', 'обслужить|0.56046146', 'шустрый|0.56003326', 'бармен|0.55635655', 'незаметно|0.5557941', 'задержка|0.5547643', 'навязчивый|0.5545238', 'приветливо|0.5540337', 'общительный|0.5519277', 'прощаться|0.5507631', 'наш_столик|0.54753417', 'голос|0.54567957', 'весь_время|0.5445476', 'смена|0.5442501', 'общаться|0.5405462', 'дружелюбно|0.5399116', 'выполнять|0.53684765', 'корректно|0.5346179', 'приветливый|0.5321322', 'администратор|0.53162783', 'молниеносно|0.5297482', 'молодая|0.5294729', 'быстрый|0.5261489', 'разговаривать|0.5259987', 'внимательный|0.5230465', 'профессионально|0.52212334', 'постоянно|0.52153647', 'здороваться|0.5213659', 'тактично|0.5206024', 'реагировать|0.5188395', 'следить|0.51816076', 'ненавязчивый|0.51762664', 'молодец|0.5174192', 'уносить|0.5159968', 'ребята|0.5154941', 'очень_быстро|0.5147296', 'незаметный|0.51142853', 'заботливый|0.51122284', 'назойливый|0.507771', 'медленно|0.50766957', 'хостёс|0.50718695', 'милый|0.5068066', 'отвечать|0.50622463', 'молоденький|0.504638', 'компетентный|0.50133723', 'хостесса|0.49480045', 'шутить|0.49437022', 'молодая_человек_который|0.4935549', 'очень_милый|0.49348772', 'принимать|0.48872387', 'быстро|0.4851718', 'своевременно|0.48469943', 'убирать|0.47808865', 'подходить|0.47738224', 'дружелюбный|0.47598976', 'внешность|0.47576988', 'соседний_столик|0.47566873', 'неопытный|0.4726927', 'терпеливо|0.47148114']\n",
            "Aspect 5:\n",
            "['изыск|0.73387843', 'ценник|0.7284015', 'завысить|0.69985646', 'выше|0.6900278', 'учитывать|0.6835718', 'уровень|0.6829', 'весь_остальной|0.6758672', 'касаться|0.66213524', 'соответствовать|0.6452341', 'недостаток|0.64315593', 'сравнение|0.63755774', 'цена_качество|0.6375014', 'японский|0.63326806', 'вполне|0.6311841', 'посредственный|0.62953854', 'прежний|0.6288856', 'не_мочь_сказать|0.62714386', 'намного|0.6236129', 'принцип|0.62242603', 'качество|0.6203582', 'цена|0.61956644', 'приемлемый|0.61670303', 'среднее|0.6134291', 'нарекание|0.61145854', 'средненький|0.61010313', 'соотношение_цена_качество|0.60944706', 'крайний_мера|0.6081069', 'многий|0.607001', 'менее|0.5994112', 'остальной|0.594656', 'бизнес_ланча|0.59460217', 'разнообразие|0.5930041', 'простой|0.5929206', 'гораздо|0.592757', 'достойный|0.59162945', 'ничто_особенный|0.58962345', 'ценовый|0.58709335', 'пожалуй|0.5815495', 'относительно|0.57852733', 'исключение|0.5775527', 'отличие|0.5774826', 'действительно|0.5771377', 'дорого|0.57517165', 'крайне|0.5728923', 'скромный|0.57148755', 'категория|0.5707208', 'европейский|0.5704049', 'придраться|0.5694263', 'демократичный|0.5693927', 'ниже|0.5664094', 'дороговатый|0.564576', 'отличаться|0.56403965', 'целое|0.56100345', 'достаточно|0.56088924', 'сносный|0.55724466', 'средний|0.5569911', 'добротный|0.5559607', 'высокий|0.5546299', 'главный|0.55289316', 'умеренный|0.55286247', 'фаста|0.550143', 'качественный|0.54994035', 'особый|0.5498868', 'радовать|0.54874086', 'оценка|0.54779494', 'адекватный|0.54730123', 'китайский|0.5472411', 'значительно|0.545408', 'оценивать|0.54490876', 'кухня|0.5447718', 'претензия|0.54475087', 'особо|0.54375243', 'дёшево|0.5413641', 'неплохо|0.5408977', 'недорогой|0.5393084', 'неоправданно|0.5347527', 'сетевой|0.5335055', 'оставлять_желать_хороший|0.53267413', 'удивлять|0.53236175', 'гуманный|0.5302141', 'еда|0.527285', 'плохой|0.5262139', 'однако|0.5239178', 'очень_большой|0.52302253', 'однозначно|0.52238613', 'заоблачный|0.52198815', 'средне|0.5177166', 'неплохой|0.51423293', 'имхо|0.5093378', 'очень_хороший|0.50899124', 'стандартный|0.5084486', 'весьма|0.50725013', 'ожидать|0.50526655', 'обычный|0.5049969', 'обычно|0.4986993', 'низкий|0.49775404', 'фуд|0.49636588', 'выдающийся|0.49490526', 'приличный|0.4933825', 'план|0.49274775']\n",
            "Aspect 6:\n",
            "['лежалый|0.581118', 'коробка|0.5806292', 'штука|0.5759015', 'упаковка|0.5629896', 'гора|0.55467016', 'диаметр|0.5437038', 'килограмм|0.5412952', 'холодильник|0.5348779', 'блюдечко|0.5339885', 'булочка|0.5334857', 'лента|0.52951443', 'уложить|0.5272522', 'подсушить|0.52723813', 'хлеб|0.5265878', 'пластина|0.5258654', 'стопочка|0.5258529', 'разложить|0.52423257', 'ручной|0.5236547', 'размазать|0.5211195', 'бутерброд|0.5200474', 'прилипнуть|0.5199108', 'тарелочка|0.5191865', 'четыре|0.5174843', 'хк|0.51699936', 'чиабатта|0.5157491', 'булка|0.5153457', 'печь|0.5140628', 'ржаной|0.5132973', 'икра|0.51300377', 'нарезка|0.51298285', 'горка|0.5128846', 'мм|0.5115339', 'остаток|0.5112235', 'вуаля|0.5111743', 'веточка|0.5096535', 'половинка|0.5092998', 'багет|0.50853366', 'слой|0.50835884', 'жалкий|0.50479925', 'картофелина|0.5046937', 'чёрствый|0.504647', 'край|0.5045725', 'закусывать|0.50388247', 'долька|0.5031261', 'ломоть|0.50305045', 'залить|0.50138235', 'оливковый|0.5000119', 'хлебушек|0.4996884', 'тост|0.4995703', 'капля|0.49954945', 'пополам|0.49944603', 'треугольник|0.49909824', 'миллиметр|0.4983067', 'засохнуть|0.49760616', 'целиком|0.4971224', 'заветренный|0.4968629', 'куча|0.49626297', 'четвертинка|0.49619034', 'мисочка|0.49578702', 'хамон|0.49484628', 'насыпать|0.49433434', 'пиала|0.49414438', 'дно|0.4938199', 'выложить|0.49240446', 'рота|0.49232513', 'порезать|0.4922644', 'собирать|0.4920836', 'хлопья|0.49149674', 'включая|0.49146366', 'плошка|0.49127793', 'гигантский|0.4906581', 'крохотный|0.4898678', 'кожура|0.48972026', 'блюдце|0.48846292', 'лимон|0.4879589', 'целый|0.48742077', 'четверть|0.48740506', 'вишенка|0.4873868', 'помидорка|0.48730904', 'сахарный|0.48718995', 'сахара|0.48710412', 'глиняный|0.48700806', 'съедать|0.4857927', 'толстой|0.4856456', 'миска|0.48305318', 'мёд|0.48301783', 'виноград|0.4825039', 'блин|0.4818579', 'аж|0.4812339', 'соусник|0.48109838', 'вместе|0.4810797', 'кружочек|0.48085672', 'ломтик|0.48076278', 'полить|0.48041075', 'лайм|0.48039153', 'холодец|0.48012847', 'утащить|0.4800791', 'нарезать|0.47995758', 'масло|0.47961652', 'комплект|0.47948456']\n",
            "Aspect 7:\n",
            "['уточнить|0.7068697', 'предупредить|0.7065904', 'выясниться|0.69356245', 'прийтись|0.6930106', 'поинтересоваться|0.6921917', 'сообщить|0.68421626', 'уточнять|0.676635', 'попытка|0.6696069', 'курс|0.66642606', 'предупреждать|0.6632091', 'успеть|0.66251695', 'унести|0.66087925', 'отказаться|0.660535', 'просить|0.6604141', 'мол|0.6551613', 'вынести|0.65296346', 'естественно|0.6518291', 'сделать_заказ|0.6509843', 'полчаса|0.6500285', 'ответить|0.64949787', 'спросить|0.6461704', 'ладный|0.6454348', 'забрать|0.6417809', 'обратно|0.64074385', 'подумать|0.6394532', 'пропасть|0.637134', 'подождать|0.6347843', 'попросить|0.634092', 'объяснить|0.6340227', 'дождаться|0.6327026', 'записать|0.6307566', 'убрать|0.63050187', 'сначала|0.63036627', 'отказать|0.63006204', 'извиниться|0.6261526', 'выяснить|0.62607634', 'последовать|0.622218', 'приход|0.622095', 'исчезнуть|0.62200654', 'отказываться|0.61751693', 'ответ|0.6158619', 'пришлый|0.61555386', 'пообещать|0.610782', 'спрашивать|0.6102724', 'забыть|0.60832715', 'попытаться|0.60768294', 'перепутать|0.6068469', '15_минута|0.6064629', 'поменять|0.604594', 'заставить|0.602402', 'предложить|0.5981045', 'затем|0.59782404', 'позвать|0.59441674', 'пытаться|0.59121144', 'готовый|0.5911542', '10_минута|0.5866804', 'поймать|0.58473516', 'освободиться|0.5843613', 'вопрос|0.5833503', 'убежать|0.5825956', 'подойти|0.57835746', 'её|0.5756892', 'сообщать|0.57460517', 'указать|0.57397574', 'принять|0.5726433', 'нея|0.57095927', 'вернуть|0.56878304', 'телефон|0.5687275', 'принять_заказ|0.56539404', 'приняться|0.56456745', 'разобраться|0.56109285', 'извиняться|0.5608477', 'встать|0.55995333', 'выяснять|0.55846024', '20_минута|0.55843997', 'почему|0.5563662', 'положить|0.555977', 'оказываться|0.55571413', 'забирать|0.5554688', 'самостоятельно|0.5540246', 'не_смочь|0.5539532', 'обратиться|0.5528673', 'никто_не|0.5521465', 'предлагать|0.55209386', 'закончиться|0.5459808', 'молча|0.545208', 'просьба|0.5435908', 'обещать|0.5415367', 'пересадить|0.54109657', 'прождать|0.5409986', 'виноватый|0.53963196', 'удивиться|0.5388925', 'пожалуйста|0.5382248', 'расчёт|0.5374634', 'согласиться|0.53649926', 'неприятно|0.53583884', 'заменить|0.5352377', 'поздний|0.53497845', 'стоялый|0.5340115', 'позвонить|0.53351283']\n",
            "Aspect 8:\n",
            "['шоколад|0.73335886', 'клубника|0.7072466', 'кекс|0.70473164', 'варение|0.7042308', 'малиновый|0.6971842', 'яблочный|0.69446546', 'сорбета|0.69244367', 'крем|0.69167197', 'шоколадный|0.68756306', 'сливка|0.68348014', 'мусса|0.6816124', 'клубничный|0.6730369', 'мятный|0.6715793', 'печение|0.67000216', 'ванильный|0.6641299', 'пирог|0.66360074', 'вафельный|0.6628076', 'миндальный|0.6628009', 'эклер|0.6605712', 'карамельный|0.6581851', 'сладость|0.6558397', 'морковный|0.6524962', 'имбирный|0.65188384', 'сладкий|0.6498001', 'молоко|0.649531', 'малин|0.6483364', 'манговый|0.6459133', 'корица|0.64421356', 'ароматный|0.6442033', 'апельсиновый|0.63847196', 'вишня|0.63778114', 'чизкейк|0.6345676', 'карамель|0.63408905', 'мятый|0.6338387', 'панакот|0.63228357', 'сладко|0.63095856', 'капуччиный|0.62964123', 'черничный|0.6279769', 'ягода|0.62746656', 'мороженный|0.62708604', 'меренга|0.6264944', 'грушевый|0.6263819', 'бисквит|0.6258717', 'чабрец|0.6245064', 'лимонный|0.62418467', 'суфле|0.6220932', 'брауни|0.62182736', 'печенюшка|0.6215836', 'пенка|0.62097144', 'желе|0.6206564', 'творожный|0.620616', 'наполеон|0.61986256', 'ваниль|0.61587983', 'мороженое|0.6136054', 'вафля|0.61286545', 'взбить|0.6121545', 'горячий|0.6113871', 'брюла|0.61131376', 'запивать|0.60881495', 'сорбетом|0.60849094', 'шарик|0.60848975', 'послевкусие|0.60812545', 'марципановый|0.60761625', 'чиз|0.6075464', 'песочный|0.6033989', 'кейк|0.6005496', 'манго|0.600304', 'пирожное|0.5998852', 'сгущёнка|0.59862727', 'медовик|0.598493', 'каппучиный|0.5984586', 'брусничный|0.59780765', 'груша|0.5975553', 'грецкий|0.5970292', 'чаемый|0.596238', 'яблоко|0.5948708', 'джема|0.5947853', 'фисташковый|0.5946617', 'трубочка|0.594524', 'воздушный|0.594234', 'кокосовый|0.5931214', 'сироп|0.5929141', 'профитроль|0.5928807', 'сахарный|0.59225935', 'густой|0.5919199', 'малина|0.59182537', 'штрудель|0.5904778', 'запилить|0.5903776', 'базиликовый|0.58908486', 'клюква|0.5883995', 'мёд|0.5875636', 'какао|0.58598256', 'приторный|0.5859555', 'трюфель|0.58484393', 'заварной|0.58479357', 'маскарпон|0.58427763', 'фреш|0.5840936', 'тархун|0.58359706', 'корочка|0.5822394', 'печенек|0.5816948']\n",
            "Aspect 9:\n",
            "['отдельный_спасибо|0.80580276', 'огромный_спасибо|0.7549665', 'большой_спасибо|0.742804', 'праздник|0.7347659', 'весь_гость|0.7320412', 'благодарность|0.7123761', 'праздничный|0.69574', 'тамада|0.6909605', 'организация|0.6802999', 'незабываемый|0.67020965', 'шоу|0.66920435', 'команда|0.66001236', 'весь_наш|0.6586734', 'кондитер|0.65472746', 'ведущий|0.6544375', 'спасибо|0.65341234', 'коллектив|0.65285397', 'организовать|0.648354', 'профессионал|0.6468048', 'прекрасно|0.64467824', 'чуткий|0.6427242', 'профессионализм|0.6343862', 'весь_гость_остаться_довольный|0.6319723', 'респект|0.63158166', 'марин|0.6286175', 'поблагодарить|0.6284726', 'великолепно|0.62581414', 'майкл|0.62198246', 'великолепный|0.6215408', 'шеф_повар|0.62050474', 'благодаря|0.6159413', 'подарок|0.6156535', 'ольга|0.6141717', 'свадебный|0.61285824', 'исполнить|0.61142933', 'фейерверк|0.6105726', 'самый_главный|0.6105295', 'невеста|0.6070804', 'торт|0.60302496', 'подготовка|0.60298526', 'поклон|0.6023629', 'создать|0.6005145', 'торжество|0.6003616', 'выражать|0.5999737', 'елена|0.59904075', 'выразить|0.59896433', 'сергей|0.59805804', 'высокий_уровень|0.59798485', 'каравай|0.5962607', 'благодарный|0.59487486', 'андрей|0.59380007', 'совет|0.5889854', 'подарить|0.5883039', 'евгений|0.5878314', 'алексей|0.58673346', 'очень_довольный|0.5843275', 'фуршет|0.58408403', 'уважение|0.5838933', 'благодарить|0.58296645', 'также|0.581877', 'забота|0.58153975', 'владимир|0.5807327', 'молодожён|0.57827276', 'марина|0.57789373', 'грамотный|0.5773305', 'наш_гость_остаться_очень_довольный|0.5766579', 'дмитрия|0.5719737', 'программа|0.5714568', 'отдельный|0.57077885', 'пожелание|0.5687108', 'виктор|0.56765234', 'помочь|0.5668392', 'чудесный|0.56660324', 'ирина|0.5659437', 'весь_наш_пожелание|0.5659382', 'поздравление|0.5653412', 'шикарный|0.5650215', 'конкурс|0.56480795', 'остаться_довольный|0.5631467', 'потрясать|0.5611907', 'прекрасный|0.56094646', 'гостеприимство|0.5602647', 'гость|0.5584543', 'порекомендовать|0.55799794', 'проведение|0.5569079', 'подбор|0.5568936', 'процветание|0.5557188', 'очень_приятно|0.5549795', 'наталья|0.5541647', 'александр|0.55327046', 'потрясающе|0.5531897', 'внимательность|0.5531405', 'станислав|0.5516022', 'анастасия|0.548451', 'вячеслав|0.54333097', 'выше_весь_похвала|0.5427927', 'татьяна|0.54225576', 'бравый|0.54008746', 'мастер|0.53829515', 'отзывчивость|0.538082']\n",
            "Aspect 10:\n",
            "['висок|0.78209066', 'литр|0.7414758', 'водка|0.73677164', 'пинта|0.69860935', 'пиво|0.69061106', 'разливный|0.6682732', 'бутылочный|0.6642776', 'кола|0.6622206', 'кружка|0.65324974', 'ньюкасл|0.64739513', 'безалкогольный|0.63851917', 'сорт|0.6306531', 'коньяк|0.6296315', 'крепкий|0.6267754', 'крушовица|0.6196507', 'алкогольный|0.606745', 'карта|0.603814', 'бутылочка|0.5992743', 'коктейль|0.58973473', 'напиток|0.5887028', 'бесплатный|0.5859839', 'алкоголь|0.58517337', 'бутылка|0.5828211', 'гиннес|0.58224756', 'мл|0.5795435', 'наливать|0.57507455', 'графин|0.5690465', 'мохитый|0.568318', 'пить|0.5663272', 'сок|0.563378', 'бланша|0.56252885', 'стакан|0.5550907', 'мартини|0.55218613', 'бокал|0.5510346', 'вод|0.54904526', 'нефильтрованный|0.5406962', 'харп|0.5405706', 'коктейльный|0.5333489', 'текила|0.53238326', 'лицензия|0.5236821', 'лонг|0.5236627', 'спиртное|0.52155316', 'вода|0.51803446', 'шампанский|0.5172516', 'бесплатно|0.5121285', 'налить|0.5086899', 'сидр|0.5036669', 'выпить|0.50278974', 'морс|0.49670818', 'распитие|0.49451286', 'продавать|0.49098033', 'вельвет|0.490282', 'кок|0.48881263', 'руль|0.48699057', 'акция|0.48622096', 'василеостровский|0.48536938', 'рюмка|0.4846575', 'бл|0.48302564', 'эдельвейс|0.48281968', 'покупать|0.47968835', 'гр|0.4784031', 'чек|0.47775373', 'коктель|0.47707838', 'эспрессо|0.47591758', 'гинесса|0.46877646', 'кальян|0.46654806', 'игристый|0.46418256', 'айленд|0.46362442', 'лёд|0.46196473', 'разбавить|0.4612339', 'пивная|0.46096724', 'пивко|0.4596883', '100р|0.4588825', 'литровый|0.45690453', 'скидка|0.45429295', 'сангрия|0.4539541', 'тысяча|0.4534536', 'бармен|0.45327625', 'килкенни|0.45250493', 'купить|0.45192224', 'бар|0.450212', 'хугарден|0.4501558', 'пивоварня|0.4484179', 'стоимость|0.44613633', 'свежевыжать|0.44447473', 'грамм|0.44210947', 'махитый|0.44206274', 'заплатить|0.43917912', 'эль|0.43878227', 'евро|0.43134254', 'америкать|0.43110785', 'дисконтный|0.42981455', 'рубль|0.4289183', 'обойтись|0.42573234', 'стопка|0.42540056', 'набор|0.42488417', 'квас|0.42447633', 'лагер|0.42427707', 'разливать|0.42165315', 'счёт|0.42164016']\n",
            "Aspect 11:\n",
            "['летие|0.7847688', 'февраль|0.75462186', 'декабрь|0.7510445', 'июнь|0.74980164', 'сентябрь|0.7366302', 'август|0.73650414', 'май|0.7292389', 'июль|0.7247094', '2011г|0.7220068', 'март|0.72177464', 'январь|0.7091528', 'октябрь|0.70375705', 'го|0.6966408', 'корпоратить|0.69557536', 'дата|0.6884526', 'ноябрь|0.6860185', 'праздновать|0.6815444', 'юбилей|0.6574769', 'др|0.65201735', 'отмечать_день_рождение|0.65019214', 'отмечать|0.6427346', 'бракосочетание|0.64193827', 'часы|0.6399643', 'наш_свадьба|0.6359315', 'апрель|0.63447326', 'справлять|0.6292574', 'день_рождение|0.62507856', 'корпоративный|0.6243882', 'корпоратив|0.6187734', 'празднование|0.6143869', 'ти|0.6104512', 'состояться|0.6037288', 'новогодний|0.6035013', 'воскресение|0.5997894', 'выпускной|0.5997783', 'отпраздновать|0.5970777', 'новый_год|0.5881297', 'ночь|0.586298', 'мероприятие|0.5772877', 'неделя|0.57358587', 'год|0.57250327', 'свадьба|0.57080346', 'дочь|0.55513114', 'торжество|0.5543523', 'свой_день_рождение|0.5543304', 'годовщина|0.5536685', 'суббота|0.5529506', 'семья|0.54853886', 'нг|0.54845023', 'банкетный_зал|0.5472824', 'утро|0.5409418', 'прошлый|0.5405531', 'вечеринка|0.53898036', 'переговоры|0.5379067', 'выездной|0.5345325', '2014г|0.5337055', 'устроить|0.53200245', 'праздновать_день_рождение|0.53078306', 'событие|0.5291937', 'девичник|0.52885455', 'приехать|0.5286212', '2013г|0.5284933', '2010г|0.5254066', 'месяц|0.5249585', 'свадебный|0.52349204', 'четверг|0.5222889', 'однокурсник|0.5202149', 'счастливый|0.51786363', 'честь|0.5177101', 'банкет|0.5171259', 'чело|0.5138127', 'вторник|0.5090861', 'гулять|0.5090502', 'пр|0.50723493', 'начаться|0.5064222', 'число|0.50611264', 'год_назад|0.5054362', 'минувший|0.5042002', 'накануне|0.5040918', 'век|0.50311255', 'арендовать|0.5011906', 'втроём|0.50051093', 'проведение|0.5004708', 'планироваться|0.5004245', 'галерный|0.49972993', 'родитель|0.49852836', 'бельканто|0.49801922', 'перерыв|0.4950219', 'дочка|0.49369878', 'поздравить|0.49364156', 'регистрация|0.49204856', 'передохнуть|0.49118215', 'сын|0.48971367', 'среда|0.48864013', 'рождение|0.48755226', 'канун|0.48734006', 'вчера|0.48642033', 'концерт|0.48309278', 'утром|0.4820944', 'понедельник|0.4806733']\n",
            "Aspect 12:\n",
            "['стен|0.7481042', 'полка|0.7320751', 'стена|0.70950806', 'потолок|0.7014601', 'мебель|0.693716', 'картина|0.69210875', 'рамка|0.6903582', 'элемент|0.6897294', 'светильник|0.6814804', 'зеркало|0.67957926', 'стекло|0.67593336', 'предмет|0.6751728', 'надпись|0.6729631', 'деталь|0.6710048', 'кирпичный|0.66855854', 'дерево|0.6657907', 'старое|0.6651819', 'прочий|0.6647528', 'журнал|0.6643928', 'фотография|0.6612267', 'панель|0.6612052', 'люстра|0.66109264', 'стеклянный|0.6605412', 'плазменный|0.6593009', 'внутренний|0.65923345', 'старинный|0.6588442', 'золотой|0.6586044', 'лампа|0.65729105', 'плитка|0.65683085', 'висеть|0.6559664', 'серый|0.64969575', 'современный|0.641765', 'видный|0.64091516', 'смотреться|0.64043033', 'картинка|0.6396122', 'пространство|0.63727945', 'декор|0.6363857', 'доска|0.63503224', 'крыша|0.6344727', 'здание|0.63395435', 'черно|0.63311887', 'синий|0.63244367', 'убранство|0.632336', 'кирпич|0.63230497', 'гамма|0.6317409', 'уборный|0.6311942', 'газета|0.63033056', 'потолочь|0.62966454', 'шкаф|0.62571573', 'подоконник|0.6244128', 'буфет|0.6237831', 'подсветка|0.6235305', 'кладка|0.6229005', 'цветовой|0.6222383', 'искусственный|0.622048', 'модерн|0.62125987', 'туалетный|0.6209544', 'дизайнерский|0.62074476', 'деревянный|0.61929846', 'пол|0.6152841', 'свет|0.61399376', 'обои|0.6103665', 'штора|0.61004424', 'плазма|0.60748136', 'клетка|0.6072478', 'ступенька|0.60558635', 'абажур|0.60446787', 'полочка|0.6034999', 'полый|0.6027442', 'угол|0.6021025', 'бумага|0.60033476', 'известный|0.5987663', 'стиль|0.5987414', 'белоснежный|0.59838545', 'коричневый|0.59833723', 'ткань|0.59810126', 'обилие|0.5960305', 'стеллаж|0.59520787', 'тяжёлый|0.5951277', 'колонна|0.5935886', 'дух|0.5934592', 'дизайнер|0.59196925', 'занавеска|0.5917828', 'свод|0.59025', 'аксессуар|0.59014255', 'вдоль|0.58974755', 'птичка|0.5882033', 'кровать|0.5853139', 'цветочек|0.5844163', 'логотип|0.5840096', 'витрина|0.58376867', 'тон|0.58119464', 'советский|0.5787469', 'массивный|0.5783107', 'открываться|0.5772787', 'подвал|0.5768611', 'торчать|0.57564366', 'ширма|0.57483983', 'винный|0.57439137', 'коврик|0.5742822']\n",
            "Aspect 13:\n",
            "['дымно|0.7628207', 'дым|0.74930954', 'душный|0.74305356', 'шумно|0.74268425', 'накурить|0.7322582', 'тесно|0.7296652', 'сидеть|0.724265', 'прохладно|0.7105217', 'диван|0.70234764', 'неуютный|0.6995096', 'диванчик|0.69690883', 'вентиляция|0.6908339', 'курить|0.6851841', 'мешать|0.68210316', 'дышать|0.6726616', 'друг_друг|0.66559434', 'вытяжка|0.66248685', 'кабинка|0.65715504', 'вокруг|0.65632284', 'прокурить|0.65174603', 'слышный|0.6502927', 'народ|0.64093244', 'жарко|0.63578814', 'беседка|0.6344509', 'аквариум|0.63127816', 'комфортно|0.62972736', 'кресло|0.6257964', 'подушечка|0.62397623', 'табачный|0.622831', 'танцполый|0.62174785', 'коромысло|0.6209396', 'дальний|0.6199822', 'парочка|0.6196442', 'зона|0.6150044', 'дуть|0.613283', 'подушка|0.61214453', 'просторно|0.61117613', 'жарковатый|0.60940576', 'сосед|0.60935414', 'удобно|0.60908055', 'кондиционер|0.6054156', 'неудобный|0.6028409', 'курящий|0.602628', 'сигаретный|0.6010429', 'второе_этаж|0.6000061', 'некурящий|0.59779704', 'помещение|0.5959753', 'тесноватый|0.59375036', 'неудобно|0.5934267', 'зала|0.59204125', 'кондей|0.58985907', 'терасс|0.5895883', 'близко|0.58804345', 'стул|0.58772117', 'уединённость|0.5874995', 'плед|0.58713436', 'барный_стойка|0.5869743', 'веранда|0.5867086', 'развалиться|0.5863297', 'прикольный|0.5850322', 'светло|0.58394915', 'орать|0.582126', 'наверху|0.58152837', 'пропахнуть|0.58107454', 'камин|0.5786682', 'высоченный|0.5763736', 'тесновато|0.5754376', 'устроиться|0.57408977', 'темноватый|0.5705459', 'курильщик|0.56912863', 'тв|0.5670443', 'мужской|0.5658577', 'дымить|0.5653784', 'стульчик|0.56532097', 'воздух|0.5651942', 'интимный|0.5636107', 'скамейка|0.5620754', 'тихо|0.5612631', 'детский_комната|0.559652', 'расположиться|0.5596186', 'плетёный|0.55841196', 'комната|0.55659485', 'приглушить|0.55572706', 'внизу|0.55557233', 'разделение|0.55515707', 'экран|0.5526086', 'сидение|0.5516957', 'комнатка|0.54894483', 'спокойно|0.5487667', 'деление|0.5483837', 'полумрак|0.54791844', 'телевизор|0.5464727', 'танцевать|0.5457648', 'темно|0.54557914', 'уединение|0.54418206', 'шум|0.54209405', 'закутка|0.54091287', 'зальчик|0.5408809', 'свет|0.5407771', 'немного|0.53899616']\n",
            "2019-12-24 03:44:28,856 INFO Epoch 13, train: 5s\n",
            "2019-12-24 03:44:28,856 INFO Total loss: 3.5884, max_margin_loss: 3.4794, ortho_reg: 0.1090\n",
            "100% 594/594 [00:05<00:00, 103.31it/s]\n",
            "Aspect 0:\n",
            "['захотеться|0.7289202', 'питер|0.7279469', 'заглянуть|0.7242782', 'перекусить|0.7171376', 'жить|0.7070887', 'поехать|0.70248735', 'случайно|0.6994881', 'сходить|0.6959845', 'зайти|0.69409275', 'недавно|0.6835104', 'заехать|0.6806731', 'любим|0.67835826', 'пообедать|0.67831254', 'поужинать|0.67801', 'недалеко|0.6761701', 'покушать|0.67253494', 'ездить|0.6721271', 'московский|0.6647968', 'давно|0.66264707', 'заезжать|0.6622141', 'однажды|0.66121435', 'заходить|0.6571803', 'ехать|0.65667856', 'частенько|0.6559352', 'петроградка|0.64615875', 'подружка|0.64600706', 'забежать|0.64487666', 'поболтать|0.6407544', 'район|0.63771653', 'это_место|0.636148', 'сюда|0.6306984', 'попить|0.6282323', 'заскочить|0.62495565', 'это_кафе|0.6171739', 'любимый|0.61395764', 'целенаправленно|0.61051804', 'дом|0.6039313', 'проезжать|0.592484', 'заслать|0.59137964', 'открыться|0.5896946', 'вчера|0.5881915', 'добраться|0.5851721', 'москва|0.5851052', 'захаживать|0.5829906', 'сегодня|0.58097404', 'невский|0.5804678', 'специально|0.58008945', 'васильевский|0.5800364', 'ужинать|0.5797677', 'забрести|0.5785665', 'приезжать|0.5784936', 'посетить|0.5781766', 'хороший_место|0.5766287', 'вспомнить|0.5755621', 'местечко|0.5751858', 'ходить_туда|0.5709922', 'прогулка|0.57049024', 'посидеть|0.56560135', 'васька|0.56535757', 'друг|0.5648546', 'вечером|0.56420904', 'приморский|0.5618712', 'знакомый|0.5617502', 'разочароваться|0.55981416', 'летом|0.559254', 'остров|0.55890286', 'приятель|0.5575545', 'позавтракать|0.55722237', 'попасть|0.55621666', 'пивко|0.55599815', 'занести|0.5558678', 'ближний|0.55525756', 'обедать|0.5541287', 'побывать|0.55105734', 'ресторанчик|0.5406562', 'нибыть|0.54047024', 'забегать|0.5391768', 'поход|0.5390987', 'рада|0.5373316', 'заглядывать|0.5372088', 'вновь|0.53713274', 'город|0.5324297', 'отдохнуть|0.5283155', 'выходной|0.5278832', 'отправиться|0.52725685', 'привести|0.5238377', 'довестись|0.52250016', 'впервые|0.5183892', 'поесть|0.51786554', 'хаус|0.515195', 'возвращаться|0.51445794', 'неподалёку|0.51334107', 'жан|0.5126709', 'посещать|0.5105191', 'проголодаться|0.50881886', 'решить|0.5087697', 'лиговка|0.50664616', 'наведаться|0.5063355', 'пр|0.506136', 'прогуливаться|0.50591767']\n",
            "Aspect 1:\n",
            "['заманчивый|0.68603736', 'ознакомиться|0.6440941', 'значиться|0.639825', 'купиться|0.6361294', 'сезонный|0.6237775', 'страничка|0.61472243', 'выбрать|0.6069287', 'строчка|0.59888756', 'предложение|0.5975594', 'изучение|0.5961299', 'стопа|0.5892161', 'чтение|0.58107305', 'действительность|0.5787506', 'точный|0.5786005', 'описание|0.57732576', 'обрадовать|0.57393825', 'обозначить|0.5713878', 'касательно|0.56457555', 'подробный|0.5631541', 'перечень|0.56253445', 'разбегаться|0.55957246', 'остановиться|0.5576601', 'вариант|0.551304', 'интригующий|0.5494877', 'остановить|0.54802173', 'соблазниться|0.5475397', 'продегустировать|0.5439213', 'ссылка|0.5425018', 'изучить|0.5424564', 'страница|0.53739977', 'сайт|0.5361878', 'перечислить|0.53310204', 'просмотреть|0.5327339', 'вышеуказанный|0.53029823', 'название|0.53029597', 'дегустационный|0.5298259', 'красочный|0.52788824', 'недурственный|0.5262229', 'решиться|0.52593225', 'ошибаться|0.52301854', 'аперитив|0.5228522', 'разумеется|0.5200676', 'статья|0.5190076', 'инуть|0.5179554', 'а4|0.5178497', 'прочтение|0.5175606', 'захер|0.5170915', 'наиболее|0.51697534', 'заинтриговать|0.51381993', 'угадать|0.5132581', 'каберне|0.5128997', 'пасть|0.51184547', 'перейти|0.5118128', 'вк|0.5109432', 'полистать|0.50929487', 'омар|0.50791174', 'обширный|0.50361615', 'отметиться|0.50297886', 'содержание|0.50280356', 'шрифт|0.5027689', 'пройтись|0.5017645', 'первоначально|0.5014506', 'приглянуться|0.5011865', 'кавказка|0.5000251', 'расписать|0.49987334', 'раздел|0.49981505', 'банкетик|0.4996894', 'расширить|0.4993831', 'велкома|0.4991869', 'заказной|0.49883676', 'версия|0.49818382', 'спутница|0.4965466', 'смутно|0.49597222', 'озвучить|0.49551186', 'спецпредложение|0.4954491', 'разделиться|0.49478433', 'старт|0.4944508', 'разбежаться|0.49425665', 'именно_это_место|0.493314', '190р|0.4920716', 'фигурировать|0.48975185', '390р|0.48932168', 'сообразить|0.48676378', 'прокомментировать|0.4865516', 'презентация|0.48650604', 'америка|0.48612115', 'св|0.48538452', 'подробно|0.4838307', 'осмотреть|0.48279428', 'аналогично|0.48276302', 'португальский|0.4824596', 'разгуляться|0.481582', 'австралийский|0.47895133', 'персиковый|0.47852027', 'кесадилья|0.478427', 'велик|0.47717434', 'интернет|0.4769879', 'непривычный|0.47671235', 'вьетнамский|0.47523636', 'почитать|0.4750363']\n",
            "Aspect 2:\n",
            "['говядина|0.72997266', 'гриль|0.7124686', 'карпаччо|0.69968253', 'овощ|0.6925012', 'лосось|0.6756222', 'рыба|0.6726264', 'стейк|0.66824347', 'цыплёнок|0.6671183', 'рибай|0.66694456', 'филе|0.665584', 'баклажан|0.66355574', 'курица|0.65836084', 'креветка|0.653124', 'свиной|0.6420119', 'картофель|0.6396545', 'салат_цезарь|0.63959825', 'свинина|0.63670063', 'куриный|0.6298431', 'тунец|0.6283032', 'барашек|0.6276367', 'форель|0.6240741', 'котлета|0.6220212', 'оливья|0.62175137', 'стейка|0.61833906', 'судак|0.6179222', 'кальмар|0.617774', 'ягнёнок|0.6171201', 'сацивить|0.6127478', 'миньон|0.611121', 'овощной|0.60891765', 'морепродукт|0.60722065', 'дорада|0.6066423', 'медальон|0.6065556', 'краб|0.6058803', 'грудка|0.60585904', 'дорад|0.605731', 'цезарь|0.60563886', 'баранина|0.6043813', 'вок|0.6036295', 'гребешок|0.6002263', 'свинин|0.59994054', 'телятина|0.5977123', 'утка|0.5967143', 'жареный|0.5966463', 'крылышко|0.5964829', 'сибас|0.5939232', 'бургера|0.59359145', 'кебаб|0.59341645', 'копчёный|0.5920371', 'ростбиф|0.5882207', 'мраморный|0.58763707', 'запечь|0.5871973', 'мидия|0.5846994', 'шашлык|0.5835699', 'гарнир|0.582976', 'плов|0.5829686', 'греческий|0.5821161', 'тара_тара|0.58158755', 'мангал|0.5814873', 'пекински|0.5814496', 'сёмга|0.57906693', 'солянка|0.5777738', 'печень|0.5770317', 'утиный|0.57532465', 'кисло_сладкое_соус|0.5749885', 'рыбка|0.5743397', 'запечёный|0.5736393', 'прожарка|0.57221127', 'осьминог|0.5720785', 'колбаска|0.57018596', 'мясной|0.5691088', 'рис|0.56823796', 'говяжий|0.56479526', 'кура|0.56396693', 'котлетка|0.56173', 'долма|0.55977756', 'мясо|0.55790937', 'жарить|0.55747175', 'драник|0.5571722', 'авокадо|0.55351686', 'ризотто|0.55312407', 'салатик|0.55095327', 'помидор|0.55088365', 'айдахо|0.5498604', 'бараний|0.5497541', 'каре|0.5481672', 'люля|0.5477871', 'томат|0.5476658', 'жульен|0.54763955', 'рыбный|0.5472366', 'селёдка|0.5461805', 'палтус|0.54568547', 'королевский|0.54525834', 'ребро|0.544008', 'крабовый|0.54398143', 'шашлычок|0.54245174', 'спаржа|0.541221', 'кляр|0.5409283', 'картошка|0.5400442', 'рёбрышко|0.5396912']\n",
            "Aspect 3:\n",
            "['господин|0.7688645', 'простить|0.747803', 'позор|0.73418605', 'критика|0.73068357', 'ресторатор|0.7276851', 'ум|0.7207365', 'понятие|0.7167694', 'существовать|0.7158307', 'личный|0.70342875', 'право|0.6889004', 'негатив|0.68462104', 'владелец|0.6823204', 'скрыть|0.6790085', 'уважаемый|0.67707217', 'гнать|0.67332435', 'автор|0.6715789', 'злой|0.6637118', 'откровенный|0.6632418', 'зарплата|0.66234964', 'высказывание|0.66095513', 'практика|0.66030633', 'борис|0.65868175', 'речь|0.655957', 'довести|0.6552231', 'знак|0.6544323', 'управленец|0.6535882', 'иначе|0.65215707', 'репутация|0.6518648', 'пусть|0.6515053', 'совесть|0.6494358', 'представитель|0.64412403', 'быдло|0.64284074', 'уверенный|0.64183897', 'хамство|0.64024997', 'никак|0.640183', 'жизнь|0.6399967', 'постараться|0.6395255', 'наплевать|0.6362959', 'допускать|0.63540965', 'хозяин|0.6345446', 'задуматься|0.63449585', 'менеджмент|0.63357425', 'иметь|0.63356245', 'ругать|0.6323571', 'бог|0.63209754', 'стороной|0.63194954', 'называть|0.63120234', 'значение|0.6302234', 'тенденция|0.62932545', 'сфера|0.6279078', 'уволить|0.62697715', 'обходить|0.6268121', 'неужели|0.6265694', 'уважать|0.6258109', 'здравый|0.6255672', 'удалять|0.6230378', 'бред|0.6229893', 'сугубо|0.6189598', 'чувак|0.6178355', 'учиться|0.6176797', 'субъективный|0.6172457', 'общепит|0.6163819', 'извинить|0.61497504', 'обман|0.6147927', 'верить|0.6136967', 'вложить|0.613626', 'тренд|0.61350226', 'потребитель|0.61216474', 'непрофессиональный|0.6116921', 'стремиться|0.6113554', 'потерять|0.61100703', 'понимание|0.6109258', 'объективный|0.6092378', 'вечно|0.6087172', 'предприятие|0.608327', 'разойтись|0.6073412', 'опыт|0.6067758', 'оратор|0.60598606', 'мысль|0.6059493', 'плевать|0.60487056', 'твориться|0.60209036', 'licorice|0.60013956', 'история|0.5998423', 'развитие|0.5994849', 'грубый|0.598435', 'бороться|0.5978381', 'обратный|0.5974403', 'человеческий|0.5974179', 'совковый|0.59720933', 'дословно|0.59677273', 'воровать|0.5967598', 'блог|0.5967039', 'ужас|0.595916', 'полагать|0.59575653', 'непрофессионализм|0.59516495', 'прощать|0.59504944', 'мыть|0.594621', 'питание|0.5932761', 'потеря|0.59303725', 'нарушение|0.59297794']\n",
            "Aspect 4:\n",
            "['девочка|0.783378', 'улыбчивый|0.7406488', 'улыбка|0.73938614', 'улыбаться|0.73842716', 'молодая_человек|0.7298312', 'мальчик|0.719896', 'официантка|0.7121978', 'официант|0.69191015', 'девушка|0.6858202', 'любезный|0.67083967', 'обслуживать|0.66751814', 'парень|0.66632044', 'учтивый|0.6630782', 'доброжелательно|0.662326', 'расторопный|0.6613482', 'мила|0.6544517', 'вежливый|0.65197605', 'интересоваться|0.6510352', 'офицант|0.6280823', 'юноша|0.62683034', 'чётко|0.62560135', 'стараться|0.6198851', 'доброжелательный|0.6191166', 'появляться|0.6168189', 'персонал|0.61051214', 'внимательно|0.60842663', 'забывать|0.60681117', 'звать|0.60479707', 'вовремя|0.6037065', 'оперативно|0.597964', 'обходительный|0.5943947', 'услужливый|0.5809875', 'успевать|0.5760726', 'предупредительный|0.5757561', 'пепельница|0.5731151', 'лицо|0.57270896', 'барышня|0.57153857', 'старательный|0.5710858', 'обслуживающий|0.56995356', 'провожать|0.5697572', 'обслуживающий_персонал|0.5668496', 'менять|0.56487215', 'обслужить|0.56228536', 'шустрый|0.55996823', 'бармен|0.5591849', 'задержка|0.55711997', 'незаметно|0.5570149', 'прощаться|0.5554499', 'приветливо|0.55485845', 'навязчивый|0.5535724', 'общительный|0.5530647', 'наш_столик|0.5509857', 'голос|0.55022925', 'весь_время|0.54734886', 'смена|0.5469186', 'общаться|0.5454854', 'дружелюбно|0.54261106', 'выполнять|0.54068017', 'корректно|0.538596', 'администратор|0.5340495', 'молниеносно|0.5319848', 'разговаривать|0.5316075', 'приветливый|0.5296108', 'молодая|0.5276066', 'быстрый|0.5259744', 'здороваться|0.52497244', 'реагировать|0.5240269', 'тактично|0.52392375', 'постоянно|0.5233184', 'профессионально|0.5225605', 'внимательный|0.52084553', 'следить|0.52083707', 'уносить|0.5189006', 'ребята|0.51713324', 'молодец|0.5168245', 'ненавязчивый|0.51614076', 'очень_быстро|0.5146313', 'незаметный|0.51283383', 'заботливый|0.5107656', 'хостёс|0.5103303', 'отвечать|0.50957453', 'медленно|0.5095221', 'назойливый|0.50921416', 'милый|0.50518876', 'молоденький|0.504661', 'компетентный|0.5033702', 'шутить|0.49922717', 'молодая_человек_который|0.49839246', 'хостесса|0.4982285', 'очень_милый|0.49218902', 'принимать|0.49198657', 'своевременно|0.48634288', 'быстро|0.48563695', 'убирать|0.4815967', 'подходить|0.48029563', 'соседний_столик|0.48005098', 'внешность|0.47711137', 'терпеливо|0.47550976', 'дружелюбный|0.47548395', 'неопытный|0.4754398']\n",
            "Aspect 5:\n",
            "['изыск|0.7338123', 'ценник|0.7292567', 'завысить|0.70002073', 'выше|0.6895654', 'учитывать|0.68495923', 'уровень|0.67959476', 'весь_остальной|0.67307246', 'касаться|0.65619606', 'соответствовать|0.6428193', 'недостаток|0.6418173', 'цена_качество|0.6366637', 'сравнение|0.63621795', 'вполне|0.63445425', 'японский|0.6288638', 'прежний|0.6248813', 'посредственный|0.6243018', 'не_мочь_сказать|0.6237556', 'намного|0.6225936', 'цена|0.62140316', 'принцип|0.62028563', 'приемлемый|0.6175819', 'качество|0.6173301', 'среднее|0.6132233', 'соотношение_цена_качество|0.61091995', 'нарекание|0.60898817', 'средненький|0.6067988', 'крайний_мера|0.60604036', 'многий|0.60199845', 'менее|0.60160094', 'бизнес_ланча|0.596103', 'гораздо|0.5939485', 'остальной|0.5925244', 'разнообразие|0.59101534', 'простой|0.5907078', 'достойный|0.5903009', 'ничто_особенный|0.5880921', 'ценовый|0.58780813', 'пожалуй|0.58140814', 'дорого|0.57990086', 'относительно|0.5773281', 'действительно|0.5766437', 'исключение|0.57430613', 'отличие|0.57295406', 'скромный|0.5723927', 'крайне|0.57190454', 'демократичный|0.5708207', 'категория|0.5699538', 'придраться|0.56776696', 'европейский|0.5671383', 'дороговатый|0.5665622', 'целое|0.56364024', 'достаточно|0.56325305', 'ниже|0.5624102', 'отличаться|0.55818266', 'средний|0.55667436', 'сносный|0.5549131', 'умеренный|0.55477124', 'добротный|0.554245', 'высокий|0.552248', 'главный|0.55190635', 'особый|0.54804707', 'качественный|0.54773813', 'адекватный|0.547338', 'фаста|0.54715323', 'дёшево|0.54515994', 'значительно|0.5446243', 'оценка|0.54458827', 'радовать|0.5438287', 'китайский|0.5429169', 'неплохо|0.54221416', 'особо|0.5413861', 'кухня|0.5410333', 'претензия|0.54030895', 'оценивать|0.5376364', 'недорогой|0.5376321', 'неоправданно|0.5346508', 'гуманный|0.531356', 'сетевой|0.5290865', 'удивлять|0.52828956', 'оставлять_желать_хороший|0.52621585', 'еда|0.5245398', 'очень_большой|0.5238935', 'однозначно|0.5221387', 'заоблачный|0.5218096', 'однако|0.52158535', 'плохой|0.5184052', 'средне|0.51633817', 'неплохой|0.5110549', 'весьма|0.51023024', 'имхо|0.50842524', 'очень_хороший|0.5064472', 'стандартный|0.50555694', 'ожидать|0.5039597', 'обычный|0.49889967', 'низкий|0.4975952', 'обычно|0.4964706', 'фуд|0.49362713', 'приличный|0.49262774', 'четвёрка|0.49174416', 'выдающийся|0.49131432']\n",
            "Aspect 6:\n",
            "['коробка|0.58120596', 'лежалый|0.5763639', 'штука|0.5741776', 'упаковка|0.56192434', 'гора|0.55307263', 'килограмм|0.5422819', 'диаметр|0.5416292', 'блюдечко|0.5324297', 'булочка|0.53142315', 'холодильник|0.5313454', 'лента|0.5276346', 'уложить|0.52444696', 'стопочка|0.52441823', 'пластина|0.52299273', 'подсушить|0.5226045', 'хлеб|0.52252775', 'разложить|0.52223647', 'ручной|0.5220823', 'прилипнуть|0.51762354', 'бутерброд|0.51735646', 'размазать|0.5173494', 'тарелочка|0.5164709', 'хк|0.51437235', 'четыре|0.51248854', 'чиабатта|0.5121498', 'горка|0.510812', 'булка|0.5107326', 'остаток|0.5099733', 'нарезка|0.50878334', 'ржаной|0.5086619', 'печь|0.5081236', 'вуаля|0.5080559', 'мм|0.50755155', 'икра|0.50752044', 'половинка|0.5065374', 'веточка|0.50651956', 'слой|0.5058181', 'багет|0.50520194', 'картофелина|0.50334585', 'край|0.5013679', 'ломоть|0.5004604', 'закусывать|0.50042355', 'жалкий|0.5003826', 'долька|0.49941546', 'чёрствый|0.498084', 'залить|0.4977004', 'хлебушек|0.49739897', 'капля|0.49721885', 'миллиметр|0.4971414', 'пополам|0.49640745', 'треугольник|0.49627557', 'тост|0.49556646', 'целиком|0.49484426', 'мисочка|0.49481267', 'оливковый|0.494478', 'куча|0.49378192', 'пиала|0.49323964', 'четвертинка|0.49304643', 'насыпать|0.4925335', 'засохнуть|0.49163866', 'дно|0.4910639', 'собирать|0.49098694', 'заветренный|0.4908746', 'рота|0.49074808', 'хамон|0.4900082', 'выложить|0.4892736', 'порезать|0.48888248', 'включая|0.48887858', 'хлопья|0.48877186', 'плошка|0.48816508', 'гигантский|0.48778865', 'вишенка|0.48775178', 'блюдце|0.48751032', 'крохотный|0.48745495', 'сахара|0.48702922', 'лимон|0.48627868', 'кожура|0.48612678', 'четверть|0.4860441', 'сахарный|0.4847296', 'съедать|0.48451957', 'глиняный|0.48445457', 'помидорка|0.48381978', 'целый|0.48362407', 'толстой|0.4821403', 'миска|0.48156735', 'мёд|0.4807573', 'вместе|0.4798472', 'блин|0.47982013', 'аж|0.479436', 'виноград|0.47892365', 'кружочек|0.47883776', 'соусник|0.47874823', 'утащить|0.47849512', 'холодец|0.47834435', 'лайм|0.4775369', 'полить|0.4772885', 'ломтик|0.47706574', 'масло|0.47671926', 'комплект|0.47666717', 'крошка|0.4765495']\n",
            "Aspect 7:\n",
            "['уточнить|0.70722175', 'предупредить|0.70508134', 'выясниться|0.69474274', 'прийтись|0.691206', 'поинтересоваться|0.6908132', 'сообщить|0.68464047', 'уточнять|0.6772259', 'курс|0.6686393', 'попытка|0.66710496', 'успеть|0.6639265', 'предупреждать|0.6618592', 'унести|0.6600951', 'отказаться|0.659646', 'просить|0.65721595', 'мол|0.65444654', 'вынести|0.6535586', 'сделать_заказ|0.6520802', 'естественно|0.65054035', 'полчаса|0.6504475', 'ответить|0.64843845', 'спросить|0.64592063', 'ладный|0.6447953', 'забрать|0.63933337', 'обратно|0.6384062', 'подумать|0.63831085', 'пропасть|0.63634324', 'подождать|0.6340419', 'объяснить|0.63320553', 'попросить|0.6321014', 'записать|0.6316798', 'сначала|0.63139224', 'дождаться|0.6307752', 'отказать|0.6286292', 'убрать|0.62781864', 'выяснить|0.62583673', 'извиниться|0.62420344', 'исчезнуть|0.6233607', 'приход|0.6230139', 'последовать|0.62272173', 'отказываться|0.6174048', 'пришлый|0.6152525', 'ответ|0.61394125', 'спрашивать|0.6107436', 'пообещать|0.61040264', 'перепутать|0.60775685', '15_минута|0.6074372', 'забыть|0.6068636', 'попытаться|0.6057974', 'поменять|0.6033271', 'заставить|0.6023363', 'затем|0.599294', 'предложить|0.5985787', 'позвать|0.5945085', 'готовый|0.5928574', 'пытаться|0.5889952', '10_минута|0.5879306', 'поймать|0.587073', 'освободиться|0.58511335', 'убежать|0.58301103', 'вопрос|0.5826089', 'подойти|0.5785285', 'её|0.5754254', 'сообщать|0.5753427', 'принять|0.57160544', 'указать|0.5713308', 'нея|0.5698688', 'принять_заказ|0.5664511', 'телефон|0.56637764', 'приняться|0.5663733', 'вернуть|0.5656189', '20_минута|0.5606692', 'разобраться|0.56045866', 'извиняться|0.5592998', 'выяснять|0.55907667', 'встать|0.558111', 'оказываться|0.5566385', 'почему|0.556551', 'забирать|0.5552636', 'положить|0.5547751', 'самостоятельно|0.5545521', 'обратиться|0.55389667', 'не_смочь|0.55376154', 'предлагать|0.5529778', 'никто_не|0.5493213', 'закончиться|0.5460963', 'молча|0.54377466', 'прождать|0.5423144', 'просьба|0.54199696', 'пересадить|0.54046845', 'обещать|0.5403625', 'виноватый|0.53780603', 'удивиться|0.5369981', 'поздний|0.53610677', 'пожалуйста|0.5360555', 'заменить|0.53431964', 'стоялый|0.53418654', 'согласиться|0.53409135', 'неприятно|0.53392947', 'позвонить|0.5333293', 'расчёт|0.53314817']\n",
            "Aspect 8:\n",
            "['шоколад|0.7302582', 'клубника|0.70377', 'кекс|0.7020454', 'варение|0.6998266', 'малиновый|0.6934989', 'яблочный|0.6929921', 'сорбета|0.6900073', 'крем|0.6874603', 'шоколадный|0.6854517', 'сливка|0.67833066', 'мусса|0.6768907', 'клубничный|0.6702877', 'мятный|0.6687377', 'печение|0.6667167', 'ванильный|0.66195786', 'пирог|0.66067946', 'вафельный|0.66065043', 'миндальный|0.66015375', 'эклер|0.6585114', 'карамельный|0.654377', 'морковный|0.65033275', 'имбирный|0.64977276', 'сладость|0.6493312', 'молоко|0.64544296', 'малин|0.6439853', 'сладкий|0.6433338', 'манговый|0.6421975', 'корица|0.640303', 'ароматный|0.63955283', 'апельсиновый|0.63613415', 'вишня|0.63282526', 'мятый|0.6294663', 'чизкейк|0.62945354', 'карамель|0.62942994', 'панакот|0.62810326', 'капуччиный|0.627424', 'сладко|0.6258524', 'черничный|0.6241962', 'меренга|0.6238862', 'ягода|0.6232191', 'чабрец|0.6232027', 'грушевый|0.62298363', 'мороженный|0.6228832', 'бисквит|0.6222097', 'печенюшка|0.62172663', 'брауни|0.61926687', 'лимонный|0.61889887', 'пенка|0.61748123', 'суфле|0.6174641', 'творожный|0.6168812', 'наполеон|0.61641335', 'желе|0.61536217', 'ваниль|0.61186063', 'мороженое|0.61058676', 'горячий|0.60834676', 'взбить|0.6082043', 'брюла|0.6081705', 'вафля|0.60747', 'шарик|0.60723674', 'запивать|0.60606796', 'марципановый|0.60493577', 'чиз|0.60482717', 'сорбетом|0.60454035', 'послевкусие|0.6039195', 'песочный|0.60066545', 'сгущёнка|0.59800065', 'кейк|0.5978396', 'пирожное|0.59750366', 'каппучиный|0.5971951', 'чаемый|0.5968525', 'брусничный|0.59539783', 'манго|0.5948672', 'медовик|0.5934933', 'джема|0.59226483', 'профитроль|0.59218204', 'груша|0.5920214', 'воздушный|0.5919268', 'грецкий|0.5911517', 'фисташковый|0.59059525', 'трубочка|0.5905162', 'яблоко|0.58978057', 'малина|0.5896386', 'запилить|0.58959275', 'сироп|0.5889281', 'сахарный|0.5882948', 'кокосовый|0.5867919', 'штрудель|0.5861608', 'базиликовый|0.5857495', 'клюква|0.58558124', 'густой|0.5851331', 'какао|0.58474636', 'заварной|0.5832813', 'мёд|0.58262086', 'фреш|0.58154243', 'приторный|0.58127654', 'трюфель|0.579529', 'тархун|0.57908297', 'маскарпон|0.5789795', 'печенек|0.57877195', 'лесной|0.5774301']\n",
            "Aspect 9:\n",
            "['отдельный_спасибо|0.8084971', 'огромный_спасибо|0.75768507', 'большой_спасибо|0.74407375', 'весь_гость|0.7358798', 'праздник|0.7333457', 'благодарность|0.7132937', 'праздничный|0.69678605', 'тамада|0.6925443', 'организация|0.6818484', 'незабываемый|0.6743749', 'шоу|0.6724496', 'команда|0.6618063', 'кондитер|0.660146', 'весь_наш|0.66000295', 'ведущий|0.65544224', 'коллектив|0.6550783', 'спасибо|0.6530694', 'прекрасно|0.6511425', 'профессионал|0.65102005', 'организовать|0.64962286', 'чуткий|0.6456133', 'весь_гость_остаться_довольный|0.63766783', 'профессионализм|0.6364371', 'респект|0.6357342', 'великолепно|0.6337554', 'марин|0.6314635', 'великолепный|0.6290561', 'поблагодарить|0.6281449', 'шеф_повар|0.6264907', 'майкл|0.62393177', 'благодаря|0.61708826', 'подарок|0.61660326', 'фейерверк|0.6158408', 'самый_главный|0.6158369', 'свадебный|0.61583495', 'ольга|0.61551183', 'исполнить|0.61303085', 'невеста|0.60709494', 'поклон|0.6048588', 'подготовка|0.6046875', 'торт|0.60423756', 'высокий_уровень|0.6039785', 'выражать|0.6034695', 'торжество|0.6017533', 'создать|0.6010052', 'выразить|0.6007977', 'елена|0.60062736', 'сергей|0.6003464', 'каравай|0.599616', 'андрей|0.5965905', 'благодарный|0.59532017', 'евгений|0.589144', 'совет|0.58845234', 'алексей|0.5882929', 'очень_довольный|0.5876449', 'благодарить|0.5864885', 'также|0.58647674', 'подарить|0.5857493', 'фуршет|0.58542657', 'уважение|0.5840054', 'владимир|0.58373785', 'марина|0.5833315', 'забота|0.5810617', 'грамотный|0.57986546', 'наш_гость_остаться_очень_довольный|0.5791765', 'молодожён|0.5787677', 'дмитрия|0.57717496', 'отдельный|0.57666886', 'шикарный|0.572803', 'виктор|0.5722481', 'программа|0.5717523', 'чудесный|0.5715756', 'потрясать|0.5708448', 'поздравление|0.5699286', 'весь_наш_пожелание|0.56877047', 'ирина|0.568321', 'остаться_довольный|0.56730235', 'пожелание|0.5658747', 'помочь|0.5655451', 'гостеприимство|0.56532997', 'прекрасный|0.56507355', 'конкурс|0.56482714', 'подбор|0.5637189', 'потрясающе|0.55976534', 'порекомендовать|0.5597527', 'гость|0.5585011', 'проведение|0.55828404', 'очень_приятно|0.5575862', 'станислав|0.55744827', 'наталья|0.55672234', 'внимательность|0.55620414', 'александр|0.5561968', 'процветание|0.5561805', 'анастасия|0.55204177', 'выше_весь_похвала|0.551021', 'бравый|0.5475285', 'мастер|0.54748744', 'вячеслав|0.54631615', 'настоящий|0.54340696', 'татьяна|0.5428375']\n",
            "Aspect 10:\n",
            "['висок|0.78292924', 'литр|0.74116075', 'водка|0.7376828', 'пинта|0.6975357', 'пиво|0.6930245', 'разливный|0.66798025', 'бутылочный|0.6641868', 'кола|0.66302395', 'кружка|0.65398777', 'ньюкасл|0.6459501', 'безалкогольный|0.6373404', 'сорт|0.63139105', 'коньяк|0.6298161', 'крепкий|0.6268593', 'крушовица|0.6199702', 'алкогольный|0.6054629', 'карта|0.6036979', 'бутылочка|0.60032666', 'напиток|0.58902943', 'алкоголь|0.58733857', 'коктейль|0.58727443', 'бутылка|0.58600515', 'бесплатный|0.58479357', 'гиннес|0.5812408', 'мл|0.5780107', 'наливать|0.5750586', 'графин|0.5701038', 'пить|0.56817377', 'мохитый|0.5651421', 'сок|0.5637346', 'бланша|0.5620885', 'стакан|0.5565781', 'бокал|0.55300665', 'мартини|0.551801', 'вод|0.54841596', 'нефильтрованный|0.5408219', 'харп|0.5400362', 'текила|0.5318471', 'коктейльный|0.53045434', 'лицензия|0.5251338', 'спиртное|0.5219792', 'лонг|0.52157784', 'вода|0.52038246', 'шампанский|0.51857287', 'бесплатно|0.5120567', 'налить|0.51061714', 'выпить|0.5049251', 'сидр|0.503178', 'морс|0.49580437', 'распитие|0.4949284', 'продавать|0.49086744', 'вельвет|0.49039426', 'руль|0.48922417', 'кок|0.48880085', 'рюмка|0.48582327', 'василеостровский|0.4851416', 'акция|0.48240265', 'эдельвейс|0.4819972', 'бл|0.4813855', 'покупать|0.4808273', 'чек|0.4777043', 'гр|0.4765657', 'эспрессо|0.4752777', 'коктель|0.4733904', 'гинесса|0.46762145', 'кальян|0.46450794', 'игристый|0.46364933', 'лёд|0.462999', 'разбавить|0.46227205', 'айленд|0.4613391', 'пивная|0.46123904', 'пивко|0.45977038', '100р|0.45756096', 'литровый|0.45672804', 'купить|0.45399156', 'сангрия|0.45344573', 'тысяча|0.45341474', 'бармен|0.45176327', 'килкенни|0.45176238', 'скидка|0.45129797', 'пивоварня|0.44905218', 'хугарден|0.44895667', 'бар|0.44810706', 'стоимость|0.44499567', 'свежевыжать|0.44288123', 'грамм|0.44096696', 'махитый|0.44070476', 'заплатить|0.4403204', 'эль|0.43783778', 'америкать|0.42962837', 'евро|0.42933992', 'дисконтный|0.42870572', 'рубль|0.42696917', 'стопка|0.42617664', 'обойтись|0.42544305', 'лагер|0.42383835', 'счёт|0.4228794', 'квас|0.42274156', 'разливать|0.42232677', 'набор|0.42143944']\n",
            "Aspect 11:\n",
            "['летие|0.7813989', 'февраль|0.75230944', 'декабрь|0.7496166', 'июнь|0.7463899', 'сентябрь|0.73459595', 'август|0.73404807', 'май|0.7267423', 'июль|0.7213362', 'март|0.7199338', '2011г|0.7178319', 'январь|0.70615655', 'октябрь|0.7003286', 'корпоратить|0.6964408', 'го|0.69532007', 'дата|0.69150734', 'ноябрь|0.68373096', 'праздновать|0.6817943', 'юбилей|0.6579494', 'др|0.6523659', 'отмечать_день_рождение|0.64608645', 'бракосочетание|0.6431753', 'отмечать|0.64074147', 'часы|0.6357141', 'наш_свадьба|0.6352385', 'апрель|0.62936836', 'справлять|0.62749875', 'корпоративный|0.6268457', 'день_рождение|0.6257329', 'корпоратив|0.62326777', 'празднование|0.6163924', 'новогодний|0.60680115', 'ти|0.604259', 'состояться|0.6016774', 'выпускной|0.6005721', 'воскресение|0.59844273', 'отпраздновать|0.59792095', 'новый_год|0.5913479', 'ночь|0.5879564', 'мероприятие|0.5850054', 'свадьба|0.5732993', 'неделя|0.56716216', 'год|0.5642349', 'торжество|0.557847', 'свой_день_рождение|0.5536494', 'банкетный_зал|0.5531447', 'суббота|0.55284053', 'дочь|0.55225146', 'годовщина|0.55159914', 'нг|0.55136347', 'семья|0.5491066', 'вечеринка|0.5444015', 'переговоры|0.5424121', 'утро|0.5406686', 'устроить|0.53617144', 'выездной|0.53566504', 'событие|0.5348812', 'прошлый|0.5313786', '2014г|0.53056175', 'праздновать_день_рождение|0.52807593', 'девичник|0.52755296', 'приехать|0.5275115', 'свадебный|0.52371454', '2010г|0.5235907', '2013г|0.52285904', 'счастливый|0.52139294', 'четверг|0.5203873', 'банкет|0.51998645', 'однокурсник|0.5196913', 'месяц|0.5196561', 'честь|0.5176262', 'чело|0.513366', 'гулять|0.51046294', 'вторник|0.5065376', 'число|0.5064234', 'проведение|0.50497097', 'начаться|0.5049434', 'арендовать|0.50430065', 'пр|0.5041237', 'век|0.50309694', 'год_назад|0.5015491', 'накануне|0.50145614', 'родитель|0.50117815', 'минувший|0.5002724', 'планироваться|0.50022435', 'бельканто|0.49863315', 'галерный|0.4960368', 'втроём|0.49568722', 'перерыв|0.49540257', 'поздравить|0.49407783', 'регистрация|0.49369362', 'передохнуть|0.49069238', 'среда|0.48971877', 'концерт|0.4893045', 'дочка|0.48732916', 'канун|0.4851047', 'рождение|0.48482645', 'сын|0.4845125', 'вчера|0.48411205', 'понедельник|0.48120844', 'утром|0.47986603']\n",
            "Aspect 12:\n",
            "['стен|0.75080884', 'полка|0.7328503', 'стена|0.71142757', 'потолок|0.7037343', 'мебель|0.6969899', 'рамка|0.6945258', 'картина|0.6939509', 'элемент|0.69349545', 'светильник|0.68520147', 'зеркало|0.6823516', 'предмет|0.6777428', 'стекло|0.6776424', 'надпись|0.67376727', 'деталь|0.6727513', 'кирпичный|0.6719649', 'дерево|0.6681789', 'журнал|0.66814923', 'прочий|0.66646916', 'старое|0.66540515', 'люстра|0.6648809', 'панель|0.66452277', 'фотография|0.6628736', 'плазменный|0.6624427', 'старинный|0.66220576', 'стеклянный|0.661566', 'внутренний|0.6614047', 'золотой|0.6600838', 'плитка|0.6597393', 'лампа|0.6586486', 'висеть|0.65673375', 'серый|0.6516781', 'современный|0.6440251', 'смотреться|0.6433468', 'картинка|0.6429963', 'видный|0.6425723', 'пространство|0.64091885', 'декор|0.6400152', 'доска|0.63829184', 'крыша|0.6373137', 'убранство|0.6364273', 'здание|0.63637567', 'кирпич|0.6360687', 'черно|0.63586056', 'гамма|0.63507617', 'синий|0.63480204', 'уборный|0.6345723', 'газета|0.63355815', 'потолочь|0.63261926', 'подсветка|0.62825996', 'буфет|0.62775445', 'шкаф|0.6273438', 'кладка|0.62681043', 'подоконник|0.62643504', 'цветовой|0.62608206', 'дизайнерский|0.62578416', 'искусственный|0.62552047', 'модерн|0.6254504', 'туалетный|0.6231189', 'деревянный|0.6218144', 'пол|0.6163901', 'свет|0.6156242', 'обои|0.61477053', 'штора|0.61348736', 'клетка|0.61092305', 'плазма|0.6106602', 'абажур|0.6088078', 'полочка|0.6071846', 'ступенька|0.6057972', 'полый|0.604401', 'бумага|0.60275424', 'угол|0.6025951', 'ткань|0.6018274', 'белоснежный|0.6012129', 'стиль|0.6010921', 'известный|0.6004123', 'коричневый|0.599847', 'обилие|0.59971774', 'стеллаж|0.5981027', 'тяжёлый|0.5977559', 'колонна|0.5976418', 'аксессуар|0.5967916', 'дух|0.59653294', 'дизайнер|0.5952827', 'свод|0.5949526', 'занавеска|0.59406847', 'вдоль|0.5924449', 'птичка|0.5908698', 'цветочек|0.58875394', 'логотип|0.5878609', 'кровать|0.5856749', 'витрина|0.5855809', 'массивный|0.58175516', 'тон|0.5816338', 'советский|0.580577', 'состарить|0.5792959', 'торчать|0.57896554', 'подвал|0.5787327', 'ширма|0.57818276', 'открываться|0.5778424', 'освещение|0.57769996']\n",
            "Aspect 13:\n",
            "['дымно|0.75709456', 'дым|0.7453218', 'душный|0.74015737', 'шумно|0.7355884', 'накурить|0.7274804', 'тесно|0.7245038', 'сидеть|0.7216834', 'прохладно|0.70676374', 'диван|0.69854367', 'неуютный|0.6963541', 'диванчик|0.69322956', 'вентиляция|0.6844382', 'курить|0.67968', 'мешать|0.67482364', 'дышать|0.66917574', 'друг_друг|0.6605488', 'вытяжка|0.65651727', 'вокруг|0.6545846', 'кабинка|0.65164304', 'прокурить|0.6484006', 'слышный|0.64473766', 'народ|0.6344373', 'жарко|0.6341059', 'аквариум|0.63104093', 'беседка|0.63029635', 'кресло|0.62345254', 'комфортно|0.62345225', 'подушечка|0.6234402', 'табачный|0.6200889', 'дальний|0.61892486', 'коромысло|0.6164293', 'парочка|0.61592543', 'танцполый|0.61568135', 'подушка|0.61548376', 'дуть|0.60974634', 'зона|0.60884887', 'жарковатый|0.60859185', 'просторно|0.6081039', 'удобно|0.60450196', 'сосед|0.60197777', 'неудобный|0.6019012', 'кондиционер|0.60124063', 'курящий|0.5990906', 'второе_этаж|0.5977762', 'сигаретный|0.5959767', 'некурящий|0.59471965', 'неудобно|0.59081966', 'помещение|0.59016013', 'тесноватый|0.5896915', 'терасс|0.58683324', 'развалиться|0.58673584', 'зала|0.58630264', 'кондей|0.58532166', 'прикольный|0.58517265', 'барный_стойка|0.58493334', 'веранда|0.58415735', 'стул|0.5831219', 'близко|0.58277196', 'светло|0.5826273', 'плед|0.581986', 'уединённость|0.5810954', 'камин|0.5788777', 'орать|0.57829964', 'наверху|0.5778744', 'пропахнуть|0.5765837', 'высоченный|0.57510394', 'устроиться|0.5722155', 'тесновато|0.57001734', 'темноватый|0.569788', 'мужской|0.5678435', 'курильщик|0.5650112', 'стульчик|0.5633', 'воздух|0.56258583', 'тв|0.5624535', 'скамейка|0.561833', 'интимный|0.5601389', 'дымить|0.5599786', 'плетёный|0.5587292', 'расположиться|0.55798316', 'детский_комната|0.55547285', 'приглушить|0.55511725', 'внизу|0.5534981', 'тихо|0.5526569', 'разделение|0.5508032', 'комната|0.55063206', 'сидение|0.548646', 'экран|0.54751843', 'полумрак|0.5457086', 'темно|0.5454102', 'деление|0.5426942', 'комнатка|0.54161227', 'телевизор|0.5404023', 'спокойно|0.5398224', 'немного|0.53915477', 'танцевать|0.53815615', 'свет|0.5374367', 'уединение|0.5370506', 'занавеска|0.5357853', 'закутка|0.53553903', 'зальчик|0.5353475']\n",
            "2019-12-24 03:44:34,837 INFO Epoch 14, train: 5s\n",
            "2019-12-24 03:44:34,837 INFO Total loss: 3.5806, max_margin_loss: 3.4715, ortho_reg: 0.1091\n"
          ],
          "name": "stdout"
        }
      ]
    },
    {
      "cell_type": "code",
      "metadata": {
        "id": "zt4UrcA0bvmu",
        "colab_type": "code",
        "colab": {}
      },
      "source": [
        "with open(os.path.join('output_dir', 'restaurant', 'aspect.log'), 'rb') as f:\n",
        "    aspects = f.readlines()"
      ],
      "execution_count": 0,
      "outputs": []
    },
    {
      "cell_type": "code",
      "metadata": {
        "id": "_IkjVeo7cXjc",
        "colab_type": "code",
        "colab": {}
      },
      "source": [
        "aspects = [line.decode('utf-8') for line in aspects[1::3]]"
      ],
      "execution_count": 0,
      "outputs": []
    },
    {
      "cell_type": "code",
      "metadata": {
        "id": "oaWUsUqygT61",
        "colab_type": "code",
        "outputId": "4e28c0eb-9510-4ef3-f41e-0fe856a39c23",
        "colab": {
          "base_uri": "https://localhost:8080/",
          "height": 272
        }
      },
      "source": [
        "aspects"
      ],
      "execution_count": 0,
      "outputs": [
        {
          "output_type": "execute_result",
          "data": {
            "text/plain": [
              "['захотеться|0.7289202 питер|0.7279469 заглянуть|0.7242782 перекусить|0.7171376 жить|0.7070887 поехать|0.70248735 случайно|0.6994881 сходить|0.6959845 зайти|0.69409275 недавно|0.6835104 заехать|0.6806731 любим|0.67835826 пообедать|0.67831254 поужинать|0.67801 недалеко|0.6761701 покушать|0.67253494 ездить|0.6721271 московский|0.6647968 давно|0.66264707 заезжать|0.6622141 однажды|0.66121435 заходить|0.6571803 ехать|0.65667856 частенько|0.6559352 петроградка|0.64615875 подружка|0.64600706 забежать|0.64487666 поболтать|0.6407544 район|0.63771653 это_место|0.636148 сюда|0.6306984 попить|0.6282323 заскочить|0.62495565 это_кафе|0.6171739 любимый|0.61395764 целенаправленно|0.61051804 дом|0.6039313 проезжать|0.592484 заслать|0.59137964 открыться|0.5896946 вчера|0.5881915 добраться|0.5851721 москва|0.5851052 захаживать|0.5829906 сегодня|0.58097404 невский|0.5804678 специально|0.58008945 васильевский|0.5800364 ужинать|0.5797677 забрести|0.5785665 приезжать|0.5784936 посетить|0.5781766 хороший_место|0.5766287 вспомнить|0.5755621 местечко|0.5751858 ходить_туда|0.5709922 прогулка|0.57049024 посидеть|0.56560135 васька|0.56535757 друг|0.5648546 вечером|0.56420904 приморский|0.5618712 знакомый|0.5617502 разочароваться|0.55981416 летом|0.559254 остров|0.55890286 приятель|0.5575545 позавтракать|0.55722237 попасть|0.55621666 пивко|0.55599815 занести|0.5558678 ближний|0.55525756 обедать|0.5541287 побывать|0.55105734 ресторанчик|0.5406562 нибыть|0.54047024 забегать|0.5391768 поход|0.5390987 рада|0.5373316 заглядывать|0.5372088 вновь|0.53713274 город|0.5324297 отдохнуть|0.5283155 выходной|0.5278832 отправиться|0.52725685 привести|0.5238377 довестись|0.52250016 впервые|0.5183892 поесть|0.51786554 хаус|0.515195 возвращаться|0.51445794 неподалёку|0.51334107 жан|0.5126709 посещать|0.5105191 проголодаться|0.50881886 решить|0.5087697 лиговка|0.50664616 наведаться|0.5063355 пр|0.506136 прогуливаться|0.50591767\\n',\n",
              " 'заманчивый|0.68603736 ознакомиться|0.6440941 значиться|0.639825 купиться|0.6361294 сезонный|0.6237775 страничка|0.61472243 выбрать|0.6069287 строчка|0.59888756 предложение|0.5975594 изучение|0.5961299 стопа|0.5892161 чтение|0.58107305 действительность|0.5787506 точный|0.5786005 описание|0.57732576 обрадовать|0.57393825 обозначить|0.5713878 касательно|0.56457555 подробный|0.5631541 перечень|0.56253445 разбегаться|0.55957246 остановиться|0.5576601 вариант|0.551304 интригующий|0.5494877 остановить|0.54802173 соблазниться|0.5475397 продегустировать|0.5439213 ссылка|0.5425018 изучить|0.5424564 страница|0.53739977 сайт|0.5361878 перечислить|0.53310204 просмотреть|0.5327339 вышеуказанный|0.53029823 название|0.53029597 дегустационный|0.5298259 красочный|0.52788824 недурственный|0.5262229 решиться|0.52593225 ошибаться|0.52301854 аперитив|0.5228522 разумеется|0.5200676 статья|0.5190076 инуть|0.5179554 а4|0.5178497 прочтение|0.5175606 захер|0.5170915 наиболее|0.51697534 заинтриговать|0.51381993 угадать|0.5132581 каберне|0.5128997 пасть|0.51184547 перейти|0.5118128 вк|0.5109432 полистать|0.50929487 омар|0.50791174 обширный|0.50361615 отметиться|0.50297886 содержание|0.50280356 шрифт|0.5027689 пройтись|0.5017645 первоначально|0.5014506 приглянуться|0.5011865 кавказка|0.5000251 расписать|0.49987334 раздел|0.49981505 банкетик|0.4996894 расширить|0.4993831 велкома|0.4991869 заказной|0.49883676 версия|0.49818382 спутница|0.4965466 смутно|0.49597222 озвучить|0.49551186 спецпредложение|0.4954491 разделиться|0.49478433 старт|0.4944508 разбежаться|0.49425665 именно_это_место|0.493314 190р|0.4920716 фигурировать|0.48975185 390р|0.48932168 сообразить|0.48676378 прокомментировать|0.4865516 презентация|0.48650604 америка|0.48612115 св|0.48538452 подробно|0.4838307 осмотреть|0.48279428 аналогично|0.48276302 португальский|0.4824596 разгуляться|0.481582 австралийский|0.47895133 персиковый|0.47852027 кесадилья|0.478427 велик|0.47717434 интернет|0.4769879 непривычный|0.47671235 вьетнамский|0.47523636 почитать|0.4750363\\n',\n",
              " 'говядина|0.72997266 гриль|0.7124686 карпаччо|0.69968253 овощ|0.6925012 лосось|0.6756222 рыба|0.6726264 стейк|0.66824347 цыплёнок|0.6671183 рибай|0.66694456 филе|0.665584 баклажан|0.66355574 курица|0.65836084 креветка|0.653124 свиной|0.6420119 картофель|0.6396545 салат_цезарь|0.63959825 свинина|0.63670063 куриный|0.6298431 тунец|0.6283032 барашек|0.6276367 форель|0.6240741 котлета|0.6220212 оливья|0.62175137 стейка|0.61833906 судак|0.6179222 кальмар|0.617774 ягнёнок|0.6171201 сацивить|0.6127478 миньон|0.611121 овощной|0.60891765 морепродукт|0.60722065 дорада|0.6066423 медальон|0.6065556 краб|0.6058803 грудка|0.60585904 дорад|0.605731 цезарь|0.60563886 баранина|0.6043813 вок|0.6036295 гребешок|0.6002263 свинин|0.59994054 телятина|0.5977123 утка|0.5967143 жареный|0.5966463 крылышко|0.5964829 сибас|0.5939232 бургера|0.59359145 кебаб|0.59341645 копчёный|0.5920371 ростбиф|0.5882207 мраморный|0.58763707 запечь|0.5871973 мидия|0.5846994 шашлык|0.5835699 гарнир|0.582976 плов|0.5829686 греческий|0.5821161 тара_тара|0.58158755 мангал|0.5814873 пекински|0.5814496 сёмга|0.57906693 солянка|0.5777738 печень|0.5770317 утиный|0.57532465 кисло_сладкое_соус|0.5749885 рыбка|0.5743397 запечёный|0.5736393 прожарка|0.57221127 осьминог|0.5720785 колбаска|0.57018596 мясной|0.5691088 рис|0.56823796 говяжий|0.56479526 кура|0.56396693 котлетка|0.56173 долма|0.55977756 мясо|0.55790937 жарить|0.55747175 драник|0.5571722 авокадо|0.55351686 ризотто|0.55312407 салатик|0.55095327 помидор|0.55088365 айдахо|0.5498604 бараний|0.5497541 каре|0.5481672 люля|0.5477871 томат|0.5476658 жульен|0.54763955 рыбный|0.5472366 селёдка|0.5461805 палтус|0.54568547 королевский|0.54525834 ребро|0.544008 крабовый|0.54398143 шашлычок|0.54245174 спаржа|0.541221 кляр|0.5409283 картошка|0.5400442 рёбрышко|0.5396912\\n',\n",
              " 'господин|0.7688645 простить|0.747803 позор|0.73418605 критика|0.73068357 ресторатор|0.7276851 ум|0.7207365 понятие|0.7167694 существовать|0.7158307 личный|0.70342875 право|0.6889004 негатив|0.68462104 владелец|0.6823204 скрыть|0.6790085 уважаемый|0.67707217 гнать|0.67332435 автор|0.6715789 злой|0.6637118 откровенный|0.6632418 зарплата|0.66234964 высказывание|0.66095513 практика|0.66030633 борис|0.65868175 речь|0.655957 довести|0.6552231 знак|0.6544323 управленец|0.6535882 иначе|0.65215707 репутация|0.6518648 пусть|0.6515053 совесть|0.6494358 представитель|0.64412403 быдло|0.64284074 уверенный|0.64183897 хамство|0.64024997 никак|0.640183 жизнь|0.6399967 постараться|0.6395255 наплевать|0.6362959 допускать|0.63540965 хозяин|0.6345446 задуматься|0.63449585 менеджмент|0.63357425 иметь|0.63356245 ругать|0.6323571 бог|0.63209754 стороной|0.63194954 называть|0.63120234 значение|0.6302234 тенденция|0.62932545 сфера|0.6279078 уволить|0.62697715 обходить|0.6268121 неужели|0.6265694 уважать|0.6258109 здравый|0.6255672 удалять|0.6230378 бред|0.6229893 сугубо|0.6189598 чувак|0.6178355 учиться|0.6176797 субъективный|0.6172457 общепит|0.6163819 извинить|0.61497504 обман|0.6147927 верить|0.6136967 вложить|0.613626 тренд|0.61350226 потребитель|0.61216474 непрофессиональный|0.6116921 стремиться|0.6113554 потерять|0.61100703 понимание|0.6109258 объективный|0.6092378 вечно|0.6087172 предприятие|0.608327 разойтись|0.6073412 опыт|0.6067758 оратор|0.60598606 мысль|0.6059493 плевать|0.60487056 твориться|0.60209036 licorice|0.60013956 история|0.5998423 развитие|0.5994849 грубый|0.598435 бороться|0.5978381 обратный|0.5974403 человеческий|0.5974179 совковый|0.59720933 дословно|0.59677273 воровать|0.5967598 блог|0.5967039 ужас|0.595916 полагать|0.59575653 непрофессионализм|0.59516495 прощать|0.59504944 мыть|0.594621 питание|0.5932761 потеря|0.59303725 нарушение|0.59297794\\n',\n",
              " 'девочка|0.783378 улыбчивый|0.7406488 улыбка|0.73938614 улыбаться|0.73842716 молодая_человек|0.7298312 мальчик|0.719896 официантка|0.7121978 официант|0.69191015 девушка|0.6858202 любезный|0.67083967 обслуживать|0.66751814 парень|0.66632044 учтивый|0.6630782 доброжелательно|0.662326 расторопный|0.6613482 мила|0.6544517 вежливый|0.65197605 интересоваться|0.6510352 офицант|0.6280823 юноша|0.62683034 чётко|0.62560135 стараться|0.6198851 доброжелательный|0.6191166 появляться|0.6168189 персонал|0.61051214 внимательно|0.60842663 забывать|0.60681117 звать|0.60479707 вовремя|0.6037065 оперативно|0.597964 обходительный|0.5943947 услужливый|0.5809875 успевать|0.5760726 предупредительный|0.5757561 пепельница|0.5731151 лицо|0.57270896 барышня|0.57153857 старательный|0.5710858 обслуживающий|0.56995356 провожать|0.5697572 обслуживающий_персонал|0.5668496 менять|0.56487215 обслужить|0.56228536 шустрый|0.55996823 бармен|0.5591849 задержка|0.55711997 незаметно|0.5570149 прощаться|0.5554499 приветливо|0.55485845 навязчивый|0.5535724 общительный|0.5530647 наш_столик|0.5509857 голос|0.55022925 весь_время|0.54734886 смена|0.5469186 общаться|0.5454854 дружелюбно|0.54261106 выполнять|0.54068017 корректно|0.538596 администратор|0.5340495 молниеносно|0.5319848 разговаривать|0.5316075 приветливый|0.5296108 молодая|0.5276066 быстрый|0.5259744 здороваться|0.52497244 реагировать|0.5240269 тактично|0.52392375 постоянно|0.5233184 профессионально|0.5225605 внимательный|0.52084553 следить|0.52083707 уносить|0.5189006 ребята|0.51713324 молодец|0.5168245 ненавязчивый|0.51614076 очень_быстро|0.5146313 незаметный|0.51283383 заботливый|0.5107656 хостёс|0.5103303 отвечать|0.50957453 медленно|0.5095221 назойливый|0.50921416 милый|0.50518876 молоденький|0.504661 компетентный|0.5033702 шутить|0.49922717 молодая_человек_который|0.49839246 хостесса|0.4982285 очень_милый|0.49218902 принимать|0.49198657 своевременно|0.48634288 быстро|0.48563695 убирать|0.4815967 подходить|0.48029563 соседний_столик|0.48005098 внешность|0.47711137 терпеливо|0.47550976 дружелюбный|0.47548395 неопытный|0.4754398\\n',\n",
              " 'изыск|0.7338123 ценник|0.7292567 завысить|0.70002073 выше|0.6895654 учитывать|0.68495923 уровень|0.67959476 весь_остальной|0.67307246 касаться|0.65619606 соответствовать|0.6428193 недостаток|0.6418173 цена_качество|0.6366637 сравнение|0.63621795 вполне|0.63445425 японский|0.6288638 прежний|0.6248813 посредственный|0.6243018 не_мочь_сказать|0.6237556 намного|0.6225936 цена|0.62140316 принцип|0.62028563 приемлемый|0.6175819 качество|0.6173301 среднее|0.6132233 соотношение_цена_качество|0.61091995 нарекание|0.60898817 средненький|0.6067988 крайний_мера|0.60604036 многий|0.60199845 менее|0.60160094 бизнес_ланча|0.596103 гораздо|0.5939485 остальной|0.5925244 разнообразие|0.59101534 простой|0.5907078 достойный|0.5903009 ничто_особенный|0.5880921 ценовый|0.58780813 пожалуй|0.58140814 дорого|0.57990086 относительно|0.5773281 действительно|0.5766437 исключение|0.57430613 отличие|0.57295406 скромный|0.5723927 крайне|0.57190454 демократичный|0.5708207 категория|0.5699538 придраться|0.56776696 европейский|0.5671383 дороговатый|0.5665622 целое|0.56364024 достаточно|0.56325305 ниже|0.5624102 отличаться|0.55818266 средний|0.55667436 сносный|0.5549131 умеренный|0.55477124 добротный|0.554245 высокий|0.552248 главный|0.55190635 особый|0.54804707 качественный|0.54773813 адекватный|0.547338 фаста|0.54715323 дёшево|0.54515994 значительно|0.5446243 оценка|0.54458827 радовать|0.5438287 китайский|0.5429169 неплохо|0.54221416 особо|0.5413861 кухня|0.5410333 претензия|0.54030895 оценивать|0.5376364 недорогой|0.5376321 неоправданно|0.5346508 гуманный|0.531356 сетевой|0.5290865 удивлять|0.52828956 оставлять_желать_хороший|0.52621585 еда|0.5245398 очень_большой|0.5238935 однозначно|0.5221387 заоблачный|0.5218096 однако|0.52158535 плохой|0.5184052 средне|0.51633817 неплохой|0.5110549 весьма|0.51023024 имхо|0.50842524 очень_хороший|0.5064472 стандартный|0.50555694 ожидать|0.5039597 обычный|0.49889967 низкий|0.4975952 обычно|0.4964706 фуд|0.49362713 приличный|0.49262774 четвёрка|0.49174416 выдающийся|0.49131432\\n',\n",
              " 'коробка|0.58120596 лежалый|0.5763639 штука|0.5741776 упаковка|0.56192434 гора|0.55307263 килограмм|0.5422819 диаметр|0.5416292 блюдечко|0.5324297 булочка|0.53142315 холодильник|0.5313454 лента|0.5276346 уложить|0.52444696 стопочка|0.52441823 пластина|0.52299273 подсушить|0.5226045 хлеб|0.52252775 разложить|0.52223647 ручной|0.5220823 прилипнуть|0.51762354 бутерброд|0.51735646 размазать|0.5173494 тарелочка|0.5164709 хк|0.51437235 четыре|0.51248854 чиабатта|0.5121498 горка|0.510812 булка|0.5107326 остаток|0.5099733 нарезка|0.50878334 ржаной|0.5086619 печь|0.5081236 вуаля|0.5080559 мм|0.50755155 икра|0.50752044 половинка|0.5065374 веточка|0.50651956 слой|0.5058181 багет|0.50520194 картофелина|0.50334585 край|0.5013679 ломоть|0.5004604 закусывать|0.50042355 жалкий|0.5003826 долька|0.49941546 чёрствый|0.498084 залить|0.4977004 хлебушек|0.49739897 капля|0.49721885 миллиметр|0.4971414 пополам|0.49640745 треугольник|0.49627557 тост|0.49556646 целиком|0.49484426 мисочка|0.49481267 оливковый|0.494478 куча|0.49378192 пиала|0.49323964 четвертинка|0.49304643 насыпать|0.4925335 засохнуть|0.49163866 дно|0.4910639 собирать|0.49098694 заветренный|0.4908746 рота|0.49074808 хамон|0.4900082 выложить|0.4892736 порезать|0.48888248 включая|0.48887858 хлопья|0.48877186 плошка|0.48816508 гигантский|0.48778865 вишенка|0.48775178 блюдце|0.48751032 крохотный|0.48745495 сахара|0.48702922 лимон|0.48627868 кожура|0.48612678 четверть|0.4860441 сахарный|0.4847296 съедать|0.48451957 глиняный|0.48445457 помидорка|0.48381978 целый|0.48362407 толстой|0.4821403 миска|0.48156735 мёд|0.4807573 вместе|0.4798472 блин|0.47982013 аж|0.479436 виноград|0.47892365 кружочек|0.47883776 соусник|0.47874823 утащить|0.47849512 холодец|0.47834435 лайм|0.4775369 полить|0.4772885 ломтик|0.47706574 масло|0.47671926 комплект|0.47666717 крошка|0.4765495\\n',\n",
              " 'уточнить|0.70722175 предупредить|0.70508134 выясниться|0.69474274 прийтись|0.691206 поинтересоваться|0.6908132 сообщить|0.68464047 уточнять|0.6772259 курс|0.6686393 попытка|0.66710496 успеть|0.6639265 предупреждать|0.6618592 унести|0.6600951 отказаться|0.659646 просить|0.65721595 мол|0.65444654 вынести|0.6535586 сделать_заказ|0.6520802 естественно|0.65054035 полчаса|0.6504475 ответить|0.64843845 спросить|0.64592063 ладный|0.6447953 забрать|0.63933337 обратно|0.6384062 подумать|0.63831085 пропасть|0.63634324 подождать|0.6340419 объяснить|0.63320553 попросить|0.6321014 записать|0.6316798 сначала|0.63139224 дождаться|0.6307752 отказать|0.6286292 убрать|0.62781864 выяснить|0.62583673 извиниться|0.62420344 исчезнуть|0.6233607 приход|0.6230139 последовать|0.62272173 отказываться|0.6174048 пришлый|0.6152525 ответ|0.61394125 спрашивать|0.6107436 пообещать|0.61040264 перепутать|0.60775685 15_минута|0.6074372 забыть|0.6068636 попытаться|0.6057974 поменять|0.6033271 заставить|0.6023363 затем|0.599294 предложить|0.5985787 позвать|0.5945085 готовый|0.5928574 пытаться|0.5889952 10_минута|0.5879306 поймать|0.587073 освободиться|0.58511335 убежать|0.58301103 вопрос|0.5826089 подойти|0.5785285 её|0.5754254 сообщать|0.5753427 принять|0.57160544 указать|0.5713308 нея|0.5698688 принять_заказ|0.5664511 телефон|0.56637764 приняться|0.5663733 вернуть|0.5656189 20_минута|0.5606692 разобраться|0.56045866 извиняться|0.5592998 выяснять|0.55907667 встать|0.558111 оказываться|0.5566385 почему|0.556551 забирать|0.5552636 положить|0.5547751 самостоятельно|0.5545521 обратиться|0.55389667 не_смочь|0.55376154 предлагать|0.5529778 никто_не|0.5493213 закончиться|0.5460963 молча|0.54377466 прождать|0.5423144 просьба|0.54199696 пересадить|0.54046845 обещать|0.5403625 виноватый|0.53780603 удивиться|0.5369981 поздний|0.53610677 пожалуйста|0.5360555 заменить|0.53431964 стоялый|0.53418654 согласиться|0.53409135 неприятно|0.53392947 позвонить|0.5333293 расчёт|0.53314817\\n',\n",
              " 'шоколад|0.7302582 клубника|0.70377 кекс|0.7020454 варение|0.6998266 малиновый|0.6934989 яблочный|0.6929921 сорбета|0.6900073 крем|0.6874603 шоколадный|0.6854517 сливка|0.67833066 мусса|0.6768907 клубничный|0.6702877 мятный|0.6687377 печение|0.6667167 ванильный|0.66195786 пирог|0.66067946 вафельный|0.66065043 миндальный|0.66015375 эклер|0.6585114 карамельный|0.654377 морковный|0.65033275 имбирный|0.64977276 сладость|0.6493312 молоко|0.64544296 малин|0.6439853 сладкий|0.6433338 манговый|0.6421975 корица|0.640303 ароматный|0.63955283 апельсиновый|0.63613415 вишня|0.63282526 мятый|0.6294663 чизкейк|0.62945354 карамель|0.62942994 панакот|0.62810326 капуччиный|0.627424 сладко|0.6258524 черничный|0.6241962 меренга|0.6238862 ягода|0.6232191 чабрец|0.6232027 грушевый|0.62298363 мороженный|0.6228832 бисквит|0.6222097 печенюшка|0.62172663 брауни|0.61926687 лимонный|0.61889887 пенка|0.61748123 суфле|0.6174641 творожный|0.6168812 наполеон|0.61641335 желе|0.61536217 ваниль|0.61186063 мороженое|0.61058676 горячий|0.60834676 взбить|0.6082043 брюла|0.6081705 вафля|0.60747 шарик|0.60723674 запивать|0.60606796 марципановый|0.60493577 чиз|0.60482717 сорбетом|0.60454035 послевкусие|0.6039195 песочный|0.60066545 сгущёнка|0.59800065 кейк|0.5978396 пирожное|0.59750366 каппучиный|0.5971951 чаемый|0.5968525 брусничный|0.59539783 манго|0.5948672 медовик|0.5934933 джема|0.59226483 профитроль|0.59218204 груша|0.5920214 воздушный|0.5919268 грецкий|0.5911517 фисташковый|0.59059525 трубочка|0.5905162 яблоко|0.58978057 малина|0.5896386 запилить|0.58959275 сироп|0.5889281 сахарный|0.5882948 кокосовый|0.5867919 штрудель|0.5861608 базиликовый|0.5857495 клюква|0.58558124 густой|0.5851331 какао|0.58474636 заварной|0.5832813 мёд|0.58262086 фреш|0.58154243 приторный|0.58127654 трюфель|0.579529 тархун|0.57908297 маскарпон|0.5789795 печенек|0.57877195 лесной|0.5774301\\n',\n",
              " 'отдельный_спасибо|0.8084971 огромный_спасибо|0.75768507 большой_спасибо|0.74407375 весь_гость|0.7358798 праздник|0.7333457 благодарность|0.7132937 праздничный|0.69678605 тамада|0.6925443 организация|0.6818484 незабываемый|0.6743749 шоу|0.6724496 команда|0.6618063 кондитер|0.660146 весь_наш|0.66000295 ведущий|0.65544224 коллектив|0.6550783 спасибо|0.6530694 прекрасно|0.6511425 профессионал|0.65102005 организовать|0.64962286 чуткий|0.6456133 весь_гость_остаться_довольный|0.63766783 профессионализм|0.6364371 респект|0.6357342 великолепно|0.6337554 марин|0.6314635 великолепный|0.6290561 поблагодарить|0.6281449 шеф_повар|0.6264907 майкл|0.62393177 благодаря|0.61708826 подарок|0.61660326 фейерверк|0.6158408 самый_главный|0.6158369 свадебный|0.61583495 ольга|0.61551183 исполнить|0.61303085 невеста|0.60709494 поклон|0.6048588 подготовка|0.6046875 торт|0.60423756 высокий_уровень|0.6039785 выражать|0.6034695 торжество|0.6017533 создать|0.6010052 выразить|0.6007977 елена|0.60062736 сергей|0.6003464 каравай|0.599616 андрей|0.5965905 благодарный|0.59532017 евгений|0.589144 совет|0.58845234 алексей|0.5882929 очень_довольный|0.5876449 благодарить|0.5864885 также|0.58647674 подарить|0.5857493 фуршет|0.58542657 уважение|0.5840054 владимир|0.58373785 марина|0.5833315 забота|0.5810617 грамотный|0.57986546 наш_гость_остаться_очень_довольный|0.5791765 молодожён|0.5787677 дмитрия|0.57717496 отдельный|0.57666886 шикарный|0.572803 виктор|0.5722481 программа|0.5717523 чудесный|0.5715756 потрясать|0.5708448 поздравление|0.5699286 весь_наш_пожелание|0.56877047 ирина|0.568321 остаться_довольный|0.56730235 пожелание|0.5658747 помочь|0.5655451 гостеприимство|0.56532997 прекрасный|0.56507355 конкурс|0.56482714 подбор|0.5637189 потрясающе|0.55976534 порекомендовать|0.5597527 гость|0.5585011 проведение|0.55828404 очень_приятно|0.5575862 станислав|0.55744827 наталья|0.55672234 внимательность|0.55620414 александр|0.5561968 процветание|0.5561805 анастасия|0.55204177 выше_весь_похвала|0.551021 бравый|0.5475285 мастер|0.54748744 вячеслав|0.54631615 настоящий|0.54340696 татьяна|0.5428375\\n',\n",
              " 'висок|0.78292924 литр|0.74116075 водка|0.7376828 пинта|0.6975357 пиво|0.6930245 разливный|0.66798025 бутылочный|0.6641868 кола|0.66302395 кружка|0.65398777 ньюкасл|0.6459501 безалкогольный|0.6373404 сорт|0.63139105 коньяк|0.6298161 крепкий|0.6268593 крушовица|0.6199702 алкогольный|0.6054629 карта|0.6036979 бутылочка|0.60032666 напиток|0.58902943 алкоголь|0.58733857 коктейль|0.58727443 бутылка|0.58600515 бесплатный|0.58479357 гиннес|0.5812408 мл|0.5780107 наливать|0.5750586 графин|0.5701038 пить|0.56817377 мохитый|0.5651421 сок|0.5637346 бланша|0.5620885 стакан|0.5565781 бокал|0.55300665 мартини|0.551801 вод|0.54841596 нефильтрованный|0.5408219 харп|0.5400362 текила|0.5318471 коктейльный|0.53045434 лицензия|0.5251338 спиртное|0.5219792 лонг|0.52157784 вода|0.52038246 шампанский|0.51857287 бесплатно|0.5120567 налить|0.51061714 выпить|0.5049251 сидр|0.503178 морс|0.49580437 распитие|0.4949284 продавать|0.49086744 вельвет|0.49039426 руль|0.48922417 кок|0.48880085 рюмка|0.48582327 василеостровский|0.4851416 акция|0.48240265 эдельвейс|0.4819972 бл|0.4813855 покупать|0.4808273 чек|0.4777043 гр|0.4765657 эспрессо|0.4752777 коктель|0.4733904 гинесса|0.46762145 кальян|0.46450794 игристый|0.46364933 лёд|0.462999 разбавить|0.46227205 айленд|0.4613391 пивная|0.46123904 пивко|0.45977038 100р|0.45756096 литровый|0.45672804 купить|0.45399156 сангрия|0.45344573 тысяча|0.45341474 бармен|0.45176327 килкенни|0.45176238 скидка|0.45129797 пивоварня|0.44905218 хугарден|0.44895667 бар|0.44810706 стоимость|0.44499567 свежевыжать|0.44288123 грамм|0.44096696 махитый|0.44070476 заплатить|0.4403204 эль|0.43783778 америкать|0.42962837 евро|0.42933992 дисконтный|0.42870572 рубль|0.42696917 стопка|0.42617664 обойтись|0.42544305 лагер|0.42383835 счёт|0.4228794 квас|0.42274156 разливать|0.42232677 набор|0.42143944\\n',\n",
              " 'летие|0.7813989 февраль|0.75230944 декабрь|0.7496166 июнь|0.7463899 сентябрь|0.73459595 август|0.73404807 май|0.7267423 июль|0.7213362 март|0.7199338 2011г|0.7178319 январь|0.70615655 октябрь|0.7003286 корпоратить|0.6964408 го|0.69532007 дата|0.69150734 ноябрь|0.68373096 праздновать|0.6817943 юбилей|0.6579494 др|0.6523659 отмечать_день_рождение|0.64608645 бракосочетание|0.6431753 отмечать|0.64074147 часы|0.6357141 наш_свадьба|0.6352385 апрель|0.62936836 справлять|0.62749875 корпоративный|0.6268457 день_рождение|0.6257329 корпоратив|0.62326777 празднование|0.6163924 новогодний|0.60680115 ти|0.604259 состояться|0.6016774 выпускной|0.6005721 воскресение|0.59844273 отпраздновать|0.59792095 новый_год|0.5913479 ночь|0.5879564 мероприятие|0.5850054 свадьба|0.5732993 неделя|0.56716216 год|0.5642349 торжество|0.557847 свой_день_рождение|0.5536494 банкетный_зал|0.5531447 суббота|0.55284053 дочь|0.55225146 годовщина|0.55159914 нг|0.55136347 семья|0.5491066 вечеринка|0.5444015 переговоры|0.5424121 утро|0.5406686 устроить|0.53617144 выездной|0.53566504 событие|0.5348812 прошлый|0.5313786 2014г|0.53056175 праздновать_день_рождение|0.52807593 девичник|0.52755296 приехать|0.5275115 свадебный|0.52371454 2010г|0.5235907 2013г|0.52285904 счастливый|0.52139294 четверг|0.5203873 банкет|0.51998645 однокурсник|0.5196913 месяц|0.5196561 честь|0.5176262 чело|0.513366 гулять|0.51046294 вторник|0.5065376 число|0.5064234 проведение|0.50497097 начаться|0.5049434 арендовать|0.50430065 пр|0.5041237 век|0.50309694 год_назад|0.5015491 накануне|0.50145614 родитель|0.50117815 минувший|0.5002724 планироваться|0.50022435 бельканто|0.49863315 галерный|0.4960368 втроём|0.49568722 перерыв|0.49540257 поздравить|0.49407783 регистрация|0.49369362 передохнуть|0.49069238 среда|0.48971877 концерт|0.4893045 дочка|0.48732916 канун|0.4851047 рождение|0.48482645 сын|0.4845125 вчера|0.48411205 понедельник|0.48120844 утром|0.47986603\\n',\n",
              " 'стен|0.75080884 полка|0.7328503 стена|0.71142757 потолок|0.7037343 мебель|0.6969899 рамка|0.6945258 картина|0.6939509 элемент|0.69349545 светильник|0.68520147 зеркало|0.6823516 предмет|0.6777428 стекло|0.6776424 надпись|0.67376727 деталь|0.6727513 кирпичный|0.6719649 дерево|0.6681789 журнал|0.66814923 прочий|0.66646916 старое|0.66540515 люстра|0.6648809 панель|0.66452277 фотография|0.6628736 плазменный|0.6624427 старинный|0.66220576 стеклянный|0.661566 внутренний|0.6614047 золотой|0.6600838 плитка|0.6597393 лампа|0.6586486 висеть|0.65673375 серый|0.6516781 современный|0.6440251 смотреться|0.6433468 картинка|0.6429963 видный|0.6425723 пространство|0.64091885 декор|0.6400152 доска|0.63829184 крыша|0.6373137 убранство|0.6364273 здание|0.63637567 кирпич|0.6360687 черно|0.63586056 гамма|0.63507617 синий|0.63480204 уборный|0.6345723 газета|0.63355815 потолочь|0.63261926 подсветка|0.62825996 буфет|0.62775445 шкаф|0.6273438 кладка|0.62681043 подоконник|0.62643504 цветовой|0.62608206 дизайнерский|0.62578416 искусственный|0.62552047 модерн|0.6254504 туалетный|0.6231189 деревянный|0.6218144 пол|0.6163901 свет|0.6156242 обои|0.61477053 штора|0.61348736 клетка|0.61092305 плазма|0.6106602 абажур|0.6088078 полочка|0.6071846 ступенька|0.6057972 полый|0.604401 бумага|0.60275424 угол|0.6025951 ткань|0.6018274 белоснежный|0.6012129 стиль|0.6010921 известный|0.6004123 коричневый|0.599847 обилие|0.59971774 стеллаж|0.5981027 тяжёлый|0.5977559 колонна|0.5976418 аксессуар|0.5967916 дух|0.59653294 дизайнер|0.5952827 свод|0.5949526 занавеска|0.59406847 вдоль|0.5924449 птичка|0.5908698 цветочек|0.58875394 логотип|0.5878609 кровать|0.5856749 витрина|0.5855809 массивный|0.58175516 тон|0.5816338 советский|0.580577 состарить|0.5792959 торчать|0.57896554 подвал|0.5787327 ширма|0.57818276 открываться|0.5778424 освещение|0.57769996\\n',\n",
              " 'дымно|0.75709456 дым|0.7453218 душный|0.74015737 шумно|0.7355884 накурить|0.7274804 тесно|0.7245038 сидеть|0.7216834 прохладно|0.70676374 диван|0.69854367 неуютный|0.6963541 диванчик|0.69322956 вентиляция|0.6844382 курить|0.67968 мешать|0.67482364 дышать|0.66917574 друг_друг|0.6605488 вытяжка|0.65651727 вокруг|0.6545846 кабинка|0.65164304 прокурить|0.6484006 слышный|0.64473766 народ|0.6344373 жарко|0.6341059 аквариум|0.63104093 беседка|0.63029635 кресло|0.62345254 комфортно|0.62345225 подушечка|0.6234402 табачный|0.6200889 дальний|0.61892486 коромысло|0.6164293 парочка|0.61592543 танцполый|0.61568135 подушка|0.61548376 дуть|0.60974634 зона|0.60884887 жарковатый|0.60859185 просторно|0.6081039 удобно|0.60450196 сосед|0.60197777 неудобный|0.6019012 кондиционер|0.60124063 курящий|0.5990906 второе_этаж|0.5977762 сигаретный|0.5959767 некурящий|0.59471965 неудобно|0.59081966 помещение|0.59016013 тесноватый|0.5896915 терасс|0.58683324 развалиться|0.58673584 зала|0.58630264 кондей|0.58532166 прикольный|0.58517265 барный_стойка|0.58493334 веранда|0.58415735 стул|0.5831219 близко|0.58277196 светло|0.5826273 плед|0.581986 уединённость|0.5810954 камин|0.5788777 орать|0.57829964 наверху|0.5778744 пропахнуть|0.5765837 высоченный|0.57510394 устроиться|0.5722155 тесновато|0.57001734 темноватый|0.569788 мужской|0.5678435 курильщик|0.5650112 стульчик|0.5633 воздух|0.56258583 тв|0.5624535 скамейка|0.561833 интимный|0.5601389 дымить|0.5599786 плетёный|0.5587292 расположиться|0.55798316 детский_комната|0.55547285 приглушить|0.55511725 внизу|0.5534981 тихо|0.5526569 разделение|0.5508032 комната|0.55063206 сидение|0.548646 экран|0.54751843 полумрак|0.5457086 темно|0.5454102 деление|0.5426942 комнатка|0.54161227 телевизор|0.5404023 спокойно|0.5398224 немного|0.53915477 танцевать|0.53815615 свет|0.5374367 уединение|0.5370506 занавеска|0.5357853 закутка|0.53553903 зальчик|0.5353475\\n']"
            ]
          },
          "metadata": {
            "tags": []
          },
          "execution_count": 139
        }
      ]
    },
    {
      "cell_type": "code",
      "metadata": {
        "id": "_E2P_G4KbeaF",
        "colab_type": "code",
        "colab": {}
      },
      "source": [
        "# раскомментировать в evaluation.py >= 146 строчки\n",
        "# и на 61 строчке поменять топики\n",
        "# добавить на 59 строчку следующее: true_label = ['Food'] * len(predict_label)\n",
        "cluster_map = {\n",
        "    0: 'Other',\n",
        "    1: 'Other',\n",
        "    2: 'Food',\n",
        "    3: 'Other',\n",
        "    4: 'Service',\n",
        "    5: 'Other',\n",
        "    6: 'Other',\n",
        "    7: 'Other',\n",
        "    8: 'Food',\n",
        "    9: 'Other',\n",
        "    10: 'Food',\n",
        "    11: 'Other',\n",
        "    12: 'Other',\n",
        "    13: 'Other'\n",
        "}"
      ],
      "execution_count": 0,
      "outputs": []
    },
    {
      "cell_type": "code",
      "metadata": {
        "id": "sHM3Z_XHHKsF",
        "colab_type": "code",
        "outputId": "49907a73-6754-419e-9d05-41890c268463",
        "colab": {
          "base_uri": "https://localhost:8080/",
          "height": 1000
        }
      },
      "source": [
        "!python evaluation.py --domain restaurant -o output_dir"
      ],
      "execution_count": 0,
      "outputs": [
        {
          "output_type": "stream",
          "text": [
            "Using TensorFlow backend.\n",
            "Reading data from restaurant\n",
            " Creating vocab ...\n",
            "   1291051 total words, 49774 unique words\n",
            "  keep the top 9000 words\n",
            " Reading dataset ...\n",
            "  train set\n",
            "../preprocessed_data/restaurant/train.txt\n",
            "   <num> hit rate: 1.33%, <unk> hit rate: 7.90%\n",
            "  test set\n",
            "../preprocessed_data/restaurant/test.txt\n",
            "   <num> hit rate: 2.74%, <unk> hit rate: 11.59%\n",
            "WARNING:tensorflow:From /usr/local/lib/python3.6/dist-packages/keras/backend/tensorflow_backend.py:517: The name tf.placeholder is deprecated. Please use tf.compat.v1.placeholder instead.\n",
            "\n",
            "WARNING:tensorflow:From /usr/local/lib/python3.6/dist-packages/keras/backend/tensorflow_backend.py:4138: The name tf.random_uniform is deprecated. Please use tf.random.uniform instead.\n",
            "\n",
            "WARNING:tensorflow:From /usr/local/lib/python3.6/dist-packages/keras/backend/tensorflow_backend.py:174: The name tf.get_default_session is deprecated. Please use tf.compat.v1.get_default_session instead.\n",
            "\n",
            "WARNING:tensorflow:From /usr/local/lib/python3.6/dist-packages/keras/backend/tensorflow_backend.py:181: The name tf.ConfigProto is deprecated. Please use tf.compat.v1.ConfigProto instead.\n",
            "\n",
            "WARNING:tensorflow:From /usr/local/lib/python3.6/dist-packages/keras/backend/tensorflow_backend.py:186: The name tf.Session is deprecated. Please use tf.compat.v1.Session instead.\n",
            "\n",
            "2019-12-24 03:58:59.251858: I tensorflow/core/platform/profile_utils/cpu_utils.cc:94] CPU Frequency: 2300000000 Hz\n",
            "2019-12-24 03:58:59.252290: I tensorflow/compiler/xla/service/service.cc:168] XLA service 0x937a680 initialized for platform Host (this does not guarantee that XLA will be used). Devices:\n",
            "2019-12-24 03:58:59.252328: I tensorflow/compiler/xla/service/service.cc:176]   StreamExecutor device (0): Host, Default Version\n",
            "2019-12-24 03:58:59.254377: I tensorflow/stream_executor/platform/default/dso_loader.cc:44] Successfully opened dynamic library libcuda.so.1\n",
            "2019-12-24 03:58:59.350893: I tensorflow/stream_executor/cuda/cuda_gpu_executor.cc:983] successful NUMA node read from SysFS had negative value (-1), but there must be at least one NUMA node, so returning NUMA node zero\n",
            "2019-12-24 03:58:59.351783: I tensorflow/compiler/xla/service/service.cc:168] XLA service 0x937b640 initialized for platform CUDA (this does not guarantee that XLA will be used). Devices:\n",
            "2019-12-24 03:58:59.351826: I tensorflow/compiler/xla/service/service.cc:176]   StreamExecutor device (0): Tesla P100-PCIE-16GB, Compute Capability 6.0\n",
            "2019-12-24 03:58:59.352038: I tensorflow/stream_executor/cuda/cuda_gpu_executor.cc:983] successful NUMA node read from SysFS had negative value (-1), but there must be at least one NUMA node, so returning NUMA node zero\n",
            "2019-12-24 03:58:59.352752: I tensorflow/core/common_runtime/gpu/gpu_device.cc:1618] Found device 0 with properties: \n",
            "name: Tesla P100-PCIE-16GB major: 6 minor: 0 memoryClockRate(GHz): 1.3285\n",
            "pciBusID: 0000:00:04.0\n",
            "2019-12-24 03:58:59.353079: I tensorflow/stream_executor/platform/default/dso_loader.cc:44] Successfully opened dynamic library libcudart.so.10.1\n",
            "2019-12-24 03:58:59.354737: I tensorflow/stream_executor/platform/default/dso_loader.cc:44] Successfully opened dynamic library libcublas.so.10\n",
            "2019-12-24 03:58:59.356442: I tensorflow/stream_executor/platform/default/dso_loader.cc:44] Successfully opened dynamic library libcufft.so.10\n",
            "2019-12-24 03:58:59.356801: I tensorflow/stream_executor/platform/default/dso_loader.cc:44] Successfully opened dynamic library libcurand.so.10\n",
            "2019-12-24 03:58:59.358559: I tensorflow/stream_executor/platform/default/dso_loader.cc:44] Successfully opened dynamic library libcusolver.so.10\n",
            "2019-12-24 03:58:59.359388: I tensorflow/stream_executor/platform/default/dso_loader.cc:44] Successfully opened dynamic library libcusparse.so.10\n",
            "2019-12-24 03:58:59.362798: I tensorflow/stream_executor/platform/default/dso_loader.cc:44] Successfully opened dynamic library libcudnn.so.7\n",
            "2019-12-24 03:58:59.362957: I tensorflow/stream_executor/cuda/cuda_gpu_executor.cc:983] successful NUMA node read from SysFS had negative value (-1), but there must be at least one NUMA node, so returning NUMA node zero\n",
            "2019-12-24 03:58:59.363726: I tensorflow/stream_executor/cuda/cuda_gpu_executor.cc:983] successful NUMA node read from SysFS had negative value (-1), but there must be at least one NUMA node, so returning NUMA node zero\n",
            "2019-12-24 03:58:59.364384: I tensorflow/core/common_runtime/gpu/gpu_device.cc:1746] Adding visible gpu devices: 0\n",
            "2019-12-24 03:58:59.364450: I tensorflow/stream_executor/platform/default/dso_loader.cc:44] Successfully opened dynamic library libcudart.so.10.1\n",
            "2019-12-24 03:58:59.365733: I tensorflow/core/common_runtime/gpu/gpu_device.cc:1159] Device interconnect StreamExecutor with strength 1 edge matrix:\n",
            "2019-12-24 03:58:59.365761: I tensorflow/core/common_runtime/gpu/gpu_device.cc:1165]      0 \n",
            "2019-12-24 03:58:59.365772: I tensorflow/core/common_runtime/gpu/gpu_device.cc:1178] 0:   N \n",
            "2019-12-24 03:58:59.365918: I tensorflow/stream_executor/cuda/cuda_gpu_executor.cc:983] successful NUMA node read from SysFS had negative value (-1), but there must be at least one NUMA node, so returning NUMA node zero\n",
            "2019-12-24 03:58:59.366674: I tensorflow/stream_executor/cuda/cuda_gpu_executor.cc:983] successful NUMA node read from SysFS had negative value (-1), but there must be at least one NUMA node, so returning NUMA node zero\n",
            "2019-12-24 03:58:59.367349: W tensorflow/core/common_runtime/gpu/gpu_bfc_allocator.cc:39] Overriding allow_growth setting because the TF_FORCE_GPU_ALLOW_GROWTH environment variable is set. Original config value was 0.\n",
            "2019-12-24 03:58:59.367408: I tensorflow/core/common_runtime/gpu/gpu_device.cc:1304] Created TensorFlow device (/job:localhost/replica:0/task:0/device:GPU:0 with 10808 MB memory) -> physical GPU (device: 0, name: Tesla P100-PCIE-16GB, pci bus id: 0000:00:04.0, compute capability: 6.0)\n",
            "WARNING:tensorflow:From /usr/local/lib/python3.6/dist-packages/keras/backend/tensorflow_backend.py:190: The name tf.global_variables is deprecated. Please use tf.compat.v1.global_variables instead.\n",
            "\n",
            "WARNING:tensorflow:From /usr/local/lib/python3.6/dist-packages/keras/backend/tensorflow_backend.py:199: The name tf.is_variable_initialized is deprecated. Please use tf.compat.v1.is_variable_initialized instead.\n",
            "\n",
            "WARNING:tensorflow:From /usr/local/lib/python3.6/dist-packages/keras/backend/tensorflow_backend.py:206: The name tf.variables_initializer is deprecated. Please use tf.compat.v1.variables_initializer instead.\n",
            "\n",
            "WARNING:tensorflow:From /usr/local/lib/python3.6/dist-packages/keras/optimizers.py:790: The name tf.train.Optimizer is deprecated. Please use tf.compat.v1.train.Optimizer instead.\n",
            "\n",
            "WARNING:tensorflow:From /usr/local/lib/python3.6/dist-packages/tensorflow_core/python/ops/math_grad.py:1424: where (from tensorflow.python.ops.array_ops) is deprecated and will be removed in a future version.\n",
            "Instructions for updating:\n",
            "Use tf.where in 2.0, which has the same broadcast rule as np.where\n",
            "WARNING:tensorflow:From /usr/local/lib/python3.6/dist-packages/keras/backend/tensorflow_backend.py:986: The name tf.assign_add is deprecated. Please use tf.compat.v1.assign_add instead.\n",
            "\n",
            "WARNING:tensorflow:From /usr/local/lib/python3.6/dist-packages/keras/backend/tensorflow_backend.py:973: The name tf.assign is deprecated. Please use tf.compat.v1.assign instead.\n",
            "\n",
            "WARNING:tensorflow:From /usr/local/lib/python3.6/dist-packages/keras/backend/tensorflow_backend.py:131: The name tf.get_default_graph is deprecated. Please use tf.compat.v1.get_default_graph instead.\n",
            "\n",
            "WARNING:tensorflow:From /usr/local/lib/python3.6/dist-packages/keras/backend/tensorflow_backend.py:133: The name tf.placeholder_with_default is deprecated. Please use tf.compat.v1.placeholder_with_default instead.\n",
            "\n",
            "  0% 0/595 [00:00<?, ?it/s]2019-12-24 03:59:01.183314: E tensorflow/core/grappler/optimizers/dependency_optimizer.cc:697] Iteration = 0, topological sort failed with message: The graph couldn't be sorted in topological order.\n",
            "2019-12-24 03:59:01.183690: E tensorflow/core/grappler/optimizers/dependency_optimizer.cc:697] Iteration = 1, topological sort failed with message: The graph couldn't be sorted in topological order.\n",
            "2019-12-24 03:59:01.184089: E tensorflow/core/grappler/optimizers/meta_optimizer.cc:533] layout failed: Invalid argument: The graph couldn't be sorted in topological order.\n",
            "2019-12-24 03:59:01.184691: E tensorflow/core/grappler/optimizers/meta_optimizer.cc:533] model_pruner failed: Invalid argument: MutableGraphView::MutableGraphView error: node 'att_weights/concat_1' has self cycle fanin 'att_weights/concat_1'.\n",
            "2019-12-24 03:59:01.185629: E tensorflow/core/grappler/optimizers/meta_optimizer.cc:533] remapper failed: Invalid argument: MutableGraphView::MutableGraphView error: node 'att_weights/concat_1' has self cycle fanin 'att_weights/concat_1'.\n",
            "2019-12-24 03:59:01.185836: E tensorflow/core/grappler/optimizers/meta_optimizer.cc:533] arithmetic_optimizer failed: Invalid argument: The graph couldn't be sorted in topological order.\n",
            "2019-12-24 03:59:01.186076: E tensorflow/core/grappler/optimizers/dependency_optimizer.cc:697] Iteration = 0, topological sort failed with message: The graph couldn't be sorted in topological order.\n",
            "2019-12-24 03:59:01.186366: E tensorflow/core/grappler/optimizers/dependency_optimizer.cc:697] Iteration = 1, topological sort failed with message: The graph couldn't be sorted in topological order.\n",
            "2019-12-24 03:59:01.197975: I tensorflow/stream_executor/platform/default/dso_loader.cc:44] Successfully opened dynamic library libcublas.so.10\n",
            "100% 595/595 [00:01<00:00, 567.85it/s]\n",
            "Saving topic weights on test sentences...\n",
            "[[0.05940038 0.08163565 0.09870064 ... 0.0410059  0.06144626 0.07347896]\n",
            " [0.06872218 0.07845186 0.04524883 ... 0.06587691 0.0839726  0.08951595]\n",
            " [0.07585345 0.06434655 0.04412539 ... 0.07094735 0.07335232 0.07158545]\n",
            " ...\n",
            " [0.06685252 0.05790114 0.04887259 ... 0.05652967 0.05727589 0.08590247]\n",
            " [0.07149702 0.08252551 0.0496798  ... 0.05181038 0.08412469 0.09023087]\n",
            " [0.07232865 0.07783143 0.11547741 ... 0.04003606 0.05287246 0.06461163]]\n",
            "Saving attention weights on test sentences...\n",
            "--- Results on restaurant domain ---\n",
            "/usr/local/lib/python3.6/dist-packages/sklearn/metrics/classification.py:1439: UndefinedMetricWarning: Recall and F-score are ill-defined and being set to 0.0 in labels with no true samples.\n",
            "  'recall', 'true', average, warn_for)\n",
            "              precision    recall  f1-score   support\n",
            "\n",
            "        Food      1.000     0.229     0.372     19030\n",
            "     Service      0.000     0.000     0.000         0\n",
            "       Other      0.000     0.000     0.000         0\n",
            "\n",
            "    accuracy                          0.229     19030\n",
            "   macro avg      0.333     0.076     0.124     19030\n",
            "weighted avg      1.000     0.229     0.372     19030\n",
            "\n"
          ],
          "name": "stdout"
        }
      ]
    },
    {
      "cell_type": "markdown",
      "metadata": {
        "id": "HhwbJExJoWe5",
        "colab_type": "text"
      },
      "source": [
        "Дистрибутивная семантика"
      ]
    },
    {
      "cell_type": "code",
      "metadata": {
        "id": "c_b-53seL7yD",
        "colab_type": "code",
        "colab": {}
      },
      "source": [
        "food_v = (w2v_model.wv['еда_NOUN'] + w2v_model.wv['напиток_NOUN']) / 2\n",
        "service_v = (w2v_model.wv['обслуживание_NOUN'] + w2v_model.wv['официант_NOUN'] + w2v_model.wv['услуга_NOUN'] + w2v_model.wv['время_NOUN'] + w2v_model.wv['комфорт_NOUN']) / 5"
      ],
      "execution_count": 0,
      "outputs": []
    },
    {
      "cell_type": "code",
      "metadata": {
        "id": "Avo7prdOpsmo",
        "colab_type": "code",
        "colab": {}
      },
      "source": [
        "from scipy import spatial\n",
        "\n",
        "def asp(sent, ind, food_v, service_v):\n",
        "\n",
        "    lenghth = 0\n",
        "    res = np.zeros((w2v_model.vector_size,), dtype = 'float32')\n",
        "    for word in sent.split()[ind[0]-3:ind[-1]+1]:\n",
        "        if word in w2v_model.wv.vocab:\n",
        "                lenghth += 1\n",
        "                res += w2v_model.wv[word]\n",
        "    for word in sent.split()[ind[-1]+1:ind[-1]+4]:\n",
        "        if word in w2v_model.wv.vocab:\n",
        "                lenghth += 1\n",
        "                res += w2v_model.wv[word]\n",
        "    res = res/lenghth\n",
        "    score_food = 1 - spatial.distance.cosine(res, food_v)\n",
        "    score_service = 1 - spatial.distance.cosine(res, service_v)\n",
        "    if score_service < 0.22 and score_food < 0.22:\n",
        "        return 'Other'\n",
        "    elif score_service > score_food:\n",
        "        return 'Service'\n",
        "    else:\n",
        "        return 'Food'"
      ],
      "execution_count": 0,
      "outputs": []
    },
    {
      "cell_type": "code",
      "metadata": {
        "id": "XuP_3eJto3kQ",
        "colab_type": "code",
        "outputId": "9c0bb591-920c-4959-c5f0-a96455088cd3",
        "colab": {
          "base_uri": "https://localhost:8080/",
          "height": 34
        }
      },
      "source": [
        "asp('очень понравиться карбанара', [2], food_v, service_v)"
      ],
      "execution_count": 0,
      "outputs": [
        {
          "output_type": "execute_result",
          "data": {
            "text/plain": [
              "'Food'"
            ]
          },
          "metadata": {
            "tags": []
          },
          "execution_count": 145
        }
      ]
    },
    {
      "cell_type": "markdown",
      "metadata": {
        "id": "E0B8M7o7D52p",
        "colab_type": "text"
      },
      "source": [
        "Предсказания"
      ]
    },
    {
      "cell_type": "code",
      "metadata": {
        "id": "HGktCl5y7WKA",
        "colab_type": "code",
        "colab": {}
      },
      "source": [
        "negative_asp = []\n",
        "negative_sents = []\n",
        "positive_asp = []\n",
        "positive_sents = []\n",
        "for i in range(len(sents)):\n",
        "    for negative_index in texts_dct[i]['negative_indices']:\n",
        "        negative_asp.append(asp(' '.join(sents[i]), negative_index, food_v, service_v))\n",
        "        negative_sents.append(' '.join(sents_with_replacements[i].split()[negative_index[0]-3:negative_index[-1]+4]))\n",
        "\n",
        "    for positive_index in texts_dct[i]['positive_indices']:\n",
        "        positive_asp.append(asp(' '.join(sents[i]), positive_index, food_v, service_v))\n",
        "        positive_sents.append(' '.join(sents_with_replacements[i].split()[positive_index[0]-3:positive_index[-1]+4]))"
      ],
      "execution_count": 0,
      "outputs": []
    },
    {
      "cell_type": "code",
      "metadata": {
        "id": "3KqVS8mI7iBi",
        "colab_type": "code",
        "colab": {}
      },
      "source": [
        "with open(os.path.join('/content', 'attention', 'preprocessed_data', 'restaurant', 'test.txt'), 'w', encoding='utf-8') as f:\n",
        "    f.write('\\n'.join(negative_sents))"
      ],
      "execution_count": 0,
      "outputs": []
    },
    {
      "cell_type": "code",
      "metadata": {
        "id": "_DV8fRls7iST",
        "colab_type": "code",
        "outputId": "08b403b1-2af1-4a2c-a373-7ed095f667e1",
        "colab": {
          "base_uri": "https://localhost:8080/",
          "height": 1000
        }
      },
      "source": [
        "# на 25-26 строках заменить на следующее:\n",
        "# vocab, train_x, test_x, overall_maxlen = dataset.get_data(args.domain, vocab_size=args.vocab_size, maxlen=args.maxlen)\n",
        "# # test_x = train_x  # <-- здесь коммент\n",
        "\n",
        "# Также нужно добавить запись в файл после 60-й строчки:\n",
        "# with open('output_dir/restaurant/labels.txt', 'w', encoding='utf-8') as f:\n",
        "#     f.write('\\n'.join(predict_label))\n",
        "\n",
        "!python evaluation.py --domain restaurant -o output_dir"
      ],
      "execution_count": 0,
      "outputs": [
        {
          "output_type": "stream",
          "text": [
            "Using TensorFlow backend.\n",
            "Reading data from restaurant\n",
            " Creating vocab ...\n",
            "   1291051 total words, 49774 unique words\n",
            "  keep the top 9000 words\n",
            " Reading dataset ...\n",
            "  train set\n",
            "../preprocessed_data/restaurant/train.txt\n",
            "   <num> hit rate: 1.33%, <unk> hit rate: 7.90%\n",
            "  test set\n",
            "../preprocessed_data/restaurant/test.txt\n",
            "   <num> hit rate: 0.00%, <unk> hit rate: 14.29%\n",
            "WARNING:tensorflow:From /usr/local/lib/python3.6/dist-packages/keras/backend/tensorflow_backend.py:517: The name tf.placeholder is deprecated. Please use tf.compat.v1.placeholder instead.\n",
            "\n",
            "WARNING:tensorflow:From /usr/local/lib/python3.6/dist-packages/keras/backend/tensorflow_backend.py:4138: The name tf.random_uniform is deprecated. Please use tf.random.uniform instead.\n",
            "\n",
            "WARNING:tensorflow:From /usr/local/lib/python3.6/dist-packages/keras/backend/tensorflow_backend.py:174: The name tf.get_default_session is deprecated. Please use tf.compat.v1.get_default_session instead.\n",
            "\n",
            "WARNING:tensorflow:From /usr/local/lib/python3.6/dist-packages/keras/backend/tensorflow_backend.py:181: The name tf.ConfigProto is deprecated. Please use tf.compat.v1.ConfigProto instead.\n",
            "\n",
            "WARNING:tensorflow:From /usr/local/lib/python3.6/dist-packages/keras/backend/tensorflow_backend.py:186: The name tf.Session is deprecated. Please use tf.compat.v1.Session instead.\n",
            "\n",
            "2019-12-24 04:25:00.599688: I tensorflow/core/platform/profile_utils/cpu_utils.cc:94] CPU Frequency: 2300000000 Hz\n",
            "2019-12-24 04:25:00.600003: I tensorflow/compiler/xla/service/service.cc:168] XLA service 0x79ff880 initialized for platform Host (this does not guarantee that XLA will be used). Devices:\n",
            "2019-12-24 04:25:00.600036: I tensorflow/compiler/xla/service/service.cc:176]   StreamExecutor device (0): Host, Default Version\n",
            "2019-12-24 04:25:00.602089: I tensorflow/stream_executor/platform/default/dso_loader.cc:44] Successfully opened dynamic library libcuda.so.1\n",
            "2019-12-24 04:25:00.698179: I tensorflow/stream_executor/cuda/cuda_gpu_executor.cc:983] successful NUMA node read from SysFS had negative value (-1), but there must be at least one NUMA node, so returning NUMA node zero\n",
            "2019-12-24 04:25:00.699214: I tensorflow/compiler/xla/service/service.cc:168] XLA service 0x79ffa40 initialized for platform CUDA (this does not guarantee that XLA will be used). Devices:\n",
            "2019-12-24 04:25:00.699257: I tensorflow/compiler/xla/service/service.cc:176]   StreamExecutor device (0): Tesla P100-PCIE-16GB, Compute Capability 6.0\n",
            "2019-12-24 04:25:00.699483: I tensorflow/stream_executor/cuda/cuda_gpu_executor.cc:983] successful NUMA node read from SysFS had negative value (-1), but there must be at least one NUMA node, so returning NUMA node zero\n",
            "2019-12-24 04:25:00.700251: I tensorflow/core/common_runtime/gpu/gpu_device.cc:1618] Found device 0 with properties: \n",
            "name: Tesla P100-PCIE-16GB major: 6 minor: 0 memoryClockRate(GHz): 1.3285\n",
            "pciBusID: 0000:00:04.0\n",
            "2019-12-24 04:25:00.700617: I tensorflow/stream_executor/platform/default/dso_loader.cc:44] Successfully opened dynamic library libcudart.so.10.1\n",
            "2019-12-24 04:25:00.702359: I tensorflow/stream_executor/platform/default/dso_loader.cc:44] Successfully opened dynamic library libcublas.so.10\n",
            "2019-12-24 04:25:00.704027: I tensorflow/stream_executor/platform/default/dso_loader.cc:44] Successfully opened dynamic library libcufft.so.10\n",
            "2019-12-24 04:25:00.704370: I tensorflow/stream_executor/platform/default/dso_loader.cc:44] Successfully opened dynamic library libcurand.so.10\n",
            "2019-12-24 04:25:00.706118: I tensorflow/stream_executor/platform/default/dso_loader.cc:44] Successfully opened dynamic library libcusolver.so.10\n",
            "2019-12-24 04:25:00.707022: I tensorflow/stream_executor/platform/default/dso_loader.cc:44] Successfully opened dynamic library libcusparse.so.10\n",
            "2019-12-24 04:25:00.710497: I tensorflow/stream_executor/platform/default/dso_loader.cc:44] Successfully opened dynamic library libcudnn.so.7\n",
            "2019-12-24 04:25:00.710633: I tensorflow/stream_executor/cuda/cuda_gpu_executor.cc:983] successful NUMA node read from SysFS had negative value (-1), but there must be at least one NUMA node, so returning NUMA node zero\n",
            "2019-12-24 04:25:00.711582: I tensorflow/stream_executor/cuda/cuda_gpu_executor.cc:983] successful NUMA node read from SysFS had negative value (-1), but there must be at least one NUMA node, so returning NUMA node zero\n",
            "2019-12-24 04:25:00.712293: I tensorflow/core/common_runtime/gpu/gpu_device.cc:1746] Adding visible gpu devices: 0\n",
            "2019-12-24 04:25:00.712360: I tensorflow/stream_executor/platform/default/dso_loader.cc:44] Successfully opened dynamic library libcudart.so.10.1\n",
            "2019-12-24 04:25:00.713674: I tensorflow/core/common_runtime/gpu/gpu_device.cc:1159] Device interconnect StreamExecutor with strength 1 edge matrix:\n",
            "2019-12-24 04:25:00.713716: I tensorflow/core/common_runtime/gpu/gpu_device.cc:1165]      0 \n",
            "2019-12-24 04:25:00.713727: I tensorflow/core/common_runtime/gpu/gpu_device.cc:1178] 0:   N \n",
            "2019-12-24 04:25:00.713898: I tensorflow/stream_executor/cuda/cuda_gpu_executor.cc:983] successful NUMA node read from SysFS had negative value (-1), but there must be at least one NUMA node, so returning NUMA node zero\n",
            "2019-12-24 04:25:00.714651: I tensorflow/stream_executor/cuda/cuda_gpu_executor.cc:983] successful NUMA node read from SysFS had negative value (-1), but there must be at least one NUMA node, so returning NUMA node zero\n",
            "2019-12-24 04:25:00.715380: W tensorflow/core/common_runtime/gpu/gpu_bfc_allocator.cc:39] Overriding allow_growth setting because the TF_FORCE_GPU_ALLOW_GROWTH environment variable is set. Original config value was 0.\n",
            "2019-12-24 04:25:00.715438: I tensorflow/core/common_runtime/gpu/gpu_device.cc:1304] Created TensorFlow device (/job:localhost/replica:0/task:0/device:GPU:0 with 10808 MB memory) -> physical GPU (device: 0, name: Tesla P100-PCIE-16GB, pci bus id: 0000:00:04.0, compute capability: 6.0)\n",
            "WARNING:tensorflow:From /usr/local/lib/python3.6/dist-packages/keras/backend/tensorflow_backend.py:190: The name tf.global_variables is deprecated. Please use tf.compat.v1.global_variables instead.\n",
            "\n",
            "WARNING:tensorflow:From /usr/local/lib/python3.6/dist-packages/keras/backend/tensorflow_backend.py:199: The name tf.is_variable_initialized is deprecated. Please use tf.compat.v1.is_variable_initialized instead.\n",
            "\n",
            "WARNING:tensorflow:From /usr/local/lib/python3.6/dist-packages/keras/backend/tensorflow_backend.py:206: The name tf.variables_initializer is deprecated. Please use tf.compat.v1.variables_initializer instead.\n",
            "\n",
            "WARNING:tensorflow:From /usr/local/lib/python3.6/dist-packages/keras/optimizers.py:790: The name tf.train.Optimizer is deprecated. Please use tf.compat.v1.train.Optimizer instead.\n",
            "\n",
            "WARNING:tensorflow:From /usr/local/lib/python3.6/dist-packages/tensorflow_core/python/ops/math_grad.py:1424: where (from tensorflow.python.ops.array_ops) is deprecated and will be removed in a future version.\n",
            "Instructions for updating:\n",
            "Use tf.where in 2.0, which has the same broadcast rule as np.where\n",
            "WARNING:tensorflow:From /usr/local/lib/python3.6/dist-packages/keras/backend/tensorflow_backend.py:986: The name tf.assign_add is deprecated. Please use tf.compat.v1.assign_add instead.\n",
            "\n",
            "WARNING:tensorflow:From /usr/local/lib/python3.6/dist-packages/keras/backend/tensorflow_backend.py:973: The name tf.assign is deprecated. Please use tf.compat.v1.assign instead.\n",
            "\n",
            "WARNING:tensorflow:From /usr/local/lib/python3.6/dist-packages/keras/backend/tensorflow_backend.py:131: The name tf.get_default_graph is deprecated. Please use tf.compat.v1.get_default_graph instead.\n",
            "\n",
            "WARNING:tensorflow:From /usr/local/lib/python3.6/dist-packages/keras/backend/tensorflow_backend.py:133: The name tf.placeholder_with_default is deprecated. Please use tf.compat.v1.placeholder_with_default instead.\n",
            "\n",
            "  0% 0/2 [00:00<?, ?it/s]2019-12-24 04:25:02.539326: E tensorflow/core/grappler/optimizers/dependency_optimizer.cc:697] Iteration = 0, topological sort failed with message: The graph couldn't be sorted in topological order.\n",
            "2019-12-24 04:25:02.539694: E tensorflow/core/grappler/optimizers/dependency_optimizer.cc:697] Iteration = 1, topological sort failed with message: The graph couldn't be sorted in topological order.\n",
            "2019-12-24 04:25:02.540046: E tensorflow/core/grappler/optimizers/meta_optimizer.cc:533] layout failed: Invalid argument: The graph couldn't be sorted in topological order.\n",
            "2019-12-24 04:25:02.540615: E tensorflow/core/grappler/optimizers/meta_optimizer.cc:533] model_pruner failed: Invalid argument: MutableGraphView::MutableGraphView error: node 'att_weights/concat_1' has self cycle fanin 'att_weights/concat_1'.\n",
            "2019-12-24 04:25:02.541528: E tensorflow/core/grappler/optimizers/meta_optimizer.cc:533] remapper failed: Invalid argument: MutableGraphView::MutableGraphView error: node 'att_weights/concat_1' has self cycle fanin 'att_weights/concat_1'.\n",
            "2019-12-24 04:25:02.541731: E tensorflow/core/grappler/optimizers/meta_optimizer.cc:533] arithmetic_optimizer failed: Invalid argument: The graph couldn't be sorted in topological order.\n",
            "2019-12-24 04:25:02.542004: E tensorflow/core/grappler/optimizers/dependency_optimizer.cc:697] Iteration = 0, topological sort failed with message: The graph couldn't be sorted in topological order.\n",
            "2019-12-24 04:25:02.542370: E tensorflow/core/grappler/optimizers/dependency_optimizer.cc:697] Iteration = 1, topological sort failed with message: The graph couldn't be sorted in topological order.\n",
            "2019-12-24 04:25:02.553593: I tensorflow/stream_executor/platform/default/dso_loader.cc:44] Successfully opened dynamic library libcublas.so.10\n",
            "100% 2/2 [00:00<00:00,  6.07it/s]\n",
            "Saving topic weights on test sentences...\n",
            "aspect_probs: [[0.05585395 0.04877012 0.07379209 0.06037666 0.08003443 0.07527183\n",
            "  0.07613847 0.05052232 0.08464278 0.16749802 0.03077033 0.06404658\n",
            "  0.05799283 0.07428957]\n",
            " [0.05922333 0.05555916 0.07087526 0.06247602 0.07995982 0.07991335\n",
            "  0.07464392 0.053521   0.08093141 0.1515245  0.03415288 0.06108134\n",
            "  0.05596316 0.08017489]\n",
            " [0.06616714 0.03486624 0.06580455 0.16687864 0.09383835 0.05405683\n",
            "  0.08411378 0.07688512 0.06255366 0.03937925 0.06938208 0.05590786\n",
            "  0.03859878 0.09156775]]\n",
            "Saving attention weights on test sentences...\n",
            "--- Results on restaurant domain ---\n",
            "predict_label: ['Other', 'Other', 'Other']\n",
            "/usr/local/lib/python3.6/dist-packages/sklearn/metrics/classification.py:1437: UndefinedMetricWarning: Precision and F-score are ill-defined and being set to 0.0 in labels with no predicted samples.\n",
            "  'precision', 'predicted', average, warn_for)\n",
            "/usr/local/lib/python3.6/dist-packages/sklearn/metrics/classification.py:1439: UndefinedMetricWarning: Recall and F-score are ill-defined and being set to 0.0 in labels with no true samples.\n",
            "  'recall', 'true', average, warn_for)\n",
            "              precision    recall  f1-score   support\n",
            "\n",
            "        Food      0.000     0.000     0.000       3.0\n",
            "     Service      0.000     0.000     0.000       0.0\n",
            "       Other      0.000     0.000     0.000       0.0\n",
            "\n",
            "   micro avg      0.000     0.000     0.000       3.0\n",
            "   macro avg      0.000     0.000     0.000       3.0\n",
            "weighted avg      0.000     0.000     0.000       3.0\n",
            "\n"
          ],
          "name": "stdout"
        }
      ]
    },
    {
      "cell_type": "code",
      "metadata": {
        "id": "HQgEjntfEsyU",
        "colab_type": "code",
        "colab": {}
      },
      "source": [
        "with open('output_dir/restaurant/labels.txt', 'r', encoding='utf-8') as f:\n",
        "    negative_aspect = f.read().split('\\n')"
      ],
      "execution_count": 0,
      "outputs": []
    },
    {
      "cell_type": "code",
      "metadata": {
        "id": "bMKr_8rlEs55",
        "colab_type": "code",
        "colab": {}
      },
      "source": [
        "with open(os.path.join('/content', 'attention', 'preprocessed_data', 'restaurant', 'test.txt'), 'w', encoding='utf-8') as f:\n",
        "    f.write('\\n'.join(positive_sents))"
      ],
      "execution_count": 0,
      "outputs": []
    },
    {
      "cell_type": "code",
      "metadata": {
        "id": "M_Bc0SQBKEt-",
        "colab_type": "code",
        "outputId": "772b1094-ce08-4216-a5b7-7e4b950496a5",
        "colab": {
          "base_uri": "https://localhost:8080/",
          "height": 1000
        }
      },
      "source": [
        "!python evaluation.py --domain restaurant -o output_dir"
      ],
      "execution_count": 0,
      "outputs": [
        {
          "output_type": "stream",
          "text": [
            "Using TensorFlow backend.\n",
            "Reading data from restaurant\n",
            " Creating vocab ...\n",
            "   1291051 total words, 49774 unique words\n",
            "  keep the top 9000 words\n",
            " Reading dataset ...\n",
            "  train set\n",
            "../preprocessed_data/restaurant/train.txt\n",
            "   <num> hit rate: 1.33%, <unk> hit rate: 7.90%\n",
            "  test set\n",
            "../preprocessed_data/restaurant/test.txt\n",
            "   <num> hit rate: 0.00%, <unk> hit rate: 0.00%\n",
            "WARNING:tensorflow:From /usr/local/lib/python3.6/dist-packages/keras/backend/tensorflow_backend.py:517: The name tf.placeholder is deprecated. Please use tf.compat.v1.placeholder instead.\n",
            "\n",
            "WARNING:tensorflow:From /usr/local/lib/python3.6/dist-packages/keras/backend/tensorflow_backend.py:4138: The name tf.random_uniform is deprecated. Please use tf.random.uniform instead.\n",
            "\n",
            "WARNING:tensorflow:From /usr/local/lib/python3.6/dist-packages/keras/backend/tensorflow_backend.py:174: The name tf.get_default_session is deprecated. Please use tf.compat.v1.get_default_session instead.\n",
            "\n",
            "WARNING:tensorflow:From /usr/local/lib/python3.6/dist-packages/keras/backend/tensorflow_backend.py:181: The name tf.ConfigProto is deprecated. Please use tf.compat.v1.ConfigProto instead.\n",
            "\n",
            "WARNING:tensorflow:From /usr/local/lib/python3.6/dist-packages/keras/backend/tensorflow_backend.py:186: The name tf.Session is deprecated. Please use tf.compat.v1.Session instead.\n",
            "\n",
            "2019-12-24 04:27:08.666315: I tensorflow/core/platform/profile_utils/cpu_utils.cc:94] CPU Frequency: 2300000000 Hz\n",
            "2019-12-24 04:27:08.666660: I tensorflow/compiler/xla/service/service.cc:168] XLA service 0x66c9880 initialized for platform Host (this does not guarantee that XLA will be used). Devices:\n",
            "2019-12-24 04:27:08.666695: I tensorflow/compiler/xla/service/service.cc:176]   StreamExecutor device (0): Host, Default Version\n",
            "2019-12-24 04:27:08.668819: I tensorflow/stream_executor/platform/default/dso_loader.cc:44] Successfully opened dynamic library libcuda.so.1\n",
            "2019-12-24 04:27:08.766029: I tensorflow/stream_executor/cuda/cuda_gpu_executor.cc:983] successful NUMA node read from SysFS had negative value (-1), but there must be at least one NUMA node, so returning NUMA node zero\n",
            "2019-12-24 04:27:08.767138: I tensorflow/compiler/xla/service/service.cc:168] XLA service 0x66c9a40 initialized for platform CUDA (this does not guarantee that XLA will be used). Devices:\n",
            "2019-12-24 04:27:08.767201: I tensorflow/compiler/xla/service/service.cc:176]   StreamExecutor device (0): Tesla P100-PCIE-16GB, Compute Capability 6.0\n",
            "2019-12-24 04:27:08.767469: I tensorflow/stream_executor/cuda/cuda_gpu_executor.cc:983] successful NUMA node read from SysFS had negative value (-1), but there must be at least one NUMA node, so returning NUMA node zero\n",
            "2019-12-24 04:27:08.768247: I tensorflow/core/common_runtime/gpu/gpu_device.cc:1618] Found device 0 with properties: \n",
            "name: Tesla P100-PCIE-16GB major: 6 minor: 0 memoryClockRate(GHz): 1.3285\n",
            "pciBusID: 0000:00:04.0\n",
            "2019-12-24 04:27:08.768725: I tensorflow/stream_executor/platform/default/dso_loader.cc:44] Successfully opened dynamic library libcudart.so.10.1\n",
            "2019-12-24 04:27:08.770345: I tensorflow/stream_executor/platform/default/dso_loader.cc:44] Successfully opened dynamic library libcublas.so.10\n",
            "2019-12-24 04:27:08.771996: I tensorflow/stream_executor/platform/default/dso_loader.cc:44] Successfully opened dynamic library libcufft.so.10\n",
            "2019-12-24 04:27:08.772402: I tensorflow/stream_executor/platform/default/dso_loader.cc:44] Successfully opened dynamic library libcurand.so.10\n",
            "2019-12-24 04:27:08.774107: I tensorflow/stream_executor/platform/default/dso_loader.cc:44] Successfully opened dynamic library libcusolver.so.10\n",
            "2019-12-24 04:27:08.774997: I tensorflow/stream_executor/platform/default/dso_loader.cc:44] Successfully opened dynamic library libcusparse.so.10\n",
            "2019-12-24 04:27:08.778682: I tensorflow/stream_executor/platform/default/dso_loader.cc:44] Successfully opened dynamic library libcudnn.so.7\n",
            "2019-12-24 04:27:08.778809: I tensorflow/stream_executor/cuda/cuda_gpu_executor.cc:983] successful NUMA node read from SysFS had negative value (-1), but there must be at least one NUMA node, so returning NUMA node zero\n",
            "2019-12-24 04:27:08.779582: I tensorflow/stream_executor/cuda/cuda_gpu_executor.cc:983] successful NUMA node read from SysFS had negative value (-1), but there must be at least one NUMA node, so returning NUMA node zero\n",
            "2019-12-24 04:27:08.780298: I tensorflow/core/common_runtime/gpu/gpu_device.cc:1746] Adding visible gpu devices: 0\n",
            "2019-12-24 04:27:08.780353: I tensorflow/stream_executor/platform/default/dso_loader.cc:44] Successfully opened dynamic library libcudart.so.10.1\n",
            "2019-12-24 04:27:08.781702: I tensorflow/core/common_runtime/gpu/gpu_device.cc:1159] Device interconnect StreamExecutor with strength 1 edge matrix:\n",
            "2019-12-24 04:27:08.781732: I tensorflow/core/common_runtime/gpu/gpu_device.cc:1165]      0 \n",
            "2019-12-24 04:27:08.781742: I tensorflow/core/common_runtime/gpu/gpu_device.cc:1178] 0:   N \n",
            "2019-12-24 04:27:08.781876: I tensorflow/stream_executor/cuda/cuda_gpu_executor.cc:983] successful NUMA node read from SysFS had negative value (-1), but there must be at least one NUMA node, so returning NUMA node zero\n",
            "2019-12-24 04:27:08.782607: I tensorflow/stream_executor/cuda/cuda_gpu_executor.cc:983] successful NUMA node read from SysFS had negative value (-1), but there must be at least one NUMA node, so returning NUMA node zero\n",
            "2019-12-24 04:27:08.783254: W tensorflow/core/common_runtime/gpu/gpu_bfc_allocator.cc:39] Overriding allow_growth setting because the TF_FORCE_GPU_ALLOW_GROWTH environment variable is set. Original config value was 0.\n",
            "2019-12-24 04:27:08.783298: I tensorflow/core/common_runtime/gpu/gpu_device.cc:1304] Created TensorFlow device (/job:localhost/replica:0/task:0/device:GPU:0 with 10808 MB memory) -> physical GPU (device: 0, name: Tesla P100-PCIE-16GB, pci bus id: 0000:00:04.0, compute capability: 6.0)\n",
            "WARNING:tensorflow:From /usr/local/lib/python3.6/dist-packages/keras/backend/tensorflow_backend.py:190: The name tf.global_variables is deprecated. Please use tf.compat.v1.global_variables instead.\n",
            "\n",
            "WARNING:tensorflow:From /usr/local/lib/python3.6/dist-packages/keras/backend/tensorflow_backend.py:199: The name tf.is_variable_initialized is deprecated. Please use tf.compat.v1.is_variable_initialized instead.\n",
            "\n",
            "WARNING:tensorflow:From /usr/local/lib/python3.6/dist-packages/keras/backend/tensorflow_backend.py:206: The name tf.variables_initializer is deprecated. Please use tf.compat.v1.variables_initializer instead.\n",
            "\n",
            "WARNING:tensorflow:From /usr/local/lib/python3.6/dist-packages/keras/optimizers.py:790: The name tf.train.Optimizer is deprecated. Please use tf.compat.v1.train.Optimizer instead.\n",
            "\n",
            "WARNING:tensorflow:From /usr/local/lib/python3.6/dist-packages/tensorflow_core/python/ops/math_grad.py:1424: where (from tensorflow.python.ops.array_ops) is deprecated and will be removed in a future version.\n",
            "Instructions for updating:\n",
            "Use tf.where in 2.0, which has the same broadcast rule as np.where\n",
            "WARNING:tensorflow:From /usr/local/lib/python3.6/dist-packages/keras/backend/tensorflow_backend.py:986: The name tf.assign_add is deprecated. Please use tf.compat.v1.assign_add instead.\n",
            "\n",
            "WARNING:tensorflow:From /usr/local/lib/python3.6/dist-packages/keras/backend/tensorflow_backend.py:973: The name tf.assign is deprecated. Please use tf.compat.v1.assign instead.\n",
            "\n",
            "WARNING:tensorflow:From /usr/local/lib/python3.6/dist-packages/keras/backend/tensorflow_backend.py:131: The name tf.get_default_graph is deprecated. Please use tf.compat.v1.get_default_graph instead.\n",
            "\n",
            "WARNING:tensorflow:From /usr/local/lib/python3.6/dist-packages/keras/backend/tensorflow_backend.py:133: The name tf.placeholder_with_default is deprecated. Please use tf.compat.v1.placeholder_with_default instead.\n",
            "\n",
            "  0% 0/2 [00:00<?, ?it/s]2019-12-24 04:27:10.598036: E tensorflow/core/grappler/optimizers/dependency_optimizer.cc:697] Iteration = 0, topological sort failed with message: The graph couldn't be sorted in topological order.\n",
            "2019-12-24 04:27:10.598533: E tensorflow/core/grappler/optimizers/dependency_optimizer.cc:697] Iteration = 1, topological sort failed with message: The graph couldn't be sorted in topological order.\n",
            "2019-12-24 04:27:10.598912: E tensorflow/core/grappler/optimizers/meta_optimizer.cc:533] layout failed: Invalid argument: The graph couldn't be sorted in topological order.\n",
            "2019-12-24 04:27:10.599522: E tensorflow/core/grappler/optimizers/meta_optimizer.cc:533] model_pruner failed: Invalid argument: MutableGraphView::MutableGraphView error: node 'att_weights/concat_1' has self cycle fanin 'att_weights/concat_1'.\n",
            "2019-12-24 04:27:10.600595: E tensorflow/core/grappler/optimizers/meta_optimizer.cc:533] remapper failed: Invalid argument: MutableGraphView::MutableGraphView error: node 'att_weights/concat_1' has self cycle fanin 'att_weights/concat_1'.\n",
            "2019-12-24 04:27:10.600797: E tensorflow/core/grappler/optimizers/meta_optimizer.cc:533] arithmetic_optimizer failed: Invalid argument: The graph couldn't be sorted in topological order.\n",
            "2019-12-24 04:27:10.601010: E tensorflow/core/grappler/optimizers/dependency_optimizer.cc:697] Iteration = 0, topological sort failed with message: The graph couldn't be sorted in topological order.\n",
            "2019-12-24 04:27:10.601289: E tensorflow/core/grappler/optimizers/dependency_optimizer.cc:697] Iteration = 1, topological sort failed with message: The graph couldn't be sorted in topological order.\n",
            "2019-12-24 04:27:10.613476: I tensorflow/stream_executor/platform/default/dso_loader.cc:44] Successfully opened dynamic library libcublas.so.10\n",
            "100% 2/2 [00:00<00:00,  6.07it/s]\n",
            "Saving topic weights on test sentences...\n",
            "aspect_probs: [[0.05074865 0.05154615 0.07441106 0.05443189 0.08104379 0.07387544\n",
            "  0.07267155 0.04590141 0.08265043 0.17645736 0.02787847 0.07262459\n",
            "  0.06682892 0.0689302 ]\n",
            " [0.0689856  0.03627991 0.06825721 0.14986315 0.09123434 0.06185214\n",
            "  0.08473618 0.07792328 0.06517471 0.04719718 0.06665643 0.05355847\n",
            "  0.03749123 0.09079015]]\n",
            "Saving attention weights on test sentences...\n",
            "--- Results on restaurant domain ---\n",
            "predict_label: ['Other', 'Other']\n",
            "/usr/local/lib/python3.6/dist-packages/sklearn/metrics/classification.py:1437: UndefinedMetricWarning: Precision and F-score are ill-defined and being set to 0.0 in labels with no predicted samples.\n",
            "  'precision', 'predicted', average, warn_for)\n",
            "/usr/local/lib/python3.6/dist-packages/sklearn/metrics/classification.py:1439: UndefinedMetricWarning: Recall and F-score are ill-defined and being set to 0.0 in labels with no true samples.\n",
            "  'recall', 'true', average, warn_for)\n",
            "              precision    recall  f1-score   support\n",
            "\n",
            "        Food      0.000     0.000     0.000       2.0\n",
            "     Service      0.000     0.000     0.000       0.0\n",
            "       Other      0.000     0.000     0.000       0.0\n",
            "\n",
            "   micro avg      0.000     0.000     0.000       2.0\n",
            "   macro avg      0.000     0.000     0.000       2.0\n",
            "weighted avg      0.000     0.000     0.000       2.0\n",
            "\n"
          ],
          "name": "stdout"
        }
      ]
    },
    {
      "cell_type": "code",
      "metadata": {
        "id": "cHlPzqlIKHsT",
        "colab_type": "code",
        "colab": {}
      },
      "source": [
        "with open('output_dir/restaurant/labels.txt', 'r', encoding='utf-8') as f:\n",
        "    positive_aspect = f.read().split('\\n')"
      ],
      "execution_count": 0,
      "outputs": []
    },
    {
      "cell_type": "markdown",
      "metadata": {
        "id": "ffXl4TdXK5BJ",
        "colab_type": "text"
      },
      "source": [
        "В цикле"
      ]
    },
    {
      "cell_type": "code",
      "metadata": {
        "id": "0KkASFMeMYEa",
        "colab_type": "code",
        "colab": {}
      },
      "source": [
        "with open(os.path.join(drive_prefix, 'parsed_texts.json'), 'r', encoding='utf-8') as f:\n",
        "    dct = json.load(f)\n",
        "    texts = dct['source_texts']"
      ],
      "execution_count": 0,
      "outputs": []
    },
    {
      "cell_type": "code",
      "metadata": {
        "id": "COSdTZoOK4UB",
        "colab_type": "code",
        "outputId": "29f88b47-21dd-4f7d-fa28-1deb977b88ea",
        "colab": {
          "base_uri": "https://localhost:8080/"
        }
      },
      "source": [
        "negative_asp = []\n",
        "negative_sents = []\n",
        "positive_asp = []\n",
        "positive_sents = []\n",
        "\n",
        "for text in tqdm(texts[:1], total=len(texts[:1])):\n",
        "    texts_dct, sents, sents_with_replacements = func(text)\n",
        "    for i in range(len(sents)):\n",
        "        for negative_index in texts_dct[i]['negative_indices']:\n",
        "            negative_asp.append(asp(' '.join(sents[i]), negative_index, food_v, service_v))\n",
        "            negative_sents.append(' '.join(sents_with_replacements[i].split()[negative_index[0]-3:negative_index[-1]+4]))\n",
        "\n",
        "        for positive_index in texts_dct[i]['positive_indices']:\n",
        "            positive_asp.append(asp(' '.join(sents[i]), positive_index, food_v, service_v))\n",
        "            positive_sents.append(' '.join(sents_with_replacements[i].split()[positive_index[0]-3:positive_index[-1]+4]))\n",
        "    \n",
        "with open(os.path.join('/content', 'attention', 'preprocessed_data', 'restaurant', 'test.txt'), 'w', encoding='utf-8') as f:\n",
        "    f.write('\\n'.join(negative_sents))\n",
        "!python evaluation.py --domain restaurant -o output_dir\n",
        "with open('output_dir/restaurant/labels.txt', 'r', encoding='utf-8') as f:\n",
        "    negative_aspect = f.read().split('\\n')\n",
        "\n",
        "with open(os.path.join('/content', 'attention', 'preprocessed_data', 'restaurant', 'test.txt'), 'w', encoding='utf-8') as f:\n",
        "    f.write('\\n'.join(positive_sents))\n",
        "!python evaluation.py --domain restaurant -o output_dir\n",
        "with open('output_dir/restaurant/labels.txt', 'r', encoding='utf-8') as f:\n",
        "    positive_aspect = f.read().split('\\n')"
      ],
      "execution_count": 0,
      "outputs": [
        {
          "output_type": "stream",
          "text": [
            "\n",
            "  0%|          | 0/1 [00:00<?, ?it/s]\u001b[A"
          ],
          "name": "stderr"
        }
      ]
    },
    {
      "cell_type": "code",
      "metadata": {
        "id": "lS_Qi-qvYJAk",
        "colab_type": "code",
        "colab": {}
      },
      "source": [
        ""
      ],
      "execution_count": 0,
      "outputs": []
    }
  ]
}